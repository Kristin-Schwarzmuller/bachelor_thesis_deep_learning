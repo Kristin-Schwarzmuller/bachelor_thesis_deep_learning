{
 "cells": [
  {
   "cell_type": "markdown",
   "metadata": {},
   "source": [
    "# Generierung von synthetischen Daten"
   ]
  },
  {
   "cell_type": "markdown",
   "metadata": {},
   "source": [
    "## Imports"
   ]
  },
  {
   "cell_type": "code",
   "execution_count": null,
   "metadata": {},
   "outputs": [],
   "source": [
    "import matplotlib.pyplot as plt\n",
    "import numpy as np\n",
    "import pandas as pd\n",
    "import os\n",
    "import itertools\n",
    "import time\n",
    "import shutil\n",
    "import threading\n",
    "import sys\n",
    "import h5py\n",
    "from unrealcv import client\n",
    "from datetime import datetime\n",
    "\n",
    "from matplotlib import image\n",
    "import PIL.Image"
   ]
  },
  {
   "cell_type": "markdown",
   "metadata": {},
   "source": [
    "## Hilfsfunktionen"
   ]
  },
  {
   "cell_type": "code",
   "execution_count": null,
   "metadata": {},
   "outputs": [],
   "source": [
    "def establish_connection():\n",
    "    \n",
    "    client.connect()\n",
    "    if not client.isconnected():\n",
    "        status = 'UnrealCV server is not running. Run the game'\n",
    "    else:\n",
    "        status = client.request('vget /unrealcv/status')\n",
    "    \n",
    "    return status"
   ]
  },
  {
   "cell_type": "code",
   "execution_count": null,
   "metadata": {},
   "outputs": [],
   "source": [
    "def create_new_df():\n",
    "    \n",
    "    return pd.DataFrame(data=None, index=None, columns=['Filename', 'Elevation', 'Azimuth'])"
   ]
  },
  {
   "cell_type": "code",
   "execution_count": null,
   "metadata": {},
   "outputs": [],
   "source": [
    "def write_to_csv(df):\n",
    "    \n",
    "    if os.path.isfile(_CSV_FILE):\n",
    "        df.to_csv(_CSV_FILE, mode='a', index=False, header=False)\n",
    "    else:\n",
    "        df.to_csv(_CSV_FILE, index=False)"
   ]
  },
  {
   "cell_type": "code",
   "execution_count": null,
   "metadata": {},
   "outputs": [],
   "source": [
    "def create_coordinates(state, e_deg, a_deg, radius):\n",
    "    \n",
    "    fully_zenit_enabled = True\n",
    "    \n",
    "    if(state=='PLS' and 90 in e_deg):\n",
    "        e_deg = np.delete(e_deg, np.argwhere(e_deg==90))\n",
    "        fully_zenit_enabled = False\n",
    "\n",
    "    e_sin = list(map(lambda e: np.sin(np.deg2rad(e)), e_deg))\n",
    "    e_cos = list(map(lambda e: np.cos(np.deg2rad(e)), e_deg))\n",
    "    a_sin = list(map(lambda a: np.sin(np.deg2rad(a)), a_deg))\n",
    "    a_cos = list(map(lambda a: np.cos(np.deg2rad(a)), a_deg))\n",
    "\n",
    "    coordinates = {'deg': list(itertools.product(e_deg, a_deg)),\n",
    "                   'x': [0 if (e==90 or e==-90) else round(radius*e*a, 5) for e in e_cos for a in a_cos],\n",
    "                   'y': [0 if (e==90 or e==-90) else round(radius*e*a, 5) for e in e_cos for a in a_sin],\n",
    "                   'z': list(np.repeat([round(radius*e, 5) for e in e_sin], len(a_deg)))}\n",
    "    \n",
    "    if not fully_zenit_enabled:\n",
    "        coordinates['deg'].append((90, 0))\n",
    "        coordinates['x'].append(0)\n",
    "        coordinates['y'].append(0)\n",
    "        coordinates['z'].append(radius)\n",
    "    \n",
    "    return coordinates"
   ]
  },
  {
   "cell_type": "code",
   "execution_count": null,
   "metadata": {},
   "outputs": [],
   "source": [
    "def create_csv_dataset(img_format, mesh_name):\n",
    "    \n",
    "    counter = pd.read_csv(_CSV_FILE).shape[0] if os.path.isfile(_CSV_FILE) else 0\n",
    "    df = create_new_df()\n",
    "    \n",
    "    for i in range(0, len(_CAM_COORDINATES['deg'])):\n",
    "        for j in range(0, len(_PLS_COORDINATES['deg'])):\n",
    "            \n",
    "            counter = counter + 1\n",
    "            \n",
    "            a_respect_c = _PLS_COORDINATES['deg'][j][1] - _CAM_COORDINATES['deg'][i][1]\n",
    "            \n",
    "            if _PLS_COORDINATES['deg'][j][0] == 90:\n",
    "                a_respect_c = 0\n",
    "            elif a_respect_c < 0:\n",
    "                a_respect_c = 360 - abs(a_respect_c)                \n",
    "    \n",
    "            img_name = '{}_{}_CE_{}_CA_{}_LE_{}_LA_{}.png'.format(\n",
    "                str(counter).zfill(6),\n",
    "                mesh_name,\n",
    "                _CAM_COORDINATES['deg'][i][0],\n",
    "                _CAM_COORDINATES['deg'][i][1],\n",
    "                _PLS_COORDINATES['deg'][j][0],\n",
    "                a_respect_c)\n",
    "        \n",
    "            df = df.append(pd.DataFrame(data=[[img_name, _PLS_COORDINATES['deg'][j][0], a_respect_c]],\n",
    "                                        index=None,\n",
    "                                        columns=['Filename', 'Elevation', 'Azimuth']))\n",
    "                    \n",
    "            img_base = rename_and_convert_image(img_name, img_format)\n",
    "            delete_image(img_base)\n",
    "             \n",
    "            if(i%5000==0) & (i>0):\n",
    "                print(counter)\n",
    "                write_to_csv(df)\n",
    "                df = create_new_df()\n",
    "                \n",
    "    write_to_csv(df)\n",
    "    df = create_new_df()"
   ]
  },
  {
   "cell_type": "code",
   "execution_count": null,
   "metadata": {},
   "outputs": [],
   "source": [
    "def rename_and_convert_image(img_name, img_format):\n",
    "    \n",
    "    is_renamed = False\n",
    "    img_dst = _IMG_DST_PATH + img_name\n",
    "    \n",
    "    while(not is_renamed):\n",
    "        try:                    \n",
    "            img_base = os.listdir(_IMG_SRC_PATH)[0]\n",
    "            img_conv = PIL.Image.open(_IMG_SRC_PATH + img_base).convert(img_format)\n",
    "            img_conv.save(img_dst)\n",
    "            is_renamed = True\n",
    "        except:\n",
    "            #print('Fehler beim Verschieben der Datei')\n",
    "            continue\n",
    "            \n",
    "    return img_base"
   ]
  },
  {
   "cell_type": "code",
   "execution_count": null,
   "metadata": {},
   "outputs": [],
   "source": [
    "def delete_image(img_base):\n",
    "    \n",
    "    is_deleted = False\n",
    "    \n",
    "    while(not is_deleted):\n",
    "        try:                    \n",
    "            os.remove(_IMG_SRC_PATH + img_base)\n",
    "            is_deleted = True\n",
    "        except:\n",
    "            print('Fehler beim Löschen der Datei {}'.format(img_base))\n",
    "            continue"
   ]
  },
  {
   "cell_type": "code",
   "execution_count": null,
   "metadata": {},
   "outputs": [],
   "source": [
    "def take_screenshot():\n",
    "\n",
    "    for i in range (0, len(_CAM_COORDINATES['deg'])):\n",
    "        assert client.request('vset /camera/0/location {} {} {}'.format(\n",
    "            _CAM_COORDINATES['x'][i],\n",
    "            _CAM_COORDINATES['y'][i],\n",
    "            _CAM_COORDINATES['z'][i])) == 'ok', 'Error while setting camera location'\n",
    "        \n",
    "        assert client.request('vset /camera/0/rotation {} {} 0'.format(\n",
    "            360 - _CAM_COORDINATES['deg'][i][0],\n",
    "            180 + _CAM_COORDINATES['deg'][i][1])) == 'ok', 'Error while setting camera rotation'\n",
    "        \n",
    "        time.sleep(.2)\n",
    "\n",
    "        for i in range(0, len(_PLS_COORDINATES['deg'])):\n",
    "            assert client.request('vset /object/BP_PLS_Cone_2/location {} {} {}'.format(\n",
    "            str(_PLS_COORDINATES['x'][i]),\n",
    "            str(_PLS_COORDINATES['y'][i]),\n",
    "            str(_PLS_COORDINATES['z'][i]))) == 'ok', 'Error while setting light location'\n",
    "            \n",
    "            client.request('vrun shot')"
   ]
  },
  {
   "cell_type": "markdown",
   "metadata": {},
   "source": [
    "# Generierung Bilddatensatz"
   ]
  },
  {
   "cell_type": "code",
   "execution_count": null,
   "metadata": {},
   "outputs": [],
   "source": [
    "mesh_name = 'Cone' # Bunny, Buddha, Box, Sphere, Cone\n",
    "img_format = 'RGB'"
   ]
  },
  {
   "cell_type": "code",
   "execution_count": null,
   "metadata": {},
   "outputs": [],
   "source": [
    "startTime = datetime.now()\n",
    "\n",
    "_PLS_COORDINATES = create_coordinates(state='PLS',\n",
    "                                      e_deg=np.arange(5, 95, 5),\n",
    "                                      a_deg=np.arange(0, 360, 5),\n",
    "                                      radius=200)\n",
    "\n",
    "_CAM_COORDINATES = create_coordinates(state='CAM',\n",
    "                                      e_deg=(0, 30, 60, 90),\n",
    "                                      a_deg=np.arange(0, 360, 45),\n",
    "                                      #a_deg=np.arange(0, 1, 1), #Sphere, aufgrund Redundanz nur 1x Azimut\n",
    "                                      radius=60)\n",
    "\n",
    "_IMG_SRC_PATH = 'D:\\\\tkroiss\\\\UE4_Projects\\\\Dataset_Creation\\\\Saved\\\\Screenshots\\\\Windows\\\\'\n",
    "_IMG_SRC_NAME = 'ScreenShot00000.png'\n",
    "_IMG_SRC_FILE = _IMG_SRC_PATH + _IMG_SRC_NAME\n",
    "#_IMG_DST_PATH = 'E:\\\\tkroiss\\\\Datasets\\\\Dataset_New\\\\'\n",
    "\n",
    "_IMG_DST_PATH = 'D:\\\\tkroiss\\\\Datasets\\\\Dataset_2019-08-13\\\\'\n",
    "\n",
    "print(establish_connection())\n",
    "\n",
    "if os.path.exists(_IMG_SRC_PATH):\n",
    "    shutil.rmtree(_IMG_SRC_PATH)\n",
    "\n",
    "_CSV_FILE = _IMG_DST_PATH + 'images.csv'\n",
    "\n",
    "producer_thread = threading.Thread(target=take_screenshot)\n",
    "consumer_thread = threading.Thread(target=create_csv_dataset, args=(img_format, mesh_name))    \n",
    "\n",
    "producer_thread.start()\n",
    "consumer_thread.start()\n",
    "producer_thread.join()\n",
    "consumer_thread.join()\n",
    "\n",
    "client.disconnect()\n",
    "\n",
    "print(\"Time taken:\", datetime.now() - startTime)"
   ]
  }
 ],
 "metadata": {
  "kernelspec": {
   "display_name": "Python 3",
   "language": "python",
   "name": "python3"
  },
  "language_info": {
   "codemirror_mode": {
    "name": "ipython",
    "version": 3
   },
   "file_extension": ".py",
   "mimetype": "text/x-python",
   "name": "python",
   "nbconvert_exporter": "python",
   "pygments_lexer": "ipython3",
   "version": "3.7.4"
  }
 },
 "nbformat": 4,
 "nbformat_minor": 2
}
