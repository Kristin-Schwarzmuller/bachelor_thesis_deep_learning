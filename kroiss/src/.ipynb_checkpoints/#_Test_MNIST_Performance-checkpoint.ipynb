{
 "cells": [
  {
   "cell_type": "code",
   "execution_count": 1,
   "metadata": {},
   "outputs": [
    {
     "name": "stdout",
     "output_type": "stream",
     "text": [
      "The installed version of TensorFlow 2.0.0 includes GPU support.\n",
      "\n"
     ]
    }
   ],
   "source": [
    "from __future__ import print_function\n",
    "\n",
    "import tensorflow as tf\n",
    "if tf.test.is_gpu_available() & tf.test.is_built_with_cuda():\n",
    "    print(\"The installed version of TensorFlow {} includes GPU support.\\n\".format(tf.__version__))\n",
    "\n",
    "from tensorflow import keras\n",
    "from tensorflow.keras.datasets import mnist\n",
    "from tensorflow.keras.models import Sequential\n",
    "from tensorflow.keras.layers import Dense, Dropout, Flatten\n",
    "from tensorflow.keras.layers import Conv2D, MaxPooling2D\n",
    "from tensorflow.keras import backend as K\n",
    "\n",
    "from tensorflow.python.keras.utils import multi_gpu_model\n",
    "\n",
    "from datetime import datetime"
   ]
  },
  {
   "cell_type": "code",
   "execution_count": 2,
   "metadata": {},
   "outputs": [
    {
     "name": "stdout",
     "output_type": "stream",
     "text": [
      "x_train shape: (60000, 28, 28, 1)\n",
      "60000 train samples\n",
      "10000 test samples\n",
      "WARNING:tensorflow:From <ipython-input-2-92f8b82bbd8a>:44: multi_gpu_model (from tensorflow.python.keras.utils.multi_gpu_utils) is deprecated and will be removed after 2020-04-01.\n",
      "Instructions for updating:\n",
      "Use `tf.distribute.MirroredStrategy` instead.\n"
     ]
    }
   ],
   "source": [
    "with tf.device('/device:CPU:0'):\n",
    "    \n",
    "    batch_size = 32\n",
    "    num_classes = 10\n",
    "    epochs = 12\n",
    "\n",
    "    # input image dimensions\n",
    "    img_rows, img_cols = 28, 28\n",
    "\n",
    "    # the data, split between train and test sets\n",
    "    (x_train, y_train), (x_test, y_test) = mnist.load_data()\n",
    "\n",
    "    if K.image_data_format() == 'channels_first':\n",
    "        x_train = x_train.reshape(x_train.shape[0], 1, img_rows, img_cols)\n",
    "        x_test = x_test.reshape(x_test.shape[0], 1, img_rows, img_cols)\n",
    "        input_shape = (1, img_rows, img_cols)\n",
    "    else:\n",
    "        x_train = x_train.reshape(x_train.shape[0], img_rows, img_cols, 1)\n",
    "        x_test = x_test.reshape(x_test.shape[0], img_rows, img_cols, 1)\n",
    "        input_shape = (img_rows, img_cols, 1)\n",
    "\n",
    "    x_train = x_train.astype('float32')\n",
    "    x_test = x_test.astype('float32')\n",
    "    x_train /= 255\n",
    "    x_test /= 255\n",
    "    print('x_train shape:', x_train.shape)\n",
    "    print(x_train.shape[0], 'train samples')\n",
    "    print(x_test.shape[0], 'test samples')\n",
    "\n",
    "    # convert class vectors to binary class matrices\n",
    "    y_train = keras.utils.to_categorical(y_train, num_classes)\n",
    "    y_test = keras.utils.to_categorical(y_test, num_classes)\n",
    "\n",
    "    model = Sequential()\n",
    "    model.add(Conv2D(32, kernel_size=(3, 3), activation='relu', input_shape=input_shape))\n",
    "    model.add(Conv2D(64, (3, 3), activation='relu'))\n",
    "    model.add(MaxPooling2D(pool_size=(2, 2)))\n",
    "    model.add(Dropout(0.25))\n",
    "    model.add(Flatten())\n",
    "    model.add(Dense(128, activation='relu'))\n",
    "    model.add(Dropout(0.5))\n",
    "    model.add(Dense(num_classes, activation='softmax'))\n",
    "    \n",
    "    model = multi_gpu_model(model, gpus=2, cpu_relocation=True)\n",
    "\n",
    "    model.compile(loss=keras.losses.categorical_crossentropy,\n",
    "                  optimizer=keras.optimizers.Adadelta(),\n",
    "                  metrics=['accuracy'])"
   ]
  },
  {
   "cell_type": "code",
   "execution_count": 3,
   "metadata": {},
   "outputs": [
    {
     "name": "stdout",
     "output_type": "stream",
     "text": [
      "Train on 60000 samples, validate on 10000 samples\n",
      "Epoch 1/12\n",
      "60000/60000 [==============================] - 60s 1ms/sample - loss: 2.2508 - accuracy: 0.2492 - val_loss: 2.1742 - val_accuracy: 0.6191\n",
      "Epoch 2/12\n",
      "60000/60000 [==============================] - 58s 958us/sample - loss: 2.0909 - accuracy: 0.4660 - val_loss: 1.9386 - val_accuracy: 0.7182\n",
      "Epoch 3/12\n",
      "60000/60000 [==============================] - 58s 962us/sample - loss: 1.8075 - accuracy: 0.5716 - val_loss: 1.5444 - val_accuracy: 0.7749\n",
      "Epoch 4/12\n",
      "60000/60000 [==============================] - 58s 962us/sample - loss: 1.4419 - accuracy: 0.6380 - val_loss: 1.1303 - val_accuracy: 0.8050\n",
      "Epoch 5/12\n",
      "60000/60000 [==============================] - 58s 963us/sample - loss: 1.1467 - accuracy: 0.6835 - val_loss: 0.8501 - val_accuracy: 0.8307\n",
      "Epoch 6/12\n",
      "60000/60000 [==============================] - 58s 962us/sample - loss: 0.9625 - accuracy: 0.7181 - val_loss: 0.6898 - val_accuracy: 0.8460\n",
      "Epoch 7/12\n",
      "60000/60000 [==============================] - 58s 962us/sample - loss: 0.8478 - accuracy: 0.7454 - val_loss: 0.5921 - val_accuracy: 0.8590\n",
      "Epoch 8/12\n",
      "60000/60000 [==============================] - 58s 970us/sample - loss: 0.7675 - accuracy: 0.7666 - val_loss: 0.5284 - val_accuracy: 0.8683\n",
      "Epoch 9/12\n",
      "60000/60000 [==============================] - 58s 967us/sample - loss: 0.7146 - accuracy: 0.7783 - val_loss: 0.4854 - val_accuracy: 0.8757\n",
      "Epoch 10/12\n",
      "60000/60000 [==============================] - 58s 966us/sample - loss: 0.6722 - accuracy: 0.7931 - val_loss: 0.4533 - val_accuracy: 0.8822\n",
      "Epoch 11/12\n",
      "60000/60000 [==============================] - 58s 968us/sample - loss: 0.6371 - accuracy: 0.8052 - val_loss: 0.4282 - val_accuracy: 0.8867\n",
      "Epoch 12/12\n",
      "60000/60000 [==============================] - 59s 980us/sample - loss: 0.6066 - accuracy: 0.8146 - val_loss: 0.4075 - val_accuracy: 0.8902\n",
      "Time taken: 0:11:37.616304\n"
     ]
    }
   ],
   "source": [
    "with tf.device('/device:CPU:0'):\n",
    "    startTime = datetime.now()\n",
    "\n",
    "    result = model.fit(x_train, y_train,\n",
    "                      batch_size=batch_size,\n",
    "                      epochs=epochs,\n",
    "                      verbose=1,\n",
    "                      validation_data=(x_test, y_test))\n",
    "\n",
    "    print(\"Time taken:\", datetime.now() - startTime)"
   ]
  },
  {
   "cell_type": "code",
   "execution_count": 4,
   "metadata": {},
   "outputs": [
    {
     "name": "stdout",
     "output_type": "stream",
     "text": [
      "Test loss: 0.40749686740636826\n",
      "Test accuracy: 0.8902\n"
     ]
    }
   ],
   "source": [
    "score = model.evaluate(x_test, y_test, verbose=0)\n",
    "print('Test loss:', score[0])\n",
    "print('Test accuracy:', score[1])"
   ]
  },
  {
   "cell_type": "code",
   "execution_count": null,
   "metadata": {},
   "outputs": [],
   "source": []
  }
 ],
 "metadata": {
  "kernelspec": {
   "display_name": "Python 3",
   "language": "python",
   "name": "python3"
  },
  "language_info": {
   "codemirror_mode": {
    "name": "ipython",
    "version": 3
   },
   "file_extension": ".py",
   "mimetype": "text/x-python",
   "name": "python",
   "nbconvert_exporter": "python",
   "pygments_lexer": "ipython3",
   "version": "3.7.4"
  }
 },
 "nbformat": 4,
 "nbformat_minor": 2
}
