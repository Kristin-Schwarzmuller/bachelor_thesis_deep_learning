{
 "cells": [
  {
   "cell_type": "markdown",
   "metadata": {},
   "source": [
    "# Statistical Tests"
   ]
  },
  {
   "cell_type": "code",
   "execution_count": null,
   "metadata": {},
   "outputs": [],
   "source": [
    "import numpy as np\n",
    "import pandas as pd\n",
    "import matplotlib.pyplot as plt\n",
    "from scipy.stats import pearsonr\n",
    "from scipy import stats"
   ]
  },
  {
   "cell_type": "markdown",
   "metadata": {},
   "source": [
    "## Histogram functions"
   ]
  },
  {
   "cell_type": "code",
   "execution_count": null,
   "metadata": {},
   "outputs": [],
   "source": [
    "def rgb_hist(net, limit): \n",
    "    plt.rcParams.update({'font.size': 16})\n",
    "    n, bins, patches = plt.hist(x=df_e, bins='auto', color='#607c8e',\n",
    "                                alpha=0.7, rwidth=0.85)\n",
    "    plt.grid(axis='y', alpha=0.75)\n",
    "    plt.xlabel('absolut angular estimation error')\n",
    "    plt.ylabel('frequency')\n",
    "    plt.title('Histogram of the absolut angular estimation error of the \\n ' + net + ' trained on RGB images')\n",
    "    m = round(np.mean(df_e, axis = 0), 2)\n",
    "    s = round(np.std(df_e), 2)\n",
    "    pos = 0.8 * limit\n",
    "    plt.text(pos, 470, r'$\\mu={}$'.format(m))\n",
    "    plt.text(pos, 430, r'$\\sigma={}$'.format(s))\n",
    "    plt.axvline(x=m)\n",
    "    maxfreq = n.max()\n",
    "    minfreq = n.min()\n",
    "    # Set a clean upper y-axis limit.\n",
    "    #plt.ylim(ymax=np.ceil(maxfreq / 10) * 10 if maxfreq % 10 else maxfreq + 10, ymin=np.ceil(minfreq / 10))\n",
    "    plt.xlim(xmin=0, xmax = limit)\n",
    "    plt.savefig('..\\\\output\\\\Diagrams\\\\{}_RGB_hist.png'.format(net), dpi=300, bbox_inches='tight')"
   ]
  },
  {
   "cell_type": "code",
   "execution_count": null,
   "metadata": {},
   "outputs": [],
   "source": [
    "def rgbd_hist(net, limit):\n",
    "    plt.rcParams.update({'font.size': 16})\n",
    "    n, bins, patches = plt.hist(x=df_e_d, bins='auto', color='#607c8e',\n",
    "                                alpha=0.7, rwidth=0.85)\n",
    "    plt.grid(axis='y', alpha=0.75)\n",
    "    plt.xlabel('absolut angular estimation error')\n",
    "    plt.ylabel('frequency')\n",
    "    plt.title('Histogram of the absolut angular estimation error of the \\n ' + net + ' trained on RGBD images')\n",
    "    m = round(np.mean(df_e_d, axis = 0), 2)\n",
    "    s = round(np.std(df_e_d), 2)\n",
    "    pos = 0.8 * limit\n",
    "    plt.text(pos, 470, r'$\\mu={}$'.format(m))\n",
    "    plt.text(pos, 430, r'$\\sigma={}$'.format(s))\n",
    "    plt.axvline(x=m)\n",
    "    maxfreq = n.max()\n",
    "    minfreq = n.min()\n",
    "    # Set a clean upper y-axis limit.\n",
    "    #plt.ylim(ymax=np.ceil(maxfreq / 10) * 10 if maxfreq % 10 else maxfreq + 10, ymin=np.ceil(minfreq / 10))\n",
    "    plt.xlim(xmin=0, xmax =limit)\n",
    "    plt.savefig('..\\\\output\\\\Diagrams\\\\{}_RGBD_hist.png'.format(net), dpi=300, bbox_inches='tight')"
   ]
  },
  {
   "cell_type": "markdown",
   "metadata": {},
   "source": [
    "### Run RGB"
   ]
  },
  {
   "cell_type": "code",
   "execution_count": null,
   "metadata": {},
   "outputs": [],
   "source": [
    "net = 'RESNET' # ALEX vs VGG16 vs RESNET\n",
    "dataset = '201129_2031'\n",
    "alpha = 0.01\n",
    "\n",
    "add =''\n",
    "\n",
    "if (net == 'RESNET'):\n",
    "    limit = 10\n",
    "elif (net == 'VGG16'):\n",
    "    limit = 10\n",
    "elif (net == 'ALEX'):\n",
    "    limit = 30  \n",
    "\n",
    "# RGB\n",
    "csv_rgb = '..\\\\output\\\\{}_{}_rgb{}\\\\Evaluation_SYNTH\\\\Prognosen.csv'.format(net, dataset, add)\n",
    "df_rgb = pd.read_csv(csv_rgb)\n",
    "\n",
    "# RGBD\n",
    "csv_rgbd = '..\\\\output\\\\{}_{}_rgba{}\\\\Evaluation_SYNTH\\\\Prognosen.csv'.format(net, dataset, add)\n",
    "df_rgbd = pd.read_csv(csv_rgbd)\n",
    "\n",
    "df_rgb.head()\n"
   ]
  },
  {
   "cell_type": "code",
   "execution_count": null,
   "metadata": {},
   "outputs": [],
   "source": [
    "df_e = df_rgb['dot_angular_err_elevation']\n",
    "rgb_hist(net, limit)"
   ]
  },
  {
   "cell_type": "code",
   "execution_count": null,
   "metadata": {},
   "outputs": [],
   "source": [
    "df_e_d = df_rgbd['dot_angular_err_elevation']\n",
    "rgbd_hist(net, limit)"
   ]
  },
  {
   "cell_type": "markdown",
   "metadata": {},
   "source": [
    "## T-Statistic"
   ]
  },
  {
   "cell_type": "code",
   "execution_count": null,
   "metadata": {},
   "outputs": [],
   "source": [
    "#https://www.hackdeploy.com/python-t-test-a-friendly-guide/\n",
    "tStat, pValue =  stats.ttest_rel(df_e, df_e_d)\n",
    "print(\"P-Value:{0} T-Statistic:{1}\".format(pValue,tStat)) \n",
    "\n",
    "# interpret via p-value\n",
    "if pValue > alpha:\n",
    "    print('Accept null hypothesis that the means are equal.')\n",
    "else:\n",
    "    print('Reject the null hypothesis that the means are equal.')\n",
    "    \n",
    "print('r = {}'.format(f_r(tStat)))"
   ]
  },
  {
   "cell_type": "markdown",
   "metadata": {},
   "source": [
    "## Wilcoxon signed-rank test"
   ]
  },
  {
   "cell_type": "code",
   "execution_count": null,
   "metadata": {},
   "outputs": [],
   "source": [
    "# https://www.methodenberatung.uzh.ch/de/datenanalyse_spss/unterschiede/zentral/wilkoxon.html\n",
    "W, p_v = stats.wilcoxon(df_e, df_e_d)\n",
    "print(W)\n",
    "print('p = {}'.format(p_v))\n",
    "\n",
    "def f_z(W, u, o):\n",
    "    return (W - u) / o\n",
    "\n",
    "def f_u(n):\n",
    "    return (n*(n+1))/4\n",
    "def f_o(n):\n",
    "    return np.sqrt((n*(n+1)*(2*n+1))/24)\n",
    "\n",
    "def f_r_w(W, n):\n",
    "    return abs(f_z(W, f_u(n), f_o(n)) / np.sqrt(n))\n",
    "          \n",
    "n = df_e.size\n",
    "r_w = f_r_w(W, n)\n",
    "print('r = {}'.format(r_w))"
   ]
  },
  {
   "cell_type": "code",
   "execution_count": null,
   "metadata": {},
   "outputs": [],
   "source": [
    "r_r, p_r = stats.pearsonr(df_e, df_e_d)\n",
    "print(r_r)\n",
    "print(p_r)"
   ]
  },
  {
   "cell_type": "code",
   "execution_count": null,
   "metadata": {},
   "outputs": [],
   "source": []
  }
 ],
 "metadata": {
  "kernelspec": {
   "display_name": "Python 3",
   "language": "python",
   "name": "python3"
  },
  "language_info": {
   "codemirror_mode": {
    "name": "ipython",
    "version": 3
   },
   "file_extension": ".py",
   "mimetype": "text/x-python",
   "name": "python",
   "nbconvert_exporter": "python",
   "pygments_lexer": "ipython3",
   "version": "3.8.3"
  }
 },
 "nbformat": 4,
 "nbformat_minor": 2
}
