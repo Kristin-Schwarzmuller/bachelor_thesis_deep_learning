{
 "cells": [
  {
   "cell_type": "markdown",
   "metadata": {},
   "source": [
    "# Single Base Training on GPU1"
   ]
  },
  {
   "cell_type": "markdown",
   "metadata": {},
   "source": [
    "# Quick Links <a name = \"Top\"></a>\n",
    "<ol>\n",
    "    <li><p><a href = #setup>Set Up</a></p></li>\n",
    "    <li><p><a href = #Base>Base Training</a></p></li>\n",
    "</ol>"
   ]
  },
  {
   "cell_type": "markdown",
   "metadata": {},
   "source": [
    "# Imports"
   ]
  },
  {
   "cell_type": "code",
   "execution_count": 1,
   "metadata": {},
   "outputs": [
    {
     "name": "stdout",
     "output_type": "stream",
     "text": [
      "Current Conda Environment: tf_ks\n"
     ]
    }
   ],
   "source": [
    "import os\n",
    "import shutil\n",
    "\n",
    "print('Current Conda Environment: {}'.format(os.environ['CONDA_DEFAULT_ENV']))"
   ]
  },
  {
   "cell_type": "code",
   "execution_count": 2,
   "metadata": {},
   "outputs": [],
   "source": [
    "#pip install talos"
   ]
  },
  {
   "cell_type": "code",
   "execution_count": 3,
   "metadata": {},
   "outputs": [
    {
     "name": "stderr",
     "output_type": "stream",
     "text": [
      "Using TensorFlow backend.\n"
     ]
    },
    {
     "name": "stdout",
     "output_type": "stream",
     "text": [
      "The installed version of TensorFlow 2.1.0 includes GPU support.\n",
      "\n",
      "Num GPUs Available:  2 \n",
      "\n",
      "[name: \"/device:CPU:0\"\n",
      "device_type: \"CPU\"\n",
      "memory_limit: 268435456\n",
      "locality {\n",
      "}\n",
      "incarnation: 5011719108740871493\n",
      ", name: \"/device:GPU:0\"\n",
      "device_type: \"GPU\"\n",
      "memory_limit: 9105744200\n",
      "locality {\n",
      "  bus_id: 1\n",
      "  links {\n",
      "  }\n",
      "}\n",
      "incarnation: 17590209635508997214\n",
      "physical_device_desc: \"device: 0, name: GeForce RTX 2080 Ti, pci bus id: 0000:17:00.0, compute capability: 7.5\"\n",
      ", name: \"/device:GPU:1\"\n",
      "device_type: \"GPU\"\n",
      "memory_limit: 9104897474\n",
      "locality {\n",
      "  bus_id: 1\n",
      "  links {\n",
      "  }\n",
      "}\n",
      "incarnation: 10740994361570126121\n",
      "physical_device_desc: \"device: 1, name: GeForce RTX 2080 Ti, pci bus id: 0000:65:00.0, compute capability: 7.5\"\n",
      "]\n"
     ]
    }
   ],
   "source": [
    "import talos as ta\n",
    "from talos.model import lr_normalizer, early_stopper, hidden_layers\n",
    "\n",
    "import tensorflow as tf\n",
    "  \n",
    "available_gpus = tf.config.experimental.list_physical_devices('GPU')\n",
    "built_with_cuda = tf.test.is_built_with_cuda()\n",
    "\n",
    "if not (not available_gpus) & built_with_cuda:\n",
    "    print(\"The installed version of TensorFlow {} includes GPU support.\\n\".format(tf.__version__))\n",
    "    print(\"Num GPUs Available: \", len(available_gpus), \"\\n\")\n",
    "else:\n",
    "    print(\"The installed version of TensorFlow {} does not include GPU support.\\n\".format(tf.__version__))\n",
    "    \n",
    "from tensorflow.python.client import device_lib\n",
    "print(device_lib.list_local_devices())\n",
    "\n",
    "from tensorflow.compat.v1.keras import callbacks, backend as K\n",
    "from tensorflow.keras.models import Sequential, load_model\n",
    "from tensorflow.keras.layers import Dense, Dropout, Flatten\n",
    "from tensorflow.keras.preprocessing.image import ImageDataGenerator\n",
    "from tensorflow.keras.applications import VGG16\n",
    "from tensorflow.keras.utils import multi_gpu_model\n",
    "from tensorflow.keras.initializers import glorot_uniform\n",
    "from tensorflow.keras.optimizers import Adam, Nadam, RMSprop, SGD, Adagrad\n",
    "from tensorflow.keras.layers import ReLU, LeakyReLU\n",
    "\n",
    "from datetime import datetime\n",
    "import pandas as pd\n",
    "import numpy as np\n",
    "\n",
    "import time\n",
    "\n",
    "from numpy.random import seed\n",
    "seed(1)\n",
    "tf.random.set_seed(1)\n",
    "\n",
    "config = tf.compat.v1.ConfigProto()\n",
    "config.gpu_options.allow_growth=True\n",
    "config.gpu_options.per_process_gpu_memory_fraction = 0.99\n",
    "sess = tf.compat.v1.Session(config = config)\n",
    "\n",
    "#with tf.compat.v1.Session(config = config) as sess: \n",
    "#    sess.run()\n",
    "\n",
    "K.set_session(sess)"
   ]
  },
  {
   "cell_type": "markdown",
   "metadata": {},
   "source": [
    "# Hilfsfunktionen"
   ]
  },
  {
   "cell_type": "markdown",
   "metadata": {},
   "source": [
    "### Output Directory\n",
    "\n",
    "* <i>SSD</i>, falls genug Speicher auf SSD im SymLink <i>fast_output</i> verfügbar ist\n",
    "* <i>HDD</i>, falls möglicherweise zu wenig SSD-Speicher verfügbar ist $\\rightarrow$ <i>output</i>"
   ]
  },
  {
   "cell_type": "code",
   "execution_count": 4,
   "metadata": {},
   "outputs": [],
   "source": [
    "from enum import IntEnum\n",
    "\n",
    "class OutputDirectory(IntEnum):\n",
    "    HDD = 0\n",
    "    SSD = 1\n",
    "    \n",
    "output_path = ['output', 'fast_output']"
   ]
  },
  {
   "cell_type": "markdown",
   "metadata": {},
   "source": [
    "### Convert Label_Type into suitable label names.\n",
    "$\\Rightarrow$ Angular / Normalized $\\rightarrow$ ['Elevation', 'Azimuth']\n",
    "\n",
    "$\\Rightarrow$ Stereographic $\\rightarrow$ ['S_x', 'S_y']"
   ]
  },
  {
   "cell_type": "code",
   "execution_count": 5,
   "metadata": {},
   "outputs": [],
   "source": [
    "def get_Label_Names(label_type):\n",
    "    if label_type == 'Angular' or label_type == 'Normalized':\n",
    "        return ['Elevation', 'Azimuth']\n",
    "    elif label_type == 'Stereographic':\n",
    "        return ['S_x', 'S_y']\n",
    "    else:\n",
    "        assert(True, 'LabelType Invalid')\n",
    "        return None"
   ]
  },
  {
   "cell_type": "markdown",
   "metadata": {},
   "source": [
    "### Benutzerdefinierte Kostenfunktion & Metrik"
   ]
  },
  {
   "cell_type": "code",
   "execution_count": 6,
   "metadata": {},
   "outputs": [],
   "source": [
    "def circular_mse(y_true, y_pred):\n",
    "    max_error = tf.constant(360, dtype = 'float32')\n",
    "    return K.mean(K.square(K.minimum(K.abs(y_pred - y_true), max_error - K.abs(y_pred - y_true))), axis = -1)\n",
    "\n",
    "def circular_mae(y_true, y_pred):\n",
    "    max_error = tf.constant(360, dtype = 'float32')\n",
    "    return K.mean(K.minimum(K.abs(y_pred - y_true), K.abs(max_error - K.abs(y_pred - y_true))), axis = -1)\n",
    "\n",
    "def custom_mae(y_true, y_pred):\n",
    "    return K.mean(K.abs(y_pred - y_true), axis = -1)"
   ]
  },
  {
   "cell_type": "markdown",
   "metadata": {},
   "source": [
    "### Convert String into Reduction Metric Function"
   ]
  },
  {
   "cell_type": "code",
   "execution_count": 7,
   "metadata": {},
   "outputs": [],
   "source": [
    "def get_Reduction_Metric(metric):\n",
    "    \n",
    "    if metric == 'custom_mae':\n",
    "        return [custom_mae]\n",
    "    elif metric == 'tf.keras.metrics.MeanAbsoluteError()':\n",
    "        return [tf.keras.metrics.MeanAbsoluteError()]\n",
    "    elif metric == 'circular_mae':\n",
    "        return [circular_mae]\n",
    "    elif metric == 'mean_squared_error':\n",
    "        return ['mean_squared_error']\n",
    "    else:\n",
    "        assert(False, 'Metric yet unknown - Please modify get_Reduction_Metric to meet your requirements')\n",
    "        return None"
   ]
  },
  {
   "cell_type": "markdown",
   "metadata": {},
   "source": [
    "### Generierung Bottleneck-Features"
   ]
  },
  {
   "cell_type": "code",
   "execution_count": 8,
   "metadata": {},
   "outputs": [],
   "source": [
    "def create_bottleneck_features(train_generator, valid_generator, bottleneck):\n",
    "        \n",
    "    print('Creating bottleneck features...')\n",
    "    model = VGG16(include_top = False, weights = 'imagenet')\n",
    "        \n",
    "    #bottleneck_features_train = model.predict_generator(train_generator, train_generator.n // train_generator.batch_size)\n",
    "    bottleneck_features_train = model.predict(train_generator)\n",
    "    np.save(open(_LOG_DIR + 'Train_' + bottleneck, 'wb'), bottleneck_features_train)\n",
    "        \n",
    "    #bottleneck_features_valid = model.predict_generator(valid_generator, valid_generator.n // valid_generator.batch_size)\n",
    "    bottleneck_features_valid = model.predict(valid_generator)\n",
    "    np.save(open(_LOG_DIR + 'Valid_'  + bottleneck, 'wb'), bottleneck_features_valid)"
   ]
  },
  {
   "cell_type": "markdown",
   "metadata": {},
   "source": [
    "### Generierung Datenpipeline (Angepasst für Talos)"
   ]
  },
  {
   "cell_type": "code",
   "execution_count": 9,
   "metadata": {},
   "outputs": [],
   "source": [
    "def prepare_data(batch_size, num_samples, label_type):\n",
    "    #print(_CSV_FILE)\n",
    "    df = pd.read_csv(_CSV_FILE)\n",
    "    df_shuffled = df.sample(frac = 1, random_state = 1)\n",
    "    df_train = df_shuffled[0 : int(num_samples * 0.8 // batch_size * batch_size)]   \n",
    "    df_valid = df_shuffled.drop(df_shuffled.index[0: df_train.shape[0]])[0 : int(num_samples * 0.2 // batch_size * batch_size)]\n",
    "    \n",
    "    train_labels = df_train.drop(['Filename RGB'], axis = 1).values\n",
    "    valid_labels = df_valid.drop(['Filename RGB'], axis = 1).values\n",
    "    \n",
    "    bottleneck = 'Bottleneck_Features_{}_{}.npy'.format(str(num_samples), str(batch_size))                                       \n",
    "    if not os.path.exists(_LOG_DIR + 'Train_' + bottleneck):\n",
    "        \n",
    "        if _USE_DATA_AUGMENTATION:\n",
    "            train_data_generator = ImageDataGenerator(\n",
    "                rescale = 1./255, \n",
    "                width_shift_range = 0.1,\n",
    "                height_shift_range = 0.1, \n",
    "                zoom_range = 0.1,\n",
    "                brightness_range = (0.25, 0.75),\n",
    "                fill_mode = 'nearest'\n",
    "            )\n",
    "        else:\n",
    "            train_data_generator = ImageDataGenerator(\n",
    "                rescale = 1./255\n",
    "            )\n",
    "            \n",
    "        valid_data_generator = ImageDataGenerator(\n",
    "            rescale = 1./255\n",
    "        )\n",
    "    \n",
    "        print('Y-Col: {}'.format(get_Label_Names(label_type)))\n",
    "        \n",
    "        train_generator = train_data_generator.flow_from_dataframe(\n",
    "            dataframe = df_train,\n",
    "            directory = _IMAGE_DIR,\n",
    "            x_col = 'Filename RGB',\n",
    "            y_col = get_Label_Names(label_type),\n",
    "            class_mode = 'raw',\n",
    "            target_size = (224, 224),\n",
    "            color_mode = 'rgb',\n",
    "            shuffle = False,\n",
    "            seed = 1,\n",
    "            batch_size = batch_size\n",
    "        )\n",
    "    \n",
    "        valid_generator = valid_data_generator.flow_from_dataframe(\n",
    "            dataframe = df_valid,\n",
    "            directory = _IMAGE_DIR,\n",
    "            x_col = 'Filename RGB',\n",
    "            y_col = get_Label_Names(label_type),\n",
    "            class_mode = 'raw',\n",
    "            target_size = (224, 224),\n",
    "            color_mode = 'rgb',\n",
    "            shuffle = False,\n",
    "            seed = 1,\n",
    "            batch_size = batch_size\n",
    "        )\n",
    "                                                        \n",
    "        create_bottleneck_features(train_generator, valid_generator, bottleneck)\n",
    "        \n",
    "    train_features = np.load(open(_LOG_DIR + 'Train_' + bottleneck, 'rb'))\n",
    "    valid_features = np.load(open(_LOG_DIR + 'Valid_' + bottleneck, 'rb'))\n",
    "                                                        \n",
    "    return train_labels, valid_labels, train_features, valid_features"
   ]
  },
  {
   "cell_type": "markdown",
   "metadata": {},
   "source": [
    "### Generierung Modell (Angepasst für Talos)"
   ]
  },
  {
   "cell_type": "code",
   "execution_count": 10,
   "metadata": {},
   "outputs": [],
   "source": [
    "def grid_model_base(x, y, x_val, y_val, params):\n",
    "    \n",
    "    global _COUNTER    \n",
    "    K.clear_session()\n",
    "\n",
    "    train_labels, valid_labels, train_features, valid_features = prepare_data(params['batch_size'], params['samples'], params['label_type'])\n",
    "\n",
    "    model = Sequential()\n",
    "    model.add(Flatten(input_shape = train_features.shape[1 :])) # (7, 7, 512)\n",
    "    \n",
    "    dropout_rate = params['dropout']\n",
    "    first_neuron = params['first_neuron']\n",
    "    \n",
    "    if params['activation'] == 'leakyrelu':\n",
    "        activation_layer = LeakyReLU(alpha = 0.1)\n",
    "    elif params['activation'] == 'relu':\n",
    "        activation_layer = ReLU()  \n",
    "    \n",
    "    model.add(Dense(units = first_neuron, kernel_initializer = glorot_uniform(seed = 1)))\n",
    "    model.add(activation_layer)\n",
    "    if dropout_rate > 0.0:\n",
    "        model.add(Dropout(rate = dropout_rate))\n",
    "        \n",
    "    hidden_neuron_fraction = first_neuron\n",
    "    for i in range(params['hidden_layers']):\n",
    "        hidden_neuron_fraction = hidden_neuron_fraction // 2\n",
    "        model.add(Dense(units = hidden_neuron_fraction, kernel_initializer = glorot_uniform(seed = 1)))\n",
    "        model.add(activation_layer)\n",
    "        if dropout_rate > 0.0:\n",
    "            model.add(Dropout(rate = dropout_rate))\n",
    "    \n",
    "    model.add(Dense(units = 2, kernel_initializer = glorot_uniform(seed = 1)))\n",
    "\n",
    "    print('Using Loss: {} \\nand Reduction Metric: {}'.format(\n",
    "        params['loss_function'], \n",
    "        get_Reduction_Metric(params['reduction_metric'])))\n",
    "    \n",
    "    model.compile(\n",
    "        optimizer = params['optimizer'](lr = lr_normalizer(params['lr'], params['optimizer'])), \n",
    "        loss = params['loss_function'], \n",
    "        metrics = get_Reduction_Metric(params['reduction_metric'])\n",
    "    )\n",
    "    \n",
    "    print('Monitor: {}'.format(params['monitor_value']))\n",
    "    \n",
    "    checkpointer = callbacks.ModelCheckpoint(\n",
    "        filepath = _LOG_DIR + 'Best_Weights_FC_{}.hdf5'.format(_COUNTER),\n",
    "        monitor = params['monitor_value'],\n",
    "        verbose = 1,\n",
    "        save_best_only = True,\n",
    "        mode = 'min'\n",
    "    )\n",
    "    \n",
    "    startTime = datetime.now()\n",
    "    out = model.fit(\n",
    "        x = train_features,\n",
    "        y = train_labels,\n",
    "        epochs = params['epochs'],\n",
    "        validation_data = (valid_features, valid_labels),\n",
    "        steps_per_epoch = int(params['samples'] * 0.8 // params['batch_size']),\n",
    "        validation_steps = int(params['samples'] * 0.2 // params['batch_size']),\n",
    "        callbacks = [checkpointer]\n",
    "    )\n",
    "    print(\"Time taken:\", datetime.now() - startTime)\n",
    "    \n",
    "    _COUNTER = _COUNTER + 1\n",
    "     \n",
    "    return out, model"
   ]
  },
  {
   "cell_type": "markdown",
   "metadata": {},
   "source": [
    "# Parameter <a name = \"setup\"></a><a href = #Top>Up</a></p>"
   ]
  },
  {
   "cell_type": "markdown",
   "metadata": {},
   "source": [
    "### GridSerach"
   ]
  },
  {
   "cell_type": "markdown",
   "metadata": {},
   "source": [
    "#### Hyper Parameter"
   ]
  },
  {
   "cell_type": "code",
   "execution_count": 11,
   "metadata": {},
   "outputs": [],
   "source": [
    "#     Adam = RMSprop + Momentum (lr=0.001)\n",
    "#     Nadam = Adam RMSprop + Nesterov-Momentum (lr=0.002)\n",
    "#     RMSprop = (lr=0.001)\n",
    "#     SGD = (lr=0.01)\n",
    "#     Adagrad\n",
    "\n",
    "hyper_parameter = {\n",
    "    'samples': [20000],\n",
    "    'epochs': [1],\n",
    "    'batch_size': [32, 64],\n",
    "    'optimizer': [Adam],\n",
    "    'lr': [1, 2, 5],\n",
    "    'first_neuron': [1024, 2048, 4096],\n",
    "    'dropout': [0.25, 0.50],\n",
    "    'activation': ['leakyrelu', 'relu'],\n",
    "    'hidden_layers': [0, 1, 2, 3, 4],\n",
    "    # beginning from here, Values should only contain a single entry:\n",
    "    # ===============================================================\n",
    "    'label_type': ['Angular'], # Stereographic, Angular, Normalized\n",
    "    'loss_function': ['mean_squared_error'], # circular_mse\n",
    "    'reduction_metric': ['custom_mae'], # tf.keras.metrics.MeanAbsoluteError(), circular_mae, custom_mae, mean_squared_error\n",
    "    'monitor_value': ['val_custom_mae'] # val_custom_mae, val_mean_absolute_error, val_circular_mae, val_loss\n",
    "}"
   ]
  },
  {
   "cell_type": "code",
   "execution_count": 12,
   "metadata": {},
   "outputs": [],
   "source": [
    "def get_params():  \n",
    "    return p"
   ]
  },
  {
   "cell_type": "markdown",
   "metadata": {},
   "source": [
    "### Dateisystem"
   ]
  },
  {
   "cell_type": "code",
   "execution_count": 17,
   "metadata": {},
   "outputs": [],
   "source": [
    "_RUN = 'SYNTH'\n",
    "_LOSS = 'MSE'\n",
    "_DATASET_NAME = '201019_2253_final'#'2020-05-28'\n",
    "_DEVICE = 'GeForce_RTX_2080_Ti' #\"/device:GPU:1\" #'TITAN_GPU1'\n",
    "\n",
    "storage = OutputDirectory.SSD # 'fast_output' if ssd storage may suffice, 'output' otherwise\n",
    "\n",
    "#APPENDIX = 'Stereographic'\n",
    "\n",
    "#FUNCTION_OVERRIDE = ['mean_squared_error', [custom_mae], 'val_custom_mae'] # None, or e. g. ['mean_squared_error', [circular_mae], 'val_circular_mae']\n",
    "\n",
    "if hyper_parameter['label_type'][0] == 'Stereographic':\n",
    "    _CSV_FILE_NAME = 'images_synthetisch_stereographic.csv'\n",
    "    _STEREOGRAPHIC = True\n",
    "elif hyper_parameter['label_type'][0] == 'Angular':\n",
    "    _CSV_FILE_NAME = 'labels_ks_RGB.csv' #'images_synthetisch.csv'\n",
    "    _STEREOGRAPHIC = False\n",
    "elif hyper_parameter['label_type'][0] == 'Normalized':\n",
    "    _CSV_FILE_NAME = 'images_synthetisch_normalized.csv'\n",
    "    _STEREOGRAPHIC = False\n",
    "else:\n",
    "    assert(True, 'LabelType Invalid')"
   ]
  },
  {
   "cell_type": "code",
   "execution_count": 18,
   "metadata": {},
   "outputs": [],
   "source": [
    "_USE_DATA_AUGMENTATION = False"
   ]
  },
  {
   "cell_type": "code",
   "execution_count": 19,
   "metadata": {},
   "outputs": [
    {
     "name": "stdout",
     "output_type": "stream",
     "text": [
      "Directory >>| ..\\fast_output\\SYNTH_Regression_MSE\\201019_2253_final_Angular_Base_Custom-MAE\\ |<< existiert bereits. Fortsetzen auf eigene Gefahr! (Weiter mit Enter)\n"
     ]
    }
   ],
   "source": [
    "_MODEL_NAME = '{}_Optimierung_Hyperparameter_v{}'.format(_DATASET_NAME, _RUN)\n",
    "_IMAGE_DIR = '..\\\\..\\\\data_generation\\\\dataset\\\\{}\\\\'.format(_DATASET_NAME) # '..\\\\dataset\\\\{}\\\\'.format(_DATASET_NAME)\n",
    "_CSV_FILE = _IMAGE_DIR + _CSV_FILE_NAME\n",
    "\n",
    "_COUNTER = 0\n",
    "\n",
    "_note = '_Custom-MAE'\n",
    "\n",
    "_NET_DIR = '{}_Regression_{}\\\\{}_{}_Base{}\\\\'.format(_RUN, _LOSS, _DATASET_NAME, hyper_parameter['label_type'][0], _note)\n",
    "_LOG_DIR = '..\\\\{}\\\\{}'.format(output_path[storage], _NET_DIR)\n",
    "\n",
    "_RESULTS_FILE = '\\\\..\\\\{}_{}_Base{}_Results.csv'.format(_DATASET_NAME, hyper_parameter['label_type'][0], _note)\n",
    "\n",
    "if(not os.path.exists(_LOG_DIR)):\n",
    "    os.makedirs(_LOG_DIR)\n",
    "else:\n",
    "    input('Directory >>| {} |<< existiert bereits. Fortsetzen auf eigene Gefahr! (Weiter mit Enter)'.format(_LOG_DIR))\n",
    "\n",
    "device_file = open(_LOG_DIR + '{}'.format(_DEVICE), \"a+\")\n",
    "device_file.close()"
   ]
  },
  {
   "cell_type": "markdown",
   "metadata": {},
   "source": [
    "# Ausführung GridSearch mit Talos <a name = \"Base\"></a><a href = #Top>Up</a></p>"
   ]
  },
  {
   "cell_type": "code",
   "execution_count": 20,
   "metadata": {
    "scrolled": true
   },
   "outputs": [
    {
     "name": "stderr",
     "output_type": "stream",
     "text": [
      "\n",
      "  0%|                                                                                          | 0/360 [00:00<?, ?it/s]\u001b[A"
     ]
    },
    {
     "name": "stdout",
     "output_type": "stream",
     "text": [
      "{'activation': 'leakyrelu', 'batch_size': 32, 'dropout': 0.25, 'epochs': 1, 'first_neuron': 1024, 'hidden_layers': 0, 'label_type': 'Angular', 'loss_function': 'mean_squared_error', 'lr': 1, 'monitor_value': 'val_custom_mae', 'optimizer': <class 'tensorflow.python.keras.optimizer_v2.adam.Adam'>, 'reduction_metric': 'custom_mae', 'samples': 20000}\n",
      "Using Loss: mean_squared_error \n",
      "and Reduction Metric: [<function custom_mae at 0x000001C2C8E7DAF8>]\n",
      "Monitor: val_custom_mae\n",
      "Train on 16000 samples, validate on 4000 samples\n",
      "15936/16000 [============================>.] - ETA: 0s - loss: 3802.0620 - custom_mae: 39.0806\n",
      "Epoch 00001: val_custom_mae improved from inf to 31.90724, saving model to ..\\fast_output\\SYNTH_Regression_MSE\\201019_2253_final_Angular_Base_Custom-MAE\\Best_Weights_FC_0.hdf5\n",
      "16000/16000 [==============================] - 5s 335us/sample - loss: 3799.5094 - custom_mae: 39.0489 - val_loss: 2938.1040 - val_custom_mae: 31.9072\n",
      "Time taken: 0:00:06.807139\n"
     ]
    },
    {
     "name": "stderr",
     "output_type": "stream",
     "text": [
      "\n",
      "  0%|▏                                                                               | 1/360 [00:12<1:14:02, 12.37s/it]\u001b[A"
     ]
    },
    {
     "name": "stdout",
     "output_type": "stream",
     "text": [
      "{'activation': 'leakyrelu', 'batch_size': 32, 'dropout': 0.25, 'epochs': 1, 'first_neuron': 1024, 'hidden_layers': 0, 'label_type': 'Angular', 'loss_function': 'mean_squared_error', 'lr': 2, 'monitor_value': 'val_custom_mae', 'optimizer': <class 'tensorflow.python.keras.optimizer_v2.adam.Adam'>, 'reduction_metric': 'custom_mae', 'samples': 20000}\n",
      "Using Loss: mean_squared_error \n",
      "and Reduction Metric: [<function custom_mae at 0x000001C2C8E7DAF8>]\n",
      "Monitor: val_custom_mae\n",
      "Train on 16000 samples, validate on 4000 samples\n",
      "15776/16000 [============================>.] - ETA: 0s - loss: 3723.4247 - custom_mae: 38.5337\n",
      "Epoch 00001: val_custom_mae improved from inf to 32.61966, saving model to ..\\fast_output\\SYNTH_Regression_MSE\\201019_2253_final_Angular_Base_Custom-MAE\\Best_Weights_FC_1.hdf5\n",
      "16000/16000 [==============================] - 4s 265us/sample - loss: 3710.9920 - custom_mae: 38.4334 - val_loss: 3080.8014 - val_custom_mae: 32.6197\n",
      "Time taken: 0:00:05.685032\n"
     ]
    },
    {
     "name": "stderr",
     "output_type": "stream",
     "text": [
      "\n",
      "  1%|▍                                                                               | 2/360 [00:19<1:04:20, 10.78s/it]\u001b[A"
     ]
    },
    {
     "name": "stdout",
     "output_type": "stream",
     "text": [
      "{'activation': 'leakyrelu', 'batch_size': 32, 'dropout': 0.25, 'epochs': 1, 'first_neuron': 1024, 'hidden_layers': 0, 'label_type': 'Angular', 'loss_function': 'mean_squared_error', 'lr': 5, 'monitor_value': 'val_custom_mae', 'optimizer': <class 'tensorflow.python.keras.optimizer_v2.adam.Adam'>, 'reduction_metric': 'custom_mae', 'samples': 20000}\n",
      "Using Loss: mean_squared_error \n",
      "and Reduction Metric: [<function custom_mae at 0x000001C2C8E7DAF8>]\n",
      "Monitor: val_custom_mae\n",
      "Train on 16000 samples, validate on 4000 samples\n",
      "15680/16000 [============================>.] - ETA: 0s - loss: 3836.0622 - custom_mae: 38.8613\n",
      "Epoch 00001: val_custom_mae improved from inf to 30.90188, saving model to ..\\fast_output\\SYNTH_Regression_MSE\\201019_2253_final_Angular_Base_Custom-MAE\\Best_Weights_FC_2.hdf5\n",
      "16000/16000 [==============================] - 4s 268us/sample - loss: 3807.3086 - custom_mae: 38.6687 - val_loss: 2886.1212 - val_custom_mae: 30.9019\n",
      "Time taken: 0:00:05.741853\n"
     ]
    },
    {
     "name": "stderr",
     "output_type": "stream",
     "text": [
      "\n",
      "  1%|▋                                                                                 | 3/360 [00:26<57:33,  9.67s/it]\u001b[A"
     ]
    },
    {
     "name": "stdout",
     "output_type": "stream",
     "text": [
      "{'activation': 'leakyrelu', 'batch_size': 32, 'dropout': 0.25, 'epochs': 1, 'first_neuron': 1024, 'hidden_layers': 1, 'label_type': 'Angular', 'loss_function': 'mean_squared_error', 'lr': 1, 'monitor_value': 'val_custom_mae', 'optimizer': <class 'tensorflow.python.keras.optimizer_v2.adam.Adam'>, 'reduction_metric': 'custom_mae', 'samples': 20000}\n",
      "Using Loss: mean_squared_error \n",
      "and Reduction Metric: [<function custom_mae at 0x000001C2C8E7DAF8>]\n",
      "Monitor: val_custom_mae\n",
      "Train on 16000 samples, validate on 4000 samples\n",
      "15648/16000 [============================>.] - ETA: 0s - loss: 3997.1772 - custom_mae: 40.9709\n",
      "Epoch 00001: val_custom_mae improved from inf to 32.05215, saving model to ..\\fast_output\\SYNTH_Regression_MSE\\201019_2253_final_Angular_Base_Custom-MAE\\Best_Weights_FC_3.hdf5\n",
      "16000/16000 [==============================] - 4s 278us/sample - loss: 3966.9972 - custom_mae: 40.7551 - val_loss: 2944.0790 - val_custom_mae: 32.0522\n",
      "Time taken: 0:00:05.894415\n"
     ]
    },
    {
     "name": "stderr",
     "output_type": "stream",
     "text": [
      "\n",
      "  1%|▉                                                                                 | 4/360 [00:33<53:07,  8.95s/it]\u001b[A"
     ]
    },
    {
     "name": "stdout",
     "output_type": "stream",
     "text": [
      "{'activation': 'leakyrelu', 'batch_size': 32, 'dropout': 0.25, 'epochs': 1, 'first_neuron': 1024, 'hidden_layers': 1, 'label_type': 'Angular', 'loss_function': 'mean_squared_error', 'lr': 2, 'monitor_value': 'val_custom_mae', 'optimizer': <class 'tensorflow.python.keras.optimizer_v2.adam.Adam'>, 'reduction_metric': 'custom_mae', 'samples': 20000}\n",
      "Using Loss: mean_squared_error \n",
      "and Reduction Metric: [<function custom_mae at 0x000001C2C8E7DAF8>]\n",
      "Monitor: val_custom_mae\n",
      "Train on 16000 samples, validate on 4000 samples\n",
      "15936/16000 [============================>.] - ETA: 0s - loss: 3928.1424 - custom_mae: 40.5808\n",
      "Epoch 00001: val_custom_mae improved from inf to 29.60960, saving model to ..\\fast_output\\SYNTH_Regression_MSE\\201019_2253_final_Angular_Base_Custom-MAE\\Best_Weights_FC_4.hdf5\n",
      "16000/16000 [==============================] - 4s 277us/sample - loss: 3924.4756 - custom_mae: 40.5453 - val_loss: 2620.7673 - val_custom_mae: 29.6096\n",
      "Time taken: 0:00:05.872582\n"
     ]
    },
    {
     "name": "stderr",
     "output_type": "stream",
     "text": [
      "\n",
      "  1%|█▏                                                                                | 5/360 [00:41<49:58,  8.45s/it]\u001b[A"
     ]
    },
    {
     "name": "stdout",
     "output_type": "stream",
     "text": [
      "{'activation': 'leakyrelu', 'batch_size': 32, 'dropout': 0.25, 'epochs': 1, 'first_neuron': 1024, 'hidden_layers': 1, 'label_type': 'Angular', 'loss_function': 'mean_squared_error', 'lr': 5, 'monitor_value': 'val_custom_mae', 'optimizer': <class 'tensorflow.python.keras.optimizer_v2.adam.Adam'>, 'reduction_metric': 'custom_mae', 'samples': 20000}\n",
      "Using Loss: mean_squared_error \n",
      "and Reduction Metric: [<function custom_mae at 0x000001C2C8E7DAF8>]\n",
      "Monitor: val_custom_mae\n",
      "Train on 16000 samples, validate on 4000 samples\n",
      "15712/16000 [============================>.] - ETA: 0s - loss: 4664.7407 - custom_mae: 43.3734\n",
      "Epoch 00001: val_custom_mae improved from inf to 35.27819, saving model to ..\\fast_output\\SYNTH_Regression_MSE\\201019_2253_final_Angular_Base_Custom-MAE\\Best_Weights_FC_5.hdf5\n",
      "16000/16000 [==============================] - 5s 283us/sample - loss: 4635.3034 - custom_mae: 43.2185 - val_loss: 3196.0329 - val_custom_mae: 35.2782\n",
      "Time taken: 0:00:05.971050\n"
     ]
    },
    {
     "name": "stderr",
     "output_type": "stream",
     "text": [
      "\n",
      "  2%|█▎                                                                                | 6/360 [00:48<47:50,  8.11s/it]\u001b[A"
     ]
    },
    {
     "name": "stdout",
     "output_type": "stream",
     "text": [
      "{'activation': 'leakyrelu', 'batch_size': 32, 'dropout': 0.25, 'epochs': 1, 'first_neuron': 1024, 'hidden_layers': 2, 'label_type': 'Angular', 'loss_function': 'mean_squared_error', 'lr': 1, 'monitor_value': 'val_custom_mae', 'optimizer': <class 'tensorflow.python.keras.optimizer_v2.adam.Adam'>, 'reduction_metric': 'custom_mae', 'samples': 20000}\n",
      "Using Loss: mean_squared_error \n",
      "and Reduction Metric: [<function custom_mae at 0x000001C2C8E7DAF8>]\n",
      "Monitor: val_custom_mae\n",
      "Train on 16000 samples, validate on 4000 samples\n",
      "15904/16000 [============================>.] - ETA: 0s - loss: 4165.5480 - custom_mae: 42.7613\n",
      "Epoch 00001: val_custom_mae improved from inf to 31.48091, saving model to ..\\fast_output\\SYNTH_Regression_MSE\\201019_2253_final_Angular_Base_Custom-MAE\\Best_Weights_FC_6.hdf5\n",
      "16000/16000 [==============================] - 5s 286us/sample - loss: 4160.6256 - custom_mae: 42.7122 - val_loss: 2823.3650 - val_custom_mae: 31.4809\n",
      "Time taken: 0:00:06.024075\n"
     ]
    },
    {
     "name": "stderr",
     "output_type": "stream",
     "text": [
      "\n",
      "  2%|█▌                                                                                | 7/360 [00:55<46:31,  7.91s/it]\u001b[A"
     ]
    },
    {
     "name": "stdout",
     "output_type": "stream",
     "text": [
      "{'activation': 'leakyrelu', 'batch_size': 32, 'dropout': 0.25, 'epochs': 1, 'first_neuron': 1024, 'hidden_layers': 2, 'label_type': 'Angular', 'loss_function': 'mean_squared_error', 'lr': 2, 'monitor_value': 'val_custom_mae', 'optimizer': <class 'tensorflow.python.keras.optimizer_v2.adam.Adam'>, 'reduction_metric': 'custom_mae', 'samples': 20000}\n",
      "Using Loss: mean_squared_error \n",
      "and Reduction Metric: [<function custom_mae at 0x000001C2C8E7DAF8>]\n",
      "Monitor: val_custom_mae\n",
      "Train on 16000 samples, validate on 4000 samples\n",
      "15968/16000 [============================>.] - ETA: 0s - loss: 4068.6193 - custom_mae: 42.0422\n",
      "Epoch 00001: val_custom_mae improved from inf to 30.80041, saving model to ..\\fast_output\\SYNTH_Regression_MSE\\201019_2253_final_Angular_Base_Custom-MAE\\Best_Weights_FC_7.hdf5\n",
      "16000/16000 [==============================] - 5s 286us/sample - loss: 4068.6358 - custom_mae: 42.0299 - val_loss: 2654.1113 - val_custom_mae: 30.8004\n",
      "Time taken: 0:00:06.022126\n"
     ]
    },
    {
     "name": "stderr",
     "output_type": "stream",
     "text": [
      "\n",
      "  2%|█▊                                                                                | 8/360 [01:03<45:34,  7.77s/it]\u001b[A"
     ]
    },
    {
     "name": "stdout",
     "output_type": "stream",
     "text": [
      "{'activation': 'leakyrelu', 'batch_size': 32, 'dropout': 0.25, 'epochs': 1, 'first_neuron': 1024, 'hidden_layers': 2, 'label_type': 'Angular', 'loss_function': 'mean_squared_error', 'lr': 5, 'monitor_value': 'val_custom_mae', 'optimizer': <class 'tensorflow.python.keras.optimizer_v2.adam.Adam'>, 'reduction_metric': 'custom_mae', 'samples': 20000}\n",
      "Using Loss: mean_squared_error \n",
      "and Reduction Metric: [<function custom_mae at 0x000001C2C8E7DAF8>]\n",
      "Monitor: val_custom_mae\n",
      "Train on 16000 samples, validate on 4000 samples\n",
      "15968/16000 [============================>.] - ETA: 0s - loss: 4597.8699 - custom_mae: 45.2034\n",
      "Epoch 00001: val_custom_mae improved from inf to 32.06067, saving model to ..\\fast_output\\SYNTH_Regression_MSE\\201019_2253_final_Angular_Base_Custom-MAE\\Best_Weights_FC_8.hdf5\n",
      "16000/16000 [==============================] - 5s 291us/sample - loss: 4596.2222 - custom_mae: 45.1834 - val_loss: 2718.9560 - val_custom_mae: 32.0607\n",
      "Time taken: 0:00:06.099547\n"
     ]
    },
    {
     "name": "stderr",
     "output_type": "stream",
     "text": [
      "\n",
      "  2%|██                                                                                | 9/360 [01:10<44:58,  7.69s/it]\u001b[A"
     ]
    },
    {
     "name": "stdout",
     "output_type": "stream",
     "text": [
      "{'activation': 'leakyrelu', 'batch_size': 32, 'dropout': 0.25, 'epochs': 1, 'first_neuron': 1024, 'hidden_layers': 3, 'label_type': 'Angular', 'loss_function': 'mean_squared_error', 'lr': 1, 'monitor_value': 'val_custom_mae', 'optimizer': <class 'tensorflow.python.keras.optimizer_v2.adam.Adam'>, 'reduction_metric': 'custom_mae', 'samples': 20000}\n",
      "Using Loss: mean_squared_error \n",
      "and Reduction Metric: [<function custom_mae at 0x000001C2C8E7DAF8>]\n",
      "Monitor: val_custom_mae\n",
      "Train on 16000 samples, validate on 4000 samples\n",
      "15968/16000 [============================>.] - ETA: 0s - loss: 4485.3305 - custom_mae: 45.4061\n",
      "Epoch 00001: val_custom_mae improved from inf to 31.50134, saving model to ..\\fast_output\\SYNTH_Regression_MSE\\201019_2253_final_Angular_Base_Custom-MAE\\Best_Weights_FC_9.hdf5\n",
      "16000/16000 [==============================] - 5s 290us/sample - loss: 4485.5497 - custom_mae: 45.3912 - val_loss: 2726.1558 - val_custom_mae: 31.5013\n",
      "Time taken: 0:00:06.081019\n"
     ]
    },
    {
     "name": "stderr",
     "output_type": "stream",
     "text": [
      "\n",
      "  3%|██▎                                                                              | 10/360 [01:18<44:33,  7.64s/it]\u001b[A"
     ]
    },
    {
     "name": "stdout",
     "output_type": "stream",
     "text": [
      "{'activation': 'leakyrelu', 'batch_size': 32, 'dropout': 0.25, 'epochs': 1, 'first_neuron': 1024, 'hidden_layers': 3, 'label_type': 'Angular', 'loss_function': 'mean_squared_error', 'lr': 2, 'monitor_value': 'val_custom_mae', 'optimizer': <class 'tensorflow.python.keras.optimizer_v2.adam.Adam'>, 'reduction_metric': 'custom_mae', 'samples': 20000}\n",
      "Using Loss: mean_squared_error \n",
      "and Reduction Metric: [<function custom_mae at 0x000001C2C8E7DAF8>]\n",
      "Monitor: val_custom_mae\n",
      "Train on 16000 samples, validate on 4000 samples\n",
      "15744/16000 [============================>.] - ETA: 0s - loss: 4657.7718 - custom_mae: 46.8554\n",
      "Epoch 00001: val_custom_mae improved from inf to 33.73294, saving model to ..\\fast_output\\SYNTH_Regression_MSE\\201019_2253_final_Angular_Base_Custom-MAE\\Best_Weights_FC_10.hdf5\n",
      "16000/16000 [==============================] - 5s 294us/sample - loss: 4634.7649 - custom_mae: 46.6768 - val_loss: 2856.3123 - val_custom_mae: 33.7329\n",
      "Time taken: 0:00:06.139124\n"
     ]
    },
    {
     "name": "stderr",
     "output_type": "stream",
     "text": [
      "\n",
      "  3%|██▍                                                                              | 11/360 [01:25<44:19,  7.62s/it]\u001b[A"
     ]
    },
    {
     "name": "stdout",
     "output_type": "stream",
     "text": [
      "{'activation': 'leakyrelu', 'batch_size': 32, 'dropout': 0.25, 'epochs': 1, 'first_neuron': 1024, 'hidden_layers': 3, 'label_type': 'Angular', 'loss_function': 'mean_squared_error', 'lr': 5, 'monitor_value': 'val_custom_mae', 'optimizer': <class 'tensorflow.python.keras.optimizer_v2.adam.Adam'>, 'reduction_metric': 'custom_mae', 'samples': 20000}\n",
      "Using Loss: mean_squared_error \n",
      "and Reduction Metric: [<function custom_mae at 0x000001C2C8E7DAF8>]\n",
      "Monitor: val_custom_mae\n",
      "Train on 16000 samples, validate on 4000 samples\n",
      "15744/16000 [============================>.] - ETA: 0s - loss: 5087.8936 - custom_mae: 49.5900\n",
      "Epoch 00001: val_custom_mae improved from inf to 36.06062, saving model to ..\\fast_output\\SYNTH_Regression_MSE\\201019_2253_final_Angular_Base_Custom-MAE\\Best_Weights_FC_11.hdf5\n",
      "16000/16000 [==============================] - 5s 296us/sample - loss: 5068.1455 - custom_mae: 49.4576 - val_loss: 3178.3384 - val_custom_mae: 36.0606\n",
      "Time taken: 0:00:06.169076\n"
     ]
    },
    {
     "name": "stderr",
     "output_type": "stream",
     "text": [
      "\n",
      "  3%|██▋                                                                              | 12/360 [01:33<44:07,  7.61s/it]\u001b[A"
     ]
    },
    {
     "name": "stdout",
     "output_type": "stream",
     "text": [
      "{'activation': 'leakyrelu', 'batch_size': 32, 'dropout': 0.25, 'epochs': 1, 'first_neuron': 1024, 'hidden_layers': 4, 'label_type': 'Angular', 'loss_function': 'mean_squared_error', 'lr': 1, 'monitor_value': 'val_custom_mae', 'optimizer': <class 'tensorflow.python.keras.optimizer_v2.adam.Adam'>, 'reduction_metric': 'custom_mae', 'samples': 20000}\n",
      "Using Loss: mean_squared_error \n",
      "and Reduction Metric: [<function custom_mae at 0x000001C2C8E7DAF8>]\n",
      "Monitor: val_custom_mae\n",
      "Train on 16000 samples, validate on 4000 samples\n",
      "15776/16000 [============================>.] - ETA: 0s - loss: 4971.8847 - custom_mae: 49.4240\n",
      "Epoch 00001: val_custom_mae improved from inf to 34.05320, saving model to ..\\fast_output\\SYNTH_Regression_MSE\\201019_2253_final_Angular_Base_Custom-MAE\\Best_Weights_FC_12.hdf5\n",
      "16000/16000 [==============================] - 5s 299us/sample - loss: 4949.5046 - custom_mae: 49.2646 - val_loss: 2945.3861 - val_custom_mae: 34.0532\n",
      "Time taken: 0:00:06.234420\n"
     ]
    },
    {
     "name": "stderr",
     "output_type": "stream",
     "text": [
      "\n",
      "  4%|██▉                                                                              | 13/360 [01:41<44:10,  7.64s/it]\u001b[A"
     ]
    },
    {
     "name": "stdout",
     "output_type": "stream",
     "text": [
      "{'activation': 'leakyrelu', 'batch_size': 32, 'dropout': 0.25, 'epochs': 1, 'first_neuron': 1024, 'hidden_layers': 4, 'label_type': 'Angular', 'loss_function': 'mean_squared_error', 'lr': 2, 'monitor_value': 'val_custom_mae', 'optimizer': <class 'tensorflow.python.keras.optimizer_v2.adam.Adam'>, 'reduction_metric': 'custom_mae', 'samples': 20000}\n",
      "Using Loss: mean_squared_error \n",
      "and Reduction Metric: [<function custom_mae at 0x000001C2C8E7DAF8>]\n",
      "Monitor: val_custom_mae\n",
      "Train on 16000 samples, validate on 4000 samples\n",
      "15872/16000 [============================>.] - ETA: 0s - loss: 4977.1452 - custom_mae: 49.2051\n",
      "Epoch 00001: val_custom_mae improved from inf to 35.78651, saving model to ..\\fast_output\\SYNTH_Regression_MSE\\201019_2253_final_Angular_Base_Custom-MAE\\Best_Weights_FC_13.hdf5\n",
      "16000/16000 [==============================] - 5s 304us/sample - loss: 4963.0861 - custom_mae: 49.1045 - val_loss: 3138.6568 - val_custom_mae: 35.7865\n",
      "Time taken: 0:00:06.303123\n"
     ]
    },
    {
     "name": "stderr",
     "output_type": "stream",
     "text": [
      "\n",
      "  4%|███▏                                                                             | 14/360 [01:48<44:14,  7.67s/it]\u001b[A"
     ]
    },
    {
     "name": "stdout",
     "output_type": "stream",
     "text": [
      "{'activation': 'leakyrelu', 'batch_size': 32, 'dropout': 0.25, 'epochs': 1, 'first_neuron': 1024, 'hidden_layers': 4, 'label_type': 'Angular', 'loss_function': 'mean_squared_error', 'lr': 5, 'monitor_value': 'val_custom_mae', 'optimizer': <class 'tensorflow.python.keras.optimizer_v2.adam.Adam'>, 'reduction_metric': 'custom_mae', 'samples': 20000}\n",
      "Using Loss: mean_squared_error \n",
      "and Reduction Metric: [<function custom_mae at 0x000001C2C8E7DAF8>]\n",
      "Monitor: val_custom_mae\n",
      "Train on 16000 samples, validate on 4000 samples\n",
      "15872/16000 [============================>.] - ETA: 0s - loss: 6173.1851 - custom_mae: 55.8900\n",
      "Epoch 00001: val_custom_mae improved from inf to 51.11852, saving model to ..\\fast_output\\SYNTH_Regression_MSE\\201019_2253_final_Angular_Base_Custom-MAE\\Best_Weights_FC_14.hdf5\n",
      "16000/16000 [==============================] - 5s 305us/sample - loss: 6163.1854 - custom_mae: 55.8411 - val_loss: 5057.6183 - val_custom_mae: 51.1185\n",
      "Time taken: 0:00:06.325677\n"
     ]
    },
    {
     "name": "stderr",
     "output_type": "stream",
     "text": [
      "\n",
      "  4%|███▍                                                                             | 15/360 [01:56<44:18,  7.71s/it]\u001b[A"
     ]
    },
    {
     "name": "stdout",
     "output_type": "stream",
     "text": [
      "{'activation': 'leakyrelu', 'batch_size': 32, 'dropout': 0.25, 'epochs': 1, 'first_neuron': 2048, 'hidden_layers': 0, 'label_type': 'Angular', 'loss_function': 'mean_squared_error', 'lr': 1, 'monitor_value': 'val_custom_mae', 'optimizer': <class 'tensorflow.python.keras.optimizer_v2.adam.Adam'>, 'reduction_metric': 'custom_mae', 'samples': 20000}\n",
      "Using Loss: mean_squared_error \n",
      "and Reduction Metric: [<function custom_mae at 0x000001C2C8E7DAF8>]\n",
      "Monitor: val_custom_mae\n",
      "Train on 16000 samples, validate on 4000 samples\n",
      "15808/16000 [============================>.] - ETA: 0s - loss: 3726.4352 - custom_mae: 38.1519 ETA: 0s - loss: 3780.1142 - custom_ma\n",
      "Epoch 00001: val_custom_mae improved from inf to 32.61946, saving model to ..\\fast_output\\SYNTH_Regression_MSE\\201019_2253_final_Angular_Base_Custom-MAE\\Best_Weights_FC_15.hdf5\n",
      "16000/16000 [==============================] - 7s 425us/sample - loss: 3713.6038 - custom_mae: 38.0540 - val_loss: 3089.2280 - val_custom_mae: 32.6195\n",
      "Time taken: 0:00:08.243418\n"
     ]
    },
    {
     "name": "stderr",
     "output_type": "stream",
     "text": [
      "\n",
      "  4%|███▌                                                                             | 16/360 [02:06<47:28,  8.28s/it]\u001b[A"
     ]
    },
    {
     "name": "stdout",
     "output_type": "stream",
     "text": [
      "{'activation': 'leakyrelu', 'batch_size': 32, 'dropout': 0.25, 'epochs': 1, 'first_neuron': 2048, 'hidden_layers': 0, 'label_type': 'Angular', 'loss_function': 'mean_squared_error', 'lr': 2, 'monitor_value': 'val_custom_mae', 'optimizer': <class 'tensorflow.python.keras.optimizer_v2.adam.Adam'>, 'reduction_metric': 'custom_mae', 'samples': 20000}\n",
      "Using Loss: mean_squared_error \n",
      "and Reduction Metric: [<function custom_mae at 0x000001C2C8E7DAF8>]\n",
      "Monitor: val_custom_mae\n",
      "Train on 16000 samples, validate on 4000 samples\n",
      "15840/16000 [============================>.] - ETA: 0s - loss: 3732.1993 - custom_mae: 38.1680\n",
      "Epoch 00001: val_custom_mae improved from inf to 31.60226, saving model to ..\\fast_output\\SYNTH_Regression_MSE\\201019_2253_final_Angular_Base_Custom-MAE\\Best_Weights_FC_16.hdf5\n",
      "16000/16000 [==============================] - 7s 421us/sample - loss: 3722.5063 - custom_mae: 38.0907 - val_loss: 2977.3984 - val_custom_mae: 31.6023\n",
      "Time taken: 0:00:08.179494\n"
     ]
    },
    {
     "name": "stderr",
     "output_type": "stream",
     "text": [
      "\n",
      "  5%|███▊                                                                             | 17/360 [02:15<49:30,  8.66s/it]\u001b[A"
     ]
    },
    {
     "name": "stdout",
     "output_type": "stream",
     "text": [
      "{'activation': 'leakyrelu', 'batch_size': 32, 'dropout': 0.25, 'epochs': 1, 'first_neuron': 2048, 'hidden_layers': 0, 'label_type': 'Angular', 'loss_function': 'mean_squared_error', 'lr': 5, 'monitor_value': 'val_custom_mae', 'optimizer': <class 'tensorflow.python.keras.optimizer_v2.adam.Adam'>, 'reduction_metric': 'custom_mae', 'samples': 20000}\n",
      "Using Loss: mean_squared_error \n",
      "and Reduction Metric: [<function custom_mae at 0x000001C2C8E7DAF8>]\n",
      "Monitor: val_custom_mae\n",
      "Train on 16000 samples, validate on 4000 samples\n",
      "15808/16000 [============================>.] - ETA: 0s - loss: 4021.0093 - custom_mae: 39.3378\n",
      "Epoch 00001: val_custom_mae improved from inf to 28.67242, saving model to ..\\fast_output\\SYNTH_Regression_MSE\\201019_2253_final_Angular_Base_Custom-MAE\\Best_Weights_FC_17.hdf5\n",
      "16000/16000 [==============================] - 7s 420us/sample - loss: 4001.9670 - custom_mae: 39.2123 - val_loss: 2567.7426 - val_custom_mae: 28.6724\n",
      "Time taken: 0:00:08.163371\n"
     ]
    },
    {
     "name": "stderr",
     "output_type": "stream",
     "text": [
      "\n",
      "  5%|████                                                                             | 18/360 [02:25<50:51,  8.92s/it]\u001b[A"
     ]
    },
    {
     "name": "stdout",
     "output_type": "stream",
     "text": [
      "{'activation': 'leakyrelu', 'batch_size': 32, 'dropout': 0.25, 'epochs': 1, 'first_neuron': 2048, 'hidden_layers': 1, 'label_type': 'Angular', 'loss_function': 'mean_squared_error', 'lr': 1, 'monitor_value': 'val_custom_mae', 'optimizer': <class 'tensorflow.python.keras.optimizer_v2.adam.Adam'>, 'reduction_metric': 'custom_mae', 'samples': 20000}\n",
      "Using Loss: mean_squared_error \n",
      "and Reduction Metric: [<function custom_mae at 0x000001C2C8E7DAF8>]\n",
      "Monitor: val_custom_mae\n",
      "Train on 16000 samples, validate on 4000 samples\n",
      "15936/16000 [============================>.] - ETA: 0s - loss: 3875.5902 - custom_mae: 39.8376\n",
      "Epoch 00001: val_custom_mae improved from inf to 29.32236, saving model to ..\\fast_output\\SYNTH_Regression_MSE\\201019_2253_final_Angular_Base_Custom-MAE\\Best_Weights_FC_18.hdf5\n",
      "16000/16000 [==============================] - 7s 439us/sample - loss: 3871.7967 - custom_mae: 39.7972 - val_loss: 2617.5951 - val_custom_mae: 29.3224\n",
      "Time taken: 0:00:08.463033\n"
     ]
    },
    {
     "name": "stderr",
     "output_type": "stream",
     "text": [
      "\n",
      "  5%|████▎                                                                            | 19/360 [02:35<52:19,  9.21s/it]\u001b[A"
     ]
    },
    {
     "name": "stdout",
     "output_type": "stream",
     "text": [
      "{'activation': 'leakyrelu', 'batch_size': 32, 'dropout': 0.25, 'epochs': 1, 'first_neuron': 2048, 'hidden_layers': 1, 'label_type': 'Angular', 'loss_function': 'mean_squared_error', 'lr': 2, 'monitor_value': 'val_custom_mae', 'optimizer': <class 'tensorflow.python.keras.optimizer_v2.adam.Adam'>, 'reduction_metric': 'custom_mae', 'samples': 20000}\n",
      "Using Loss: mean_squared_error \n",
      "and Reduction Metric: [<function custom_mae at 0x000001C2C8E7DAF8>]\n",
      "Monitor: val_custom_mae\n",
      "Train on 16000 samples, validate on 4000 samples\n",
      "15904/16000 [============================>.] - ETA: 0s - loss: 3930.4237 - custom_mae: 40.6600\n",
      "Epoch 00001: val_custom_mae improved from inf to 29.33784, saving model to ..\\fast_output\\SYNTH_Regression_MSE\\201019_2253_final_Angular_Base_Custom-MAE\\Best_Weights_FC_19.hdf5\n",
      "16000/16000 [==============================] - 7s 433us/sample - loss: 3924.5057 - custom_mae: 40.6030 - val_loss: 2581.9980 - val_custom_mae: 29.3378\n",
      "Time taken: 0:00:08.371187\n"
     ]
    },
    {
     "name": "stderr",
     "output_type": "stream",
     "text": [
      "\n",
      "  6%|████▌                                                                            | 20/360 [02:45<53:09,  9.38s/it]\u001b[A"
     ]
    },
    {
     "name": "stdout",
     "output_type": "stream",
     "text": [
      "{'activation': 'leakyrelu', 'batch_size': 32, 'dropout': 0.25, 'epochs': 1, 'first_neuron': 2048, 'hidden_layers': 1, 'label_type': 'Angular', 'loss_function': 'mean_squared_error', 'lr': 5, 'monitor_value': 'val_custom_mae', 'optimizer': <class 'tensorflow.python.keras.optimizer_v2.adam.Adam'>, 'reduction_metric': 'custom_mae', 'samples': 20000}\n",
      "Using Loss: mean_squared_error \n",
      "and Reduction Metric: [<function custom_mae at 0x000001C2C8E7DAF8>]\n",
      "Monitor: val_custom_mae\n",
      "Train on 16000 samples, validate on 4000 samples\n",
      "15968/16000 [============================>.] - ETA: 0s - loss: 8479.7509 - custom_mae: 49.2282\n",
      "Epoch 00001: val_custom_mae improved from inf to 32.13346, saving model to ..\\fast_output\\SYNTH_Regression_MSE\\201019_2253_final_Angular_Base_Custom-MAE\\Best_Weights_FC_20.hdf5\n",
      "16000/16000 [==============================] - 7s 438us/sample - loss: 8470.0717 - custom_mae: 49.1975 - val_loss: 2859.7439 - val_custom_mae: 32.1335\n",
      "Time taken: 0:00:08.455860\n"
     ]
    },
    {
     "name": "stderr",
     "output_type": "stream",
     "text": [
      "\n",
      "  6%|████▋                                                                            | 21/360 [02:54<53:48,  9.52s/it]\u001b[A"
     ]
    },
    {
     "name": "stdout",
     "output_type": "stream",
     "text": [
      "{'activation': 'leakyrelu', 'batch_size': 32, 'dropout': 0.25, 'epochs': 1, 'first_neuron': 2048, 'hidden_layers': 2, 'label_type': 'Angular', 'loss_function': 'mean_squared_error', 'lr': 1, 'monitor_value': 'val_custom_mae', 'optimizer': <class 'tensorflow.python.keras.optimizer_v2.adam.Adam'>, 'reduction_metric': 'custom_mae', 'samples': 20000}\n",
      "Using Loss: mean_squared_error \n",
      "and Reduction Metric: [<function custom_mae at 0x000001C2C8E7DAF8>]\n",
      "Monitor: val_custom_mae\n",
      "Train on 16000 samples, validate on 4000 samples\n",
      "15808/16000 [============================>.] - ETA: 0s - loss: 4025.0789 - custom_mae: 41.6496\n",
      "Epoch 00001: val_custom_mae improved from inf to 30.62870, saving model to ..\\fast_output\\SYNTH_Regression_MSE\\201019_2253_final_Angular_Base_Custom-MAE\\Best_Weights_FC_21.hdf5\n",
      "16000/16000 [==============================] - 7s 445us/sample - loss: 4006.8293 - custom_mae: 41.5126 - val_loss: 2587.9547 - val_custom_mae: 30.6287\n",
      "Time taken: 0:00:08.569916\n"
     ]
    },
    {
     "name": "stderr",
     "output_type": "stream",
     "text": [
      "\n",
      "  6%|████▉                                                                            | 22/360 [03:04<54:28,  9.67s/it]\u001b[A"
     ]
    },
    {
     "name": "stdout",
     "output_type": "stream",
     "text": [
      "{'activation': 'leakyrelu', 'batch_size': 32, 'dropout': 0.25, 'epochs': 1, 'first_neuron': 2048, 'hidden_layers': 2, 'label_type': 'Angular', 'loss_function': 'mean_squared_error', 'lr': 2, 'monitor_value': 'val_custom_mae', 'optimizer': <class 'tensorflow.python.keras.optimizer_v2.adam.Adam'>, 'reduction_metric': 'custom_mae', 'samples': 20000}\n",
      "Using Loss: mean_squared_error \n",
      "and Reduction Metric: [<function custom_mae at 0x000001C2C8E7DAF8>]\n",
      "Monitor: val_custom_mae\n",
      "Train on 16000 samples, validate on 4000 samples\n",
      "15840/16000 [============================>.] - ETA: 0s - loss: 4427.0916 - custom_mae: 44.0816\n",
      "Epoch 00001: val_custom_mae improved from inf to 30.77684, saving model to ..\\fast_output\\SYNTH_Regression_MSE\\201019_2253_final_Angular_Base_Custom-MAE\\Best_Weights_FC_22.hdf5\n",
      "16000/16000 [==============================] - 7s 447us/sample - loss: 4409.3332 - custom_mae: 43.9483 - val_loss: 2693.1108 - val_custom_mae: 30.7768\n",
      "Time taken: 0:00:08.586466\n"
     ]
    },
    {
     "name": "stderr",
     "output_type": "stream",
     "text": [
      "\n",
      "  6%|█████▏                                                                           | 23/360 [03:14<54:55,  9.78s/it]\u001b[A"
     ]
    },
    {
     "name": "stdout",
     "output_type": "stream",
     "text": [
      "{'activation': 'leakyrelu', 'batch_size': 32, 'dropout': 0.25, 'epochs': 1, 'first_neuron': 2048, 'hidden_layers': 2, 'label_type': 'Angular', 'loss_function': 'mean_squared_error', 'lr': 5, 'monitor_value': 'val_custom_mae', 'optimizer': <class 'tensorflow.python.keras.optimizer_v2.adam.Adam'>, 'reduction_metric': 'custom_mae', 'samples': 20000}\n",
      "Using Loss: mean_squared_error \n",
      "and Reduction Metric: [<function custom_mae at 0x000001C2C8E7DAF8>]\n",
      "Monitor: val_custom_mae\n",
      "Train on 16000 samples, validate on 4000 samples\n",
      "15904/16000 [============================>.] - ETA: 0s - loss: 12074.8901 - custom_mae: 52.1491\n",
      "Epoch 00001: val_custom_mae improved from inf to 33.22381, saving model to ..\\fast_output\\SYNTH_Regression_MSE\\201019_2253_final_Angular_Base_Custom-MAE\\Best_Weights_FC_23.hdf5\n",
      "16000/16000 [==============================] - 7s 448us/sample - loss: 12022.8205 - custom_mae: 52.0465 - val_loss: 2908.7042 - val_custom_mae: 33.2238\n",
      "Time taken: 0:00:08.604156\n"
     ]
    },
    {
     "name": "stderr",
     "output_type": "stream",
     "text": [
      "\n",
      "  7%|█████▍                                                                           | 24/360 [03:25<55:15,  9.87s/it]\u001b[A"
     ]
    },
    {
     "name": "stdout",
     "output_type": "stream",
     "text": [
      "{'activation': 'leakyrelu', 'batch_size': 32, 'dropout': 0.25, 'epochs': 1, 'first_neuron': 2048, 'hidden_layers': 3, 'label_type': 'Angular', 'loss_function': 'mean_squared_error', 'lr': 1, 'monitor_value': 'val_custom_mae', 'optimizer': <class 'tensorflow.python.keras.optimizer_v2.adam.Adam'>, 'reduction_metric': 'custom_mae', 'samples': 20000}\n",
      "Using Loss: mean_squared_error \n",
      "and Reduction Metric: [<function custom_mae at 0x000001C2C8E7DAF8>]\n",
      "Monitor: val_custom_mae\n",
      "Train on 16000 samples, validate on 4000 samples\n",
      "15808/16000 [============================>.] - ETA: 0s - loss: 4323.9061 - custom_mae: 43.9292\n",
      "Epoch 00001: val_custom_mae improved from inf to 29.32268, saving model to ..\\fast_output\\SYNTH_Regression_MSE\\201019_2253_final_Angular_Base_Custom-MAE\\Best_Weights_FC_24.hdf5\n",
      "16000/16000 [==============================] - 7s 453us/sample - loss: 4304.1284 - custom_mae: 43.7947 - val_loss: 2461.1379 - val_custom_mae: 29.3227\n",
      "Time taken: 0:00:08.751638\n"
     ]
    },
    {
     "name": "stderr",
     "output_type": "stream",
     "text": [
      "\n",
      "  7%|█████▋                                                                           | 25/360 [03:35<55:44,  9.98s/it]\u001b[A"
     ]
    },
    {
     "name": "stdout",
     "output_type": "stream",
     "text": [
      "{'activation': 'leakyrelu', 'batch_size': 32, 'dropout': 0.25, 'epochs': 1, 'first_neuron': 2048, 'hidden_layers': 3, 'label_type': 'Angular', 'loss_function': 'mean_squared_error', 'lr': 2, 'monitor_value': 'val_custom_mae', 'optimizer': <class 'tensorflow.python.keras.optimizer_v2.adam.Adam'>, 'reduction_metric': 'custom_mae', 'samples': 20000}\n",
      "Using Loss: mean_squared_error \n",
      "and Reduction Metric: [<function custom_mae at 0x000001C2C8E7DAF8>]\n",
      "Monitor: val_custom_mae\n",
      "Train on 16000 samples, validate on 4000 samples\n",
      "15904/16000 [============================>.] - ETA: 0s - loss: 4751.1370 - custom_mae: 45.6115\n",
      "Epoch 00001: val_custom_mae improved from inf to 31.52592, saving model to ..\\fast_output\\SYNTH_Regression_MSE\\201019_2253_final_Angular_Base_Custom-MAE\\Best_Weights_FC_25.hdf5\n",
      "16000/16000 [==============================] - 7s 451us/sample - loss: 4744.4607 - custom_mae: 45.5523 - val_loss: 2603.7518 - val_custom_mae: 31.5259\n",
      "Time taken: 0:00:08.666803\n"
     ]
    },
    {
     "name": "stderr",
     "output_type": "stream",
     "text": [
      "\n",
      "  7%|█████▊                                                                           | 26/360 [03:45<55:52, 10.04s/it]\u001b[A"
     ]
    },
    {
     "name": "stdout",
     "output_type": "stream",
     "text": [
      "{'activation': 'leakyrelu', 'batch_size': 32, 'dropout': 0.25, 'epochs': 1, 'first_neuron': 2048, 'hidden_layers': 3, 'label_type': 'Angular', 'loss_function': 'mean_squared_error', 'lr': 5, 'monitor_value': 'val_custom_mae', 'optimizer': <class 'tensorflow.python.keras.optimizer_v2.adam.Adam'>, 'reduction_metric': 'custom_mae', 'samples': 20000}\n",
      "Using Loss: mean_squared_error \n",
      "and Reduction Metric: [<function custom_mae at 0x000001C2C8E7DAF8>]\n",
      "Monitor: val_custom_mae\n",
      "Train on 16000 samples, validate on 4000 samples\n",
      "15808/16000 [============================>.] - ETA: 0s - loss: 6844.6069 - custom_mae: 53.7583\n",
      "Epoch 00001: val_custom_mae improved from inf to 42.01503, saving model to ..\\fast_output\\SYNTH_Regression_MSE\\201019_2253_final_Angular_Base_Custom-MAE\\Best_Weights_FC_26.hdf5\n",
      "16000/16000 [==============================] - 7s 454us/sample - loss: 6816.6719 - custom_mae: 53.6713 - val_loss: 3673.4214 - val_custom_mae: 42.0150\n",
      "Time taken: 0:00:08.723570\n"
     ]
    },
    {
     "name": "stderr",
     "output_type": "stream",
     "text": [
      "\n",
      "  8%|██████                                                                           | 27/360 [03:55<56:00, 10.09s/it]\u001b[A"
     ]
    },
    {
     "name": "stdout",
     "output_type": "stream",
     "text": [
      "{'activation': 'leakyrelu', 'batch_size': 32, 'dropout': 0.25, 'epochs': 1, 'first_neuron': 2048, 'hidden_layers': 4, 'label_type': 'Angular', 'loss_function': 'mean_squared_error', 'lr': 1, 'monitor_value': 'val_custom_mae', 'optimizer': <class 'tensorflow.python.keras.optimizer_v2.adam.Adam'>, 'reduction_metric': 'custom_mae', 'samples': 20000}\n",
      "Using Loss: mean_squared_error \n",
      "and Reduction Metric: [<function custom_mae at 0x000001C2C8E7DAF8>]\n",
      "Monitor: val_custom_mae\n",
      "Train on 16000 samples, validate on 4000 samples\n",
      "15808/16000 [============================>.] - ETA: 0s - loss: 4786.0554 - custom_mae: 47.5815\n",
      "Epoch 00001: val_custom_mae improved from inf to 33.28288, saving model to ..\\fast_output\\SYNTH_Regression_MSE\\201019_2253_final_Angular_Base_Custom-MAE\\Best_Weights_FC_27.hdf5\n",
      "16000/16000 [==============================] - 7s 459us/sample - loss: 4766.5970 - custom_mae: 47.4347 - val_loss: 2737.1405 - val_custom_mae: 33.2829\n",
      "Time taken: 0:00:08.802009\n"
     ]
    },
    {
     "name": "stderr",
     "output_type": "stream",
     "text": [
      "\n",
      "  8%|██████▎                                                                          | 28/360 [04:05<56:11, 10.16s/it]\u001b[A"
     ]
    },
    {
     "name": "stdout",
     "output_type": "stream",
     "text": [
      "{'activation': 'leakyrelu', 'batch_size': 32, 'dropout': 0.25, 'epochs': 1, 'first_neuron': 2048, 'hidden_layers': 4, 'label_type': 'Angular', 'loss_function': 'mean_squared_error', 'lr': 2, 'monitor_value': 'val_custom_mae', 'optimizer': <class 'tensorflow.python.keras.optimizer_v2.adam.Adam'>, 'reduction_metric': 'custom_mae', 'samples': 20000}\n",
      "Using Loss: mean_squared_error \n",
      "and Reduction Metric: [<function custom_mae at 0x000001C2C8E7DAF8>]\n",
      "Monitor: val_custom_mae\n",
      "Train on 16000 samples, validate on 4000 samples\n",
      "15968/16000 [============================>.] - ETA: 0s - loss: 5362.5599 - custom_mae: 50.0951\n",
      "Epoch 00001: val_custom_mae improved from inf to 34.18283, saving model to ..\\fast_output\\SYNTH_Regression_MSE\\201019_2253_final_Angular_Base_Custom-MAE\\Best_Weights_FC_28.hdf5\n",
      "16000/16000 [==============================] - 7s 459us/sample - loss: 5361.6314 - custom_mae: 50.0871 - val_loss: 2859.3862 - val_custom_mae: 34.1828\n",
      "Time taken: 0:00:08.778422\n"
     ]
    },
    {
     "name": "stderr",
     "output_type": "stream",
     "text": [
      "\n",
      "  8%|██████▌                                                                          | 29/360 [04:16<56:15, 10.20s/it]\u001b[A"
     ]
    },
    {
     "name": "stdout",
     "output_type": "stream",
     "text": [
      "{'activation': 'leakyrelu', 'batch_size': 32, 'dropout': 0.25, 'epochs': 1, 'first_neuron': 2048, 'hidden_layers': 4, 'label_type': 'Angular', 'loss_function': 'mean_squared_error', 'lr': 5, 'monitor_value': 'val_custom_mae', 'optimizer': <class 'tensorflow.python.keras.optimizer_v2.adam.Adam'>, 'reduction_metric': 'custom_mae', 'samples': 20000}\n",
      "Using Loss: mean_squared_error \n",
      "and Reduction Metric: [<function custom_mae at 0x000001C2C8E7DAF8>]\n",
      "Monitor: val_custom_mae\n",
      "Train on 16000 samples, validate on 4000 samples\n",
      "15872/16000 [============================>.] - ETA: 0s - loss: 6306.8644 - custom_mae: 56.1218\n",
      "Epoch 00001: val_custom_mae improved from inf to 41.14482, saving model to ..\\fast_output\\SYNTH_Regression_MSE\\201019_2253_final_Angular_Base_Custom-MAE\\Best_Weights_FC_29.hdf5\n",
      "16000/16000 [==============================] - 7s 457us/sample - loss: 6287.2218 - custom_mae: 56.0151 - val_loss: 3296.4200 - val_custom_mae: 41.1448\n",
      "Time taken: 0:00:08.737758\n"
     ]
    },
    {
     "name": "stderr",
     "output_type": "stream",
     "text": [
      "\n",
      "  8%|██████▊                                                                          | 30/360 [04:26<56:06, 10.20s/it]\u001b[A"
     ]
    },
    {
     "name": "stdout",
     "output_type": "stream",
     "text": [
      "{'activation': 'leakyrelu', 'batch_size': 32, 'dropout': 0.25, 'epochs': 1, 'first_neuron': 4096, 'hidden_layers': 0, 'label_type': 'Angular', 'loss_function': 'mean_squared_error', 'lr': 1, 'monitor_value': 'val_custom_mae', 'optimizer': <class 'tensorflow.python.keras.optimizer_v2.adam.Adam'>, 'reduction_metric': 'custom_mae', 'samples': 20000}\n",
      "Using Loss: mean_squared_error \n",
      "and Reduction Metric: [<function custom_mae at 0x000001C2C8E7DAF8>]\n",
      "Monitor: val_custom_mae\n",
      "Train on 16000 samples, validate on 4000 samples\n",
      "15872/16000 [============================>.] - ETA: 0s - loss: 3705.0089 - custom_mae: 38.3061\n",
      "Epoch 00001: val_custom_mae improved from inf to 30.98542, saving model to ..\\fast_output\\SYNTH_Regression_MSE\\201019_2253_final_Angular_Base_Custom-MAE\\Best_Weights_FC_30.hdf5\n",
      "16000/16000 [==============================] - 12s 719us/sample - loss: 3696.2096 - custom_mae: 38.2312 - val_loss: 2845.2264 - val_custom_mae: 30.9854\n",
      "Time taken: 0:00:12.911384\n"
     ]
    },
    {
     "name": "stderr",
     "output_type": "stream",
     "text": [
      "\n",
      "  9%|██████▊                                                                        | 31/360 [04:40<1:02:41, 11.43s/it]\u001b[A"
     ]
    },
    {
     "name": "stdout",
     "output_type": "stream",
     "text": [
      "{'activation': 'leakyrelu', 'batch_size': 32, 'dropout': 0.25, 'epochs': 1, 'first_neuron': 4096, 'hidden_layers': 0, 'label_type': 'Angular', 'loss_function': 'mean_squared_error', 'lr': 2, 'monitor_value': 'val_custom_mae', 'optimizer': <class 'tensorflow.python.keras.optimizer_v2.adam.Adam'>, 'reduction_metric': 'custom_mae', 'samples': 20000}\n",
      "Using Loss: mean_squared_error \n",
      "and Reduction Metric: [<function custom_mae at 0x000001C2C8E7DAF8>]\n",
      "Monitor: val_custom_mae\n",
      "Train on 16000 samples, validate on 4000 samples\n",
      "15904/16000 [============================>.] - ETA: 0s - loss: 3736.2368 - custom_mae: 37.9082\n",
      "Epoch 00001: val_custom_mae improved from inf to 30.40809, saving model to ..\\fast_output\\SYNTH_Regression_MSE\\201019_2253_final_Angular_Base_Custom-MAE\\Best_Weights_FC_31.hdf5\n",
      "16000/16000 [==============================] - 12s 727us/sample - loss: 3730.5043 - custom_mae: 37.8595 - val_loss: 2686.4853 - val_custom_mae: 30.4081\n",
      "Time taken: 0:00:13.078996\n"
     ]
    },
    {
     "name": "stderr",
     "output_type": "stream",
     "text": [
      "\n",
      "  9%|███████                                                                        | 32/360 [04:55<1:07:30, 12.35s/it]\u001b[A"
     ]
    },
    {
     "name": "stdout",
     "output_type": "stream",
     "text": [
      "{'activation': 'leakyrelu', 'batch_size': 32, 'dropout': 0.25, 'epochs': 1, 'first_neuron': 4096, 'hidden_layers': 0, 'label_type': 'Angular', 'loss_function': 'mean_squared_error', 'lr': 5, 'monitor_value': 'val_custom_mae', 'optimizer': <class 'tensorflow.python.keras.optimizer_v2.adam.Adam'>, 'reduction_metric': 'custom_mae', 'samples': 20000}\n",
      "Using Loss: mean_squared_error \n",
      "and Reduction Metric: [<function custom_mae at 0x000001C2C8E7DAF8>]\n",
      "Monitor: val_custom_mae\n",
      "Train on 16000 samples, validate on 4000 samples\n",
      "15872/16000 [============================>.] - ETA: 0s - loss: 4397.1086 - custom_mae: 40.8286\n",
      "Epoch 00001: val_custom_mae improved from inf to 28.44699, saving model to ..\\fast_output\\SYNTH_Regression_MSE\\201019_2253_final_Angular_Base_Custom-MAE\\Best_Weights_FC_32.hdf5\n",
      "16000/16000 [==============================] - 12s 723us/sample - loss: 4383.8264 - custom_mae: 40.7412 - val_loss: 2547.4752 - val_custom_mae: 28.4470\n",
      "Time taken: 0:00:13.007172\n"
     ]
    },
    {
     "name": "stderr",
     "output_type": "stream",
     "text": [
      "\n",
      "  9%|███████▏                                                                       | 33/360 [05:09<1:10:44, 12.98s/it]\u001b[A"
     ]
    },
    {
     "name": "stdout",
     "output_type": "stream",
     "text": [
      "{'activation': 'leakyrelu', 'batch_size': 32, 'dropout': 0.25, 'epochs': 1, 'first_neuron': 4096, 'hidden_layers': 1, 'label_type': 'Angular', 'loss_function': 'mean_squared_error', 'lr': 1, 'monitor_value': 'val_custom_mae', 'optimizer': <class 'tensorflow.python.keras.optimizer_v2.adam.Adam'>, 'reduction_metric': 'custom_mae', 'samples': 20000}\n",
      "Using Loss: mean_squared_error \n",
      "and Reduction Metric: [<function custom_mae at 0x000001C2C8E7DAF8>]\n",
      "Monitor: val_custom_mae\n",
      "Train on 16000 samples, validate on 4000 samples\n",
      "15904/16000 [============================>.] - ETA: 0s - loss: 3850.4395 - custom_mae: 39.6798\n",
      "Epoch 00001: val_custom_mae improved from inf to 29.95247, saving model to ..\\fast_output\\SYNTH_Regression_MSE\\201019_2253_final_Angular_Base_Custom-MAE\\Best_Weights_FC_33.hdf5\n",
      "16000/16000 [==============================] - 13s 782us/sample - loss: 3844.7822 - custom_mae: 39.6228 - val_loss: 2625.0688 - val_custom_mae: 29.9525\n",
      "Time taken: 0:00:14.002814\n"
     ]
    },
    {
     "name": "stderr",
     "output_type": "stream",
     "text": [
      "\n",
      "  9%|███████▍                                                                       | 34/360 [05:25<1:14:38, 13.74s/it]\u001b[A"
     ]
    },
    {
     "name": "stdout",
     "output_type": "stream",
     "text": [
      "{'activation': 'leakyrelu', 'batch_size': 32, 'dropout': 0.25, 'epochs': 1, 'first_neuron': 4096, 'hidden_layers': 1, 'label_type': 'Angular', 'loss_function': 'mean_squared_error', 'lr': 2, 'monitor_value': 'val_custom_mae', 'optimizer': <class 'tensorflow.python.keras.optimizer_v2.adam.Adam'>, 'reduction_metric': 'custom_mae', 'samples': 20000}\n",
      "Using Loss: mean_squared_error \n",
      "and Reduction Metric: [<function custom_mae at 0x000001C2C8E7DAF8>]\n",
      "Monitor: val_custom_mae\n",
      "Train on 16000 samples, validate on 4000 samples\n",
      "15904/16000 [============================>.] - ETA: 0s - loss: 4977.4987 - custom_mae: 44.1332\n",
      "Epoch 00001: val_custom_mae improved from inf to 29.90874, saving model to ..\\fast_output\\SYNTH_Regression_MSE\\201019_2253_final_Angular_Base_Custom-MAE\\Best_Weights_FC_34.hdf5\n",
      "16000/16000 [==============================] - 12s 777us/sample - loss: 4964.2551 - custom_mae: 44.0498 - val_loss: 2643.8360 - val_custom_mae: 29.9087\n",
      "Time taken: 0:00:13.917519\n"
     ]
    },
    {
     "name": "stderr",
     "output_type": "stream",
     "text": [
      "\n",
      " 10%|███████▋                                                                       | 35/360 [05:40<1:17:10, 14.25s/it]\u001b[A"
     ]
    },
    {
     "name": "stdout",
     "output_type": "stream",
     "text": [
      "{'activation': 'leakyrelu', 'batch_size': 32, 'dropout': 0.25, 'epochs': 1, 'first_neuron': 4096, 'hidden_layers': 1, 'label_type': 'Angular', 'loss_function': 'mean_squared_error', 'lr': 5, 'monitor_value': 'val_custom_mae', 'optimizer': <class 'tensorflow.python.keras.optimizer_v2.adam.Adam'>, 'reduction_metric': 'custom_mae', 'samples': 20000}\n",
      "Using Loss: mean_squared_error \n",
      "and Reduction Metric: [<function custom_mae at 0x000001C2C8E7DAF8>]\n",
      "Monitor: val_custom_mae\n",
      "Train on 16000 samples, validate on 4000 samples\n",
      "15872/16000 [============================>.] - ETA: 0s - loss: 35309.3986 - custom_mae: 66.1626\n",
      "Epoch 00001: val_custom_mae improved from inf to 35.28483, saving model to ..\\fast_output\\SYNTH_Regression_MSE\\201019_2253_final_Angular_Base_Custom-MAE\\Best_Weights_FC_35.hdf5\n",
      "16000/16000 [==============================] - 12s 773us/sample - loss: 35054.3851 - custom_mae: 65.9370 - val_loss: 2992.3562 - val_custom_mae: 35.2848\n",
      "Time taken: 0:00:13.830836\n"
     ]
    },
    {
     "name": "stderr",
     "output_type": "stream",
     "text": [
      "\n",
      " 10%|███████▉                                                                       | 36/360 [05:56<1:18:45, 14.58s/it]\u001b[A"
     ]
    },
    {
     "name": "stdout",
     "output_type": "stream",
     "text": [
      "{'activation': 'leakyrelu', 'batch_size': 32, 'dropout': 0.25, 'epochs': 1, 'first_neuron': 4096, 'hidden_layers': 2, 'label_type': 'Angular', 'loss_function': 'mean_squared_error', 'lr': 1, 'monitor_value': 'val_custom_mae', 'optimizer': <class 'tensorflow.python.keras.optimizer_v2.adam.Adam'>, 'reduction_metric': 'custom_mae', 'samples': 20000}\n",
      "Using Loss: mean_squared_error \n",
      "and Reduction Metric: [<function custom_mae at 0x000001C2C8E7DAF8>]\n",
      "Monitor: val_custom_mae\n",
      "Train on 16000 samples, validate on 4000 samples\n",
      "15904/16000 [============================>.] - ETA: 0s - loss: 4121.6566 - custom_mae: 41.7035\n",
      "Epoch 00001: val_custom_mae improved from inf to 29.29838, saving model to ..\\fast_output\\SYNTH_Regression_MSE\\201019_2253_final_Angular_Base_Custom-MAE\\Best_Weights_FC_36.hdf5\n",
      "16000/16000 [==============================] - 13s 798us/sample - loss: 4115.3956 - custom_mae: 41.6399 - val_loss: 2575.6039 - val_custom_mae: 29.2984\n",
      "Time taken: 0:00:14.262698\n"
     ]
    },
    {
     "name": "stderr",
     "output_type": "stream",
     "text": [
      "\n",
      " 10%|████████                                                                       | 37/360 [06:11<1:20:32, 14.96s/it]\u001b[A"
     ]
    },
    {
     "name": "stdout",
     "output_type": "stream",
     "text": [
      "{'activation': 'leakyrelu', 'batch_size': 32, 'dropout': 0.25, 'epochs': 1, 'first_neuron': 4096, 'hidden_layers': 2, 'label_type': 'Angular', 'loss_function': 'mean_squared_error', 'lr': 2, 'monitor_value': 'val_custom_mae', 'optimizer': <class 'tensorflow.python.keras.optimizer_v2.adam.Adam'>, 'reduction_metric': 'custom_mae', 'samples': 20000}\n",
      "Using Loss: mean_squared_error \n",
      "and Reduction Metric: [<function custom_mae at 0x000001C2C8E7DAF8>]\n",
      "Monitor: val_custom_mae\n",
      "Train on 16000 samples, validate on 4000 samples\n",
      "15904/16000 [============================>.] - ETA: 0s - loss: 5357.7635 - custom_mae: 44.6848\n",
      "Epoch 00001: val_custom_mae improved from inf to 29.00945, saving model to ..\\fast_output\\SYNTH_Regression_MSE\\201019_2253_final_Angular_Base_Custom-MAE\\Best_Weights_FC_37.hdf5\n",
      "16000/16000 [==============================] - 13s 796us/sample - loss: 5342.2559 - custom_mae: 44.5984 - val_loss: 2508.3856 - val_custom_mae: 29.0095\n",
      "Time taken: 0:00:14.226661\n"
     ]
    },
    {
     "name": "stderr",
     "output_type": "stream",
     "text": [
      "\n",
      " 11%|████████▎                                                                      | 38/360 [06:27<1:21:39, 15.22s/it]\u001b[A"
     ]
    },
    {
     "name": "stdout",
     "output_type": "stream",
     "text": [
      "{'activation': 'leakyrelu', 'batch_size': 32, 'dropout': 0.25, 'epochs': 1, 'first_neuron': 4096, 'hidden_layers': 2, 'label_type': 'Angular', 'loss_function': 'mean_squared_error', 'lr': 5, 'monitor_value': 'val_custom_mae', 'optimizer': <class 'tensorflow.python.keras.optimizer_v2.adam.Adam'>, 'reduction_metric': 'custom_mae', 'samples': 20000}\n",
      "Using Loss: mean_squared_error \n",
      "and Reduction Metric: [<function custom_mae at 0x000001C2C8E7DAF8>]\n",
      "Monitor: val_custom_mae\n",
      "Train on 16000 samples, validate on 4000 samples\n",
      "15904/16000 [============================>.] - ETA: 0s - loss: 577469.7946 - custom_mae: 113.1748\n",
      "Epoch 00001: val_custom_mae improved from inf to 44.22516, saving model to ..\\fast_output\\SYNTH_Regression_MSE\\201019_2253_final_Angular_Base_Custom-MAE\\Best_Weights_FC_38.hdf5\n",
      "16000/16000 [==============================] - 13s 801us/sample - loss: 574031.6954 - custom_mae: 112.7905 - val_loss: 4139.8807 - val_custom_mae: 44.2252\n",
      "Time taken: 0:00:14.301653\n"
     ]
    },
    {
     "name": "stderr",
     "output_type": "stream",
     "text": [
      "\n",
      " 11%|████████▌                                                                      | 39/360 [06:43<1:22:29, 15.42s/it]\u001b[A"
     ]
    },
    {
     "name": "stdout",
     "output_type": "stream",
     "text": [
      "{'activation': 'leakyrelu', 'batch_size': 32, 'dropout': 0.25, 'epochs': 1, 'first_neuron': 4096, 'hidden_layers': 3, 'label_type': 'Angular', 'loss_function': 'mean_squared_error', 'lr': 1, 'monitor_value': 'val_custom_mae', 'optimizer': <class 'tensorflow.python.keras.optimizer_v2.adam.Adam'>, 'reduction_metric': 'custom_mae', 'samples': 20000}\n",
      "Using Loss: mean_squared_error \n",
      "and Reduction Metric: [<function custom_mae at 0x000001C2C8E7DAF8>]\n",
      "Monitor: val_custom_mae\n",
      "Train on 16000 samples, validate on 4000 samples\n",
      "15872/16000 [============================>.] - ETA: 0s - loss: 4504.5390 - custom_mae: 44.4213\n",
      "Epoch 00001: val_custom_mae improved from inf to 31.20090, saving model to ..\\fast_output\\SYNTH_Regression_MSE\\201019_2253_final_Angular_Base_Custom-MAE\\Best_Weights_FC_39.hdf5\n",
      "16000/16000 [==============================] - 13s 802us/sample - loss: 4491.7551 - custom_mae: 44.3285 - val_loss: 2624.0437 - val_custom_mae: 31.2009\n",
      "Time taken: 0:00:14.312214\n"
     ]
    },
    {
     "name": "stderr",
     "output_type": "stream",
     "text": [
      "\n",
      " 11%|████████▊                                                                      | 40/360 [06:59<1:23:03, 15.57s/it]\u001b[A"
     ]
    },
    {
     "name": "stdout",
     "output_type": "stream",
     "text": [
      "{'activation': 'leakyrelu', 'batch_size': 32, 'dropout': 0.25, 'epochs': 1, 'first_neuron': 4096, 'hidden_layers': 3, 'label_type': 'Angular', 'loss_function': 'mean_squared_error', 'lr': 2, 'monitor_value': 'val_custom_mae', 'optimizer': <class 'tensorflow.python.keras.optimizer_v2.adam.Adam'>, 'reduction_metric': 'custom_mae', 'samples': 20000}\n",
      "Using Loss: mean_squared_error \n",
      "and Reduction Metric: [<function custom_mae at 0x000001C2C8E7DAF8>]\n",
      "Monitor: val_custom_mae\n",
      "Train on 16000 samples, validate on 4000 samples\n",
      "15968/16000 [============================>.] - ETA: 0s - loss: 5266.4377 - custom_mae: 46.1228\n",
      "Epoch 00001: val_custom_mae improved from inf to 33.42904, saving model to ..\\fast_output\\SYNTH_Regression_MSE\\201019_2253_final_Angular_Base_Custom-MAE\\Best_Weights_FC_40.hdf5\n",
      "16000/16000 [==============================] - 13s 807us/sample - loss: 5263.4974 - custom_mae: 46.0981 - val_loss: 2679.7516 - val_custom_mae: 33.4290\n",
      "Time taken: 0:00:14.400918\n"
     ]
    },
    {
     "name": "stderr",
     "output_type": "stream",
     "text": [
      "\n",
      " 11%|████████▉                                                                      | 41/360 [07:15<1:23:30, 15.71s/it]\u001b[A"
     ]
    },
    {
     "name": "stdout",
     "output_type": "stream",
     "text": [
      "{'activation': 'leakyrelu', 'batch_size': 32, 'dropout': 0.25, 'epochs': 1, 'first_neuron': 4096, 'hidden_layers': 3, 'label_type': 'Angular', 'loss_function': 'mean_squared_error', 'lr': 5, 'monitor_value': 'val_custom_mae', 'optimizer': <class 'tensorflow.python.keras.optimizer_v2.adam.Adam'>, 'reduction_metric': 'custom_mae', 'samples': 20000}\n",
      "Using Loss: mean_squared_error \n",
      "and Reduction Metric: [<function custom_mae at 0x000001C2C8E7DAF8>]\n",
      "Monitor: val_custom_mae\n",
      "Train on 16000 samples, validate on 4000 samples\n",
      "15904/16000 [============================>.] - ETA: 0s - loss: 480295.6102 - custom_mae: 171.4800\n",
      "Epoch 00001: val_custom_mae improved from inf to 56.67940, saving model to ..\\fast_output\\SYNTH_Regression_MSE\\201019_2253_final_Angular_Base_Custom-MAE\\Best_Weights_FC_41.hdf5\n",
      "16000/16000 [==============================] - 13s 809us/sample - loss: 477471.7076 - custom_mae: 170.8824 - val_loss: 5809.0874 - val_custom_mae: 56.6794\n",
      "Time taken: 0:00:14.405521\n"
     ]
    },
    {
     "name": "stderr",
     "output_type": "stream",
     "text": [
      "\n",
      " 12%|█████████▏                                                                     | 42/360 [07:31<1:23:44, 15.80s/it]\u001b[A"
     ]
    },
    {
     "name": "stdout",
     "output_type": "stream",
     "text": [
      "{'activation': 'leakyrelu', 'batch_size': 32, 'dropout': 0.25, 'epochs': 1, 'first_neuron': 4096, 'hidden_layers': 4, 'label_type': 'Angular', 'loss_function': 'mean_squared_error', 'lr': 1, 'monitor_value': 'val_custom_mae', 'optimizer': <class 'tensorflow.python.keras.optimizer_v2.adam.Adam'>, 'reduction_metric': 'custom_mae', 'samples': 20000}\n",
      "Using Loss: mean_squared_error \n",
      "and Reduction Metric: [<function custom_mae at 0x000001C2C8E7DAF8>]\n",
      "Monitor: val_custom_mae\n",
      "Train on 16000 samples, validate on 4000 samples\n",
      "15872/16000 [============================>.] - ETA: 0s - loss: 4761.5471 - custom_mae: 47.7338\n",
      "Epoch 00001: val_custom_mae improved from inf to 32.47886, saving model to ..\\fast_output\\SYNTH_Regression_MSE\\201019_2253_final_Angular_Base_Custom-MAE\\Best_Weights_FC_42.hdf5\n",
      "16000/16000 [==============================] - 13s 810us/sample - loss: 4745.5570 - custom_mae: 47.6189 - val_loss: 2683.8606 - val_custom_mae: 32.4789\n",
      "Time taken: 0:00:14.411123\n"
     ]
    },
    {
     "name": "stderr",
     "output_type": "stream",
     "text": [
      "\n",
      " 12%|█████████▍                                                                     | 43/360 [07:47<1:23:52, 15.88s/it]\u001b[A"
     ]
    },
    {
     "name": "stdout",
     "output_type": "stream",
     "text": [
      "{'activation': 'leakyrelu', 'batch_size': 32, 'dropout': 0.25, 'epochs': 1, 'first_neuron': 4096, 'hidden_layers': 4, 'label_type': 'Angular', 'loss_function': 'mean_squared_error', 'lr': 2, 'monitor_value': 'val_custom_mae', 'optimizer': <class 'tensorflow.python.keras.optimizer_v2.adam.Adam'>, 'reduction_metric': 'custom_mae', 'samples': 20000}\n",
      "Using Loss: mean_squared_error \n",
      "and Reduction Metric: [<function custom_mae at 0x000001C2C8E7DAF8>]\n",
      "Monitor: val_custom_mae\n",
      "Train on 16000 samples, validate on 4000 samples\n",
      "15904/16000 [============================>.] - ETA: 0s - loss: 6155.9956 - custom_mae: 51.1452\n",
      "Epoch 00001: val_custom_mae improved from inf to 35.93211, saving model to ..\\fast_output\\SYNTH_Regression_MSE\\201019_2253_final_Angular_Base_Custom-MAE\\Best_Weights_FC_43.hdf5\n",
      "16000/16000 [==============================] - 13s 812us/sample - loss: 6141.4424 - custom_mae: 51.0774 - val_loss: 2999.4715 - val_custom_mae: 35.9321\n",
      "Time taken: 0:00:14.482144\n"
     ]
    },
    {
     "name": "stderr",
     "output_type": "stream",
     "text": [
      "\n",
      " 12%|█████████▋                                                                     | 44/360 [08:03<1:24:01, 15.95s/it]\u001b[A"
     ]
    },
    {
     "name": "stdout",
     "output_type": "stream",
     "text": [
      "{'activation': 'leakyrelu', 'batch_size': 32, 'dropout': 0.25, 'epochs': 1, 'first_neuron': 4096, 'hidden_layers': 4, 'label_type': 'Angular', 'loss_function': 'mean_squared_error', 'lr': 5, 'monitor_value': 'val_custom_mae', 'optimizer': <class 'tensorflow.python.keras.optimizer_v2.adam.Adam'>, 'reduction_metric': 'custom_mae', 'samples': 20000}\n",
      "Using Loss: mean_squared_error \n",
      "and Reduction Metric: [<function custom_mae at 0x000001C2C8E7DAF8>]\n",
      "Monitor: val_custom_mae\n",
      "Train on 16000 samples, validate on 4000 samples\n",
      "15968/16000 [============================>.] - ETA: 0s - loss: 131040.4089 - custom_mae: 92.4737\n",
      "Epoch 00001: val_custom_mae improved from inf to 54.43892, saving model to ..\\fast_output\\SYNTH_Regression_MSE\\201019_2253_final_Angular_Base_Custom-MAE\\Best_Weights_FC_44.hdf5\n",
      "16000/16000 [==============================] - 13s 817us/sample - loss: 130790.6149 - custom_mae: 92.4019 - val_loss: 5360.7470 - val_custom_mae: 54.4389\n",
      "Time taken: 0:00:14.545421\n"
     ]
    },
    {
     "name": "stderr",
     "output_type": "stream",
     "text": [
      "\n",
      " 12%|█████████▉                                                                     | 45/360 [08:19<1:24:08, 16.03s/it]\u001b[A"
     ]
    },
    {
     "name": "stdout",
     "output_type": "stream",
     "text": [
      "{'activation': 'leakyrelu', 'batch_size': 32, 'dropout': 0.5, 'epochs': 1, 'first_neuron': 1024, 'hidden_layers': 0, 'label_type': 'Angular', 'loss_function': 'mean_squared_error', 'lr': 1, 'monitor_value': 'val_custom_mae', 'optimizer': <class 'tensorflow.python.keras.optimizer_v2.adam.Adam'>, 'reduction_metric': 'custom_mae', 'samples': 20000}\n",
      "Using Loss: mean_squared_error \n",
      "and Reduction Metric: [<function custom_mae at 0x000001C2C8E7DAF8>]\n",
      "Monitor: val_custom_mae\n",
      "Train on 16000 samples, validate on 4000 samples\n",
      "15712/16000 [============================>.] - ETA: 0s - loss: 4086.9297 - custom_mae: 41.5410\n",
      "Epoch 00001: val_custom_mae improved from inf to 33.38344, saving model to ..\\fast_output\\SYNTH_Regression_MSE\\201019_2253_final_Angular_Base_Custom-MAE\\Best_Weights_FC_45.hdf5\n",
      "16000/16000 [==============================] - 4s 272us/sample - loss: 4068.0597 - custom_mae: 41.3932 - val_loss: 3111.8447 - val_custom_mae: 33.3834\n",
      "Time taken: 0:00:05.824759\n"
     ]
    },
    {
     "name": "stderr",
     "output_type": "stream",
     "text": [
      "\n",
      " 13%|██████████                                                                     | 46/360 [08:27<1:10:19, 13.44s/it]\u001b[A"
     ]
    },
    {
     "name": "stdout",
     "output_type": "stream",
     "text": [
      "{'activation': 'leakyrelu', 'batch_size': 32, 'dropout': 0.5, 'epochs': 1, 'first_neuron': 1024, 'hidden_layers': 0, 'label_type': 'Angular', 'loss_function': 'mean_squared_error', 'lr': 2, 'monitor_value': 'val_custom_mae', 'optimizer': <class 'tensorflow.python.keras.optimizer_v2.adam.Adam'>, 'reduction_metric': 'custom_mae', 'samples': 20000}\n",
      "Using Loss: mean_squared_error \n",
      "and Reduction Metric: [<function custom_mae at 0x000001C2C8E7DAF8>]\n",
      "Monitor: val_custom_mae\n",
      "Train on 16000 samples, validate on 4000 samples\n",
      "15712/16000 [============================>.] - ETA: 0s - loss: 4018.2796 - custom_mae: 40.9260\n",
      "Epoch 00001: val_custom_mae improved from inf to 33.53440, saving model to ..\\fast_output\\SYNTH_Regression_MSE\\201019_2253_final_Angular_Base_Custom-MAE\\Best_Weights_FC_46.hdf5\n",
      "16000/16000 [==============================] - 4s 270us/sample - loss: 4002.6019 - custom_mae: 40.8035 - val_loss: 3129.7665 - val_custom_mae: 33.5344\n",
      "Time taken: 0:00:05.798633\n"
     ]
    },
    {
     "name": "stderr",
     "output_type": "stream",
     "text": [
      "\n",
      " 13%|██████████▎                                                                    | 47/360 [08:34<1:00:33, 11.61s/it]\u001b[A"
     ]
    },
    {
     "name": "stdout",
     "output_type": "stream",
     "text": [
      "{'activation': 'leakyrelu', 'batch_size': 32, 'dropout': 0.5, 'epochs': 1, 'first_neuron': 1024, 'hidden_layers': 0, 'label_type': 'Angular', 'loss_function': 'mean_squared_error', 'lr': 5, 'monitor_value': 'val_custom_mae', 'optimizer': <class 'tensorflow.python.keras.optimizer_v2.adam.Adam'>, 'reduction_metric': 'custom_mae', 'samples': 20000}\n",
      "Using Loss: mean_squared_error \n",
      "and Reduction Metric: [<function custom_mae at 0x000001C2C8E7DAF8>]\n",
      "Monitor: val_custom_mae\n",
      "Train on 16000 samples, validate on 4000 samples\n",
      "15968/16000 [============================>.] - ETA: 0s - loss: 4214.9555 - custom_mae: 42.1463\n",
      "Epoch 00001: val_custom_mae improved from inf to 35.25656, saving model to ..\\fast_output\\SYNTH_Regression_MSE\\201019_2253_final_Angular_Base_Custom-MAE\\Best_Weights_FC_47.hdf5\n",
      "16000/16000 [==============================] - 4s 271us/sample - loss: 4214.7648 - custom_mae: 42.1398 - val_loss: 3302.8788 - val_custom_mae: 35.2566\n",
      "Time taken: 0:00:05.825148\n"
     ]
    },
    {
     "name": "stderr",
     "output_type": "stream",
     "text": [
      "\n",
      " 13%|██████████▊                                                                      | 48/360 [08:42<53:44, 10.34s/it]\u001b[A"
     ]
    },
    {
     "name": "stdout",
     "output_type": "stream",
     "text": [
      "{'activation': 'leakyrelu', 'batch_size': 32, 'dropout': 0.5, 'epochs': 1, 'first_neuron': 1024, 'hidden_layers': 1, 'label_type': 'Angular', 'loss_function': 'mean_squared_error', 'lr': 1, 'monitor_value': 'val_custom_mae', 'optimizer': <class 'tensorflow.python.keras.optimizer_v2.adam.Adam'>, 'reduction_metric': 'custom_mae', 'samples': 20000}\n",
      "Using Loss: mean_squared_error \n",
      "and Reduction Metric: [<function custom_mae at 0x000001C2C8E7DAF8>]\n",
      "Monitor: val_custom_mae\n",
      "Train on 16000 samples, validate on 4000 samples\n",
      "15968/16000 [============================>.] - ETA: 0s - loss: 4457.2270 - custom_mae: 44.7611\n",
      "Epoch 00001: val_custom_mae improved from inf to 33.83501, saving model to ..\\fast_output\\SYNTH_Regression_MSE\\201019_2253_final_Angular_Base_Custom-MAE\\Best_Weights_FC_48.hdf5\n",
      "16000/16000 [==============================] - 5s 283us/sample - loss: 4454.6602 - custom_mae: 44.7359 - val_loss: 3044.7229 - val_custom_mae: 33.8350\n",
      "Time taken: 0:00:06.011375\n"
     ]
    },
    {
     "name": "stderr",
     "output_type": "stream",
     "text": [
      "\n",
      " 14%|███████████                                                                      | 49/360 [08:49<49:18,  9.51s/it]\u001b[A"
     ]
    },
    {
     "name": "stdout",
     "output_type": "stream",
     "text": [
      "{'activation': 'leakyrelu', 'batch_size': 32, 'dropout': 0.5, 'epochs': 1, 'first_neuron': 1024, 'hidden_layers': 1, 'label_type': 'Angular', 'loss_function': 'mean_squared_error', 'lr': 2, 'monitor_value': 'val_custom_mae', 'optimizer': <class 'tensorflow.python.keras.optimizer_v2.adam.Adam'>, 'reduction_metric': 'custom_mae', 'samples': 20000}\n",
      "Using Loss: mean_squared_error \n",
      "and Reduction Metric: [<function custom_mae at 0x000001C2C8E7DAF8>]\n",
      "Monitor: val_custom_mae\n",
      "Train on 16000 samples, validate on 4000 samples\n",
      "15872/16000 [============================>.] - ETA: 0s - loss: 4519.5052 - custom_mae: 44.9748\n",
      "Epoch 00001: val_custom_mae improved from inf to 35.54845, saving model to ..\\fast_output\\SYNTH_Regression_MSE\\201019_2253_final_Angular_Base_Custom-MAE\\Best_Weights_FC_49.hdf5\n",
      "16000/16000 [==============================] - 5s 284us/sample - loss: 4510.4157 - custom_mae: 44.9113 - val_loss: 3141.6469 - val_custom_mae: 35.5485\n",
      "Time taken: 0:00:06.040378\n"
     ]
    },
    {
     "name": "stderr",
     "output_type": "stream",
     "text": [
      "\n",
      " 14%|███████████▎                                                                     | 50/360 [08:57<46:13,  8.95s/it]\u001b[A"
     ]
    },
    {
     "name": "stdout",
     "output_type": "stream",
     "text": [
      "{'activation': 'leakyrelu', 'batch_size': 32, 'dropout': 0.5, 'epochs': 1, 'first_neuron': 1024, 'hidden_layers': 1, 'label_type': 'Angular', 'loss_function': 'mean_squared_error', 'lr': 5, 'monitor_value': 'val_custom_mae', 'optimizer': <class 'tensorflow.python.keras.optimizer_v2.adam.Adam'>, 'reduction_metric': 'custom_mae', 'samples': 20000}\n",
      "Using Loss: mean_squared_error \n",
      "and Reduction Metric: [<function custom_mae at 0x000001C2C8E7DAF8>]\n",
      "Monitor: val_custom_mae\n",
      "Train on 16000 samples, validate on 4000 samples\n",
      "15680/16000 [============================>.] - ETA: 0s - loss: 5053.6823 - custom_mae: 46.7699\n",
      "Epoch 00001: val_custom_mae improved from inf to 37.19419, saving model to ..\\fast_output\\SYNTH_Regression_MSE\\201019_2253_final_Angular_Base_Custom-MAE\\Best_Weights_FC_50.hdf5\n",
      "16000/16000 [==============================] - 5s 285us/sample - loss: 5019.6434 - custom_mae: 46.5762 - val_loss: 3465.3419 - val_custom_mae: 37.1942\n",
      "Time taken: 0:00:06.061666\n"
     ]
    },
    {
     "name": "stderr",
     "output_type": "stream",
     "text": [
      "\n",
      " 14%|███████████▍                                                                     | 51/360 [09:04<44:05,  8.56s/it]\u001b[A"
     ]
    },
    {
     "name": "stdout",
     "output_type": "stream",
     "text": [
      "{'activation': 'leakyrelu', 'batch_size': 32, 'dropout': 0.5, 'epochs': 1, 'first_neuron': 1024, 'hidden_layers': 2, 'label_type': 'Angular', 'loss_function': 'mean_squared_error', 'lr': 1, 'monitor_value': 'val_custom_mae', 'optimizer': <class 'tensorflow.python.keras.optimizer_v2.adam.Adam'>, 'reduction_metric': 'custom_mae', 'samples': 20000}\n",
      "Using Loss: mean_squared_error \n",
      "and Reduction Metric: [<function custom_mae at 0x000001C2C8E7DAF8>]\n",
      "Monitor: val_custom_mae\n",
      "Train on 16000 samples, validate on 4000 samples\n",
      "15776/16000 [============================>.] - ETA: 0s - loss: 5023.0816 - custom_mae: 49.4059\n",
      "Epoch 00001: val_custom_mae improved from inf to 36.67305, saving model to ..\\fast_output\\SYNTH_Regression_MSE\\201019_2253_final_Angular_Base_Custom-MAE\\Best_Weights_FC_51.hdf5\n",
      "16000/16000 [==============================] - 5s 294us/sample - loss: 5011.8010 - custom_mae: 49.3054 - val_loss: 3297.5890 - val_custom_mae: 36.6731\n",
      "Time taken: 0:00:06.252050\n"
     ]
    },
    {
     "name": "stderr",
     "output_type": "stream",
     "text": [
      "\n",
      " 14%|███████████▋                                                                     | 52/360 [09:12<42:53,  8.36s/it]\u001b[A"
     ]
    },
    {
     "name": "stdout",
     "output_type": "stream",
     "text": [
      "{'activation': 'leakyrelu', 'batch_size': 32, 'dropout': 0.5, 'epochs': 1, 'first_neuron': 1024, 'hidden_layers': 2, 'label_type': 'Angular', 'loss_function': 'mean_squared_error', 'lr': 2, 'monitor_value': 'val_custom_mae', 'optimizer': <class 'tensorflow.python.keras.optimizer_v2.adam.Adam'>, 'reduction_metric': 'custom_mae', 'samples': 20000}\n",
      "Using Loss: mean_squared_error \n",
      "and Reduction Metric: [<function custom_mae at 0x000001C2C8E7DAF8>]\n",
      "Monitor: val_custom_mae\n",
      "Train on 16000 samples, validate on 4000 samples\n",
      "15680/16000 [============================>.] - ETA: 0s - loss: 5124.0017 - custom_mae: 49.8190\n",
      "Epoch 00001: val_custom_mae improved from inf to 36.48515, saving model to ..\\fast_output\\SYNTH_Regression_MSE\\201019_2253_final_Angular_Base_Custom-MAE\\Best_Weights_FC_52.hdf5\n",
      "16000/16000 [==============================] - 5s 287us/sample - loss: 5095.7854 - custom_mae: 49.6445 - val_loss: 3273.6989 - val_custom_mae: 36.4851\n",
      "Time taken: 0:00:06.082808\n"
     ]
    },
    {
     "name": "stderr",
     "output_type": "stream",
     "text": [
      "\n",
      " 15%|███████████▉                                                                     | 53/360 [09:20<41:41,  8.15s/it]\u001b[A"
     ]
    },
    {
     "name": "stdout",
     "output_type": "stream",
     "text": [
      "{'activation': 'leakyrelu', 'batch_size': 32, 'dropout': 0.5, 'epochs': 1, 'first_neuron': 1024, 'hidden_layers': 2, 'label_type': 'Angular', 'loss_function': 'mean_squared_error', 'lr': 5, 'monitor_value': 'val_custom_mae', 'optimizer': <class 'tensorflow.python.keras.optimizer_v2.adam.Adam'>, 'reduction_metric': 'custom_mae', 'samples': 20000}\n",
      "Using Loss: mean_squared_error \n",
      "and Reduction Metric: [<function custom_mae at 0x000001C2C8E7DAF8>]\n",
      "Monitor: val_custom_mae\n",
      "Train on 16000 samples, validate on 4000 samples\n",
      "15808/16000 [============================>.] - ETA: 0s - loss: 5689.9843 - custom_mae: 53.2671\n",
      "Epoch 00001: val_custom_mae improved from inf to 42.59561, saving model to ..\\fast_output\\SYNTH_Regression_MSE\\201019_2253_final_Angular_Base_Custom-MAE\\Best_Weights_FC_53.hdf5\n",
      "16000/16000 [==============================] - 5s 294us/sample - loss: 5678.8080 - custom_mae: 53.1973 - val_loss: 3838.5694 - val_custom_mae: 42.5956\n",
      "Time taken: 0:00:06.204488\n"
     ]
    },
    {
     "name": "stderr",
     "output_type": "stream",
     "text": [
      "\n",
      " 15%|████████████▏                                                                    | 54/360 [09:28<41:04,  8.05s/it]\u001b[A"
     ]
    },
    {
     "name": "stdout",
     "output_type": "stream",
     "text": [
      "{'activation': 'leakyrelu', 'batch_size': 32, 'dropout': 0.5, 'epochs': 1, 'first_neuron': 1024, 'hidden_layers': 3, 'label_type': 'Angular', 'loss_function': 'mean_squared_error', 'lr': 1, 'monitor_value': 'val_custom_mae', 'optimizer': <class 'tensorflow.python.keras.optimizer_v2.adam.Adam'>, 'reduction_metric': 'custom_mae', 'samples': 20000}\n",
      "Using Loss: mean_squared_error \n",
      "and Reduction Metric: [<function custom_mae at 0x000001C2C8E7DAF8>]\n",
      "Monitor: val_custom_mae\n",
      "Train on 16000 samples, validate on 4000 samples\n",
      "15808/16000 [============================>.] - ETA: 0s - loss: 5837.1244 - custom_mae: 55.0689\n",
      "Epoch 00001: val_custom_mae improved from inf to 49.54731, saving model to ..\\fast_output\\SYNTH_Regression_MSE\\201019_2253_final_Angular_Base_Custom-MAE\\Best_Weights_FC_54.hdf5\n",
      "16000/16000 [==============================] - 5s 296us/sample - loss: 5818.5018 - custom_mae: 54.9540 - val_loss: 4790.0853 - val_custom_mae: 49.5473\n",
      "Time taken: 0:00:06.228205\n"
     ]
    },
    {
     "name": "stderr",
     "output_type": "stream",
     "text": [
      "\n",
      " 15%|████████████▍                                                                    | 55/360 [09:36<40:38,  8.00s/it]\u001b[A"
     ]
    },
    {
     "name": "stdout",
     "output_type": "stream",
     "text": [
      "{'activation': 'leakyrelu', 'batch_size': 32, 'dropout': 0.5, 'epochs': 1, 'first_neuron': 1024, 'hidden_layers': 3, 'label_type': 'Angular', 'loss_function': 'mean_squared_error', 'lr': 2, 'monitor_value': 'val_custom_mae', 'optimizer': <class 'tensorflow.python.keras.optimizer_v2.adam.Adam'>, 'reduction_metric': 'custom_mae', 'samples': 20000}\n",
      "Using Loss: mean_squared_error \n",
      "and Reduction Metric: [<function custom_mae at 0x000001C2C8E7DAF8>]\n",
      "Monitor: val_custom_mae\n",
      "Train on 16000 samples, validate on 4000 samples\n",
      "15712/16000 [============================>.] - ETA: 0s - loss: 5998.1373 - custom_mae: 55.9062\n",
      "Epoch 00001: val_custom_mae improved from inf to 48.72608, saving model to ..\\fast_output\\SYNTH_Regression_MSE\\201019_2253_final_Angular_Base_Custom-MAE\\Best_Weights_FC_55.hdf5\n",
      "16000/16000 [==============================] - 5s 294us/sample - loss: 5974.1279 - custom_mae: 55.7912 - val_loss: 4438.5084 - val_custom_mae: 48.7261\n",
      "Time taken: 0:00:06.179037\n"
     ]
    },
    {
     "name": "stderr",
     "output_type": "stream",
     "text": [
      "\n",
      " 16%|████████████▌                                                                    | 56/360 [09:43<40:13,  7.94s/it]\u001b[A"
     ]
    },
    {
     "name": "stdout",
     "output_type": "stream",
     "text": [
      "{'activation': 'leakyrelu', 'batch_size': 32, 'dropout': 0.5, 'epochs': 1, 'first_neuron': 1024, 'hidden_layers': 3, 'label_type': 'Angular', 'loss_function': 'mean_squared_error', 'lr': 5, 'monitor_value': 'val_custom_mae', 'optimizer': <class 'tensorflow.python.keras.optimizer_v2.adam.Adam'>, 'reduction_metric': 'custom_mae', 'samples': 20000}\n",
      "Using Loss: mean_squared_error \n",
      "and Reduction Metric: [<function custom_mae at 0x000001C2C8E7DAF8>]\n",
      "Monitor: val_custom_mae\n",
      "Train on 16000 samples, validate on 4000 samples\n",
      "15840/16000 [============================>.] - ETA: 0s - loss: 6943.7816 - custom_mae: 60.2866\n",
      "Epoch 00001: val_custom_mae improved from inf to 48.04785, saving model to ..\\fast_output\\SYNTH_Regression_MSE\\201019_2253_final_Angular_Base_Custom-MAE\\Best_Weights_FC_56.hdf5\n",
      "16000/16000 [==============================] - 5s 291us/sample - loss: 6929.2596 - custom_mae: 60.2037 - val_loss: 4283.7785 - val_custom_mae: 48.0478\n",
      "Time taken: 0:00:06.095479\n"
     ]
    },
    {
     "name": "stderr",
     "output_type": "stream",
     "text": [
      "\n",
      " 16%|████████████▊                                                                    | 57/360 [09:51<39:44,  7.87s/it]\u001b[A"
     ]
    },
    {
     "name": "stdout",
     "output_type": "stream",
     "text": [
      "{'activation': 'leakyrelu', 'batch_size': 32, 'dropout': 0.5, 'epochs': 1, 'first_neuron': 1024, 'hidden_layers': 4, 'label_type': 'Angular', 'loss_function': 'mean_squared_error', 'lr': 1, 'monitor_value': 'val_custom_mae', 'optimizer': <class 'tensorflow.python.keras.optimizer_v2.adam.Adam'>, 'reduction_metric': 'custom_mae', 'samples': 20000}\n",
      "Using Loss: mean_squared_error \n",
      "and Reduction Metric: [<function custom_mae at 0x000001C2C8E7DAF8>]\n",
      "Monitor: val_custom_mae\n",
      "Train on 16000 samples, validate on 4000 samples\n",
      "15680/16000 [============================>.] - ETA: 0s - loss: 6967.4531 - custom_mae: 60.4595\n",
      "Epoch 00001: val_custom_mae improved from inf to 59.48133, saving model to ..\\fast_output\\SYNTH_Regression_MSE\\201019_2253_final_Angular_Base_Custom-MAE\\Best_Weights_FC_57.hdf5\n",
      "16000/16000 [==============================] - 5s 300us/sample - loss: 6934.4222 - custom_mae: 60.3044 - val_loss: 6775.2736 - val_custom_mae: 59.4813\n",
      "Time taken: 0:00:06.284900\n"
     ]
    },
    {
     "name": "stderr",
     "output_type": "stream",
     "text": [
      "\n",
      " 16%|█████████████                                                                    | 58/360 [09:59<39:45,  7.90s/it]\u001b[A"
     ]
    },
    {
     "name": "stdout",
     "output_type": "stream",
     "text": [
      "{'activation': 'leakyrelu', 'batch_size': 32, 'dropout': 0.5, 'epochs': 1, 'first_neuron': 1024, 'hidden_layers': 4, 'label_type': 'Angular', 'loss_function': 'mean_squared_error', 'lr': 2, 'monitor_value': 'val_custom_mae', 'optimizer': <class 'tensorflow.python.keras.optimizer_v2.adam.Adam'>, 'reduction_metric': 'custom_mae', 'samples': 20000}\n",
      "Using Loss: mean_squared_error \n",
      "and Reduction Metric: [<function custom_mae at 0x000001C2C8E7DAF8>]\n",
      "Monitor: val_custom_mae\n",
      "Train on 16000 samples, validate on 4000 samples\n",
      "15904/16000 [============================>.] - ETA: 0s - loss: 6987.8475 - custom_mae: 60.2102\n",
      "Epoch 00001: val_custom_mae improved from inf to 49.77683, saving model to ..\\fast_output\\SYNTH_Regression_MSE\\201019_2253_final_Angular_Base_Custom-MAE\\Best_Weights_FC_58.hdf5\n",
      "16000/16000 [==============================] - 5s 303us/sample - loss: 6975.3874 - custom_mae: 60.1598 - val_loss: 4615.2685 - val_custom_mae: 49.7768\n",
      "Time taken: 0:00:06.364876\n"
     ]
    },
    {
     "name": "stderr",
     "output_type": "stream",
     "text": [
      "\n",
      " 16%|█████████████▎                                                                   | 59/360 [10:07<39:51,  7.95s/it]\u001b[A"
     ]
    },
    {
     "name": "stdout",
     "output_type": "stream",
     "text": [
      "{'activation': 'leakyrelu', 'batch_size': 32, 'dropout': 0.5, 'epochs': 1, 'first_neuron': 1024, 'hidden_layers': 4, 'label_type': 'Angular', 'loss_function': 'mean_squared_error', 'lr': 5, 'monitor_value': 'val_custom_mae', 'optimizer': <class 'tensorflow.python.keras.optimizer_v2.adam.Adam'>, 'reduction_metric': 'custom_mae', 'samples': 20000}\n",
      "Using Loss: mean_squared_error \n",
      "and Reduction Metric: [<function custom_mae at 0x000001C2C8E7DAF8>]\n",
      "Monitor: val_custom_mae\n",
      "Train on 16000 samples, validate on 4000 samples\n",
      "15840/16000 [============================>.] - ETA: 0s - loss: 7499.1497 - custom_mae: 61.8937\n",
      "Epoch 00001: val_custom_mae improved from inf to 51.98125, saving model to ..\\fast_output\\SYNTH_Regression_MSE\\201019_2253_final_Angular_Base_Custom-MAE\\Best_Weights_FC_59.hdf5\n",
      "16000/16000 [==============================] - 5s 304us/sample - loss: 7484.6493 - custom_mae: 61.8191 - val_loss: 4987.8239 - val_custom_mae: 51.9812\n",
      "Time taken: 0:00:06.346658\n"
     ]
    },
    {
     "name": "stderr",
     "output_type": "stream",
     "text": [
      "\n",
      " 17%|█████████████▌                                                                   | 60/360 [10:15<39:52,  7.97s/it]\u001b[A"
     ]
    },
    {
     "name": "stdout",
     "output_type": "stream",
     "text": [
      "{'activation': 'leakyrelu', 'batch_size': 32, 'dropout': 0.5, 'epochs': 1, 'first_neuron': 2048, 'hidden_layers': 0, 'label_type': 'Angular', 'loss_function': 'mean_squared_error', 'lr': 1, 'monitor_value': 'val_custom_mae', 'optimizer': <class 'tensorflow.python.keras.optimizer_v2.adam.Adam'>, 'reduction_metric': 'custom_mae', 'samples': 20000}\n",
      "Using Loss: mean_squared_error \n",
      "and Reduction Metric: [<function custom_mae at 0x000001C2C8E7DAF8>]\n",
      "Monitor: val_custom_mae\n",
      "Train on 16000 samples, validate on 4000 samples\n",
      "15840/16000 [============================>.] - ETA: 0s - loss: 3983.0396 - custom_mae: 40.5156\n",
      "Epoch 00001: val_custom_mae improved from inf to 33.11941, saving model to ..\\fast_output\\SYNTH_Regression_MSE\\201019_2253_final_Angular_Base_Custom-MAE\\Best_Weights_FC_60.hdf5\n",
      "16000/16000 [==============================] - 7s 420us/sample - loss: 3971.9229 - custom_mae: 40.4258 - val_loss: 3074.5452 - val_custom_mae: 33.1194\n",
      "Time taken: 0:00:08.217876\n"
     ]
    },
    {
     "name": "stderr",
     "output_type": "stream",
     "text": [
      "\n",
      " 17%|█████████████▋                                                                   | 61/360 [10:25<42:28,  8.52s/it]\u001b[A"
     ]
    },
    {
     "name": "stdout",
     "output_type": "stream",
     "text": [
      "{'activation': 'leakyrelu', 'batch_size': 32, 'dropout': 0.5, 'epochs': 1, 'first_neuron': 2048, 'hidden_layers': 0, 'label_type': 'Angular', 'loss_function': 'mean_squared_error', 'lr': 2, 'monitor_value': 'val_custom_mae', 'optimizer': <class 'tensorflow.python.keras.optimizer_v2.adam.Adam'>, 'reduction_metric': 'custom_mae', 'samples': 20000}\n",
      "Using Loss: mean_squared_error \n",
      "and Reduction Metric: [<function custom_mae at 0x000001C2C8E7DAF8>]\n",
      "Monitor: val_custom_mae\n",
      "Train on 16000 samples, validate on 4000 samples\n",
      "15904/16000 [============================>.] - ETA: 0s - loss: 4025.6869 - custom_mae: 40.7645\n",
      "Epoch 00001: val_custom_mae improved from inf to 36.57350, saving model to ..\\fast_output\\SYNTH_Regression_MSE\\201019_2253_final_Angular_Base_Custom-MAE\\Best_Weights_FC_61.hdf5\n",
      "16000/16000 [==============================] - 7s 425us/sample - loss: 4020.6832 - custom_mae: 40.7215 - val_loss: 3474.7398 - val_custom_mae: 36.5735\n",
      "Time taken: 0:00:08.302291\n"
     ]
    },
    {
     "name": "stderr",
     "output_type": "stream",
     "text": [
      "\n",
      " 17%|█████████████▉                                                                   | 62/360 [10:35<44:20,  8.93s/it]\u001b[A"
     ]
    },
    {
     "name": "stdout",
     "output_type": "stream",
     "text": [
      "{'activation': 'leakyrelu', 'batch_size': 32, 'dropout': 0.5, 'epochs': 1, 'first_neuron': 2048, 'hidden_layers': 0, 'label_type': 'Angular', 'loss_function': 'mean_squared_error', 'lr': 5, 'monitor_value': 'val_custom_mae', 'optimizer': <class 'tensorflow.python.keras.optimizer_v2.adam.Adam'>, 'reduction_metric': 'custom_mae', 'samples': 20000}\n",
      "Using Loss: mean_squared_error \n",
      "and Reduction Metric: [<function custom_mae at 0x000001C2C8E7DAF8>]\n",
      "Monitor: val_custom_mae\n",
      "Train on 16000 samples, validate on 4000 samples\n",
      "15968/16000 [============================>.] - ETA: 0s - loss: 4406.0435 - custom_mae: 42.9098\n",
      "Epoch 00001: val_custom_mae improved from inf to 32.39521, saving model to ..\\fast_output\\SYNTH_Regression_MSE\\201019_2253_final_Angular_Base_Custom-MAE\\Best_Weights_FC_62.hdf5\n",
      "16000/16000 [==============================] - 7s 421us/sample - loss: 4404.0446 - custom_mae: 42.8916 - val_loss: 2965.1034 - val_custom_mae: 32.3952\n",
      "Time taken: 0:00:08.219847\n"
     ]
    },
    {
     "name": "stderr",
     "output_type": "stream",
     "text": [
      "\n",
      " 18%|██████████████▏                                                                  | 63/360 [10:45<45:27,  9.18s/it]\u001b[A"
     ]
    },
    {
     "name": "stdout",
     "output_type": "stream",
     "text": [
      "{'activation': 'leakyrelu', 'batch_size': 32, 'dropout': 0.5, 'epochs': 1, 'first_neuron': 2048, 'hidden_layers': 1, 'label_type': 'Angular', 'loss_function': 'mean_squared_error', 'lr': 1, 'monitor_value': 'val_custom_mae', 'optimizer': <class 'tensorflow.python.keras.optimizer_v2.adam.Adam'>, 'reduction_metric': 'custom_mae', 'samples': 20000}\n",
      "Using Loss: mean_squared_error \n",
      "and Reduction Metric: [<function custom_mae at 0x000001C2C8E7DAF8>]\n",
      "Monitor: val_custom_mae\n",
      "Train on 16000 samples, validate on 4000 samples\n",
      "15840/16000 [============================>.] - ETA: 0s - loss: 4373.8684 - custom_mae: 43.8662\n",
      "Epoch 00001: val_custom_mae improved from inf to 35.46663, saving model to ..\\fast_output\\SYNTH_Regression_MSE\\201019_2253_final_Angular_Base_Custom-MAE\\Best_Weights_FC_63.hdf5\n",
      "16000/16000 [==============================] - 7s 444us/sample - loss: 4363.9872 - custom_mae: 43.7990 - val_loss: 3338.1795 - val_custom_mae: 35.4666\n",
      "Time taken: 0:00:08.592772\n"
     ]
    },
    {
     "name": "stderr",
     "output_type": "stream",
     "text": [
      "\n",
      " 18%|██████████████▍                                                                  | 64/360 [10:55<46:47,  9.48s/it]\u001b[A"
     ]
    },
    {
     "name": "stdout",
     "output_type": "stream",
     "text": [
      "{'activation': 'leakyrelu', 'batch_size': 32, 'dropout': 0.5, 'epochs': 1, 'first_neuron': 2048, 'hidden_layers': 1, 'label_type': 'Angular', 'loss_function': 'mean_squared_error', 'lr': 2, 'monitor_value': 'val_custom_mae', 'optimizer': <class 'tensorflow.python.keras.optimizer_v2.adam.Adam'>, 'reduction_metric': 'custom_mae', 'samples': 20000}\n",
      "Using Loss: mean_squared_error \n",
      "and Reduction Metric: [<function custom_mae at 0x000001C2C8E7DAF8>]\n",
      "Monitor: val_custom_mae\n",
      "Train on 16000 samples, validate on 4000 samples\n",
      "15904/16000 [============================>.] - ETA: 0s - loss: 4494.6818 - custom_mae: 44.7603\n",
      "Epoch 00001: val_custom_mae improved from inf to 37.77930, saving model to ..\\fast_output\\SYNTH_Regression_MSE\\201019_2253_final_Angular_Base_Custom-MAE\\Best_Weights_FC_64.hdf5\n",
      "16000/16000 [==============================] - 7s 439us/sample - loss: 4488.5005 - custom_mae: 44.7084 - val_loss: 3564.8933 - val_custom_mae: 37.7793\n",
      "Time taken: 0:00:08.510401\n"
     ]
    },
    {
     "name": "stderr",
     "output_type": "stream",
     "text": [
      "\n",
      " 18%|██████████████▋                                                                  | 65/360 [11:05<47:34,  9.67s/it]\u001b[A"
     ]
    },
    {
     "name": "stdout",
     "output_type": "stream",
     "text": [
      "{'activation': 'leakyrelu', 'batch_size': 32, 'dropout': 0.5, 'epochs': 1, 'first_neuron': 2048, 'hidden_layers': 1, 'label_type': 'Angular', 'loss_function': 'mean_squared_error', 'lr': 5, 'monitor_value': 'val_custom_mae', 'optimizer': <class 'tensorflow.python.keras.optimizer_v2.adam.Adam'>, 'reduction_metric': 'custom_mae', 'samples': 20000}\n",
      "Using Loss: mean_squared_error \n",
      "and Reduction Metric: [<function custom_mae at 0x000001C2C8E7DAF8>]\n",
      "Monitor: val_custom_mae\n",
      "Train on 16000 samples, validate on 4000 samples\n",
      "15968/16000 [============================>.] - ETA: 0s - loss: 8831.4017 - custom_mae: 51.5513\n",
      "Epoch 00001: val_custom_mae improved from inf to 34.32538, saving model to ..\\fast_output\\SYNTH_Regression_MSE\\201019_2253_final_Angular_Base_Custom-MAE\\Best_Weights_FC_65.hdf5\n",
      "16000/16000 [==============================] - 7s 439us/sample - loss: 8820.2584 - custom_mae: 51.5203 - val_loss: 3115.1217 - val_custom_mae: 34.3254\n",
      "Time taken: 0:00:08.517543\n"
     ]
    },
    {
     "name": "stderr",
     "output_type": "stream",
     "text": [
      "\n",
      " 18%|██████████████▊                                                                  | 66/360 [11:15<48:03,  9.81s/it]\u001b[A"
     ]
    },
    {
     "name": "stdout",
     "output_type": "stream",
     "text": [
      "{'activation': 'leakyrelu', 'batch_size': 32, 'dropout': 0.5, 'epochs': 1, 'first_neuron': 2048, 'hidden_layers': 2, 'label_type': 'Angular', 'loss_function': 'mean_squared_error', 'lr': 1, 'monitor_value': 'val_custom_mae', 'optimizer': <class 'tensorflow.python.keras.optimizer_v2.adam.Adam'>, 'reduction_metric': 'custom_mae', 'samples': 20000}\n",
      "Using Loss: mean_squared_error \n",
      "and Reduction Metric: [<function custom_mae at 0x000001C2C8E7DAF8>]\n",
      "Monitor: val_custom_mae\n",
      "Train on 16000 samples, validate on 4000 samples\n",
      "15840/16000 [============================>.] - ETA: 0s - loss: 4816.6805 - custom_mae: 47.5821\n",
      "Epoch 00001: val_custom_mae improved from inf to 34.83101, saving model to ..\\fast_output\\SYNTH_Regression_MSE\\201019_2253_final_Angular_Base_Custom-MAE\\Best_Weights_FC_66.hdf5\n",
      "16000/16000 [==============================] - 7s 444us/sample - loss: 4804.5675 - custom_mae: 47.4778 - val_loss: 3119.8477 - val_custom_mae: 34.8310\n",
      "Time taken: 0:00:08.595316\n"
     ]
    },
    {
     "name": "stderr",
     "output_type": "stream",
     "text": [
      "\n",
      " 19%|███████████████                                                                  | 67/360 [11:25<48:27,  9.92s/it]\u001b[A"
     ]
    },
    {
     "name": "stdout",
     "output_type": "stream",
     "text": [
      "{'activation': 'leakyrelu', 'batch_size': 32, 'dropout': 0.5, 'epochs': 1, 'first_neuron': 2048, 'hidden_layers': 2, 'label_type': 'Angular', 'loss_function': 'mean_squared_error', 'lr': 2, 'monitor_value': 'val_custom_mae', 'optimizer': <class 'tensorflow.python.keras.optimizer_v2.adam.Adam'>, 'reduction_metric': 'custom_mae', 'samples': 20000}\n",
      "Using Loss: mean_squared_error \n",
      "and Reduction Metric: [<function custom_mae at 0x000001C2C8E7DAF8>]\n",
      "Monitor: val_custom_mae\n",
      "Train on 16000 samples, validate on 4000 samples\n",
      "15904/16000 [============================>.] - ETA: 0s - loss: 5053.4836 - custom_mae: 48.9567\n",
      "Epoch 00001: val_custom_mae improved from inf to 34.06906, saving model to ..\\fast_output\\SYNTH_Regression_MSE\\201019_2253_final_Angular_Base_Custom-MAE\\Best_Weights_FC_67.hdf5\n",
      "16000/16000 [==============================] - 7s 443us/sample - loss: 5045.5157 - custom_mae: 48.8965 - val_loss: 3025.5712 - val_custom_mae: 34.0691\n",
      "Time taken: 0:00:08.560146\n"
     ]
    },
    {
     "name": "stderr",
     "output_type": "stream",
     "text": [
      "\n",
      " 19%|███████████████▎                                                                 | 68/360 [11:35<48:39, 10.00s/it]\u001b[A"
     ]
    },
    {
     "name": "stdout",
     "output_type": "stream",
     "text": [
      "{'activation': 'leakyrelu', 'batch_size': 32, 'dropout': 0.5, 'epochs': 1, 'first_neuron': 2048, 'hidden_layers': 2, 'label_type': 'Angular', 'loss_function': 'mean_squared_error', 'lr': 5, 'monitor_value': 'val_custom_mae', 'optimizer': <class 'tensorflow.python.keras.optimizer_v2.adam.Adam'>, 'reduction_metric': 'custom_mae', 'samples': 20000}\n",
      "Using Loss: mean_squared_error \n",
      "and Reduction Metric: [<function custom_mae at 0x000001C2C8E7DAF8>]\n",
      "Monitor: val_custom_mae\n",
      "Train on 16000 samples, validate on 4000 samples\n",
      "15936/16000 [============================>.] - ETA: 0s - loss: 8964.7141 - custom_mae: 55.4233\n",
      "Epoch 00001: val_custom_mae improved from inf to 36.97640, saving model to ..\\fast_output\\SYNTH_Regression_MSE\\201019_2253_final_Angular_Base_Custom-MAE\\Best_Weights_FC_68.hdf5\n",
      "16000/16000 [==============================] - 7s 448us/sample - loss: 8946.0865 - custom_mae: 55.3698 - val_loss: 3239.5670 - val_custom_mae: 36.9764\n",
      "Time taken: 0:00:08.653515\n"
     ]
    },
    {
     "name": "stderr",
     "output_type": "stream",
     "text": [
      "\n",
      " 19%|███████████████▌                                                                 | 69/360 [11:46<48:52, 10.08s/it]\u001b[A"
     ]
    },
    {
     "name": "stdout",
     "output_type": "stream",
     "text": [
      "{'activation': 'leakyrelu', 'batch_size': 32, 'dropout': 0.5, 'epochs': 1, 'first_neuron': 2048, 'hidden_layers': 3, 'label_type': 'Angular', 'loss_function': 'mean_squared_error', 'lr': 1, 'monitor_value': 'val_custom_mae', 'optimizer': <class 'tensorflow.python.keras.optimizer_v2.adam.Adam'>, 'reduction_metric': 'custom_mae', 'samples': 20000}\n",
      "Using Loss: mean_squared_error \n",
      "and Reduction Metric: [<function custom_mae at 0x000001C2C8E7DAF8>]\n",
      "Monitor: val_custom_mae\n",
      "Train on 16000 samples, validate on 4000 samples\n",
      "15840/16000 [============================>.] - ETA: 0s - loss: 5417.6836 - custom_mae: 52.0964\n",
      "Epoch 00001: val_custom_mae improved from inf to 37.91259, saving model to ..\\fast_output\\SYNTH_Regression_MSE\\201019_2253_final_Angular_Base_Custom-MAE\\Best_Weights_FC_69.hdf5\n",
      "16000/16000 [==============================] - 7s 453us/sample - loss: 5400.4305 - custom_mae: 51.9838 - val_loss: 3315.3060 - val_custom_mae: 37.9126\n",
      "Time taken: 0:00:08.733567\n"
     ]
    },
    {
     "name": "stderr",
     "output_type": "stream",
     "text": [
      "\n",
      " 19%|███████████████▊                                                                 | 70/360 [11:56<49:07, 10.16s/it]\u001b[A"
     ]
    },
    {
     "name": "stdout",
     "output_type": "stream",
     "text": [
      "{'activation': 'leakyrelu', 'batch_size': 32, 'dropout': 0.5, 'epochs': 1, 'first_neuron': 2048, 'hidden_layers': 3, 'label_type': 'Angular', 'loss_function': 'mean_squared_error', 'lr': 2, 'monitor_value': 'val_custom_mae', 'optimizer': <class 'tensorflow.python.keras.optimizer_v2.adam.Adam'>, 'reduction_metric': 'custom_mae', 'samples': 20000}\n",
      "Using Loss: mean_squared_error \n",
      "and Reduction Metric: [<function custom_mae at 0x000001C2C8E7DAF8>]\n",
      "Monitor: val_custom_mae\n",
      "Train on 16000 samples, validate on 4000 samples\n",
      "15840/16000 [============================>.] - ETA: 0s - loss: 5675.0062 - custom_mae: 53.4181\n",
      "Epoch 00001: val_custom_mae improved from inf to 39.27350, saving model to ..\\fast_output\\SYNTH_Regression_MSE\\201019_2253_final_Angular_Base_Custom-MAE\\Best_Weights_FC_70.hdf5\n",
      "16000/16000 [==============================] - 7s 454us/sample - loss: 5658.3338 - custom_mae: 53.3223 - val_loss: 3465.7980 - val_custom_mae: 39.2735\n",
      "Time taken: 0:00:08.758946\n"
     ]
    },
    {
     "name": "stderr",
     "output_type": "stream",
     "text": [
      "\n",
      " 20%|███████████████▉                                                                 | 71/360 [12:07<49:18, 10.24s/it]\u001b[A"
     ]
    },
    {
     "name": "stdout",
     "output_type": "stream",
     "text": [
      "{'activation': 'leakyrelu', 'batch_size': 32, 'dropout': 0.5, 'epochs': 1, 'first_neuron': 2048, 'hidden_layers': 3, 'label_type': 'Angular', 'loss_function': 'mean_squared_error', 'lr': 5, 'monitor_value': 'val_custom_mae', 'optimizer': <class 'tensorflow.python.keras.optimizer_v2.adam.Adam'>, 'reduction_metric': 'custom_mae', 'samples': 20000}\n",
      "Using Loss: mean_squared_error \n",
      "and Reduction Metric: [<function custom_mae at 0x000001C2C8E7DAF8>]\n",
      "Monitor: val_custom_mae\n",
      "Train on 16000 samples, validate on 4000 samples\n",
      "15776/16000 [============================>.] - ETA: 0s - loss: 7536.1840 - custom_mae: 61.4653\n",
      "Epoch 00001: val_custom_mae improved from inf to 46.80256, saving model to ..\\fast_output\\SYNTH_Regression_MSE\\201019_2253_final_Angular_Base_Custom-MAE\\Best_Weights_FC_71.hdf5\n",
      "16000/16000 [==============================] - 7s 457us/sample - loss: 7504.9563 - custom_mae: 61.3233 - val_loss: 4224.8828 - val_custom_mae: 46.8026\n",
      "Time taken: 0:00:08.801171\n"
     ]
    },
    {
     "name": "stderr",
     "output_type": "stream",
     "text": [
      "\n",
      " 20%|████████████████▏                                                                | 72/360 [12:17<49:24, 10.29s/it]\u001b[A"
     ]
    },
    {
     "name": "stdout",
     "output_type": "stream",
     "text": [
      "{'activation': 'leakyrelu', 'batch_size': 32, 'dropout': 0.5, 'epochs': 1, 'first_neuron': 2048, 'hidden_layers': 4, 'label_type': 'Angular', 'loss_function': 'mean_squared_error', 'lr': 1, 'monitor_value': 'val_custom_mae', 'optimizer': <class 'tensorflow.python.keras.optimizer_v2.adam.Adam'>, 'reduction_metric': 'custom_mae', 'samples': 20000}\n",
      "Using Loss: mean_squared_error \n",
      "and Reduction Metric: [<function custom_mae at 0x000001C2C8E7DAF8>]\n",
      "Monitor: val_custom_mae\n",
      "Train on 16000 samples, validate on 4000 samples\n",
      "15968/16000 [============================>.] - ETA: 0s - loss: 6283.7039 - custom_mae: 57.2735\n",
      "Epoch 00001: val_custom_mae improved from inf to 52.29330, saving model to ..\\fast_output\\SYNTH_Regression_MSE\\201019_2253_final_Angular_Base_Custom-MAE\\Best_Weights_FC_72.hdf5\n",
      "16000/16000 [==============================] - 7s 464us/sample - loss: 6278.4416 - custom_mae: 57.2415 - val_loss: 5074.1867 - val_custom_mae: 52.2933\n",
      "Time taken: 0:00:08.913954\n"
     ]
    },
    {
     "name": "stderr",
     "output_type": "stream",
     "text": [
      "\n",
      " 20%|████████████████▍                                                                | 73/360 [12:28<49:38, 10.38s/it]\u001b[A"
     ]
    },
    {
     "name": "stdout",
     "output_type": "stream",
     "text": [
      "{'activation': 'leakyrelu', 'batch_size': 32, 'dropout': 0.5, 'epochs': 1, 'first_neuron': 2048, 'hidden_layers': 4, 'label_type': 'Angular', 'loss_function': 'mean_squared_error', 'lr': 2, 'monitor_value': 'val_custom_mae', 'optimizer': <class 'tensorflow.python.keras.optimizer_v2.adam.Adam'>, 'reduction_metric': 'custom_mae', 'samples': 20000}\n",
      "Using Loss: mean_squared_error \n",
      "and Reduction Metric: [<function custom_mae at 0x000001C2C8E7DAF8>]\n",
      "Monitor: val_custom_mae\n",
      "Train on 16000 samples, validate on 4000 samples\n",
      "15840/16000 [============================>.] - ETA: 0s - loss: 6593.6582 - custom_mae: 58.4976\n",
      "Epoch 00001: val_custom_mae improved from inf to 45.62709, saving model to ..\\fast_output\\SYNTH_Regression_MSE\\201019_2253_final_Angular_Base_Custom-MAE\\Best_Weights_FC_73.hdf5\n",
      "16000/16000 [==============================] - 7s 466us/sample - loss: 6573.7330 - custom_mae: 58.3918 - val_loss: 3952.6491 - val_custom_mae: 45.6271\n",
      "Time taken: 0:00:08.957045\n"
     ]
    },
    {
     "name": "stderr",
     "output_type": "stream",
     "text": [
      "\n",
      " 21%|████████████████▋                                                                | 74/360 [12:38<49:49, 10.45s/it]\u001b[A"
     ]
    },
    {
     "name": "stdout",
     "output_type": "stream",
     "text": [
      "{'activation': 'leakyrelu', 'batch_size': 32, 'dropout': 0.5, 'epochs': 1, 'first_neuron': 2048, 'hidden_layers': 4, 'label_type': 'Angular', 'loss_function': 'mean_squared_error', 'lr': 5, 'monitor_value': 'val_custom_mae', 'optimizer': <class 'tensorflow.python.keras.optimizer_v2.adam.Adam'>, 'reduction_metric': 'custom_mae', 'samples': 20000}\n",
      "Using Loss: mean_squared_error \n",
      "and Reduction Metric: [<function custom_mae at 0x000001C2C8E7DAF8>]\n",
      "Monitor: val_custom_mae\n",
      "Train on 16000 samples, validate on 4000 samples\n",
      "15904/16000 [============================>.] - ETA: 0s - loss: 14495.1464 - custom_mae: 80.3103\n",
      "Epoch 00001: val_custom_mae improved from inf to 54.04507, saving model to ..\\fast_output\\SYNTH_Regression_MSE\\201019_2253_final_Angular_Base_Custom-MAE\\Best_Weights_FC_74.hdf5\n",
      "16000/16000 [==============================] - 7s 457us/sample - loss: 14443.3264 - custom_mae: 80.1624 - val_loss: 5209.2560 - val_custom_mae: 54.0451\n",
      "Time taken: 0:00:08.800156\n"
     ]
    },
    {
     "name": "stderr",
     "output_type": "stream",
     "text": [
      "\n",
      " 21%|████████████████▉                                                                | 75/360 [12:49<49:40, 10.46s/it]\u001b[A"
     ]
    },
    {
     "name": "stdout",
     "output_type": "stream",
     "text": [
      "{'activation': 'leakyrelu', 'batch_size': 32, 'dropout': 0.5, 'epochs': 1, 'first_neuron': 4096, 'hidden_layers': 0, 'label_type': 'Angular', 'loss_function': 'mean_squared_error', 'lr': 1, 'monitor_value': 'val_custom_mae', 'optimizer': <class 'tensorflow.python.keras.optimizer_v2.adam.Adam'>, 'reduction_metric': 'custom_mae', 'samples': 20000}\n",
      "Using Loss: mean_squared_error \n",
      "and Reduction Metric: [<function custom_mae at 0x000001C2C8E7DAF8>]\n",
      "Monitor: val_custom_mae\n",
      "Train on 16000 samples, validate on 4000 samples\n",
      "15968/16000 [============================>.] - ETA: 0s - loss: 3975.6309 - custom_mae: 40.1447\n",
      "Epoch 00001: val_custom_mae improved from inf to 33.43350, saving model to ..\\fast_output\\SYNTH_Regression_MSE\\201019_2253_final_Angular_Base_Custom-MAE\\Best_Weights_FC_75.hdf5\n",
      "16000/16000 [==============================] - 12s 728us/sample - loss: 3974.7544 - custom_mae: 40.1301 - val_loss: 3121.1079 - val_custom_mae: 33.4335\n",
      "Time taken: 0:00:13.130964\n"
     ]
    },
    {
     "name": "stderr",
     "output_type": "stream",
     "text": [
      "\n",
      " 21%|█████████████████                                                                | 76/360 [13:03<55:33, 11.74s/it]\u001b[A"
     ]
    },
    {
     "name": "stdout",
     "output_type": "stream",
     "text": [
      "{'activation': 'leakyrelu', 'batch_size': 32, 'dropout': 0.5, 'epochs': 1, 'first_neuron': 4096, 'hidden_layers': 0, 'label_type': 'Angular', 'loss_function': 'mean_squared_error', 'lr': 2, 'monitor_value': 'val_custom_mae', 'optimizer': <class 'tensorflow.python.keras.optimizer_v2.adam.Adam'>, 'reduction_metric': 'custom_mae', 'samples': 20000}\n",
      "Using Loss: mean_squared_error \n",
      "and Reduction Metric: [<function custom_mae at 0x000001C2C8E7DAF8>]\n",
      "Monitor: val_custom_mae\n",
      "Train on 16000 samples, validate on 4000 samples\n",
      "15904/16000 [============================>.] - ETA: 0s - loss: 4078.3625 - custom_mae: 40.7715\n",
      "Epoch 00001: val_custom_mae improved from inf to 34.23861, saving model to ..\\fast_output\\SYNTH_Regression_MSE\\201019_2253_final_Angular_Base_Custom-MAE\\Best_Weights_FC_76.hdf5\n",
      "16000/16000 [==============================] - 12s 731us/sample - loss: 4073.2053 - custom_mae: 40.7353 - val_loss: 2997.3518 - val_custom_mae: 34.2386\n",
      "Time taken: 0:00:13.170554\n"
     ]
    },
    {
     "name": "stderr",
     "output_type": "stream",
     "text": [
      "\n",
      " 21%|█████████████████▎                                                               | 77/360 [13:18<59:36, 12.64s/it]\u001b[A"
     ]
    },
    {
     "name": "stdout",
     "output_type": "stream",
     "text": [
      "{'activation': 'leakyrelu', 'batch_size': 32, 'dropout': 0.5, 'epochs': 1, 'first_neuron': 4096, 'hidden_layers': 0, 'label_type': 'Angular', 'loss_function': 'mean_squared_error', 'lr': 5, 'monitor_value': 'val_custom_mae', 'optimizer': <class 'tensorflow.python.keras.optimizer_v2.adam.Adam'>, 'reduction_metric': 'custom_mae', 'samples': 20000}\n",
      "Using Loss: mean_squared_error \n",
      "and Reduction Metric: [<function custom_mae at 0x000001C2C8E7DAF8>]\n",
      "Monitor: val_custom_mae\n",
      "Train on 16000 samples, validate on 4000 samples\n",
      "15968/16000 [============================>.] - ETA: 0s - loss: 4820.0816 - custom_mae: 44.4406\n",
      "Epoch 00001: val_custom_mae improved from inf to 33.00496, saving model to ..\\fast_output\\SYNTH_Regression_MSE\\201019_2253_final_Angular_Base_Custom-MAE\\Best_Weights_FC_77.hdf5\n",
      "16000/16000 [==============================] - 12s 725us/sample - loss: 4818.1946 - custom_mae: 44.4255 - val_loss: 3031.6527 - val_custom_mae: 33.0050\n",
      "Time taken: 0:00:13.091059\n"
     ]
    },
    {
     "name": "stderr",
     "output_type": "stream",
     "text": [
      "\n",
      " 22%|█████████████████                                                              | 78/360 [13:33<1:02:15, 13.25s/it]\u001b[A"
     ]
    },
    {
     "name": "stdout",
     "output_type": "stream",
     "text": [
      "{'activation': 'leakyrelu', 'batch_size': 32, 'dropout': 0.5, 'epochs': 1, 'first_neuron': 4096, 'hidden_layers': 1, 'label_type': 'Angular', 'loss_function': 'mean_squared_error', 'lr': 1, 'monitor_value': 'val_custom_mae', 'optimizer': <class 'tensorflow.python.keras.optimizer_v2.adam.Adam'>, 'reduction_metric': 'custom_mae', 'samples': 20000}\n",
      "Using Loss: mean_squared_error \n",
      "and Reduction Metric: [<function custom_mae at 0x000001C2C8E7DAF8>]\n",
      "Monitor: val_custom_mae\n",
      "Train on 16000 samples, validate on 4000 samples\n",
      "15904/16000 [============================>.] - ETA: 0s - loss: 4342.2450 - custom_mae: 43.6632\n",
      "Epoch 00001: val_custom_mae improved from inf to 34.50963, saving model to ..\\fast_output\\SYNTH_Regression_MSE\\201019_2253_final_Angular_Base_Custom-MAE\\Best_Weights_FC_78.hdf5\n",
      "16000/16000 [==============================] - 12s 775us/sample - loss: 4337.3627 - custom_mae: 43.6187 - val_loss: 3202.7658 - val_custom_mae: 34.5096\n",
      "Time taken: 0:00:13.848669\n"
     ]
    },
    {
     "name": "stderr",
     "output_type": "stream",
     "text": [
      "\n",
      " 22%|█████████████████▎                                                             | 79/360 [13:48<1:05:06, 13.90s/it]\u001b[A"
     ]
    },
    {
     "name": "stdout",
     "output_type": "stream",
     "text": [
      "{'activation': 'leakyrelu', 'batch_size': 32, 'dropout': 0.5, 'epochs': 1, 'first_neuron': 4096, 'hidden_layers': 1, 'label_type': 'Angular', 'loss_function': 'mean_squared_error', 'lr': 2, 'monitor_value': 'val_custom_mae', 'optimizer': <class 'tensorflow.python.keras.optimizer_v2.adam.Adam'>, 'reduction_metric': 'custom_mae', 'samples': 20000}\n",
      "Using Loss: mean_squared_error \n",
      "and Reduction Metric: [<function custom_mae at 0x000001C2C8E7DAF8>]\n",
      "Monitor: val_custom_mae\n",
      "Train on 16000 samples, validate on 4000 samples\n",
      "15904/16000 [============================>.] - ETA: 0s - loss: 5240.5363 - custom_mae: 46.3802\n",
      "Epoch 00001: val_custom_mae improved from inf to 33.02302, saving model to ..\\fast_output\\SYNTH_Regression_MSE\\201019_2253_final_Angular_Base_Custom-MAE\\Best_Weights_FC_79.hdf5\n",
      "16000/16000 [==============================] - 12s 776us/sample - loss: 5227.7248 - custom_mae: 46.2961 - val_loss: 2998.5815 - val_custom_mae: 33.0230\n",
      "Time taken: 0:00:13.906884\n"
     ]
    },
    {
     "name": "stderr",
     "output_type": "stream",
     "text": [
      "\n",
      " 22%|█████████████████▌                                                             | 80/360 [14:04<1:07:07, 14.38s/it]\u001b[A"
     ]
    },
    {
     "name": "stdout",
     "output_type": "stream",
     "text": [
      "{'activation': 'leakyrelu', 'batch_size': 32, 'dropout': 0.5, 'epochs': 1, 'first_neuron': 4096, 'hidden_layers': 1, 'label_type': 'Angular', 'loss_function': 'mean_squared_error', 'lr': 5, 'monitor_value': 'val_custom_mae', 'optimizer': <class 'tensorflow.python.keras.optimizer_v2.adam.Adam'>, 'reduction_metric': 'custom_mae', 'samples': 20000}\n",
      "Using Loss: mean_squared_error \n",
      "and Reduction Metric: [<function custom_mae at 0x000001C2C8E7DAF8>]\n",
      "Monitor: val_custom_mae\n",
      "Train on 16000 samples, validate on 4000 samples\n",
      "15904/16000 [============================>.] - ETA: 0s - loss: 32931.5531 - custom_mae: 67.8390\n",
      "Epoch 00001: val_custom_mae improved from inf to 35.74438, saving model to ..\\fast_output\\SYNTH_Regression_MSE\\201019_2253_final_Angular_Base_Custom-MAE\\Best_Weights_FC_80.hdf5\n",
      "16000/16000 [==============================] - 12s 781us/sample - loss: 32759.1727 - custom_mae: 67.6667 - val_loss: 3300.9012 - val_custom_mae: 35.7444\n",
      "Time taken: 0:00:13.975841\n"
     ]
    },
    {
     "name": "stderr",
     "output_type": "stream",
     "text": [
      "\n",
      " 22%|█████████████████▊                                                             | 81/360 [14:19<1:08:33, 14.74s/it]\u001b[A"
     ]
    },
    {
     "name": "stdout",
     "output_type": "stream",
     "text": [
      "{'activation': 'leakyrelu', 'batch_size': 32, 'dropout': 0.5, 'epochs': 1, 'first_neuron': 4096, 'hidden_layers': 2, 'label_type': 'Angular', 'loss_function': 'mean_squared_error', 'lr': 1, 'monitor_value': 'val_custom_mae', 'optimizer': <class 'tensorflow.python.keras.optimizer_v2.adam.Adam'>, 'reduction_metric': 'custom_mae', 'samples': 20000}\n",
      "Using Loss: mean_squared_error \n",
      "and Reduction Metric: [<function custom_mae at 0x000001C2C8E7DAF8>]\n",
      "Monitor: val_custom_mae\n",
      "Train on 16000 samples, validate on 4000 samples\n",
      "15968/16000 [============================>.] - ETA: 0s - loss: 4757.3352 - custom_mae: 46.4343\n",
      "Epoch 00001: val_custom_mae improved from inf to 36.75195, saving model to ..\\fast_output\\SYNTH_Regression_MSE\\201019_2253_final_Angular_Base_Custom-MAE\\Best_Weights_FC_81.hdf5\n",
      "16000/16000 [==============================] - 13s 817us/sample - loss: 4756.6468 - custom_mae: 46.4223 - val_loss: 3538.8652 - val_custom_mae: 36.7520\n",
      "Time taken: 0:00:14.585900\n"
     ]
    },
    {
     "name": "stderr",
     "output_type": "stream",
     "text": [
      "\n",
      " 23%|█████████████████▉                                                             | 82/360 [14:35<1:10:23, 15.19s/it]\u001b[A"
     ]
    },
    {
     "name": "stdout",
     "output_type": "stream",
     "text": [
      "{'activation': 'leakyrelu', 'batch_size': 32, 'dropout': 0.5, 'epochs': 1, 'first_neuron': 4096, 'hidden_layers': 2, 'label_type': 'Angular', 'loss_function': 'mean_squared_error', 'lr': 2, 'monitor_value': 'val_custom_mae', 'optimizer': <class 'tensorflow.python.keras.optimizer_v2.adam.Adam'>, 'reduction_metric': 'custom_mae', 'samples': 20000}\n",
      "Using Loss: mean_squared_error \n",
      "and Reduction Metric: [<function custom_mae at 0x000001C2C8E7DAF8>]\n",
      "Monitor: val_custom_mae\n",
      "Train on 16000 samples, validate on 4000 samples\n",
      "15904/16000 [============================>.] - ETA: 0s - loss: 5547.9026 - custom_mae: 49.7225\n",
      "Epoch 00001: val_custom_mae improved from inf to 39.74261, saving model to ..\\fast_output\\SYNTH_Regression_MSE\\201019_2253_final_Angular_Base_Custom-MAE\\Best_Weights_FC_82.hdf5\n",
      "16000/16000 [==============================] - 13s 797us/sample - loss: 5544.3321 - custom_mae: 49.7331 - val_loss: 3552.5212 - val_custom_mae: 39.7426\n",
      "Time taken: 0:00:14.258198\n"
     ]
    },
    {
     "name": "stderr",
     "output_type": "stream",
     "text": [
      "\n",
      " 23%|██████████████████▏                                                            | 83/360 [14:51<1:11:08, 15.41s/it]\u001b[A"
     ]
    },
    {
     "name": "stdout",
     "output_type": "stream",
     "text": [
      "{'activation': 'leakyrelu', 'batch_size': 32, 'dropout': 0.5, 'epochs': 1, 'first_neuron': 4096, 'hidden_layers': 2, 'label_type': 'Angular', 'loss_function': 'mean_squared_error', 'lr': 5, 'monitor_value': 'val_custom_mae', 'optimizer': <class 'tensorflow.python.keras.optimizer_v2.adam.Adam'>, 'reduction_metric': 'custom_mae', 'samples': 20000}\n",
      "Using Loss: mean_squared_error \n",
      "and Reduction Metric: [<function custom_mae at 0x000001C2C8E7DAF8>]\n",
      "Monitor: val_custom_mae\n",
      "Train on 16000 samples, validate on 4000 samples\n",
      "15904/16000 [============================>.] - ETA: 0s - loss: 381593.5125 - custom_mae: 107.8470\n",
      "Epoch 00001: val_custom_mae improved from inf to 48.44083, saving model to ..\\fast_output\\SYNTH_Regression_MSE\\201019_2253_final_Angular_Base_Custom-MAE\\Best_Weights_FC_83.hdf5\n",
      "16000/16000 [==============================] - 13s 799us/sample - loss: 379333.8400 - custom_mae: 107.5150 - val_loss: 4471.9163 - val_custom_mae: 48.4408\n",
      "Time taken: 0:00:14.300279\n"
     ]
    },
    {
     "name": "stderr",
     "output_type": "stream",
     "text": [
      "\n",
      " 23%|██████████████████▍                                                            | 84/360 [15:07<1:11:37, 15.57s/it]\u001b[A"
     ]
    },
    {
     "name": "stdout",
     "output_type": "stream",
     "text": [
      "{'activation': 'leakyrelu', 'batch_size': 32, 'dropout': 0.5, 'epochs': 1, 'first_neuron': 4096, 'hidden_layers': 3, 'label_type': 'Angular', 'loss_function': 'mean_squared_error', 'lr': 1, 'monitor_value': 'val_custom_mae', 'optimizer': <class 'tensorflow.python.keras.optimizer_v2.adam.Adam'>, 'reduction_metric': 'custom_mae', 'samples': 20000}\n",
      "Using Loss: mean_squared_error \n",
      "and Reduction Metric: [<function custom_mae at 0x000001C2C8E7DAF8>]\n",
      "Monitor: val_custom_mae\n",
      "Train on 16000 samples, validate on 4000 samples\n",
      "15904/16000 [============================>.] - ETA: 0s - loss: 5279.5193 - custom_mae: 50.4050\n",
      "Epoch 00001: val_custom_mae improved from inf to 35.74262, saving model to ..\\fast_output\\SYNTH_Regression_MSE\\201019_2253_final_Angular_Base_Custom-MAE\\Best_Weights_FC_84.hdf5\n",
      "16000/16000 [==============================] - 13s 818us/sample - loss: 5273.7283 - custom_mae: 50.3539 - val_loss: 3228.6431 - val_custom_mae: 35.7426\n",
      "Time taken: 0:00:14.574461\n"
     ]
    },
    {
     "name": "stderr",
     "output_type": "stream",
     "text": [
      "\n",
      " 24%|██████████████████▋                                                            | 85/360 [15:24<1:12:17, 15.77s/it]\u001b[A"
     ]
    },
    {
     "name": "stdout",
     "output_type": "stream",
     "text": [
      "{'activation': 'leakyrelu', 'batch_size': 32, 'dropout': 0.5, 'epochs': 1, 'first_neuron': 4096, 'hidden_layers': 3, 'label_type': 'Angular', 'loss_function': 'mean_squared_error', 'lr': 2, 'monitor_value': 'val_custom_mae', 'optimizer': <class 'tensorflow.python.keras.optimizer_v2.adam.Adam'>, 'reduction_metric': 'custom_mae', 'samples': 20000}\n",
      "Using Loss: mean_squared_error \n",
      "and Reduction Metric: [<function custom_mae at 0x000001C2C8E7DAF8>]\n",
      "Monitor: val_custom_mae\n",
      "Train on 16000 samples, validate on 4000 samples\n",
      "15904/16000 [============================>.] - ETA: 0s - loss: 6544.7954 - custom_mae: 55.5925\n",
      "Epoch 00001: val_custom_mae improved from inf to 84.79016, saving model to ..\\fast_output\\SYNTH_Regression_MSE\\201019_2253_final_Angular_Base_Custom-MAE\\Best_Weights_FC_85.hdf5\n",
      "16000/16000 [==============================] - 13s 810us/sample - loss: 6573.7250 - custom_mae: 55.7281 - val_loss: 15114.9696 - val_custom_mae: 84.7902\n",
      "Time taken: 0:00:14.441986\n"
     ]
    },
    {
     "name": "stderr",
     "output_type": "stream",
     "text": [
      "\n",
      " 24%|██████████████████▊                                                            | 86/360 [15:40<1:12:33, 15.89s/it]\u001b[A"
     ]
    },
    {
     "name": "stdout",
     "output_type": "stream",
     "text": [
      "{'activation': 'leakyrelu', 'batch_size': 32, 'dropout': 0.5, 'epochs': 1, 'first_neuron': 4096, 'hidden_layers': 3, 'label_type': 'Angular', 'loss_function': 'mean_squared_error', 'lr': 5, 'monitor_value': 'val_custom_mae', 'optimizer': <class 'tensorflow.python.keras.optimizer_v2.adam.Adam'>, 'reduction_metric': 'custom_mae', 'samples': 20000}\n",
      "Using Loss: mean_squared_error \n",
      "and Reduction Metric: [<function custom_mae at 0x000001C2C8E7DAF8>]\n",
      "Monitor: val_custom_mae\n",
      "Train on 16000 samples, validate on 4000 samples\n",
      "15904/16000 [============================>.] - ETA: 0s - loss: 128432.2051 - custom_mae: 140.6749\n",
      "Epoch 00001: val_custom_mae improved from inf to 56.22495, saving model to ..\\fast_output\\SYNTH_Regression_MSE\\201019_2253_final_Angular_Base_Custom-MAE\\Best_Weights_FC_86.hdf5\n",
      "16000/16000 [==============================] - 13s 807us/sample - loss: 127701.9926 - custom_mae: 140.2069 - val_loss: 5871.0912 - val_custom_mae: 56.2249\n",
      "Time taken: 0:00:14.429234\n"
     ]
    },
    {
     "name": "stderr",
     "output_type": "stream",
     "text": [
      "\n",
      " 24%|███████████████████                                                            | 87/360 [15:56<1:12:36, 15.96s/it]\u001b[A"
     ]
    },
    {
     "name": "stdout",
     "output_type": "stream",
     "text": [
      "{'activation': 'leakyrelu', 'batch_size': 32, 'dropout': 0.5, 'epochs': 1, 'first_neuron': 4096, 'hidden_layers': 4, 'label_type': 'Angular', 'loss_function': 'mean_squared_error', 'lr': 1, 'monitor_value': 'val_custom_mae', 'optimizer': <class 'tensorflow.python.keras.optimizer_v2.adam.Adam'>, 'reduction_metric': 'custom_mae', 'samples': 20000}\n",
      "Using Loss: mean_squared_error \n",
      "and Reduction Metric: [<function custom_mae at 0x000001C2C8E7DAF8>]\n",
      "Monitor: val_custom_mae\n",
      "Train on 16000 samples, validate on 4000 samples\n",
      "15904/16000 [============================>.] - ETA: 0s - loss: 5872.7782 - custom_mae: 55.2256\n",
      "Epoch 00001: val_custom_mae improved from inf to 43.71674, saving model to ..\\fast_output\\SYNTH_Regression_MSE\\201019_2253_final_Angular_Base_Custom-MAE\\Best_Weights_FC_87.hdf5\n",
      "16000/16000 [==============================] - 14s 846us/sample - loss: 5862.8707 - custom_mae: 55.1648 - val_loss: 3825.6782 - val_custom_mae: 43.7167\n",
      "Time taken: 0:00:15.045695\n"
     ]
    },
    {
     "name": "stderr",
     "output_type": "stream",
     "text": [
      "\n",
      " 24%|███████████████████▎                                                           | 88/360 [16:13<1:13:25, 16.20s/it]\u001b[A"
     ]
    },
    {
     "name": "stdout",
     "output_type": "stream",
     "text": [
      "{'activation': 'leakyrelu', 'batch_size': 32, 'dropout': 0.5, 'epochs': 1, 'first_neuron': 4096, 'hidden_layers': 4, 'label_type': 'Angular', 'loss_function': 'mean_squared_error', 'lr': 2, 'monitor_value': 'val_custom_mae', 'optimizer': <class 'tensorflow.python.keras.optimizer_v2.adam.Adam'>, 'reduction_metric': 'custom_mae', 'samples': 20000}\n",
      "Using Loss: mean_squared_error \n",
      "and Reduction Metric: [<function custom_mae at 0x000001C2C8E7DAF8>]\n",
      "Monitor: val_custom_mae\n",
      "Train on 16000 samples, validate on 4000 samples\n",
      "15904/16000 [============================>.] - ETA: 0s - loss: 6664.0819 - custom_mae: 58.4076\n",
      "Epoch 00001: val_custom_mae improved from inf to 47.42675, saving model to ..\\fast_output\\SYNTH_Regression_MSE\\201019_2253_final_Angular_Base_Custom-MAE\\Best_Weights_FC_88.hdf5\n",
      "16000/16000 [==============================] - 13s 818us/sample - loss: 6655.1457 - custom_mae: 58.3674 - val_loss: 4218.1582 - val_custom_mae: 47.4267\n",
      "Time taken: 0:00:14.600191\n"
     ]
    },
    {
     "name": "stderr",
     "output_type": "stream",
     "text": [
      "\n",
      " 25%|███████████████████▌                                                           | 89/360 [16:29<1:13:17, 16.23s/it]\u001b[A"
     ]
    },
    {
     "name": "stdout",
     "output_type": "stream",
     "text": [
      "{'activation': 'leakyrelu', 'batch_size': 32, 'dropout': 0.5, 'epochs': 1, 'first_neuron': 4096, 'hidden_layers': 4, 'label_type': 'Angular', 'loss_function': 'mean_squared_error', 'lr': 5, 'monitor_value': 'val_custom_mae', 'optimizer': <class 'tensorflow.python.keras.optimizer_v2.adam.Adam'>, 'reduction_metric': 'custom_mae', 'samples': 20000}\n",
      "Using Loss: mean_squared_error \n",
      "and Reduction Metric: [<function custom_mae at 0x000001C2C8E7DAF8>]\n",
      "Monitor: val_custom_mae\n",
      "Train on 16000 samples, validate on 4000 samples\n",
      "15904/16000 [============================>.] - ETA: 0s - loss: 52828.0028 - custom_mae: 100.8803\n",
      "Epoch 00001: val_custom_mae improved from inf to 57.04341, saving model to ..\\fast_output\\SYNTH_Regression_MSE\\201019_2253_final_Angular_Base_Custom-MAE\\Best_Weights_FC_89.hdf5\n",
      "16000/16000 [==============================] - 13s 816us/sample - loss: 52552.3254 - custom_mae: 100.6366 - val_loss: 6220.1775 - val_custom_mae: 57.0434\n",
      "Time taken: 0:00:14.554812\n"
     ]
    },
    {
     "name": "stderr",
     "output_type": "stream",
     "text": [
      "\n",
      " 25%|███████████████████▊                                                           | 90/360 [16:45<1:13:03, 16.24s/it]\u001b[A"
     ]
    },
    {
     "name": "stdout",
     "output_type": "stream",
     "text": [
      "{'activation': 'leakyrelu', 'batch_size': 64, 'dropout': 0.25, 'epochs': 1, 'first_neuron': 1024, 'hidden_layers': 0, 'label_type': 'Angular', 'loss_function': 'mean_squared_error', 'lr': 1, 'monitor_value': 'val_custom_mae', 'optimizer': <class 'tensorflow.python.keras.optimizer_v2.adam.Adam'>, 'reduction_metric': 'custom_mae', 'samples': 20000}\n",
      "Using Loss: mean_squared_error \n",
      "and Reduction Metric: [<function custom_mae at 0x000001C2C8E7DAF8>]\n",
      "Monitor: val_custom_mae\n",
      "Train on 16000 samples, validate on 3968 samples\n",
      "15552/16000 [============================>.] - ETA: 0s - loss: 4378.7450 - custom_mae: 43.5012\n",
      "Epoch 00001: val_custom_mae improved from inf to 35.22934, saving model to ..\\fast_output\\SYNTH_Regression_MSE\\201019_2253_final_Angular_Base_Custom-MAE\\Best_Weights_FC_90.hdf5\n",
      "16000/16000 [==============================] - 3s 206us/sample - loss: 4334.9122 - custom_mae: 43.2110 - val_loss: 3287.6428 - val_custom_mae: 35.2293\n",
      "Time taken: 0:00:04.858281\n"
     ]
    },
    {
     "name": "stderr",
     "output_type": "stream",
     "text": [
      "\n",
      " 25%|███████████████████▉                                                           | 91/360 [16:55<1:04:42, 14.43s/it]\u001b[A"
     ]
    },
    {
     "name": "stdout",
     "output_type": "stream",
     "text": [
      "{'activation': 'leakyrelu', 'batch_size': 64, 'dropout': 0.25, 'epochs': 1, 'first_neuron': 1024, 'hidden_layers': 0, 'label_type': 'Angular', 'loss_function': 'mean_squared_error', 'lr': 2, 'monitor_value': 'val_custom_mae', 'optimizer': <class 'tensorflow.python.keras.optimizer_v2.adam.Adam'>, 'reduction_metric': 'custom_mae', 'samples': 20000}\n",
      "Using Loss: mean_squared_error \n",
      "and Reduction Metric: [<function custom_mae at 0x000001C2C8E7DAF8>]\n",
      "Monitor: val_custom_mae\n",
      "Train on 16000 samples, validate on 3968 samples\n",
      "15488/16000 [============================>.] - ETA: 0s - loss: 4017.9918 - custom_mae: 40.8562\n",
      "Epoch 00001: val_custom_mae improved from inf to 31.27012, saving model to ..\\fast_output\\SYNTH_Regression_MSE\\201019_2253_final_Angular_Base_Custom-MAE\\Best_Weights_FC_91.hdf5\n",
      "16000/16000 [==============================] - 3s 206us/sample - loss: 3967.4279 - custom_mae: 40.4979 - val_loss: 2838.2020 - val_custom_mae: 31.2701\n",
      "Time taken: 0:00:04.788061\n"
     ]
    },
    {
     "name": "stderr",
     "output_type": "stream",
     "text": [
      "\n",
      " 26%|████████████████████▋                                                            | 92/360 [17:02<53:40, 12.01s/it]\u001b[A"
     ]
    },
    {
     "name": "stdout",
     "output_type": "stream",
     "text": [
      "{'activation': 'leakyrelu', 'batch_size': 64, 'dropout': 0.25, 'epochs': 1, 'first_neuron': 1024, 'hidden_layers': 0, 'label_type': 'Angular', 'loss_function': 'mean_squared_error', 'lr': 5, 'monitor_value': 'val_custom_mae', 'optimizer': <class 'tensorflow.python.keras.optimizer_v2.adam.Adam'>, 'reduction_metric': 'custom_mae', 'samples': 20000}\n",
      "Using Loss: mean_squared_error \n",
      "and Reduction Metric: [<function custom_mae at 0x000001C2C8E7DAF8>]\n",
      "Monitor: val_custom_mae\n",
      "Train on 16000 samples, validate on 3968 samples\n",
      "15680/16000 [============================>.] - ETA: 0s - loss: 3936.3056 - custom_mae: 40.1733\n",
      "Epoch 00001: val_custom_mae improved from inf to 29.48256, saving model to ..\\fast_output\\SYNTH_Regression_MSE\\201019_2253_final_Angular_Base_Custom-MAE\\Best_Weights_FC_92.hdf5\n",
      "16000/16000 [==============================] - 3s 209us/sample - loss: 3901.9399 - custom_mae: 39.9320 - val_loss: 2609.6939 - val_custom_mae: 29.4826\n",
      "Time taken: 0:00:04.814708\n"
     ]
    },
    {
     "name": "stderr",
     "output_type": "stream",
     "text": [
      "\n",
      " 26%|████████████████████▉                                                            | 93/360 [17:08<45:57, 10.33s/it]\u001b[A"
     ]
    },
    {
     "name": "stdout",
     "output_type": "stream",
     "text": [
      "{'activation': 'leakyrelu', 'batch_size': 64, 'dropout': 0.25, 'epochs': 1, 'first_neuron': 1024, 'hidden_layers': 1, 'label_type': 'Angular', 'loss_function': 'mean_squared_error', 'lr': 1, 'monitor_value': 'val_custom_mae', 'optimizer': <class 'tensorflow.python.keras.optimizer_v2.adam.Adam'>, 'reduction_metric': 'custom_mae', 'samples': 20000}\n",
      "Using Loss: mean_squared_error \n",
      "and Reduction Metric: [<function custom_mae at 0x000001C2C8E7DAF8>]\n",
      "Monitor: val_custom_mae\n",
      "Train on 16000 samples, validate on 3968 samples\n",
      "15616/16000 [============================>.] - ETA: 0s - loss: 4343.5559 - custom_mae: 43.5591\n",
      "Epoch 00001: val_custom_mae improved from inf to 32.92757, saving model to ..\\fast_output\\SYNTH_Regression_MSE\\201019_2253_final_Angular_Base_Custom-MAE\\Best_Weights_FC_93.hdf5\n",
      "16000/16000 [==============================] - 4s 221us/sample - loss: 4300.0082 - custom_mae: 43.2551 - val_loss: 3019.4148 - val_custom_mae: 32.9276\n",
      "Time taken: 0:00:05.013726\n"
     ]
    },
    {
     "name": "stderr",
     "output_type": "stream",
     "text": [
      "\n",
      " 26%|█████████████████████▏                                                           | 94/360 [17:15<40:52,  9.22s/it]\u001b[A"
     ]
    },
    {
     "name": "stdout",
     "output_type": "stream",
     "text": [
      "{'activation': 'leakyrelu', 'batch_size': 64, 'dropout': 0.25, 'epochs': 1, 'first_neuron': 1024, 'hidden_layers': 1, 'label_type': 'Angular', 'loss_function': 'mean_squared_error', 'lr': 2, 'monitor_value': 'val_custom_mae', 'optimizer': <class 'tensorflow.python.keras.optimizer_v2.adam.Adam'>, 'reduction_metric': 'custom_mae', 'samples': 20000}\n",
      "Using Loss: mean_squared_error \n",
      "and Reduction Metric: [<function custom_mae at 0x000001C2C8E7DAF8>]\n",
      "Monitor: val_custom_mae\n",
      "Train on 16000 samples, validate on 3968 samples\n",
      "15872/16000 [============================>.] - ETA: 0s - loss: 4103.9383 - custom_mae: 41.8377\n",
      "Epoch 00001: val_custom_mae improved from inf to 31.16097, saving model to ..\\fast_output\\SYNTH_Regression_MSE\\201019_2253_final_Angular_Base_Custom-MAE\\Best_Weights_FC_94.hdf5\n",
      "16000/16000 [==============================] - 3s 217us/sample - loss: 4093.0352 - custom_mae: 41.7596 - val_loss: 2810.3836 - val_custom_mae: 31.1610\n",
      "Time taken: 0:00:04.945233\n"
     ]
    },
    {
     "name": "stderr",
     "output_type": "stream",
     "text": [
      "\n",
      " 26%|█████████████████████▍                                                           | 95/360 [17:21<37:13,  8.43s/it]\u001b[A"
     ]
    },
    {
     "name": "stdout",
     "output_type": "stream",
     "text": [
      "{'activation': 'leakyrelu', 'batch_size': 64, 'dropout': 0.25, 'epochs': 1, 'first_neuron': 1024, 'hidden_layers': 1, 'label_type': 'Angular', 'loss_function': 'mean_squared_error', 'lr': 5, 'monitor_value': 'val_custom_mae', 'optimizer': <class 'tensorflow.python.keras.optimizer_v2.adam.Adam'>, 'reduction_metric': 'custom_mae', 'samples': 20000}\n",
      "Using Loss: mean_squared_error \n",
      "and Reduction Metric: [<function custom_mae at 0x000001C2C8E7DAF8>]\n",
      "Monitor: val_custom_mae\n",
      "Train on 16000 samples, validate on 3968 samples\n",
      "15872/16000 [============================>.] - ETA: 0s - loss: 5715.2662 - custom_mae: 47.8552\n",
      "Epoch 00001: val_custom_mae improved from inf to 33.03931, saving model to ..\\fast_output\\SYNTH_Regression_MSE\\201019_2253_final_Angular_Base_Custom-MAE\\Best_Weights_FC_95.hdf5\n",
      "16000/16000 [==============================] - 3s 218us/sample - loss: 5692.8192 - custom_mae: 47.7255 - val_loss: 2874.6593 - val_custom_mae: 33.0393\n",
      "Time taken: 0:00:05.020396\n"
     ]
    },
    {
     "name": "stderr",
     "output_type": "stream",
     "text": [
      "\n",
      " 27%|█████████████████████▌                                                           | 96/360 [17:28<34:48,  7.91s/it]\u001b[A"
     ]
    },
    {
     "name": "stdout",
     "output_type": "stream",
     "text": [
      "{'activation': 'leakyrelu', 'batch_size': 64, 'dropout': 0.25, 'epochs': 1, 'first_neuron': 1024, 'hidden_layers': 2, 'label_type': 'Angular', 'loss_function': 'mean_squared_error', 'lr': 1, 'monitor_value': 'val_custom_mae', 'optimizer': <class 'tensorflow.python.keras.optimizer_v2.adam.Adam'>, 'reduction_metric': 'custom_mae', 'samples': 20000}\n",
      "Using Loss: mean_squared_error \n",
      "and Reduction Metric: [<function custom_mae at 0x000001C2C8E7DAF8>]\n",
      "Monitor: val_custom_mae\n",
      "Train on 16000 samples, validate on 3968 samples\n",
      "15808/16000 [============================>.] - ETA: 0s - loss: 4578.1134 - custom_mae: 45.4780\n",
      "Epoch 00001: val_custom_mae improved from inf to 32.00896, saving model to ..\\fast_output\\SYNTH_Regression_MSE\\201019_2253_final_Angular_Base_Custom-MAE\\Best_Weights_FC_96.hdf5\n",
      "16000/16000 [==============================] - 4s 221us/sample - loss: 4554.2541 - custom_mae: 45.3199 - val_loss: 2800.6164 - val_custom_mae: 32.0090\n",
      "Time taken: 0:00:05.030798\n"
     ]
    },
    {
     "name": "stderr",
     "output_type": "stream",
     "text": [
      "\n",
      " 27%|█████████████████████▊                                                           | 97/360 [17:35<33:11,  7.57s/it]\u001b[A"
     ]
    },
    {
     "name": "stdout",
     "output_type": "stream",
     "text": [
      "{'activation': 'leakyrelu', 'batch_size': 64, 'dropout': 0.25, 'epochs': 1, 'first_neuron': 1024, 'hidden_layers': 2, 'label_type': 'Angular', 'loss_function': 'mean_squared_error', 'lr': 2, 'monitor_value': 'val_custom_mae', 'optimizer': <class 'tensorflow.python.keras.optimizer_v2.adam.Adam'>, 'reduction_metric': 'custom_mae', 'samples': 20000}\n",
      "Using Loss: mean_squared_error \n",
      "and Reduction Metric: [<function custom_mae at 0x000001C2C8E7DAF8>]\n",
      "Monitor: val_custom_mae\n",
      "Train on 16000 samples, validate on 3968 samples\n",
      "15488/16000 [============================>.] - ETA: 0s - loss: 4466.2776 - custom_mae: 44.6189\n",
      "Epoch 00001: val_custom_mae improved from inf to 34.30269, saving model to ..\\fast_output\\SYNTH_Regression_MSE\\201019_2253_final_Angular_Base_Custom-MAE\\Best_Weights_FC_97.hdf5\n",
      "16000/16000 [==============================] - 3s 217us/sample - loss: 4408.3589 - custom_mae: 44.2459 - val_loss: 3072.2300 - val_custom_mae: 34.3027\n",
      "Time taken: 0:00:04.964718\n"
     ]
    },
    {
     "name": "stderr",
     "output_type": "stream",
     "text": [
      "\n",
      " 27%|██████████████████████                                                           | 98/360 [17:42<31:51,  7.30s/it]\u001b[A"
     ]
    },
    {
     "name": "stdout",
     "output_type": "stream",
     "text": [
      "{'activation': 'leakyrelu', 'batch_size': 64, 'dropout': 0.25, 'epochs': 1, 'first_neuron': 1024, 'hidden_layers': 2, 'label_type': 'Angular', 'loss_function': 'mean_squared_error', 'lr': 5, 'monitor_value': 'val_custom_mae', 'optimizer': <class 'tensorflow.python.keras.optimizer_v2.adam.Adam'>, 'reduction_metric': 'custom_mae', 'samples': 20000}\n",
      "Using Loss: mean_squared_error \n",
      "and Reduction Metric: [<function custom_mae at 0x000001C2C8E7DAF8>]\n",
      "Monitor: val_custom_mae\n",
      "Train on 16000 samples, validate on 3968 samples\n",
      "15424/16000 [===========================>..] - ETA: 0s - loss: 5057.3058 - custom_mae: 46.9720\n",
      "Epoch 00001: val_custom_mae improved from inf to 32.70342, saving model to ..\\fast_output\\SYNTH_Regression_MSE\\201019_2253_final_Angular_Base_Custom-MAE\\Best_Weights_FC_98.hdf5\n",
      "16000/16000 [==============================] - 4s 221us/sample - loss: 4968.7277 - custom_mae: 46.4625 - val_loss: 2662.9490 - val_custom_mae: 32.7034\n",
      "Time taken: 0:00:05.029983\n"
     ]
    },
    {
     "name": "stderr",
     "output_type": "stream",
     "text": [
      "\n",
      " 28%|██████████████████████▎                                                          | 99/360 [17:48<30:58,  7.12s/it]\u001b[A"
     ]
    },
    {
     "name": "stdout",
     "output_type": "stream",
     "text": [
      "{'activation': 'leakyrelu', 'batch_size': 64, 'dropout': 0.25, 'epochs': 1, 'first_neuron': 1024, 'hidden_layers': 3, 'label_type': 'Angular', 'loss_function': 'mean_squared_error', 'lr': 1, 'monitor_value': 'val_custom_mae', 'optimizer': <class 'tensorflow.python.keras.optimizer_v2.adam.Adam'>, 'reduction_metric': 'custom_mae', 'samples': 20000}\n",
      "Using Loss: mean_squared_error \n",
      "and Reduction Metric: [<function custom_mae at 0x000001C2C8E7DAF8>]\n",
      "Monitor: val_custom_mae\n",
      "Train on 16000 samples, validate on 3968 samples\n",
      "15488/16000 [============================>.] - ETA: 0s - loss: 5015.7840 - custom_mae: 48.9331\n",
      "Epoch 00001: val_custom_mae improved from inf to 33.49327, saving model to ..\\fast_output\\SYNTH_Regression_MSE\\201019_2253_final_Angular_Base_Custom-MAE\\Best_Weights_FC_99.hdf5\n",
      "16000/16000 [==============================] - 4s 224us/sample - loss: 4952.8305 - custom_mae: 48.5235 - val_loss: 2988.9478 - val_custom_mae: 33.4933\n",
      "Time taken: 0:00:05.057778\n"
     ]
    },
    {
     "name": "stderr",
     "output_type": "stream",
     "text": [
      "\n",
      " 28%|██████████████████████▏                                                         | 100/360 [17:55<30:23,  7.01s/it]\u001b[A"
     ]
    },
    {
     "name": "stdout",
     "output_type": "stream",
     "text": [
      "{'activation': 'leakyrelu', 'batch_size': 64, 'dropout': 0.25, 'epochs': 1, 'first_neuron': 1024, 'hidden_layers': 3, 'label_type': 'Angular', 'loss_function': 'mean_squared_error', 'lr': 2, 'monitor_value': 'val_custom_mae', 'optimizer': <class 'tensorflow.python.keras.optimizer_v2.adam.Adam'>, 'reduction_metric': 'custom_mae', 'samples': 20000}\n",
      "Using Loss: mean_squared_error \n",
      "and Reduction Metric: [<function custom_mae at 0x000001C2C8E7DAF8>]\n",
      "Monitor: val_custom_mae\n",
      "Train on 16000 samples, validate on 3968 samples\n",
      "15616/16000 [============================>.] - ETA: 0s - loss: 4765.5274 - custom_mae: 47.2061\n",
      "Epoch 00001: val_custom_mae improved from inf to 31.88128, saving model to ..\\fast_output\\SYNTH_Regression_MSE\\201019_2253_final_Angular_Base_Custom-MAE\\Best_Weights_FC_100.hdf5\n",
      "16000/16000 [==============================] - 4s 229us/sample - loss: 4712.7832 - custom_mae: 46.8675 - val_loss: 2712.2238 - val_custom_mae: 31.8813\n",
      "Time taken: 0:00:05.145507\n"
     ]
    },
    {
     "name": "stderr",
     "output_type": "stream",
     "text": [
      "\n",
      " 28%|██████████████████████▍                                                         | 101/360 [18:02<30:03,  6.96s/it]\u001b[A"
     ]
    },
    {
     "name": "stdout",
     "output_type": "stream",
     "text": [
      "{'activation': 'leakyrelu', 'batch_size': 64, 'dropout': 0.25, 'epochs': 1, 'first_neuron': 1024, 'hidden_layers': 3, 'label_type': 'Angular', 'loss_function': 'mean_squared_error', 'lr': 5, 'monitor_value': 'val_custom_mae', 'optimizer': <class 'tensorflow.python.keras.optimizer_v2.adam.Adam'>, 'reduction_metric': 'custom_mae', 'samples': 20000}\n",
      "Using Loss: mean_squared_error \n",
      "and Reduction Metric: [<function custom_mae at 0x000001C2C8E7DAF8>]\n",
      "Monitor: val_custom_mae\n",
      "Train on 16000 samples, validate on 3968 samples\n",
      "15936/16000 [============================>.] - ETA: 0s - loss: 4882.7241 - custom_mae: 48.3953\n",
      "Epoch 00001: val_custom_mae improved from inf to 31.92069, saving model to ..\\fast_output\\SYNTH_Regression_MSE\\201019_2253_final_Angular_Base_Custom-MAE\\Best_Weights_FC_101.hdf5\n",
      "16000/16000 [==============================] - 4s 225us/sample - loss: 4875.8618 - custom_mae: 48.3381 - val_loss: 2716.5142 - val_custom_mae: 31.9207\n",
      "Time taken: 0:00:05.084056\n"
     ]
    },
    {
     "name": "stderr",
     "output_type": "stream",
     "text": [
      "\n",
      " 28%|██████████████████████▋                                                         | 102/360 [18:09<29:42,  6.91s/it]\u001b[A"
     ]
    },
    {
     "name": "stdout",
     "output_type": "stream",
     "text": [
      "{'activation': 'leakyrelu', 'batch_size': 64, 'dropout': 0.25, 'epochs': 1, 'first_neuron': 1024, 'hidden_layers': 4, 'label_type': 'Angular', 'loss_function': 'mean_squared_error', 'lr': 1, 'monitor_value': 'val_custom_mae', 'optimizer': <class 'tensorflow.python.keras.optimizer_v2.adam.Adam'>, 'reduction_metric': 'custom_mae', 'samples': 20000}\n",
      "Using Loss: mean_squared_error \n",
      "and Reduction Metric: [<function custom_mae at 0x000001C2C8E7DAF8>]\n",
      "Monitor: val_custom_mae\n",
      "Train on 16000 samples, validate on 3968 samples\n",
      "15552/16000 [============================>.] - ETA: 0s - loss: 5653.0037 - custom_mae: 53.4146\n",
      "Epoch 00001: val_custom_mae improved from inf to 42.11417, saving model to ..\\fast_output\\SYNTH_Regression_MSE\\201019_2253_final_Angular_Base_Custom-MAE\\Best_Weights_FC_102.hdf5\n",
      "16000/16000 [==============================] - 4s 233us/sample - loss: 5596.4146 - custom_mae: 53.0612 - val_loss: 3960.9200 - val_custom_mae: 42.1142\n",
      "Time taken: 0:00:05.208941\n"
     ]
    },
    {
     "name": "stderr",
     "output_type": "stream",
     "text": [
      "\n",
      " 29%|██████████████████████▉                                                         | 103/360 [18:16<29:37,  6.92s/it]\u001b[A"
     ]
    },
    {
     "name": "stdout",
     "output_type": "stream",
     "text": [
      "{'activation': 'leakyrelu', 'batch_size': 64, 'dropout': 0.25, 'epochs': 1, 'first_neuron': 1024, 'hidden_layers': 4, 'label_type': 'Angular', 'loss_function': 'mean_squared_error', 'lr': 2, 'monitor_value': 'val_custom_mae', 'optimizer': <class 'tensorflow.python.keras.optimizer_v2.adam.Adam'>, 'reduction_metric': 'custom_mae', 'samples': 20000}\n",
      "Using Loss: mean_squared_error \n",
      "and Reduction Metric: [<function custom_mae at 0x000001C2C8E7DAF8>]\n",
      "Monitor: val_custom_mae\n",
      "Train on 16000 samples, validate on 3968 samples\n",
      "15680/16000 [============================>.] - ETA: 0s - loss: 5349.8532 - custom_mae: 50.7087\n",
      "Epoch 00001: val_custom_mae improved from inf to 32.51736, saving model to ..\\fast_output\\SYNTH_Regression_MSE\\201019_2253_final_Angular_Base_Custom-MAE\\Best_Weights_FC_103.hdf5\n",
      "16000/16000 [==============================] - 4s 230us/sample - loss: 5305.3143 - custom_mae: 50.4498 - val_loss: 2670.9134 - val_custom_mae: 32.5174\n",
      "Time taken: 0:00:05.163885\n"
     ]
    },
    {
     "name": "stderr",
     "output_type": "stream",
     "text": [
      "\n",
      " 29%|███████████████████████                                                         | 104/360 [18:22<29:29,  6.91s/it]\u001b[A"
     ]
    },
    {
     "name": "stdout",
     "output_type": "stream",
     "text": [
      "{'activation': 'leakyrelu', 'batch_size': 64, 'dropout': 0.25, 'epochs': 1, 'first_neuron': 1024, 'hidden_layers': 4, 'label_type': 'Angular', 'loss_function': 'mean_squared_error', 'lr': 5, 'monitor_value': 'val_custom_mae', 'optimizer': <class 'tensorflow.python.keras.optimizer_v2.adam.Adam'>, 'reduction_metric': 'custom_mae', 'samples': 20000}\n",
      "Using Loss: mean_squared_error \n",
      "and Reduction Metric: [<function custom_mae at 0x000001C2C8E7DAF8>]\n",
      "Monitor: val_custom_mae\n",
      "Train on 16000 samples, validate on 3968 samples\n",
      "15616/16000 [============================>.] - ETA: 0s - loss: 8111.6502 - custom_mae: 57.1267\n",
      "Epoch 00001: val_custom_mae improved from inf to 41.67550, saving model to ..\\fast_output\\SYNTH_Regression_MSE\\201019_2253_final_Angular_Base_Custom-MAE\\Best_Weights_FC_104.hdf5\n",
      "16000/16000 [==============================] - 4s 230us/sample - loss: 8000.6746 - custom_mae: 56.7933 - val_loss: 3425.1661 - val_custom_mae: 41.6755\n",
      "Time taken: 0:00:05.183203\n"
     ]
    },
    {
     "name": "stderr",
     "output_type": "stream",
     "text": [
      "\n",
      " 29%|███████████████████████▎                                                        | 105/360 [18:29<29:22,  6.91s/it]\u001b[A"
     ]
    },
    {
     "name": "stdout",
     "output_type": "stream",
     "text": [
      "{'activation': 'leakyrelu', 'batch_size': 64, 'dropout': 0.25, 'epochs': 1, 'first_neuron': 2048, 'hidden_layers': 0, 'label_type': 'Angular', 'loss_function': 'mean_squared_error', 'lr': 1, 'monitor_value': 'val_custom_mae', 'optimizer': <class 'tensorflow.python.keras.optimizer_v2.adam.Adam'>, 'reduction_metric': 'custom_mae', 'samples': 20000}\n",
      "Using Loss: mean_squared_error \n",
      "and Reduction Metric: [<function custom_mae at 0x000001C2C8E7DAF8>]\n",
      "Monitor: val_custom_mae\n",
      "Train on 16000 samples, validate on 3968 samples\n",
      "15616/16000 [============================>.] - ETA: 0s - loss: 4166.2358 - custom_mae: 41.7540\n",
      "Epoch 00001: val_custom_mae improved from inf to 32.33223, saving model to ..\\fast_output\\SYNTH_Regression_MSE\\201019_2253_final_Angular_Base_Custom-MAE\\Best_Weights_FC_105.hdf5\n",
      "16000/16000 [==============================] - 5s 325us/sample - loss: 4127.7712 - custom_mae: 41.5120 - val_loss: 2951.2076 - val_custom_mae: 32.3322\n",
      "Time taken: 0:00:06.680828\n"
     ]
    },
    {
     "name": "stderr",
     "output_type": "stream",
     "text": [
      "\n",
      " 29%|███████████████████████▌                                                        | 106/360 [18:38<31:02,  7.33s/it]\u001b[A"
     ]
    },
    {
     "name": "stdout",
     "output_type": "stream",
     "text": [
      "{'activation': 'leakyrelu', 'batch_size': 64, 'dropout': 0.25, 'epochs': 1, 'first_neuron': 2048, 'hidden_layers': 0, 'label_type': 'Angular', 'loss_function': 'mean_squared_error', 'lr': 2, 'monitor_value': 'val_custom_mae', 'optimizer': <class 'tensorflow.python.keras.optimizer_v2.adam.Adam'>, 'reduction_metric': 'custom_mae', 'samples': 20000}\n",
      "Using Loss: mean_squared_error \n",
      "and Reduction Metric: [<function custom_mae at 0x000001C2C8E7DAF8>]\n",
      "Monitor: val_custom_mae\n",
      "Train on 16000 samples, validate on 3968 samples\n",
      "15936/16000 [============================>.] - ETA: 0s - loss: 3942.9594 - custom_mae: 39.9018\n",
      "Epoch 00001: val_custom_mae improved from inf to 31.70914, saving model to ..\\fast_output\\SYNTH_Regression_MSE\\201019_2253_final_Angular_Base_Custom-MAE\\Best_Weights_FC_106.hdf5\n",
      "16000/16000 [==============================] - 5s 325us/sample - loss: 3937.9567 - custom_mae: 39.8613 - val_loss: 2802.0680 - val_custom_mae: 31.7091\n",
      "Time taken: 0:00:06.695479\n"
     ]
    },
    {
     "name": "stderr",
     "output_type": "stream",
     "text": [
      "\n",
      " 30%|███████████████████████▊                                                        | 107/360 [18:46<32:09,  7.63s/it]\u001b[A"
     ]
    },
    {
     "name": "stdout",
     "output_type": "stream",
     "text": [
      "{'activation': 'leakyrelu', 'batch_size': 64, 'dropout': 0.25, 'epochs': 1, 'first_neuron': 2048, 'hidden_layers': 0, 'label_type': 'Angular', 'loss_function': 'mean_squared_error', 'lr': 5, 'monitor_value': 'val_custom_mae', 'optimizer': <class 'tensorflow.python.keras.optimizer_v2.adam.Adam'>, 'reduction_metric': 'custom_mae', 'samples': 20000}\n",
      "Using Loss: mean_squared_error \n",
      "and Reduction Metric: [<function custom_mae at 0x000001C2C8E7DAF8>]\n",
      "Monitor: val_custom_mae\n",
      "Train on 16000 samples, validate on 3968 samples\n",
      "15936/16000 [============================>.] - ETA: 0s - loss: 4346.4521 - custom_mae: 41.5004\n",
      "Epoch 00001: val_custom_mae improved from inf to 33.49364, saving model to ..\\fast_output\\SYNTH_Regression_MSE\\201019_2253_final_Angular_Base_Custom-MAE\\Best_Weights_FC_107.hdf5\n",
      "16000/16000 [==============================] - 5s 321us/sample - loss: 4340.7371 - custom_mae: 41.4572 - val_loss: 2939.9873 - val_custom_mae: 33.4936\n",
      "Time taken: 0:00:06.610663\n"
     ]
    },
    {
     "name": "stderr",
     "output_type": "stream",
     "text": [
      "\n",
      " 30%|████████████████████████                                                        | 108/360 [18:54<32:47,  7.81s/it]\u001b[A"
     ]
    },
    {
     "name": "stdout",
     "output_type": "stream",
     "text": [
      "{'activation': 'leakyrelu', 'batch_size': 64, 'dropout': 0.25, 'epochs': 1, 'first_neuron': 2048, 'hidden_layers': 1, 'label_type': 'Angular', 'loss_function': 'mean_squared_error', 'lr': 1, 'monitor_value': 'val_custom_mae', 'optimizer': <class 'tensorflow.python.keras.optimizer_v2.adam.Adam'>, 'reduction_metric': 'custom_mae', 'samples': 20000}\n",
      "Using Loss: mean_squared_error \n",
      "and Reduction Metric: [<function custom_mae at 0x000001C2C8E7DAF8>]\n",
      "Monitor: val_custom_mae\n",
      "Train on 16000 samples, validate on 3968 samples\n",
      "15680/16000 [============================>.] - ETA: 0s - loss: 3911.7861 - custom_mae: 40.3730\n",
      "Epoch 00001: val_custom_mae improved from inf to 29.29993, saving model to ..\\fast_output\\SYNTH_Regression_MSE\\201019_2253_final_Angular_Base_Custom-MAE\\Best_Weights_FC_108.hdf5\n",
      "16000/16000 [==============================] - 5s 335us/sample - loss: 3881.1802 - custom_mae: 40.1470 - val_loss: 2558.5546 - val_custom_mae: 29.2999\n",
      "Time taken: 0:00:06.834622\n"
     ]
    },
    {
     "name": "stderr",
     "output_type": "stream",
     "text": [
      "\n",
      " 30%|████████████████████████▏                                                       | 109/360 [19:03<33:32,  8.02s/it]\u001b[A"
     ]
    },
    {
     "name": "stdout",
     "output_type": "stream",
     "text": [
      "{'activation': 'leakyrelu', 'batch_size': 64, 'dropout': 0.25, 'epochs': 1, 'first_neuron': 2048, 'hidden_layers': 1, 'label_type': 'Angular', 'loss_function': 'mean_squared_error', 'lr': 2, 'monitor_value': 'val_custom_mae', 'optimizer': <class 'tensorflow.python.keras.optimizer_v2.adam.Adam'>, 'reduction_metric': 'custom_mae', 'samples': 20000}\n",
      "Using Loss: mean_squared_error \n",
      "and Reduction Metric: [<function custom_mae at 0x000001C2C8E7DAF8>]\n",
      "Monitor: val_custom_mae\n",
      "Train on 16000 samples, validate on 3968 samples\n",
      "15808/16000 [============================>.] - ETA: 0s - loss: 4526.7963 - custom_mae: 43.0569\n",
      "Epoch 00001: val_custom_mae improved from inf to 29.13840, saving model to ..\\fast_output\\SYNTH_Regression_MSE\\201019_2253_final_Angular_Base_Custom-MAE\\Best_Weights_FC_109.hdf5\n",
      "16000/16000 [==============================] - 5s 332us/sample - loss: 4502.2186 - custom_mae: 42.8884 - val_loss: 2549.2382 - val_custom_mae: 29.1384\n",
      "Time taken: 0:00:06.810050\n"
     ]
    },
    {
     "name": "stderr",
     "output_type": "stream",
     "text": [
      "\n",
      " 31%|████████████████████████▍                                                       | 110/360 [19:11<33:58,  8.16s/it]\u001b[A"
     ]
    },
    {
     "name": "stdout",
     "output_type": "stream",
     "text": [
      "{'activation': 'leakyrelu', 'batch_size': 64, 'dropout': 0.25, 'epochs': 1, 'first_neuron': 2048, 'hidden_layers': 1, 'label_type': 'Angular', 'loss_function': 'mean_squared_error', 'lr': 5, 'monitor_value': 'val_custom_mae', 'optimizer': <class 'tensorflow.python.keras.optimizer_v2.adam.Adam'>, 'reduction_metric': 'custom_mae', 'samples': 20000}\n",
      "Using Loss: mean_squared_error \n",
      "and Reduction Metric: [<function custom_mae at 0x000001C2C8E7DAF8>]\n",
      "Monitor: val_custom_mae\n",
      "Train on 16000 samples, validate on 3968 samples\n",
      "15680/16000 [============================>.] - ETA: 0s - loss: 13348.8364 - custom_mae: 57.6352\n",
      "Epoch 00001: val_custom_mae improved from inf to 33.88697, saving model to ..\\fast_output\\SYNTH_Regression_MSE\\201019_2253_final_Angular_Base_Custom-MAE\\Best_Weights_FC_110.hdf5\n",
      "16000/16000 [==============================] - 5s 335us/sample - loss: 13144.6951 - custom_mae: 57.2250 - val_loss: 3027.0805 - val_custom_mae: 33.8870\n",
      "Time taken: 0:00:06.845929\n"
     ]
    },
    {
     "name": "stderr",
     "output_type": "stream",
     "text": [
      "\n",
      " 31%|████████████████████████▋                                                       | 111/360 [19:20<34:16,  8.26s/it]\u001b[A"
     ]
    },
    {
     "name": "stdout",
     "output_type": "stream",
     "text": [
      "{'activation': 'leakyrelu', 'batch_size': 64, 'dropout': 0.25, 'epochs': 1, 'first_neuron': 2048, 'hidden_layers': 2, 'label_type': 'Angular', 'loss_function': 'mean_squared_error', 'lr': 1, 'monitor_value': 'val_custom_mae', 'optimizer': <class 'tensorflow.python.keras.optimizer_v2.adam.Adam'>, 'reduction_metric': 'custom_mae', 'samples': 20000}\n",
      "Using Loss: mean_squared_error \n",
      "and Reduction Metric: [<function custom_mae at 0x000001C2C8E7DAF8>]\n",
      "Monitor: val_custom_mae\n",
      "Train on 16000 samples, validate on 3968 samples\n",
      "15744/16000 [============================>.] - ETA: 0s - loss: 4196.3820 - custom_mae: 42.9686\n",
      "Epoch 00001: val_custom_mae improved from inf to 31.51384, saving model to ..\\fast_output\\SYNTH_Regression_MSE\\201019_2253_final_Angular_Base_Custom-MAE\\Best_Weights_FC_111.hdf5\n",
      "16000/16000 [==============================] - 6s 344us/sample - loss: 4168.6043 - custom_mae: 42.7708 - val_loss: 2746.3398 - val_custom_mae: 31.5138\n",
      "Time taken: 0:00:06.993047\n"
     ]
    },
    {
     "name": "stderr",
     "output_type": "stream",
     "text": [
      "\n",
      " 31%|████████████████████████▉                                                       | 112/360 [19:28<34:39,  8.39s/it]\u001b[A"
     ]
    },
    {
     "name": "stdout",
     "output_type": "stream",
     "text": [
      "{'activation': 'leakyrelu', 'batch_size': 64, 'dropout': 0.25, 'epochs': 1, 'first_neuron': 2048, 'hidden_layers': 2, 'label_type': 'Angular', 'loss_function': 'mean_squared_error', 'lr': 2, 'monitor_value': 'val_custom_mae', 'optimizer': <class 'tensorflow.python.keras.optimizer_v2.adam.Adam'>, 'reduction_metric': 'custom_mae', 'samples': 20000}\n",
      "Using Loss: mean_squared_error \n",
      "and Reduction Metric: [<function custom_mae at 0x000001C2C8E7DAF8>]\n",
      "Monitor: val_custom_mae\n",
      "Train on 16000 samples, validate on 3968 samples\n",
      "15808/16000 [============================>.] - ETA: 0s - loss: 5650.8353 - custom_mae: 48.0350\n",
      "Epoch 00001: val_custom_mae improved from inf to 32.42035, saving model to ..\\fast_output\\SYNTH_Regression_MSE\\201019_2253_final_Angular_Base_Custom-MAE\\Best_Weights_FC_112.hdf5\n",
      "16000/16000 [==============================] - 6s 345us/sample - loss: 5617.6164 - custom_mae: 47.8568 - val_loss: 2911.2169 - val_custom_mae: 32.4204\n",
      "Time taken: 0:00:07.017509\n"
     ]
    },
    {
     "name": "stderr",
     "output_type": "stream",
     "text": [
      "\n",
      " 31%|█████████████████████████                                                       | 113/360 [19:37<34:55,  8.48s/it]\u001b[A"
     ]
    },
    {
     "name": "stdout",
     "output_type": "stream",
     "text": [
      "{'activation': 'leakyrelu', 'batch_size': 64, 'dropout': 0.25, 'epochs': 1, 'first_neuron': 2048, 'hidden_layers': 2, 'label_type': 'Angular', 'loss_function': 'mean_squared_error', 'lr': 5, 'monitor_value': 'val_custom_mae', 'optimizer': <class 'tensorflow.python.keras.optimizer_v2.adam.Adam'>, 'reduction_metric': 'custom_mae', 'samples': 20000}\n",
      "Using Loss: mean_squared_error \n",
      "and Reduction Metric: [<function custom_mae at 0x000001C2C8E7DAF8>]\n",
      "Monitor: val_custom_mae\n",
      "Train on 16000 samples, validate on 3968 samples\n",
      "15680/16000 [============================>.] - ETA: 0s - loss: 24272.2383 - custom_mae: 66.2503\n",
      "Epoch 00001: val_custom_mae improved from inf to 38.04176, saving model to ..\\fast_output\\SYNTH_Regression_MSE\\201019_2253_final_Angular_Base_Custom-MAE\\Best_Weights_FC_113.hdf5\n",
      "16000/16000 [==============================] - 5s 342us/sample - loss: 23856.6758 - custom_mae: 65.7309 - val_loss: 3518.1256 - val_custom_mae: 38.0418\n",
      "Time taken: 0:00:06.971833\n"
     ]
    },
    {
     "name": "stderr",
     "output_type": "stream",
     "text": [
      "\n",
      " 32%|█████████████████████████▎                                                      | 114/360 [19:46<34:59,  8.54s/it]\u001b[A"
     ]
    },
    {
     "name": "stdout",
     "output_type": "stream",
     "text": [
      "{'activation': 'leakyrelu', 'batch_size': 64, 'dropout': 0.25, 'epochs': 1, 'first_neuron': 2048, 'hidden_layers': 3, 'label_type': 'Angular', 'loss_function': 'mean_squared_error', 'lr': 1, 'monitor_value': 'val_custom_mae', 'optimizer': <class 'tensorflow.python.keras.optimizer_v2.adam.Adam'>, 'reduction_metric': 'custom_mae', 'samples': 20000}\n",
      "Using Loss: mean_squared_error \n",
      "and Reduction Metric: [<function custom_mae at 0x000001C2C8E7DAF8>]\n",
      "Monitor: val_custom_mae\n",
      "Train on 16000 samples, validate on 3968 samples\n",
      "15808/16000 [============================>.] - ETA: 0s - loss: 4626.9352 - custom_mae: 45.3953\n",
      "Epoch 00001: val_custom_mae improved from inf to 29.28832, saving model to ..\\fast_output\\SYNTH_Regression_MSE\\201019_2253_final_Angular_Base_Custom-MAE\\Best_Weights_FC_114.hdf5\n",
      "16000/16000 [==============================] - 6s 350us/sample - loss: 4604.1985 - custom_mae: 45.2347 - val_loss: 2498.2181 - val_custom_mae: 29.2883\n",
      "Time taken: 0:00:07.089833\n"
     ]
    },
    {
     "name": "stderr",
     "output_type": "stream",
     "text": [
      "\n",
      " 32%|█████████████████████████▌                                                      | 115/360 [19:55<35:10,  8.61s/it]\u001b[A"
     ]
    },
    {
     "name": "stdout",
     "output_type": "stream",
     "text": [
      "{'activation': 'leakyrelu', 'batch_size': 64, 'dropout': 0.25, 'epochs': 1, 'first_neuron': 2048, 'hidden_layers': 3, 'label_type': 'Angular', 'loss_function': 'mean_squared_error', 'lr': 2, 'monitor_value': 'val_custom_mae', 'optimizer': <class 'tensorflow.python.keras.optimizer_v2.adam.Adam'>, 'reduction_metric': 'custom_mae', 'samples': 20000}\n",
      "Using Loss: mean_squared_error \n",
      "and Reduction Metric: [<function custom_mae at 0x000001C2C8E7DAF8>]\n",
      "Monitor: val_custom_mae\n",
      "Train on 16000 samples, validate on 3968 samples\n",
      "15808/16000 [============================>.] - ETA: 0s - loss: 5823.4951 - custom_mae: 48.8591\n",
      "Epoch 00001: val_custom_mae improved from inf to 36.09851, saving model to ..\\fast_output\\SYNTH_Regression_MSE\\201019_2253_final_Angular_Base_Custom-MAE\\Best_Weights_FC_115.hdf5\n",
      "16000/16000 [==============================] - 6s 348us/sample - loss: 5789.3970 - custom_mae: 48.6900 - val_loss: 3306.3838 - val_custom_mae: 36.0985\n",
      "Time taken: 0:00:07.046539\n"
     ]
    },
    {
     "name": "stderr",
     "output_type": "stream",
     "text": [
      "\n",
      " 32%|█████████████████████████▊                                                      | 116/360 [20:03<35:12,  8.66s/it]\u001b[A"
     ]
    },
    {
     "name": "stdout",
     "output_type": "stream",
     "text": [
      "{'activation': 'leakyrelu', 'batch_size': 64, 'dropout': 0.25, 'epochs': 1, 'first_neuron': 2048, 'hidden_layers': 3, 'label_type': 'Angular', 'loss_function': 'mean_squared_error', 'lr': 5, 'monitor_value': 'val_custom_mae', 'optimizer': <class 'tensorflow.python.keras.optimizer_v2.adam.Adam'>, 'reduction_metric': 'custom_mae', 'samples': 20000}\n",
      "Using Loss: mean_squared_error \n",
      "and Reduction Metric: [<function custom_mae at 0x000001C2C8E7DAF8>]\n",
      "Monitor: val_custom_mae\n",
      "Train on 16000 samples, validate on 3968 samples\n",
      "15680/16000 [============================>.] - ETA: 0s - loss: 7274.7799 - custom_mae: 52.8149\n",
      "Epoch 00001: val_custom_mae improved from inf to 33.64622, saving model to ..\\fast_output\\SYNTH_Regression_MSE\\201019_2253_final_Angular_Base_Custom-MAE\\Best_Weights_FC_116.hdf5\n",
      "16000/16000 [==============================] - 6s 354us/sample - loss: 7191.5059 - custom_mae: 52.4928 - val_loss: 2827.0896 - val_custom_mae: 33.6462\n",
      "Time taken: 0:00:07.162586\n"
     ]
    },
    {
     "name": "stderr",
     "output_type": "stream",
     "text": [
      "\n",
      " 32%|██████████████████████████                                                      | 117/360 [20:12<35:20,  8.73s/it]\u001b[A"
     ]
    },
    {
     "name": "stdout",
     "output_type": "stream",
     "text": [
      "{'activation': 'leakyrelu', 'batch_size': 64, 'dropout': 0.25, 'epochs': 1, 'first_neuron': 2048, 'hidden_layers': 4, 'label_type': 'Angular', 'loss_function': 'mean_squared_error', 'lr': 1, 'monitor_value': 'val_custom_mae', 'optimizer': <class 'tensorflow.python.keras.optimizer_v2.adam.Adam'>, 'reduction_metric': 'custom_mae', 'samples': 20000}\n",
      "Using Loss: mean_squared_error \n",
      "and Reduction Metric: [<function custom_mae at 0x000001C2C8E7DAF8>]\n",
      "Monitor: val_custom_mae\n",
      "Train on 16000 samples, validate on 3968 samples\n",
      "15680/16000 [============================>.] - ETA: 0s - loss: 5012.1878 - custom_mae: 48.7348\n",
      "Epoch 00001: val_custom_mae improved from inf to 31.21690, saving model to ..\\fast_output\\SYNTH_Regression_MSE\\201019_2253_final_Angular_Base_Custom-MAE\\Best_Weights_FC_117.hdf5\n",
      "16000/16000 [==============================] - 6s 355us/sample - loss: 4965.5776 - custom_mae: 48.4459 - val_loss: 2581.9589 - val_custom_mae: 31.2169\n",
      "Time taken: 0:00:07.152682\n"
     ]
    },
    {
     "name": "stderr",
     "output_type": "stream",
     "text": [
      "\n",
      " 33%|██████████████████████████▏                                                     | 118/360 [20:21<35:24,  8.78s/it]\u001b[A"
     ]
    },
    {
     "name": "stdout",
     "output_type": "stream",
     "text": [
      "{'activation': 'leakyrelu', 'batch_size': 64, 'dropout': 0.25, 'epochs': 1, 'first_neuron': 2048, 'hidden_layers': 4, 'label_type': 'Angular', 'loss_function': 'mean_squared_error', 'lr': 2, 'monitor_value': 'val_custom_mae', 'optimizer': <class 'tensorflow.python.keras.optimizer_v2.adam.Adam'>, 'reduction_metric': 'custom_mae', 'samples': 20000}\n",
      "Using Loss: mean_squared_error \n",
      "and Reduction Metric: [<function custom_mae at 0x000001C2C8E7DAF8>]\n",
      "Monitor: val_custom_mae\n",
      "Train on 16000 samples, validate on 3968 samples\n",
      "15936/16000 [============================>.] - ETA: 0s - loss: 6300.6940 - custom_mae: 50.8930\n",
      "Epoch 00001: val_custom_mae improved from inf to 39.32298, saving model to ..\\fast_output\\SYNTH_Regression_MSE\\201019_2253_final_Angular_Base_Custom-MAE\\Best_Weights_FC_118.hdf5\n",
      "16000/16000 [==============================] - 6s 359us/sample - loss: 6292.6938 - custom_mae: 50.8748 - val_loss: 3042.2683 - val_custom_mae: 39.3230\n",
      "Time taken: 0:00:07.248303\n"
     ]
    },
    {
     "name": "stderr",
     "output_type": "stream",
     "text": [
      "\n",
      " 33%|██████████████████████████▍                                                     | 119/360 [20:30<35:31,  8.84s/it]\u001b[A"
     ]
    },
    {
     "name": "stdout",
     "output_type": "stream",
     "text": [
      "{'activation': 'leakyrelu', 'batch_size': 64, 'dropout': 0.25, 'epochs': 1, 'first_neuron': 2048, 'hidden_layers': 4, 'label_type': 'Angular', 'loss_function': 'mean_squared_error', 'lr': 5, 'monitor_value': 'val_custom_mae', 'optimizer': <class 'tensorflow.python.keras.optimizer_v2.adam.Adam'>, 'reduction_metric': 'custom_mae', 'samples': 20000}\n",
      "Using Loss: mean_squared_error \n",
      "and Reduction Metric: [<function custom_mae at 0x000001C2C8E7DAF8>]\n",
      "Monitor: val_custom_mae\n",
      "Train on 16000 samples, validate on 3968 samples\n",
      "15936/16000 [============================>.] - ETA: 0s - loss: 8020.1164 - custom_mae: 61.4073\n",
      "Epoch 00001: val_custom_mae improved from inf to 43.14540, saving model to ..\\fast_output\\SYNTH_Regression_MSE\\201019_2253_final_Angular_Base_Custom-MAE\\Best_Weights_FC_119.hdf5\n",
      "16000/16000 [==============================] - 6s 354us/sample - loss: 8004.6693 - custom_mae: 61.3387 - val_loss: 3595.9642 - val_custom_mae: 43.1454\n",
      "Time taken: 0:00:07.198028\n"
     ]
    },
    {
     "name": "stderr",
     "output_type": "stream",
     "text": [
      "\n",
      " 33%|██████████████████████████▋                                                     | 120/360 [20:39<35:29,  8.87s/it]\u001b[A"
     ]
    },
    {
     "name": "stdout",
     "output_type": "stream",
     "text": [
      "{'activation': 'leakyrelu', 'batch_size': 64, 'dropout': 0.25, 'epochs': 1, 'first_neuron': 4096, 'hidden_layers': 0, 'label_type': 'Angular', 'loss_function': 'mean_squared_error', 'lr': 1, 'monitor_value': 'val_custom_mae', 'optimizer': <class 'tensorflow.python.keras.optimizer_v2.adam.Adam'>, 'reduction_metric': 'custom_mae', 'samples': 20000}\n",
      "Using Loss: mean_squared_error \n",
      "and Reduction Metric: [<function custom_mae at 0x000001C2C8E7DAF8>]\n",
      "Monitor: val_custom_mae\n",
      "Train on 16000 samples, validate on 3968 samples\n",
      "15872/16000 [============================>.] - ETA: 0s - loss: 3951.9107 - custom_mae: 40.1454\n",
      "Epoch 00001: val_custom_mae improved from inf to 30.97506, saving model to ..\\fast_output\\SYNTH_Regression_MSE\\201019_2253_final_Angular_Base_Custom-MAE\\Best_Weights_FC_120.hdf5\n",
      "16000/16000 [==============================] - 9s 569us/sample - loss: 3940.1397 - custom_mae: 40.0504 - val_loss: 2780.4834 - val_custom_mae: 30.9751\n",
      "Time taken: 0:00:10.592121\n"
     ]
    },
    {
     "name": "stderr",
     "output_type": "stream",
     "text": [
      "\n",
      " 34%|██████████████████████████▉                                                     | 121/360 [20:51<39:22,  9.88s/it]\u001b[A"
     ]
    },
    {
     "name": "stdout",
     "output_type": "stream",
     "text": [
      "{'activation': 'leakyrelu', 'batch_size': 64, 'dropout': 0.25, 'epochs': 1, 'first_neuron': 4096, 'hidden_layers': 0, 'label_type': 'Angular', 'loss_function': 'mean_squared_error', 'lr': 2, 'monitor_value': 'val_custom_mae', 'optimizer': <class 'tensorflow.python.keras.optimizer_v2.adam.Adam'>, 'reduction_metric': 'custom_mae', 'samples': 20000}\n",
      "Using Loss: mean_squared_error \n",
      "and Reduction Metric: [<function custom_mae at 0x000001C2C8E7DAF8>]\n",
      "Monitor: val_custom_mae\n",
      "Train on 16000 samples, validate on 3968 samples\n",
      "15936/16000 [============================>.] - ETA: 0s - loss: 3787.3815 - custom_mae: 38.9856\n",
      "Epoch 00001: val_custom_mae improved from inf to 30.26934, saving model to ..\\fast_output\\SYNTH_Regression_MSE\\201019_2253_final_Angular_Base_Custom-MAE\\Best_Weights_FC_121.hdf5\n",
      "16000/16000 [==============================] - 9s 563us/sample - loss: 3784.0661 - custom_mae: 38.9509 - val_loss: 2734.6434 - val_custom_mae: 30.2693\n",
      "Time taken: 0:00:10.512981\n"
     ]
    },
    {
     "name": "stderr",
     "output_type": "stream",
     "text": [
      "\n",
      " 34%|███████████████████████████                                                     | 122/360 [21:03<41:53, 10.56s/it]\u001b[A"
     ]
    },
    {
     "name": "stdout",
     "output_type": "stream",
     "text": [
      "{'activation': 'leakyrelu', 'batch_size': 64, 'dropout': 0.25, 'epochs': 1, 'first_neuron': 4096, 'hidden_layers': 0, 'label_type': 'Angular', 'loss_function': 'mean_squared_error', 'lr': 5, 'monitor_value': 'val_custom_mae', 'optimizer': <class 'tensorflow.python.keras.optimizer_v2.adam.Adam'>, 'reduction_metric': 'custom_mae', 'samples': 20000}\n",
      "Using Loss: mean_squared_error \n",
      "and Reduction Metric: [<function custom_mae at 0x000001C2C8E7DAF8>]\n",
      "Monitor: val_custom_mae\n",
      "Train on 16000 samples, validate on 3968 samples\n",
      "15936/16000 [============================>.] - ETA: 0s - loss: 4944.6852 - custom_mae: 43.2076\n",
      "Epoch 00001: val_custom_mae improved from inf to 30.97255, saving model to ..\\fast_output\\SYNTH_Regression_MSE\\201019_2253_final_Angular_Base_Custom-MAE\\Best_Weights_FC_122.hdf5\n",
      "16000/16000 [==============================] - 9s 557us/sample - loss: 4936.6097 - custom_mae: 43.1576 - val_loss: 2831.9042 - val_custom_mae: 30.9725\n",
      "Time taken: 0:00:10.365695\n"
     ]
    },
    {
     "name": "stderr",
     "output_type": "stream",
     "text": [
      "\n",
      " 34%|███████████████████████████▎                                                    | 123/360 [21:15<43:25, 11.00s/it]\u001b[A"
     ]
    },
    {
     "name": "stdout",
     "output_type": "stream",
     "text": [
      "{'activation': 'leakyrelu', 'batch_size': 64, 'dropout': 0.25, 'epochs': 1, 'first_neuron': 4096, 'hidden_layers': 1, 'label_type': 'Angular', 'loss_function': 'mean_squared_error', 'lr': 1, 'monitor_value': 'val_custom_mae', 'optimizer': <class 'tensorflow.python.keras.optimizer_v2.adam.Adam'>, 'reduction_metric': 'custom_mae', 'samples': 20000}\n",
      "Using Loss: mean_squared_error \n",
      "and Reduction Metric: [<function custom_mae at 0x000001C2C8E7DAF8>]\n",
      "Monitor: val_custom_mae\n",
      "Train on 16000 samples, validate on 3968 samples\n",
      "15936/16000 [============================>.] - ETA: 0s - loss: 4375.9525 - custom_mae: 41.9283\n",
      "Epoch 00001: val_custom_mae improved from inf to 28.50871, saving model to ..\\fast_output\\SYNTH_Regression_MSE\\201019_2253_final_Angular_Base_Custom-MAE\\Best_Weights_FC_123.hdf5\n",
      "16000/16000 [==============================] - 10s 597us/sample - loss: 4370.2624 - custom_mae: 41.8868 - val_loss: 2505.0506 - val_custom_mae: 28.5087\n",
      "Time taken: 0:00:11.034607\n"
     ]
    },
    {
     "name": "stderr",
     "output_type": "stream",
     "text": [
      "\n",
      " 34%|███████████████████████████▌                                                    | 124/360 [21:28<45:15, 11.50s/it]\u001b[A"
     ]
    },
    {
     "name": "stdout",
     "output_type": "stream",
     "text": [
      "{'activation': 'leakyrelu', 'batch_size': 64, 'dropout': 0.25, 'epochs': 1, 'first_neuron': 4096, 'hidden_layers': 1, 'label_type': 'Angular', 'loss_function': 'mean_squared_error', 'lr': 2, 'monitor_value': 'val_custom_mae', 'optimizer': <class 'tensorflow.python.keras.optimizer_v2.adam.Adam'>, 'reduction_metric': 'custom_mae', 'samples': 20000}\n",
      "Using Loss: mean_squared_error \n",
      "and Reduction Metric: [<function custom_mae at 0x000001C2C8E7DAF8>]\n",
      "Monitor: val_custom_mae\n",
      "Train on 16000 samples, validate on 3968 samples\n",
      "15936/16000 [============================>.] - ETA: 0s - loss: 6466.0315 - custom_mae: 49.2910\n",
      "Epoch 00001: val_custom_mae improved from inf to 37.33148, saving model to ..\\fast_output\\SYNTH_Regression_MSE\\201019_2253_final_Angular_Base_Custom-MAE\\Best_Weights_FC_124.hdf5\n",
      "16000/16000 [==============================] - 10s 601us/sample - loss: 6451.9605 - custom_mae: 49.2169 - val_loss: 3047.1122 - val_custom_mae: 37.3315\n",
      "Time taken: 0:00:11.096997\n"
     ]
    },
    {
     "name": "stderr",
     "output_type": "stream",
     "text": [
      "\n",
      " 35%|███████████████████████████▊                                                    | 125/360 [21:41<46:31, 11.88s/it]\u001b[A"
     ]
    },
    {
     "name": "stdout",
     "output_type": "stream",
     "text": [
      "{'activation': 'leakyrelu', 'batch_size': 64, 'dropout': 0.25, 'epochs': 1, 'first_neuron': 4096, 'hidden_layers': 1, 'label_type': 'Angular', 'loss_function': 'mean_squared_error', 'lr': 5, 'monitor_value': 'val_custom_mae', 'optimizer': <class 'tensorflow.python.keras.optimizer_v2.adam.Adam'>, 'reduction_metric': 'custom_mae', 'samples': 20000}\n",
      "Using Loss: mean_squared_error \n",
      "and Reduction Metric: [<function custom_mae at 0x000001C2C8E7DAF8>]\n",
      "Monitor: val_custom_mae\n",
      "Train on 16000 samples, validate on 3968 samples\n",
      "15872/16000 [============================>.] - ETA: 0s - loss: 67386.5996 - custom_mae: 86.9766\n",
      "Epoch 00001: val_custom_mae improved from inf to 50.74297, saving model to ..\\fast_output\\SYNTH_Regression_MSE\\201019_2253_final_Angular_Base_Custom-MAE\\Best_Weights_FC_125.hdf5\n",
      "16000/16000 [==============================] - 10s 607us/sample - loss: 66882.2818 - custom_mae: 86.6668 - val_loss: 4143.7868 - val_custom_mae: 50.7430\n",
      "Time taken: 0:00:11.192318\n"
     ]
    },
    {
     "name": "stderr",
     "output_type": "stream",
     "text": [
      "\n",
      " 35%|████████████████████████████                                                    | 126/360 [21:54<47:30, 12.18s/it]\u001b[A"
     ]
    },
    {
     "name": "stdout",
     "output_type": "stream",
     "text": [
      "{'activation': 'leakyrelu', 'batch_size': 64, 'dropout': 0.25, 'epochs': 1, 'first_neuron': 4096, 'hidden_layers': 2, 'label_type': 'Angular', 'loss_function': 'mean_squared_error', 'lr': 1, 'monitor_value': 'val_custom_mae', 'optimizer': <class 'tensorflow.python.keras.optimizer_v2.adam.Adam'>, 'reduction_metric': 'custom_mae', 'samples': 20000}\n",
      "Using Loss: mean_squared_error \n",
      "and Reduction Metric: [<function custom_mae at 0x000001C2C8E7DAF8>]\n",
      "Monitor: val_custom_mae\n",
      "Train on 16000 samples, validate on 3968 samples\n",
      "15872/16000 [============================>.] - ETA: 0s - loss: 4914.9507 - custom_mae: 44.1579\n",
      "Epoch 00001: val_custom_mae improved from inf to 29.05288, saving model to ..\\fast_output\\SYNTH_Regression_MSE\\201019_2253_final_Angular_Base_Custom-MAE\\Best_Weights_FC_126.hdf5\n",
      "16000/16000 [==============================] - 10s 630us/sample - loss: 4895.0280 - custom_mae: 44.0376 - val_loss: 2567.7893 - val_custom_mae: 29.0529\n",
      "Time taken: 0:00:11.591134\n"
     ]
    },
    {
     "name": "stderr",
     "output_type": "stream",
     "text": [
      "\n",
      " 35%|████████████████████████████▏                                                   | 127/360 [22:07<48:38, 12.53s/it]\u001b[A"
     ]
    },
    {
     "name": "stdout",
     "output_type": "stream",
     "text": [
      "{'activation': 'leakyrelu', 'batch_size': 64, 'dropout': 0.25, 'epochs': 1, 'first_neuron': 4096, 'hidden_layers': 2, 'label_type': 'Angular', 'loss_function': 'mean_squared_error', 'lr': 2, 'monitor_value': 'val_custom_mae', 'optimizer': <class 'tensorflow.python.keras.optimizer_v2.adam.Adam'>, 'reduction_metric': 'custom_mae', 'samples': 20000}\n",
      "Using Loss: mean_squared_error \n",
      "and Reduction Metric: [<function custom_mae at 0x000001C2C8E7DAF8>]\n",
      "Monitor: val_custom_mae\n",
      "Train on 16000 samples, validate on 3968 samples\n",
      "15936/16000 [============================>.] - ETA: 0s - loss: 7263.6916 - custom_mae: 49.4369\n",
      "Epoch 00001: val_custom_mae improved from inf to 34.13314, saving model to ..\\fast_output\\SYNTH_Regression_MSE\\201019_2253_final_Angular_Base_Custom-MAE\\Best_Weights_FC_127.hdf5\n",
      "16000/16000 [==============================] - 10s 621us/sample - loss: 7245.7778 - custom_mae: 49.3688 - val_loss: 2713.6347 - val_custom_mae: 34.1331\n",
      "Time taken: 0:00:11.445848\n"
     ]
    },
    {
     "name": "stderr",
     "output_type": "stream",
     "text": [
      "\n",
      " 36%|████████████████████████████▍                                                   | 128/360 [22:20<49:11, 12.72s/it]\u001b[A"
     ]
    },
    {
     "name": "stdout",
     "output_type": "stream",
     "text": [
      "{'activation': 'leakyrelu', 'batch_size': 64, 'dropout': 0.25, 'epochs': 1, 'first_neuron': 4096, 'hidden_layers': 2, 'label_type': 'Angular', 'loss_function': 'mean_squared_error', 'lr': 5, 'monitor_value': 'val_custom_mae', 'optimizer': <class 'tensorflow.python.keras.optimizer_v2.adam.Adam'>, 'reduction_metric': 'custom_mae', 'samples': 20000}\n",
      "Using Loss: mean_squared_error \n",
      "and Reduction Metric: [<function custom_mae at 0x000001C2C8E7DAF8>]\n",
      "Monitor: val_custom_mae\n",
      "Train on 16000 samples, validate on 3968 samples\n",
      "15808/16000 [============================>.] - ETA: 0s - loss: 1273315.5700 - custom_mae: 193.6620\n",
      "Epoch 00001: val_custom_mae improved from inf to 56.87626, saving model to ..\\fast_output\\SYNTH_Regression_MSE\\201019_2253_final_Angular_Base_Custom-MAE\\Best_Weights_FC_128.hdf5\n",
      "16000/16000 [==============================] - 10s 617us/sample - loss: 1258113.6657 - custom_mae: 192.0987 - val_loss: 5372.0729 - val_custom_mae: 56.8763\n",
      "Time taken: 0:00:11.381168\n"
     ]
    },
    {
     "name": "stderr",
     "output_type": "stream",
     "text": [
      "\n",
      " 36%|████████████████████████████▋                                                   | 129/360 [22:33<49:23, 12.83s/it]\u001b[A"
     ]
    },
    {
     "name": "stdout",
     "output_type": "stream",
     "text": [
      "{'activation': 'leakyrelu', 'batch_size': 64, 'dropout': 0.25, 'epochs': 1, 'first_neuron': 4096, 'hidden_layers': 3, 'label_type': 'Angular', 'loss_function': 'mean_squared_error', 'lr': 1, 'monitor_value': 'val_custom_mae', 'optimizer': <class 'tensorflow.python.keras.optimizer_v2.adam.Adam'>, 'reduction_metric': 'custom_mae', 'samples': 20000}\n",
      "Using Loss: mean_squared_error \n",
      "and Reduction Metric: [<function custom_mae at 0x000001C2C8E7DAF8>]\n",
      "Monitor: val_custom_mae\n",
      "Train on 16000 samples, validate on 3968 samples\n",
      "15744/16000 [============================>.] - ETA: 0s - loss: 4789.0495 - custom_mae: 44.8903\n",
      "Epoch 00001: val_custom_mae improved from inf to 32.91758, saving model to ..\\fast_output\\SYNTH_Regression_MSE\\201019_2253_final_Angular_Base_Custom-MAE\\Best_Weights_FC_129.hdf5\n",
      "16000/16000 [==============================] - 10s 622us/sample - loss: 4752.9352 - custom_mae: 44.6752 - val_loss: 2838.0138 - val_custom_mae: 32.9176\n",
      "Time taken: 0:00:11.453874\n"
     ]
    },
    {
     "name": "stderr",
     "output_type": "stream",
     "text": [
      "\n",
      " 36%|████████████████████████████▉                                                   | 130/360 [22:47<49:34, 12.93s/it]\u001b[A"
     ]
    },
    {
     "name": "stdout",
     "output_type": "stream",
     "text": [
      "{'activation': 'leakyrelu', 'batch_size': 64, 'dropout': 0.25, 'epochs': 1, 'first_neuron': 4096, 'hidden_layers': 3, 'label_type': 'Angular', 'loss_function': 'mean_squared_error', 'lr': 2, 'monitor_value': 'val_custom_mae', 'optimizer': <class 'tensorflow.python.keras.optimizer_v2.adam.Adam'>, 'reduction_metric': 'custom_mae', 'samples': 20000}\n",
      "Using Loss: mean_squared_error \n",
      "and Reduction Metric: [<function custom_mae at 0x000001C2C8E7DAF8>]\n",
      "Monitor: val_custom_mae\n",
      "Train on 16000 samples, validate on 3968 samples\n",
      "15936/16000 [============================>.] - ETA: 0s - loss: 6777.7699 - custom_mae: 50.8666\n",
      "Epoch 00001: val_custom_mae improved from inf to 32.22744, saving model to ..\\fast_output\\SYNTH_Regression_MSE\\201019_2253_final_Angular_Base_Custom-MAE\\Best_Weights_FC_130.hdf5\n",
      "16000/16000 [==============================] - 10s 625us/sample - loss: 6763.8276 - custom_mae: 50.8059 - val_loss: 2776.0241 - val_custom_mae: 32.2274\n",
      "Time taken: 0:00:11.486941\n"
     ]
    },
    {
     "name": "stderr",
     "output_type": "stream",
     "text": [
      "\n",
      " 36%|█████████████████████████████                                                   | 131/360 [23:00<49:43, 13.03s/it]\u001b[A"
     ]
    },
    {
     "name": "stdout",
     "output_type": "stream",
     "text": [
      "{'activation': 'leakyrelu', 'batch_size': 64, 'dropout': 0.25, 'epochs': 1, 'first_neuron': 4096, 'hidden_layers': 3, 'label_type': 'Angular', 'loss_function': 'mean_squared_error', 'lr': 5, 'monitor_value': 'val_custom_mae', 'optimizer': <class 'tensorflow.python.keras.optimizer_v2.adam.Adam'>, 'reduction_metric': 'custom_mae', 'samples': 20000}\n",
      "Using Loss: mean_squared_error \n",
      "and Reduction Metric: [<function custom_mae at 0x000001C2C8E7DAF8>]\n",
      "Monitor: val_custom_mae\n",
      "Train on 16000 samples, validate on 3968 samples\n",
      "15936/16000 [============================>.] - ETA: 0s - loss: 741436.9815 - custom_mae: 185.8705\n",
      "Epoch 00001: val_custom_mae improved from inf to 59.01408, saving model to ..\\fast_output\\SYNTH_Regression_MSE\\201019_2253_final_Angular_Base_Custom-MAE\\Best_Weights_FC_131.hdf5\n",
      "16000/16000 [==============================] - 10s 625us/sample - loss: 738498.8071 - custom_mae: 185.3845 - val_loss: 6061.4327 - val_custom_mae: 59.0141\n",
      "Time taken: 0:00:11.513237\n"
     ]
    },
    {
     "name": "stderr",
     "output_type": "stream",
     "text": [
      "\n",
      " 37%|█████████████████████████████▎                                                  | 132/360 [23:13<49:47, 13.10s/it]\u001b[A"
     ]
    },
    {
     "name": "stdout",
     "output_type": "stream",
     "text": [
      "{'activation': 'leakyrelu', 'batch_size': 64, 'dropout': 0.25, 'epochs': 1, 'first_neuron': 4096, 'hidden_layers': 4, 'label_type': 'Angular', 'loss_function': 'mean_squared_error', 'lr': 1, 'monitor_value': 'val_custom_mae', 'optimizer': <class 'tensorflow.python.keras.optimizer_v2.adam.Adam'>, 'reduction_metric': 'custom_mae', 'samples': 20000}\n",
      "Using Loss: mean_squared_error \n",
      "and Reduction Metric: [<function custom_mae at 0x000001C2C8E7DAF8>]\n",
      "Monitor: val_custom_mae\n",
      "Train on 16000 samples, validate on 3968 samples\n",
      "15936/16000 [============================>.] - ETA: 0s - loss: 4962.6856 - custom_mae: 48.1279\n",
      "Epoch 00001: val_custom_mae improved from inf to 33.14877, saving model to ..\\fast_output\\SYNTH_Regression_MSE\\201019_2253_final_Angular_Base_Custom-MAE\\Best_Weights_FC_132.hdf5\n",
      "16000/16000 [==============================] - 10s 629us/sample - loss: 4956.3341 - custom_mae: 48.0816 - val_loss: 2947.2295 - val_custom_mae: 33.1488\n",
      "Time taken: 0:00:11.599112\n"
     ]
    },
    {
     "name": "stderr",
     "output_type": "stream",
     "text": [
      "\n",
      " 37%|█████████████████████████████▌                                                  | 133/360 [23:26<49:53, 13.19s/it]\u001b[A"
     ]
    },
    {
     "name": "stdout",
     "output_type": "stream",
     "text": [
      "{'activation': 'leakyrelu', 'batch_size': 64, 'dropout': 0.25, 'epochs': 1, 'first_neuron': 4096, 'hidden_layers': 4, 'label_type': 'Angular', 'loss_function': 'mean_squared_error', 'lr': 2, 'monitor_value': 'val_custom_mae', 'optimizer': <class 'tensorflow.python.keras.optimizer_v2.adam.Adam'>, 'reduction_metric': 'custom_mae', 'samples': 20000}\n",
      "Using Loss: mean_squared_error \n",
      "and Reduction Metric: [<function custom_mae at 0x000001C2C8E7DAF8>]\n",
      "Monitor: val_custom_mae\n",
      "Train on 16000 samples, validate on 3968 samples\n",
      "15872/16000 [============================>.] - ETA: 0s - loss: 7631.8143 - custom_mae: 52.7780\n",
      "Epoch 00001: val_custom_mae improved from inf to 32.83016, saving model to ..\\fast_output\\SYNTH_Regression_MSE\\201019_2253_final_Angular_Base_Custom-MAE\\Best_Weights_FC_133.hdf5\n",
      "16000/16000 [==============================] - 10s 622us/sample - loss: 7594.8938 - custom_mae: 52.6335 - val_loss: 2874.3643 - val_custom_mae: 32.8302\n",
      "Time taken: 0:00:11.454521\n"
     ]
    },
    {
     "name": "stderr",
     "output_type": "stream",
     "text": [
      "\n",
      " 37%|█████████████████████████████▊                                                  | 134/360 [23:40<49:42, 13.20s/it]\u001b[A"
     ]
    },
    {
     "name": "stdout",
     "output_type": "stream",
     "text": [
      "{'activation': 'leakyrelu', 'batch_size': 64, 'dropout': 0.25, 'epochs': 1, 'first_neuron': 4096, 'hidden_layers': 4, 'label_type': 'Angular', 'loss_function': 'mean_squared_error', 'lr': 5, 'monitor_value': 'val_custom_mae', 'optimizer': <class 'tensorflow.python.keras.optimizer_v2.adam.Adam'>, 'reduction_metric': 'custom_mae', 'samples': 20000}\n",
      "Using Loss: mean_squared_error \n",
      "and Reduction Metric: [<function custom_mae at 0x000001C2C8E7DAF8>]\n",
      "Monitor: val_custom_mae\n",
      "Train on 16000 samples, validate on 3968 samples\n",
      "15872/16000 [============================>.] - ETA: 0s - loss: 313332.5845 - custom_mae: 128.4314\n",
      "Epoch 00001: val_custom_mae improved from inf to 55.37016, saving model to ..\\fast_output\\SYNTH_Regression_MSE\\201019_2253_final_Angular_Base_Custom-MAE\\Best_Weights_FC_134.hdf5\n",
      "16000/16000 [==============================] - 10s 629us/sample - loss: 310870.2055 - custom_mae: 127.8408 - val_loss: 5768.9148 - val_custom_mae: 55.3702\n",
      "Time taken: 0:00:11.564792\n"
     ]
    },
    {
     "name": "stderr",
     "output_type": "stream",
     "text": [
      "\n",
      " 38%|██████████████████████████████                                                  | 135/360 [23:53<49:38, 13.24s/it]\u001b[A"
     ]
    },
    {
     "name": "stdout",
     "output_type": "stream",
     "text": [
      "{'activation': 'leakyrelu', 'batch_size': 64, 'dropout': 0.5, 'epochs': 1, 'first_neuron': 1024, 'hidden_layers': 0, 'label_type': 'Angular', 'loss_function': 'mean_squared_error', 'lr': 1, 'monitor_value': 'val_custom_mae', 'optimizer': <class 'tensorflow.python.keras.optimizer_v2.adam.Adam'>, 'reduction_metric': 'custom_mae', 'samples': 20000}\n",
      "Using Loss: mean_squared_error \n",
      "and Reduction Metric: [<function custom_mae at 0x000001C2C8E7DAF8>]\n",
      "Monitor: val_custom_mae\n",
      "Train on 16000 samples, validate on 3968 samples\n",
      "15616/16000 [============================>.] - ETA: 0s - loss: 4530.1288 - custom_mae: 44.5479\n",
      "Epoch 00001: val_custom_mae improved from inf to 35.91911, saving model to ..\\fast_output\\SYNTH_Regression_MSE\\201019_2253_final_Angular_Base_Custom-MAE\\Best_Weights_FC_135.hdf5\n",
      "16000/16000 [==============================] - 4s 222us/sample - loss: 4493.3242 - custom_mae: 44.3193 - val_loss: 3359.6987 - val_custom_mae: 35.9191\n",
      "Time taken: 0:00:05.044123\n"
     ]
    },
    {
     "name": "stderr",
     "output_type": "stream",
     "text": [
      "\n",
      " 38%|██████████████████████████████▏                                                 | 136/360 [24:00<42:08, 11.29s/it]\u001b[A"
     ]
    },
    {
     "name": "stdout",
     "output_type": "stream",
     "text": [
      "{'activation': 'leakyrelu', 'batch_size': 64, 'dropout': 0.5, 'epochs': 1, 'first_neuron': 1024, 'hidden_layers': 0, 'label_type': 'Angular', 'loss_function': 'mean_squared_error', 'lr': 2, 'monitor_value': 'val_custom_mae', 'optimizer': <class 'tensorflow.python.keras.optimizer_v2.adam.Adam'>, 'reduction_metric': 'custom_mae', 'samples': 20000}\n",
      "Using Loss: mean_squared_error \n",
      "and Reduction Metric: [<function custom_mae at 0x000001C2C8E7DAF8>]\n",
      "Monitor: val_custom_mae\n",
      "Train on 16000 samples, validate on 3968 samples\n",
      "15936/16000 [============================>.] - ETA: 0s - loss: 4155.6136 - custom_mae: 42.1722\n",
      "Epoch 00001: val_custom_mae improved from inf to 32.87469, saving model to ..\\fast_output\\SYNTH_Regression_MSE\\201019_2253_final_Angular_Base_Custom-MAE\\Best_Weights_FC_136.hdf5\n",
      "16000/16000 [==============================] - 4s 232us/sample - loss: 4151.4231 - custom_mae: 42.1360 - val_loss: 2997.0970 - val_custom_mae: 32.8747\n",
      "Time taken: 0:00:05.215622\n"
     ]
    },
    {
     "name": "stderr",
     "output_type": "stream",
     "text": [
      "\n",
      " 38%|██████████████████████████████▍                                                 | 137/360 [24:07<37:02,  9.97s/it]\u001b[A"
     ]
    },
    {
     "name": "stdout",
     "output_type": "stream",
     "text": [
      "{'activation': 'leakyrelu', 'batch_size': 64, 'dropout': 0.5, 'epochs': 1, 'first_neuron': 1024, 'hidden_layers': 0, 'label_type': 'Angular', 'loss_function': 'mean_squared_error', 'lr': 5, 'monitor_value': 'val_custom_mae', 'optimizer': <class 'tensorflow.python.keras.optimizer_v2.adam.Adam'>, 'reduction_metric': 'custom_mae', 'samples': 20000}\n",
      "Using Loss: mean_squared_error \n",
      "and Reduction Metric: [<function custom_mae at 0x000001C2C8E7DAF8>]\n",
      "Monitor: val_custom_mae\n",
      "Train on 16000 samples, validate on 3968 samples\n",
      "15872/16000 [============================>.] - ETA: 0s - loss: 4256.5448 - custom_mae: 42.5474\n",
      "Epoch 00001: val_custom_mae improved from inf to 32.67492, saving model to ..\\fast_output\\SYNTH_Regression_MSE\\201019_2253_final_Angular_Base_Custom-MAE\\Best_Weights_FC_137.hdf5\n",
      "16000/16000 [==============================] - 3s 214us/sample - loss: 4244.5716 - custom_mae: 42.4599 - val_loss: 2944.9153 - val_custom_mae: 32.6749\n",
      "Time taken: 0:00:04.912904\n"
     ]
    },
    {
     "name": "stderr",
     "output_type": "stream",
     "text": [
      "\n",
      " 38%|██████████████████████████████▋                                                 | 138/360 [24:13<33:05,  8.95s/it]\u001b[A"
     ]
    },
    {
     "name": "stdout",
     "output_type": "stream",
     "text": [
      "{'activation': 'leakyrelu', 'batch_size': 64, 'dropout': 0.5, 'epochs': 1, 'first_neuron': 1024, 'hidden_layers': 1, 'label_type': 'Angular', 'loss_function': 'mean_squared_error', 'lr': 1, 'monitor_value': 'val_custom_mae', 'optimizer': <class 'tensorflow.python.keras.optimizer_v2.adam.Adam'>, 'reduction_metric': 'custom_mae', 'samples': 20000}\n",
      "Using Loss: mean_squared_error \n",
      "and Reduction Metric: [<function custom_mae at 0x000001C2C8E7DAF8>]\n",
      "Monitor: val_custom_mae\n",
      "Train on 16000 samples, validate on 3968 samples\n",
      "15936/16000 [============================>.] - ETA: 0s - loss: 4728.5659 - custom_mae: 46.6032\n",
      "Epoch 00001: val_custom_mae improved from inf to 34.33595, saving model to ..\\fast_output\\SYNTH_Regression_MSE\\201019_2253_final_Angular_Base_Custom-MAE\\Best_Weights_FC_138.hdf5\n",
      "16000/16000 [==============================] - 3s 211us/sample - loss: 4723.4854 - custom_mae: 46.5656 - val_loss: 3142.8995 - val_custom_mae: 34.3359\n",
      "Time taken: 0:00:04.889242\n"
     ]
    },
    {
     "name": "stderr",
     "output_type": "stream",
     "text": [
      "\n",
      " 39%|██████████████████████████████▉                                                 | 139/360 [24:20<30:19,  8.23s/it]\u001b[A"
     ]
    },
    {
     "name": "stdout",
     "output_type": "stream",
     "text": [
      "{'activation': 'leakyrelu', 'batch_size': 64, 'dropout': 0.5, 'epochs': 1, 'first_neuron': 1024, 'hidden_layers': 1, 'label_type': 'Angular', 'loss_function': 'mean_squared_error', 'lr': 2, 'monitor_value': 'val_custom_mae', 'optimizer': <class 'tensorflow.python.keras.optimizer_v2.adam.Adam'>, 'reduction_metric': 'custom_mae', 'samples': 20000}\n",
      "Using Loss: mean_squared_error \n",
      "and Reduction Metric: [<function custom_mae at 0x000001C2C8E7DAF8>]\n",
      "Monitor: val_custom_mae\n",
      "Train on 16000 samples, validate on 3968 samples\n",
      "15680/16000 [============================>.] - ETA: 0s - loss: 4611.2695 - custom_mae: 45.7930\n",
      "Epoch 00001: val_custom_mae improved from inf to 33.77994, saving model to ..\\fast_output\\SYNTH_Regression_MSE\\201019_2253_final_Angular_Base_Custom-MAE\\Best_Weights_FC_139.hdf5\n",
      "16000/16000 [==============================] - 3s 213us/sample - loss: 4577.0656 - custom_mae: 45.5694 - val_loss: 3043.7762 - val_custom_mae: 33.7799\n",
      "Time taken: 0:00:04.904658\n"
     ]
    },
    {
     "name": "stderr",
     "output_type": "stream",
     "text": [
      "\n",
      " 39%|███████████████████████████████                                                 | 140/360 [24:26<28:21,  7.73s/it]\u001b[A"
     ]
    },
    {
     "name": "stdout",
     "output_type": "stream",
     "text": [
      "{'activation': 'leakyrelu', 'batch_size': 64, 'dropout': 0.5, 'epochs': 1, 'first_neuron': 1024, 'hidden_layers': 1, 'label_type': 'Angular', 'loss_function': 'mean_squared_error', 'lr': 5, 'monitor_value': 'val_custom_mae', 'optimizer': <class 'tensorflow.python.keras.optimizer_v2.adam.Adam'>, 'reduction_metric': 'custom_mae', 'samples': 20000}\n",
      "Using Loss: mean_squared_error \n",
      "and Reduction Metric: [<function custom_mae at 0x000001C2C8E7DAF8>]\n",
      "Monitor: val_custom_mae\n",
      "Train on 16000 samples, validate on 3968 samples\n",
      "15616/16000 [============================>.] - ETA: 0s - loss: 5924.1379 - custom_mae: 49.8777\n",
      "Epoch 00001: val_custom_mae improved from inf to 36.11012, saving model to ..\\fast_output\\SYNTH_Regression_MSE\\201019_2253_final_Angular_Base_Custom-MAE\\Best_Weights_FC_140.hdf5\n",
      "16000/16000 [==============================] - 4s 221us/sample - loss: 5856.7057 - custom_mae: 49.5519 - val_loss: 3221.8033 - val_custom_mae: 36.1101\n",
      "Time taken: 0:00:05.052526\n"
     ]
    },
    {
     "name": "stderr",
     "output_type": "stream",
     "text": [
      "\n",
      " 39%|███████████████████████████████▎                                                | 141/360 [24:33<27:07,  7.43s/it]\u001b[A"
     ]
    },
    {
     "name": "stdout",
     "output_type": "stream",
     "text": [
      "{'activation': 'leakyrelu', 'batch_size': 64, 'dropout': 0.5, 'epochs': 1, 'first_neuron': 1024, 'hidden_layers': 2, 'label_type': 'Angular', 'loss_function': 'mean_squared_error', 'lr': 1, 'monitor_value': 'val_custom_mae', 'optimizer': <class 'tensorflow.python.keras.optimizer_v2.adam.Adam'>, 'reduction_metric': 'custom_mae', 'samples': 20000}\n",
      "Using Loss: mean_squared_error \n",
      "and Reduction Metric: [<function custom_mae at 0x000001C2C8E7DAF8>]\n",
      "Monitor: val_custom_mae\n",
      "Train on 16000 samples, validate on 3968 samples\n",
      "15744/16000 [============================>.] - ETA: 0s - loss: 5219.1155 - custom_mae: 50.5058\n",
      "Epoch 00001: val_custom_mae improved from inf to 35.53251, saving model to ..\\fast_output\\SYNTH_Regression_MSE\\201019_2253_final_Angular_Base_Custom-MAE\\Best_Weights_FC_141.hdf5\n",
      "16000/16000 [==============================] - 4s 221us/sample - loss: 5189.0095 - custom_mae: 50.3323 - val_loss: 3233.9224 - val_custom_mae: 35.5325\n",
      "Time taken: 0:00:05.035162\n"
     ]
    },
    {
     "name": "stderr",
     "output_type": "stream",
     "text": [
      "\n",
      " 39%|███████████████████████████████▌                                                | 142/360 [24:40<26:14,  7.22s/it]\u001b[A"
     ]
    },
    {
     "name": "stdout",
     "output_type": "stream",
     "text": [
      "{'activation': 'leakyrelu', 'batch_size': 64, 'dropout': 0.5, 'epochs': 1, 'first_neuron': 1024, 'hidden_layers': 2, 'label_type': 'Angular', 'loss_function': 'mean_squared_error', 'lr': 2, 'monitor_value': 'val_custom_mae', 'optimizer': <class 'tensorflow.python.keras.optimizer_v2.adam.Adam'>, 'reduction_metric': 'custom_mae', 'samples': 20000}\n",
      "Using Loss: mean_squared_error \n",
      "and Reduction Metric: [<function custom_mae at 0x000001C2C8E7DAF8>]\n",
      "Monitor: val_custom_mae\n",
      "Train on 16000 samples, validate on 3968 samples\n",
      "15488/16000 [============================>.] - ETA: 0s - loss: 5142.4597 - custom_mae: 49.5827\n",
      "Epoch 00001: val_custom_mae improved from inf to 35.63396, saving model to ..\\fast_output\\SYNTH_Regression_MSE\\201019_2253_final_Angular_Base_Custom-MAE\\Best_Weights_FC_142.hdf5\n",
      "16000/16000 [==============================] - 3s 218us/sample - loss: 5083.2185 - custom_mae: 49.2112 - val_loss: 3268.8953 - val_custom_mae: 35.6340\n",
      "Time taken: 0:00:04.983897\n"
     ]
    },
    {
     "name": "stderr",
     "output_type": "stream",
     "text": [
      "\n",
      " 40%|███████████████████████████████▊                                                | 143/360 [24:46<25:30,  7.05s/it]\u001b[A"
     ]
    },
    {
     "name": "stdout",
     "output_type": "stream",
     "text": [
      "{'activation': 'leakyrelu', 'batch_size': 64, 'dropout': 0.5, 'epochs': 1, 'first_neuron': 1024, 'hidden_layers': 2, 'label_type': 'Angular', 'loss_function': 'mean_squared_error', 'lr': 5, 'monitor_value': 'val_custom_mae', 'optimizer': <class 'tensorflow.python.keras.optimizer_v2.adam.Adam'>, 'reduction_metric': 'custom_mae', 'samples': 20000}\n",
      "Using Loss: mean_squared_error \n",
      "and Reduction Metric: [<function custom_mae at 0x000001C2C8E7DAF8>]\n",
      "Monitor: val_custom_mae\n",
      "Train on 16000 samples, validate on 3968 samples\n",
      "15552/16000 [============================>.] - ETA: 0s - loss: 5808.2487 - custom_mae: 53.1886\n",
      "Epoch 00001: val_custom_mae improved from inf to 42.43201, saving model to ..\\fast_output\\SYNTH_Regression_MSE\\201019_2253_final_Angular_Base_Custom-MAE\\Best_Weights_FC_143.hdf5\n",
      "16000/16000 [==============================] - 4s 226us/sample - loss: 5757.8135 - custom_mae: 52.9451 - val_loss: 3836.5840 - val_custom_mae: 42.4320\n",
      "Time taken: 0:00:05.089114\n"
     ]
    },
    {
     "name": "stderr",
     "output_type": "stream",
     "text": [
      "\n",
      " 40%|████████████████████████████████                                                | 144/360 [24:53<25:04,  6.97s/it]\u001b[A"
     ]
    },
    {
     "name": "stdout",
     "output_type": "stream",
     "text": [
      "{'activation': 'leakyrelu', 'batch_size': 64, 'dropout': 0.5, 'epochs': 1, 'first_neuron': 1024, 'hidden_layers': 3, 'label_type': 'Angular', 'loss_function': 'mean_squared_error', 'lr': 1, 'monitor_value': 'val_custom_mae', 'optimizer': <class 'tensorflow.python.keras.optimizer_v2.adam.Adam'>, 'reduction_metric': 'custom_mae', 'samples': 20000}\n",
      "Using Loss: mean_squared_error \n",
      "and Reduction Metric: [<function custom_mae at 0x000001C2C8E7DAF8>]\n",
      "Monitor: val_custom_mae\n",
      "Train on 16000 samples, validate on 3968 samples\n",
      "15744/16000 [============================>.] - ETA: 0s - loss: 6098.3654 - custom_mae: 56.4964\n",
      "Epoch 00001: val_custom_mae improved from inf to 43.45792, saving model to ..\\fast_output\\SYNTH_Regression_MSE\\201019_2253_final_Angular_Base_Custom-MAE\\Best_Weights_FC_144.hdf5\n",
      "16000/16000 [==============================] - 4s 231us/sample - loss: 6067.4074 - custom_mae: 56.3094 - val_loss: 3887.0115 - val_custom_mae: 43.4579\n",
      "Time taken: 0:00:05.189510\n"
     ]
    },
    {
     "name": "stderr",
     "output_type": "stream",
     "text": [
      "\n",
      " 40%|████████████████████████████████▏                                               | 145/360 [25:00<24:55,  6.96s/it]\u001b[A"
     ]
    },
    {
     "name": "stdout",
     "output_type": "stream",
     "text": [
      "{'activation': 'leakyrelu', 'batch_size': 64, 'dropout': 0.5, 'epochs': 1, 'first_neuron': 1024, 'hidden_layers': 3, 'label_type': 'Angular', 'loss_function': 'mean_squared_error', 'lr': 2, 'monitor_value': 'val_custom_mae', 'optimizer': <class 'tensorflow.python.keras.optimizer_v2.adam.Adam'>, 'reduction_metric': 'custom_mae', 'samples': 20000}\n",
      "Using Loss: mean_squared_error \n",
      "and Reduction Metric: [<function custom_mae at 0x000001C2C8E7DAF8>]\n",
      "Monitor: val_custom_mae\n",
      "Train on 16000 samples, validate on 3968 samples\n",
      "15872/16000 [============================>.] - ETA: 0s - loss: 5947.5241 - custom_mae: 55.4055\n",
      "Epoch 00001: val_custom_mae improved from inf to 44.19460, saving model to ..\\fast_output\\SYNTH_Regression_MSE\\201019_2253_final_Angular_Base_Custom-MAE\\Best_Weights_FC_145.hdf5\n",
      "16000/16000 [==============================] - 4s 223us/sample - loss: 5935.1695 - custom_mae: 55.3357 - val_loss: 3884.8113 - val_custom_mae: 44.1946\n",
      "Time taken: 0:00:05.098477\n"
     ]
    },
    {
     "name": "stderr",
     "output_type": "stream",
     "text": [
      "\n",
      " 41%|████████████████████████████████▍                                               | 146/360 [25:07<24:39,  6.92s/it]\u001b[A"
     ]
    },
    {
     "name": "stdout",
     "output_type": "stream",
     "text": [
      "{'activation': 'leakyrelu', 'batch_size': 64, 'dropout': 0.5, 'epochs': 1, 'first_neuron': 1024, 'hidden_layers': 3, 'label_type': 'Angular', 'loss_function': 'mean_squared_error', 'lr': 5, 'monitor_value': 'val_custom_mae', 'optimizer': <class 'tensorflow.python.keras.optimizer_v2.adam.Adam'>, 'reduction_metric': 'custom_mae', 'samples': 20000}\n",
      "Using Loss: mean_squared_error \n",
      "and Reduction Metric: [<function custom_mae at 0x000001C2C8E7DAF8>]\n",
      "Monitor: val_custom_mae\n",
      "Train on 16000 samples, validate on 3968 samples\n",
      "15808/16000 [============================>.] - ETA: 0s - loss: 6197.5524 - custom_mae: 56.4569\n",
      "Epoch 00001: val_custom_mae improved from inf to 45.34121, saving model to ..\\fast_output\\SYNTH_Regression_MSE\\201019_2253_final_Angular_Base_Custom-MAE\\Best_Weights_FC_146.hdf5\n",
      "16000/16000 [==============================] - 4s 226us/sample - loss: 6176.8193 - custom_mae: 56.3276 - val_loss: 4157.8732 - val_custom_mae: 45.3412\n",
      "Time taken: 0:00:05.102968\n"
     ]
    },
    {
     "name": "stderr",
     "output_type": "stream",
     "text": [
      "\n",
      " 41%|████████████████████████████████▋                                               | 147/360 [25:14<24:29,  6.90s/it]\u001b[A"
     ]
    },
    {
     "name": "stdout",
     "output_type": "stream",
     "text": [
      "{'activation': 'leakyrelu', 'batch_size': 64, 'dropout': 0.5, 'epochs': 1, 'first_neuron': 1024, 'hidden_layers': 4, 'label_type': 'Angular', 'loss_function': 'mean_squared_error', 'lr': 1, 'monitor_value': 'val_custom_mae', 'optimizer': <class 'tensorflow.python.keras.optimizer_v2.adam.Adam'>, 'reduction_metric': 'custom_mae', 'samples': 20000}\n",
      "Using Loss: mean_squared_error \n",
      "and Reduction Metric: [<function custom_mae at 0x000001C2C8E7DAF8>]\n",
      "Monitor: val_custom_mae\n",
      "Train on 16000 samples, validate on 3968 samples\n",
      "15680/16000 [============================>.] - ETA: 0s - loss: 7229.4997 - custom_mae: 61.8801\n",
      "Epoch 00001: val_custom_mae improved from inf to 62.62907, saving model to ..\\fast_output\\SYNTH_Regression_MSE\\201019_2253_final_Angular_Base_Custom-MAE\\Best_Weights_FC_147.hdf5\n",
      "16000/16000 [==============================] - 4s 233us/sample - loss: 7186.4523 - custom_mae: 61.6533 - val_loss: 7570.2064 - val_custom_mae: 62.6291\n",
      "Time taken: 0:00:05.214254\n"
     ]
    },
    {
     "name": "stderr",
     "output_type": "stream",
     "text": [
      "\n",
      " 41%|████████████████████████████████▉                                               | 148/360 [25:21<24:26,  6.92s/it]\u001b[A"
     ]
    },
    {
     "name": "stdout",
     "output_type": "stream",
     "text": [
      "{'activation': 'leakyrelu', 'batch_size': 64, 'dropout': 0.5, 'epochs': 1, 'first_neuron': 1024, 'hidden_layers': 4, 'label_type': 'Angular', 'loss_function': 'mean_squared_error', 'lr': 2, 'monitor_value': 'val_custom_mae', 'optimizer': <class 'tensorflow.python.keras.optimizer_v2.adam.Adam'>, 'reduction_metric': 'custom_mae', 'samples': 20000}\n",
      "Using Loss: mean_squared_error \n",
      "and Reduction Metric: [<function custom_mae at 0x000001C2C8E7DAF8>]\n",
      "Monitor: val_custom_mae\n",
      "Train on 16000 samples, validate on 3968 samples\n",
      "15872/16000 [============================>.] - ETA: 0s - loss: 7044.7989 - custom_mae: 60.6656\n",
      "Epoch 00001: val_custom_mae improved from inf to 59.62113, saving model to ..\\fast_output\\SYNTH_Regression_MSE\\201019_2253_final_Angular_Base_Custom-MAE\\Best_Weights_FC_148.hdf5\n",
      "16000/16000 [==============================] - 4s 232us/sample - loss: 7034.9639 - custom_mae: 60.6039 - val_loss: 6818.9097 - val_custom_mae: 59.6211\n",
      "Time taken: 0:00:05.198342\n"
     ]
    },
    {
     "name": "stderr",
     "output_type": "stream",
     "text": [
      "\n",
      " 41%|█████████████████████████████████                                               | 149/360 [25:28<24:20,  6.92s/it]\u001b[A"
     ]
    },
    {
     "name": "stdout",
     "output_type": "stream",
     "text": [
      "{'activation': 'leakyrelu', 'batch_size': 64, 'dropout': 0.5, 'epochs': 1, 'first_neuron': 1024, 'hidden_layers': 4, 'label_type': 'Angular', 'loss_function': 'mean_squared_error', 'lr': 5, 'monitor_value': 'val_custom_mae', 'optimizer': <class 'tensorflow.python.keras.optimizer_v2.adam.Adam'>, 'reduction_metric': 'custom_mae', 'samples': 20000}\n",
      "Using Loss: mean_squared_error \n",
      "and Reduction Metric: [<function custom_mae at 0x000001C2C8E7DAF8>]\n",
      "Monitor: val_custom_mae\n",
      "Train on 16000 samples, validate on 3968 samples\n",
      "15552/16000 [============================>.] - ETA: 0s - loss: 7772.5024 - custom_mae: 63.1283\n",
      "Epoch 00001: val_custom_mae improved from inf to 56.68641, saving model to ..\\fast_output\\SYNTH_Regression_MSE\\201019_2253_final_Angular_Base_Custom-MAE\\Best_Weights_FC_149.hdf5\n",
      "16000/16000 [==============================] - 4s 230us/sample - loss: 7713.0268 - custom_mae: 62.8677 - val_loss: 6220.3130 - val_custom_mae: 56.6864\n",
      "Time taken: 0:00:05.183037\n"
     ]
    },
    {
     "name": "stderr",
     "output_type": "stream",
     "text": [
      "\n",
      " 42%|█████████████████████████████████▎                                              | 150/360 [25:35<24:13,  6.92s/it]\u001b[A"
     ]
    },
    {
     "name": "stdout",
     "output_type": "stream",
     "text": [
      "{'activation': 'leakyrelu', 'batch_size': 64, 'dropout': 0.5, 'epochs': 1, 'first_neuron': 2048, 'hidden_layers': 0, 'label_type': 'Angular', 'loss_function': 'mean_squared_error', 'lr': 1, 'monitor_value': 'val_custom_mae', 'optimizer': <class 'tensorflow.python.keras.optimizer_v2.adam.Adam'>, 'reduction_metric': 'custom_mae', 'samples': 20000}\n",
      "Using Loss: mean_squared_error \n",
      "and Reduction Metric: [<function custom_mae at 0x000001C2C8E7DAF8>]\n",
      "Monitor: val_custom_mae\n",
      "Train on 16000 samples, validate on 3968 samples\n",
      "15616/16000 [============================>.] - ETA: 0s - loss: 4342.1997 - custom_mae: 43.0773\n",
      "Epoch 00001: val_custom_mae improved from inf to 35.38340, saving model to ..\\fast_output\\SYNTH_Regression_MSE\\201019_2253_final_Angular_Base_Custom-MAE\\Best_Weights_FC_150.hdf5\n",
      "16000/16000 [==============================] - 5s 324us/sample - loss: 4306.2379 - custom_mae: 42.8615 - val_loss: 3388.9737 - val_custom_mae: 35.3834\n",
      "Time taken: 0:00:06.675403\n"
     ]
    },
    {
     "name": "stderr",
     "output_type": "stream",
     "text": [
      "\n",
      " 42%|█████████████████████████████████▌                                              | 151/360 [25:43<25:34,  7.34s/it]\u001b[A"
     ]
    },
    {
     "name": "stdout",
     "output_type": "stream",
     "text": [
      "{'activation': 'leakyrelu', 'batch_size': 64, 'dropout': 0.5, 'epochs': 1, 'first_neuron': 2048, 'hidden_layers': 0, 'label_type': 'Angular', 'loss_function': 'mean_squared_error', 'lr': 2, 'monitor_value': 'val_custom_mae', 'optimizer': <class 'tensorflow.python.keras.optimizer_v2.adam.Adam'>, 'reduction_metric': 'custom_mae', 'samples': 20000}\n",
      "Using Loss: mean_squared_error \n",
      "and Reduction Metric: [<function custom_mae at 0x000001C2C8E7DAF8>]\n",
      "Monitor: val_custom_mae\n",
      "Train on 16000 samples, validate on 3968 samples\n",
      "15872/16000 [============================>.] - ETA: 0s - loss: 4141.2747 - custom_mae: 41.6733\n",
      "Epoch 00001: val_custom_mae improved from inf to 32.94001, saving model to ..\\fast_output\\SYNTH_Regression_MSE\\201019_2253_final_Angular_Base_Custom-MAE\\Best_Weights_FC_151.hdf5\n",
      "16000/16000 [==============================] - 5s 323us/sample - loss: 4130.2081 - custom_mae: 41.5875 - val_loss: 2981.9068 - val_custom_mae: 32.9400\n",
      "Time taken: 0:00:06.654182\n"
     ]
    },
    {
     "name": "stderr",
     "output_type": "stream",
     "text": [
      "\n",
      " 42%|█████████████████████████████████▊                                              | 152/360 [25:51<26:25,  7.62s/it]\u001b[A"
     ]
    },
    {
     "name": "stdout",
     "output_type": "stream",
     "text": [
      "{'activation': 'leakyrelu', 'batch_size': 64, 'dropout': 0.5, 'epochs': 1, 'first_neuron': 2048, 'hidden_layers': 0, 'label_type': 'Angular', 'loss_function': 'mean_squared_error', 'lr': 5, 'monitor_value': 'val_custom_mae', 'optimizer': <class 'tensorflow.python.keras.optimizer_v2.adam.Adam'>, 'reduction_metric': 'custom_mae', 'samples': 20000}\n",
      "Using Loss: mean_squared_error \n",
      "and Reduction Metric: [<function custom_mae at 0x000001C2C8E7DAF8>]\n",
      "Monitor: val_custom_mae\n",
      "Train on 16000 samples, validate on 3968 samples\n",
      "15872/16000 [============================>.] - ETA: 0s - loss: 4532.1573 - custom_mae: 43.2677\n",
      "Epoch 00001: val_custom_mae improved from inf to 32.48907, saving model to ..\\fast_output\\SYNTH_Regression_MSE\\201019_2253_final_Angular_Base_Custom-MAE\\Best_Weights_FC_152.hdf5\n",
      "16000/16000 [==============================] - 5s 323us/sample - loss: 4520.2001 - custom_mae: 43.1870 - val_loss: 2978.2897 - val_custom_mae: 32.4891\n",
      "Time taken: 0:00:06.647562\n"
     ]
    },
    {
     "name": "stderr",
     "output_type": "stream",
     "text": [
      "\n",
      " 42%|██████████████████████████████████                                              | 153/360 [26:00<26:58,  7.82s/it]\u001b[A"
     ]
    },
    {
     "name": "stdout",
     "output_type": "stream",
     "text": [
      "{'activation': 'leakyrelu', 'batch_size': 64, 'dropout': 0.5, 'epochs': 1, 'first_neuron': 2048, 'hidden_layers': 1, 'label_type': 'Angular', 'loss_function': 'mean_squared_error', 'lr': 1, 'monitor_value': 'val_custom_mae', 'optimizer': <class 'tensorflow.python.keras.optimizer_v2.adam.Adam'>, 'reduction_metric': 'custom_mae', 'samples': 20000}\n",
      "Using Loss: mean_squared_error \n",
      "and Reduction Metric: [<function custom_mae at 0x000001C2C8E7DAF8>]\n",
      "Monitor: val_custom_mae\n",
      "Train on 16000 samples, validate on 3968 samples\n",
      "15744/16000 [============================>.] - ETA: 0s - loss: 4443.0557 - custom_mae: 44.5535\n",
      "Epoch 00001: val_custom_mae improved from inf to 34.25613, saving model to ..\\fast_output\\SYNTH_Regression_MSE\\201019_2253_final_Angular_Base_Custom-MAE\\Best_Weights_FC_153.hdf5\n",
      "16000/16000 [==============================] - 5s 341us/sample - loss: 4418.8742 - custom_mae: 44.3897 - val_loss: 3212.3429 - val_custom_mae: 34.2561\n",
      "Time taken: 0:00:06.935384\n"
     ]
    },
    {
     "name": "stderr",
     "output_type": "stream",
     "text": [
      "\n",
      " 43%|██████████████████████████████████▏                                             | 154/360 [26:08<27:39,  8.05s/it]\u001b[A"
     ]
    },
    {
     "name": "stdout",
     "output_type": "stream",
     "text": [
      "{'activation': 'leakyrelu', 'batch_size': 64, 'dropout': 0.5, 'epochs': 1, 'first_neuron': 2048, 'hidden_layers': 1, 'label_type': 'Angular', 'loss_function': 'mean_squared_error', 'lr': 2, 'monitor_value': 'val_custom_mae', 'optimizer': <class 'tensorflow.python.keras.optimizer_v2.adam.Adam'>, 'reduction_metric': 'custom_mae', 'samples': 20000}\n",
      "Using Loss: mean_squared_error \n",
      "and Reduction Metric: [<function custom_mae at 0x000001C2C8E7DAF8>]\n",
      "Monitor: val_custom_mae\n",
      "Train on 16000 samples, validate on 3968 samples\n",
      "15808/16000 [============================>.] - ETA: 0s - loss: 4971.9456 - custom_mae: 47.2303\n",
      "Epoch 00001: val_custom_mae improved from inf to 34.20908, saving model to ..\\fast_output\\SYNTH_Regression_MSE\\201019_2253_final_Angular_Base_Custom-MAE\\Best_Weights_FC_154.hdf5\n",
      "16000/16000 [==============================] - 5s 336us/sample - loss: 4945.9260 - custom_mae: 47.0636 - val_loss: 2975.6435 - val_custom_mae: 34.2091\n",
      "Time taken: 0:00:06.876439\n"
     ]
    },
    {
     "name": "stderr",
     "output_type": "stream",
     "text": [
      "\n",
      " 43%|██████████████████████████████████▍                                             | 155/360 [26:17<28:02,  8.21s/it]\u001b[A"
     ]
    },
    {
     "name": "stdout",
     "output_type": "stream",
     "text": [
      "{'activation': 'leakyrelu', 'batch_size': 64, 'dropout': 0.5, 'epochs': 1, 'first_neuron': 2048, 'hidden_layers': 1, 'label_type': 'Angular', 'loss_function': 'mean_squared_error', 'lr': 5, 'monitor_value': 'val_custom_mae', 'optimizer': <class 'tensorflow.python.keras.optimizer_v2.adam.Adam'>, 'reduction_metric': 'custom_mae', 'samples': 20000}\n",
      "Using Loss: mean_squared_error \n",
      "and Reduction Metric: [<function custom_mae at 0x000001C2C8E7DAF8>]\n",
      "Monitor: val_custom_mae\n",
      "Train on 16000 samples, validate on 3968 samples\n",
      "15680/16000 [============================>.] - ETA: 0s - loss: 13385.1813 - custom_mae: 60.6825\n",
      "Epoch 00001: val_custom_mae improved from inf to 37.57347, saving model to ..\\fast_output\\SYNTH_Regression_MSE\\201019_2253_final_Angular_Base_Custom-MAE\\Best_Weights_FC_155.hdf5\n",
      "16000/16000 [==============================] - 5s 333us/sample - loss: 13186.9050 - custom_mae: 60.2672 - val_loss: 3392.4895 - val_custom_mae: 37.5735\n",
      "Time taken: 0:00:06.826853\n"
     ]
    },
    {
     "name": "stderr",
     "output_type": "stream",
     "text": [
      "\n",
      " 43%|██████████████████████████████████▋                                             | 156/360 [26:25<28:12,  8.30s/it]\u001b[A"
     ]
    },
    {
     "name": "stdout",
     "output_type": "stream",
     "text": [
      "{'activation': 'leakyrelu', 'batch_size': 64, 'dropout': 0.5, 'epochs': 1, 'first_neuron': 2048, 'hidden_layers': 2, 'label_type': 'Angular', 'loss_function': 'mean_squared_error', 'lr': 1, 'monitor_value': 'val_custom_mae', 'optimizer': <class 'tensorflow.python.keras.optimizer_v2.adam.Adam'>, 'reduction_metric': 'custom_mae', 'samples': 20000}\n",
      "Using Loss: mean_squared_error \n",
      "and Reduction Metric: [<function custom_mae at 0x000001C2C8E7DAF8>]\n",
      "Monitor: val_custom_mae\n",
      "Train on 16000 samples, validate on 3968 samples\n",
      "15808/16000 [============================>.] - ETA: 0s - loss: 4864.3928 - custom_mae: 48.0722\n",
      "Epoch 00001: val_custom_mae improved from inf to 33.92122, saving model to ..\\fast_output\\SYNTH_Regression_MSE\\201019_2253_final_Angular_Base_Custom-MAE\\Best_Weights_FC_156.hdf5\n",
      "16000/16000 [==============================] - 6s 346us/sample - loss: 4839.4122 - custom_mae: 47.8990 - val_loss: 3056.2019 - val_custom_mae: 33.9212\n",
      "Time taken: 0:00:07.032260\n"
     ]
    },
    {
     "name": "stderr",
     "output_type": "stream",
     "text": [
      "\n",
      " 44%|██████████████████████████████████▉                                             | 157/360 [26:34<28:29,  8.42s/it]\u001b[A"
     ]
    },
    {
     "name": "stdout",
     "output_type": "stream",
     "text": [
      "{'activation': 'leakyrelu', 'batch_size': 64, 'dropout': 0.5, 'epochs': 1, 'first_neuron': 2048, 'hidden_layers': 2, 'label_type': 'Angular', 'loss_function': 'mean_squared_error', 'lr': 2, 'monitor_value': 'val_custom_mae', 'optimizer': <class 'tensorflow.python.keras.optimizer_v2.adam.Adam'>, 'reduction_metric': 'custom_mae', 'samples': 20000}\n",
      "Using Loss: mean_squared_error \n",
      "and Reduction Metric: [<function custom_mae at 0x000001C2C8E7DAF8>]\n",
      "Monitor: val_custom_mae\n",
      "Train on 16000 samples, validate on 3968 samples\n",
      "15808/16000 [============================>.] - ETA: 0s - loss: 5900.9159 - custom_mae: 51.9360\n",
      "Epoch 00001: val_custom_mae improved from inf to 35.16104, saving model to ..\\fast_output\\SYNTH_Regression_MSE\\201019_2253_final_Angular_Base_Custom-MAE\\Best_Weights_FC_157.hdf5\n",
      "16000/16000 [==============================] - 6s 347us/sample - loss: 5868.8431 - custom_mae: 51.7630 - val_loss: 3166.8682 - val_custom_mae: 35.1610\n",
      "Time taken: 0:00:07.055388\n"
     ]
    },
    {
     "name": "stderr",
     "output_type": "stream",
     "text": [
      "\n",
      " 44%|███████████████████████████████████                                             | 158/360 [26:43<28:40,  8.52s/it]\u001b[A"
     ]
    },
    {
     "name": "stdout",
     "output_type": "stream",
     "text": [
      "{'activation': 'leakyrelu', 'batch_size': 64, 'dropout': 0.5, 'epochs': 1, 'first_neuron': 2048, 'hidden_layers': 2, 'label_type': 'Angular', 'loss_function': 'mean_squared_error', 'lr': 5, 'monitor_value': 'val_custom_mae', 'optimizer': <class 'tensorflow.python.keras.optimizer_v2.adam.Adam'>, 'reduction_metric': 'custom_mae', 'samples': 20000}\n",
      "Using Loss: mean_squared_error \n",
      "and Reduction Metric: [<function custom_mae at 0x000001C2C8E7DAF8>]\n",
      "Monitor: val_custom_mae\n",
      "Train on 16000 samples, validate on 3968 samples\n",
      "15680/16000 [============================>.] - ETA: 0s - loss: 17584.8100 - custom_mae: 64.5365\n",
      "Epoch 00001: val_custom_mae improved from inf to 40.02885, saving model to ..\\fast_output\\SYNTH_Regression_MSE\\201019_2253_final_Angular_Base_Custom-MAE\\Best_Weights_FC_158.hdf5\n",
      "16000/16000 [==============================] - 6s 347us/sample - loss: 17307.3921 - custom_mae: 64.0722 - val_loss: 3695.8208 - val_custom_mae: 40.0289\n",
      "Time taken: 0:00:07.034916\n"
     ]
    },
    {
     "name": "stderr",
     "output_type": "stream",
     "text": [
      "\n",
      " 44%|███████████████████████████████████▎                                            | 159/360 [26:51<28:44,  8.58s/it]\u001b[A"
     ]
    },
    {
     "name": "stdout",
     "output_type": "stream",
     "text": [
      "{'activation': 'leakyrelu', 'batch_size': 64, 'dropout': 0.5, 'epochs': 1, 'first_neuron': 2048, 'hidden_layers': 3, 'label_type': 'Angular', 'loss_function': 'mean_squared_error', 'lr': 1, 'monitor_value': 'val_custom_mae', 'optimizer': <class 'tensorflow.python.keras.optimizer_v2.adam.Adam'>, 'reduction_metric': 'custom_mae', 'samples': 20000}\n",
      "Using Loss: mean_squared_error \n",
      "and Reduction Metric: [<function custom_mae at 0x000001C2C8E7DAF8>]\n",
      "Monitor: val_custom_mae\n",
      "Train on 16000 samples, validate on 3968 samples\n",
      "15744/16000 [============================>.] - ETA: 0s - loss: 5467.0825 - custom_mae: 52.7085\n",
      "Epoch 00001: val_custom_mae improved from inf to 39.13549, saving model to ..\\fast_output\\SYNTH_Regression_MSE\\201019_2253_final_Angular_Base_Custom-MAE\\Best_Weights_FC_159.hdf5\n",
      "16000/16000 [==============================] - 6s 350us/sample - loss: 5434.8031 - custom_mae: 52.4873 - val_loss: 3577.8403 - val_custom_mae: 39.1355\n",
      "Time taken: 0:00:07.103287\n"
     ]
    },
    {
     "name": "stderr",
     "output_type": "stream",
     "text": [
      "\n",
      " 44%|███████████████████████████████████▌                                            | 160/360 [27:00<28:49,  8.65s/it]\u001b[A"
     ]
    },
    {
     "name": "stdout",
     "output_type": "stream",
     "text": [
      "{'activation': 'leakyrelu', 'batch_size': 64, 'dropout': 0.5, 'epochs': 1, 'first_neuron': 2048, 'hidden_layers': 3, 'label_type': 'Angular', 'loss_function': 'mean_squared_error', 'lr': 2, 'monitor_value': 'val_custom_mae', 'optimizer': <class 'tensorflow.python.keras.optimizer_v2.adam.Adam'>, 'reduction_metric': 'custom_mae', 'samples': 20000}\n",
      "Using Loss: mean_squared_error \n",
      "and Reduction Metric: [<function custom_mae at 0x000001C2C8E7DAF8>]\n",
      "Monitor: val_custom_mae\n",
      "Train on 16000 samples, validate on 3968 samples\n",
      "15808/16000 [============================>.] - ETA: 0s - loss: 6101.7285 - custom_mae: 54.2519\n",
      "Epoch 00001: val_custom_mae improved from inf to 36.57265, saving model to ..\\fast_output\\SYNTH_Regression_MSE\\201019_2253_final_Angular_Base_Custom-MAE\\Best_Weights_FC_160.hdf5\n",
      "16000/16000 [==============================] - 6s 349us/sample - loss: 6071.4434 - custom_mae: 54.0882 - val_loss: 3086.6451 - val_custom_mae: 36.5727\n",
      "Time taken: 0:00:07.070227\n"
     ]
    },
    {
     "name": "stderr",
     "output_type": "stream",
     "text": [
      "\n",
      " 45%|███████████████████████████████████▊                                            | 161/360 [27:09<28:50,  8.69s/it]\u001b[A"
     ]
    },
    {
     "name": "stdout",
     "output_type": "stream",
     "text": [
      "{'activation': 'leakyrelu', 'batch_size': 64, 'dropout': 0.5, 'epochs': 1, 'first_neuron': 2048, 'hidden_layers': 3, 'label_type': 'Angular', 'loss_function': 'mean_squared_error', 'lr': 5, 'monitor_value': 'val_custom_mae', 'optimizer': <class 'tensorflow.python.keras.optimizer_v2.adam.Adam'>, 'reduction_metric': 'custom_mae', 'samples': 20000}\n",
      "Using Loss: mean_squared_error \n",
      "and Reduction Metric: [<function custom_mae at 0x000001C2C8E7DAF8>]\n",
      "Monitor: val_custom_mae\n",
      "Train on 16000 samples, validate on 3968 samples\n",
      "15808/16000 [============================>.] - ETA: 0s - loss: 6931.0286 - custom_mae: 58.4983\n",
      "Epoch 00001: val_custom_mae improved from inf to 43.63712, saving model to ..\\fast_output\\SYNTH_Regression_MSE\\201019_2253_final_Angular_Base_Custom-MAE\\Best_Weights_FC_161.hdf5\n",
      "16000/16000 [==============================] - 6s 349us/sample - loss: 6897.0159 - custom_mae: 58.3338 - val_loss: 3941.6653 - val_custom_mae: 43.6371\n",
      "Time taken: 0:00:07.091316\n"
     ]
    },
    {
     "name": "stderr",
     "output_type": "stream",
     "text": [
      "\n",
      " 45%|████████████████████████████████████                                            | 162/360 [27:18<28:49,  8.74s/it]\u001b[A"
     ]
    },
    {
     "name": "stdout",
     "output_type": "stream",
     "text": [
      "{'activation': 'leakyrelu', 'batch_size': 64, 'dropout': 0.5, 'epochs': 1, 'first_neuron': 2048, 'hidden_layers': 4, 'label_type': 'Angular', 'loss_function': 'mean_squared_error', 'lr': 1, 'monitor_value': 'val_custom_mae', 'optimizer': <class 'tensorflow.python.keras.optimizer_v2.adam.Adam'>, 'reduction_metric': 'custom_mae', 'samples': 20000}\n",
      "Using Loss: mean_squared_error \n",
      "and Reduction Metric: [<function custom_mae at 0x000001C2C8E7DAF8>]\n",
      "Monitor: val_custom_mae\n",
      "Train on 16000 samples, validate on 3968 samples\n",
      "15936/16000 [============================>.] - ETA: 0s - loss: 6154.2809 - custom_mae: 56.7141\n",
      "Epoch 00001: val_custom_mae improved from inf to 53.26426, saving model to ..\\fast_output\\SYNTH_Regression_MSE\\201019_2253_final_Angular_Base_Custom-MAE\\Best_Weights_FC_162.hdf5\n",
      "16000/16000 [==============================] - 6s 356us/sample - loss: 6147.9202 - custom_mae: 56.6775 - val_loss: 5472.7515 - val_custom_mae: 53.2643\n",
      "Time taken: 0:00:07.197282\n"
     ]
    },
    {
     "name": "stderr",
     "output_type": "stream",
     "text": [
      "\n",
      " 45%|████████████████████████████████████▏                                           | 163/360 [27:27<28:54,  8.80s/it]\u001b[A"
     ]
    },
    {
     "name": "stdout",
     "output_type": "stream",
     "text": [
      "{'activation': 'leakyrelu', 'batch_size': 64, 'dropout': 0.5, 'epochs': 1, 'first_neuron': 2048, 'hidden_layers': 4, 'label_type': 'Angular', 'loss_function': 'mean_squared_error', 'lr': 2, 'monitor_value': 'val_custom_mae', 'optimizer': <class 'tensorflow.python.keras.optimizer_v2.adam.Adam'>, 'reduction_metric': 'custom_mae', 'samples': 20000}\n",
      "Using Loss: mean_squared_error \n",
      "and Reduction Metric: [<function custom_mae at 0x000001C2C8E7DAF8>]\n",
      "Monitor: val_custom_mae\n",
      "Train on 16000 samples, validate on 3968 samples\n",
      "15936/16000 [============================>.] - ETA: 0s - loss: 7053.7418 - custom_mae: 59.9493\n",
      "Epoch 00001: val_custom_mae improved from inf to 49.06906, saving model to ..\\fast_output\\SYNTH_Regression_MSE\\201019_2253_final_Angular_Base_Custom-MAE\\Best_Weights_FC_163.hdf5\n",
      "16000/16000 [==============================] - 6s 357us/sample - loss: 7045.0922 - custom_mae: 59.9046 - val_loss: 4546.7401 - val_custom_mae: 49.0691\n",
      "Time taken: 0:00:07.202321\n"
     ]
    },
    {
     "name": "stderr",
     "output_type": "stream",
     "text": [
      "\n",
      " 46%|████████████████████████████████████▍                                           | 164/360 [27:36<28:53,  8.85s/it]\u001b[A"
     ]
    },
    {
     "name": "stdout",
     "output_type": "stream",
     "text": [
      "{'activation': 'leakyrelu', 'batch_size': 64, 'dropout': 0.5, 'epochs': 1, 'first_neuron': 2048, 'hidden_layers': 4, 'label_type': 'Angular', 'loss_function': 'mean_squared_error', 'lr': 5, 'monitor_value': 'val_custom_mae', 'optimizer': <class 'tensorflow.python.keras.optimizer_v2.adam.Adam'>, 'reduction_metric': 'custom_mae', 'samples': 20000}\n",
      "Using Loss: mean_squared_error \n",
      "and Reduction Metric: [<function custom_mae at 0x000001C2C8E7DAF8>]\n",
      "Monitor: val_custom_mae\n",
      "Train on 16000 samples, validate on 3968 samples\n",
      "15744/16000 [============================>.] - ETA: 0s - loss: 7702.0197 - custom_mae: 62.5966\n",
      "Epoch 00001: val_custom_mae improved from inf to 49.75351, saving model to ..\\fast_output\\SYNTH_Regression_MSE\\201019_2253_final_Angular_Base_Custom-MAE\\Best_Weights_FC_164.hdf5\n",
      "16000/16000 [==============================] - 6s 356us/sample - loss: 7658.4421 - custom_mae: 62.4226 - val_loss: 4503.4310 - val_custom_mae: 49.7535\n",
      "Time taken: 0:00:07.186686\n"
     ]
    },
    {
     "name": "stderr",
     "output_type": "stream",
     "text": [
      "\n",
      " 46%|████████████████████████████████████▋                                           | 165/360 [27:45<28:49,  8.87s/it]\u001b[A"
     ]
    },
    {
     "name": "stdout",
     "output_type": "stream",
     "text": [
      "{'activation': 'leakyrelu', 'batch_size': 64, 'dropout': 0.5, 'epochs': 1, 'first_neuron': 4096, 'hidden_layers': 0, 'label_type': 'Angular', 'loss_function': 'mean_squared_error', 'lr': 1, 'monitor_value': 'val_custom_mae', 'optimizer': <class 'tensorflow.python.keras.optimizer_v2.adam.Adam'>, 'reduction_metric': 'custom_mae', 'samples': 20000}\n",
      "Using Loss: mean_squared_error \n",
      "and Reduction Metric: [<function custom_mae at 0x000001C2C8E7DAF8>]\n",
      "Monitor: val_custom_mae\n",
      "Train on 16000 samples, validate on 3968 samples\n",
      "15936/16000 [============================>.] - ETA: 0s - loss: 4125.2292 - custom_mae: 41.6802\n",
      "Epoch 00001: val_custom_mae improved from inf to 33.06239, saving model to ..\\fast_output\\SYNTH_Regression_MSE\\201019_2253_final_Angular_Base_Custom-MAE\\Best_Weights_FC_165.hdf5\n",
      "16000/16000 [==============================] - 9s 566us/sample - loss: 4119.7167 - custom_mae: 41.6381 - val_loss: 2994.1186 - val_custom_mae: 33.0624\n",
      "Time taken: 0:00:10.548461\n"
     ]
    },
    {
     "name": "stderr",
     "output_type": "stream",
     "text": [
      "\n",
      " 46%|████████████████████████████████████▉                                           | 166/360 [27:57<31:54,  9.87s/it]\u001b[A"
     ]
    },
    {
     "name": "stdout",
     "output_type": "stream",
     "text": [
      "{'activation': 'leakyrelu', 'batch_size': 64, 'dropout': 0.5, 'epochs': 1, 'first_neuron': 4096, 'hidden_layers': 0, 'label_type': 'Angular', 'loss_function': 'mean_squared_error', 'lr': 2, 'monitor_value': 'val_custom_mae', 'optimizer': <class 'tensorflow.python.keras.optimizer_v2.adam.Adam'>, 'reduction_metric': 'custom_mae', 'samples': 20000}\n",
      "Using Loss: mean_squared_error \n",
      "and Reduction Metric: [<function custom_mae at 0x000001C2C8E7DAF8>]\n",
      "Monitor: val_custom_mae\n",
      "Train on 16000 samples, validate on 3968 samples\n",
      "15936/16000 [============================>.] - ETA: 0s - loss: 4076.0289 - custom_mae: 41.2816\n",
      "Epoch 00001: val_custom_mae improved from inf to 32.27733, saving model to ..\\fast_output\\SYNTH_Regression_MSE\\201019_2253_final_Angular_Base_Custom-MAE\\Best_Weights_FC_166.hdf5\n",
      "16000/16000 [==============================] - 9s 565us/sample - loss: 4071.6600 - custom_mae: 41.2477 - val_loss: 2968.2557 - val_custom_mae: 32.2773\n",
      "Time taken: 0:00:10.520841\n"
     ]
    },
    {
     "name": "stderr",
     "output_type": "stream",
     "text": [
      "\n",
      " 46%|█████████████████████████████████████                                           | 167/360 [28:09<33:57, 10.55s/it]\u001b[A"
     ]
    },
    {
     "name": "stdout",
     "output_type": "stream",
     "text": [
      "{'activation': 'leakyrelu', 'batch_size': 64, 'dropout': 0.5, 'epochs': 1, 'first_neuron': 4096, 'hidden_layers': 0, 'label_type': 'Angular', 'loss_function': 'mean_squared_error', 'lr': 5, 'monitor_value': 'val_custom_mae', 'optimizer': <class 'tensorflow.python.keras.optimizer_v2.adam.Adam'>, 'reduction_metric': 'custom_mae', 'samples': 20000}\n",
      "Using Loss: mean_squared_error \n",
      "and Reduction Metric: [<function custom_mae at 0x000001C2C8E7DAF8>]\n",
      "Monitor: val_custom_mae\n",
      "Train on 16000 samples, validate on 3968 samples\n",
      "15872/16000 [============================>.] - ETA: 0s - loss: 5265.3363 - custom_mae: 46.0711\n",
      "Epoch 00001: val_custom_mae improved from inf to 33.14938, saving model to ..\\fast_output\\SYNTH_Regression_MSE\\201019_2253_final_Angular_Base_Custom-MAE\\Best_Weights_FC_167.hdf5\n",
      "16000/16000 [==============================] - 9s 563us/sample - loss: 5246.5403 - custom_mae: 45.9655 - val_loss: 2919.8856 - val_custom_mae: 33.1494\n",
      "Time taken: 0:00:10.499564\n"
     ]
    },
    {
     "name": "stderr",
     "output_type": "stream",
     "text": [
      "\n",
      " 47%|█████████████████████████████████████▎                                          | 168/360 [28:21<35:17, 11.03s/it]\u001b[A"
     ]
    },
    {
     "name": "stdout",
     "output_type": "stream",
     "text": [
      "{'activation': 'leakyrelu', 'batch_size': 64, 'dropout': 0.5, 'epochs': 1, 'first_neuron': 4096, 'hidden_layers': 1, 'label_type': 'Angular', 'loss_function': 'mean_squared_error', 'lr': 1, 'monitor_value': 'val_custom_mae', 'optimizer': <class 'tensorflow.python.keras.optimizer_v2.adam.Adam'>, 'reduction_metric': 'custom_mae', 'samples': 20000}\n",
      "Using Loss: mean_squared_error \n",
      "and Reduction Metric: [<function custom_mae at 0x000001C2C8E7DAF8>]\n",
      "Monitor: val_custom_mae\n",
      "Train on 16000 samples, validate on 3968 samples\n",
      "15936/16000 [============================>.] - ETA: 0s - loss: 4809.0229 - custom_mae: 45.6896\n",
      "Epoch 00001: val_custom_mae improved from inf to 32.57334, saving model to ..\\fast_output\\SYNTH_Regression_MSE\\201019_2253_final_Angular_Base_Custom-MAE\\Best_Weights_FC_168.hdf5\n",
      "16000/16000 [==============================] - 10s 600us/sample - loss: 4801.4282 - custom_mae: 45.6392 - val_loss: 2957.3922 - val_custom_mae: 32.5733\n",
      "Time taken: 0:00:11.082245\n"
     ]
    },
    {
     "name": "stderr",
     "output_type": "stream",
     "text": [
      "\n",
      " 47%|█████████████████████████████████████▌                                          | 169/360 [28:34<36:45, 11.55s/it]\u001b[A"
     ]
    },
    {
     "name": "stdout",
     "output_type": "stream",
     "text": [
      "{'activation': 'leakyrelu', 'batch_size': 64, 'dropout': 0.5, 'epochs': 1, 'first_neuron': 4096, 'hidden_layers': 1, 'label_type': 'Angular', 'loss_function': 'mean_squared_error', 'lr': 2, 'monitor_value': 'val_custom_mae', 'optimizer': <class 'tensorflow.python.keras.optimizer_v2.adam.Adam'>, 'reduction_metric': 'custom_mae', 'samples': 20000}\n",
      "Using Loss: mean_squared_error \n",
      "and Reduction Metric: [<function custom_mae at 0x000001C2C8E7DAF8>]\n",
      "Monitor: val_custom_mae\n",
      "Train on 16000 samples, validate on 3968 samples\n",
      "15936/16000 [============================>.] - ETA: 0s - loss: 6542.1803 - custom_mae: 51.5107\n",
      "Epoch 00001: val_custom_mae improved from inf to 34.81048, saving model to ..\\fast_output\\SYNTH_Regression_MSE\\201019_2253_final_Angular_Base_Custom-MAE\\Best_Weights_FC_169.hdf5\n",
      "16000/16000 [==============================] - 10s 600us/sample - loss: 6529.2374 - custom_mae: 51.4476 - val_loss: 3070.6484 - val_custom_mae: 34.8105\n",
      "Time taken: 0:00:11.090469\n"
     ]
    },
    {
     "name": "stderr",
     "output_type": "stream",
     "text": [
      "\n",
      " 47%|█████████████████████████████████████▊                                          | 170/360 [28:47<37:43, 11.91s/it]\u001b[A"
     ]
    },
    {
     "name": "stdout",
     "output_type": "stream",
     "text": [
      "{'activation': 'leakyrelu', 'batch_size': 64, 'dropout': 0.5, 'epochs': 1, 'first_neuron': 4096, 'hidden_layers': 1, 'label_type': 'Angular', 'loss_function': 'mean_squared_error', 'lr': 5, 'monitor_value': 'val_custom_mae', 'optimizer': <class 'tensorflow.python.keras.optimizer_v2.adam.Adam'>, 'reduction_metric': 'custom_mae', 'samples': 20000}\n",
      "Using Loss: mean_squared_error \n",
      "and Reduction Metric: [<function custom_mae at 0x000001C2C8E7DAF8>]\n",
      "Monitor: val_custom_mae\n",
      "Train on 16000 samples, validate on 3968 samples\n",
      "15936/16000 [============================>.] - ETA: 0s - loss: 61135.9425 - custom_mae: 88.5727\n",
      "Epoch 00001: val_custom_mae improved from inf to 47.17431, saving model to ..\\fast_output\\SYNTH_Regression_MSE\\201019_2253_final_Angular_Base_Custom-MAE\\Best_Weights_FC_170.hdf5\n",
      "16000/16000 [==============================] - 10s 597us/sample - loss: 60911.0848 - custom_mae: 88.4152 - val_loss: 3973.5851 - val_custom_mae: 47.1743\n",
      "Time taken: 0:00:11.048135\n"
     ]
    },
    {
     "name": "stderr",
     "output_type": "stream",
     "text": [
      "\n",
      " 48%|██████████████████████████████████████                                          | 171/360 [28:59<38:18, 12.16s/it]\u001b[A"
     ]
    },
    {
     "name": "stdout",
     "output_type": "stream",
     "text": [
      "{'activation': 'leakyrelu', 'batch_size': 64, 'dropout': 0.5, 'epochs': 1, 'first_neuron': 4096, 'hidden_layers': 2, 'label_type': 'Angular', 'loss_function': 'mean_squared_error', 'lr': 1, 'monitor_value': 'val_custom_mae', 'optimizer': <class 'tensorflow.python.keras.optimizer_v2.adam.Adam'>, 'reduction_metric': 'custom_mae', 'samples': 20000}\n",
      "Using Loss: mean_squared_error \n",
      "and Reduction Metric: [<function custom_mae at 0x000001C2C8E7DAF8>]\n",
      "Monitor: val_custom_mae\n",
      "Train on 16000 samples, validate on 3968 samples\n",
      "15872/16000 [============================>.] - ETA: 0s - loss: 5121.4335 - custom_mae: 47.5648 ETA: 0s - loss: 5330.0889 - custo\n",
      "Epoch 00001: val_custom_mae improved from inf to 32.72185, saving model to ..\\fast_output\\SYNTH_Regression_MSE\\201019_2253_final_Angular_Base_Custom-MAE\\Best_Weights_FC_171.hdf5\n",
      "16000/16000 [==============================] - 10s 610us/sample - loss: 5105.7117 - custom_mae: 47.4677 - val_loss: 2845.8375 - val_custom_mae: 32.7219\n",
      "Time taken: 0:00:11.250808\n"
     ]
    },
    {
     "name": "stderr",
     "output_type": "stream",
     "text": [
      "\n",
      " 48%|██████████████████████████████████████▏                                         | 172/360 [29:12<38:50, 12.40s/it]\u001b[A"
     ]
    },
    {
     "name": "stdout",
     "output_type": "stream",
     "text": [
      "{'activation': 'leakyrelu', 'batch_size': 64, 'dropout': 0.5, 'epochs': 1, 'first_neuron': 4096, 'hidden_layers': 2, 'label_type': 'Angular', 'loss_function': 'mean_squared_error', 'lr': 2, 'monitor_value': 'val_custom_mae', 'optimizer': <class 'tensorflow.python.keras.optimizer_v2.adam.Adam'>, 'reduction_metric': 'custom_mae', 'samples': 20000}\n",
      "Using Loss: mean_squared_error \n",
      "and Reduction Metric: [<function custom_mae at 0x000001C2C8E7DAF8>]\n",
      "Monitor: val_custom_mae\n",
      "Train on 16000 samples, validate on 3968 samples\n",
      "15936/16000 [============================>.] - ETA: 0s - loss: 6790.1359 - custom_mae: 51.3103\n",
      "Epoch 00001: val_custom_mae improved from inf to 34.97762, saving model to ..\\fast_output\\SYNTH_Regression_MSE\\201019_2253_final_Angular_Base_Custom-MAE\\Best_Weights_FC_172.hdf5\n",
      "16000/16000 [==============================] - 10s 615us/sample - loss: 6775.0398 - custom_mae: 51.2477 - val_loss: 3114.4100 - val_custom_mae: 34.9776\n",
      "Time taken: 0:00:11.328661\n"
     ]
    },
    {
     "name": "stderr",
     "output_type": "stream",
     "text": [
      "\n",
      " 48%|██████████████████████████████████████▍                                         | 173/360 [29:25<39:13, 12.59s/it]\u001b[A"
     ]
    },
    {
     "name": "stdout",
     "output_type": "stream",
     "text": [
      "{'activation': 'leakyrelu', 'batch_size': 64, 'dropout': 0.5, 'epochs': 1, 'first_neuron': 4096, 'hidden_layers': 2, 'label_type': 'Angular', 'loss_function': 'mean_squared_error', 'lr': 5, 'monitor_value': 'val_custom_mae', 'optimizer': <class 'tensorflow.python.keras.optimizer_v2.adam.Adam'>, 'reduction_metric': 'custom_mae', 'samples': 20000}\n",
      "Using Loss: mean_squared_error \n",
      "and Reduction Metric: [<function custom_mae at 0x000001C2C8E7DAF8>]\n",
      "Monitor: val_custom_mae\n",
      "Train on 16000 samples, validate on 3968 samples\n",
      "15936/16000 [============================>.] - ETA: 0s - loss: 1085906.9830 - custom_mae: 179.6200\n",
      "Epoch 00001: val_custom_mae improved from inf to 54.38332, saving model to ..\\fast_output\\SYNTH_Regression_MSE\\201019_2253_final_Angular_Base_Custom-MAE\\Best_Weights_FC_173.hdf5\n",
      "16000/16000 [==============================] - 10s 620us/sample - loss: 1081589.4996 - custom_mae: 179.1549 - val_loss: 5244.7546 - val_custom_mae: 54.3833\n",
      "Time taken: 0:00:11.411588\n"
     ]
    },
    {
     "name": "stderr",
     "output_type": "stream",
     "text": [
      "\n",
      " 48%|██████████████████████████████████████▋                                         | 174/360 [29:38<39:30, 12.75s/it]\u001b[A"
     ]
    },
    {
     "name": "stdout",
     "output_type": "stream",
     "text": [
      "{'activation': 'leakyrelu', 'batch_size': 64, 'dropout': 0.5, 'epochs': 1, 'first_neuron': 4096, 'hidden_layers': 3, 'label_type': 'Angular', 'loss_function': 'mean_squared_error', 'lr': 1, 'monitor_value': 'val_custom_mae', 'optimizer': <class 'tensorflow.python.keras.optimizer_v2.adam.Adam'>, 'reduction_metric': 'custom_mae', 'samples': 20000}\n",
      "Using Loss: mean_squared_error \n",
      "and Reduction Metric: [<function custom_mae at 0x000001C2C8E7DAF8>]\n",
      "Monitor: val_custom_mae\n",
      "Train on 16000 samples, validate on 3968 samples\n",
      "15872/16000 [============================>.] - ETA: 0s - loss: 5462.6918 - custom_mae: 50.9753\n",
      "Epoch 00001: val_custom_mae improved from inf to 35.38223, saving model to ..\\fast_output\\SYNTH_Regression_MSE\\201019_2253_final_Angular_Base_Custom-MAE\\Best_Weights_FC_174.hdf5\n",
      "16000/16000 [==============================] - 10s 623us/sample - loss: 5448.5291 - custom_mae: 50.8826 - val_loss: 3098.1292 - val_custom_mae: 35.3822\n",
      "Time taken: 0:00:11.456925\n"
     ]
    },
    {
     "name": "stderr",
     "output_type": "stream",
     "text": [
      "\n",
      " 49%|██████████████████████████████████████▉                                         | 175/360 [29:52<39:42, 12.88s/it]\u001b[A"
     ]
    },
    {
     "name": "stdout",
     "output_type": "stream",
     "text": [
      "{'activation': 'leakyrelu', 'batch_size': 64, 'dropout': 0.5, 'epochs': 1, 'first_neuron': 4096, 'hidden_layers': 3, 'label_type': 'Angular', 'loss_function': 'mean_squared_error', 'lr': 2, 'monitor_value': 'val_custom_mae', 'optimizer': <class 'tensorflow.python.keras.optimizer_v2.adam.Adam'>, 'reduction_metric': 'custom_mae', 'samples': 20000}\n",
      "Using Loss: mean_squared_error \n",
      "and Reduction Metric: [<function custom_mae at 0x000001C2C8E7DAF8>]\n",
      "Monitor: val_custom_mae\n",
      "Train on 16000 samples, validate on 3968 samples\n",
      "15936/16000 [============================>.] - ETA: 0s - loss: 6216.7091 - custom_mae: 53.1824\n",
      "Epoch 00001: val_custom_mae improved from inf to 37.05376, saving model to ..\\fast_output\\SYNTH_Regression_MSE\\201019_2253_final_Angular_Base_Custom-MAE\\Best_Weights_FC_175.hdf5\n",
      "16000/16000 [==============================] - 10s 627us/sample - loss: 6205.4310 - custom_mae: 53.1272 - val_loss: 3337.3181 - val_custom_mae: 37.0538\n",
      "Time taken: 0:00:11.533246\n"
     ]
    },
    {
     "name": "stderr",
     "output_type": "stream",
     "text": [
      "\n",
      " 49%|███████████████████████████████████████                                         | 176/360 [30:05<39:51, 12.99s/it]\u001b[A"
     ]
    },
    {
     "name": "stdout",
     "output_type": "stream",
     "text": [
      "{'activation': 'leakyrelu', 'batch_size': 64, 'dropout': 0.5, 'epochs': 1, 'first_neuron': 4096, 'hidden_layers': 3, 'label_type': 'Angular', 'loss_function': 'mean_squared_error', 'lr': 5, 'monitor_value': 'val_custom_mae', 'optimizer': <class 'tensorflow.python.keras.optimizer_v2.adam.Adam'>, 'reduction_metric': 'custom_mae', 'samples': 20000}\n",
      "Using Loss: mean_squared_error \n",
      "and Reduction Metric: [<function custom_mae at 0x000001C2C8E7DAF8>]\n",
      "Monitor: val_custom_mae\n",
      "Train on 16000 samples, validate on 3968 samples\n",
      "15872/16000 [============================>.] - ETA: 0s - loss: 438678.0428 - custom_mae: 256.3110\n",
      "Epoch 00001: val_custom_mae improved from inf to 59.96478, saving model to ..\\fast_output\\SYNTH_Regression_MSE\\201019_2253_final_Angular_Base_Custom-MAE\\Best_Weights_FC_176.hdf5\n",
      "16000/16000 [==============================] - 10s 624us/sample - loss: 435257.1368 - custom_mae: 254.9144 - val_loss: 6457.9943 - val_custom_mae: 59.9648\n",
      "Time taken: 0:00:11.468372\n"
     ]
    },
    {
     "name": "stderr",
     "output_type": "stream",
     "text": [
      "\n",
      " 49%|███████████████████████████████████████▎                                        | 177/360 [30:18<39:49, 13.06s/it]\u001b[A"
     ]
    },
    {
     "name": "stdout",
     "output_type": "stream",
     "text": [
      "{'activation': 'leakyrelu', 'batch_size': 64, 'dropout': 0.5, 'epochs': 1, 'first_neuron': 4096, 'hidden_layers': 4, 'label_type': 'Angular', 'loss_function': 'mean_squared_error', 'lr': 1, 'monitor_value': 'val_custom_mae', 'optimizer': <class 'tensorflow.python.keras.optimizer_v2.adam.Adam'>, 'reduction_metric': 'custom_mae', 'samples': 20000}\n",
      "Using Loss: mean_squared_error \n",
      "and Reduction Metric: [<function custom_mae at 0x000001C2C8E7DAF8>]\n",
      "Monitor: val_custom_mae\n",
      "Train on 16000 samples, validate on 3968 samples\n",
      "15744/16000 [============================>.] - ETA: 0s - loss: 5798.5667 - custom_mae: 55.0913\n",
      "Epoch 00001: val_custom_mae improved from inf to 49.02122, saving model to ..\\fast_output\\SYNTH_Regression_MSE\\201019_2253_final_Angular_Base_Custom-MAE\\Best_Weights_FC_177.hdf5\n",
      "16000/16000 [==============================] - 10s 627us/sample - loss: 5771.1232 - custom_mae: 54.9113 - val_loss: 4968.2549 - val_custom_mae: 49.0212\n",
      "Time taken: 0:00:11.522851\n"
     ]
    },
    {
     "name": "stderr",
     "output_type": "stream",
     "text": [
      "\n",
      " 49%|███████████████████████████████████████▌                                        | 178/360 [30:31<39:47, 13.12s/it]\u001b[A"
     ]
    },
    {
     "name": "stdout",
     "output_type": "stream",
     "text": [
      "{'activation': 'leakyrelu', 'batch_size': 64, 'dropout': 0.5, 'epochs': 1, 'first_neuron': 4096, 'hidden_layers': 4, 'label_type': 'Angular', 'loss_function': 'mean_squared_error', 'lr': 2, 'monitor_value': 'val_custom_mae', 'optimizer': <class 'tensorflow.python.keras.optimizer_v2.adam.Adam'>, 'reduction_metric': 'custom_mae', 'samples': 20000}\n",
      "Using Loss: mean_squared_error \n",
      "and Reduction Metric: [<function custom_mae at 0x000001C2C8E7DAF8>]\n",
      "Monitor: val_custom_mae\n",
      "Train on 16000 samples, validate on 3968 samples\n",
      "15872/16000 [============================>.] - ETA: 0s - loss: 10628.5268 - custom_mae: 62.1673\n",
      "Epoch 00001: val_custom_mae improved from inf to 57.18084, saving model to ..\\fast_output\\SYNTH_Regression_MSE\\201019_2253_final_Angular_Base_Custom-MAE\\Best_Weights_FC_178.hdf5\n",
      "16000/16000 [==============================] - 10s 629us/sample - loss: 10580.8515 - custom_mae: 62.0605 - val_loss: 6968.2442 - val_custom_mae: 57.1808\n",
      "Time taken: 0:00:11.545296\n"
     ]
    },
    {
     "name": "stderr",
     "output_type": "stream",
     "text": [
      "\n",
      " 50%|███████████████████████████████████████▊                                        | 179/360 [30:45<39:43, 13.17s/it]\u001b[A"
     ]
    },
    {
     "name": "stdout",
     "output_type": "stream",
     "text": [
      "{'activation': 'leakyrelu', 'batch_size': 64, 'dropout': 0.5, 'epochs': 1, 'first_neuron': 4096, 'hidden_layers': 4, 'label_type': 'Angular', 'loss_function': 'mean_squared_error', 'lr': 5, 'monitor_value': 'val_custom_mae', 'optimizer': <class 'tensorflow.python.keras.optimizer_v2.adam.Adam'>, 'reduction_metric': 'custom_mae', 'samples': 20000}\n",
      "Using Loss: mean_squared_error \n",
      "and Reduction Metric: [<function custom_mae at 0x000001C2C8E7DAF8>]\n",
      "Monitor: val_custom_mae\n",
      "Train on 16000 samples, validate on 3968 samples\n",
      "15936/16000 [============================>.] - ETA: 0s - loss: 166544.5629 - custom_mae: 149.3083\n",
      "Epoch 00001: val_custom_mae improved from inf to 62.81839, saving model to ..\\fast_output\\SYNTH_Regression_MSE\\201019_2253_final_Angular_Base_Custom-MAE\\Best_Weights_FC_179.hdf5\n",
      "16000/16000 [==============================] - 10s 628us/sample - loss: 165908.9080 - custom_mae: 148.9841 - val_loss: 7844.6627 - val_custom_mae: 62.8184\n",
      "Time taken: 0:00:11.546021\n"
     ]
    },
    {
     "name": "stderr",
     "output_type": "stream",
     "text": [
      "\n",
      " 50%|████████████████████████████████████████                                        | 180/360 [30:58<39:37, 13.21s/it]\u001b[A"
     ]
    },
    {
     "name": "stdout",
     "output_type": "stream",
     "text": [
      "{'activation': 'relu', 'batch_size': 32, 'dropout': 0.25, 'epochs': 1, 'first_neuron': 1024, 'hidden_layers': 0, 'label_type': 'Angular', 'loss_function': 'mean_squared_error', 'lr': 1, 'monitor_value': 'val_custom_mae', 'optimizer': <class 'tensorflow.python.keras.optimizer_v2.adam.Adam'>, 'reduction_metric': 'custom_mae', 'samples': 20000}\n",
      "Using Loss: mean_squared_error \n",
      "and Reduction Metric: [<function custom_mae at 0x000001C2C8E7DAF8>]\n",
      "Monitor: val_custom_mae\n",
      "Train on 16000 samples, validate on 4000 samples\n",
      "15648/16000 [============================>.] - ETA: 0s - loss: 4021.6131 - custom_mae: 40.6152\n",
      "Epoch 00001: val_custom_mae improved from inf to 32.40366, saving model to ..\\fast_output\\SYNTH_Regression_MSE\\201019_2253_final_Angular_Base_Custom-MAE\\Best_Weights_FC_180.hdf5\n",
      "16000/16000 [==============================] - 4s 271us/sample - loss: 3992.7711 - custom_mae: 40.4165 - val_loss: 2997.4420 - val_custom_mae: 32.4037\n",
      "Time taken: 0:00:05.919936\n"
     ]
    },
    {
     "name": "stderr",
     "output_type": "stream",
     "text": [
      "\n",
      " 50%|████████████████████████████████████████▏                                       | 181/360 [31:09<37:45, 12.66s/it]\u001b[A"
     ]
    },
    {
     "name": "stdout",
     "output_type": "stream",
     "text": [
      "{'activation': 'relu', 'batch_size': 32, 'dropout': 0.25, 'epochs': 1, 'first_neuron': 1024, 'hidden_layers': 0, 'label_type': 'Angular', 'loss_function': 'mean_squared_error', 'lr': 2, 'monitor_value': 'val_custom_mae', 'optimizer': <class 'tensorflow.python.keras.optimizer_v2.adam.Adam'>, 'reduction_metric': 'custom_mae', 'samples': 20000}\n",
      "Using Loss: mean_squared_error \n",
      "and Reduction Metric: [<function custom_mae at 0x000001C2C8E7DAF8>]\n",
      "Monitor: val_custom_mae\n",
      "Train on 16000 samples, validate on 4000 samples\n",
      "15936/16000 [============================>.] - ETA: 0s - loss: 3733.6834 - custom_mae: 38.5757\n",
      "Epoch 00001: val_custom_mae improved from inf to 32.06914, saving model to ..\\fast_output\\SYNTH_Regression_MSE\\201019_2253_final_Angular_Base_Custom-MAE\\Best_Weights_FC_181.hdf5\n",
      "16000/16000 [==============================] - 4s 267us/sample - loss: 3731.4859 - custom_mae: 38.5423 - val_loss: 2990.3475 - val_custom_mae: 32.0691\n",
      "Time taken: 0:00:05.765664\n"
     ]
    },
    {
     "name": "stderr",
     "output_type": "stream",
     "text": [
      "\n",
      " 51%|████████████████████████████████████████▍                                       | 182/360 [31:17<32:53, 11.09s/it]\u001b[A"
     ]
    },
    {
     "name": "stdout",
     "output_type": "stream",
     "text": [
      "{'activation': 'relu', 'batch_size': 32, 'dropout': 0.25, 'epochs': 1, 'first_neuron': 1024, 'hidden_layers': 0, 'label_type': 'Angular', 'loss_function': 'mean_squared_error', 'lr': 5, 'monitor_value': 'val_custom_mae', 'optimizer': <class 'tensorflow.python.keras.optimizer_v2.adam.Adam'>, 'reduction_metric': 'custom_mae', 'samples': 20000}\n",
      "Using Loss: mean_squared_error \n",
      "and Reduction Metric: [<function custom_mae at 0x000001C2C8E7DAF8>]\n",
      "Monitor: val_custom_mae\n",
      "Train on 16000 samples, validate on 4000 samples\n",
      "15968/16000 [============================>.] - ETA: 0s - loss: 3718.2587 - custom_mae: 38.7375\n",
      "Epoch 00001: val_custom_mae improved from inf to 34.85891, saving model to ..\\fast_output\\SYNTH_Regression_MSE\\201019_2253_final_Angular_Base_Custom-MAE\\Best_Weights_FC_182.hdf5\n",
      "16000/16000 [==============================] - 4s 271us/sample - loss: 3719.1434 - custom_mae: 38.7350 - val_loss: 3301.3511 - val_custom_mae: 34.8589\n",
      "Time taken: 0:00:05.824220\n"
     ]
    },
    {
     "name": "stderr",
     "output_type": "stream",
     "text": [
      "\n",
      " 51%|████████████████████████████████████████▋                                       | 183/360 [31:24<29:30, 10.00s/it]\u001b[A"
     ]
    },
    {
     "name": "stdout",
     "output_type": "stream",
     "text": [
      "{'activation': 'relu', 'batch_size': 32, 'dropout': 0.25, 'epochs': 1, 'first_neuron': 1024, 'hidden_layers': 1, 'label_type': 'Angular', 'loss_function': 'mean_squared_error', 'lr': 1, 'monitor_value': 'val_custom_mae', 'optimizer': <class 'tensorflow.python.keras.optimizer_v2.adam.Adam'>, 'reduction_metric': 'custom_mae', 'samples': 20000}\n",
      "Using Loss: mean_squared_error \n",
      "and Reduction Metric: [<function custom_mae at 0x000001C2C8E7DAF8>]\n",
      "Monitor: val_custom_mae\n",
      "Train on 16000 samples, validate on 4000 samples\n",
      "15744/16000 [============================>.] - ETA: 0s - loss: 3974.6218 - custom_mae: 41.0677\n",
      "Epoch 00001: val_custom_mae improved from inf to 32.65477, saving model to ..\\fast_output\\SYNTH_Regression_MSE\\201019_2253_final_Angular_Base_Custom-MAE\\Best_Weights_FC_183.hdf5\n",
      "16000/16000 [==============================] - 4s 277us/sample - loss: 3959.7165 - custom_mae: 40.9437 - val_loss: 3023.1647 - val_custom_mae: 32.6548\n",
      "Time taken: 0:00:05.905920\n"
     ]
    },
    {
     "name": "stderr",
     "output_type": "stream",
     "text": [
      "\n",
      " 51%|████████████████████████████████████████▉                                       | 184/360 [31:32<27:13,  9.28s/it]\u001b[A"
     ]
    },
    {
     "name": "stdout",
     "output_type": "stream",
     "text": [
      "{'activation': 'relu', 'batch_size': 32, 'dropout': 0.25, 'epochs': 1, 'first_neuron': 1024, 'hidden_layers': 1, 'label_type': 'Angular', 'loss_function': 'mean_squared_error', 'lr': 2, 'monitor_value': 'val_custom_mae', 'optimizer': <class 'tensorflow.python.keras.optimizer_v2.adam.Adam'>, 'reduction_metric': 'custom_mae', 'samples': 20000}\n",
      "Using Loss: mean_squared_error \n",
      "and Reduction Metric: [<function custom_mae at 0x000001C2C8E7DAF8>]\n",
      "Monitor: val_custom_mae\n",
      "Train on 16000 samples, validate on 4000 samples\n",
      "15776/16000 [============================>.] - ETA: 0s - loss: 3956.2679 - custom_mae: 40.9738\n",
      "Epoch 00001: val_custom_mae improved from inf to 34.60440, saving model to ..\\fast_output\\SYNTH_Regression_MSE\\201019_2253_final_Angular_Base_Custom-MAE\\Best_Weights_FC_184.hdf5\n",
      "16000/16000 [==============================] - 4s 278us/sample - loss: 3948.9876 - custom_mae: 40.9074 - val_loss: 3331.6133 - val_custom_mae: 34.6044\n",
      "Time taken: 0:00:05.938534\n"
     ]
    },
    {
     "name": "stderr",
     "output_type": "stream",
     "text": [
      "\n",
      " 51%|█████████████████████████████████████████                                       | 185/360 [31:39<25:35,  8.77s/it]\u001b[A"
     ]
    },
    {
     "name": "stdout",
     "output_type": "stream",
     "text": [
      "{'activation': 'relu', 'batch_size': 32, 'dropout': 0.25, 'epochs': 1, 'first_neuron': 1024, 'hidden_layers': 1, 'label_type': 'Angular', 'loss_function': 'mean_squared_error', 'lr': 5, 'monitor_value': 'val_custom_mae', 'optimizer': <class 'tensorflow.python.keras.optimizer_v2.adam.Adam'>, 'reduction_metric': 'custom_mae', 'samples': 20000}\n",
      "Using Loss: mean_squared_error \n",
      "and Reduction Metric: [<function custom_mae at 0x000001C2C8E7DAF8>]\n",
      "Monitor: val_custom_mae\n",
      "Train on 16000 samples, validate on 4000 samples\n",
      "15968/16000 [============================>.] - ETA: 0s - loss: 4328.1802 - custom_mae: 43.6119\n",
      "Epoch 00001: val_custom_mae improved from inf to 35.51658, saving model to ..\\fast_output\\SYNTH_Regression_MSE\\201019_2253_final_Angular_Base_Custom-MAE\\Best_Weights_FC_185.hdf5\n",
      "16000/16000 [==============================] - 4s 280us/sample - loss: 4327.5106 - custom_mae: 43.5947 - val_loss: 3242.8800 - val_custom_mae: 35.5166\n",
      "Time taken: 0:00:05.968779\n"
     ]
    },
    {
     "name": "stderr",
     "output_type": "stream",
     "text": [
      "\n",
      " 52%|█████████████████████████████████████████▎                                      | 186/360 [31:47<24:27,  8.44s/it]\u001b[A"
     ]
    },
    {
     "name": "stdout",
     "output_type": "stream",
     "text": [
      "{'activation': 'relu', 'batch_size': 32, 'dropout': 0.25, 'epochs': 1, 'first_neuron': 1024, 'hidden_layers': 2, 'label_type': 'Angular', 'loss_function': 'mean_squared_error', 'lr': 1, 'monitor_value': 'val_custom_mae', 'optimizer': <class 'tensorflow.python.keras.optimizer_v2.adam.Adam'>, 'reduction_metric': 'custom_mae', 'samples': 20000}\n",
      "Using Loss: mean_squared_error \n",
      "and Reduction Metric: [<function custom_mae at 0x000001C2C8E7DAF8>]\n",
      "Monitor: val_custom_mae\n",
      "Train on 16000 samples, validate on 4000 samples\n",
      "15936/16000 [============================>.] - ETA: 0s - loss: 4198.7702 - custom_mae: 43.3560\n",
      "Epoch 00001: val_custom_mae improved from inf to 33.12199, saving model to ..\\fast_output\\SYNTH_Regression_MSE\\201019_2253_final_Angular_Base_Custom-MAE\\Best_Weights_FC_186.hdf5\n",
      "16000/16000 [==============================] - 5s 285us/sample - loss: 4196.1686 - custom_mae: 43.3280 - val_loss: 2901.0807 - val_custom_mae: 33.1220\n",
      "Time taken: 0:00:06.050568\n"
     ]
    },
    {
     "name": "stderr",
     "output_type": "stream",
     "text": [
      "\n",
      " 52%|█████████████████████████████████████████▌                                      | 187/360 [31:55<23:43,  8.23s/it]\u001b[A"
     ]
    },
    {
     "name": "stdout",
     "output_type": "stream",
     "text": [
      "{'activation': 'relu', 'batch_size': 32, 'dropout': 0.25, 'epochs': 1, 'first_neuron': 1024, 'hidden_layers': 2, 'label_type': 'Angular', 'loss_function': 'mean_squared_error', 'lr': 2, 'monitor_value': 'val_custom_mae', 'optimizer': <class 'tensorflow.python.keras.optimizer_v2.adam.Adam'>, 'reduction_metric': 'custom_mae', 'samples': 20000}\n",
      "Using Loss: mean_squared_error \n",
      "and Reduction Metric: [<function custom_mae at 0x000001C2C8E7DAF8>]\n",
      "Monitor: val_custom_mae\n",
      "Train on 16000 samples, validate on 4000 samples\n",
      "15840/16000 [============================>.] - ETA: 0s - loss: 4227.6759 - custom_mae: 43.7205\n",
      "Epoch 00001: val_custom_mae improved from inf to 32.43866, saving model to ..\\fast_output\\SYNTH_Regression_MSE\\201019_2253_final_Angular_Base_Custom-MAE\\Best_Weights_FC_187.hdf5\n",
      "16000/16000 [==============================] - 5s 286us/sample - loss: 4218.4150 - custom_mae: 43.6420 - val_loss: 2836.5780 - val_custom_mae: 32.4387\n",
      "Time taken: 0:00:06.074525\n"
     ]
    },
    {
     "name": "stderr",
     "output_type": "stream",
     "text": [
      "\n",
      " 52%|█████████████████████████████████████████▊                                      | 188/360 [32:03<23:12,  8.09s/it]\u001b[A"
     ]
    },
    {
     "name": "stdout",
     "output_type": "stream",
     "text": [
      "{'activation': 'relu', 'batch_size': 32, 'dropout': 0.25, 'epochs': 1, 'first_neuron': 1024, 'hidden_layers': 2, 'label_type': 'Angular', 'loss_function': 'mean_squared_error', 'lr': 5, 'monitor_value': 'val_custom_mae', 'optimizer': <class 'tensorflow.python.keras.optimizer_v2.adam.Adam'>, 'reduction_metric': 'custom_mae', 'samples': 20000}\n",
      "Using Loss: mean_squared_error \n",
      "and Reduction Metric: [<function custom_mae at 0x000001C2C8E7DAF8>]\n",
      "Monitor: val_custom_mae\n",
      "Train on 16000 samples, validate on 4000 samples\n",
      "15712/16000 [============================>.] - ETA: 0s - loss: 4665.5158 - custom_mae: 46.6698\n",
      "Epoch 00001: val_custom_mae improved from inf to 32.68801, saving model to ..\\fast_output\\SYNTH_Regression_MSE\\201019_2253_final_Angular_Base_Custom-MAE\\Best_Weights_FC_188.hdf5\n",
      "16000/16000 [==============================] - 5s 288us/sample - loss: 4643.0986 - custom_mae: 46.5167 - val_loss: 2705.9684 - val_custom_mae: 32.6880\n",
      "Time taken: 0:00:06.116468\n"
     ]
    },
    {
     "name": "stderr",
     "output_type": "stream",
     "text": [
      "\n",
      " 52%|██████████████████████████████████████████                                      | 189/360 [32:10<22:50,  8.01s/it]\u001b[A"
     ]
    },
    {
     "name": "stdout",
     "output_type": "stream",
     "text": [
      "{'activation': 'relu', 'batch_size': 32, 'dropout': 0.25, 'epochs': 1, 'first_neuron': 1024, 'hidden_layers': 3, 'label_type': 'Angular', 'loss_function': 'mean_squared_error', 'lr': 1, 'monitor_value': 'val_custom_mae', 'optimizer': <class 'tensorflow.python.keras.optimizer_v2.adam.Adam'>, 'reduction_metric': 'custom_mae', 'samples': 20000}\n",
      "Using Loss: mean_squared_error \n",
      "and Reduction Metric: [<function custom_mae at 0x000001C2C8E7DAF8>]\n",
      "Monitor: val_custom_mae\n",
      "Train on 16000 samples, validate on 4000 samples\n",
      "15968/16000 [============================>.] - ETA: 0s - loss: 4551.7230 - custom_mae: 46.4297\n",
      "Epoch 00001: val_custom_mae improved from inf to 32.25908, saving model to ..\\fast_output\\SYNTH_Regression_MSE\\201019_2253_final_Angular_Base_Custom-MAE\\Best_Weights_FC_189.hdf5\n",
      "16000/16000 [==============================] - 5s 293us/sample - loss: 4551.0979 - custom_mae: 46.4104 - val_loss: 2829.8665 - val_custom_mae: 32.2591\n",
      "Time taken: 0:00:06.172265\n"
     ]
    },
    {
     "name": "stderr",
     "output_type": "stream",
     "text": [
      "\n",
      " 53%|██████████████████████████████████████████▏                                     | 190/360 [32:18<22:35,  7.97s/it]\u001b[A"
     ]
    },
    {
     "name": "stdout",
     "output_type": "stream",
     "text": [
      "{'activation': 'relu', 'batch_size': 32, 'dropout': 0.25, 'epochs': 1, 'first_neuron': 1024, 'hidden_layers': 3, 'label_type': 'Angular', 'loss_function': 'mean_squared_error', 'lr': 2, 'monitor_value': 'val_custom_mae', 'optimizer': <class 'tensorflow.python.keras.optimizer_v2.adam.Adam'>, 'reduction_metric': 'custom_mae', 'samples': 20000}\n",
      "Using Loss: mean_squared_error \n",
      "and Reduction Metric: [<function custom_mae at 0x000001C2C8E7DAF8>]\n",
      "Monitor: val_custom_mae\n",
      "Train on 16000 samples, validate on 4000 samples\n",
      "15808/16000 [============================>.] - ETA: 0s - loss: 4773.5661 - custom_mae: 48.1829\n",
      "Epoch 00001: val_custom_mae improved from inf to 38.25711, saving model to ..\\fast_output\\SYNTH_Regression_MSE\\201019_2253_final_Angular_Base_Custom-MAE\\Best_Weights_FC_190.hdf5\n",
      "16000/16000 [==============================] - 5s 293us/sample - loss: 4760.8752 - custom_mae: 48.0824 - val_loss: 3291.4079 - val_custom_mae: 38.2571\n",
      "Time taken: 0:00:06.159030\n"
     ]
    },
    {
     "name": "stderr",
     "output_type": "stream",
     "text": [
      "\n",
      " 53%|██████████████████████████████████████████▍                                     | 191/360 [32:26<22:23,  7.95s/it]\u001b[A"
     ]
    },
    {
     "name": "stdout",
     "output_type": "stream",
     "text": [
      "{'activation': 'relu', 'batch_size': 32, 'dropout': 0.25, 'epochs': 1, 'first_neuron': 1024, 'hidden_layers': 3, 'label_type': 'Angular', 'loss_function': 'mean_squared_error', 'lr': 5, 'monitor_value': 'val_custom_mae', 'optimizer': <class 'tensorflow.python.keras.optimizer_v2.adam.Adam'>, 'reduction_metric': 'custom_mae', 'samples': 20000}\n",
      "Using Loss: mean_squared_error \n",
      "and Reduction Metric: [<function custom_mae at 0x000001C2C8E7DAF8>]\n",
      "Monitor: val_custom_mae\n",
      "Train on 16000 samples, validate on 4000 samples\n",
      "15776/16000 [============================>.] - ETA: 0s - loss: 5484.2508 - custom_mae: 53.1238\n",
      "Epoch 00001: val_custom_mae improved from inf to 45.58118, saving model to ..\\fast_output\\SYNTH_Regression_MSE\\201019_2253_final_Angular_Base_Custom-MAE\\Best_Weights_FC_191.hdf5\n",
      "16000/16000 [==============================] - 5s 296us/sample - loss: 5478.5582 - custom_mae: 53.0891 - val_loss: 4011.0806 - val_custom_mae: 45.5812\n",
      "Time taken: 0:00:06.225505\n"
     ]
    },
    {
     "name": "stderr",
     "output_type": "stream",
     "text": [
      "\n",
      " 53%|██████████████████████████████████████████▋                                     | 192/360 [32:34<22:15,  7.95s/it]\u001b[A"
     ]
    },
    {
     "name": "stdout",
     "output_type": "stream",
     "text": [
      "{'activation': 'relu', 'batch_size': 32, 'dropout': 0.25, 'epochs': 1, 'first_neuron': 1024, 'hidden_layers': 4, 'label_type': 'Angular', 'loss_function': 'mean_squared_error', 'lr': 1, 'monitor_value': 'val_custom_mae', 'optimizer': <class 'tensorflow.python.keras.optimizer_v2.adam.Adam'>, 'reduction_metric': 'custom_mae', 'samples': 20000}\n",
      "Using Loss: mean_squared_error \n",
      "and Reduction Metric: [<function custom_mae at 0x000001C2C8E7DAF8>]\n",
      "Monitor: val_custom_mae\n",
      "Train on 16000 samples, validate on 4000 samples\n",
      "15904/16000 [============================>.] - ETA: 0s - loss: 5158.2667 - custom_mae: 51.0475\n",
      "Epoch 00001: val_custom_mae improved from inf to 36.61707, saving model to ..\\fast_output\\SYNTH_Regression_MSE\\201019_2253_final_Angular_Base_Custom-MAE\\Best_Weights_FC_192.hdf5\n",
      "16000/16000 [==============================] - 5s 303us/sample - loss: 5148.4932 - custom_mae: 50.9809 - val_loss: 3111.5918 - val_custom_mae: 36.6171\n",
      "Time taken: 0:00:06.334135\n"
     ]
    },
    {
     "name": "stderr",
     "output_type": "stream",
     "text": [
      "\n",
      " 54%|██████████████████████████████████████████▉                                     | 193/360 [32:42<22:13,  7.98s/it]\u001b[A"
     ]
    },
    {
     "name": "stdout",
     "output_type": "stream",
     "text": [
      "{'activation': 'relu', 'batch_size': 32, 'dropout': 0.25, 'epochs': 1, 'first_neuron': 1024, 'hidden_layers': 4, 'label_type': 'Angular', 'loss_function': 'mean_squared_error', 'lr': 2, 'monitor_value': 'val_custom_mae', 'optimizer': <class 'tensorflow.python.keras.optimizer_v2.adam.Adam'>, 'reduction_metric': 'custom_mae', 'samples': 20000}\n",
      "Using Loss: mean_squared_error \n",
      "and Reduction Metric: [<function custom_mae at 0x000001C2C8E7DAF8>]\n",
      "Monitor: val_custom_mae\n",
      "Train on 16000 samples, validate on 4000 samples\n",
      "15840/16000 [============================>.] - ETA: 0s - loss: 5294.7961 - custom_mae: 52.5409\n",
      "Epoch 00001: val_custom_mae improved from inf to 42.16572, saving model to ..\\fast_output\\SYNTH_Regression_MSE\\201019_2253_final_Angular_Base_Custom-MAE\\Best_Weights_FC_193.hdf5\n",
      "16000/16000 [==============================] - 5s 298us/sample - loss: 5286.0442 - custom_mae: 52.4848 - val_loss: 3493.8472 - val_custom_mae: 42.1657\n",
      "Time taken: 0:00:06.254915\n"
     ]
    },
    {
     "name": "stderr",
     "output_type": "stream",
     "text": [
      "\n",
      " 54%|███████████████████████████████████████████                                     | 194/360 [32:50<22:06,  7.99s/it]\u001b[A"
     ]
    },
    {
     "name": "stdout",
     "output_type": "stream",
     "text": [
      "{'activation': 'relu', 'batch_size': 32, 'dropout': 0.25, 'epochs': 1, 'first_neuron': 1024, 'hidden_layers': 4, 'label_type': 'Angular', 'loss_function': 'mean_squared_error', 'lr': 5, 'monitor_value': 'val_custom_mae', 'optimizer': <class 'tensorflow.python.keras.optimizer_v2.adam.Adam'>, 'reduction_metric': 'custom_mae', 'samples': 20000}\n",
      "Using Loss: mean_squared_error \n",
      "and Reduction Metric: [<function custom_mae at 0x000001C2C8E7DAF8>]\n",
      "Monitor: val_custom_mae\n",
      "Train on 16000 samples, validate on 4000 samples\n",
      "15712/16000 [============================>.] - ETA: 0s - loss: 5786.4180 - custom_mae: 54.5414\n",
      "Epoch 00001: val_custom_mae improved from inf to 42.87976, saving model to ..\\fast_output\\SYNTH_Regression_MSE\\201019_2253_final_Angular_Base_Custom-MAE\\Best_Weights_FC_194.hdf5\n",
      "16000/16000 [==============================] - 5s 305us/sample - loss: 5762.2573 - custom_mae: 54.4265 - val_loss: 3475.9737 - val_custom_mae: 42.8798\n",
      "Time taken: 0:00:06.374973\n"
     ]
    },
    {
     "name": "stderr",
     "output_type": "stream",
     "text": [
      "\n",
      " 54%|███████████████████████████████████████████▎                                    | 195/360 [32:58<22:03,  8.02s/it]\u001b[A"
     ]
    },
    {
     "name": "stdout",
     "output_type": "stream",
     "text": [
      "{'activation': 'relu', 'batch_size': 32, 'dropout': 0.25, 'epochs': 1, 'first_neuron': 2048, 'hidden_layers': 0, 'label_type': 'Angular', 'loss_function': 'mean_squared_error', 'lr': 1, 'monitor_value': 'val_custom_mae', 'optimizer': <class 'tensorflow.python.keras.optimizer_v2.adam.Adam'>, 'reduction_metric': 'custom_mae', 'samples': 20000}\n",
      "Using Loss: mean_squared_error \n",
      "and Reduction Metric: [<function custom_mae at 0x000001C2C8E7DAF8>]\n",
      "Monitor: val_custom_mae\n",
      "Train on 16000 samples, validate on 4000 samples\n",
      "15808/16000 [============================>.] - ETA: 0s - loss: 3775.6338 - custom_mae: 38.5231\n",
      "Epoch 00001: val_custom_mae improved from inf to 31.92171, saving model to ..\\fast_output\\SYNTH_Regression_MSE\\201019_2253_final_Angular_Base_Custom-MAE\\Best_Weights_FC_195.hdf5\n",
      "16000/16000 [==============================] - 7s 422us/sample - loss: 3761.9950 - custom_mae: 38.4239 - val_loss: 2897.0415 - val_custom_mae: 31.9217\n",
      "Time taken: 0:00:08.253492\n"
     ]
    },
    {
     "name": "stderr",
     "output_type": "stream",
     "text": [
      "\n",
      " 54%|███████████████████████████████████████████▌                                    | 196/360 [33:08<23:29,  8.59s/it]\u001b[A"
     ]
    },
    {
     "name": "stdout",
     "output_type": "stream",
     "text": [
      "{'activation': 'relu', 'batch_size': 32, 'dropout': 0.25, 'epochs': 1, 'first_neuron': 2048, 'hidden_layers': 0, 'label_type': 'Angular', 'loss_function': 'mean_squared_error', 'lr': 2, 'monitor_value': 'val_custom_mae', 'optimizer': <class 'tensorflow.python.keras.optimizer_v2.adam.Adam'>, 'reduction_metric': 'custom_mae', 'samples': 20000}\n",
      "Using Loss: mean_squared_error \n",
      "and Reduction Metric: [<function custom_mae at 0x000001C2C8E7DAF8>]\n",
      "Monitor: val_custom_mae\n",
      "Train on 16000 samples, validate on 4000 samples\n",
      "15808/16000 [============================>.] - ETA: 0s - loss: 3699.6015 - custom_mae: 38.1059\n",
      "Epoch 00001: val_custom_mae improved from inf to 31.51488, saving model to ..\\fast_output\\SYNTH_Regression_MSE\\201019_2253_final_Angular_Base_Custom-MAE\\Best_Weights_FC_196.hdf5\n",
      "16000/16000 [==============================] - 7s 420us/sample - loss: 3686.4445 - custom_mae: 38.0021 - val_loss: 2909.8204 - val_custom_mae: 31.5149\n",
      "Time taken: 0:00:08.223962\n"
     ]
    },
    {
     "name": "stderr",
     "output_type": "stream",
     "text": [
      "\n",
      " 55%|███████████████████████████████████████████▊                                    | 197/360 [33:18<24:25,  8.99s/it]\u001b[A"
     ]
    },
    {
     "name": "stdout",
     "output_type": "stream",
     "text": [
      "{'activation': 'relu', 'batch_size': 32, 'dropout': 0.25, 'epochs': 1, 'first_neuron': 2048, 'hidden_layers': 0, 'label_type': 'Angular', 'loss_function': 'mean_squared_error', 'lr': 5, 'monitor_value': 'val_custom_mae', 'optimizer': <class 'tensorflow.python.keras.optimizer_v2.adam.Adam'>, 'reduction_metric': 'custom_mae', 'samples': 20000}\n",
      "Using Loss: mean_squared_error \n",
      "and Reduction Metric: [<function custom_mae at 0x000001C2C8E7DAF8>]\n",
      "Monitor: val_custom_mae\n",
      "Train on 16000 samples, validate on 4000 samples\n",
      "15776/16000 [============================>.] - ETA: 0s - loss: 3859.4623 - custom_mae: 38.9299\n",
      "Epoch 00001: val_custom_mae improved from inf to 33.97689, saving model to ..\\fast_output\\SYNTH_Regression_MSE\\201019_2253_final_Angular_Base_Custom-MAE\\Best_Weights_FC_197.hdf5\n",
      "16000/16000 [==============================] - 7s 422us/sample - loss: 3846.7938 - custom_mae: 38.8419 - val_loss: 3150.6484 - val_custom_mae: 33.9769\n",
      "Time taken: 0:00:08.250500\n"
     ]
    },
    {
     "name": "stderr",
     "output_type": "stream",
     "text": [
      "\n",
      " 55%|████████████████████████████████████████████                                    | 198/360 [33:28<25:00,  9.26s/it]\u001b[A"
     ]
    },
    {
     "name": "stdout",
     "output_type": "stream",
     "text": [
      "{'activation': 'relu', 'batch_size': 32, 'dropout': 0.25, 'epochs': 1, 'first_neuron': 2048, 'hidden_layers': 1, 'label_type': 'Angular', 'loss_function': 'mean_squared_error', 'lr': 1, 'monitor_value': 'val_custom_mae', 'optimizer': <class 'tensorflow.python.keras.optimizer_v2.adam.Adam'>, 'reduction_metric': 'custom_mae', 'samples': 20000}\n",
      "Using Loss: mean_squared_error \n",
      "and Reduction Metric: [<function custom_mae at 0x000001C2C8E7DAF8>]\n",
      "Monitor: val_custom_mae\n",
      "Train on 16000 samples, validate on 4000 samples\n",
      "15840/16000 [============================>.] - ETA: 0s - loss: 3919.2011 - custom_mae: 40.5776\n",
      "Epoch 00001: val_custom_mae improved from inf to 31.93028, saving model to ..\\fast_output\\SYNTH_Regression_MSE\\201019_2253_final_Angular_Base_Custom-MAE\\Best_Weights_FC_198.hdf5\n",
      "16000/16000 [==============================] - 7s 435us/sample - loss: 3909.2783 - custom_mae: 40.4932 - val_loss: 2932.4972 - val_custom_mae: 31.9303\n",
      "Time taken: 0:00:08.466001\n"
     ]
    },
    {
     "name": "stderr",
     "output_type": "stream",
     "text": [
      "\n",
      " 55%|████████████████████████████████████████████▏                                   | 199/360 [33:38<25:34,  9.53s/it]\u001b[A"
     ]
    },
    {
     "name": "stdout",
     "output_type": "stream",
     "text": [
      "{'activation': 'relu', 'batch_size': 32, 'dropout': 0.25, 'epochs': 1, 'first_neuron': 2048, 'hidden_layers': 1, 'label_type': 'Angular', 'loss_function': 'mean_squared_error', 'lr': 2, 'monitor_value': 'val_custom_mae', 'optimizer': <class 'tensorflow.python.keras.optimizer_v2.adam.Adam'>, 'reduction_metric': 'custom_mae', 'samples': 20000}\n",
      "Using Loss: mean_squared_error \n",
      "and Reduction Metric: [<function custom_mae at 0x000001C2C8E7DAF8>]\n",
      "Monitor: val_custom_mae\n",
      "Train on 16000 samples, validate on 4000 samples\n",
      "15936/16000 [============================>.] - ETA: 0s - loss: 3857.7877 - custom_mae: 40.3355\n",
      "Epoch 00001: val_custom_mae improved from inf to 31.11496, saving model to ..\\fast_output\\SYNTH_Regression_MSE\\201019_2253_final_Angular_Base_Custom-MAE\\Best_Weights_FC_199.hdf5\n",
      "16000/16000 [==============================] - 7s 438us/sample - loss: 3854.5311 - custom_mae: 40.2951 - val_loss: 2716.3526 - val_custom_mae: 31.1150\n",
      "Time taken: 0:00:08.500374\n"
     ]
    },
    {
     "name": "stderr",
     "output_type": "stream",
     "text": [
      "\n",
      " 56%|████████████████████████████████████████████▍                                   | 200/360 [33:48<25:55,  9.72s/it]\u001b[A"
     ]
    },
    {
     "name": "stdout",
     "output_type": "stream",
     "text": [
      "{'activation': 'relu', 'batch_size': 32, 'dropout': 0.25, 'epochs': 1, 'first_neuron': 2048, 'hidden_layers': 1, 'label_type': 'Angular', 'loss_function': 'mean_squared_error', 'lr': 5, 'monitor_value': 'val_custom_mae', 'optimizer': <class 'tensorflow.python.keras.optimizer_v2.adam.Adam'>, 'reduction_metric': 'custom_mae', 'samples': 20000}\n",
      "Using Loss: mean_squared_error \n",
      "and Reduction Metric: [<function custom_mae at 0x000001C2C8E7DAF8>]\n",
      "Monitor: val_custom_mae\n",
      "Train on 16000 samples, validate on 4000 samples\n",
      "15840/16000 [============================>.] - ETA: 0s - loss: 5188.3760 - custom_mae: 44.8204\n",
      "Epoch 00001: val_custom_mae improved from inf to 36.07518, saving model to ..\\fast_output\\SYNTH_Regression_MSE\\201019_2253_final_Angular_Base_Custom-MAE\\Best_Weights_FC_200.hdf5\n",
      "16000/16000 [==============================] - 7s 443us/sample - loss: 5169.0223 - custom_mae: 44.7369 - val_loss: 3070.6642 - val_custom_mae: 36.0752\n",
      "Time taken: 0:00:08.581078\n"
     ]
    },
    {
     "name": "stderr",
     "output_type": "stream",
     "text": [
      "\n",
      " 56%|████████████████████████████████████████████▋                                   | 201/360 [33:59<26:11,  9.88s/it]\u001b[A"
     ]
    },
    {
     "name": "stdout",
     "output_type": "stream",
     "text": [
      "{'activation': 'relu', 'batch_size': 32, 'dropout': 0.25, 'epochs': 1, 'first_neuron': 2048, 'hidden_layers': 2, 'label_type': 'Angular', 'loss_function': 'mean_squared_error', 'lr': 1, 'monitor_value': 'val_custom_mae', 'optimizer': <class 'tensorflow.python.keras.optimizer_v2.adam.Adam'>, 'reduction_metric': 'custom_mae', 'samples': 20000}\n",
      "Using Loss: mean_squared_error \n",
      "and Reduction Metric: [<function custom_mae at 0x000001C2C8E7DAF8>]\n",
      "Monitor: val_custom_mae\n",
      "Train on 16000 samples, validate on 4000 samples\n",
      "15872/16000 [============================>.] - ETA: 0s - loss: 4231.9832 - custom_mae: 43.2434\n",
      "Epoch 00001: val_custom_mae improved from inf to 31.31029, saving model to ..\\fast_output\\SYNTH_Regression_MSE\\201019_2253_final_Angular_Base_Custom-MAE\\Best_Weights_FC_201.hdf5\n",
      "16000/16000 [==============================] - 7s 447us/sample - loss: 4221.9366 - custom_mae: 43.1606 - val_loss: 2751.3625 - val_custom_mae: 31.3103\n",
      "Time taken: 0:00:08.678256\n"
     ]
    },
    {
     "name": "stderr",
     "output_type": "stream",
     "text": [
      "\n",
      " 56%|████████████████████████████████████████████▉                                   | 202/360 [34:09<26:24, 10.03s/it]\u001b[A"
     ]
    },
    {
     "name": "stdout",
     "output_type": "stream",
     "text": [
      "{'activation': 'relu', 'batch_size': 32, 'dropout': 0.25, 'epochs': 1, 'first_neuron': 2048, 'hidden_layers': 2, 'label_type': 'Angular', 'loss_function': 'mean_squared_error', 'lr': 2, 'monitor_value': 'val_custom_mae', 'optimizer': <class 'tensorflow.python.keras.optimizer_v2.adam.Adam'>, 'reduction_metric': 'custom_mae', 'samples': 20000}\n",
      "Using Loss: mean_squared_error \n",
      "and Reduction Metric: [<function custom_mae at 0x000001C2C8E7DAF8>]\n",
      "Monitor: val_custom_mae\n",
      "Train on 16000 samples, validate on 4000 samples\n",
      "15936/16000 [============================>.] - ETA: 0s - loss: 4229.1209 - custom_mae: 43.8626\n",
      "Epoch 00001: val_custom_mae improved from inf to 31.02105, saving model to ..\\fast_output\\SYNTH_Regression_MSE\\201019_2253_final_Angular_Base_Custom-MAE\\Best_Weights_FC_202.hdf5\n",
      "16000/16000 [==============================] - 7s 455us/sample - loss: 4223.9453 - custom_mae: 43.8282 - val_loss: 2617.2286 - val_custom_mae: 31.0210\n",
      "Time taken: 0:00:08.773052\n"
     ]
    },
    {
     "name": "stderr",
     "output_type": "stream",
     "text": [
      "\n",
      " 56%|█████████████████████████████████████████████                                   | 203/360 [34:20<26:36, 10.17s/it]\u001b[A"
     ]
    },
    {
     "name": "stdout",
     "output_type": "stream",
     "text": [
      "{'activation': 'relu', 'batch_size': 32, 'dropout': 0.25, 'epochs': 1, 'first_neuron': 2048, 'hidden_layers': 2, 'label_type': 'Angular', 'loss_function': 'mean_squared_error', 'lr': 5, 'monitor_value': 'val_custom_mae', 'optimizer': <class 'tensorflow.python.keras.optimizer_v2.adam.Adam'>, 'reduction_metric': 'custom_mae', 'samples': 20000}\n",
      "Using Loss: mean_squared_error \n",
      "and Reduction Metric: [<function custom_mae at 0x000001C2C8E7DAF8>]\n",
      "Monitor: val_custom_mae\n",
      "Train on 16000 samples, validate on 4000 samples\n",
      "15904/16000 [============================>.] - ETA: 0s - loss: 6386.1229 - custom_mae: 49.4379\n",
      "Epoch 00001: val_custom_mae improved from inf to 36.44479, saving model to ..\\fast_output\\SYNTH_Regression_MSE\\201019_2253_final_Angular_Base_Custom-MAE\\Best_Weights_FC_203.hdf5\n",
      "16000/16000 [==============================] - 7s 448us/sample - loss: 6373.5974 - custom_mae: 49.3876 - val_loss: 3123.3043 - val_custom_mae: 36.4448\n",
      "Time taken: 0:00:08.623747\n"
     ]
    },
    {
     "name": "stderr",
     "output_type": "stream",
     "text": [
      "\n",
      " 57%|█████████████████████████████████████████████▎                                  | 204/360 [34:30<26:33, 10.22s/it]\u001b[A"
     ]
    },
    {
     "name": "stdout",
     "output_type": "stream",
     "text": [
      "{'activation': 'relu', 'batch_size': 32, 'dropout': 0.25, 'epochs': 1, 'first_neuron': 2048, 'hidden_layers': 3, 'label_type': 'Angular', 'loss_function': 'mean_squared_error', 'lr': 1, 'monitor_value': 'val_custom_mae', 'optimizer': <class 'tensorflow.python.keras.optimizer_v2.adam.Adam'>, 'reduction_metric': 'custom_mae', 'samples': 20000}\n",
      "Using Loss: mean_squared_error \n",
      "and Reduction Metric: [<function custom_mae at 0x000001C2C8E7DAF8>]\n",
      "Monitor: val_custom_mae\n",
      "Train on 16000 samples, validate on 4000 samples\n",
      "15776/16000 [============================>.] - ETA: 0s - loss: 4321.4534 - custom_mae: 44.5606\n",
      "Epoch 00001: val_custom_mae improved from inf to 31.24390, saving model to ..\\fast_output\\SYNTH_Regression_MSE\\201019_2253_final_Angular_Base_Custom-MAE\\Best_Weights_FC_204.hdf5\n",
      "16000/16000 [==============================] - 7s 463us/sample - loss: 4299.3760 - custom_mae: 44.3858 - val_loss: 2676.8132 - val_custom_mae: 31.2439\n",
      "Time taken: 0:00:08.891461\n"
     ]
    },
    {
     "name": "stderr",
     "output_type": "stream",
     "text": [
      "\n",
      " 57%|█████████████████████████████████████████████▌                                  | 205/360 [34:40<26:42, 10.34s/it]\u001b[A"
     ]
    },
    {
     "name": "stdout",
     "output_type": "stream",
     "text": [
      "{'activation': 'relu', 'batch_size': 32, 'dropout': 0.25, 'epochs': 1, 'first_neuron': 2048, 'hidden_layers': 3, 'label_type': 'Angular', 'loss_function': 'mean_squared_error', 'lr': 2, 'monitor_value': 'val_custom_mae', 'optimizer': <class 'tensorflow.python.keras.optimizer_v2.adam.Adam'>, 'reduction_metric': 'custom_mae', 'samples': 20000}\n",
      "Using Loss: mean_squared_error \n",
      "and Reduction Metric: [<function custom_mae at 0x000001C2C8E7DAF8>]\n",
      "Monitor: val_custom_mae\n",
      "Train on 16000 samples, validate on 4000 samples\n",
      "15904/16000 [============================>.] - ETA: 0s - loss: 5154.4023 - custom_mae: 50.1254\n",
      "Epoch 00001: val_custom_mae improved from inf to 33.94673, saving model to ..\\fast_output\\SYNTH_Regression_MSE\\201019_2253_final_Angular_Base_Custom-MAE\\Best_Weights_FC_205.hdf5\n",
      "16000/16000 [==============================] - 7s 454us/sample - loss: 5146.7867 - custom_mae: 50.0650 - val_loss: 2861.4017 - val_custom_mae: 33.9467\n",
      "Time taken: 0:00:08.755078\n"
     ]
    },
    {
     "name": "stderr",
     "output_type": "stream",
     "text": [
      "\n",
      " 57%|█████████████████████████████████████████████▊                                  | 206/360 [34:51<26:40, 10.39s/it]\u001b[A"
     ]
    },
    {
     "name": "stdout",
     "output_type": "stream",
     "text": [
      "{'activation': 'relu', 'batch_size': 32, 'dropout': 0.25, 'epochs': 1, 'first_neuron': 2048, 'hidden_layers': 3, 'label_type': 'Angular', 'loss_function': 'mean_squared_error', 'lr': 5, 'monitor_value': 'val_custom_mae', 'optimizer': <class 'tensorflow.python.keras.optimizer_v2.adam.Adam'>, 'reduction_metric': 'custom_mae', 'samples': 20000}\n",
      "Using Loss: mean_squared_error \n",
      "and Reduction Metric: [<function custom_mae at 0x000001C2C8E7DAF8>]\n",
      "Monitor: val_custom_mae\n",
      "Train on 16000 samples, validate on 4000 samples\n",
      "15808/16000 [============================>.] - ETA: 0s - loss: 6466.1236 - custom_mae: 52.8897\n",
      "Epoch 00001: val_custom_mae improved from inf to 37.38181, saving model to ..\\fast_output\\SYNTH_Regression_MSE\\201019_2253_final_Angular_Base_Custom-MAE\\Best_Weights_FC_206.hdf5\n",
      "16000/16000 [==============================] - 7s 458us/sample - loss: 6438.9473 - custom_mae: 52.7765 - val_loss: 3066.9665 - val_custom_mae: 37.3818\n",
      "Time taken: 0:00:08.821102\n"
     ]
    },
    {
     "name": "stderr",
     "output_type": "stream",
     "text": [
      "\n",
      " 57%|██████████████████████████████████████████████                                  | 207/360 [35:02<26:37, 10.44s/it]\u001b[A"
     ]
    },
    {
     "name": "stdout",
     "output_type": "stream",
     "text": [
      "{'activation': 'relu', 'batch_size': 32, 'dropout': 0.25, 'epochs': 1, 'first_neuron': 2048, 'hidden_layers': 4, 'label_type': 'Angular', 'loss_function': 'mean_squared_error', 'lr': 1, 'monitor_value': 'val_custom_mae', 'optimizer': <class 'tensorflow.python.keras.optimizer_v2.adam.Adam'>, 'reduction_metric': 'custom_mae', 'samples': 20000}\n",
      "Using Loss: mean_squared_error \n",
      "and Reduction Metric: [<function custom_mae at 0x000001C2C8E7DAF8>]\n",
      "Monitor: val_custom_mae\n",
      "Train on 16000 samples, validate on 4000 samples\n",
      "15872/16000 [============================>.] - ETA: 0s - loss: 4888.2721 - custom_mae: 49.2927\n",
      "Epoch 00001: val_custom_mae improved from inf to 35.49785, saving model to ..\\fast_output\\SYNTH_Regression_MSE\\201019_2253_final_Angular_Base_Custom-MAE\\Best_Weights_FC_207.hdf5\n",
      "16000/16000 [==============================] - 7s 462us/sample - loss: 4878.4185 - custom_mae: 49.2186 - val_loss: 2938.5852 - val_custom_mae: 35.4979\n",
      "Time taken: 0:00:08.899048\n"
     ]
    },
    {
     "name": "stderr",
     "output_type": "stream",
     "text": [
      "\n",
      " 58%|██████████████████████████████████████████████▏                                 | 208/360 [35:12<26:37, 10.51s/it]\u001b[A"
     ]
    },
    {
     "name": "stdout",
     "output_type": "stream",
     "text": [
      "{'activation': 'relu', 'batch_size': 32, 'dropout': 0.25, 'epochs': 1, 'first_neuron': 2048, 'hidden_layers': 4, 'label_type': 'Angular', 'loss_function': 'mean_squared_error', 'lr': 2, 'monitor_value': 'val_custom_mae', 'optimizer': <class 'tensorflow.python.keras.optimizer_v2.adam.Adam'>, 'reduction_metric': 'custom_mae', 'samples': 20000}\n",
      "Using Loss: mean_squared_error \n",
      "and Reduction Metric: [<function custom_mae at 0x000001C2C8E7DAF8>]\n",
      "Monitor: val_custom_mae\n",
      "Train on 16000 samples, validate on 4000 samples\n",
      "15936/16000 [============================>.] - ETA: 0s - loss: 5589.1671 - custom_mae: 53.4722\n",
      "Epoch 00001: val_custom_mae improved from inf to 45.02910, saving model to ..\\fast_output\\SYNTH_Regression_MSE\\201019_2253_final_Angular_Base_Custom-MAE\\Best_Weights_FC_208.hdf5\n",
      "16000/16000 [==============================] - 7s 468us/sample - loss: 5585.6285 - custom_mae: 53.4441 - val_loss: 3830.4731 - val_custom_mae: 45.0291\n",
      "Time taken: 0:00:08.981724\n"
     ]
    },
    {
     "name": "stderr",
     "output_type": "stream",
     "text": [
      "\n",
      " 58%|██████████████████████████████████████████████▍                                 | 209/360 [35:23<26:37, 10.58s/it]\u001b[A"
     ]
    },
    {
     "name": "stdout",
     "output_type": "stream",
     "text": [
      "{'activation': 'relu', 'batch_size': 32, 'dropout': 0.25, 'epochs': 1, 'first_neuron': 2048, 'hidden_layers': 4, 'label_type': 'Angular', 'loss_function': 'mean_squared_error', 'lr': 5, 'monitor_value': 'val_custom_mae', 'optimizer': <class 'tensorflow.python.keras.optimizer_v2.adam.Adam'>, 'reduction_metric': 'custom_mae', 'samples': 20000}\n",
      "Using Loss: mean_squared_error \n",
      "and Reduction Metric: [<function custom_mae at 0x000001C2C8E7DAF8>]\n",
      "Monitor: val_custom_mae\n",
      "Train on 16000 samples, validate on 4000 samples\n",
      "15904/16000 [============================>.] - ETA: 0s - loss: 7001.9447 - custom_mae: 55.6506\n",
      "Epoch 00001: val_custom_mae improved from inf to 56.55503, saving model to ..\\fast_output\\SYNTH_Regression_MSE\\201019_2253_final_Angular_Base_Custom-MAE\\Best_Weights_FC_209.hdf5\n",
      "16000/16000 [==============================] - 7s 461us/sample - loss: 6994.8173 - custom_mae: 55.6247 - val_loss: 5807.5007 - val_custom_mae: 56.5550\n",
      "Time taken: 0:00:08.894546\n"
     ]
    },
    {
     "name": "stderr",
     "output_type": "stream",
     "text": [
      "\n",
      " 58%|██████████████████████████████████████████████▋                                 | 210/360 [35:34<26:30, 10.60s/it]\u001b[A"
     ]
    },
    {
     "name": "stdout",
     "output_type": "stream",
     "text": [
      "{'activation': 'relu', 'batch_size': 32, 'dropout': 0.25, 'epochs': 1, 'first_neuron': 4096, 'hidden_layers': 0, 'label_type': 'Angular', 'loss_function': 'mean_squared_error', 'lr': 1, 'monitor_value': 'val_custom_mae', 'optimizer': <class 'tensorflow.python.keras.optimizer_v2.adam.Adam'>, 'reduction_metric': 'custom_mae', 'samples': 20000}\n",
      "Using Loss: mean_squared_error \n",
      "and Reduction Metric: [<function custom_mae at 0x000001C2C8E7DAF8>]\n",
      "Monitor: val_custom_mae\n",
      "Train on 16000 samples, validate on 4000 samples\n",
      "15872/16000 [============================>.] - ETA: 0s - loss: 3709.0278 - custom_mae: 37.8987\n",
      "Epoch 00001: val_custom_mae improved from inf to 33.23935, saving model to ..\\fast_output\\SYNTH_Regression_MSE\\201019_2253_final_Angular_Base_Custom-MAE\\Best_Weights_FC_210.hdf5\n",
      "16000/16000 [==============================] - 12s 737us/sample - loss: 3701.7163 - custom_mae: 37.8386 - val_loss: 3142.8251 - val_custom_mae: 33.2394\n",
      "Time taken: 0:00:13.292496\n"
     ]
    },
    {
     "name": "stderr",
     "output_type": "stream",
     "text": [
      "\n",
      " 59%|██████████████████████████████████████████████▉                                 | 211/360 [35:49<29:34, 11.91s/it]\u001b[A"
     ]
    },
    {
     "name": "stdout",
     "output_type": "stream",
     "text": [
      "{'activation': 'relu', 'batch_size': 32, 'dropout': 0.25, 'epochs': 1, 'first_neuron': 4096, 'hidden_layers': 0, 'label_type': 'Angular', 'loss_function': 'mean_squared_error', 'lr': 2, 'monitor_value': 'val_custom_mae', 'optimizer': <class 'tensorflow.python.keras.optimizer_v2.adam.Adam'>, 'reduction_metric': 'custom_mae', 'samples': 20000}\n",
      "Using Loss: mean_squared_error \n",
      "and Reduction Metric: [<function custom_mae at 0x000001C2C8E7DAF8>]\n",
      "Monitor: val_custom_mae\n",
      "Train on 16000 samples, validate on 4000 samples\n",
      "15840/16000 [============================>.] - ETA: 0s - loss: 3682.4576 - custom_mae: 37.5783 ETA: 0s - loss: 3795.92\n",
      "Epoch 00001: val_custom_mae improved from inf to 33.39499, saving model to ..\\fast_output\\SYNTH_Regression_MSE\\201019_2253_final_Angular_Base_Custom-MAE\\Best_Weights_FC_211.hdf5\n",
      "16000/16000 [==============================] - 12s 735us/sample - loss: 3673.7605 - custom_mae: 37.5094 - val_loss: 3062.3424 - val_custom_mae: 33.3950\n",
      "Time taken: 0:00:13.225792\n"
     ]
    },
    {
     "name": "stderr",
     "output_type": "stream",
     "text": [
      "\n",
      " 59%|███████████████████████████████████████████████                                 | 212/360 [36:03<31:34, 12.80s/it]\u001b[A"
     ]
    },
    {
     "name": "stdout",
     "output_type": "stream",
     "text": [
      "{'activation': 'relu', 'batch_size': 32, 'dropout': 0.25, 'epochs': 1, 'first_neuron': 4096, 'hidden_layers': 0, 'label_type': 'Angular', 'loss_function': 'mean_squared_error', 'lr': 5, 'monitor_value': 'val_custom_mae', 'optimizer': <class 'tensorflow.python.keras.optimizer_v2.adam.Adam'>, 'reduction_metric': 'custom_mae', 'samples': 20000}\n",
      "Using Loss: mean_squared_error \n",
      "and Reduction Metric: [<function custom_mae at 0x000001C2C8E7DAF8>]\n",
      "Monitor: val_custom_mae\n",
      "Train on 16000 samples, validate on 4000 samples\n",
      "15840/16000 [============================>.] - ETA: 0s - loss: 4102.5187 - custom_mae: 39.6441\n",
      "Epoch 00001: val_custom_mae improved from inf to 31.10406, saving model to ..\\fast_output\\SYNTH_Regression_MSE\\201019_2253_final_Angular_Base_Custom-MAE\\Best_Weights_FC_212.hdf5\n",
      "16000/16000 [==============================] - 12s 730us/sample - loss: 4089.6972 - custom_mae: 39.5678 - val_loss: 2773.6604 - val_custom_mae: 31.1041\n",
      "Time taken: 0:00:13.174769\n"
     ]
    },
    {
     "name": "stderr",
     "output_type": "stream",
     "text": [
      "\n",
      " 59%|███████████████████████████████████████████████▎                                | 213/360 [36:18<32:51, 13.41s/it]\u001b[A"
     ]
    },
    {
     "name": "stdout",
     "output_type": "stream",
     "text": [
      "{'activation': 'relu', 'batch_size': 32, 'dropout': 0.25, 'epochs': 1, 'first_neuron': 4096, 'hidden_layers': 1, 'label_type': 'Angular', 'loss_function': 'mean_squared_error', 'lr': 1, 'monitor_value': 'val_custom_mae', 'optimizer': <class 'tensorflow.python.keras.optimizer_v2.adam.Adam'>, 'reduction_metric': 'custom_mae', 'samples': 20000}\n",
      "Using Loss: mean_squared_error \n",
      "and Reduction Metric: [<function custom_mae at 0x000001C2C8E7DAF8>]\n",
      "Monitor: val_custom_mae\n",
      "Train on 16000 samples, validate on 4000 samples\n",
      "15904/16000 [============================>.] - ETA: 0s - loss: 3816.5767 - custom_mae: 39.6612\n",
      "Epoch 00001: val_custom_mae improved from inf to 31.76995, saving model to ..\\fast_output\\SYNTH_Regression_MSE\\201019_2253_final_Angular_Base_Custom-MAE\\Best_Weights_FC_213.hdf5\n",
      "16000/16000 [==============================] - 13s 785us/sample - loss: 3811.6605 - custom_mae: 39.6108 - val_loss: 2897.6120 - val_custom_mae: 31.7699\n",
      "Time taken: 0:00:14.043949\n"
     ]
    },
    {
     "name": "stderr",
     "output_type": "stream",
     "text": [
      "\n",
      " 59%|███████████████████████████████████████████████▌                                | 214/360 [36:34<34:19, 14.11s/it]\u001b[A"
     ]
    },
    {
     "name": "stdout",
     "output_type": "stream",
     "text": [
      "{'activation': 'relu', 'batch_size': 32, 'dropout': 0.25, 'epochs': 1, 'first_neuron': 4096, 'hidden_layers': 1, 'label_type': 'Angular', 'loss_function': 'mean_squared_error', 'lr': 2, 'monitor_value': 'val_custom_mae', 'optimizer': <class 'tensorflow.python.keras.optimizer_v2.adam.Adam'>, 'reduction_metric': 'custom_mae', 'samples': 20000}\n",
      "Using Loss: mean_squared_error \n",
      "and Reduction Metric: [<function custom_mae at 0x000001C2C8E7DAF8>]\n",
      "Monitor: val_custom_mae\n",
      "Train on 16000 samples, validate on 4000 samples\n",
      "15904/16000 [============================>.] - ETA: 0s - loss: 4206.6549 - custom_mae: 41.4918\n",
      "Epoch 00001: val_custom_mae improved from inf to 30.09196, saving model to ..\\fast_output\\SYNTH_Regression_MSE\\201019_2253_final_Angular_Base_Custom-MAE\\Best_Weights_FC_214.hdf5\n",
      "16000/16000 [==============================] - 13s 787us/sample - loss: 4201.7499 - custom_mae: 41.4458 - val_loss: 2649.4116 - val_custom_mae: 30.0920\n",
      "Time taken: 0:00:14.084867\n"
     ]
    },
    {
     "name": "stderr",
     "output_type": "stream",
     "text": [
      "\n",
      " 60%|███████████████████████████████████████████████▊                                | 215/360 [36:50<35:18, 14.61s/it]\u001b[A"
     ]
    },
    {
     "name": "stdout",
     "output_type": "stream",
     "text": [
      "{'activation': 'relu', 'batch_size': 32, 'dropout': 0.25, 'epochs': 1, 'first_neuron': 4096, 'hidden_layers': 1, 'label_type': 'Angular', 'loss_function': 'mean_squared_error', 'lr': 5, 'monitor_value': 'val_custom_mae', 'optimizer': <class 'tensorflow.python.keras.optimizer_v2.adam.Adam'>, 'reduction_metric': 'custom_mae', 'samples': 20000}\n",
      "Using Loss: mean_squared_error \n",
      "and Reduction Metric: [<function custom_mae at 0x000001C2C8E7DAF8>]\n",
      "Monitor: val_custom_mae\n",
      "Train on 16000 samples, validate on 4000 samples\n",
      "15904/16000 [============================>.] - ETA: 0s - loss: 11422.7840 - custom_mae: 46.1534\n",
      "Epoch 00001: val_custom_mae improved from inf to 32.30275, saving model to ..\\fast_output\\SYNTH_Regression_MSE\\201019_2253_final_Angular_Base_Custom-MAE\\Best_Weights_FC_215.hdf5\n",
      "16000/16000 [==============================] - 13s 797us/sample - loss: 11374.5725 - custom_mae: 46.0945 - val_loss: 2946.6757 - val_custom_mae: 32.3027\n",
      "Time taken: 0:00:14.242381\n"
     ]
    },
    {
     "name": "stderr",
     "output_type": "stream",
     "text": [
      "\n",
      " 60%|████████████████████████████████████████████████                                | 216/360 [37:06<36:01, 15.01s/it]\u001b[A"
     ]
    },
    {
     "name": "stdout",
     "output_type": "stream",
     "text": [
      "{'activation': 'relu', 'batch_size': 32, 'dropout': 0.25, 'epochs': 1, 'first_neuron': 4096, 'hidden_layers': 2, 'label_type': 'Angular', 'loss_function': 'mean_squared_error', 'lr': 1, 'monitor_value': 'val_custom_mae', 'optimizer': <class 'tensorflow.python.keras.optimizer_v2.adam.Adam'>, 'reduction_metric': 'custom_mae', 'samples': 20000}\n",
      "Using Loss: mean_squared_error \n",
      "and Reduction Metric: [<function custom_mae at 0x000001C2C8E7DAF8>]\n",
      "Monitor: val_custom_mae\n",
      "Train on 16000 samples, validate on 4000 samples\n",
      "15872/16000 [============================>.] - ETA: 0s - loss: 4095.2186 - custom_mae: 42.6136\n",
      "Epoch 00001: val_custom_mae improved from inf to 30.49772, saving model to ..\\fast_output\\SYNTH_Regression_MSE\\201019_2253_final_Angular_Base_Custom-MAE\\Best_Weights_FC_216.hdf5\n",
      "16000/16000 [==============================] - 13s 811us/sample - loss: 4084.3206 - custom_mae: 42.5215 - val_loss: 2696.5386 - val_custom_mae: 30.4977\n",
      "Time taken: 0:00:14.488900\n"
     ]
    },
    {
     "name": "stderr",
     "output_type": "stream",
     "text": [
      "\n",
      " 60%|████████████████████████████████████████████████▏                               | 217/360 [37:22<36:39, 15.38s/it]\u001b[A"
     ]
    },
    {
     "name": "stdout",
     "output_type": "stream",
     "text": [
      "{'activation': 'relu', 'batch_size': 32, 'dropout': 0.25, 'epochs': 1, 'first_neuron': 4096, 'hidden_layers': 2, 'label_type': 'Angular', 'loss_function': 'mean_squared_error', 'lr': 2, 'monitor_value': 'val_custom_mae', 'optimizer': <class 'tensorflow.python.keras.optimizer_v2.adam.Adam'>, 'reduction_metric': 'custom_mae', 'samples': 20000}\n",
      "Using Loss: mean_squared_error \n",
      "and Reduction Metric: [<function custom_mae at 0x000001C2C8E7DAF8>]\n",
      "Monitor: val_custom_mae\n",
      "Train on 16000 samples, validate on 4000 samples\n",
      "15904/16000 [============================>.] - ETA: 0s - loss: 4597.6414 - custom_mae: 44.3219\n",
      "Epoch 00001: val_custom_mae improved from inf to 31.94492, saving model to ..\\fast_output\\SYNTH_Regression_MSE\\201019_2253_final_Angular_Base_Custom-MAE\\Best_Weights_FC_217.hdf5\n",
      "16000/16000 [==============================] - 13s 799us/sample - loss: 4592.2861 - custom_mae: 44.2732 - val_loss: 2817.4822 - val_custom_mae: 31.9449\n",
      "Time taken: 0:00:14.268699\n"
     ]
    },
    {
     "name": "stderr",
     "output_type": "stream",
     "text": [
      "\n",
      " 61%|████████████████████████████████████████████████▍                               | 218/360 [37:38<36:50, 15.57s/it]\u001b[A"
     ]
    },
    {
     "name": "stdout",
     "output_type": "stream",
     "text": [
      "{'activation': 'relu', 'batch_size': 32, 'dropout': 0.25, 'epochs': 1, 'first_neuron': 4096, 'hidden_layers': 2, 'label_type': 'Angular', 'loss_function': 'mean_squared_error', 'lr': 5, 'monitor_value': 'val_custom_mae', 'optimizer': <class 'tensorflow.python.keras.optimizer_v2.adam.Adam'>, 'reduction_metric': 'custom_mae', 'samples': 20000}\n",
      "Using Loss: mean_squared_error \n",
      "and Reduction Metric: [<function custom_mae at 0x000001C2C8E7DAF8>]\n",
      "Monitor: val_custom_mae\n",
      "Train on 16000 samples, validate on 4000 samples\n",
      "15904/16000 [============================>.] - ETA: 0s - loss: 54233.9210 - custom_mae: 56.0502\n",
      "Epoch 00001: val_custom_mae improved from inf to 35.22406, saving model to ..\\fast_output\\SYNTH_Regression_MSE\\201019_2253_final_Angular_Base_Custom-MAE\\Best_Weights_FC_218.hdf5\n",
      "16000/16000 [==============================] - 13s 807us/sample - loss: 53933.8114 - custom_mae: 55.9686 - val_loss: 3059.7971 - val_custom_mae: 35.2241\n",
      "Time taken: 0:00:14.418000\n"
     ]
    },
    {
     "name": "stderr",
     "output_type": "stream",
     "text": [
      "\n",
      " 61%|████████████████████████████████████████████████▋                               | 219/360 [37:54<37:00, 15.74s/it]\u001b[A"
     ]
    },
    {
     "name": "stdout",
     "output_type": "stream",
     "text": [
      "{'activation': 'relu', 'batch_size': 32, 'dropout': 0.25, 'epochs': 1, 'first_neuron': 4096, 'hidden_layers': 3, 'label_type': 'Angular', 'loss_function': 'mean_squared_error', 'lr': 1, 'monitor_value': 'val_custom_mae', 'optimizer': <class 'tensorflow.python.keras.optimizer_v2.adam.Adam'>, 'reduction_metric': 'custom_mae', 'samples': 20000}\n",
      "Using Loss: mean_squared_error \n",
      "and Reduction Metric: [<function custom_mae at 0x000001C2C8E7DAF8>]\n",
      "Monitor: val_custom_mae\n",
      "Train on 16000 samples, validate on 4000 samples\n",
      "15968/16000 [============================>.] - ETA: 0s - loss: 4443.0787 - custom_mae: 44.7974\n",
      "Epoch 00001: val_custom_mae improved from inf to 33.12175, saving model to ..\\fast_output\\SYNTH_Regression_MSE\\201019_2253_final_Angular_Base_Custom-MAE\\Best_Weights_FC_219.hdf5\n",
      "16000/16000 [==============================] - 13s 822us/sample - loss: 4440.2559 - custom_mae: 44.7746 - val_loss: 2901.2774 - val_custom_mae: 33.1217\n",
      "Time taken: 0:00:14.649461\n"
     ]
    },
    {
     "name": "stderr",
     "output_type": "stream",
     "text": [
      "\n",
      " 61%|████████████████████████████████████████████████▉                               | 220/360 [38:11<37:14, 15.96s/it]\u001b[A"
     ]
    },
    {
     "name": "stdout",
     "output_type": "stream",
     "text": [
      "{'activation': 'relu', 'batch_size': 32, 'dropout': 0.25, 'epochs': 1, 'first_neuron': 4096, 'hidden_layers': 3, 'label_type': 'Angular', 'loss_function': 'mean_squared_error', 'lr': 2, 'monitor_value': 'val_custom_mae', 'optimizer': <class 'tensorflow.python.keras.optimizer_v2.adam.Adam'>, 'reduction_metric': 'custom_mae', 'samples': 20000}\n",
      "Using Loss: mean_squared_error \n",
      "and Reduction Metric: [<function custom_mae at 0x000001C2C8E7DAF8>]\n",
      "Monitor: val_custom_mae\n",
      "Train on 16000 samples, validate on 4000 samples\n",
      "15904/16000 [============================>.] - ETA: 0s - loss: 4860.6494 - custom_mae: 49.1916\n",
      "Epoch 00001: val_custom_mae improved from inf to 36.84260, saving model to ..\\fast_output\\SYNTH_Regression_MSE\\201019_2253_final_Angular_Base_Custom-MAE\\Best_Weights_FC_220.hdf5\n",
      "16000/16000 [==============================] - 13s 816us/sample - loss: 4863.8603 - custom_mae: 49.1714 - val_loss: 3190.5223 - val_custom_mae: 36.8426\n",
      "Time taken: 0:00:14.569006\n"
     ]
    },
    {
     "name": "stderr",
     "output_type": "stream",
     "text": [
      "\n",
      " 61%|█████████████████████████████████████████████████                               | 221/360 [38:27<37:14, 16.08s/it]\u001b[A"
     ]
    },
    {
     "name": "stdout",
     "output_type": "stream",
     "text": [
      "{'activation': 'relu', 'batch_size': 32, 'dropout': 0.25, 'epochs': 1, 'first_neuron': 4096, 'hidden_layers': 3, 'label_type': 'Angular', 'loss_function': 'mean_squared_error', 'lr': 5, 'monitor_value': 'val_custom_mae', 'optimizer': <class 'tensorflow.python.keras.optimizer_v2.adam.Adam'>, 'reduction_metric': 'custom_mae', 'samples': 20000}\n",
      "Using Loss: mean_squared_error \n",
      "and Reduction Metric: [<function custom_mae at 0x000001C2C8E7DAF8>]\n",
      "Monitor: val_custom_mae\n",
      "Train on 16000 samples, validate on 4000 samples\n",
      "15872/16000 [============================>.] - ETA: 0s - loss: 62423.9467 - custom_mae: 58.8093\n",
      "Epoch 00001: val_custom_mae improved from inf to 37.18357, saving model to ..\\fast_output\\SYNTH_Regression_MSE\\201019_2253_final_Angular_Base_Custom-MAE\\Best_Weights_FC_221.hdf5\n",
      "16000/16000 [==============================] - 13s 816us/sample - loss: 61956.5727 - custom_mae: 58.6715 - val_loss: 3387.0905 - val_custom_mae: 37.1836\n",
      "Time taken: 0:00:14.544380\n"
     ]
    },
    {
     "name": "stderr",
     "output_type": "stream",
     "text": [
      "\n",
      " 62%|█████████████████████████████████████████████████▎                              | 222/360 [38:43<37:07, 16.14s/it]\u001b[A"
     ]
    },
    {
     "name": "stdout",
     "output_type": "stream",
     "text": [
      "{'activation': 'relu', 'batch_size': 32, 'dropout': 0.25, 'epochs': 1, 'first_neuron': 4096, 'hidden_layers': 4, 'label_type': 'Angular', 'loss_function': 'mean_squared_error', 'lr': 1, 'monitor_value': 'val_custom_mae', 'optimizer': <class 'tensorflow.python.keras.optimizer_v2.adam.Adam'>, 'reduction_metric': 'custom_mae', 'samples': 20000}\n",
      "Using Loss: mean_squared_error \n",
      "and Reduction Metric: [<function custom_mae at 0x000001C2C8E7DAF8>]\n",
      "Monitor: val_custom_mae\n",
      "Train on 16000 samples, validate on 4000 samples\n",
      "15936/16000 [============================>.] - ETA: 0s - loss: 4646.2386 - custom_mae: 48.4145\n",
      "Epoch 00001: val_custom_mae improved from inf to 37.90518, saving model to ..\\fast_output\\SYNTH_Regression_MSE\\201019_2253_final_Angular_Base_Custom-MAE\\Best_Weights_FC_222.hdf5\n",
      "16000/16000 [==============================] - 13s 816us/sample - loss: 4641.5191 - custom_mae: 48.3630 - val_loss: 3048.6531 - val_custom_mae: 37.9052\n",
      "Time taken: 0:00:14.544754\n"
     ]
    },
    {
     "name": "stderr",
     "output_type": "stream",
     "text": [
      "\n",
      " 62%|█████████████████████████████████████████████████▌                              | 223/360 [39:00<36:58, 16.19s/it]\u001b[A"
     ]
    },
    {
     "name": "stdout",
     "output_type": "stream",
     "text": [
      "{'activation': 'relu', 'batch_size': 32, 'dropout': 0.25, 'epochs': 1, 'first_neuron': 4096, 'hidden_layers': 4, 'label_type': 'Angular', 'loss_function': 'mean_squared_error', 'lr': 2, 'monitor_value': 'val_custom_mae', 'optimizer': <class 'tensorflow.python.keras.optimizer_v2.adam.Adam'>, 'reduction_metric': 'custom_mae', 'samples': 20000}\n",
      "Using Loss: mean_squared_error \n",
      "and Reduction Metric: [<function custom_mae at 0x000001C2C8E7DAF8>]\n",
      "Monitor: val_custom_mae\n",
      "Train on 16000 samples, validate on 4000 samples\n",
      "15904/16000 [============================>.] - ETA: 0s - loss: 5221.3773 - custom_mae: 52.1076\n",
      "Epoch 00001: val_custom_mae improved from inf to 42.57183, saving model to ..\\fast_output\\SYNTH_Regression_MSE\\201019_2253_final_Angular_Base_Custom-MAE\\Best_Weights_FC_223.hdf5\n",
      "16000/16000 [==============================] - 13s 819us/sample - loss: 5218.3065 - custom_mae: 52.0746 - val_loss: 3516.5051 - val_custom_mae: 42.5718\n",
      "Time taken: 0:00:14.596831\n"
     ]
    },
    {
     "name": "stderr",
     "output_type": "stream",
     "text": [
      "\n",
      " 62%|█████████████████████████████████████████████████▊                              | 224/360 [39:16<36:49, 16.24s/it]\u001b[A"
     ]
    },
    {
     "name": "stdout",
     "output_type": "stream",
     "text": [
      "{'activation': 'relu', 'batch_size': 32, 'dropout': 0.25, 'epochs': 1, 'first_neuron': 4096, 'hidden_layers': 4, 'label_type': 'Angular', 'loss_function': 'mean_squared_error', 'lr': 5, 'monitor_value': 'val_custom_mae', 'optimizer': <class 'tensorflow.python.keras.optimizer_v2.adam.Adam'>, 'reduction_metric': 'custom_mae', 'samples': 20000}\n",
      "Using Loss: mean_squared_error \n",
      "and Reduction Metric: [<function custom_mae at 0x000001C2C8E7DAF8>]\n",
      "Monitor: val_custom_mae\n",
      "Train on 16000 samples, validate on 4000 samples\n",
      "15872/16000 [============================>.] - ETA: 0s - loss: 37881.8147 - custom_mae: 61.3913\n",
      "Epoch 00001: val_custom_mae improved from inf to 43.25428, saving model to ..\\fast_output\\SYNTH_Regression_MSE\\201019_2253_final_Angular_Base_Custom-MAE\\Best_Weights_FC_224.hdf5\n",
      "16000/16000 [==============================] - 13s 826us/sample - loss: 37611.8985 - custom_mae: 61.2650 - val_loss: 3557.6900 - val_custom_mae: 43.2543\n",
      "Time taken: 0:00:14.744852\n"
     ]
    },
    {
     "name": "stderr",
     "output_type": "stream",
     "text": [
      "\n",
      " 62%|██████████████████████████████████████████████████                              | 225/360 [39:32<36:44, 16.33s/it]\u001b[A"
     ]
    },
    {
     "name": "stdout",
     "output_type": "stream",
     "text": [
      "{'activation': 'relu', 'batch_size': 32, 'dropout': 0.5, 'epochs': 1, 'first_neuron': 1024, 'hidden_layers': 0, 'label_type': 'Angular', 'loss_function': 'mean_squared_error', 'lr': 1, 'monitor_value': 'val_custom_mae', 'optimizer': <class 'tensorflow.python.keras.optimizer_v2.adam.Adam'>, 'reduction_metric': 'custom_mae', 'samples': 20000}\n",
      "Using Loss: mean_squared_error \n",
      "and Reduction Metric: [<function custom_mae at 0x000001C2C8E7DAF8>]\n",
      "Monitor: val_custom_mae\n",
      "Train on 16000 samples, validate on 4000 samples\n",
      "15872/16000 [============================>.] - ETA: 0s - loss: 4291.8829 - custom_mae: 43.2445\n",
      "Epoch 00001: val_custom_mae improved from inf to 34.66386, saving model to ..\\fast_output\\SYNTH_Regression_MSE\\201019_2253_final_Angular_Base_Custom-MAE\\Best_Weights_FC_225.hdf5\n",
      "16000/16000 [==============================] - 5s 282us/sample - loss: 4282.3374 - custom_mae: 43.1695 - val_loss: 3240.9201 - val_custom_mae: 34.6639\n",
      "Time taken: 0:00:06.002789\n"
     ]
    },
    {
     "name": "stderr",
     "output_type": "stream",
     "text": [
      "\n",
      " 63%|██████████████████████████████████████████████████▏                             | 226/360 [39:40<30:40, 13.74s/it]\u001b[A"
     ]
    },
    {
     "name": "stdout",
     "output_type": "stream",
     "text": [
      "{'activation': 'relu', 'batch_size': 32, 'dropout': 0.5, 'epochs': 1, 'first_neuron': 1024, 'hidden_layers': 0, 'label_type': 'Angular', 'loss_function': 'mean_squared_error', 'lr': 2, 'monitor_value': 'val_custom_mae', 'optimizer': <class 'tensorflow.python.keras.optimizer_v2.adam.Adam'>, 'reduction_metric': 'custom_mae', 'samples': 20000}\n",
      "Using Loss: mean_squared_error \n",
      "and Reduction Metric: [<function custom_mae at 0x000001C2C8E7DAF8>]\n",
      "Monitor: val_custom_mae\n",
      "Train on 16000 samples, validate on 4000 samples\n",
      "15872/16000 [============================>.] - ETA: 0s - loss: 4058.7716 - custom_mae: 41.5314\n",
      "Epoch 00001: val_custom_mae improved from inf to 33.16618, saving model to ..\\fast_output\\SYNTH_Regression_MSE\\201019_2253_final_Angular_Base_Custom-MAE\\Best_Weights_FC_226.hdf5\n",
      "16000/16000 [==============================] - 4s 270us/sample - loss: 4050.7676 - custom_mae: 41.4620 - val_loss: 2981.1342 - val_custom_mae: 33.1662\n",
      "Time taken: 0:00:05.832332\n"
     ]
    },
    {
     "name": "stderr",
     "output_type": "stream",
     "text": [
      "\n",
      " 63%|██████████████████████████████████████████████████▍                             | 227/360 [39:48<26:19, 11.88s/it]\u001b[A"
     ]
    },
    {
     "name": "stdout",
     "output_type": "stream",
     "text": [
      "{'activation': 'relu', 'batch_size': 32, 'dropout': 0.5, 'epochs': 1, 'first_neuron': 1024, 'hidden_layers': 0, 'label_type': 'Angular', 'loss_function': 'mean_squared_error', 'lr': 5, 'monitor_value': 'val_custom_mae', 'optimizer': <class 'tensorflow.python.keras.optimizer_v2.adam.Adam'>, 'reduction_metric': 'custom_mae', 'samples': 20000}\n",
      "Using Loss: mean_squared_error \n",
      "and Reduction Metric: [<function custom_mae at 0x000001C2C8E7DAF8>]\n",
      "Monitor: val_custom_mae\n",
      "Train on 16000 samples, validate on 4000 samples\n",
      "15776/16000 [============================>.] - ETA: 0s - loss: 4221.3804 - custom_mae: 42.8796\n",
      "Epoch 00001: val_custom_mae improved from inf to 35.33703, saving model to ..\\fast_output\\SYNTH_Regression_MSE\\201019_2253_final_Angular_Base_Custom-MAE\\Best_Weights_FC_227.hdf5\n",
      "16000/16000 [==============================] - 4s 281us/sample - loss: 4212.4962 - custom_mae: 42.8136 - val_loss: 3067.0386 - val_custom_mae: 35.3370\n",
      "Time taken: 0:00:05.998832\n"
     ]
    },
    {
     "name": "stderr",
     "output_type": "stream",
     "text": [
      "\n",
      " 63%|██████████████████████████████████████████████████▋                             | 228/360 [39:55<23:22, 10.63s/it]\u001b[A"
     ]
    },
    {
     "name": "stdout",
     "output_type": "stream",
     "text": [
      "{'activation': 'relu', 'batch_size': 32, 'dropout': 0.5, 'epochs': 1, 'first_neuron': 1024, 'hidden_layers': 1, 'label_type': 'Angular', 'loss_function': 'mean_squared_error', 'lr': 1, 'monitor_value': 'val_custom_mae', 'optimizer': <class 'tensorflow.python.keras.optimizer_v2.adam.Adam'>, 'reduction_metric': 'custom_mae', 'samples': 20000}\n",
      "Using Loss: mean_squared_error \n",
      "and Reduction Metric: [<function custom_mae at 0x000001C2C8E7DAF8>]\n",
      "Monitor: val_custom_mae\n",
      "Train on 16000 samples, validate on 4000 samples\n",
      "15776/16000 [============================>.] - ETA: 0s - loss: 4560.7838 - custom_mae: 45.8685\n",
      "Epoch 00001: val_custom_mae improved from inf to 35.84253, saving model to ..\\fast_output\\SYNTH_Regression_MSE\\201019_2253_final_Angular_Base_Custom-MAE\\Best_Weights_FC_228.hdf5\n",
      "16000/16000 [==============================] - 4s 278us/sample - loss: 4552.0053 - custom_mae: 45.7867 - val_loss: 3296.3933 - val_custom_mae: 35.8425\n",
      "Time taken: 0:00:05.938958\n"
     ]
    },
    {
     "name": "stderr",
     "output_type": "stream",
     "text": [
      "\n",
      " 64%|██████████████████████████████████████████████████▉                             | 229/360 [40:03<21:14,  9.73s/it]\u001b[A"
     ]
    },
    {
     "name": "stdout",
     "output_type": "stream",
     "text": [
      "{'activation': 'relu', 'batch_size': 32, 'dropout': 0.5, 'epochs': 1, 'first_neuron': 1024, 'hidden_layers': 1, 'label_type': 'Angular', 'loss_function': 'mean_squared_error', 'lr': 2, 'monitor_value': 'val_custom_mae', 'optimizer': <class 'tensorflow.python.keras.optimizer_v2.adam.Adam'>, 'reduction_metric': 'custom_mae', 'samples': 20000}\n",
      "Using Loss: mean_squared_error \n",
      "and Reduction Metric: [<function custom_mae at 0x000001C2C8E7DAF8>]\n",
      "Monitor: val_custom_mae\n",
      "Train on 16000 samples, validate on 4000 samples\n",
      "15872/16000 [============================>.] - ETA: 0s - loss: 4721.8165 - custom_mae: 46.9951\n",
      "Epoch 00001: val_custom_mae improved from inf to 35.04515, saving model to ..\\fast_output\\SYNTH_Regression_MSE\\201019_2253_final_Angular_Base_Custom-MAE\\Best_Weights_FC_229.hdf5\n",
      "16000/16000 [==============================] - 5s 282us/sample - loss: 4711.8058 - custom_mae: 46.9204 - val_loss: 3112.5617 - val_custom_mae: 35.0452\n",
      "Time taken: 0:00:06.013549\n"
     ]
    },
    {
     "name": "stderr",
     "output_type": "stream",
     "text": [
      "\n",
      " 64%|███████████████████████████████████████████████████                             | 230/360 [40:11<19:45,  9.12s/it]\u001b[A"
     ]
    },
    {
     "name": "stdout",
     "output_type": "stream",
     "text": [
      "{'activation': 'relu', 'batch_size': 32, 'dropout': 0.5, 'epochs': 1, 'first_neuron': 1024, 'hidden_layers': 1, 'label_type': 'Angular', 'loss_function': 'mean_squared_error', 'lr': 5, 'monitor_value': 'val_custom_mae', 'optimizer': <class 'tensorflow.python.keras.optimizer_v2.adam.Adam'>, 'reduction_metric': 'custom_mae', 'samples': 20000}\n",
      "Using Loss: mean_squared_error \n",
      "and Reduction Metric: [<function custom_mae at 0x000001C2C8E7DAF8>]\n",
      "Monitor: val_custom_mae\n",
      "Train on 16000 samples, validate on 4000 samples\n",
      "15904/16000 [============================>.] - ETA: 0s - loss: 5248.8304 - custom_mae: 50.2472\n",
      "Epoch 00001: val_custom_mae improved from inf to 40.63282, saving model to ..\\fast_output\\SYNTH_Regression_MSE\\201019_2253_final_Angular_Base_Custom-MAE\\Best_Weights_FC_230.hdf5\n",
      "16000/16000 [==============================] - 5s 282us/sample - loss: 5242.2933 - custom_mae: 50.2170 - val_loss: 3421.2613 - val_custom_mae: 40.6328\n",
      "Time taken: 0:00:05.976324\n"
     ]
    },
    {
     "name": "stderr",
     "output_type": "stream",
     "text": [
      "\n",
      " 64%|███████████████████████████████████████████████████▎                            | 231/360 [40:18<18:41,  8.69s/it]\u001b[A"
     ]
    },
    {
     "name": "stdout",
     "output_type": "stream",
     "text": [
      "{'activation': 'relu', 'batch_size': 32, 'dropout': 0.5, 'epochs': 1, 'first_neuron': 1024, 'hidden_layers': 2, 'label_type': 'Angular', 'loss_function': 'mean_squared_error', 'lr': 1, 'monitor_value': 'val_custom_mae', 'optimizer': <class 'tensorflow.python.keras.optimizer_v2.adam.Adam'>, 'reduction_metric': 'custom_mae', 'samples': 20000}\n",
      "Using Loss: mean_squared_error \n",
      "and Reduction Metric: [<function custom_mae at 0x000001C2C8E7DAF8>]\n",
      "Monitor: val_custom_mae\n",
      "Train on 16000 samples, validate on 4000 samples\n",
      "15968/16000 [============================>.] - ETA: 0s - loss: 5083.7668 - custom_mae: 50.2668\n",
      "Epoch 00001: val_custom_mae improved from inf to 37.35340, saving model to ..\\fast_output\\SYNTH_Regression_MSE\\201019_2253_final_Angular_Base_Custom-MAE\\Best_Weights_FC_231.hdf5\n",
      "16000/16000 [==============================] - 5s 285us/sample - loss: 5083.3362 - custom_mae: 50.2570 - val_loss: 3369.7242 - val_custom_mae: 37.3534\n",
      "Time taken: 0:00:06.077539\n"
     ]
    },
    {
     "name": "stderr",
     "output_type": "stream",
     "text": [
      "\n",
      " 64%|███████████████████████████████████████████████████▌                            | 232/360 [40:26<17:57,  8.42s/it]\u001b[A"
     ]
    },
    {
     "name": "stdout",
     "output_type": "stream",
     "text": [
      "{'activation': 'relu', 'batch_size': 32, 'dropout': 0.5, 'epochs': 1, 'first_neuron': 1024, 'hidden_layers': 2, 'label_type': 'Angular', 'loss_function': 'mean_squared_error', 'lr': 2, 'monitor_value': 'val_custom_mae', 'optimizer': <class 'tensorflow.python.keras.optimizer_v2.adam.Adam'>, 'reduction_metric': 'custom_mae', 'samples': 20000}\n",
      "Using Loss: mean_squared_error \n",
      "and Reduction Metric: [<function custom_mae at 0x000001C2C8E7DAF8>]\n",
      "Monitor: val_custom_mae\n",
      "Train on 16000 samples, validate on 4000 samples\n",
      "15936/16000 [============================>.] - ETA: 0s - loss: 5493.1484 - custom_mae: 52.3787\n",
      "Epoch 00001: val_custom_mae improved from inf to 43.70722, saving model to ..\\fast_output\\SYNTH_Regression_MSE\\201019_2253_final_Angular_Base_Custom-MAE\\Best_Weights_FC_232.hdf5\n",
      "16000/16000 [==============================] - 5s 285us/sample - loss: 5490.3658 - custom_mae: 52.3492 - val_loss: 4191.2731 - val_custom_mae: 43.7072\n",
      "Time taken: 0:00:06.045399\n"
     ]
    },
    {
     "name": "stderr",
     "output_type": "stream",
     "text": [
      "\n",
      " 65%|███████████████████████████████████████████████████▊                            | 233/360 [40:34<17:24,  8.23s/it]\u001b[A"
     ]
    },
    {
     "name": "stdout",
     "output_type": "stream",
     "text": [
      "{'activation': 'relu', 'batch_size': 32, 'dropout': 0.5, 'epochs': 1, 'first_neuron': 1024, 'hidden_layers': 2, 'label_type': 'Angular', 'loss_function': 'mean_squared_error', 'lr': 5, 'monitor_value': 'val_custom_mae', 'optimizer': <class 'tensorflow.python.keras.optimizer_v2.adam.Adam'>, 'reduction_metric': 'custom_mae', 'samples': 20000}\n",
      "Using Loss: mean_squared_error \n",
      "and Reduction Metric: [<function custom_mae at 0x000001C2C8E7DAF8>]\n",
      "Monitor: val_custom_mae\n",
      "Train on 16000 samples, validate on 4000 samples\n",
      "15680/16000 [============================>.] - ETA: 0s - loss: 6412.2076 - custom_mae: 57.3808\n",
      "Epoch 00001: val_custom_mae improved from inf to 57.81125, saving model to ..\\fast_output\\SYNTH_Regression_MSE\\201019_2253_final_Angular_Base_Custom-MAE\\Best_Weights_FC_233.hdf5\n",
      "16000/16000 [==============================] - 5s 287us/sample - loss: 6392.6684 - custom_mae: 57.2724 - val_loss: 6344.1390 - val_custom_mae: 57.8113\n",
      "Time taken: 0:00:06.077822\n"
     ]
    },
    {
     "name": "stderr",
     "output_type": "stream",
     "text": [
      "\n",
      " 65%|████████████████████████████████████████████████████                            | 234/360 [40:42<16:59,  8.09s/it]\u001b[A"
     ]
    },
    {
     "name": "stdout",
     "output_type": "stream",
     "text": [
      "{'activation': 'relu', 'batch_size': 32, 'dropout': 0.5, 'epochs': 1, 'first_neuron': 1024, 'hidden_layers': 3, 'label_type': 'Angular', 'loss_function': 'mean_squared_error', 'lr': 1, 'monitor_value': 'val_custom_mae', 'optimizer': <class 'tensorflow.python.keras.optimizer_v2.adam.Adam'>, 'reduction_metric': 'custom_mae', 'samples': 20000}\n",
      "Using Loss: mean_squared_error \n",
      "and Reduction Metric: [<function custom_mae at 0x000001C2C8E7DAF8>]\n",
      "Monitor: val_custom_mae\n",
      "Train on 16000 samples, validate on 4000 samples\n",
      "15936/16000 [============================>.] - ETA: 0s - loss: 5982.2033 - custom_mae: 55.8857\n",
      "Epoch 00001: val_custom_mae improved from inf to 46.10638, saving model to ..\\fast_output\\SYNTH_Regression_MSE\\201019_2253_final_Angular_Base_Custom-MAE\\Best_Weights_FC_234.hdf5\n",
      "16000/16000 [==============================] - 5s 295us/sample - loss: 5980.8377 - custom_mae: 55.8589 - val_loss: 4027.5018 - val_custom_mae: 46.1064\n",
      "Time taken: 0:00:06.216457\n"
     ]
    },
    {
     "name": "stderr",
     "output_type": "stream",
     "text": [
      "\n",
      " 65%|████████████████████████████████████████████████████▏                           | 235/360 [40:50<16:46,  8.05s/it]\u001b[A"
     ]
    },
    {
     "name": "stdout",
     "output_type": "stream",
     "text": [
      "{'activation': 'relu', 'batch_size': 32, 'dropout': 0.5, 'epochs': 1, 'first_neuron': 1024, 'hidden_layers': 3, 'label_type': 'Angular', 'loss_function': 'mean_squared_error', 'lr': 2, 'monitor_value': 'val_custom_mae', 'optimizer': <class 'tensorflow.python.keras.optimizer_v2.adam.Adam'>, 'reduction_metric': 'custom_mae', 'samples': 20000}\n",
      "Using Loss: mean_squared_error \n",
      "and Reduction Metric: [<function custom_mae at 0x000001C2C8E7DAF8>]\n",
      "Monitor: val_custom_mae\n",
      "Train on 16000 samples, validate on 4000 samples\n",
      "15744/16000 [============================>.] - ETA: 0s - loss: 6307.8821 - custom_mae: 57.1056\n",
      "Epoch 00001: val_custom_mae improved from inf to 58.73045, saving model to ..\\fast_output\\SYNTH_Regression_MSE\\201019_2253_final_Angular_Base_Custom-MAE\\Best_Weights_FC_235.hdf5\n",
      "16000/16000 [==============================] - 5s 298us/sample - loss: 6301.8359 - custom_mae: 57.0752 - val_loss: 6590.3628 - val_custom_mae: 58.7304\n",
      "Time taken: 0:00:06.264769\n"
     ]
    },
    {
     "name": "stderr",
     "output_type": "stream",
     "text": [
      "\n",
      " 66%|████████████████████████████████████████████████████▍                           | 236/360 [40:58<16:36,  8.04s/it]\u001b[A"
     ]
    },
    {
     "name": "stdout",
     "output_type": "stream",
     "text": [
      "{'activation': 'relu', 'batch_size': 32, 'dropout': 0.5, 'epochs': 1, 'first_neuron': 1024, 'hidden_layers': 3, 'label_type': 'Angular', 'loss_function': 'mean_squared_error', 'lr': 5, 'monitor_value': 'val_custom_mae', 'optimizer': <class 'tensorflow.python.keras.optimizer_v2.adam.Adam'>, 'reduction_metric': 'custom_mae', 'samples': 20000}\n",
      "Using Loss: mean_squared_error \n",
      "and Reduction Metric: [<function custom_mae at 0x000001C2C8E7DAF8>]\n",
      "Monitor: val_custom_mae\n",
      "Train on 16000 samples, validate on 4000 samples\n",
      "15936/16000 [============================>.] - ETA: 0s - loss: 7159.4475 - custom_mae: 60.3916\n",
      "Epoch 00001: val_custom_mae improved from inf to 75.86852, saving model to ..\\fast_output\\SYNTH_Regression_MSE\\201019_2253_final_Angular_Base_Custom-MAE\\Best_Weights_FC_236.hdf5\n",
      "16000/16000 [==============================] - 5s 294us/sample - loss: 7162.5052 - custom_mae: 60.3967 - val_loss: 10885.3729 - val_custom_mae: 75.8685\n",
      "Time taken: 0:00:06.195846\n"
     ]
    },
    {
     "name": "stderr",
     "output_type": "stream",
     "text": [
      "\n",
      " 66%|████████████████████████████████████████████████████▋                           | 237/360 [41:06<16:24,  8.00s/it]\u001b[A"
     ]
    },
    {
     "name": "stdout",
     "output_type": "stream",
     "text": [
      "{'activation': 'relu', 'batch_size': 32, 'dropout': 0.5, 'epochs': 1, 'first_neuron': 1024, 'hidden_layers': 4, 'label_type': 'Angular', 'loss_function': 'mean_squared_error', 'lr': 1, 'monitor_value': 'val_custom_mae', 'optimizer': <class 'tensorflow.python.keras.optimizer_v2.adam.Adam'>, 'reduction_metric': 'custom_mae', 'samples': 20000}\n",
      "Using Loss: mean_squared_error \n",
      "and Reduction Metric: [<function custom_mae at 0x000001C2C8E7DAF8>]\n",
      "Monitor: val_custom_mae\n",
      "Train on 16000 samples, validate on 4000 samples\n",
      "15840/16000 [============================>.] - ETA: 0s - loss: 7109.7457 - custom_mae: 60.8048\n",
      "Epoch 00001: val_custom_mae improved from inf to 58.03502, saving model to ..\\fast_output\\SYNTH_Regression_MSE\\201019_2253_final_Angular_Base_Custom-MAE\\Best_Weights_FC_237.hdf5\n",
      "16000/16000 [==============================] - 5s 303us/sample - loss: 7092.7485 - custom_mae: 60.7132 - val_loss: 6390.3384 - val_custom_mae: 58.0350\n",
      "Time taken: 0:00:06.350039\n"
     ]
    },
    {
     "name": "stderr",
     "output_type": "stream",
     "text": [
      "\n",
      " 66%|████████████████████████████████████████████████████▉                           | 238/360 [41:14<16:20,  8.04s/it]\u001b[A"
     ]
    },
    {
     "name": "stdout",
     "output_type": "stream",
     "text": [
      "{'activation': 'relu', 'batch_size': 32, 'dropout': 0.5, 'epochs': 1, 'first_neuron': 1024, 'hidden_layers': 4, 'label_type': 'Angular', 'loss_function': 'mean_squared_error', 'lr': 2, 'monitor_value': 'val_custom_mae', 'optimizer': <class 'tensorflow.python.keras.optimizer_v2.adam.Adam'>, 'reduction_metric': 'custom_mae', 'samples': 20000}\n",
      "Using Loss: mean_squared_error \n",
      "and Reduction Metric: [<function custom_mae at 0x000001C2C8E7DAF8>]\n",
      "Monitor: val_custom_mae\n",
      "Train on 16000 samples, validate on 4000 samples\n",
      "15968/16000 [============================>.] - ETA: 0s - loss: 7461.1804 - custom_mae: 61.7144\n",
      "Epoch 00001: val_custom_mae improved from inf to 74.26192, saving model to ..\\fast_output\\SYNTH_Regression_MSE\\201019_2253_final_Angular_Base_Custom-MAE\\Best_Weights_FC_238.hdf5\n",
      "16000/16000 [==============================] - 5s 304us/sample - loss: 7456.9129 - custom_mae: 61.6969 - val_loss: 10705.1747 - val_custom_mae: 74.2619\n",
      "Time taken: 0:00:06.366303\n"
     ]
    },
    {
     "name": "stderr",
     "output_type": "stream",
     "text": [
      "\n",
      " 66%|█████████████████████████████████████████████████████                           | 239/360 [41:22<16:16,  8.07s/it]\u001b[A"
     ]
    },
    {
     "name": "stdout",
     "output_type": "stream",
     "text": [
      "{'activation': 'relu', 'batch_size': 32, 'dropout': 0.5, 'epochs': 1, 'first_neuron': 1024, 'hidden_layers': 4, 'label_type': 'Angular', 'loss_function': 'mean_squared_error', 'lr': 5, 'monitor_value': 'val_custom_mae', 'optimizer': <class 'tensorflow.python.keras.optimizer_v2.adam.Adam'>, 'reduction_metric': 'custom_mae', 'samples': 20000}\n",
      "Using Loss: mean_squared_error \n",
      "and Reduction Metric: [<function custom_mae at 0x000001C2C8E7DAF8>]\n",
      "Monitor: val_custom_mae\n",
      "Train on 16000 samples, validate on 4000 samples\n",
      "15840/16000 [============================>.] - ETA: 0s - loss: 8375.3546 - custom_mae: 64.9788\n",
      "Epoch 00001: val_custom_mae improved from inf to 82.79014, saving model to ..\\fast_output\\SYNTH_Regression_MSE\\201019_2253_final_Angular_Base_Custom-MAE\\Best_Weights_FC_239.hdf5\n",
      "16000/16000 [==============================] - 5s 301us/sample - loss: 8354.1031 - custom_mae: 64.9034 - val_loss: 13134.6609 - val_custom_mae: 82.7901\n",
      "Time taken: 0:00:06.306358\n"
     ]
    },
    {
     "name": "stderr",
     "output_type": "stream",
     "text": [
      "\n",
      " 67%|█████████████████████████████████████████████████████▎                          | 240/360 [41:30<16:08,  8.07s/it]\u001b[A"
     ]
    },
    {
     "name": "stdout",
     "output_type": "stream",
     "text": [
      "{'activation': 'relu', 'batch_size': 32, 'dropout': 0.5, 'epochs': 1, 'first_neuron': 2048, 'hidden_layers': 0, 'label_type': 'Angular', 'loss_function': 'mean_squared_error', 'lr': 1, 'monitor_value': 'val_custom_mae', 'optimizer': <class 'tensorflow.python.keras.optimizer_v2.adam.Adam'>, 'reduction_metric': 'custom_mae', 'samples': 20000}\n",
      "Using Loss: mean_squared_error \n",
      "and Reduction Metric: [<function custom_mae at 0x000001C2C8E7DAF8>]\n",
      "Monitor: val_custom_mae\n",
      "Train on 16000 samples, validate on 4000 samples\n",
      "15872/16000 [============================>.] - ETA: 0s - loss: 4080.2522 - custom_mae: 41.1206\n",
      "Epoch 00001: val_custom_mae improved from inf to 33.32824, saving model to ..\\fast_output\\SYNTH_Regression_MSE\\201019_2253_final_Angular_Base_Custom-MAE\\Best_Weights_FC_240.hdf5\n",
      "16000/16000 [==============================] - 7s 419us/sample - loss: 4070.5400 - custom_mae: 41.0443 - val_loss: 3096.6325 - val_custom_mae: 33.3282\n",
      "Time taken: 0:00:08.200473\n"
     ]
    },
    {
     "name": "stderr",
     "output_type": "stream",
     "text": [
      "\n",
      " 67%|█████████████████████████████████████████████████████▌                          | 241/360 [41:40<17:04,  8.61s/it]\u001b[A"
     ]
    },
    {
     "name": "stdout",
     "output_type": "stream",
     "text": [
      "{'activation': 'relu', 'batch_size': 32, 'dropout': 0.5, 'epochs': 1, 'first_neuron': 2048, 'hidden_layers': 0, 'label_type': 'Angular', 'loss_function': 'mean_squared_error', 'lr': 2, 'monitor_value': 'val_custom_mae', 'optimizer': <class 'tensorflow.python.keras.optimizer_v2.adam.Adam'>, 'reduction_metric': 'custom_mae', 'samples': 20000}\n",
      "Using Loss: mean_squared_error \n",
      "and Reduction Metric: [<function custom_mae at 0x000001C2C8E7DAF8>]\n",
      "Monitor: val_custom_mae\n",
      "Train on 16000 samples, validate on 4000 samples\n",
      "15936/16000 [============================>.] - ETA: 0s - loss: 4033.3956 - custom_mae: 41.0622\n",
      "Epoch 00001: val_custom_mae improved from inf to 33.14360, saving model to ..\\fast_output\\SYNTH_Regression_MSE\\201019_2253_final_Angular_Base_Custom-MAE\\Best_Weights_FC_241.hdf5\n",
      "16000/16000 [==============================] - 7s 424us/sample - loss: 4032.0776 - custom_mae: 41.0427 - val_loss: 3024.9279 - val_custom_mae: 33.1436\n",
      "Time taken: 0:00:08.271338\n"
     ]
    },
    {
     "name": "stderr",
     "output_type": "stream",
     "text": [
      "\n",
      " 67%|█████████████████████████████████████████████████████▊                          | 242/360 [41:50<17:43,  9.01s/it]\u001b[A"
     ]
    },
    {
     "name": "stdout",
     "output_type": "stream",
     "text": [
      "{'activation': 'relu', 'batch_size': 32, 'dropout': 0.5, 'epochs': 1, 'first_neuron': 2048, 'hidden_layers': 0, 'label_type': 'Angular', 'loss_function': 'mean_squared_error', 'lr': 5, 'monitor_value': 'val_custom_mae', 'optimizer': <class 'tensorflow.python.keras.optimizer_v2.adam.Adam'>, 'reduction_metric': 'custom_mae', 'samples': 20000}\n",
      "Using Loss: mean_squared_error \n",
      "and Reduction Metric: [<function custom_mae at 0x000001C2C8E7DAF8>]\n",
      "Monitor: val_custom_mae\n",
      "Train on 16000 samples, validate on 4000 samples\n",
      "15776/16000 [============================>.] - ETA: 0s - loss: 4210.8020 - custom_mae: 42.2029\n",
      "Epoch 00001: val_custom_mae improved from inf to 39.66708, saving model to ..\\fast_output\\SYNTH_Regression_MSE\\201019_2253_final_Angular_Base_Custom-MAE\\Best_Weights_FC_242.hdf5\n",
      "16000/16000 [==============================] - 7s 425us/sample - loss: 4201.0708 - custom_mae: 42.1521 - val_loss: 3460.8863 - val_custom_mae: 39.6671\n",
      "Time taken: 0:00:08.295274\n"
     ]
    },
    {
     "name": "stderr",
     "output_type": "stream",
     "text": [
      "\n",
      " 68%|██████████████████████████████████████████████████████                          | 243/360 [42:00<18:07,  9.29s/it]\u001b[A"
     ]
    },
    {
     "name": "stdout",
     "output_type": "stream",
     "text": [
      "{'activation': 'relu', 'batch_size': 32, 'dropout': 0.5, 'epochs': 1, 'first_neuron': 2048, 'hidden_layers': 1, 'label_type': 'Angular', 'loss_function': 'mean_squared_error', 'lr': 1, 'monitor_value': 'val_custom_mae', 'optimizer': <class 'tensorflow.python.keras.optimizer_v2.adam.Adam'>, 'reduction_metric': 'custom_mae', 'samples': 20000}\n",
      "Using Loss: mean_squared_error \n",
      "and Reduction Metric: [<function custom_mae at 0x000001C2C8E7DAF8>]\n",
      "Monitor: val_custom_mae\n",
      "Train on 16000 samples, validate on 4000 samples\n",
      "15872/16000 [============================>.] - ETA: 0s - loss: 4373.1169 - custom_mae: 44.3052\n",
      "Epoch 00001: val_custom_mae improved from inf to 35.51863, saving model to ..\\fast_output\\SYNTH_Regression_MSE\\201019_2253_final_Angular_Base_Custom-MAE\\Best_Weights_FC_243.hdf5\n",
      "16000/16000 [==============================] - 7s 440us/sample - loss: 4366.8563 - custom_mae: 44.2568 - val_loss: 3054.4419 - val_custom_mae: 35.5186\n",
      "Time taken: 0:00:08.528388\n"
     ]
    },
    {
     "name": "stderr",
     "output_type": "stream",
     "text": [
      "\n",
      " 68%|██████████████████████████████████████████████████████▏                         | 244/360 [42:10<18:30,  9.57s/it]\u001b[A"
     ]
    },
    {
     "name": "stdout",
     "output_type": "stream",
     "text": [
      "{'activation': 'relu', 'batch_size': 32, 'dropout': 0.5, 'epochs': 1, 'first_neuron': 2048, 'hidden_layers': 1, 'label_type': 'Angular', 'loss_function': 'mean_squared_error', 'lr': 2, 'monitor_value': 'val_custom_mae', 'optimizer': <class 'tensorflow.python.keras.optimizer_v2.adam.Adam'>, 'reduction_metric': 'custom_mae', 'samples': 20000}\n",
      "Using Loss: mean_squared_error \n",
      "and Reduction Metric: [<function custom_mae at 0x000001C2C8E7DAF8>]\n",
      "Monitor: val_custom_mae\n",
      "Train on 16000 samples, validate on 4000 samples\n",
      "15840/16000 [============================>.] - ETA: 0s - loss: 4568.3760 - custom_mae: 45.7244\n",
      "Epoch 00001: val_custom_mae improved from inf to 36.60612, saving model to ..\\fast_output\\SYNTH_Regression_MSE\\201019_2253_final_Angular_Base_Custom-MAE\\Best_Weights_FC_244.hdf5\n",
      "16000/16000 [==============================] - 7s 442us/sample - loss: 4557.2626 - custom_mae: 45.6515 - val_loss: 3172.0950 - val_custom_mae: 36.6061\n",
      "Time taken: 0:00:08.584392\n"
     ]
    },
    {
     "name": "stderr",
     "output_type": "stream",
     "text": [
      "\n",
      " 68%|██████████████████████████████████████████████████████▍                         | 245/360 [42:20<18:45,  9.79s/it]\u001b[A"
     ]
    },
    {
     "name": "stdout",
     "output_type": "stream",
     "text": [
      "{'activation': 'relu', 'batch_size': 32, 'dropout': 0.5, 'epochs': 1, 'first_neuron': 2048, 'hidden_layers': 1, 'label_type': 'Angular', 'loss_function': 'mean_squared_error', 'lr': 5, 'monitor_value': 'val_custom_mae', 'optimizer': <class 'tensorflow.python.keras.optimizer_v2.adam.Adam'>, 'reduction_metric': 'custom_mae', 'samples': 20000}\n",
      "Using Loss: mean_squared_error \n",
      "and Reduction Metric: [<function custom_mae at 0x000001C2C8E7DAF8>]\n",
      "Monitor: val_custom_mae\n",
      "Train on 16000 samples, validate on 4000 samples\n",
      "15936/16000 [============================>.] - ETA: 0s - loss: 5938.1698 - custom_mae: 51.1686\n",
      "Epoch 00001: val_custom_mae improved from inf to 51.14020, saving model to ..\\fast_output\\SYNTH_Regression_MSE\\201019_2253_final_Angular_Base_Custom-MAE\\Best_Weights_FC_245.hdf5\n",
      "16000/16000 [==============================] - 7s 442us/sample - loss: 5929.9732 - custom_mae: 51.1344 - val_loss: 4901.0989 - val_custom_mae: 51.1402\n",
      "Time taken: 0:00:08.572818\n"
     ]
    },
    {
     "name": "stderr",
     "output_type": "stream",
     "text": [
      "\n",
      " 68%|██████████████████████████████████████████████████████▋                         | 246/360 [42:31<18:52,  9.93s/it]\u001b[A"
     ]
    },
    {
     "name": "stdout",
     "output_type": "stream",
     "text": [
      "{'activation': 'relu', 'batch_size': 32, 'dropout': 0.5, 'epochs': 1, 'first_neuron': 2048, 'hidden_layers': 2, 'label_type': 'Angular', 'loss_function': 'mean_squared_error', 'lr': 1, 'monitor_value': 'val_custom_mae', 'optimizer': <class 'tensorflow.python.keras.optimizer_v2.adam.Adam'>, 'reduction_metric': 'custom_mae', 'samples': 20000}\n",
      "Using Loss: mean_squared_error \n",
      "and Reduction Metric: [<function custom_mae at 0x000001C2C8E7DAF8>]\n",
      "Monitor: val_custom_mae\n",
      "Train on 16000 samples, validate on 4000 samples\n",
      "15936/16000 [============================>.] - ETA: 0s - loss: 4894.0947 - custom_mae: 48.4516\n",
      "Epoch 00001: val_custom_mae improved from inf to 35.02785, saving model to ..\\fast_output\\SYNTH_Regression_MSE\\201019_2253_final_Angular_Base_Custom-MAE\\Best_Weights_FC_246.hdf5\n",
      "16000/16000 [==============================] - 7s 442us/sample - loss: 4893.1805 - custom_mae: 48.4290 - val_loss: 3112.0899 - val_custom_mae: 35.0278\n",
      "Time taken: 0:00:08.559377\n"
     ]
    },
    {
     "name": "stderr",
     "output_type": "stream",
     "text": [
      "\n",
      " 69%|██████████████████████████████████████████████████████▉                         | 247/360 [42:41<18:53, 10.03s/it]\u001b[A"
     ]
    },
    {
     "name": "stdout",
     "output_type": "stream",
     "text": [
      "{'activation': 'relu', 'batch_size': 32, 'dropout': 0.5, 'epochs': 1, 'first_neuron': 2048, 'hidden_layers': 2, 'label_type': 'Angular', 'loss_function': 'mean_squared_error', 'lr': 2, 'monitor_value': 'val_custom_mae', 'optimizer': <class 'tensorflow.python.keras.optimizer_v2.adam.Adam'>, 'reduction_metric': 'custom_mae', 'samples': 20000}\n",
      "Using Loss: mean_squared_error \n",
      "and Reduction Metric: [<function custom_mae at 0x000001C2C8E7DAF8>]\n",
      "Monitor: val_custom_mae\n",
      "Train on 16000 samples, validate on 4000 samples\n",
      "15936/16000 [============================>.] - ETA: 0s - loss: 5301.2635 - custom_mae: 50.7161\n",
      "Epoch 00001: val_custom_mae improved from inf to 41.46688, saving model to ..\\fast_output\\SYNTH_Regression_MSE\\201019_2253_final_Angular_Base_Custom-MAE\\Best_Weights_FC_247.hdf5\n",
      "16000/16000 [==============================] - 7s 446us/sample - loss: 5297.9579 - custom_mae: 50.6987 - val_loss: 4058.8347 - val_custom_mae: 41.4669\n",
      "Time taken: 0:00:08.627128\n"
     ]
    },
    {
     "name": "stderr",
     "output_type": "stream",
     "text": [
      "\n",
      " 69%|███████████████████████████████████████████████████████                         | 248/360 [42:51<18:53, 10.12s/it]\u001b[A"
     ]
    },
    {
     "name": "stdout",
     "output_type": "stream",
     "text": [
      "{'activation': 'relu', 'batch_size': 32, 'dropout': 0.5, 'epochs': 1, 'first_neuron': 2048, 'hidden_layers': 2, 'label_type': 'Angular', 'loss_function': 'mean_squared_error', 'lr': 5, 'monitor_value': 'val_custom_mae', 'optimizer': <class 'tensorflow.python.keras.optimizer_v2.adam.Adam'>, 'reduction_metric': 'custom_mae', 'samples': 20000}\n",
      "Using Loss: mean_squared_error \n",
      "and Reduction Metric: [<function custom_mae at 0x000001C2C8E7DAF8>]\n",
      "Monitor: val_custom_mae\n",
      "Train on 16000 samples, validate on 4000 samples\n",
      "15904/16000 [============================>.] - ETA: 0s - loss: 6813.0945 - custom_mae: 57.0288\n",
      "Epoch 00001: val_custom_mae improved from inf to 58.47557, saving model to ..\\fast_output\\SYNTH_Regression_MSE\\201019_2253_final_Angular_Base_Custom-MAE\\Best_Weights_FC_248.hdf5\n",
      "16000/16000 [==============================] - 7s 447us/sample - loss: 6807.7334 - custom_mae: 57.0110 - val_loss: 6589.9799 - val_custom_mae: 58.4756\n",
      "Time taken: 0:00:08.635925\n"
     ]
    },
    {
     "name": "stderr",
     "output_type": "stream",
     "text": [
      "\n",
      " 69%|███████████████████████████████████████████████████████▎                        | 249/360 [43:01<18:50, 10.19s/it]\u001b[A"
     ]
    },
    {
     "name": "stdout",
     "output_type": "stream",
     "text": [
      "{'activation': 'relu', 'batch_size': 32, 'dropout': 0.5, 'epochs': 1, 'first_neuron': 2048, 'hidden_layers': 3, 'label_type': 'Angular', 'loss_function': 'mean_squared_error', 'lr': 1, 'monitor_value': 'val_custom_mae', 'optimizer': <class 'tensorflow.python.keras.optimizer_v2.adam.Adam'>, 'reduction_metric': 'custom_mae', 'samples': 20000}\n",
      "Using Loss: mean_squared_error \n",
      "and Reduction Metric: [<function custom_mae at 0x000001C2C8E7DAF8>]\n",
      "Monitor: val_custom_mae\n",
      "Train on 16000 samples, validate on 4000 samples\n",
      "15872/16000 [============================>.] - ETA: 0s - loss: 5622.3183 - custom_mae: 54.0430\n",
      "Epoch 00001: val_custom_mae improved from inf to 39.85534, saving model to ..\\fast_output\\SYNTH_Regression_MSE\\201019_2253_final_Angular_Base_Custom-MAE\\Best_Weights_FC_249.hdf5\n",
      "16000/16000 [==============================] - 7s 458us/sample - loss: 5613.0543 - custom_mae: 53.9786 - val_loss: 3352.8597 - val_custom_mae: 39.8553\n",
      "Time taken: 0:00:08.802738\n"
     ]
    },
    {
     "name": "stderr",
     "output_type": "stream",
     "text": [
      "\n",
      " 69%|███████████████████████████████████████████████████████▌                        | 250/360 [43:12<18:51, 10.28s/it]\u001b[A"
     ]
    },
    {
     "name": "stdout",
     "output_type": "stream",
     "text": [
      "{'activation': 'relu', 'batch_size': 32, 'dropout': 0.5, 'epochs': 1, 'first_neuron': 2048, 'hidden_layers': 3, 'label_type': 'Angular', 'loss_function': 'mean_squared_error', 'lr': 2, 'monitor_value': 'val_custom_mae', 'optimizer': <class 'tensorflow.python.keras.optimizer_v2.adam.Adam'>, 'reduction_metric': 'custom_mae', 'samples': 20000}\n",
      "Using Loss: mean_squared_error \n",
      "and Reduction Metric: [<function custom_mae at 0x000001C2C8E7DAF8>]\n",
      "Monitor: val_custom_mae\n",
      "Train on 16000 samples, validate on 4000 samples\n",
      "15904/16000 [============================>.] - ETA: 0s - loss: 6039.5566 - custom_mae: 55.9258\n",
      "Epoch 00001: val_custom_mae improved from inf to 44.94048, saving model to ..\\fast_output\\SYNTH_Regression_MSE\\201019_2253_final_Angular_Base_Custom-MAE\\Best_Weights_FC_250.hdf5\n",
      "16000/16000 [==============================] - 7s 451us/sample - loss: 6031.7810 - custom_mae: 55.8733 - val_loss: 3777.7662 - val_custom_mae: 44.9405\n",
      "Time taken: 0:00:08.713536\n"
     ]
    },
    {
     "name": "stderr",
     "output_type": "stream",
     "text": [
      "\n",
      " 70%|███████████████████████████████████████████████████████▊                        | 251/360 [43:22<18:46, 10.33s/it]\u001b[A"
     ]
    },
    {
     "name": "stdout",
     "output_type": "stream",
     "text": [
      "{'activation': 'relu', 'batch_size': 32, 'dropout': 0.5, 'epochs': 1, 'first_neuron': 2048, 'hidden_layers': 3, 'label_type': 'Angular', 'loss_function': 'mean_squared_error', 'lr': 5, 'monitor_value': 'val_custom_mae', 'optimizer': <class 'tensorflow.python.keras.optimizer_v2.adam.Adam'>, 'reduction_metric': 'custom_mae', 'samples': 20000}\n",
      "Using Loss: mean_squared_error \n",
      "and Reduction Metric: [<function custom_mae at 0x000001C2C8E7DAF8>]\n",
      "Monitor: val_custom_mae\n",
      "Train on 16000 samples, validate on 4000 samples\n",
      "15872/16000 [============================>.] - ETA: 0s - loss: 7829.4440 - custom_mae: 62.2754\n",
      "Epoch 00001: val_custom_mae improved from inf to 60.56547, saving model to ..\\fast_output\\SYNTH_Regression_MSE\\201019_2253_final_Angular_Base_Custom-MAE\\Best_Weights_FC_251.hdf5\n",
      "16000/16000 [==============================] - 7s 452us/sample - loss: 7819.6886 - custom_mae: 62.2340 - val_loss: 7199.6042 - val_custom_mae: 60.5655\n",
      "Time taken: 0:00:08.741437\n"
     ]
    },
    {
     "name": "stderr",
     "output_type": "stream",
     "text": [
      "\n",
      " 70%|████████████████████████████████████████████████████████                        | 252/360 [43:33<18:40, 10.37s/it]\u001b[A"
     ]
    },
    {
     "name": "stdout",
     "output_type": "stream",
     "text": [
      "{'activation': 'relu', 'batch_size': 32, 'dropout': 0.5, 'epochs': 1, 'first_neuron': 2048, 'hidden_layers': 4, 'label_type': 'Angular', 'loss_function': 'mean_squared_error', 'lr': 1, 'monitor_value': 'val_custom_mae', 'optimizer': <class 'tensorflow.python.keras.optimizer_v2.adam.Adam'>, 'reduction_metric': 'custom_mae', 'samples': 20000}\n",
      "Using Loss: mean_squared_error \n",
      "and Reduction Metric: [<function custom_mae at 0x000001C2C8E7DAF8>]\n",
      "Monitor: val_custom_mae\n",
      "Train on 16000 samples, validate on 4000 samples\n",
      "15904/16000 [============================>.] - ETA: 0s - loss: 6376.0863 - custom_mae: 57.7789\n",
      "Epoch 00001: val_custom_mae improved from inf to 48.19488, saving model to ..\\fast_output\\SYNTH_Regression_MSE\\201019_2253_final_Angular_Base_Custom-MAE\\Best_Weights_FC_252.hdf5\n",
      "16000/16000 [==============================] - 7s 461us/sample - loss: 6373.2619 - custom_mae: 57.7531 - val_loss: 4297.4715 - val_custom_mae: 48.1949\n",
      "Time taken: 0:00:08.870253\n"
     ]
    },
    {
     "name": "stderr",
     "output_type": "stream",
     "text": [
      "\n",
      " 70%|████████████████████████████████████████████████████████▏                       | 253/360 [43:44<18:38, 10.45s/it]\u001b[A"
     ]
    },
    {
     "name": "stdout",
     "output_type": "stream",
     "text": [
      "{'activation': 'relu', 'batch_size': 32, 'dropout': 0.5, 'epochs': 1, 'first_neuron': 2048, 'hidden_layers': 4, 'label_type': 'Angular', 'loss_function': 'mean_squared_error', 'lr': 2, 'monitor_value': 'val_custom_mae', 'optimizer': <class 'tensorflow.python.keras.optimizer_v2.adam.Adam'>, 'reduction_metric': 'custom_mae', 'samples': 20000}\n",
      "Using Loss: mean_squared_error \n",
      "and Reduction Metric: [<function custom_mae at 0x000001C2C8E7DAF8>]\n",
      "Monitor: val_custom_mae\n",
      "Train on 16000 samples, validate on 4000 samples\n",
      "15872/16000 [============================>.] - ETA: 0s - loss: 6949.9980 - custom_mae: 59.5946\n",
      "Epoch 00001: val_custom_mae improved from inf to 63.87401, saving model to ..\\fast_output\\SYNTH_Regression_MSE\\201019_2253_final_Angular_Base_Custom-MAE\\Best_Weights_FC_253.hdf5\n",
      "16000/16000 [==============================] - 7s 461us/sample - loss: 6940.9598 - custom_mae: 59.5459 - val_loss: 7991.2210 - val_custom_mae: 63.8740\n",
      "Time taken: 0:00:08.883064\n"
     ]
    },
    {
     "name": "stderr",
     "output_type": "stream",
     "text": [
      "\n",
      " 71%|████████████████████████████████████████████████████████▍                       | 254/360 [43:54<18:33, 10.51s/it]\u001b[A"
     ]
    },
    {
     "name": "stdout",
     "output_type": "stream",
     "text": [
      "{'activation': 'relu', 'batch_size': 32, 'dropout': 0.5, 'epochs': 1, 'first_neuron': 2048, 'hidden_layers': 4, 'label_type': 'Angular', 'loss_function': 'mean_squared_error', 'lr': 5, 'monitor_value': 'val_custom_mae', 'optimizer': <class 'tensorflow.python.keras.optimizer_v2.adam.Adam'>, 'reduction_metric': 'custom_mae', 'samples': 20000}\n",
      "Using Loss: mean_squared_error \n",
      "and Reduction Metric: [<function custom_mae at 0x000001C2C8E7DAF8>]\n",
      "Monitor: val_custom_mae\n",
      "Train on 16000 samples, validate on 4000 samples\n",
      "15936/16000 [============================>.] - ETA: 0s - loss: 8913.8011 - custom_mae: 66.7831\n",
      "Epoch 00001: val_custom_mae improved from inf to 83.70255, saving model to ..\\fast_output\\SYNTH_Regression_MSE\\201019_2253_final_Angular_Base_Custom-MAE\\Best_Weights_FC_254.hdf5\n",
      "16000/16000 [==============================] - 7s 462us/sample - loss: 8911.0896 - custom_mae: 66.7594 - val_loss: 12978.3673 - val_custom_mae: 83.7025\n",
      "Time taken: 0:00:08.886403\n"
     ]
    },
    {
     "name": "stderr",
     "output_type": "stream",
     "text": [
      "\n",
      " 71%|████████████████████████████████████████████████████████▋                       | 255/360 [44:05<18:27, 10.55s/it]\u001b[A"
     ]
    },
    {
     "name": "stdout",
     "output_type": "stream",
     "text": [
      "{'activation': 'relu', 'batch_size': 32, 'dropout': 0.5, 'epochs': 1, 'first_neuron': 4096, 'hidden_layers': 0, 'label_type': 'Angular', 'loss_function': 'mean_squared_error', 'lr': 1, 'monitor_value': 'val_custom_mae', 'optimizer': <class 'tensorflow.python.keras.optimizer_v2.adam.Adam'>, 'reduction_metric': 'custom_mae', 'samples': 20000}\n",
      "Using Loss: mean_squared_error \n",
      "and Reduction Metric: [<function custom_mae at 0x000001C2C8E7DAF8>]\n",
      "Monitor: val_custom_mae\n",
      "Train on 16000 samples, validate on 4000 samples\n",
      "15936/16000 [============================>.] - ETA: 0s - loss: 3963.7871 - custom_mae: 40.3355\n",
      "Epoch 00001: val_custom_mae improved from inf to 32.62877, saving model to ..\\fast_output\\SYNTH_Regression_MSE\\201019_2253_final_Angular_Base_Custom-MAE\\Best_Weights_FC_255.hdf5\n",
      "16000/16000 [==============================] - 12s 739us/sample - loss: 3961.0528 - custom_mae: 40.3053 - val_loss: 2974.0507 - val_custom_mae: 32.6288\n",
      "Time taken: 0:00:13.320656\n"
     ]
    },
    {
     "name": "stderr",
     "output_type": "stream",
     "text": [
      "\n",
      " 71%|████████████████████████████████████████████████████████▉                       | 256/360 [44:20<20:36, 11.88s/it]\u001b[A"
     ]
    },
    {
     "name": "stdout",
     "output_type": "stream",
     "text": [
      "{'activation': 'relu', 'batch_size': 32, 'dropout': 0.5, 'epochs': 1, 'first_neuron': 4096, 'hidden_layers': 0, 'label_type': 'Angular', 'loss_function': 'mean_squared_error', 'lr': 2, 'monitor_value': 'val_custom_mae', 'optimizer': <class 'tensorflow.python.keras.optimizer_v2.adam.Adam'>, 'reduction_metric': 'custom_mae', 'samples': 20000}\n",
      "Using Loss: mean_squared_error \n",
      "and Reduction Metric: [<function custom_mae at 0x000001C2C8E7DAF8>]\n",
      "Monitor: val_custom_mae\n",
      "Train on 16000 samples, validate on 4000 samples\n",
      "15872/16000 [============================>.] - ETA: 0s - loss: 3997.8059 - custom_mae: 40.3889\n",
      "Epoch 00001: val_custom_mae improved from inf to 31.31821, saving model to ..\\fast_output\\SYNTH_Regression_MSE\\201019_2253_final_Angular_Base_Custom-MAE\\Best_Weights_FC_256.hdf5\n",
      "16000/16000 [==============================] - 12s 735us/sample - loss: 3988.2159 - custom_mae: 40.3097 - val_loss: 2835.0946 - val_custom_mae: 31.3182\n",
      "Time taken: 0:00:13.247906\n"
     ]
    },
    {
     "name": "stderr",
     "output_type": "stream",
     "text": [
      "\n",
      " 71%|█████████████████████████████████████████████████████████                       | 257/360 [44:35<21:58, 12.80s/it]\u001b[A"
     ]
    },
    {
     "name": "stdout",
     "output_type": "stream",
     "text": [
      "{'activation': 'relu', 'batch_size': 32, 'dropout': 0.5, 'epochs': 1, 'first_neuron': 4096, 'hidden_layers': 0, 'label_type': 'Angular', 'loss_function': 'mean_squared_error', 'lr': 5, 'monitor_value': 'val_custom_mae', 'optimizer': <class 'tensorflow.python.keras.optimizer_v2.adam.Adam'>, 'reduction_metric': 'custom_mae', 'samples': 20000}\n",
      "Using Loss: mean_squared_error \n",
      "and Reduction Metric: [<function custom_mae at 0x000001C2C8E7DAF8>]\n",
      "Monitor: val_custom_mae\n",
      "Train on 16000 samples, validate on 4000 samples\n",
      "15968/16000 [============================>.] - ETA: 0s - loss: 4405.5976 - custom_mae: 42.7969\n",
      "Epoch 00001: val_custom_mae improved from inf to 33.54447, saving model to ..\\fast_output\\SYNTH_Regression_MSE\\201019_2253_final_Angular_Base_Custom-MAE\\Best_Weights_FC_257.hdf5\n",
      "16000/16000 [==============================] - 12s 736us/sample - loss: 4405.6081 - custom_mae: 42.7851 - val_loss: 2980.2702 - val_custom_mae: 33.5445\n",
      "Time taken: 0:00:13.262887\n"
     ]
    },
    {
     "name": "stderr",
     "output_type": "stream",
     "text": [
      "\n",
      " 72%|█████████████████████████████████████████████████████████▎                      | 258/360 [44:50<22:50, 13.44s/it]\u001b[A"
     ]
    },
    {
     "name": "stdout",
     "output_type": "stream",
     "text": [
      "{'activation': 'relu', 'batch_size': 32, 'dropout': 0.5, 'epochs': 1, 'first_neuron': 4096, 'hidden_layers': 1, 'label_type': 'Angular', 'loss_function': 'mean_squared_error', 'lr': 1, 'monitor_value': 'val_custom_mae', 'optimizer': <class 'tensorflow.python.keras.optimizer_v2.adam.Adam'>, 'reduction_metric': 'custom_mae', 'samples': 20000}\n",
      "Using Loss: mean_squared_error \n",
      "and Reduction Metric: [<function custom_mae at 0x000001C2C8E7DAF8>]\n",
      "Monitor: val_custom_mae\n",
      "Train on 16000 samples, validate on 4000 samples\n",
      "15904/16000 [============================>.] - ETA: 0s - loss: 4260.6275 - custom_mae: 43.2194\n",
      "Epoch 00001: val_custom_mae improved from inf to 33.92975, saving model to ..\\fast_output\\SYNTH_Regression_MSE\\201019_2253_final_Angular_Base_Custom-MAE\\Best_Weights_FC_258.hdf5\n",
      "16000/16000 [==============================] - 13s 787us/sample - loss: 4254.0690 - custom_mae: 43.1618 - val_loss: 2949.8290 - val_custom_mae: 33.9298\n",
      "Time taken: 0:00:14.081107\n"
     ]
    },
    {
     "name": "stderr",
     "output_type": "stream",
     "text": [
      "\n",
      " 72%|█████████████████████████████████████████████████████████▌                      | 259/360 [45:05<23:47, 14.13s/it]\u001b[A"
     ]
    },
    {
     "name": "stdout",
     "output_type": "stream",
     "text": [
      "{'activation': 'relu', 'batch_size': 32, 'dropout': 0.5, 'epochs': 1, 'first_neuron': 4096, 'hidden_layers': 1, 'label_type': 'Angular', 'loss_function': 'mean_squared_error', 'lr': 2, 'monitor_value': 'val_custom_mae', 'optimizer': <class 'tensorflow.python.keras.optimizer_v2.adam.Adam'>, 'reduction_metric': 'custom_mae', 'samples': 20000}\n",
      "Using Loss: mean_squared_error \n",
      "and Reduction Metric: [<function custom_mae at 0x000001C2C8E7DAF8>]\n",
      "Monitor: val_custom_mae\n",
      "Train on 16000 samples, validate on 4000 samples\n",
      "15904/16000 [============================>.] - ETA: 0s - loss: 4627.8189 - custom_mae: 44.9878\n",
      "Epoch 00001: val_custom_mae improved from inf to 33.73399, saving model to ..\\fast_output\\SYNTH_Regression_MSE\\201019_2253_final_Angular_Base_Custom-MAE\\Best_Weights_FC_259.hdf5\n",
      "16000/16000 [==============================] - 13s 791us/sample - loss: 4621.5814 - custom_mae: 44.9466 - val_loss: 2922.8608 - val_custom_mae: 33.7340\n",
      "Time taken: 0:00:14.149055\n"
     ]
    },
    {
     "name": "stderr",
     "output_type": "stream",
     "text": [
      "\n",
      " 72%|█████████████████████████████████████████████████████████▊                      | 260/360 [45:21<24:24, 14.65s/it]\u001b[A"
     ]
    },
    {
     "name": "stdout",
     "output_type": "stream",
     "text": [
      "{'activation': 'relu', 'batch_size': 32, 'dropout': 0.5, 'epochs': 1, 'first_neuron': 4096, 'hidden_layers': 1, 'label_type': 'Angular', 'loss_function': 'mean_squared_error', 'lr': 5, 'monitor_value': 'val_custom_mae', 'optimizer': <class 'tensorflow.python.keras.optimizer_v2.adam.Adam'>, 'reduction_metric': 'custom_mae', 'samples': 20000}\n",
      "Using Loss: mean_squared_error \n",
      "and Reduction Metric: [<function custom_mae at 0x000001C2C8E7DAF8>]\n",
      "Monitor: val_custom_mae\n",
      "Train on 16000 samples, validate on 4000 samples\n",
      "15904/16000 [============================>.] - ETA: 0s - loss: 10857.0393 - custom_mae: 52.0231\n",
      "Epoch 00001: val_custom_mae improved from inf to 45.41511, saving model to ..\\fast_output\\SYNTH_Regression_MSE\\201019_2253_final_Angular_Base_Custom-MAE\\Best_Weights_FC_260.hdf5\n",
      "16000/16000 [==============================] - 13s 786us/sample - loss: 10817.9337 - custom_mae: 51.9662 - val_loss: 4348.7599 - val_custom_mae: 45.4151\n",
      "Time taken: 0:00:14.080371\n"
     ]
    },
    {
     "name": "stderr",
     "output_type": "stream",
     "text": [
      "\n",
      " 72%|██████████████████████████████████████████████████████████                      | 261/360 [45:37<24:44, 14.99s/it]\u001b[A"
     ]
    },
    {
     "name": "stdout",
     "output_type": "stream",
     "text": [
      "{'activation': 'relu', 'batch_size': 32, 'dropout': 0.5, 'epochs': 1, 'first_neuron': 4096, 'hidden_layers': 2, 'label_type': 'Angular', 'loss_function': 'mean_squared_error', 'lr': 1, 'monitor_value': 'val_custom_mae', 'optimizer': <class 'tensorflow.python.keras.optimizer_v2.adam.Adam'>, 'reduction_metric': 'custom_mae', 'samples': 20000}\n",
      "Using Loss: mean_squared_error \n",
      "and Reduction Metric: [<function custom_mae at 0x000001C2C8E7DAF8>]\n",
      "Monitor: val_custom_mae\n",
      "Train on 16000 samples, validate on 4000 samples\n",
      "15872/16000 [============================>.] - ETA: 0s - loss: 4873.8659 - custom_mae: 47.7583\n",
      "Epoch 00001: val_custom_mae improved from inf to 35.43383, saving model to ..\\fast_output\\SYNTH_Regression_MSE\\201019_2253_final_Angular_Base_Custom-MAE\\Best_Weights_FC_261.hdf5\n",
      "16000/16000 [==============================] - 13s 809us/sample - loss: 4861.2878 - custom_mae: 47.6688 - val_loss: 3150.1474 - val_custom_mae: 35.4338\n",
      "Time taken: 0:00:14.463163\n"
     ]
    },
    {
     "name": "stderr",
     "output_type": "stream",
     "text": [
      "\n",
      " 73%|██████████████████████████████████████████████████████████▏                     | 262/360 [45:53<25:04, 15.35s/it]\u001b[A"
     ]
    },
    {
     "name": "stdout",
     "output_type": "stream",
     "text": [
      "{'activation': 'relu', 'batch_size': 32, 'dropout': 0.5, 'epochs': 1, 'first_neuron': 4096, 'hidden_layers': 2, 'label_type': 'Angular', 'loss_function': 'mean_squared_error', 'lr': 2, 'monitor_value': 'val_custom_mae', 'optimizer': <class 'tensorflow.python.keras.optimizer_v2.adam.Adam'>, 'reduction_metric': 'custom_mae', 'samples': 20000}\n",
      "Using Loss: mean_squared_error \n",
      "and Reduction Metric: [<function custom_mae at 0x000001C2C8E7DAF8>]\n",
      "Monitor: val_custom_mae\n",
      "Train on 16000 samples, validate on 4000 samples\n",
      "15904/16000 [============================>.] - ETA: 0s - loss: 5362.0716 - custom_mae: 50.7857\n",
      "Epoch 00001: val_custom_mae improved from inf to 36.57384, saving model to ..\\fast_output\\SYNTH_Regression_MSE\\201019_2253_final_Angular_Base_Custom-MAE\\Best_Weights_FC_262.hdf5\n",
      "16000/16000 [==============================] - 13s 799us/sample - loss: 5359.1474 - custom_mae: 50.7608 - val_loss: 3212.7754 - val_custom_mae: 36.5738\n",
      "Time taken: 0:00:14.269558\n"
     ]
    },
    {
     "name": "stderr",
     "output_type": "stream",
     "text": [
      "\n",
      " 73%|██████████████████████████████████████████████████████████▍                     | 263/360 [46:09<25:08, 15.55s/it]\u001b[A"
     ]
    },
    {
     "name": "stdout",
     "output_type": "stream",
     "text": [
      "{'activation': 'relu', 'batch_size': 32, 'dropout': 0.5, 'epochs': 1, 'first_neuron': 4096, 'hidden_layers': 2, 'label_type': 'Angular', 'loss_function': 'mean_squared_error', 'lr': 5, 'monitor_value': 'val_custom_mae', 'optimizer': <class 'tensorflow.python.keras.optimizer_v2.adam.Adam'>, 'reduction_metric': 'custom_mae', 'samples': 20000}\n",
      "Using Loss: mean_squared_error \n",
      "and Reduction Metric: [<function custom_mae at 0x000001C2C8E7DAF8>]\n",
      "Monitor: val_custom_mae\n",
      "Train on 16000 samples, validate on 4000 samples\n",
      "15904/16000 [============================>.] - ETA: 0s - loss: 29697.4203 - custom_mae: 61.9925\n",
      "Epoch 00001: val_custom_mae improved from inf to 45.44830, saving model to ..\\fast_output\\SYNTH_Regression_MSE\\201019_2253_final_Angular_Base_Custom-MAE\\Best_Weights_FC_263.hdf5\n",
      "16000/16000 [==============================] - 13s 802us/sample - loss: 29552.4828 - custom_mae: 61.9306 - val_loss: 4119.9163 - val_custom_mae: 45.4483\n",
      "Time taken: 0:00:14.335162\n"
     ]
    },
    {
     "name": "stderr",
     "output_type": "stream",
     "text": [
      "\n",
      " 73%|██████████████████████████████████████████████████████████▋                     | 264/360 [46:25<25:08, 15.71s/it]\u001b[A"
     ]
    },
    {
     "name": "stdout",
     "output_type": "stream",
     "text": [
      "{'activation': 'relu', 'batch_size': 32, 'dropout': 0.5, 'epochs': 1, 'first_neuron': 4096, 'hidden_layers': 3, 'label_type': 'Angular', 'loss_function': 'mean_squared_error', 'lr': 1, 'monitor_value': 'val_custom_mae', 'optimizer': <class 'tensorflow.python.keras.optimizer_v2.adam.Adam'>, 'reduction_metric': 'custom_mae', 'samples': 20000}\n",
      "Using Loss: mean_squared_error \n",
      "and Reduction Metric: [<function custom_mae at 0x000001C2C8E7DAF8>]\n",
      "Monitor: val_custom_mae\n",
      "Train on 16000 samples, validate on 4000 samples\n",
      "15904/16000 [============================>.] - ETA: 0s - loss: 5405.4219 - custom_mae: 52.7053\n",
      "Epoch 00001: val_custom_mae improved from inf to 37.12471, saving model to ..\\fast_output\\SYNTH_Regression_MSE\\201019_2253_final_Angular_Base_Custom-MAE\\Best_Weights_FC_264.hdf5\n",
      "16000/16000 [==============================] - 13s 807us/sample - loss: 5399.8978 - custom_mae: 52.6604 - val_loss: 3251.0515 - val_custom_mae: 37.1247\n",
      "Time taken: 0:00:14.410583\n"
     ]
    },
    {
     "name": "stderr",
     "output_type": "stream",
     "text": [
      "\n",
      " 74%|██████████████████████████████████████████████████████████▉                     | 265/360 [46:42<25:04, 15.84s/it]\u001b[A"
     ]
    },
    {
     "name": "stdout",
     "output_type": "stream",
     "text": [
      "{'activation': 'relu', 'batch_size': 32, 'dropout': 0.5, 'epochs': 1, 'first_neuron': 4096, 'hidden_layers': 3, 'label_type': 'Angular', 'loss_function': 'mean_squared_error', 'lr': 2, 'monitor_value': 'val_custom_mae', 'optimizer': <class 'tensorflow.python.keras.optimizer_v2.adam.Adam'>, 'reduction_metric': 'custom_mae', 'samples': 20000}\n",
      "Using Loss: mean_squared_error \n",
      "and Reduction Metric: [<function custom_mae at 0x000001C2C8E7DAF8>]\n",
      "Monitor: val_custom_mae\n",
      "Train on 16000 samples, validate on 4000 samples\n",
      "15904/16000 [============================>.] - ETA: 0s - loss: 6095.1036 - custom_mae: 56.2255\n",
      "Epoch 00001: val_custom_mae improved from inf to 46.12014, saving model to ..\\fast_output\\SYNTH_Regression_MSE\\201019_2253_final_Angular_Base_Custom-MAE\\Best_Weights_FC_265.hdf5\n",
      "16000/16000 [==============================] - 13s 811us/sample - loss: 6090.4620 - custom_mae: 56.2027 - val_loss: 4067.7108 - val_custom_mae: 46.1201\n",
      "Time taken: 0:00:14.464509\n"
     ]
    },
    {
     "name": "stderr",
     "output_type": "stream",
     "text": [
      "\n",
      " 74%|███████████████████████████████████████████████████████████                     | 266/360 [46:58<24:59, 15.95s/it]\u001b[A"
     ]
    },
    {
     "name": "stdout",
     "output_type": "stream",
     "text": [
      "{'activation': 'relu', 'batch_size': 32, 'dropout': 0.5, 'epochs': 1, 'first_neuron': 4096, 'hidden_layers': 3, 'label_type': 'Angular', 'loss_function': 'mean_squared_error', 'lr': 5, 'monitor_value': 'val_custom_mae', 'optimizer': <class 'tensorflow.python.keras.optimizer_v2.adam.Adam'>, 'reduction_metric': 'custom_mae', 'samples': 20000}\n",
      "Using Loss: mean_squared_error \n",
      "and Reduction Metric: [<function custom_mae at 0x000001C2C8E7DAF8>]\n",
      "Monitor: val_custom_mae\n",
      "Train on 16000 samples, validate on 4000 samples\n",
      "15904/16000 [============================>.] - ETA: 0s - loss: 19132.7600 - custom_mae: 65.4866\n",
      "Epoch 00001: val_custom_mae improved from inf to 64.59738, saving model to ..\\fast_output\\SYNTH_Regression_MSE\\201019_2253_final_Angular_Base_Custom-MAE\\Best_Weights_FC_266.hdf5\n",
      "16000/16000 [==============================] - 13s 810us/sample - loss: 19058.0789 - custom_mae: 65.4475 - val_loss: 7895.3307 - val_custom_mae: 64.5974\n",
      "Time taken: 0:00:14.467258\n"
     ]
    },
    {
     "name": "stderr",
     "output_type": "stream",
     "text": [
      "\n",
      " 74%|███████████████████████████████████████████████████████████▎                    | 267/360 [47:14<24:50, 16.03s/it]\u001b[A"
     ]
    },
    {
     "name": "stdout",
     "output_type": "stream",
     "text": [
      "{'activation': 'relu', 'batch_size': 32, 'dropout': 0.5, 'epochs': 1, 'first_neuron': 4096, 'hidden_layers': 4, 'label_type': 'Angular', 'loss_function': 'mean_squared_error', 'lr': 1, 'monitor_value': 'val_custom_mae', 'optimizer': <class 'tensorflow.python.keras.optimizer_v2.adam.Adam'>, 'reduction_metric': 'custom_mae', 'samples': 20000}\n",
      "Using Loss: mean_squared_error \n",
      "and Reduction Metric: [<function custom_mae at 0x000001C2C8E7DAF8>]\n",
      "Monitor: val_custom_mae\n",
      "Train on 16000 samples, validate on 4000 samples\n",
      "15904/16000 [============================>.] - ETA: 0s - loss: 5947.3016 - custom_mae: 55.7287\n",
      "Epoch 00001: val_custom_mae improved from inf to 44.38380, saving model to ..\\fast_output\\SYNTH_Regression_MSE\\201019_2253_final_Angular_Base_Custom-MAE\\Best_Weights_FC_267.hdf5\n",
      "16000/16000 [==============================] - 13s 821us/sample - loss: 5941.1769 - custom_mae: 55.6970 - val_loss: 3812.8849 - val_custom_mae: 44.3838\n",
      "Time taken: 0:00:14.639846\n"
     ]
    },
    {
     "name": "stderr",
     "output_type": "stream",
     "text": [
      "\n",
      " 74%|███████████████████████████████████████████████████████████▌                    | 268/360 [47:30<24:45, 16.14s/it]\u001b[A"
     ]
    },
    {
     "name": "stdout",
     "output_type": "stream",
     "text": [
      "{'activation': 'relu', 'batch_size': 32, 'dropout': 0.5, 'epochs': 1, 'first_neuron': 4096, 'hidden_layers': 4, 'label_type': 'Angular', 'loss_function': 'mean_squared_error', 'lr': 2, 'monitor_value': 'val_custom_mae', 'optimizer': <class 'tensorflow.python.keras.optimizer_v2.adam.Adam'>, 'reduction_metric': 'custom_mae', 'samples': 20000}\n",
      "Using Loss: mean_squared_error \n",
      "and Reduction Metric: [<function custom_mae at 0x000001C2C8E7DAF8>]\n",
      "Monitor: val_custom_mae\n",
      "Train on 16000 samples, validate on 4000 samples\n",
      "15904/16000 [============================>.] - ETA: 0s - loss: 6818.5676 - custom_mae: 59.0779\n",
      "Epoch 00001: val_custom_mae improved from inf to 54.46884, saving model to ..\\fast_output\\SYNTH_Regression_MSE\\201019_2253_final_Angular_Base_Custom-MAE\\Best_Weights_FC_268.hdf5\n",
      "16000/16000 [==============================] - 13s 811us/sample - loss: 6814.5708 - custom_mae: 59.0571 - val_loss: 5642.8471 - val_custom_mae: 54.4688\n",
      "Time taken: 0:00:14.461731\n"
     ]
    },
    {
     "name": "stderr",
     "output_type": "stream",
     "text": [
      "\n",
      " 75%|███████████████████████████████████████████████████████████▊                    | 269/360 [47:47<24:31, 16.17s/it]\u001b[A"
     ]
    },
    {
     "name": "stdout",
     "output_type": "stream",
     "text": [
      "{'activation': 'relu', 'batch_size': 32, 'dropout': 0.5, 'epochs': 1, 'first_neuron': 4096, 'hidden_layers': 4, 'label_type': 'Angular', 'loss_function': 'mean_squared_error', 'lr': 5, 'monitor_value': 'val_custom_mae', 'optimizer': <class 'tensorflow.python.keras.optimizer_v2.adam.Adam'>, 'reduction_metric': 'custom_mae', 'samples': 20000}\n",
      "Using Loss: mean_squared_error \n",
      "and Reduction Metric: [<function custom_mae at 0x000001C2C8E7DAF8>]\n",
      "Monitor: val_custom_mae\n",
      "Train on 16000 samples, validate on 4000 samples\n",
      "15872/16000 [============================>.] - ETA: 0s - loss: 13718.9330 - custom_mae: 68.0697\n",
      "Epoch 00001: val_custom_mae improved from inf to 79.02481, saving model to ..\\fast_output\\SYNTH_Regression_MSE\\201019_2253_final_Angular_Base_Custom-MAE\\Best_Weights_FC_269.hdf5\n",
      "16000/16000 [==============================] - 13s 816us/sample - loss: 13691.1296 - custom_mae: 68.0974 - val_loss: 12498.2005 - val_custom_mae: 79.0248\n",
      "Time taken: 0:00:14.548684\n"
     ]
    },
    {
     "name": "stderr",
     "output_type": "stream",
     "text": [
      "\n",
      " 75%|████████████████████████████████████████████████████████████                    | 270/360 [48:03<24:19, 16.22s/it]\u001b[A"
     ]
    },
    {
     "name": "stdout",
     "output_type": "stream",
     "text": [
      "{'activation': 'relu', 'batch_size': 64, 'dropout': 0.25, 'epochs': 1, 'first_neuron': 1024, 'hidden_layers': 0, 'label_type': 'Angular', 'loss_function': 'mean_squared_error', 'lr': 1, 'monitor_value': 'val_custom_mae', 'optimizer': <class 'tensorflow.python.keras.optimizer_v2.adam.Adam'>, 'reduction_metric': 'custom_mae', 'samples': 20000}\n",
      "Using Loss: mean_squared_error \n",
      "and Reduction Metric: [<function custom_mae at 0x000001C2C8E7DAF8>]\n",
      "Monitor: val_custom_mae\n",
      "Train on 16000 samples, validate on 3968 samples\n",
      "15488/16000 [============================>.] - ETA: 0s - loss: 4579.5613 - custom_mae: 44.4620\n",
      "Epoch 00001: val_custom_mae improved from inf to 36.12953, saving model to ..\\fast_output\\SYNTH_Regression_MSE\\201019_2253_final_Angular_Base_Custom-MAE\\Best_Weights_FC_270.hdf5\n",
      "16000/16000 [==============================] - 3s 209us/sample - loss: 4530.3155 - custom_mae: 44.1596 - val_loss: 3427.9957 - val_custom_mae: 36.1295\n",
      "Time taken: 0:00:04.917200\n"
     ]
    },
    {
     "name": "stderr",
     "output_type": "stream",
     "text": [
      "\n",
      " 75%|████████████████████████████████████████████████████████████▏                   | 271/360 [48:13<21:26, 14.46s/it]\u001b[A"
     ]
    },
    {
     "name": "stdout",
     "output_type": "stream",
     "text": [
      "{'activation': 'relu', 'batch_size': 64, 'dropout': 0.25, 'epochs': 1, 'first_neuron': 1024, 'hidden_layers': 0, 'label_type': 'Angular', 'loss_function': 'mean_squared_error', 'lr': 2, 'monitor_value': 'val_custom_mae', 'optimizer': <class 'tensorflow.python.keras.optimizer_v2.adam.Adam'>, 'reduction_metric': 'custom_mae', 'samples': 20000}\n",
      "Using Loss: mean_squared_error \n",
      "and Reduction Metric: [<function custom_mae at 0x000001C2C8E7DAF8>]\n",
      "Monitor: val_custom_mae\n",
      "Train on 16000 samples, validate on 3968 samples\n",
      "15552/16000 [============================>.] - ETA: 0s - loss: 4136.8126 - custom_mae: 41.4549\n",
      "Epoch 00001: val_custom_mae improved from inf to 32.68595, saving model to ..\\fast_output\\SYNTH_Regression_MSE\\201019_2253_final_Angular_Base_Custom-MAE\\Best_Weights_FC_271.hdf5\n",
      "16000/16000 [==============================] - 3s 210us/sample - loss: 4093.9624 - custom_mae: 41.1768 - val_loss: 2935.1453 - val_custom_mae: 32.6859\n",
      "Time taken: 0:00:04.835772\n"
     ]
    },
    {
     "name": "stderr",
     "output_type": "stream",
     "text": [
      "\n",
      " 76%|████████████████████████████████████████████████████████████▍                   | 272/360 [48:20<17:41, 12.06s/it]\u001b[A"
     ]
    },
    {
     "name": "stdout",
     "output_type": "stream",
     "text": [
      "{'activation': 'relu', 'batch_size': 64, 'dropout': 0.25, 'epochs': 1, 'first_neuron': 1024, 'hidden_layers': 0, 'label_type': 'Angular', 'loss_function': 'mean_squared_error', 'lr': 5, 'monitor_value': 'val_custom_mae', 'optimizer': <class 'tensorflow.python.keras.optimizer_v2.adam.Adam'>, 'reduction_metric': 'custom_mae', 'samples': 20000}\n",
      "Using Loss: mean_squared_error \n",
      "and Reduction Metric: [<function custom_mae at 0x000001C2C8E7DAF8>]\n",
      "Monitor: val_custom_mae\n",
      "Train on 16000 samples, validate on 3968 samples\n",
      "15552/16000 [============================>.] - ETA: 0s - loss: 3802.6063 - custom_mae: 39.1954\n",
      "Epoch 00001: val_custom_mae improved from inf to 30.97345, saving model to ..\\fast_output\\SYNTH_Regression_MSE\\201019_2253_final_Angular_Base_Custom-MAE\\Best_Weights_FC_272.hdf5\n",
      "16000/16000 [==============================] - 3s 210us/sample - loss: 3759.7414 - custom_mae: 38.9118 - val_loss: 2707.1440 - val_custom_mae: 30.9734\n",
      "Time taken: 0:00:04.848470\n"
     ]
    },
    {
     "name": "stderr",
     "output_type": "stream",
     "text": [
      "\n",
      " 76%|████████████████████████████████████████████████████████████▋                   | 273/360 [48:26<15:04, 10.39s/it]\u001b[A"
     ]
    },
    {
     "name": "stdout",
     "output_type": "stream",
     "text": [
      "{'activation': 'relu', 'batch_size': 64, 'dropout': 0.25, 'epochs': 1, 'first_neuron': 1024, 'hidden_layers': 1, 'label_type': 'Angular', 'loss_function': 'mean_squared_error', 'lr': 1, 'monitor_value': 'val_custom_mae', 'optimizer': <class 'tensorflow.python.keras.optimizer_v2.adam.Adam'>, 'reduction_metric': 'custom_mae', 'samples': 20000}\n",
      "Using Loss: mean_squared_error \n",
      "and Reduction Metric: [<function custom_mae at 0x000001C2C8E7DAF8>]\n",
      "Monitor: val_custom_mae\n",
      "Train on 16000 samples, validate on 3968 samples\n",
      "15488/16000 [============================>.] - ETA: 0s - loss: 4518.6777 - custom_mae: 44.6971\n",
      "Epoch 00001: val_custom_mae improved from inf to 33.15471, saving model to ..\\fast_output\\SYNTH_Regression_MSE\\201019_2253_final_Angular_Base_Custom-MAE\\Best_Weights_FC_273.hdf5\n",
      "16000/16000 [==============================] - 3s 214us/sample - loss: 4462.9203 - custom_mae: 44.3352 - val_loss: 2994.4300 - val_custom_mae: 33.1547\n",
      "Time taken: 0:00:04.916406\n"
     ]
    },
    {
     "name": "stderr",
     "output_type": "stream",
     "text": [
      "\n",
      " 76%|████████████████████████████████████████████████████████████▉                   | 274/360 [48:33<13:16,  9.26s/it]\u001b[A"
     ]
    },
    {
     "name": "stdout",
     "output_type": "stream",
     "text": [
      "{'activation': 'relu', 'batch_size': 64, 'dropout': 0.25, 'epochs': 1, 'first_neuron': 1024, 'hidden_layers': 1, 'label_type': 'Angular', 'loss_function': 'mean_squared_error', 'lr': 2, 'monitor_value': 'val_custom_mae', 'optimizer': <class 'tensorflow.python.keras.optimizer_v2.adam.Adam'>, 'reduction_metric': 'custom_mae', 'samples': 20000}\n",
      "Using Loss: mean_squared_error \n",
      "and Reduction Metric: [<function custom_mae at 0x000001C2C8E7DAF8>]\n",
      "Monitor: val_custom_mae\n",
      "Train on 16000 samples, validate on 3968 samples\n",
      "15488/16000 [============================>.] - ETA: 0s - loss: 4068.1525 - custom_mae: 41.7224\n",
      "Epoch 00001: val_custom_mae improved from inf to 31.82212, saving model to ..\\fast_output\\SYNTH_Regression_MSE\\201019_2253_final_Angular_Base_Custom-MAE\\Best_Weights_FC_274.hdf5\n",
      "16000/16000 [==============================] - 3s 218us/sample - loss: 4021.0067 - custom_mae: 41.4045 - val_loss: 2882.7341 - val_custom_mae: 31.8221\n",
      "Time taken: 0:00:04.963674\n"
     ]
    },
    {
     "name": "stderr",
     "output_type": "stream",
     "text": [
      "\n",
      " 76%|█████████████████████████████████████████████████████████████                   | 275/360 [48:39<12:00,  8.48s/it]\u001b[A"
     ]
    },
    {
     "name": "stdout",
     "output_type": "stream",
     "text": [
      "{'activation': 'relu', 'batch_size': 64, 'dropout': 0.25, 'epochs': 1, 'first_neuron': 1024, 'hidden_layers': 1, 'label_type': 'Angular', 'loss_function': 'mean_squared_error', 'lr': 5, 'monitor_value': 'val_custom_mae', 'optimizer': <class 'tensorflow.python.keras.optimizer_v2.adam.Adam'>, 'reduction_metric': 'custom_mae', 'samples': 20000}\n",
      "Using Loss: mean_squared_error \n",
      "and Reduction Metric: [<function custom_mae at 0x000001C2C8E7DAF8>]\n",
      "Monitor: val_custom_mae\n",
      "Train on 16000 samples, validate on 3968 samples\n",
      "15424/16000 [===========================>..] - ETA: 0s - loss: 4800.7162 - custom_mae: 46.1796\n",
      "Epoch 00001: val_custom_mae improved from inf to 32.16420, saving model to ..\\fast_output\\SYNTH_Regression_MSE\\201019_2253_final_Angular_Base_Custom-MAE\\Best_Weights_FC_275.hdf5\n",
      "16000/16000 [==============================] - 3s 218us/sample - loss: 4730.7033 - custom_mae: 45.7338 - val_loss: 2832.8556 - val_custom_mae: 32.1642\n",
      "Time taken: 0:00:04.974920\n"
     ]
    },
    {
     "name": "stderr",
     "output_type": "stream",
     "text": [
      "\n",
      " 77%|█████████████████████████████████████████████████████████████▎                  | 276/360 [48:46<11:06,  7.93s/it]\u001b[A"
     ]
    },
    {
     "name": "stdout",
     "output_type": "stream",
     "text": [
      "{'activation': 'relu', 'batch_size': 64, 'dropout': 0.25, 'epochs': 1, 'first_neuron': 1024, 'hidden_layers': 2, 'label_type': 'Angular', 'loss_function': 'mean_squared_error', 'lr': 1, 'monitor_value': 'val_custom_mae', 'optimizer': <class 'tensorflow.python.keras.optimizer_v2.adam.Adam'>, 'reduction_metric': 'custom_mae', 'samples': 20000}\n",
      "Using Loss: mean_squared_error \n",
      "and Reduction Metric: [<function custom_mae at 0x000001C2C8E7DAF8>]\n",
      "Monitor: val_custom_mae\n",
      "Train on 16000 samples, validate on 3968 samples\n",
      "15872/16000 [============================>.] - ETA: 0s - loss: 4719.8203 - custom_mae: 46.7997\n",
      "Epoch 00001: val_custom_mae improved from inf to 33.42460, saving model to ..\\fast_output\\SYNTH_Regression_MSE\\201019_2253_final_Angular_Base_Custom-MAE\\Best_Weights_FC_276.hdf5\n",
      "16000/16000 [==============================] - 3s 218us/sample - loss: 4704.2249 - custom_mae: 46.6937 - val_loss: 2978.4913 - val_custom_mae: 33.4246\n",
      "Time taken: 0:00:04.994388\n"
     ]
    },
    {
     "name": "stderr",
     "output_type": "stream",
     "text": [
      "\n",
      " 77%|█████████████████████████████████████████████████████████████▌                  | 277/360 [48:53<10:27,  7.56s/it]\u001b[A"
     ]
    },
    {
     "name": "stdout",
     "output_type": "stream",
     "text": [
      "{'activation': 'relu', 'batch_size': 64, 'dropout': 0.25, 'epochs': 1, 'first_neuron': 1024, 'hidden_layers': 2, 'label_type': 'Angular', 'loss_function': 'mean_squared_error', 'lr': 2, 'monitor_value': 'val_custom_mae', 'optimizer': <class 'tensorflow.python.keras.optimizer_v2.adam.Adam'>, 'reduction_metric': 'custom_mae', 'samples': 20000}\n",
      "Using Loss: mean_squared_error \n",
      "and Reduction Metric: [<function custom_mae at 0x000001C2C8E7DAF8>]\n",
      "Monitor: val_custom_mae\n",
      "Train on 16000 samples, validate on 3968 samples\n",
      "15872/16000 [============================>.] - ETA: 0s - loss: 4252.7589 - custom_mae: 43.7528\n",
      "Epoch 00001: val_custom_mae improved from inf to 31.44695, saving model to ..\\fast_output\\SYNTH_Regression_MSE\\201019_2253_final_Angular_Base_Custom-MAE\\Best_Weights_FC_277.hdf5\n",
      "16000/16000 [==============================] - 4s 220us/sample - loss: 4243.3590 - custom_mae: 43.6860 - val_loss: 2673.6000 - val_custom_mae: 31.4470\n",
      "Time taken: 0:00:05.024901\n"
     ]
    },
    {
     "name": "stderr",
     "output_type": "stream",
     "text": [
      "\n",
      " 77%|█████████████████████████████████████████████████████████████▊                  | 278/360 [49:00<09:59,  7.31s/it]\u001b[A"
     ]
    },
    {
     "name": "stdout",
     "output_type": "stream",
     "text": [
      "{'activation': 'relu', 'batch_size': 64, 'dropout': 0.25, 'epochs': 1, 'first_neuron': 1024, 'hidden_layers': 2, 'label_type': 'Angular', 'loss_function': 'mean_squared_error', 'lr': 5, 'monitor_value': 'val_custom_mae', 'optimizer': <class 'tensorflow.python.keras.optimizer_v2.adam.Adam'>, 'reduction_metric': 'custom_mae', 'samples': 20000}\n",
      "Using Loss: mean_squared_error \n",
      "and Reduction Metric: [<function custom_mae at 0x000001C2C8E7DAF8>]\n",
      "Monitor: val_custom_mae\n",
      "Train on 16000 samples, validate on 3968 samples\n",
      "15488/16000 [============================>.] - ETA: 0s - loss: 5140.8760 - custom_mae: 49.4859\n",
      "Epoch 00001: val_custom_mae improved from inf to 33.95818, saving model to ..\\fast_output\\SYNTH_Regression_MSE\\201019_2253_final_Angular_Base_Custom-MAE\\Best_Weights_FC_278.hdf5\n",
      "16000/16000 [==============================] - 4s 220us/sample - loss: 5078.6706 - custom_mae: 49.1359 - val_loss: 2898.9858 - val_custom_mae: 33.9582\n",
      "Time taken: 0:00:05.016929\n"
     ]
    },
    {
     "name": "stderr",
     "output_type": "stream",
     "text": [
      "\n",
      " 78%|██████████████████████████████████████████████████████████████                  | 279/360 [49:06<09:37,  7.13s/it]\u001b[A"
     ]
    },
    {
     "name": "stdout",
     "output_type": "stream",
     "text": [
      "{'activation': 'relu', 'batch_size': 64, 'dropout': 0.25, 'epochs': 1, 'first_neuron': 1024, 'hidden_layers': 3, 'label_type': 'Angular', 'loss_function': 'mean_squared_error', 'lr': 1, 'monitor_value': 'val_custom_mae', 'optimizer': <class 'tensorflow.python.keras.optimizer_v2.adam.Adam'>, 'reduction_metric': 'custom_mae', 'samples': 20000}\n",
      "Using Loss: mean_squared_error \n",
      "and Reduction Metric: [<function custom_mae at 0x000001C2C8E7DAF8>]\n",
      "Monitor: val_custom_mae\n",
      "Train on 16000 samples, validate on 3968 samples\n",
      "15808/16000 [============================>.] - ETA: 0s - loss: 5063.5645 - custom_mae: 49.6891\n",
      "Epoch 00001: val_custom_mae improved from inf to 35.21363, saving model to ..\\fast_output\\SYNTH_Regression_MSE\\201019_2253_final_Angular_Base_Custom-MAE\\Best_Weights_FC_279.hdf5\n",
      "16000/16000 [==============================] - 4s 227us/sample - loss: 5039.6416 - custom_mae: 49.5323 - val_loss: 3158.1101 - val_custom_mae: 35.2136\n",
      "Time taken: 0:00:05.124475\n"
     ]
    },
    {
     "name": "stderr",
     "output_type": "stream",
     "text": [
      "\n",
      " 78%|██████████████████████████████████████████████████████████████▏                 | 280/360 [49:13<09:24,  7.05s/it]\u001b[A"
     ]
    },
    {
     "name": "stdout",
     "output_type": "stream",
     "text": [
      "{'activation': 'relu', 'batch_size': 64, 'dropout': 0.25, 'epochs': 1, 'first_neuron': 1024, 'hidden_layers': 3, 'label_type': 'Angular', 'loss_function': 'mean_squared_error', 'lr': 2, 'monitor_value': 'val_custom_mae', 'optimizer': <class 'tensorflow.python.keras.optimizer_v2.adam.Adam'>, 'reduction_metric': 'custom_mae', 'samples': 20000}\n",
      "Using Loss: mean_squared_error \n",
      "and Reduction Metric: [<function custom_mae at 0x000001C2C8E7DAF8>]\n",
      "Monitor: val_custom_mae\n",
      "Train on 16000 samples, validate on 3968 samples\n",
      "15552/16000 [============================>.] - ETA: 0s - loss: 4746.0896 - custom_mae: 47.8002\n",
      "Epoch 00001: val_custom_mae improved from inf to 37.88930, saving model to ..\\fast_output\\SYNTH_Regression_MSE\\201019_2253_final_Angular_Base_Custom-MAE\\Best_Weights_FC_280.hdf5\n",
      "16000/16000 [==============================] - 4s 228us/sample - loss: 4702.1229 - custom_mae: 47.5246 - val_loss: 3048.7555 - val_custom_mae: 37.8893\n",
      "Time taken: 0:00:05.137500\n"
     ]
    },
    {
     "name": "stderr",
     "output_type": "stream",
     "text": [
      "\n",
      " 78%|██████████████████████████████████████████████████████████████▍                 | 281/360 [49:20<09:12,  7.00s/it]\u001b[A"
     ]
    },
    {
     "name": "stdout",
     "output_type": "stream",
     "text": [
      "{'activation': 'relu', 'batch_size': 64, 'dropout': 0.25, 'epochs': 1, 'first_neuron': 1024, 'hidden_layers': 3, 'label_type': 'Angular', 'loss_function': 'mean_squared_error', 'lr': 5, 'monitor_value': 'val_custom_mae', 'optimizer': <class 'tensorflow.python.keras.optimizer_v2.adam.Adam'>, 'reduction_metric': 'custom_mae', 'samples': 20000}\n",
      "Using Loss: mean_squared_error \n",
      "and Reduction Metric: [<function custom_mae at 0x000001C2C8E7DAF8>]\n",
      "Monitor: val_custom_mae\n",
      "Train on 16000 samples, validate on 3968 samples\n",
      "15744/16000 [============================>.] - ETA: 0s - loss: 5733.1091 - custom_mae: 54.1658\n",
      "Epoch 00001: val_custom_mae improved from inf to 51.70631, saving model to ..\\fast_output\\SYNTH_Regression_MSE\\201019_2253_final_Angular_Base_Custom-MAE\\Best_Weights_FC_281.hdf5\n",
      "16000/16000 [==============================] - 4s 229us/sample - loss: 5723.2045 - custom_mae: 54.1168 - val_loss: 4908.7196 - val_custom_mae: 51.7063\n",
      "Time taken: 0:00:05.148138\n"
     ]
    },
    {
     "name": "stderr",
     "output_type": "stream",
     "text": [
      "\n",
      " 78%|██████████████████████████████████████████████████████████████▋                 | 282/360 [49:27<09:02,  6.96s/it]\u001b[A"
     ]
    },
    {
     "name": "stdout",
     "output_type": "stream",
     "text": [
      "{'activation': 'relu', 'batch_size': 64, 'dropout': 0.25, 'epochs': 1, 'first_neuron': 1024, 'hidden_layers': 4, 'label_type': 'Angular', 'loss_function': 'mean_squared_error', 'lr': 1, 'monitor_value': 'val_custom_mae', 'optimizer': <class 'tensorflow.python.keras.optimizer_v2.adam.Adam'>, 'reduction_metric': 'custom_mae', 'samples': 20000}\n",
      "Using Loss: mean_squared_error \n",
      "and Reduction Metric: [<function custom_mae at 0x000001C2C8E7DAF8>]\n",
      "Monitor: val_custom_mae\n",
      "Train on 16000 samples, validate on 3968 samples\n",
      "15808/16000 [============================>.] - ETA: 0s - loss: 5716.2950 - custom_mae: 54.2216\n",
      "Epoch 00001: val_custom_mae improved from inf to 39.17964, saving model to ..\\fast_output\\SYNTH_Regression_MSE\\201019_2253_final_Angular_Base_Custom-MAE\\Best_Weights_FC_282.hdf5\n",
      "16000/16000 [==============================] - 4s 232us/sample - loss: 5692.5524 - custom_mae: 54.0630 - val_loss: 3438.2028 - val_custom_mae: 39.1796\n",
      "Time taken: 0:00:05.208476\n"
     ]
    },
    {
     "name": "stderr",
     "output_type": "stream",
     "text": [
      "\n",
      " 79%|██████████████████████████████████████████████████████████████▉                 | 283/360 [49:34<08:55,  6.96s/it]\u001b[A"
     ]
    },
    {
     "name": "stdout",
     "output_type": "stream",
     "text": [
      "{'activation': 'relu', 'batch_size': 64, 'dropout': 0.25, 'epochs': 1, 'first_neuron': 1024, 'hidden_layers': 4, 'label_type': 'Angular', 'loss_function': 'mean_squared_error', 'lr': 2, 'monitor_value': 'val_custom_mae', 'optimizer': <class 'tensorflow.python.keras.optimizer_v2.adam.Adam'>, 'reduction_metric': 'custom_mae', 'samples': 20000}\n",
      "Using Loss: mean_squared_error \n",
      "and Reduction Metric: [<function custom_mae at 0x000001C2C8E7DAF8>]\n",
      "Monitor: val_custom_mae\n",
      "Train on 16000 samples, validate on 3968 samples\n",
      "15488/16000 [============================>.] - ETA: 0s - loss: 5337.3273 - custom_mae: 52.3511\n",
      "Epoch 00001: val_custom_mae improved from inf to 34.77889, saving model to ..\\fast_output\\SYNTH_Regression_MSE\\201019_2253_final_Angular_Base_Custom-MAE\\Best_Weights_FC_283.hdf5\n",
      "16000/16000 [==============================] - 4s 233us/sample - loss: 5268.1354 - custom_mae: 51.9267 - val_loss: 2916.7897 - val_custom_mae: 34.7789\n",
      "Time taken: 0:00:05.217483\n"
     ]
    },
    {
     "name": "stderr",
     "output_type": "stream",
     "text": [
      "\n",
      " 79%|███████████████████████████████████████████████████████████████                 | 284/360 [49:41<08:49,  6.97s/it]\u001b[A"
     ]
    },
    {
     "name": "stdout",
     "output_type": "stream",
     "text": [
      "{'activation': 'relu', 'batch_size': 64, 'dropout': 0.25, 'epochs': 1, 'first_neuron': 1024, 'hidden_layers': 4, 'label_type': 'Angular', 'loss_function': 'mean_squared_error', 'lr': 5, 'monitor_value': 'val_custom_mae', 'optimizer': <class 'tensorflow.python.keras.optimizer_v2.adam.Adam'>, 'reduction_metric': 'custom_mae', 'samples': 20000}\n",
      "Using Loss: mean_squared_error \n",
      "and Reduction Metric: [<function custom_mae at 0x000001C2C8E7DAF8>]\n",
      "Monitor: val_custom_mae\n",
      "Train on 16000 samples, validate on 3968 samples\n",
      "15552/16000 [============================>.] - ETA: 0s - loss: 7299.2885 - custom_mae: 59.0282\n",
      "Epoch 00001: val_custom_mae improved from inf to 48.70137, saving model to ..\\fast_output\\SYNTH_Regression_MSE\\201019_2253_final_Angular_Base_Custom-MAE\\Best_Weights_FC_284.hdf5\n",
      "16000/16000 [==============================] - 4s 232us/sample - loss: 7210.4804 - custom_mae: 58.7006 - val_loss: 4414.0086 - val_custom_mae: 48.7014\n",
      "Time taken: 0:00:05.201889\n"
     ]
    },
    {
     "name": "stderr",
     "output_type": "stream",
     "text": [
      "\n",
      " 79%|███████████████████████████████████████████████████████████████▎                | 285/360 [49:48<08:42,  6.97s/it]\u001b[A"
     ]
    },
    {
     "name": "stdout",
     "output_type": "stream",
     "text": [
      "{'activation': 'relu', 'batch_size': 64, 'dropout': 0.25, 'epochs': 1, 'first_neuron': 2048, 'hidden_layers': 0, 'label_type': 'Angular', 'loss_function': 'mean_squared_error', 'lr': 1, 'monitor_value': 'val_custom_mae', 'optimizer': <class 'tensorflow.python.keras.optimizer_v2.adam.Adam'>, 'reduction_metric': 'custom_mae', 'samples': 20000}\n",
      "Using Loss: mean_squared_error \n",
      "and Reduction Metric: [<function custom_mae at 0x000001C2C8E7DAF8>]\n",
      "Monitor: val_custom_mae\n",
      "Train on 16000 samples, validate on 3968 samples\n",
      "15936/16000 [============================>.] - ETA: 0s - loss: 4299.9683 - custom_mae: 41.9589\n",
      "Epoch 00001: val_custom_mae improved from inf to 34.47733, saving model to ..\\fast_output\\SYNTH_Regression_MSE\\201019_2253_final_Angular_Base_Custom-MAE\\Best_Weights_FC_285.hdf5\n",
      "16000/16000 [==============================] - 5s 328us/sample - loss: 4294.9479 - custom_mae: 41.9188 - val_loss: 3285.1809 - val_custom_mae: 34.4773\n",
      "Time taken: 0:00:06.743388\n"
     ]
    },
    {
     "name": "stderr",
     "output_type": "stream",
     "text": [
      "\n",
      " 79%|███████████████████████████████████████████████████████████████▌                | 286/360 [49:56<09:07,  7.40s/it]\u001b[A"
     ]
    },
    {
     "name": "stdout",
     "output_type": "stream",
     "text": [
      "{'activation': 'relu', 'batch_size': 64, 'dropout': 0.25, 'epochs': 1, 'first_neuron': 2048, 'hidden_layers': 0, 'label_type': 'Angular', 'loss_function': 'mean_squared_error', 'lr': 2, 'monitor_value': 'val_custom_mae', 'optimizer': <class 'tensorflow.python.keras.optimizer_v2.adam.Adam'>, 'reduction_metric': 'custom_mae', 'samples': 20000}\n",
      "Using Loss: mean_squared_error \n",
      "and Reduction Metric: [<function custom_mae at 0x000001C2C8E7DAF8>]\n",
      "Monitor: val_custom_mae\n",
      "Train on 16000 samples, validate on 3968 samples\n",
      "15936/16000 [============================>.] - ETA: 0s - loss: 3917.2753 - custom_mae: 39.7533\n",
      "Epoch 00001: val_custom_mae improved from inf to 31.06955, saving model to ..\\fast_output\\SYNTH_Regression_MSE\\201019_2253_final_Angular_Base_Custom-MAE\\Best_Weights_FC_286.hdf5\n",
      "16000/16000 [==============================] - 5s 328us/sample - loss: 3912.3627 - custom_mae: 39.7149 - val_loss: 2781.6562 - val_custom_mae: 31.0695\n",
      "Time taken: 0:00:06.743614\n"
     ]
    },
    {
     "name": "stderr",
     "output_type": "stream",
     "text": [
      "\n",
      " 80%|███████████████████████████████████████████████████████████████▊                | 287/360 [50:05<09:22,  7.70s/it]\u001b[A"
     ]
    },
    {
     "name": "stdout",
     "output_type": "stream",
     "text": [
      "{'activation': 'relu', 'batch_size': 64, 'dropout': 0.25, 'epochs': 1, 'first_neuron': 2048, 'hidden_layers': 0, 'label_type': 'Angular', 'loss_function': 'mean_squared_error', 'lr': 5, 'monitor_value': 'val_custom_mae', 'optimizer': <class 'tensorflow.python.keras.optimizer_v2.adam.Adam'>, 'reduction_metric': 'custom_mae', 'samples': 20000}\n",
      "Using Loss: mean_squared_error \n",
      "and Reduction Metric: [<function custom_mae at 0x000001C2C8E7DAF8>]\n",
      "Monitor: val_custom_mae\n",
      "Train on 16000 samples, validate on 3968 samples\n",
      "15936/16000 [============================>.] - ETA: 0s - loss: 4024.8139 - custom_mae: 40.4111\n",
      "Epoch 00001: val_custom_mae improved from inf to 30.80821, saving model to ..\\fast_output\\SYNTH_Regression_MSE\\201019_2253_final_Angular_Base_Custom-MAE\\Best_Weights_FC_287.hdf5\n",
      "16000/16000 [==============================] - 5s 327us/sample - loss: 4020.4228 - custom_mae: 40.3784 - val_loss: 2621.5153 - val_custom_mae: 30.8082\n",
      "Time taken: 0:00:06.726553\n"
     ]
    },
    {
     "name": "stderr",
     "output_type": "stream",
     "text": [
      "\n",
      " 80%|████████████████████████████████████████████████████████████████                | 288/360 [50:13<09:29,  7.90s/it]\u001b[A"
     ]
    },
    {
     "name": "stdout",
     "output_type": "stream",
     "text": [
      "{'activation': 'relu', 'batch_size': 64, 'dropout': 0.25, 'epochs': 1, 'first_neuron': 2048, 'hidden_layers': 1, 'label_type': 'Angular', 'loss_function': 'mean_squared_error', 'lr': 1, 'monitor_value': 'val_custom_mae', 'optimizer': <class 'tensorflow.python.keras.optimizer_v2.adam.Adam'>, 'reduction_metric': 'custom_mae', 'samples': 20000}\n",
      "Using Loss: mean_squared_error \n",
      "and Reduction Metric: [<function custom_mae at 0x000001C2C8E7DAF8>]\n",
      "Monitor: val_custom_mae\n",
      "Train on 16000 samples, validate on 3968 samples\n",
      "15680/16000 [============================>.] - ETA: 0s - loss: 4129.9410 - custom_mae: 41.9269\n",
      "Epoch 00001: val_custom_mae improved from inf to 30.85838, saving model to ..\\fast_output\\SYNTH_Regression_MSE\\201019_2253_final_Angular_Base_Custom-MAE\\Best_Weights_FC_288.hdf5\n",
      "16000/16000 [==============================] - 5s 338us/sample - loss: 4096.4298 - custom_mae: 41.6972 - val_loss: 2739.0538 - val_custom_mae: 30.8584\n",
      "Time taken: 0:00:06.894587\n"
     ]
    },
    {
     "name": "stderr",
     "output_type": "stream",
     "text": [
      "\n",
      " 80%|████████████████████████████████████████████████████████████████▏               | 289/360 [50:22<09:35,  8.11s/it]\u001b[A"
     ]
    },
    {
     "name": "stdout",
     "output_type": "stream",
     "text": [
      "{'activation': 'relu', 'batch_size': 64, 'dropout': 0.25, 'epochs': 1, 'first_neuron': 2048, 'hidden_layers': 1, 'label_type': 'Angular', 'loss_function': 'mean_squared_error', 'lr': 2, 'monitor_value': 'val_custom_mae', 'optimizer': <class 'tensorflow.python.keras.optimizer_v2.adam.Adam'>, 'reduction_metric': 'custom_mae', 'samples': 20000}\n",
      "Using Loss: mean_squared_error \n",
      "and Reduction Metric: [<function custom_mae at 0x000001C2C8E7DAF8>]\n",
      "Monitor: val_custom_mae\n",
      "Train on 16000 samples, validate on 3968 samples\n",
      "15744/16000 [============================>.] - ETA: 0s - loss: 3859.7498 - custom_mae: 40.2899\n",
      "Epoch 00001: val_custom_mae improved from inf to 29.45223, saving model to ..\\fast_output\\SYNTH_Regression_MSE\\201019_2253_final_Angular_Base_Custom-MAE\\Best_Weights_FC_289.hdf5\n",
      "16000/16000 [==============================] - 5s 335us/sample - loss: 3837.2856 - custom_mae: 40.1209 - val_loss: 2624.0884 - val_custom_mae: 29.4522\n",
      "Time taken: 0:00:06.856687\n"
     ]
    },
    {
     "name": "stderr",
     "output_type": "stream",
     "text": [
      "\n",
      " 81%|████████████████████████████████████████████████████████████████▍               | 290/360 [50:30<09:36,  8.24s/it]\u001b[A"
     ]
    },
    {
     "name": "stdout",
     "output_type": "stream",
     "text": [
      "{'activation': 'relu', 'batch_size': 64, 'dropout': 0.25, 'epochs': 1, 'first_neuron': 2048, 'hidden_layers': 1, 'label_type': 'Angular', 'loss_function': 'mean_squared_error', 'lr': 5, 'monitor_value': 'val_custom_mae', 'optimizer': <class 'tensorflow.python.keras.optimizer_v2.adam.Adam'>, 'reduction_metric': 'custom_mae', 'samples': 20000}\n",
      "Using Loss: mean_squared_error \n",
      "and Reduction Metric: [<function custom_mae at 0x000001C2C8E7DAF8>]\n",
      "Monitor: val_custom_mae\n",
      "Train on 16000 samples, validate on 3968 samples\n",
      "15680/16000 [============================>.] - ETA: 0s - loss: 6577.8197 - custom_mae: 48.1903\n",
      "Epoch 00001: val_custom_mae improved from inf to 33.46371, saving model to ..\\fast_output\\SYNTH_Regression_MSE\\201019_2253_final_Angular_Base_Custom-MAE\\Best_Weights_FC_290.hdf5\n",
      "16000/16000 [==============================] - 5s 338us/sample - loss: 6503.1255 - custom_mae: 47.9419 - val_loss: 2861.5686 - val_custom_mae: 33.4637\n",
      "Time taken: 0:00:06.922874\n"
     ]
    },
    {
     "name": "stderr",
     "output_type": "stream",
     "text": [
      "\n",
      " 81%|████████████████████████████████████████████████████████████████▋               | 291/360 [50:39<09:36,  8.35s/it]\u001b[A"
     ]
    },
    {
     "name": "stdout",
     "output_type": "stream",
     "text": [
      "{'activation': 'relu', 'batch_size': 64, 'dropout': 0.25, 'epochs': 1, 'first_neuron': 2048, 'hidden_layers': 2, 'label_type': 'Angular', 'loss_function': 'mean_squared_error', 'lr': 1, 'monitor_value': 'val_custom_mae', 'optimizer': <class 'tensorflow.python.keras.optimizer_v2.adam.Adam'>, 'reduction_metric': 'custom_mae', 'samples': 20000}\n",
      "Using Loss: mean_squared_error \n",
      "and Reduction Metric: [<function custom_mae at 0x000001C2C8E7DAF8>]\n",
      "Monitor: val_custom_mae\n",
      "Train on 16000 samples, validate on 3968 samples\n",
      "15808/16000 [============================>.] - ETA: 0s - loss: 4625.4153 - custom_mae: 45.9441\n",
      "Epoch 00001: val_custom_mae improved from inf to 32.31971, saving model to ..\\fast_output\\SYNTH_Regression_MSE\\201019_2253_final_Angular_Base_Custom-MAE\\Best_Weights_FC_291.hdf5\n",
      "16000/16000 [==============================] - 6s 346us/sample - loss: 4601.8314 - custom_mae: 45.7724 - val_loss: 2887.3997 - val_custom_mae: 32.3197\n",
      "Time taken: 0:00:07.030593\n"
     ]
    },
    {
     "name": "stderr",
     "output_type": "stream",
     "text": [
      "\n",
      " 81%|████████████████████████████████████████████████████████████████▉               | 292/360 [50:48<09:36,  8.47s/it]\u001b[A"
     ]
    },
    {
     "name": "stdout",
     "output_type": "stream",
     "text": [
      "{'activation': 'relu', 'batch_size': 64, 'dropout': 0.25, 'epochs': 1, 'first_neuron': 2048, 'hidden_layers': 2, 'label_type': 'Angular', 'loss_function': 'mean_squared_error', 'lr': 2, 'monitor_value': 'val_custom_mae', 'optimizer': <class 'tensorflow.python.keras.optimizer_v2.adam.Adam'>, 'reduction_metric': 'custom_mae', 'samples': 20000}\n",
      "Using Loss: mean_squared_error \n",
      "and Reduction Metric: [<function custom_mae at 0x000001C2C8E7DAF8>]\n",
      "Monitor: val_custom_mae\n",
      "Train on 16000 samples, validate on 3968 samples\n",
      "15808/16000 [============================>.] - ETA: 0s - loss: 4846.1819 - custom_mae: 46.6597\n",
      "Epoch 00001: val_custom_mae improved from inf to 31.30861, saving model to ..\\fast_output\\SYNTH_Regression_MSE\\201019_2253_final_Angular_Base_Custom-MAE\\Best_Weights_FC_292.hdf5\n",
      "16000/16000 [==============================] - 5s 343us/sample - loss: 4824.4939 - custom_mae: 46.5097 - val_loss: 2816.3554 - val_custom_mae: 31.3086\n",
      "Time taken: 0:00:06.977905\n"
     ]
    },
    {
     "name": "stderr",
     "output_type": "stream",
     "text": [
      "\n",
      " 81%|█████████████████████████████████████████████████████████████████               | 293/360 [50:56<09:31,  8.54s/it]\u001b[A"
     ]
    },
    {
     "name": "stdout",
     "output_type": "stream",
     "text": [
      "{'activation': 'relu', 'batch_size': 64, 'dropout': 0.25, 'epochs': 1, 'first_neuron': 2048, 'hidden_layers': 2, 'label_type': 'Angular', 'loss_function': 'mean_squared_error', 'lr': 5, 'monitor_value': 'val_custom_mae', 'optimizer': <class 'tensorflow.python.keras.optimizer_v2.adam.Adam'>, 'reduction_metric': 'custom_mae', 'samples': 20000}\n",
      "Using Loss: mean_squared_error \n",
      "and Reduction Metric: [<function custom_mae at 0x000001C2C8E7DAF8>]\n",
      "Monitor: val_custom_mae\n",
      "Train on 16000 samples, validate on 3968 samples\n",
      "15680/16000 [============================>.] - ETA: 0s - loss: 8961.6321 - custom_mae: 52.5074\n",
      "Epoch 00001: val_custom_mae improved from inf to 34.04994, saving model to ..\\fast_output\\SYNTH_Regression_MSE\\201019_2253_final_Angular_Base_Custom-MAE\\Best_Weights_FC_293.hdf5\n",
      "16000/16000 [==============================] - 6s 345us/sample - loss: 8845.0959 - custom_mae: 52.1999 - val_loss: 2901.1094 - val_custom_mae: 34.0499\n",
      "Time taken: 0:00:07.017954\n"
     ]
    },
    {
     "name": "stderr",
     "output_type": "stream",
     "text": [
      "\n",
      " 82%|█████████████████████████████████████████████████████████████████▎              | 294/360 [51:05<09:27,  8.60s/it]\u001b[A"
     ]
    },
    {
     "name": "stdout",
     "output_type": "stream",
     "text": [
      "{'activation': 'relu', 'batch_size': 64, 'dropout': 0.25, 'epochs': 1, 'first_neuron': 2048, 'hidden_layers': 3, 'label_type': 'Angular', 'loss_function': 'mean_squared_error', 'lr': 1, 'monitor_value': 'val_custom_mae', 'optimizer': <class 'tensorflow.python.keras.optimizer_v2.adam.Adam'>, 'reduction_metric': 'custom_mae', 'samples': 20000}\n",
      "Using Loss: mean_squared_error \n",
      "and Reduction Metric: [<function custom_mae at 0x000001C2C8E7DAF8>]\n",
      "Monitor: val_custom_mae\n",
      "Train on 16000 samples, validate on 3968 samples\n",
      "15936/16000 [============================>.] - ETA: 0s - loss: 4809.7162 - custom_mae: 47.8604\n",
      "Epoch 00001: val_custom_mae improved from inf to 34.18331, saving model to ..\\fast_output\\SYNTH_Regression_MSE\\201019_2253_final_Angular_Base_Custom-MAE\\Best_Weights_FC_294.hdf5\n",
      "16000/16000 [==============================] - 6s 349us/sample - loss: 4804.6641 - custom_mae: 47.8158 - val_loss: 3093.0439 - val_custom_mae: 34.1833\n",
      "Time taken: 0:00:07.072103\n"
     ]
    },
    {
     "name": "stderr",
     "output_type": "stream",
     "text": [
      "\n",
      " 82%|█████████████████████████████████████████████████████████████████▌              | 295/360 [51:14<09:23,  8.66s/it]\u001b[A"
     ]
    },
    {
     "name": "stdout",
     "output_type": "stream",
     "text": [
      "{'activation': 'relu', 'batch_size': 64, 'dropout': 0.25, 'epochs': 1, 'first_neuron': 2048, 'hidden_layers': 3, 'label_type': 'Angular', 'loss_function': 'mean_squared_error', 'lr': 2, 'monitor_value': 'val_custom_mae', 'optimizer': <class 'tensorflow.python.keras.optimizer_v2.adam.Adam'>, 'reduction_metric': 'custom_mae', 'samples': 20000}\n",
      "Using Loss: mean_squared_error \n",
      "and Reduction Metric: [<function custom_mae at 0x000001C2C8E7DAF8>]\n",
      "Monitor: val_custom_mae\n",
      "Train on 16000 samples, validate on 3968 samples\n",
      "15744/16000 [============================>.] - ETA: 0s - loss: 6187.5216 - custom_mae: 54.1589\n",
      "Epoch 00001: val_custom_mae improved from inf to 36.41525, saving model to ..\\fast_output\\SYNTH_Regression_MSE\\201019_2253_final_Angular_Base_Custom-MAE\\Best_Weights_FC_295.hdf5\n",
      "16000/16000 [==============================] - 6s 351us/sample - loss: 6142.4747 - custom_mae: 53.9268 - val_loss: 3290.9597 - val_custom_mae: 36.4152\n",
      "Time taken: 0:00:07.113306\n"
     ]
    },
    {
     "name": "stderr",
     "output_type": "stream",
     "text": [
      "\n",
      " 82%|█████████████████████████████████████████████████████████████████▊              | 296/360 [51:23<09:17,  8.71s/it]\u001b[A"
     ]
    },
    {
     "name": "stdout",
     "output_type": "stream",
     "text": [
      "{'activation': 'relu', 'batch_size': 64, 'dropout': 0.25, 'epochs': 1, 'first_neuron': 2048, 'hidden_layers': 3, 'label_type': 'Angular', 'loss_function': 'mean_squared_error', 'lr': 5, 'monitor_value': 'val_custom_mae', 'optimizer': <class 'tensorflow.python.keras.optimizer_v2.adam.Adam'>, 'reduction_metric': 'custom_mae', 'samples': 20000}\n",
      "Using Loss: mean_squared_error \n",
      "and Reduction Metric: [<function custom_mae at 0x000001C2C8E7DAF8>]\n",
      "Monitor: val_custom_mae\n",
      "Train on 16000 samples, validate on 3968 samples\n",
      "15744/16000 [============================>.] - ETA: 0s - loss: 8783.3393 - custom_mae: 54.9961\n",
      "Epoch 00001: val_custom_mae improved from inf to 35.93687, saving model to ..\\fast_output\\SYNTH_Regression_MSE\\201019_2253_final_Angular_Base_Custom-MAE\\Best_Weights_FC_296.hdf5\n",
      "16000/16000 [==============================] - 6s 348us/sample - loss: 8695.8188 - custom_mae: 54.7611 - val_loss: 3105.1859 - val_custom_mae: 35.9369\n",
      "Time taken: 0:00:07.057257\n"
     ]
    },
    {
     "name": "stderr",
     "output_type": "stream",
     "text": [
      "\n",
      " 82%|██████████████████████████████████████████████████████████████████              | 297/360 [51:31<09:10,  8.74s/it]\u001b[A"
     ]
    },
    {
     "name": "stdout",
     "output_type": "stream",
     "text": [
      "{'activation': 'relu', 'batch_size': 64, 'dropout': 0.25, 'epochs': 1, 'first_neuron': 2048, 'hidden_layers': 4, 'label_type': 'Angular', 'loss_function': 'mean_squared_error', 'lr': 1, 'monitor_value': 'val_custom_mae', 'optimizer': <class 'tensorflow.python.keras.optimizer_v2.adam.Adam'>, 'reduction_metric': 'custom_mae', 'samples': 20000}\n",
      "Using Loss: mean_squared_error \n",
      "and Reduction Metric: [<function custom_mae at 0x000001C2C8E7DAF8>]\n",
      "Monitor: val_custom_mae\n",
      "Train on 16000 samples, validate on 3968 samples\n",
      "15680/16000 [============================>.] - ETA: 0s - loss: 5109.1926 - custom_mae: 50.7499\n",
      "Epoch 00001: val_custom_mae improved from inf to 33.86501, saving model to ..\\fast_output\\SYNTH_Regression_MSE\\201019_2253_final_Angular_Base_Custom-MAE\\Best_Weights_FC_297.hdf5\n",
      "16000/16000 [==============================] - 6s 357us/sample - loss: 5066.0322 - custom_mae: 50.4667 - val_loss: 2878.8146 - val_custom_mae: 33.8650\n",
      "Time taken: 0:00:07.207268\n"
     ]
    },
    {
     "name": "stderr",
     "output_type": "stream",
     "text": [
      "\n",
      " 83%|██████████████████████████████████████████████████████████████████▏             | 298/360 [51:40<09:06,  8.81s/it]\u001b[A"
     ]
    },
    {
     "name": "stdout",
     "output_type": "stream",
     "text": [
      "{'activation': 'relu', 'batch_size': 64, 'dropout': 0.25, 'epochs': 1, 'first_neuron': 2048, 'hidden_layers': 4, 'label_type': 'Angular', 'loss_function': 'mean_squared_error', 'lr': 2, 'monitor_value': 'val_custom_mae', 'optimizer': <class 'tensorflow.python.keras.optimizer_v2.adam.Adam'>, 'reduction_metric': 'custom_mae', 'samples': 20000}\n",
      "Using Loss: mean_squared_error \n",
      "and Reduction Metric: [<function custom_mae at 0x000001C2C8E7DAF8>]\n",
      "Monitor: val_custom_mae\n",
      "Train on 16000 samples, validate on 3968 samples\n",
      "15744/16000 [============================>.] - ETA: 0s - loss: 6679.7966 - custom_mae: 56.9757\n",
      "Epoch 00001: val_custom_mae improved from inf to 43.91244, saving model to ..\\fast_output\\SYNTH_Regression_MSE\\201019_2253_final_Angular_Base_Custom-MAE\\Best_Weights_FC_298.hdf5\n",
      "16000/16000 [==============================] - 6s 351us/sample - loss: 6634.7974 - custom_mae: 56.7927 - val_loss: 3650.8308 - val_custom_mae: 43.9124\n",
      "Time taken: 0:00:07.109671\n"
     ]
    },
    {
     "name": "stderr",
     "output_type": "stream",
     "text": [
      "\n",
      " 83%|██████████████████████████████████████████████████████████████████▍             | 299/360 [51:49<08:58,  8.83s/it]\u001b[A"
     ]
    },
    {
     "name": "stdout",
     "output_type": "stream",
     "text": [
      "{'activation': 'relu', 'batch_size': 64, 'dropout': 0.25, 'epochs': 1, 'first_neuron': 2048, 'hidden_layers': 4, 'label_type': 'Angular', 'loss_function': 'mean_squared_error', 'lr': 5, 'monitor_value': 'val_custom_mae', 'optimizer': <class 'tensorflow.python.keras.optimizer_v2.adam.Adam'>, 'reduction_metric': 'custom_mae', 'samples': 20000}\n",
      "Using Loss: mean_squared_error \n",
      "and Reduction Metric: [<function custom_mae at 0x000001C2C8E7DAF8>]\n",
      "Monitor: val_custom_mae\n",
      "Train on 16000 samples, validate on 3968 samples\n",
      "15680/16000 [============================>.] - ETA: 0s - loss: 9208.2119 - custom_mae: 57.8754\n",
      "Epoch 00001: val_custom_mae improved from inf to 52.09109, saving model to ..\\fast_output\\SYNTH_Regression_MSE\\201019_2253_final_Angular_Base_Custom-MAE\\Best_Weights_FC_299.hdf5\n",
      "16000/16000 [==============================] - 6s 357us/sample - loss: 9115.6190 - custom_mae: 57.6685 - val_loss: 5410.7705 - val_custom_mae: 52.0911\n",
      "Time taken: 0:00:07.194304\n"
     ]
    },
    {
     "name": "stderr",
     "output_type": "stream",
     "text": [
      "\n",
      " 83%|██████████████████████████████████████████████████████████████████▋             | 300/360 [51:58<08:52,  8.87s/it]\u001b[A"
     ]
    },
    {
     "name": "stdout",
     "output_type": "stream",
     "text": [
      "{'activation': 'relu', 'batch_size': 64, 'dropout': 0.25, 'epochs': 1, 'first_neuron': 4096, 'hidden_layers': 0, 'label_type': 'Angular', 'loss_function': 'mean_squared_error', 'lr': 1, 'monitor_value': 'val_custom_mae', 'optimizer': <class 'tensorflow.python.keras.optimizer_v2.adam.Adam'>, 'reduction_metric': 'custom_mae', 'samples': 20000}\n",
      "Using Loss: mean_squared_error \n",
      "and Reduction Metric: [<function custom_mae at 0x000001C2C8E7DAF8>]\n",
      "Monitor: val_custom_mae\n",
      "Train on 16000 samples, validate on 3968 samples\n",
      "15936/16000 [============================>.] - ETA: 0s - loss: 4066.7314 - custom_mae: 40.6558\n",
      "Epoch 00001: val_custom_mae improved from inf to 32.07732, saving model to ..\\fast_output\\SYNTH_Regression_MSE\\201019_2253_final_Angular_Base_Custom-MAE\\Best_Weights_FC_300.hdf5\n",
      "16000/16000 [==============================] - 9s 571us/sample - loss: 4062.1735 - custom_mae: 40.6129 - val_loss: 2910.2195 - val_custom_mae: 32.0773\n",
      "Time taken: 0:00:10.623560\n"
     ]
    },
    {
     "name": "stderr",
     "output_type": "stream",
     "text": [
      "\n",
      " 84%|██████████████████████████████████████████████████████████████████▉             | 301/360 [52:11<09:44,  9.91s/it]\u001b[A"
     ]
    },
    {
     "name": "stdout",
     "output_type": "stream",
     "text": [
      "{'activation': 'relu', 'batch_size': 64, 'dropout': 0.25, 'epochs': 1, 'first_neuron': 4096, 'hidden_layers': 0, 'label_type': 'Angular', 'loss_function': 'mean_squared_error', 'lr': 2, 'monitor_value': 'val_custom_mae', 'optimizer': <class 'tensorflow.python.keras.optimizer_v2.adam.Adam'>, 'reduction_metric': 'custom_mae', 'samples': 20000}\n",
      "Using Loss: mean_squared_error \n",
      "and Reduction Metric: [<function custom_mae at 0x000001C2C8E7DAF8>]\n",
      "Monitor: val_custom_mae\n",
      "Train on 16000 samples, validate on 3968 samples\n",
      "15872/16000 [============================>.] - ETA: 0s - loss: 3840.0543 - custom_mae: 39.2018\n",
      "Epoch 00001: val_custom_mae improved from inf to 29.66089, saving model to ..\\fast_output\\SYNTH_Regression_MSE\\201019_2253_final_Angular_Base_Custom-MAE\\Best_Weights_FC_301.hdf5\n",
      "16000/16000 [==============================] - 9s 569us/sample - loss: 3828.8941 - custom_mae: 39.1113 - val_loss: 2632.0296 - val_custom_mae: 29.6609\n",
      "Time taken: 0:00:10.608256\n"
     ]
    },
    {
     "name": "stderr",
     "output_type": "stream",
     "text": [
      "\n",
      " 84%|███████████████████████████████████████████████████████████████████             | 302/360 [52:23<10:15, 10.62s/it]\u001b[A"
     ]
    },
    {
     "name": "stdout",
     "output_type": "stream",
     "text": [
      "{'activation': 'relu', 'batch_size': 64, 'dropout': 0.25, 'epochs': 1, 'first_neuron': 4096, 'hidden_layers': 0, 'label_type': 'Angular', 'loss_function': 'mean_squared_error', 'lr': 5, 'monitor_value': 'val_custom_mae', 'optimizer': <class 'tensorflow.python.keras.optimizer_v2.adam.Adam'>, 'reduction_metric': 'custom_mae', 'samples': 20000}\n",
      "Using Loss: mean_squared_error \n",
      "and Reduction Metric: [<function custom_mae at 0x000001C2C8E7DAF8>]\n",
      "Monitor: val_custom_mae\n",
      "Train on 16000 samples, validate on 3968 samples\n",
      "15936/16000 [============================>.] - ETA: 0s - loss: 4632.3394 - custom_mae: 43.1363\n",
      "Epoch 00001: val_custom_mae improved from inf to 31.86822, saving model to ..\\fast_output\\SYNTH_Regression_MSE\\201019_2253_final_Angular_Base_Custom-MAE\\Best_Weights_FC_302.hdf5\n",
      "16000/16000 [==============================] - 9s 571us/sample - loss: 4624.8111 - custom_mae: 43.0820 - val_loss: 2795.1463 - val_custom_mae: 31.8682\n",
      "Time taken: 0:00:10.641045\n"
     ]
    },
    {
     "name": "stderr",
     "output_type": "stream",
     "text": [
      "\n",
      " 84%|███████████████████████████████████████████████████████████████████▎            | 303/360 [52:35<10:34, 11.13s/it]\u001b[A"
     ]
    },
    {
     "name": "stdout",
     "output_type": "stream",
     "text": [
      "{'activation': 'relu', 'batch_size': 64, 'dropout': 0.25, 'epochs': 1, 'first_neuron': 4096, 'hidden_layers': 1, 'label_type': 'Angular', 'loss_function': 'mean_squared_error', 'lr': 1, 'monitor_value': 'val_custom_mae', 'optimizer': <class 'tensorflow.python.keras.optimizer_v2.adam.Adam'>, 'reduction_metric': 'custom_mae', 'samples': 20000}\n",
      "Using Loss: mean_squared_error \n",
      "and Reduction Metric: [<function custom_mae at 0x000001C2C8E7DAF8>]\n",
      "Monitor: val_custom_mae\n",
      "Train on 16000 samples, validate on 3968 samples\n",
      "15872/16000 [============================>.] - ETA: 0s - loss: 4490.3660 - custom_mae: 44.1047\n",
      "Epoch 00001: val_custom_mae improved from inf to 31.25777, saving model to ..\\fast_output\\SYNTH_Regression_MSE\\201019_2253_final_Angular_Base_Custom-MAE\\Best_Weights_FC_303.hdf5\n",
      "16000/16000 [==============================] - 10s 606us/sample - loss: 4475.8488 - custom_mae: 43.9947 - val_loss: 2723.6234 - val_custom_mae: 31.2578\n",
      "Time taken: 0:00:11.198235\n"
     ]
    },
    {
     "name": "stderr",
     "output_type": "stream",
     "text": [
      "\n",
      " 84%|███████████████████████████████████████████████████████████████████▌            | 304/360 [52:48<10:53, 11.67s/it]\u001b[A"
     ]
    },
    {
     "name": "stdout",
     "output_type": "stream",
     "text": [
      "{'activation': 'relu', 'batch_size': 64, 'dropout': 0.25, 'epochs': 1, 'first_neuron': 4096, 'hidden_layers': 1, 'label_type': 'Angular', 'loss_function': 'mean_squared_error', 'lr': 2, 'monitor_value': 'val_custom_mae', 'optimizer': <class 'tensorflow.python.keras.optimizer_v2.adam.Adam'>, 'reduction_metric': 'custom_mae', 'samples': 20000}\n",
      "Using Loss: mean_squared_error \n",
      "and Reduction Metric: [<function custom_mae at 0x000001C2C8E7DAF8>]\n",
      "Monitor: val_custom_mae\n",
      "Train on 16000 samples, validate on 3968 samples\n",
      "15872/16000 [============================>.] - ETA: 0s - loss: 4745.1940 - custom_mae: 44.4825\n",
      "Epoch 00001: val_custom_mae improved from inf to 30.03134, saving model to ..\\fast_output\\SYNTH_Regression_MSE\\201019_2253_final_Angular_Base_Custom-MAE\\Best_Weights_FC_304.hdf5\n",
      "16000/16000 [==============================] - 10s 602us/sample - loss: 4728.0820 - custom_mae: 44.3704 - val_loss: 2649.6247 - val_custom_mae: 30.0313\n",
      "Time taken: 0:00:11.131646\n"
     ]
    },
    {
     "name": "stderr",
     "output_type": "stream",
     "text": [
      "\n",
      " 85%|███████████████████████████████████████████████████████████████████▊            | 305/360 [53:01<11:00, 12.01s/it]\u001b[A"
     ]
    },
    {
     "name": "stdout",
     "output_type": "stream",
     "text": [
      "{'activation': 'relu', 'batch_size': 64, 'dropout': 0.25, 'epochs': 1, 'first_neuron': 4096, 'hidden_layers': 1, 'label_type': 'Angular', 'loss_function': 'mean_squared_error', 'lr': 5, 'monitor_value': 'val_custom_mae', 'optimizer': <class 'tensorflow.python.keras.optimizer_v2.adam.Adam'>, 'reduction_metric': 'custom_mae', 'samples': 20000}\n",
      "Using Loss: mean_squared_error \n",
      "and Reduction Metric: [<function custom_mae at 0x000001C2C8E7DAF8>]\n",
      "Monitor: val_custom_mae\n",
      "Train on 16000 samples, validate on 3968 samples\n",
      "15936/16000 [============================>.] - ETA: 0s - loss: 21474.1913 - custom_mae: 50.5786\n",
      "Epoch 00001: val_custom_mae improved from inf to 30.45527, saving model to ..\\fast_output\\SYNTH_Regression_MSE\\201019_2253_final_Angular_Base_Custom-MAE\\Best_Weights_FC_305.hdf5\n",
      "16000/16000 [==============================] - 10s 602us/sample - loss: 21401.1242 - custom_mae: 50.5126 - val_loss: 2630.8945 - val_custom_mae: 30.4553\n",
      "Time taken: 0:00:11.125463\n"
     ]
    },
    {
     "name": "stderr",
     "output_type": "stream",
     "text": [
      "\n",
      " 85%|████████████████████████████████████████████████████████████████████            | 306/360 [53:14<11:02, 12.26s/it]\u001b[A"
     ]
    },
    {
     "name": "stdout",
     "output_type": "stream",
     "text": [
      "{'activation': 'relu', 'batch_size': 64, 'dropout': 0.25, 'epochs': 1, 'first_neuron': 4096, 'hidden_layers': 2, 'label_type': 'Angular', 'loss_function': 'mean_squared_error', 'lr': 1, 'monitor_value': 'val_custom_mae', 'optimizer': <class 'tensorflow.python.keras.optimizer_v2.adam.Adam'>, 'reduction_metric': 'custom_mae', 'samples': 20000}\n",
      "Using Loss: mean_squared_error \n",
      "and Reduction Metric: [<function custom_mae at 0x000001C2C8E7DAF8>]\n",
      "Monitor: val_custom_mae\n",
      "Train on 16000 samples, validate on 3968 samples\n",
      "15936/16000 [============================>.] - ETA: 0s - loss: 5155.9735 - custom_mae: 47.7094\n",
      "Epoch 00001: val_custom_mae improved from inf to 31.36482, saving model to ..\\fast_output\\SYNTH_Regression_MSE\\201019_2253_final_Angular_Base_Custom-MAE\\Best_Weights_FC_306.hdf5\n",
      "16000/16000 [==============================] - 10s 614us/sample - loss: 5147.6682 - custom_mae: 47.6539 - val_loss: 2783.2453 - val_custom_mae: 31.3648\n",
      "Time taken: 0:00:11.304152\n"
     ]
    },
    {
     "name": "stderr",
     "output_type": "stream",
     "text": [
      "\n",
      " 85%|████████████████████████████████████████████████████████████████████▏           | 307/360 [53:27<11:02, 12.50s/it]\u001b[A"
     ]
    },
    {
     "name": "stdout",
     "output_type": "stream",
     "text": [
      "{'activation': 'relu', 'batch_size': 64, 'dropout': 0.25, 'epochs': 1, 'first_neuron': 4096, 'hidden_layers': 2, 'label_type': 'Angular', 'loss_function': 'mean_squared_error', 'lr': 2, 'monitor_value': 'val_custom_mae', 'optimizer': <class 'tensorflow.python.keras.optimizer_v2.adam.Adam'>, 'reduction_metric': 'custom_mae', 'samples': 20000}\n",
      "Using Loss: mean_squared_error \n",
      "and Reduction Metric: [<function custom_mae at 0x000001C2C8E7DAF8>]\n",
      "Monitor: val_custom_mae\n",
      "Train on 16000 samples, validate on 3968 samples\n",
      "15936/16000 [============================>.] - ETA: 0s - loss: 5231.9965 - custom_mae: 46.2748\n",
      "Epoch 00001: val_custom_mae improved from inf to 30.34685, saving model to ..\\fast_output\\SYNTH_Regression_MSE\\201019_2253_final_Angular_Base_Custom-MAE\\Best_Weights_FC_307.hdf5\n",
      "16000/16000 [==============================] - 10s 619us/sample - loss: 5224.1283 - custom_mae: 46.2313 - val_loss: 2552.9171 - val_custom_mae: 30.3468\n",
      "Time taken: 0:00:11.397712\n"
     ]
    },
    {
     "name": "stderr",
     "output_type": "stream",
     "text": [
      "\n",
      " 86%|████████████████████████████████████████████████████████████████████▍           | 308/360 [53:40<10:59, 12.68s/it]\u001b[A"
     ]
    },
    {
     "name": "stdout",
     "output_type": "stream",
     "text": [
      "{'activation': 'relu', 'batch_size': 64, 'dropout': 0.25, 'epochs': 1, 'first_neuron': 4096, 'hidden_layers': 2, 'label_type': 'Angular', 'loss_function': 'mean_squared_error', 'lr': 5, 'monitor_value': 'val_custom_mae', 'optimizer': <class 'tensorflow.python.keras.optimizer_v2.adam.Adam'>, 'reduction_metric': 'custom_mae', 'samples': 20000}\n",
      "Using Loss: mean_squared_error \n",
      "and Reduction Metric: [<function custom_mae at 0x000001C2C8E7DAF8>]\n",
      "Monitor: val_custom_mae\n",
      "Train on 16000 samples, validate on 3968 samples\n",
      "15872/16000 [============================>.] - ETA: 0s - loss: 142257.7595 - custom_mae: 68.9397\n",
      "Epoch 00001: val_custom_mae improved from inf to 32.45132, saving model to ..\\fast_output\\SYNTH_Regression_MSE\\201019_2253_final_Angular_Base_Custom-MAE\\Best_Weights_FC_308.hdf5\n",
      "16000/16000 [==============================] - 10s 619us/sample - loss: 141146.8122 - custom_mae: 68.6937 - val_loss: 2792.2159 - val_custom_mae: 32.4513\n",
      "Time taken: 0:00:11.382154\n"
     ]
    },
    {
     "name": "stderr",
     "output_type": "stream",
     "text": [
      "\n",
      " 86%|████████████████████████████████████████████████████████████████████▋           | 309/360 [53:53<10:53, 12.81s/it]\u001b[A"
     ]
    },
    {
     "name": "stdout",
     "output_type": "stream",
     "text": [
      "{'activation': 'relu', 'batch_size': 64, 'dropout': 0.25, 'epochs': 1, 'first_neuron': 4096, 'hidden_layers': 3, 'label_type': 'Angular', 'loss_function': 'mean_squared_error', 'lr': 1, 'monitor_value': 'val_custom_mae', 'optimizer': <class 'tensorflow.python.keras.optimizer_v2.adam.Adam'>, 'reduction_metric': 'custom_mae', 'samples': 20000}\n",
      "Using Loss: mean_squared_error \n",
      "and Reduction Metric: [<function custom_mae at 0x000001C2C8E7DAF8>]\n",
      "Monitor: val_custom_mae\n",
      "Train on 16000 samples, validate on 3968 samples\n",
      "15872/16000 [============================>.] - ETA: 0s - loss: 4985.0499 - custom_mae: 47.4517\n",
      "Epoch 00001: val_custom_mae improved from inf to 30.17817, saving model to ..\\fast_output\\SYNTH_Regression_MSE\\201019_2253_final_Angular_Base_Custom-MAE\\Best_Weights_FC_309.hdf5\n",
      "16000/16000 [==============================] - 10s 626us/sample - loss: 4968.2901 - custom_mae: 47.3389 - val_loss: 2595.5795 - val_custom_mae: 30.1782\n",
      "Time taken: 0:00:11.497448\n"
     ]
    },
    {
     "name": "stderr",
     "output_type": "stream",
     "text": [
      "\n",
      " 86%|████████████████████████████████████████████████████████████████████▉           | 310/360 [54:06<10:47, 12.94s/it]\u001b[A"
     ]
    },
    {
     "name": "stdout",
     "output_type": "stream",
     "text": [
      "{'activation': 'relu', 'batch_size': 64, 'dropout': 0.25, 'epochs': 1, 'first_neuron': 4096, 'hidden_layers': 3, 'label_type': 'Angular', 'loss_function': 'mean_squared_error', 'lr': 2, 'monitor_value': 'val_custom_mae', 'optimizer': <class 'tensorflow.python.keras.optimizer_v2.adam.Adam'>, 'reduction_metric': 'custom_mae', 'samples': 20000}\n",
      "Using Loss: mean_squared_error \n",
      "and Reduction Metric: [<function custom_mae at 0x000001C2C8E7DAF8>]\n",
      "Monitor: val_custom_mae\n",
      "Train on 16000 samples, validate on 3968 samples\n",
      "15872/16000 [============================>.] - ETA: 0s - loss: 5121.7631 - custom_mae: 50.1618\n",
      "Epoch 00001: val_custom_mae improved from inf to 33.94375, saving model to ..\\fast_output\\SYNTH_Regression_MSE\\201019_2253_final_Angular_Base_Custom-MAE\\Best_Weights_FC_310.hdf5\n",
      "16000/16000 [==============================] - 10s 622us/sample - loss: 5104.5940 - custom_mae: 50.0453 - val_loss: 2833.2443 - val_custom_mae: 33.9437\n",
      "Time taken: 0:00:11.452113\n"
     ]
    },
    {
     "name": "stderr",
     "output_type": "stream",
     "text": [
      "\n",
      " 86%|█████████████████████████████████████████████████████████████████████           | 311/360 [54:19<10:37, 13.02s/it]\u001b[A"
     ]
    },
    {
     "name": "stdout",
     "output_type": "stream",
     "text": [
      "{'activation': 'relu', 'batch_size': 64, 'dropout': 0.25, 'epochs': 1, 'first_neuron': 4096, 'hidden_layers': 3, 'label_type': 'Angular', 'loss_function': 'mean_squared_error', 'lr': 5, 'monitor_value': 'val_custom_mae', 'optimizer': <class 'tensorflow.python.keras.optimizer_v2.adam.Adam'>, 'reduction_metric': 'custom_mae', 'samples': 20000}\n",
      "Using Loss: mean_squared_error \n",
      "and Reduction Metric: [<function custom_mae at 0x000001C2C8E7DAF8>]\n",
      "Monitor: val_custom_mae\n",
      "Train on 16000 samples, validate on 3968 samples\n",
      "15936/16000 [============================>.] - ETA: 0s - loss: 171085.8081 - custom_mae: 76.9292\n",
      "Epoch 00001: val_custom_mae improved from inf to 44.06470, saving model to ..\\fast_output\\SYNTH_Regression_MSE\\201019_2253_final_Angular_Base_Custom-MAE\\Best_Weights_FC_311.hdf5\n",
      "16000/16000 [==============================] - 10s 625us/sample - loss: 170416.5593 - custom_mae: 76.7883 - val_loss: 4481.6603 - val_custom_mae: 44.0647\n",
      "Time taken: 0:00:11.486417\n"
     ]
    },
    {
     "name": "stderr",
     "output_type": "stream",
     "text": [
      "\n",
      " 87%|█████████████████████████████████████████████████████████████████████▎          | 312/360 [54:33<10:27, 13.08s/it]\u001b[A"
     ]
    },
    {
     "name": "stdout",
     "output_type": "stream",
     "text": [
      "{'activation': 'relu', 'batch_size': 64, 'dropout': 0.25, 'epochs': 1, 'first_neuron': 4096, 'hidden_layers': 4, 'label_type': 'Angular', 'loss_function': 'mean_squared_error', 'lr': 1, 'monitor_value': 'val_custom_mae', 'optimizer': <class 'tensorflow.python.keras.optimizer_v2.adam.Adam'>, 'reduction_metric': 'custom_mae', 'samples': 20000}\n",
      "Using Loss: mean_squared_error \n",
      "and Reduction Metric: [<function custom_mae at 0x000001C2C8E7DAF8>]\n",
      "Monitor: val_custom_mae\n",
      "Train on 16000 samples, validate on 3968 samples\n",
      "15936/16000 [============================>.] - ETA: 0s - loss: 5233.7810 - custom_mae: 51.9097\n",
      "Epoch 00001: val_custom_mae improved from inf to 41.08066, saving model to ..\\fast_output\\SYNTH_Regression_MSE\\201019_2253_final_Angular_Base_Custom-MAE\\Best_Weights_FC_312.hdf5\n",
      "16000/16000 [==============================] - 10s 630us/sample - loss: 5227.3424 - custom_mae: 51.8700 - val_loss: 3367.1847 - val_custom_mae: 41.0807\n",
      "Time taken: 0:00:11.563870\n"
     ]
    },
    {
     "name": "stderr",
     "output_type": "stream",
     "text": [
      "\n",
      " 87%|█████████████████████████████████████████████████████████████████████▌          | 313/360 [54:46<10:18, 13.16s/it]\u001b[A"
     ]
    },
    {
     "name": "stdout",
     "output_type": "stream",
     "text": [
      "{'activation': 'relu', 'batch_size': 64, 'dropout': 0.25, 'epochs': 1, 'first_neuron': 4096, 'hidden_layers': 4, 'label_type': 'Angular', 'loss_function': 'mean_squared_error', 'lr': 2, 'monitor_value': 'val_custom_mae', 'optimizer': <class 'tensorflow.python.keras.optimizer_v2.adam.Adam'>, 'reduction_metric': 'custom_mae', 'samples': 20000}\n",
      "Using Loss: mean_squared_error \n",
      "and Reduction Metric: [<function custom_mae at 0x000001C2C8E7DAF8>]\n",
      "Monitor: val_custom_mae\n",
      "Train on 16000 samples, validate on 3968 samples\n",
      "15936/16000 [============================>.] - ETA: 0s - loss: 5925.9685 - custom_mae: 54.3910 ETA: 1s - loss: 6\n",
      "Epoch 00001: val_custom_mae improved from inf to 41.45988, saving model to ..\\fast_output\\SYNTH_Regression_MSE\\201019_2253_final_Angular_Base_Custom-MAE\\Best_Weights_FC_313.hdf5\n",
      "16000/16000 [==============================] - 10s 626us/sample - loss: 5917.3983 - custom_mae: 54.3433 - val_loss: 3332.2412 - val_custom_mae: 41.4599\n",
      "Time taken: 0:00:11.497113\n"
     ]
    },
    {
     "name": "stderr",
     "output_type": "stream",
     "text": [
      "\n",
      " 87%|█████████████████████████████████████████████████████████████████████▊          | 314/360 [54:59<10:06, 13.19s/it]\u001b[A"
     ]
    },
    {
     "name": "stdout",
     "output_type": "stream",
     "text": [
      "{'activation': 'relu', 'batch_size': 64, 'dropout': 0.25, 'epochs': 1, 'first_neuron': 4096, 'hidden_layers': 4, 'label_type': 'Angular', 'loss_function': 'mean_squared_error', 'lr': 5, 'monitor_value': 'val_custom_mae', 'optimizer': <class 'tensorflow.python.keras.optimizer_v2.adam.Adam'>, 'reduction_metric': 'custom_mae', 'samples': 20000}\n",
      "Using Loss: mean_squared_error \n",
      "and Reduction Metric: [<function custom_mae at 0x000001C2C8E7DAF8>]\n",
      "Monitor: val_custom_mae\n",
      "Train on 16000 samples, validate on 3968 samples\n",
      "15872/16000 [============================>.] - ETA: 0s - loss: 110989.4494 - custom_mae: 72.7646\n",
      "Epoch 00001: val_custom_mae improved from inf to 39.66552, saving model to ..\\fast_output\\SYNTH_Regression_MSE\\201019_2253_final_Angular_Base_Custom-MAE\\Best_Weights_FC_314.hdf5\n",
      "16000/16000 [==============================] - 10s 628us/sample - loss: 110133.1339 - custom_mae: 72.5410 - val_loss: 3217.7185 - val_custom_mae: 39.6655\n",
      "Time taken: 0:00:11.548750\n"
     ]
    },
    {
     "name": "stderr",
     "output_type": "stream",
     "text": [
      "\n",
      " 88%|██████████████████████████████████████████████████████████████████████          | 315/360 [55:13<09:55, 13.23s/it]\u001b[A"
     ]
    },
    {
     "name": "stdout",
     "output_type": "stream",
     "text": [
      "{'activation': 'relu', 'batch_size': 64, 'dropout': 0.5, 'epochs': 1, 'first_neuron': 1024, 'hidden_layers': 0, 'label_type': 'Angular', 'loss_function': 'mean_squared_error', 'lr': 1, 'monitor_value': 'val_custom_mae', 'optimizer': <class 'tensorflow.python.keras.optimizer_v2.adam.Adam'>, 'reduction_metric': 'custom_mae', 'samples': 20000}\n",
      "Using Loss: mean_squared_error \n",
      "and Reduction Metric: [<function custom_mae at 0x000001C2C8E7DAF8>]\n",
      "Monitor: val_custom_mae\n",
      "Train on 16000 samples, validate on 3968 samples\n",
      "15872/16000 [============================>.] - ETA: 0s - loss: 4690.6126 - custom_mae: 45.5323\n",
      "Epoch 00001: val_custom_mae improved from inf to 37.33245, saving model to ..\\fast_output\\SYNTH_Regression_MSE\\201019_2253_final_Angular_Base_Custom-MAE\\Best_Weights_FC_315.hdf5\n",
      "16000/16000 [==============================] - 3s 206us/sample - loss: 4679.0809 - custom_mae: 45.4490 - val_loss: 3633.8085 - val_custom_mae: 37.3324\n",
      "Time taken: 0:00:04.790875\n"
     ]
    },
    {
     "name": "stderr",
     "output_type": "stream",
     "text": [
      "\n",
      " 88%|██████████████████████████████████████████████████████████████████████▏         | 316/360 [55:19<08:13, 11.21s/it]\u001b[A"
     ]
    },
    {
     "name": "stdout",
     "output_type": "stream",
     "text": [
      "{'activation': 'relu', 'batch_size': 64, 'dropout': 0.5, 'epochs': 1, 'first_neuron': 1024, 'hidden_layers': 0, 'label_type': 'Angular', 'loss_function': 'mean_squared_error', 'lr': 2, 'monitor_value': 'val_custom_mae', 'optimizer': <class 'tensorflow.python.keras.optimizer_v2.adam.Adam'>, 'reduction_metric': 'custom_mae', 'samples': 20000}\n",
      "Using Loss: mean_squared_error \n",
      "and Reduction Metric: [<function custom_mae at 0x000001C2C8E7DAF8>]\n",
      "Monitor: val_custom_mae\n",
      "Train on 16000 samples, validate on 3968 samples\n",
      "15616/16000 [============================>.] - ETA: 0s - loss: 4349.2948 - custom_mae: 43.2878\n",
      "Epoch 00001: val_custom_mae improved from inf to 35.18975, saving model to ..\\fast_output\\SYNTH_Regression_MSE\\201019_2253_final_Angular_Base_Custom-MAE\\Best_Weights_FC_316.hdf5\n",
      "16000/16000 [==============================] - 3s 206us/sample - loss: 4313.1622 - custom_mae: 43.0617 - val_loss: 3268.4718 - val_custom_mae: 35.1898\n",
      "Time taken: 0:00:04.805374\n"
     ]
    },
    {
     "name": "stderr",
     "output_type": "stream",
     "text": [
      "\n",
      " 88%|██████████████████████████████████████████████████████████████████████▍         | 317/360 [55:26<07:00,  9.78s/it]\u001b[A"
     ]
    },
    {
     "name": "stdout",
     "output_type": "stream",
     "text": [
      "{'activation': 'relu', 'batch_size': 64, 'dropout': 0.5, 'epochs': 1, 'first_neuron': 1024, 'hidden_layers': 0, 'label_type': 'Angular', 'loss_function': 'mean_squared_error', 'lr': 5, 'monitor_value': 'val_custom_mae', 'optimizer': <class 'tensorflow.python.keras.optimizer_v2.adam.Adam'>, 'reduction_metric': 'custom_mae', 'samples': 20000}\n",
      "Using Loss: mean_squared_error \n",
      "and Reduction Metric: [<function custom_mae at 0x000001C2C8E7DAF8>]\n",
      "Monitor: val_custom_mae\n",
      "Train on 16000 samples, validate on 3968 samples\n",
      "15424/16000 [===========================>..] - ETA: 0s - loss: 4214.8368 - custom_mae: 42.5863\n",
      "Epoch 00001: val_custom_mae improved from inf to 33.88301, saving model to ..\\fast_output\\SYNTH_Regression_MSE\\201019_2253_final_Angular_Base_Custom-MAE\\Best_Weights_FC_317.hdf5\n",
      "16000/16000 [==============================] - 3s 211us/sample - loss: 4170.8128 - custom_mae: 42.3074 - val_loss: 3052.9614 - val_custom_mae: 33.8830\n",
      "Time taken: 0:00:04.861214\n"
     ]
    },
    {
     "name": "stderr",
     "output_type": "stream",
     "text": [
      "\n",
      " 88%|██████████████████████████████████████████████████████████████████████▋         | 318/360 [55:32<06:10,  8.81s/it]\u001b[A"
     ]
    },
    {
     "name": "stdout",
     "output_type": "stream",
     "text": [
      "{'activation': 'relu', 'batch_size': 64, 'dropout': 0.5, 'epochs': 1, 'first_neuron': 1024, 'hidden_layers': 1, 'label_type': 'Angular', 'loss_function': 'mean_squared_error', 'lr': 1, 'monitor_value': 'val_custom_mae', 'optimizer': <class 'tensorflow.python.keras.optimizer_v2.adam.Adam'>, 'reduction_metric': 'custom_mae', 'samples': 20000}\n",
      "Using Loss: mean_squared_error \n",
      "and Reduction Metric: [<function custom_mae at 0x000001C2C8E7DAF8>]\n",
      "Monitor: val_custom_mae\n",
      "Train on 16000 samples, validate on 3968 samples\n",
      "15488/16000 [============================>.] - ETA: 0s - loss: 4946.4192 - custom_mae: 48.3978\n",
      "Epoch 00001: val_custom_mae improved from inf to 36.91930, saving model to ..\\fast_output\\SYNTH_Regression_MSE\\201019_2253_final_Angular_Base_Custom-MAE\\Best_Weights_FC_318.hdf5\n",
      "16000/16000 [==============================] - 3s 215us/sample - loss: 4890.6517 - custom_mae: 48.0368 - val_loss: 3477.3541 - val_custom_mae: 36.9193\n",
      "Time taken: 0:00:04.929066\n"
     ]
    },
    {
     "name": "stderr",
     "output_type": "stream",
     "text": [
      "\n",
      " 89%|██████████████████████████████████████████████████████████████████████▉         | 319/360 [55:39<05:34,  8.16s/it]\u001b[A"
     ]
    },
    {
     "name": "stdout",
     "output_type": "stream",
     "text": [
      "{'activation': 'relu', 'batch_size': 64, 'dropout': 0.5, 'epochs': 1, 'first_neuron': 1024, 'hidden_layers': 1, 'label_type': 'Angular', 'loss_function': 'mean_squared_error', 'lr': 2, 'monitor_value': 'val_custom_mae', 'optimizer': <class 'tensorflow.python.keras.optimizer_v2.adam.Adam'>, 'reduction_metric': 'custom_mae', 'samples': 20000}\n",
      "Using Loss: mean_squared_error \n",
      "and Reduction Metric: [<function custom_mae at 0x000001C2C8E7DAF8>]\n",
      "Monitor: val_custom_mae\n",
      "Train on 16000 samples, validate on 3968 samples\n",
      "15552/16000 [============================>.] - ETA: 0s - loss: 4714.8637 - custom_mae: 46.8439\n",
      "Epoch 00001: val_custom_mae improved from inf to 34.24034, saving model to ..\\fast_output\\SYNTH_Regression_MSE\\201019_2253_final_Angular_Base_Custom-MAE\\Best_Weights_FC_319.hdf5\n",
      "16000/16000 [==============================] - 3s 214us/sample - loss: 4670.0624 - custom_mae: 46.5573 - val_loss: 3065.7608 - val_custom_mae: 34.2403\n",
      "Time taken: 0:00:04.914875\n"
     ]
    },
    {
     "name": "stderr",
     "output_type": "stream",
     "text": [
      "\n",
      " 89%|███████████████████████████████████████████████████████████████████████         | 320/360 [55:45<05:07,  7.69s/it]\u001b[A"
     ]
    },
    {
     "name": "stdout",
     "output_type": "stream",
     "text": [
      "{'activation': 'relu', 'batch_size': 64, 'dropout': 0.5, 'epochs': 1, 'first_neuron': 1024, 'hidden_layers': 1, 'label_type': 'Angular', 'loss_function': 'mean_squared_error', 'lr': 5, 'monitor_value': 'val_custom_mae', 'optimizer': <class 'tensorflow.python.keras.optimizer_v2.adam.Adam'>, 'reduction_metric': 'custom_mae', 'samples': 20000}\n",
      "Using Loss: mean_squared_error \n",
      "and Reduction Metric: [<function custom_mae at 0x000001C2C8E7DAF8>]\n",
      "Monitor: val_custom_mae\n",
      "Train on 16000 samples, validate on 3968 samples\n",
      "15488/16000 [============================>.] - ETA: 0s - loss: 5450.9566 - custom_mae: 51.0523\n",
      "Epoch 00001: val_custom_mae improved from inf to 35.72861, saving model to ..\\fast_output\\SYNTH_Regression_MSE\\201019_2253_final_Angular_Base_Custom-MAE\\Best_Weights_FC_320.hdf5\n",
      "16000/16000 [==============================] - 3s 214us/sample - loss: 5389.9674 - custom_mae: 50.7003 - val_loss: 3167.7126 - val_custom_mae: 35.7286\n",
      "Time taken: 0:00:04.911473\n"
     ]
    },
    {
     "name": "stderr",
     "output_type": "stream",
     "text": [
      "\n",
      " 89%|███████████████████████████████████████████████████████████████████████▎        | 321/360 [55:52<04:47,  7.36s/it]\u001b[A"
     ]
    },
    {
     "name": "stdout",
     "output_type": "stream",
     "text": [
      "{'activation': 'relu', 'batch_size': 64, 'dropout': 0.5, 'epochs': 1, 'first_neuron': 1024, 'hidden_layers': 2, 'label_type': 'Angular', 'loss_function': 'mean_squared_error', 'lr': 1, 'monitor_value': 'val_custom_mae', 'optimizer': <class 'tensorflow.python.keras.optimizer_v2.adam.Adam'>, 'reduction_metric': 'custom_mae', 'samples': 20000}\n",
      "Using Loss: mean_squared_error \n",
      "and Reduction Metric: [<function custom_mae at 0x000001C2C8E7DAF8>]\n",
      "Monitor: val_custom_mae\n",
      "Train on 16000 samples, validate on 3968 samples\n",
      "15936/16000 [============================>.] - ETA: 0s - loss: 5415.6915 - custom_mae: 52.3798\n",
      "Epoch 00001: val_custom_mae improved from inf to 38.53129, saving model to ..\\fast_output\\SYNTH_Regression_MSE\\201019_2253_final_Angular_Base_Custom-MAE\\Best_Weights_FC_321.hdf5\n",
      "16000/16000 [==============================] - 4s 222us/sample - loss: 5409.5628 - custom_mae: 52.3406 - val_loss: 3398.2136 - val_custom_mae: 38.5313\n",
      "Time taken: 0:00:05.046579\n"
     ]
    },
    {
     "name": "stderr",
     "output_type": "stream",
     "text": [
      "\n",
      " 89%|███████████████████████████████████████████████████████████████████████▌        | 322/360 [55:59<04:32,  7.18s/it]\u001b[A"
     ]
    },
    {
     "name": "stdout",
     "output_type": "stream",
     "text": [
      "{'activation': 'relu', 'batch_size': 64, 'dropout': 0.5, 'epochs': 1, 'first_neuron': 1024, 'hidden_layers': 2, 'label_type': 'Angular', 'loss_function': 'mean_squared_error', 'lr': 2, 'monitor_value': 'val_custom_mae', 'optimizer': <class 'tensorflow.python.keras.optimizer_v2.adam.Adam'>, 'reduction_metric': 'custom_mae', 'samples': 20000}\n",
      "Using Loss: mean_squared_error \n",
      "and Reduction Metric: [<function custom_mae at 0x000001C2C8E7DAF8>]\n",
      "Monitor: val_custom_mae\n",
      "Train on 16000 samples, validate on 3968 samples\n",
      "15424/16000 [===========================>..] - ETA: 0s - loss: 5321.7467 - custom_mae: 51.3688\n",
      "Epoch 00001: val_custom_mae improved from inf to 42.44801, saving model to ..\\fast_output\\SYNTH_Regression_MSE\\201019_2253_final_Angular_Base_Custom-MAE\\Best_Weights_FC_322.hdf5\n",
      "16000/16000 [==============================] - 4s 220us/sample - loss: 5268.9286 - custom_mae: 51.0464 - val_loss: 4049.4794 - val_custom_mae: 42.4480\n",
      "Time taken: 0:00:05.022266\n"
     ]
    },
    {
     "name": "stderr",
     "output_type": "stream",
     "text": [
      "\n",
      " 90%|███████████████████████████████████████████████████████████████████████▊        | 323/360 [56:05<04:20,  7.04s/it]\u001b[A"
     ]
    },
    {
     "name": "stdout",
     "output_type": "stream",
     "text": [
      "{'activation': 'relu', 'batch_size': 64, 'dropout': 0.5, 'epochs': 1, 'first_neuron': 1024, 'hidden_layers': 2, 'label_type': 'Angular', 'loss_function': 'mean_squared_error', 'lr': 5, 'monitor_value': 'val_custom_mae', 'optimizer': <class 'tensorflow.python.keras.optimizer_v2.adam.Adam'>, 'reduction_metric': 'custom_mae', 'samples': 20000}\n",
      "Using Loss: mean_squared_error \n",
      "and Reduction Metric: [<function custom_mae at 0x000001C2C8E7DAF8>]\n",
      "Monitor: val_custom_mae\n",
      "Train on 16000 samples, validate on 3968 samples\n",
      "15552/16000 [============================>.] - ETA: 0s - loss: 6162.4611 - custom_mae: 56.0551\n",
      "Epoch 00001: val_custom_mae improved from inf to 51.81718, saving model to ..\\fast_output\\SYNTH_Regression_MSE\\201019_2253_final_Angular_Base_Custom-MAE\\Best_Weights_FC_323.hdf5\n",
      "16000/16000 [==============================] - 4s 223us/sample - loss: 6109.0535 - custom_mae: 55.7834 - val_loss: 5441.6933 - val_custom_mae: 51.8172\n",
      "Time taken: 0:00:05.059520\n"
     ]
    },
    {
     "name": "stderr",
     "output_type": "stream",
     "text": [
      "\n",
      " 90%|████████████████████████████████████████████████████████████████████████        | 324/360 [56:12<04:10,  6.96s/it]\u001b[A"
     ]
    },
    {
     "name": "stdout",
     "output_type": "stream",
     "text": [
      "{'activation': 'relu', 'batch_size': 64, 'dropout': 0.5, 'epochs': 1, 'first_neuron': 1024, 'hidden_layers': 3, 'label_type': 'Angular', 'loss_function': 'mean_squared_error', 'lr': 1, 'monitor_value': 'val_custom_mae', 'optimizer': <class 'tensorflow.python.keras.optimizer_v2.adam.Adam'>, 'reduction_metric': 'custom_mae', 'samples': 20000}\n",
      "Using Loss: mean_squared_error \n",
      "and Reduction Metric: [<function custom_mae at 0x000001C2C8E7DAF8>]\n",
      "Monitor: val_custom_mae\n",
      "Train on 16000 samples, validate on 3968 samples\n",
      "15872/16000 [============================>.] - ETA: 0s - loss: 6203.1985 - custom_mae: 57.1933\n",
      "Epoch 00001: val_custom_mae improved from inf to 48.48812, saving model to ..\\fast_output\\SYNTH_Regression_MSE\\201019_2253_final_Angular_Base_Custom-MAE\\Best_Weights_FC_324.hdf5\n",
      "16000/16000 [==============================] - 4s 226us/sample - loss: 6190.7945 - custom_mae: 57.1100 - val_loss: 4434.3553 - val_custom_mae: 48.4881\n",
      "Time taken: 0:00:05.101633\n"
     ]
    },
    {
     "name": "stderr",
     "output_type": "stream",
     "text": [
      "\n",
      " 90%|████████████████████████████████████████████████████████████████████████▏       | 325/360 [56:19<04:02,  6.93s/it]\u001b[A"
     ]
    },
    {
     "name": "stdout",
     "output_type": "stream",
     "text": [
      "{'activation': 'relu', 'batch_size': 64, 'dropout': 0.5, 'epochs': 1, 'first_neuron': 1024, 'hidden_layers': 3, 'label_type': 'Angular', 'loss_function': 'mean_squared_error', 'lr': 2, 'monitor_value': 'val_custom_mae', 'optimizer': <class 'tensorflow.python.keras.optimizer_v2.adam.Adam'>, 'reduction_metric': 'custom_mae', 'samples': 20000}\n",
      "Using Loss: mean_squared_error \n",
      "and Reduction Metric: [<function custom_mae at 0x000001C2C8E7DAF8>]\n",
      "Monitor: val_custom_mae\n",
      "Train on 16000 samples, validate on 3968 samples\n",
      "15744/16000 [============================>.] - ETA: 0s - loss: 6183.2516 - custom_mae: 56.7781\n",
      "Epoch 00001: val_custom_mae improved from inf to 48.24501, saving model to ..\\fast_output\\SYNTH_Regression_MSE\\201019_2253_final_Angular_Base_Custom-MAE\\Best_Weights_FC_325.hdf5\n",
      "16000/16000 [==============================] - 4s 230us/sample - loss: 6163.0664 - custom_mae: 56.6636 - val_loss: 4423.7875 - val_custom_mae: 48.2450\n",
      "Time taken: 0:00:05.164552\n"
     ]
    },
    {
     "name": "stderr",
     "output_type": "stream",
     "text": [
      "\n",
      " 91%|████████████████████████████████████████████████████████████████████████▍       | 326/360 [56:26<03:55,  6.92s/it]\u001b[A"
     ]
    },
    {
     "name": "stdout",
     "output_type": "stream",
     "text": [
      "{'activation': 'relu', 'batch_size': 64, 'dropout': 0.5, 'epochs': 1, 'first_neuron': 1024, 'hidden_layers': 3, 'label_type': 'Angular', 'loss_function': 'mean_squared_error', 'lr': 5, 'monitor_value': 'val_custom_mae', 'optimizer': <class 'tensorflow.python.keras.optimizer_v2.adam.Adam'>, 'reduction_metric': 'custom_mae', 'samples': 20000}\n",
      "Using Loss: mean_squared_error \n",
      "and Reduction Metric: [<function custom_mae at 0x000001C2C8E7DAF8>]\n",
      "Monitor: val_custom_mae\n",
      "Train on 16000 samples, validate on 3968 samples\n",
      "15808/16000 [============================>.] - ETA: 0s - loss: 6930.4046 - custom_mae: 59.4087\n",
      "Epoch 00001: val_custom_mae improved from inf to 59.61961, saving model to ..\\fast_output\\SYNTH_Regression_MSE\\201019_2253_final_Angular_Base_Custom-MAE\\Best_Weights_FC_326.hdf5\n",
      "16000/16000 [==============================] - 4s 227us/sample - loss: 6919.4602 - custom_mae: 59.3317 - val_loss: 6813.0619 - val_custom_mae: 59.6196\n",
      "Time taken: 0:00:05.111714\n"
     ]
    },
    {
     "name": "stderr",
     "output_type": "stream",
     "text": [
      "\n",
      " 91%|████████████████████████████████████████████████████████████████████████▋       | 327/360 [56:33<03:47,  6.90s/it]\u001b[A"
     ]
    },
    {
     "name": "stdout",
     "output_type": "stream",
     "text": [
      "{'activation': 'relu', 'batch_size': 64, 'dropout': 0.5, 'epochs': 1, 'first_neuron': 1024, 'hidden_layers': 4, 'label_type': 'Angular', 'loss_function': 'mean_squared_error', 'lr': 1, 'monitor_value': 'val_custom_mae', 'optimizer': <class 'tensorflow.python.keras.optimizer_v2.adam.Adam'>, 'reduction_metric': 'custom_mae', 'samples': 20000}\n",
      "Using Loss: mean_squared_error \n",
      "and Reduction Metric: [<function custom_mae at 0x000001C2C8E7DAF8>]\n",
      "Monitor: val_custom_mae\n",
      "Train on 16000 samples, validate on 3968 samples\n",
      "15744/16000 [============================>.] - ETA: 0s - loss: 7468.1734 - custom_mae: 62.6497\n",
      "Epoch 00001: val_custom_mae improved from inf to 61.51214, saving model to ..\\fast_output\\SYNTH_Regression_MSE\\201019_2253_final_Angular_Base_Custom-MAE\\Best_Weights_FC_327.hdf5\n",
      "16000/16000 [==============================] - 4s 231us/sample - loss: 7439.6322 - custom_mae: 62.4921 - val_loss: 7344.7449 - val_custom_mae: 61.5121\n",
      "Time taken: 0:00:05.190765\n"
     ]
    },
    {
     "name": "stderr",
     "output_type": "stream",
     "text": [
      "\n",
      " 91%|████████████████████████████████████████████████████████████████████████▉       | 328/360 [56:40<03:41,  6.91s/it]\u001b[A"
     ]
    },
    {
     "name": "stdout",
     "output_type": "stream",
     "text": [
      "{'activation': 'relu', 'batch_size': 64, 'dropout': 0.5, 'epochs': 1, 'first_neuron': 1024, 'hidden_layers': 4, 'label_type': 'Angular', 'loss_function': 'mean_squared_error', 'lr': 2, 'monitor_value': 'val_custom_mae', 'optimizer': <class 'tensorflow.python.keras.optimizer_v2.adam.Adam'>, 'reduction_metric': 'custom_mae', 'samples': 20000}\n",
      "Using Loss: mean_squared_error \n",
      "and Reduction Metric: [<function custom_mae at 0x000001C2C8E7DAF8>]\n",
      "Monitor: val_custom_mae\n",
      "Train on 16000 samples, validate on 3968 samples\n",
      "15808/16000 [============================>.] - ETA: 0s - loss: 7429.9805 - custom_mae: 61.9835\n",
      "Epoch 00001: val_custom_mae improved from inf to 69.20020, saving model to ..\\fast_output\\SYNTH_Regression_MSE\\201019_2253_final_Angular_Base_Custom-MAE\\Best_Weights_FC_328.hdf5\n",
      "16000/16000 [==============================] - 4s 232us/sample - loss: 7409.1694 - custom_mae: 61.8848 - val_loss: 9139.7456 - val_custom_mae: 69.2002\n",
      "Time taken: 0:00:05.212957\n"
     ]
    },
    {
     "name": "stderr",
     "output_type": "stream",
     "text": [
      "\n",
      " 91%|█████████████████████████████████████████████████████████████████████████       | 329/360 [56:47<03:34,  6.93s/it]\u001b[A"
     ]
    },
    {
     "name": "stdout",
     "output_type": "stream",
     "text": [
      "{'activation': 'relu', 'batch_size': 64, 'dropout': 0.5, 'epochs': 1, 'first_neuron': 1024, 'hidden_layers': 4, 'label_type': 'Angular', 'loss_function': 'mean_squared_error', 'lr': 5, 'monitor_value': 'val_custom_mae', 'optimizer': <class 'tensorflow.python.keras.optimizer_v2.adam.Adam'>, 'reduction_metric': 'custom_mae', 'samples': 20000}\n",
      "Using Loss: mean_squared_error \n",
      "and Reduction Metric: [<function custom_mae at 0x000001C2C8E7DAF8>]\n",
      "Monitor: val_custom_mae\n",
      "Train on 16000 samples, validate on 3968 samples\n",
      "15744/16000 [============================>.] - ETA: 0s - loss: 8593.1205 - custom_mae: 65.6725\n",
      "Epoch 00001: val_custom_mae improved from inf to 76.94423, saving model to ..\\fast_output\\SYNTH_Regression_MSE\\201019_2253_final_Angular_Base_Custom-MAE\\Best_Weights_FC_329.hdf5\n",
      "16000/16000 [==============================] - 4s 232us/sample - loss: 8561.1522 - custom_mae: 65.5334 - val_loss: 11591.8086 - val_custom_mae: 76.9442\n",
      "Time taken: 0:00:05.218411\n"
     ]
    },
    {
     "name": "stderr",
     "output_type": "stream",
     "text": [
      "\n",
      " 92%|█████████████████████████████████████████████████████████████████████████▎      | 330/360 [56:54<03:28,  6.95s/it]\u001b[A"
     ]
    },
    {
     "name": "stdout",
     "output_type": "stream",
     "text": [
      "{'activation': 'relu', 'batch_size': 64, 'dropout': 0.5, 'epochs': 1, 'first_neuron': 2048, 'hidden_layers': 0, 'label_type': 'Angular', 'loss_function': 'mean_squared_error', 'lr': 1, 'monitor_value': 'val_custom_mae', 'optimizer': <class 'tensorflow.python.keras.optimizer_v2.adam.Adam'>, 'reduction_metric': 'custom_mae', 'samples': 20000}\n",
      "Using Loss: mean_squared_error \n",
      "and Reduction Metric: [<function custom_mae at 0x000001C2C8E7DAF8>]\n",
      "Monitor: val_custom_mae\n",
      "Train on 16000 samples, validate on 3968 samples\n",
      "15872/16000 [============================>.] - ETA: 0s - loss: 4478.7452 - custom_mae: 43.5712\n",
      "Epoch 00001: val_custom_mae improved from inf to 35.27692, saving model to ..\\fast_output\\SYNTH_Regression_MSE\\201019_2253_final_Angular_Base_Custom-MAE\\Best_Weights_FC_330.hdf5\n",
      "16000/16000 [==============================] - 5s 329us/sample - loss: 4466.8759 - custom_mae: 43.4938 - val_loss: 3362.6996 - val_custom_mae: 35.2769\n",
      "Time taken: 0:00:06.756150\n"
     ]
    },
    {
     "name": "stderr",
     "output_type": "stream",
     "text": [
      "\n",
      " 92%|█████████████████████████████████████████████████████████████████████████▌      | 331/360 [57:02<03:34,  7.39s/it]\u001b[A"
     ]
    },
    {
     "name": "stdout",
     "output_type": "stream",
     "text": [
      "{'activation': 'relu', 'batch_size': 64, 'dropout': 0.5, 'epochs': 1, 'first_neuron': 2048, 'hidden_layers': 0, 'label_type': 'Angular', 'loss_function': 'mean_squared_error', 'lr': 2, 'monitor_value': 'val_custom_mae', 'optimizer': <class 'tensorflow.python.keras.optimizer_v2.adam.Adam'>, 'reduction_metric': 'custom_mae', 'samples': 20000}\n",
      "Using Loss: mean_squared_error \n",
      "and Reduction Metric: [<function custom_mae at 0x000001C2C8E7DAF8>]\n",
      "Monitor: val_custom_mae\n",
      "Train on 16000 samples, validate on 3968 samples\n",
      "15936/16000 [============================>.] - ETA: 0s - loss: 4132.3042 - custom_mae: 41.4133\n",
      "Epoch 00001: val_custom_mae improved from inf to 32.63836, saving model to ..\\fast_output\\SYNTH_Regression_MSE\\201019_2253_final_Angular_Base_Custom-MAE\\Best_Weights_FC_331.hdf5\n",
      "16000/16000 [==============================] - 5s 325us/sample - loss: 4128.0304 - custom_mae: 41.3773 - val_loss: 3005.1805 - val_custom_mae: 32.6384\n",
      "Time taken: 0:00:06.694755\n"
     ]
    },
    {
     "name": "stderr",
     "output_type": "stream",
     "text": [
      "\n",
      " 92%|█████████████████████████████████████████████████████████████████████████▊      | 332/360 [57:10<03:35,  7.69s/it]\u001b[A"
     ]
    },
    {
     "name": "stdout",
     "output_type": "stream",
     "text": [
      "{'activation': 'relu', 'batch_size': 64, 'dropout': 0.5, 'epochs': 1, 'first_neuron': 2048, 'hidden_layers': 0, 'label_type': 'Angular', 'loss_function': 'mean_squared_error', 'lr': 5, 'monitor_value': 'val_custom_mae', 'optimizer': <class 'tensorflow.python.keras.optimizer_v2.adam.Adam'>, 'reduction_metric': 'custom_mae', 'samples': 20000}\n",
      "Using Loss: mean_squared_error \n",
      "and Reduction Metric: [<function custom_mae at 0x000001C2C8E7DAF8>]\n",
      "Monitor: val_custom_mae\n",
      "Train on 16000 samples, validate on 3968 samples\n",
      "15872/16000 [============================>.] - ETA: 0s - loss: 4308.3050 - custom_mae: 42.5676\n",
      "Epoch 00001: val_custom_mae improved from inf to 31.42605, saving model to ..\\fast_output\\SYNTH_Regression_MSE\\201019_2253_final_Angular_Base_Custom-MAE\\Best_Weights_FC_332.hdf5\n",
      "16000/16000 [==============================] - 5s 326us/sample - loss: 4296.9019 - custom_mae: 42.4844 - val_loss: 2861.7236 - val_custom_mae: 31.4261\n",
      "Time taken: 0:00:06.730575\n"
     ]
    },
    {
     "name": "stderr",
     "output_type": "stream",
     "text": [
      "\n",
      " 92%|██████████████████████████████████████████████████████████████████████████      | 333/360 [57:19<03:33,  7.90s/it]\u001b[A"
     ]
    },
    {
     "name": "stdout",
     "output_type": "stream",
     "text": [
      "{'activation': 'relu', 'batch_size': 64, 'dropout': 0.5, 'epochs': 1, 'first_neuron': 2048, 'hidden_layers': 1, 'label_type': 'Angular', 'loss_function': 'mean_squared_error', 'lr': 1, 'monitor_value': 'val_custom_mae', 'optimizer': <class 'tensorflow.python.keras.optimizer_v2.adam.Adam'>, 'reduction_metric': 'custom_mae', 'samples': 20000}\n",
      "Using Loss: mean_squared_error \n",
      "and Reduction Metric: [<function custom_mae at 0x000001C2C8E7DAF8>]\n",
      "Monitor: val_custom_mae\n",
      "Train on 16000 samples, validate on 3968 samples\n",
      "15744/16000 [============================>.] - ETA: 0s - loss: 4465.1810 - custom_mae: 44.8731\n",
      "Epoch 00001: val_custom_mae improved from inf to 33.54344, saving model to ..\\fast_output\\SYNTH_Regression_MSE\\201019_2253_final_Angular_Base_Custom-MAE\\Best_Weights_FC_333.hdf5\n",
      "16000/16000 [==============================] - 5s 338us/sample - loss: 4440.0712 - custom_mae: 44.6961 - val_loss: 3054.8398 - val_custom_mae: 33.5434\n",
      "Time taken: 0:00:06.921743\n"
     ]
    },
    {
     "name": "stderr",
     "output_type": "stream",
     "text": [
      "\n",
      " 93%|██████████████████████████████████████████████████████████████████████████▏     | 334/360 [57:27<03:30,  8.11s/it]\u001b[A"
     ]
    },
    {
     "name": "stdout",
     "output_type": "stream",
     "text": [
      "{'activation': 'relu', 'batch_size': 64, 'dropout': 0.5, 'epochs': 1, 'first_neuron': 2048, 'hidden_layers': 1, 'label_type': 'Angular', 'loss_function': 'mean_squared_error', 'lr': 2, 'monitor_value': 'val_custom_mae', 'optimizer': <class 'tensorflow.python.keras.optimizer_v2.adam.Adam'>, 'reduction_metric': 'custom_mae', 'samples': 20000}\n",
      "Using Loss: mean_squared_error \n",
      "and Reduction Metric: [<function custom_mae at 0x000001C2C8E7DAF8>]\n",
      "Monitor: val_custom_mae\n",
      "Train on 16000 samples, validate on 3968 samples\n",
      "15808/16000 [============================>.] - ETA: 0s - loss: 4479.1352 - custom_mae: 45.2472\n",
      "Epoch 00001: val_custom_mae improved from inf to 33.42123, saving model to ..\\fast_output\\SYNTH_Regression_MSE\\201019_2253_final_Angular_Base_Custom-MAE\\Best_Weights_FC_334.hdf5\n",
      "16000/16000 [==============================] - 5s 340us/sample - loss: 4462.4601 - custom_mae: 45.1194 - val_loss: 3011.8476 - val_custom_mae: 33.4212\n",
      "Time taken: 0:00:06.937452\n"
     ]
    },
    {
     "name": "stderr",
     "output_type": "stream",
     "text": [
      "\n",
      " 93%|██████████████████████████████████████████████████████████████████████████▍     | 335/360 [57:36<03:26,  8.27s/it]\u001b[A"
     ]
    },
    {
     "name": "stdout",
     "output_type": "stream",
     "text": [
      "{'activation': 'relu', 'batch_size': 64, 'dropout': 0.5, 'epochs': 1, 'first_neuron': 2048, 'hidden_layers': 1, 'label_type': 'Angular', 'loss_function': 'mean_squared_error', 'lr': 5, 'monitor_value': 'val_custom_mae', 'optimizer': <class 'tensorflow.python.keras.optimizer_v2.adam.Adam'>, 'reduction_metric': 'custom_mae', 'samples': 20000}\n",
      "Using Loss: mean_squared_error \n",
      "and Reduction Metric: [<function custom_mae at 0x000001C2C8E7DAF8>]\n",
      "Monitor: val_custom_mae\n",
      "Train on 16000 samples, validate on 3968 samples\n",
      "15808/16000 [============================>.] - ETA: 0s - loss: 6970.3374 - custom_mae: 52.9727\n",
      "Epoch 00001: val_custom_mae improved from inf to 37.32734, saving model to ..\\fast_output\\SYNTH_Regression_MSE\\201019_2253_final_Angular_Base_Custom-MAE\\Best_Weights_FC_335.hdf5\n",
      "16000/16000 [==============================] - 5s 336us/sample - loss: 6931.3673 - custom_mae: 52.8263 - val_loss: 3259.4743 - val_custom_mae: 37.3273\n",
      "Time taken: 0:00:06.879500\n"
     ]
    },
    {
     "name": "stderr",
     "output_type": "stream",
     "text": [
      "\n",
      " 93%|██████████████████████████████████████████████████████████████████████████▋     | 336/360 [57:45<03:20,  8.36s/it]\u001b[A"
     ]
    },
    {
     "name": "stdout",
     "output_type": "stream",
     "text": [
      "{'activation': 'relu', 'batch_size': 64, 'dropout': 0.5, 'epochs': 1, 'first_neuron': 2048, 'hidden_layers': 2, 'label_type': 'Angular', 'loss_function': 'mean_squared_error', 'lr': 1, 'monitor_value': 'val_custom_mae', 'optimizer': <class 'tensorflow.python.keras.optimizer_v2.adam.Adam'>, 'reduction_metric': 'custom_mae', 'samples': 20000}\n",
      "Using Loss: mean_squared_error \n",
      "and Reduction Metric: [<function custom_mae at 0x000001C2C8E7DAF8>]\n",
      "Monitor: val_custom_mae\n",
      "Train on 16000 samples, validate on 3968 samples\n",
      "15616/16000 [============================>.] - ETA: 0s - loss: 5024.7567 - custom_mae: 49.3125\n",
      "Epoch 00001: val_custom_mae improved from inf to 35.36259, saving model to ..\\fast_output\\SYNTH_Regression_MSE\\201019_2253_final_Angular_Base_Custom-MAE\\Best_Weights_FC_336.hdf5\n",
      "16000/16000 [==============================] - 6s 348us/sample - loss: 4975.1522 - custom_mae: 48.9996 - val_loss: 3239.4770 - val_custom_mae: 35.3626\n",
      "Time taken: 0:00:07.058256\n"
     ]
    },
    {
     "name": "stderr",
     "output_type": "stream",
     "text": [
      "\n",
      " 94%|██████████████████████████████████████████████████████████████████████████▉     | 337/360 [57:53<03:15,  8.50s/it]\u001b[A"
     ]
    },
    {
     "name": "stdout",
     "output_type": "stream",
     "text": [
      "{'activation': 'relu', 'batch_size': 64, 'dropout': 0.5, 'epochs': 1, 'first_neuron': 2048, 'hidden_layers': 2, 'label_type': 'Angular', 'loss_function': 'mean_squared_error', 'lr': 2, 'monitor_value': 'val_custom_mae', 'optimizer': <class 'tensorflow.python.keras.optimizer_v2.adam.Adam'>, 'reduction_metric': 'custom_mae', 'samples': 20000}\n",
      "Using Loss: mean_squared_error \n",
      "and Reduction Metric: [<function custom_mae at 0x000001C2C8E7DAF8>]\n",
      "Monitor: val_custom_mae\n",
      "Train on 16000 samples, validate on 3968 samples\n",
      "15744/16000 [============================>.] - ETA: 0s - loss: 6011.7006 - custom_mae: 54.2390\n",
      "Epoch 00001: val_custom_mae improved from inf to 41.56446, saving model to ..\\fast_output\\SYNTH_Regression_MSE\\201019_2253_final_Angular_Base_Custom-MAE\\Best_Weights_FC_337.hdf5\n",
      "16000/16000 [==============================] - 6s 348us/sample - loss: 5976.5603 - custom_mae: 54.0605 - val_loss: 3627.6747 - val_custom_mae: 41.5645\n",
      "Time taken: 0:00:07.086637\n"
     ]
    },
    {
     "name": "stderr",
     "output_type": "stream",
     "text": [
      "\n",
      " 94%|███████████████████████████████████████████████████████████████████████████     | 338/360 [58:02<03:09,  8.60s/it]\u001b[A"
     ]
    },
    {
     "name": "stdout",
     "output_type": "stream",
     "text": [
      "{'activation': 'relu', 'batch_size': 64, 'dropout': 0.5, 'epochs': 1, 'first_neuron': 2048, 'hidden_layers': 2, 'label_type': 'Angular', 'loss_function': 'mean_squared_error', 'lr': 5, 'monitor_value': 'val_custom_mae', 'optimizer': <class 'tensorflow.python.keras.optimizer_v2.adam.Adam'>, 'reduction_metric': 'custom_mae', 'samples': 20000}\n",
      "Using Loss: mean_squared_error \n",
      "and Reduction Metric: [<function custom_mae at 0x000001C2C8E7DAF8>]\n",
      "Monitor: val_custom_mae\n",
      "Train on 16000 samples, validate on 3968 samples\n",
      "15616/16000 [============================>.] - ETA: 0s - loss: 7692.9994 - custom_mae: 56.7623\n",
      "Epoch 00001: val_custom_mae improved from inf to 59.63881, saving model to ..\\fast_output\\SYNTH_Regression_MSE\\201019_2253_final_Angular_Base_Custom-MAE\\Best_Weights_FC_338.hdf5\n",
      "16000/16000 [==============================] - 6s 349us/sample - loss: 7611.4534 - custom_mae: 56.4958 - val_loss: 6723.2864 - val_custom_mae: 59.6388\n",
      "Time taken: 0:00:07.096183\n"
     ]
    },
    {
     "name": "stderr",
     "output_type": "stream",
     "text": [
      "\n",
      " 94%|███████████████████████████████████████████████████████████████████████████▎    | 339/360 [58:11<03:02,  8.68s/it]\u001b[A"
     ]
    },
    {
     "name": "stdout",
     "output_type": "stream",
     "text": [
      "{'activation': 'relu', 'batch_size': 64, 'dropout': 0.5, 'epochs': 1, 'first_neuron': 2048, 'hidden_layers': 3, 'label_type': 'Angular', 'loss_function': 'mean_squared_error', 'lr': 1, 'monitor_value': 'val_custom_mae', 'optimizer': <class 'tensorflow.python.keras.optimizer_v2.adam.Adam'>, 'reduction_metric': 'custom_mae', 'samples': 20000}\n",
      "Using Loss: mean_squared_error \n",
      "and Reduction Metric: [<function custom_mae at 0x000001C2C8E7DAF8>]\n",
      "Monitor: val_custom_mae\n",
      "Train on 16000 samples, validate on 3968 samples\n",
      "15744/16000 [============================>.] - ETA: 0s - loss: 5484.1885 - custom_mae: 53.5583\n",
      "Epoch 00001: val_custom_mae improved from inf to 44.89057, saving model to ..\\fast_output\\SYNTH_Regression_MSE\\201019_2253_final_Angular_Base_Custom-MAE\\Best_Weights_FC_339.hdf5\n",
      "16000/16000 [==============================] - 6s 352us/sample - loss: 5458.4907 - custom_mae: 53.4008 - val_loss: 4085.7067 - val_custom_mae: 44.8906\n",
      "Time taken: 0:00:07.134539\n"
     ]
    },
    {
     "name": "stderr",
     "output_type": "stream",
     "text": [
      "\n",
      " 94%|███████████████████████████████████████████████████████████████████████████▌    | 340/360 [58:20<02:55,  8.75s/it]\u001b[A"
     ]
    },
    {
     "name": "stdout",
     "output_type": "stream",
     "text": [
      "{'activation': 'relu', 'batch_size': 64, 'dropout': 0.5, 'epochs': 1, 'first_neuron': 2048, 'hidden_layers': 3, 'label_type': 'Angular', 'loss_function': 'mean_squared_error', 'lr': 2, 'monitor_value': 'val_custom_mae', 'optimizer': <class 'tensorflow.python.keras.optimizer_v2.adam.Adam'>, 'reduction_metric': 'custom_mae', 'samples': 20000}\n",
      "Using Loss: mean_squared_error \n",
      "and Reduction Metric: [<function custom_mae at 0x000001C2C8E7DAF8>]\n",
      "Monitor: val_custom_mae\n",
      "Train on 16000 samples, validate on 3968 samples\n",
      "15808/16000 [============================>.] - ETA: 0s - loss: 6483.9271 - custom_mae: 57.3301\n",
      "Epoch 00001: val_custom_mae improved from inf to 49.35567, saving model to ..\\fast_output\\SYNTH_Regression_MSE\\201019_2253_final_Angular_Base_Custom-MAE\\Best_Weights_FC_340.hdf5\n",
      "16000/16000 [==============================] - 6s 350us/sample - loss: 6456.5673 - custom_mae: 57.1848 - val_loss: 4589.8143 - val_custom_mae: 49.3557\n",
      "Time taken: 0:00:07.091534\n"
     ]
    },
    {
     "name": "stderr",
     "output_type": "stream",
     "text": [
      "\n",
      " 95%|███████████████████████████████████████████████████████████████████████████▊    | 341/360 [58:29<02:46,  8.78s/it]\u001b[A"
     ]
    },
    {
     "name": "stdout",
     "output_type": "stream",
     "text": [
      "{'activation': 'relu', 'batch_size': 64, 'dropout': 0.5, 'epochs': 1, 'first_neuron': 2048, 'hidden_layers': 3, 'label_type': 'Angular', 'loss_function': 'mean_squared_error', 'lr': 5, 'monitor_value': 'val_custom_mae', 'optimizer': <class 'tensorflow.python.keras.optimizer_v2.adam.Adam'>, 'reduction_metric': 'custom_mae', 'samples': 20000}\n",
      "Using Loss: mean_squared_error \n",
      "and Reduction Metric: [<function custom_mae at 0x000001C2C8E7DAF8>]\n",
      "Monitor: val_custom_mae\n",
      "Train on 16000 samples, validate on 3968 samples\n",
      "15808/16000 [============================>.] - ETA: 0s - loss: 7992.0221 - custom_mae: 61.6746\n",
      "Epoch 00001: val_custom_mae improved from inf to 47.19222, saving model to ..\\fast_output\\SYNTH_Regression_MSE\\201019_2253_final_Angular_Base_Custom-MAE\\Best_Weights_FC_341.hdf5\n",
      "16000/16000 [==============================] - 6s 347us/sample - loss: 7961.0902 - custom_mae: 61.5431 - val_loss: 4051.4522 - val_custom_mae: 47.1922\n",
      "Time taken: 0:00:07.047031\n"
     ]
    },
    {
     "name": "stderr",
     "output_type": "stream",
     "text": [
      "\n",
      " 95%|████████████████████████████████████████████████████████████████████████████    | 342/360 [58:38<02:38,  8.78s/it]\u001b[A"
     ]
    },
    {
     "name": "stdout",
     "output_type": "stream",
     "text": [
      "{'activation': 'relu', 'batch_size': 64, 'dropout': 0.5, 'epochs': 1, 'first_neuron': 2048, 'hidden_layers': 4, 'label_type': 'Angular', 'loss_function': 'mean_squared_error', 'lr': 1, 'monitor_value': 'val_custom_mae', 'optimizer': <class 'tensorflow.python.keras.optimizer_v2.adam.Adam'>, 'reduction_metric': 'custom_mae', 'samples': 20000}\n",
      "Using Loss: mean_squared_error \n",
      "and Reduction Metric: [<function custom_mae at 0x000001C2C8E7DAF8>]\n",
      "Monitor: val_custom_mae\n",
      "Train on 16000 samples, validate on 3968 samples\n",
      "15744/16000 [============================>.] - ETA: 0s - loss: 6393.8649 - custom_mae: 57.9610\n",
      "Epoch 00001: val_custom_mae improved from inf to 50.66212, saving model to ..\\fast_output\\SYNTH_Regression_MSE\\201019_2253_final_Angular_Base_Custom-MAE\\Best_Weights_FC_342.hdf5\n",
      "16000/16000 [==============================] - 6s 358us/sample - loss: 6363.0003 - custom_mae: 57.8075 - val_loss: 4762.3813 - val_custom_mae: 50.6621\n",
      "Time taken: 0:00:07.227126\n"
     ]
    },
    {
     "name": "stderr",
     "output_type": "stream",
     "text": [
      "\n",
      " 95%|████████████████████████████████████████████████████████████████████████████▏   | 343/360 [58:47<02:30,  8.85s/it]\u001b[A"
     ]
    },
    {
     "name": "stdout",
     "output_type": "stream",
     "text": [
      "{'activation': 'relu', 'batch_size': 64, 'dropout': 0.5, 'epochs': 1, 'first_neuron': 2048, 'hidden_layers': 4, 'label_type': 'Angular', 'loss_function': 'mean_squared_error', 'lr': 2, 'monitor_value': 'val_custom_mae', 'optimizer': <class 'tensorflow.python.keras.optimizer_v2.adam.Adam'>, 'reduction_metric': 'custom_mae', 'samples': 20000}\n",
      "Using Loss: mean_squared_error \n",
      "and Reduction Metric: [<function custom_mae at 0x000001C2C8E7DAF8>]\n",
      "Monitor: val_custom_mae\n",
      "Train on 16000 samples, validate on 3968 samples\n",
      "15808/16000 [============================>.] - ETA: 0s - loss: 7059.7748 - custom_mae: 60.2211\n",
      "Epoch 00001: val_custom_mae improved from inf to 51.44249, saving model to ..\\fast_output\\SYNTH_Regression_MSE\\201019_2253_final_Angular_Base_Custom-MAE\\Best_Weights_FC_343.hdf5\n",
      "16000/16000 [==============================] - 6s 356us/sample - loss: 7032.2809 - custom_mae: 60.0752 - val_loss: 4902.9244 - val_custom_mae: 51.4425\n",
      "Time taken: 0:00:07.205065\n"
     ]
    },
    {
     "name": "stderr",
     "output_type": "stream",
     "text": [
      "\n",
      " 96%|████████████████████████████████████████████████████████████████████████████▍   | 344/360 [58:56<02:22,  8.89s/it]\u001b[A"
     ]
    },
    {
     "name": "stdout",
     "output_type": "stream",
     "text": [
      "{'activation': 'relu', 'batch_size': 64, 'dropout': 0.5, 'epochs': 1, 'first_neuron': 2048, 'hidden_layers': 4, 'label_type': 'Angular', 'loss_function': 'mean_squared_error', 'lr': 5, 'monitor_value': 'val_custom_mae', 'optimizer': <class 'tensorflow.python.keras.optimizer_v2.adam.Adam'>, 'reduction_metric': 'custom_mae', 'samples': 20000}\n",
      "Using Loss: mean_squared_error \n",
      "and Reduction Metric: [<function custom_mae at 0x000001C2C8E7DAF8>]\n",
      "Monitor: val_custom_mae\n",
      "Train on 16000 samples, validate on 3968 samples\n",
      "15808/16000 [============================>.] - ETA: 0s - loss: 8609.0547 - custom_mae: 64.6714\n",
      "Epoch 00001: val_custom_mae improved from inf to 66.83956, saving model to ..\\fast_output\\SYNTH_Regression_MSE\\201019_2253_final_Angular_Base_Custom-MAE\\Best_Weights_FC_344.hdf5\n",
      "16000/16000 [==============================] - 6s 357us/sample - loss: 8578.3911 - custom_mae: 64.5634 - val_loss: 8582.1194 - val_custom_mae: 66.8396\n",
      "Time taken: 0:00:07.225780\n"
     ]
    },
    {
     "name": "stderr",
     "output_type": "stream",
     "text": [
      "\n",
      " 96%|████████████████████████████████████████████████████████████████████████████▋   | 345/360 [59:05<02:13,  8.93s/it]\u001b[A"
     ]
    },
    {
     "name": "stdout",
     "output_type": "stream",
     "text": [
      "{'activation': 'relu', 'batch_size': 64, 'dropout': 0.5, 'epochs': 1, 'first_neuron': 4096, 'hidden_layers': 0, 'label_type': 'Angular', 'loss_function': 'mean_squared_error', 'lr': 1, 'monitor_value': 'val_custom_mae', 'optimizer': <class 'tensorflow.python.keras.optimizer_v2.adam.Adam'>, 'reduction_metric': 'custom_mae', 'samples': 20000}\n",
      "Using Loss: mean_squared_error \n",
      "and Reduction Metric: [<function custom_mae at 0x000001C2C8E7DAF8>]\n",
      "Monitor: val_custom_mae\n",
      "Train on 16000 samples, validate on 3968 samples\n",
      "15872/16000 [============================>.] - ETA: 0s - loss: 4248.7777 - custom_mae: 42.2241\n",
      "Epoch 00001: val_custom_mae improved from inf to 34.31983, saving model to ..\\fast_output\\SYNTH_Regression_MSE\\201019_2253_final_Angular_Base_Custom-MAE\\Best_Weights_FC_345.hdf5\n",
      "16000/16000 [==============================] - 9s 575us/sample - loss: 4237.5228 - custom_mae: 42.1443 - val_loss: 3266.6414 - val_custom_mae: 34.3198\n",
      "Time taken: 0:00:10.698760\n"
     ]
    },
    {
     "name": "stderr",
     "output_type": "stream",
     "text": [
      "\n",
      " 96%|████████████████████████████████████████████████████████████████████████████▉   | 346/360 [59:17<02:19,  9.97s/it]\u001b[A"
     ]
    },
    {
     "name": "stdout",
     "output_type": "stream",
     "text": [
      "{'activation': 'relu', 'batch_size': 64, 'dropout': 0.5, 'epochs': 1, 'first_neuron': 4096, 'hidden_layers': 0, 'label_type': 'Angular', 'loss_function': 'mean_squared_error', 'lr': 2, 'monitor_value': 'val_custom_mae', 'optimizer': <class 'tensorflow.python.keras.optimizer_v2.adam.Adam'>, 'reduction_metric': 'custom_mae', 'samples': 20000}\n",
      "Using Loss: mean_squared_error \n",
      "and Reduction Metric: [<function custom_mae at 0x000001C2C8E7DAF8>]\n",
      "Monitor: val_custom_mae\n",
      "Train on 16000 samples, validate on 3968 samples\n",
      "15872/16000 [============================>.] - ETA: 0s - loss: 4085.9374 - custom_mae: 41.1955\n",
      "Epoch 00001: val_custom_mae improved from inf to 32.10074, saving model to ..\\fast_output\\SYNTH_Regression_MSE\\201019_2253_final_Angular_Base_Custom-MAE\\Best_Weights_FC_346.hdf5\n",
      "16000/16000 [==============================] - 9s 568us/sample - loss: 4073.6315 - custom_mae: 41.1042 - val_loss: 2892.3296 - val_custom_mae: 32.1007\n",
      "Time taken: 0:00:10.602415\n"
     ]
    },
    {
     "name": "stderr",
     "output_type": "stream",
     "text": [
      "\n",
      " 96%|█████████████████████████████████████████████████████████████████████████████   | 347/360 [59:29<02:18, 10.67s/it]\u001b[A"
     ]
    },
    {
     "name": "stdout",
     "output_type": "stream",
     "text": [
      "{'activation': 'relu', 'batch_size': 64, 'dropout': 0.5, 'epochs': 1, 'first_neuron': 4096, 'hidden_layers': 0, 'label_type': 'Angular', 'loss_function': 'mean_squared_error', 'lr': 5, 'monitor_value': 'val_custom_mae', 'optimizer': <class 'tensorflow.python.keras.optimizer_v2.adam.Adam'>, 'reduction_metric': 'custom_mae', 'samples': 20000}\n",
      "Using Loss: mean_squared_error \n",
      "and Reduction Metric: [<function custom_mae at 0x000001C2C8E7DAF8>]\n",
      "Monitor: val_custom_mae\n",
      "Train on 16000 samples, validate on 3968 samples\n",
      "15808/16000 [============================>.] - ETA: 0s - loss: 4772.9750 - custom_mae: 44.4711\n",
      "Epoch 00001: val_custom_mae improved from inf to 33.24128, saving model to ..\\fast_output\\SYNTH_Regression_MSE\\201019_2253_final_Angular_Base_Custom-MAE\\Best_Weights_FC_347.hdf5\n",
      "16000/16000 [==============================] - 9s 570us/sample - loss: 4747.8214 - custom_mae: 44.3256 - val_loss: 2923.3686 - val_custom_mae: 33.2413\n",
      "Time taken: 0:00:10.611081\n"
     ]
    },
    {
     "name": "stderr",
     "output_type": "stream",
     "text": [
      "\n",
      " 97%|█████████████████████████████████████████████████████████████████████████████▎  | 348/360 [59:42<02:13, 11.16s/it]\u001b[A"
     ]
    },
    {
     "name": "stdout",
     "output_type": "stream",
     "text": [
      "{'activation': 'relu', 'batch_size': 64, 'dropout': 0.5, 'epochs': 1, 'first_neuron': 4096, 'hidden_layers': 1, 'label_type': 'Angular', 'loss_function': 'mean_squared_error', 'lr': 1, 'monitor_value': 'val_custom_mae', 'optimizer': <class 'tensorflow.python.keras.optimizer_v2.adam.Adam'>, 'reduction_metric': 'custom_mae', 'samples': 20000}\n",
      "Using Loss: mean_squared_error \n",
      "and Reduction Metric: [<function custom_mae at 0x000001C2C8E7DAF8>]\n",
      "Monitor: val_custom_mae\n",
      "Train on 16000 samples, validate on 3968 samples\n",
      "15808/16000 [============================>.] - ETA: 0s - loss: 4719.1697 - custom_mae: 46.2793\n",
      "Epoch 00001: val_custom_mae improved from inf to 33.70403, saving model to ..\\fast_output\\SYNTH_Regression_MSE\\201019_2253_final_Angular_Base_Custom-MAE\\Best_Weights_FC_348.hdf5\n",
      "16000/16000 [==============================] - 10s 611us/sample - loss: 4696.0346 - custom_mae: 46.1287 - val_loss: 3086.1015 - val_custom_mae: 33.7040\n",
      "Time taken: 0:00:11.284565\n"
     ]
    },
    {
     "name": "stderr",
     "output_type": "stream",
     "text": [
      "\n",
      " 97%|█████████████████████████████████████████████████████████████████████████████▌  | 349/360 [59:55<02:08, 11.72s/it]\u001b[A"
     ]
    },
    {
     "name": "stdout",
     "output_type": "stream",
     "text": [
      "{'activation': 'relu', 'batch_size': 64, 'dropout': 0.5, 'epochs': 1, 'first_neuron': 4096, 'hidden_layers': 1, 'label_type': 'Angular', 'loss_function': 'mean_squared_error', 'lr': 2, 'monitor_value': 'val_custom_mae', 'optimizer': <class 'tensorflow.python.keras.optimizer_v2.adam.Adam'>, 'reduction_metric': 'custom_mae', 'samples': 20000}\n",
      "Using Loss: mean_squared_error \n",
      "and Reduction Metric: [<function custom_mae at 0x000001C2C8E7DAF8>]\n",
      "Monitor: val_custom_mae\n",
      "Train on 16000 samples, validate on 3968 samples\n",
      "15936/16000 [============================>.] - ETA: 0s - loss: 5132.1697 - custom_mae: 47.6863\n",
      "Epoch 00001: val_custom_mae improved from inf to 33.44650, saving model to ..\\fast_output\\SYNTH_Regression_MSE\\201019_2253_final_Angular_Base_Custom-MAE\\Best_Weights_FC_349.hdf5\n",
      "16000/16000 [==============================] - 10s 603us/sample - loss: 5125.6722 - custom_mae: 47.6415 - val_loss: 3035.9985 - val_custom_mae: 33.4465\n",
      "Time taken: 0:00:11.186435\n"
     ]
    },
    {
     "name": "stderr",
     "output_type": "stream",
     "text": [
      "\n",
      " 97%|███████████████████████████████████████████████████████████████████████████▊  | 350/360 [1:00:08<02:00, 12.07s/it]\u001b[A"
     ]
    },
    {
     "name": "stdout",
     "output_type": "stream",
     "text": [
      "{'activation': 'relu', 'batch_size': 64, 'dropout': 0.5, 'epochs': 1, 'first_neuron': 4096, 'hidden_layers': 1, 'label_type': 'Angular', 'loss_function': 'mean_squared_error', 'lr': 5, 'monitor_value': 'val_custom_mae', 'optimizer': <class 'tensorflow.python.keras.optimizer_v2.adam.Adam'>, 'reduction_metric': 'custom_mae', 'samples': 20000}\n",
      "Using Loss: mean_squared_error \n",
      "and Reduction Metric: [<function custom_mae at 0x000001C2C8E7DAF8>]\n",
      "Monitor: val_custom_mae\n",
      "Train on 16000 samples, validate on 3968 samples\n",
      "15936/16000 [============================>.] - ETA: 0s - loss: 19996.1013 - custom_mae: 54.3046- ETA: 0s - loss: 24238.3699 - custom\n",
      "Epoch 00001: val_custom_mae improved from inf to 38.43692, saving model to ..\\fast_output\\SYNTH_Regression_MSE\\201019_2253_final_Angular_Base_Custom-MAE\\Best_Weights_FC_350.hdf5\n",
      "16000/16000 [==============================] - 10s 608us/sample - loss: 19933.9854 - custom_mae: 54.2603 - val_loss: 3505.6784 - val_custom_mae: 38.4369\n",
      "Time taken: 0:00:11.203773\n"
     ]
    },
    {
     "name": "stderr",
     "output_type": "stream",
     "text": [
      "\n",
      " 98%|████████████████████████████████████████████████████████████████████████████  | 351/360 [1:00:21<01:50, 12.32s/it]\u001b[A"
     ]
    },
    {
     "name": "stdout",
     "output_type": "stream",
     "text": [
      "{'activation': 'relu', 'batch_size': 64, 'dropout': 0.5, 'epochs': 1, 'first_neuron': 4096, 'hidden_layers': 2, 'label_type': 'Angular', 'loss_function': 'mean_squared_error', 'lr': 1, 'monitor_value': 'val_custom_mae', 'optimizer': <class 'tensorflow.python.keras.optimizer_v2.adam.Adam'>, 'reduction_metric': 'custom_mae', 'samples': 20000}\n",
      "Using Loss: mean_squared_error \n",
      "and Reduction Metric: [<function custom_mae at 0x000001C2C8E7DAF8>]\n",
      "Monitor: val_custom_mae\n",
      "Train on 16000 samples, validate on 3968 samples\n",
      "15808/16000 [============================>.] - ETA: 0s - loss: 5430.0107 - custom_mae: 50.7338\n",
      "Epoch 00001: val_custom_mae improved from inf to 34.73471, saving model to ..\\fast_output\\SYNTH_Regression_MSE\\201019_2253_final_Angular_Base_Custom-MAE\\Best_Weights_FC_351.hdf5\n",
      "16000/16000 [==============================] - 10s 616us/sample - loss: 5401.0949 - custom_mae: 50.5641 - val_loss: 3020.2953 - val_custom_mae: 34.7347\n",
      "Time taken: 0:00:11.351560\n"
     ]
    },
    {
     "name": "stderr",
     "output_type": "stream",
     "text": [
      "\n",
      " 98%|████████████████████████████████████████████████████████████████████████████▎ | 352/360 [1:00:34<01:40, 12.55s/it]\u001b[A"
     ]
    },
    {
     "name": "stdout",
     "output_type": "stream",
     "text": [
      "{'activation': 'relu', 'batch_size': 64, 'dropout': 0.5, 'epochs': 1, 'first_neuron': 4096, 'hidden_layers': 2, 'label_type': 'Angular', 'loss_function': 'mean_squared_error', 'lr': 2, 'monitor_value': 'val_custom_mae', 'optimizer': <class 'tensorflow.python.keras.optimizer_v2.adam.Adam'>, 'reduction_metric': 'custom_mae', 'samples': 20000}\n",
      "Using Loss: mean_squared_error \n",
      "and Reduction Metric: [<function custom_mae at 0x000001C2C8E7DAF8>]\n",
      "Monitor: val_custom_mae\n",
      "Train on 16000 samples, validate on 3968 samples\n",
      "15936/16000 [============================>.] - ETA: 0s - loss: 5450.0154 - custom_mae: 50.4756\n",
      "Epoch 00001: val_custom_mae improved from inf to 37.39739, saving model to ..\\fast_output\\SYNTH_Regression_MSE\\201019_2253_final_Angular_Base_Custom-MAE\\Best_Weights_FC_352.hdf5\n",
      "16000/16000 [==============================] - 10s 616us/sample - loss: 5445.6183 - custom_mae: 50.4497 - val_loss: 3371.4776 - val_custom_mae: 37.3974\n",
      "Time taken: 0:00:11.345165\n"
     ]
    },
    {
     "name": "stderr",
     "output_type": "stream",
     "text": [
      "\n",
      " 98%|████████████████████████████████████████████████████████████████████████████▍ | 353/360 [1:00:47<01:28, 12.71s/it]\u001b[A"
     ]
    },
    {
     "name": "stdout",
     "output_type": "stream",
     "text": [
      "{'activation': 'relu', 'batch_size': 64, 'dropout': 0.5, 'epochs': 1, 'first_neuron': 4096, 'hidden_layers': 2, 'label_type': 'Angular', 'loss_function': 'mean_squared_error', 'lr': 5, 'monitor_value': 'val_custom_mae', 'optimizer': <class 'tensorflow.python.keras.optimizer_v2.adam.Adam'>, 'reduction_metric': 'custom_mae', 'samples': 20000}\n",
      "Using Loss: mean_squared_error \n",
      "and Reduction Metric: [<function custom_mae at 0x000001C2C8E7DAF8>]\n",
      "Monitor: val_custom_mae\n",
      "Train on 16000 samples, validate on 3968 samples\n",
      "15936/16000 [============================>.] - ETA: 0s - loss: 85909.0819 - custom_mae: 70.6207\n",
      "Epoch 00001: val_custom_mae improved from inf to 51.46950, saving model to ..\\fast_output\\SYNTH_Regression_MSE\\201019_2253_final_Angular_Base_Custom-MAE\\Best_Weights_FC_353.hdf5\n",
      "16000/16000 [==============================] - 10s 623us/sample - loss: 85585.4142 - custom_mae: 70.5423 - val_loss: 5063.1498 - val_custom_mae: 51.4695\n",
      "Time taken: 0:00:11.482189\n"
     ]
    },
    {
     "name": "stderr",
     "output_type": "stream",
     "text": [
      "\n",
      " 98%|████████████████████████████████████████████████████████████████████████████▋ | 354/360 [1:01:00<01:17, 12.87s/it]\u001b[A"
     ]
    },
    {
     "name": "stdout",
     "output_type": "stream",
     "text": [
      "{'activation': 'relu', 'batch_size': 64, 'dropout': 0.5, 'epochs': 1, 'first_neuron': 4096, 'hidden_layers': 3, 'label_type': 'Angular', 'loss_function': 'mean_squared_error', 'lr': 1, 'monitor_value': 'val_custom_mae', 'optimizer': <class 'tensorflow.python.keras.optimizer_v2.adam.Adam'>, 'reduction_metric': 'custom_mae', 'samples': 20000}\n",
      "Using Loss: mean_squared_error \n",
      "and Reduction Metric: [<function custom_mae at 0x000001C2C8E7DAF8>]\n",
      "Monitor: val_custom_mae\n",
      "Train on 16000 samples, validate on 3968 samples\n",
      "15808/16000 [============================>.] - ETA: 0s - loss: 5465.6237 - custom_mae: 52.6318\n",
      "Epoch 00001: val_custom_mae improved from inf to 36.33792, saving model to ..\\fast_output\\SYNTH_Regression_MSE\\201019_2253_final_Angular_Base_Custom-MAE\\Best_Weights_FC_354.hdf5\n",
      "16000/16000 [==============================] - 10s 631us/sample - loss: 5442.6985 - custom_mae: 52.4818 - val_loss: 3124.4663 - val_custom_mae: 36.3379\n",
      "Time taken: 0:00:11.624608\n"
     ]
    },
    {
     "name": "stderr",
     "output_type": "stream",
     "text": [
      "\n",
      " 99%|████████████████████████████████████████████████████████████████████████████▉ | 355/360 [1:01:14<01:05, 13.06s/it]\u001b[A"
     ]
    },
    {
     "name": "stdout",
     "output_type": "stream",
     "text": [
      "{'activation': 'relu', 'batch_size': 64, 'dropout': 0.5, 'epochs': 1, 'first_neuron': 4096, 'hidden_layers': 3, 'label_type': 'Angular', 'loss_function': 'mean_squared_error', 'lr': 2, 'monitor_value': 'val_custom_mae', 'optimizer': <class 'tensorflow.python.keras.optimizer_v2.adam.Adam'>, 'reduction_metric': 'custom_mae', 'samples': 20000}\n",
      "Using Loss: mean_squared_error \n",
      "and Reduction Metric: [<function custom_mae at 0x000001C2C8E7DAF8>]\n",
      "Monitor: val_custom_mae\n",
      "Train on 16000 samples, validate on 3968 samples\n",
      "15936/16000 [============================>.] - ETA: 0s - loss: 5672.0935 - custom_mae: 54.1336\n",
      "Epoch 00001: val_custom_mae improved from inf to 43.12086, saving model to ..\\fast_output\\SYNTH_Regression_MSE\\201019_2253_final_Angular_Base_Custom-MAE\\Best_Weights_FC_355.hdf5\n",
      "16000/16000 [==============================] - 10s 627us/sample - loss: 5668.1300 - custom_mae: 54.1114 - val_loss: 3568.8695 - val_custom_mae: 43.1209\n",
      "Time taken: 0:00:11.549930\n"
     ]
    },
    {
     "name": "stderr",
     "output_type": "stream",
     "text": [
      "\n",
      " 99%|█████████████████████████████████████████████████████████████████████████████▏| 356/360 [1:01:27<00:52, 13.15s/it]\u001b[A"
     ]
    },
    {
     "name": "stdout",
     "output_type": "stream",
     "text": [
      "{'activation': 'relu', 'batch_size': 64, 'dropout': 0.5, 'epochs': 1, 'first_neuron': 4096, 'hidden_layers': 3, 'label_type': 'Angular', 'loss_function': 'mean_squared_error', 'lr': 5, 'monitor_value': 'val_custom_mae', 'optimizer': <class 'tensorflow.python.keras.optimizer_v2.adam.Adam'>, 'reduction_metric': 'custom_mae', 'samples': 20000}\n",
      "Using Loss: mean_squared_error \n",
      "and Reduction Metric: [<function custom_mae at 0x000001C2C8E7DAF8>]\n",
      "Monitor: val_custom_mae\n",
      "Train on 16000 samples, validate on 3968 samples\n",
      "15936/16000 [============================>.] - ETA: 0s - loss: 52879.2781 - custom_mae: 74.8995\n",
      "Epoch 00001: val_custom_mae improved from inf to 48.66927, saving model to ..\\fast_output\\SYNTH_Regression_MSE\\201019_2253_final_Angular_Base_Custom-MAE\\Best_Weights_FC_356.hdf5\n",
      "16000/16000 [==============================] - 10s 625us/sample - loss: 52690.4264 - custom_mae: 74.8110 - val_loss: 4527.6081 - val_custom_mae: 48.6693\n",
      "Time taken: 0:00:11.500276\n"
     ]
    },
    {
     "name": "stderr",
     "output_type": "stream",
     "text": [
      "\n",
      " 99%|█████████████████████████████████████████████████████████████████████████████▎| 357/360 [1:01:40<00:39, 13.18s/it]\u001b[A"
     ]
    },
    {
     "name": "stdout",
     "output_type": "stream",
     "text": [
      "{'activation': 'relu', 'batch_size': 64, 'dropout': 0.5, 'epochs': 1, 'first_neuron': 4096, 'hidden_layers': 4, 'label_type': 'Angular', 'loss_function': 'mean_squared_error', 'lr': 1, 'monitor_value': 'val_custom_mae', 'optimizer': <class 'tensorflow.python.keras.optimizer_v2.adam.Adam'>, 'reduction_metric': 'custom_mae', 'samples': 20000}\n",
      "Using Loss: mean_squared_error \n",
      "and Reduction Metric: [<function custom_mae at 0x000001C2C8E7DAF8>]\n",
      "Monitor: val_custom_mae\n",
      "Train on 16000 samples, validate on 3968 samples\n",
      "15808/16000 [============================>.] - ETA: 0s - loss: 5921.7356 - custom_mae: 55.5980\n",
      "Epoch 00001: val_custom_mae improved from inf to 46.55930, saving model to ..\\fast_output\\SYNTH_Regression_MSE\\201019_2253_final_Angular_Base_Custom-MAE\\Best_Weights_FC_357.hdf5\n",
      "16000/16000 [==============================] - 10s 636us/sample - loss: 5896.7716 - custom_mae: 55.4762 - val_loss: 4059.8412 - val_custom_mae: 46.5593\n",
      "Time taken: 0:00:11.656940\n"
     ]
    },
    {
     "name": "stderr",
     "output_type": "stream",
     "text": [
      "\n",
      " 99%|█████████████████████████████████████████████████████████████████████████████▌| 358/360 [1:01:54<00:26, 13.26s/it]\u001b[A"
     ]
    },
    {
     "name": "stdout",
     "output_type": "stream",
     "text": [
      "{'activation': 'relu', 'batch_size': 64, 'dropout': 0.5, 'epochs': 1, 'first_neuron': 4096, 'hidden_layers': 4, 'label_type': 'Angular', 'loss_function': 'mean_squared_error', 'lr': 2, 'monitor_value': 'val_custom_mae', 'optimizer': <class 'tensorflow.python.keras.optimizer_v2.adam.Adam'>, 'reduction_metric': 'custom_mae', 'samples': 20000}\n",
      "Using Loss: mean_squared_error \n",
      "and Reduction Metric: [<function custom_mae at 0x000001C2C8E7DAF8>]\n",
      "Monitor: val_custom_mae\n",
      "Train on 16000 samples, validate on 3968 samples\n",
      "15744/16000 [============================>.] - ETA: 0s - loss: 7332.6829 - custom_mae: 60.6075\n",
      "Epoch 00001: val_custom_mae improved from inf to 48.78604, saving model to ..\\fast_output\\SYNTH_Regression_MSE\\201019_2253_final_Angular_Base_Custom-MAE\\Best_Weights_FC_358.hdf5\n",
      "16000/16000 [==============================] - 10s 640us/sample - loss: 7289.3387 - custom_mae: 60.4253 - val_loss: 4449.0054 - val_custom_mae: 48.7860\n",
      "Time taken: 0:00:11.745371\n"
     ]
    },
    {
     "name": "stderr",
     "output_type": "stream",
     "text": [
      "\n",
      "100%|█████████████████████████████████████████████████████████████████████████████▊| 359/360 [1:02:07<00:13, 13.35s/it]\u001b[A"
     ]
    },
    {
     "name": "stdout",
     "output_type": "stream",
     "text": [
      "{'activation': 'relu', 'batch_size': 64, 'dropout': 0.5, 'epochs': 1, 'first_neuron': 4096, 'hidden_layers': 4, 'label_type': 'Angular', 'loss_function': 'mean_squared_error', 'lr': 5, 'monitor_value': 'val_custom_mae', 'optimizer': <class 'tensorflow.python.keras.optimizer_v2.adam.Adam'>, 'reduction_metric': 'custom_mae', 'samples': 20000}\n",
      "Using Loss: mean_squared_error \n",
      "and Reduction Metric: [<function custom_mae at 0x000001C2C8E7DAF8>]\n",
      "Monitor: val_custom_mae\n",
      "Train on 16000 samples, validate on 3968 samples\n",
      "15808/16000 [============================>.] - ETA: 0s - loss: 25436.8536 - custom_mae: 71.2044\n",
      "Epoch 00001: val_custom_mae improved from inf to 53.17735, saving model to ..\\fast_output\\SYNTH_Regression_MSE\\201019_2253_final_Angular_Base_Custom-MAE\\Best_Weights_FC_359.hdf5\n",
      "16000/16000 [==============================] - 10s 636us/sample - loss: 25207.2387 - custom_mae: 71.0281 - val_loss: 5289.7133 - val_custom_mae: 53.1774\n",
      "Time taken: 0:00:11.672369\n"
     ]
    },
    {
     "name": "stderr",
     "output_type": "stream",
     "text": [
      "\n",
      "100%|██████████████████████████████████████████████████████████████████████████████| 360/360 [1:02:21<00:00, 10.39s/it]\u001b[A\n"
     ]
    }
   ],
   "source": [
    "import numpy as np\n",
    "dummy_x = np.empty((1, 2, 3, 224, 224))\n",
    "dummy_y = np.empty((1, 2))\n",
    "\n",
    "with tf.device('/device:GPU:1'):\n",
    "    \n",
    "        t = ta.Scan(\n",
    "            x = dummy_x,\n",
    "            y = dummy_y,\n",
    "            model = grid_model_base,\n",
    "            params = hyper_parameter,\n",
    "            experiment_name = '{}'.format(_DATASET_NAME),\n",
    "            #shuffle=False,\n",
    "            reduction_metric = hyper_parameter['reduction_metric'][0],\n",
    "            disable_progress_bar = False,\n",
    "            print_params = True,\n",
    "            clear_session = True,\n",
    "            save_weights = False\n",
    "        )\n",
    "        \n",
    "\n",
    "t.data.to_csv(_LOG_DIR + _RESULTS_FILE, index = True)"
   ]
  },
  {
   "cell_type": "markdown",
   "metadata": {},
   "source": [
    "# Copy best 10 Results to NAS if SSD Directory was selected"
   ]
  },
  {
   "cell_type": "code",
   "execution_count": null,
   "metadata": {},
   "outputs": [],
   "source": [
    "best_results = _LOG_DIR + '..\\\\{}_{}_Base{}_Results.csv'.format(_DATASET_NAME, hyper_parameter['label_type'][0], _note)\n",
    "df = pd.read_csv(best_results).drop(columns = ['round_epochs', 'samples', 'epochs'], axis = 0)\n",
    "df = df.sort_values(hyper_parameter['monitor_value'][0], axis = 0, ascending = True, inplace = False, kind = 'quicksort', na_position = 'last')\n",
    "print('Displaying: {}'.format(best_results))\n",
    "df.head(10)"
   ]
  },
  {
   "cell_type": "code",
   "execution_count": null,
   "metadata": {},
   "outputs": [],
   "source": [
    "def copy_base_directory(src, dst, data, symlinks = False, ignore = None):\n",
    "    maxLen = 0\n",
    "    message = ''\n",
    "    \n",
    "    networks_to_copy = data.head(10).index\n",
    "    \n",
    "    if not os.path.exists(dst):\n",
    "        \n",
    "        message = 'Creating Path: {}'.format(src)\n",
    "        maxLen = max(maxLen, len(message))\n",
    "        print(message + ' ' * (maxLen - len(message)), end = '\\r')\n",
    "        \n",
    "        os.makedirs(dst)\n",
    "        \n",
    "    for item in os.listdir(src):\n",
    "        \n",
    "        s = os.path.join(src, item)\n",
    "        d = os.path.join(dst, item)\n",
    "        \n",
    "        if os.path.isdir(s):\n",
    "            \n",
    "            message = 'Copying Directory: {}'.format(s)\n",
    "            maxLen = max(maxLen, len(message))\n",
    "            print(message + ' ' * (maxLen - len(message)), end = '\\r')\n",
    "            \n",
    "            shutil.copytree(s, d, symlinks, ignore)\n",
    "            \n",
    "        else:\n",
    "            \n",
    "            if not os.path.exists(d): #or os.stat(s).st_mtime - os.stat(d).st_mtime > 1:\n",
    "                for idx in networks_to_copy:\n",
    "                    net = '_FC_{}.hdf5'.format(idx)\n",
    "                    if net in item or '_Bottleneck_' in item or '_GPU' in item:\n",
    "                        message = 'Copying File: {}'.format(s)\n",
    "                        maxLen = max(maxLen, len(message))\n",
    "                        print(message + ' ' * (maxLen - len(message)), end = '\\r')\n",
    "                \n",
    "                        shutil.copy2(s, d)\n",
    "        \n",
    "        time.sleep(.1)    \n",
    "    \n",
    "    src_csv = src + _RESULTS_FILE\n",
    "    dst_csv = dst + _RESULTS_FILE\n",
    "    if not os.path.exists(dst_csv):\n",
    "        message = 'Copying File: {}'.format(src_csv)\n",
    "        maxLen = max(maxLen, len(message))\n",
    "        print(message + ' ' * (maxLen - len(message)), end = '\\r')\n",
    "        shutil.copy2(src_csv, dst_csv)\n",
    "     \n",
    "    message = 'Coyping... Done'\n",
    "    maxLen = max(maxLen, len(message))\n",
    "    print(message + ' ' * (maxLen - len(message)), end = '\\n')\n",
    "\n",
    "    \n",
    "def delete_directory(src, terminator = '\\n'):\n",
    "    message = ''\n",
    "    maxLen = 0\n",
    "    \n",
    "    try:\n",
    "        message = 'Deleting {}'.format(src)\n",
    "        maxLen = max(maxLen, len(message))\n",
    "        print(message + ' ' * (maxLen - len(message)), end = '\\r')\n",
    "        \n",
    "        if os.path.isdir(src):\n",
    "            shutil.rmtree(src)\n",
    "            \n",
    "        elif os.path.isfile(src):\n",
    "            os.remove(src)\n",
    "        \n",
    "    except OSError as e:\n",
    "        message = 'Error: {} : {}'.format(src, e.strerror)\n",
    "        maxLen = max(maxLen, len(message))\n",
    "        print(message + ' ' * (maxLen - len(message)), end = '\\n')\n",
    "        return\n",
    "    \n",
    "    message = 'Deleting... Done'\n",
    "    maxLen = max(maxLen, len(message))\n",
    "    print(message + ' ' * (maxLen - len(message)), end = terminator)\n",
    "\n",
    "    \n",
    "def copy_base_training(src, dst):\n",
    "    copy_base_directory(src, dst, df)\n",
    "    \n",
    "    delete_directory(src, terminator = '\\r')\n",
    "    delete_directory(src + _RESULTS_FILE, terminator = '\\r')\n",
    "    if not os.listdir(src + '..\\\\'):\n",
    "        delete_directory(src + '..\\\\', terminator = '\\r')"
   ]
  },
  {
   "cell_type": "code",
   "execution_count": null,
   "metadata": {
    "scrolled": true
   },
   "outputs": [],
   "source": [
    "if(storage == OutputDirectory.SSD):\n",
    "    _COPY_DIR = '..\\\\output\\\\{}'.format(_NET_DIR)\n",
    "    copy_base_training(_LOG_DIR, _COPY_DIR)"
   ]
  },
  {
   "cell_type": "code",
   "execution_count": null,
   "metadata": {},
   "outputs": [],
   "source": []
  },
  {
   "cell_type": "code",
   "execution_count": null,
   "metadata": {},
   "outputs": [],
   "source": []
  }
 ],
 "metadata": {
  "kernelspec": {
   "display_name": "Python 3",
   "language": "python",
   "name": "python3"
  },
  "language_info": {
   "codemirror_mode": {
    "name": "ipython",
    "version": 3
   },
   "file_extension": ".py",
   "mimetype": "text/x-python",
   "name": "python",
   "nbconvert_exporter": "python",
   "pygments_lexer": "ipython3",
   "version": "3.7.7"
  }
 },
 "nbformat": 4,
 "nbformat_minor": 2
}
