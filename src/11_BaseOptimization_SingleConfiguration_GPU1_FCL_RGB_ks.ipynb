{
 "cells": [
  {
   "cell_type": "markdown",
   "metadata": {},
   "source": [
    "# Single Base Training on GPU1"
   ]
  },
  {
   "cell_type": "markdown",
   "metadata": {},
   "source": [
    "# Quick Links <a name = \"Top\"></a>\n",
    "<ol>\n",
    "    <li><p><a href = #setup>Set Up</a></p></li>\n",
    "    <li><p><a href = #Base>Base Training</a></p></li>\n",
    "</ol>"
   ]
  },
  {
   "cell_type": "markdown",
   "metadata": {},
   "source": [
    "# Imports"
   ]
  },
  {
   "cell_type": "code",
   "execution_count": 1,
   "metadata": {},
   "outputs": [
    {
     "name": "stdout",
     "output_type": "stream",
     "text": [
      "Current Conda Environment: tf_ks\n"
     ]
    }
   ],
   "source": [
    "import os\n",
    "import shutil\n",
    "\n",
    "print('Current Conda Environment: {}'.format(os.environ['CONDA_DEFAULT_ENV']))"
   ]
  },
  {
   "cell_type": "code",
   "execution_count": 2,
   "metadata": {},
   "outputs": [],
   "source": [
    "#pip install talos"
   ]
  },
  {
   "cell_type": "code",
   "execution_count": 3,
   "metadata": {},
   "outputs": [
    {
     "name": "stderr",
     "output_type": "stream",
     "text": [
      "Using TensorFlow backend.\n"
     ]
    },
    {
     "name": "stdout",
     "output_type": "stream",
     "text": [
      "The installed version of TensorFlow 2.1.0 includes GPU support.\n",
      "\n",
      "Num GPUs Available:  2 \n",
      "\n",
      "[name: \"/device:CPU:0\"\n",
      "device_type: \"CPU\"\n",
      "memory_limit: 268435456\n",
      "locality {\n",
      "}\n",
      "incarnation: 13386917070961073959\n",
      ", name: \"/device:GPU:0\"\n",
      "device_type: \"GPU\"\n",
      "memory_limit: 9105744200\n",
      "locality {\n",
      "  bus_id: 1\n",
      "  links {\n",
      "  }\n",
      "}\n",
      "incarnation: 10994593404642714829\n",
      "physical_device_desc: \"device: 0, name: GeForce RTX 2080 Ti, pci bus id: 0000:17:00.0, compute capability: 7.5\"\n",
      ", name: \"/device:GPU:1\"\n",
      "device_type: \"GPU\"\n",
      "memory_limit: 9104897474\n",
      "locality {\n",
      "  bus_id: 1\n",
      "  links {\n",
      "  }\n",
      "}\n",
      "incarnation: 3183299858277861239\n",
      "physical_device_desc: \"device: 1, name: GeForce RTX 2080 Ti, pci bus id: 0000:65:00.0, compute capability: 7.5\"\n",
      "]\n"
     ]
    }
   ],
   "source": [
    "import talos as ta\n",
    "from talos.model import lr_normalizer, early_stopper, hidden_layers\n",
    "\n",
    "import tensorflow as tf\n",
    "  \n",
    "available_gpus = tf.config.experimental.list_physical_devices('GPU')\n",
    "built_with_cuda = tf.test.is_built_with_cuda()\n",
    "\n",
    "if not (not available_gpus) & built_with_cuda:\n",
    "    print(\"The installed version of TensorFlow {} includes GPU support.\\n\".format(tf.__version__))\n",
    "    print(\"Num GPUs Available: \", len(available_gpus), \"\\n\")\n",
    "else:\n",
    "    print(\"The installed version of TensorFlow {} does not include GPU support.\\n\".format(tf.__version__))\n",
    "    \n",
    "from tensorflow.python.client import device_lib\n",
    "print(device_lib.list_local_devices())\n",
    "\n",
    "from tensorflow.compat.v1.keras import callbacks, backend as K\n",
    "from tensorflow.keras.models import Sequential, load_model\n",
    "from tensorflow.keras.layers import Dense, Dropout, Flatten\n",
    "from tensorflow.keras.preprocessing.image import ImageDataGenerator\n",
    "from tensorflow.keras.applications import VGG16\n",
    "from tensorflow.keras.utils import multi_gpu_model\n",
    "from tensorflow.keras.initializers import glorot_uniform\n",
    "from tensorflow.keras.optimizers import Adam, Nadam, RMSprop, SGD, Adagrad\n",
    "from tensorflow.keras.layers import ReLU, LeakyReLU\n",
    "\n",
    "from datetime import datetime\n",
    "import pandas as pd\n",
    "import numpy as np\n",
    "\n",
    "import time\n",
    "\n",
    "from numpy.random import seed\n",
    "seed(1)\n",
    "tf.random.set_seed(1)\n",
    "\n",
    "config = tf.compat.v1.ConfigProto()\n",
    "config.gpu_options.allow_growth=True\n",
    "config.gpu_options.per_process_gpu_memory_fraction = 0.99\n",
    "sess = tf.compat.v1.Session(config = config)\n",
    "K.set_session(sess)"
   ]
  },
  {
   "cell_type": "markdown",
   "metadata": {},
   "source": [
    "# Hilfsfunktionen"
   ]
  },
  {
   "cell_type": "markdown",
   "metadata": {},
   "source": [
    "### Output Directory\n",
    "\n",
    "* <i>SSD</i>, falls genug Speicher auf SSD im SymLink <i>fast_output</i> verfügbar ist\n",
    "* <i>HDD</i>, falls möglicherweise zu wenig SSD-Speicher verfügbar ist $\\rightarrow$ <i>output</i>"
   ]
  },
  {
   "cell_type": "code",
   "execution_count": 4,
   "metadata": {},
   "outputs": [],
   "source": [
    "from enum import IntEnum\n",
    "\n",
    "class OutputDirectory(IntEnum):\n",
    "    HDD = 0\n",
    "    SSD = 1\n",
    "    \n",
    "output_path = ['output', 'fast_output']"
   ]
  },
  {
   "cell_type": "markdown",
   "metadata": {},
   "source": [
    "### Convert Label_Type into suitable label names.\n",
    "$\\Rightarrow$ Angular / Normalized $\\rightarrow$ ['Elevation', 'Azimuth']\n",
    "\n",
    "$\\Rightarrow$ Stereographic $\\rightarrow$ ['S_x', 'S_y']"
   ]
  },
  {
   "cell_type": "code",
   "execution_count": 5,
   "metadata": {},
   "outputs": [],
   "source": [
    "def get_Label_Names(label_type):\n",
    "    if label_type == 'Angular' or label_type == 'Normalized':\n",
    "        return ['Elevation', 'Azimuth']\n",
    "    elif label_type == 'Stereographic':\n",
    "        return ['S_x', 'S_y']\n",
    "    else:\n",
    "        assert(True, 'LabelType Invalid')\n",
    "        return None"
   ]
  },
  {
   "cell_type": "markdown",
   "metadata": {},
   "source": [
    "### Benutzerdefinierte Kostenfunktion & Metrik"
   ]
  },
  {
   "cell_type": "code",
   "execution_count": 6,
   "metadata": {},
   "outputs": [],
   "source": [
    "def circular_mse(y_true, y_pred):\n",
    "    max_error = tf.constant(360, dtype = 'float32')\n",
    "    return K.mean(K.square(K.minimum(K.abs(y_pred - y_true), max_error - K.abs(y_pred - y_true))), axis = -1)\n",
    "\n",
    "def circular_mae(y_true, y_pred):\n",
    "    max_error = tf.constant(360, dtype = 'float32')\n",
    "    return K.mean(K.minimum(K.abs(y_pred - y_true), K.abs(max_error - K.abs(y_pred - y_true))), axis = -1)\n",
    "\n",
    "def custom_mae(y_true, y_pred):\n",
    "    return K.mean(K.abs(y_pred - y_true), axis = -1)"
   ]
  },
  {
   "cell_type": "markdown",
   "metadata": {},
   "source": [
    "### Convert String into Reduction Metric Function"
   ]
  },
  {
   "cell_type": "code",
   "execution_count": 7,
   "metadata": {},
   "outputs": [],
   "source": [
    "def get_Reduction_Metric(metric):\n",
    "    \n",
    "    if metric == 'custom_mae':\n",
    "        return [custom_mae]\n",
    "    elif metric == 'tf.keras.metrics.MeanAbsoluteError()':\n",
    "        return [tf.keras.metrics.MeanAbsoluteError()]\n",
    "    elif metric == 'circular_mae':\n",
    "        return [circular_mae]\n",
    "    elif metric == 'mean_squared_error':\n",
    "        return ['mean_squared_error']\n",
    "    else:\n",
    "        assert(False, 'Metric yet unknown - Please modify get_Reduction_Metric to meet your requirements')\n",
    "        return None"
   ]
  },
  {
   "cell_type": "markdown",
   "metadata": {},
   "source": [
    "### Generierung Bottleneck-Features"
   ]
  },
  {
   "cell_type": "code",
   "execution_count": 8,
   "metadata": {},
   "outputs": [],
   "source": [
    "def create_bottleneck_features(train_generator, valid_generator, bottleneck):\n",
    "        \n",
    "    print('Creating bottleneck features...')\n",
    "    model = VGG16(include_top = False, weights = 'imagenet')\n",
    "        \n",
    "    #bottleneck_features_train = model.predict_generator(train_generator, train_generator.n // train_generator.batch_size)\n",
    "    bottleneck_features_train = model.predict(train_generator)\n",
    "    np.save(open(_LOG_DIR + 'Train_' + bottleneck, 'wb'), bottleneck_features_train)\n",
    "        \n",
    "    #bottleneck_features_valid = model.predict_generator(valid_generator, valid_generator.n // valid_generator.batch_size)\n",
    "    bottleneck_features_valid = model.predict(valid_generator)\n",
    "    np.save(open(_LOG_DIR + 'Valid_'  + bottleneck, 'wb'), bottleneck_features_valid)"
   ]
  },
  {
   "cell_type": "markdown",
   "metadata": {},
   "source": [
    "### Generierung Datenpipeline (Angepasst für Talos)"
   ]
  },
  {
   "cell_type": "code",
   "execution_count": 9,
   "metadata": {},
   "outputs": [],
   "source": [
    "def prepare_data(batch_size, num_samples, label_type):\n",
    "    #print(_CSV_FILE)\n",
    "    df = pd.read_csv(_CSV_FILE)\n",
    "    df_shuffled = df.sample(frac = 1, random_state = 1)\n",
    "    df_train = df_shuffled[0 : int(num_samples * 0.8 // batch_size * batch_size)]   \n",
    "    df_valid = df_shuffled.drop(df_shuffled.index[0: df_train.shape[0]])[0 : int(num_samples * 0.2 // batch_size * batch_size)]\n",
    "    \n",
    "    train_labels = df_train.drop(['Filename RGB'], axis = 1).values\n",
    "    valid_labels = df_valid.drop(['Filename RGB'], axis = 1).values\n",
    "    \n",
    "    bottleneck = 'Bottleneck_Features_{}_{}.npy'.format(str(num_samples), str(batch_size))                                       \n",
    "    if not os.path.exists(_LOG_DIR + 'Train_' + bottleneck):\n",
    "        \n",
    "        if _USE_DATA_AUGMENTATION:\n",
    "            train_data_generator = ImageDataGenerator(\n",
    "                rescale = 1./255, \n",
    "                width_shift_range = 0.1,\n",
    "                height_shift_range = 0.1, \n",
    "                zoom_range = 0.1,\n",
    "                brightness_range = (0.25, 0.75),\n",
    "                fill_mode = 'nearest'\n",
    "            )\n",
    "        else:\n",
    "            train_data_generator = ImageDataGenerator(\n",
    "                rescale = 1./255\n",
    "            )\n",
    "            \n",
    "        valid_data_generator = ImageDataGenerator(\n",
    "            rescale = 1./255\n",
    "        )\n",
    "    \n",
    "        print('Y-Col: {}'.format(get_Label_Names(label_type)))\n",
    "        \n",
    "        train_generator = train_data_generator.flow_from_dataframe(\n",
    "            dataframe = df_train,\n",
    "            directory = _IMAGE_DIR,\n",
    "            x_col = 'Filename RGB',\n",
    "            y_col = get_Label_Names(label_type),\n",
    "            class_mode = 'raw',\n",
    "            target_size = (224, 224),\n",
    "            color_mode = 'rgb',\n",
    "            shuffle = False,\n",
    "            seed = 1,\n",
    "            batch_size = batch_size\n",
    "        )\n",
    "    \n",
    "        valid_generator = valid_data_generator.flow_from_dataframe(\n",
    "            dataframe = df_valid,\n",
    "            directory = _IMAGE_DIR,\n",
    "            x_col = 'Filename RGB',\n",
    "            y_col = get_Label_Names(label_type),\n",
    "            class_mode = 'raw',\n",
    "            target_size = (224, 224),\n",
    "            color_mode = 'rgb',\n",
    "            shuffle = False,\n",
    "            seed = 1,\n",
    "            batch_size = batch_size\n",
    "        )\n",
    "                                                        \n",
    "        create_bottleneck_features(train_generator, valid_generator, bottleneck)\n",
    "        \n",
    "    train_features = np.load(open(_LOG_DIR + 'Train_' + bottleneck, 'rb'))\n",
    "    valid_features = np.load(open(_LOG_DIR + 'Valid_' + bottleneck, 'rb'))\n",
    "                                                        \n",
    "    return train_labels, valid_labels, train_features, valid_features"
   ]
  },
  {
   "cell_type": "markdown",
   "metadata": {},
   "source": [
    "### Generierung Modell (Angepasst für Talos)"
   ]
  },
  {
   "cell_type": "raw",
   "metadata": {},
   "source": [
    "def grid_model_base(x, y, x_val, y_val, params):\n",
    "    \n",
    "    global _COUNTER    \n",
    "    K.clear_session()\n",
    "\n",
    "    train_labels, valid_labels, train_features, valid_features = prepare_data(params['batch_size'], params['samples'], params['label_type'])\n",
    "\n",
    "    model = Sequential()\n",
    "    model.add(Flatten(input_shape = train_features.shape[1 :])) # (7, 7, 512)\n",
    "    \n",
    "    dropout_rate = params['dropout']\n",
    "    first_neuron = params['first_neuron']\n",
    "    \n",
    "    if params['activation'] == 'leakyrelu':\n",
    "        activation_layer = LeakyReLU(alpha = 0.1)\n",
    "    elif params['activation'] == 'relu':\n",
    "        activation_layer = ReLU()  \n",
    "    \n",
    "    model.add(Dense(units = first_neuron, kernel_initializer = glorot_uniform(seed = 1)))\n",
    "    model.add(activation_layer)\n",
    "    if dropout_rate > 0.0:\n",
    "        model.add(Dropout(rate = dropout_rate))\n",
    "        \n",
    "    hidden_neuron_fraction = first_neuron\n",
    "    for i in range(params['hidden_layers']):\n",
    "        hidden_neuron_fraction = hidden_neuron_fraction // 2\n",
    "        model.add(Dense(units = hidden_neuron_fraction, kernel_initializer = glorot_uniform(seed = 1)))\n",
    "        model.add(activation_layer)\n",
    "        if dropout_rate > 0.0:\n",
    "            model.add(Dropout(rate = dropout_rate))\n",
    "    \n",
    "    model.add(Dense(units = 2, kernel_initializer = glorot_uniform(seed = 1)))\n",
    "\n",
    "    print('Using Loss: {} \\nand Reduction Metric: {}'.format(\n",
    "        params['loss_function'], \n",
    "        get_Reduction_Metric(params['reduction_metric'])))\n",
    "    \n",
    "    model.compile(\n",
    "        optimizer = params['optimizer'](lr = lr_normalizer(params['lr'], params['optimizer'])), \n",
    "        loss = params['loss_function'], \n",
    "        metrics = get_Reduction_Metric(params['reduction_metric'])\n",
    "    )\n",
    "    \n",
    "    print('Monitor: {}'.format(params['monitor_value']))\n",
    "    \n",
    "    checkpointer = callbacks.ModelCheckpoint(\n",
    "        filepath = _LOG_DIR + 'Best_Weights_FC_{}.hdf5'.format(_COUNTER),\n",
    "        monitor = params['monitor_value'],\n",
    "        verbose = 1,\n",
    "        save_best_only = True,\n",
    "        mode = 'min'\n",
    "    )\n",
    "    \n",
    "    startTime = datetime.now()\n",
    "    out = model.fit(\n",
    "        x = train_features,\n",
    "        y = train_labels,\n",
    "        epochs = params['epochs'],\n",
    "        validation_data = (valid_features, valid_labels),\n",
    "        steps_per_epoch = int(params['samples'] * 0.8 // params['batch_size']),\n",
    "        validation_steps = int(params['samples'] * 0.2 // params['batch_size']),\n",
    "        callbacks = [checkpointer]\n",
    "    )\n",
    "    print(\"Time taken:\", datetime.now() - startTime)\n",
    "    \n",
    "    _COUNTER = _COUNTER + 1\n",
    "     \n",
    "    return out, model"
   ]
  },
  {
   "cell_type": "markdown",
   "metadata": {},
   "source": [
    "# Parameter <a name = \"setup\"></a><a href = #Top>Up</a></p>"
   ]
  },
  {
   "cell_type": "markdown",
   "metadata": {},
   "source": [
    "### GridSerach"
   ]
  },
  {
   "cell_type": "markdown",
   "metadata": {},
   "source": [
    "#### Hyper Parameter"
   ]
  },
  {
   "cell_type": "code",
   "execution_count": 11,
   "metadata": {},
   "outputs": [],
   "source": [
    "#     Adam = RMSprop + Momentum (lr=0.001)\n",
    "#     Nadam = Adam RMSprop + Nesterov-Momentum (lr=0.002)\n",
    "#     RMSprop = (lr=0.001)\n",
    "#     SGD = (lr=0.01)\n",
    "#     Adagrad\n",
    "\n",
    "hyper_parameter = {\n",
    "    'samples': [20000],\n",
    "    'epochs': [1],\n",
    "    'batch_size': [32, 64],\n",
    "    'optimizer': [Adam],\n",
    "    'lr': [1, 2, 5],\n",
    "    'first_neuron': [1024, 2048, 4096],\n",
    "    'dropout': [0.25, 0.50],\n",
    "    'activation': ['leakyrelu', 'relu'],\n",
    "    'hidden_layers': [0, 1, 2, 3, 4],\n",
    "    # beginning from here, Values should only contain a single entry:\n",
    "    # ===============================================================\n",
    "    'label_type': ['Angular'], # Stereographic, Angular, Normalized\n",
    "    'loss_function': ['mean_squared_error'], # circular_mse\n",
    "    'reduction_metric': ['custom_mae'], # tf.keras.metrics.MeanAbsoluteError(), circular_mae, custom_mae, mean_squared_error\n",
    "    'monitor_value': ['val_custom_mae'] # val_custom_mae, val_mean_absolute_error, val_circular_mae, val_loss\n",
    "}"
   ]
  },
  {
   "cell_type": "code",
   "execution_count": 12,
   "metadata": {},
   "outputs": [],
   "source": [
    "def get_params():  \n",
    "    return p"
   ]
  },
  {
   "cell_type": "markdown",
   "metadata": {},
   "source": [
    "### Dateisystem"
   ]
  },
  {
   "cell_type": "code",
   "execution_count": 13,
   "metadata": {},
   "outputs": [],
   "source": [
    "_RUN = 'SYNTH'\n",
    "_LOSS = 'MSE'\n",
    "_DATASET_NAME = '201019_2253_final'#'2020-05-28'\n",
    "_DEVICE = 'GeForce_RTX_2080_Ti' #\"/device:GPU:1\" #'TITAN_GPU1'\n",
    "\n",
    "storage = OutputDirectory.SSD # 'fast_output' if ssd storage may suffice, 'output' otherwise\n",
    "\n",
    "#APPENDIX = 'Stereographic'\n",
    "\n",
    "#FUNCTION_OVERRIDE = ['mean_squared_error', [custom_mae], 'val_custom_mae'] # None, or e. g. ['mean_squared_error', [circular_mae], 'val_circular_mae']\n",
    "\n",
    "if hyper_parameter['label_type'][0] == 'Stereographic':\n",
    "    _CSV_FILE_NAME = 'images_synthetisch_stereographic.csv'\n",
    "    _STEREOGRAPHIC = True\n",
    "elif hyper_parameter['label_type'][0] == 'Angular':\n",
    "    _CSV_FILE_NAME = 'labels_ks_rgb.csv' #'images_synthetisch.csv'\n",
    "    _STEREOGRAPHIC = False\n",
    "elif hyper_parameter['label_type'][0] == 'Normalized':\n",
    "    _CSV_FILE_NAME = 'images_synthetisch_normalized.csv'\n",
    "    _STEREOGRAPHIC = False\n",
    "else:\n",
    "    assert(True, 'LabelType Invalid')"
   ]
  },
  {
   "cell_type": "code",
   "execution_count": 14,
   "metadata": {},
   "outputs": [],
   "source": [
    "_USE_DATA_AUGMENTATION = False"
   ]
  },
  {
   "cell_type": "code",
   "execution_count": 15,
   "metadata": {},
   "outputs": [
    {
     "name": "stdout",
     "output_type": "stream",
     "text": [
      "Directory >>| ..\\fast_output\\SYNTH_Regression_MSE\\201019_2253_final_Angular_Base_Custom-MAE\\ |<< existiert bereits. Fortsetzen auf eigene Gefahr! (Weiter mit Enter)\n"
     ]
    }
   ],
   "source": [
    "_MODEL_NAME = '{}_Optimierung_Hyperparameter_v{}'.format(_DATASET_NAME, _RUN)\n",
    "_IMAGE_DIR = '..\\\\..\\\\data_generation\\\\dataset\\\\{}\\\\'.format(_DATASET_NAME) # '..\\\\dataset\\\\{}\\\\'.format(_DATASET_NAME)\n",
    "_CSV_FILE = _IMAGE_DIR + _CSV_FILE_NAME\n",
    "\n",
    "_COUNTER = 0\n",
    "\n",
    "_note = '_Custom-MAE'\n",
    "\n",
    "_NET_DIR = '{}_Regression_{}\\\\{}_{}_Base{}\\\\'.format(_RUN, _LOSS, _DATASET_NAME, hyper_parameter['label_type'][0], _note)\n",
    "_LOG_DIR = '..\\\\{}\\\\{}'.format(output_path[storage], _NET_DIR)\n",
    "\n",
    "_RESULTS_FILE = '\\\\..\\\\{}_{}_Base{}_Results.csv'.format(_DATASET_NAME, hyper_parameter['label_type'][0], _note)\n",
    "\n",
    "if(not os.path.exists(_LOG_DIR)):\n",
    "    os.makedirs(_LOG_DIR)\n",
    "else:\n",
    "    input('Directory >>| {} |<< existiert bereits. Fortsetzen auf eigene Gefahr! (Weiter mit Enter)'.format(_LOG_DIR))\n",
    "\n",
    "device_file = open(_LOG_DIR + '{}'.format(_DEVICE), \"a+\")\n",
    "device_file.close()"
   ]
  },
  {
   "cell_type": "markdown",
   "metadata": {},
   "source": [
    "# Ausführung GridSearch mit Talos <a name = \"Base\"></a><a href = #Top>Up</a></p>"
   ]
  },
  {
   "cell_type": "code",
   "execution_count": 16,
   "metadata": {
    "scrolled": true
   },
   "outputs": [
    {
     "name": "stderr",
     "output_type": "stream",
     "text": [
      "\r",
      "  0%|                                                                                          | 0/360 [00:00<?, ?it/s]"
     ]
    },
    {
     "name": "stdout",
     "output_type": "stream",
     "text": [
      "{'activation': 'leakyrelu', 'batch_size': 32, 'dropout': 0.25, 'epochs': 1, 'first_neuron': 1024, 'hidden_layers': 0, 'label_type': 'Angular', 'loss_function': 'mean_squared_error', 'lr': 1, 'monitor_value': 'val_custom_mae', 'optimizer': <class 'tensorflow.python.keras.optimizer_v2.adam.Adam'>, 'reduction_metric': 'custom_mae', 'samples': 20000}\n",
      "Using Loss: mean_squared_error \n",
      "and Reduction Metric: [<function custom_mae at 0x0000026E06BB99D8>]\n",
      "Monitor: val_custom_mae\n",
      "Train on 16000 samples, validate on 4000 samples\n",
      "15968/16000 [============================>.] - ETA: 0s - loss: 3801.6748 - custom_mae: 39.0722\n",
      "Epoch 00001: val_custom_mae improved from inf to 31.90724, saving model to ..\\fast_output\\SYNTH_Regression_MSE\\201019_2253_final_Angular_Base_Custom-MAE\\Best_Weights_FC_0.hdf5\n",
      "16000/16000 [==============================] - 5s 334us/sample - loss: 3799.5094 - custom_mae: 39.0489 - val_loss: 2938.1040 - val_custom_mae: 31.9072\n",
      "Time taken: 0:00:06.893056\n"
     ]
    },
    {
     "name": "stderr",
     "output_type": "stream",
     "text": [
      "\r",
      "  0%|▏                                                                                 | 1/360 [00:09<54:25,  9.10s/it]"
     ]
    },
    {
     "name": "stdout",
     "output_type": "stream",
     "text": [
      "{'activation': 'leakyrelu', 'batch_size': 32, 'dropout': 0.25, 'epochs': 1, 'first_neuron': 1024, 'hidden_layers': 0, 'label_type': 'Angular', 'loss_function': 'mean_squared_error', 'lr': 2, 'monitor_value': 'val_custom_mae', 'optimizer': <class 'tensorflow.python.keras.optimizer_v2.adam.Adam'>, 'reduction_metric': 'custom_mae', 'samples': 20000}\n",
      "Using Loss: mean_squared_error \n",
      "and Reduction Metric: [<function custom_mae at 0x0000026E06BB99D8>]\n",
      "Monitor: val_custom_mae\n",
      "Train on 16000 samples, validate on 4000 samples\n",
      "15680/16000 [============================>.] - ETA: 0s - loss: 3734.5978 - custom_mae: 38.6073\n",
      "Epoch 00001: val_custom_mae improved from inf to 32.61966, saving model to ..\\fast_output\\SYNTH_Regression_MSE\\201019_2253_final_Angular_Base_Custom-MAE\\Best_Weights_FC_1.hdf5\n",
      "16000/16000 [==============================] - 4s 279us/sample - loss: 3710.9920 - custom_mae: 38.4334 - val_loss: 3080.8014 - val_custom_mae: 32.6197\n",
      "Time taken: 0:00:05.967023\n"
     ]
    },
    {
     "name": "stderr",
     "output_type": "stream",
     "text": [
      "\r",
      "  1%|▍                                                                                 | 2/360 [00:16<51:42,  8.67s/it]"
     ]
    },
    {
     "name": "stdout",
     "output_type": "stream",
     "text": [
      "{'activation': 'leakyrelu', 'batch_size': 32, 'dropout': 0.25, 'epochs': 1, 'first_neuron': 1024, 'hidden_layers': 0, 'label_type': 'Angular', 'loss_function': 'mean_squared_error', 'lr': 5, 'monitor_value': 'val_custom_mae', 'optimizer': <class 'tensorflow.python.keras.optimizer_v2.adam.Adam'>, 'reduction_metric': 'custom_mae', 'samples': 20000}\n",
      "Using Loss: mean_squared_error \n",
      "and Reduction Metric: [<function custom_mae at 0x0000026E06BB99D8>]\n",
      "Monitor: val_custom_mae\n",
      "Train on 16000 samples, validate on 4000 samples\n",
      "15904/16000 [============================>.] - ETA: 0s - loss: 3812.9038 - custom_mae: 38.7182 ETA: 0s - loss: 4020.3589 - c\n",
      "Epoch 00001: val_custom_mae improved from inf to 30.90188, saving model to ..\\fast_output\\SYNTH_Regression_MSE\\201019_2253_final_Angular_Base_Custom-MAE\\Best_Weights_FC_2.hdf5\n",
      "16000/16000 [==============================] - 4s 274us/sample - loss: 3807.3086 - custom_mae: 38.6687 - val_loss: 2886.1212 - val_custom_mae: 30.9019\n",
      "Time taken: 0:00:05.899054\n"
     ]
    },
    {
     "name": "stderr",
     "output_type": "stream",
     "text": [
      "\r",
      "  1%|▋                                                                                 | 3/360 [00:24<49:40,  8.35s/it]"
     ]
    },
    {
     "name": "stdout",
     "output_type": "stream",
     "text": [
      "{'activation': 'leakyrelu', 'batch_size': 32, 'dropout': 0.25, 'epochs': 1, 'first_neuron': 1024, 'hidden_layers': 1, 'label_type': 'Angular', 'loss_function': 'mean_squared_error', 'lr': 1, 'monitor_value': 'val_custom_mae', 'optimizer': <class 'tensorflow.python.keras.optimizer_v2.adam.Adam'>, 'reduction_metric': 'custom_mae', 'samples': 20000}\n",
      "Using Loss: mean_squared_error \n",
      "and Reduction Metric: [<function custom_mae at 0x0000026E06BB99D8>]\n",
      "Monitor: val_custom_mae\n",
      "Train on 16000 samples, validate on 4000 samples\n",
      "15680/16000 [============================>.] - ETA: 0s - loss: 3995.1194 - custom_mae: 40.9623\n",
      "Epoch 00001: val_custom_mae improved from inf to 32.05215, saving model to ..\\fast_output\\SYNTH_Regression_MSE\\201019_2253_final_Angular_Base_Custom-MAE\\Best_Weights_FC_3.hdf5\n",
      "16000/16000 [==============================] - 5s 295us/sample - loss: 3966.9972 - custom_mae: 40.7551 - val_loss: 2944.0790 - val_custom_mae: 32.0522\n",
      "Time taken: 0:00:06.235557\n"
     ]
    },
    {
     "name": "stderr",
     "output_type": "stream",
     "text": [
      "\r",
      "  1%|▉                                                                                 | 4/360 [00:32<48:51,  8.23s/it]"
     ]
    },
    {
     "name": "stdout",
     "output_type": "stream",
     "text": [
      "{'activation': 'leakyrelu', 'batch_size': 32, 'dropout': 0.25, 'epochs': 1, 'first_neuron': 1024, 'hidden_layers': 1, 'label_type': 'Angular', 'loss_function': 'mean_squared_error', 'lr': 2, 'monitor_value': 'val_custom_mae', 'optimizer': <class 'tensorflow.python.keras.optimizer_v2.adam.Adam'>, 'reduction_metric': 'custom_mae', 'samples': 20000}\n",
      "Using Loss: mean_squared_error \n",
      "and Reduction Metric: [<function custom_mae at 0x0000026E06BB99D8>]\n",
      "Monitor: val_custom_mae\n",
      "Train on 16000 samples, validate on 4000 samples\n",
      "15872/16000 [============================>.] - ETA: 0s - loss: 3933.9328 - custom_mae: 40.6200\n",
      "Epoch 00001: val_custom_mae improved from inf to 29.60960, saving model to ..\\fast_output\\SYNTH_Regression_MSE\\201019_2253_final_Angular_Base_Custom-MAE\\Best_Weights_FC_4.hdf5\n",
      "16000/16000 [==============================] - 5s 287us/sample - loss: 3924.4756 - custom_mae: 40.5453 - val_loss: 2620.7673 - val_custom_mae: 29.6096\n",
      "Time taken: 0:00:06.087560\n"
     ]
    },
    {
     "name": "stderr",
     "output_type": "stream",
     "text": [
      "\r",
      "  1%|█▏                                                                                | 5/360 [00:40<47:55,  8.10s/it]"
     ]
    },
    {
     "name": "stdout",
     "output_type": "stream",
     "text": [
      "{'activation': 'leakyrelu', 'batch_size': 32, 'dropout': 0.25, 'epochs': 1, 'first_neuron': 1024, 'hidden_layers': 1, 'label_type': 'Angular', 'loss_function': 'mean_squared_error', 'lr': 5, 'monitor_value': 'val_custom_mae', 'optimizer': <class 'tensorflow.python.keras.optimizer_v2.adam.Adam'>, 'reduction_metric': 'custom_mae', 'samples': 20000}\n",
      "Using Loss: mean_squared_error \n",
      "and Reduction Metric: [<function custom_mae at 0x0000026E06BB99D8>]\n",
      "Monitor: val_custom_mae\n",
      "Train on 16000 samples, validate on 4000 samples\n",
      "15904/16000 [============================>.] - ETA: 0s - loss: 4644.1312 - custom_mae: 43.2725\n",
      "Epoch 00001: val_custom_mae improved from inf to 35.27819, saving model to ..\\fast_output\\SYNTH_Regression_MSE\\201019_2253_final_Angular_Base_Custom-MAE\\Best_Weights_FC_5.hdf5\n",
      "16000/16000 [==============================] - 5s 285us/sample - loss: 4635.3034 - custom_mae: 43.2185 - val_loss: 3196.0329 - val_custom_mae: 35.2782\n",
      "Time taken: 0:00:06.056538\n"
     ]
    },
    {
     "name": "stderr",
     "output_type": "stream",
     "text": [
      "\r",
      "  2%|█▎                                                                                | 6/360 [00:47<47:13,  8.00s/it]"
     ]
    },
    {
     "name": "stdout",
     "output_type": "stream",
     "text": [
      "{'activation': 'leakyrelu', 'batch_size': 32, 'dropout': 0.25, 'epochs': 1, 'first_neuron': 1024, 'hidden_layers': 2, 'label_type': 'Angular', 'loss_function': 'mean_squared_error', 'lr': 1, 'monitor_value': 'val_custom_mae', 'optimizer': <class 'tensorflow.python.keras.optimizer_v2.adam.Adam'>, 'reduction_metric': 'custom_mae', 'samples': 20000}\n",
      "Using Loss: mean_squared_error \n",
      "and Reduction Metric: [<function custom_mae at 0x0000026E06BB99D8>]\n",
      "Monitor: val_custom_mae\n",
      "Train on 16000 samples, validate on 4000 samples\n",
      "15808/16000 [============================>.] - ETA: 0s - loss: 4174.6423 - custom_mae: 42.8208\n",
      "Epoch 00001: val_custom_mae improved from inf to 31.48091, saving model to ..\\fast_output\\SYNTH_Regression_MSE\\201019_2253_final_Angular_Base_Custom-MAE\\Best_Weights_FC_6.hdf5\n",
      "16000/16000 [==============================] - 5s 295us/sample - loss: 4160.6256 - custom_mae: 42.7122 - val_loss: 2823.3650 - val_custom_mae: 31.4809\n",
      "Time taken: 0:00:06.230698\n"
     ]
    },
    {
     "name": "stderr",
     "output_type": "stream",
     "text": [
      "\r",
      "  2%|█▌                                                                                | 7/360 [00:55<47:02,  8.00s/it]"
     ]
    },
    {
     "name": "stdout",
     "output_type": "stream",
     "text": [
      "{'activation': 'leakyrelu', 'batch_size': 32, 'dropout': 0.25, 'epochs': 1, 'first_neuron': 1024, 'hidden_layers': 2, 'label_type': 'Angular', 'loss_function': 'mean_squared_error', 'lr': 2, 'monitor_value': 'val_custom_mae', 'optimizer': <class 'tensorflow.python.keras.optimizer_v2.adam.Adam'>, 'reduction_metric': 'custom_mae', 'samples': 20000}\n",
      "Using Loss: mean_squared_error \n",
      "and Reduction Metric: [<function custom_mae at 0x0000026E06BB99D8>]\n",
      "Monitor: val_custom_mae\n",
      "Train on 16000 samples, validate on 4000 samples\n",
      "15680/16000 [============================>.] - ETA: 0s - loss: 4093.6057 - custom_mae: 42.2121\n",
      "Epoch 00001: val_custom_mae improved from inf to 30.80041, saving model to ..\\fast_output\\SYNTH_Regression_MSE\\201019_2253_final_Angular_Base_Custom-MAE\\Best_Weights_FC_7.hdf5\n",
      "16000/16000 [==============================] - 5s 293us/sample - loss: 4068.6358 - custom_mae: 42.0299 - val_loss: 2654.1113 - val_custom_mae: 30.8004\n",
      "Time taken: 0:00:06.178589\n"
     ]
    },
    {
     "name": "stderr",
     "output_type": "stream",
     "text": [
      "\r",
      "  2%|█▊                                                                                | 8/360 [01:03<46:46,  7.97s/it]"
     ]
    },
    {
     "name": "stdout",
     "output_type": "stream",
     "text": [
      "{'activation': 'leakyrelu', 'batch_size': 32, 'dropout': 0.25, 'epochs': 1, 'first_neuron': 1024, 'hidden_layers': 2, 'label_type': 'Angular', 'loss_function': 'mean_squared_error', 'lr': 5, 'monitor_value': 'val_custom_mae', 'optimizer': <class 'tensorflow.python.keras.optimizer_v2.adam.Adam'>, 'reduction_metric': 'custom_mae', 'samples': 20000}\n",
      "Using Loss: mean_squared_error \n",
      "and Reduction Metric: [<function custom_mae at 0x0000026E06BB99D8>]\n",
      "Monitor: val_custom_mae\n",
      "Train on 16000 samples, validate on 4000 samples\n",
      "15776/16000 [============================>.] - ETA: 0s - loss: 4622.3246 - custom_mae: 45.3569\n",
      "Epoch 00001: val_custom_mae improved from inf to 32.06067, saving model to ..\\fast_output\\SYNTH_Regression_MSE\\201019_2253_final_Angular_Base_Custom-MAE\\Best_Weights_FC_8.hdf5\n",
      "16000/16000 [==============================] - 5s 293us/sample - loss: 4596.2222 - custom_mae: 45.1834 - val_loss: 2718.9560 - val_custom_mae: 32.0607\n",
      "Time taken: 0:00:06.189116\n"
     ]
    },
    {
     "name": "stderr",
     "output_type": "stream",
     "text": [
      "\r",
      "  2%|██                                                                                | 9/360 [01:11<46:35,  7.96s/it]"
     ]
    },
    {
     "name": "stdout",
     "output_type": "stream",
     "text": [
      "{'activation': 'leakyrelu', 'batch_size': 32, 'dropout': 0.25, 'epochs': 1, 'first_neuron': 1024, 'hidden_layers': 3, 'label_type': 'Angular', 'loss_function': 'mean_squared_error', 'lr': 1, 'monitor_value': 'val_custom_mae', 'optimizer': <class 'tensorflow.python.keras.optimizer_v2.adam.Adam'>, 'reduction_metric': 'custom_mae', 'samples': 20000}\n",
      "Using Loss: mean_squared_error \n",
      "and Reduction Metric: [<function custom_mae at 0x0000026E06BB99D8>]\n",
      "Monitor: val_custom_mae\n",
      "Train on 16000 samples, validate on 4000 samples\n",
      "15872/16000 [============================>.] - ETA: 0s - loss: 4495.8507 - custom_mae: 45.4765\n",
      "Epoch 00001: val_custom_mae improved from inf to 31.50134, saving model to ..\\fast_output\\SYNTH_Regression_MSE\\201019_2253_final_Angular_Base_Custom-MAE\\Best_Weights_FC_9.hdf5\n",
      "16000/16000 [==============================] - 5s 299us/sample - loss: 4485.5497 - custom_mae: 45.3912 - val_loss: 2726.1558 - val_custom_mae: 31.5013\n",
      "Time taken: 0:00:06.274748\n"
     ]
    },
    {
     "name": "stderr",
     "output_type": "stream",
     "text": [
      "\r",
      "  3%|██▎                                                                              | 10/360 [01:19<46:36,  7.99s/it]"
     ]
    },
    {
     "name": "stdout",
     "output_type": "stream",
     "text": [
      "{'activation': 'leakyrelu', 'batch_size': 32, 'dropout': 0.25, 'epochs': 1, 'first_neuron': 1024, 'hidden_layers': 3, 'label_type': 'Angular', 'loss_function': 'mean_squared_error', 'lr': 2, 'monitor_value': 'val_custom_mae', 'optimizer': <class 'tensorflow.python.keras.optimizer_v2.adam.Adam'>, 'reduction_metric': 'custom_mae', 'samples': 20000}\n",
      "Using Loss: mean_squared_error \n",
      "and Reduction Metric: [<function custom_mae at 0x0000026E06BB99D8>]\n",
      "Monitor: val_custom_mae\n",
      "Train on 16000 samples, validate on 4000 samples\n",
      "15872/16000 [============================>.] - ETA: 0s - loss: 4645.2888 - custom_mae: 46.7753\n",
      "Epoch 00001: val_custom_mae improved from inf to 33.73294, saving model to ..\\fast_output\\SYNTH_Regression_MSE\\201019_2253_final_Angular_Base_Custom-MAE\\Best_Weights_FC_10.hdf5\n",
      "16000/16000 [==============================] - 5s 301us/sample - loss: 4634.7649 - custom_mae: 46.6768 - val_loss: 2856.3123 - val_custom_mae: 33.7329\n",
      "Time taken: 0:00:06.322547\n"
     ]
    },
    {
     "name": "stderr",
     "output_type": "stream",
     "text": [
      "\r",
      "  3%|██▍                                                                              | 11/360 [01:27<46:41,  8.03s/it]"
     ]
    },
    {
     "name": "stdout",
     "output_type": "stream",
     "text": [
      "{'activation': 'leakyrelu', 'batch_size': 32, 'dropout': 0.25, 'epochs': 1, 'first_neuron': 1024, 'hidden_layers': 3, 'label_type': 'Angular', 'loss_function': 'mean_squared_error', 'lr': 5, 'monitor_value': 'val_custom_mae', 'optimizer': <class 'tensorflow.python.keras.optimizer_v2.adam.Adam'>, 'reduction_metric': 'custom_mae', 'samples': 20000}\n",
      "Using Loss: mean_squared_error \n",
      "and Reduction Metric: [<function custom_mae at 0x0000026E06BB99D8>]\n",
      "Monitor: val_custom_mae\n",
      "Train on 16000 samples, validate on 4000 samples\n",
      "15840/16000 [============================>.] - ETA: 0s - loss: 5080.1743 - custom_mae: 49.5485\n",
      "Epoch 00001: val_custom_mae improved from inf to 36.06062, saving model to ..\\fast_output\\SYNTH_Regression_MSE\\201019_2253_final_Angular_Base_Custom-MAE\\Best_Weights_FC_11.hdf5\n",
      "16000/16000 [==============================] - 5s 301us/sample - loss: 5068.1455 - custom_mae: 49.4576 - val_loss: 3178.3384 - val_custom_mae: 36.0606\n",
      "Time taken: 0:00:06.309486\n"
     ]
    },
    {
     "name": "stderr",
     "output_type": "stream",
     "text": [
      "\r",
      "  3%|██▋                                                                              | 12/360 [01:35<46:37,  8.04s/it]"
     ]
    },
    {
     "name": "stdout",
     "output_type": "stream",
     "text": [
      "{'activation': 'leakyrelu', 'batch_size': 32, 'dropout': 0.25, 'epochs': 1, 'first_neuron': 1024, 'hidden_layers': 4, 'label_type': 'Angular', 'loss_function': 'mean_squared_error', 'lr': 1, 'monitor_value': 'val_custom_mae', 'optimizer': <class 'tensorflow.python.keras.optimizer_v2.adam.Adam'>, 'reduction_metric': 'custom_mae', 'samples': 20000}\n",
      "Using Loss: mean_squared_error \n",
      "and Reduction Metric: [<function custom_mae at 0x0000026E06BB99D8>]\n",
      "Monitor: val_custom_mae\n",
      "Train on 16000 samples, validate on 4000 samples\n",
      "15776/16000 [============================>.] - ETA: 0s - loss: 4971.8847 - custom_mae: 49.4240\n",
      "Epoch 00001: val_custom_mae improved from inf to 34.05320, saving model to ..\\fast_output\\SYNTH_Regression_MSE\\201019_2253_final_Angular_Base_Custom-MAE\\Best_Weights_FC_12.hdf5\n",
      "16000/16000 [==============================] - 5s 310us/sample - loss: 4949.5046 - custom_mae: 49.2646 - val_loss: 2945.3861 - val_custom_mae: 34.0532\n",
      "Time taken: 0:00:06.451782\n"
     ]
    },
    {
     "name": "stderr",
     "output_type": "stream",
     "text": [
      "\r",
      "  4%|██▉                                                                              | 13/360 [01:44<46:48,  8.09s/it]"
     ]
    },
    {
     "name": "stdout",
     "output_type": "stream",
     "text": [
      "{'activation': 'leakyrelu', 'batch_size': 32, 'dropout': 0.25, 'epochs': 1, 'first_neuron': 1024, 'hidden_layers': 4, 'label_type': 'Angular', 'loss_function': 'mean_squared_error', 'lr': 2, 'monitor_value': 'val_custom_mae', 'optimizer': <class 'tensorflow.python.keras.optimizer_v2.adam.Adam'>, 'reduction_metric': 'custom_mae', 'samples': 20000}\n",
      "Using Loss: mean_squared_error \n",
      "and Reduction Metric: [<function custom_mae at 0x0000026E06BB99D8>]\n",
      "Monitor: val_custom_mae\n",
      "Train on 16000 samples, validate on 4000 samples\n",
      "15840/16000 [============================>.] - ETA: 0s - loss: 4980.6671 - custom_mae: 49.2322\n",
      "Epoch 00001: val_custom_mae improved from inf to 35.78651, saving model to ..\\fast_output\\SYNTH_Regression_MSE\\201019_2253_final_Angular_Base_Custom-MAE\\Best_Weights_FC_13.hdf5\n",
      "16000/16000 [==============================] - 5s 306us/sample - loss: 4963.0861 - custom_mae: 49.1045 - val_loss: 3138.6568 - val_custom_mae: 35.7865\n",
      "Time taken: 0:00:06.395587\n"
     ]
    },
    {
     "name": "stderr",
     "output_type": "stream",
     "text": [
      "\r",
      "  4%|███▏                                                                             | 14/360 [01:52<46:49,  8.12s/it]"
     ]
    },
    {
     "name": "stdout",
     "output_type": "stream",
     "text": [
      "{'activation': 'leakyrelu', 'batch_size': 32, 'dropout': 0.25, 'epochs': 1, 'first_neuron': 1024, 'hidden_layers': 4, 'label_type': 'Angular', 'loss_function': 'mean_squared_error', 'lr': 5, 'monitor_value': 'val_custom_mae', 'optimizer': <class 'tensorflow.python.keras.optimizer_v2.adam.Adam'>, 'reduction_metric': 'custom_mae', 'samples': 20000}\n",
      "Using Loss: mean_squared_error \n",
      "and Reduction Metric: [<function custom_mae at 0x0000026E06BB99D8>]\n",
      "Monitor: val_custom_mae\n",
      "Train on 16000 samples, validate on 4000 samples\n",
      "15808/16000 [============================>.] - ETA: 0s - loss: 6179.4036 - custom_mae: 55.9091\n",
      "Epoch 00001: val_custom_mae improved from inf to 51.11852, saving model to ..\\fast_output\\SYNTH_Regression_MSE\\201019_2253_final_Angular_Base_Custom-MAE\\Best_Weights_FC_14.hdf5\n",
      "16000/16000 [==============================] - 5s 307us/sample - loss: 6163.1854 - custom_mae: 55.8411 - val_loss: 5057.6183 - val_custom_mae: 51.1185\n",
      "Time taken: 0:00:06.423208\n"
     ]
    },
    {
     "name": "stderr",
     "output_type": "stream",
     "text": [
      "\r",
      "  4%|███▍                                                                             | 15/360 [02:00<46:50,  8.15s/it]"
     ]
    },
    {
     "name": "stdout",
     "output_type": "stream",
     "text": [
      "{'activation': 'leakyrelu', 'batch_size': 32, 'dropout': 0.25, 'epochs': 1, 'first_neuron': 2048, 'hidden_layers': 0, 'label_type': 'Angular', 'loss_function': 'mean_squared_error', 'lr': 1, 'monitor_value': 'val_custom_mae', 'optimizer': <class 'tensorflow.python.keras.optimizer_v2.adam.Adam'>, 'reduction_metric': 'custom_mae', 'samples': 20000}\n",
      "Using Loss: mean_squared_error \n",
      "and Reduction Metric: [<function custom_mae at 0x0000026E06BB99D8>]\n",
      "Monitor: val_custom_mae\n",
      "Train on 16000 samples, validate on 4000 samples\n",
      "15872/16000 [============================>.] - ETA: 0s - loss: 3721.1483 - custom_mae: 38.1195\n",
      "Epoch 00001: val_custom_mae improved from inf to 32.61946, saving model to ..\\fast_output\\SYNTH_Regression_MSE\\201019_2253_final_Angular_Base_Custom-MAE\\Best_Weights_FC_15.hdf5\n",
      "16000/16000 [==============================] - 7s 430us/sample - loss: 3713.6038 - custom_mae: 38.0540 - val_loss: 3089.2280 - val_custom_mae: 32.6195\n",
      "Time taken: 0:00:08.371117\n"
     ]
    },
    {
     "name": "stderr",
     "output_type": "stream",
     "text": [
      "\r",
      "  4%|███▌                                                                             | 16/360 [02:10<49:59,  8.72s/it]"
     ]
    },
    {
     "name": "stdout",
     "output_type": "stream",
     "text": [
      "{'activation': 'leakyrelu', 'batch_size': 32, 'dropout': 0.25, 'epochs': 1, 'first_neuron': 2048, 'hidden_layers': 0, 'label_type': 'Angular', 'loss_function': 'mean_squared_error', 'lr': 2, 'monitor_value': 'val_custom_mae', 'optimizer': <class 'tensorflow.python.keras.optimizer_v2.adam.Adam'>, 'reduction_metric': 'custom_mae', 'samples': 20000}\n",
      "Using Loss: mean_squared_error \n",
      "and Reduction Metric: [<function custom_mae at 0x0000026E06BB99D8>]\n",
      "Monitor: val_custom_mae\n",
      "Train on 16000 samples, validate on 4000 samples\n",
      "15872/16000 [============================>.] - ETA: 0s - loss: 3730.4211 - custom_mae: 38.1608\n",
      "Epoch 00001: val_custom_mae improved from inf to 31.60226, saving model to ..\\fast_output\\SYNTH_Regression_MSE\\201019_2253_final_Angular_Base_Custom-MAE\\Best_Weights_FC_16.hdf5\n",
      "16000/16000 [==============================] - 7s 430us/sample - loss: 3722.5063 - custom_mae: 38.0907 - val_loss: 2977.3984 - val_custom_mae: 31.6023\n",
      "Time taken: 0:00:08.371724\n"
     ]
    },
    {
     "name": "stderr",
     "output_type": "stream",
     "text": [
      "\r",
      "  5%|███▊                                                                             | 17/360 [02:20<52:07,  9.12s/it]"
     ]
    },
    {
     "name": "stdout",
     "output_type": "stream",
     "text": [
      "{'activation': 'leakyrelu', 'batch_size': 32, 'dropout': 0.25, 'epochs': 1, 'first_neuron': 2048, 'hidden_layers': 0, 'label_type': 'Angular', 'loss_function': 'mean_squared_error', 'lr': 5, 'monitor_value': 'val_custom_mae', 'optimizer': <class 'tensorflow.python.keras.optimizer_v2.adam.Adam'>, 'reduction_metric': 'custom_mae', 'samples': 20000}\n",
      "Using Loss: mean_squared_error \n",
      "and Reduction Metric: [<function custom_mae at 0x0000026E06BB99D8>]\n",
      "Monitor: val_custom_mae\n",
      "Train on 16000 samples, validate on 4000 samples\n",
      "15776/16000 [============================>.] - ETA: 0s - loss: 4022.3133 - custom_mae: 39.3475\n",
      "Epoch 00001: val_custom_mae improved from inf to 28.67242, saving model to ..\\fast_output\\SYNTH_Regression_MSE\\201019_2253_final_Angular_Base_Custom-MAE\\Best_Weights_FC_17.hdf5\n",
      "16000/16000 [==============================] - 7s 427us/sample - loss: 4001.9670 - custom_mae: 39.2123 - val_loss: 2567.7426 - val_custom_mae: 28.6724\n",
      "Time taken: 0:00:08.329438\n"
     ]
    },
    {
     "name": "stderr",
     "output_type": "stream",
     "text": [
      "\r",
      "  5%|████                                                                             | 18/360 [02:30<53:29,  9.38s/it]"
     ]
    },
    {
     "name": "stdout",
     "output_type": "stream",
     "text": [
      "{'activation': 'leakyrelu', 'batch_size': 32, 'dropout': 0.25, 'epochs': 1, 'first_neuron': 2048, 'hidden_layers': 1, 'label_type': 'Angular', 'loss_function': 'mean_squared_error', 'lr': 1, 'monitor_value': 'val_custom_mae', 'optimizer': <class 'tensorflow.python.keras.optimizer_v2.adam.Adam'>, 'reduction_metric': 'custom_mae', 'samples': 20000}\n",
      "Using Loss: mean_squared_error \n",
      "and Reduction Metric: [<function custom_mae at 0x0000026E06BB99D8>]\n",
      "Monitor: val_custom_mae\n",
      "Train on 16000 samples, validate on 4000 samples\n",
      "15872/16000 [============================>.] - ETA: 0s - loss: 3881.9898 - custom_mae: 39.8794\n",
      "Epoch 00001: val_custom_mae improved from inf to 29.32236, saving model to ..\\fast_output\\SYNTH_Regression_MSE\\201019_2253_final_Angular_Base_Custom-MAE\\Best_Weights_FC_18.hdf5\n",
      "16000/16000 [==============================] - 7s 447us/sample - loss: 3871.7967 - custom_mae: 39.7972 - val_loss: 2617.5951 - val_custom_mae: 29.3224\n",
      "Time taken: 0:00:08.653134\n"
     ]
    },
    {
     "name": "stderr",
     "output_type": "stream",
     "text": [
      "\r",
      "  5%|████▎                                                                            | 19/360 [02:41<54:59,  9.67s/it]"
     ]
    },
    {
     "name": "stdout",
     "output_type": "stream",
     "text": [
      "{'activation': 'leakyrelu', 'batch_size': 32, 'dropout': 0.25, 'epochs': 1, 'first_neuron': 2048, 'hidden_layers': 1, 'label_type': 'Angular', 'loss_function': 'mean_squared_error', 'lr': 2, 'monitor_value': 'val_custom_mae', 'optimizer': <class 'tensorflow.python.keras.optimizer_v2.adam.Adam'>, 'reduction_metric': 'custom_mae', 'samples': 20000}\n",
      "Using Loss: mean_squared_error \n",
      "and Reduction Metric: [<function custom_mae at 0x0000026E06BB99D8>]\n",
      "Monitor: val_custom_mae\n",
      "Train on 16000 samples, validate on 4000 samples\n",
      "15808/16000 [============================>.] - ETA: 0s - loss: 3941.7603 - custom_mae: 40.7380\n",
      "Epoch 00001: val_custom_mae improved from inf to 29.33784, saving model to ..\\fast_output\\SYNTH_Regression_MSE\\201019_2253_final_Angular_Base_Custom-MAE\\Best_Weights_FC_19.hdf5\n",
      "16000/16000 [==============================] - 7s 443us/sample - loss: 3924.5057 - custom_mae: 40.6030 - val_loss: 2581.9980 - val_custom_mae: 29.3378\n",
      "Time taken: 0:00:08.596953\n"
     ]
    },
    {
     "name": "stderr",
     "output_type": "stream",
     "text": [
      "\r",
      "  6%|████▌                                                                            | 20/360 [02:51<55:54,  9.87s/it]"
     ]
    },
    {
     "name": "stdout",
     "output_type": "stream",
     "text": [
      "{'activation': 'leakyrelu', 'batch_size': 32, 'dropout': 0.25, 'epochs': 1, 'first_neuron': 2048, 'hidden_layers': 1, 'label_type': 'Angular', 'loss_function': 'mean_squared_error', 'lr': 5, 'monitor_value': 'val_custom_mae', 'optimizer': <class 'tensorflow.python.keras.optimizer_v2.adam.Adam'>, 'reduction_metric': 'custom_mae', 'samples': 20000}\n",
      "Using Loss: mean_squared_error \n",
      "and Reduction Metric: [<function custom_mae at 0x0000026E06BB99D8>]\n",
      "Monitor: val_custom_mae\n",
      "Train on 16000 samples, validate on 4000 samples\n",
      "15968/16000 [============================>.] - ETA: 0s - loss: 8479.7509 - custom_mae: 49.2282\n",
      "Epoch 00001: val_custom_mae improved from inf to 32.13346, saving model to ..\\fast_output\\SYNTH_Regression_MSE\\201019_2253_final_Angular_Base_Custom-MAE\\Best_Weights_FC_20.hdf5\n",
      "16000/16000 [==============================] - 7s 446us/sample - loss: 8470.0717 - custom_mae: 49.1975 - val_loss: 2859.7439 - val_custom_mae: 32.1335\n",
      "Time taken: 0:00:08.638729\n"
     ]
    },
    {
     "name": "stderr",
     "output_type": "stream",
     "text": [
      "\r",
      "  6%|████▋                                                                            | 21/360 [03:01<56:32, 10.01s/it]"
     ]
    },
    {
     "name": "stdout",
     "output_type": "stream",
     "text": [
      "{'activation': 'leakyrelu', 'batch_size': 32, 'dropout': 0.25, 'epochs': 1, 'first_neuron': 2048, 'hidden_layers': 2, 'label_type': 'Angular', 'loss_function': 'mean_squared_error', 'lr': 1, 'monitor_value': 'val_custom_mae', 'optimizer': <class 'tensorflow.python.keras.optimizer_v2.adam.Adam'>, 'reduction_metric': 'custom_mae', 'samples': 20000}\n",
      "Using Loss: mean_squared_error \n",
      "and Reduction Metric: [<function custom_mae at 0x0000026E06BB99D8>]\n",
      "Monitor: val_custom_mae\n",
      "Train on 16000 samples, validate on 4000 samples\n",
      "15808/16000 [============================>.] - ETA: 0s - loss: 4025.0789 - custom_mae: 41.6496\n",
      "Epoch 00001: val_custom_mae improved from inf to 30.62870, saving model to ..\\fast_output\\SYNTH_Regression_MSE\\201019_2253_final_Angular_Base_Custom-MAE\\Best_Weights_FC_21.hdf5\n",
      "16000/16000 [==============================] - 7s 451us/sample - loss: 4006.8293 - custom_mae: 41.5126 - val_loss: 2587.9547 - val_custom_mae: 30.6287\n",
      "Time taken: 0:00:08.718206\n"
     ]
    },
    {
     "name": "stderr",
     "output_type": "stream",
     "text": [
      "\r",
      "  6%|████▉                                                                            | 22/360 [03:12<57:05, 10.14s/it]"
     ]
    },
    {
     "name": "stdout",
     "output_type": "stream",
     "text": [
      "{'activation': 'leakyrelu', 'batch_size': 32, 'dropout': 0.25, 'epochs': 1, 'first_neuron': 2048, 'hidden_layers': 2, 'label_type': 'Angular', 'loss_function': 'mean_squared_error', 'lr': 2, 'monitor_value': 'val_custom_mae', 'optimizer': <class 'tensorflow.python.keras.optimizer_v2.adam.Adam'>, 'reduction_metric': 'custom_mae', 'samples': 20000}\n",
      "Using Loss: mean_squared_error \n",
      "and Reduction Metric: [<function custom_mae at 0x0000026E06BB99D8>]\n",
      "Monitor: val_custom_mae\n",
      "Train on 16000 samples, validate on 4000 samples\n",
      "15968/16000 [============================>.] - ETA: 0s - loss: 4410.2748 - custom_mae: 43.9686\n",
      "Epoch 00001: val_custom_mae improved from inf to 30.77684, saving model to ..\\fast_output\\SYNTH_Regression_MSE\\201019_2253_final_Angular_Base_Custom-MAE\\Best_Weights_FC_22.hdf5\n",
      "16000/16000 [==============================] - 7s 455us/sample - loss: 4409.3332 - custom_mae: 43.9483 - val_loss: 2693.1108 - val_custom_mae: 30.7768\n",
      "Time taken: 0:00:08.787654\n"
     ]
    },
    {
     "name": "stderr",
     "output_type": "stream",
     "text": [
      "\r",
      "  6%|█████▏                                                                           | 23/360 [03:22<57:32, 10.24s/it]"
     ]
    },
    {
     "name": "stdout",
     "output_type": "stream",
     "text": [
      "{'activation': 'leakyrelu', 'batch_size': 32, 'dropout': 0.25, 'epochs': 1, 'first_neuron': 2048, 'hidden_layers': 2, 'label_type': 'Angular', 'loss_function': 'mean_squared_error', 'lr': 5, 'monitor_value': 'val_custom_mae', 'optimizer': <class 'tensorflow.python.keras.optimizer_v2.adam.Adam'>, 'reduction_metric': 'custom_mae', 'samples': 20000}\n",
      "Using Loss: mean_squared_error \n",
      "and Reduction Metric: [<function custom_mae at 0x0000026E06BB99D8>]\n",
      "Monitor: val_custom_mae\n",
      "Train on 16000 samples, validate on 4000 samples\n",
      "15808/16000 [============================>.] - ETA: 0s - loss: 12131.4164 - custom_mae: 52.2536\n",
      "Epoch 00001: val_custom_mae improved from inf to 33.22381, saving model to ..\\fast_output\\SYNTH_Regression_MSE\\201019_2253_final_Angular_Base_Custom-MAE\\Best_Weights_FC_23.hdf5\n",
      "16000/16000 [==============================] - 7s 457us/sample - loss: 12022.8205 - custom_mae: 52.0465 - val_loss: 2908.7042 - val_custom_mae: 33.2238\n",
      "Time taken: 0:00:08.810087\n"
     ]
    },
    {
     "name": "stderr",
     "output_type": "stream",
     "text": [
      "\r",
      "  7%|█████▍                                                                           | 24/360 [03:33<57:49, 10.33s/it]"
     ]
    },
    {
     "name": "stdout",
     "output_type": "stream",
     "text": [
      "{'activation': 'leakyrelu', 'batch_size': 32, 'dropout': 0.25, 'epochs': 1, 'first_neuron': 2048, 'hidden_layers': 3, 'label_type': 'Angular', 'loss_function': 'mean_squared_error', 'lr': 1, 'monitor_value': 'val_custom_mae', 'optimizer': <class 'tensorflow.python.keras.optimizer_v2.adam.Adam'>, 'reduction_metric': 'custom_mae', 'samples': 20000}\n",
      "Using Loss: mean_squared_error \n",
      "and Reduction Metric: [<function custom_mae at 0x0000026E06BB99D8>]\n",
      "Monitor: val_custom_mae\n",
      "Train on 16000 samples, validate on 4000 samples\n",
      "15776/16000 [============================>.] - ETA: 0s - loss: 4322.8760 - custom_mae: 43.9282\n",
      "Epoch 00001: val_custom_mae improved from inf to 29.32268, saving model to ..\\fast_output\\SYNTH_Regression_MSE\\201019_2253_final_Angular_Base_Custom-MAE\\Best_Weights_FC_24.hdf5\n",
      "16000/16000 [==============================] - 7s 467us/sample - loss: 4304.1284 - custom_mae: 43.7947 - val_loss: 2461.1379 - val_custom_mae: 29.3227\n",
      "Time taken: 0:00:08.979937\n"
     ]
    },
    {
     "name": "stderr",
     "output_type": "stream",
     "text": [
      "\r",
      "  7%|█████▋                                                                           | 25/360 [03:43<58:18, 10.44s/it]"
     ]
    },
    {
     "name": "stdout",
     "output_type": "stream",
     "text": [
      "{'activation': 'leakyrelu', 'batch_size': 32, 'dropout': 0.25, 'epochs': 1, 'first_neuron': 2048, 'hidden_layers': 3, 'label_type': 'Angular', 'loss_function': 'mean_squared_error', 'lr': 2, 'monitor_value': 'val_custom_mae', 'optimizer': <class 'tensorflow.python.keras.optimizer_v2.adam.Adam'>, 'reduction_metric': 'custom_mae', 'samples': 20000}\n",
      "Using Loss: mean_squared_error \n",
      "and Reduction Metric: [<function custom_mae at 0x0000026E06BB99D8>]\n",
      "Monitor: val_custom_mae\n",
      "Train on 16000 samples, validate on 4000 samples\n",
      "15840/16000 [============================>.] - ETA: 0s - loss: 4759.8050 - custom_mae: 45.6558\n",
      "Epoch 00001: val_custom_mae improved from inf to 31.52592, saving model to ..\\fast_output\\SYNTH_Regression_MSE\\201019_2253_final_Angular_Base_Custom-MAE\\Best_Weights_FC_25.hdf5\n",
      "16000/16000 [==============================] - 7s 460us/sample - loss: 4744.4607 - custom_mae: 45.5523 - val_loss: 2603.7518 - val_custom_mae: 31.5259\n",
      "Time taken: 0:00:08.863034\n"
     ]
    },
    {
     "name": "stderr",
     "output_type": "stream",
     "text": [
      "\r",
      "  7%|█████▊                                                                           | 26/360 [03:54<58:25, 10.50s/it]"
     ]
    },
    {
     "name": "stdout",
     "output_type": "stream",
     "text": [
      "{'activation': 'leakyrelu', 'batch_size': 32, 'dropout': 0.25, 'epochs': 1, 'first_neuron': 2048, 'hidden_layers': 3, 'label_type': 'Angular', 'loss_function': 'mean_squared_error', 'lr': 5, 'monitor_value': 'val_custom_mae', 'optimizer': <class 'tensorflow.python.keras.optimizer_v2.adam.Adam'>, 'reduction_metric': 'custom_mae', 'samples': 20000}\n",
      "Using Loss: mean_squared_error \n",
      "and Reduction Metric: [<function custom_mae at 0x0000026E06BB99D8>]\n",
      "Monitor: val_custom_mae\n",
      "Train on 16000 samples, validate on 4000 samples\n",
      "15872/16000 [============================>.] - ETA: 0s - loss: 6832.7245 - custom_mae: 53.7201\n",
      "Epoch 00001: val_custom_mae improved from inf to 42.01503, saving model to ..\\fast_output\\SYNTH_Regression_MSE\\201019_2253_final_Angular_Base_Custom-MAE\\Best_Weights_FC_26.hdf5\n",
      "16000/16000 [==============================] - 7s 464us/sample - loss: 6816.6719 - custom_mae: 53.6713 - val_loss: 3673.4214 - val_custom_mae: 42.0150\n",
      "Time taken: 0:00:08.919273\n"
     ]
    },
    {
     "name": "stderr",
     "output_type": "stream",
     "text": [
      "\r",
      "  8%|██████                                                                           | 27/360 [04:05<58:33, 10.55s/it]"
     ]
    },
    {
     "name": "stdout",
     "output_type": "stream",
     "text": [
      "{'activation': 'leakyrelu', 'batch_size': 32, 'dropout': 0.25, 'epochs': 1, 'first_neuron': 2048, 'hidden_layers': 4, 'label_type': 'Angular', 'loss_function': 'mean_squared_error', 'lr': 1, 'monitor_value': 'val_custom_mae', 'optimizer': <class 'tensorflow.python.keras.optimizer_v2.adam.Adam'>, 'reduction_metric': 'custom_mae', 'samples': 20000}\n",
      "Using Loss: mean_squared_error \n",
      "and Reduction Metric: [<function custom_mae at 0x0000026E06BB99D8>]\n",
      "Monitor: val_custom_mae\n",
      "Train on 16000 samples, validate on 4000 samples\n",
      "15872/16000 [============================>.] - ETA: 0s - loss: 4778.0834 - custom_mae: 47.5261\n",
      "Epoch 00001: val_custom_mae improved from inf to 33.28288, saving model to ..\\fast_output\\SYNTH_Regression_MSE\\201019_2253_final_Angular_Base_Custom-MAE\\Best_Weights_FC_27.hdf5\n",
      "16000/16000 [==============================] - 8s 473us/sample - loss: 4766.5970 - custom_mae: 47.4347 - val_loss: 2737.1405 - val_custom_mae: 33.2829\n",
      "Time taken: 0:00:09.070950\n"
     ]
    },
    {
     "name": "stderr",
     "output_type": "stream",
     "text": [
      "\r",
      "  8%|██████▎                                                                          | 28/360 [04:15<58:50, 10.63s/it]"
     ]
    },
    {
     "name": "stdout",
     "output_type": "stream",
     "text": [
      "{'activation': 'leakyrelu', 'batch_size': 32, 'dropout': 0.25, 'epochs': 1, 'first_neuron': 2048, 'hidden_layers': 4, 'label_type': 'Angular', 'loss_function': 'mean_squared_error', 'lr': 2, 'monitor_value': 'val_custom_mae', 'optimizer': <class 'tensorflow.python.keras.optimizer_v2.adam.Adam'>, 'reduction_metric': 'custom_mae', 'samples': 20000}\n",
      "Using Loss: mean_squared_error \n",
      "and Reduction Metric: [<function custom_mae at 0x0000026E06BB99D8>]\n",
      "Monitor: val_custom_mae\n",
      "Train on 16000 samples, validate on 4000 samples\n",
      "15968/16000 [============================>.] - ETA: 0s - loss: 5362.5599 - custom_mae: 50.0951\n",
      "Epoch 00001: val_custom_mae improved from inf to 34.18283, saving model to ..\\fast_output\\SYNTH_Regression_MSE\\201019_2253_final_Angular_Base_Custom-MAE\\Best_Weights_FC_28.hdf5\n",
      "16000/16000 [==============================] - 8s 473us/sample - loss: 5361.6314 - custom_mae: 50.0871 - val_loss: 2859.3862 - val_custom_mae: 34.1828\n",
      "Time taken: 0:00:09.049225\n"
     ]
    },
    {
     "name": "stderr",
     "output_type": "stream",
     "text": [
      "\r",
      "  8%|██████▌                                                                          | 29/360 [04:26<58:57, 10.69s/it]"
     ]
    },
    {
     "name": "stdout",
     "output_type": "stream",
     "text": [
      "{'activation': 'leakyrelu', 'batch_size': 32, 'dropout': 0.25, 'epochs': 1, 'first_neuron': 2048, 'hidden_layers': 4, 'label_type': 'Angular', 'loss_function': 'mean_squared_error', 'lr': 5, 'monitor_value': 'val_custom_mae', 'optimizer': <class 'tensorflow.python.keras.optimizer_v2.adam.Adam'>, 'reduction_metric': 'custom_mae', 'samples': 20000}\n",
      "Using Loss: mean_squared_error \n",
      "and Reduction Metric: [<function custom_mae at 0x0000026E06BB99D8>]\n",
      "Monitor: val_custom_mae\n",
      "Train on 16000 samples, validate on 4000 samples\n",
      "15904/16000 [============================>.] - ETA: 0s - loss: 6300.4989 - custom_mae: 56.0932\n",
      "Epoch 00001: val_custom_mae improved from inf to 41.14482, saving model to ..\\fast_output\\SYNTH_Regression_MSE\\201019_2253_final_Angular_Base_Custom-MAE\\Best_Weights_FC_29.hdf5\n",
      "16000/16000 [==============================] - 8s 472us/sample - loss: 6287.2218 - custom_mae: 56.0151 - val_loss: 3296.4200 - val_custom_mae: 41.1448\n",
      "Time taken: 0:00:09.050699\n"
     ]
    },
    {
     "name": "stderr",
     "output_type": "stream",
     "text": [
      "\r",
      "  8%|██████▊                                                                          | 30/360 [04:37<58:59, 10.73s/it]"
     ]
    },
    {
     "name": "stdout",
     "output_type": "stream",
     "text": [
      "{'activation': 'leakyrelu', 'batch_size': 32, 'dropout': 0.25, 'epochs': 1, 'first_neuron': 4096, 'hidden_layers': 0, 'label_type': 'Angular', 'loss_function': 'mean_squared_error', 'lr': 1, 'monitor_value': 'val_custom_mae', 'optimizer': <class 'tensorflow.python.keras.optimizer_v2.adam.Adam'>, 'reduction_metric': 'custom_mae', 'samples': 20000}\n",
      "Using Loss: mean_squared_error \n",
      "and Reduction Metric: [<function custom_mae at 0x0000026E06BB99D8>]\n",
      "Monitor: val_custom_mae\n",
      "Train on 16000 samples, validate on 4000 samples\n",
      "15968/16000 [============================>.] - ETA: 0s - loss: 3697.0988 - custom_mae: 38.2450\n",
      "Epoch 00001: val_custom_mae improved from inf to 30.98542, saving model to ..\\fast_output\\SYNTH_Regression_MSE\\201019_2253_final_Angular_Base_Custom-MAE\\Best_Weights_FC_30.hdf5\n",
      "16000/16000 [==============================] - 12s 748us/sample - loss: 3696.2096 - custom_mae: 38.2312 - val_loss: 2845.2264 - val_custom_mae: 30.9854\n",
      "Time taken: 0:00:13.472508\n"
     ]
    },
    {
     "name": "stderr",
     "output_type": "stream",
     "text": [
      "\r",
      "  9%|██████▊                                                                        | 31/360 [04:52<1:06:06, 12.06s/it]"
     ]
    },
    {
     "name": "stdout",
     "output_type": "stream",
     "text": [
      "{'activation': 'leakyrelu', 'batch_size': 32, 'dropout': 0.25, 'epochs': 1, 'first_neuron': 4096, 'hidden_layers': 0, 'label_type': 'Angular', 'loss_function': 'mean_squared_error', 'lr': 2, 'monitor_value': 'val_custom_mae', 'optimizer': <class 'tensorflow.python.keras.optimizer_v2.adam.Adam'>, 'reduction_metric': 'custom_mae', 'samples': 20000}\n",
      "Using Loss: mean_squared_error \n",
      "and Reduction Metric: [<function custom_mae at 0x0000026E06BB99D8>]\n",
      "Monitor: val_custom_mae\n",
      "Train on 16000 samples, validate on 4000 samples\n",
      "15968/16000 [============================>.] - ETA: 0s - loss: 3730.8144 - custom_mae: 37.8699\n",
      "Epoch 00001: val_custom_mae improved from inf to 30.40809, saving model to ..\\fast_output\\SYNTH_Regression_MSE\\201019_2253_final_Angular_Base_Custom-MAE\\Best_Weights_FC_31.hdf5\n",
      "16000/16000 [==============================] - 12s 746us/sample - loss: 3730.5043 - custom_mae: 37.8595 - val_loss: 2686.4853 - val_custom_mae: 30.4081\n",
      "Time taken: 0:00:13.438000\n"
     ]
    },
    {
     "name": "stderr",
     "output_type": "stream",
     "text": [
      "\r",
      "  9%|███████                                                                        | 32/360 [05:07<1:10:55, 12.98s/it]"
     ]
    },
    {
     "name": "stdout",
     "output_type": "stream",
     "text": [
      "{'activation': 'leakyrelu', 'batch_size': 32, 'dropout': 0.25, 'epochs': 1, 'first_neuron': 4096, 'hidden_layers': 0, 'label_type': 'Angular', 'loss_function': 'mean_squared_error', 'lr': 5, 'monitor_value': 'val_custom_mae', 'optimizer': <class 'tensorflow.python.keras.optimizer_v2.adam.Adam'>, 'reduction_metric': 'custom_mae', 'samples': 20000}\n",
      "Using Loss: mean_squared_error \n",
      "and Reduction Metric: [<function custom_mae at 0x0000026E06BB99D8>]\n",
      "Monitor: val_custom_mae\n",
      "Train on 16000 samples, validate on 4000 samples\n",
      "15936/16000 [============================>.] - ETA: 0s - loss: 4389.3167 - custom_mae: 40.7848\n",
      "Epoch 00001: val_custom_mae improved from inf to 28.44699, saving model to ..\\fast_output\\SYNTH_Regression_MSE\\201019_2253_final_Angular_Base_Custom-MAE\\Best_Weights_FC_32.hdf5\n",
      "16000/16000 [==============================] - 12s 747us/sample - loss: 4383.8264 - custom_mae: 40.7412 - val_loss: 2547.4752 - val_custom_mae: 28.4470\n",
      "Time taken: 0:00:13.458462\n"
     ]
    },
    {
     "name": "stderr",
     "output_type": "stream",
     "text": [
      "\r",
      "  9%|███████▏                                                                       | 33/360 [05:23<1:14:13, 13.62s/it]"
     ]
    },
    {
     "name": "stdout",
     "output_type": "stream",
     "text": [
      "{'activation': 'leakyrelu', 'batch_size': 32, 'dropout': 0.25, 'epochs': 1, 'first_neuron': 4096, 'hidden_layers': 1, 'label_type': 'Angular', 'loss_function': 'mean_squared_error', 'lr': 1, 'monitor_value': 'val_custom_mae', 'optimizer': <class 'tensorflow.python.keras.optimizer_v2.adam.Adam'>, 'reduction_metric': 'custom_mae', 'samples': 20000}\n",
      "Using Loss: mean_squared_error \n",
      "and Reduction Metric: [<function custom_mae at 0x0000026E06BB99D8>]\n",
      "Monitor: val_custom_mae\n",
      "Train on 16000 samples, validate on 4000 samples\n",
      "15872/16000 [============================>.] - ETA: 0s - loss: 3853.6934 - custom_mae: 39.6985\n",
      "Epoch 00001: val_custom_mae improved from inf to 29.95247, saving model to ..\\fast_output\\SYNTH_Regression_MSE\\201019_2253_final_Angular_Base_Custom-MAE\\Best_Weights_FC_33.hdf5\n",
      "16000/16000 [==============================] - 13s 794us/sample - loss: 3844.7822 - custom_mae: 39.6228 - val_loss: 2625.0688 - val_custom_mae: 29.9525\n",
      "Time taken: 0:00:14.210077\n"
     ]
    },
    {
     "name": "stderr",
     "output_type": "stream",
     "text": [
      "\r",
      "  9%|███████▍                                                                       | 34/360 [05:38<1:17:43, 14.31s/it]"
     ]
    },
    {
     "name": "stdout",
     "output_type": "stream",
     "text": [
      "{'activation': 'leakyrelu', 'batch_size': 32, 'dropout': 0.25, 'epochs': 1, 'first_neuron': 4096, 'hidden_layers': 1, 'label_type': 'Angular', 'loss_function': 'mean_squared_error', 'lr': 2, 'monitor_value': 'val_custom_mae', 'optimizer': <class 'tensorflow.python.keras.optimizer_v2.adam.Adam'>, 'reduction_metric': 'custom_mae', 'samples': 20000}\n",
      "Using Loss: mean_squared_error \n",
      "and Reduction Metric: [<function custom_mae at 0x0000026E06BB99D8>]\n",
      "Monitor: val_custom_mae\n",
      "Train on 16000 samples, validate on 4000 samples\n",
      "15904/16000 [============================>.] - ETA: 0s - loss: 4977.4987 - custom_mae: 44.1332\n",
      "Epoch 00001: val_custom_mae improved from inf to 29.90874, saving model to ..\\fast_output\\SYNTH_Regression_MSE\\201019_2253_final_Angular_Base_Custom-MAE\\Best_Weights_FC_34.hdf5\n",
      "16000/16000 [==============================] - 13s 791us/sample - loss: 4964.2551 - custom_mae: 44.0498 - val_loss: 2643.8360 - val_custom_mae: 29.9087\n",
      "Time taken: 0:00:14.159691\n"
     ]
    },
    {
     "name": "stderr",
     "output_type": "stream",
     "text": [
      "\r",
      " 10%|███████▋                                                                       | 35/360 [05:54<1:19:59, 14.77s/it]"
     ]
    },
    {
     "name": "stdout",
     "output_type": "stream",
     "text": [
      "{'activation': 'leakyrelu', 'batch_size': 32, 'dropout': 0.25, 'epochs': 1, 'first_neuron': 4096, 'hidden_layers': 1, 'label_type': 'Angular', 'loss_function': 'mean_squared_error', 'lr': 5, 'monitor_value': 'val_custom_mae', 'optimizer': <class 'tensorflow.python.keras.optimizer_v2.adam.Adam'>, 'reduction_metric': 'custom_mae', 'samples': 20000}\n",
      "Using Loss: mean_squared_error \n",
      "and Reduction Metric: [<function custom_mae at 0x0000026E06BB99D8>]\n",
      "Monitor: val_custom_mae\n",
      "Train on 16000 samples, validate on 4000 samples\n",
      "15904/16000 [============================>.] - ETA: 0s - loss: 35244.6069 - custom_mae: 66.1056\n",
      "Epoch 00001: val_custom_mae improved from inf to 35.28483, saving model to ..\\fast_output\\SYNTH_Regression_MSE\\201019_2253_final_Angular_Base_Custom-MAE\\Best_Weights_FC_35.hdf5\n",
      "16000/16000 [==============================] - 13s 794us/sample - loss: 35054.3851 - custom_mae: 65.9370 - val_loss: 2992.3562 - val_custom_mae: 35.2848\n",
      "Time taken: 0:00:14.213027\n"
     ]
    },
    {
     "name": "stderr",
     "output_type": "stream",
     "text": [
      "\r",
      " 10%|███████▉                                                                       | 36/360 [06:10<1:21:36, 15.11s/it]"
     ]
    },
    {
     "name": "stdout",
     "output_type": "stream",
     "text": [
      "{'activation': 'leakyrelu', 'batch_size': 32, 'dropout': 0.25, 'epochs': 1, 'first_neuron': 4096, 'hidden_layers': 2, 'label_type': 'Angular', 'loss_function': 'mean_squared_error', 'lr': 1, 'monitor_value': 'val_custom_mae', 'optimizer': <class 'tensorflow.python.keras.optimizer_v2.adam.Adam'>, 'reduction_metric': 'custom_mae', 'samples': 20000}\n",
      "Using Loss: mean_squared_error \n",
      "and Reduction Metric: [<function custom_mae at 0x0000026E06BB99D8>]\n",
      "Monitor: val_custom_mae\n",
      "Train on 16000 samples, validate on 4000 samples\n",
      "15904/16000 [============================>.] - ETA: 0s - loss: 4121.6566 - custom_mae: 41.7035\n",
      "Epoch 00001: val_custom_mae improved from inf to 29.29838, saving model to ..\\fast_output\\SYNTH_Regression_MSE\\201019_2253_final_Angular_Base_Custom-MAE\\Best_Weights_FC_36.hdf5\n",
      "16000/16000 [==============================] - 13s 813us/sample - loss: 4115.3956 - custom_mae: 41.6399 - val_loss: 2575.6039 - val_custom_mae: 29.2984\n",
      "Time taken: 0:00:14.523243\n"
     ]
    },
    {
     "name": "stderr",
     "output_type": "stream",
     "text": [
      "\r",
      " 10%|████████                                                                       | 37/360 [06:26<1:23:11, 15.45s/it]"
     ]
    },
    {
     "name": "stdout",
     "output_type": "stream",
     "text": [
      "{'activation': 'leakyrelu', 'batch_size': 32, 'dropout': 0.25, 'epochs': 1, 'first_neuron': 4096, 'hidden_layers': 2, 'label_type': 'Angular', 'loss_function': 'mean_squared_error', 'lr': 2, 'monitor_value': 'val_custom_mae', 'optimizer': <class 'tensorflow.python.keras.optimizer_v2.adam.Adam'>, 'reduction_metric': 'custom_mae', 'samples': 20000}\n",
      "Using Loss: mean_squared_error \n",
      "and Reduction Metric: [<function custom_mae at 0x0000026E06BB99D8>]\n",
      "Monitor: val_custom_mae\n",
      "Train on 16000 samples, validate on 4000 samples\n",
      "15936/16000 [============================>.] - ETA: 0s - loss: 5352.1071 - custom_mae: 44.6555\n",
      "Epoch 00001: val_custom_mae improved from inf to 29.00945, saving model to ..\\fast_output\\SYNTH_Regression_MSE\\201019_2253_final_Angular_Base_Custom-MAE\\Best_Weights_FC_37.hdf5\n",
      "16000/16000 [==============================] - 13s 816us/sample - loss: 5342.2559 - custom_mae: 44.5984 - val_loss: 2508.3856 - val_custom_mae: 29.0095\n",
      "Time taken: 0:00:14.547526\n"
     ]
    },
    {
     "name": "stderr",
     "output_type": "stream",
     "text": [
      "\r",
      " 11%|████████▎                                                                      | 38/360 [06:43<1:24:17, 15.71s/it]"
     ]
    },
    {
     "name": "stdout",
     "output_type": "stream",
     "text": [
      "{'activation': 'leakyrelu', 'batch_size': 32, 'dropout': 0.25, 'epochs': 1, 'first_neuron': 4096, 'hidden_layers': 2, 'label_type': 'Angular', 'loss_function': 'mean_squared_error', 'lr': 5, 'monitor_value': 'val_custom_mae', 'optimizer': <class 'tensorflow.python.keras.optimizer_v2.adam.Adam'>, 'reduction_metric': 'custom_mae', 'samples': 20000}\n",
      "Using Loss: mean_squared_error \n",
      "and Reduction Metric: [<function custom_mae at 0x0000026E06BB99D8>]\n",
      "Monitor: val_custom_mae\n",
      "Train on 16000 samples, validate on 4000 samples\n",
      "15936/16000 [============================>.] - ETA: 0s - loss: 576319.0297 - custom_mae: 113.0479\n",
      "Epoch 00001: val_custom_mae improved from inf to 44.22516, saving model to ..\\fast_output\\SYNTH_Regression_MSE\\201019_2253_final_Angular_Base_Custom-MAE\\Best_Weights_FC_38.hdf5\n",
      "16000/16000 [==============================] - 13s 814us/sample - loss: 574031.6954 - custom_mae: 112.7905 - val_loss: 4139.8807 - val_custom_mae: 44.2252\n",
      "Time taken: 0:00:14.520122\n"
     ]
    },
    {
     "name": "stderr",
     "output_type": "stream",
     "text": [
      "\r",
      " 11%|████████▌                                                                      | 39/360 [06:59<1:24:53, 15.87s/it]"
     ]
    },
    {
     "name": "stdout",
     "output_type": "stream",
     "text": [
      "{'activation': 'leakyrelu', 'batch_size': 32, 'dropout': 0.25, 'epochs': 1, 'first_neuron': 4096, 'hidden_layers': 3, 'label_type': 'Angular', 'loss_function': 'mean_squared_error', 'lr': 1, 'monitor_value': 'val_custom_mae', 'optimizer': <class 'tensorflow.python.keras.optimizer_v2.adam.Adam'>, 'reduction_metric': 'custom_mae', 'samples': 20000}\n",
      "Using Loss: mean_squared_error \n",
      "and Reduction Metric: [<function custom_mae at 0x0000026E06BB99D8>]\n",
      "Monitor: val_custom_mae\n",
      "Train on 16000 samples, validate on 4000 samples\n",
      "15904/16000 [============================>.] - ETA: 0s - loss: 4500.2815 - custom_mae: 44.3967\n",
      "Epoch 00001: val_custom_mae improved from inf to 31.20090, saving model to ..\\fast_output\\SYNTH_Regression_MSE\\201019_2253_final_Angular_Base_Custom-MAE\\Best_Weights_FC_39.hdf5\n",
      "16000/16000 [==============================] - 13s 822us/sample - loss: 4491.7551 - custom_mae: 44.3285 - val_loss: 2624.0437 - val_custom_mae: 31.2009\n",
      "Time taken: 0:00:14.651013\n"
     ]
    },
    {
     "name": "stderr",
     "output_type": "stream",
     "text": [
      "\r",
      " 11%|████████▊                                                                      | 40/360 [07:15<1:25:28, 16.03s/it]"
     ]
    },
    {
     "name": "stdout",
     "output_type": "stream",
     "text": [
      "{'activation': 'leakyrelu', 'batch_size': 32, 'dropout': 0.25, 'epochs': 1, 'first_neuron': 4096, 'hidden_layers': 3, 'label_type': 'Angular', 'loss_function': 'mean_squared_error', 'lr': 2, 'monitor_value': 'val_custom_mae', 'optimizer': <class 'tensorflow.python.keras.optimizer_v2.adam.Adam'>, 'reduction_metric': 'custom_mae', 'samples': 20000}\n",
      "Using Loss: mean_squared_error \n",
      "and Reduction Metric: [<function custom_mae at 0x0000026E06BB99D8>]\n",
      "Monitor: val_custom_mae\n",
      "Train on 16000 samples, validate on 4000 samples\n",
      "15904/16000 [============================>.] - ETA: 0s - loss: 5276.4604 - custom_mae: 46.1801\n",
      "Epoch 00001: val_custom_mae improved from inf to 33.42904, saving model to ..\\fast_output\\SYNTH_Regression_MSE\\201019_2253_final_Angular_Base_Custom-MAE\\Best_Weights_FC_40.hdf5\n",
      "16000/16000 [==============================] - 13s 826us/sample - loss: 5263.4974 - custom_mae: 46.0981 - val_loss: 2679.7516 - val_custom_mae: 33.4290\n",
      "Time taken: 0:00:14.727684\n"
     ]
    },
    {
     "name": "stderr",
     "output_type": "stream",
     "text": [
      "\r",
      " 11%|████████▉                                                                      | 41/360 [07:32<1:25:56, 16.16s/it]"
     ]
    },
    {
     "name": "stdout",
     "output_type": "stream",
     "text": [
      "{'activation': 'leakyrelu', 'batch_size': 32, 'dropout': 0.25, 'epochs': 1, 'first_neuron': 4096, 'hidden_layers': 3, 'label_type': 'Angular', 'loss_function': 'mean_squared_error', 'lr': 5, 'monitor_value': 'val_custom_mae', 'optimizer': <class 'tensorflow.python.keras.optimizer_v2.adam.Adam'>, 'reduction_metric': 'custom_mae', 'samples': 20000}\n",
      "Using Loss: mean_squared_error \n",
      "and Reduction Metric: [<function custom_mae at 0x0000026E06BB99D8>]\n",
      "Monitor: val_custom_mae\n",
      "Train on 16000 samples, validate on 4000 samples\n",
      "15968/16000 [============================>.] - ETA: 0s - loss: 478404.3452 - custom_mae: 171.0701\n",
      "Epoch 00001: val_custom_mae improved from inf to 56.67940, saving model to ..\\fast_output\\SYNTH_Regression_MSE\\201019_2253_final_Angular_Base_Custom-MAE\\Best_Weights_FC_41.hdf5\n",
      "16000/16000 [==============================] - 13s 819us/sample - loss: 477471.7076 - custom_mae: 170.8824 - val_loss: 5809.0874 - val_custom_mae: 56.6794\n",
      "Time taken: 0:00:14.598344\n"
     ]
    },
    {
     "name": "stderr",
     "output_type": "stream",
     "text": [
      "\r",
      " 12%|█████████▏                                                                     | 42/360 [07:48<1:25:57, 16.22s/it]"
     ]
    },
    {
     "name": "stdout",
     "output_type": "stream",
     "text": [
      "{'activation': 'leakyrelu', 'batch_size': 32, 'dropout': 0.25, 'epochs': 1, 'first_neuron': 4096, 'hidden_layers': 4, 'label_type': 'Angular', 'loss_function': 'mean_squared_error', 'lr': 1, 'monitor_value': 'val_custom_mae', 'optimizer': <class 'tensorflow.python.keras.optimizer_v2.adam.Adam'>, 'reduction_metric': 'custom_mae', 'samples': 20000}\n",
      "Using Loss: mean_squared_error \n",
      "and Reduction Metric: [<function custom_mae at 0x0000026E06BB99D8>]\n",
      "Monitor: val_custom_mae\n",
      "Train on 16000 samples, validate on 4000 samples\n",
      "15872/16000 [============================>.] - ETA: 0s - loss: 4761.5471 - custom_mae: 47.7338\n",
      "Epoch 00001: val_custom_mae improved from inf to 32.47886, saving model to ..\\fast_output\\SYNTH_Regression_MSE\\201019_2253_final_Angular_Base_Custom-MAE\\Best_Weights_FC_42.hdf5\n",
      "16000/16000 [==============================] - 13s 824us/sample - loss: 4745.5570 - custom_mae: 47.6189 - val_loss: 2683.8606 - val_custom_mae: 32.4789\n",
      "Time taken: 0:00:14.672260\n"
     ]
    },
    {
     "name": "stderr",
     "output_type": "stream",
     "text": [
      "\r",
      " 12%|█████████▍                                                                     | 43/360 [08:05<1:26:04, 16.29s/it]"
     ]
    },
    {
     "name": "stdout",
     "output_type": "stream",
     "text": [
      "{'activation': 'leakyrelu', 'batch_size': 32, 'dropout': 0.25, 'epochs': 1, 'first_neuron': 4096, 'hidden_layers': 4, 'label_type': 'Angular', 'loss_function': 'mean_squared_error', 'lr': 2, 'monitor_value': 'val_custom_mae', 'optimizer': <class 'tensorflow.python.keras.optimizer_v2.adam.Adam'>, 'reduction_metric': 'custom_mae', 'samples': 20000}\n",
      "Using Loss: mean_squared_error \n",
      "and Reduction Metric: [<function custom_mae at 0x0000026E06BB99D8>]\n",
      "Monitor: val_custom_mae\n",
      "Train on 16000 samples, validate on 4000 samples\n",
      "15872/16000 [============================>.] - ETA: 0s - loss: 6164.2297 - custom_mae: 51.1883\n",
      "Epoch 00001: val_custom_mae improved from inf to 35.93211, saving model to ..\\fast_output\\SYNTH_Regression_MSE\\201019_2253_final_Angular_Base_Custom-MAE\\Best_Weights_FC_43.hdf5\n",
      "16000/16000 [==============================] - 13s 827us/sample - loss: 6141.4424 - custom_mae: 51.0774 - val_loss: 2999.4715 - val_custom_mae: 35.9321\n",
      "Time taken: 0:00:14.730963\n"
     ]
    },
    {
     "name": "stderr",
     "output_type": "stream",
     "text": [
      "\r",
      " 12%|█████████▋                                                                     | 44/360 [08:21<1:26:08, 16.36s/it]"
     ]
    },
    {
     "name": "stdout",
     "output_type": "stream",
     "text": [
      "{'activation': 'leakyrelu', 'batch_size': 32, 'dropout': 0.25, 'epochs': 1, 'first_neuron': 4096, 'hidden_layers': 4, 'label_type': 'Angular', 'loss_function': 'mean_squared_error', 'lr': 5, 'monitor_value': 'val_custom_mae', 'optimizer': <class 'tensorflow.python.keras.optimizer_v2.adam.Adam'>, 'reduction_metric': 'custom_mae', 'samples': 20000}\n",
      "Using Loss: mean_squared_error \n",
      "and Reduction Metric: [<function custom_mae at 0x0000026E06BB99D8>]\n",
      "Monitor: val_custom_mae\n",
      "Train on 16000 samples, validate on 4000 samples\n",
      "15872/16000 [============================>.] - ETA: 0s - loss: 131790.5084 - custom_mae: 92.6668\n",
      "Epoch 00001: val_custom_mae improved from inf to 54.43892, saving model to ..\\fast_output\\SYNTH_Regression_MSE\\201019_2253_final_Angular_Base_Custom-MAE\\Best_Weights_FC_44.hdf5\n",
      "16000/16000 [==============================] - 13s 825us/sample - loss: 130790.6149 - custom_mae: 92.4019 - val_loss: 5360.7470 - val_custom_mae: 54.4389\n",
      "Time taken: 0:00:14.712641\n"
     ]
    },
    {
     "name": "stderr",
     "output_type": "stream",
     "text": [
      "\r",
      " 12%|█████████▉                                                                     | 45/360 [08:38<1:26:07, 16.40s/it]"
     ]
    },
    {
     "name": "stdout",
     "output_type": "stream",
     "text": [
      "{'activation': 'leakyrelu', 'batch_size': 32, 'dropout': 0.5, 'epochs': 1, 'first_neuron': 1024, 'hidden_layers': 0, 'label_type': 'Angular', 'loss_function': 'mean_squared_error', 'lr': 1, 'monitor_value': 'val_custom_mae', 'optimizer': <class 'tensorflow.python.keras.optimizer_v2.adam.Adam'>, 'reduction_metric': 'custom_mae', 'samples': 20000}\n",
      "Using Loss: mean_squared_error \n",
      "and Reduction Metric: [<function custom_mae at 0x0000026E06BB99D8>]\n",
      "Monitor: val_custom_mae\n",
      "Train on 16000 samples, validate on 4000 samples\n",
      "15808/16000 [============================>.] - ETA: 0s - loss: 4081.4958 - custom_mae: 41.5005\n",
      "Epoch 00001: val_custom_mae improved from inf to 33.38344, saving model to ..\\fast_output\\SYNTH_Regression_MSE\\201019_2253_final_Angular_Base_Custom-MAE\\Best_Weights_FC_45.hdf5\n",
      "16000/16000 [==============================] - 4s 272us/sample - loss: 4068.0597 - custom_mae: 41.3932 - val_loss: 3111.8447 - val_custom_mae: 33.3834\n",
      "Time taken: 0:00:05.865835\n"
     ]
    },
    {
     "name": "stderr",
     "output_type": "stream",
     "text": [
      "\r",
      " 13%|██████████                                                                     | 46/360 [08:45<1:11:56, 13.75s/it]"
     ]
    },
    {
     "name": "stdout",
     "output_type": "stream",
     "text": [
      "{'activation': 'leakyrelu', 'batch_size': 32, 'dropout': 0.5, 'epochs': 1, 'first_neuron': 1024, 'hidden_layers': 0, 'label_type': 'Angular', 'loss_function': 'mean_squared_error', 'lr': 2, 'monitor_value': 'val_custom_mae', 'optimizer': <class 'tensorflow.python.keras.optimizer_v2.adam.Adam'>, 'reduction_metric': 'custom_mae', 'samples': 20000}\n",
      "Using Loss: mean_squared_error \n",
      "and Reduction Metric: [<function custom_mae at 0x0000026E06BB99D8>]\n",
      "Monitor: val_custom_mae\n",
      "Train on 16000 samples, validate on 4000 samples\n",
      "15648/16000 [============================>.] - ETA: 0s - loss: 4025.8420 - custom_mae: 40.9773\n",
      "Epoch 00001: val_custom_mae improved from inf to 33.53440, saving model to ..\\fast_output\\SYNTH_Regression_MSE\\201019_2253_final_Angular_Base_Custom-MAE\\Best_Weights_FC_46.hdf5\n",
      "16000/16000 [==============================] - 4s 273us/sample - loss: 4002.6019 - custom_mae: 40.8035 - val_loss: 3129.7665 - val_custom_mae: 33.5344\n",
      "Time taken: 0:00:05.883068\n"
     ]
    },
    {
     "name": "stderr",
     "output_type": "stream",
     "text": [
      "\r",
      " 13%|██████████▎                                                                    | 47/360 [08:53<1:01:59, 11.88s/it]"
     ]
    },
    {
     "name": "stdout",
     "output_type": "stream",
     "text": [
      "{'activation': 'leakyrelu', 'batch_size': 32, 'dropout': 0.5, 'epochs': 1, 'first_neuron': 1024, 'hidden_layers': 0, 'label_type': 'Angular', 'loss_function': 'mean_squared_error', 'lr': 5, 'monitor_value': 'val_custom_mae', 'optimizer': <class 'tensorflow.python.keras.optimizer_v2.adam.Adam'>, 'reduction_metric': 'custom_mae', 'samples': 20000}\n",
      "Using Loss: mean_squared_error \n",
      "and Reduction Metric: [<function custom_mae at 0x0000026E06BB99D8>]\n",
      "Monitor: val_custom_mae\n",
      "Train on 16000 samples, validate on 4000 samples\n",
      "15776/16000 [============================>.] - ETA: 0s - loss: 4226.7903 - custom_mae: 42.2146\n",
      "Epoch 00001: val_custom_mae improved from inf to 35.25656, saving model to ..\\fast_output\\SYNTH_Regression_MSE\\201019_2253_final_Angular_Base_Custom-MAE\\Best_Weights_FC_47.hdf5\n",
      "16000/16000 [==============================] - 4s 272us/sample - loss: 4214.7648 - custom_mae: 42.1398 - val_loss: 3302.8788 - val_custom_mae: 35.2566\n",
      "Time taken: 0:00:05.856169\n"
     ]
    },
    {
     "name": "stderr",
     "output_type": "stream",
     "text": [
      "\r",
      " 13%|██████████▊                                                                      | 48/360 [09:00<54:58, 10.57s/it]"
     ]
    },
    {
     "name": "stdout",
     "output_type": "stream",
     "text": [
      "{'activation': 'leakyrelu', 'batch_size': 32, 'dropout': 0.5, 'epochs': 1, 'first_neuron': 1024, 'hidden_layers': 1, 'label_type': 'Angular', 'loss_function': 'mean_squared_error', 'lr': 1, 'monitor_value': 'val_custom_mae', 'optimizer': <class 'tensorflow.python.keras.optimizer_v2.adam.Adam'>, 'reduction_metric': 'custom_mae', 'samples': 20000}\n",
      "Using Loss: mean_squared_error \n",
      "and Reduction Metric: [<function custom_mae at 0x0000026E06BB99D8>]\n",
      "Monitor: val_custom_mae\n",
      "Train on 16000 samples, validate on 4000 samples\n",
      "15680/16000 [============================>.] - ETA: 0s - loss: 4479.1680 - custom_mae: 44.9301\n",
      "Epoch 00001: val_custom_mae improved from inf to 33.83501, saving model to ..\\fast_output\\SYNTH_Regression_MSE\\201019_2253_final_Angular_Base_Custom-MAE\\Best_Weights_FC_48.hdf5\n",
      "16000/16000 [==============================] - 5s 282us/sample - loss: 4454.6602 - custom_mae: 44.7359 - val_loss: 3044.7229 - val_custom_mae: 33.8350\n",
      "Time taken: 0:00:06.016901\n"
     ]
    },
    {
     "name": "stderr",
     "output_type": "stream",
     "text": [
      "\r",
      " 14%|███████████                                                                      | 49/360 [09:08<50:19,  9.71s/it]"
     ]
    },
    {
     "name": "stdout",
     "output_type": "stream",
     "text": [
      "{'activation': 'leakyrelu', 'batch_size': 32, 'dropout': 0.5, 'epochs': 1, 'first_neuron': 1024, 'hidden_layers': 1, 'label_type': 'Angular', 'loss_function': 'mean_squared_error', 'lr': 2, 'monitor_value': 'val_custom_mae', 'optimizer': <class 'tensorflow.python.keras.optimizer_v2.adam.Adam'>, 'reduction_metric': 'custom_mae', 'samples': 20000}\n",
      "Using Loss: mean_squared_error \n",
      "and Reduction Metric: [<function custom_mae at 0x0000026E06BB99D8>]\n",
      "Monitor: val_custom_mae\n",
      "Train on 16000 samples, validate on 4000 samples\n",
      "15872/16000 [============================>.] - ETA: 0s - loss: 4519.5052 - custom_mae: 44.9748\n",
      "Epoch 00001: val_custom_mae improved from inf to 35.54845, saving model to ..\\fast_output\\SYNTH_Regression_MSE\\201019_2253_final_Angular_Base_Custom-MAE\\Best_Weights_FC_49.hdf5\n",
      "16000/16000 [==============================] - 5s 288us/sample - loss: 4510.4157 - custom_mae: 44.9113 - val_loss: 3141.6469 - val_custom_mae: 35.5485\n",
      "Time taken: 0:00:06.134976\n"
     ]
    },
    {
     "name": "stderr",
     "output_type": "stream",
     "text": [
      "\r",
      " 14%|███████████▎                                                                     | 50/360 [09:16<47:17,  9.15s/it]"
     ]
    },
    {
     "name": "stdout",
     "output_type": "stream",
     "text": [
      "{'activation': 'leakyrelu', 'batch_size': 32, 'dropout': 0.5, 'epochs': 1, 'first_neuron': 1024, 'hidden_layers': 1, 'label_type': 'Angular', 'loss_function': 'mean_squared_error', 'lr': 5, 'monitor_value': 'val_custom_mae', 'optimizer': <class 'tensorflow.python.keras.optimizer_v2.adam.Adam'>, 'reduction_metric': 'custom_mae', 'samples': 20000}\n",
      "Using Loss: mean_squared_error \n",
      "and Reduction Metric: [<function custom_mae at 0x0000026E06BB99D8>]\n",
      "Monitor: val_custom_mae\n",
      "Train on 16000 samples, validate on 4000 samples\n",
      "15776/16000 [============================>.] - ETA: 0s - loss: 5036.1205 - custom_mae: 46.6764\n",
      "Epoch 00001: val_custom_mae improved from inf to 37.19419, saving model to ..\\fast_output\\SYNTH_Regression_MSE\\201019_2253_final_Angular_Base_Custom-MAE\\Best_Weights_FC_50.hdf5\n",
      "16000/16000 [==============================] - 5s 285us/sample - loss: 5019.6434 - custom_mae: 46.5762 - val_loss: 3465.3419 - val_custom_mae: 37.1942\n",
      "Time taken: 0:00:06.051296\n"
     ]
    },
    {
     "name": "stderr",
     "output_type": "stream",
     "text": [
      "\r",
      " 14%|███████████▍                                                                     | 51/360 [09:24<44:58,  8.73s/it]"
     ]
    },
    {
     "name": "stdout",
     "output_type": "stream",
     "text": [
      "{'activation': 'leakyrelu', 'batch_size': 32, 'dropout': 0.5, 'epochs': 1, 'first_neuron': 1024, 'hidden_layers': 2, 'label_type': 'Angular', 'loss_function': 'mean_squared_error', 'lr': 1, 'monitor_value': 'val_custom_mae', 'optimizer': <class 'tensorflow.python.keras.optimizer_v2.adam.Adam'>, 'reduction_metric': 'custom_mae', 'samples': 20000}\n",
      "Using Loss: mean_squared_error \n",
      "and Reduction Metric: [<function custom_mae at 0x0000026E06BB99D8>]\n",
      "Monitor: val_custom_mae\n",
      "Train on 16000 samples, validate on 4000 samples\n",
      "15840/16000 [============================>.] - ETA: 0s - loss: 5021.3240 - custom_mae: 49.3894\n",
      "Epoch 00001: val_custom_mae improved from inf to 36.67305, saving model to ..\\fast_output\\SYNTH_Regression_MSE\\201019_2253_final_Angular_Base_Custom-MAE\\Best_Weights_FC_51.hdf5\n",
      "16000/16000 [==============================] - 5s 294us/sample - loss: 5011.8010 - custom_mae: 49.3054 - val_loss: 3297.5890 - val_custom_mae: 36.6731\n",
      "Time taken: 0:00:06.204278\n"
     ]
    },
    {
     "name": "stderr",
     "output_type": "stream",
     "text": [
      "\r",
      " 14%|███████████▋                                                                     | 52/360 [09:31<43:32,  8.48s/it]"
     ]
    },
    {
     "name": "stdout",
     "output_type": "stream",
     "text": [
      "{'activation': 'leakyrelu', 'batch_size': 32, 'dropout': 0.5, 'epochs': 1, 'first_neuron': 1024, 'hidden_layers': 2, 'label_type': 'Angular', 'loss_function': 'mean_squared_error', 'lr': 2, 'monitor_value': 'val_custom_mae', 'optimizer': <class 'tensorflow.python.keras.optimizer_v2.adam.Adam'>, 'reduction_metric': 'custom_mae', 'samples': 20000}\n",
      "Using Loss: mean_squared_error \n",
      "and Reduction Metric: [<function custom_mae at 0x0000026E06BB99D8>]\n",
      "Monitor: val_custom_mae\n",
      "Train on 16000 samples, validate on 4000 samples\n",
      "15776/16000 [============================>.] - ETA: 0s - loss: 5109.2253 - custom_mae: 49.7428\n",
      "Epoch 00001: val_custom_mae improved from inf to 36.48515, saving model to ..\\fast_output\\SYNTH_Regression_MSE\\201019_2253_final_Angular_Base_Custom-MAE\\Best_Weights_FC_52.hdf5\n",
      "16000/16000 [==============================] - 5s 292us/sample - loss: 5095.7854 - custom_mae: 49.6445 - val_loss: 3273.6989 - val_custom_mae: 36.4851\n",
      "Time taken: 0:00:06.165136\n"
     ]
    },
    {
     "name": "stderr",
     "output_type": "stream",
     "text": [
      "\r",
      " 15%|███████████▉                                                                     | 53/360 [09:39<42:29,  8.30s/it]"
     ]
    },
    {
     "name": "stdout",
     "output_type": "stream",
     "text": [
      "{'activation': 'leakyrelu', 'batch_size': 32, 'dropout': 0.5, 'epochs': 1, 'first_neuron': 1024, 'hidden_layers': 2, 'label_type': 'Angular', 'loss_function': 'mean_squared_error', 'lr': 5, 'monitor_value': 'val_custom_mae', 'optimizer': <class 'tensorflow.python.keras.optimizer_v2.adam.Adam'>, 'reduction_metric': 'custom_mae', 'samples': 20000}\n",
      "Using Loss: mean_squared_error \n",
      "and Reduction Metric: [<function custom_mae at 0x0000026E06BB99D8>]\n",
      "Monitor: val_custom_mae\n",
      "Train on 16000 samples, validate on 4000 samples\n",
      "15936/16000 [============================>.] - ETA: 0s - loss: 5680.7354 - custom_mae: 53.2130\n",
      "Epoch 00001: val_custom_mae improved from inf to 42.59561, saving model to ..\\fast_output\\SYNTH_Regression_MSE\\201019_2253_final_Angular_Base_Custom-MAE\\Best_Weights_FC_53.hdf5\n",
      "16000/16000 [==============================] - 5s 292us/sample - loss: 5678.8080 - custom_mae: 53.1973 - val_loss: 3838.5694 - val_custom_mae: 42.5956\n",
      "Time taken: 0:00:06.173797\n"
     ]
    },
    {
     "name": "stderr",
     "output_type": "stream",
     "text": [
      "\r",
      " 15%|████████████▏                                                                    | 54/360 [09:47<41:45,  8.19s/it]"
     ]
    },
    {
     "name": "stdout",
     "output_type": "stream",
     "text": [
      "{'activation': 'leakyrelu', 'batch_size': 32, 'dropout': 0.5, 'epochs': 1, 'first_neuron': 1024, 'hidden_layers': 3, 'label_type': 'Angular', 'loss_function': 'mean_squared_error', 'lr': 1, 'monitor_value': 'val_custom_mae', 'optimizer': <class 'tensorflow.python.keras.optimizer_v2.adam.Adam'>, 'reduction_metric': 'custom_mae', 'samples': 20000}\n",
      "Using Loss: mean_squared_error \n",
      "and Reduction Metric: [<function custom_mae at 0x0000026E06BB99D8>]\n",
      "Monitor: val_custom_mae\n",
      "Train on 16000 samples, validate on 4000 samples\n",
      "15808/16000 [============================>.] - ETA: 0s - loss: 5837.1244 - custom_mae: 55.0689\n",
      "Epoch 00001: val_custom_mae improved from inf to 49.54731, saving model to ..\\fast_output\\SYNTH_Regression_MSE\\201019_2253_final_Angular_Base_Custom-MAE\\Best_Weights_FC_54.hdf5\n",
      "16000/16000 [==============================] - 5s 302us/sample - loss: 5818.5018 - custom_mae: 54.9540 - val_loss: 4790.0853 - val_custom_mae: 49.5473\n",
      "Time taken: 0:00:06.326180\n"
     ]
    },
    {
     "name": "stderr",
     "output_type": "stream",
     "text": [
      "\r",
      " 15%|████████████▍                                                                    | 55/360 [09:55<41:27,  8.15s/it]"
     ]
    },
    {
     "name": "stdout",
     "output_type": "stream",
     "text": [
      "{'activation': 'leakyrelu', 'batch_size': 32, 'dropout': 0.5, 'epochs': 1, 'first_neuron': 1024, 'hidden_layers': 3, 'label_type': 'Angular', 'loss_function': 'mean_squared_error', 'lr': 2, 'monitor_value': 'val_custom_mae', 'optimizer': <class 'tensorflow.python.keras.optimizer_v2.adam.Adam'>, 'reduction_metric': 'custom_mae', 'samples': 20000}\n",
      "Using Loss: mean_squared_error \n",
      "and Reduction Metric: [<function custom_mae at 0x0000026E06BB99D8>]\n",
      "Monitor: val_custom_mae\n",
      "Train on 16000 samples, validate on 4000 samples\n",
      "15712/16000 [============================>.] - ETA: 0s - loss: 5998.1373 - custom_mae: 55.9062\n",
      "Epoch 00001: val_custom_mae improved from inf to 48.72608, saving model to ..\\fast_output\\SYNTH_Regression_MSE\\201019_2253_final_Angular_Base_Custom-MAE\\Best_Weights_FC_55.hdf5\n",
      "16000/16000 [==============================] - 5s 312us/sample - loss: 5974.1279 - custom_mae: 55.7912 - val_loss: 4438.5084 - val_custom_mae: 48.7261\n",
      "Time taken: 0:00:06.545377\n"
     ]
    },
    {
     "name": "stderr",
     "output_type": "stream",
     "text": [
      "\r",
      " 16%|████████████▌                                                                    | 56/360 [10:04<41:38,  8.22s/it]"
     ]
    },
    {
     "name": "stdout",
     "output_type": "stream",
     "text": [
      "{'activation': 'leakyrelu', 'batch_size': 32, 'dropout': 0.5, 'epochs': 1, 'first_neuron': 1024, 'hidden_layers': 3, 'label_type': 'Angular', 'loss_function': 'mean_squared_error', 'lr': 5, 'monitor_value': 'val_custom_mae', 'optimizer': <class 'tensorflow.python.keras.optimizer_v2.adam.Adam'>, 'reduction_metric': 'custom_mae', 'samples': 20000}\n",
      "Using Loss: mean_squared_error \n",
      "and Reduction Metric: [<function custom_mae at 0x0000026E06BB99D8>]\n",
      "Monitor: val_custom_mae\n",
      "Train on 16000 samples, validate on 4000 samples\n",
      "15776/16000 [============================>.] - ETA: 0s - loss: 6945.1988 - custom_mae: 60.2897\n",
      "Epoch 00001: val_custom_mae improved from inf to 48.04785, saving model to ..\\fast_output\\SYNTH_Regression_MSE\\201019_2253_final_Angular_Base_Custom-MAE\\Best_Weights_FC_56.hdf5\n",
      "16000/16000 [==============================] - 5s 306us/sample - loss: 6929.2596 - custom_mae: 60.2037 - val_loss: 4283.7785 - val_custom_mae: 48.0478\n",
      "Time taken: 0:00:06.393324\n"
     ]
    },
    {
     "name": "stderr",
     "output_type": "stream",
     "text": [
      "\r",
      " 16%|████████████▊                                                                    | 57/360 [10:12<41:25,  8.20s/it]"
     ]
    },
    {
     "name": "stdout",
     "output_type": "stream",
     "text": [
      "{'activation': 'leakyrelu', 'batch_size': 32, 'dropout': 0.5, 'epochs': 1, 'first_neuron': 1024, 'hidden_layers': 4, 'label_type': 'Angular', 'loss_function': 'mean_squared_error', 'lr': 1, 'monitor_value': 'val_custom_mae', 'optimizer': <class 'tensorflow.python.keras.optimizer_v2.adam.Adam'>, 'reduction_metric': 'custom_mae', 'samples': 20000}\n",
      "Using Loss: mean_squared_error \n",
      "and Reduction Metric: [<function custom_mae at 0x0000026E06BB99D8>]\n",
      "Monitor: val_custom_mae\n",
      "Train on 16000 samples, validate on 4000 samples\n",
      "15680/16000 [============================>.] - ETA: 0s - loss: 6967.4531 - custom_mae: 60.4595\n",
      "Epoch 00001: val_custom_mae improved from inf to 59.48133, saving model to ..\\fast_output\\SYNTH_Regression_MSE\\201019_2253_final_Angular_Base_Custom-MAE\\Best_Weights_FC_57.hdf5\n",
      "16000/16000 [==============================] - 5s 309us/sample - loss: 6934.4222 - custom_mae: 60.3044 - val_loss: 6775.2736 - val_custom_mae: 59.4813\n",
      "Time taken: 0:00:06.456234\n"
     ]
    },
    {
     "name": "stderr",
     "output_type": "stream",
     "text": [
      "\r",
      " 16%|█████████████                                                                    | 58/360 [10:20<41:21,  8.22s/it]"
     ]
    },
    {
     "name": "stdout",
     "output_type": "stream",
     "text": [
      "{'activation': 'leakyrelu', 'batch_size': 32, 'dropout': 0.5, 'epochs': 1, 'first_neuron': 1024, 'hidden_layers': 4, 'label_type': 'Angular', 'loss_function': 'mean_squared_error', 'lr': 2, 'monitor_value': 'val_custom_mae', 'optimizer': <class 'tensorflow.python.keras.optimizer_v2.adam.Adam'>, 'reduction_metric': 'custom_mae', 'samples': 20000}\n",
      "Using Loss: mean_squared_error \n",
      "and Reduction Metric: [<function custom_mae at 0x0000026E06BB99D8>]\n",
      "Monitor: val_custom_mae\n",
      "Train on 16000 samples, validate on 4000 samples\n",
      "15744/16000 [============================>.] - ETA: 0s - loss: 7004.7991 - custom_mae: 60.2911\n",
      "Epoch 00001: val_custom_mae improved from inf to 49.77683, saving model to ..\\fast_output\\SYNTH_Regression_MSE\\201019_2253_final_Angular_Base_Custom-MAE\\Best_Weights_FC_58.hdf5\n",
      "16000/16000 [==============================] - 5s 310us/sample - loss: 6975.3874 - custom_mae: 60.1598 - val_loss: 4615.2685 - val_custom_mae: 49.7768\n",
      "Time taken: 0:00:06.477060\n"
     ]
    },
    {
     "name": "stderr",
     "output_type": "stream",
     "text": [
      "\r",
      " 16%|█████████████▎                                                                   | 59/360 [10:28<41:16,  8.23s/it]"
     ]
    },
    {
     "name": "stdout",
     "output_type": "stream",
     "text": [
      "{'activation': 'leakyrelu', 'batch_size': 32, 'dropout': 0.5, 'epochs': 1, 'first_neuron': 1024, 'hidden_layers': 4, 'label_type': 'Angular', 'loss_function': 'mean_squared_error', 'lr': 5, 'monitor_value': 'val_custom_mae', 'optimizer': <class 'tensorflow.python.keras.optimizer_v2.adam.Adam'>, 'reduction_metric': 'custom_mae', 'samples': 20000}\n",
      "Using Loss: mean_squared_error \n",
      "and Reduction Metric: [<function custom_mae at 0x0000026E06BB99D8>]\n",
      "Monitor: val_custom_mae\n",
      "Train on 16000 samples, validate on 4000 samples\n",
      "15808/16000 [============================>.] - ETA: 0s - loss: 7505.8045 - custom_mae: 61.9266\n",
      "Epoch 00001: val_custom_mae improved from inf to 51.98125, saving model to ..\\fast_output\\SYNTH_Regression_MSE\\201019_2253_final_Angular_Base_Custom-MAE\\Best_Weights_FC_59.hdf5\n",
      "16000/16000 [==============================] - 5s 310us/sample - loss: 7484.6493 - custom_mae: 61.8191 - val_loss: 4987.8239 - val_custom_mae: 51.9812\n",
      "Time taken: 0:00:06.482675\n"
     ]
    },
    {
     "name": "stderr",
     "output_type": "stream",
     "text": [
      "\r",
      " 17%|█████████████▌                                                                   | 60/360 [10:37<41:10,  8.24s/it]"
     ]
    },
    {
     "name": "stdout",
     "output_type": "stream",
     "text": [
      "{'activation': 'leakyrelu', 'batch_size': 32, 'dropout': 0.5, 'epochs': 1, 'first_neuron': 2048, 'hidden_layers': 0, 'label_type': 'Angular', 'loss_function': 'mean_squared_error', 'lr': 1, 'monitor_value': 'val_custom_mae', 'optimizer': <class 'tensorflow.python.keras.optimizer_v2.adam.Adam'>, 'reduction_metric': 'custom_mae', 'samples': 20000}\n",
      "Using Loss: mean_squared_error \n",
      "and Reduction Metric: [<function custom_mae at 0x0000026E06BB99D8>]\n",
      "Monitor: val_custom_mae\n",
      "Train on 16000 samples, validate on 4000 samples\n",
      "15936/16000 [============================>.] - ETA: 0s - loss: 3975.2941 - custom_mae: 40.4594\n",
      "Epoch 00001: val_custom_mae improved from inf to 33.11941, saving model to ..\\fast_output\\SYNTH_Regression_MSE\\201019_2253_final_Angular_Base_Custom-MAE\\Best_Weights_FC_60.hdf5\n",
      "16000/16000 [==============================] - 7s 428us/sample - loss: 3971.9229 - custom_mae: 40.4258 - val_loss: 3074.5452 - val_custom_mae: 33.1194\n",
      "Time taken: 0:00:08.365314\n"
     ]
    },
    {
     "name": "stderr",
     "output_type": "stream",
     "text": [
      "\r",
      " 17%|█████████████▋                                                                   | 61/360 [10:47<43:45,  8.78s/it]"
     ]
    },
    {
     "name": "stdout",
     "output_type": "stream",
     "text": [
      "{'activation': 'leakyrelu', 'batch_size': 32, 'dropout': 0.5, 'epochs': 1, 'first_neuron': 2048, 'hidden_layers': 0, 'label_type': 'Angular', 'loss_function': 'mean_squared_error', 'lr': 2, 'monitor_value': 'val_custom_mae', 'optimizer': <class 'tensorflow.python.keras.optimizer_v2.adam.Adam'>, 'reduction_metric': 'custom_mae', 'samples': 20000}\n",
      "Using Loss: mean_squared_error \n",
      "and Reduction Metric: [<function custom_mae at 0x0000026E06BB99D8>]\n",
      "Monitor: val_custom_mae\n",
      "Train on 16000 samples, validate on 4000 samples\n",
      "15840/16000 [============================>.] - ETA: 0s - loss: 4029.3945 - custom_mae: 40.7869\n",
      "Epoch 00001: val_custom_mae improved from inf to 36.57350, saving model to ..\\fast_output\\SYNTH_Regression_MSE\\201019_2253_final_Angular_Base_Custom-MAE\\Best_Weights_FC_61.hdf5\n",
      "16000/16000 [==============================] - 7s 445us/sample - loss: 4020.6832 - custom_mae: 40.7215 - val_loss: 3474.7398 - val_custom_mae: 36.5735\n",
      "Time taken: 0:00:08.643338\n"
     ]
    },
    {
     "name": "stderr",
     "output_type": "stream",
     "text": [
      "\r",
      " 17%|█████████████▉                                                                   | 62/360 [10:57<45:55,  9.25s/it]"
     ]
    },
    {
     "name": "stdout",
     "output_type": "stream",
     "text": [
      "{'activation': 'leakyrelu', 'batch_size': 32, 'dropout': 0.5, 'epochs': 1, 'first_neuron': 2048, 'hidden_layers': 0, 'label_type': 'Angular', 'loss_function': 'mean_squared_error', 'lr': 5, 'monitor_value': 'val_custom_mae', 'optimizer': <class 'tensorflow.python.keras.optimizer_v2.adam.Adam'>, 'reduction_metric': 'custom_mae', 'samples': 20000}\n",
      "Using Loss: mean_squared_error \n",
      "and Reduction Metric: [<function custom_mae at 0x0000026E06BB99D8>]\n",
      "Monitor: val_custom_mae\n",
      "Train on 16000 samples, validate on 4000 samples\n",
      "15968/16000 [============================>.] - ETA: 0s - loss: 4406.0435 - custom_mae: 42.9098\n",
      "Epoch 00001: val_custom_mae improved from inf to 32.39521, saving model to ..\\fast_output\\SYNTH_Regression_MSE\\201019_2253_final_Angular_Base_Custom-MAE\\Best_Weights_FC_62.hdf5\n",
      "16000/16000 [==============================] - 7s 437us/sample - loss: 4404.0446 - custom_mae: 42.8916 - val_loss: 2965.1034 - val_custom_mae: 32.3952\n",
      "Time taken: 0:00:08.554801\n"
     ]
    },
    {
     "name": "stderr",
     "output_type": "stream",
     "text": [
      "\r",
      " 18%|██████████████▏                                                                  | 63/360 [11:07<47:17,  9.56s/it]"
     ]
    },
    {
     "name": "stdout",
     "output_type": "stream",
     "text": [
      "{'activation': 'leakyrelu', 'batch_size': 32, 'dropout': 0.5, 'epochs': 1, 'first_neuron': 2048, 'hidden_layers': 1, 'label_type': 'Angular', 'loss_function': 'mean_squared_error', 'lr': 1, 'monitor_value': 'val_custom_mae', 'optimizer': <class 'tensorflow.python.keras.optimizer_v2.adam.Adam'>, 'reduction_metric': 'custom_mae', 'samples': 20000}\n",
      "Using Loss: mean_squared_error \n",
      "and Reduction Metric: [<function custom_mae at 0x0000026E06BB99D8>]\n",
      "Monitor: val_custom_mae\n",
      "Train on 16000 samples, validate on 4000 samples\n",
      "15904/16000 [============================>.] - ETA: 0s - loss: 4368.7275 - custom_mae: 43.8358\n",
      "Epoch 00001: val_custom_mae improved from inf to 35.46663, saving model to ..\\fast_output\\SYNTH_Regression_MSE\\201019_2253_final_Angular_Base_Custom-MAE\\Best_Weights_FC_63.hdf5\n",
      "16000/16000 [==============================] - 7s 449us/sample - loss: 4363.9872 - custom_mae: 43.7990 - val_loss: 3338.1795 - val_custom_mae: 35.4666\n",
      "Time taken: 0:00:08.685646\n"
     ]
    },
    {
     "name": "stderr",
     "output_type": "stream",
     "text": [
      "\r",
      " 18%|██████████████▍                                                                  | 64/360 [11:18<48:24,  9.81s/it]"
     ]
    },
    {
     "name": "stdout",
     "output_type": "stream",
     "text": [
      "{'activation': 'leakyrelu', 'batch_size': 32, 'dropout': 0.5, 'epochs': 1, 'first_neuron': 2048, 'hidden_layers': 1, 'label_type': 'Angular', 'loss_function': 'mean_squared_error', 'lr': 2, 'monitor_value': 'val_custom_mae', 'optimizer': <class 'tensorflow.python.keras.optimizer_v2.adam.Adam'>, 'reduction_metric': 'custom_mae', 'samples': 20000}\n",
      "Using Loss: mean_squared_error \n",
      "and Reduction Metric: [<function custom_mae at 0x0000026E06BB99D8>]\n",
      "Monitor: val_custom_mae\n",
      "Train on 16000 samples, validate on 4000 samples\n",
      "15840/16000 [============================>.] - ETA: 0s - loss: 4501.2629 - custom_mae: 44.7979\n",
      "Epoch 00001: val_custom_mae improved from inf to 37.77930, saving model to ..\\fast_output\\SYNTH_Regression_MSE\\201019_2253_final_Angular_Base_Custom-MAE\\Best_Weights_FC_64.hdf5\n",
      "16000/16000 [==============================] - 7s 451us/sample - loss: 4488.5005 - custom_mae: 44.7084 - val_loss: 3564.8933 - val_custom_mae: 37.7793\n",
      "Time taken: 0:00:08.747969\n"
     ]
    },
    {
     "name": "stderr",
     "output_type": "stream",
     "text": [
      "\r",
      " 18%|██████████████▋                                                                  | 65/360 [11:28<49:13, 10.01s/it]"
     ]
    },
    {
     "name": "stdout",
     "output_type": "stream",
     "text": [
      "{'activation': 'leakyrelu', 'batch_size': 32, 'dropout': 0.5, 'epochs': 1, 'first_neuron': 2048, 'hidden_layers': 1, 'label_type': 'Angular', 'loss_function': 'mean_squared_error', 'lr': 5, 'monitor_value': 'val_custom_mae', 'optimizer': <class 'tensorflow.python.keras.optimizer_v2.adam.Adam'>, 'reduction_metric': 'custom_mae', 'samples': 20000}\n",
      "Using Loss: mean_squared_error \n",
      "and Reduction Metric: [<function custom_mae at 0x0000026E06BB99D8>]\n",
      "Monitor: val_custom_mae\n",
      "Train on 16000 samples, validate on 4000 samples\n",
      "15840/16000 [============================>.] - ETA: 0s - loss: 8877.8601 - custom_mae: 51.6827\n",
      "Epoch 00001: val_custom_mae improved from inf to 34.32538, saving model to ..\\fast_output\\SYNTH_Regression_MSE\\201019_2253_final_Angular_Base_Custom-MAE\\Best_Weights_FC_65.hdf5\n",
      "16000/16000 [==============================] - 7s 453us/sample - loss: 8820.2584 - custom_mae: 51.5203 - val_loss: 3115.1217 - val_custom_mae: 34.3254\n",
      "Time taken: 0:00:08.765445\n"
     ]
    },
    {
     "name": "stderr",
     "output_type": "stream",
     "text": [
      "\r",
      " 18%|██████████████▊                                                                  | 66/360 [11:39<49:43, 10.15s/it]"
     ]
    },
    {
     "name": "stdout",
     "output_type": "stream",
     "text": [
      "{'activation': 'leakyrelu', 'batch_size': 32, 'dropout': 0.5, 'epochs': 1, 'first_neuron': 2048, 'hidden_layers': 2, 'label_type': 'Angular', 'loss_function': 'mean_squared_error', 'lr': 1, 'monitor_value': 'val_custom_mae', 'optimizer': <class 'tensorflow.python.keras.optimizer_v2.adam.Adam'>, 'reduction_metric': 'custom_mae', 'samples': 20000}\n",
      "Using Loss: mean_squared_error \n",
      "and Reduction Metric: [<function custom_mae at 0x0000026E06BB99D8>]\n",
      "Monitor: val_custom_mae\n",
      "Train on 16000 samples, validate on 4000 samples\n",
      "15776/16000 [============================>.] - ETA: 0s - loss: 4821.1363 - custom_mae: 47.6075\n",
      "Epoch 00001: val_custom_mae improved from inf to 34.83101, saving model to ..\\fast_output\\SYNTH_Regression_MSE\\201019_2253_final_Angular_Base_Custom-MAE\\Best_Weights_FC_66.hdf5\n",
      "16000/16000 [==============================] - 7s 461us/sample - loss: 4804.5675 - custom_mae: 47.4778 - val_loss: 3119.8477 - val_custom_mae: 34.8310\n",
      "Time taken: 0:00:08.904616\n"
     ]
    },
    {
     "name": "stderr",
     "output_type": "stream",
     "text": [
      "\r",
      " 19%|███████████████                                                                  | 67/360 [11:49<50:17, 10.30s/it]"
     ]
    },
    {
     "name": "stdout",
     "output_type": "stream",
     "text": [
      "{'activation': 'leakyrelu', 'batch_size': 32, 'dropout': 0.5, 'epochs': 1, 'first_neuron': 2048, 'hidden_layers': 2, 'label_type': 'Angular', 'loss_function': 'mean_squared_error', 'lr': 2, 'monitor_value': 'val_custom_mae', 'optimizer': <class 'tensorflow.python.keras.optimizer_v2.adam.Adam'>, 'reduction_metric': 'custom_mae', 'samples': 20000}\n",
      "Using Loss: mean_squared_error \n",
      "and Reduction Metric: [<function custom_mae at 0x0000026E06BB99D8>]\n",
      "Monitor: val_custom_mae\n",
      "Train on 16000 samples, validate on 4000 samples\n",
      "15936/16000 [============================>.] - ETA: 0s - loss: 5050.9262 - custom_mae: 48.9385\n",
      "Epoch 00001: val_custom_mae improved from inf to 34.06906, saving model to ..\\fast_output\\SYNTH_Regression_MSE\\201019_2253_final_Angular_Base_Custom-MAE\\Best_Weights_FC_67.hdf5\n",
      "16000/16000 [==============================] - 7s 462us/sample - loss: 5045.5157 - custom_mae: 48.8965 - val_loss: 3025.5712 - val_custom_mae: 34.0691\n",
      "Time taken: 0:00:08.928976\n"
     ]
    },
    {
     "name": "stderr",
     "output_type": "stream",
     "text": [
      "\r",
      " 19%|███████████████▎                                                                 | 68/360 [12:00<50:39, 10.41s/it]"
     ]
    },
    {
     "name": "stdout",
     "output_type": "stream",
     "text": [
      "{'activation': 'leakyrelu', 'batch_size': 32, 'dropout': 0.5, 'epochs': 1, 'first_neuron': 2048, 'hidden_layers': 2, 'label_type': 'Angular', 'loss_function': 'mean_squared_error', 'lr': 5, 'monitor_value': 'val_custom_mae', 'optimizer': <class 'tensorflow.python.keras.optimizer_v2.adam.Adam'>, 'reduction_metric': 'custom_mae', 'samples': 20000}\n",
      "Using Loss: mean_squared_error \n",
      "and Reduction Metric: [<function custom_mae at 0x0000026E06BB99D8>]\n",
      "Monitor: val_custom_mae\n",
      "Train on 16000 samples, validate on 4000 samples\n",
      "15776/16000 [============================>.] - ETA: 0s - loss: 9018.6308 - custom_mae: 55.5636\n",
      "Epoch 00001: val_custom_mae improved from inf to 36.97640, saving model to ..\\fast_output\\SYNTH_Regression_MSE\\201019_2253_final_Angular_Base_Custom-MAE\\Best_Weights_FC_68.hdf5\n",
      "16000/16000 [==============================] - 7s 464us/sample - loss: 8946.0865 - custom_mae: 55.3698 - val_loss: 3239.5670 - val_custom_mae: 36.9764\n",
      "Time taken: 0:00:08.926393\n"
     ]
    },
    {
     "name": "stderr",
     "output_type": "stream",
     "text": [
      "\r",
      " 19%|███████████████▌                                                                 | 69/360 [12:11<50:51, 10.49s/it]"
     ]
    },
    {
     "name": "stdout",
     "output_type": "stream",
     "text": [
      "{'activation': 'leakyrelu', 'batch_size': 32, 'dropout': 0.5, 'epochs': 1, 'first_neuron': 2048, 'hidden_layers': 3, 'label_type': 'Angular', 'loss_function': 'mean_squared_error', 'lr': 1, 'monitor_value': 'val_custom_mae', 'optimizer': <class 'tensorflow.python.keras.optimizer_v2.adam.Adam'>, 'reduction_metric': 'custom_mae', 'samples': 20000}\n",
      "Using Loss: mean_squared_error \n",
      "and Reduction Metric: [<function custom_mae at 0x0000026E06BB99D8>]\n",
      "Monitor: val_custom_mae\n",
      "Train on 16000 samples, validate on 4000 samples\n",
      "15840/16000 [============================>.] - ETA: 0s - loss: 5417.6836 - custom_mae: 52.0964\n",
      "Epoch 00001: val_custom_mae improved from inf to 37.91259, saving model to ..\\fast_output\\SYNTH_Regression_MSE\\201019_2253_final_Angular_Base_Custom-MAE\\Best_Weights_FC_69.hdf5\n",
      "16000/16000 [==============================] - 8s 472us/sample - loss: 5400.4305 - custom_mae: 51.9838 - val_loss: 3315.3060 - val_custom_mae: 37.9126\n",
      "Time taken: 0:00:09.067363\n"
     ]
    },
    {
     "name": "stderr",
     "output_type": "stream",
     "text": [
      "\r",
      " 19%|███████████████▊                                                                 | 70/360 [12:22<51:12, 10.60s/it]"
     ]
    },
    {
     "name": "stdout",
     "output_type": "stream",
     "text": [
      "{'activation': 'leakyrelu', 'batch_size': 32, 'dropout': 0.5, 'epochs': 1, 'first_neuron': 2048, 'hidden_layers': 3, 'label_type': 'Angular', 'loss_function': 'mean_squared_error', 'lr': 2, 'monitor_value': 'val_custom_mae', 'optimizer': <class 'tensorflow.python.keras.optimizer_v2.adam.Adam'>, 'reduction_metric': 'custom_mae', 'samples': 20000}\n",
      "Using Loss: mean_squared_error \n",
      "and Reduction Metric: [<function custom_mae at 0x0000026E06BB99D8>]\n",
      "Monitor: val_custom_mae\n",
      "Train on 16000 samples, validate on 4000 samples\n",
      "15840/16000 [============================>.] - ETA: 0s - loss: 5675.0062 - custom_mae: 53.4181\n",
      "Epoch 00001: val_custom_mae improved from inf to 39.27350, saving model to ..\\fast_output\\SYNTH_Regression_MSE\\201019_2253_final_Angular_Base_Custom-MAE\\Best_Weights_FC_70.hdf5\n",
      "16000/16000 [==============================] - 8s 472us/sample - loss: 5658.3338 - custom_mae: 53.3223 - val_loss: 3465.7980 - val_custom_mae: 39.2735\n",
      "Time taken: 0:00:09.053987\n"
     ]
    },
    {
     "name": "stderr",
     "output_type": "stream",
     "text": [
      "\r",
      " 20%|███████████████▉                                                                 | 71/360 [12:32<51:24, 10.67s/it]"
     ]
    },
    {
     "name": "stdout",
     "output_type": "stream",
     "text": [
      "{'activation': 'leakyrelu', 'batch_size': 32, 'dropout': 0.5, 'epochs': 1, 'first_neuron': 2048, 'hidden_layers': 3, 'label_type': 'Angular', 'loss_function': 'mean_squared_error', 'lr': 5, 'monitor_value': 'val_custom_mae', 'optimizer': <class 'tensorflow.python.keras.optimizer_v2.adam.Adam'>, 'reduction_metric': 'custom_mae', 'samples': 20000}\n",
      "Using Loss: mean_squared_error \n",
      "and Reduction Metric: [<function custom_mae at 0x0000026E06BB99D8>]\n",
      "Monitor: val_custom_mae\n",
      "Train on 16000 samples, validate on 4000 samples\n",
      "15936/16000 [============================>.] - ETA: 0s - loss: 7509.9385 - custom_mae: 61.3522\n",
      "Epoch 00001: val_custom_mae improved from inf to 46.80256, saving model to ..\\fast_output\\SYNTH_Regression_MSE\\201019_2253_final_Angular_Base_Custom-MAE\\Best_Weights_FC_71.hdf5\n",
      "16000/16000 [==============================] - 8s 473us/sample - loss: 7504.9563 - custom_mae: 61.3233 - val_loss: 4224.8828 - val_custom_mae: 46.8026\n",
      "Time taken: 0:00:09.064481\n"
     ]
    },
    {
     "name": "stderr",
     "output_type": "stream",
     "text": [
      "\r",
      " 20%|████████████████▏                                                                | 72/360 [12:43<51:24, 10.71s/it]"
     ]
    },
    {
     "name": "stdout",
     "output_type": "stream",
     "text": [
      "{'activation': 'leakyrelu', 'batch_size': 32, 'dropout': 0.5, 'epochs': 1, 'first_neuron': 2048, 'hidden_layers': 4, 'label_type': 'Angular', 'loss_function': 'mean_squared_error', 'lr': 1, 'monitor_value': 'val_custom_mae', 'optimizer': <class 'tensorflow.python.keras.optimizer_v2.adam.Adam'>, 'reduction_metric': 'custom_mae', 'samples': 20000}\n",
      "Using Loss: mean_squared_error \n",
      "and Reduction Metric: [<function custom_mae at 0x0000026E06BB99D8>]\n",
      "Monitor: val_custom_mae\n",
      "Train on 16000 samples, validate on 4000 samples\n",
      "15904/16000 [============================>.] - ETA: 0s - loss: 6289.5576 - custom_mae: 57.3050\n",
      "Epoch 00001: val_custom_mae improved from inf to 52.29330, saving model to ..\\fast_output\\SYNTH_Regression_MSE\\201019_2253_final_Angular_Base_Custom-MAE\\Best_Weights_FC_72.hdf5\n",
      "16000/16000 [==============================] - 8s 480us/sample - loss: 6278.4416 - custom_mae: 57.2415 - val_loss: 5074.1867 - val_custom_mae: 52.2933\n",
      "Time taken: 0:00:09.194539\n"
     ]
    },
    {
     "name": "stderr",
     "output_type": "stream",
     "text": [
      "\r",
      " 20%|████████████████▍                                                                | 73/360 [12:54<51:34, 10.78s/it]"
     ]
    },
    {
     "name": "stdout",
     "output_type": "stream",
     "text": [
      "{'activation': 'leakyrelu', 'batch_size': 32, 'dropout': 0.5, 'epochs': 1, 'first_neuron': 2048, 'hidden_layers': 4, 'label_type': 'Angular', 'loss_function': 'mean_squared_error', 'lr': 2, 'monitor_value': 'val_custom_mae', 'optimizer': <class 'tensorflow.python.keras.optimizer_v2.adam.Adam'>, 'reduction_metric': 'custom_mae', 'samples': 20000}\n",
      "Using Loss: mean_squared_error \n",
      "and Reduction Metric: [<function custom_mae at 0x0000026E06BB99D8>]\n",
      "Monitor: val_custom_mae\n",
      "Train on 16000 samples, validate on 4000 samples\n",
      "15936/16000 [============================>.] - ETA: 0s - loss: 6581.3727 - custom_mae: 58.4352\n",
      "Epoch 00001: val_custom_mae improved from inf to 45.62709, saving model to ..\\fast_output\\SYNTH_Regression_MSE\\201019_2253_final_Angular_Base_Custom-MAE\\Best_Weights_FC_73.hdf5\n",
      "16000/16000 [==============================] - 8s 471us/sample - loss: 6573.7330 - custom_mae: 58.3918 - val_loss: 3952.6491 - val_custom_mae: 45.6271\n",
      "Time taken: 0:00:09.031568\n"
     ]
    },
    {
     "name": "stderr",
     "output_type": "stream",
     "text": [
      "\r",
      " 21%|████████████████▋                                                                | 74/360 [13:05<51:25, 10.79s/it]"
     ]
    },
    {
     "name": "stdout",
     "output_type": "stream",
     "text": [
      "{'activation': 'leakyrelu', 'batch_size': 32, 'dropout': 0.5, 'epochs': 1, 'first_neuron': 2048, 'hidden_layers': 4, 'label_type': 'Angular', 'loss_function': 'mean_squared_error', 'lr': 5, 'monitor_value': 'val_custom_mae', 'optimizer': <class 'tensorflow.python.keras.optimizer_v2.adam.Adam'>, 'reduction_metric': 'custom_mae', 'samples': 20000}\n",
      "Using Loss: mean_squared_error \n",
      "and Reduction Metric: [<function custom_mae at 0x0000026E06BB99D8>]\n",
      "Monitor: val_custom_mae\n",
      "Train on 16000 samples, validate on 4000 samples\n",
      "15776/16000 [============================>.] - ETA: 0s - loss: 14558.0730 - custom_mae: 80.4718\n",
      "Epoch 00001: val_custom_mae improved from inf to 54.04507, saving model to ..\\fast_output\\SYNTH_Regression_MSE\\201019_2253_final_Angular_Base_Custom-MAE\\Best_Weights_FC_74.hdf5\n",
      "16000/16000 [==============================] - 8s 478us/sample - loss: 14443.3264 - custom_mae: 80.1624 - val_loss: 5209.2560 - val_custom_mae: 54.0451\n",
      "Time taken: 0:00:09.145782\n"
     ]
    },
    {
     "name": "stderr",
     "output_type": "stream",
     "text": [
      "\r",
      " 21%|████████████████▉                                                                | 75/360 [13:16<51:27, 10.83s/it]"
     ]
    },
    {
     "name": "stdout",
     "output_type": "stream",
     "text": [
      "{'activation': 'leakyrelu', 'batch_size': 32, 'dropout': 0.5, 'epochs': 1, 'first_neuron': 4096, 'hidden_layers': 0, 'label_type': 'Angular', 'loss_function': 'mean_squared_error', 'lr': 1, 'monitor_value': 'val_custom_mae', 'optimizer': <class 'tensorflow.python.keras.optimizer_v2.adam.Adam'>, 'reduction_metric': 'custom_mae', 'samples': 20000}\n",
      "Using Loss: mean_squared_error \n",
      "and Reduction Metric: [<function custom_mae at 0x0000026E06BB99D8>]\n",
      "Monitor: val_custom_mae\n",
      "Train on 16000 samples, validate on 4000 samples\n",
      "15968/16000 [============================>.] - ETA: 0s - loss: 3975.6309 - custom_mae: 40.1447\n",
      "Epoch 00001: val_custom_mae improved from inf to 33.43350, saving model to ..\\fast_output\\SYNTH_Regression_MSE\\201019_2253_final_Angular_Base_Custom-MAE\\Best_Weights_FC_75.hdf5\n",
      "16000/16000 [==============================] - 12s 748us/sample - loss: 3974.7544 - custom_mae: 40.1301 - val_loss: 3121.1079 - val_custom_mae: 33.4335\n",
      "Time taken: 0:00:13.455930\n"
     ]
    },
    {
     "name": "stderr",
     "output_type": "stream",
     "text": [
      "\r",
      " 21%|█████████████████                                                                | 76/360 [13:31<57:24, 12.13s/it]"
     ]
    },
    {
     "name": "stdout",
     "output_type": "stream",
     "text": [
      "{'activation': 'leakyrelu', 'batch_size': 32, 'dropout': 0.5, 'epochs': 1, 'first_neuron': 4096, 'hidden_layers': 0, 'label_type': 'Angular', 'loss_function': 'mean_squared_error', 'lr': 2, 'monitor_value': 'val_custom_mae', 'optimizer': <class 'tensorflow.python.keras.optimizer_v2.adam.Adam'>, 'reduction_metric': 'custom_mae', 'samples': 20000}\n",
      "Using Loss: mean_squared_error \n",
      "and Reduction Metric: [<function custom_mae at 0x0000026E06BB99D8>]\n",
      "Monitor: val_custom_mae\n",
      "Train on 16000 samples, validate on 4000 samples\n",
      "15872/16000 [============================>.] - ETA: 0s - loss: 4081.9965 - custom_mae: 40.7896\n",
      "Epoch 00001: val_custom_mae improved from inf to 34.23861, saving model to ..\\fast_output\\SYNTH_Regression_MSE\\201019_2253_final_Angular_Base_Custom-MAE\\Best_Weights_FC_76.hdf5\n",
      "16000/16000 [==============================] - 12s 744us/sample - loss: 4073.2053 - custom_mae: 40.7353 - val_loss: 2997.3518 - val_custom_mae: 34.2386\n",
      "Time taken: 0:00:13.406380\n"
     ]
    },
    {
     "name": "stderr",
     "output_type": "stream",
     "text": [
      "\r",
      " 21%|████████████████▉                                                              | 77/360 [13:46<1:01:23, 13.02s/it]"
     ]
    },
    {
     "name": "stdout",
     "output_type": "stream",
     "text": [
      "{'activation': 'leakyrelu', 'batch_size': 32, 'dropout': 0.5, 'epochs': 1, 'first_neuron': 4096, 'hidden_layers': 0, 'label_type': 'Angular', 'loss_function': 'mean_squared_error', 'lr': 5, 'monitor_value': 'val_custom_mae', 'optimizer': <class 'tensorflow.python.keras.optimizer_v2.adam.Adam'>, 'reduction_metric': 'custom_mae', 'samples': 20000}\n",
      "Using Loss: mean_squared_error \n",
      "and Reduction Metric: [<function custom_mae at 0x0000026E06BB99D8>]\n",
      "Monitor: val_custom_mae\n",
      "Train on 16000 samples, validate on 4000 samples\n",
      "15968/16000 [============================>.] - ETA: 0s - loss: 4820.0816 - custom_mae: 44.4406\n",
      "Epoch 00001: val_custom_mae improved from inf to 33.00496, saving model to ..\\fast_output\\SYNTH_Regression_MSE\\201019_2253_final_Angular_Base_Custom-MAE\\Best_Weights_FC_77.hdf5\n",
      "16000/16000 [==============================] - 12s 755us/sample - loss: 4818.1946 - custom_mae: 44.4255 - val_loss: 3031.6527 - val_custom_mae: 33.0050\n",
      "Time taken: 0:00:13.645805\n"
     ]
    },
    {
     "name": "stderr",
     "output_type": "stream",
     "text": [
      "\r",
      " 22%|█████████████████                                                              | 78/360 [14:01<1:04:30, 13.73s/it]"
     ]
    },
    {
     "name": "stdout",
     "output_type": "stream",
     "text": [
      "{'activation': 'leakyrelu', 'batch_size': 32, 'dropout': 0.5, 'epochs': 1, 'first_neuron': 4096, 'hidden_layers': 1, 'label_type': 'Angular', 'loss_function': 'mean_squared_error', 'lr': 1, 'monitor_value': 'val_custom_mae', 'optimizer': <class 'tensorflow.python.keras.optimizer_v2.adam.Adam'>, 'reduction_metric': 'custom_mae', 'samples': 20000}\n",
      "Using Loss: mean_squared_error \n",
      "and Reduction Metric: [<function custom_mae at 0x0000026E06BB99D8>]\n",
      "Monitor: val_custom_mae\n",
      "Train on 16000 samples, validate on 4000 samples\n",
      "15904/16000 [============================>.] - ETA: 0s - loss: 4342.2450 - custom_mae: 43.6632\n",
      "Epoch 00001: val_custom_mae improved from inf to 34.50963, saving model to ..\\fast_output\\SYNTH_Regression_MSE\\201019_2253_final_Angular_Base_Custom-MAE\\Best_Weights_FC_78.hdf5\n",
      "16000/16000 [==============================] - 13s 799us/sample - loss: 4337.3627 - custom_mae: 43.6187 - val_loss: 3202.7658 - val_custom_mae: 34.5096\n",
      "Time taken: 0:00:14.294274\n"
     ]
    },
    {
     "name": "stderr",
     "output_type": "stream",
     "text": [
      "\r",
      " 22%|█████████████████▎                                                             | 79/360 [14:17<1:07:29, 14.41s/it]"
     ]
    },
    {
     "name": "stdout",
     "output_type": "stream",
     "text": [
      "{'activation': 'leakyrelu', 'batch_size': 32, 'dropout': 0.5, 'epochs': 1, 'first_neuron': 4096, 'hidden_layers': 1, 'label_type': 'Angular', 'loss_function': 'mean_squared_error', 'lr': 2, 'monitor_value': 'val_custom_mae', 'optimizer': <class 'tensorflow.python.keras.optimizer_v2.adam.Adam'>, 'reduction_metric': 'custom_mae', 'samples': 20000}\n",
      "Using Loss: mean_squared_error \n",
      "and Reduction Metric: [<function custom_mae at 0x0000026E06BB99D8>]\n",
      "Monitor: val_custom_mae\n",
      "Train on 16000 samples, validate on 4000 samples\n",
      "15872/16000 [============================>.] - ETA: 0s - loss: 5246.1044 - custom_mae: 46.4086\n",
      "Epoch 00001: val_custom_mae improved from inf to 33.02302, saving model to ..\\fast_output\\SYNTH_Regression_MSE\\201019_2253_final_Angular_Base_Custom-MAE\\Best_Weights_FC_79.hdf5\n",
      "16000/16000 [==============================] - 13s 795us/sample - loss: 5227.7248 - custom_mae: 46.2961 - val_loss: 2998.5815 - val_custom_mae: 33.0230\n",
      "Time taken: 0:00:14.240209\n"
     ]
    },
    {
     "name": "stderr",
     "output_type": "stream",
     "text": [
      "\r",
      " 22%|█████████████████▌                                                             | 80/360 [14:33<1:09:25, 14.88s/it]"
     ]
    },
    {
     "name": "stdout",
     "output_type": "stream",
     "text": [
      "{'activation': 'leakyrelu', 'batch_size': 32, 'dropout': 0.5, 'epochs': 1, 'first_neuron': 4096, 'hidden_layers': 1, 'label_type': 'Angular', 'loss_function': 'mean_squared_error', 'lr': 5, 'monitor_value': 'val_custom_mae', 'optimizer': <class 'tensorflow.python.keras.optimizer_v2.adam.Adam'>, 'reduction_metric': 'custom_mae', 'samples': 20000}\n",
      "Using Loss: mean_squared_error \n",
      "and Reduction Metric: [<function custom_mae at 0x0000026E06BB99D8>]\n",
      "Monitor: val_custom_mae\n",
      "Train on 16000 samples, validate on 4000 samples\n",
      "15904/16000 [============================>.] - ETA: 0s - loss: 32931.5531 - custom_mae: 67.8390\n",
      "Epoch 00001: val_custom_mae improved from inf to 35.74438, saving model to ..\\fast_output\\SYNTH_Regression_MSE\\201019_2253_final_Angular_Base_Custom-MAE\\Best_Weights_FC_80.hdf5\n",
      "16000/16000 [==============================] - 13s 797us/sample - loss: 32759.1727 - custom_mae: 67.6667 - val_loss: 3300.9012 - val_custom_mae: 35.7444\n",
      "Time taken: 0:00:14.260580\n"
     ]
    },
    {
     "name": "stderr",
     "output_type": "stream",
     "text": [
      "\r",
      " 22%|█████████████████▊                                                             | 81/360 [14:49<1:10:41, 15.20s/it]"
     ]
    },
    {
     "name": "stdout",
     "output_type": "stream",
     "text": [
      "{'activation': 'leakyrelu', 'batch_size': 32, 'dropout': 0.5, 'epochs': 1, 'first_neuron': 4096, 'hidden_layers': 2, 'label_type': 'Angular', 'loss_function': 'mean_squared_error', 'lr': 1, 'monitor_value': 'val_custom_mae', 'optimizer': <class 'tensorflow.python.keras.optimizer_v2.adam.Adam'>, 'reduction_metric': 'custom_mae', 'samples': 20000}\n",
      "Using Loss: mean_squared_error \n",
      "and Reduction Metric: [<function custom_mae at 0x0000026E06BB99D8>]\n",
      "Monitor: val_custom_mae\n",
      "Train on 16000 samples, validate on 4000 samples\n",
      "15904/16000 [============================>.] - ETA: 0s - loss: 4763.1636 - custom_mae: 46.4698\n",
      "Epoch 00001: val_custom_mae improved from inf to 36.75195, saving model to ..\\fast_output\\SYNTH_Regression_MSE\\201019_2253_final_Angular_Base_Custom-MAE\\Best_Weights_FC_81.hdf5\n",
      "16000/16000 [==============================] - 13s 809us/sample - loss: 4756.6468 - custom_mae: 46.4223 - val_loss: 3538.8652 - val_custom_mae: 36.7520\n",
      "Time taken: 0:00:14.441405\n"
     ]
    },
    {
     "name": "stderr",
     "output_type": "stream",
     "text": [
      "\r",
      " 23%|█████████████████▉                                                             | 82/360 [15:06<1:11:46, 15.49s/it]"
     ]
    },
    {
     "name": "stdout",
     "output_type": "stream",
     "text": [
      "{'activation': 'leakyrelu', 'batch_size': 32, 'dropout': 0.5, 'epochs': 1, 'first_neuron': 4096, 'hidden_layers': 2, 'label_type': 'Angular', 'loss_function': 'mean_squared_error', 'lr': 2, 'monitor_value': 'val_custom_mae', 'optimizer': <class 'tensorflow.python.keras.optimizer_v2.adam.Adam'>, 'reduction_metric': 'custom_mae', 'samples': 20000}\n",
      "Using Loss: mean_squared_error \n",
      "and Reduction Metric: [<function custom_mae at 0x0000026E06BB99D8>]\n",
      "Monitor: val_custom_mae\n",
      "Train on 16000 samples, validate on 4000 samples\n",
      "15936/16000 [============================>.] - ETA: 0s - loss: 5546.9477 - custom_mae: 49.7288\n",
      "Epoch 00001: val_custom_mae improved from inf to 39.74261, saving model to ..\\fast_output\\SYNTH_Regression_MSE\\201019_2253_final_Angular_Base_Custom-MAE\\Best_Weights_FC_82.hdf5\n",
      "16000/16000 [==============================] - 13s 814us/sample - loss: 5544.3321 - custom_mae: 49.7331 - val_loss: 3552.5212 - val_custom_mae: 39.7426\n",
      "Time taken: 0:00:14.521266\n"
     ]
    },
    {
     "name": "stderr",
     "output_type": "stream",
     "text": [
      "\r",
      " 23%|██████████████████▏                                                            | 83/360 [15:22<1:12:34, 15.72s/it]"
     ]
    },
    {
     "name": "stdout",
     "output_type": "stream",
     "text": [
      "{'activation': 'leakyrelu', 'batch_size': 32, 'dropout': 0.5, 'epochs': 1, 'first_neuron': 4096, 'hidden_layers': 2, 'label_type': 'Angular', 'loss_function': 'mean_squared_error', 'lr': 5, 'monitor_value': 'val_custom_mae', 'optimizer': <class 'tensorflow.python.keras.optimizer_v2.adam.Adam'>, 'reduction_metric': 'custom_mae', 'samples': 20000}\n",
      "Using Loss: mean_squared_error \n",
      "and Reduction Metric: [<function custom_mae at 0x0000026E06BB99D8>]\n",
      "Monitor: val_custom_mae\n",
      "Train on 16000 samples, validate on 4000 samples\n",
      "15904/16000 [============================>.] - ETA: 0s - loss: 381593.5125 - custom_mae: 107.8470\n",
      "Epoch 00001: val_custom_mae improved from inf to 48.44083, saving model to ..\\fast_output\\SYNTH_Regression_MSE\\201019_2253_final_Angular_Base_Custom-MAE\\Best_Weights_FC_83.hdf5\n",
      "16000/16000 [==============================] - 13s 813us/sample - loss: 379333.8400 - custom_mae: 107.5150 - val_loss: 4471.9163 - val_custom_mae: 48.4408\n",
      "Time taken: 0:00:14.504196\n"
     ]
    },
    {
     "name": "stderr",
     "output_type": "stream",
     "text": [
      "\r",
      " 23%|██████████████████▍                                                            | 84/360 [15:38<1:13:00, 15.87s/it]"
     ]
    },
    {
     "name": "stdout",
     "output_type": "stream",
     "text": [
      "{'activation': 'leakyrelu', 'batch_size': 32, 'dropout': 0.5, 'epochs': 1, 'first_neuron': 4096, 'hidden_layers': 3, 'label_type': 'Angular', 'loss_function': 'mean_squared_error', 'lr': 1, 'monitor_value': 'val_custom_mae', 'optimizer': <class 'tensorflow.python.keras.optimizer_v2.adam.Adam'>, 'reduction_metric': 'custom_mae', 'samples': 20000}\n",
      "Using Loss: mean_squared_error \n",
      "and Reduction Metric: [<function custom_mae at 0x0000026E06BB99D8>]\n",
      "Monitor: val_custom_mae\n",
      "Train on 16000 samples, validate on 4000 samples\n",
      "15904/16000 [============================>.] - ETA: 0s - loss: 5279.5193 - custom_mae: 50.4050\n",
      "Epoch 00001: val_custom_mae improved from inf to 35.74262, saving model to ..\\fast_output\\SYNTH_Regression_MSE\\201019_2253_final_Angular_Base_Custom-MAE\\Best_Weights_FC_84.hdf5\n",
      "16000/16000 [==============================] - 13s 818us/sample - loss: 5273.7283 - custom_mae: 50.3539 - val_loss: 3228.6431 - val_custom_mae: 35.7426\n",
      "Time taken: 0:00:14.588376\n"
     ]
    },
    {
     "name": "stderr",
     "output_type": "stream",
     "text": [
      "\r",
      " 24%|██████████████████▋                                                            | 85/360 [15:54<1:13:23, 16.01s/it]"
     ]
    },
    {
     "name": "stdout",
     "output_type": "stream",
     "text": [
      "{'activation': 'leakyrelu', 'batch_size': 32, 'dropout': 0.5, 'epochs': 1, 'first_neuron': 4096, 'hidden_layers': 3, 'label_type': 'Angular', 'loss_function': 'mean_squared_error', 'lr': 2, 'monitor_value': 'val_custom_mae', 'optimizer': <class 'tensorflow.python.keras.optimizer_v2.adam.Adam'>, 'reduction_metric': 'custom_mae', 'samples': 20000}\n",
      "Using Loss: mean_squared_error \n",
      "and Reduction Metric: [<function custom_mae at 0x0000026E06BB99D8>]\n",
      "Monitor: val_custom_mae\n",
      "Train on 16000 samples, validate on 4000 samples\n",
      "15904/16000 [============================>.] - ETA: 0s - loss: 6544.7954 - custom_mae: 55.5925\n",
      "Epoch 00001: val_custom_mae improved from inf to 84.79016, saving model to ..\\fast_output\\SYNTH_Regression_MSE\\201019_2253_final_Angular_Base_Custom-MAE\\Best_Weights_FC_85.hdf5\n",
      "16000/16000 [==============================] - 13s 825us/sample - loss: 6573.7250 - custom_mae: 55.7281 - val_loss: 15114.9696 - val_custom_mae: 84.7902\n",
      "Time taken: 0:00:14.711709\n"
     ]
    },
    {
     "name": "stderr",
     "output_type": "stream",
     "text": [
      "\r",
      " 24%|██████████████████▊                                                            | 86/360 [16:11<1:13:44, 16.15s/it]"
     ]
    },
    {
     "name": "stdout",
     "output_type": "stream",
     "text": [
      "{'activation': 'leakyrelu', 'batch_size': 32, 'dropout': 0.5, 'epochs': 1, 'first_neuron': 4096, 'hidden_layers': 3, 'label_type': 'Angular', 'loss_function': 'mean_squared_error', 'lr': 5, 'monitor_value': 'val_custom_mae', 'optimizer': <class 'tensorflow.python.keras.optimizer_v2.adam.Adam'>, 'reduction_metric': 'custom_mae', 'samples': 20000}\n",
      "Using Loss: mean_squared_error \n",
      "and Reduction Metric: [<function custom_mae at 0x0000026E06BB99D8>]\n",
      "Monitor: val_custom_mae\n",
      "Train on 16000 samples, validate on 4000 samples\n",
      "15904/16000 [============================>.] - ETA: 0s - loss: 128432.2051 - custom_mae: 140.6749\n",
      "Epoch 00001: val_custom_mae improved from inf to 56.22495, saving model to ..\\fast_output\\SYNTH_Regression_MSE\\201019_2253_final_Angular_Base_Custom-MAE\\Best_Weights_FC_86.hdf5\n",
      "16000/16000 [==============================] - 13s 821us/sample - loss: 127701.9926 - custom_mae: 140.2069 - val_loss: 5871.0912 - val_custom_mae: 56.2249\n",
      "Time taken: 0:00:14.635135\n"
     ]
    },
    {
     "name": "stderr",
     "output_type": "stream",
     "text": [
      "\r",
      " 24%|███████████████████                                                            | 87/360 [16:27<1:13:47, 16.22s/it]"
     ]
    },
    {
     "name": "stdout",
     "output_type": "stream",
     "text": [
      "{'activation': 'leakyrelu', 'batch_size': 32, 'dropout': 0.5, 'epochs': 1, 'first_neuron': 4096, 'hidden_layers': 4, 'label_type': 'Angular', 'loss_function': 'mean_squared_error', 'lr': 1, 'monitor_value': 'val_custom_mae', 'optimizer': <class 'tensorflow.python.keras.optimizer_v2.adam.Adam'>, 'reduction_metric': 'custom_mae', 'samples': 20000}\n",
      "Using Loss: mean_squared_error \n",
      "and Reduction Metric: [<function custom_mae at 0x0000026E06BB99D8>]\n",
      "Monitor: val_custom_mae\n",
      "Train on 16000 samples, validate on 4000 samples\n",
      "15968/16000 [============================>.] - ETA: 0s - loss: 5865.5187 - custom_mae: 55.1804\n",
      "Epoch 00001: val_custom_mae improved from inf to 43.71674, saving model to ..\\fast_output\\SYNTH_Regression_MSE\\201019_2253_final_Angular_Base_Custom-MAE\\Best_Weights_FC_87.hdf5\n",
      "16000/16000 [==============================] - 14s 852us/sample - loss: 5862.8707 - custom_mae: 55.1648 - val_loss: 3825.6782 - val_custom_mae: 43.7167\n",
      "Time taken: 0:00:15.143281\n"
     ]
    },
    {
     "name": "stderr",
     "output_type": "stream",
     "text": [
      "\r",
      " 24%|███████████████████▎                                                           | 88/360 [16:44<1:14:30, 16.43s/it]"
     ]
    },
    {
     "name": "stdout",
     "output_type": "stream",
     "text": [
      "{'activation': 'leakyrelu', 'batch_size': 32, 'dropout': 0.5, 'epochs': 1, 'first_neuron': 4096, 'hidden_layers': 4, 'label_type': 'Angular', 'loss_function': 'mean_squared_error', 'lr': 2, 'monitor_value': 'val_custom_mae', 'optimizer': <class 'tensorflow.python.keras.optimizer_v2.adam.Adam'>, 'reduction_metric': 'custom_mae', 'samples': 20000}\n",
      "Using Loss: mean_squared_error \n",
      "and Reduction Metric: [<function custom_mae at 0x0000026E06BB99D8>]\n",
      "Monitor: val_custom_mae\n",
      "Train on 16000 samples, validate on 4000 samples\n",
      "15872/16000 [============================>.] - ETA: 0s - loss: 6669.0842 - custom_mae: 58.4284\n",
      "Epoch 00001: val_custom_mae improved from inf to 47.42675, saving model to ..\\fast_output\\SYNTH_Regression_MSE\\201019_2253_final_Angular_Base_Custom-MAE\\Best_Weights_FC_88.hdf5\n",
      "16000/16000 [==============================] - 13s 831us/sample - loss: 6655.1457 - custom_mae: 58.3674 - val_loss: 4218.1582 - val_custom_mae: 47.4267\n",
      "Time taken: 0:00:14.797082\n"
     ]
    },
    {
     "name": "stderr",
     "output_type": "stream",
     "text": [
      "\r",
      " 25%|███████████████████▌                                                           | 89/360 [17:01<1:14:28, 16.49s/it]"
     ]
    },
    {
     "name": "stdout",
     "output_type": "stream",
     "text": [
      "{'activation': 'leakyrelu', 'batch_size': 32, 'dropout': 0.5, 'epochs': 1, 'first_neuron': 4096, 'hidden_layers': 4, 'label_type': 'Angular', 'loss_function': 'mean_squared_error', 'lr': 5, 'monitor_value': 'val_custom_mae', 'optimizer': <class 'tensorflow.python.keras.optimizer_v2.adam.Adam'>, 'reduction_metric': 'custom_mae', 'samples': 20000}\n",
      "Using Loss: mean_squared_error \n",
      "and Reduction Metric: [<function custom_mae at 0x0000026E06BB99D8>]\n",
      "Monitor: val_custom_mae\n",
      "Train on 16000 samples, validate on 4000 samples\n",
      "15968/16000 [============================>.] - ETA: 0s - loss: 52643.8468 - custom_mae: 100.7204\n",
      "Epoch 00001: val_custom_mae improved from inf to 57.04341, saving model to ..\\fast_output\\SYNTH_Regression_MSE\\201019_2253_final_Angular_Base_Custom-MAE\\Best_Weights_FC_89.hdf5\n",
      "16000/16000 [==============================] - 13s 839us/sample - loss: 52552.3254 - custom_mae: 100.6366 - val_loss: 6220.1775 - val_custom_mae: 57.0434\n",
      "Time taken: 0:00:14.925805\n"
     ]
    },
    {
     "name": "stderr",
     "output_type": "stream",
     "text": [
      "\r",
      " 25%|███████████████████▊                                                           | 90/360 [17:18<1:14:33, 16.57s/it]"
     ]
    },
    {
     "name": "stdout",
     "output_type": "stream",
     "text": [
      "{'activation': 'leakyrelu', 'batch_size': 64, 'dropout': 0.25, 'epochs': 1, 'first_neuron': 1024, 'hidden_layers': 0, 'label_type': 'Angular', 'loss_function': 'mean_squared_error', 'lr': 1, 'monitor_value': 'val_custom_mae', 'optimizer': <class 'tensorflow.python.keras.optimizer_v2.adam.Adam'>, 'reduction_metric': 'custom_mae', 'samples': 20000}\n",
      "Using Loss: mean_squared_error \n",
      "and Reduction Metric: [<function custom_mae at 0x0000026E06BB99D8>]\n",
      "Monitor: val_custom_mae\n",
      "Train on 16000 samples, validate on 3968 samples\n",
      "15872/16000 [============================>.] - ETA: 0s - loss: 4347.2672 - custom_mae: 43.3057\n",
      "Epoch 00001: val_custom_mae improved from inf to 35.22934, saving model to ..\\fast_output\\SYNTH_Regression_MSE\\201019_2253_final_Angular_Base_Custom-MAE\\Best_Weights_FC_90.hdf5\n",
      "16000/16000 [==============================] - 3s 215us/sample - loss: 4334.9122 - custom_mae: 43.2110 - val_loss: 3287.6428 - val_custom_mae: 35.2293\n",
      "Time taken: 0:00:05.047653\n"
     ]
    },
    {
     "name": "stderr",
     "output_type": "stream",
     "text": [
      "\r",
      " 25%|███████████████████▉                                                           | 91/360 [17:28<1:06:13, 14.77s/it]"
     ]
    },
    {
     "name": "stdout",
     "output_type": "stream",
     "text": [
      "{'activation': 'leakyrelu', 'batch_size': 64, 'dropout': 0.25, 'epochs': 1, 'first_neuron': 1024, 'hidden_layers': 0, 'label_type': 'Angular', 'loss_function': 'mean_squared_error', 'lr': 2, 'monitor_value': 'val_custom_mae', 'optimizer': <class 'tensorflow.python.keras.optimizer_v2.adam.Adam'>, 'reduction_metric': 'custom_mae', 'samples': 20000}\n",
      "Using Loss: mean_squared_error \n",
      "and Reduction Metric: [<function custom_mae at 0x0000026E06BB99D8>]\n",
      "Monitor: val_custom_mae\n",
      "Train on 16000 samples, validate on 3968 samples\n",
      "15488/16000 [============================>.] - ETA: 0s - loss: 4017.9918 - custom_mae: 40.8562\n",
      "Epoch 00001: val_custom_mae improved from inf to 31.27012, saving model to ..\\fast_output\\SYNTH_Regression_MSE\\201019_2253_final_Angular_Base_Custom-MAE\\Best_Weights_FC_91.hdf5\n",
      "16000/16000 [==============================] - 3s 212us/sample - loss: 3967.4279 - custom_mae: 40.4979 - val_loss: 2838.2020 - val_custom_mae: 31.2701\n",
      "Time taken: 0:00:04.893756\n"
     ]
    },
    {
     "name": "stderr",
     "output_type": "stream",
     "text": [
      "\r",
      " 26%|████████████████████▋                                                            | 92/360 [17:35<54:59, 12.31s/it]"
     ]
    },
    {
     "name": "stdout",
     "output_type": "stream",
     "text": [
      "{'activation': 'leakyrelu', 'batch_size': 64, 'dropout': 0.25, 'epochs': 1, 'first_neuron': 1024, 'hidden_layers': 0, 'label_type': 'Angular', 'loss_function': 'mean_squared_error', 'lr': 5, 'monitor_value': 'val_custom_mae', 'optimizer': <class 'tensorflow.python.keras.optimizer_v2.adam.Adam'>, 'reduction_metric': 'custom_mae', 'samples': 20000}\n",
      "Using Loss: mean_squared_error \n",
      "and Reduction Metric: [<function custom_mae at 0x0000026E06BB99D8>]\n",
      "Monitor: val_custom_mae\n",
      "Train on 16000 samples, validate on 3968 samples\n",
      "15936/16000 [============================>.] - ETA: 0s - loss: 3907.1364 - custom_mae: 39.9750\n",
      "Epoch 00001: val_custom_mae improved from inf to 29.48256, saving model to ..\\fast_output\\SYNTH_Regression_MSE\\201019_2253_final_Angular_Base_Custom-MAE\\Best_Weights_FC_92.hdf5\n",
      "16000/16000 [==============================] - 3s 210us/sample - loss: 3901.9399 - custom_mae: 39.9320 - val_loss: 2609.6939 - val_custom_mae: 29.4826\n",
      "Time taken: 0:00:04.856471\n"
     ]
    },
    {
     "name": "stderr",
     "output_type": "stream",
     "text": [
      "\r",
      " 26%|████████████████████▉                                                            | 93/360 [17:41<47:03, 10.58s/it]"
     ]
    },
    {
     "name": "stdout",
     "output_type": "stream",
     "text": [
      "{'activation': 'leakyrelu', 'batch_size': 64, 'dropout': 0.25, 'epochs': 1, 'first_neuron': 1024, 'hidden_layers': 1, 'label_type': 'Angular', 'loss_function': 'mean_squared_error', 'lr': 1, 'monitor_value': 'val_custom_mae', 'optimizer': <class 'tensorflow.python.keras.optimizer_v2.adam.Adam'>, 'reduction_metric': 'custom_mae', 'samples': 20000}\n",
      "Using Loss: mean_squared_error \n",
      "and Reduction Metric: [<function custom_mae at 0x0000026E06BB99D8>]\n",
      "Monitor: val_custom_mae\n",
      "Train on 16000 samples, validate on 3968 samples\n",
      "15872/16000 [============================>.] - ETA: 0s - loss: 4312.2812 - custom_mae: 43.3485\n",
      "Epoch 00001: val_custom_mae improved from inf to 32.92757, saving model to ..\\fast_output\\SYNTH_Regression_MSE\\201019_2253_final_Angular_Base_Custom-MAE\\Best_Weights_FC_93.hdf5\n",
      "16000/16000 [==============================] - 3s 217us/sample - loss: 4300.0081 - custom_mae: 43.2551 - val_loss: 3019.4148 - val_custom_mae: 32.9276\n",
      "Time taken: 0:00:04.979697\n"
     ]
    },
    {
     "name": "stderr",
     "output_type": "stream",
     "text": [
      "\r",
      " 26%|█████████████████████▏                                                           | 94/360 [17:48<41:43,  9.41s/it]"
     ]
    },
    {
     "name": "stdout",
     "output_type": "stream",
     "text": [
      "{'activation': 'leakyrelu', 'batch_size': 64, 'dropout': 0.25, 'epochs': 1, 'first_neuron': 1024, 'hidden_layers': 1, 'label_type': 'Angular', 'loss_function': 'mean_squared_error', 'lr': 2, 'monitor_value': 'val_custom_mae', 'optimizer': <class 'tensorflow.python.keras.optimizer_v2.adam.Adam'>, 'reduction_metric': 'custom_mae', 'samples': 20000}\n",
      "Using Loss: mean_squared_error \n",
      "and Reduction Metric: [<function custom_mae at 0x0000026E06BB99D8>]\n",
      "Monitor: val_custom_mae\n",
      "Train on 16000 samples, validate on 3968 samples\n",
      "15424/16000 [===========================>..] - ETA: 0s - loss: 4145.6876 - custom_mae: 42.1275\n",
      "Epoch 00001: val_custom_mae improved from inf to 31.16097, saving model to ..\\fast_output\\SYNTH_Regression_MSE\\201019_2253_final_Angular_Base_Custom-MAE\\Best_Weights_FC_94.hdf5\n",
      "16000/16000 [==============================] - 4s 220us/sample - loss: 4093.0352 - custom_mae: 41.7596 - val_loss: 2810.3836 - val_custom_mae: 31.1610\n",
      "Time taken: 0:00:05.010301\n"
     ]
    },
    {
     "name": "stderr",
     "output_type": "stream",
     "text": [
      "\r",
      " 26%|█████████████████████▍                                                           | 95/360 [17:55<38:00,  8.61s/it]"
     ]
    },
    {
     "name": "stdout",
     "output_type": "stream",
     "text": [
      "{'activation': 'leakyrelu', 'batch_size': 64, 'dropout': 0.25, 'epochs': 1, 'first_neuron': 1024, 'hidden_layers': 1, 'label_type': 'Angular', 'loss_function': 'mean_squared_error', 'lr': 5, 'monitor_value': 'val_custom_mae', 'optimizer': <class 'tensorflow.python.keras.optimizer_v2.adam.Adam'>, 'reduction_metric': 'custom_mae', 'samples': 20000}\n",
      "Using Loss: mean_squared_error \n",
      "and Reduction Metric: [<function custom_mae at 0x0000026E06BB99D8>]\n",
      "Monitor: val_custom_mae\n",
      "Train on 16000 samples, validate on 3968 samples\n",
      "15744/16000 [============================>.] - ETA: 0s - loss: 5739.4766 - custom_mae: 47.9654\n",
      "Epoch 00001: val_custom_mae improved from inf to 33.03932, saving model to ..\\fast_output\\SYNTH_Regression_MSE\\201019_2253_final_Angular_Base_Custom-MAE\\Best_Weights_FC_95.hdf5\n",
      "16000/16000 [==============================] - 3s 218us/sample - loss: 5692.8192 - custom_mae: 47.7255 - val_loss: 2874.6593 - val_custom_mae: 33.0393\n",
      "Time taken: 0:00:04.985973\n"
     ]
    },
    {
     "name": "stderr",
     "output_type": "stream",
     "text": [
      "\r",
      " 27%|█████████████████████▌                                                           | 96/360 [18:01<35:19,  8.03s/it]"
     ]
    },
    {
     "name": "stdout",
     "output_type": "stream",
     "text": [
      "{'activation': 'leakyrelu', 'batch_size': 64, 'dropout': 0.25, 'epochs': 1, 'first_neuron': 1024, 'hidden_layers': 2, 'label_type': 'Angular', 'loss_function': 'mean_squared_error', 'lr': 1, 'monitor_value': 'val_custom_mae', 'optimizer': <class 'tensorflow.python.keras.optimizer_v2.adam.Adam'>, 'reduction_metric': 'custom_mae', 'samples': 20000}\n",
      "Using Loss: mean_squared_error \n",
      "and Reduction Metric: [<function custom_mae at 0x0000026E06BB99D8>]\n",
      "Monitor: val_custom_mae\n",
      "Train on 16000 samples, validate on 3968 samples\n",
      "15808/16000 [============================>.] - ETA: 0s - loss: 4577.5174 - custom_mae: 45.4700\n",
      "Epoch 00001: val_custom_mae improved from inf to 32.15699, saving model to ..\\fast_output\\SYNTH_Regression_MSE\\201019_2253_final_Angular_Base_Custom-MAE\\Best_Weights_FC_96.hdf5\n",
      "16000/16000 [==============================] - 4s 226us/sample - loss: 4553.7802 - custom_mae: 45.3122 - val_loss: 2807.5071 - val_custom_mae: 32.1570\n",
      "Time taken: 0:00:05.112066\n"
     ]
    },
    {
     "name": "stderr",
     "output_type": "stream",
     "text": [
      "\r",
      " 27%|█████████████████████▊                                                           | 97/360 [18:08<33:39,  7.68s/it]"
     ]
    },
    {
     "name": "stdout",
     "output_type": "stream",
     "text": [
      "{'activation': 'leakyrelu', 'batch_size': 64, 'dropout': 0.25, 'epochs': 1, 'first_neuron': 1024, 'hidden_layers': 2, 'label_type': 'Angular', 'loss_function': 'mean_squared_error', 'lr': 2, 'monitor_value': 'val_custom_mae', 'optimizer': <class 'tensorflow.python.keras.optimizer_v2.adam.Adam'>, 'reduction_metric': 'custom_mae', 'samples': 20000}\n",
      "Using Loss: mean_squared_error \n",
      "and Reduction Metric: [<function custom_mae at 0x0000026E06BB99D8>]\n",
      "Monitor: val_custom_mae\n",
      "Train on 16000 samples, validate on 3968 samples\n",
      "15616/16000 [============================>.] - ETA: 0s - loss: 4452.1813 - custom_mae: 44.5243\n",
      "Epoch 00001: val_custom_mae improved from inf to 34.16796, saving model to ..\\fast_output\\SYNTH_Regression_MSE\\201019_2253_final_Angular_Base_Custom-MAE\\Best_Weights_FC_97.hdf5\n",
      "16000/16000 [==============================] - 4s 226us/sample - loss: 4409.0088 - custom_mae: 44.2502 - val_loss: 3082.9151 - val_custom_mae: 34.1680\n",
      "Time taken: 0:00:05.118283\n"
     ]
    },
    {
     "name": "stderr",
     "output_type": "stream",
     "text": [
      "\r",
      " 27%|██████████████████████                                                           | 98/360 [18:15<32:27,  7.43s/it]"
     ]
    },
    {
     "name": "stdout",
     "output_type": "stream",
     "text": [
      "{'activation': 'leakyrelu', 'batch_size': 64, 'dropout': 0.25, 'epochs': 1, 'first_neuron': 1024, 'hidden_layers': 2, 'label_type': 'Angular', 'loss_function': 'mean_squared_error', 'lr': 5, 'monitor_value': 'val_custom_mae', 'optimizer': <class 'tensorflow.python.keras.optimizer_v2.adam.Adam'>, 'reduction_metric': 'custom_mae', 'samples': 20000}\n",
      "Using Loss: mean_squared_error \n",
      "and Reduction Metric: [<function custom_mae at 0x0000026E06BB99D8>]\n",
      "Monitor: val_custom_mae\n",
      "Train on 16000 samples, validate on 3968 samples\n",
      "15872/16000 [============================>.] - ETA: 0s - loss: 4983.1466 - custom_mae: 46.5600\n",
      "Epoch 00001: val_custom_mae improved from inf to 33.10217, saving model to ..\\fast_output\\SYNTH_Regression_MSE\\201019_2253_final_Angular_Base_Custom-MAE\\Best_Weights_FC_98.hdf5\n",
      "16000/16000 [==============================] - 4s 234us/sample - loss: 4964.7806 - custom_mae: 46.4464 - val_loss: 2681.8192 - val_custom_mae: 33.1022\n",
      "Time taken: 0:00:05.256661\n"
     ]
    },
    {
     "name": "stderr",
     "output_type": "stream",
     "text": [
      "\r",
      " 28%|██████████████████████▎                                                          | 99/360 [18:22<31:45,  7.30s/it]"
     ]
    },
    {
     "name": "stdout",
     "output_type": "stream",
     "text": [
      "{'activation': 'leakyrelu', 'batch_size': 64, 'dropout': 0.25, 'epochs': 1, 'first_neuron': 1024, 'hidden_layers': 3, 'label_type': 'Angular', 'loss_function': 'mean_squared_error', 'lr': 1, 'monitor_value': 'val_custom_mae', 'optimizer': <class 'tensorflow.python.keras.optimizer_v2.adam.Adam'>, 'reduction_metric': 'custom_mae', 'samples': 20000}\n",
      "Using Loss: mean_squared_error \n",
      "and Reduction Metric: [<function custom_mae at 0x0000026E06BB99D8>]\n",
      "Monitor: val_custom_mae\n",
      "Train on 16000 samples, validate on 3968 samples\n",
      "15616/16000 [============================>.] - ETA: 0s - loss: 5008.8130 - custom_mae: 48.9741\n",
      "Epoch 00001: val_custom_mae improved from inf to 34.83933, saving model to ..\\fast_output\\SYNTH_Regression_MSE\\201019_2253_final_Angular_Base_Custom-MAE\\Best_Weights_FC_99.hdf5\n",
      "16000/16000 [==============================] - 4s 231us/sample - loss: 4958.1487 - custom_mae: 48.6396 - val_loss: 3128.1120 - val_custom_mae: 34.8393\n",
      "Time taken: 0:00:05.197525\n"
     ]
    },
    {
     "name": "stderr",
     "output_type": "stream",
     "text": [
      "\r",
      " 28%|██████████████████████▏                                                         | 100/360 [18:29<31:12,  7.20s/it]"
     ]
    },
    {
     "name": "stdout",
     "output_type": "stream",
     "text": [
      "{'activation': 'leakyrelu', 'batch_size': 64, 'dropout': 0.25, 'epochs': 1, 'first_neuron': 1024, 'hidden_layers': 3, 'label_type': 'Angular', 'loss_function': 'mean_squared_error', 'lr': 2, 'monitor_value': 'val_custom_mae', 'optimizer': <class 'tensorflow.python.keras.optimizer_v2.adam.Adam'>, 'reduction_metric': 'custom_mae', 'samples': 20000}\n",
      "Using Loss: mean_squared_error \n",
      "and Reduction Metric: [<function custom_mae at 0x0000026E06BB99D8>]\n",
      "Monitor: val_custom_mae\n",
      "Train on 16000 samples, validate on 3968 samples\n",
      "15552/16000 [============================>.] - ETA: 0s - loss: 4834.2931 - custom_mae: 47.6669\n",
      "Epoch 00001: val_custom_mae improved from inf to 37.38970, saving model to ..\\fast_output\\SYNTH_Regression_MSE\\201019_2253_final_Angular_Base_Custom-MAE\\Best_Weights_FC_100.hdf5\n",
      "16000/16000 [==============================] - 4s 231us/sample - loss: 4781.5457 - custom_mae: 47.3083 - val_loss: 3428.7016 - val_custom_mae: 37.3897\n",
      "Time taken: 0:00:05.160356\n"
     ]
    },
    {
     "name": "stderr",
     "output_type": "stream",
     "text": [
      "\r",
      " 28%|██████████████████████▍                                                         | 101/360 [18:36<30:44,  7.12s/it]"
     ]
    },
    {
     "name": "stdout",
     "output_type": "stream",
     "text": [
      "{'activation': 'leakyrelu', 'batch_size': 64, 'dropout': 0.25, 'epochs': 1, 'first_neuron': 1024, 'hidden_layers': 3, 'label_type': 'Angular', 'loss_function': 'mean_squared_error', 'lr': 5, 'monitor_value': 'val_custom_mae', 'optimizer': <class 'tensorflow.python.keras.optimizer_v2.adam.Adam'>, 'reduction_metric': 'custom_mae', 'samples': 20000}\n",
      "Using Loss: mean_squared_error \n",
      "and Reduction Metric: [<function custom_mae at 0x0000026E06BB99D8>]\n",
      "Monitor: val_custom_mae\n",
      "Train on 16000 samples, validate on 3968 samples\n",
      "15808/16000 [============================>.] - ETA: 0s - loss: 4924.4009 - custom_mae: 48.5512\n",
      "Epoch 00001: val_custom_mae improved from inf to 32.91220, saving model to ..\\fast_output\\SYNTH_Regression_MSE\\201019_2253_final_Angular_Base_Custom-MAE\\Best_Weights_FC_101.hdf5\n",
      "16000/16000 [==============================] - 4s 231us/sample - loss: 4899.5397 - custom_mae: 48.3915 - val_loss: 2685.7489 - val_custom_mae: 32.9122\n",
      "Time taken: 0:00:05.214160\n"
     ]
    },
    {
     "name": "stderr",
     "output_type": "stream",
     "text": [
      "\r",
      " 28%|██████████████████████▋                                                         | 102/360 [18:43<30:26,  7.08s/it]"
     ]
    },
    {
     "name": "stdout",
     "output_type": "stream",
     "text": [
      "{'activation': 'leakyrelu', 'batch_size': 64, 'dropout': 0.25, 'epochs': 1, 'first_neuron': 1024, 'hidden_layers': 4, 'label_type': 'Angular', 'loss_function': 'mean_squared_error', 'lr': 1, 'monitor_value': 'val_custom_mae', 'optimizer': <class 'tensorflow.python.keras.optimizer_v2.adam.Adam'>, 'reduction_metric': 'custom_mae', 'samples': 20000}\n",
      "Using Loss: mean_squared_error \n",
      "and Reduction Metric: [<function custom_mae at 0x0000026E06BB99D8>]\n",
      "Monitor: val_custom_mae\n",
      "Train on 16000 samples, validate on 3968 samples\n",
      "15872/16000 [============================>.] - ETA: 0s - loss: 5609.0138 - custom_mae: 53.1536\n",
      "Epoch 00001: val_custom_mae improved from inf to 42.11417, saving model to ..\\fast_output\\SYNTH_Regression_MSE\\201019_2253_final_Angular_Base_Custom-MAE\\Best_Weights_FC_102.hdf5\n",
      "16000/16000 [==============================] - 4s 237us/sample - loss: 5596.4146 - custom_mae: 53.0612 - val_loss: 3960.9197 - val_custom_mae: 42.1142\n",
      "Time taken: 0:00:05.296857\n"
     ]
    },
    {
     "name": "stderr",
     "output_type": "stream",
     "text": [
      "\r",
      " 29%|██████████████████████▉                                                         | 103/360 [18:50<30:17,  7.07s/it]"
     ]
    },
    {
     "name": "stdout",
     "output_type": "stream",
     "text": [
      "{'activation': 'leakyrelu', 'batch_size': 64, 'dropout': 0.25, 'epochs': 1, 'first_neuron': 1024, 'hidden_layers': 4, 'label_type': 'Angular', 'loss_function': 'mean_squared_error', 'lr': 2, 'monitor_value': 'val_custom_mae', 'optimizer': <class 'tensorflow.python.keras.optimizer_v2.adam.Adam'>, 'reduction_metric': 'custom_mae', 'samples': 20000}\n",
      "Using Loss: mean_squared_error \n",
      "and Reduction Metric: [<function custom_mae at 0x0000026E06BB99D8>]\n",
      "Monitor: val_custom_mae\n",
      "Train on 16000 samples, validate on 3968 samples\n",
      "15936/16000 [============================>.] - ETA: 0s - loss: 5313.8153 - custom_mae: 50.5044\n",
      "Epoch 00001: val_custom_mae improved from inf to 32.51735, saving model to ..\\fast_output\\SYNTH_Regression_MSE\\201019_2253_final_Angular_Base_Custom-MAE\\Best_Weights_FC_103.hdf5\n",
      "16000/16000 [==============================] - 4s 234us/sample - loss: 5305.3142 - custom_mae: 50.4498 - val_loss: 2670.9134 - val_custom_mae: 32.5174\n",
      "Time taken: 0:00:05.247257\n"
     ]
    },
    {
     "name": "stderr",
     "output_type": "stream",
     "text": [
      "\r",
      " 29%|███████████████████████                                                         | 104/360 [18:57<30:08,  7.06s/it]"
     ]
    },
    {
     "name": "stdout",
     "output_type": "stream",
     "text": [
      "{'activation': 'leakyrelu', 'batch_size': 64, 'dropout': 0.25, 'epochs': 1, 'first_neuron': 1024, 'hidden_layers': 4, 'label_type': 'Angular', 'loss_function': 'mean_squared_error', 'lr': 5, 'monitor_value': 'val_custom_mae', 'optimizer': <class 'tensorflow.python.keras.optimizer_v2.adam.Adam'>, 'reduction_metric': 'custom_mae', 'samples': 20000}\n",
      "Using Loss: mean_squared_error \n",
      "and Reduction Metric: [<function custom_mae at 0x0000026E06BB99D8>]\n",
      "Monitor: val_custom_mae\n",
      "Train on 16000 samples, validate on 3968 samples\n",
      "15872/16000 [============================>.] - ETA: 0s - loss: 8036.0926 - custom_mae: 56.9041\n",
      "Epoch 00001: val_custom_mae improved from inf to 41.67547, saving model to ..\\fast_output\\SYNTH_Regression_MSE\\201019_2253_final_Angular_Base_Custom-MAE\\Best_Weights_FC_104.hdf5\n",
      "16000/16000 [==============================] - 4s 236us/sample - loss: 8000.6746 - custom_mae: 56.7933 - val_loss: 3425.1650 - val_custom_mae: 41.6755\n",
      "Time taken: 0:00:05.271183\n"
     ]
    },
    {
     "name": "stderr",
     "output_type": "stream",
     "text": [
      "\r",
      " 29%|███████████████████████▎                                                        | 105/360 [19:04<29:59,  7.06s/it]"
     ]
    },
    {
     "name": "stdout",
     "output_type": "stream",
     "text": [
      "{'activation': 'leakyrelu', 'batch_size': 64, 'dropout': 0.25, 'epochs': 1, 'first_neuron': 2048, 'hidden_layers': 0, 'label_type': 'Angular', 'loss_function': 'mean_squared_error', 'lr': 1, 'monitor_value': 'val_custom_mae', 'optimizer': <class 'tensorflow.python.keras.optimizer_v2.adam.Adam'>, 'reduction_metric': 'custom_mae', 'samples': 20000}\n",
      "Using Loss: mean_squared_error \n",
      "and Reduction Metric: [<function custom_mae at 0x0000026E06BB99D8>]\n",
      "Monitor: val_custom_mae\n",
      "Train on 16000 samples, validate on 3968 samples\n",
      "15872/16000 [============================>.] - ETA: 0s - loss: 4139.2338 - custom_mae: 41.5944\n",
      "Epoch 00001: val_custom_mae improved from inf to 32.33223, saving model to ..\\fast_output\\SYNTH_Regression_MSE\\201019_2253_final_Angular_Base_Custom-MAE\\Best_Weights_FC_105.hdf5\n",
      "16000/16000 [==============================] - 5s 327us/sample - loss: 4127.7712 - custom_mae: 41.5120 - val_loss: 2951.2076 - val_custom_mae: 32.3322\n",
      "Time taken: 0:00:06.730579\n"
     ]
    },
    {
     "name": "stderr",
     "output_type": "stream",
     "text": [
      "\r",
      " 29%|███████████████████████▌                                                        | 106/360 [19:12<31:35,  7.46s/it]"
     ]
    },
    {
     "name": "stdout",
     "output_type": "stream",
     "text": [
      "{'activation': 'leakyrelu', 'batch_size': 64, 'dropout': 0.25, 'epochs': 1, 'first_neuron': 2048, 'hidden_layers': 0, 'label_type': 'Angular', 'loss_function': 'mean_squared_error', 'lr': 2, 'monitor_value': 'val_custom_mae', 'optimizer': <class 'tensorflow.python.keras.optimizer_v2.adam.Adam'>, 'reduction_metric': 'custom_mae', 'samples': 20000}\n",
      "Using Loss: mean_squared_error \n",
      "and Reduction Metric: [<function custom_mae at 0x0000026E06BB99D8>]\n",
      "Monitor: val_custom_mae\n",
      "Train on 16000 samples, validate on 3968 samples\n",
      "15808/16000 [============================>.] - ETA: 0s - loss: 3955.0685 - custom_mae: 39.9872\n",
      "Epoch 00001: val_custom_mae improved from inf to 31.70914, saving model to ..\\fast_output\\SYNTH_Regression_MSE\\201019_2253_final_Angular_Base_Custom-MAE\\Best_Weights_FC_106.hdf5\n",
      "16000/16000 [==============================] - 5s 329us/sample - loss: 3937.9567 - custom_mae: 39.8613 - val_loss: 2802.0679 - val_custom_mae: 31.7091\n",
      "Time taken: 0:00:06.793795\n"
     ]
    },
    {
     "name": "stderr",
     "output_type": "stream",
     "text": [
      "\r",
      " 30%|███████████████████████▊                                                        | 107/360 [19:21<32:47,  7.78s/it]"
     ]
    },
    {
     "name": "stdout",
     "output_type": "stream",
     "text": [
      "{'activation': 'leakyrelu', 'batch_size': 64, 'dropout': 0.25, 'epochs': 1, 'first_neuron': 2048, 'hidden_layers': 0, 'label_type': 'Angular', 'loss_function': 'mean_squared_error', 'lr': 5, 'monitor_value': 'val_custom_mae', 'optimizer': <class 'tensorflow.python.keras.optimizer_v2.adam.Adam'>, 'reduction_metric': 'custom_mae', 'samples': 20000}\n",
      "Using Loss: mean_squared_error \n",
      "and Reduction Metric: [<function custom_mae at 0x0000026E06BB99D8>]\n",
      "Monitor: val_custom_mae\n",
      "Train on 16000 samples, validate on 3968 samples\n",
      "15808/16000 [============================>.] - ETA: 0s - loss: 4361.6958 - custom_mae: 41.5913\n",
      "Epoch 00001: val_custom_mae improved from inf to 33.49364, saving model to ..\\fast_output\\SYNTH_Regression_MSE\\201019_2253_final_Angular_Base_Custom-MAE\\Best_Weights_FC_107.hdf5\n",
      "16000/16000 [==============================] - 5s 331us/sample - loss: 4340.7371 - custom_mae: 41.4572 - val_loss: 2939.9875 - val_custom_mae: 33.4936\n",
      "Time taken: 0:00:06.786143\n"
     ]
    },
    {
     "name": "stderr",
     "output_type": "stream",
     "text": [
      "\r",
      " 30%|████████████████████████                                                        | 108/360 [19:29<33:33,  7.99s/it]"
     ]
    },
    {
     "name": "stdout",
     "output_type": "stream",
     "text": [
      "{'activation': 'leakyrelu', 'batch_size': 64, 'dropout': 0.25, 'epochs': 1, 'first_neuron': 2048, 'hidden_layers': 1, 'label_type': 'Angular', 'loss_function': 'mean_squared_error', 'lr': 1, 'monitor_value': 'val_custom_mae', 'optimizer': <class 'tensorflow.python.keras.optimizer_v2.adam.Adam'>, 'reduction_metric': 'custom_mae', 'samples': 20000}\n",
      "Using Loss: mean_squared_error \n",
      "and Reduction Metric: [<function custom_mae at 0x0000026E06BB99D8>]\n",
      "Monitor: val_custom_mae\n",
      "Train on 16000 samples, validate on 3968 samples\n",
      "15680/16000 [============================>.] - ETA: 0s - loss: 3910.2075 - custom_mae: 40.3613\n",
      "Epoch 00001: val_custom_mae improved from inf to 29.19100, saving model to ..\\fast_output\\SYNTH_Regression_MSE\\201019_2253_final_Angular_Base_Custom-MAE\\Best_Weights_FC_108.hdf5\n",
      "16000/16000 [==============================] - 5s 341us/sample - loss: 3879.8945 - custom_mae: 40.1341 - val_loss: 2554.8260 - val_custom_mae: 29.1910\n",
      "Time taken: 0:00:06.984496\n"
     ]
    },
    {
     "name": "stderr",
     "output_type": "stream",
     "text": [
      "\r",
      " 30%|████████████████████████▏                                                       | 109/360 [19:38<34:19,  8.21s/it]"
     ]
    },
    {
     "name": "stdout",
     "output_type": "stream",
     "text": [
      "{'activation': 'leakyrelu', 'batch_size': 64, 'dropout': 0.25, 'epochs': 1, 'first_neuron': 2048, 'hidden_layers': 1, 'label_type': 'Angular', 'loss_function': 'mean_squared_error', 'lr': 2, 'monitor_value': 'val_custom_mae', 'optimizer': <class 'tensorflow.python.keras.optimizer_v2.adam.Adam'>, 'reduction_metric': 'custom_mae', 'samples': 20000}\n",
      "Using Loss: mean_squared_error \n",
      "and Reduction Metric: [<function custom_mae at 0x0000026E06BB99D8>]\n",
      "Monitor: val_custom_mae\n",
      "Train on 16000 samples, validate on 3968 samples\n",
      "15616/16000 [============================>.] - ETA: 0s - loss: 4557.3617 - custom_mae: 43.2469\n",
      "Epoch 00001: val_custom_mae improved from inf to 29.13841, saving model to ..\\fast_output\\SYNTH_Regression_MSE\\201019_2253_final_Angular_Base_Custom-MAE\\Best_Weights_FC_109.hdf5\n",
      "16000/16000 [==============================] - 5s 342us/sample - loss: 4502.2186 - custom_mae: 42.8884 - val_loss: 2549.2384 - val_custom_mae: 29.1384\n",
      "Time taken: 0:00:06.981932\n"
     ]
    },
    {
     "name": "stderr",
     "output_type": "stream",
     "text": [
      "\r",
      " 31%|████████████████████████▍                                                       | 110/360 [19:47<34:45,  8.34s/it]"
     ]
    },
    {
     "name": "stdout",
     "output_type": "stream",
     "text": [
      "{'activation': 'leakyrelu', 'batch_size': 64, 'dropout': 0.25, 'epochs': 1, 'first_neuron': 2048, 'hidden_layers': 1, 'label_type': 'Angular', 'loss_function': 'mean_squared_error', 'lr': 5, 'monitor_value': 'val_custom_mae', 'optimizer': <class 'tensorflow.python.keras.optimizer_v2.adam.Adam'>, 'reduction_metric': 'custom_mae', 'samples': 20000}\n",
      "Using Loss: mean_squared_error \n",
      "and Reduction Metric: [<function custom_mae at 0x0000026E06BB99D8>]\n",
      "Monitor: val_custom_mae\n",
      "Train on 16000 samples, validate on 3968 samples\n",
      "15616/16000 [============================>.] - ETA: 0s - loss: 13392.4716 - custom_mae: 57.7201\n",
      "Epoch 00001: val_custom_mae improved from inf to 33.88697, saving model to ..\\fast_output\\SYNTH_Regression_MSE\\201019_2253_final_Angular_Base_Custom-MAE\\Best_Weights_FC_110.hdf5\n",
      "16000/16000 [==============================] - 5s 342us/sample - loss: 13144.6951 - custom_mae: 57.2250 - val_loss: 3027.0805 - val_custom_mae: 33.8870\n",
      "Time taken: 0:00:06.982627\n"
     ]
    },
    {
     "name": "stderr",
     "output_type": "stream",
     "text": [
      "\r",
      " 31%|████████████████████████▋                                                       | 111/360 [19:56<35:01,  8.44s/it]"
     ]
    },
    {
     "name": "stdout",
     "output_type": "stream",
     "text": [
      "{'activation': 'leakyrelu', 'batch_size': 64, 'dropout': 0.25, 'epochs': 1, 'first_neuron': 2048, 'hidden_layers': 2, 'label_type': 'Angular', 'loss_function': 'mean_squared_error', 'lr': 1, 'monitor_value': 'val_custom_mae', 'optimizer': <class 'tensorflow.python.keras.optimizer_v2.adam.Adam'>, 'reduction_metric': 'custom_mae', 'samples': 20000}\n",
      "Using Loss: mean_squared_error \n",
      "and Reduction Metric: [<function custom_mae at 0x0000026E06BB99D8>]\n",
      "Monitor: val_custom_mae\n",
      "Train on 16000 samples, validate on 3968 samples\n",
      "15616/16000 [============================>.] - ETA: 0s - loss: 4227.8640 - custom_mae: 43.1948\n",
      "Epoch 00001: val_custom_mae improved from inf to 30.96935, saving model to ..\\fast_output\\SYNTH_Regression_MSE\\201019_2253_final_Angular_Base_Custom-MAE\\Best_Weights_FC_111.hdf5\n",
      "16000/16000 [==============================] - 6s 348us/sample - loss: 4180.2320 - custom_mae: 42.8645 - val_loss: 2628.9507 - val_custom_mae: 30.9694\n",
      "Time taken: 0:00:07.064824\n"
     ]
    },
    {
     "name": "stderr",
     "output_type": "stream",
     "text": [
      "\r",
      " 31%|████████████████████████▉                                                       | 112/360 [20:04<35:17,  8.54s/it]"
     ]
    },
    {
     "name": "stdout",
     "output_type": "stream",
     "text": [
      "{'activation': 'leakyrelu', 'batch_size': 64, 'dropout': 0.25, 'epochs': 1, 'first_neuron': 2048, 'hidden_layers': 2, 'label_type': 'Angular', 'loss_function': 'mean_squared_error', 'lr': 2, 'monitor_value': 'val_custom_mae', 'optimizer': <class 'tensorflow.python.keras.optimizer_v2.adam.Adam'>, 'reduction_metric': 'custom_mae', 'samples': 20000}\n",
      "Using Loss: mean_squared_error \n",
      "and Reduction Metric: [<function custom_mae at 0x0000026E06BB99D8>]\n",
      "Monitor: val_custom_mae\n",
      "Train on 16000 samples, validate on 3968 samples\n",
      "15872/16000 [============================>.] - ETA: 0s - loss: 5638.9477 - custom_mae: 47.9735\n",
      "Epoch 00001: val_custom_mae improved from inf to 32.34906, saving model to ..\\fast_output\\SYNTH_Regression_MSE\\201019_2253_final_Angular_Base_Custom-MAE\\Best_Weights_FC_112.hdf5\n",
      "16000/16000 [==============================] - 6s 350us/sample - loss: 5617.5539 - custom_mae: 47.8624 - val_loss: 2908.9319 - val_custom_mae: 32.3491\n",
      "Time taken: 0:00:07.115142\n"
     ]
    },
    {
     "name": "stderr",
     "output_type": "stream",
     "text": [
      "\r",
      " 31%|█████████████████████████                                                       | 113/360 [20:13<35:31,  8.63s/it]"
     ]
    },
    {
     "name": "stdout",
     "output_type": "stream",
     "text": [
      "{'activation': 'leakyrelu', 'batch_size': 64, 'dropout': 0.25, 'epochs': 1, 'first_neuron': 2048, 'hidden_layers': 2, 'label_type': 'Angular', 'loss_function': 'mean_squared_error', 'lr': 5, 'monitor_value': 'val_custom_mae', 'optimizer': <class 'tensorflow.python.keras.optimizer_v2.adam.Adam'>, 'reduction_metric': 'custom_mae', 'samples': 20000}\n",
      "Using Loss: mean_squared_error \n",
      "and Reduction Metric: [<function custom_mae at 0x0000026E06BB99D8>]\n",
      "Monitor: val_custom_mae\n",
      "Train on 16000 samples, validate on 3968 samples\n",
      "15744/16000 [============================>.] - ETA: 0s - loss: 24184.1639 - custom_mae: 66.1271\n",
      "Epoch 00001: val_custom_mae improved from inf to 38.04966, saving model to ..\\fast_output\\SYNTH_Regression_MSE\\201019_2253_final_Angular_Base_Custom-MAE\\Best_Weights_FC_113.hdf5\n",
      "16000/16000 [==============================] - 6s 346us/sample - loss: 23855.9592 - custom_mae: 65.7299 - val_loss: 3489.4021 - val_custom_mae: 38.0497\n",
      "Time taken: 0:00:07.040814\n"
     ]
    },
    {
     "name": "stderr",
     "output_type": "stream",
     "text": [
      "\r",
      " 32%|█████████████████████████▎                                                      | 114/360 [20:22<35:32,  8.67s/it]"
     ]
    },
    {
     "name": "stdout",
     "output_type": "stream",
     "text": [
      "{'activation': 'leakyrelu', 'batch_size': 64, 'dropout': 0.25, 'epochs': 1, 'first_neuron': 2048, 'hidden_layers': 3, 'label_type': 'Angular', 'loss_function': 'mean_squared_error', 'lr': 1, 'monitor_value': 'val_custom_mae', 'optimizer': <class 'tensorflow.python.keras.optimizer_v2.adam.Adam'>, 'reduction_metric': 'custom_mae', 'samples': 20000}\n",
      "Using Loss: mean_squared_error \n",
      "and Reduction Metric: [<function custom_mae at 0x0000026E06BB99D8>]\n",
      "Monitor: val_custom_mae\n",
      "Train on 16000 samples, validate on 3968 samples\n",
      "15808/16000 [============================>.] - ETA: 0s - loss: 4628.3086 - custom_mae: 45.4071\n",
      "Epoch 00001: val_custom_mae improved from inf to 29.57915, saving model to ..\\fast_output\\SYNTH_Regression_MSE\\201019_2253_final_Angular_Base_Custom-MAE\\Best_Weights_FC_114.hdf5\n",
      "16000/16000 [==============================] - 6s 356us/sample - loss: 4605.9506 - custom_mae: 45.2493 - val_loss: 2520.2130 - val_custom_mae: 29.5792\n",
      "Time taken: 0:00:07.182829\n"
     ]
    },
    {
     "name": "stderr",
     "output_type": "stream",
     "text": [
      "\r",
      " 32%|█████████████████████████▌                                                      | 115/360 [20:31<35:44,  8.75s/it]"
     ]
    },
    {
     "name": "stdout",
     "output_type": "stream",
     "text": [
      "{'activation': 'leakyrelu', 'batch_size': 64, 'dropout': 0.25, 'epochs': 1, 'first_neuron': 2048, 'hidden_layers': 3, 'label_type': 'Angular', 'loss_function': 'mean_squared_error', 'lr': 2, 'monitor_value': 'val_custom_mae', 'optimizer': <class 'tensorflow.python.keras.optimizer_v2.adam.Adam'>, 'reduction_metric': 'custom_mae', 'samples': 20000}\n",
      "Using Loss: mean_squared_error \n",
      "and Reduction Metric: [<function custom_mae at 0x0000026E06BB99D8>]\n",
      "Monitor: val_custom_mae\n",
      "Train on 16000 samples, validate on 3968 samples\n",
      "15616/16000 [============================>.] - ETA: 0s - loss: 5858.0059 - custom_mae: 48.9177\n",
      "Epoch 00001: val_custom_mae improved from inf to 35.84057, saving model to ..\\fast_output\\SYNTH_Regression_MSE\\201019_2253_final_Angular_Base_Custom-MAE\\Best_Weights_FC_115.hdf5\n",
      "16000/16000 [==============================] - 6s 351us/sample - loss: 5785.2726 - custom_mae: 48.5685 - val_loss: 3372.6277 - val_custom_mae: 35.8406\n",
      "Time taken: 0:00:07.114040\n"
     ]
    },
    {
     "name": "stderr",
     "output_type": "stream",
     "text": [
      "\r",
      " 32%|█████████████████████████▊                                                      | 116/360 [20:40<35:44,  8.79s/it]"
     ]
    },
    {
     "name": "stdout",
     "output_type": "stream",
     "text": [
      "{'activation': 'leakyrelu', 'batch_size': 64, 'dropout': 0.25, 'epochs': 1, 'first_neuron': 2048, 'hidden_layers': 3, 'label_type': 'Angular', 'loss_function': 'mean_squared_error', 'lr': 5, 'monitor_value': 'val_custom_mae', 'optimizer': <class 'tensorflow.python.keras.optimizer_v2.adam.Adam'>, 'reduction_metric': 'custom_mae', 'samples': 20000}\n",
      "Using Loss: mean_squared_error \n",
      "and Reduction Metric: [<function custom_mae at 0x0000026E06BB99D8>]\n",
      "Monitor: val_custom_mae\n",
      "Train on 16000 samples, validate on 3968 samples\n",
      "15616/16000 [============================>.] - ETA: 0s - loss: 7293.9925 - custom_mae: 52.8907\n",
      "Epoch 00001: val_custom_mae improved from inf to 33.62392, saving model to ..\\fast_output\\SYNTH_Regression_MSE\\201019_2253_final_Angular_Base_Custom-MAE\\Best_Weights_FC_116.hdf5\n",
      "16000/16000 [==============================] - 6s 354us/sample - loss: 7191.5017 - custom_mae: 52.4928 - val_loss: 2826.8019 - val_custom_mae: 33.6239\n",
      "Time taken: 0:00:07.155523\n"
     ]
    },
    {
     "name": "stderr",
     "output_type": "stream",
     "text": [
      "\r",
      " 32%|██████████████████████████                                                      | 117/360 [20:49<35:45,  8.83s/it]"
     ]
    },
    {
     "name": "stdout",
     "output_type": "stream",
     "text": [
      "{'activation': 'leakyrelu', 'batch_size': 64, 'dropout': 0.25, 'epochs': 1, 'first_neuron': 2048, 'hidden_layers': 4, 'label_type': 'Angular', 'loss_function': 'mean_squared_error', 'lr': 1, 'monitor_value': 'val_custom_mae', 'optimizer': <class 'tensorflow.python.keras.optimizer_v2.adam.Adam'>, 'reduction_metric': 'custom_mae', 'samples': 20000}\n",
      "Using Loss: mean_squared_error \n",
      "and Reduction Metric: [<function custom_mae at 0x0000026E06BB99D8>]\n",
      "Monitor: val_custom_mae\n",
      "Train on 16000 samples, validate on 3968 samples\n",
      "15872/16000 [============================>.] - ETA: 0s - loss: 4994.9114 - custom_mae: 48.6267\n",
      "Epoch 00001: val_custom_mae improved from inf to 31.67689, saving model to ..\\fast_output\\SYNTH_Regression_MSE\\201019_2253_final_Angular_Base_Custom-MAE\\Best_Weights_FC_117.hdf5\n",
      "16000/16000 [==============================] - 6s 359us/sample - loss: 4976.4111 - custom_mae: 48.5030 - val_loss: 2664.1363 - val_custom_mae: 31.6769\n",
      "Time taken: 0:00:07.251817\n"
     ]
    },
    {
     "name": "stderr",
     "output_type": "stream",
     "text": [
      "\r",
      " 33%|██████████████████████████▏                                                     | 118/360 [20:58<35:50,  8.89s/it]"
     ]
    },
    {
     "name": "stdout",
     "output_type": "stream",
     "text": [
      "{'activation': 'leakyrelu', 'batch_size': 64, 'dropout': 0.25, 'epochs': 1, 'first_neuron': 2048, 'hidden_layers': 4, 'label_type': 'Angular', 'loss_function': 'mean_squared_error', 'lr': 2, 'monitor_value': 'val_custom_mae', 'optimizer': <class 'tensorflow.python.keras.optimizer_v2.adam.Adam'>, 'reduction_metric': 'custom_mae', 'samples': 20000}\n",
      "Using Loss: mean_squared_error \n",
      "and Reduction Metric: [<function custom_mae at 0x0000026E06BB99D8>]\n",
      "Monitor: val_custom_mae\n",
      "Train on 16000 samples, validate on 3968 samples\n",
      "15616/16000 [============================>.] - ETA: 0s - loss: 6360.3604 - custom_mae: 51.0660\n",
      "Epoch 00001: val_custom_mae improved from inf to 31.83067, saving model to ..\\fast_output\\SYNTH_Regression_MSE\\201019_2253_final_Angular_Base_Custom-MAE\\Best_Weights_FC_118.hdf5\n",
      "16000/16000 [==============================] - 6s 361us/sample - loss: 6280.6454 - custom_mae: 50.7007 - val_loss: 2605.9740 - val_custom_mae: 31.8307\n",
      "Time taken: 0:00:07.277134\n"
     ]
    },
    {
     "name": "stderr",
     "output_type": "stream",
     "text": [
      "\r",
      " 33%|██████████████████████████▍                                                     | 119/360 [21:07<35:54,  8.94s/it]"
     ]
    },
    {
     "name": "stdout",
     "output_type": "stream",
     "text": [
      "{'activation': 'leakyrelu', 'batch_size': 64, 'dropout': 0.25, 'epochs': 1, 'first_neuron': 2048, 'hidden_layers': 4, 'label_type': 'Angular', 'loss_function': 'mean_squared_error', 'lr': 5, 'monitor_value': 'val_custom_mae', 'optimizer': <class 'tensorflow.python.keras.optimizer_v2.adam.Adam'>, 'reduction_metric': 'custom_mae', 'samples': 20000}\n",
      "Using Loss: mean_squared_error \n",
      "and Reduction Metric: [<function custom_mae at 0x0000026E06BB99D8>]\n",
      "Monitor: val_custom_mae\n",
      "Train on 16000 samples, validate on 3968 samples\n",
      "15744/16000 [============================>.] - ETA: 0s - loss: 8069.4728 - custom_mae: 61.6017\n",
      "Epoch 00001: val_custom_mae improved from inf to 43.14540, saving model to ..\\fast_output\\SYNTH_Regression_MSE\\201019_2253_final_Angular_Base_Custom-MAE\\Best_Weights_FC_119.hdf5\n",
      "16000/16000 [==============================] - 6s 362us/sample - loss: 8004.6699 - custom_mae: 61.3387 - val_loss: 3595.9643 - val_custom_mae: 43.1454\n",
      "Time taken: 0:00:07.281101\n"
     ]
    },
    {
     "name": "stderr",
     "output_type": "stream",
     "text": [
      "\r",
      " 33%|██████████████████████████▋                                                     | 120/360 [21:16<35:53,  8.97s/it]"
     ]
    },
    {
     "name": "stdout",
     "output_type": "stream",
     "text": [
      "{'activation': 'leakyrelu', 'batch_size': 64, 'dropout': 0.25, 'epochs': 1, 'first_neuron': 4096, 'hidden_layers': 0, 'label_type': 'Angular', 'loss_function': 'mean_squared_error', 'lr': 1, 'monitor_value': 'val_custom_mae', 'optimizer': <class 'tensorflow.python.keras.optimizer_v2.adam.Adam'>, 'reduction_metric': 'custom_mae', 'samples': 20000}\n",
      "Using Loss: mean_squared_error \n",
      "and Reduction Metric: [<function custom_mae at 0x0000026E06BB99D8>]\n",
      "Monitor: val_custom_mae\n",
      "Train on 16000 samples, validate on 3968 samples\n",
      "15936/16000 [============================>.] - ETA: 0s - loss: 3945.0928 - custom_mae: 40.0955\n",
      "Epoch 00001: val_custom_mae improved from inf to 30.97506, saving model to ..\\fast_output\\SYNTH_Regression_MSE\\201019_2253_final_Angular_Base_Custom-MAE\\Best_Weights_FC_120.hdf5\n",
      "16000/16000 [==============================] - 9s 571us/sample - loss: 3940.1397 - custom_mae: 40.0504 - val_loss: 2780.4834 - val_custom_mae: 30.9751\n",
      "Time taken: 0:00:10.636924\n"
     ]
    },
    {
     "name": "stderr",
     "output_type": "stream",
     "text": [
      "\r",
      " 34%|██████████████████████████▉                                                     | 121/360 [21:28<39:44,  9.98s/it]"
     ]
    },
    {
     "name": "stdout",
     "output_type": "stream",
     "text": [
      "{'activation': 'leakyrelu', 'batch_size': 64, 'dropout': 0.25, 'epochs': 1, 'first_neuron': 4096, 'hidden_layers': 0, 'label_type': 'Angular', 'loss_function': 'mean_squared_error', 'lr': 2, 'monitor_value': 'val_custom_mae', 'optimizer': <class 'tensorflow.python.keras.optimizer_v2.adam.Adam'>, 'reduction_metric': 'custom_mae', 'samples': 20000}\n",
      "Using Loss: mean_squared_error \n",
      "and Reduction Metric: [<function custom_mae at 0x0000026E06BB99D8>]\n",
      "Monitor: val_custom_mae\n",
      "Train on 16000 samples, validate on 3968 samples\n",
      "15936/16000 [============================>.] - ETA: 0s - loss: 3787.3815 - custom_mae: 38.9856\n",
      "Epoch 00001: val_custom_mae improved from inf to 30.26934, saving model to ..\\fast_output\\SYNTH_Regression_MSE\\201019_2253_final_Angular_Base_Custom-MAE\\Best_Weights_FC_121.hdf5\n",
      "16000/16000 [==============================] - 9s 569us/sample - loss: 3784.0661 - custom_mae: 38.9509 - val_loss: 2734.6434 - val_custom_mae: 30.2693\n",
      "Time taken: 0:00:10.605875\n"
     ]
    },
    {
     "name": "stderr",
     "output_type": "stream",
     "text": [
      "\r",
      " 34%|███████████████████████████                                                     | 122/360 [21:40<42:19, 10.67s/it]"
     ]
    },
    {
     "name": "stdout",
     "output_type": "stream",
     "text": [
      "{'activation': 'leakyrelu', 'batch_size': 64, 'dropout': 0.25, 'epochs': 1, 'first_neuron': 4096, 'hidden_layers': 0, 'label_type': 'Angular', 'loss_function': 'mean_squared_error', 'lr': 5, 'monitor_value': 'val_custom_mae', 'optimizer': <class 'tensorflow.python.keras.optimizer_v2.adam.Adam'>, 'reduction_metric': 'custom_mae', 'samples': 20000}\n",
      "Using Loss: mean_squared_error \n",
      "and Reduction Metric: [<function custom_mae at 0x0000026E06BB99D8>]\n",
      "Monitor: val_custom_mae\n",
      "Train on 16000 samples, validate on 3968 samples\n",
      "15936/16000 [============================>.] - ETA: 0s - loss: 4944.6852 - custom_mae: 43.2076\n",
      "Epoch 00001: val_custom_mae improved from inf to 30.97255, saving model to ..\\fast_output\\SYNTH_Regression_MSE\\201019_2253_final_Angular_Base_Custom-MAE\\Best_Weights_FC_122.hdf5\n",
      "16000/16000 [==============================] - 9s 569us/sample - loss: 4936.6097 - custom_mae: 43.1576 - val_loss: 2831.9042 - val_custom_mae: 30.9725\n",
      "Time taken: 0:00:10.596651\n"
     ]
    },
    {
     "name": "stderr",
     "output_type": "stream",
     "text": [
      "\r",
      " 34%|███████████████████████████▎                                                    | 123/360 [21:53<44:05, 11.16s/it]"
     ]
    },
    {
     "name": "stdout",
     "output_type": "stream",
     "text": [
      "{'activation': 'leakyrelu', 'batch_size': 64, 'dropout': 0.25, 'epochs': 1, 'first_neuron': 4096, 'hidden_layers': 1, 'label_type': 'Angular', 'loss_function': 'mean_squared_error', 'lr': 1, 'monitor_value': 'val_custom_mae', 'optimizer': <class 'tensorflow.python.keras.optimizer_v2.adam.Adam'>, 'reduction_metric': 'custom_mae', 'samples': 20000}\n",
      "Using Loss: mean_squared_error \n",
      "and Reduction Metric: [<function custom_mae at 0x0000026E06BB99D8>]\n",
      "Monitor: val_custom_mae\n",
      "Train on 16000 samples, validate on 3968 samples\n",
      "15936/16000 [============================>.] - ETA: 0s - loss: 4375.9172 - custom_mae: 41.9269\n",
      "Epoch 00001: val_custom_mae improved from inf to 28.50920, saving model to ..\\fast_output\\SYNTH_Regression_MSE\\201019_2253_final_Angular_Base_Custom-MAE\\Best_Weights_FC_123.hdf5\n",
      "16000/16000 [==============================] - 10s 605us/sample - loss: 4370.1153 - custom_mae: 41.8852 - val_loss: 2500.7989 - val_custom_mae: 28.5092\n",
      "Time taken: 0:00:11.170931\n"
     ]
    },
    {
     "name": "stderr",
     "output_type": "stream",
     "text": [
      "\r",
      " 34%|███████████████████████████▌                                                    | 124/360 [22:06<45:57, 11.69s/it]"
     ]
    },
    {
     "name": "stdout",
     "output_type": "stream",
     "text": [
      "{'activation': 'leakyrelu', 'batch_size': 64, 'dropout': 0.25, 'epochs': 1, 'first_neuron': 4096, 'hidden_layers': 1, 'label_type': 'Angular', 'loss_function': 'mean_squared_error', 'lr': 2, 'monitor_value': 'val_custom_mae', 'optimizer': <class 'tensorflow.python.keras.optimizer_v2.adam.Adam'>, 'reduction_metric': 'custom_mae', 'samples': 20000}\n",
      "Using Loss: mean_squared_error \n",
      "and Reduction Metric: [<function custom_mae at 0x0000026E06BB99D8>]\n",
      "Monitor: val_custom_mae\n",
      "Train on 16000 samples, validate on 3968 samples\n",
      "15872/16000 [============================>.] - ETA: 0s - loss: 6480.3316 - custom_mae: 49.3422\n",
      "Epoch 00001: val_custom_mae improved from inf to 37.32460, saving model to ..\\fast_output\\SYNTH_Regression_MSE\\201019_2253_final_Angular_Base_Custom-MAE\\Best_Weights_FC_124.hdf5\n",
      "16000/16000 [==============================] - 10s 609us/sample - loss: 6451.9554 - custom_mae: 49.2167 - val_loss: 3048.1355 - val_custom_mae: 37.3246\n",
      "Time taken: 0:00:11.237380\n"
     ]
    },
    {
     "name": "stderr",
     "output_type": "stream",
     "text": [
      "\r",
      " 35%|███████████████████████████▊                                                    | 125/360 [22:19<47:15, 12.06s/it]"
     ]
    },
    {
     "name": "stdout",
     "output_type": "stream",
     "text": [
      "{'activation': 'leakyrelu', 'batch_size': 64, 'dropout': 0.25, 'epochs': 1, 'first_neuron': 4096, 'hidden_layers': 1, 'label_type': 'Angular', 'loss_function': 'mean_squared_error', 'lr': 5, 'monitor_value': 'val_custom_mae', 'optimizer': <class 'tensorflow.python.keras.optimizer_v2.adam.Adam'>, 'reduction_metric': 'custom_mae', 'samples': 20000}\n",
      "Using Loss: mean_squared_error \n",
      "and Reduction Metric: [<function custom_mae at 0x0000026E06BB99D8>]\n",
      "Monitor: val_custom_mae\n",
      "Train on 16000 samples, validate on 3968 samples\n",
      "15936/16000 [============================>.] - ETA: 0s - loss: 67134.8139 - custom_mae: 86.8352\n",
      "Epoch 00001: val_custom_mae improved from inf to 50.74297, saving model to ..\\fast_output\\SYNTH_Regression_MSE\\201019_2253_final_Angular_Base_Custom-MAE\\Best_Weights_FC_125.hdf5\n",
      "16000/16000 [==============================] - 10s 606us/sample - loss: 66882.2818 - custom_mae: 86.6668 - val_loss: 4143.7867 - val_custom_mae: 50.7430\n",
      "Time taken: 0:00:11.206135\n"
     ]
    },
    {
     "name": "stderr",
     "output_type": "stream",
     "text": [
      "\r",
      " 35%|████████████████████████████                                                    | 126/360 [22:31<48:03, 12.32s/it]"
     ]
    },
    {
     "name": "stdout",
     "output_type": "stream",
     "text": [
      "{'activation': 'leakyrelu', 'batch_size': 64, 'dropout': 0.25, 'epochs': 1, 'first_neuron': 4096, 'hidden_layers': 2, 'label_type': 'Angular', 'loss_function': 'mean_squared_error', 'lr': 1, 'monitor_value': 'val_custom_mae', 'optimizer': <class 'tensorflow.python.keras.optimizer_v2.adam.Adam'>, 'reduction_metric': 'custom_mae', 'samples': 20000}\n",
      "Using Loss: mean_squared_error \n",
      "and Reduction Metric: [<function custom_mae at 0x0000026E06BB99D8>]\n",
      "Monitor: val_custom_mae\n",
      "Train on 16000 samples, validate on 3968 samples\n",
      "15808/16000 [============================>.] - ETA: 0s - loss: 4925.0298 - custom_mae: 44.2085\n",
      "Epoch 00001: val_custom_mae improved from inf to 29.10283, saving model to ..\\fast_output\\SYNTH_Regression_MSE\\201019_2253_final_Angular_Base_Custom-MAE\\Best_Weights_FC_126.hdf5\n",
      "16000/16000 [==============================] - 10s 618us/sample - loss: 4892.9840 - custom_mae: 44.0196 - val_loss: 2545.0061 - val_custom_mae: 29.1028\n",
      "Time taken: 0:00:11.390039\n"
     ]
    },
    {
     "name": "stderr",
     "output_type": "stream",
     "text": [
      "\r",
      " 35%|████████████████████████████▏                                                   | 127/360 [22:45<48:47, 12.57s/it]"
     ]
    },
    {
     "name": "stdout",
     "output_type": "stream",
     "text": [
      "{'activation': 'leakyrelu', 'batch_size': 64, 'dropout': 0.25, 'epochs': 1, 'first_neuron': 4096, 'hidden_layers': 2, 'label_type': 'Angular', 'loss_function': 'mean_squared_error', 'lr': 2, 'monitor_value': 'val_custom_mae', 'optimizer': <class 'tensorflow.python.keras.optimizer_v2.adam.Adam'>, 'reduction_metric': 'custom_mae', 'samples': 20000}\n",
      "Using Loss: mean_squared_error \n",
      "and Reduction Metric: [<function custom_mae at 0x0000026E06BB99D8>]\n",
      "Monitor: val_custom_mae\n",
      "Train on 16000 samples, validate on 3968 samples\n",
      "15936/16000 [============================>.] - ETA: 0s - loss: 7263.6916 - custom_mae: 49.4369\n",
      "Epoch 00001: val_custom_mae improved from inf to 34.13314, saving model to ..\\fast_output\\SYNTH_Regression_MSE\\201019_2253_final_Angular_Base_Custom-MAE\\Best_Weights_FC_127.hdf5\n",
      "16000/16000 [==============================] - 10s 621us/sample - loss: 7245.7778 - custom_mae: 49.3688 - val_loss: 2713.6347 - val_custom_mae: 34.1331\n",
      "Time taken: 0:00:11.438083\n"
     ]
    },
    {
     "name": "stderr",
     "output_type": "stream",
     "text": [
      "\r",
      " 36%|████████████████████████████▍                                                   | 128/360 [22:58<49:18, 12.75s/it]"
     ]
    },
    {
     "name": "stdout",
     "output_type": "stream",
     "text": [
      "{'activation': 'leakyrelu', 'batch_size': 64, 'dropout': 0.25, 'epochs': 1, 'first_neuron': 4096, 'hidden_layers': 2, 'label_type': 'Angular', 'loss_function': 'mean_squared_error', 'lr': 5, 'monitor_value': 'val_custom_mae', 'optimizer': <class 'tensorflow.python.keras.optimizer_v2.adam.Adam'>, 'reduction_metric': 'custom_mae', 'samples': 20000}\n",
      "Using Loss: mean_squared_error \n",
      "and Reduction Metric: [<function custom_mae at 0x0000026E06BB99D8>]\n",
      "Monitor: val_custom_mae\n",
      "Train on 16000 samples, validate on 3968 samples\n",
      "15808/16000 [============================>.] - ETA: 0s - loss: 1273315.7012 - custom_mae: 193.6620\n",
      "Epoch 00001: val_custom_mae improved from inf to 56.87629, saving model to ..\\fast_output\\SYNTH_Regression_MSE\\201019_2253_final_Angular_Base_Custom-MAE\\Best_Weights_FC_128.hdf5\n",
      "16000/16000 [==============================] - 10s 622us/sample - loss: 1258113.7953 - custom_mae: 192.0987 - val_loss: 5372.0743 - val_custom_mae: 56.8763\n",
      "Time taken: 0:00:11.457647\n"
     ]
    },
    {
     "name": "stderr",
     "output_type": "stream",
     "text": [
      "\r",
      " 36%|████████████████████████████▋                                                   | 129/360 [23:11<49:35, 12.88s/it]"
     ]
    },
    {
     "name": "stdout",
     "output_type": "stream",
     "text": [
      "{'activation': 'leakyrelu', 'batch_size': 64, 'dropout': 0.25, 'epochs': 1, 'first_neuron': 4096, 'hidden_layers': 3, 'label_type': 'Angular', 'loss_function': 'mean_squared_error', 'lr': 1, 'monitor_value': 'val_custom_mae', 'optimizer': <class 'tensorflow.python.keras.optimizer_v2.adam.Adam'>, 'reduction_metric': 'custom_mae', 'samples': 20000}\n",
      "Using Loss: mean_squared_error \n",
      "and Reduction Metric: [<function custom_mae at 0x0000026E06BB99D8>]\n",
      "Monitor: val_custom_mae\n",
      "Train on 16000 samples, validate on 3968 samples\n",
      "15744/16000 [============================>.] - ETA: 0s - loss: 4785.5277 - custom_mae: 44.9026 ETA: 0s - loss: 5146.7255\n",
      "Epoch 00001: val_custom_mae improved from inf to 32.28173, saving model to ..\\fast_output\\SYNTH_Regression_MSE\\201019_2253_final_Angular_Base_Custom-MAE\\Best_Weights_FC_129.hdf5\n",
      "16000/16000 [==============================] - 10s 628us/sample - loss: 4749.8085 - custom_mae: 44.6922 - val_loss: 2772.6756 - val_custom_mae: 32.2817\n",
      "Time taken: 0:00:11.535460\n"
     ]
    },
    {
     "name": "stderr",
     "output_type": "stream",
     "text": [
      "\r",
      " 36%|████████████████████████████▉                                                   | 130/360 [23:24<49:50, 13.00s/it]"
     ]
    },
    {
     "name": "stdout",
     "output_type": "stream",
     "text": [
      "{'activation': 'leakyrelu', 'batch_size': 64, 'dropout': 0.25, 'epochs': 1, 'first_neuron': 4096, 'hidden_layers': 3, 'label_type': 'Angular', 'loss_function': 'mean_squared_error', 'lr': 2, 'monitor_value': 'val_custom_mae', 'optimizer': <class 'tensorflow.python.keras.optimizer_v2.adam.Adam'>, 'reduction_metric': 'custom_mae', 'samples': 20000}\n",
      "Using Loss: mean_squared_error \n",
      "and Reduction Metric: [<function custom_mae at 0x0000026E06BB99D8>]\n",
      "Monitor: val_custom_mae\n",
      "Train on 16000 samples, validate on 3968 samples\n",
      "15872/16000 [============================>.] - ETA: 0s - loss: 6754.4615 - custom_mae: 50.6531\n",
      "Epoch 00001: val_custom_mae improved from inf to 31.04836, saving model to ..\\fast_output\\SYNTH_Regression_MSE\\201019_2253_final_Angular_Base_Custom-MAE\\Best_Weights_FC_130.hdf5\n",
      "16000/16000 [==============================] - 10s 625us/sample - loss: 6722.8545 - custom_mae: 50.5092 - val_loss: 2598.7816 - val_custom_mae: 31.0484\n",
      "Time taken: 0:00:11.505120\n"
     ]
    },
    {
     "name": "stderr",
     "output_type": "stream",
     "text": [
      "\r",
      " 36%|█████████████████████████████                                                   | 131/360 [23:38<49:54, 13.08s/it]"
     ]
    },
    {
     "name": "stdout",
     "output_type": "stream",
     "text": [
      "{'activation': 'leakyrelu', 'batch_size': 64, 'dropout': 0.25, 'epochs': 1, 'first_neuron': 4096, 'hidden_layers': 3, 'label_type': 'Angular', 'loss_function': 'mean_squared_error', 'lr': 5, 'monitor_value': 'val_custom_mae', 'optimizer': <class 'tensorflow.python.keras.optimizer_v2.adam.Adam'>, 'reduction_metric': 'custom_mae', 'samples': 20000}\n",
      "Using Loss: mean_squared_error \n",
      "and Reduction Metric: [<function custom_mae at 0x0000026E06BB99D8>]\n",
      "Monitor: val_custom_mae\n",
      "Train on 16000 samples, validate on 3968 samples\n",
      "15808/16000 [============================>.] - ETA: 0s - loss: 747377.1993 - custom_mae: 186.8095\n",
      "Epoch 00001: val_custom_mae improved from inf to 59.01408, saving model to ..\\fast_output\\SYNTH_Regression_MSE\\201019_2253_final_Angular_Base_Custom-MAE\\Best_Weights_FC_131.hdf5\n",
      "16000/16000 [==============================] - 10s 625us/sample - loss: 738498.7487 - custom_mae: 185.3846 - val_loss: 6061.4330 - val_custom_mae: 59.0141\n",
      "Time taken: 0:00:11.499311\n"
     ]
    },
    {
     "name": "stderr",
     "output_type": "stream",
     "text": [
      "\r",
      " 37%|█████████████████████████████▎                                                  | 132/360 [23:51<49:53, 13.13s/it]"
     ]
    },
    {
     "name": "stdout",
     "output_type": "stream",
     "text": [
      "{'activation': 'leakyrelu', 'batch_size': 64, 'dropout': 0.25, 'epochs': 1, 'first_neuron': 4096, 'hidden_layers': 4, 'label_type': 'Angular', 'loss_function': 'mean_squared_error', 'lr': 1, 'monitor_value': 'val_custom_mae', 'optimizer': <class 'tensorflow.python.keras.optimizer_v2.adam.Adam'>, 'reduction_metric': 'custom_mae', 'samples': 20000}\n",
      "Using Loss: mean_squared_error \n",
      "and Reduction Metric: [<function custom_mae at 0x0000026E06BB99D8>]\n",
      "Monitor: val_custom_mae\n",
      "Train on 16000 samples, validate on 3968 samples\n",
      "15744/16000 [============================>.] - ETA: 0s - loss: 5002.3737 - custom_mae: 48.3635\n",
      "Epoch 00001: val_custom_mae improved from inf to 32.80221, saving model to ..\\fast_output\\SYNTH_Regression_MSE\\201019_2253_final_Angular_Base_Custom-MAE\\Best_Weights_FC_132.hdf5\n",
      "16000/16000 [==============================] - 10s 633us/sample - loss: 4970.0640 - custom_mae: 48.1585 - val_loss: 2867.3008 - val_custom_mae: 32.8022\n",
      "Time taken: 0:00:11.622748\n"
     ]
    },
    {
     "name": "stderr",
     "output_type": "stream",
     "text": [
      "\r",
      " 37%|█████████████████████████████▌                                                  | 133/360 [24:04<50:00, 13.22s/it]"
     ]
    },
    {
     "name": "stdout",
     "output_type": "stream",
     "text": [
      "{'activation': 'leakyrelu', 'batch_size': 64, 'dropout': 0.25, 'epochs': 1, 'first_neuron': 4096, 'hidden_layers': 4, 'label_type': 'Angular', 'loss_function': 'mean_squared_error', 'lr': 2, 'monitor_value': 'val_custom_mae', 'optimizer': <class 'tensorflow.python.keras.optimizer_v2.adam.Adam'>, 'reduction_metric': 'custom_mae', 'samples': 20000}\n",
      "Using Loss: mean_squared_error \n",
      "and Reduction Metric: [<function custom_mae at 0x0000026E06BB99D8>]\n",
      "Monitor: val_custom_mae\n",
      "Train on 16000 samples, validate on 3968 samples\n",
      "15872/16000 [============================>.] - ETA: 0s - loss: 7622.5143 - custom_mae: 52.6195\n",
      "Epoch 00001: val_custom_mae improved from inf to 32.96932, saving model to ..\\fast_output\\SYNTH_Regression_MSE\\201019_2253_final_Angular_Base_Custom-MAE\\Best_Weights_FC_133.hdf5\n",
      "16000/16000 [==============================] - 10s 630us/sample - loss: 7585.9098 - custom_mae: 52.4832 - val_loss: 2764.2900 - val_custom_mae: 32.9693\n",
      "Time taken: 0:00:11.574464\n"
     ]
    },
    {
     "name": "stderr",
     "output_type": "stream",
     "text": [
      "\r",
      " 37%|█████████████████████████████▊                                                  | 134/360 [24:18<49:56, 13.26s/it]"
     ]
    },
    {
     "name": "stdout",
     "output_type": "stream",
     "text": [
      "{'activation': 'leakyrelu', 'batch_size': 64, 'dropout': 0.25, 'epochs': 1, 'first_neuron': 4096, 'hidden_layers': 4, 'label_type': 'Angular', 'loss_function': 'mean_squared_error', 'lr': 5, 'monitor_value': 'val_custom_mae', 'optimizer': <class 'tensorflow.python.keras.optimizer_v2.adam.Adam'>, 'reduction_metric': 'custom_mae', 'samples': 20000}\n",
      "Using Loss: mean_squared_error \n",
      "and Reduction Metric: [<function custom_mae at 0x0000026E06BB99D8>]\n",
      "Monitor: val_custom_mae\n",
      "Train on 16000 samples, validate on 3968 samples\n",
      "15744/16000 [============================>.] - ETA: 0s - loss: 315834.7718 - custom_mae: 129.0296\n",
      "Epoch 00001: val_custom_mae improved from inf to 55.37016, saving model to ..\\fast_output\\SYNTH_Regression_MSE\\201019_2253_final_Angular_Base_Custom-MAE\\Best_Weights_FC_134.hdf5\n",
      "16000/16000 [==============================] - 10s 631us/sample - loss: 310870.2039 - custom_mae: 127.8408 - val_loss: 5768.9157 - val_custom_mae: 55.3702\n",
      "Time taken: 0:00:11.580404\n"
     ]
    },
    {
     "name": "stderr",
     "output_type": "stream",
     "text": [
      "\r",
      " 38%|██████████████████████████████                                                  | 135/360 [24:31<49:51, 13.30s/it]"
     ]
    },
    {
     "name": "stdout",
     "output_type": "stream",
     "text": [
      "{'activation': 'leakyrelu', 'batch_size': 64, 'dropout': 0.5, 'epochs': 1, 'first_neuron': 1024, 'hidden_layers': 0, 'label_type': 'Angular', 'loss_function': 'mean_squared_error', 'lr': 1, 'monitor_value': 'val_custom_mae', 'optimizer': <class 'tensorflow.python.keras.optimizer_v2.adam.Adam'>, 'reduction_metric': 'custom_mae', 'samples': 20000}\n",
      "Using Loss: mean_squared_error \n",
      "and Reduction Metric: [<function custom_mae at 0x0000026E06BB99D8>]\n",
      "Monitor: val_custom_mae\n",
      "Train on 16000 samples, validate on 3968 samples\n",
      "15488/16000 [============================>.] - ETA: 0s - loss: 4538.6060 - custom_mae: 44.5995\n",
      "Epoch 00001: val_custom_mae improved from inf to 35.91911, saving model to ..\\fast_output\\SYNTH_Regression_MSE\\201019_2253_final_Angular_Base_Custom-MAE\\Best_Weights_FC_135.hdf5\n",
      "16000/16000 [==============================] - 3s 210us/sample - loss: 4493.3242 - custom_mae: 44.3193 - val_loss: 3359.6987 - val_custom_mae: 35.9191\n",
      "Time taken: 0:00:04.858630\n"
     ]
    },
    {
     "name": "stderr",
     "output_type": "stream",
     "text": [
      "\r",
      " 38%|██████████████████████████████▏                                                 | 136/360 [24:37<42:04, 11.27s/it]"
     ]
    },
    {
     "name": "stdout",
     "output_type": "stream",
     "text": [
      "{'activation': 'leakyrelu', 'batch_size': 64, 'dropout': 0.5, 'epochs': 1, 'first_neuron': 1024, 'hidden_layers': 0, 'label_type': 'Angular', 'loss_function': 'mean_squared_error', 'lr': 2, 'monitor_value': 'val_custom_mae', 'optimizer': <class 'tensorflow.python.keras.optimizer_v2.adam.Adam'>, 'reduction_metric': 'custom_mae', 'samples': 20000}\n",
      "Using Loss: mean_squared_error \n",
      "and Reduction Metric: [<function custom_mae at 0x0000026E06BB99D8>]\n",
      "Monitor: val_custom_mae\n",
      "Train on 16000 samples, validate on 3968 samples\n",
      "15488/16000 [============================>.] - ETA: 0s - loss: 4195.0081 - custom_mae: 42.4257\n",
      "Epoch 00001: val_custom_mae improved from inf to 32.87469, saving model to ..\\fast_output\\SYNTH_Regression_MSE\\201019_2253_final_Angular_Base_Custom-MAE\\Best_Weights_FC_136.hdf5\n",
      "16000/16000 [==============================] - 3s 207us/sample - loss: 4151.4231 - custom_mae: 42.1360 - val_loss: 2997.0970 - val_custom_mae: 32.8747\n",
      "Time taken: 0:00:04.802297\n"
     ]
    },
    {
     "name": "stderr",
     "output_type": "stream",
     "text": [
      "\r",
      " 38%|██████████████████████████████▍                                                 | 137/360 [24:44<36:32,  9.83s/it]"
     ]
    },
    {
     "name": "stdout",
     "output_type": "stream",
     "text": [
      "{'activation': 'leakyrelu', 'batch_size': 64, 'dropout': 0.5, 'epochs': 1, 'first_neuron': 1024, 'hidden_layers': 0, 'label_type': 'Angular', 'loss_function': 'mean_squared_error', 'lr': 5, 'monitor_value': 'val_custom_mae', 'optimizer': <class 'tensorflow.python.keras.optimizer_v2.adam.Adam'>, 'reduction_metric': 'custom_mae', 'samples': 20000}\n",
      "Using Loss: mean_squared_error \n",
      "and Reduction Metric: [<function custom_mae at 0x0000026E06BB99D8>]\n",
      "Monitor: val_custom_mae\n",
      "Train on 16000 samples, validate on 3968 samples\n",
      "15808/16000 [============================>.] - ETA: 0s - loss: 4263.3737 - custom_mae: 42.5841\n",
      "Epoch 00001: val_custom_mae improved from inf to 32.67492, saving model to ..\\fast_output\\SYNTH_Regression_MSE\\201019_2253_final_Angular_Base_Custom-MAE\\Best_Weights_FC_137.hdf5\n",
      "16000/16000 [==============================] - 3s 208us/sample - loss: 4244.5716 - custom_mae: 42.4599 - val_loss: 2944.9152 - val_custom_mae: 32.6749\n",
      "Time taken: 0:00:04.813179\n"
     ]
    },
    {
     "name": "stderr",
     "output_type": "stream",
     "text": [
      "\r",
      " 38%|██████████████████████████████▋                                                 | 138/360 [24:50<32:40,  8.83s/it]"
     ]
    },
    {
     "name": "stdout",
     "output_type": "stream",
     "text": [
      "{'activation': 'leakyrelu', 'batch_size': 64, 'dropout': 0.5, 'epochs': 1, 'first_neuron': 1024, 'hidden_layers': 1, 'label_type': 'Angular', 'loss_function': 'mean_squared_error', 'lr': 1, 'monitor_value': 'val_custom_mae', 'optimizer': <class 'tensorflow.python.keras.optimizer_v2.adam.Adam'>, 'reduction_metric': 'custom_mae', 'samples': 20000}\n",
      "Using Loss: mean_squared_error \n",
      "and Reduction Metric: [<function custom_mae at 0x0000026E06BB99D8>]\n",
      "Monitor: val_custom_mae\n",
      "Train on 16000 samples, validate on 3968 samples\n",
      "15936/16000 [============================>.] - ETA: 0s - loss: 4728.5659 - custom_mae: 46.6032\n",
      "Epoch 00001: val_custom_mae improved from inf to 34.33595, saving model to ..\\fast_output\\SYNTH_Regression_MSE\\201019_2253_final_Angular_Base_Custom-MAE\\Best_Weights_FC_138.hdf5\n",
      "16000/16000 [==============================] - 3s 219us/sample - loss: 4723.4855 - custom_mae: 46.5656 - val_loss: 3142.8996 - val_custom_mae: 34.3359\n",
      "Time taken: 0:00:04.989518\n"
     ]
    },
    {
     "name": "stderr",
     "output_type": "stream",
     "text": [
      "\r",
      " 39%|██████████████████████████████▉                                                 | 139/360 [24:57<30:08,  8.18s/it]"
     ]
    },
    {
     "name": "stdout",
     "output_type": "stream",
     "text": [
      "{'activation': 'leakyrelu', 'batch_size': 64, 'dropout': 0.5, 'epochs': 1, 'first_neuron': 1024, 'hidden_layers': 1, 'label_type': 'Angular', 'loss_function': 'mean_squared_error', 'lr': 2, 'monitor_value': 'val_custom_mae', 'optimizer': <class 'tensorflow.python.keras.optimizer_v2.adam.Adam'>, 'reduction_metric': 'custom_mae', 'samples': 20000}\n",
      "Using Loss: mean_squared_error \n",
      "and Reduction Metric: [<function custom_mae at 0x0000026E06BB99D8>]\n",
      "Monitor: val_custom_mae\n",
      "Train on 16000 samples, validate on 3968 samples\n",
      "15872/16000 [============================>.] - ETA: 0s - loss: 4589.3446 - custom_mae: 45.6579\n",
      "Epoch 00001: val_custom_mae improved from inf to 33.77993, saving model to ..\\fast_output\\SYNTH_Regression_MSE\\201019_2253_final_Angular_Base_Custom-MAE\\Best_Weights_FC_139.hdf5\n",
      "16000/16000 [==============================] - 3s 216us/sample - loss: 4577.0656 - custom_mae: 45.5694 - val_loss: 3043.7763 - val_custom_mae: 33.7799\n",
      "Time taken: 0:00:04.956771\n"
     ]
    },
    {
     "name": "stderr",
     "output_type": "stream",
     "text": [
      "\r",
      " 39%|███████████████████████████████                                                 | 140/360 [25:04<28:19,  7.73s/it]"
     ]
    },
    {
     "name": "stdout",
     "output_type": "stream",
     "text": [
      "{'activation': 'leakyrelu', 'batch_size': 64, 'dropout': 0.5, 'epochs': 1, 'first_neuron': 1024, 'hidden_layers': 1, 'label_type': 'Angular', 'loss_function': 'mean_squared_error', 'lr': 5, 'monitor_value': 'val_custom_mae', 'optimizer': <class 'tensorflow.python.keras.optimizer_v2.adam.Adam'>, 'reduction_metric': 'custom_mae', 'samples': 20000}\n",
      "Using Loss: mean_squared_error \n",
      "and Reduction Metric: [<function custom_mae at 0x0000026E06BB99D8>]\n",
      "Monitor: val_custom_mae\n",
      "Train on 16000 samples, validate on 3968 samples\n",
      "15936/16000 [============================>.] - ETA: 0s - loss: 5866.1394 - custom_mae: 49.5990\n",
      "Epoch 00001: val_custom_mae improved from inf to 36.11012, saving model to ..\\fast_output\\SYNTH_Regression_MSE\\201019_2253_final_Angular_Base_Custom-MAE\\Best_Weights_FC_140.hdf5\n",
      "16000/16000 [==============================] - 3s 216us/sample - loss: 5856.7057 - custom_mae: 49.5519 - val_loss: 3221.8033 - val_custom_mae: 36.1101\n",
      "Time taken: 0:00:04.944451\n"
     ]
    },
    {
     "name": "stderr",
     "output_type": "stream",
     "text": [
      "\r",
      " 39%|███████████████████████████████▎                                                | 141/360 [25:10<27:00,  7.40s/it]"
     ]
    },
    {
     "name": "stdout",
     "output_type": "stream",
     "text": [
      "{'activation': 'leakyrelu', 'batch_size': 64, 'dropout': 0.5, 'epochs': 1, 'first_neuron': 1024, 'hidden_layers': 2, 'label_type': 'Angular', 'loss_function': 'mean_squared_error', 'lr': 1, 'monitor_value': 'val_custom_mae', 'optimizer': <class 'tensorflow.python.keras.optimizer_v2.adam.Adam'>, 'reduction_metric': 'custom_mae', 'samples': 20000}\n",
      "Using Loss: mean_squared_error \n",
      "and Reduction Metric: [<function custom_mae at 0x0000026E06BB99D8>]\n",
      "Monitor: val_custom_mae\n",
      "Train on 16000 samples, validate on 3968 samples\n",
      "15872/16000 [============================>.] - ETA: 0s - loss: 5203.0530 - custom_mae: 50.4163\n",
      "Epoch 00001: val_custom_mae improved from inf to 35.53252, saving model to ..\\fast_output\\SYNTH_Regression_MSE\\201019_2253_final_Angular_Base_Custom-MAE\\Best_Weights_FC_141.hdf5\n",
      "16000/16000 [==============================] - 4s 224us/sample - loss: 5189.0095 - custom_mae: 50.3323 - val_loss: 3233.9224 - val_custom_mae: 35.5325\n",
      "Time taken: 0:00:05.073529\n"
     ]
    },
    {
     "name": "stderr",
     "output_type": "stream",
     "text": [
      "\r",
      " 39%|███████████████████████████████▌                                                | 142/360 [25:17<26:11,  7.21s/it]"
     ]
    },
    {
     "name": "stdout",
     "output_type": "stream",
     "text": [
      "{'activation': 'leakyrelu', 'batch_size': 64, 'dropout': 0.5, 'epochs': 1, 'first_neuron': 1024, 'hidden_layers': 2, 'label_type': 'Angular', 'loss_function': 'mean_squared_error', 'lr': 2, 'monitor_value': 'val_custom_mae', 'optimizer': <class 'tensorflow.python.keras.optimizer_v2.adam.Adam'>, 'reduction_metric': 'custom_mae', 'samples': 20000}\n",
      "Using Loss: mean_squared_error \n",
      "and Reduction Metric: [<function custom_mae at 0x0000026E06BB99D8>]\n",
      "Monitor: val_custom_mae\n",
      "Train on 16000 samples, validate on 3968 samples\n",
      "15680/16000 [============================>.] - ETA: 0s - loss: 5122.1715 - custom_mae: 49.4527\n",
      "Epoch 00001: val_custom_mae improved from inf to 35.63396, saving model to ..\\fast_output\\SYNTH_Regression_MSE\\201019_2253_final_Angular_Base_Custom-MAE\\Best_Weights_FC_142.hdf5\n",
      "16000/16000 [==============================] - 4s 225us/sample - loss: 5083.2184 - custom_mae: 49.2112 - val_loss: 3268.8944 - val_custom_mae: 35.6340\n",
      "Time taken: 0:00:05.107352\n"
     ]
    },
    {
     "name": "stderr",
     "output_type": "stream",
     "text": [
      "\r",
      " 40%|███████████████████████████████▊                                                | 143/360 [25:24<25:38,  7.09s/it]"
     ]
    },
    {
     "name": "stdout",
     "output_type": "stream",
     "text": [
      "{'activation': 'leakyrelu', 'batch_size': 64, 'dropout': 0.5, 'epochs': 1, 'first_neuron': 1024, 'hidden_layers': 2, 'label_type': 'Angular', 'loss_function': 'mean_squared_error', 'lr': 5, 'monitor_value': 'val_custom_mae', 'optimizer': <class 'tensorflow.python.keras.optimizer_v2.adam.Adam'>, 'reduction_metric': 'custom_mae', 'samples': 20000}\n",
      "Using Loss: mean_squared_error \n",
      "and Reduction Metric: [<function custom_mae at 0x0000026E06BB99D8>]\n",
      "Monitor: val_custom_mae\n",
      "Train on 16000 samples, validate on 3968 samples\n",
      "15936/16000 [============================>.] - ETA: 0s - loss: 5642.6232 - custom_mae: 52.3729\n",
      "Epoch 00001: val_custom_mae improved from inf to 38.51519, saving model to ..\\fast_output\\SYNTH_Regression_MSE\\201019_2253_final_Angular_Base_Custom-MAE\\Best_Weights_FC_143.hdf5\n",
      "16000/16000 [==============================] - 4s 225us/sample - loss: 5637.5730 - custom_mae: 52.3402 - val_loss: 3420.6264 - val_custom_mae: 38.5152\n",
      "Time taken: 0:00:05.100751\n"
     ]
    },
    {
     "name": "stderr",
     "output_type": "stream",
     "text": [
      "\r",
      " 40%|████████████████████████████████                                                | 144/360 [25:31<25:13,  7.01s/it]"
     ]
    },
    {
     "name": "stdout",
     "output_type": "stream",
     "text": [
      "{'activation': 'leakyrelu', 'batch_size': 64, 'dropout': 0.5, 'epochs': 1, 'first_neuron': 1024, 'hidden_layers': 3, 'label_type': 'Angular', 'loss_function': 'mean_squared_error', 'lr': 1, 'monitor_value': 'val_custom_mae', 'optimizer': <class 'tensorflow.python.keras.optimizer_v2.adam.Adam'>, 'reduction_metric': 'custom_mae', 'samples': 20000}\n",
      "Using Loss: mean_squared_error \n",
      "and Reduction Metric: [<function custom_mae at 0x0000026E06BB99D8>]\n",
      "Monitor: val_custom_mae\n",
      "Train on 16000 samples, validate on 3968 samples\n",
      "15744/16000 [============================>.] - ETA: 0s - loss: 6098.3653 - custom_mae: 56.4964\n",
      "Epoch 00001: val_custom_mae improved from inf to 43.45792, saving model to ..\\fast_output\\SYNTH_Regression_MSE\\201019_2253_final_Angular_Base_Custom-MAE\\Best_Weights_FC_144.hdf5\n",
      "16000/16000 [==============================] - 4s 227us/sample - loss: 6067.4073 - custom_mae: 56.3094 - val_loss: 3887.0116 - val_custom_mae: 43.4579\n",
      "Time taken: 0:00:05.129532\n"
     ]
    },
    {
     "name": "stderr",
     "output_type": "stream",
     "text": [
      "\r",
      " 40%|████████████████████████████████▏                                               | 145/360 [25:38<24:59,  6.98s/it]"
     ]
    },
    {
     "name": "stdout",
     "output_type": "stream",
     "text": [
      "{'activation': 'leakyrelu', 'batch_size': 64, 'dropout': 0.5, 'epochs': 1, 'first_neuron': 1024, 'hidden_layers': 3, 'label_type': 'Angular', 'loss_function': 'mean_squared_error', 'lr': 2, 'monitor_value': 'val_custom_mae', 'optimizer': <class 'tensorflow.python.keras.optimizer_v2.adam.Adam'>, 'reduction_metric': 'custom_mae', 'samples': 20000}\n",
      "Using Loss: mean_squared_error \n",
      "and Reduction Metric: [<function custom_mae at 0x0000026E06BB99D8>]\n",
      "Monitor: val_custom_mae\n",
      "Train on 16000 samples, validate on 3968 samples\n",
      "15680/16000 [============================>.] - ETA: 0s - loss: 5970.5235 - custom_mae: 55.5276\n",
      "Epoch 00001: val_custom_mae improved from inf to 44.19460, saving model to ..\\fast_output\\SYNTH_Regression_MSE\\201019_2253_final_Angular_Base_Custom-MAE\\Best_Weights_FC_145.hdf5\n",
      "16000/16000 [==============================] - 4s 229us/sample - loss: 5935.1695 - custom_mae: 55.3357 - val_loss: 3884.8112 - val_custom_mae: 44.1946\n",
      "Time taken: 0:00:05.150096\n"
     ]
    },
    {
     "name": "stderr",
     "output_type": "stream",
     "text": [
      "\r",
      " 41%|████████████████████████████████▍                                               | 146/360 [25:45<24:47,  6.95s/it]"
     ]
    },
    {
     "name": "stdout",
     "output_type": "stream",
     "text": [
      "{'activation': 'leakyrelu', 'batch_size': 64, 'dropout': 0.5, 'epochs': 1, 'first_neuron': 1024, 'hidden_layers': 3, 'label_type': 'Angular', 'loss_function': 'mean_squared_error', 'lr': 5, 'monitor_value': 'val_custom_mae', 'optimizer': <class 'tensorflow.python.keras.optimizer_v2.adam.Adam'>, 'reduction_metric': 'custom_mae', 'samples': 20000}\n",
      "Using Loss: mean_squared_error \n",
      "and Reduction Metric: [<function custom_mae at 0x0000026E06BB99D8>]\n",
      "Monitor: val_custom_mae\n",
      "Train on 16000 samples, validate on 3968 samples\n",
      "15552/16000 [============================>.] - ETA: 0s - loss: 6282.0062 - custom_mae: 56.9165\n",
      "Epoch 00001: val_custom_mae improved from inf to 45.45622, saving model to ..\\fast_output\\SYNTH_Regression_MSE\\201019_2253_final_Angular_Base_Custom-MAE\\Best_Weights_FC_146.hdf5\n",
      "16000/16000 [==============================] - 4s 228us/sample - loss: 6236.5776 - custom_mae: 56.6310 - val_loss: 4245.5306 - val_custom_mae: 45.4562\n",
      "Time taken: 0:00:05.140890\n"
     ]
    },
    {
     "name": "stderr",
     "output_type": "stream",
     "text": [
      "\r",
      " 41%|████████████████████████████████▋                                               | 147/360 [25:51<24:36,  6.93s/it]"
     ]
    },
    {
     "name": "stdout",
     "output_type": "stream",
     "text": [
      "{'activation': 'leakyrelu', 'batch_size': 64, 'dropout': 0.5, 'epochs': 1, 'first_neuron': 1024, 'hidden_layers': 4, 'label_type': 'Angular', 'loss_function': 'mean_squared_error', 'lr': 1, 'monitor_value': 'val_custom_mae', 'optimizer': <class 'tensorflow.python.keras.optimizer_v2.adam.Adam'>, 'reduction_metric': 'custom_mae', 'samples': 20000}\n",
      "Using Loss: mean_squared_error \n",
      "and Reduction Metric: [<function custom_mae at 0x0000026E06BB99D8>]\n",
      "Monitor: val_custom_mae\n",
      "Train on 16000 samples, validate on 3968 samples\n",
      "15680/16000 [============================>.] - ETA: 0s - loss: 7247.8442 - custom_mae: 61.9017\n",
      "Epoch 00001: val_custom_mae improved from inf to 58.09049, saving model to ..\\fast_output\\SYNTH_Regression_MSE\\201019_2253_final_Angular_Base_Custom-MAE\\Best_Weights_FC_147.hdf5\n",
      "16000/16000 [==============================] - 4s 234us/sample - loss: 7200.8344 - custom_mae: 61.6744 - val_loss: 6454.9303 - val_custom_mae: 58.0905\n",
      "Time taken: 0:00:05.228060\n"
     ]
    },
    {
     "name": "stderr",
     "output_type": "stream",
     "text": [
      "\r",
      " 41%|████████████████████████████████▉                                               | 148/360 [25:58<24:32,  6.95s/it]"
     ]
    },
    {
     "name": "stdout",
     "output_type": "stream",
     "text": [
      "{'activation': 'leakyrelu', 'batch_size': 64, 'dropout': 0.5, 'epochs': 1, 'first_neuron': 1024, 'hidden_layers': 4, 'label_type': 'Angular', 'loss_function': 'mean_squared_error', 'lr': 2, 'monitor_value': 'val_custom_mae', 'optimizer': <class 'tensorflow.python.keras.optimizer_v2.adam.Adam'>, 'reduction_metric': 'custom_mae', 'samples': 20000}\n",
      "Using Loss: mean_squared_error \n",
      "and Reduction Metric: [<function custom_mae at 0x0000026E06BB99D8>]\n",
      "Monitor: val_custom_mae\n",
      "Train on 16000 samples, validate on 3968 samples\n",
      "15872/16000 [============================>.] - ETA: 0s - loss: 7058.2432 - custom_mae: 60.7104\n",
      "Epoch 00001: val_custom_mae improved from inf to 60.33996, saving model to ..\\fast_output\\SYNTH_Regression_MSE\\201019_2253_final_Angular_Base_Custom-MAE\\Best_Weights_FC_148.hdf5\n",
      "16000/16000 [==============================] - 4s 233us/sample - loss: 7046.0710 - custom_mae: 60.6403 - val_loss: 6948.2754 - val_custom_mae: 60.3400\n",
      "Time taken: 0:00:05.230061\n"
     ]
    },
    {
     "name": "stderr",
     "output_type": "stream",
     "text": [
      "\r",
      " 41%|█████████████████████████████████                                               | 149/360 [26:05<24:27,  6.96s/it]"
     ]
    },
    {
     "name": "stdout",
     "output_type": "stream",
     "text": [
      "{'activation': 'leakyrelu', 'batch_size': 64, 'dropout': 0.5, 'epochs': 1, 'first_neuron': 1024, 'hidden_layers': 4, 'label_type': 'Angular', 'loss_function': 'mean_squared_error', 'lr': 5, 'monitor_value': 'val_custom_mae', 'optimizer': <class 'tensorflow.python.keras.optimizer_v2.adam.Adam'>, 'reduction_metric': 'custom_mae', 'samples': 20000}\n",
      "Using Loss: mean_squared_error \n",
      "and Reduction Metric: [<function custom_mae at 0x0000026E06BB99D8>]\n",
      "Monitor: val_custom_mae\n",
      "Train on 16000 samples, validate on 3968 samples\n",
      "15936/16000 [============================>.] - ETA: 0s - loss: 7754.6619 - custom_mae: 63.0042\n",
      "Epoch 00001: val_custom_mae improved from inf to 56.38342, saving model to ..\\fast_output\\SYNTH_Regression_MSE\\201019_2253_final_Angular_Base_Custom-MAE\\Best_Weights_FC_149.hdf5\n",
      "16000/16000 [==============================] - 4s 234us/sample - loss: 7743.7491 - custom_mae: 62.9503 - val_loss: 6052.3534 - val_custom_mae: 56.3834\n",
      "Time taken: 0:00:05.236880\n"
     ]
    },
    {
     "name": "stderr",
     "output_type": "stream",
     "text": [
      "\r",
      " 42%|█████████████████████████████████▎                                              | 150/360 [26:12<24:23,  6.97s/it]"
     ]
    },
    {
     "name": "stdout",
     "output_type": "stream",
     "text": [
      "{'activation': 'leakyrelu', 'batch_size': 64, 'dropout': 0.5, 'epochs': 1, 'first_neuron': 2048, 'hidden_layers': 0, 'label_type': 'Angular', 'loss_function': 'mean_squared_error', 'lr': 1, 'monitor_value': 'val_custom_mae', 'optimizer': <class 'tensorflow.python.keras.optimizer_v2.adam.Adam'>, 'reduction_metric': 'custom_mae', 'samples': 20000}\n",
      "Using Loss: mean_squared_error \n",
      "and Reduction Metric: [<function custom_mae at 0x0000026E06BB99D8>]\n",
      "Monitor: val_custom_mae\n",
      "Train on 16000 samples, validate on 3968 samples\n",
      "15872/16000 [============================>.] - ETA: 0s - loss: 4317.2579 - custom_mae: 42.9467\n",
      "Epoch 00001: val_custom_mae improved from inf to 35.38911, saving model to ..\\fast_output\\SYNTH_Regression_MSE\\201019_2253_final_Angular_Base_Custom-MAE\\Best_Weights_FC_150.hdf5\n",
      "16000/16000 [==============================] - 5s 329us/sample - loss: 4306.4728 - custom_mae: 42.8801 - val_loss: 3382.0198 - val_custom_mae: 35.3891\n",
      "Time taken: 0:00:06.763887\n"
     ]
    },
    {
     "name": "stderr",
     "output_type": "stream",
     "text": [
      "\r",
      " 42%|█████████████████████████████████▌                                              | 151/360 [26:21<25:48,  7.41s/it]"
     ]
    },
    {
     "name": "stdout",
     "output_type": "stream",
     "text": [
      "{'activation': 'leakyrelu', 'batch_size': 64, 'dropout': 0.5, 'epochs': 1, 'first_neuron': 2048, 'hidden_layers': 0, 'label_type': 'Angular', 'loss_function': 'mean_squared_error', 'lr': 2, 'monitor_value': 'val_custom_mae', 'optimizer': <class 'tensorflow.python.keras.optimizer_v2.adam.Adam'>, 'reduction_metric': 'custom_mae', 'samples': 20000}\n",
      "Using Loss: mean_squared_error \n",
      "and Reduction Metric: [<function custom_mae at 0x0000026E06BB99D8>]\n",
      "Monitor: val_custom_mae\n",
      "Train on 16000 samples, validate on 3968 samples\n",
      "15744/16000 [============================>.] - ETA: 0s - loss: 4152.7410 - custom_mae: 41.7414\n",
      "Epoch 00001: val_custom_mae improved from inf to 32.94001, saving model to ..\\fast_output\\SYNTH_Regression_MSE\\201019_2253_final_Angular_Base_Custom-MAE\\Best_Weights_FC_151.hdf5\n",
      "16000/16000 [==============================] - 5s 331us/sample - loss: 4130.2081 - custom_mae: 41.5875 - val_loss: 2981.9068 - val_custom_mae: 32.9400\n",
      "Time taken: 0:00:06.798288\n"
     ]
    },
    {
     "name": "stderr",
     "output_type": "stream",
     "text": [
      "\r",
      " 42%|█████████████████████████████████▊                                              | 152/360 [26:29<26:45,  7.72s/it]"
     ]
    },
    {
     "name": "stdout",
     "output_type": "stream",
     "text": [
      "{'activation': 'leakyrelu', 'batch_size': 64, 'dropout': 0.5, 'epochs': 1, 'first_neuron': 2048, 'hidden_layers': 0, 'label_type': 'Angular', 'loss_function': 'mean_squared_error', 'lr': 5, 'monitor_value': 'val_custom_mae', 'optimizer': <class 'tensorflow.python.keras.optimizer_v2.adam.Adam'>, 'reduction_metric': 'custom_mae', 'samples': 20000}\n",
      "Using Loss: mean_squared_error \n",
      "and Reduction Metric: [<function custom_mae at 0x0000026E06BB99D8>]\n",
      "Monitor: val_custom_mae\n",
      "Train on 16000 samples, validate on 3968 samples\n",
      "15808/16000 [============================>.] - ETA: 0s - loss: 4539.4675 - custom_mae: 43.3147\n",
      "Epoch 00001: val_custom_mae improved from inf to 32.65014, saving model to ..\\fast_output\\SYNTH_Regression_MSE\\201019_2253_final_Angular_Base_Custom-MAE\\Best_Weights_FC_152.hdf5\n",
      "16000/16000 [==============================] - 5s 334us/sample - loss: 4520.1741 - custom_mae: 43.1904 - val_loss: 2967.5832 - val_custom_mae: 32.6501\n",
      "Time taken: 0:00:06.836506\n"
     ]
    },
    {
     "name": "stderr",
     "output_type": "stream",
     "text": [
      "\r",
      " 42%|██████████████████████████████████                                              | 153/360 [26:38<27:28,  7.96s/it]"
     ]
    },
    {
     "name": "stdout",
     "output_type": "stream",
     "text": [
      "{'activation': 'leakyrelu', 'batch_size': 64, 'dropout': 0.5, 'epochs': 1, 'first_neuron': 2048, 'hidden_layers': 1, 'label_type': 'Angular', 'loss_function': 'mean_squared_error', 'lr': 1, 'monitor_value': 'val_custom_mae', 'optimizer': <class 'tensorflow.python.keras.optimizer_v2.adam.Adam'>, 'reduction_metric': 'custom_mae', 'samples': 20000}\n",
      "Using Loss: mean_squared_error \n",
      "and Reduction Metric: [<function custom_mae at 0x0000026E06BB99D8>]\n",
      "Monitor: val_custom_mae\n",
      "Train on 16000 samples, validate on 3968 samples\n",
      "15744/16000 [============================>.] - ETA: 0s - loss: 4447.9434 - custom_mae: 44.5890\n",
      "Epoch 00001: val_custom_mae improved from inf to 33.55882, saving model to ..\\fast_output\\SYNTH_Regression_MSE\\201019_2253_final_Angular_Base_Custom-MAE\\Best_Weights_FC_153.hdf5\n",
      "16000/16000 [==============================] - 5s 339us/sample - loss: 4423.0342 - custom_mae: 44.4267 - val_loss: 3067.3209 - val_custom_mae: 33.5588\n",
      "Time taken: 0:00:06.925130\n"
     ]
    },
    {
     "name": "stderr",
     "output_type": "stream",
     "text": [
      "\r",
      " 43%|██████████████████████████████████▏                                             | 154/360 [26:46<28:00,  8.16s/it]"
     ]
    },
    {
     "name": "stdout",
     "output_type": "stream",
     "text": [
      "{'activation': 'leakyrelu', 'batch_size': 64, 'dropout': 0.5, 'epochs': 1, 'first_neuron': 2048, 'hidden_layers': 1, 'label_type': 'Angular', 'loss_function': 'mean_squared_error', 'lr': 2, 'monitor_value': 'val_custom_mae', 'optimizer': <class 'tensorflow.python.keras.optimizer_v2.adam.Adam'>, 'reduction_metric': 'custom_mae', 'samples': 20000}\n",
      "Using Loss: mean_squared_error \n",
      "and Reduction Metric: [<function custom_mae at 0x0000026E06BB99D8>]\n",
      "Monitor: val_custom_mae\n",
      "Train on 16000 samples, validate on 3968 samples\n",
      "15680/16000 [============================>.] - ETA: 0s - loss: 4989.9885 - custom_mae: 47.3336\n",
      "Epoch 00001: val_custom_mae improved from inf to 34.20908, saving model to ..\\fast_output\\SYNTH_Regression_MSE\\201019_2253_final_Angular_Base_Custom-MAE\\Best_Weights_FC_154.hdf5\n",
      "16000/16000 [==============================] - 5s 340us/sample - loss: 4945.9260 - custom_mae: 47.0636 - val_loss: 2975.6434 - val_custom_mae: 34.2091\n",
      "Time taken: 0:00:06.946837\n"
     ]
    },
    {
     "name": "stderr",
     "output_type": "stream",
     "text": [
      "\r",
      " 43%|██████████████████████████████████▍                                             | 155/360 [26:55<28:22,  8.31s/it]"
     ]
    },
    {
     "name": "stdout",
     "output_type": "stream",
     "text": [
      "{'activation': 'leakyrelu', 'batch_size': 64, 'dropout': 0.5, 'epochs': 1, 'first_neuron': 2048, 'hidden_layers': 1, 'label_type': 'Angular', 'loss_function': 'mean_squared_error', 'lr': 5, 'monitor_value': 'val_custom_mae', 'optimizer': <class 'tensorflow.python.keras.optimizer_v2.adam.Adam'>, 'reduction_metric': 'custom_mae', 'samples': 20000}\n",
      "Using Loss: mean_squared_error \n",
      "and Reduction Metric: [<function custom_mae at 0x0000026E06BB99D8>]\n",
      "Monitor: val_custom_mae\n",
      "Train on 16000 samples, validate on 3968 samples\n",
      "15680/16000 [============================>.] - ETA: 0s - loss: 13385.1813 - custom_mae: 60.6825\n",
      "Epoch 00001: val_custom_mae improved from inf to 37.57347, saving model to ..\\fast_output\\SYNTH_Regression_MSE\\201019_2253_final_Angular_Base_Custom-MAE\\Best_Weights_FC_155.hdf5\n",
      "16000/16000 [==============================] - 6s 346us/sample - loss: 13186.9051 - custom_mae: 60.2672 - val_loss: 3392.4896 - val_custom_mae: 37.5735\n",
      "Time taken: 0:00:07.037687\n"
     ]
    },
    {
     "name": "stderr",
     "output_type": "stream",
     "text": [
      "\r",
      " 43%|██████████████████████████████████▋                                             | 156/360 [27:04<28:42,  8.44s/it]"
     ]
    },
    {
     "name": "stdout",
     "output_type": "stream",
     "text": [
      "{'activation': 'leakyrelu', 'batch_size': 64, 'dropout': 0.5, 'epochs': 1, 'first_neuron': 2048, 'hidden_layers': 2, 'label_type': 'Angular', 'loss_function': 'mean_squared_error', 'lr': 1, 'monitor_value': 'val_custom_mae', 'optimizer': <class 'tensorflow.python.keras.optimizer_v2.adam.Adam'>, 'reduction_metric': 'custom_mae', 'samples': 20000}\n",
      "Using Loss: mean_squared_error \n",
      "and Reduction Metric: [<function custom_mae at 0x0000026E06BB99D8>]\n",
      "Monitor: val_custom_mae\n",
      "Train on 16000 samples, validate on 3968 samples\n",
      "15808/16000 [============================>.] - ETA: 0s - loss: 4866.4382 - custom_mae: 48.0891\n",
      "Epoch 00001: val_custom_mae improved from inf to 34.19036, saving model to ..\\fast_output\\SYNTH_Regression_MSE\\201019_2253_final_Angular_Base_Custom-MAE\\Best_Weights_FC_156.hdf5\n",
      "16000/16000 [==============================] - 6s 356us/sample - loss: 4841.0437 - custom_mae: 47.9192 - val_loss: 3105.0719 - val_custom_mae: 34.1904\n",
      "Time taken: 0:00:07.197226\n"
     ]
    },
    {
     "name": "stderr",
     "output_type": "stream",
     "text": [
      "\r",
      " 44%|██████████████████████████████████▉                                             | 157/360 [27:13<29:05,  8.60s/it]"
     ]
    },
    {
     "name": "stdout",
     "output_type": "stream",
     "text": [
      "{'activation': 'leakyrelu', 'batch_size': 64, 'dropout': 0.5, 'epochs': 1, 'first_neuron': 2048, 'hidden_layers': 2, 'label_type': 'Angular', 'loss_function': 'mean_squared_error', 'lr': 2, 'monitor_value': 'val_custom_mae', 'optimizer': <class 'tensorflow.python.keras.optimizer_v2.adam.Adam'>, 'reduction_metric': 'custom_mae', 'samples': 20000}\n",
      "Using Loss: mean_squared_error \n",
      "and Reduction Metric: [<function custom_mae at 0x0000026E06BB99D8>]\n",
      "Monitor: val_custom_mae\n",
      "Train on 16000 samples, validate on 3968 samples\n",
      "15808/16000 [============================>.] - ETA: 0s - loss: 5900.9158 - custom_mae: 51.9360\n",
      "Epoch 00001: val_custom_mae improved from inf to 35.16105, saving model to ..\\fast_output\\SYNTH_Regression_MSE\\201019_2253_final_Angular_Base_Custom-MAE\\Best_Weights_FC_157.hdf5\n",
      "16000/16000 [==============================] - 5s 343us/sample - loss: 5868.8431 - custom_mae: 51.7630 - val_loss: 3166.8684 - val_custom_mae: 35.1610\n",
      "Time taken: 0:00:07.000341\n"
     ]
    },
    {
     "name": "stderr",
     "output_type": "stream",
     "text": [
      "\r",
      " 44%|███████████████████████████████████                                             | 158/360 [27:22<29:08,  8.65s/it]"
     ]
    },
    {
     "name": "stdout",
     "output_type": "stream",
     "text": [
      "{'activation': 'leakyrelu', 'batch_size': 64, 'dropout': 0.5, 'epochs': 1, 'first_neuron': 2048, 'hidden_layers': 2, 'label_type': 'Angular', 'loss_function': 'mean_squared_error', 'lr': 5, 'monitor_value': 'val_custom_mae', 'optimizer': <class 'tensorflow.python.keras.optimizer_v2.adam.Adam'>, 'reduction_metric': 'custom_mae', 'samples': 20000}\n",
      "Using Loss: mean_squared_error \n",
      "and Reduction Metric: [<function custom_mae at 0x0000026E06BB99D8>]\n",
      "Monitor: val_custom_mae\n",
      "Train on 16000 samples, validate on 3968 samples\n",
      "15744/16000 [============================>.] - ETA: 0s - loss: 17530.0149 - custom_mae: 64.5627\n",
      "Epoch 00001: val_custom_mae improved from inf to 39.43550, saving model to ..\\fast_output\\SYNTH_Regression_MSE\\201019_2253_final_Angular_Base_Custom-MAE\\Best_Weights_FC_158.hdf5\n",
      "16000/16000 [==============================] - 6s 346us/sample - loss: 17310.1603 - custom_mae: 64.2063 - val_loss: 3501.3313 - val_custom_mae: 39.4355\n",
      "Time taken: 0:00:07.036969\n"
     ]
    },
    {
     "name": "stderr",
     "output_type": "stream",
     "text": [
      "\r",
      " 44%|███████████████████████████████████▎                                            | 159/360 [27:30<29:05,  8.68s/it]"
     ]
    },
    {
     "name": "stdout",
     "output_type": "stream",
     "text": [
      "{'activation': 'leakyrelu', 'batch_size': 64, 'dropout': 0.5, 'epochs': 1, 'first_neuron': 2048, 'hidden_layers': 3, 'label_type': 'Angular', 'loss_function': 'mean_squared_error', 'lr': 1, 'monitor_value': 'val_custom_mae', 'optimizer': <class 'tensorflow.python.keras.optimizer_v2.adam.Adam'>, 'reduction_metric': 'custom_mae', 'samples': 20000}\n",
      "Using Loss: mean_squared_error \n",
      "and Reduction Metric: [<function custom_mae at 0x0000026E06BB99D8>]\n",
      "Monitor: val_custom_mae\n",
      "Train on 16000 samples, validate on 3968 samples\n",
      "15744/16000 [============================>.] - ETA: 0s - loss: 5472.9621 - custom_mae: 52.7261\n",
      "Epoch 00001: val_custom_mae improved from inf to 38.72489, saving model to ..\\fast_output\\SYNTH_Regression_MSE\\201019_2253_final_Angular_Base_Custom-MAE\\Best_Weights_FC_159.hdf5\n",
      "16000/16000 [==============================] - 6s 353us/sample - loss: 5440.6116 - custom_mae: 52.5020 - val_loss: 3439.7792 - val_custom_mae: 38.7249\n",
      "Time taken: 0:00:07.130083\n"
     ]
    },
    {
     "name": "stderr",
     "output_type": "stream",
     "text": [
      "\r",
      " 44%|███████████████████████████████████▌                                            | 160/360 [27:39<29:08,  8.74s/it]"
     ]
    },
    {
     "name": "stdout",
     "output_type": "stream",
     "text": [
      "{'activation': 'leakyrelu', 'batch_size': 64, 'dropout': 0.5, 'epochs': 1, 'first_neuron': 2048, 'hidden_layers': 3, 'label_type': 'Angular', 'loss_function': 'mean_squared_error', 'lr': 2, 'monitor_value': 'val_custom_mae', 'optimizer': <class 'tensorflow.python.keras.optimizer_v2.adam.Adam'>, 'reduction_metric': 'custom_mae', 'samples': 20000}\n",
      "Using Loss: mean_squared_error \n",
      "and Reduction Metric: [<function custom_mae at 0x0000026E06BB99D8>]\n",
      "Monitor: val_custom_mae\n",
      "Train on 16000 samples, validate on 3968 samples\n",
      "15744/16000 [============================>.] - ETA: 0s - loss: 6099.8087 - custom_mae: 54.1935\n",
      "Epoch 00001: val_custom_mae improved from inf to 41.12019, saving model to ..\\fast_output\\SYNTH_Regression_MSE\\201019_2253_final_Angular_Base_Custom-MAE\\Best_Weights_FC_160.hdf5\n",
      "16000/16000 [==============================] - 6s 380us/sample - loss: 6063.4175 - custom_mae: 53.9975 - val_loss: 3703.7844 - val_custom_mae: 41.1202\n",
      "Time taken: 0:00:07.582473\n"
     ]
    },
    {
     "name": "stderr",
     "output_type": "stream",
     "text": [
      "\r",
      " 45%|███████████████████████████████████▊                                            | 161/360 [27:49<29:34,  8.92s/it]"
     ]
    },
    {
     "name": "stdout",
     "output_type": "stream",
     "text": [
      "{'activation': 'leakyrelu', 'batch_size': 64, 'dropout': 0.5, 'epochs': 1, 'first_neuron': 2048, 'hidden_layers': 3, 'label_type': 'Angular', 'loss_function': 'mean_squared_error', 'lr': 5, 'monitor_value': 'val_custom_mae', 'optimizer': <class 'tensorflow.python.keras.optimizer_v2.adam.Adam'>, 'reduction_metric': 'custom_mae', 'samples': 20000}\n",
      "Using Loss: mean_squared_error \n",
      "and Reduction Metric: [<function custom_mae at 0x0000026E06BB99D8>]\n",
      "Monitor: val_custom_mae\n",
      "Train on 16000 samples, validate on 3968 samples\n",
      "15808/16000 [============================>.] - ETA: 0s - loss: 6942.4812 - custom_mae: 58.5355\n",
      "Epoch 00001: val_custom_mae improved from inf to 45.17743, saving model to ..\\fast_output\\SYNTH_Regression_MSE\\201019_2253_final_Angular_Base_Custom-MAE\\Best_Weights_FC_161.hdf5\n",
      "16000/16000 [==============================] - 6s 369us/sample - loss: 6908.6859 - custom_mae: 58.3740 - val_loss: 4119.2342 - val_custom_mae: 45.1774\n",
      "Time taken: 0:00:07.425226\n"
     ]
    },
    {
     "name": "stderr",
     "output_type": "stream",
     "text": [
      "\r",
      " 45%|████████████████████████████████████                                            | 162/360 [27:58<29:42,  9.00s/it]"
     ]
    },
    {
     "name": "stdout",
     "output_type": "stream",
     "text": [
      "{'activation': 'leakyrelu', 'batch_size': 64, 'dropout': 0.5, 'epochs': 1, 'first_neuron': 2048, 'hidden_layers': 4, 'label_type': 'Angular', 'loss_function': 'mean_squared_error', 'lr': 1, 'monitor_value': 'val_custom_mae', 'optimizer': <class 'tensorflow.python.keras.optimizer_v2.adam.Adam'>, 'reduction_metric': 'custom_mae', 'samples': 20000}\n",
      "Using Loss: mean_squared_error \n",
      "and Reduction Metric: [<function custom_mae at 0x0000026E06BB99D8>]\n",
      "Monitor: val_custom_mae\n",
      "Train on 16000 samples, validate on 3968 samples\n",
      "15616/16000 [============================>.] - ETA: 0s - loss: 6312.9675 - custom_mae: 57.5058\n",
      "Epoch 00001: val_custom_mae improved from inf to 55.65741, saving model to ..\\fast_output\\SYNTH_Regression_MSE\\201019_2253_final_Angular_Base_Custom-MAE\\Best_Weights_FC_162.hdf5\n",
      "16000/16000 [==============================] - 6s 370us/sample - loss: 6271.5946 - custom_mae: 57.2679 - val_loss: 5855.4892 - val_custom_mae: 55.6574\n",
      "Time taken: 0:00:07.435496\n"
     ]
    },
    {
     "name": "stderr",
     "output_type": "stream",
     "text": [
      "\r",
      " 45%|████████████████████████████████████▏                                           | 163/360 [28:07<29:48,  9.08s/it]"
     ]
    },
    {
     "name": "stdout",
     "output_type": "stream",
     "text": [
      "{'activation': 'leakyrelu', 'batch_size': 64, 'dropout': 0.5, 'epochs': 1, 'first_neuron': 2048, 'hidden_layers': 4, 'label_type': 'Angular', 'loss_function': 'mean_squared_error', 'lr': 2, 'monitor_value': 'val_custom_mae', 'optimizer': <class 'tensorflow.python.keras.optimizer_v2.adam.Adam'>, 'reduction_metric': 'custom_mae', 'samples': 20000}\n",
      "Using Loss: mean_squared_error \n",
      "and Reduction Metric: [<function custom_mae at 0x0000026E06BB99D8>]\n",
      "Monitor: val_custom_mae\n",
      "Train on 16000 samples, validate on 3968 samples\n",
      "15936/16000 [============================>.] - ETA: 0s - loss: 7028.8203 - custom_mae: 59.8437\n",
      "Epoch 00001: val_custom_mae improved from inf to 53.07464, saving model to ..\\fast_output\\SYNTH_Regression_MSE\\201019_2253_final_Angular_Base_Custom-MAE\\Best_Weights_FC_163.hdf5\n",
      "16000/16000 [==============================] - 6s 372us/sample - loss: 7020.0950 - custom_mae: 59.7920 - val_loss: 5467.0924 - val_custom_mae: 53.0746\n",
      "Time taken: 0:00:07.463244\n"
     ]
    },
    {
     "name": "stderr",
     "output_type": "stream",
     "text": [
      "\r",
      " 46%|████████████████████████████████████▍                                           | 164/360 [28:16<29:50,  9.14s/it]"
     ]
    },
    {
     "name": "stdout",
     "output_type": "stream",
     "text": [
      "{'activation': 'leakyrelu', 'batch_size': 64, 'dropout': 0.5, 'epochs': 1, 'first_neuron': 2048, 'hidden_layers': 4, 'label_type': 'Angular', 'loss_function': 'mean_squared_error', 'lr': 5, 'monitor_value': 'val_custom_mae', 'optimizer': <class 'tensorflow.python.keras.optimizer_v2.adam.Adam'>, 'reduction_metric': 'custom_mae', 'samples': 20000}\n",
      "Using Loss: mean_squared_error \n",
      "and Reduction Metric: [<function custom_mae at 0x0000026E06BB99D8>]\n",
      "Monitor: val_custom_mae\n",
      "Train on 16000 samples, validate on 3968 samples\n",
      "15936/16000 [============================>.] - ETA: 0s - loss: 7656.8520 - custom_mae: 62.4112\n",
      "Epoch 00001: val_custom_mae improved from inf to 48.83739, saving model to ..\\fast_output\\SYNTH_Regression_MSE\\201019_2253_final_Angular_Base_Custom-MAE\\Best_Weights_FC_164.hdf5\n",
      "16000/16000 [==============================] - 6s 374us/sample - loss: 7645.0796 - custom_mae: 62.3583 - val_loss: 4269.7852 - val_custom_mae: 48.8374\n",
      "Time taken: 0:00:07.494516\n"
     ]
    },
    {
     "name": "stderr",
     "output_type": "stream",
     "text": [
      "\r",
      " 46%|████████████████████████████████████▋                                           | 165/360 [28:26<29:50,  9.18s/it]"
     ]
    },
    {
     "name": "stdout",
     "output_type": "stream",
     "text": [
      "{'activation': 'leakyrelu', 'batch_size': 64, 'dropout': 0.5, 'epochs': 1, 'first_neuron': 4096, 'hidden_layers': 0, 'label_type': 'Angular', 'loss_function': 'mean_squared_error', 'lr': 1, 'monitor_value': 'val_custom_mae', 'optimizer': <class 'tensorflow.python.keras.optimizer_v2.adam.Adam'>, 'reduction_metric': 'custom_mae', 'samples': 20000}\n",
      "Using Loss: mean_squared_error \n",
      "and Reduction Metric: [<function custom_mae at 0x0000026E06BB99D8>]\n",
      "Monitor: val_custom_mae\n",
      "Train on 16000 samples, validate on 3968 samples\n",
      "15808/16000 [============================>.] - ETA: 0s - loss: 4136.5429 - custom_mae: 41.7466\n",
      "Epoch 00001: val_custom_mae improved from inf to 33.06239, saving model to ..\\fast_output\\SYNTH_Regression_MSE\\201019_2253_final_Angular_Base_Custom-MAE\\Best_Weights_FC_165.hdf5\n",
      "16000/16000 [==============================] - 9s 579us/sample - loss: 4119.7167 - custom_mae: 41.6381 - val_loss: 2994.1186 - val_custom_mae: 33.0624\n",
      "Time taken: 0:00:10.799702\n"
     ]
    },
    {
     "name": "stderr",
     "output_type": "stream",
     "text": [
      "\r",
      " 46%|████████████████████████████████████▉                                           | 166/360 [28:38<32:55, 10.18s/it]"
     ]
    },
    {
     "name": "stdout",
     "output_type": "stream",
     "text": [
      "{'activation': 'leakyrelu', 'batch_size': 64, 'dropout': 0.5, 'epochs': 1, 'first_neuron': 4096, 'hidden_layers': 0, 'label_type': 'Angular', 'loss_function': 'mean_squared_error', 'lr': 2, 'monitor_value': 'val_custom_mae', 'optimizer': <class 'tensorflow.python.keras.optimizer_v2.adam.Adam'>, 'reduction_metric': 'custom_mae', 'samples': 20000}\n",
      "Using Loss: mean_squared_error \n",
      "and Reduction Metric: [<function custom_mae at 0x0000026E06BB99D8>]\n",
      "Monitor: val_custom_mae\n",
      "Train on 16000 samples, validate on 3968 samples\n",
      "15872/16000 [============================>.] - ETA: 0s - loss: 4081.2992 - custom_mae: 41.3205\n",
      "Epoch 00001: val_custom_mae improved from inf to 32.27733, saving model to ..\\fast_output\\SYNTH_Regression_MSE\\201019_2253_final_Angular_Base_Custom-MAE\\Best_Weights_FC_166.hdf5\n",
      "16000/16000 [==============================] - 9s 570us/sample - loss: 4071.6600 - custom_mae: 41.2477 - val_loss: 2968.2557 - val_custom_mae: 32.2773\n",
      "Time taken: 0:00:10.653444\n"
     ]
    },
    {
     "name": "stderr",
     "output_type": "stream",
     "text": [
      "\r",
      " 46%|█████████████████████████████████████                                           | 167/360 [28:50<34:51, 10.84s/it]"
     ]
    },
    {
     "name": "stdout",
     "output_type": "stream",
     "text": [
      "{'activation': 'leakyrelu', 'batch_size': 64, 'dropout': 0.5, 'epochs': 1, 'first_neuron': 4096, 'hidden_layers': 0, 'label_type': 'Angular', 'loss_function': 'mean_squared_error', 'lr': 5, 'monitor_value': 'val_custom_mae', 'optimizer': <class 'tensorflow.python.keras.optimizer_v2.adam.Adam'>, 'reduction_metric': 'custom_mae', 'samples': 20000}\n",
      "Using Loss: mean_squared_error \n",
      "and Reduction Metric: [<function custom_mae at 0x0000026E06BB99D8>]\n",
      "Monitor: val_custom_mae\n",
      "Train on 16000 samples, validate on 3968 samples\n",
      "15872/16000 [============================>.] - ETA: 0s - loss: 5265.3363 - custom_mae: 46.0711\n",
      "Epoch 00001: val_custom_mae improved from inf to 33.14938, saving model to ..\\fast_output\\SYNTH_Regression_MSE\\201019_2253_final_Angular_Base_Custom-MAE\\Best_Weights_FC_167.hdf5\n",
      "16000/16000 [==============================] - 9s 571us/sample - loss: 5246.5403 - custom_mae: 45.9655 - val_loss: 2919.8856 - val_custom_mae: 33.1494\n",
      "Time taken: 0:00:10.637707\n"
     ]
    },
    {
     "name": "stderr",
     "output_type": "stream",
     "text": [
      "\r",
      " 47%|█████████████████████████████████████▎                                          | 168/360 [29:03<36:07, 11.29s/it]"
     ]
    },
    {
     "name": "stdout",
     "output_type": "stream",
     "text": [
      "{'activation': 'leakyrelu', 'batch_size': 64, 'dropout': 0.5, 'epochs': 1, 'first_neuron': 4096, 'hidden_layers': 1, 'label_type': 'Angular', 'loss_function': 'mean_squared_error', 'lr': 1, 'monitor_value': 'val_custom_mae', 'optimizer': <class 'tensorflow.python.keras.optimizer_v2.adam.Adam'>, 'reduction_metric': 'custom_mae', 'samples': 20000}\n",
      "Using Loss: mean_squared_error \n",
      "and Reduction Metric: [<function custom_mae at 0x0000026E06BB99D8>]\n",
      "Monitor: val_custom_mae\n",
      "Train on 16000 samples, validate on 3968 samples\n",
      "15936/16000 [============================>.] - ETA: 0s - loss: 4809.0229 - custom_mae: 45.6896\n",
      "Epoch 00001: val_custom_mae improved from inf to 32.57334, saving model to ..\\fast_output\\SYNTH_Regression_MSE\\201019_2253_final_Angular_Base_Custom-MAE\\Best_Weights_FC_168.hdf5\n",
      "16000/16000 [==============================] - 10s 607us/sample - loss: 4801.4282 - custom_mae: 45.6392 - val_loss: 2957.3920 - val_custom_mae: 32.5733\n",
      "Time taken: 0:00:11.200316\n"
     ]
    },
    {
     "name": "stderr",
     "output_type": "stream",
     "text": [
      "\r",
      " 47%|█████████████████████████████████████▌                                          | 169/360 [29:16<37:29, 11.78s/it]"
     ]
    },
    {
     "name": "stdout",
     "output_type": "stream",
     "text": [
      "{'activation': 'leakyrelu', 'batch_size': 64, 'dropout': 0.5, 'epochs': 1, 'first_neuron': 4096, 'hidden_layers': 1, 'label_type': 'Angular', 'loss_function': 'mean_squared_error', 'lr': 2, 'monitor_value': 'val_custom_mae', 'optimizer': <class 'tensorflow.python.keras.optimizer_v2.adam.Adam'>, 'reduction_metric': 'custom_mae', 'samples': 20000}\n",
      "Using Loss: mean_squared_error \n",
      "and Reduction Metric: [<function custom_mae at 0x0000026E06BB99D8>]\n",
      "Monitor: val_custom_mae\n",
      "Train on 16000 samples, validate on 3968 samples\n",
      "15808/16000 [============================>.] - ETA: 0s - loss: 6570.6591 - custom_mae: 51.6368\n",
      "Epoch 00001: val_custom_mae improved from inf to 34.81049, saving model to ..\\fast_output\\SYNTH_Regression_MSE\\201019_2253_final_Angular_Base_Custom-MAE\\Best_Weights_FC_169.hdf5\n",
      "16000/16000 [==============================] - 10s 608us/sample - loss: 6529.2374 - custom_mae: 51.4476 - val_loss: 3070.6484 - val_custom_mae: 34.8105\n",
      "Time taken: 0:00:11.236120\n"
     ]
    },
    {
     "name": "stderr",
     "output_type": "stream",
     "text": [
      "\r",
      " 47%|█████████████████████████████████████▊                                          | 170/360 [29:29<38:25, 12.13s/it]"
     ]
    },
    {
     "name": "stdout",
     "output_type": "stream",
     "text": [
      "{'activation': 'leakyrelu', 'batch_size': 64, 'dropout': 0.5, 'epochs': 1, 'first_neuron': 4096, 'hidden_layers': 1, 'label_type': 'Angular', 'loss_function': 'mean_squared_error', 'lr': 5, 'monitor_value': 'val_custom_mae', 'optimizer': <class 'tensorflow.python.keras.optimizer_v2.adam.Adam'>, 'reduction_metric': 'custom_mae', 'samples': 20000}\n",
      "Using Loss: mean_squared_error \n",
      "and Reduction Metric: [<function custom_mae at 0x0000026E06BB99D8>]\n",
      "Monitor: val_custom_mae\n",
      "Train on 16000 samples, validate on 3968 samples\n",
      "15872/16000 [============================>.] - ETA: 0s - loss: 61364.2263 - custom_mae: 88.7408\n",
      "Epoch 00001: val_custom_mae improved from inf to 47.17431, saving model to ..\\fast_output\\SYNTH_Regression_MSE\\201019_2253_final_Angular_Base_Custom-MAE\\Best_Weights_FC_170.hdf5\n",
      "16000/16000 [==============================] - 10s 604us/sample - loss: 60911.0849 - custom_mae: 88.4152 - val_loss: 3973.5852 - val_custom_mae: 47.1743\n",
      "Time taken: 0:00:11.160003\n"
     ]
    },
    {
     "name": "stderr",
     "output_type": "stream",
     "text": [
      "\r",
      " 48%|██████████████████████████████████████                                          | 171/360 [29:42<38:54, 12.35s/it]"
     ]
    },
    {
     "name": "stdout",
     "output_type": "stream",
     "text": [
      "{'activation': 'leakyrelu', 'batch_size': 64, 'dropout': 0.5, 'epochs': 1, 'first_neuron': 4096, 'hidden_layers': 2, 'label_type': 'Angular', 'loss_function': 'mean_squared_error', 'lr': 1, 'monitor_value': 'val_custom_mae', 'optimizer': <class 'tensorflow.python.keras.optimizer_v2.adam.Adam'>, 'reduction_metric': 'custom_mae', 'samples': 20000}\n",
      "Using Loss: mean_squared_error \n",
      "and Reduction Metric: [<function custom_mae at 0x0000026E06BB99D8>]\n",
      "Monitor: val_custom_mae\n",
      "Train on 16000 samples, validate on 3968 samples\n",
      "15808/16000 [============================>.] - ETA: 0s - loss: 5118.0168 - custom_mae: 47.5204\n",
      "Epoch 00001: val_custom_mae improved from inf to 34.54652, saving model to ..\\fast_output\\SYNTH_Regression_MSE\\201019_2253_final_Angular_Base_Custom-MAE\\Best_Weights_FC_171.hdf5\n",
      "16000/16000 [==============================] - 10s 623us/sample - loss: 5094.6147 - custom_mae: 47.3818 - val_loss: 3016.2898 - val_custom_mae: 34.5465\n",
      "Time taken: 0:00:11.484377\n"
     ]
    },
    {
     "name": "stderr",
     "output_type": "stream",
     "text": [
      "\r",
      " 48%|██████████████████████████████████████▏                                         | 172/360 [29:55<39:33, 12.62s/it]"
     ]
    },
    {
     "name": "stdout",
     "output_type": "stream",
     "text": [
      "{'activation': 'leakyrelu', 'batch_size': 64, 'dropout': 0.5, 'epochs': 1, 'first_neuron': 4096, 'hidden_layers': 2, 'label_type': 'Angular', 'loss_function': 'mean_squared_error', 'lr': 2, 'monitor_value': 'val_custom_mae', 'optimizer': <class 'tensorflow.python.keras.optimizer_v2.adam.Adam'>, 'reduction_metric': 'custom_mae', 'samples': 20000}\n",
      "Using Loss: mean_squared_error \n",
      "and Reduction Metric: [<function custom_mae at 0x0000026E06BB99D8>]\n",
      "Monitor: val_custom_mae\n",
      "Train on 16000 samples, validate on 3968 samples\n",
      "15808/16000 [============================>.] - ETA: 0s - loss: 6817.6286 - custom_mae: 51.3804\n",
      "Epoch 00001: val_custom_mae improved from inf to 36.66187, saving model to ..\\fast_output\\SYNTH_Regression_MSE\\201019_2253_final_Angular_Base_Custom-MAE\\Best_Weights_FC_172.hdf5\n",
      "16000/16000 [==============================] - 10s 627us/sample - loss: 6770.9584 - custom_mae: 51.1966 - val_loss: 3304.4484 - val_custom_mae: 36.6619\n",
      "Time taken: 0:00:11.545280\n"
     ]
    },
    {
     "name": "stderr",
     "output_type": "stream",
     "text": [
      "\r",
      " 48%|██████████████████████████████████████▍                                         | 173/360 [30:08<40:00, 12.83s/it]"
     ]
    },
    {
     "name": "stdout",
     "output_type": "stream",
     "text": [
      "{'activation': 'leakyrelu', 'batch_size': 64, 'dropout': 0.5, 'epochs': 1, 'first_neuron': 4096, 'hidden_layers': 2, 'label_type': 'Angular', 'loss_function': 'mean_squared_error', 'lr': 5, 'monitor_value': 'val_custom_mae', 'optimizer': <class 'tensorflow.python.keras.optimizer_v2.adam.Adam'>, 'reduction_metric': 'custom_mae', 'samples': 20000}\n",
      "Using Loss: mean_squared_error \n",
      "and Reduction Metric: [<function custom_mae at 0x0000026E06BB99D8>]\n",
      "Monitor: val_custom_mae\n",
      "Train on 16000 samples, validate on 3968 samples\n",
      "15744/16000 [============================>.] - ETA: 0s - loss: 1099071.7415 - custom_mae: 181.0533\n",
      "Epoch 00001: val_custom_mae improved from inf to 54.38332, saving model to ..\\fast_output\\SYNTH_Regression_MSE\\201019_2253_final_Angular_Base_Custom-MAE\\Best_Weights_FC_173.hdf5\n",
      "16000/16000 [==============================] - 10s 637us/sample - loss: 1081589.4991 - custom_mae: 179.1549 - val_loss: 5244.7547 - val_custom_mae: 54.3833\n",
      "Time taken: 0:00:11.715046\n"
     ]
    },
    {
     "name": "stderr",
     "output_type": "stream",
     "text": [
      "\r",
      " 48%|██████████████████████████████████████▋                                         | 174/360 [30:22<40:23, 13.03s/it]"
     ]
    },
    {
     "name": "stdout",
     "output_type": "stream",
     "text": [
      "{'activation': 'leakyrelu', 'batch_size': 64, 'dropout': 0.5, 'epochs': 1, 'first_neuron': 4096, 'hidden_layers': 3, 'label_type': 'Angular', 'loss_function': 'mean_squared_error', 'lr': 1, 'monitor_value': 'val_custom_mae', 'optimizer': <class 'tensorflow.python.keras.optimizer_v2.adam.Adam'>, 'reduction_metric': 'custom_mae', 'samples': 20000}\n",
      "Using Loss: mean_squared_error \n",
      "and Reduction Metric: [<function custom_mae at 0x0000026E06BB99D8>]\n",
      "Monitor: val_custom_mae\n",
      "Train on 16000 samples, validate on 3968 samples\n",
      "15872/16000 [============================>.] - ETA: 0s - loss: 5493.5170 - custom_mae: 51.2302\n",
      "Epoch 00001: val_custom_mae improved from inf to 34.57874, saving model to ..\\fast_output\\SYNTH_Regression_MSE\\201019_2253_final_Angular_Base_Custom-MAE\\Best_Weights_FC_174.hdf5\n",
      "16000/16000 [==============================] - 10s 627us/sample - loss: 5478.5981 - custom_mae: 51.1294 - val_loss: 3032.4955 - val_custom_mae: 34.5787\n",
      "Time taken: 0:00:11.572974\n"
     ]
    },
    {
     "name": "stderr",
     "output_type": "stream",
     "text": [
      "\r",
      " 49%|██████████████████████████████████████▉                                         | 175/360 [30:35<40:29, 13.13s/it]"
     ]
    },
    {
     "name": "stdout",
     "output_type": "stream",
     "text": [
      "{'activation': 'leakyrelu', 'batch_size': 64, 'dropout': 0.5, 'epochs': 1, 'first_neuron': 4096, 'hidden_layers': 3, 'label_type': 'Angular', 'loss_function': 'mean_squared_error', 'lr': 2, 'monitor_value': 'val_custom_mae', 'optimizer': <class 'tensorflow.python.keras.optimizer_v2.adam.Adam'>, 'reduction_metric': 'custom_mae', 'samples': 20000}\n",
      "Using Loss: mean_squared_error \n",
      "and Reduction Metric: [<function custom_mae at 0x0000026E06BB99D8>]\n",
      "Monitor: val_custom_mae\n",
      "Train on 16000 samples, validate on 3968 samples\n",
      "15872/16000 [============================>.] - ETA: 0s - loss: 6204.1721 - custom_mae: 53.0437\n",
      "Epoch 00001: val_custom_mae improved from inf to 40.75410, saving model to ..\\fast_output\\SYNTH_Regression_MSE\\201019_2253_final_Angular_Base_Custom-MAE\\Best_Weights_FC_175.hdf5\n",
      "16000/16000 [==============================] - 10s 629us/sample - loss: 6186.2935 - custom_mae: 52.9452 - val_loss: 3822.3109 - val_custom_mae: 40.7541\n",
      "Time taken: 0:00:11.570282\n"
     ]
    },
    {
     "name": "stderr",
     "output_type": "stream",
     "text": [
      "\r",
      " 49%|███████████████████████████████████████                                         | 176/360 [30:48<40:27, 13.20s/it]"
     ]
    },
    {
     "name": "stdout",
     "output_type": "stream",
     "text": [
      "{'activation': 'leakyrelu', 'batch_size': 64, 'dropout': 0.5, 'epochs': 1, 'first_neuron': 4096, 'hidden_layers': 3, 'label_type': 'Angular', 'loss_function': 'mean_squared_error', 'lr': 5, 'monitor_value': 'val_custom_mae', 'optimizer': <class 'tensorflow.python.keras.optimizer_v2.adam.Adam'>, 'reduction_metric': 'custom_mae', 'samples': 20000}\n",
      "Using Loss: mean_squared_error \n",
      "and Reduction Metric: [<function custom_mae at 0x0000026E06BB99D8>]\n",
      "Monitor: val_custom_mae\n",
      "Train on 16000 samples, validate on 3968 samples\n",
      "15936/16000 [============================>.] - ETA: 0s - loss: 436964.0371 - custom_mae: 255.6143\n",
      "Epoch 00001: val_custom_mae improved from inf to 59.96227, saving model to ..\\fast_output\\SYNTH_Regression_MSE\\201019_2253_final_Angular_Base_Custom-MAE\\Best_Weights_FC_176.hdf5\n",
      "16000/16000 [==============================] - 10s 628us/sample - loss: 435257.1047 - custom_mae: 254.9143 - val_loss: 6458.0116 - val_custom_mae: 59.9623\n",
      "Time taken: 0:00:11.554819\n"
     ]
    },
    {
     "name": "stderr",
     "output_type": "stream",
     "text": [
      "\r",
      " 49%|███████████████████████████████████████▎                                        | 177/360 [31:02<40:21, 13.23s/it]"
     ]
    },
    {
     "name": "stdout",
     "output_type": "stream",
     "text": [
      "{'activation': 'leakyrelu', 'batch_size': 64, 'dropout': 0.5, 'epochs': 1, 'first_neuron': 4096, 'hidden_layers': 4, 'label_type': 'Angular', 'loss_function': 'mean_squared_error', 'lr': 1, 'monitor_value': 'val_custom_mae', 'optimizer': <class 'tensorflow.python.keras.optimizer_v2.adam.Adam'>, 'reduction_metric': 'custom_mae', 'samples': 20000}\n",
      "Using Loss: mean_squared_error \n",
      "and Reduction Metric: [<function custom_mae at 0x0000026E06BB99D8>]\n",
      "Monitor: val_custom_mae\n",
      "Train on 16000 samples, validate on 3968 samples\n",
      "15936/16000 [============================>.] - ETA: 0s - loss: 5773.7509 - custom_mae: 54.8796\n",
      "Epoch 00001: val_custom_mae improved from inf to 54.98722, saving model to ..\\fast_output\\SYNTH_Regression_MSE\\201019_2253_final_Angular_Base_Custom-MAE\\Best_Weights_FC_177.hdf5\n",
      "16000/16000 [==============================] - 10s 635us/sample - loss: 5767.9681 - custom_mae: 54.8373 - val_loss: 6208.2654 - val_custom_mae: 54.9872\n",
      "Time taken: 0:00:11.655805\n"
     ]
    },
    {
     "name": "stderr",
     "output_type": "stream",
     "text": [
      "\r",
      " 49%|███████████████████████████████████████▌                                        | 178/360 [31:15<40:20, 13.30s/it]"
     ]
    },
    {
     "name": "stdout",
     "output_type": "stream",
     "text": [
      "{'activation': 'leakyrelu', 'batch_size': 64, 'dropout': 0.5, 'epochs': 1, 'first_neuron': 4096, 'hidden_layers': 4, 'label_type': 'Angular', 'loss_function': 'mean_squared_error', 'lr': 2, 'monitor_value': 'val_custom_mae', 'optimizer': <class 'tensorflow.python.keras.optimizer_v2.adam.Adam'>, 'reduction_metric': 'custom_mae', 'samples': 20000}\n",
      "Using Loss: mean_squared_error \n",
      "and Reduction Metric: [<function custom_mae at 0x0000026E06BB99D8>]\n",
      "Monitor: val_custom_mae\n",
      "Train on 16000 samples, validate on 3968 samples\n",
      "15872/16000 [============================>.] - ETA: 0s - loss: 10700.9161 - custom_mae: 62.5469- ETA: 2s - loss: 14373.3568 - custom_mae:  - ETA: 1s - loss: 12968.5352 - c\n",
      "Epoch 00001: val_custom_mae improved from inf to 48.82182, saving model to ..\\fast_output\\SYNTH_Regression_MSE\\201019_2253_final_Angular_Base_Custom-MAE\\Best_Weights_FC_178.hdf5\n",
      "16000/16000 [==============================] - 10s 635us/sample - loss: 10648.8737 - custom_mae: 62.4131 - val_loss: 4991.4558 - val_custom_mae: 48.8218\n",
      "Time taken: 0:00:11.670632\n"
     ]
    },
    {
     "name": "stderr",
     "output_type": "stream",
     "text": [
      "\r",
      " 50%|███████████████████████████████████████▊                                        | 179/360 [31:29<40:15, 13.35s/it]"
     ]
    },
    {
     "name": "stdout",
     "output_type": "stream",
     "text": [
      "{'activation': 'leakyrelu', 'batch_size': 64, 'dropout': 0.5, 'epochs': 1, 'first_neuron': 4096, 'hidden_layers': 4, 'label_type': 'Angular', 'loss_function': 'mean_squared_error', 'lr': 5, 'monitor_value': 'val_custom_mae', 'optimizer': <class 'tensorflow.python.keras.optimizer_v2.adam.Adam'>, 'reduction_metric': 'custom_mae', 'samples': 20000}\n",
      "Using Loss: mean_squared_error \n",
      "and Reduction Metric: [<function custom_mae at 0x0000026E06BB99D8>]\n",
      "Monitor: val_custom_mae\n",
      "Train on 16000 samples, validate on 3968 samples\n",
      "15744/16000 [============================>.] - ETA: 0s - loss: 168860.5538 - custom_mae: 151.3052\n",
      "Epoch 00001: val_custom_mae improved from inf to 63.73000, saving model to ..\\fast_output\\SYNTH_Regression_MSE\\201019_2253_final_Angular_Base_Custom-MAE\\Best_Weights_FC_179.hdf5\n",
      "16000/16000 [==============================] - 10s 636us/sample - loss: 166279.6409 - custom_mae: 149.9684 - val_loss: 8049.4614 - val_custom_mae: 63.7300\n",
      "Time taken: 0:00:11.687697\n"
     ]
    },
    {
     "name": "stderr",
     "output_type": "stream",
     "text": [
      "\r",
      " 50%|████████████████████████████████████████                                        | 180/360 [31:42<40:09, 13.39s/it]"
     ]
    },
    {
     "name": "stdout",
     "output_type": "stream",
     "text": [
      "{'activation': 'relu', 'batch_size': 32, 'dropout': 0.25, 'epochs': 1, 'first_neuron': 1024, 'hidden_layers': 0, 'label_type': 'Angular', 'loss_function': 'mean_squared_error', 'lr': 1, 'monitor_value': 'val_custom_mae', 'optimizer': <class 'tensorflow.python.keras.optimizer_v2.adam.Adam'>, 'reduction_metric': 'custom_mae', 'samples': 20000}\n",
      "Using Loss: mean_squared_error \n",
      "and Reduction Metric: [<function custom_mae at 0x0000026E06BB99D8>]\n",
      "Monitor: val_custom_mae\n",
      "Train on 16000 samples, validate on 4000 samples\n",
      "15648/16000 [============================>.] - ETA: 0s - loss: 4021.6131 - custom_mae: 40.6152\n",
      "Epoch 00001: val_custom_mae improved from inf to 32.40366, saving model to ..\\fast_output\\SYNTH_Regression_MSE\\201019_2253_final_Angular_Base_Custom-MAE\\Best_Weights_FC_180.hdf5\n",
      "16000/16000 [==============================] - 4s 279us/sample - loss: 3992.7711 - custom_mae: 40.4165 - val_loss: 2997.4420 - val_custom_mae: 32.4037\n",
      "Time taken: 0:00:06.063749\n"
     ]
    },
    {
     "name": "stderr",
     "output_type": "stream",
     "text": [
      "\r",
      " 50%|████████████████████████████████████████▏                                       | 181/360 [31:54<38:16, 12.83s/it]"
     ]
    },
    {
     "name": "stdout",
     "output_type": "stream",
     "text": [
      "{'activation': 'relu', 'batch_size': 32, 'dropout': 0.25, 'epochs': 1, 'first_neuron': 1024, 'hidden_layers': 0, 'label_type': 'Angular', 'loss_function': 'mean_squared_error', 'lr': 2, 'monitor_value': 'val_custom_mae', 'optimizer': <class 'tensorflow.python.keras.optimizer_v2.adam.Adam'>, 'reduction_metric': 'custom_mae', 'samples': 20000}\n",
      "Using Loss: mean_squared_error \n",
      "and Reduction Metric: [<function custom_mae at 0x0000026E06BB99D8>]\n",
      "Monitor: val_custom_mae\n",
      "Train on 16000 samples, validate on 4000 samples\n",
      "15776/16000 [============================>.] - ETA: 0s - loss: 3740.8738 - custom_mae: 38.6272\n",
      "Epoch 00001: val_custom_mae improved from inf to 32.06914, saving model to ..\\fast_output\\SYNTH_Regression_MSE\\201019_2253_final_Angular_Base_Custom-MAE\\Best_Weights_FC_181.hdf5\n",
      "16000/16000 [==============================] - 4s 275us/sample - loss: 3731.4859 - custom_mae: 38.5423 - val_loss: 2990.3475 - val_custom_mae: 32.0691\n",
      "Time taken: 0:00:05.901090\n"
     ]
    },
    {
     "name": "stderr",
     "output_type": "stream",
     "text": [
      "\r",
      " 51%|████████████████████████████████████████▍                                       | 182/360 [32:01<33:22, 11.25s/it]"
     ]
    },
    {
     "name": "stdout",
     "output_type": "stream",
     "text": [
      "{'activation': 'relu', 'batch_size': 32, 'dropout': 0.25, 'epochs': 1, 'first_neuron': 1024, 'hidden_layers': 0, 'label_type': 'Angular', 'loss_function': 'mean_squared_error', 'lr': 5, 'monitor_value': 'val_custom_mae', 'optimizer': <class 'tensorflow.python.keras.optimizer_v2.adam.Adam'>, 'reduction_metric': 'custom_mae', 'samples': 20000}\n",
      "Using Loss: mean_squared_error \n",
      "and Reduction Metric: [<function custom_mae at 0x0000026E06BB99D8>]\n",
      "Monitor: val_custom_mae\n",
      "Train on 16000 samples, validate on 4000 samples\n",
      "15648/16000 [============================>.] - ETA: 0s - loss: 3743.3426 - custom_mae: 38.8926\n",
      "Epoch 00001: val_custom_mae improved from inf to 34.85891, saving model to ..\\fast_output\\SYNTH_Regression_MSE\\201019_2253_final_Angular_Base_Custom-MAE\\Best_Weights_FC_182.hdf5\n",
      "16000/16000 [==============================] - 4s 272us/sample - loss: 3719.1434 - custom_mae: 38.7350 - val_loss: 3301.3511 - val_custom_mae: 34.8589\n",
      "Time taken: 0:00:05.862399\n"
     ]
    },
    {
     "name": "stderr",
     "output_type": "stream",
     "text": [
      "\r",
      " 51%|████████████████████████████████████████▋                                       | 183/360 [32:09<29:54, 10.14s/it]"
     ]
    },
    {
     "name": "stdout",
     "output_type": "stream",
     "text": [
      "{'activation': 'relu', 'batch_size': 32, 'dropout': 0.25, 'epochs': 1, 'first_neuron': 1024, 'hidden_layers': 1, 'label_type': 'Angular', 'loss_function': 'mean_squared_error', 'lr': 1, 'monitor_value': 'val_custom_mae', 'optimizer': <class 'tensorflow.python.keras.optimizer_v2.adam.Adam'>, 'reduction_metric': 'custom_mae', 'samples': 20000}\n",
      "Using Loss: mean_squared_error \n",
      "and Reduction Metric: [<function custom_mae at 0x0000026E06BB99D8>]\n",
      "Monitor: val_custom_mae\n",
      "Train on 16000 samples, validate on 4000 samples\n",
      "15680/16000 [============================>.] - ETA: 0s - loss: 3981.8992 - custom_mae: 41.1105\n",
      "Epoch 00001: val_custom_mae improved from inf to 32.65477, saving model to ..\\fast_output\\SYNTH_Regression_MSE\\201019_2253_final_Angular_Base_Custom-MAE\\Best_Weights_FC_183.hdf5\n",
      "16000/16000 [==============================] - 5s 284us/sample - loss: 3959.7165 - custom_mae: 40.9437 - val_loss: 3023.1647 - val_custom_mae: 32.6548\n",
      "Time taken: 0:00:06.064372\n"
     ]
    },
    {
     "name": "stderr",
     "output_type": "stream",
     "text": [
      "\r",
      " 51%|████████████████████████████████████████▉                                       | 184/360 [32:16<27:38,  9.42s/it]"
     ]
    },
    {
     "name": "stdout",
     "output_type": "stream",
     "text": [
      "{'activation': 'relu', 'batch_size': 32, 'dropout': 0.25, 'epochs': 1, 'first_neuron': 1024, 'hidden_layers': 1, 'label_type': 'Angular', 'loss_function': 'mean_squared_error', 'lr': 2, 'monitor_value': 'val_custom_mae', 'optimizer': <class 'tensorflow.python.keras.optimizer_v2.adam.Adam'>, 'reduction_metric': 'custom_mae', 'samples': 20000}\n",
      "Using Loss: mean_squared_error \n",
      "and Reduction Metric: [<function custom_mae at 0x0000026E06BB99D8>]\n",
      "Monitor: val_custom_mae\n",
      "Train on 16000 samples, validate on 4000 samples\n",
      "15872/16000 [============================>.] - ETA: 0s - loss: 3952.6673 - custom_mae: 40.9455\n",
      "Epoch 00001: val_custom_mae improved from inf to 34.60440, saving model to ..\\fast_output\\SYNTH_Regression_MSE\\201019_2253_final_Angular_Base_Custom-MAE\\Best_Weights_FC_184.hdf5\n",
      "16000/16000 [==============================] - 5s 283us/sample - loss: 3948.9876 - custom_mae: 40.9074 - val_loss: 3331.6133 - val_custom_mae: 34.6044\n",
      "Time taken: 0:00:06.034689\n"
     ]
    },
    {
     "name": "stderr",
     "output_type": "stream",
     "text": [
      "\r",
      " 51%|█████████████████████████████████████████                                       | 185/360 [32:24<26:01,  8.92s/it]"
     ]
    },
    {
     "name": "stdout",
     "output_type": "stream",
     "text": [
      "{'activation': 'relu', 'batch_size': 32, 'dropout': 0.25, 'epochs': 1, 'first_neuron': 1024, 'hidden_layers': 1, 'label_type': 'Angular', 'loss_function': 'mean_squared_error', 'lr': 5, 'monitor_value': 'val_custom_mae', 'optimizer': <class 'tensorflow.python.keras.optimizer_v2.adam.Adam'>, 'reduction_metric': 'custom_mae', 'samples': 20000}\n",
      "Using Loss: mean_squared_error \n",
      "and Reduction Metric: [<function custom_mae at 0x0000026E06BB99D8>]\n",
      "Monitor: val_custom_mae\n",
      "Train on 16000 samples, validate on 4000 samples\n",
      "15936/16000 [============================>.] - ETA: 0s - loss: 4330.9627 - custom_mae: 43.6345\n",
      "Epoch 00001: val_custom_mae improved from inf to 35.51658, saving model to ..\\fast_output\\SYNTH_Regression_MSE\\201019_2253_final_Angular_Base_Custom-MAE\\Best_Weights_FC_185.hdf5\n",
      "16000/16000 [==============================] - 5s 285us/sample - loss: 4327.5106 - custom_mae: 43.5947 - val_loss: 3242.8800 - val_custom_mae: 35.5166\n",
      "Time taken: 0:00:06.054518\n"
     ]
    },
    {
     "name": "stderr",
     "output_type": "stream",
     "text": [
      "\r",
      " 52%|█████████████████████████████████████████▎                                      | 186/360 [32:32<24:50,  8.57s/it]"
     ]
    },
    {
     "name": "stdout",
     "output_type": "stream",
     "text": [
      "{'activation': 'relu', 'batch_size': 32, 'dropout': 0.25, 'epochs': 1, 'first_neuron': 1024, 'hidden_layers': 2, 'label_type': 'Angular', 'loss_function': 'mean_squared_error', 'lr': 1, 'monitor_value': 'val_custom_mae', 'optimizer': <class 'tensorflow.python.keras.optimizer_v2.adam.Adam'>, 'reduction_metric': 'custom_mae', 'samples': 20000}\n",
      "Using Loss: mean_squared_error \n",
      "and Reduction Metric: [<function custom_mae at 0x0000026E06BB99D8>]\n",
      "Monitor: val_custom_mae\n",
      "Train on 16000 samples, validate on 4000 samples\n",
      "15808/16000 [============================>.] - ETA: 0s - loss: 4210.4492 - custom_mae: 43.4303\n",
      "Epoch 00001: val_custom_mae improved from inf to 33.12199, saving model to ..\\fast_output\\SYNTH_Regression_MSE\\201019_2253_final_Angular_Base_Custom-MAE\\Best_Weights_FC_186.hdf5\n",
      "16000/16000 [==============================] - 5s 295us/sample - loss: 4196.1686 - custom_mae: 43.3280 - val_loss: 2901.0807 - val_custom_mae: 33.1220\n",
      "Time taken: 0:00:06.221906\n"
     ]
    },
    {
     "name": "stderr",
     "output_type": "stream",
     "text": [
      "\r",
      " 52%|█████████████████████████████████████████▌                                      | 187/360 [32:40<24:09,  8.38s/it]"
     ]
    },
    {
     "name": "stdout",
     "output_type": "stream",
     "text": [
      "{'activation': 'relu', 'batch_size': 32, 'dropout': 0.25, 'epochs': 1, 'first_neuron': 1024, 'hidden_layers': 2, 'label_type': 'Angular', 'loss_function': 'mean_squared_error', 'lr': 2, 'monitor_value': 'val_custom_mae', 'optimizer': <class 'tensorflow.python.keras.optimizer_v2.adam.Adam'>, 'reduction_metric': 'custom_mae', 'samples': 20000}\n",
      "Using Loss: mean_squared_error \n",
      "and Reduction Metric: [<function custom_mae at 0x0000026E06BB99D8>]\n",
      "Monitor: val_custom_mae\n",
      "Train on 16000 samples, validate on 4000 samples\n",
      "15744/16000 [============================>.] - ETA: 0s - loss: 4237.3327 - custom_mae: 43.7808\n",
      "Epoch 00001: val_custom_mae improved from inf to 32.43866, saving model to ..\\fast_output\\SYNTH_Regression_MSE\\201019_2253_final_Angular_Base_Custom-MAE\\Best_Weights_FC_187.hdf5\n",
      "16000/16000 [==============================] - 5s 291us/sample - loss: 4218.4150 - custom_mae: 43.6420 - val_loss: 2836.5780 - val_custom_mae: 32.4387\n",
      "Time taken: 0:00:06.168966\n"
     ]
    },
    {
     "name": "stderr",
     "output_type": "stream",
     "text": [
      "\r",
      " 52%|█████████████████████████████████████████▊                                      | 188/360 [32:48<23:35,  8.23s/it]"
     ]
    },
    {
     "name": "stdout",
     "output_type": "stream",
     "text": [
      "{'activation': 'relu', 'batch_size': 32, 'dropout': 0.25, 'epochs': 1, 'first_neuron': 1024, 'hidden_layers': 2, 'label_type': 'Angular', 'loss_function': 'mean_squared_error', 'lr': 5, 'monitor_value': 'val_custom_mae', 'optimizer': <class 'tensorflow.python.keras.optimizer_v2.adam.Adam'>, 'reduction_metric': 'custom_mae', 'samples': 20000}\n",
      "Using Loss: mean_squared_error \n",
      "and Reduction Metric: [<function custom_mae at 0x0000026E06BB99D8>]\n",
      "Monitor: val_custom_mae\n",
      "Train on 16000 samples, validate on 4000 samples\n",
      "15776/16000 [============================>.] - ETA: 0s - loss: 4657.1704 - custom_mae: 46.6178\n",
      "Epoch 00001: val_custom_mae improved from inf to 32.68801, saving model to ..\\fast_output\\SYNTH_Regression_MSE\\201019_2253_final_Angular_Base_Custom-MAE\\Best_Weights_FC_188.hdf5\n",
      "16000/16000 [==============================] - 5s 294us/sample - loss: 4643.0986 - custom_mae: 46.5167 - val_loss: 2705.9684 - val_custom_mae: 32.6880\n",
      "Time taken: 0:00:06.221619\n"
     ]
    },
    {
     "name": "stderr",
     "output_type": "stream",
     "text": [
      "\r",
      " 52%|██████████████████████████████████████████                                      | 189/360 [32:56<23:12,  8.14s/it]"
     ]
    },
    {
     "name": "stdout",
     "output_type": "stream",
     "text": [
      "{'activation': 'relu', 'batch_size': 32, 'dropout': 0.25, 'epochs': 1, 'first_neuron': 1024, 'hidden_layers': 3, 'label_type': 'Angular', 'loss_function': 'mean_squared_error', 'lr': 1, 'monitor_value': 'val_custom_mae', 'optimizer': <class 'tensorflow.python.keras.optimizer_v2.adam.Adam'>, 'reduction_metric': 'custom_mae', 'samples': 20000}\n",
      "Using Loss: mean_squared_error \n",
      "and Reduction Metric: [<function custom_mae at 0x0000026E06BB99D8>]\n",
      "Monitor: val_custom_mae\n",
      "Train on 16000 samples, validate on 4000 samples\n",
      "15680/16000 [============================>.] - ETA: 0s - loss: 4580.6041 - custom_mae: 46.6197\n",
      "Epoch 00001: val_custom_mae improved from inf to 32.25908, saving model to ..\\fast_output\\SYNTH_Regression_MSE\\201019_2253_final_Angular_Base_Custom-MAE\\Best_Weights_FC_189.hdf5\n",
      "16000/16000 [==============================] - 5s 298us/sample - loss: 4551.0979 - custom_mae: 46.4104 - val_loss: 2829.8665 - val_custom_mae: 32.2591\n",
      "Time taken: 0:00:06.271699\n"
     ]
    },
    {
     "name": "stderr",
     "output_type": "stream",
     "text": [
      "\r",
      " 53%|██████████████████████████████████████████▏                                     | 190/360 [33:04<22:58,  8.11s/it]"
     ]
    },
    {
     "name": "stdout",
     "output_type": "stream",
     "text": [
      "{'activation': 'relu', 'batch_size': 32, 'dropout': 0.25, 'epochs': 1, 'first_neuron': 1024, 'hidden_layers': 3, 'label_type': 'Angular', 'loss_function': 'mean_squared_error', 'lr': 2, 'monitor_value': 'val_custom_mae', 'optimizer': <class 'tensorflow.python.keras.optimizer_v2.adam.Adam'>, 'reduction_metric': 'custom_mae', 'samples': 20000}\n",
      "Using Loss: mean_squared_error \n",
      "and Reduction Metric: [<function custom_mae at 0x0000026E06BB99D8>]\n",
      "Monitor: val_custom_mae\n",
      "Train on 16000 samples, validate on 4000 samples\n",
      "15872/16000 [============================>.] - ETA: 0s - loss: 4768.2403 - custom_mae: 48.1421\n",
      "Epoch 00001: val_custom_mae improved from inf to 38.25711, saving model to ..\\fast_output\\SYNTH_Regression_MSE\\201019_2253_final_Angular_Base_Custom-MAE\\Best_Weights_FC_190.hdf5\n",
      "16000/16000 [==============================] - 5s 298us/sample - loss: 4760.8752 - custom_mae: 48.0824 - val_loss: 3291.4079 - val_custom_mae: 38.2571\n",
      "Time taken: 0:00:06.277839\n"
     ]
    },
    {
     "name": "stderr",
     "output_type": "stream",
     "text": [
      "\r",
      " 53%|██████████████████████████████████████████▍                                     | 191/360 [33:12<22:47,  8.09s/it]"
     ]
    },
    {
     "name": "stdout",
     "output_type": "stream",
     "text": [
      "{'activation': 'relu', 'batch_size': 32, 'dropout': 0.25, 'epochs': 1, 'first_neuron': 1024, 'hidden_layers': 3, 'label_type': 'Angular', 'loss_function': 'mean_squared_error', 'lr': 5, 'monitor_value': 'val_custom_mae', 'optimizer': <class 'tensorflow.python.keras.optimizer_v2.adam.Adam'>, 'reduction_metric': 'custom_mae', 'samples': 20000}\n",
      "Using Loss: mean_squared_error \n",
      "and Reduction Metric: [<function custom_mae at 0x0000026E06BB99D8>]\n",
      "Monitor: val_custom_mae\n",
      "Train on 16000 samples, validate on 4000 samples\n",
      "15808/16000 [============================>.] - ETA: 0s - loss: 5481.9004 - custom_mae: 53.1130\n",
      "Epoch 00001: val_custom_mae improved from inf to 45.58118, saving model to ..\\fast_output\\SYNTH_Regression_MSE\\201019_2253_final_Angular_Base_Custom-MAE\\Best_Weights_FC_191.hdf5\n",
      "16000/16000 [==============================] - 5s 297us/sample - loss: 5478.5582 - custom_mae: 53.0891 - val_loss: 4011.0806 - val_custom_mae: 45.5812\n",
      "Time taken: 0:00:06.250337\n"
     ]
    },
    {
     "name": "stderr",
     "output_type": "stream",
     "text": [
      "\r",
      " 53%|██████████████████████████████████████████▋                                     | 192/360 [33:20<22:33,  8.06s/it]"
     ]
    },
    {
     "name": "stdout",
     "output_type": "stream",
     "text": [
      "{'activation': 'relu', 'batch_size': 32, 'dropout': 0.25, 'epochs': 1, 'first_neuron': 1024, 'hidden_layers': 4, 'label_type': 'Angular', 'loss_function': 'mean_squared_error', 'lr': 1, 'monitor_value': 'val_custom_mae', 'optimizer': <class 'tensorflow.python.keras.optimizer_v2.adam.Adam'>, 'reduction_metric': 'custom_mae', 'samples': 20000}\n",
      "Using Loss: mean_squared_error \n",
      "and Reduction Metric: [<function custom_mae at 0x0000026E06BB99D8>]\n",
      "Monitor: val_custom_mae\n",
      "Train on 16000 samples, validate on 4000 samples\n",
      "15776/16000 [============================>.] - ETA: 0s - loss: 5170.7949 - custom_mae: 51.1259\n",
      "Epoch 00001: val_custom_mae improved from inf to 36.61707, saving model to ..\\fast_output\\SYNTH_Regression_MSE\\201019_2253_final_Angular_Base_Custom-MAE\\Best_Weights_FC_192.hdf5\n",
      "16000/16000 [==============================] - 5s 307us/sample - loss: 5148.4932 - custom_mae: 50.9809 - val_loss: 3111.5918 - val_custom_mae: 36.6171\n",
      "Time taken: 0:00:06.417902\n"
     ]
    },
    {
     "name": "stderr",
     "output_type": "stream",
     "text": [
      "\r",
      " 54%|██████████████████████████████████████████▉                                     | 193/360 [33:28<22:32,  8.10s/it]"
     ]
    },
    {
     "name": "stdout",
     "output_type": "stream",
     "text": [
      "{'activation': 'relu', 'batch_size': 32, 'dropout': 0.25, 'epochs': 1, 'first_neuron': 1024, 'hidden_layers': 4, 'label_type': 'Angular', 'loss_function': 'mean_squared_error', 'lr': 2, 'monitor_value': 'val_custom_mae', 'optimizer': <class 'tensorflow.python.keras.optimizer_v2.adam.Adam'>, 'reduction_metric': 'custom_mae', 'samples': 20000}\n",
      "Using Loss: mean_squared_error \n",
      "and Reduction Metric: [<function custom_mae at 0x0000026E06BB99D8>]\n",
      "Monitor: val_custom_mae\n",
      "Train on 16000 samples, validate on 4000 samples\n",
      "15904/16000 [============================>.] - ETA: 0s - loss: 5290.7259 - custom_mae: 52.5110\n",
      "Epoch 00001: val_custom_mae improved from inf to 42.16572, saving model to ..\\fast_output\\SYNTH_Regression_MSE\\201019_2253_final_Angular_Base_Custom-MAE\\Best_Weights_FC_193.hdf5\n",
      "16000/16000 [==============================] - 5s 306us/sample - loss: 5286.0442 - custom_mae: 52.4848 - val_loss: 3493.8472 - val_custom_mae: 42.1657\n",
      "Time taken: 0:00:06.403500\n"
     ]
    },
    {
     "name": "stderr",
     "output_type": "stream",
     "text": [
      "\r",
      " 54%|███████████████████████████████████████████                                     | 194/360 [33:36<22:27,  8.12s/it]"
     ]
    },
    {
     "name": "stdout",
     "output_type": "stream",
     "text": [
      "{'activation': 'relu', 'batch_size': 32, 'dropout': 0.25, 'epochs': 1, 'first_neuron': 1024, 'hidden_layers': 4, 'label_type': 'Angular', 'loss_function': 'mean_squared_error', 'lr': 5, 'monitor_value': 'val_custom_mae', 'optimizer': <class 'tensorflow.python.keras.optimizer_v2.adam.Adam'>, 'reduction_metric': 'custom_mae', 'samples': 20000}\n",
      "Using Loss: mean_squared_error \n",
      "and Reduction Metric: [<function custom_mae at 0x0000026E06BB99D8>]\n",
      "Monitor: val_custom_mae\n",
      "Train on 16000 samples, validate on 4000 samples\n",
      "15680/16000 [============================>.] - ETA: 0s - loss: 5792.3451 - custom_mae: 54.5685\n",
      "Epoch 00001: val_custom_mae improved from inf to 42.87976, saving model to ..\\fast_output\\SYNTH_Regression_MSE\\201019_2253_final_Angular_Base_Custom-MAE\\Best_Weights_FC_194.hdf5\n",
      "16000/16000 [==============================] - 5s 305us/sample - loss: 5762.2573 - custom_mae: 54.4265 - val_loss: 3475.9737 - val_custom_mae: 42.8798\n",
      "Time taken: 0:00:06.378735\n"
     ]
    },
    {
     "name": "stderr",
     "output_type": "stream",
     "text": [
      "\r",
      " 54%|███████████████████████████████████████████▎                                    | 195/360 [33:44<22:22,  8.13s/it]"
     ]
    },
    {
     "name": "stdout",
     "output_type": "stream",
     "text": [
      "{'activation': 'relu', 'batch_size': 32, 'dropout': 0.25, 'epochs': 1, 'first_neuron': 2048, 'hidden_layers': 0, 'label_type': 'Angular', 'loss_function': 'mean_squared_error', 'lr': 1, 'monitor_value': 'val_custom_mae', 'optimizer': <class 'tensorflow.python.keras.optimizer_v2.adam.Adam'>, 'reduction_metric': 'custom_mae', 'samples': 20000}\n",
      "Using Loss: mean_squared_error \n",
      "and Reduction Metric: [<function custom_mae at 0x0000026E06BB99D8>]\n",
      "Monitor: val_custom_mae\n",
      "Train on 16000 samples, validate on 4000 samples\n",
      "15872/16000 [============================>.] - ETA: 0s - loss: 3770.1602 - custom_mae: 38.4901\n",
      "Epoch 00001: val_custom_mae improved from inf to 31.92171, saving model to ..\\fast_output\\SYNTH_Regression_MSE\\201019_2253_final_Angular_Base_Custom-MAE\\Best_Weights_FC_195.hdf5\n",
      "16000/16000 [==============================] - 7s 432us/sample - loss: 3761.9950 - custom_mae: 38.4239 - val_loss: 2897.0415 - val_custom_mae: 31.9217\n",
      "Time taken: 0:00:08.435659\n"
     ]
    },
    {
     "name": "stderr",
     "output_type": "stream",
     "text": [
      "\r",
      " 54%|███████████████████████████████████████████▌                                    | 196/360 [33:54<23:51,  8.73s/it]"
     ]
    },
    {
     "name": "stdout",
     "output_type": "stream",
     "text": [
      "{'activation': 'relu', 'batch_size': 32, 'dropout': 0.25, 'epochs': 1, 'first_neuron': 2048, 'hidden_layers': 0, 'label_type': 'Angular', 'loss_function': 'mean_squared_error', 'lr': 2, 'monitor_value': 'val_custom_mae', 'optimizer': <class 'tensorflow.python.keras.optimizer_v2.adam.Adam'>, 'reduction_metric': 'custom_mae', 'samples': 20000}\n",
      "Using Loss: mean_squared_error \n",
      "and Reduction Metric: [<function custom_mae at 0x0000026E06BB99D8>]\n",
      "Monitor: val_custom_mae\n",
      "Train on 16000 samples, validate on 4000 samples\n",
      "15936/16000 [============================>.] - ETA: 0s - loss: 3688.7746 - custom_mae: 38.0361\n",
      "Epoch 00001: val_custom_mae improved from inf to 31.51488, saving model to ..\\fast_output\\SYNTH_Regression_MSE\\201019_2253_final_Angular_Base_Custom-MAE\\Best_Weights_FC_196.hdf5\n",
      "16000/16000 [==============================] - 7s 428us/sample - loss: 3686.4445 - custom_mae: 38.0021 - val_loss: 2909.8204 - val_custom_mae: 31.5149\n",
      "Time taken: 0:00:08.356767\n"
     ]
    },
    {
     "name": "stderr",
     "output_type": "stream",
     "text": [
      "\r",
      " 55%|███████████████████████████████████████████▊                                    | 197/360 [34:04<24:46,  9.12s/it]"
     ]
    },
    {
     "name": "stdout",
     "output_type": "stream",
     "text": [
      "{'activation': 'relu', 'batch_size': 32, 'dropout': 0.25, 'epochs': 1, 'first_neuron': 2048, 'hidden_layers': 0, 'label_type': 'Angular', 'loss_function': 'mean_squared_error', 'lr': 5, 'monitor_value': 'val_custom_mae', 'optimizer': <class 'tensorflow.python.keras.optimizer_v2.adam.Adam'>, 'reduction_metric': 'custom_mae', 'samples': 20000}\n",
      "Using Loss: mean_squared_error \n",
      "and Reduction Metric: [<function custom_mae at 0x0000026E06BB99D8>]\n",
      "Monitor: val_custom_mae\n",
      "Train on 16000 samples, validate on 4000 samples\n",
      "15904/16000 [============================>.] - ETA: 0s - loss: 3851.9471 - custom_mae: 38.8864\n",
      "Epoch 00001: val_custom_mae improved from inf to 33.97689, saving model to ..\\fast_output\\SYNTH_Regression_MSE\\201019_2253_final_Angular_Base_Custom-MAE\\Best_Weights_FC_197.hdf5\n",
      "16000/16000 [==============================] - 7s 429us/sample - loss: 3846.7938 - custom_mae: 38.8419 - val_loss: 3150.6484 - val_custom_mae: 33.9769\n",
      "Time taken: 0:00:08.369308\n"
     ]
    },
    {
     "name": "stderr",
     "output_type": "stream",
     "text": [
      "\r",
      " 55%|████████████████████████████████████████████                                    | 198/360 [34:15<25:24,  9.41s/it]"
     ]
    },
    {
     "name": "stdout",
     "output_type": "stream",
     "text": [
      "{'activation': 'relu', 'batch_size': 32, 'dropout': 0.25, 'epochs': 1, 'first_neuron': 2048, 'hidden_layers': 1, 'label_type': 'Angular', 'loss_function': 'mean_squared_error', 'lr': 1, 'monitor_value': 'val_custom_mae', 'optimizer': <class 'tensorflow.python.keras.optimizer_v2.adam.Adam'>, 'reduction_metric': 'custom_mae', 'samples': 20000}\n",
      "Using Loss: mean_squared_error \n",
      "and Reduction Metric: [<function custom_mae at 0x0000026E06BB99D8>]\n",
      "Monitor: val_custom_mae\n",
      "Train on 16000 samples, validate on 4000 samples\n",
      "15904/16000 [============================>.] - ETA: 0s - loss: 3914.3054 - custom_mae: 40.5458\n",
      "Epoch 00001: val_custom_mae improved from inf to 31.93028, saving model to ..\\fast_output\\SYNTH_Regression_MSE\\201019_2253_final_Angular_Base_Custom-MAE\\Best_Weights_FC_198.hdf5\n",
      "16000/16000 [==============================] - 7s 444us/sample - loss: 3909.2783 - custom_mae: 40.4932 - val_loss: 2932.4972 - val_custom_mae: 31.9303\n",
      "Time taken: 0:00:08.586354\n"
     ]
    },
    {
     "name": "stderr",
     "output_type": "stream",
     "text": [
      "\r",
      " 55%|████████████████████████████████████████████▏                                   | 199/360 [34:25<25:57,  9.68s/it]"
     ]
    },
    {
     "name": "stdout",
     "output_type": "stream",
     "text": [
      "{'activation': 'relu', 'batch_size': 32, 'dropout': 0.25, 'epochs': 1, 'first_neuron': 2048, 'hidden_layers': 1, 'label_type': 'Angular', 'loss_function': 'mean_squared_error', 'lr': 2, 'monitor_value': 'val_custom_mae', 'optimizer': <class 'tensorflow.python.keras.optimizer_v2.adam.Adam'>, 'reduction_metric': 'custom_mae', 'samples': 20000}\n",
      "Using Loss: mean_squared_error \n",
      "and Reduction Metric: [<function custom_mae at 0x0000026E06BB99D8>]\n",
      "Monitor: val_custom_mae\n",
      "Train on 16000 samples, validate on 4000 samples\n",
      "15872/16000 [============================>.] - ETA: 0s - loss: 3864.2160 - custom_mae: 40.3784\n",
      "Epoch 00001: val_custom_mae improved from inf to 31.11496, saving model to ..\\fast_output\\SYNTH_Regression_MSE\\201019_2253_final_Angular_Base_Custom-MAE\\Best_Weights_FC_199.hdf5\n",
      "16000/16000 [==============================] - 7s 444us/sample - loss: 3854.5311 - custom_mae: 40.2951 - val_loss: 2716.3526 - val_custom_mae: 31.1150\n",
      "Time taken: 0:00:08.618686\n"
     ]
    },
    {
     "name": "stderr",
     "output_type": "stream",
     "text": [
      "\r",
      " 56%|████████████████████████████████████████████▍                                   | 200/360 [34:35<26:20,  9.88s/it]"
     ]
    },
    {
     "name": "stdout",
     "output_type": "stream",
     "text": [
      "{'activation': 'relu', 'batch_size': 32, 'dropout': 0.25, 'epochs': 1, 'first_neuron': 2048, 'hidden_layers': 1, 'label_type': 'Angular', 'loss_function': 'mean_squared_error', 'lr': 5, 'monitor_value': 'val_custom_mae', 'optimizer': <class 'tensorflow.python.keras.optimizer_v2.adam.Adam'>, 'reduction_metric': 'custom_mae', 'samples': 20000}\n",
      "Using Loss: mean_squared_error \n",
      "and Reduction Metric: [<function custom_mae at 0x0000026E06BB99D8>]\n",
      "Monitor: val_custom_mae\n",
      "Train on 16000 samples, validate on 4000 samples\n",
      "15968/16000 [============================>.] - ETA: 0s - loss: 5173.3775 - custom_mae: 44.7622\n",
      "Epoch 00001: val_custom_mae improved from inf to 36.07518, saving model to ..\\fast_output\\SYNTH_Regression_MSE\\201019_2253_final_Angular_Base_Custom-MAE\\Best_Weights_FC_200.hdf5\n",
      "16000/16000 [==============================] - 7s 450us/sample - loss: 5169.0223 - custom_mae: 44.7369 - val_loss: 3070.6642 - val_custom_mae: 36.0752\n",
      "Time taken: 0:00:08.704505\n"
     ]
    },
    {
     "name": "stderr",
     "output_type": "stream",
     "text": [
      "\r",
      " 56%|████████████████████████████████████████████▋                                   | 201/360 [34:46<26:36, 10.04s/it]"
     ]
    },
    {
     "name": "stdout",
     "output_type": "stream",
     "text": [
      "{'activation': 'relu', 'batch_size': 32, 'dropout': 0.25, 'epochs': 1, 'first_neuron': 2048, 'hidden_layers': 2, 'label_type': 'Angular', 'loss_function': 'mean_squared_error', 'lr': 1, 'monitor_value': 'val_custom_mae', 'optimizer': <class 'tensorflow.python.keras.optimizer_v2.adam.Adam'>, 'reduction_metric': 'custom_mae', 'samples': 20000}\n",
      "Using Loss: mean_squared_error \n",
      "and Reduction Metric: [<function custom_mae at 0x0000026E06BB99D8>]\n",
      "Monitor: val_custom_mae\n",
      "Train on 16000 samples, validate on 4000 samples\n",
      "15904/16000 [============================>.] - ETA: 0s - loss: 4228.3025 - custom_mae: 43.2194\n",
      "Epoch 00001: val_custom_mae improved from inf to 31.31029, saving model to ..\\fast_output\\SYNTH_Regression_MSE\\201019_2253_final_Angular_Base_Custom-MAE\\Best_Weights_FC_201.hdf5\n",
      "16000/16000 [==============================] - 7s 454us/sample - loss: 4221.9366 - custom_mae: 43.1606 - val_loss: 2751.3625 - val_custom_mae: 31.3103\n",
      "Time taken: 0:00:08.768451\n"
     ]
    },
    {
     "name": "stderr",
     "output_type": "stream",
     "text": [
      "\r",
      " 56%|████████████████████████████████████████████▉                                   | 202/360 [34:56<26:48, 10.18s/it]"
     ]
    },
    {
     "name": "stdout",
     "output_type": "stream",
     "text": [
      "{'activation': 'relu', 'batch_size': 32, 'dropout': 0.25, 'epochs': 1, 'first_neuron': 2048, 'hidden_layers': 2, 'label_type': 'Angular', 'loss_function': 'mean_squared_error', 'lr': 2, 'monitor_value': 'val_custom_mae', 'optimizer': <class 'tensorflow.python.keras.optimizer_v2.adam.Adam'>, 'reduction_metric': 'custom_mae', 'samples': 20000}\n",
      "Using Loss: mean_squared_error \n",
      "and Reduction Metric: [<function custom_mae at 0x0000026E06BB99D8>]\n",
      "Monitor: val_custom_mae\n",
      "Train on 16000 samples, validate on 4000 samples\n",
      "15840/16000 [============================>.] - ETA: 0s - loss: 4237.5868 - custom_mae: 43.9266\n",
      "Epoch 00001: val_custom_mae improved from inf to 31.02105, saving model to ..\\fast_output\\SYNTH_Regression_MSE\\201019_2253_final_Angular_Base_Custom-MAE\\Best_Weights_FC_202.hdf5\n",
      "16000/16000 [==============================] - 7s 457us/sample - loss: 4223.9453 - custom_mae: 43.8282 - val_loss: 2617.2286 - val_custom_mae: 31.0210\n",
      "Time taken: 0:00:08.813535\n"
     ]
    },
    {
     "name": "stderr",
     "output_type": "stream",
     "text": [
      "\r",
      " 56%|█████████████████████████████████████████████                                   | 203/360 [35:07<26:56, 10.29s/it]"
     ]
    },
    {
     "name": "stdout",
     "output_type": "stream",
     "text": [
      "{'activation': 'relu', 'batch_size': 32, 'dropout': 0.25, 'epochs': 1, 'first_neuron': 2048, 'hidden_layers': 2, 'label_type': 'Angular', 'loss_function': 'mean_squared_error', 'lr': 5, 'monitor_value': 'val_custom_mae', 'optimizer': <class 'tensorflow.python.keras.optimizer_v2.adam.Adam'>, 'reduction_metric': 'custom_mae', 'samples': 20000}\n",
      "Using Loss: mean_squared_error \n",
      "and Reduction Metric: [<function custom_mae at 0x0000026E06BB99D8>]\n",
      "Monitor: val_custom_mae\n",
      "Train on 16000 samples, validate on 4000 samples\n",
      "15872/16000 [============================>.] - ETA: 0s - loss: 6390.6424 - custom_mae: 49.4496\n",
      "Epoch 00001: val_custom_mae improved from inf to 36.44479, saving model to ..\\fast_output\\SYNTH_Regression_MSE\\201019_2253_final_Angular_Base_Custom-MAE\\Best_Weights_FC_203.hdf5\n",
      "16000/16000 [==============================] - 7s 454us/sample - loss: 6373.5974 - custom_mae: 49.3876 - val_loss: 3123.3043 - val_custom_mae: 36.4448\n",
      "Time taken: 0:00:08.763032\n"
     ]
    },
    {
     "name": "stderr",
     "output_type": "stream",
     "text": [
      "\r",
      " 57%|█████████████████████████████████████████████▎                                  | 204/360 [35:17<26:55, 10.36s/it]"
     ]
    },
    {
     "name": "stdout",
     "output_type": "stream",
     "text": [
      "{'activation': 'relu', 'batch_size': 32, 'dropout': 0.25, 'epochs': 1, 'first_neuron': 2048, 'hidden_layers': 3, 'label_type': 'Angular', 'loss_function': 'mean_squared_error', 'lr': 1, 'monitor_value': 'val_custom_mae', 'optimizer': <class 'tensorflow.python.keras.optimizer_v2.adam.Adam'>, 'reduction_metric': 'custom_mae', 'samples': 20000}\n",
      "Using Loss: mean_squared_error \n",
      "and Reduction Metric: [<function custom_mae at 0x0000026E06BB99D8>]\n",
      "Monitor: val_custom_mae\n",
      "Train on 16000 samples, validate on 4000 samples\n",
      "15968/16000 [============================>.] - ETA: 0s - loss: 4300.8185 - custom_mae: 44.4110\n",
      "Epoch 00001: val_custom_mae improved from inf to 31.24390, saving model to ..\\fast_output\\SYNTH_Regression_MSE\\201019_2253_final_Angular_Base_Custom-MAE\\Best_Weights_FC_204.hdf5\n",
      "16000/16000 [==============================] - 7s 468us/sample - loss: 4299.3760 - custom_mae: 44.3858 - val_loss: 2676.8132 - val_custom_mae: 31.2439\n",
      "Time taken: 0:00:08.993357\n"
     ]
    },
    {
     "name": "stderr",
     "output_type": "stream",
     "text": [
      "\r",
      " 57%|█████████████████████████████████████████████▌                                  | 205/360 [35:28<27:05, 10.48s/it]"
     ]
    },
    {
     "name": "stdout",
     "output_type": "stream",
     "text": [
      "{'activation': 'relu', 'batch_size': 32, 'dropout': 0.25, 'epochs': 1, 'first_neuron': 2048, 'hidden_layers': 3, 'label_type': 'Angular', 'loss_function': 'mean_squared_error', 'lr': 2, 'monitor_value': 'val_custom_mae', 'optimizer': <class 'tensorflow.python.keras.optimizer_v2.adam.Adam'>, 'reduction_metric': 'custom_mae', 'samples': 20000}\n",
      "Using Loss: mean_squared_error \n",
      "and Reduction Metric: [<function custom_mae at 0x0000026E06BB99D8>]\n",
      "Monitor: val_custom_mae\n",
      "Train on 16000 samples, validate on 4000 samples\n",
      "15840/16000 [============================>.] - ETA: 0s - loss: 5163.1445 - custom_mae: 50.1771\n",
      "Epoch 00001: val_custom_mae improved from inf to 33.94673, saving model to ..\\fast_output\\SYNTH_Regression_MSE\\201019_2253_final_Angular_Base_Custom-MAE\\Best_Weights_FC_205.hdf5\n",
      "16000/16000 [==============================] - 7s 463us/sample - loss: 5146.7867 - custom_mae: 50.0650 - val_loss: 2861.4017 - val_custom_mae: 33.9467\n",
      "Time taken: 0:00:08.913592\n"
     ]
    },
    {
     "name": "stderr",
     "output_type": "stream",
     "text": [
      "\r",
      " 57%|█████████████████████████████████████████████▊                                  | 206/360 [35:39<27:03, 10.54s/it]"
     ]
    },
    {
     "name": "stdout",
     "output_type": "stream",
     "text": [
      "{'activation': 'relu', 'batch_size': 32, 'dropout': 0.25, 'epochs': 1, 'first_neuron': 2048, 'hidden_layers': 3, 'label_type': 'Angular', 'loss_function': 'mean_squared_error', 'lr': 5, 'monitor_value': 'val_custom_mae', 'optimizer': <class 'tensorflow.python.keras.optimizer_v2.adam.Adam'>, 'reduction_metric': 'custom_mae', 'samples': 20000}\n",
      "Using Loss: mean_squared_error \n",
      "and Reduction Metric: [<function custom_mae at 0x0000026E06BB99D8>]\n",
      "Monitor: val_custom_mae\n",
      "Train on 16000 samples, validate on 4000 samples\n",
      "15808/16000 [============================>.] - ETA: 0s - loss: 6466.1236 - custom_mae: 52.8897\n",
      "Epoch 00001: val_custom_mae improved from inf to 37.38181, saving model to ..\\fast_output\\SYNTH_Regression_MSE\\201019_2253_final_Angular_Base_Custom-MAE\\Best_Weights_FC_206.hdf5\n",
      "16000/16000 [==============================] - 7s 460us/sample - loss: 6438.9473 - custom_mae: 52.7765 - val_loss: 3066.9665 - val_custom_mae: 37.3818\n",
      "Time taken: 0:00:08.870281\n"
     ]
    },
    {
     "name": "stderr",
     "output_type": "stream",
     "text": [
      "\r",
      " 57%|██████████████████████████████████████████████                                  | 207/360 [35:49<26:56, 10.56s/it]"
     ]
    },
    {
     "name": "stdout",
     "output_type": "stream",
     "text": [
      "{'activation': 'relu', 'batch_size': 32, 'dropout': 0.25, 'epochs': 1, 'first_neuron': 2048, 'hidden_layers': 4, 'label_type': 'Angular', 'loss_function': 'mean_squared_error', 'lr': 1, 'monitor_value': 'val_custom_mae', 'optimizer': <class 'tensorflow.python.keras.optimizer_v2.adam.Adam'>, 'reduction_metric': 'custom_mae', 'samples': 20000}\n",
      "Using Loss: mean_squared_error \n",
      "and Reduction Metric: [<function custom_mae at 0x0000026E06BB99D8>]\n",
      "Monitor: val_custom_mae\n",
      "Train on 16000 samples, validate on 4000 samples\n",
      "15968/16000 [============================>.] - ETA: 0s - loss: 4879.0307 - custom_mae: 49.2282\n",
      "Epoch 00001: val_custom_mae improved from inf to 35.49785, saving model to ..\\fast_output\\SYNTH_Regression_MSE\\201019_2253_final_Angular_Base_Custom-MAE\\Best_Weights_FC_207.hdf5\n",
      "16000/16000 [==============================] - 7s 467us/sample - loss: 4878.4185 - custom_mae: 49.2186 - val_loss: 2938.5852 - val_custom_mae: 35.4979\n",
      "Time taken: 0:00:08.977651\n"
     ]
    },
    {
     "name": "stderr",
     "output_type": "stream",
     "text": [
      "\r",
      " 58%|██████████████████████████████████████████████▏                                 | 208/360 [36:00<26:55, 10.63s/it]"
     ]
    },
    {
     "name": "stdout",
     "output_type": "stream",
     "text": [
      "{'activation': 'relu', 'batch_size': 32, 'dropout': 0.25, 'epochs': 1, 'first_neuron': 2048, 'hidden_layers': 4, 'label_type': 'Angular', 'loss_function': 'mean_squared_error', 'lr': 2, 'monitor_value': 'val_custom_mae', 'optimizer': <class 'tensorflow.python.keras.optimizer_v2.adam.Adam'>, 'reduction_metric': 'custom_mae', 'samples': 20000}\n",
      "Using Loss: mean_squared_error \n",
      "and Reduction Metric: [<function custom_mae at 0x0000026E06BB99D8>]\n",
      "Monitor: val_custom_mae\n",
      "Train on 16000 samples, validate on 4000 samples\n",
      "15776/16000 [============================>.] - ETA: 0s - loss: 5603.6466 - custom_mae: 53.5350\n",
      "Epoch 00001: val_custom_mae improved from inf to 45.02910, saving model to ..\\fast_output\\SYNTH_Regression_MSE\\201019_2253_final_Angular_Base_Custom-MAE\\Best_Weights_FC_208.hdf5\n",
      "16000/16000 [==============================] - 7s 467us/sample - loss: 5585.6285 - custom_mae: 53.4441 - val_loss: 3830.4731 - val_custom_mae: 45.0291\n",
      "Time taken: 0:00:08.969159\n"
     ]
    },
    {
     "name": "stderr",
     "output_type": "stream",
     "text": [
      "\r",
      " 58%|██████████████████████████████████████████████▍                                 | 209/360 [36:11<26:50, 10.66s/it]"
     ]
    },
    {
     "name": "stdout",
     "output_type": "stream",
     "text": [
      "{'activation': 'relu', 'batch_size': 32, 'dropout': 0.25, 'epochs': 1, 'first_neuron': 2048, 'hidden_layers': 4, 'label_type': 'Angular', 'loss_function': 'mean_squared_error', 'lr': 5, 'monitor_value': 'val_custom_mae', 'optimizer': <class 'tensorflow.python.keras.optimizer_v2.adam.Adam'>, 'reduction_metric': 'custom_mae', 'samples': 20000}\n",
      "Using Loss: mean_squared_error \n",
      "and Reduction Metric: [<function custom_mae at 0x0000026E06BB99D8>]\n",
      "Monitor: val_custom_mae\n",
      "Train on 16000 samples, validate on 4000 samples\n",
      "15808/16000 [============================>.] - ETA: 0s - loss: 7021.1600 - custom_mae: 55.7234\n",
      "Epoch 00001: val_custom_mae improved from inf to 56.55503, saving model to ..\\fast_output\\SYNTH_Regression_MSE\\201019_2253_final_Angular_Base_Custom-MAE\\Best_Weights_FC_209.hdf5\n",
      "16000/16000 [==============================] - 7s 468us/sample - loss: 6994.8173 - custom_mae: 55.6247 - val_loss: 5807.5007 - val_custom_mae: 56.5550\n",
      "Time taken: 0:00:09.005647\n"
     ]
    },
    {
     "name": "stderr",
     "output_type": "stream",
     "text": [
      "\r",
      " 58%|██████████████████████████████████████████████▋                                 | 210/360 [36:22<26:44, 10.70s/it]"
     ]
    },
    {
     "name": "stdout",
     "output_type": "stream",
     "text": [
      "{'activation': 'relu', 'batch_size': 32, 'dropout': 0.25, 'epochs': 1, 'first_neuron': 4096, 'hidden_layers': 0, 'label_type': 'Angular', 'loss_function': 'mean_squared_error', 'lr': 1, 'monitor_value': 'val_custom_mae', 'optimizer': <class 'tensorflow.python.keras.optimizer_v2.adam.Adam'>, 'reduction_metric': 'custom_mae', 'samples': 20000}\n",
      "Using Loss: mean_squared_error \n",
      "and Reduction Metric: [<function custom_mae at 0x0000026E06BB99D8>]\n",
      "Monitor: val_custom_mae\n",
      "Train on 16000 samples, validate on 4000 samples\n",
      "15936/16000 [============================>.] - ETA: 0s - loss: 3704.1151 - custom_mae: 37.8667 ETA: 1s - los\n",
      "Epoch 00001: val_custom_mae improved from inf to 33.23935, saving model to ..\\fast_output\\SYNTH_Regression_MSE\\201019_2253_final_Angular_Base_Custom-MAE\\Best_Weights_FC_210.hdf5\n",
      "16000/16000 [==============================] - 12s 746us/sample - loss: 3701.7163 - custom_mae: 37.8386 - val_loss: 3142.8251 - val_custom_mae: 33.2394\n",
      "Time taken: 0:00:13.446047\n"
     ]
    },
    {
     "name": "stderr",
     "output_type": "stream",
     "text": [
      "\r",
      " 59%|██████████████████████████████████████████████▉                                 | 211/360 [36:37<29:52, 12.03s/it]"
     ]
    },
    {
     "name": "stdout",
     "output_type": "stream",
     "text": [
      "{'activation': 'relu', 'batch_size': 32, 'dropout': 0.25, 'epochs': 1, 'first_neuron': 4096, 'hidden_layers': 0, 'label_type': 'Angular', 'loss_function': 'mean_squared_error', 'lr': 2, 'monitor_value': 'val_custom_mae', 'optimizer': <class 'tensorflow.python.keras.optimizer_v2.adam.Adam'>, 'reduction_metric': 'custom_mae', 'samples': 20000}\n",
      "Using Loss: mean_squared_error \n",
      "and Reduction Metric: [<function custom_mae at 0x0000026E06BB99D8>]\n",
      "Monitor: val_custom_mae\n",
      "Train on 16000 samples, validate on 4000 samples\n",
      "15968/16000 [============================>.] - ETA: 0s - loss: 3673.6385 - custom_mae: 37.5186\n",
      "Epoch 00001: val_custom_mae improved from inf to 33.39499, saving model to ..\\fast_output\\SYNTH_Regression_MSE\\201019_2253_final_Angular_Base_Custom-MAE\\Best_Weights_FC_211.hdf5\n",
      "16000/16000 [==============================] - 12s 739us/sample - loss: 3673.7605 - custom_mae: 37.5094 - val_loss: 3062.3424 - val_custom_mae: 33.3950\n",
      "Time taken: 0:00:13.335054\n"
     ]
    },
    {
     "name": "stderr",
     "output_type": "stream",
     "text": [
      "\r",
      " 59%|███████████████████████████████████████████████                                 | 212/360 [36:52<31:53, 12.93s/it]"
     ]
    },
    {
     "name": "stdout",
     "output_type": "stream",
     "text": [
      "{'activation': 'relu', 'batch_size': 32, 'dropout': 0.25, 'epochs': 1, 'first_neuron': 4096, 'hidden_layers': 0, 'label_type': 'Angular', 'loss_function': 'mean_squared_error', 'lr': 5, 'monitor_value': 'val_custom_mae', 'optimizer': <class 'tensorflow.python.keras.optimizer_v2.adam.Adam'>, 'reduction_metric': 'custom_mae', 'samples': 20000}\n",
      "Using Loss: mean_squared_error \n",
      "and Reduction Metric: [<function custom_mae at 0x0000026E06BB99D8>]\n",
      "Monitor: val_custom_mae\n",
      "Train on 16000 samples, validate on 4000 samples\n",
      "15840/16000 [============================>.] - ETA: 0s - loss: 4102.5187 - custom_mae: 39.6441\n",
      "Epoch 00001: val_custom_mae improved from inf to 31.10406, saving model to ..\\fast_output\\SYNTH_Regression_MSE\\201019_2253_final_Angular_Base_Custom-MAE\\Best_Weights_FC_212.hdf5\n",
      "16000/16000 [==============================] - 12s 742us/sample - loss: 4089.6972 - custom_mae: 39.5678 - val_loss: 2773.6604 - val_custom_mae: 31.1041\n",
      "Time taken: 0:00:13.380757\n"
     ]
    },
    {
     "name": "stderr",
     "output_type": "stream",
     "text": [
      "\r",
      " 59%|███████████████████████████████████████████████▎                                | 213/360 [37:07<33:16, 13.58s/it]"
     ]
    },
    {
     "name": "stdout",
     "output_type": "stream",
     "text": [
      "{'activation': 'relu', 'batch_size': 32, 'dropout': 0.25, 'epochs': 1, 'first_neuron': 4096, 'hidden_layers': 1, 'label_type': 'Angular', 'loss_function': 'mean_squared_error', 'lr': 1, 'monitor_value': 'val_custom_mae', 'optimizer': <class 'tensorflow.python.keras.optimizer_v2.adam.Adam'>, 'reduction_metric': 'custom_mae', 'samples': 20000}\n",
      "Using Loss: mean_squared_error \n",
      "and Reduction Metric: [<function custom_mae at 0x0000026E06BB99D8>]\n",
      "Monitor: val_custom_mae\n",
      "Train on 16000 samples, validate on 4000 samples\n",
      "15904/16000 [============================>.] - ETA: 0s - loss: 3816.5767 - custom_mae: 39.6612\n",
      "Epoch 00001: val_custom_mae improved from inf to 31.76995, saving model to ..\\fast_output\\SYNTH_Regression_MSE\\201019_2253_final_Angular_Base_Custom-MAE\\Best_Weights_FC_213.hdf5\n",
      "16000/16000 [==============================] - 13s 793us/sample - loss: 3811.6605 - custom_mae: 39.6108 - val_loss: 2897.6120 - val_custom_mae: 31.7699\n",
      "Time taken: 0:00:14.203887\n"
     ]
    },
    {
     "name": "stderr",
     "output_type": "stream",
     "text": [
      "\r",
      " 59%|███████████████████████████████████████████████▌                                | 214/360 [37:23<34:45, 14.28s/it]"
     ]
    },
    {
     "name": "stdout",
     "output_type": "stream",
     "text": [
      "{'activation': 'relu', 'batch_size': 32, 'dropout': 0.25, 'epochs': 1, 'first_neuron': 4096, 'hidden_layers': 1, 'label_type': 'Angular', 'loss_function': 'mean_squared_error', 'lr': 2, 'monitor_value': 'val_custom_mae', 'optimizer': <class 'tensorflow.python.keras.optimizer_v2.adam.Adam'>, 'reduction_metric': 'custom_mae', 'samples': 20000}\n",
      "Using Loss: mean_squared_error \n",
      "and Reduction Metric: [<function custom_mae at 0x0000026E06BB99D8>]\n",
      "Monitor: val_custom_mae\n",
      "Train on 16000 samples, validate on 4000 samples\n",
      "15904/16000 [============================>.] - ETA: 0s - loss: 4206.6549 - custom_mae: 41.4918\n",
      "Epoch 00001: val_custom_mae improved from inf to 30.09196, saving model to ..\\fast_output\\SYNTH_Regression_MSE\\201019_2253_final_Angular_Base_Custom-MAE\\Best_Weights_FC_214.hdf5\n",
      "16000/16000 [==============================] - 13s 791us/sample - loss: 4201.7499 - custom_mae: 41.4458 - val_loss: 2649.4116 - val_custom_mae: 30.0920\n",
      "Time taken: 0:00:14.155775\n"
     ]
    },
    {
     "name": "stderr",
     "output_type": "stream",
     "text": [
      "\r",
      " 60%|███████████████████████████████████████████████▊                                | 215/360 [37:39<35:41, 14.77s/it]"
     ]
    },
    {
     "name": "stdout",
     "output_type": "stream",
     "text": [
      "{'activation': 'relu', 'batch_size': 32, 'dropout': 0.25, 'epochs': 1, 'first_neuron': 4096, 'hidden_layers': 1, 'label_type': 'Angular', 'loss_function': 'mean_squared_error', 'lr': 5, 'monitor_value': 'val_custom_mae', 'optimizer': <class 'tensorflow.python.keras.optimizer_v2.adam.Adam'>, 'reduction_metric': 'custom_mae', 'samples': 20000}\n",
      "Using Loss: mean_squared_error \n",
      "and Reduction Metric: [<function custom_mae at 0x0000026E06BB99D8>]\n",
      "Monitor: val_custom_mae\n",
      "Train on 16000 samples, validate on 4000 samples\n",
      "15968/16000 [============================>.] - ETA: 0s - loss: 11387.7662 - custom_mae: 46.1015\n",
      "Epoch 00001: val_custom_mae improved from inf to 32.30275, saving model to ..\\fast_output\\SYNTH_Regression_MSE\\201019_2253_final_Angular_Base_Custom-MAE\\Best_Weights_FC_215.hdf5\n",
      "16000/16000 [==============================] - 13s 798us/sample - loss: 11374.5725 - custom_mae: 46.0945 - val_loss: 2946.6757 - val_custom_mae: 32.3027\n",
      "Time taken: 0:00:14.264081\n"
     ]
    },
    {
     "name": "stderr",
     "output_type": "stream",
     "text": [
      "\r",
      " 60%|████████████████████████████████████████████████                                | 216/360 [37:55<36:19, 15.14s/it]"
     ]
    },
    {
     "name": "stdout",
     "output_type": "stream",
     "text": [
      "{'activation': 'relu', 'batch_size': 32, 'dropout': 0.25, 'epochs': 1, 'first_neuron': 4096, 'hidden_layers': 2, 'label_type': 'Angular', 'loss_function': 'mean_squared_error', 'lr': 1, 'monitor_value': 'val_custom_mae', 'optimizer': <class 'tensorflow.python.keras.optimizer_v2.adam.Adam'>, 'reduction_metric': 'custom_mae', 'samples': 20000}\n",
      "Using Loss: mean_squared_error \n",
      "and Reduction Metric: [<function custom_mae at 0x0000026E06BB99D8>]\n",
      "Monitor: val_custom_mae\n",
      "Train on 16000 samples, validate on 4000 samples\n",
      "15904/16000 [============================>.] - ETA: 0s - loss: 4091.2787 - custom_mae: 42.5882\n",
      "Epoch 00001: val_custom_mae improved from inf to 30.49772, saving model to ..\\fast_output\\SYNTH_Regression_MSE\\201019_2253_final_Angular_Base_Custom-MAE\\Best_Weights_FC_216.hdf5\n",
      "16000/16000 [==============================] - 13s 812us/sample - loss: 4084.3206 - custom_mae: 42.5215 - val_loss: 2696.5386 - val_custom_mae: 30.4977\n",
      "Time taken: 0:00:14.499589\n"
     ]
    },
    {
     "name": "stderr",
     "output_type": "stream",
     "text": [
      "\r",
      " 60%|████████████████████████████████████████████████▏                               | 217/360 [38:11<36:51, 15.47s/it]"
     ]
    },
    {
     "name": "stdout",
     "output_type": "stream",
     "text": [
      "{'activation': 'relu', 'batch_size': 32, 'dropout': 0.25, 'epochs': 1, 'first_neuron': 4096, 'hidden_layers': 2, 'label_type': 'Angular', 'loss_function': 'mean_squared_error', 'lr': 2, 'monitor_value': 'val_custom_mae', 'optimizer': <class 'tensorflow.python.keras.optimizer_v2.adam.Adam'>, 'reduction_metric': 'custom_mae', 'samples': 20000}\n",
      "Using Loss: mean_squared_error \n",
      "and Reduction Metric: [<function custom_mae at 0x0000026E06BB99D8>]\n",
      "Monitor: val_custom_mae\n",
      "Train on 16000 samples, validate on 4000 samples\n",
      "15872/16000 [============================>.] - ETA: 0s - loss: 4602.4560 - custom_mae: 44.3523\n",
      "Epoch 00001: val_custom_mae improved from inf to 31.94492, saving model to ..\\fast_output\\SYNTH_Regression_MSE\\201019_2253_final_Angular_Base_Custom-MAE\\Best_Weights_FC_217.hdf5\n",
      "16000/16000 [==============================] - 13s 818us/sample - loss: 4592.2861 - custom_mae: 44.2732 - val_loss: 2817.4822 - val_custom_mae: 31.9449\n",
      "Time taken: 0:00:14.601193\n"
     ]
    },
    {
     "name": "stderr",
     "output_type": "stream",
     "text": [
      "\r",
      " 61%|████████████████████████████████████████████████▍                               | 218/360 [38:27<37:14, 15.73s/it]"
     ]
    },
    {
     "name": "stdout",
     "output_type": "stream",
     "text": [
      "{'activation': 'relu', 'batch_size': 32, 'dropout': 0.25, 'epochs': 1, 'first_neuron': 4096, 'hidden_layers': 2, 'label_type': 'Angular', 'loss_function': 'mean_squared_error', 'lr': 5, 'monitor_value': 'val_custom_mae', 'optimizer': <class 'tensorflow.python.keras.optimizer_v2.adam.Adam'>, 'reduction_metric': 'custom_mae', 'samples': 20000}\n",
      "Using Loss: mean_squared_error \n",
      "and Reduction Metric: [<function custom_mae at 0x0000026E06BB99D8>]\n",
      "Monitor: val_custom_mae\n",
      "Train on 16000 samples, validate on 4000 samples\n",
      "15904/16000 [============================>.] - ETA: 0s - loss: 54233.9210 - custom_mae: 56.0502\n",
      "Epoch 00001: val_custom_mae improved from inf to 35.22406, saving model to ..\\fast_output\\SYNTH_Regression_MSE\\201019_2253_final_Angular_Base_Custom-MAE\\Best_Weights_FC_218.hdf5\n",
      "16000/16000 [==============================] - 13s 812us/sample - loss: 53933.8114 - custom_mae: 55.9686 - val_loss: 3059.7971 - val_custom_mae: 35.2241\n",
      "Time taken: 0:00:14.504563\n"
     ]
    },
    {
     "name": "stderr",
     "output_type": "stream",
     "text": [
      "\r",
      " 61%|████████████████████████████████████████████████▋                               | 219/360 [38:43<37:20, 15.89s/it]"
     ]
    },
    {
     "name": "stdout",
     "output_type": "stream",
     "text": [
      "{'activation': 'relu', 'batch_size': 32, 'dropout': 0.25, 'epochs': 1, 'first_neuron': 4096, 'hidden_layers': 3, 'label_type': 'Angular', 'loss_function': 'mean_squared_error', 'lr': 1, 'monitor_value': 'val_custom_mae', 'optimizer': <class 'tensorflow.python.keras.optimizer_v2.adam.Adam'>, 'reduction_metric': 'custom_mae', 'samples': 20000}\n",
      "Using Loss: mean_squared_error \n",
      "and Reduction Metric: [<function custom_mae at 0x0000026E06BB99D8>]\n",
      "Monitor: val_custom_mae\n",
      "Train on 16000 samples, validate on 4000 samples\n",
      "15872/16000 [============================>.] - ETA: 0s - loss: 4453.4595 - custom_mae: 44.8764\n",
      "Epoch 00001: val_custom_mae improved from inf to 33.12175, saving model to ..\\fast_output\\SYNTH_Regression_MSE\\201019_2253_final_Angular_Base_Custom-MAE\\Best_Weights_FC_219.hdf5\n",
      "16000/16000 [==============================] - 13s 814us/sample - loss: 4440.2559 - custom_mae: 44.7746 - val_loss: 2901.2774 - val_custom_mae: 33.1217\n",
      "Time taken: 0:00:14.548135\n"
     ]
    },
    {
     "name": "stderr",
     "output_type": "stream",
     "text": [
      "\r",
      " 61%|████████████████████████████████████████████████▉                               | 220/360 [39:00<37:22, 16.02s/it]"
     ]
    },
    {
     "name": "stdout",
     "output_type": "stream",
     "text": [
      "{'activation': 'relu', 'batch_size': 32, 'dropout': 0.25, 'epochs': 1, 'first_neuron': 4096, 'hidden_layers': 3, 'label_type': 'Angular', 'loss_function': 'mean_squared_error', 'lr': 2, 'monitor_value': 'val_custom_mae', 'optimizer': <class 'tensorflow.python.keras.optimizer_v2.adam.Adam'>, 'reduction_metric': 'custom_mae', 'samples': 20000}\n",
      "Using Loss: mean_squared_error \n",
      "and Reduction Metric: [<function custom_mae at 0x0000026E06BB99D8>]\n",
      "Monitor: val_custom_mae\n",
      "Train on 16000 samples, validate on 4000 samples\n",
      "15872/16000 [============================>.] - ETA: 0s - loss: 4862.6165 - custom_mae: 49.2087\n",
      "Epoch 00001: val_custom_mae improved from inf to 36.84260, saving model to ..\\fast_output\\SYNTH_Regression_MSE\\201019_2253_final_Angular_Base_Custom-MAE\\Best_Weights_FC_220.hdf5\n",
      "16000/16000 [==============================] - 13s 815us/sample - loss: 4863.8603 - custom_mae: 49.1714 - val_loss: 3190.5223 - val_custom_mae: 36.8426\n",
      "Time taken: 0:00:14.537874\n"
     ]
    },
    {
     "name": "stderr",
     "output_type": "stream",
     "text": [
      "\r",
      " 61%|█████████████████████████████████████████████████                               | 221/360 [39:16<37:19, 16.11s/it]"
     ]
    },
    {
     "name": "stdout",
     "output_type": "stream",
     "text": [
      "{'activation': 'relu', 'batch_size': 32, 'dropout': 0.25, 'epochs': 1, 'first_neuron': 4096, 'hidden_layers': 3, 'label_type': 'Angular', 'loss_function': 'mean_squared_error', 'lr': 5, 'monitor_value': 'val_custom_mae', 'optimizer': <class 'tensorflow.python.keras.optimizer_v2.adam.Adam'>, 'reduction_metric': 'custom_mae', 'samples': 20000}\n",
      "Using Loss: mean_squared_error \n",
      "and Reduction Metric: [<function custom_mae at 0x0000026E06BB99D8>]\n",
      "Monitor: val_custom_mae\n",
      "Train on 16000 samples, validate on 4000 samples\n",
      "15904/16000 [============================>.] - ETA: 0s - loss: 62303.2981 - custom_mae: 58.7600\n",
      "Epoch 00001: val_custom_mae improved from inf to 37.18357, saving model to ..\\fast_output\\SYNTH_Regression_MSE\\201019_2253_final_Angular_Base_Custom-MAE\\Best_Weights_FC_221.hdf5\n",
      "16000/16000 [==============================] - 13s 817us/sample - loss: 61956.5727 - custom_mae: 58.6715 - val_loss: 3387.0905 - val_custom_mae: 37.1836\n",
      "Time taken: 0:00:14.601552\n"
     ]
    },
    {
     "name": "stderr",
     "output_type": "stream",
     "text": [
      "\r",
      " 62%|█████████████████████████████████████████████████▎                              | 222/360 [39:33<37:15, 16.20s/it]"
     ]
    },
    {
     "name": "stdout",
     "output_type": "stream",
     "text": [
      "{'activation': 'relu', 'batch_size': 32, 'dropout': 0.25, 'epochs': 1, 'first_neuron': 4096, 'hidden_layers': 4, 'label_type': 'Angular', 'loss_function': 'mean_squared_error', 'lr': 1, 'monitor_value': 'val_custom_mae', 'optimizer': <class 'tensorflow.python.keras.optimizer_v2.adam.Adam'>, 'reduction_metric': 'custom_mae', 'samples': 20000}\n",
      "Using Loss: mean_squared_error \n",
      "and Reduction Metric: [<function custom_mae at 0x0000026E06BB99D8>]\n",
      "Monitor: val_custom_mae\n",
      "Train on 16000 samples, validate on 4000 samples\n",
      "15872/16000 [============================>.] - ETA: 0s - loss: 4654.2198 - custom_mae: 48.4678\n",
      "Epoch 00001: val_custom_mae improved from inf to 37.90518, saving model to ..\\fast_output\\SYNTH_Regression_MSE\\201019_2253_final_Angular_Base_Custom-MAE\\Best_Weights_FC_222.hdf5\n",
      "16000/16000 [==============================] - 13s 822us/sample - loss: 4641.5191 - custom_mae: 48.3630 - val_loss: 3048.6531 - val_custom_mae: 37.9052\n",
      "Time taken: 0:00:14.664260\n"
     ]
    },
    {
     "name": "stderr",
     "output_type": "stream",
     "text": [
      "\r",
      " 62%|█████████████████████████████████████████████████▌                              | 223/360 [39:49<37:09, 16.28s/it]"
     ]
    },
    {
     "name": "stdout",
     "output_type": "stream",
     "text": [
      "{'activation': 'relu', 'batch_size': 32, 'dropout': 0.25, 'epochs': 1, 'first_neuron': 4096, 'hidden_layers': 4, 'label_type': 'Angular', 'loss_function': 'mean_squared_error', 'lr': 2, 'monitor_value': 'val_custom_mae', 'optimizer': <class 'tensorflow.python.keras.optimizer_v2.adam.Adam'>, 'reduction_metric': 'custom_mae', 'samples': 20000}\n",
      "Using Loss: mean_squared_error \n",
      "and Reduction Metric: [<function custom_mae at 0x0000026E06BB99D8>]\n",
      "Monitor: val_custom_mae\n",
      "Train on 16000 samples, validate on 4000 samples\n",
      "15904/16000 [============================>.] - ETA: 0s - loss: 5221.3773 - custom_mae: 52.1076\n",
      "Epoch 00001: val_custom_mae improved from inf to 42.57183, saving model to ..\\fast_output\\SYNTH_Regression_MSE\\201019_2253_final_Angular_Base_Custom-MAE\\Best_Weights_FC_223.hdf5\n",
      "16000/16000 [==============================] - 13s 820us/sample - loss: 5218.3065 - custom_mae: 52.0746 - val_loss: 3516.5051 - val_custom_mae: 42.5718\n",
      "Time taken: 0:00:14.618410\n"
     ]
    },
    {
     "name": "stderr",
     "output_type": "stream",
     "text": [
      "\r",
      " 62%|█████████████████████████████████████████████████▊                              | 224/360 [40:05<36:59, 16.32s/it]"
     ]
    },
    {
     "name": "stdout",
     "output_type": "stream",
     "text": [
      "{'activation': 'relu', 'batch_size': 32, 'dropout': 0.25, 'epochs': 1, 'first_neuron': 4096, 'hidden_layers': 4, 'label_type': 'Angular', 'loss_function': 'mean_squared_error', 'lr': 5, 'monitor_value': 'val_custom_mae', 'optimizer': <class 'tensorflow.python.keras.optimizer_v2.adam.Adam'>, 'reduction_metric': 'custom_mae', 'samples': 20000}\n",
      "Using Loss: mean_squared_error \n",
      "and Reduction Metric: [<function custom_mae at 0x0000026E06BB99D8>]\n",
      "Monitor: val_custom_mae\n",
      "Train on 16000 samples, validate on 4000 samples\n",
      "15904/16000 [============================>.] - ETA: 0s - loss: 37812.7580 - custom_mae: 61.3554\n",
      "Epoch 00001: val_custom_mae improved from inf to 43.25428, saving model to ..\\fast_output\\SYNTH_Regression_MSE\\201019_2253_final_Angular_Base_Custom-MAE\\Best_Weights_FC_224.hdf5\n",
      "16000/16000 [==============================] - 13s 817us/sample - loss: 37611.8985 - custom_mae: 61.2650 - val_loss: 3557.6900 - val_custom_mae: 43.2543\n",
      "Time taken: 0:00:14.598054\n"
     ]
    },
    {
     "name": "stderr",
     "output_type": "stream",
     "text": [
      "\r",
      " 62%|██████████████████████████████████████████████████                              | 225/360 [40:22<36:47, 16.35s/it]"
     ]
    },
    {
     "name": "stdout",
     "output_type": "stream",
     "text": [
      "{'activation': 'relu', 'batch_size': 32, 'dropout': 0.5, 'epochs': 1, 'first_neuron': 1024, 'hidden_layers': 0, 'label_type': 'Angular', 'loss_function': 'mean_squared_error', 'lr': 1, 'monitor_value': 'val_custom_mae', 'optimizer': <class 'tensorflow.python.keras.optimizer_v2.adam.Adam'>, 'reduction_metric': 'custom_mae', 'samples': 20000}\n",
      "Using Loss: mean_squared_error \n",
      "and Reduction Metric: [<function custom_mae at 0x0000026E06BB99D8>]\n",
      "Monitor: val_custom_mae\n",
      "Train on 16000 samples, validate on 4000 samples\n",
      "15904/16000 [============================>.] - ETA: 0s - loss: 4288.6455 - custom_mae: 43.2244\n",
      "Epoch 00001: val_custom_mae improved from inf to 34.66386, saving model to ..\\fast_output\\SYNTH_Regression_MSE\\201019_2253_final_Angular_Base_Custom-MAE\\Best_Weights_FC_225.hdf5\n",
      "16000/16000 [==============================] - 4s 270us/sample - loss: 4282.3374 - custom_mae: 43.1695 - val_loss: 3240.9201 - val_custom_mae: 34.6639\n",
      "Time taken: 0:00:05.833792\n"
     ]
    },
    {
     "name": "stderr",
     "output_type": "stream",
     "text": [
      "\r",
      " 63%|██████████████████████████████████████████████████▏                             | 226/360 [40:29<30:36, 13.71s/it]"
     ]
    },
    {
     "name": "stdout",
     "output_type": "stream",
     "text": [
      "{'activation': 'relu', 'batch_size': 32, 'dropout': 0.5, 'epochs': 1, 'first_neuron': 1024, 'hidden_layers': 0, 'label_type': 'Angular', 'loss_function': 'mean_squared_error', 'lr': 2, 'monitor_value': 'val_custom_mae', 'optimizer': <class 'tensorflow.python.keras.optimizer_v2.adam.Adam'>, 'reduction_metric': 'custom_mae', 'samples': 20000}\n",
      "Using Loss: mean_squared_error \n",
      "and Reduction Metric: [<function custom_mae at 0x0000026E06BB99D8>]\n",
      "Monitor: val_custom_mae\n",
      "Train on 16000 samples, validate on 4000 samples\n",
      "15840/16000 [============================>.] - ETA: 0s - loss: 4061.4330 - custom_mae: 41.5524\n",
      "Epoch 00001: val_custom_mae improved from inf to 33.16618, saving model to ..\\fast_output\\SYNTH_Regression_MSE\\201019_2253_final_Angular_Base_Custom-MAE\\Best_Weights_FC_226.hdf5\n",
      "16000/16000 [==============================] - 4s 272us/sample - loss: 4050.7676 - custom_mae: 41.4620 - val_loss: 2981.1342 - val_custom_mae: 33.1662\n",
      "Time taken: 0:00:05.860616\n"
     ]
    },
    {
     "name": "stderr",
     "output_type": "stream",
     "text": [
      "\r",
      " 63%|██████████████████████████████████████████████████▍                             | 227/360 [40:37<26:16, 11.86s/it]"
     ]
    },
    {
     "name": "stdout",
     "output_type": "stream",
     "text": [
      "{'activation': 'relu', 'batch_size': 32, 'dropout': 0.5, 'epochs': 1, 'first_neuron': 1024, 'hidden_layers': 0, 'label_type': 'Angular', 'loss_function': 'mean_squared_error', 'lr': 5, 'monitor_value': 'val_custom_mae', 'optimizer': <class 'tensorflow.python.keras.optimizer_v2.adam.Adam'>, 'reduction_metric': 'custom_mae', 'samples': 20000}\n",
      "Using Loss: mean_squared_error \n",
      "and Reduction Metric: [<function custom_mae at 0x0000026E06BB99D8>]\n",
      "Monitor: val_custom_mae\n",
      "Train on 16000 samples, validate on 4000 samples\n",
      "15968/16000 [============================>.] - ETA: 0s - loss: 4212.9813 - custom_mae: 42.8263\n",
      "Epoch 00001: val_custom_mae improved from inf to 35.33703, saving model to ..\\fast_output\\SYNTH_Regression_MSE\\201019_2253_final_Angular_Base_Custom-MAE\\Best_Weights_FC_227.hdf5\n",
      "16000/16000 [==============================] - 4s 274us/sample - loss: 4212.4962 - custom_mae: 42.8136 - val_loss: 3067.0386 - val_custom_mae: 35.3370\n",
      "Time taken: 0:00:05.895957\n"
     ]
    },
    {
     "name": "stderr",
     "output_type": "stream",
     "text": [
      "\r",
      " 63%|██████████████████████████████████████████████████▋                             | 228/360 [40:44<23:16, 10.58s/it]"
     ]
    },
    {
     "name": "stdout",
     "output_type": "stream",
     "text": [
      "{'activation': 'relu', 'batch_size': 32, 'dropout': 0.5, 'epochs': 1, 'first_neuron': 1024, 'hidden_layers': 1, 'label_type': 'Angular', 'loss_function': 'mean_squared_error', 'lr': 1, 'monitor_value': 'val_custom_mae', 'optimizer': <class 'tensorflow.python.keras.optimizer_v2.adam.Adam'>, 'reduction_metric': 'custom_mae', 'samples': 20000}\n",
      "Using Loss: mean_squared_error \n",
      "and Reduction Metric: [<function custom_mae at 0x0000026E06BB99D8>]\n",
      "Monitor: val_custom_mae\n",
      "Train on 16000 samples, validate on 4000 samples\n",
      "15936/16000 [============================>.] - ETA: 0s - loss: 4552.4834 - custom_mae: 45.8057\n",
      "Epoch 00001: val_custom_mae improved from inf to 35.84253, saving model to ..\\fast_output\\SYNTH_Regression_MSE\\201019_2253_final_Angular_Base_Custom-MAE\\Best_Weights_FC_228.hdf5\n",
      "16000/16000 [==============================] - 5s 283us/sample - loss: 4552.0053 - custom_mae: 45.7867 - val_loss: 3296.3933 - val_custom_mae: 35.8425\n",
      "Time taken: 0:00:06.029984\n"
     ]
    },
    {
     "name": "stderr",
     "output_type": "stream",
     "text": [
      "\r",
      " 64%|██████████████████████████████████████████████████▉                             | 229/360 [40:52<21:13,  9.72s/it]"
     ]
    },
    {
     "name": "stdout",
     "output_type": "stream",
     "text": [
      "{'activation': 'relu', 'batch_size': 32, 'dropout': 0.5, 'epochs': 1, 'first_neuron': 1024, 'hidden_layers': 1, 'label_type': 'Angular', 'loss_function': 'mean_squared_error', 'lr': 2, 'monitor_value': 'val_custom_mae', 'optimizer': <class 'tensorflow.python.keras.optimizer_v2.adam.Adam'>, 'reduction_metric': 'custom_mae', 'samples': 20000}\n",
      "Using Loss: mean_squared_error \n",
      "and Reduction Metric: [<function custom_mae at 0x0000026E06BB99D8>]\n",
      "Monitor: val_custom_mae\n",
      "Train on 16000 samples, validate on 4000 samples\n",
      "15712/16000 [============================>.] - ETA: 0s - loss: 4731.7779 - custom_mae: 47.0496\n",
      "Epoch 00001: val_custom_mae improved from inf to 35.04515, saving model to ..\\fast_output\\SYNTH_Regression_MSE\\201019_2253_final_Angular_Base_Custom-MAE\\Best_Weights_FC_229.hdf5\n",
      "16000/16000 [==============================] - 4s 281us/sample - loss: 4711.8058 - custom_mae: 46.9204 - val_loss: 3112.5617 - val_custom_mae: 35.0452\n",
      "Time taken: 0:00:06.005043\n"
     ]
    },
    {
     "name": "stderr",
     "output_type": "stream",
     "text": [
      "\r",
      " 64%|███████████████████████████████████████████████████                             | 230/360 [41:00<19:45,  9.12s/it]"
     ]
    },
    {
     "name": "stdout",
     "output_type": "stream",
     "text": [
      "{'activation': 'relu', 'batch_size': 32, 'dropout': 0.5, 'epochs': 1, 'first_neuron': 1024, 'hidden_layers': 1, 'label_type': 'Angular', 'loss_function': 'mean_squared_error', 'lr': 5, 'monitor_value': 'val_custom_mae', 'optimizer': <class 'tensorflow.python.keras.optimizer_v2.adam.Adam'>, 'reduction_metric': 'custom_mae', 'samples': 20000}\n",
      "Using Loss: mean_squared_error \n",
      "and Reduction Metric: [<function custom_mae at 0x0000026E06BB99D8>]\n",
      "Monitor: val_custom_mae\n",
      "Train on 16000 samples, validate on 4000 samples\n",
      "15712/16000 [============================>.] - ETA: 0s - loss: 5260.9329 - custom_mae: 50.3167\n",
      "Epoch 00001: val_custom_mae improved from inf to 40.63282, saving model to ..\\fast_output\\SYNTH_Regression_MSE\\201019_2253_final_Angular_Base_Custom-MAE\\Best_Weights_FC_230.hdf5\n",
      "16000/16000 [==============================] - 5s 284us/sample - loss: 5242.2933 - custom_mae: 50.2170 - val_loss: 3421.2613 - val_custom_mae: 40.6328\n",
      "Time taken: 0:00:06.049332\n"
     ]
    },
    {
     "name": "stderr",
     "output_type": "stream",
     "text": [
      "\r",
      " 64%|███████████████████████████████████████████████████▎                            | 231/360 [41:08<18:43,  8.71s/it]"
     ]
    },
    {
     "name": "stdout",
     "output_type": "stream",
     "text": [
      "{'activation': 'relu', 'batch_size': 32, 'dropout': 0.5, 'epochs': 1, 'first_neuron': 1024, 'hidden_layers': 2, 'label_type': 'Angular', 'loss_function': 'mean_squared_error', 'lr': 1, 'monitor_value': 'val_custom_mae', 'optimizer': <class 'tensorflow.python.keras.optimizer_v2.adam.Adam'>, 'reduction_metric': 'custom_mae', 'samples': 20000}\n",
      "Using Loss: mean_squared_error \n",
      "and Reduction Metric: [<function custom_mae at 0x0000026E06BB99D8>]\n",
      "Monitor: val_custom_mae\n",
      "Train on 16000 samples, validate on 4000 samples\n",
      "15904/16000 [============================>.] - ETA: 0s - loss: 5086.2648 - custom_mae: 50.2912\n",
      "Epoch 00001: val_custom_mae improved from inf to 37.35340, saving model to ..\\fast_output\\SYNTH_Regression_MSE\\201019_2253_final_Angular_Base_Custom-MAE\\Best_Weights_FC_231.hdf5\n",
      "16000/16000 [==============================] - 5s 289us/sample - loss: 5083.3362 - custom_mae: 50.2570 - val_loss: 3369.7242 - val_custom_mae: 37.3534\n",
      "Time taken: 0:00:06.150679\n"
     ]
    },
    {
     "name": "stderr",
     "output_type": "stream",
     "text": [
      "\r",
      " 64%|███████████████████████████████████████████████████▌                            | 232/360 [41:16<18:02,  8.46s/it]"
     ]
    },
    {
     "name": "stdout",
     "output_type": "stream",
     "text": [
      "{'activation': 'relu', 'batch_size': 32, 'dropout': 0.5, 'epochs': 1, 'first_neuron': 1024, 'hidden_layers': 2, 'label_type': 'Angular', 'loss_function': 'mean_squared_error', 'lr': 2, 'monitor_value': 'val_custom_mae', 'optimizer': <class 'tensorflow.python.keras.optimizer_v2.adam.Adam'>, 'reduction_metric': 'custom_mae', 'samples': 20000}\n",
      "Using Loss: mean_squared_error \n",
      "and Reduction Metric: [<function custom_mae at 0x0000026E06BB99D8>]\n",
      "Monitor: val_custom_mae\n",
      "Train on 16000 samples, validate on 4000 samples\n",
      "15712/16000 [============================>.] - ETA: 0s - loss: 5512.1129 - custom_mae: 52.4797\n",
      "Epoch 00001: val_custom_mae improved from inf to 43.70722, saving model to ..\\fast_output\\SYNTH_Regression_MSE\\201019_2253_final_Angular_Base_Custom-MAE\\Best_Weights_FC_232.hdf5\n",
      "16000/16000 [==============================] - 5s 290us/sample - loss: 5490.3658 - custom_mae: 52.3492 - val_loss: 4191.2731 - val_custom_mae: 43.7072\n",
      "Time taken: 0:00:06.136362\n"
     ]
    },
    {
     "name": "stderr",
     "output_type": "stream",
     "text": [
      "\r",
      " 65%|███████████████████████████████████████████████████▊                            | 233/360 [41:23<17:31,  8.28s/it]"
     ]
    },
    {
     "name": "stdout",
     "output_type": "stream",
     "text": [
      "{'activation': 'relu', 'batch_size': 32, 'dropout': 0.5, 'epochs': 1, 'first_neuron': 1024, 'hidden_layers': 2, 'label_type': 'Angular', 'loss_function': 'mean_squared_error', 'lr': 5, 'monitor_value': 'val_custom_mae', 'optimizer': <class 'tensorflow.python.keras.optimizer_v2.adam.Adam'>, 'reduction_metric': 'custom_mae', 'samples': 20000}\n",
      "Using Loss: mean_squared_error \n",
      "and Reduction Metric: [<function custom_mae at 0x0000026E06BB99D8>]\n",
      "Monitor: val_custom_mae\n",
      "Train on 16000 samples, validate on 4000 samples\n",
      "15936/16000 [============================>.] - ETA: 0s - loss: 6392.7256 - custom_mae: 57.2828\n",
      "Epoch 00001: val_custom_mae improved from inf to 57.81125, saving model to ..\\fast_output\\SYNTH_Regression_MSE\\201019_2253_final_Angular_Base_Custom-MAE\\Best_Weights_FC_233.hdf5\n",
      "16000/16000 [==============================] - 5s 288us/sample - loss: 6392.6684 - custom_mae: 57.2724 - val_loss: 6344.1390 - val_custom_mae: 57.8113\n",
      "Time taken: 0:00:06.121846\n"
     ]
    },
    {
     "name": "stderr",
     "output_type": "stream",
     "text": [
      "\r",
      " 65%|████████████████████████████████████████████████████                            | 234/360 [41:31<17:06,  8.15s/it]"
     ]
    },
    {
     "name": "stdout",
     "output_type": "stream",
     "text": [
      "{'activation': 'relu', 'batch_size': 32, 'dropout': 0.5, 'epochs': 1, 'first_neuron': 1024, 'hidden_layers': 3, 'label_type': 'Angular', 'loss_function': 'mean_squared_error', 'lr': 1, 'monitor_value': 'val_custom_mae', 'optimizer': <class 'tensorflow.python.keras.optimizer_v2.adam.Adam'>, 'reduction_metric': 'custom_mae', 'samples': 20000}\n",
      "Using Loss: mean_squared_error \n",
      "and Reduction Metric: [<function custom_mae at 0x0000026E06BB99D8>]\n",
      "Monitor: val_custom_mae\n",
      "Train on 16000 samples, validate on 4000 samples\n",
      "15744/16000 [============================>.] - ETA: 0s - loss: 5999.2039 - custom_mae: 55.9654\n",
      "Epoch 00001: val_custom_mae improved from inf to 46.10638, saving model to ..\\fast_output\\SYNTH_Regression_MSE\\201019_2253_final_Angular_Base_Custom-MAE\\Best_Weights_FC_234.hdf5\n",
      "16000/16000 [==============================] - 5s 297us/sample - loss: 5980.8377 - custom_mae: 55.8589 - val_loss: 4027.5018 - val_custom_mae: 46.1064\n",
      "Time taken: 0:00:06.259543\n"
     ]
    },
    {
     "name": "stderr",
     "output_type": "stream",
     "text": [
      "\r",
      " 65%|████████████████████████████████████████████████████▏                           | 235/360 [41:39<16:53,  8.11s/it]"
     ]
    },
    {
     "name": "stdout",
     "output_type": "stream",
     "text": [
      "{'activation': 'relu', 'batch_size': 32, 'dropout': 0.5, 'epochs': 1, 'first_neuron': 1024, 'hidden_layers': 3, 'label_type': 'Angular', 'loss_function': 'mean_squared_error', 'lr': 2, 'monitor_value': 'val_custom_mae', 'optimizer': <class 'tensorflow.python.keras.optimizer_v2.adam.Adam'>, 'reduction_metric': 'custom_mae', 'samples': 20000}\n",
      "Using Loss: mean_squared_error \n",
      "and Reduction Metric: [<function custom_mae at 0x0000026E06BB99D8>]\n",
      "Monitor: val_custom_mae\n",
      "Train on 16000 samples, validate on 4000 samples\n",
      "15680/16000 [============================>.] - ETA: 0s - loss: 6314.4128 - custom_mae: 57.1376\n",
      "Epoch 00001: val_custom_mae improved from inf to 58.73045, saving model to ..\\fast_output\\SYNTH_Regression_MSE\\201019_2253_final_Angular_Base_Custom-MAE\\Best_Weights_FC_235.hdf5\n",
      "16000/16000 [==============================] - 5s 299us/sample - loss: 6301.8359 - custom_mae: 57.0752 - val_loss: 6590.3628 - val_custom_mae: 58.7304\n",
      "Time taken: 0:00:06.291177\n"
     ]
    },
    {
     "name": "stderr",
     "output_type": "stream",
     "text": [
      "\r",
      " 66%|████████████████████████████████████████████████████▍                           | 236/360 [41:47<16:43,  8.09s/it]"
     ]
    },
    {
     "name": "stdout",
     "output_type": "stream",
     "text": [
      "{'activation': 'relu', 'batch_size': 32, 'dropout': 0.5, 'epochs': 1, 'first_neuron': 1024, 'hidden_layers': 3, 'label_type': 'Angular', 'loss_function': 'mean_squared_error', 'lr': 5, 'monitor_value': 'val_custom_mae', 'optimizer': <class 'tensorflow.python.keras.optimizer_v2.adam.Adam'>, 'reduction_metric': 'custom_mae', 'samples': 20000}\n",
      "Using Loss: mean_squared_error \n",
      "and Reduction Metric: [<function custom_mae at 0x0000026E06BB99D8>]\n",
      "Monitor: val_custom_mae\n",
      "Train on 16000 samples, validate on 4000 samples\n",
      "15968/16000 [============================>.] - ETA: 0s - loss: 7161.1840 - custom_mae: 60.3980\n",
      "Epoch 00001: val_custom_mae improved from inf to 75.86852, saving model to ..\\fast_output\\SYNTH_Regression_MSE\\201019_2253_final_Angular_Base_Custom-MAE\\Best_Weights_FC_236.hdf5\n",
      "16000/16000 [==============================] - 5s 299us/sample - loss: 7162.5052 - custom_mae: 60.3967 - val_loss: 10885.3729 - val_custom_mae: 75.8685\n",
      "Time taken: 0:00:06.290187\n"
     ]
    },
    {
     "name": "stderr",
     "output_type": "stream",
     "text": [
      "\r",
      " 66%|████████████████████████████████████████████████████▋                           | 237/360 [41:55<16:33,  8.08s/it]"
     ]
    },
    {
     "name": "stdout",
     "output_type": "stream",
     "text": [
      "{'activation': 'relu', 'batch_size': 32, 'dropout': 0.5, 'epochs': 1, 'first_neuron': 1024, 'hidden_layers': 4, 'label_type': 'Angular', 'loss_function': 'mean_squared_error', 'lr': 1, 'monitor_value': 'val_custom_mae', 'optimizer': <class 'tensorflow.python.keras.optimizer_v2.adam.Adam'>, 'reduction_metric': 'custom_mae', 'samples': 20000}\n",
      "Using Loss: mean_squared_error \n",
      "and Reduction Metric: [<function custom_mae at 0x0000026E06BB99D8>]\n",
      "Monitor: val_custom_mae\n",
      "Train on 16000 samples, validate on 4000 samples\n",
      "15872/16000 [============================>.] - ETA: 0s - loss: 7104.1605 - custom_mae: 60.7777\n",
      "Epoch 00001: val_custom_mae improved from inf to 58.03502, saving model to ..\\fast_output\\SYNTH_Regression_MSE\\201019_2253_final_Angular_Base_Custom-MAE\\Best_Weights_FC_237.hdf5\n",
      "16000/16000 [==============================] - 5s 309us/sample - loss: 7092.7485 - custom_mae: 60.7132 - val_loss: 6390.3384 - val_custom_mae: 58.0350\n",
      "Time taken: 0:00:06.448378\n"
     ]
    },
    {
     "name": "stderr",
     "output_type": "stream",
     "text": [
      "\r",
      " 66%|████████████████████████████████████████████████████▉                           | 238/360 [42:04<16:29,  8.11s/it]"
     ]
    },
    {
     "name": "stdout",
     "output_type": "stream",
     "text": [
      "{'activation': 'relu', 'batch_size': 32, 'dropout': 0.5, 'epochs': 1, 'first_neuron': 1024, 'hidden_layers': 4, 'label_type': 'Angular', 'loss_function': 'mean_squared_error', 'lr': 2, 'monitor_value': 'val_custom_mae', 'optimizer': <class 'tensorflow.python.keras.optimizer_v2.adam.Adam'>, 'reduction_metric': 'custom_mae', 'samples': 20000}\n",
      "Using Loss: mean_squared_error \n",
      "and Reduction Metric: [<function custom_mae at 0x0000026E06BB99D8>]\n",
      "Monitor: val_custom_mae\n",
      "Train on 16000 samples, validate on 4000 samples\n",
      "15936/16000 [============================>.] - ETA: 0s - loss: 7462.2335 - custom_mae: 61.7227\n",
      "Epoch 00001: val_custom_mae improved from inf to 74.26192, saving model to ..\\fast_output\\SYNTH_Regression_MSE\\201019_2253_final_Angular_Base_Custom-MAE\\Best_Weights_FC_238.hdf5\n",
      "16000/16000 [==============================] - 5s 308us/sample - loss: 7456.9129 - custom_mae: 61.6969 - val_loss: 10705.1747 - val_custom_mae: 74.2619\n",
      "Time taken: 0:00:06.443143\n"
     ]
    },
    {
     "name": "stderr",
     "output_type": "stream",
     "text": [
      "\r",
      " 66%|█████████████████████████████████████████████████████                           | 239/360 [42:12<16:25,  8.14s/it]"
     ]
    },
    {
     "name": "stdout",
     "output_type": "stream",
     "text": [
      "{'activation': 'relu', 'batch_size': 32, 'dropout': 0.5, 'epochs': 1, 'first_neuron': 1024, 'hidden_layers': 4, 'label_type': 'Angular', 'loss_function': 'mean_squared_error', 'lr': 5, 'monitor_value': 'val_custom_mae', 'optimizer': <class 'tensorflow.python.keras.optimizer_v2.adam.Adam'>, 'reduction_metric': 'custom_mae', 'samples': 20000}\n",
      "Using Loss: mean_squared_error \n",
      "and Reduction Metric: [<function custom_mae at 0x0000026E06BB99D8>]\n",
      "Monitor: val_custom_mae\n",
      "Train on 16000 samples, validate on 4000 samples\n",
      "15840/16000 [============================>.] - ETA: 0s - loss: 8375.3546 - custom_mae: 64.9788\n",
      "Epoch 00001: val_custom_mae improved from inf to 82.79014, saving model to ..\\fast_output\\SYNTH_Regression_MSE\\201019_2253_final_Angular_Base_Custom-MAE\\Best_Weights_FC_239.hdf5\n",
      "16000/16000 [==============================] - 5s 307us/sample - loss: 8354.1031 - custom_mae: 64.9034 - val_loss: 13134.6609 - val_custom_mae: 82.7901\n",
      "Time taken: 0:00:06.415580\n"
     ]
    },
    {
     "name": "stderr",
     "output_type": "stream",
     "text": [
      "\r",
      " 67%|█████████████████████████████████████████████████████▎                          | 240/360 [42:20<16:18,  8.15s/it]"
     ]
    },
    {
     "name": "stdout",
     "output_type": "stream",
     "text": [
      "{'activation': 'relu', 'batch_size': 32, 'dropout': 0.5, 'epochs': 1, 'first_neuron': 2048, 'hidden_layers': 0, 'label_type': 'Angular', 'loss_function': 'mean_squared_error', 'lr': 1, 'monitor_value': 'val_custom_mae', 'optimizer': <class 'tensorflow.python.keras.optimizer_v2.adam.Adam'>, 'reduction_metric': 'custom_mae', 'samples': 20000}\n",
      "Using Loss: mean_squared_error \n",
      "and Reduction Metric: [<function custom_mae at 0x0000026E06BB99D8>]\n",
      "Monitor: val_custom_mae\n",
      "Train on 16000 samples, validate on 4000 samples\n",
      "15936/16000 [============================>.] - ETA: 0s - loss: 4074.3387 - custom_mae: 41.0810\n",
      "Epoch 00001: val_custom_mae improved from inf to 33.32824, saving model to ..\\fast_output\\SYNTH_Regression_MSE\\201019_2253_final_Angular_Base_Custom-MAE\\Best_Weights_FC_240.hdf5\n",
      "16000/16000 [==============================] - 7s 433us/sample - loss: 4070.5400 - custom_mae: 41.0443 - val_loss: 3096.6325 - val_custom_mae: 33.3282\n",
      "Time taken: 0:00:08.429181\n"
     ]
    },
    {
     "name": "stderr",
     "output_type": "stream",
     "text": [
      "\r",
      " 67%|█████████████████████████████████████████████████████▌                          | 241/360 [42:30<17:20,  8.74s/it]"
     ]
    },
    {
     "name": "stdout",
     "output_type": "stream",
     "text": [
      "{'activation': 'relu', 'batch_size': 32, 'dropout': 0.5, 'epochs': 1, 'first_neuron': 2048, 'hidden_layers': 0, 'label_type': 'Angular', 'loss_function': 'mean_squared_error', 'lr': 2, 'monitor_value': 'val_custom_mae', 'optimizer': <class 'tensorflow.python.keras.optimizer_v2.adam.Adam'>, 'reduction_metric': 'custom_mae', 'samples': 20000}\n",
      "Using Loss: mean_squared_error \n",
      "and Reduction Metric: [<function custom_mae at 0x0000026E06BB99D8>]\n",
      "Monitor: val_custom_mae\n",
      "Train on 16000 samples, validate on 4000 samples\n",
      "15968/16000 [============================>.] - ETA: 0s - loss: 4033.6011 - custom_mae: 41.0565\n",
      "Epoch 00001: val_custom_mae improved from inf to 33.14360, saving model to ..\\fast_output\\SYNTH_Regression_MSE\\201019_2253_final_Angular_Base_Custom-MAE\\Best_Weights_FC_241.hdf5\n",
      "16000/16000 [==============================] - 7s 426us/sample - loss: 4032.0776 - custom_mae: 41.0427 - val_loss: 3024.9279 - val_custom_mae: 33.1436\n",
      "Time taken: 0:00:08.316139\n"
     ]
    },
    {
     "name": "stderr",
     "output_type": "stream",
     "text": [
      "\r",
      " 67%|█████████████████████████████████████████████████████▊                          | 242/360 [42:40<17:56,  9.12s/it]"
     ]
    },
    {
     "name": "stdout",
     "output_type": "stream",
     "text": [
      "{'activation': 'relu', 'batch_size': 32, 'dropout': 0.5, 'epochs': 1, 'first_neuron': 2048, 'hidden_layers': 0, 'label_type': 'Angular', 'loss_function': 'mean_squared_error', 'lr': 5, 'monitor_value': 'val_custom_mae', 'optimizer': <class 'tensorflow.python.keras.optimizer_v2.adam.Adam'>, 'reduction_metric': 'custom_mae', 'samples': 20000}\n",
      "Using Loss: mean_squared_error \n",
      "and Reduction Metric: [<function custom_mae at 0x0000026E06BB99D8>]\n",
      "Monitor: val_custom_mae\n",
      "Train on 16000 samples, validate on 4000 samples\n",
      "15904/16000 [============================>.] - ETA: 0s - loss: 4206.7266 - custom_mae: 42.1876\n",
      "Epoch 00001: val_custom_mae improved from inf to 39.66708, saving model to ..\\fast_output\\SYNTH_Regression_MSE\\201019_2253_final_Angular_Base_Custom-MAE\\Best_Weights_FC_242.hdf5\n",
      "16000/16000 [==============================] - 7s 429us/sample - loss: 4201.0708 - custom_mae: 42.1521 - val_loss: 3460.8863 - val_custom_mae: 39.6671\n",
      "Time taken: 0:00:08.371711\n"
     ]
    },
    {
     "name": "stderr",
     "output_type": "stream",
     "text": [
      "\r",
      " 68%|██████████████████████████████████████████████████████                          | 243/360 [42:50<18:19,  9.40s/it]"
     ]
    },
    {
     "name": "stdout",
     "output_type": "stream",
     "text": [
      "{'activation': 'relu', 'batch_size': 32, 'dropout': 0.5, 'epochs': 1, 'first_neuron': 2048, 'hidden_layers': 1, 'label_type': 'Angular', 'loss_function': 'mean_squared_error', 'lr': 1, 'monitor_value': 'val_custom_mae', 'optimizer': <class 'tensorflow.python.keras.optimizer_v2.adam.Adam'>, 'reduction_metric': 'custom_mae', 'samples': 20000}\n",
      "Using Loss: mean_squared_error \n",
      "and Reduction Metric: [<function custom_mae at 0x0000026E06BB99D8>]\n",
      "Monitor: val_custom_mae\n",
      "Train on 16000 samples, validate on 4000 samples\n",
      "15936/16000 [============================>.] - ETA: 0s - loss: 4368.2914 - custom_mae: 44.2774\n",
      "Epoch 00001: val_custom_mae improved from inf to 35.51863, saving model to ..\\fast_output\\SYNTH_Regression_MSE\\201019_2253_final_Angular_Base_Custom-MAE\\Best_Weights_FC_243.hdf5\n",
      "16000/16000 [==============================] - 7s 443us/sample - loss: 4366.8563 - custom_mae: 44.2568 - val_loss: 3054.4419 - val_custom_mae: 35.5186\n",
      "Time taken: 0:00:08.604673\n"
     ]
    },
    {
     "name": "stderr",
     "output_type": "stream",
     "text": [
      "\r",
      " 68%|██████████████████████████████████████████████████████▏                         | 244/360 [43:00<18:42,  9.68s/it]"
     ]
    },
    {
     "name": "stdout",
     "output_type": "stream",
     "text": [
      "{'activation': 'relu', 'batch_size': 32, 'dropout': 0.5, 'epochs': 1, 'first_neuron': 2048, 'hidden_layers': 1, 'label_type': 'Angular', 'loss_function': 'mean_squared_error', 'lr': 2, 'monitor_value': 'val_custom_mae', 'optimizer': <class 'tensorflow.python.keras.optimizer_v2.adam.Adam'>, 'reduction_metric': 'custom_mae', 'samples': 20000}\n",
      "Using Loss: mean_squared_error \n",
      "and Reduction Metric: [<function custom_mae at 0x0000026E06BB99D8>]\n",
      "Monitor: val_custom_mae\n",
      "Train on 16000 samples, validate on 4000 samples\n",
      "15904/16000 [============================>.] - ETA: 0s - loss: 4562.1881 - custom_mae: 45.6895\n",
      "Epoch 00001: val_custom_mae improved from inf to 36.60612, saving model to ..\\fast_output\\SYNTH_Regression_MSE\\201019_2253_final_Angular_Base_Custom-MAE\\Best_Weights_FC_244.hdf5\n",
      "16000/16000 [==============================] - 7s 446us/sample - loss: 4557.2626 - custom_mae: 45.6515 - val_loss: 3172.0950 - val_custom_mae: 36.6061\n",
      "Time taken: 0:00:08.636714\n"
     ]
    },
    {
     "name": "stderr",
     "output_type": "stream",
     "text": [
      "\r",
      " 68%|██████████████████████████████████████████████████████▍                         | 245/360 [43:11<18:55,  9.88s/it]"
     ]
    },
    {
     "name": "stdout",
     "output_type": "stream",
     "text": [
      "{'activation': 'relu', 'batch_size': 32, 'dropout': 0.5, 'epochs': 1, 'first_neuron': 2048, 'hidden_layers': 1, 'label_type': 'Angular', 'loss_function': 'mean_squared_error', 'lr': 5, 'monitor_value': 'val_custom_mae', 'optimizer': <class 'tensorflow.python.keras.optimizer_v2.adam.Adam'>, 'reduction_metric': 'custom_mae', 'samples': 20000}\n",
      "Using Loss: mean_squared_error \n",
      "and Reduction Metric: [<function custom_mae at 0x0000026E06BB99D8>]\n",
      "Monitor: val_custom_mae\n",
      "Train on 16000 samples, validate on 4000 samples\n",
      "15904/16000 [============================>.] - ETA: 0s - loss: 5941.2235 - custom_mae: 51.1801\n",
      "Epoch 00001: val_custom_mae improved from inf to 51.14020, saving model to ..\\fast_output\\SYNTH_Regression_MSE\\201019_2253_final_Angular_Base_Custom-MAE\\Best_Weights_FC_245.hdf5\n",
      "16000/16000 [==============================] - 7s 440us/sample - loss: 5929.9732 - custom_mae: 51.1344 - val_loss: 4901.0989 - val_custom_mae: 51.1402\n",
      "Time taken: 0:00:08.545192\n"
     ]
    },
    {
     "name": "stderr",
     "output_type": "stream",
     "text": [
      "\r",
      " 68%|██████████████████████████████████████████████████████▋                         | 246/360 [43:21<18:58,  9.99s/it]"
     ]
    },
    {
     "name": "stdout",
     "output_type": "stream",
     "text": [
      "{'activation': 'relu', 'batch_size': 32, 'dropout': 0.5, 'epochs': 1, 'first_neuron': 2048, 'hidden_layers': 2, 'label_type': 'Angular', 'loss_function': 'mean_squared_error', 'lr': 1, 'monitor_value': 'val_custom_mae', 'optimizer': <class 'tensorflow.python.keras.optimizer_v2.adam.Adam'>, 'reduction_metric': 'custom_mae', 'samples': 20000}\n",
      "Using Loss: mean_squared_error \n",
      "and Reduction Metric: [<function custom_mae at 0x0000026E06BB99D8>]\n",
      "Monitor: val_custom_mae\n",
      "Train on 16000 samples, validate on 4000 samples\n",
      "15936/16000 [============================>.] - ETA: 0s - loss: 4894.0947 - custom_mae: 48.4516\n",
      "Epoch 00001: val_custom_mae improved from inf to 35.02785, saving model to ..\\fast_output\\SYNTH_Regression_MSE\\201019_2253_final_Angular_Base_Custom-MAE\\Best_Weights_FC_246.hdf5\n",
      "16000/16000 [==============================] - 7s 450us/sample - loss: 4893.1805 - custom_mae: 48.4290 - val_loss: 3112.0899 - val_custom_mae: 35.0278\n",
      "Time taken: 0:00:08.706447\n"
     ]
    },
    {
     "name": "stderr",
     "output_type": "stream",
     "text": [
      "\r",
      " 69%|██████████████████████████████████████████████████████▉                         | 247/360 [43:31<19:04, 10.12s/it]"
     ]
    },
    {
     "name": "stdout",
     "output_type": "stream",
     "text": [
      "{'activation': 'relu', 'batch_size': 32, 'dropout': 0.5, 'epochs': 1, 'first_neuron': 2048, 'hidden_layers': 2, 'label_type': 'Angular', 'loss_function': 'mean_squared_error', 'lr': 2, 'monitor_value': 'val_custom_mae', 'optimizer': <class 'tensorflow.python.keras.optimizer_v2.adam.Adam'>, 'reduction_metric': 'custom_mae', 'samples': 20000}\n",
      "Using Loss: mean_squared_error \n",
      "and Reduction Metric: [<function custom_mae at 0x0000026E06BB99D8>]\n",
      "Monitor: val_custom_mae\n",
      "Train on 16000 samples, validate on 4000 samples\n",
      "15936/16000 [============================>.] - ETA: 0s - loss: 5301.2635 - custom_mae: 50.7161\n",
      "Epoch 00001: val_custom_mae improved from inf to 41.46688, saving model to ..\\fast_output\\SYNTH_Regression_MSE\\201019_2253_final_Angular_Base_Custom-MAE\\Best_Weights_FC_247.hdf5\n",
      "16000/16000 [==============================] - 7s 452us/sample - loss: 5297.9579 - custom_mae: 50.6987 - val_loss: 4058.8347 - val_custom_mae: 41.4669\n",
      "Time taken: 0:00:08.736314\n"
     ]
    },
    {
     "name": "stderr",
     "output_type": "stream",
     "text": [
      "\r",
      " 69%|███████████████████████████████████████████████████████                         | 248/360 [43:42<19:05, 10.23s/it]"
     ]
    },
    {
     "name": "stdout",
     "output_type": "stream",
     "text": [
      "{'activation': 'relu', 'batch_size': 32, 'dropout': 0.5, 'epochs': 1, 'first_neuron': 2048, 'hidden_layers': 2, 'label_type': 'Angular', 'loss_function': 'mean_squared_error', 'lr': 5, 'monitor_value': 'val_custom_mae', 'optimizer': <class 'tensorflow.python.keras.optimizer_v2.adam.Adam'>, 'reduction_metric': 'custom_mae', 'samples': 20000}\n",
      "Using Loss: mean_squared_error \n",
      "and Reduction Metric: [<function custom_mae at 0x0000026E06BB99D8>]\n",
      "Monitor: val_custom_mae\n",
      "Train on 16000 samples, validate on 4000 samples\n",
      "15904/16000 [============================>.] - ETA: 0s - loss: 6813.0945 - custom_mae: 57.0288\n",
      "Epoch 00001: val_custom_mae improved from inf to 58.47557, saving model to ..\\fast_output\\SYNTH_Regression_MSE\\201019_2253_final_Angular_Base_Custom-MAE\\Best_Weights_FC_248.hdf5\n",
      "16000/16000 [==============================] - 7s 451us/sample - loss: 6807.7334 - custom_mae: 57.0110 - val_loss: 6589.9799 - val_custom_mae: 58.4756\n",
      "Time taken: 0:00:08.728173\n"
     ]
    },
    {
     "name": "stderr",
     "output_type": "stream",
     "text": [
      "\r",
      " 69%|███████████████████████████████████████████████████████▎                        | 249/360 [43:52<19:03, 10.30s/it]"
     ]
    },
    {
     "name": "stdout",
     "output_type": "stream",
     "text": [
      "{'activation': 'relu', 'batch_size': 32, 'dropout': 0.5, 'epochs': 1, 'first_neuron': 2048, 'hidden_layers': 3, 'label_type': 'Angular', 'loss_function': 'mean_squared_error', 'lr': 1, 'monitor_value': 'val_custom_mae', 'optimizer': <class 'tensorflow.python.keras.optimizer_v2.adam.Adam'>, 'reduction_metric': 'custom_mae', 'samples': 20000}\n",
      "Using Loss: mean_squared_error \n",
      "and Reduction Metric: [<function custom_mae at 0x0000026E06BB99D8>]\n",
      "Monitor: val_custom_mae\n",
      "Train on 16000 samples, validate on 4000 samples\n",
      "15776/16000 [============================>.] - ETA: 0s - loss: 5627.4147 - custom_mae: 54.0695\n",
      "Epoch 00001: val_custom_mae improved from inf to 39.85534, saving model to ..\\fast_output\\SYNTH_Regression_MSE\\201019_2253_final_Angular_Base_Custom-MAE\\Best_Weights_FC_249.hdf5\n",
      "16000/16000 [==============================] - 7s 459us/sample - loss: 5613.0543 - custom_mae: 53.9786 - val_loss: 3352.8597 - val_custom_mae: 39.8553\n",
      "Time taken: 0:00:08.840690\n"
     ]
    },
    {
     "name": "stderr",
     "output_type": "stream",
     "text": [
      "\r",
      " 69%|███████████████████████████████████████████████████████▌                        | 250/360 [44:03<19:02, 10.38s/it]"
     ]
    },
    {
     "name": "stdout",
     "output_type": "stream",
     "text": [
      "{'activation': 'relu', 'batch_size': 32, 'dropout': 0.5, 'epochs': 1, 'first_neuron': 2048, 'hidden_layers': 3, 'label_type': 'Angular', 'loss_function': 'mean_squared_error', 'lr': 2, 'monitor_value': 'val_custom_mae', 'optimizer': <class 'tensorflow.python.keras.optimizer_v2.adam.Adam'>, 'reduction_metric': 'custom_mae', 'samples': 20000}\n",
      "Using Loss: mean_squared_error \n",
      "and Reduction Metric: [<function custom_mae at 0x0000026E06BB99D8>]\n",
      "Monitor: val_custom_mae\n",
      "Train on 16000 samples, validate on 4000 samples\n",
      "15936/16000 [============================>.] - ETA: 0s - loss: 6038.1791 - custom_mae: 55.9166\n",
      "Epoch 00001: val_custom_mae improved from inf to 44.94048, saving model to ..\\fast_output\\SYNTH_Regression_MSE\\201019_2253_final_Angular_Base_Custom-MAE\\Best_Weights_FC_250.hdf5\n",
      "16000/16000 [==============================] - 7s 466us/sample - loss: 6031.7810 - custom_mae: 55.8733 - val_loss: 3777.7662 - val_custom_mae: 44.9405\n",
      "Time taken: 0:00:08.966319\n"
     ]
    },
    {
     "name": "stderr",
     "output_type": "stream",
     "text": [
      "\r",
      " 70%|███████████████████████████████████████████████████████▊                        | 251/360 [44:14<19:02, 10.48s/it]"
     ]
    },
    {
     "name": "stdout",
     "output_type": "stream",
     "text": [
      "{'activation': 'relu', 'batch_size': 32, 'dropout': 0.5, 'epochs': 1, 'first_neuron': 2048, 'hidden_layers': 3, 'label_type': 'Angular', 'loss_function': 'mean_squared_error', 'lr': 5, 'monitor_value': 'val_custom_mae', 'optimizer': <class 'tensorflow.python.keras.optimizer_v2.adam.Adam'>, 'reduction_metric': 'custom_mae', 'samples': 20000}\n",
      "Using Loss: mean_squared_error \n",
      "and Reduction Metric: [<function custom_mae at 0x0000026E06BB99D8>]\n",
      "Monitor: val_custom_mae\n",
      "Train on 16000 samples, validate on 4000 samples\n",
      "15776/16000 [============================>.] - ETA: 0s - loss: 7844.5222 - custom_mae: 62.3404\n",
      "Epoch 00001: val_custom_mae improved from inf to 60.56547, saving model to ..\\fast_output\\SYNTH_Regression_MSE\\201019_2253_final_Angular_Base_Custom-MAE\\Best_Weights_FC_251.hdf5\n",
      "16000/16000 [==============================] - 7s 457us/sample - loss: 7819.6886 - custom_mae: 62.2340 - val_loss: 7199.6042 - val_custom_mae: 60.5655\n",
      "Time taken: 0:00:08.844320\n"
     ]
    },
    {
     "name": "stderr",
     "output_type": "stream",
     "text": [
      "\r",
      " 70%|████████████████████████████████████████████████████████                        | 252/360 [44:24<18:55, 10.52s/it]"
     ]
    },
    {
     "name": "stdout",
     "output_type": "stream",
     "text": [
      "{'activation': 'relu', 'batch_size': 32, 'dropout': 0.5, 'epochs': 1, 'first_neuron': 2048, 'hidden_layers': 4, 'label_type': 'Angular', 'loss_function': 'mean_squared_error', 'lr': 1, 'monitor_value': 'val_custom_mae', 'optimizer': <class 'tensorflow.python.keras.optimizer_v2.adam.Adam'>, 'reduction_metric': 'custom_mae', 'samples': 20000}\n",
      "Using Loss: mean_squared_error \n",
      "and Reduction Metric: [<function custom_mae at 0x0000026E06BB99D8>]\n",
      "Monitor: val_custom_mae\n",
      "Train on 16000 samples, validate on 4000 samples\n",
      "15968/16000 [============================>.] - ETA: 0s - loss: 6373.6834 - custom_mae: 57.7658\n",
      "Epoch 00001: val_custom_mae improved from inf to 48.19488, saving model to ..\\fast_output\\SYNTH_Regression_MSE\\201019_2253_final_Angular_Base_Custom-MAE\\Best_Weights_FC_252.hdf5\n",
      "16000/16000 [==============================] - 8s 470us/sample - loss: 6373.2619 - custom_mae: 57.7531 - val_loss: 4297.4715 - val_custom_mae: 48.1949\n",
      "Time taken: 0:00:09.028992\n"
     ]
    },
    {
     "name": "stderr",
     "output_type": "stream",
     "text": [
      "\r",
      " 70%|████████████████████████████████████████████████████████▏                       | 253/360 [44:35<18:55, 10.61s/it]"
     ]
    },
    {
     "name": "stdout",
     "output_type": "stream",
     "text": [
      "{'activation': 'relu', 'batch_size': 32, 'dropout': 0.5, 'epochs': 1, 'first_neuron': 2048, 'hidden_layers': 4, 'label_type': 'Angular', 'loss_function': 'mean_squared_error', 'lr': 2, 'monitor_value': 'val_custom_mae', 'optimizer': <class 'tensorflow.python.keras.optimizer_v2.adam.Adam'>, 'reduction_metric': 'custom_mae', 'samples': 20000}\n",
      "Using Loss: mean_squared_error \n",
      "and Reduction Metric: [<function custom_mae at 0x0000026E06BB99D8>]\n",
      "Monitor: val_custom_mae\n",
      "Train on 16000 samples, validate on 4000 samples\n",
      "15904/16000 [============================>.] - ETA: 0s - loss: 6947.4511 - custom_mae: 59.5797\n",
      "Epoch 00001: val_custom_mae improved from inf to 63.87401, saving model to ..\\fast_output\\SYNTH_Regression_MSE\\201019_2253_final_Angular_Base_Custom-MAE\\Best_Weights_FC_253.hdf5\n",
      "16000/16000 [==============================] - 8s 470us/sample - loss: 6940.9598 - custom_mae: 59.5459 - val_loss: 7991.2210 - val_custom_mae: 63.8740\n",
      "Time taken: 0:00:09.029886\n"
     ]
    },
    {
     "name": "stderr",
     "output_type": "stream",
     "text": [
      "\r",
      " 71%|████████████████████████████████████████████████████████▍                       | 254/360 [44:46<18:51, 10.67s/it]"
     ]
    },
    {
     "name": "stdout",
     "output_type": "stream",
     "text": [
      "{'activation': 'relu', 'batch_size': 32, 'dropout': 0.5, 'epochs': 1, 'first_neuron': 2048, 'hidden_layers': 4, 'label_type': 'Angular', 'loss_function': 'mean_squared_error', 'lr': 5, 'monitor_value': 'val_custom_mae', 'optimizer': <class 'tensorflow.python.keras.optimizer_v2.adam.Adam'>, 'reduction_metric': 'custom_mae', 'samples': 20000}\n",
      "Using Loss: mean_squared_error \n",
      "and Reduction Metric: [<function custom_mae at 0x0000026E06BB99D8>]\n",
      "Monitor: val_custom_mae\n",
      "Train on 16000 samples, validate on 4000 samples\n",
      "15968/16000 [============================>.] - ETA: 0s - loss: 8915.4666 - custom_mae: 66.7856\n",
      "Epoch 00001: val_custom_mae improved from inf to 83.70255, saving model to ..\\fast_output\\SYNTH_Regression_MSE\\201019_2253_final_Angular_Base_Custom-MAE\\Best_Weights_FC_254.hdf5\n",
      "16000/16000 [==============================] - 7s 465us/sample - loss: 8911.0896 - custom_mae: 66.7594 - val_loss: 12978.3673 - val_custom_mae: 83.7025\n",
      "Time taken: 0:00:08.955852\n"
     ]
    },
    {
     "name": "stderr",
     "output_type": "stream",
     "text": [
      "\r",
      " 71%|████████████████████████████████████████████████████████▋                       | 255/360 [44:57<18:42, 10.69s/it]"
     ]
    },
    {
     "name": "stdout",
     "output_type": "stream",
     "text": [
      "{'activation': 'relu', 'batch_size': 32, 'dropout': 0.5, 'epochs': 1, 'first_neuron': 4096, 'hidden_layers': 0, 'label_type': 'Angular', 'loss_function': 'mean_squared_error', 'lr': 1, 'monitor_value': 'val_custom_mae', 'optimizer': <class 'tensorflow.python.keras.optimizer_v2.adam.Adam'>, 'reduction_metric': 'custom_mae', 'samples': 20000}\n",
      "Using Loss: mean_squared_error \n",
      "and Reduction Metric: [<function custom_mae at 0x0000026E06BB99D8>]\n",
      "Monitor: val_custom_mae\n",
      "Train on 16000 samples, validate on 4000 samples\n",
      "15968/16000 [============================>.] - ETA: 0s - loss: 3962.4343 - custom_mae: 40.3240\n",
      "Epoch 00001: val_custom_mae improved from inf to 32.62877, saving model to ..\\fast_output\\SYNTH_Regression_MSE\\201019_2253_final_Angular_Base_Custom-MAE\\Best_Weights_FC_255.hdf5\n",
      "16000/16000 [==============================] - 12s 743us/sample - loss: 3961.0528 - custom_mae: 40.3053 - val_loss: 2974.0507 - val_custom_mae: 32.6288\n",
      "Time taken: 0:00:13.408776\n"
     ]
    },
    {
     "name": "stderr",
     "output_type": "stream",
     "text": [
      "\r",
      " 71%|████████████████████████████████████████████████████████▉                       | 256/360 [45:12<20:49, 12.02s/it]"
     ]
    },
    {
     "name": "stdout",
     "output_type": "stream",
     "text": [
      "{'activation': 'relu', 'batch_size': 32, 'dropout': 0.5, 'epochs': 1, 'first_neuron': 4096, 'hidden_layers': 0, 'label_type': 'Angular', 'loss_function': 'mean_squared_error', 'lr': 2, 'monitor_value': 'val_custom_mae', 'optimizer': <class 'tensorflow.python.keras.optimizer_v2.adam.Adam'>, 'reduction_metric': 'custom_mae', 'samples': 20000}\n",
      "Using Loss: mean_squared_error \n",
      "and Reduction Metric: [<function custom_mae at 0x0000026E06BB99D8>]\n",
      "Monitor: val_custom_mae\n",
      "Train on 16000 samples, validate on 4000 samples\n",
      "15968/16000 [============================>.] - ETA: 0s - loss: 3988.8056 - custom_mae: 40.3262\n",
      "Epoch 00001: val_custom_mae improved from inf to 31.31821, saving model to ..\\fast_output\\SYNTH_Regression_MSE\\201019_2253_final_Angular_Base_Custom-MAE\\Best_Weights_FC_256.hdf5\n",
      "16000/16000 [==============================] - 12s 743us/sample - loss: 3988.2159 - custom_mae: 40.3097 - val_loss: 2835.0946 - val_custom_mae: 31.3182\n",
      "Time taken: 0:00:13.361367\n"
     ]
    },
    {
     "name": "stderr",
     "output_type": "stream",
     "text": [
      "\r",
      " 71%|█████████████████████████████████████████████████████████                       | 257/360 [45:27<22:12, 12.93s/it]"
     ]
    },
    {
     "name": "stdout",
     "output_type": "stream",
     "text": [
      "{'activation': 'relu', 'batch_size': 32, 'dropout': 0.5, 'epochs': 1, 'first_neuron': 4096, 'hidden_layers': 0, 'label_type': 'Angular', 'loss_function': 'mean_squared_error', 'lr': 5, 'monitor_value': 'val_custom_mae', 'optimizer': <class 'tensorflow.python.keras.optimizer_v2.adam.Adam'>, 'reduction_metric': 'custom_mae', 'samples': 20000}\n",
      "Using Loss: mean_squared_error \n",
      "and Reduction Metric: [<function custom_mae at 0x0000026E06BB99D8>]\n",
      "Monitor: val_custom_mae\n",
      "Train on 16000 samples, validate on 4000 samples\n",
      "15872/16000 [============================>.] - ETA: 0s - loss: 4415.2777 - custom_mae: 42.8449\n",
      "Epoch 00001: val_custom_mae improved from inf to 33.54447, saving model to ..\\fast_output\\SYNTH_Regression_MSE\\201019_2253_final_Angular_Base_Custom-MAE\\Best_Weights_FC_257.hdf5\n",
      "16000/16000 [==============================] - 12s 747us/sample - loss: 4405.6081 - custom_mae: 42.7851 - val_loss: 2980.2702 - val_custom_mae: 33.5445\n",
      "Time taken: 0:00:13.452333\n"
     ]
    },
    {
     "name": "stderr",
     "output_type": "stream",
     "text": [
      "\r",
      " 72%|█████████████████████████████████████████████████████████▎                      | 258/360 [45:42<23:07, 13.60s/it]"
     ]
    },
    {
     "name": "stdout",
     "output_type": "stream",
     "text": [
      "{'activation': 'relu', 'batch_size': 32, 'dropout': 0.5, 'epochs': 1, 'first_neuron': 4096, 'hidden_layers': 1, 'label_type': 'Angular', 'loss_function': 'mean_squared_error', 'lr': 1, 'monitor_value': 'val_custom_mae', 'optimizer': <class 'tensorflow.python.keras.optimizer_v2.adam.Adam'>, 'reduction_metric': 'custom_mae', 'samples': 20000}\n",
      "Using Loss: mean_squared_error \n",
      "and Reduction Metric: [<function custom_mae at 0x0000026E06BB99D8>]\n",
      "Monitor: val_custom_mae\n",
      "Train on 16000 samples, validate on 4000 samples\n",
      "15904/16000 [============================>.] - ETA: 0s - loss: 4260.6275 - custom_mae: 43.2194\n",
      "Epoch 00001: val_custom_mae improved from inf to 33.92975, saving model to ..\\fast_output\\SYNTH_Regression_MSE\\201019_2253_final_Angular_Base_Custom-MAE\\Best_Weights_FC_258.hdf5\n",
      "16000/16000 [==============================] - 13s 790us/sample - loss: 4254.0690 - custom_mae: 43.1618 - val_loss: 2949.8290 - val_custom_mae: 33.9298\n",
      "Time taken: 0:00:14.149432\n"
     ]
    },
    {
     "name": "stderr",
     "output_type": "stream",
     "text": [
      "\r",
      " 72%|█████████████████████████████████████████████████████████▌                      | 259/360 [45:58<24:02, 14.28s/it]"
     ]
    },
    {
     "name": "stdout",
     "output_type": "stream",
     "text": [
      "{'activation': 'relu', 'batch_size': 32, 'dropout': 0.5, 'epochs': 1, 'first_neuron': 4096, 'hidden_layers': 1, 'label_type': 'Angular', 'loss_function': 'mean_squared_error', 'lr': 2, 'monitor_value': 'val_custom_mae', 'optimizer': <class 'tensorflow.python.keras.optimizer_v2.adam.Adam'>, 'reduction_metric': 'custom_mae', 'samples': 20000}\n",
      "Using Loss: mean_squared_error \n",
      "and Reduction Metric: [<function custom_mae at 0x0000026E06BB99D8>]\n",
      "Monitor: val_custom_mae\n",
      "Train on 16000 samples, validate on 4000 samples\n",
      "15904/16000 [============================>.] - ETA: 0s - loss: 4627.8189 - custom_mae: 44.9878\n",
      "Epoch 00001: val_custom_mae improved from inf to 33.73399, saving model to ..\\fast_output\\SYNTH_Regression_MSE\\201019_2253_final_Angular_Base_Custom-MAE\\Best_Weights_FC_259.hdf5\n",
      "16000/16000 [==============================] - 13s 793us/sample - loss: 4621.5814 - custom_mae: 44.9466 - val_loss: 2922.8608 - val_custom_mae: 33.7340\n",
      "Time taken: 0:00:14.191532\n"
     ]
    },
    {
     "name": "stderr",
     "output_type": "stream",
     "text": [
      "\r",
      " 72%|█████████████████████████████████████████████████████████▊                      | 260/360 [46:14<24:37, 14.77s/it]"
     ]
    },
    {
     "name": "stdout",
     "output_type": "stream",
     "text": [
      "{'activation': 'relu', 'batch_size': 32, 'dropout': 0.5, 'epochs': 1, 'first_neuron': 4096, 'hidden_layers': 1, 'label_type': 'Angular', 'loss_function': 'mean_squared_error', 'lr': 5, 'monitor_value': 'val_custom_mae', 'optimizer': <class 'tensorflow.python.keras.optimizer_v2.adam.Adam'>, 'reduction_metric': 'custom_mae', 'samples': 20000}\n",
      "Using Loss: mean_squared_error \n",
      "and Reduction Metric: [<function custom_mae at 0x0000026E06BB99D8>]\n",
      "Monitor: val_custom_mae\n",
      "Train on 16000 samples, validate on 4000 samples\n",
      "15904/16000 [============================>.] - ETA: 0s - loss: 10857.0393 - custom_mae: 52.0231\n",
      "Epoch 00001: val_custom_mae improved from inf to 45.41511, saving model to ..\\fast_output\\SYNTH_Regression_MSE\\201019_2253_final_Angular_Base_Custom-MAE\\Best_Weights_FC_260.hdf5\n",
      "16000/16000 [==============================] - 13s 787us/sample - loss: 10817.9337 - custom_mae: 51.9662 - val_loss: 4348.7599 - val_custom_mae: 45.4151\n",
      "Time taken: 0:00:14.109619\n"
     ]
    },
    {
     "name": "stderr",
     "output_type": "stream",
     "text": [
      "\r",
      " 72%|██████████████████████████████████████████████████████████                      | 261/360 [46:30<24:54, 15.09s/it]"
     ]
    },
    {
     "name": "stdout",
     "output_type": "stream",
     "text": [
      "{'activation': 'relu', 'batch_size': 32, 'dropout': 0.5, 'epochs': 1, 'first_neuron': 4096, 'hidden_layers': 2, 'label_type': 'Angular', 'loss_function': 'mean_squared_error', 'lr': 1, 'monitor_value': 'val_custom_mae', 'optimizer': <class 'tensorflow.python.keras.optimizer_v2.adam.Adam'>, 'reduction_metric': 'custom_mae', 'samples': 20000}\n",
      "Using Loss: mean_squared_error \n",
      "and Reduction Metric: [<function custom_mae at 0x0000026E06BB99D8>]\n",
      "Monitor: val_custom_mae\n",
      "Train on 16000 samples, validate on 4000 samples\n",
      "15872/16000 [============================>.] - ETA: 0s - loss: 4873.8659 - custom_mae: 47.7583\n",
      "Epoch 00001: val_custom_mae improved from inf to 35.43383, saving model to ..\\fast_output\\SYNTH_Regression_MSE\\201019_2253_final_Angular_Base_Custom-MAE\\Best_Weights_FC_261.hdf5\n",
      "16000/16000 [==============================] - 13s 815us/sample - loss: 4861.2878 - custom_mae: 47.6688 - val_loss: 3150.1474 - val_custom_mae: 35.4338\n",
      "Time taken: 0:00:14.547532\n"
     ]
    },
    {
     "name": "stderr",
     "output_type": "stream",
     "text": [
      "\r",
      " 73%|██████████████████████████████████████████████████████████▏                     | 262/360 [46:46<25:14, 15.45s/it]"
     ]
    },
    {
     "name": "stdout",
     "output_type": "stream",
     "text": [
      "{'activation': 'relu', 'batch_size': 32, 'dropout': 0.5, 'epochs': 1, 'first_neuron': 4096, 'hidden_layers': 2, 'label_type': 'Angular', 'loss_function': 'mean_squared_error', 'lr': 2, 'monitor_value': 'val_custom_mae', 'optimizer': <class 'tensorflow.python.keras.optimizer_v2.adam.Adam'>, 'reduction_metric': 'custom_mae', 'samples': 20000}\n",
      "Using Loss: mean_squared_error \n",
      "and Reduction Metric: [<function custom_mae at 0x0000026E06BB99D8>]\n",
      "Monitor: val_custom_mae\n",
      "Train on 16000 samples, validate on 4000 samples\n",
      "15904/16000 [============================>.] - ETA: 0s - loss: 5362.0716 - custom_mae: 50.7857\n",
      "Epoch 00001: val_custom_mae improved from inf to 36.57384, saving model to ..\\fast_output\\SYNTH_Regression_MSE\\201019_2253_final_Angular_Base_Custom-MAE\\Best_Weights_FC_262.hdf5\n",
      "16000/16000 [==============================] - 13s 809us/sample - loss: 5359.1474 - custom_mae: 50.7608 - val_loss: 3212.7754 - val_custom_mae: 36.5738\n",
      "Time taken: 0:00:14.454412\n"
     ]
    },
    {
     "name": "stderr",
     "output_type": "stream",
     "text": [
      "\r",
      " 73%|██████████████████████████████████████████████████████████▍                     | 263/360 [47:02<25:20, 15.68s/it]"
     ]
    },
    {
     "name": "stdout",
     "output_type": "stream",
     "text": [
      "{'activation': 'relu', 'batch_size': 32, 'dropout': 0.5, 'epochs': 1, 'first_neuron': 4096, 'hidden_layers': 2, 'label_type': 'Angular', 'loss_function': 'mean_squared_error', 'lr': 5, 'monitor_value': 'val_custom_mae', 'optimizer': <class 'tensorflow.python.keras.optimizer_v2.adam.Adam'>, 'reduction_metric': 'custom_mae', 'samples': 20000}\n",
      "Using Loss: mean_squared_error \n",
      "and Reduction Metric: [<function custom_mae at 0x0000026E06BB99D8>]\n",
      "Monitor: val_custom_mae\n",
      "Train on 16000 samples, validate on 4000 samples\n",
      "15904/16000 [============================>.] - ETA: 0s - loss: 29697.4203 - custom_mae: 61.9925\n",
      "Epoch 00001: val_custom_mae improved from inf to 45.44830, saving model to ..\\fast_output\\SYNTH_Regression_MSE\\201019_2253_final_Angular_Base_Custom-MAE\\Best_Weights_FC_263.hdf5\n",
      "16000/16000 [==============================] - 13s 811us/sample - loss: 29552.4828 - custom_mae: 61.9306 - val_loss: 4119.9163 - val_custom_mae: 45.4483\n",
      "Time taken: 0:00:14.475531\n"
     ]
    },
    {
     "name": "stderr",
     "output_type": "stream",
     "text": [
      "\r",
      " 73%|██████████████████████████████████████████████████████████▋                     | 264/360 [47:18<25:20, 15.84s/it]"
     ]
    },
    {
     "name": "stdout",
     "output_type": "stream",
     "text": [
      "{'activation': 'relu', 'batch_size': 32, 'dropout': 0.5, 'epochs': 1, 'first_neuron': 4096, 'hidden_layers': 3, 'label_type': 'Angular', 'loss_function': 'mean_squared_error', 'lr': 1, 'monitor_value': 'val_custom_mae', 'optimizer': <class 'tensorflow.python.keras.optimizer_v2.adam.Adam'>, 'reduction_metric': 'custom_mae', 'samples': 20000}\n",
      "Using Loss: mean_squared_error \n",
      "and Reduction Metric: [<function custom_mae at 0x0000026E06BB99D8>]\n",
      "Monitor: val_custom_mae\n",
      "Train on 16000 samples, validate on 4000 samples\n",
      "15904/16000 [============================>.] - ETA: 0s - loss: 5405.4219 - custom_mae: 52.7053\n",
      "Epoch 00001: val_custom_mae improved from inf to 37.12471, saving model to ..\\fast_output\\SYNTH_Regression_MSE\\201019_2253_final_Angular_Base_Custom-MAE\\Best_Weights_FC_264.hdf5\n",
      "16000/16000 [==============================] - 13s 814us/sample - loss: 5399.8978 - custom_mae: 52.6604 - val_loss: 3251.0515 - val_custom_mae: 37.1247\n",
      "Time taken: 0:00:14.520055\n"
     ]
    },
    {
     "name": "stderr",
     "output_type": "stream",
     "text": [
      "\r",
      " 74%|██████████████████████████████████████████████████████████▉                     | 265/360 [47:35<25:17, 15.98s/it]"
     ]
    },
    {
     "name": "stdout",
     "output_type": "stream",
     "text": [
      "{'activation': 'relu', 'batch_size': 32, 'dropout': 0.5, 'epochs': 1, 'first_neuron': 4096, 'hidden_layers': 3, 'label_type': 'Angular', 'loss_function': 'mean_squared_error', 'lr': 2, 'monitor_value': 'val_custom_mae', 'optimizer': <class 'tensorflow.python.keras.optimizer_v2.adam.Adam'>, 'reduction_metric': 'custom_mae', 'samples': 20000}\n",
      "Using Loss: mean_squared_error \n",
      "and Reduction Metric: [<function custom_mae at 0x0000026E06BB99D8>]\n",
      "Monitor: val_custom_mae\n",
      "Train on 16000 samples, validate on 4000 samples\n",
      "15904/16000 [============================>.] - ETA: 0s - loss: 6095.1036 - custom_mae: 56.2255\n",
      "Epoch 00001: val_custom_mae improved from inf to 46.12014, saving model to ..\\fast_output\\SYNTH_Regression_MSE\\201019_2253_final_Angular_Base_Custom-MAE\\Best_Weights_FC_265.hdf5\n",
      "16000/16000 [==============================] - 13s 818us/sample - loss: 6090.4620 - custom_mae: 56.2027 - val_loss: 4067.7108 - val_custom_mae: 46.1201\n",
      "Time taken: 0:00:14.601465\n"
     ]
    },
    {
     "name": "stderr",
     "output_type": "stream",
     "text": [
      "\r",
      " 74%|███████████████████████████████████████████████████████████                     | 266/360 [47:51<25:12, 16.09s/it]"
     ]
    },
    {
     "name": "stdout",
     "output_type": "stream",
     "text": [
      "{'activation': 'relu', 'batch_size': 32, 'dropout': 0.5, 'epochs': 1, 'first_neuron': 4096, 'hidden_layers': 3, 'label_type': 'Angular', 'loss_function': 'mean_squared_error', 'lr': 5, 'monitor_value': 'val_custom_mae', 'optimizer': <class 'tensorflow.python.keras.optimizer_v2.adam.Adam'>, 'reduction_metric': 'custom_mae', 'samples': 20000}\n",
      "Using Loss: mean_squared_error \n",
      "and Reduction Metric: [<function custom_mae at 0x0000026E06BB99D8>]\n",
      "Monitor: val_custom_mae\n",
      "Train on 16000 samples, validate on 4000 samples\n",
      "15904/16000 [============================>.] - ETA: 0s - loss: 19132.7600 - custom_mae: 65.4866\n",
      "Epoch 00001: val_custom_mae improved from inf to 64.59738, saving model to ..\\fast_output\\SYNTH_Regression_MSE\\201019_2253_final_Angular_Base_Custom-MAE\\Best_Weights_FC_266.hdf5\n",
      "16000/16000 [==============================] - 13s 820us/sample - loss: 19058.0789 - custom_mae: 65.4475 - val_loss: 7895.3307 - val_custom_mae: 64.5974\n",
      "Time taken: 0:00:14.637875\n"
     ]
    },
    {
     "name": "stderr",
     "output_type": "stream",
     "text": [
      "\r",
      " 74%|███████████████████████████████████████████████████████████▎                    | 267/360 [48:07<25:05, 16.19s/it]"
     ]
    },
    {
     "name": "stdout",
     "output_type": "stream",
     "text": [
      "{'activation': 'relu', 'batch_size': 32, 'dropout': 0.5, 'epochs': 1, 'first_neuron': 4096, 'hidden_layers': 4, 'label_type': 'Angular', 'loss_function': 'mean_squared_error', 'lr': 1, 'monitor_value': 'val_custom_mae', 'optimizer': <class 'tensorflow.python.keras.optimizer_v2.adam.Adam'>, 'reduction_metric': 'custom_mae', 'samples': 20000}\n",
      "Using Loss: mean_squared_error \n",
      "and Reduction Metric: [<function custom_mae at 0x0000026E06BB99D8>]\n",
      "Monitor: val_custom_mae\n",
      "Train on 16000 samples, validate on 4000 samples\n",
      "15904/16000 [============================>.] - ETA: 0s - loss: 5947.3016 - custom_mae: 55.7287\n",
      "Epoch 00001: val_custom_mae improved from inf to 44.38380, saving model to ..\\fast_output\\SYNTH_Regression_MSE\\201019_2253_final_Angular_Base_Custom-MAE\\Best_Weights_FC_267.hdf5\n",
      "16000/16000 [==============================] - 13s 828us/sample - loss: 5941.1769 - custom_mae: 55.6970 - val_loss: 3812.8849 - val_custom_mae: 44.3838\n",
      "Time taken: 0:00:14.756777\n"
     ]
    },
    {
     "name": "stderr",
     "output_type": "stream",
     "text": [
      "\r",
      " 74%|███████████████████████████████████████████████████████████▌                    | 268/360 [48:24<24:59, 16.29s/it]"
     ]
    },
    {
     "name": "stdout",
     "output_type": "stream",
     "text": [
      "{'activation': 'relu', 'batch_size': 32, 'dropout': 0.5, 'epochs': 1, 'first_neuron': 4096, 'hidden_layers': 4, 'label_type': 'Angular', 'loss_function': 'mean_squared_error', 'lr': 2, 'monitor_value': 'val_custom_mae', 'optimizer': <class 'tensorflow.python.keras.optimizer_v2.adam.Adam'>, 'reduction_metric': 'custom_mae', 'samples': 20000}\n",
      "Using Loss: mean_squared_error \n",
      "and Reduction Metric: [<function custom_mae at 0x0000026E06BB99D8>]\n",
      "Monitor: val_custom_mae\n",
      "Train on 16000 samples, validate on 4000 samples\n",
      "15904/16000 [============================>.] - ETA: 0s - loss: 6818.5676 - custom_mae: 59.0779\n",
      "Epoch 00001: val_custom_mae improved from inf to 54.46884, saving model to ..\\fast_output\\SYNTH_Regression_MSE\\201019_2253_final_Angular_Base_Custom-MAE\\Best_Weights_FC_268.hdf5\n",
      "16000/16000 [==============================] - 13s 827us/sample - loss: 6814.5708 - custom_mae: 59.0571 - val_loss: 5642.8471 - val_custom_mae: 54.4688\n",
      "Time taken: 0:00:14.744789\n"
     ]
    },
    {
     "name": "stderr",
     "output_type": "stream",
     "text": [
      "\r",
      " 75%|███████████████████████████████████████████████████████████▊                    | 269/360 [48:41<24:49, 16.37s/it]"
     ]
    },
    {
     "name": "stdout",
     "output_type": "stream",
     "text": [
      "{'activation': 'relu', 'batch_size': 32, 'dropout': 0.5, 'epochs': 1, 'first_neuron': 4096, 'hidden_layers': 4, 'label_type': 'Angular', 'loss_function': 'mean_squared_error', 'lr': 5, 'monitor_value': 'val_custom_mae', 'optimizer': <class 'tensorflow.python.keras.optimizer_v2.adam.Adam'>, 'reduction_metric': 'custom_mae', 'samples': 20000}\n",
      "Using Loss: mean_squared_error \n",
      "and Reduction Metric: [<function custom_mae at 0x0000026E06BB99D8>]\n",
      "Monitor: val_custom_mae\n",
      "Train on 16000 samples, validate on 4000 samples\n",
      "15904/16000 [============================>.] - ETA: 0s - loss: 13708.2028 - custom_mae: 68.0567\n",
      "Epoch 00001: val_custom_mae improved from inf to 79.02481, saving model to ..\\fast_output\\SYNTH_Regression_MSE\\201019_2253_final_Angular_Base_Custom-MAE\\Best_Weights_FC_269.hdf5\n",
      "16000/16000 [==============================] - 13s 824us/sample - loss: 13691.1296 - custom_mae: 68.0974 - val_loss: 12498.2005 - val_custom_mae: 79.0248\n",
      "Time taken: 0:00:14.693090\n"
     ]
    },
    {
     "name": "stderr",
     "output_type": "stream",
     "text": [
      "\r",
      " 75%|████████████████████████████████████████████████████████████                    | 270/360 [48:57<24:36, 16.41s/it]"
     ]
    },
    {
     "name": "stdout",
     "output_type": "stream",
     "text": [
      "{'activation': 'relu', 'batch_size': 64, 'dropout': 0.25, 'epochs': 1, 'first_neuron': 1024, 'hidden_layers': 0, 'label_type': 'Angular', 'loss_function': 'mean_squared_error', 'lr': 1, 'monitor_value': 'val_custom_mae', 'optimizer': <class 'tensorflow.python.keras.optimizer_v2.adam.Adam'>, 'reduction_metric': 'custom_mae', 'samples': 20000}\n",
      "Using Loss: mean_squared_error \n",
      "and Reduction Metric: [<function custom_mae at 0x0000026E06BB99D8>]\n",
      "Monitor: val_custom_mae\n",
      "Train on 16000 samples, validate on 3968 samples\n",
      "15872/16000 [============================>.] - ETA: 0s - loss: 4542.8724 - custom_mae: 44.2455\n",
      "Epoch 00001: val_custom_mae improved from inf to 36.12953, saving model to ..\\fast_output\\SYNTH_Regression_MSE\\201019_2253_final_Angular_Base_Custom-MAE\\Best_Weights_FC_270.hdf5\n",
      "16000/16000 [==============================] - 3s 215us/sample - loss: 4530.3155 - custom_mae: 44.1596 - val_loss: 3427.9956 - val_custom_mae: 36.1295\n",
      "Time taken: 0:00:05.056117\n"
     ]
    },
    {
     "name": "stderr",
     "output_type": "stream",
     "text": [
      "\r",
      " 75%|████████████████████████████████████████████████████████████▏                   | 271/360 [49:08<21:43, 14.64s/it]"
     ]
    },
    {
     "name": "stdout",
     "output_type": "stream",
     "text": [
      "{'activation': 'relu', 'batch_size': 64, 'dropout': 0.25, 'epochs': 1, 'first_neuron': 1024, 'hidden_layers': 0, 'label_type': 'Angular', 'loss_function': 'mean_squared_error', 'lr': 2, 'monitor_value': 'val_custom_mae', 'optimizer': <class 'tensorflow.python.keras.optimizer_v2.adam.Adam'>, 'reduction_metric': 'custom_mae', 'samples': 20000}\n",
      "Using Loss: mean_squared_error \n",
      "and Reduction Metric: [<function custom_mae at 0x0000026E06BB99D8>]\n",
      "Monitor: val_custom_mae\n",
      "Train on 16000 samples, validate on 3968 samples\n",
      "15424/16000 [===========================>..] - ETA: 0s - loss: 4146.1442 - custom_mae: 41.5211\n",
      "Epoch 00001: val_custom_mae improved from inf to 32.68595, saving model to ..\\fast_output\\SYNTH_Regression_MSE\\201019_2253_final_Angular_Base_Custom-MAE\\Best_Weights_FC_271.hdf5\n",
      "16000/16000 [==============================] - 3s 205us/sample - loss: 4093.9624 - custom_mae: 41.1768 - val_loss: 2935.1453 - val_custom_mae: 32.6859\n",
      "Time taken: 0:00:04.781899\n"
     ]
    },
    {
     "name": "stderr",
     "output_type": "stream",
     "text": [
      "\r",
      " 76%|████████████████████████████████████████████████████████████▍                   | 272/360 [49:14<17:52, 12.19s/it]"
     ]
    },
    {
     "name": "stdout",
     "output_type": "stream",
     "text": [
      "{'activation': 'relu', 'batch_size': 64, 'dropout': 0.25, 'epochs': 1, 'first_neuron': 1024, 'hidden_layers': 0, 'label_type': 'Angular', 'loss_function': 'mean_squared_error', 'lr': 5, 'monitor_value': 'val_custom_mae', 'optimizer': <class 'tensorflow.python.keras.optimizer_v2.adam.Adam'>, 'reduction_metric': 'custom_mae', 'samples': 20000}\n",
      "Using Loss: mean_squared_error \n",
      "and Reduction Metric: [<function custom_mae at 0x0000026E06BB99D8>]\n",
      "Monitor: val_custom_mae\n",
      "Train on 16000 samples, validate on 3968 samples\n",
      "15488/16000 [============================>.] - ETA: 0s - loss: 3809.0259 - custom_mae: 39.2267\n",
      "Epoch 00001: val_custom_mae improved from inf to 30.97345, saving model to ..\\fast_output\\SYNTH_Regression_MSE\\201019_2253_final_Angular_Base_Custom-MAE\\Best_Weights_FC_272.hdf5\n",
      "16000/16000 [==============================] - 3s 212us/sample - loss: 3759.7414 - custom_mae: 38.9118 - val_loss: 2707.1441 - val_custom_mae: 30.9734\n",
      "Time taken: 0:00:04.900228\n"
     ]
    },
    {
     "name": "stderr",
     "output_type": "stream",
     "text": [
      "\r",
      " 76%|████████████████████████████████████████████████████████████▋                   | 273/360 [49:21<15:13, 10.50s/it]"
     ]
    },
    {
     "name": "stdout",
     "output_type": "stream",
     "text": [
      "{'activation': 'relu', 'batch_size': 64, 'dropout': 0.25, 'epochs': 1, 'first_neuron': 1024, 'hidden_layers': 1, 'label_type': 'Angular', 'loss_function': 'mean_squared_error', 'lr': 1, 'monitor_value': 'val_custom_mae', 'optimizer': <class 'tensorflow.python.keras.optimizer_v2.adam.Adam'>, 'reduction_metric': 'custom_mae', 'samples': 20000}\n",
      "Using Loss: mean_squared_error \n",
      "and Reduction Metric: [<function custom_mae at 0x0000026E06BB99D8>]\n",
      "Monitor: val_custom_mae\n",
      "Train on 16000 samples, validate on 3968 samples\n",
      "15808/16000 [============================>.] - ETA: 0s - loss: 4484.0905 - custom_mae: 44.4844\n",
      "Epoch 00001: val_custom_mae improved from inf to 33.15471, saving model to ..\\fast_output\\SYNTH_Regression_MSE\\201019_2253_final_Angular_Base_Custom-MAE\\Best_Weights_FC_273.hdf5\n",
      "16000/16000 [==============================] - 4s 220us/sample - loss: 4462.9203 - custom_mae: 44.3352 - val_loss: 2994.4300 - val_custom_mae: 33.1547\n",
      "Time taken: 0:00:05.005166\n"
     ]
    },
    {
     "name": "stderr",
     "output_type": "stream",
     "text": [
      "\r",
      " 76%|████████████████████████████████████████████████████████████▉                   | 274/360 [49:27<13:25,  9.37s/it]"
     ]
    },
    {
     "name": "stdout",
     "output_type": "stream",
     "text": [
      "{'activation': 'relu', 'batch_size': 64, 'dropout': 0.25, 'epochs': 1, 'first_neuron': 1024, 'hidden_layers': 1, 'label_type': 'Angular', 'loss_function': 'mean_squared_error', 'lr': 2, 'monitor_value': 'val_custom_mae', 'optimizer': <class 'tensorflow.python.keras.optimizer_v2.adam.Adam'>, 'reduction_metric': 'custom_mae', 'samples': 20000}\n",
      "Using Loss: mean_squared_error \n",
      "and Reduction Metric: [<function custom_mae at 0x0000026E06BB99D8>]\n",
      "Monitor: val_custom_mae\n",
      "Train on 16000 samples, validate on 3968 samples\n",
      "15424/16000 [===========================>..] - ETA: 0s - loss: 4070.1890 - custom_mae: 41.7468\n",
      "Epoch 00001: val_custom_mae improved from inf to 31.82212, saving model to ..\\fast_output\\SYNTH_Regression_MSE\\201019_2253_final_Angular_Base_Custom-MAE\\Best_Weights_FC_274.hdf5\n",
      "16000/16000 [==============================] - 3s 218us/sample - loss: 4021.0068 - custom_mae: 41.4045 - val_loss: 2882.7347 - val_custom_mae: 31.8221\n",
      "Time taken: 0:00:05.006169\n"
     ]
    },
    {
     "name": "stderr",
     "output_type": "stream",
     "text": [
      "\r",
      " 76%|█████████████████████████████████████████████████████████████                   | 275/360 [49:34<12:08,  8.57s/it]"
     ]
    },
    {
     "name": "stdout",
     "output_type": "stream",
     "text": [
      "{'activation': 'relu', 'batch_size': 64, 'dropout': 0.25, 'epochs': 1, 'first_neuron': 1024, 'hidden_layers': 1, 'label_type': 'Angular', 'loss_function': 'mean_squared_error', 'lr': 5, 'monitor_value': 'val_custom_mae', 'optimizer': <class 'tensorflow.python.keras.optimizer_v2.adam.Adam'>, 'reduction_metric': 'custom_mae', 'samples': 20000}\n",
      "Using Loss: mean_squared_error \n",
      "and Reduction Metric: [<function custom_mae at 0x0000026E06BB99D8>]\n",
      "Monitor: val_custom_mae\n",
      "Train on 16000 samples, validate on 3968 samples\n",
      "15488/16000 [============================>.] - ETA: 0s - loss: 4799.0082 - custom_mae: 46.1666\n",
      "Epoch 00001: val_custom_mae improved from inf to 32.16419, saving model to ..\\fast_output\\SYNTH_Regression_MSE\\201019_2253_final_Angular_Base_Custom-MAE\\Best_Weights_FC_275.hdf5\n",
      "16000/16000 [==============================] - 3s 217us/sample - loss: 4730.7034 - custom_mae: 45.7338 - val_loss: 2832.8554 - val_custom_mae: 32.1642\n",
      "Time taken: 0:00:04.975365\n"
     ]
    },
    {
     "name": "stderr",
     "output_type": "stream",
     "text": [
      "\r",
      " 77%|█████████████████████████████████████████████████████████████▎                  | 276/360 [49:41<11:12,  8.00s/it]"
     ]
    },
    {
     "name": "stdout",
     "output_type": "stream",
     "text": [
      "{'activation': 'relu', 'batch_size': 64, 'dropout': 0.25, 'epochs': 1, 'first_neuron': 1024, 'hidden_layers': 2, 'label_type': 'Angular', 'loss_function': 'mean_squared_error', 'lr': 1, 'monitor_value': 'val_custom_mae', 'optimizer': <class 'tensorflow.python.keras.optimizer_v2.adam.Adam'>, 'reduction_metric': 'custom_mae', 'samples': 20000}\n",
      "Using Loss: mean_squared_error \n",
      "and Reduction Metric: [<function custom_mae at 0x0000026E06BB99D8>]\n",
      "Monitor: val_custom_mae\n",
      "Train on 16000 samples, validate on 3968 samples\n",
      "15808/16000 [============================>.] - ETA: 0s - loss: 4727.9361 - custom_mae: 46.8475\n",
      "Epoch 00001: val_custom_mae improved from inf to 33.42461, saving model to ..\\fast_output\\SYNTH_Regression_MSE\\201019_2253_final_Angular_Base_Custom-MAE\\Best_Weights_FC_276.hdf5\n",
      "16000/16000 [==============================] - 4s 222us/sample - loss: 4704.2249 - custom_mae: 46.6937 - val_loss: 2978.4913 - val_custom_mae: 33.4246\n",
      "Time taken: 0:00:05.073901\n"
     ]
    },
    {
     "name": "stderr",
     "output_type": "stream",
     "text": [
      "\r",
      " 77%|█████████████████████████████████████████████████████████████▌                  | 277/360 [49:48<10:34,  7.65s/it]"
     ]
    },
    {
     "name": "stdout",
     "output_type": "stream",
     "text": [
      "{'activation': 'relu', 'batch_size': 64, 'dropout': 0.25, 'epochs': 1, 'first_neuron': 1024, 'hidden_layers': 2, 'label_type': 'Angular', 'loss_function': 'mean_squared_error', 'lr': 2, 'monitor_value': 'val_custom_mae', 'optimizer': <class 'tensorflow.python.keras.optimizer_v2.adam.Adam'>, 'reduction_metric': 'custom_mae', 'samples': 20000}\n",
      "Using Loss: mean_squared_error \n",
      "and Reduction Metric: [<function custom_mae at 0x0000026E06BB99D8>]\n",
      "Monitor: val_custom_mae\n",
      "Train on 16000 samples, validate on 3968 samples\n",
      "15808/16000 [============================>.] - ETA: 0s - loss: 4267.9705 - custom_mae: 43.7958\n",
      "Epoch 00001: val_custom_mae improved from inf to 30.96313, saving model to ..\\fast_output\\SYNTH_Regression_MSE\\201019_2253_final_Angular_Base_Custom-MAE\\Best_Weights_FC_277.hdf5\n",
      "16000/16000 [==============================] - 4s 223us/sample - loss: 4249.2279 - custom_mae: 43.6663 - val_loss: 2671.1828 - val_custom_mae: 30.9631\n",
      "Time taken: 0:00:05.062440\n"
     ]
    },
    {
     "name": "stderr",
     "output_type": "stream",
     "text": [
      "\r",
      " 77%|█████████████████████████████████████████████████████████████▊                  | 278/360 [49:54<10:06,  7.39s/it]"
     ]
    },
    {
     "name": "stdout",
     "output_type": "stream",
     "text": [
      "{'activation': 'relu', 'batch_size': 64, 'dropout': 0.25, 'epochs': 1, 'first_neuron': 1024, 'hidden_layers': 2, 'label_type': 'Angular', 'loss_function': 'mean_squared_error', 'lr': 5, 'monitor_value': 'val_custom_mae', 'optimizer': <class 'tensorflow.python.keras.optimizer_v2.adam.Adam'>, 'reduction_metric': 'custom_mae', 'samples': 20000}\n",
      "Using Loss: mean_squared_error \n",
      "and Reduction Metric: [<function custom_mae at 0x0000026E06BB99D8>]\n",
      "Monitor: val_custom_mae\n",
      "Train on 16000 samples, validate on 3968 samples\n",
      "15936/16000 [============================>.] - ETA: 0s - loss: 5082.6943 - custom_mae: 49.1627\n",
      "Epoch 00001: val_custom_mae improved from inf to 33.95817, saving model to ..\\fast_output\\SYNTH_Regression_MSE\\201019_2253_final_Angular_Base_Custom-MAE\\Best_Weights_FC_278.hdf5\n",
      "16000/16000 [==============================] - 4s 223us/sample - loss: 5078.6706 - custom_mae: 49.1359 - val_loss: 2898.9858 - val_custom_mae: 33.9582\n",
      "Time taken: 0:00:05.074980\n"
     ]
    },
    {
     "name": "stderr",
     "output_type": "stream",
     "text": [
      "\r",
      " 78%|██████████████████████████████████████████████████████████████                  | 279/360 [50:01<09:44,  7.22s/it]"
     ]
    },
    {
     "name": "stdout",
     "output_type": "stream",
     "text": [
      "{'activation': 'relu', 'batch_size': 64, 'dropout': 0.25, 'epochs': 1, 'first_neuron': 1024, 'hidden_layers': 3, 'label_type': 'Angular', 'loss_function': 'mean_squared_error', 'lr': 1, 'monitor_value': 'val_custom_mae', 'optimizer': <class 'tensorflow.python.keras.optimizer_v2.adam.Adam'>, 'reduction_metric': 'custom_mae', 'samples': 20000}\n",
      "Using Loss: mean_squared_error \n",
      "and Reduction Metric: [<function custom_mae at 0x0000026E06BB99D8>]\n",
      "Monitor: val_custom_mae\n",
      "Train on 16000 samples, validate on 3968 samples\n",
      "15488/16000 [============================>.] - ETA: 0s - loss: 5108.5086 - custom_mae: 49.9603\n",
      "Epoch 00001: val_custom_mae improved from inf to 35.21363, saving model to ..\\fast_output\\SYNTH_Regression_MSE\\201019_2253_final_Angular_Base_Custom-MAE\\Best_Weights_FC_279.hdf5\n",
      "16000/16000 [==============================] - 4s 230us/sample - loss: 5039.6416 - custom_mae: 49.5323 - val_loss: 3158.1101 - val_custom_mae: 35.2136\n",
      "Time taken: 0:00:05.193349\n"
     ]
    },
    {
     "name": "stderr",
     "output_type": "stream",
     "text": [
      "\r",
      " 78%|██████████████████████████████████████████████████████████████▏                 | 280/360 [50:08<09:30,  7.13s/it]"
     ]
    },
    {
     "name": "stdout",
     "output_type": "stream",
     "text": [
      "{'activation': 'relu', 'batch_size': 64, 'dropout': 0.25, 'epochs': 1, 'first_neuron': 1024, 'hidden_layers': 3, 'label_type': 'Angular', 'loss_function': 'mean_squared_error', 'lr': 2, 'monitor_value': 'val_custom_mae', 'optimizer': <class 'tensorflow.python.keras.optimizer_v2.adam.Adam'>, 'reduction_metric': 'custom_mae', 'samples': 20000}\n",
      "Using Loss: mean_squared_error \n",
      "and Reduction Metric: [<function custom_mae at 0x0000026E06BB99D8>]\n",
      "Monitor: val_custom_mae\n",
      "Train on 16000 samples, validate on 3968 samples\n",
      "15488/16000 [============================>.] - ETA: 0s - loss: 4753.8290 - custom_mae: 47.8442\n",
      "Epoch 00001: val_custom_mae improved from inf to 37.88929, saving model to ..\\fast_output\\SYNTH_Regression_MSE\\201019_2253_final_Angular_Base_Custom-MAE\\Best_Weights_FC_280.hdf5\n",
      "16000/16000 [==============================] - 4s 231us/sample - loss: 4702.1229 - custom_mae: 47.5246 - val_loss: 3048.7552 - val_custom_mae: 37.8893\n",
      "Time taken: 0:00:05.209649\n"
     ]
    },
    {
     "name": "stderr",
     "output_type": "stream",
     "text": [
      "\r",
      " 78%|██████████████████████████████████████████████████████████████▍                 | 281/360 [50:15<09:19,  7.08s/it]"
     ]
    },
    {
     "name": "stdout",
     "output_type": "stream",
     "text": [
      "{'activation': 'relu', 'batch_size': 64, 'dropout': 0.25, 'epochs': 1, 'first_neuron': 1024, 'hidden_layers': 3, 'label_type': 'Angular', 'loss_function': 'mean_squared_error', 'lr': 5, 'monitor_value': 'val_custom_mae', 'optimizer': <class 'tensorflow.python.keras.optimizer_v2.adam.Adam'>, 'reduction_metric': 'custom_mae', 'samples': 20000}\n",
      "Using Loss: mean_squared_error \n",
      "and Reduction Metric: [<function custom_mae at 0x0000026E06BB99D8>]\n",
      "Monitor: val_custom_mae\n",
      "Train on 16000 samples, validate on 3968 samples\n",
      "15872/16000 [============================>.] - ETA: 0s - loss: 5729.7962 - custom_mae: 54.1511\n",
      "Epoch 00001: val_custom_mae improved from inf to 51.70027, saving model to ..\\fast_output\\SYNTH_Regression_MSE\\201019_2253_final_Angular_Base_Custom-MAE\\Best_Weights_FC_281.hdf5\n",
      "16000/16000 [==============================] - 4s 231us/sample - loss: 5723.2753 - custom_mae: 54.1172 - val_loss: 4907.7931 - val_custom_mae: 51.7003\n",
      "Time taken: 0:00:05.202473\n"
     ]
    },
    {
     "name": "stderr",
     "output_type": "stream",
     "text": [
      "\r",
      " 78%|██████████████████████████████████████████████████████████████▋                 | 282/360 [50:22<09:09,  7.04s/it]"
     ]
    },
    {
     "name": "stdout",
     "output_type": "stream",
     "text": [
      "{'activation': 'relu', 'batch_size': 64, 'dropout': 0.25, 'epochs': 1, 'first_neuron': 1024, 'hidden_layers': 4, 'label_type': 'Angular', 'loss_function': 'mean_squared_error', 'lr': 1, 'monitor_value': 'val_custom_mae', 'optimizer': <class 'tensorflow.python.keras.optimizer_v2.adam.Adam'>, 'reduction_metric': 'custom_mae', 'samples': 20000}\n",
      "Using Loss: mean_squared_error \n",
      "and Reduction Metric: [<function custom_mae at 0x0000026E06BB99D8>]\n",
      "Monitor: val_custom_mae\n",
      "Train on 16000 samples, validate on 3968 samples\n",
      "15680/16000 [============================>.] - ETA: 0s - loss: 5737.5885 - custom_mae: 54.3441\n",
      "Epoch 00001: val_custom_mae improved from inf to 39.16434, saving model to ..\\fast_output\\SYNTH_Regression_MSE\\201019_2253_final_Angular_Base_Custom-MAE\\Best_Weights_FC_282.hdf5\n",
      "16000/16000 [==============================] - 4s 236us/sample - loss: 5692.5543 - custom_mae: 54.0630 - val_loss: 3437.8619 - val_custom_mae: 39.1643\n",
      "Time taken: 0:00:05.285231\n"
     ]
    },
    {
     "name": "stderr",
     "output_type": "stream",
     "text": [
      "\r",
      " 79%|██████████████████████████████████████████████████████████████▉                 | 283/360 [50:29<09:02,  7.04s/it]"
     ]
    },
    {
     "name": "stdout",
     "output_type": "stream",
     "text": [
      "{'activation': 'relu', 'batch_size': 64, 'dropout': 0.25, 'epochs': 1, 'first_neuron': 1024, 'hidden_layers': 4, 'label_type': 'Angular', 'loss_function': 'mean_squared_error', 'lr': 2, 'monitor_value': 'val_custom_mae', 'optimizer': <class 'tensorflow.python.keras.optimizer_v2.adam.Adam'>, 'reduction_metric': 'custom_mae', 'samples': 20000}\n",
      "Using Loss: mean_squared_error \n",
      "and Reduction Metric: [<function custom_mae at 0x0000026E06BB99D8>]\n",
      "Monitor: val_custom_mae\n",
      "Train on 16000 samples, validate on 3968 samples\n",
      "15552/16000 [============================>.] - ETA: 0s - loss: 5351.2229 - custom_mae: 52.5005\n",
      "Epoch 00001: val_custom_mae improved from inf to 35.58410, saving model to ..\\fast_output\\SYNTH_Regression_MSE\\201019_2253_final_Angular_Base_Custom-MAE\\Best_Weights_FC_283.hdf5\n",
      "16000/16000 [==============================] - 4s 237us/sample - loss: 5292.4017 - custom_mae: 52.1598 - val_loss: 2889.9585 - val_custom_mae: 35.5841\n",
      "Time taken: 0:00:05.286548\n"
     ]
    },
    {
     "name": "stderr",
     "output_type": "stream",
     "text": [
      "\r",
      " 79%|███████████████████████████████████████████████████████████████                 | 284/360 [50:36<08:55,  7.05s/it]"
     ]
    },
    {
     "name": "stdout",
     "output_type": "stream",
     "text": [
      "{'activation': 'relu', 'batch_size': 64, 'dropout': 0.25, 'epochs': 1, 'first_neuron': 1024, 'hidden_layers': 4, 'label_type': 'Angular', 'loss_function': 'mean_squared_error', 'lr': 5, 'monitor_value': 'val_custom_mae', 'optimizer': <class 'tensorflow.python.keras.optimizer_v2.adam.Adam'>, 'reduction_metric': 'custom_mae', 'samples': 20000}\n",
      "Using Loss: mean_squared_error \n",
      "and Reduction Metric: [<function custom_mae at 0x0000026E06BB99D8>]\n",
      "Monitor: val_custom_mae\n",
      "Train on 16000 samples, validate on 3968 samples\n",
      "15872/16000 [============================>.] - ETA: 0s - loss: 7251.4161 - custom_mae: 58.8934\n",
      "Epoch 00001: val_custom_mae improved from inf to 48.15511, saving model to ..\\fast_output\\SYNTH_Regression_MSE\\201019_2253_final_Angular_Base_Custom-MAE\\Best_Weights_FC_284.hdf5\n",
      "16000/16000 [==============================] - 4s 235us/sample - loss: 7225.8278 - custom_mae: 58.7831 - val_loss: 4330.0019 - val_custom_mae: 48.1551\n",
      "Time taken: 0:00:05.253569\n"
     ]
    },
    {
     "name": "stderr",
     "output_type": "stream",
     "text": [
      "\r",
      " 79%|███████████████████████████████████████████████████████████████▎                | 285/360 [50:43<08:48,  7.04s/it]"
     ]
    },
    {
     "name": "stdout",
     "output_type": "stream",
     "text": [
      "{'activation': 'relu', 'batch_size': 64, 'dropout': 0.25, 'epochs': 1, 'first_neuron': 2048, 'hidden_layers': 0, 'label_type': 'Angular', 'loss_function': 'mean_squared_error', 'lr': 1, 'monitor_value': 'val_custom_mae', 'optimizer': <class 'tensorflow.python.keras.optimizer_v2.adam.Adam'>, 'reduction_metric': 'custom_mae', 'samples': 20000}\n",
      "Using Loss: mean_squared_error \n",
      "and Reduction Metric: [<function custom_mae at 0x0000026E06BB99D8>]\n",
      "Monitor: val_custom_mae\n",
      "Train on 16000 samples, validate on 3968 samples\n",
      "15808/16000 [============================>.] - ETA: 0s - loss: 4312.1521 - custom_mae: 42.0348\n",
      "Epoch 00001: val_custom_mae improved from inf to 34.47733, saving model to ..\\fast_output\\SYNTH_Regression_MSE\\201019_2253_final_Angular_Base_Custom-MAE\\Best_Weights_FC_285.hdf5\n",
      "16000/16000 [==============================] - 5s 328us/sample - loss: 4294.9479 - custom_mae: 41.9188 - val_loss: 3285.1809 - val_custom_mae: 34.4773\n",
      "Time taken: 0:00:06.762273\n"
     ]
    },
    {
     "name": "stderr",
     "output_type": "stream",
     "text": [
      "\r",
      " 79%|███████████████████████████████████████████████████████████████▌                | 286/360 [50:52<09:12,  7.46s/it]"
     ]
    },
    {
     "name": "stdout",
     "output_type": "stream",
     "text": [
      "{'activation': 'relu', 'batch_size': 64, 'dropout': 0.25, 'epochs': 1, 'first_neuron': 2048, 'hidden_layers': 0, 'label_type': 'Angular', 'loss_function': 'mean_squared_error', 'lr': 2, 'monitor_value': 'val_custom_mae', 'optimizer': <class 'tensorflow.python.keras.optimizer_v2.adam.Adam'>, 'reduction_metric': 'custom_mae', 'samples': 20000}\n",
      "Using Loss: mean_squared_error \n",
      "and Reduction Metric: [<function custom_mae at 0x0000026E06BB99D8>]\n",
      "Monitor: val_custom_mae\n",
      "Train on 16000 samples, validate on 3968 samples\n",
      "15808/16000 [============================>.] - ETA: 0s - loss: 3929.9521 - custom_mae: 39.8325\n",
      "Epoch 00001: val_custom_mae improved from inf to 31.06955, saving model to ..\\fast_output\\SYNTH_Regression_MSE\\201019_2253_final_Angular_Base_Custom-MAE\\Best_Weights_FC_286.hdf5\n",
      "16000/16000 [==============================] - 5s 327us/sample - loss: 3912.3627 - custom_mae: 39.7149 - val_loss: 2781.6562 - val_custom_mae: 31.0695\n",
      "Time taken: 0:00:06.742028\n"
     ]
    },
    {
     "name": "stderr",
     "output_type": "stream",
     "text": [
      "\r",
      " 80%|███████████████████████████████████████████████████████████████▊                | 287/360 [51:00<09:25,  7.75s/it]"
     ]
    },
    {
     "name": "stdout",
     "output_type": "stream",
     "text": [
      "{'activation': 'relu', 'batch_size': 64, 'dropout': 0.25, 'epochs': 1, 'first_neuron': 2048, 'hidden_layers': 0, 'label_type': 'Angular', 'loss_function': 'mean_squared_error', 'lr': 5, 'monitor_value': 'val_custom_mae', 'optimizer': <class 'tensorflow.python.keras.optimizer_v2.adam.Adam'>, 'reduction_metric': 'custom_mae', 'samples': 20000}\n",
      "Using Loss: mean_squared_error \n",
      "and Reduction Metric: [<function custom_mae at 0x0000026E06BB99D8>]\n",
      "Monitor: val_custom_mae\n",
      "Train on 16000 samples, validate on 3968 samples\n",
      "15680/16000 [============================>.] - ETA: 0s - loss: 4054.5128 - custom_mae: 40.6020\n",
      "Epoch 00001: val_custom_mae improved from inf to 30.80821, saving model to ..\\fast_output\\SYNTH_Regression_MSE\\201019_2253_final_Angular_Base_Custom-MAE\\Best_Weights_FC_287.hdf5\n",
      "16000/16000 [==============================] - 5s 331us/sample - loss: 4020.4229 - custom_mae: 40.3784 - val_loss: 2621.5154 - val_custom_mae: 30.8082\n",
      "Time taken: 0:00:06.794125\n"
     ]
    },
    {
     "name": "stderr",
     "output_type": "stream",
     "text": [
      "\r",
      " 80%|████████████████████████████████████████████████████████████████                | 288/360 [51:08<09:33,  7.96s/it]"
     ]
    },
    {
     "name": "stdout",
     "output_type": "stream",
     "text": [
      "{'activation': 'relu', 'batch_size': 64, 'dropout': 0.25, 'epochs': 1, 'first_neuron': 2048, 'hidden_layers': 1, 'label_type': 'Angular', 'loss_function': 'mean_squared_error', 'lr': 1, 'monitor_value': 'val_custom_mae', 'optimizer': <class 'tensorflow.python.keras.optimizer_v2.adam.Adam'>, 'reduction_metric': 'custom_mae', 'samples': 20000}\n",
      "Using Loss: mean_squared_error \n",
      "and Reduction Metric: [<function custom_mae at 0x0000026E06BB99D8>]\n",
      "Monitor: val_custom_mae\n",
      "Train on 16000 samples, validate on 3968 samples\n",
      "15808/16000 [============================>.] - ETA: 0s - loss: 4116.8321 - custom_mae: 41.8450\n",
      "Epoch 00001: val_custom_mae improved from inf to 30.85838, saving model to ..\\fast_output\\SYNTH_Regression_MSE\\201019_2253_final_Angular_Base_Custom-MAE\\Best_Weights_FC_288.hdf5\n",
      "16000/16000 [==============================] - 5s 342us/sample - loss: 4096.4298 - custom_mae: 41.6972 - val_loss: 2739.0537 - val_custom_mae: 30.8584\n",
      "Time taken: 0:00:06.983617\n"
     ]
    },
    {
     "name": "stderr",
     "output_type": "stream",
     "text": [
      "\r",
      " 80%|████████████████████████████████████████████████████████████████▏               | 289/360 [51:17<09:40,  8.18s/it]"
     ]
    },
    {
     "name": "stdout",
     "output_type": "stream",
     "text": [
      "{'activation': 'relu', 'batch_size': 64, 'dropout': 0.25, 'epochs': 1, 'first_neuron': 2048, 'hidden_layers': 1, 'label_type': 'Angular', 'loss_function': 'mean_squared_error', 'lr': 2, 'monitor_value': 'val_custom_mae', 'optimizer': <class 'tensorflow.python.keras.optimizer_v2.adam.Adam'>, 'reduction_metric': 'custom_mae', 'samples': 20000}\n",
      "Using Loss: mean_squared_error \n",
      "and Reduction Metric: [<function custom_mae at 0x0000026E06BB99D8>]\n",
      "Monitor: val_custom_mae\n",
      "Train on 16000 samples, validate on 3968 samples\n",
      "15808/16000 [============================>.] - ETA: 0s - loss: 3854.7058 - custom_mae: 40.2605\n",
      "Epoch 00001: val_custom_mae improved from inf to 29.24127, saving model to ..\\fast_output\\SYNTH_Regression_MSE\\201019_2253_final_Angular_Base_Custom-MAE\\Best_Weights_FC_289.hdf5\n",
      "16000/16000 [==============================] - 5s 342us/sample - loss: 3837.9319 - custom_mae: 40.1314 - val_loss: 2604.2732 - val_custom_mae: 29.2413\n",
      "Time taken: 0:00:06.971905\n"
     ]
    },
    {
     "name": "stderr",
     "output_type": "stream",
     "text": [
      "\r",
      " 81%|████████████████████████████████████████████████████████████████▍               | 290/360 [51:26<09:42,  8.33s/it]"
     ]
    },
    {
     "name": "stdout",
     "output_type": "stream",
     "text": [
      "{'activation': 'relu', 'batch_size': 64, 'dropout': 0.25, 'epochs': 1, 'first_neuron': 2048, 'hidden_layers': 1, 'label_type': 'Angular', 'loss_function': 'mean_squared_error', 'lr': 5, 'monitor_value': 'val_custom_mae', 'optimizer': <class 'tensorflow.python.keras.optimizer_v2.adam.Adam'>, 'reduction_metric': 'custom_mae', 'samples': 20000}\n",
      "Using Loss: mean_squared_error \n",
      "and Reduction Metric: [<function custom_mae at 0x0000026E06BB99D8>]\n",
      "Monitor: val_custom_mae\n",
      "Train on 16000 samples, validate on 3968 samples\n",
      "15808/16000 [============================>.] - ETA: 0s - loss: 6546.3946 - custom_mae: 48.0979\n",
      "Epoch 00001: val_custom_mae improved from inf to 33.46371, saving model to ..\\fast_output\\SYNTH_Regression_MSE\\201019_2253_final_Angular_Base_Custom-MAE\\Best_Weights_FC_290.hdf5\n",
      "16000/16000 [==============================] - 5s 340us/sample - loss: 6503.1255 - custom_mae: 47.9419 - val_loss: 2861.5685 - val_custom_mae: 33.4637\n",
      "Time taken: 0:00:06.946192\n"
     ]
    },
    {
     "name": "stderr",
     "output_type": "stream",
     "text": [
      "\r",
      " 81%|████████████████████████████████████████████████████████████████▋               | 291/360 [51:34<09:41,  8.43s/it]"
     ]
    },
    {
     "name": "stdout",
     "output_type": "stream",
     "text": [
      "{'activation': 'relu', 'batch_size': 64, 'dropout': 0.25, 'epochs': 1, 'first_neuron': 2048, 'hidden_layers': 2, 'label_type': 'Angular', 'loss_function': 'mean_squared_error', 'lr': 1, 'monitor_value': 'val_custom_mae', 'optimizer': <class 'tensorflow.python.keras.optimizer_v2.adam.Adam'>, 'reduction_metric': 'custom_mae', 'samples': 20000}\n",
      "Using Loss: mean_squared_error \n",
      "and Reduction Metric: [<function custom_mae at 0x0000026E06BB99D8>]\n",
      "Monitor: val_custom_mae\n",
      "Train on 16000 samples, validate on 3968 samples\n",
      "15680/16000 [============================>.] - ETA: 0s - loss: 4646.1451 - custom_mae: 46.0649\n",
      "Epoch 00001: val_custom_mae improved from inf to 32.52214, saving model to ..\\fast_output\\SYNTH_Regression_MSE\\201019_2253_final_Angular_Base_Custom-MAE\\Best_Weights_FC_291.hdf5\n",
      "16000/16000 [==============================] - 6s 348us/sample - loss: 4605.3691 - custom_mae: 45.7882 - val_loss: 2902.2803 - val_custom_mae: 32.5221\n",
      "Time taken: 0:00:07.068748\n"
     ]
    },
    {
     "name": "stderr",
     "output_type": "stream",
     "text": [
      "\r",
      " 81%|████████████████████████████████████████████████████████████████▉               | 292/360 [51:43<09:40,  8.54s/it]"
     ]
    },
    {
     "name": "stdout",
     "output_type": "stream",
     "text": [
      "{'activation': 'relu', 'batch_size': 64, 'dropout': 0.25, 'epochs': 1, 'first_neuron': 2048, 'hidden_layers': 2, 'label_type': 'Angular', 'loss_function': 'mean_squared_error', 'lr': 2, 'monitor_value': 'val_custom_mae', 'optimizer': <class 'tensorflow.python.keras.optimizer_v2.adam.Adam'>, 'reduction_metric': 'custom_mae', 'samples': 20000}\n",
      "Using Loss: mean_squared_error \n",
      "and Reduction Metric: [<function custom_mae at 0x0000026E06BB99D8>]\n",
      "Monitor: val_custom_mae\n",
      "Train on 16000 samples, validate on 3968 samples\n",
      "15744/16000 [============================>.] - ETA: 0s - loss: 4855.0037 - custom_mae: 46.7121\n",
      "Epoch 00001: val_custom_mae improved from inf to 31.30861, saving model to ..\\fast_output\\SYNTH_Regression_MSE\\201019_2253_final_Angular_Base_Custom-MAE\\Best_Weights_FC_292.hdf5\n",
      "16000/16000 [==============================] - 6s 349us/sample - loss: 4824.4939 - custom_mae: 46.5097 - val_loss: 2816.3554 - val_custom_mae: 31.3086\n",
      "Time taken: 0:00:07.079855\n"
     ]
    },
    {
     "name": "stderr",
     "output_type": "stream",
     "text": [
      "\r",
      " 81%|█████████████████████████████████████████████████████████████████               | 293/360 [51:52<09:38,  8.63s/it]"
     ]
    },
    {
     "name": "stdout",
     "output_type": "stream",
     "text": [
      "{'activation': 'relu', 'batch_size': 64, 'dropout': 0.25, 'epochs': 1, 'first_neuron': 2048, 'hidden_layers': 2, 'label_type': 'Angular', 'loss_function': 'mean_squared_error', 'lr': 5, 'monitor_value': 'val_custom_mae', 'optimizer': <class 'tensorflow.python.keras.optimizer_v2.adam.Adam'>, 'reduction_metric': 'custom_mae', 'samples': 20000}\n",
      "Using Loss: mean_squared_error \n",
      "and Reduction Metric: [<function custom_mae at 0x0000026E06BB99D8>]\n",
      "Monitor: val_custom_mae\n",
      "Train on 16000 samples, validate on 3968 samples\n",
      "15680/16000 [============================>.] - ETA: 0s - loss: 8961.6321 - custom_mae: 52.5074\n",
      "Epoch 00001: val_custom_mae improved from inf to 34.04994, saving model to ..\\fast_output\\SYNTH_Regression_MSE\\201019_2253_final_Angular_Base_Custom-MAE\\Best_Weights_FC_293.hdf5\n",
      "16000/16000 [==============================] - 6s 348us/sample - loss: 8845.0958 - custom_mae: 52.1999 - val_loss: 2901.1094 - val_custom_mae: 34.0499\n",
      "Time taken: 0:00:07.085321\n"
     ]
    },
    {
     "name": "stderr",
     "output_type": "stream",
     "text": [
      "\r",
      " 82%|█████████████████████████████████████████████████████████████████▎              | 294/360 [52:01<09:32,  8.68s/it]"
     ]
    },
    {
     "name": "stdout",
     "output_type": "stream",
     "text": [
      "{'activation': 'relu', 'batch_size': 64, 'dropout': 0.25, 'epochs': 1, 'first_neuron': 2048, 'hidden_layers': 3, 'label_type': 'Angular', 'loss_function': 'mean_squared_error', 'lr': 1, 'monitor_value': 'val_custom_mae', 'optimizer': <class 'tensorflow.python.keras.optimizer_v2.adam.Adam'>, 'reduction_metric': 'custom_mae', 'samples': 20000}\n",
      "Using Loss: mean_squared_error \n",
      "and Reduction Metric: [<function custom_mae at 0x0000026E06BB99D8>]\n",
      "Monitor: val_custom_mae\n",
      "Train on 16000 samples, validate on 3968 samples\n",
      "15616/16000 [============================>.] - ETA: 0s - loss: 4854.7731 - custom_mae: 48.1563\n",
      "Epoch 00001: val_custom_mae improved from inf to 34.18332, saving model to ..\\fast_output\\SYNTH_Regression_MSE\\201019_2253_final_Angular_Base_Custom-MAE\\Best_Weights_FC_294.hdf5\n",
      "16000/16000 [==============================] - 6s 356us/sample - loss: 4804.6641 - custom_mae: 47.8158 - val_loss: 3093.0442 - val_custom_mae: 34.1833\n",
      "Time taken: 0:00:07.200253\n"
     ]
    },
    {
     "name": "stderr",
     "output_type": "stream",
     "text": [
      "\r",
      " 82%|█████████████████████████████████████████████████████████████████▌              | 295/360 [52:10<09:29,  8.76s/it]"
     ]
    },
    {
     "name": "stdout",
     "output_type": "stream",
     "text": [
      "{'activation': 'relu', 'batch_size': 64, 'dropout': 0.25, 'epochs': 1, 'first_neuron': 2048, 'hidden_layers': 3, 'label_type': 'Angular', 'loss_function': 'mean_squared_error', 'lr': 2, 'monitor_value': 'val_custom_mae', 'optimizer': <class 'tensorflow.python.keras.optimizer_v2.adam.Adam'>, 'reduction_metric': 'custom_mae', 'samples': 20000}\n",
      "Using Loss: mean_squared_error \n",
      "and Reduction Metric: [<function custom_mae at 0x0000026E06BB99D8>]\n",
      "Monitor: val_custom_mae\n",
      "Train on 16000 samples, validate on 3968 samples\n",
      "15680/16000 [============================>.] - ETA: 0s - loss: 6198.6087 - custom_mae: 54.2182\n",
      "Epoch 00001: val_custom_mae improved from inf to 36.71867, saving model to ..\\fast_output\\SYNTH_Regression_MSE\\201019_2253_final_Angular_Base_Custom-MAE\\Best_Weights_FC_295.hdf5\n",
      "16000/16000 [==============================] - 6s 356us/sample - loss: 6140.5162 - custom_mae: 53.9208 - val_loss: 3318.2829 - val_custom_mae: 36.7187\n",
      "Time taken: 0:00:07.201100\n"
     ]
    },
    {
     "name": "stderr",
     "output_type": "stream",
     "text": [
      "\r",
      " 82%|█████████████████████████████████████████████████████████████████▊              | 296/360 [52:19<09:24,  8.82s/it]"
     ]
    },
    {
     "name": "stdout",
     "output_type": "stream",
     "text": [
      "{'activation': 'relu', 'batch_size': 64, 'dropout': 0.25, 'epochs': 1, 'first_neuron': 2048, 'hidden_layers': 3, 'label_type': 'Angular', 'loss_function': 'mean_squared_error', 'lr': 5, 'monitor_value': 'val_custom_mae', 'optimizer': <class 'tensorflow.python.keras.optimizer_v2.adam.Adam'>, 'reduction_metric': 'custom_mae', 'samples': 20000}\n",
      "Using Loss: mean_squared_error \n",
      "and Reduction Metric: [<function custom_mae at 0x0000026E06BB99D8>]\n",
      "Monitor: val_custom_mae\n",
      "Train on 16000 samples, validate on 3968 samples\n",
      "15616/16000 [============================>.] - ETA: 0s - loss: 8834.1390 - custom_mae: 55.1658\n",
      "Epoch 00001: val_custom_mae improved from inf to 35.93687, saving model to ..\\fast_output\\SYNTH_Regression_MSE\\201019_2253_final_Angular_Base_Custom-MAE\\Best_Weights_FC_296.hdf5\n",
      "16000/16000 [==============================] - 6s 353us/sample - loss: 8695.8189 - custom_mae: 54.7611 - val_loss: 3105.1860 - val_custom_mae: 35.9369\n",
      "Time taken: 0:00:07.162644\n"
     ]
    },
    {
     "name": "stderr",
     "output_type": "stream",
     "text": [
      "\r",
      " 82%|██████████████████████████████████████████████████████████████████              | 297/360 [52:28<09:17,  8.86s/it]"
     ]
    },
    {
     "name": "stdout",
     "output_type": "stream",
     "text": [
      "{'activation': 'relu', 'batch_size': 64, 'dropout': 0.25, 'epochs': 1, 'first_neuron': 2048, 'hidden_layers': 4, 'label_type': 'Angular', 'loss_function': 'mean_squared_error', 'lr': 1, 'monitor_value': 'val_custom_mae', 'optimizer': <class 'tensorflow.python.keras.optimizer_v2.adam.Adam'>, 'reduction_metric': 'custom_mae', 'samples': 20000}\n",
      "Using Loss: mean_squared_error \n",
      "and Reduction Metric: [<function custom_mae at 0x0000026E06BB99D8>]\n",
      "Monitor: val_custom_mae\n",
      "Train on 16000 samples, validate on 3968 samples\n",
      "15808/16000 [============================>.] - ETA: 0s - loss: 5114.5557 - custom_mae: 50.8491\n",
      "Epoch 00001: val_custom_mae improved from inf to 33.91299, saving model to ..\\fast_output\\SYNTH_Regression_MSE\\201019_2253_final_Angular_Base_Custom-MAE\\Best_Weights_FC_297.hdf5\n",
      "16000/16000 [==============================] - 6s 374us/sample - loss: 5089.7060 - custom_mae: 50.6738 - val_loss: 2905.2127 - val_custom_mae: 33.9130\n",
      "Time taken: 0:00:07.532006\n"
     ]
    },
    {
     "name": "stderr",
     "output_type": "stream",
     "text": [
      "\r",
      " 83%|██████████████████████████████████████████████████████████████████▏             | 298/360 [52:37<09:18,  9.01s/it]"
     ]
    },
    {
     "name": "stdout",
     "output_type": "stream",
     "text": [
      "{'activation': 'relu', 'batch_size': 64, 'dropout': 0.25, 'epochs': 1, 'first_neuron': 2048, 'hidden_layers': 4, 'label_type': 'Angular', 'loss_function': 'mean_squared_error', 'lr': 2, 'monitor_value': 'val_custom_mae', 'optimizer': <class 'tensorflow.python.keras.optimizer_v2.adam.Adam'>, 'reduction_metric': 'custom_mae', 'samples': 20000}\n",
      "Using Loss: mean_squared_error \n",
      "and Reduction Metric: [<function custom_mae at 0x0000026E06BB99D8>]\n",
      "Monitor: val_custom_mae\n",
      "Train on 16000 samples, validate on 3968 samples\n",
      "15680/16000 [============================>.] - ETA: 0s - loss: 6696.3629 - custom_mae: 57.0488\n",
      "Epoch 00001: val_custom_mae improved from inf to 43.91244, saving model to ..\\fast_output\\SYNTH_Regression_MSE\\201019_2253_final_Angular_Base_Custom-MAE\\Best_Weights_FC_298.hdf5\n",
      "16000/16000 [==============================] - 6s 370us/sample - loss: 6634.7975 - custom_mae: 56.7927 - val_loss: 3650.8310 - val_custom_mae: 43.9124\n",
      "Time taken: 0:00:07.460383\n"
     ]
    },
    {
     "name": "stderr",
     "output_type": "stream",
     "text": [
      "\r",
      " 83%|██████████████████████████████████████████████████████████████████▍             | 299/360 [52:46<09:15,  9.11s/it]"
     ]
    },
    {
     "name": "stdout",
     "output_type": "stream",
     "text": [
      "{'activation': 'relu', 'batch_size': 64, 'dropout': 0.25, 'epochs': 1, 'first_neuron': 2048, 'hidden_layers': 4, 'label_type': 'Angular', 'loss_function': 'mean_squared_error', 'lr': 5, 'monitor_value': 'val_custom_mae', 'optimizer': <class 'tensorflow.python.keras.optimizer_v2.adam.Adam'>, 'reduction_metric': 'custom_mae', 'samples': 20000}\n",
      "Using Loss: mean_squared_error \n",
      "and Reduction Metric: [<function custom_mae at 0x0000026E06BB99D8>]\n",
      "Monitor: val_custom_mae\n",
      "Train on 16000 samples, validate on 3968 samples\n",
      "15616/16000 [============================>.] - ETA: 0s - loss: 9227.5907 - custom_mae: 57.9035\n",
      "Epoch 00001: val_custom_mae improved from inf to 51.25000, saving model to ..\\fast_output\\SYNTH_Regression_MSE\\201019_2253_final_Angular_Base_Custom-MAE\\Best_Weights_FC_299.hdf5\n",
      "16000/16000 [==============================] - 6s 363us/sample - loss: 9115.6963 - custom_mae: 57.6639 - val_loss: 5231.6809 - val_custom_mae: 51.2500\n",
      "Time taken: 0:00:07.320165\n"
     ]
    },
    {
     "name": "stderr",
     "output_type": "stream",
     "text": [
      "\r",
      " 83%|██████████████████████████████████████████████████████████████████▋             | 300/360 [52:56<09:06,  9.12s/it]"
     ]
    },
    {
     "name": "stdout",
     "output_type": "stream",
     "text": [
      "{'activation': 'relu', 'batch_size': 64, 'dropout': 0.25, 'epochs': 1, 'first_neuron': 4096, 'hidden_layers': 0, 'label_type': 'Angular', 'loss_function': 'mean_squared_error', 'lr': 1, 'monitor_value': 'val_custom_mae', 'optimizer': <class 'tensorflow.python.keras.optimizer_v2.adam.Adam'>, 'reduction_metric': 'custom_mae', 'samples': 20000}\n",
      "Using Loss: mean_squared_error \n",
      "and Reduction Metric: [<function custom_mae at 0x0000026E06BB99D8>]\n",
      "Monitor: val_custom_mae\n",
      "Train on 16000 samples, validate on 3968 samples\n",
      "15936/16000 [============================>.] - ETA: 0s - loss: 4066.7314 - custom_mae: 40.6558\n",
      "Epoch 00001: val_custom_mae improved from inf to 32.07732, saving model to ..\\fast_output\\SYNTH_Regression_MSE\\201019_2253_final_Angular_Base_Custom-MAE\\Best_Weights_FC_300.hdf5\n",
      "16000/16000 [==============================] - 9s 576us/sample - loss: 4062.1735 - custom_mae: 40.6129 - val_loss: 2910.2195 - val_custom_mae: 32.0773\n",
      "Time taken: 0:00:10.750768\n"
     ]
    },
    {
     "name": "stderr",
     "output_type": "stream",
     "text": [
      "\r",
      " 84%|██████████████████████████████████████████████████████████████████▉             | 301/360 [53:08<09:56, 10.11s/it]"
     ]
    },
    {
     "name": "stdout",
     "output_type": "stream",
     "text": [
      "{'activation': 'relu', 'batch_size': 64, 'dropout': 0.25, 'epochs': 1, 'first_neuron': 4096, 'hidden_layers': 0, 'label_type': 'Angular', 'loss_function': 'mean_squared_error', 'lr': 2, 'monitor_value': 'val_custom_mae', 'optimizer': <class 'tensorflow.python.keras.optimizer_v2.adam.Adam'>, 'reduction_metric': 'custom_mae', 'samples': 20000}\n",
      "Using Loss: mean_squared_error \n",
      "and Reduction Metric: [<function custom_mae at 0x0000026E06BB99D8>]\n",
      "Monitor: val_custom_mae\n",
      "Train on 16000 samples, validate on 3968 samples\n",
      "15936/16000 [============================>.] - ETA: 0s - loss: 3833.5213 - custom_mae: 39.1567\n",
      "Epoch 00001: val_custom_mae improved from inf to 29.66089, saving model to ..\\fast_output\\SYNTH_Regression_MSE\\201019_2253_final_Angular_Base_Custom-MAE\\Best_Weights_FC_301.hdf5\n",
      "16000/16000 [==============================] - 9s 588us/sample - loss: 3828.8941 - custom_mae: 39.1113 - val_loss: 2632.0296 - val_custom_mae: 29.6609\n",
      "Time taken: 0:00:10.925498\n"
     ]
    },
    {
     "name": "stderr",
     "output_type": "stream",
     "text": [
      "\r",
      " 84%|███████████████████████████████████████████████████████████████████             | 302/360 [53:21<10:30, 10.88s/it]"
     ]
    },
    {
     "name": "stdout",
     "output_type": "stream",
     "text": [
      "{'activation': 'relu', 'batch_size': 64, 'dropout': 0.25, 'epochs': 1, 'first_neuron': 4096, 'hidden_layers': 0, 'label_type': 'Angular', 'loss_function': 'mean_squared_error', 'lr': 5, 'monitor_value': 'val_custom_mae', 'optimizer': <class 'tensorflow.python.keras.optimizer_v2.adam.Adam'>, 'reduction_metric': 'custom_mae', 'samples': 20000}\n",
      "Using Loss: mean_squared_error \n",
      "and Reduction Metric: [<function custom_mae at 0x0000026E06BB99D8>]\n",
      "Monitor: val_custom_mae\n",
      "Train on 16000 samples, validate on 3968 samples\n",
      "15872/16000 [============================>.] - ETA: 0s - loss: 4641.1469 - custom_mae: 43.1915\n",
      "Epoch 00001: val_custom_mae improved from inf to 31.86822, saving model to ..\\fast_output\\SYNTH_Regression_MSE\\201019_2253_final_Angular_Base_Custom-MAE\\Best_Weights_FC_302.hdf5\n",
      "16000/16000 [==============================] - 9s 593us/sample - loss: 4624.8111 - custom_mae: 43.0820 - val_loss: 2795.1463 - val_custom_mae: 31.8682\n",
      "Time taken: 0:00:11.030951\n"
     ]
    },
    {
     "name": "stderr",
     "output_type": "stream",
     "text": [
      "\r",
      " 84%|███████████████████████████████████████████████████████████████████▎            | 303/360 [53:33<10:52, 11.44s/it]"
     ]
    },
    {
     "name": "stdout",
     "output_type": "stream",
     "text": [
      "{'activation': 'relu', 'batch_size': 64, 'dropout': 0.25, 'epochs': 1, 'first_neuron': 4096, 'hidden_layers': 1, 'label_type': 'Angular', 'loss_function': 'mean_squared_error', 'lr': 1, 'monitor_value': 'val_custom_mae', 'optimizer': <class 'tensorflow.python.keras.optimizer_v2.adam.Adam'>, 'reduction_metric': 'custom_mae', 'samples': 20000}\n",
      "Using Loss: mean_squared_error \n",
      "and Reduction Metric: [<function custom_mae at 0x0000026E06BB99D8>]\n",
      "Monitor: val_custom_mae\n",
      "Train on 16000 samples, validate on 3968 samples\n",
      "15808/16000 [============================>.] - ETA: 0s - loss: 4499.3535 - custom_mae: 44.1624\n",
      "Epoch 00001: val_custom_mae improved from inf to 31.01741, saving model to ..\\fast_output\\SYNTH_Regression_MSE\\201019_2253_final_Angular_Base_Custom-MAE\\Best_Weights_FC_303.hdf5\n",
      "16000/16000 [==============================] - 10s 609us/sample - loss: 4475.2302 - custom_mae: 43.9869 - val_loss: 2712.8826 - val_custom_mae: 31.0174\n",
      "Time taken: 0:00:11.258398\n"
     ]
    },
    {
     "name": "stderr",
     "output_type": "stream",
     "text": [
      "\r",
      " 84%|███████████████████████████████████████████████████████████████████▌            | 304/360 [53:46<11:07, 11.91s/it]"
     ]
    },
    {
     "name": "stdout",
     "output_type": "stream",
     "text": [
      "{'activation': 'relu', 'batch_size': 64, 'dropout': 0.25, 'epochs': 1, 'first_neuron': 4096, 'hidden_layers': 1, 'label_type': 'Angular', 'loss_function': 'mean_squared_error', 'lr': 2, 'monitor_value': 'val_custom_mae', 'optimizer': <class 'tensorflow.python.keras.optimizer_v2.adam.Adam'>, 'reduction_metric': 'custom_mae', 'samples': 20000}\n",
      "Using Loss: mean_squared_error \n",
      "and Reduction Metric: [<function custom_mae at 0x0000026E06BB99D8>]\n",
      "Monitor: val_custom_mae\n",
      "Train on 16000 samples, validate on 3968 samples\n",
      "15936/16000 [============================>.] - ETA: 0s - loss: 4736.2294 - custom_mae: 44.4246\n",
      "Epoch 00001: val_custom_mae improved from inf to 30.03134, saving model to ..\\fast_output\\SYNTH_Regression_MSE\\201019_2253_final_Angular_Base_Custom-MAE\\Best_Weights_FC_304.hdf5\n",
      "16000/16000 [==============================] - 10s 608us/sample - loss: 4728.0820 - custom_mae: 44.3704 - val_loss: 2649.6247 - val_custom_mae: 30.0313\n",
      "Time taken: 0:00:11.242163\n"
     ]
    },
    {
     "name": "stderr",
     "output_type": "stream",
     "text": [
      "\r",
      " 85%|███████████████████████████████████████████████████████████████████▊            | 305/360 [53:59<11:12, 12.23s/it]"
     ]
    },
    {
     "name": "stdout",
     "output_type": "stream",
     "text": [
      "{'activation': 'relu', 'batch_size': 64, 'dropout': 0.25, 'epochs': 1, 'first_neuron': 4096, 'hidden_layers': 1, 'label_type': 'Angular', 'loss_function': 'mean_squared_error', 'lr': 5, 'monitor_value': 'val_custom_mae', 'optimizer': <class 'tensorflow.python.keras.optimizer_v2.adam.Adam'>, 'reduction_metric': 'custom_mae', 'samples': 20000}\n",
      "Using Loss: mean_squared_error \n",
      "and Reduction Metric: [<function custom_mae at 0x0000026E06BB99D8>]\n",
      "Monitor: val_custom_mae\n",
      "Train on 16000 samples, validate on 3968 samples\n",
      "15936/16000 [============================>.] - ETA: 0s - loss: 21473.8880 - custom_mae: 50.5755\n",
      "Epoch 00001: val_custom_mae improved from inf to 30.50386, saving model to ..\\fast_output\\SYNTH_Regression_MSE\\201019_2253_final_Angular_Base_Custom-MAE\\Best_Weights_FC_305.hdf5\n",
      "16000/16000 [==============================] - 10s 608us/sample - loss: 21400.8408 - custom_mae: 50.5094 - val_loss: 2630.1905 - val_custom_mae: 30.5039\n",
      "Time taken: 0:00:11.244702\n"
     ]
    },
    {
     "name": "stderr",
     "output_type": "stream",
     "text": [
      "\r",
      " 85%|████████████████████████████████████████████████████████████████████            | 306/360 [54:12<11:12, 12.45s/it]"
     ]
    },
    {
     "name": "stdout",
     "output_type": "stream",
     "text": [
      "{'activation': 'relu', 'batch_size': 64, 'dropout': 0.25, 'epochs': 1, 'first_neuron': 4096, 'hidden_layers': 2, 'label_type': 'Angular', 'loss_function': 'mean_squared_error', 'lr': 1, 'monitor_value': 'val_custom_mae', 'optimizer': <class 'tensorflow.python.keras.optimizer_v2.adam.Adam'>, 'reduction_metric': 'custom_mae', 'samples': 20000}\n",
      "Using Loss: mean_squared_error \n",
      "and Reduction Metric: [<function custom_mae at 0x0000026E06BB99D8>]\n",
      "Monitor: val_custom_mae\n",
      "Train on 16000 samples, validate on 3968 samples\n",
      "15936/16000 [============================>.] - ETA: 0s - loss: 5155.9735 - custom_mae: 47.7094\n",
      "Epoch 00001: val_custom_mae improved from inf to 31.36481, saving model to ..\\fast_output\\SYNTH_Regression_MSE\\201019_2253_final_Angular_Base_Custom-MAE\\Best_Weights_FC_306.hdf5\n",
      "16000/16000 [==============================] - 10s 619us/sample - loss: 5147.6682 - custom_mae: 47.6539 - val_loss: 2783.2450 - val_custom_mae: 31.3648\n",
      "Time taken: 0:00:11.413315\n"
     ]
    },
    {
     "name": "stderr",
     "output_type": "stream",
     "text": [
      "\r",
      " 85%|████████████████████████████████████████████████████████████████████▏           | 307/360 [54:26<11:11, 12.67s/it]"
     ]
    },
    {
     "name": "stdout",
     "output_type": "stream",
     "text": [
      "{'activation': 'relu', 'batch_size': 64, 'dropout': 0.25, 'epochs': 1, 'first_neuron': 4096, 'hidden_layers': 2, 'label_type': 'Angular', 'loss_function': 'mean_squared_error', 'lr': 2, 'monitor_value': 'val_custom_mae', 'optimizer': <class 'tensorflow.python.keras.optimizer_v2.adam.Adam'>, 'reduction_metric': 'custom_mae', 'samples': 20000}\n",
      "Using Loss: mean_squared_error \n",
      "and Reduction Metric: [<function custom_mae at 0x0000026E06BB99D8>]\n",
      "Monitor: val_custom_mae\n",
      "Train on 16000 samples, validate on 3968 samples\n",
      "15936/16000 [============================>.] - ETA: 0s - loss: 5231.9966 - custom_mae: 46.2748\n",
      "Epoch 00001: val_custom_mae improved from inf to 30.34685, saving model to ..\\fast_output\\SYNTH_Regression_MSE\\201019_2253_final_Angular_Base_Custom-MAE\\Best_Weights_FC_307.hdf5\n",
      "16000/16000 [==============================] - 10s 622us/sample - loss: 5224.1284 - custom_mae: 46.2313 - val_loss: 2552.9171 - val_custom_mae: 30.3468\n",
      "Time taken: 0:00:11.456726\n"
     ]
    },
    {
     "name": "stderr",
     "output_type": "stream",
     "text": [
      "\r",
      " 86%|████████████████████████████████████████████████████████████████████▍           | 308/360 [54:39<11:07, 12.83s/it]"
     ]
    },
    {
     "name": "stdout",
     "output_type": "stream",
     "text": [
      "{'activation': 'relu', 'batch_size': 64, 'dropout': 0.25, 'epochs': 1, 'first_neuron': 4096, 'hidden_layers': 2, 'label_type': 'Angular', 'loss_function': 'mean_squared_error', 'lr': 5, 'monitor_value': 'val_custom_mae', 'optimizer': <class 'tensorflow.python.keras.optimizer_v2.adam.Adam'>, 'reduction_metric': 'custom_mae', 'samples': 20000}\n",
      "Using Loss: mean_squared_error \n",
      "and Reduction Metric: [<function custom_mae at 0x0000026E06BB99D8>]\n",
      "Monitor: val_custom_mae\n",
      "Train on 16000 samples, validate on 3968 samples\n",
      "15744/16000 [============================>.] - ETA: 0s - loss: 143312.6156 - custom_mae: 68.6553\n",
      "Epoch 00001: val_custom_mae improved from inf to 35.01854, saving model to ..\\fast_output\\SYNTH_Regression_MSE\\201019_2253_final_Angular_Base_Custom-MAE\\Best_Weights_FC_308.hdf5\n",
      "16000/16000 [==============================] - 10s 623us/sample - loss: 141071.2774 - custom_mae: 68.1591 - val_loss: 2884.0026 - val_custom_mae: 35.0185\n",
      "Time taken: 0:00:11.474325\n"
     ]
    },
    {
     "name": "stderr",
     "output_type": "stream",
     "text": [
      "\r",
      " 86%|████████████████████████████████████████████████████████████████████▋           | 309/360 [54:52<11:00, 12.95s/it]"
     ]
    },
    {
     "name": "stdout",
     "output_type": "stream",
     "text": [
      "{'activation': 'relu', 'batch_size': 64, 'dropout': 0.25, 'epochs': 1, 'first_neuron': 4096, 'hidden_layers': 3, 'label_type': 'Angular', 'loss_function': 'mean_squared_error', 'lr': 1, 'monitor_value': 'val_custom_mae', 'optimizer': <class 'tensorflow.python.keras.optimizer_v2.adam.Adam'>, 'reduction_metric': 'custom_mae', 'samples': 20000}\n",
      "Using Loss: mean_squared_error \n",
      "and Reduction Metric: [<function custom_mae at 0x0000026E06BB99D8>]\n",
      "Monitor: val_custom_mae\n",
      "Train on 16000 samples, validate on 3968 samples\n",
      "15744/16000 [============================>.] - ETA: 0s - loss: 5032.7318 - custom_mae: 47.7878\n",
      "Epoch 00001: val_custom_mae improved from inf to 30.77497, saving model to ..\\fast_output\\SYNTH_Regression_MSE\\201019_2253_final_Angular_Base_Custom-MAE\\Best_Weights_FC_309.hdf5\n",
      "16000/16000 [==============================] - 10s 631us/sample - loss: 4995.2559 - custom_mae: 47.5470 - val_loss: 2652.8525 - val_custom_mae: 30.7750\n",
      "Time taken: 0:00:11.611123\n"
     ]
    },
    {
     "name": "stderr",
     "output_type": "stream",
     "text": [
      "\r",
      " 86%|████████████████████████████████████████████████████████████████████▉           | 310/360 [55:05<10:53, 13.08s/it]"
     ]
    },
    {
     "name": "stdout",
     "output_type": "stream",
     "text": [
      "{'activation': 'relu', 'batch_size': 64, 'dropout': 0.25, 'epochs': 1, 'first_neuron': 4096, 'hidden_layers': 3, 'label_type': 'Angular', 'loss_function': 'mean_squared_error', 'lr': 2, 'monitor_value': 'val_custom_mae', 'optimizer': <class 'tensorflow.python.keras.optimizer_v2.adam.Adam'>, 'reduction_metric': 'custom_mae', 'samples': 20000}\n",
      "Using Loss: mean_squared_error \n",
      "and Reduction Metric: [<function custom_mae at 0x0000026E06BB99D8>]\n",
      "Monitor: val_custom_mae\n",
      "Train on 16000 samples, validate on 3968 samples\n",
      "15936/16000 [============================>.] - ETA: 0s - loss: 5151.6762 - custom_mae: 50.3329\n",
      "Epoch 00001: val_custom_mae improved from inf to 32.07575, saving model to ..\\fast_output\\SYNTH_Regression_MSE\\201019_2253_final_Angular_Base_Custom-MAE\\Best_Weights_FC_310.hdf5\n",
      "16000/16000 [==============================] - 10s 627us/sample - loss: 5143.1835 - custom_mae: 50.2762 - val_loss: 2639.6805 - val_custom_mae: 32.0758\n",
      "Time taken: 0:00:11.541852\n"
     ]
    },
    {
     "name": "stderr",
     "output_type": "stream",
     "text": [
      "\r",
      " 86%|█████████████████████████████████████████████████████████████████████           | 311/360 [55:19<10:44, 13.15s/it]"
     ]
    },
    {
     "name": "stdout",
     "output_type": "stream",
     "text": [
      "{'activation': 'relu', 'batch_size': 64, 'dropout': 0.25, 'epochs': 1, 'first_neuron': 4096, 'hidden_layers': 3, 'label_type': 'Angular', 'loss_function': 'mean_squared_error', 'lr': 5, 'monitor_value': 'val_custom_mae', 'optimizer': <class 'tensorflow.python.keras.optimizer_v2.adam.Adam'>, 'reduction_metric': 'custom_mae', 'samples': 20000}\n",
      "Using Loss: mean_squared_error \n",
      "and Reduction Metric: [<function custom_mae at 0x0000026E06BB99D8>]\n",
      "Monitor: val_custom_mae\n",
      "Train on 16000 samples, validate on 3968 samples\n",
      "15936/16000 [============================>.] - ETA: 0s - loss: 171085.8081 - custom_mae: 76.9292\n",
      "Epoch 00001: val_custom_mae improved from inf to 44.06470, saving model to ..\\fast_output\\SYNTH_Regression_MSE\\201019_2253_final_Angular_Base_Custom-MAE\\Best_Weights_FC_311.hdf5\n",
      "16000/16000 [==============================] - 10s 626us/sample - loss: 170416.5593 - custom_mae: 76.7883 - val_loss: 4481.6594 - val_custom_mae: 44.0647\n",
      "Time taken: 0:00:11.521182\n"
     ]
    },
    {
     "name": "stderr",
     "output_type": "stream",
     "text": [
      "\r",
      " 87%|█████████████████████████████████████████████████████████████████████▎          | 312/360 [55:32<10:33, 13.19s/it]"
     ]
    },
    {
     "name": "stdout",
     "output_type": "stream",
     "text": [
      "{'activation': 'relu', 'batch_size': 64, 'dropout': 0.25, 'epochs': 1, 'first_neuron': 4096, 'hidden_layers': 4, 'label_type': 'Angular', 'loss_function': 'mean_squared_error', 'lr': 1, 'monitor_value': 'val_custom_mae', 'optimizer': <class 'tensorflow.python.keras.optimizer_v2.adam.Adam'>, 'reduction_metric': 'custom_mae', 'samples': 20000}\n",
      "Using Loss: mean_squared_error \n",
      "and Reduction Metric: [<function custom_mae at 0x0000026E06BB99D8>]\n",
      "Monitor: val_custom_mae\n",
      "Train on 16000 samples, validate on 3968 samples\n",
      "15744/16000 [============================>.] - ETA: 0s - loss: 5251.8279 - custom_mae: 52.0250\n",
      "Epoch 00001: val_custom_mae improved from inf to 41.72905, saving model to ..\\fast_output\\SYNTH_Regression_MSE\\201019_2253_final_Angular_Base_Custom-MAE\\Best_Weights_FC_312.hdf5\n",
      "16000/16000 [==============================] - 10s 633us/sample - loss: 5221.0382 - custom_mae: 51.8606 - val_loss: 3411.1631 - val_custom_mae: 41.7290\n",
      "Time taken: 0:00:11.633034\n"
     ]
    },
    {
     "name": "stderr",
     "output_type": "stream",
     "text": [
      "\r",
      " 87%|█████████████████████████████████████████████████████████████████████▌          | 313/360 [55:45<10:23, 13.27s/it]"
     ]
    },
    {
     "name": "stdout",
     "output_type": "stream",
     "text": [
      "{'activation': 'relu', 'batch_size': 64, 'dropout': 0.25, 'epochs': 1, 'first_neuron': 4096, 'hidden_layers': 4, 'label_type': 'Angular', 'loss_function': 'mean_squared_error', 'lr': 2, 'monitor_value': 'val_custom_mae', 'optimizer': <class 'tensorflow.python.keras.optimizer_v2.adam.Adam'>, 'reduction_metric': 'custom_mae', 'samples': 20000}\n",
      "Using Loss: mean_squared_error \n",
      "and Reduction Metric: [<function custom_mae at 0x0000026E06BB99D8>]\n",
      "Monitor: val_custom_mae\n",
      "Train on 16000 samples, validate on 3968 samples\n",
      "15808/16000 [============================>.] - ETA: 0s - loss: 5962.7470 - custom_mae: 54.5335\n",
      "Epoch 00001: val_custom_mae improved from inf to 41.67532, saving model to ..\\fast_output\\SYNTH_Regression_MSE\\201019_2253_final_Angular_Base_Custom-MAE\\Best_Weights_FC_313.hdf5\n",
      "16000/16000 [==============================] - 10s 637us/sample - loss: 5937.0772 - custom_mae: 54.4126 - val_loss: 3309.9443 - val_custom_mae: 41.6753\n",
      "Time taken: 0:00:11.691138\n"
     ]
    },
    {
     "name": "stderr",
     "output_type": "stream",
     "text": [
      "\r",
      " 87%|█████████████████████████████████████████████████████████████████████▊          | 314/360 [55:59<10:13, 13.33s/it]"
     ]
    },
    {
     "name": "stdout",
     "output_type": "stream",
     "text": [
      "{'activation': 'relu', 'batch_size': 64, 'dropout': 0.25, 'epochs': 1, 'first_neuron': 4096, 'hidden_layers': 4, 'label_type': 'Angular', 'loss_function': 'mean_squared_error', 'lr': 5, 'monitor_value': 'val_custom_mae', 'optimizer': <class 'tensorflow.python.keras.optimizer_v2.adam.Adam'>, 'reduction_metric': 'custom_mae', 'samples': 20000}\n",
      "Using Loss: mean_squared_error \n",
      "and Reduction Metric: [<function custom_mae at 0x0000026E06BB99D8>]\n",
      "Monitor: val_custom_mae\n",
      "Train on 16000 samples, validate on 3968 samples\n",
      "15936/16000 [============================>.] - ETA: 0s - loss: 110559.4673 - custom_mae: 72.6569\n",
      "Epoch 00001: val_custom_mae improved from inf to 39.66552, saving model to ..\\fast_output\\SYNTH_Regression_MSE\\201019_2253_final_Angular_Base_Custom-MAE\\Best_Weights_FC_314.hdf5\n",
      "16000/16000 [==============================] - 10s 644us/sample - loss: 110133.1339 - custom_mae: 72.5410 - val_loss: 3217.7187 - val_custom_mae: 39.6655\n",
      "Time taken: 0:00:11.818169\n"
     ]
    },
    {
     "name": "stderr",
     "output_type": "stream",
     "text": [
      "\r",
      " 88%|██████████████████████████████████████████████████████████████████████          | 315/360 [56:13<10:03, 13.42s/it]"
     ]
    },
    {
     "name": "stdout",
     "output_type": "stream",
     "text": [
      "{'activation': 'relu', 'batch_size': 64, 'dropout': 0.5, 'epochs': 1, 'first_neuron': 1024, 'hidden_layers': 0, 'label_type': 'Angular', 'loss_function': 'mean_squared_error', 'lr': 1, 'monitor_value': 'val_custom_mae', 'optimizer': <class 'tensorflow.python.keras.optimizer_v2.adam.Adam'>, 'reduction_metric': 'custom_mae', 'samples': 20000}\n",
      "Using Loss: mean_squared_error \n",
      "and Reduction Metric: [<function custom_mae at 0x0000026E06BB99D8>]\n",
      "Monitor: val_custom_mae\n",
      "Train on 16000 samples, validate on 3968 samples\n",
      "15488/16000 [============================>.] - ETA: 0s - loss: 4724.1301 - custom_mae: 45.7384\n",
      "Epoch 00001: val_custom_mae improved from inf to 37.33245, saving model to ..\\fast_output\\SYNTH_Regression_MSE\\201019_2253_final_Angular_Base_Custom-MAE\\Best_Weights_FC_315.hdf5\n",
      "16000/16000 [==============================] - 3s 211us/sample - loss: 4679.0809 - custom_mae: 45.4490 - val_loss: 3633.8085 - val_custom_mae: 37.3324\n",
      "Time taken: 0:00:04.882975\n"
     ]
    },
    {
     "name": "stderr",
     "output_type": "stream",
     "text": [
      "\r",
      " 88%|██████████████████████████████████████████████████████████████████████▏         | 316/360 [56:19<08:20, 11.38s/it]"
     ]
    },
    {
     "name": "stdout",
     "output_type": "stream",
     "text": [
      "{'activation': 'relu', 'batch_size': 64, 'dropout': 0.5, 'epochs': 1, 'first_neuron': 1024, 'hidden_layers': 0, 'label_type': 'Angular', 'loss_function': 'mean_squared_error', 'lr': 2, 'monitor_value': 'val_custom_mae', 'optimizer': <class 'tensorflow.python.keras.optimizer_v2.adam.Adam'>, 'reduction_metric': 'custom_mae', 'samples': 20000}\n",
      "Using Loss: mean_squared_error \n",
      "and Reduction Metric: [<function custom_mae at 0x0000026E06BB99D8>]\n",
      "Monitor: val_custom_mae\n",
      "Train on 16000 samples, validate on 3968 samples\n",
      "15936/16000 [============================>.] - ETA: 0s - loss: 4317.1793 - custom_mae: 43.0975\n",
      "Epoch 00001: val_custom_mae improved from inf to 35.18975, saving model to ..\\fast_output\\SYNTH_Regression_MSE\\201019_2253_final_Angular_Base_Custom-MAE\\Best_Weights_FC_316.hdf5\n",
      "16000/16000 [==============================] - 3s 212us/sample - loss: 4313.1622 - custom_mae: 43.0617 - val_loss: 3268.4718 - val_custom_mae: 35.1898\n",
      "Time taken: 0:00:04.918361\n"
     ]
    },
    {
     "name": "stderr",
     "output_type": "stream",
     "text": [
      "\r",
      " 88%|██████████████████████████████████████████████████████████████████████▍         | 317/360 [56:26<07:07,  9.95s/it]"
     ]
    },
    {
     "name": "stdout",
     "output_type": "stream",
     "text": [
      "{'activation': 'relu', 'batch_size': 64, 'dropout': 0.5, 'epochs': 1, 'first_neuron': 1024, 'hidden_layers': 0, 'label_type': 'Angular', 'loss_function': 'mean_squared_error', 'lr': 5, 'monitor_value': 'val_custom_mae', 'optimizer': <class 'tensorflow.python.keras.optimizer_v2.adam.Adam'>, 'reduction_metric': 'custom_mae', 'samples': 20000}\n",
      "Using Loss: mean_squared_error \n",
      "and Reduction Metric: [<function custom_mae at 0x0000026E06BB99D8>]\n",
      "Monitor: val_custom_mae\n",
      "Train on 16000 samples, validate on 3968 samples\n",
      "15744/16000 [============================>.] - ETA: 0s - loss: 4193.8218 - custom_mae: 42.4484\n",
      "Epoch 00001: val_custom_mae improved from inf to 33.88301, saving model to ..\\fast_output\\SYNTH_Regression_MSE\\201019_2253_final_Angular_Base_Custom-MAE\\Best_Weights_FC_317.hdf5\n",
      "16000/16000 [==============================] - 3s 212us/sample - loss: 4170.8128 - custom_mae: 42.3074 - val_loss: 3052.9613 - val_custom_mae: 33.8830\n",
      "Time taken: 0:00:04.909941\n"
     ]
    },
    {
     "name": "stderr",
     "output_type": "stream",
     "text": [
      "\r",
      " 88%|██████████████████████████████████████████████████████████████████████▋         | 318/360 [56:32<06:15,  8.94s/it]"
     ]
    },
    {
     "name": "stdout",
     "output_type": "stream",
     "text": [
      "{'activation': 'relu', 'batch_size': 64, 'dropout': 0.5, 'epochs': 1, 'first_neuron': 1024, 'hidden_layers': 1, 'label_type': 'Angular', 'loss_function': 'mean_squared_error', 'lr': 1, 'monitor_value': 'val_custom_mae', 'optimizer': <class 'tensorflow.python.keras.optimizer_v2.adam.Adam'>, 'reduction_metric': 'custom_mae', 'samples': 20000}\n",
      "Using Loss: mean_squared_error \n",
      "and Reduction Metric: [<function custom_mae at 0x0000026E06BB99D8>]\n",
      "Monitor: val_custom_mae\n",
      "Train on 16000 samples, validate on 3968 samples\n",
      "15872/16000 [============================>.] - ETA: 0s - loss: 4904.2986 - custom_mae: 48.1375\n",
      "Epoch 00001: val_custom_mae improved from inf to 36.91918, saving model to ..\\fast_output\\SYNTH_Regression_MSE\\201019_2253_final_Angular_Base_Custom-MAE\\Best_Weights_FC_318.hdf5\n",
      "16000/16000 [==============================] - 3s 218us/sample - loss: 4890.6509 - custom_mae: 48.0368 - val_loss: 3477.4456 - val_custom_mae: 36.9192\n",
      "Time taken: 0:00:05.033162\n"
     ]
    },
    {
     "name": "stderr",
     "output_type": "stream",
     "text": [
      "\r",
      " 89%|██████████████████████████████████████████████████████████████████████▉         | 319/360 [56:39<05:39,  8.28s/it]"
     ]
    },
    {
     "name": "stdout",
     "output_type": "stream",
     "text": [
      "{'activation': 'relu', 'batch_size': 64, 'dropout': 0.5, 'epochs': 1, 'first_neuron': 1024, 'hidden_layers': 1, 'label_type': 'Angular', 'loss_function': 'mean_squared_error', 'lr': 2, 'monitor_value': 'val_custom_mae', 'optimizer': <class 'tensorflow.python.keras.optimizer_v2.adam.Adam'>, 'reduction_metric': 'custom_mae', 'samples': 20000}\n",
      "Using Loss: mean_squared_error \n",
      "and Reduction Metric: [<function custom_mae at 0x0000026E06BB99D8>]\n",
      "Monitor: val_custom_mae\n",
      "Train on 16000 samples, validate on 3968 samples\n",
      "15936/16000 [============================>.] - ETA: 0s - loss: 4674.7344 - custom_mae: 46.5972\n",
      "Epoch 00001: val_custom_mae improved from inf to 34.24034, saving model to ..\\fast_output\\SYNTH_Regression_MSE\\201019_2253_final_Angular_Base_Custom-MAE\\Best_Weights_FC_319.hdf5\n",
      "16000/16000 [==============================] - 3s 217us/sample - loss: 4670.0624 - custom_mae: 46.5573 - val_loss: 3065.7607 - val_custom_mae: 34.2403\n",
      "Time taken: 0:00:04.975217\n"
     ]
    },
    {
     "name": "stderr",
     "output_type": "stream",
     "text": [
      "\r",
      " 89%|███████████████████████████████████████████████████████████████████████         | 320/360 [56:46<05:12,  7.81s/it]"
     ]
    },
    {
     "name": "stdout",
     "output_type": "stream",
     "text": [
      "{'activation': 'relu', 'batch_size': 64, 'dropout': 0.5, 'epochs': 1, 'first_neuron': 1024, 'hidden_layers': 1, 'label_type': 'Angular', 'loss_function': 'mean_squared_error', 'lr': 5, 'monitor_value': 'val_custom_mae', 'optimizer': <class 'tensorflow.python.keras.optimizer_v2.adam.Adam'>, 'reduction_metric': 'custom_mae', 'samples': 20000}\n",
      "Using Loss: mean_squared_error \n",
      "and Reduction Metric: [<function custom_mae at 0x0000026E06BB99D8>]\n",
      "Monitor: val_custom_mae\n",
      "Train on 16000 samples, validate on 3968 samples\n",
      "15936/16000 [============================>.] - ETA: 0s - loss: 5395.9510 - custom_mae: 50.7372\n",
      "Epoch 00001: val_custom_mae improved from inf to 35.72861, saving model to ..\\fast_output\\SYNTH_Regression_MSE\\201019_2253_final_Angular_Base_Custom-MAE\\Best_Weights_FC_320.hdf5\n",
      "16000/16000 [==============================] - 3s 217us/sample - loss: 5389.9674 - custom_mae: 50.7003 - val_loss: 3167.7126 - val_custom_mae: 35.7286\n",
      "Time taken: 0:00:04.957933\n"
     ]
    },
    {
     "name": "stderr",
     "output_type": "stream",
     "text": [
      "\r",
      " 89%|███████████████████████████████████████████████████████████████████████▎        | 321/360 [56:52<04:51,  7.48s/it]"
     ]
    },
    {
     "name": "stdout",
     "output_type": "stream",
     "text": [
      "{'activation': 'relu', 'batch_size': 64, 'dropout': 0.5, 'epochs': 1, 'first_neuron': 1024, 'hidden_layers': 2, 'label_type': 'Angular', 'loss_function': 'mean_squared_error', 'lr': 1, 'monitor_value': 'val_custom_mae', 'optimizer': <class 'tensorflow.python.keras.optimizer_v2.adam.Adam'>, 'reduction_metric': 'custom_mae', 'samples': 20000}\n",
      "Using Loss: mean_squared_error \n",
      "and Reduction Metric: [<function custom_mae at 0x0000026E06BB99D8>]\n",
      "Monitor: val_custom_mae\n",
      "Train on 16000 samples, validate on 3968 samples\n",
      "15744/16000 [============================>.] - ETA: 0s - loss: 5441.8493 - custom_mae: 52.5255\n",
      "Epoch 00001: val_custom_mae improved from inf to 38.53129, saving model to ..\\fast_output\\SYNTH_Regression_MSE\\201019_2253_final_Angular_Base_Custom-MAE\\Best_Weights_FC_321.hdf5\n",
      "16000/16000 [==============================] - 4s 223us/sample - loss: 5409.5628 - custom_mae: 52.3406 - val_loss: 3398.2137 - val_custom_mae: 38.5313\n",
      "Time taken: 0:00:05.073669\n"
     ]
    },
    {
     "name": "stderr",
     "output_type": "stream",
     "text": [
      "\r",
      " 89%|███████████████████████████████████████████████████████████████████████▌        | 322/360 [56:59<04:36,  7.28s/it]"
     ]
    },
    {
     "name": "stdout",
     "output_type": "stream",
     "text": [
      "{'activation': 'relu', 'batch_size': 64, 'dropout': 0.5, 'epochs': 1, 'first_neuron': 1024, 'hidden_layers': 2, 'label_type': 'Angular', 'loss_function': 'mean_squared_error', 'lr': 2, 'monitor_value': 'val_custom_mae', 'optimizer': <class 'tensorflow.python.keras.optimizer_v2.adam.Adam'>, 'reduction_metric': 'custom_mae', 'samples': 20000}\n",
      "Using Loss: mean_squared_error \n",
      "and Reduction Metric: [<function custom_mae at 0x0000026E06BB99D8>]\n",
      "Monitor: val_custom_mae\n",
      "Train on 16000 samples, validate on 3968 samples\n",
      "15744/16000 [============================>.] - ETA: 0s - loss: 5292.5957 - custom_mae: 51.1996\n",
      "Epoch 00001: val_custom_mae improved from inf to 42.44801, saving model to ..\\fast_output\\SYNTH_Regression_MSE\\201019_2253_final_Angular_Base_Custom-MAE\\Best_Weights_FC_322.hdf5\n",
      "16000/16000 [==============================] - 4s 225us/sample - loss: 5268.9286 - custom_mae: 51.0464 - val_loss: 4049.4794 - val_custom_mae: 42.4480\n",
      "Time taken: 0:00:05.096437\n"
     ]
    },
    {
     "name": "stderr",
     "output_type": "stream",
     "text": [
      "\r",
      " 90%|███████████████████████████████████████████████████████████████████████▊        | 323/360 [57:06<04:24,  7.14s/it]"
     ]
    },
    {
     "name": "stdout",
     "output_type": "stream",
     "text": [
      "{'activation': 'relu', 'batch_size': 64, 'dropout': 0.5, 'epochs': 1, 'first_neuron': 1024, 'hidden_layers': 2, 'label_type': 'Angular', 'loss_function': 'mean_squared_error', 'lr': 5, 'monitor_value': 'val_custom_mae', 'optimizer': <class 'tensorflow.python.keras.optimizer_v2.adam.Adam'>, 'reduction_metric': 'custom_mae', 'samples': 20000}\n",
      "Using Loss: mean_squared_error \n",
      "and Reduction Metric: [<function custom_mae at 0x0000026E06BB99D8>]\n",
      "Monitor: val_custom_mae\n",
      "Train on 16000 samples, validate on 3968 samples\n",
      "15872/16000 [============================>.] - ETA: 0s - loss: 6119.2447 - custom_mae: 55.8411\n",
      "Epoch 00001: val_custom_mae improved from inf to 51.81717, saving model to ..\\fast_output\\SYNTH_Regression_MSE\\201019_2253_final_Angular_Base_Custom-MAE\\Best_Weights_FC_323.hdf5\n",
      "16000/16000 [==============================] - 4s 224us/sample - loss: 6109.0536 - custom_mae: 55.7834 - val_loss: 5441.6931 - val_custom_mae: 51.8172\n",
      "Time taken: 0:00:05.075815\n"
     ]
    },
    {
     "name": "stderr",
     "output_type": "stream",
     "text": [
      "\r",
      " 90%|████████████████████████████████████████████████████████████████████████        | 324/360 [57:13<04:13,  7.03s/it]"
     ]
    },
    {
     "name": "stdout",
     "output_type": "stream",
     "text": [
      "{'activation': 'relu', 'batch_size': 64, 'dropout': 0.5, 'epochs': 1, 'first_neuron': 1024, 'hidden_layers': 3, 'label_type': 'Angular', 'loss_function': 'mean_squared_error', 'lr': 1, 'monitor_value': 'val_custom_mae', 'optimizer': <class 'tensorflow.python.keras.optimizer_v2.adam.Adam'>, 'reduction_metric': 'custom_mae', 'samples': 20000}\n",
      "Using Loss: mean_squared_error \n",
      "and Reduction Metric: [<function custom_mae at 0x0000026E06BB99D8>]\n",
      "Monitor: val_custom_mae\n",
      "Train on 16000 samples, validate on 3968 samples\n",
      "15616/16000 [============================>.] - ETA: 0s - loss: 6238.2209 - custom_mae: 57.3722\n",
      "Epoch 00001: val_custom_mae improved from inf to 48.48812, saving model to ..\\fast_output\\SYNTH_Regression_MSE\\201019_2253_final_Angular_Base_Custom-MAE\\Best_Weights_FC_324.hdf5\n",
      "16000/16000 [==============================] - 4s 231us/sample - loss: 6190.7945 - custom_mae: 57.1100 - val_loss: 4434.3554 - val_custom_mae: 48.4881\n",
      "Time taken: 0:00:05.191022\n"
     ]
    },
    {
     "name": "stderr",
     "output_type": "stream",
     "text": [
      "\r",
      " 90%|████████████████████████████████████████████████████████████████████████▏       | 325/360 [57:20<04:05,  7.00s/it]"
     ]
    },
    {
     "name": "stdout",
     "output_type": "stream",
     "text": [
      "{'activation': 'relu', 'batch_size': 64, 'dropout': 0.5, 'epochs': 1, 'first_neuron': 1024, 'hidden_layers': 3, 'label_type': 'Angular', 'loss_function': 'mean_squared_error', 'lr': 2, 'monitor_value': 'val_custom_mae', 'optimizer': <class 'tensorflow.python.keras.optimizer_v2.adam.Adam'>, 'reduction_metric': 'custom_mae', 'samples': 20000}\n",
      "Using Loss: mean_squared_error \n",
      "and Reduction Metric: [<function custom_mae at 0x0000026E06BB99D8>]\n",
      "Monitor: val_custom_mae\n",
      "Train on 16000 samples, validate on 3968 samples\n",
      "15872/16000 [============================>.] - ETA: 0s - loss: 6187.3781 - custom_mae: 56.7905\n",
      "Epoch 00001: val_custom_mae improved from inf to 50.76805, saving model to ..\\fast_output\\SYNTH_Regression_MSE\\201019_2253_final_Angular_Base_Custom-MAE\\Best_Weights_FC_325.hdf5\n",
      "16000/16000 [==============================] - 4s 231us/sample - loss: 6177.3177 - custom_mae: 56.7370 - val_loss: 4911.1016 - val_custom_mae: 50.7681\n",
      "Time taken: 0:00:05.204529\n"
     ]
    },
    {
     "name": "stderr",
     "output_type": "stream",
     "text": [
      "\r",
      " 91%|████████████████████████████████████████████████████████████████████████▍       | 326/360 [57:27<03:57,  6.99s/it]"
     ]
    },
    {
     "name": "stdout",
     "output_type": "stream",
     "text": [
      "{'activation': 'relu', 'batch_size': 64, 'dropout': 0.5, 'epochs': 1, 'first_neuron': 1024, 'hidden_layers': 3, 'label_type': 'Angular', 'loss_function': 'mean_squared_error', 'lr': 5, 'monitor_value': 'val_custom_mae', 'optimizer': <class 'tensorflow.python.keras.optimizer_v2.adam.Adam'>, 'reduction_metric': 'custom_mae', 'samples': 20000}\n",
      "Using Loss: mean_squared_error \n",
      "and Reduction Metric: [<function custom_mae at 0x0000026E06BB99D8>]\n",
      "Monitor: val_custom_mae\n",
      "Train on 16000 samples, validate on 3968 samples\n",
      "15616/16000 [============================>.] - ETA: 0s - loss: 6952.0950 - custom_mae: 59.4994\n",
      "Epoch 00001: val_custom_mae improved from inf to 59.98867, saving model to ..\\fast_output\\SYNTH_Regression_MSE\\201019_2253_final_Angular_Base_Custom-MAE\\Best_Weights_FC_326.hdf5\n",
      "16000/16000 [==============================] - 4s 227us/sample - loss: 6916.8787 - custom_mae: 59.3266 - val_loss: 6866.8021 - val_custom_mae: 59.9887\n",
      "Time taken: 0:00:05.158912\n"
     ]
    },
    {
     "name": "stderr",
     "output_type": "stream",
     "text": [
      "\r",
      " 91%|████████████████████████████████████████████████████████████████████████▋       | 327/360 [57:34<03:49,  6.97s/it]"
     ]
    },
    {
     "name": "stdout",
     "output_type": "stream",
     "text": [
      "{'activation': 'relu', 'batch_size': 64, 'dropout': 0.5, 'epochs': 1, 'first_neuron': 1024, 'hidden_layers': 4, 'label_type': 'Angular', 'loss_function': 'mean_squared_error', 'lr': 1, 'monitor_value': 'val_custom_mae', 'optimizer': <class 'tensorflow.python.keras.optimizer_v2.adam.Adam'>, 'reduction_metric': 'custom_mae', 'samples': 20000}\n",
      "Using Loss: mean_squared_error \n",
      "and Reduction Metric: [<function custom_mae at 0x0000026E06BB99D8>]\n",
      "Monitor: val_custom_mae\n",
      "Train on 16000 samples, validate on 3968 samples\n",
      "15552/16000 [============================>.] - ETA: 0s - loss: 7500.7423 - custom_mae: 62.7833\n",
      "Epoch 00001: val_custom_mae improved from inf to 61.51214, saving model to ..\\fast_output\\SYNTH_Regression_MSE\\201019_2253_final_Angular_Base_Custom-MAE\\Best_Weights_FC_327.hdf5\n",
      "16000/16000 [==============================] - 4s 235us/sample - loss: 7439.6321 - custom_mae: 62.4921 - val_loss: 7344.7450 - val_custom_mae: 61.5121\n",
      "Time taken: 0:00:05.254253\n"
     ]
    },
    {
     "name": "stderr",
     "output_type": "stream",
     "text": [
      "\r",
      " 91%|████████████████████████████████████████████████████████████████████████▉       | 328/360 [57:41<03:43,  6.99s/it]"
     ]
    },
    {
     "name": "stdout",
     "output_type": "stream",
     "text": [
      "{'activation': 'relu', 'batch_size': 64, 'dropout': 0.5, 'epochs': 1, 'first_neuron': 1024, 'hidden_layers': 4, 'label_type': 'Angular', 'loss_function': 'mean_squared_error', 'lr': 2, 'monitor_value': 'val_custom_mae', 'optimizer': <class 'tensorflow.python.keras.optimizer_v2.adam.Adam'>, 'reduction_metric': 'custom_mae', 'samples': 20000}\n",
      "Using Loss: mean_squared_error \n",
      "and Reduction Metric: [<function custom_mae at 0x0000026E06BB99D8>]\n",
      "Monitor: val_custom_mae\n",
      "Train on 16000 samples, validate on 3968 samples\n",
      "15552/16000 [============================>.] - ETA: 0s - loss: 7463.6662 - custom_mae: 62.1165\n",
      "Epoch 00001: val_custom_mae improved from inf to 69.20020, saving model to ..\\fast_output\\SYNTH_Regression_MSE\\201019_2253_final_Angular_Base_Custom-MAE\\Best_Weights_FC_328.hdf5\n",
      "16000/16000 [==============================] - 4s 233us/sample - loss: 7409.1694 - custom_mae: 61.8848 - val_loss: 9139.7463 - val_custom_mae: 69.2002\n",
      "Time taken: 0:00:05.237861\n"
     ]
    },
    {
     "name": "stderr",
     "output_type": "stream",
     "text": [
      "\r",
      " 91%|█████████████████████████████████████████████████████████████████████████       | 329/360 [57:48<03:36,  6.99s/it]"
     ]
    },
    {
     "name": "stdout",
     "output_type": "stream",
     "text": [
      "{'activation': 'relu', 'batch_size': 64, 'dropout': 0.5, 'epochs': 1, 'first_neuron': 1024, 'hidden_layers': 4, 'label_type': 'Angular', 'loss_function': 'mean_squared_error', 'lr': 5, 'monitor_value': 'val_custom_mae', 'optimizer': <class 'tensorflow.python.keras.optimizer_v2.adam.Adam'>, 'reduction_metric': 'custom_mae', 'samples': 20000}\n",
      "Using Loss: mean_squared_error \n",
      "and Reduction Metric: [<function custom_mae at 0x0000026E06BB99D8>]\n",
      "Monitor: val_custom_mae\n",
      "Train on 16000 samples, validate on 3968 samples\n",
      "15744/16000 [============================>.] - ETA: 0s - loss: 8567.7288 - custom_mae: 65.5804\n",
      "Epoch 00001: val_custom_mae improved from inf to 72.32974, saving model to ..\\fast_output\\SYNTH_Regression_MSE\\201019_2253_final_Angular_Base_Custom-MAE\\Best_Weights_FC_329.hdf5\n",
      "16000/16000 [==============================] - 4s 235us/sample - loss: 8530.5989 - custom_mae: 65.4254 - val_loss: 10233.3070 - val_custom_mae: 72.3297\n",
      "Time taken: 0:00:05.265994\n"
     ]
    },
    {
     "name": "stderr",
     "output_type": "stream",
     "text": [
      "\r",
      " 92%|█████████████████████████████████████████████████████████████████████████▎      | 330/360 [57:55<03:30,  7.00s/it]"
     ]
    },
    {
     "name": "stdout",
     "output_type": "stream",
     "text": [
      "{'activation': 'relu', 'batch_size': 64, 'dropout': 0.5, 'epochs': 1, 'first_neuron': 2048, 'hidden_layers': 0, 'label_type': 'Angular', 'loss_function': 'mean_squared_error', 'lr': 1, 'monitor_value': 'val_custom_mae', 'optimizer': <class 'tensorflow.python.keras.optimizer_v2.adam.Adam'>, 'reduction_metric': 'custom_mae', 'samples': 20000}\n",
      "Using Loss: mean_squared_error \n",
      "and Reduction Metric: [<function custom_mae at 0x0000026E06BB99D8>]\n",
      "Monitor: val_custom_mae\n",
      "Train on 16000 samples, validate on 3968 samples\n",
      "15808/16000 [============================>.] - ETA: 0s - loss: 4484.7325 - custom_mae: 43.6045\n",
      "Epoch 00001: val_custom_mae improved from inf to 35.27692, saving model to ..\\fast_output\\SYNTH_Regression_MSE\\201019_2253_final_Angular_Base_Custom-MAE\\Best_Weights_FC_330.hdf5\n",
      "16000/16000 [==============================] - 5s 328us/sample - loss: 4466.8759 - custom_mae: 43.4938 - val_loss: 3362.6996 - val_custom_mae: 35.2769\n",
      "Time taken: 0:00:06.758098\n"
     ]
    },
    {
     "name": "stderr",
     "output_type": "stream",
     "text": [
      "\r",
      " 92%|█████████████████████████████████████████████████████████████████████████▌      | 331/360 [58:03<03:35,  7.44s/it]"
     ]
    },
    {
     "name": "stdout",
     "output_type": "stream",
     "text": [
      "{'activation': 'relu', 'batch_size': 64, 'dropout': 0.5, 'epochs': 1, 'first_neuron': 2048, 'hidden_layers': 0, 'label_type': 'Angular', 'loss_function': 'mean_squared_error', 'lr': 2, 'monitor_value': 'val_custom_mae', 'optimizer': <class 'tensorflow.python.keras.optimizer_v2.adam.Adam'>, 'reduction_metric': 'custom_mae', 'samples': 20000}\n",
      "Using Loss: mean_squared_error \n",
      "and Reduction Metric: [<function custom_mae at 0x0000026E06BB99D8>]\n",
      "Monitor: val_custom_mae\n",
      "Train on 16000 samples, validate on 3968 samples\n",
      "15808/16000 [============================>.] - ETA: 0s - loss: 4143.3074 - custom_mae: 41.4828\n",
      "Epoch 00001: val_custom_mae improved from inf to 32.63836, saving model to ..\\fast_output\\SYNTH_Regression_MSE\\201019_2253_final_Angular_Base_Custom-MAE\\Best_Weights_FC_331.hdf5\n",
      "16000/16000 [==============================] - 5s 327us/sample - loss: 4128.0305 - custom_mae: 41.3773 - val_loss: 3005.1805 - val_custom_mae: 32.6384\n",
      "Time taken: 0:00:06.745647\n"
     ]
    },
    {
     "name": "stderr",
     "output_type": "stream",
     "text": [
      "\r",
      " 92%|█████████████████████████████████████████████████████████████████████████▊      | 332/360 [58:12<03:36,  7.73s/it]"
     ]
    },
    {
     "name": "stdout",
     "output_type": "stream",
     "text": [
      "{'activation': 'relu', 'batch_size': 64, 'dropout': 0.5, 'epochs': 1, 'first_neuron': 2048, 'hidden_layers': 0, 'label_type': 'Angular', 'loss_function': 'mean_squared_error', 'lr': 5, 'monitor_value': 'val_custom_mae', 'optimizer': <class 'tensorflow.python.keras.optimizer_v2.adam.Adam'>, 'reduction_metric': 'custom_mae', 'samples': 20000}\n",
      "Using Loss: mean_squared_error \n",
      "and Reduction Metric: [<function custom_mae at 0x0000026E06BB99D8>]\n",
      "Monitor: val_custom_mae\n",
      "Train on 16000 samples, validate on 3968 samples\n",
      "15872/16000 [============================>.] - ETA: 0s - loss: 4308.3050 - custom_mae: 42.5676\n",
      "Epoch 00001: val_custom_mae improved from inf to 31.42605, saving model to ..\\fast_output\\SYNTH_Regression_MSE\\201019_2253_final_Angular_Base_Custom-MAE\\Best_Weights_FC_332.hdf5\n",
      "16000/16000 [==============================] - 5s 328us/sample - loss: 4296.9019 - custom_mae: 42.4844 - val_loss: 2861.7237 - val_custom_mae: 31.4261\n",
      "Time taken: 0:00:06.757789\n"
     ]
    },
    {
     "name": "stderr",
     "output_type": "stream",
     "text": [
      "\r",
      " 92%|██████████████████████████████████████████████████████████████████████████      | 333/360 [58:20<03:34,  7.96s/it]"
     ]
    },
    {
     "name": "stdout",
     "output_type": "stream",
     "text": [
      "{'activation': 'relu', 'batch_size': 64, 'dropout': 0.5, 'epochs': 1, 'first_neuron': 2048, 'hidden_layers': 1, 'label_type': 'Angular', 'loss_function': 'mean_squared_error', 'lr': 1, 'monitor_value': 'val_custom_mae', 'optimizer': <class 'tensorflow.python.keras.optimizer_v2.adam.Adam'>, 'reduction_metric': 'custom_mae', 'samples': 20000}\n",
      "Using Loss: mean_squared_error \n",
      "and Reduction Metric: [<function custom_mae at 0x0000026E06BB99D8>]\n",
      "Monitor: val_custom_mae\n",
      "Train on 16000 samples, validate on 3968 samples\n",
      "15872/16000 [============================>.] - ETA: 0s - loss: 4451.9705 - custom_mae: 44.7909\n",
      "Epoch 00001: val_custom_mae improved from inf to 33.40159, saving model to ..\\fast_output\\SYNTH_Regression_MSE\\201019_2253_final_Angular_Base_Custom-MAE\\Best_Weights_FC_333.hdf5\n",
      "16000/16000 [==============================] - 6s 351us/sample - loss: 4438.4585 - custom_mae: 44.6889 - val_loss: 3038.1433 - val_custom_mae: 33.4016\n",
      "Time taken: 0:00:07.130001\n"
     ]
    },
    {
     "name": "stderr",
     "output_type": "stream",
     "text": [
      "\r",
      " 93%|██████████████████████████████████████████████████████████████████████████▏     | 334/360 [58:29<03:34,  8.23s/it]"
     ]
    },
    {
     "name": "stdout",
     "output_type": "stream",
     "text": [
      "{'activation': 'relu', 'batch_size': 64, 'dropout': 0.5, 'epochs': 1, 'first_neuron': 2048, 'hidden_layers': 1, 'label_type': 'Angular', 'loss_function': 'mean_squared_error', 'lr': 2, 'monitor_value': 'val_custom_mae', 'optimizer': <class 'tensorflow.python.keras.optimizer_v2.adam.Adam'>, 'reduction_metric': 'custom_mae', 'samples': 20000}\n",
      "Using Loss: mean_squared_error \n",
      "and Reduction Metric: [<function custom_mae at 0x0000026E06BB99D8>]\n",
      "Monitor: val_custom_mae\n",
      "Train on 16000 samples, validate on 3968 samples\n",
      "15808/16000 [============================>.] - ETA: 0s - loss: 4479.1352 - custom_mae: 45.2472\n",
      "Epoch 00001: val_custom_mae improved from inf to 33.42123, saving model to ..\\fast_output\\SYNTH_Regression_MSE\\201019_2253_final_Angular_Base_Custom-MAE\\Best_Weights_FC_334.hdf5\n",
      "16000/16000 [==============================] - 5s 338us/sample - loss: 4462.4602 - custom_mae: 45.1194 - val_loss: 3011.8476 - val_custom_mae: 33.4212\n",
      "Time taken: 0:00:06.919075\n"
     ]
    },
    {
     "name": "stderr",
     "output_type": "stream",
     "text": [
      "\r",
      " 93%|██████████████████████████████████████████████████████████████████████████▍     | 335/360 [58:38<03:28,  8.35s/it]"
     ]
    },
    {
     "name": "stdout",
     "output_type": "stream",
     "text": [
      "{'activation': 'relu', 'batch_size': 64, 'dropout': 0.5, 'epochs': 1, 'first_neuron': 2048, 'hidden_layers': 1, 'label_type': 'Angular', 'loss_function': 'mean_squared_error', 'lr': 5, 'monitor_value': 'val_custom_mae', 'optimizer': <class 'tensorflow.python.keras.optimizer_v2.adam.Adam'>, 'reduction_metric': 'custom_mae', 'samples': 20000}\n",
      "Using Loss: mean_squared_error \n",
      "and Reduction Metric: [<function custom_mae at 0x0000026E06BB99D8>]\n",
      "Monitor: val_custom_mae\n",
      "Train on 16000 samples, validate on 3968 samples\n",
      "15808/16000 [============================>.] - ETA: 0s - loss: 6970.3374 - custom_mae: 52.9727\n",
      "Epoch 00001: val_custom_mae improved from inf to 37.32734, saving model to ..\\fast_output\\SYNTH_Regression_MSE\\201019_2253_final_Angular_Base_Custom-MAE\\Best_Weights_FC_335.hdf5\n",
      "16000/16000 [==============================] - 5s 338us/sample - loss: 6931.3673 - custom_mae: 52.8263 - val_loss: 3259.4742 - val_custom_mae: 37.3273\n",
      "Time taken: 0:00:06.912675\n"
     ]
    },
    {
     "name": "stderr",
     "output_type": "stream",
     "text": [
      "\r",
      " 93%|██████████████████████████████████████████████████████████████████████████▋     | 336/360 [58:46<03:22,  8.43s/it]"
     ]
    },
    {
     "name": "stdout",
     "output_type": "stream",
     "text": [
      "{'activation': 'relu', 'batch_size': 64, 'dropout': 0.5, 'epochs': 1, 'first_neuron': 2048, 'hidden_layers': 2, 'label_type': 'Angular', 'loss_function': 'mean_squared_error', 'lr': 1, 'monitor_value': 'val_custom_mae', 'optimizer': <class 'tensorflow.python.keras.optimizer_v2.adam.Adam'>, 'reduction_metric': 'custom_mae', 'samples': 20000}\n",
      "Using Loss: mean_squared_error \n",
      "and Reduction Metric: [<function custom_mae at 0x0000026E06BB99D8>]\n",
      "Monitor: val_custom_mae\n",
      "Train on 16000 samples, validate on 3968 samples\n",
      "15744/16000 [============================>.] - ETA: 0s - loss: 5008.0787 - custom_mae: 49.2039\n",
      "Epoch 00001: val_custom_mae improved from inf to 37.21804, saving model to ..\\fast_output\\SYNTH_Regression_MSE\\201019_2253_final_Angular_Base_Custom-MAE\\Best_Weights_FC_336.hdf5\n",
      "16000/16000 [==============================] - 6s 345us/sample - loss: 4980.2579 - custom_mae: 49.0256 - val_loss: 3489.3140 - val_custom_mae: 37.2180\n",
      "Time taken: 0:00:07.020783\n"
     ]
    },
    {
     "name": "stderr",
     "output_type": "stream",
     "text": [
      "\r",
      " 94%|██████████████████████████████████████████████████████████████████████████▉     | 337/360 [58:55<03:15,  8.52s/it]"
     ]
    },
    {
     "name": "stdout",
     "output_type": "stream",
     "text": [
      "{'activation': 'relu', 'batch_size': 64, 'dropout': 0.5, 'epochs': 1, 'first_neuron': 2048, 'hidden_layers': 2, 'label_type': 'Angular', 'loss_function': 'mean_squared_error', 'lr': 2, 'monitor_value': 'val_custom_mae', 'optimizer': <class 'tensorflow.python.keras.optimizer_v2.adam.Adam'>, 'reduction_metric': 'custom_mae', 'samples': 20000}\n",
      "Using Loss: mean_squared_error \n",
      "and Reduction Metric: [<function custom_mae at 0x0000026E06BB99D8>]\n",
      "Monitor: val_custom_mae\n",
      "Train on 16000 samples, validate on 3968 samples\n",
      "15744/16000 [============================>.] - ETA: 0s - loss: 6011.7006 - custom_mae: 54.2390\n",
      "Epoch 00001: val_custom_mae improved from inf to 41.56443, saving model to ..\\fast_output\\SYNTH_Regression_MSE\\201019_2253_final_Angular_Base_Custom-MAE\\Best_Weights_FC_337.hdf5\n",
      "16000/16000 [==============================] - 6s 346us/sample - loss: 5976.5602 - custom_mae: 54.0605 - val_loss: 3627.6730 - val_custom_mae: 41.5644\n",
      "Time taken: 0:00:07.031948\n"
     ]
    },
    {
     "name": "stderr",
     "output_type": "stream",
     "text": [
      "\r",
      " 94%|███████████████████████████████████████████████████████████████████████████     | 338/360 [59:04<03:09,  8.60s/it]"
     ]
    },
    {
     "name": "stdout",
     "output_type": "stream",
     "text": [
      "{'activation': 'relu', 'batch_size': 64, 'dropout': 0.5, 'epochs': 1, 'first_neuron': 2048, 'hidden_layers': 2, 'label_type': 'Angular', 'loss_function': 'mean_squared_error', 'lr': 5, 'monitor_value': 'val_custom_mae', 'optimizer': <class 'tensorflow.python.keras.optimizer_v2.adam.Adam'>, 'reduction_metric': 'custom_mae', 'samples': 20000}\n",
      "Using Loss: mean_squared_error \n",
      "and Reduction Metric: [<function custom_mae at 0x0000026E06BB99D8>]\n",
      "Monitor: val_custom_mae\n",
      "Train on 16000 samples, validate on 3968 samples\n",
      "15616/16000 [============================>.] - ETA: 0s - loss: 7617.7923 - custom_mae: 56.2657\n",
      "Epoch 00001: val_custom_mae improved from inf to 60.60651, saving model to ..\\fast_output\\SYNTH_Regression_MSE\\201019_2253_final_Angular_Base_Custom-MAE\\Best_Weights_FC_338.hdf5\n",
      "16000/16000 [==============================] - 6s 349us/sample - loss: 7534.5416 - custom_mae: 55.9895 - val_loss: 6842.3702 - val_custom_mae: 60.6065\n",
      "Time taken: 0:00:07.105011\n"
     ]
    },
    {
     "name": "stderr",
     "output_type": "stream",
     "text": [
      "\r",
      " 94%|███████████████████████████████████████████████████████████████████████████▎    | 339/360 [59:13<03:02,  8.67s/it]"
     ]
    },
    {
     "name": "stdout",
     "output_type": "stream",
     "text": [
      "{'activation': 'relu', 'batch_size': 64, 'dropout': 0.5, 'epochs': 1, 'first_neuron': 2048, 'hidden_layers': 3, 'label_type': 'Angular', 'loss_function': 'mean_squared_error', 'lr': 1, 'monitor_value': 'val_custom_mae', 'optimizer': <class 'tensorflow.python.keras.optimizer_v2.adam.Adam'>, 'reduction_metric': 'custom_mae', 'samples': 20000}\n",
      "Using Loss: mean_squared_error \n",
      "and Reduction Metric: [<function custom_mae at 0x0000026E06BB99D8>]\n",
      "Monitor: val_custom_mae\n",
      "Train on 16000 samples, validate on 3968 samples\n",
      "15616/16000 [============================>.] - ETA: 0s - loss: 5503.7501 - custom_mae: 53.6640\n",
      "Epoch 00001: val_custom_mae improved from inf to 45.21457, saving model to ..\\fast_output\\SYNTH_Regression_MSE\\201019_2253_final_Angular_Base_Custom-MAE\\Best_Weights_FC_339.hdf5\n",
      "16000/16000 [==============================] - 6s 354us/sample - loss: 5460.9736 - custom_mae: 53.4111 - val_loss: 4110.6650 - val_custom_mae: 45.2146\n",
      "Time taken: 0:00:07.164076\n"
     ]
    },
    {
     "name": "stderr",
     "output_type": "stream",
     "text": [
      "\r",
      " 94%|███████████████████████████████████████████████████████████████████████████▌    | 340/360 [59:22<02:54,  8.75s/it]"
     ]
    },
    {
     "name": "stdout",
     "output_type": "stream",
     "text": [
      "{'activation': 'relu', 'batch_size': 64, 'dropout': 0.5, 'epochs': 1, 'first_neuron': 2048, 'hidden_layers': 3, 'label_type': 'Angular', 'loss_function': 'mean_squared_error', 'lr': 2, 'monitor_value': 'val_custom_mae', 'optimizer': <class 'tensorflow.python.keras.optimizer_v2.adam.Adam'>, 'reduction_metric': 'custom_mae', 'samples': 20000}\n",
      "Using Loss: mean_squared_error \n",
      "and Reduction Metric: [<function custom_mae at 0x0000026E06BB99D8>]\n",
      "Monitor: val_custom_mae\n",
      "Train on 16000 samples, validate on 3968 samples\n",
      "15936/16000 [============================>.] - ETA: 0s - loss: 6464.3340 - custom_mae: 57.2254\n",
      "Epoch 00001: val_custom_mae improved from inf to 49.35566, saving model to ..\\fast_output\\SYNTH_Regression_MSE\\201019_2253_final_Angular_Base_Custom-MAE\\Best_Weights_FC_340.hdf5\n",
      "16000/16000 [==============================] - 6s 353us/sample - loss: 6456.5673 - custom_mae: 57.1848 - val_loss: 4589.8135 - val_custom_mae: 49.3557\n",
      "Time taken: 0:00:07.138302\n"
     ]
    },
    {
     "name": "stderr",
     "output_type": "stream",
     "text": [
      "\r",
      " 95%|███████████████████████████████████████████████████████████████████████████▊    | 341/360 [59:30<02:47,  8.79s/it]"
     ]
    },
    {
     "name": "stdout",
     "output_type": "stream",
     "text": [
      "{'activation': 'relu', 'batch_size': 64, 'dropout': 0.5, 'epochs': 1, 'first_neuron': 2048, 'hidden_layers': 3, 'label_type': 'Angular', 'loss_function': 'mean_squared_error', 'lr': 5, 'monitor_value': 'val_custom_mae', 'optimizer': <class 'tensorflow.python.keras.optimizer_v2.adam.Adam'>, 'reduction_metric': 'custom_mae', 'samples': 20000}\n",
      "Using Loss: mean_squared_error \n",
      "and Reduction Metric: [<function custom_mae at 0x0000026E06BB99D8>]\n",
      "Monitor: val_custom_mae\n",
      "Train on 16000 samples, validate on 3968 samples\n",
      "15808/16000 [============================>.] - ETA: 0s - loss: 7992.0222 - custom_mae: 61.6746\n",
      "Epoch 00001: val_custom_mae improved from inf to 47.19220, saving model to ..\\fast_output\\SYNTH_Regression_MSE\\201019_2253_final_Angular_Base_Custom-MAE\\Best_Weights_FC_341.hdf5\n",
      "16000/16000 [==============================] - 6s 351us/sample - loss: 7961.0902 - custom_mae: 61.5431 - val_loss: 4051.4505 - val_custom_mae: 47.1922\n",
      "Time taken: 0:00:07.102886\n"
     ]
    },
    {
     "name": "stderr",
     "output_type": "stream",
     "text": [
      "\r",
      " 95%|████████████████████████████████████████████████████████████████████████████    | 342/360 [59:39<02:38,  8.81s/it]"
     ]
    },
    {
     "name": "stdout",
     "output_type": "stream",
     "text": [
      "{'activation': 'relu', 'batch_size': 64, 'dropout': 0.5, 'epochs': 1, 'first_neuron': 2048, 'hidden_layers': 4, 'label_type': 'Angular', 'loss_function': 'mean_squared_error', 'lr': 1, 'monitor_value': 'val_custom_mae', 'optimizer': <class 'tensorflow.python.keras.optimizer_v2.adam.Adam'>, 'reduction_metric': 'custom_mae', 'samples': 20000}\n",
      "Using Loss: mean_squared_error \n",
      "and Reduction Metric: [<function custom_mae at 0x0000026E06BB99D8>]\n",
      "Monitor: val_custom_mae\n",
      "Train on 16000 samples, validate on 3968 samples\n",
      "15808/16000 [============================>.] - ETA: 0s - loss: 6407.8536 - custom_mae: 58.0052\n",
      "Epoch 00001: val_custom_mae improved from inf to 55.96012, saving model to ..\\fast_output\\SYNTH_Regression_MSE\\201019_2253_final_Angular_Base_Custom-MAE\\Best_Weights_FC_342.hdf5\n",
      "16000/16000 [==============================] - 6s 357us/sample - loss: 6384.8442 - custom_mae: 57.8767 - val_loss: 5869.6008 - val_custom_mae: 55.9601\n",
      "Time taken: 0:00:07.209052\n"
     ]
    },
    {
     "name": "stderr",
     "output_type": "stream",
     "text": [
      "\r",
      " 95%|████████████████████████████████████████████████████████████████████████████▏   | 343/360 [59:48<02:30,  8.86s/it]"
     ]
    },
    {
     "name": "stdout",
     "output_type": "stream",
     "text": [
      "{'activation': 'relu', 'batch_size': 64, 'dropout': 0.5, 'epochs': 1, 'first_neuron': 2048, 'hidden_layers': 4, 'label_type': 'Angular', 'loss_function': 'mean_squared_error', 'lr': 2, 'monitor_value': 'val_custom_mae', 'optimizer': <class 'tensorflow.python.keras.optimizer_v2.adam.Adam'>, 'reduction_metric': 'custom_mae', 'samples': 20000}\n",
      "Using Loss: mean_squared_error \n",
      "and Reduction Metric: [<function custom_mae at 0x0000026E06BB99D8>]\n",
      "Monitor: val_custom_mae\n",
      "Train on 16000 samples, validate on 3968 samples\n",
      "15936/16000 [============================>.] - ETA: 0s - loss: 7037.3648 - custom_mae: 60.1117\n",
      "Epoch 00001: val_custom_mae improved from inf to 51.21786, saving model to ..\\fast_output\\SYNTH_Regression_MSE\\201019_2253_final_Angular_Base_Custom-MAE\\Best_Weights_FC_343.hdf5\n",
      "16000/16000 [==============================] - 6s 358us/sample - loss: 7032.0017 - custom_mae: 60.0750 - val_loss: 4863.0392 - val_custom_mae: 51.2179\n",
      "Time taken: 0:00:07.237352\n"
     ]
    },
    {
     "name": "stderr",
     "output_type": "stream",
     "text": [
      "\r",
      " 96%|████████████████████████████████████████████████████████████████████████████▍   | 344/360 [59:57<02:22,  8.90s/it]"
     ]
    },
    {
     "name": "stdout",
     "output_type": "stream",
     "text": [
      "{'activation': 'relu', 'batch_size': 64, 'dropout': 0.5, 'epochs': 1, 'first_neuron': 2048, 'hidden_layers': 4, 'label_type': 'Angular', 'loss_function': 'mean_squared_error', 'lr': 5, 'monitor_value': 'val_custom_mae', 'optimizer': <class 'tensorflow.python.keras.optimizer_v2.adam.Adam'>, 'reduction_metric': 'custom_mae', 'samples': 20000}\n",
      "Using Loss: mean_squared_error \n",
      "and Reduction Metric: [<function custom_mae at 0x0000026E06BB99D8>]\n",
      "Monitor: val_custom_mae\n",
      "Train on 16000 samples, validate on 3968 samples\n",
      "15616/16000 [============================>.] - ETA: 0s - loss: 8629.8305 - custom_mae: 64.7491\n",
      "Epoch 00001: val_custom_mae improved from inf to 65.97845, saving model to ..\\fast_output\\SYNTH_Regression_MSE\\201019_2253_final_Angular_Base_Custom-MAE\\Best_Weights_FC_344.hdf5\n",
      "16000/16000 [==============================] - 6s 357us/sample - loss: 8578.8999 - custom_mae: 64.5729 - val_loss: 8306.2493 - val_custom_mae: 65.9784\n",
      "Time taken: 0:00:07.218060\n"
     ]
    },
    {
     "name": "stderr",
     "output_type": "stream",
     "text": [
      "\r",
      " 96%|██████████████████████████████████████████████████████████████████████████▊   | 345/360 [1:00:06<02:13,  8.93s/it]"
     ]
    },
    {
     "name": "stdout",
     "output_type": "stream",
     "text": [
      "{'activation': 'relu', 'batch_size': 64, 'dropout': 0.5, 'epochs': 1, 'first_neuron': 4096, 'hidden_layers': 0, 'label_type': 'Angular', 'loss_function': 'mean_squared_error', 'lr': 1, 'monitor_value': 'val_custom_mae', 'optimizer': <class 'tensorflow.python.keras.optimizer_v2.adam.Adam'>, 'reduction_metric': 'custom_mae', 'samples': 20000}\n",
      "Using Loss: mean_squared_error \n",
      "and Reduction Metric: [<function custom_mae at 0x0000026E06BB99D8>]\n",
      "Monitor: val_custom_mae\n",
      "Train on 16000 samples, validate on 3968 samples\n",
      "15936/16000 [============================>.] - ETA: 0s - loss: 4242.5161 - custom_mae: 42.1815\n",
      "Epoch 00001: val_custom_mae improved from inf to 34.31983, saving model to ..\\fast_output\\SYNTH_Regression_MSE\\201019_2253_final_Angular_Base_Custom-MAE\\Best_Weights_FC_345.hdf5\n",
      "16000/16000 [==============================] - 9s 565us/sample - loss: 4237.5228 - custom_mae: 42.1443 - val_loss: 3266.6414 - val_custom_mae: 34.3198\n",
      "Time taken: 0:00:10.531269\n"
     ]
    },
    {
     "name": "stderr",
     "output_type": "stream",
     "text": [
      "\r",
      " 96%|██████████████████████████████████████████████████████████████████████████▉   | 346/360 [1:00:18<02:18,  9.92s/it]"
     ]
    },
    {
     "name": "stdout",
     "output_type": "stream",
     "text": [
      "{'activation': 'relu', 'batch_size': 64, 'dropout': 0.5, 'epochs': 1, 'first_neuron': 4096, 'hidden_layers': 0, 'label_type': 'Angular', 'loss_function': 'mean_squared_error', 'lr': 2, 'monitor_value': 'val_custom_mae', 'optimizer': <class 'tensorflow.python.keras.optimizer_v2.adam.Adam'>, 'reduction_metric': 'custom_mae', 'samples': 20000}\n",
      "Using Loss: mean_squared_error \n",
      "and Reduction Metric: [<function custom_mae at 0x0000026E06BB99D8>]\n",
      "Monitor: val_custom_mae\n",
      "Train on 16000 samples, validate on 3968 samples\n",
      "15936/16000 [============================>.] - ETA: 0s - loss: 4079.8240 - custom_mae: 41.1495\n",
      "Epoch 00001: val_custom_mae improved from inf to 32.10074, saving model to ..\\fast_output\\SYNTH_Regression_MSE\\201019_2253_final_Angular_Base_Custom-MAE\\Best_Weights_FC_346.hdf5\n",
      "16000/16000 [==============================] - 9s 567us/sample - loss: 4073.6315 - custom_mae: 41.1042 - val_loss: 2892.3296 - val_custom_mae: 32.1007\n",
      "Time taken: 0:00:10.562986\n"
     ]
    },
    {
     "name": "stderr",
     "output_type": "stream",
     "text": [
      "\r",
      " 96%|███████████████████████████████████████████████████████████████████████████▏  | 347/360 [1:00:31<02:18, 10.62s/it]"
     ]
    },
    {
     "name": "stdout",
     "output_type": "stream",
     "text": [
      "{'activation': 'relu', 'batch_size': 64, 'dropout': 0.5, 'epochs': 1, 'first_neuron': 4096, 'hidden_layers': 0, 'label_type': 'Angular', 'loss_function': 'mean_squared_error', 'lr': 5, 'monitor_value': 'val_custom_mae', 'optimizer': <class 'tensorflow.python.keras.optimizer_v2.adam.Adam'>, 'reduction_metric': 'custom_mae', 'samples': 20000}\n",
      "Using Loss: mean_squared_error \n",
      "and Reduction Metric: [<function custom_mae at 0x0000026E06BB99D8>]\n",
      "Monitor: val_custom_mae\n",
      "Train on 16000 samples, validate on 3968 samples\n",
      "15744/16000 [============================>.] - ETA: 0s - loss: 4781.3491 - custom_mae: 44.5159\n",
      "Epoch 00001: val_custom_mae improved from inf to 33.24128, saving model to ..\\fast_output\\SYNTH_Regression_MSE\\201019_2253_final_Angular_Base_Custom-MAE\\Best_Weights_FC_347.hdf5\n",
      "16000/16000 [==============================] - 9s 567us/sample - loss: 4747.8214 - custom_mae: 44.3256 - val_loss: 2923.3686 - val_custom_mae: 33.2413\n",
      "Time taken: 0:00:10.567943\n"
     ]
    },
    {
     "name": "stderr",
     "output_type": "stream",
     "text": [
      "\r",
      " 97%|███████████████████████████████████████████████████████████████████████████▍  | 348/360 [1:00:43<02:13, 11.11s/it]"
     ]
    },
    {
     "name": "stdout",
     "output_type": "stream",
     "text": [
      "{'activation': 'relu', 'batch_size': 64, 'dropout': 0.5, 'epochs': 1, 'first_neuron': 4096, 'hidden_layers': 1, 'label_type': 'Angular', 'loss_function': 'mean_squared_error', 'lr': 1, 'monitor_value': 'val_custom_mae', 'optimizer': <class 'tensorflow.python.keras.optimizer_v2.adam.Adam'>, 'reduction_metric': 'custom_mae', 'samples': 20000}\n",
      "Using Loss: mean_squared_error \n",
      "and Reduction Metric: [<function custom_mae at 0x0000026E06BB99D8>]\n",
      "Monitor: val_custom_mae\n",
      "Train on 16000 samples, validate on 3968 samples\n",
      "15808/16000 [============================>.] - ETA: 0s - loss: 4719.1697 - custom_mae: 46.2793\n",
      "Epoch 00001: val_custom_mae improved from inf to 33.70403, saving model to ..\\fast_output\\SYNTH_Regression_MSE\\201019_2253_final_Angular_Base_Custom-MAE\\Best_Weights_FC_348.hdf5\n",
      "16000/16000 [==============================] - 10s 604us/sample - loss: 4696.0346 - custom_mae: 46.1287 - val_loss: 3086.1014 - val_custom_mae: 33.7040\n",
      "Time taken: 0:00:11.178176\n"
     ]
    },
    {
     "name": "stderr",
     "output_type": "stream",
     "text": [
      "\r",
      " 97%|███████████████████████████████████████████████████████████████████████████▌  | 349/360 [1:00:56<02:08, 11.66s/it]"
     ]
    },
    {
     "name": "stdout",
     "output_type": "stream",
     "text": [
      "{'activation': 'relu', 'batch_size': 64, 'dropout': 0.5, 'epochs': 1, 'first_neuron': 4096, 'hidden_layers': 1, 'label_type': 'Angular', 'loss_function': 'mean_squared_error', 'lr': 2, 'monitor_value': 'val_custom_mae', 'optimizer': <class 'tensorflow.python.keras.optimizer_v2.adam.Adam'>, 'reduction_metric': 'custom_mae', 'samples': 20000}\n",
      "Using Loss: mean_squared_error \n",
      "and Reduction Metric: [<function custom_mae at 0x0000026E06BB99D8>]\n",
      "Monitor: val_custom_mae\n",
      "Train on 16000 samples, validate on 3968 samples\n",
      "15936/16000 [============================>.] - ETA: 0s - loss: 5132.1695 - custom_mae: 47.6863\n",
      "Epoch 00001: val_custom_mae improved from inf to 33.44650, saving model to ..\\fast_output\\SYNTH_Regression_MSE\\201019_2253_final_Angular_Base_Custom-MAE\\Best_Weights_FC_349.hdf5\n",
      "16000/16000 [==============================] - 10s 602us/sample - loss: 5125.6720 - custom_mae: 47.6415 - val_loss: 3035.9975 - val_custom_mae: 33.4465\n",
      "Time taken: 0:00:11.130310\n"
     ]
    },
    {
     "name": "stderr",
     "output_type": "stream",
     "text": [
      "\r",
      " 97%|███████████████████████████████████████████████████████████████████████████▊  | 350/360 [1:01:09<02:00, 12.02s/it]"
     ]
    },
    {
     "name": "stdout",
     "output_type": "stream",
     "text": [
      "{'activation': 'relu', 'batch_size': 64, 'dropout': 0.5, 'epochs': 1, 'first_neuron': 4096, 'hidden_layers': 1, 'label_type': 'Angular', 'loss_function': 'mean_squared_error', 'lr': 5, 'monitor_value': 'val_custom_mae', 'optimizer': <class 'tensorflow.python.keras.optimizer_v2.adam.Adam'>, 'reduction_metric': 'custom_mae', 'samples': 20000}\n",
      "Using Loss: mean_squared_error \n",
      "and Reduction Metric: [<function custom_mae at 0x0000026E06BB99D8>]\n",
      "Monitor: val_custom_mae\n",
      "Train on 16000 samples, validate on 3968 samples\n",
      "15808/16000 [============================>.] - ETA: 0s - loss: 20132.1971 - custom_mae: 54.4463\n",
      "Epoch 00001: val_custom_mae improved from inf to 38.02398, saving model to ..\\fast_output\\SYNTH_Regression_MSE\\201019_2253_final_Angular_Base_Custom-MAE\\Best_Weights_FC_350.hdf5\n",
      "16000/16000 [==============================] - 10s 609us/sample - loss: 19933.5908 - custom_mae: 54.2513 - val_loss: 3471.4150 - val_custom_mae: 38.0240\n",
      "Time taken: 0:00:11.244506\n"
     ]
    },
    {
     "name": "stderr",
     "output_type": "stream",
     "text": [
      "\r",
      " 98%|████████████████████████████████████████████████████████████████████████████  | 351/360 [1:01:22<01:50, 12.30s/it]"
     ]
    },
    {
     "name": "stdout",
     "output_type": "stream",
     "text": [
      "{'activation': 'relu', 'batch_size': 64, 'dropout': 0.5, 'epochs': 1, 'first_neuron': 4096, 'hidden_layers': 2, 'label_type': 'Angular', 'loss_function': 'mean_squared_error', 'lr': 1, 'monitor_value': 'val_custom_mae', 'optimizer': <class 'tensorflow.python.keras.optimizer_v2.adam.Adam'>, 'reduction_metric': 'custom_mae', 'samples': 20000}\n",
      "Using Loss: mean_squared_error \n",
      "and Reduction Metric: [<function custom_mae at 0x0000026E06BB99D8>]\n",
      "Monitor: val_custom_mae\n",
      "Train on 16000 samples, validate on 3968 samples\n",
      "15744/16000 [============================>.] - ETA: 0s - loss: 5438.7495 - custom_mae: 50.7819\n",
      "Epoch 00001: val_custom_mae improved from inf to 34.73479, saving model to ..\\fast_output\\SYNTH_Regression_MSE\\201019_2253_final_Angular_Base_Custom-MAE\\Best_Weights_FC_351.hdf5\n",
      "16000/16000 [==============================] - 10s 617us/sample - loss: 5401.0949 - custom_mae: 50.5641 - val_loss: 3020.2985 - val_custom_mae: 34.7348\n",
      "Time taken: 0:00:11.381406\n"
     ]
    },
    {
     "name": "stderr",
     "output_type": "stream",
     "text": [
      "\r",
      " 98%|████████████████████████████████████████████████████████████████████████████▎ | 352/360 [1:01:35<01:40, 12.55s/it]"
     ]
    },
    {
     "name": "stdout",
     "output_type": "stream",
     "text": [
      "{'activation': 'relu', 'batch_size': 64, 'dropout': 0.5, 'epochs': 1, 'first_neuron': 4096, 'hidden_layers': 2, 'label_type': 'Angular', 'loss_function': 'mean_squared_error', 'lr': 2, 'monitor_value': 'val_custom_mae', 'optimizer': <class 'tensorflow.python.keras.optimizer_v2.adam.Adam'>, 'reduction_metric': 'custom_mae', 'samples': 20000}\n",
      "Using Loss: mean_squared_error \n",
      "and Reduction Metric: [<function custom_mae at 0x0000026E06BB99D8>]\n",
      "Monitor: val_custom_mae\n",
      "Train on 16000 samples, validate on 3968 samples\n",
      "15872/16000 [============================>.] - ETA: 0s - loss: 5486.1231 - custom_mae: 50.6060\n",
      "Epoch 00001: val_custom_mae improved from inf to 39.52285, saving model to ..\\fast_output\\SYNTH_Regression_MSE\\201019_2253_final_Angular_Base_Custom-MAE\\Best_Weights_FC_352.hdf5\n",
      "16000/16000 [==============================] - 10s 617us/sample - loss: 5476.1530 - custom_mae: 50.5421 - val_loss: 3695.2619 - val_custom_mae: 39.5228\n",
      "Time taken: 0:00:11.374387\n"
     ]
    },
    {
     "name": "stderr",
     "output_type": "stream",
     "text": [
      "\r",
      " 98%|████████████████████████████████████████████████████████████████████████████▍ | 353/360 [1:01:48<01:29, 12.72s/it]"
     ]
    },
    {
     "name": "stdout",
     "output_type": "stream",
     "text": [
      "{'activation': 'relu', 'batch_size': 64, 'dropout': 0.5, 'epochs': 1, 'first_neuron': 4096, 'hidden_layers': 2, 'label_type': 'Angular', 'loss_function': 'mean_squared_error', 'lr': 5, 'monitor_value': 'val_custom_mae', 'optimizer': <class 'tensorflow.python.keras.optimizer_v2.adam.Adam'>, 'reduction_metric': 'custom_mae', 'samples': 20000}\n",
      "Using Loss: mean_squared_error \n",
      "and Reduction Metric: [<function custom_mae at 0x0000026E06BB99D8>]\n",
      "Monitor: val_custom_mae\n",
      "Train on 16000 samples, validate on 3968 samples\n",
      "15808/16000 [============================>.] - ETA: 0s - loss: 86523.2384 - custom_mae: 70.5360\n",
      "Epoch 00001: val_custom_mae improved from inf to 46.43068, saving model to ..\\fast_output\\SYNTH_Regression_MSE\\201019_2253_final_Angular_Base_Custom-MAE\\Best_Weights_FC_353.hdf5\n",
      "16000/16000 [==============================] - 10s 621us/sample - loss: 85533.5521 - custom_mae: 70.2266 - val_loss: 4518.5029 - val_custom_mae: 46.4307\n",
      "Time taken: 0:00:11.434654\n"
     ]
    },
    {
     "name": "stderr",
     "output_type": "stream",
     "text": [
      "\r",
      " 98%|████████████████████████████████████████████████████████████████████████████▋ | 354/360 [1:02:01<01:17, 12.86s/it]"
     ]
    },
    {
     "name": "stdout",
     "output_type": "stream",
     "text": [
      "{'activation': 'relu', 'batch_size': 64, 'dropout': 0.5, 'epochs': 1, 'first_neuron': 4096, 'hidden_layers': 3, 'label_type': 'Angular', 'loss_function': 'mean_squared_error', 'lr': 1, 'monitor_value': 'val_custom_mae', 'optimizer': <class 'tensorflow.python.keras.optimizer_v2.adam.Adam'>, 'reduction_metric': 'custom_mae', 'samples': 20000}\n",
      "Using Loss: mean_squared_error \n",
      "and Reduction Metric: [<function custom_mae at 0x0000026E06BB99D8>]\n",
      "Monitor: val_custom_mae\n",
      "Train on 16000 samples, validate on 3968 samples\n",
      "15872/16000 [============================>.] - ETA: 0s - loss: 5467.4766 - custom_mae: 52.6916\n",
      "Epoch 00001: val_custom_mae improved from inf to 37.38411, saving model to ..\\fast_output\\SYNTH_Regression_MSE\\201019_2253_final_Angular_Base_Custom-MAE\\Best_Weights_FC_354.hdf5\n",
      "16000/16000 [==============================] - 10s 622us/sample - loss: 5451.0720 - custom_mae: 52.5785 - val_loss: 3217.5847 - val_custom_mae: 37.3841\n",
      "Time taken: 0:00:11.442204\n"
     ]
    },
    {
     "name": "stderr",
     "output_type": "stream",
     "text": [
      "\r",
      " 99%|████████████████████████████████████████████████████████████████████████████▉ | 355/360 [1:02:14<01:04, 12.96s/it]"
     ]
    },
    {
     "name": "stdout",
     "output_type": "stream",
     "text": [
      "{'activation': 'relu', 'batch_size': 64, 'dropout': 0.5, 'epochs': 1, 'first_neuron': 4096, 'hidden_layers': 3, 'label_type': 'Angular', 'loss_function': 'mean_squared_error', 'lr': 2, 'monitor_value': 'val_custom_mae', 'optimizer': <class 'tensorflow.python.keras.optimizer_v2.adam.Adam'>, 'reduction_metric': 'custom_mae', 'samples': 20000}\n",
      "Using Loss: mean_squared_error \n",
      "and Reduction Metric: [<function custom_mae at 0x0000026E06BB99D8>]\n",
      "Monitor: val_custom_mae\n",
      "Train on 16000 samples, validate on 3968 samples\n",
      "15872/16000 [============================>.] - ETA: 0s - loss: 5677.2290 - custom_mae: 54.1554\n",
      "Epoch 00001: val_custom_mae improved from inf to 44.87769, saving model to ..\\fast_output\\SYNTH_Regression_MSE\\201019_2253_final_Angular_Base_Custom-MAE\\Best_Weights_FC_355.hdf5\n",
      "16000/16000 [==============================] - 10s 623us/sample - loss: 5669.6059 - custom_mae: 54.1112 - val_loss: 3816.6734 - val_custom_mae: 44.8777\n",
      "Time taken: 0:00:11.473400\n"
     ]
    },
    {
     "name": "stderr",
     "output_type": "stream",
     "text": [
      "\r",
      " 99%|█████████████████████████████████████████████████████████████████████████████▏| 356/360 [1:02:28<00:52, 13.05s/it]"
     ]
    },
    {
     "name": "stdout",
     "output_type": "stream",
     "text": [
      "{'activation': 'relu', 'batch_size': 64, 'dropout': 0.5, 'epochs': 1, 'first_neuron': 4096, 'hidden_layers': 3, 'label_type': 'Angular', 'loss_function': 'mean_squared_error', 'lr': 5, 'monitor_value': 'val_custom_mae', 'optimizer': <class 'tensorflow.python.keras.optimizer_v2.adam.Adam'>, 'reduction_metric': 'custom_mae', 'samples': 20000}\n",
      "Using Loss: mean_squared_error \n",
      "and Reduction Metric: [<function custom_mae at 0x0000026E06BB99D8>]\n",
      "Monitor: val_custom_mae\n",
      "Train on 16000 samples, validate on 3968 samples\n",
      "15936/16000 [============================>.] - ETA: 0s - loss: 52879.2780 - custom_mae: 74.8995\n",
      "Epoch 00001: val_custom_mae improved from inf to 48.66931, saving model to ..\\fast_output\\SYNTH_Regression_MSE\\201019_2253_final_Angular_Base_Custom-MAE\\Best_Weights_FC_356.hdf5\n",
      "16000/16000 [==============================] - 10s 625us/sample - loss: 52690.4263 - custom_mae: 74.8110 - val_loss: 4527.6149 - val_custom_mae: 48.6693\n",
      "Time taken: 0:00:11.505245\n"
     ]
    },
    {
     "name": "stderr",
     "output_type": "stream",
     "text": [
      "\r",
      " 99%|█████████████████████████████████████████████████████████████████████████████▎| 357/360 [1:02:41<00:39, 13.12s/it]"
     ]
    },
    {
     "name": "stdout",
     "output_type": "stream",
     "text": [
      "{'activation': 'relu', 'batch_size': 64, 'dropout': 0.5, 'epochs': 1, 'first_neuron': 4096, 'hidden_layers': 4, 'label_type': 'Angular', 'loss_function': 'mean_squared_error', 'lr': 1, 'monitor_value': 'val_custom_mae', 'optimizer': <class 'tensorflow.python.keras.optimizer_v2.adam.Adam'>, 'reduction_metric': 'custom_mae', 'samples': 20000}\n",
      "Using Loss: mean_squared_error \n",
      "and Reduction Metric: [<function custom_mae at 0x0000026E06BB99D8>]\n",
      "Monitor: val_custom_mae\n",
      "Train on 16000 samples, validate on 3968 samples\n",
      "15936/16000 [============================>.] - ETA: 0s - loss: 5821.4543 - custom_mae: 55.1758\n",
      "Epoch 00001: val_custom_mae improved from inf to 42.93287, saving model to ..\\fast_output\\SYNTH_Regression_MSE\\201019_2253_final_Angular_Base_Custom-MAE\\Best_Weights_FC_357.hdf5\n",
      "16000/16000 [==============================] - 10s 630us/sample - loss: 5816.0978 - custom_mae: 55.1504 - val_loss: 3512.4689 - val_custom_mae: 42.9329\n",
      "Time taken: 0:00:11.580995\n"
     ]
    },
    {
     "name": "stderr",
     "output_type": "stream",
     "text": [
      "\r",
      " 99%|█████████████████████████████████████████████████████████████████████████████▌| 358/360 [1:02:54<00:26, 13.20s/it]"
     ]
    },
    {
     "name": "stdout",
     "output_type": "stream",
     "text": [
      "{'activation': 'relu', 'batch_size': 64, 'dropout': 0.5, 'epochs': 1, 'first_neuron': 4096, 'hidden_layers': 4, 'label_type': 'Angular', 'loss_function': 'mean_squared_error', 'lr': 2, 'monitor_value': 'val_custom_mae', 'optimizer': <class 'tensorflow.python.keras.optimizer_v2.adam.Adam'>, 'reduction_metric': 'custom_mae', 'samples': 20000}\n",
      "Using Loss: mean_squared_error \n",
      "and Reduction Metric: [<function custom_mae at 0x0000026E06BB99D8>]\n",
      "Monitor: val_custom_mae\n",
      "Train on 16000 samples, validate on 3968 samples\n",
      "15872/16000 [============================>.] - ETA: 0s - loss: 7309.6869 - custom_mae: 60.5208\n",
      "Epoch 00001: val_custom_mae improved from inf to 48.79048, saving model to ..\\fast_output\\SYNTH_Regression_MSE\\201019_2253_final_Angular_Base_Custom-MAE\\Best_Weights_FC_358.hdf5\n",
      "16000/16000 [==============================] - 10s 627us/sample - loss: 7289.3194 - custom_mae: 60.4250 - val_loss: 4450.5341 - val_custom_mae: 48.7905\n",
      "Time taken: 0:00:11.532891\n"
     ]
    },
    {
     "name": "stderr",
     "output_type": "stream",
     "text": [
      "\r",
      "100%|█████████████████████████████████████████████████████████████████████████████▊| 359/360 [1:03:08<00:13, 13.24s/it]"
     ]
    },
    {
     "name": "stdout",
     "output_type": "stream",
     "text": [
      "{'activation': 'relu', 'batch_size': 64, 'dropout': 0.5, 'epochs': 1, 'first_neuron': 4096, 'hidden_layers': 4, 'label_type': 'Angular', 'loss_function': 'mean_squared_error', 'lr': 5, 'monitor_value': 'val_custom_mae', 'optimizer': <class 'tensorflow.python.keras.optimizer_v2.adam.Adam'>, 'reduction_metric': 'custom_mae', 'samples': 20000}\n",
      "Using Loss: mean_squared_error \n",
      "and Reduction Metric: [<function custom_mae at 0x0000026E06BB99D8>]\n",
      "Monitor: val_custom_mae\n",
      "Train on 16000 samples, validate on 3968 samples\n",
      "15744/16000 [============================>.] - ETA: 0s - loss: 25494.6566 - custom_mae: 71.1773\n",
      "Epoch 00001: val_custom_mae improved from inf to 55.76647, saving model to ..\\fast_output\\SYNTH_Regression_MSE\\201019_2253_final_Angular_Base_Custom-MAE\\Best_Weights_FC_359.hdf5\n",
      "16000/16000 [==============================] - 10s 627us/sample - loss: 25186.4180 - custom_mae: 70.9339 - val_loss: 5896.9117 - val_custom_mae: 55.7665\n",
      "Time taken: 0:00:11.532712\n"
     ]
    },
    {
     "name": "stderr",
     "output_type": "stream",
     "text": [
      "100%|██████████████████████████████████████████████████████████████████████████████| 360/360 [1:03:21<00:00, 10.56s/it]\n"
     ]
    }
   ],
   "source": [
    "import numpy as np\n",
    "dummy_x = np.empty((1, 2, 3, 224, 224))\n",
    "dummy_y = np.empty((1, 2))\n",
    "\n",
    "with tf.device('/device:GPU:1'):\n",
    "    \n",
    "        t = ta.Scan(\n",
    "            x = dummy_x,\n",
    "            y = dummy_y,\n",
    "            model = grid_model_base,\n",
    "            params = hyper_parameter,\n",
    "            experiment_name = '{}'.format(_DATASET_NAME),\n",
    "            #shuffle=False,\n",
    "            reduction_metric = hyper_parameter['reduction_metric'][0],\n",
    "            disable_progress_bar = False,\n",
    "            print_params = True,\n",
    "            clear_session = True,\n",
    "            save_weights = False\n",
    "        )\n",
    "        \n",
    "\n",
    "t.data.to_csv(_LOG_DIR + _RESULTS_FILE, index = True)"
   ]
  },
  {
   "cell_type": "markdown",
   "metadata": {},
   "source": [
    "# Copy best 10 Results to NAS if SSD Directory was selected"
   ]
  },
  {
   "cell_type": "code",
   "execution_count": 17,
   "metadata": {},
   "outputs": [
    {
     "name": "stdout",
     "output_type": "stream",
     "text": [
      "Displaying: ..\\fast_output\\SYNTH_Regression_MSE\\201019_2253_final_Angular_Base_Custom-MAE\\..\\201019_2253_final_Angular_Base_Custom-MAE_Results.csv\n"
     ]
    },
    {
     "data": {
      "text/html": [
       "<div>\n",
       "<style scoped>\n",
       "    .dataframe tbody tr th:only-of-type {\n",
       "        vertical-align: middle;\n",
       "    }\n",
       "\n",
       "    .dataframe tbody tr th {\n",
       "        vertical-align: top;\n",
       "    }\n",
       "\n",
       "    .dataframe thead th {\n",
       "        text-align: right;\n",
       "    }\n",
       "</style>\n",
       "<table border=\"1\" class=\"dataframe\">\n",
       "  <thead>\n",
       "    <tr style=\"text-align: right;\">\n",
       "      <th></th>\n",
       "      <th>Unnamed: 0</th>\n",
       "      <th>start</th>\n",
       "      <th>end</th>\n",
       "      <th>duration</th>\n",
       "      <th>loss</th>\n",
       "      <th>custom_mae</th>\n",
       "      <th>val_loss</th>\n",
       "      <th>val_custom_mae</th>\n",
       "      <th>activation</th>\n",
       "      <th>batch_size</th>\n",
       "      <th>dropout</th>\n",
       "      <th>first_neuron</th>\n",
       "      <th>hidden_layers</th>\n",
       "      <th>label_type</th>\n",
       "      <th>loss_function</th>\n",
       "      <th>lr</th>\n",
       "      <th>monitor_value</th>\n",
       "      <th>optimizer</th>\n",
       "      <th>reduction_metric</th>\n",
       "    </tr>\n",
       "  </thead>\n",
       "  <tbody>\n",
       "    <tr>\n",
       "      <th>32</th>\n",
       "      <td>32</td>\n",
       "      <td>10/23/20-082640</td>\n",
       "      <td>10/23/20-082655</td>\n",
       "      <td>14.800964</td>\n",
       "      <td>4383.826411</td>\n",
       "      <td>40.741211</td>\n",
       "      <td>2547.475186</td>\n",
       "      <td>28.446991</td>\n",
       "      <td>leakyrelu</td>\n",
       "      <td>32</td>\n",
       "      <td>0.25</td>\n",
       "      <td>4096</td>\n",
       "      <td>0</td>\n",
       "      <td>Angular</td>\n",
       "      <td>mean_squared_error</td>\n",
       "      <td>5</td>\n",
       "      <td>val_custom_mae</td>\n",
       "      <td>&lt;class 'tensorflow.python.keras.optimizer_v2.a...</td>\n",
       "      <td>custom_mae</td>\n",
       "    </tr>\n",
       "    <tr>\n",
       "      <th>123</th>\n",
       "      <td>123</td>\n",
       "      <td>10/23/20-084326</td>\n",
       "      <td>10/23/20-084338</td>\n",
       "      <td>12.577973</td>\n",
       "      <td>4370.115256</td>\n",
       "      <td>41.885189</td>\n",
       "      <td>2500.798911</td>\n",
       "      <td>28.509195</td>\n",
       "      <td>leakyrelu</td>\n",
       "      <td>64</td>\n",
       "      <td>0.25</td>\n",
       "      <td>4096</td>\n",
       "      <td>1</td>\n",
       "      <td>Angular</td>\n",
       "      <td>mean_squared_error</td>\n",
       "      <td>1</td>\n",
       "      <td>val_custom_mae</td>\n",
       "      <td>&lt;class 'tensorflow.python.keras.optimizer_v2.a...</td>\n",
       "      <td>custom_mae</td>\n",
       "    </tr>\n",
       "    <tr>\n",
       "      <th>17</th>\n",
       "      <td>17</td>\n",
       "      <td>10/23/20-082353</td>\n",
       "      <td>10/23/20-082403</td>\n",
       "      <td>9.679433</td>\n",
       "      <td>4001.966997</td>\n",
       "      <td>39.212330</td>\n",
       "      <td>2567.742597</td>\n",
       "      <td>28.672417</td>\n",
       "      <td>leakyrelu</td>\n",
       "      <td>32</td>\n",
       "      <td>0.25</td>\n",
       "      <td>2048</td>\n",
       "      <td>0</td>\n",
       "      <td>Angular</td>\n",
       "      <td>mean_squared_error</td>\n",
       "      <td>5</td>\n",
       "      <td>val_custom_mae</td>\n",
       "      <td>&lt;class 'tensorflow.python.keras.optimizer_v2.a...</td>\n",
       "      <td>custom_mae</td>\n",
       "    </tr>\n",
       "    <tr>\n",
       "      <th>37</th>\n",
       "      <td>37</td>\n",
       "      <td>10/23/20-082759</td>\n",
       "      <td>10/23/20-082815</td>\n",
       "      <td>15.972525</td>\n",
       "      <td>5342.255862</td>\n",
       "      <td>44.598431</td>\n",
       "      <td>2508.385596</td>\n",
       "      <td>29.009453</td>\n",
       "      <td>leakyrelu</td>\n",
       "      <td>32</td>\n",
       "      <td>0.25</td>\n",
       "      <td>4096</td>\n",
       "      <td>2</td>\n",
       "      <td>Angular</td>\n",
       "      <td>mean_squared_error</td>\n",
       "      <td>2</td>\n",
       "      <td>val_custom_mae</td>\n",
       "      <td>&lt;class 'tensorflow.python.keras.optimizer_v2.a...</td>\n",
       "      <td>custom_mae</td>\n",
       "    </tr>\n",
       "    <tr>\n",
       "      <th>126</th>\n",
       "      <td>126</td>\n",
       "      <td>10/23/20-084404</td>\n",
       "      <td>10/23/20-084417</td>\n",
       "      <td>12.801628</td>\n",
       "      <td>4892.983992</td>\n",
       "      <td>44.019562</td>\n",
       "      <td>2545.006088</td>\n",
       "      <td>29.102833</td>\n",
       "      <td>leakyrelu</td>\n",
       "      <td>64</td>\n",
       "      <td>0.25</td>\n",
       "      <td>4096</td>\n",
       "      <td>2</td>\n",
       "      <td>Angular</td>\n",
       "      <td>mean_squared_error</td>\n",
       "      <td>1</td>\n",
       "      <td>val_custom_mae</td>\n",
       "      <td>&lt;class 'tensorflow.python.keras.optimizer_v2.a...</td>\n",
       "      <td>custom_mae</td>\n",
       "    </tr>\n",
       "    <tr>\n",
       "      <th>109</th>\n",
       "      <td>109</td>\n",
       "      <td>10/23/20-084111</td>\n",
       "      <td>10/23/20-084119</td>\n",
       "      <td>8.336932</td>\n",
       "      <td>4502.218599</td>\n",
       "      <td>42.888409</td>\n",
       "      <td>2549.238352</td>\n",
       "      <td>29.138409</td>\n",
       "      <td>leakyrelu</td>\n",
       "      <td>64</td>\n",
       "      <td>0.25</td>\n",
       "      <td>2048</td>\n",
       "      <td>1</td>\n",
       "      <td>Angular</td>\n",
       "      <td>mean_squared_error</td>\n",
       "      <td>2</td>\n",
       "      <td>val_custom_mae</td>\n",
       "      <td>&lt;class 'tensorflow.python.keras.optimizer_v2.a...</td>\n",
       "      <td>custom_mae</td>\n",
       "    </tr>\n",
       "    <tr>\n",
       "      <th>108</th>\n",
       "      <td>108</td>\n",
       "      <td>10/23/20-084102</td>\n",
       "      <td>10/23/20-084111</td>\n",
       "      <td>8.377502</td>\n",
       "      <td>3879.894495</td>\n",
       "      <td>40.134132</td>\n",
       "      <td>2554.826030</td>\n",
       "      <td>29.191002</td>\n",
       "      <td>leakyrelu</td>\n",
       "      <td>64</td>\n",
       "      <td>0.25</td>\n",
       "      <td>2048</td>\n",
       "      <td>1</td>\n",
       "      <td>Angular</td>\n",
       "      <td>mean_squared_error</td>\n",
       "      <td>1</td>\n",
       "      <td>val_custom_mae</td>\n",
       "      <td>&lt;class 'tensorflow.python.keras.optimizer_v2.a...</td>\n",
       "      <td>custom_mae</td>\n",
       "    </tr>\n",
       "    <tr>\n",
       "      <th>289</th>\n",
       "      <td>289</td>\n",
       "      <td>10/23/20-091250</td>\n",
       "      <td>10/23/20-091258</td>\n",
       "      <td>8.334905</td>\n",
       "      <td>3837.931905</td>\n",
       "      <td>40.131355</td>\n",
       "      <td>2604.273217</td>\n",
       "      <td>29.241274</td>\n",
       "      <td>relu</td>\n",
       "      <td>64</td>\n",
       "      <td>0.25</td>\n",
       "      <td>2048</td>\n",
       "      <td>1</td>\n",
       "      <td>Angular</td>\n",
       "      <td>mean_squared_error</td>\n",
       "      <td>2</td>\n",
       "      <td>val_custom_mae</td>\n",
       "      <td>&lt;class 'tensorflow.python.keras.optimizer_v2.a...</td>\n",
       "      <td>custom_mae</td>\n",
       "    </tr>\n",
       "    <tr>\n",
       "      <th>36</th>\n",
       "      <td>36</td>\n",
       "      <td>10/23/20-082743</td>\n",
       "      <td>10/23/20-082759</td>\n",
       "      <td>15.921243</td>\n",
       "      <td>4115.395587</td>\n",
       "      <td>41.639866</td>\n",
       "      <td>2575.603947</td>\n",
       "      <td>29.298376</td>\n",
       "      <td>leakyrelu</td>\n",
       "      <td>32</td>\n",
       "      <td>0.25</td>\n",
       "      <td>4096</td>\n",
       "      <td>2</td>\n",
       "      <td>Angular</td>\n",
       "      <td>mean_squared_error</td>\n",
       "      <td>1</td>\n",
       "      <td>val_custom_mae</td>\n",
       "      <td>&lt;class 'tensorflow.python.keras.optimizer_v2.a...</td>\n",
       "      <td>custom_mae</td>\n",
       "    </tr>\n",
       "    <tr>\n",
       "      <th>18</th>\n",
       "      <td>18</td>\n",
       "      <td>10/23/20-082403</td>\n",
       "      <td>10/23/20-082413</td>\n",
       "      <td>10.022634</td>\n",
       "      <td>3871.796719</td>\n",
       "      <td>39.797153</td>\n",
       "      <td>2617.595140</td>\n",
       "      <td>29.322357</td>\n",
       "      <td>leakyrelu</td>\n",
       "      <td>32</td>\n",
       "      <td>0.25</td>\n",
       "      <td>2048</td>\n",
       "      <td>1</td>\n",
       "      <td>Angular</td>\n",
       "      <td>mean_squared_error</td>\n",
       "      <td>1</td>\n",
       "      <td>val_custom_mae</td>\n",
       "      <td>&lt;class 'tensorflow.python.keras.optimizer_v2.a...</td>\n",
       "      <td>custom_mae</td>\n",
       "    </tr>\n",
       "  </tbody>\n",
       "</table>\n",
       "</div>"
      ],
      "text/plain": [
       "     Unnamed: 0            start              end   duration         loss  \\\n",
       "32           32  10/23/20-082640  10/23/20-082655  14.800964  4383.826411   \n",
       "123         123  10/23/20-084326  10/23/20-084338  12.577973  4370.115256   \n",
       "17           17  10/23/20-082353  10/23/20-082403   9.679433  4001.966997   \n",
       "37           37  10/23/20-082759  10/23/20-082815  15.972525  5342.255862   \n",
       "126         126  10/23/20-084404  10/23/20-084417  12.801628  4892.983992   \n",
       "109         109  10/23/20-084111  10/23/20-084119   8.336932  4502.218599   \n",
       "108         108  10/23/20-084102  10/23/20-084111   8.377502  3879.894495   \n",
       "289         289  10/23/20-091250  10/23/20-091258   8.334905  3837.931905   \n",
       "36           36  10/23/20-082743  10/23/20-082759  15.921243  4115.395587   \n",
       "18           18  10/23/20-082403  10/23/20-082413  10.022634  3871.796719   \n",
       "\n",
       "     custom_mae     val_loss  val_custom_mae activation  batch_size  dropout  \\\n",
       "32    40.741211  2547.475186       28.446991  leakyrelu          32     0.25   \n",
       "123   41.885189  2500.798911       28.509195  leakyrelu          64     0.25   \n",
       "17    39.212330  2567.742597       28.672417  leakyrelu          32     0.25   \n",
       "37    44.598431  2508.385596       29.009453  leakyrelu          32     0.25   \n",
       "126   44.019562  2545.006088       29.102833  leakyrelu          64     0.25   \n",
       "109   42.888409  2549.238352       29.138409  leakyrelu          64     0.25   \n",
       "108   40.134132  2554.826030       29.191002  leakyrelu          64     0.25   \n",
       "289   40.131355  2604.273217       29.241274       relu          64     0.25   \n",
       "36    41.639866  2575.603947       29.298376  leakyrelu          32     0.25   \n",
       "18    39.797153  2617.595140       29.322357  leakyrelu          32     0.25   \n",
       "\n",
       "     first_neuron  hidden_layers label_type       loss_function  lr  \\\n",
       "32           4096              0    Angular  mean_squared_error   5   \n",
       "123          4096              1    Angular  mean_squared_error   1   \n",
       "17           2048              0    Angular  mean_squared_error   5   \n",
       "37           4096              2    Angular  mean_squared_error   2   \n",
       "126          4096              2    Angular  mean_squared_error   1   \n",
       "109          2048              1    Angular  mean_squared_error   2   \n",
       "108          2048              1    Angular  mean_squared_error   1   \n",
       "289          2048              1    Angular  mean_squared_error   2   \n",
       "36           4096              2    Angular  mean_squared_error   1   \n",
       "18           2048              1    Angular  mean_squared_error   1   \n",
       "\n",
       "      monitor_value                                          optimizer  \\\n",
       "32   val_custom_mae  <class 'tensorflow.python.keras.optimizer_v2.a...   \n",
       "123  val_custom_mae  <class 'tensorflow.python.keras.optimizer_v2.a...   \n",
       "17   val_custom_mae  <class 'tensorflow.python.keras.optimizer_v2.a...   \n",
       "37   val_custom_mae  <class 'tensorflow.python.keras.optimizer_v2.a...   \n",
       "126  val_custom_mae  <class 'tensorflow.python.keras.optimizer_v2.a...   \n",
       "109  val_custom_mae  <class 'tensorflow.python.keras.optimizer_v2.a...   \n",
       "108  val_custom_mae  <class 'tensorflow.python.keras.optimizer_v2.a...   \n",
       "289  val_custom_mae  <class 'tensorflow.python.keras.optimizer_v2.a...   \n",
       "36   val_custom_mae  <class 'tensorflow.python.keras.optimizer_v2.a...   \n",
       "18   val_custom_mae  <class 'tensorflow.python.keras.optimizer_v2.a...   \n",
       "\n",
       "    reduction_metric  \n",
       "32        custom_mae  \n",
       "123       custom_mae  \n",
       "17        custom_mae  \n",
       "37        custom_mae  \n",
       "126       custom_mae  \n",
       "109       custom_mae  \n",
       "108       custom_mae  \n",
       "289       custom_mae  \n",
       "36        custom_mae  \n",
       "18        custom_mae  "
      ]
     },
     "execution_count": 17,
     "metadata": {},
     "output_type": "execute_result"
    }
   ],
   "source": [
    "best_results = _LOG_DIR + '..\\\\{}_{}_Base{}_Results.csv'.format(_DATASET_NAME, hyper_parameter['label_type'][0], _note)\n",
    "df = pd.read_csv(best_results).drop(columns = ['round_epochs', 'samples', 'epochs'], axis = 0)\n",
    "df = df.sort_values(hyper_parameter['monitor_value'][0], axis = 0, ascending = True, inplace = False, kind = 'quicksort', na_position = 'last')\n",
    "print('Displaying: {}'.format(best_results))\n",
    "df.head(10)"
   ]
  },
  {
   "cell_type": "code",
   "execution_count": 18,
   "metadata": {},
   "outputs": [],
   "source": [
    "def copy_base_directory(src, dst, data, symlinks = False, ignore = None):\n",
    "    maxLen = 0\n",
    "    message = ''\n",
    "    \n",
    "    networks_to_copy = data.head(10).index\n",
    "    \n",
    "    if not os.path.exists(dst):\n",
    "        \n",
    "        message = 'Creating Path: {}'.format(src)\n",
    "        maxLen = max(maxLen, len(message))\n",
    "        print(message + ' ' * (maxLen - len(message)), end = '\\r')\n",
    "        \n",
    "        os.makedirs(dst)\n",
    "        \n",
    "    for item in os.listdir(src):\n",
    "        \n",
    "        s = os.path.join(src, item)\n",
    "        d = os.path.join(dst, item)\n",
    "        \n",
    "        if os.path.isdir(s):\n",
    "            \n",
    "            message = 'Copying Directory: {}'.format(s)\n",
    "            maxLen = max(maxLen, len(message))\n",
    "            print(message + ' ' * (maxLen - len(message)), end = '\\r')\n",
    "            \n",
    "            shutil.copytree(s, d, symlinks, ignore)\n",
    "            \n",
    "        else:\n",
    "            \n",
    "            if not os.path.exists(d): #or os.stat(s).st_mtime - os.stat(d).st_mtime > 1:\n",
    "                for idx in networks_to_copy:\n",
    "                    net = '_FC_{}.hdf5'.format(idx)\n",
    "                    if net in item or '_Bottleneck_' in item or '_GPU' in item:\n",
    "                        message = 'Copying File: {}'.format(s)\n",
    "                        maxLen = max(maxLen, len(message))\n",
    "                        print(message + ' ' * (maxLen - len(message)), end = '\\r')\n",
    "                \n",
    "                        shutil.copy2(s, d)\n",
    "        \n",
    "        time.sleep(.1)    \n",
    "    \n",
    "    src_csv = src + _RESULTS_FILE\n",
    "    dst_csv = dst + _RESULTS_FILE\n",
    "    if not os.path.exists(dst_csv):\n",
    "        message = 'Copying File: {}'.format(src_csv)\n",
    "        maxLen = max(maxLen, len(message))\n",
    "        print(message + ' ' * (maxLen - len(message)), end = '\\r')\n",
    "        shutil.copy2(src_csv, dst_csv)\n",
    "     \n",
    "    message = 'Coyping... Done'\n",
    "    maxLen = max(maxLen, len(message))\n",
    "    print(message + ' ' * (maxLen - len(message)), end = '\\n')\n",
    "\n",
    "    \n",
    "def delete_directory(src, terminator = '\\n'):\n",
    "    message = ''\n",
    "    maxLen = 0\n",
    "    \n",
    "    try:\n",
    "        message = 'Deleting {}'.format(src)\n",
    "        maxLen = max(maxLen, len(message))\n",
    "        print(message + ' ' * (maxLen - len(message)), end = '\\r')\n",
    "        \n",
    "        if os.path.isdir(src):\n",
    "            shutil.rmtree(src)\n",
    "            \n",
    "        elif os.path.isfile(src):\n",
    "            os.remove(src)\n",
    "        \n",
    "    except OSError as e:\n",
    "        message = 'Error: {} : {}'.format(src, e.strerror)\n",
    "        maxLen = max(maxLen, len(message))\n",
    "        print(message + ' ' * (maxLen - len(message)), end = '\\n')\n",
    "        return\n",
    "    \n",
    "    message = 'Deleting... Done'\n",
    "    maxLen = max(maxLen, len(message))\n",
    "    print(message + ' ' * (maxLen - len(message)), end = terminator)\n",
    "\n",
    "    \n",
    "def copy_base_training(src, dst):\n",
    "    copy_base_directory(src, dst, df)\n",
    "    \n",
    "    delete_directory(src, terminator = '\\r')\n",
    "    delete_directory(src + _RESULTS_FILE, terminator = '\\r')\n",
    "    if not os.listdir(src + '..\\\\'):\n",
    "        delete_directory(src + '..\\\\', terminator = '\\r')"
   ]
  },
  {
   "cell_type": "code",
   "execution_count": 19,
   "metadata": {
    "scrolled": true
   },
   "outputs": [
    {
     "name": "stdout",
     "output_type": "stream",
     "text": [
      "Coyping... Done                                                                                                     \n",
      "Deleting... Done                                                                                                                                \r"
     ]
    }
   ],
   "source": [
    "if(storage == OutputDirectory.SSD):\n",
    "    _COPY_DIR = '..\\\\output\\\\{}'.format(_NET_DIR)\n",
    "    copy_base_training(_LOG_DIR, _COPY_DIR)"
   ]
  },
  {
   "cell_type": "code",
   "execution_count": null,
   "metadata": {},
   "outputs": [],
   "source": []
  },
  {
   "cell_type": "code",
   "execution_count": null,
   "metadata": {},
   "outputs": [],
   "source": []
  }
 ],
 "metadata": {
  "kernelspec": {
   "display_name": "Python [conda env:tf_ks]",
   "language": "python",
   "name": "conda-env-tf_ks-py"
  },
  "language_info": {
   "codemirror_mode": {
    "name": "ipython",
    "version": 3
   },
   "file_extension": ".py",
   "mimetype": "text/x-python",
   "name": "python",
   "nbconvert_exporter": "python",
   "pygments_lexer": "ipython3",
   "version": "3.7.7"
  }
 },
 "nbformat": 4,
 "nbformat_minor": 2
}
