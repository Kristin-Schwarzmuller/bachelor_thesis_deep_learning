{
 "cells": [
  {
   "cell_type": "markdown",
   "metadata": {},
   "source": [
    "# Evaluation <a name = \"Top\"></a>"
   ]
  },
  {
   "cell_type": "markdown",
   "metadata": {},
   "source": [
    "# Quick Links\n",
    "\n",
    "<ol>\n",
    "    <li><a href = #setup>Setup</a></li>\n",
    "    <li><a href = #plots>Plots</a></li>\n",
    "</ol>"
   ]
  },
  {
   "cell_type": "markdown",
   "metadata": {},
   "source": [
    "## Imports"
   ]
  },
  {
   "cell_type": "code",
   "execution_count": 1,
   "metadata": {},
   "outputs": [],
   "source": [
    "import os\n",
    "import shutil"
   ]
  },
  {
   "cell_type": "code",
   "execution_count": 2,
   "metadata": {},
   "outputs": [],
   "source": [
    "from datetime import datetime, timedelta\n",
    "import time\n",
    "import pandas as pd\n",
    "import numpy as np\n",
    "import shutil\n",
    "\n",
    "from enum import Enum\n",
    "\n",
    "from numpy import array\n",
    "\n",
    "import ntpath\n",
    "\n",
    "import copy\n",
    "import re"
   ]
  },
  {
   "cell_type": "markdown",
   "metadata": {},
   "source": [
    "## Hilfsfunktionen"
   ]
  },
  {
   "cell_type": "markdown",
   "metadata": {},
   "source": [
    "### Enum für Trainingsset"
   ]
  },
  {
   "cell_type": "code",
   "execution_count": 3,
   "metadata": {},
   "outputs": [],
   "source": [
    "class TrainingSet(Enum):\n",
    "    SYNTHETIC = 1\n",
    "    REAL = 2\n",
    "    MIXED = 3"
   ]
  },
  {
   "cell_type": "markdown",
   "metadata": {},
   "source": [
    "### Enum für Label-Typ"
   ]
  },
  {
   "cell_type": "code",
   "execution_count": 4,
   "metadata": {},
   "outputs": [],
   "source": [
    "class LabelType(Enum):\n",
    "    ANGULAR = 1\n",
    "    STEREOGRAPHIC = 2"
   ]
  },
  {
   "cell_type": "markdown",
   "metadata": {},
   "source": [
    "### Trainingsset-Typ nach String Converter"
   ]
  },
  {
   "cell_type": "code",
   "execution_count": 5,
   "metadata": {},
   "outputs": [],
   "source": [
    "def trainingset_to_string(ts):\n",
    "    if ts == TrainingSet.SYNTHETIC:\n",
    "        return 'Synth'\n",
    "    elif ts == TrainingSet.REAL:\n",
    "        return 'Real'\n",
    "    elif ts == TrainingSet.MIXED:\n",
    "        return 'Mixed'\n",
    "    else:\n",
    "        print('Unknown TrainingSet')\n",
    "        return None"
   ]
  },
  {
   "cell_type": "markdown",
   "metadata": {},
   "source": [
    "### LabelType nach String"
   ]
  },
  {
   "cell_type": "code",
   "execution_count": 6,
   "metadata": {},
   "outputs": [],
   "source": [
    "def labeltype_to_string(lt):\n",
    "    if lt == LabelType.ANGULAR:\n",
    "        return 'Angular'\n",
    "    if lt == LabelType.STEREOGRAPHIC:\n",
    "        return 'Stereographic'\n",
    "    else:\n",
    "        print('Unknown LabelType')\n",
    "        return None"
   ]
  },
  {
   "cell_type": "markdown",
   "metadata": {},
   "source": [
    "#### Required format of parameters parameter for _model_predict_ (...)"
   ]
  },
  {
   "cell_type": "code",
   "execution_count": 43,
   "metadata": {},
   "outputs": [],
   "source": [
    "p = {\n",
    "    'dataset_to_use':[],\n",
    "    'model_to_load':[],\n",
    "    'dataset_name':'dataset',\n",
    "    'activation_function':[],\n",
    "    'leaky_ReLU_alpha':[],\n",
    "    'first_neuron':[],\n",
    "    'dropout_rate':[],\n",
    "    'hidden_layers':[],\n",
    "    'optimizer':[],\n",
    "    'learning_rate':[],\n",
    "    'loss_function':[],\n",
    "    'label_type':[]\n",
    "}"
   ]
  },
  {
   "cell_type": "markdown",
   "metadata": {},
   "source": [
    "## Hilfsfunktionen"
   ]
  },
  {
   "cell_type": "markdown",
   "metadata": {},
   "source": [
    "### Konvertierung ($S_x$, $S_y$) $\\rightarrow$ ($\\phi$, $\\theta$)"
   ]
  },
  {
   "cell_type": "code",
   "execution_count": 44,
   "metadata": {},
   "outputs": [],
   "source": [
    "def convert_from_stereographic(sx, sy, r = 1):\n",
    "    \n",
    "    l = np.sqrt(sx * sx + sy * sy)\n",
    "    theta = 90 - 2 * np.degrees(np.arctan(l / 2))\n",
    "    \n",
    "    if sx < 0:\n",
    "        phi = 180 - np.degrees(np.arcsin(sy / l))\n",
    "        \n",
    "    elif sx >= 0:\n",
    "        if sy > 0:\n",
    "            phi = np.degrees(np.arcsin(sy / l))\n",
    "        elif sy < 0:\n",
    "            phi = 360 + np.degrees(np.arcsin(sy / l))\n",
    "        else:\n",
    "            #phi1 = np.NaN\n",
    "            phi = 0\n",
    "    else:\n",
    "        print('sx and sy undefined. should not have reached here')\n",
    "\n",
    "    return phi, theta"
   ]
  },
  {
   "cell_type": "markdown",
   "metadata": {},
   "source": [
    "### Konvertierung ($\\phi$, $\\theta$) $\\rightarrow$ ($S_x$, $S_y$)"
   ]
  },
  {
   "cell_type": "code",
   "execution_count": 45,
   "metadata": {},
   "outputs": [],
   "source": [
    "def convert_from_spheric(phi, theta, r = 1):\n",
    "    m = 2 * r * np.tan(np.radians((90 - theta) / 2))\n",
    "    sy = m * np.sin(np.radians(phi))\n",
    "    sx = m * np.cos(np.radians(phi))\n",
    "    return sx, sy"
   ]
  },
  {
   "cell_type": "markdown",
   "metadata": {},
   "source": [
    "### Radians $\\rightarrow$ Degree"
   ]
  },
  {
   "cell_type": "code",
   "execution_count": 46,
   "metadata": {},
   "outputs": [],
   "source": [
    "def to_degree(angle_in_rad):\n",
    "    return angle_in_rad * 180 / np.pi"
   ]
  },
  {
   "cell_type": "markdown",
   "metadata": {},
   "source": [
    "### Degree $\\rightarrow$ Radians"
   ]
  },
  {
   "cell_type": "code",
   "execution_count": 47,
   "metadata": {},
   "outputs": [],
   "source": [
    "def to_radians(angle_in_deg):\n",
    "    return angle_in_deg * np.pi / 180"
   ]
  },
  {
   "cell_type": "markdown",
   "metadata": {},
   "source": [
    "### Sphärische $\\rightarrow$ Karthesische Koordinaten"
   ]
  },
  {
   "cell_type": "code",
   "execution_count": 48,
   "metadata": {},
   "outputs": [],
   "source": [
    "def spheric_cartesian_polar(phi_d, theta_d):\n",
    "    x = np.sin(np.radians(90.0 - theta_d)) * np.cos(np.radians(phi_d))\n",
    "    y = np.sin(np.radians(90.0 - theta_d)) * np.sin(np.radians(phi_d))\n",
    "    z = np.cos(np.radians(90.0 - theta_d))\n",
    "    return array([x, y, z])"
   ]
  },
  {
   "cell_type": "code",
   "execution_count": 49,
   "metadata": {},
   "outputs": [],
   "source": [
    "def spheric_cartesian_elevation(phi_d, theta_d):\n",
    "    x = np.cos(np.radians(theta_d)) * np.cos(np.radians(phi_d))\n",
    "    y = np.cos(np.radians(theta_d)) * np.sin(np.radians(phi_d))\n",
    "    z = np.sin(np.radians(theta_d))\n",
    "    return array([x, y, z])"
   ]
  },
  {
   "cell_type": "markdown",
   "metadata": {},
   "source": [
    "### Length of Vector"
   ]
  },
  {
   "cell_type": "code",
   "execution_count": 50,
   "metadata": {},
   "outputs": [],
   "source": [
    "def vectorlength(vector):\n",
    "    return np.linalg.norm(vector)"
   ]
  },
  {
   "cell_type": "markdown",
   "metadata": {},
   "source": [
    "### Calculated Angular Error"
   ]
  },
  {
   "cell_type": "code",
   "execution_count": 51,
   "metadata": {},
   "outputs": [],
   "source": [
    "def calculate_angular_error(deg_e_phi, deg_e_theta):\n",
    "    return np.degrees(np.arccos(np.cos(np.radians(deg_e_phi)) * np.cos(np.radians(deg_e_theta))))"
   ]
  },
  {
   "cell_type": "markdown",
   "metadata": {},
   "source": [
    "### Skalarprodukt"
   ]
  },
  {
   "cell_type": "code",
   "execution_count": 52,
   "metadata": {},
   "outputs": [],
   "source": [
    "def myDot(a, b):\n",
    "    dot = 0;\n",
    "    it = np.nditer(a, flags=['f_index'])\n",
    "    for x in it:\n",
    "        dot = dot + (x * b[it.index])\n",
    "        \n",
    "    return dot"
   ]
  },
  {
   "cell_type": "markdown",
   "metadata": {},
   "source": [
    "### Dot Angular Error"
   ]
  },
  {
   "cell_type": "code",
   "execution_count": 53,
   "metadata": {},
   "outputs": [],
   "source": [
    "def dot_angular_error_elevation(predicted_deg_vector, true_deg_vector):    \n",
    "    c_predicted = spheric_cartesian_elevation(predicted_deg_vector[0], predicted_deg_vector[1])\n",
    "    c_true = spheric_cartesian_elevation(true_deg_vector[0], true_deg_vector[1])\n",
    "    \n",
    "    len_prediction = vectorlength(c_predicted)\n",
    "    len_true = vectorlength(c_true)\n",
    "    \n",
    "    cos_angle = np.dot(c_true, c_predicted) / len_prediction / len_true\n",
    "    \n",
    "    return abs(np.degrees(np.arccos(cos_angle)))\n",
    "\n",
    "def dot_angular_error_polar(predicted_deg_vector, true_deg_vector):\n",
    "    c_predicted = spheric_cartesian_polar(predicted_deg_vector[0], predicted_deg_vector[1])\n",
    "    c_true = spheric_cartesian_polar(true_deg_vector[0], true_deg_vector[1])\n",
    "    \n",
    "    len_prediction = vectorlength(c_predicted)\n",
    "    len_true = vectorlength(c_true)\n",
    "    \n",
    "    cos_angle = np.dot(c_true, c_predicted) / len_prediction / len_true\n",
    "    \n",
    "    return abs(np.degrees(np.arccos(cos_angle)))"
   ]
  },
  {
   "cell_type": "markdown",
   "metadata": {},
   "source": [
    "## Normierte sphärische Koordinaten"
   ]
  },
  {
   "cell_type": "markdown",
   "metadata": {},
   "source": [
    "### Normierte $\\rightarrow$ Sphärische"
   ]
  },
  {
   "cell_type": "code",
   "execution_count": 54,
   "metadata": {},
   "outputs": [],
   "source": [
    "def normalized_to_spheric(n_phi, n_theta):\n",
    "    phi = n_phi * 180 + 180\n",
    "    theta = n_theta * 45 + 45\n",
    "    \n",
    "    return phi, theta"
   ]
  },
  {
   "cell_type": "markdown",
   "metadata": {},
   "source": [
    "# Evaluation <a name = \"setup\"></a>\n",
    "<p><a href = #Top>Up</a>\n",
    "<p><a href = #plots>Plots</a>"
   ]
  },
  {
   "cell_type": "code",
   "execution_count": 55,
   "metadata": {},
   "outputs": [
    {
     "name": "stdout",
     "output_type": "stream",
     "text": [
      "Directory >>| ..\\output\\Regression\\ |<< existiert bereits. Fortsetzen auf eigene Gefahr! (Weiter mit Enter)\n"
     ]
    }
   ],
   "source": [
    "run = 'SYNTH'\n",
    "nets = ['ALEX','RESNET'] # ALEX, VGG16, RESNET, prevVGG16, prevRESNET\n",
    "image_channels = ['rgb', 'rgba'] #rgb vs rgbd\n",
    "dataset = '201129_2031'\n",
    "\n",
    "eval_dir = '..\\\\output\\\\Regression\\\\'#''.format(net, image_channels)\n",
    "\n",
    "if(not os.path.exists(eval_dir)):\n",
    "    os.makedirs(eval_dir)\n",
    "else:\n",
    "    input('Directory >>| {} |<< existiert bereits. Fortsetzen auf eigene Gefahr! (Weiter mit Enter)'.format(eval_dir))"
   ]
  },
  {
   "cell_type": "code",
   "execution_count": 56,
   "metadata": {},
   "outputs": [],
   "source": [
    "import pickle\n",
    "\n",
    "net_results = [None, None, None,  None]\n",
    "# ALEX-rgb ALEX_rgba RESNET_rgb RESNET_rgba\n",
    "k=0\n",
    "for i in range(2):\n",
    "    for j in range(2):\n",
    "        csv = '..\\\\output\\\\{}_{}_{}\\\\Evaluation_SYNTH\\\\Prognosen.csv'.format(nets[i], dataset, image_channels[j])\n",
    "        df = pd.read_csv(csv)\n",
    "        net_results[k] = df['dot_angular_err_elevation']\n",
    "        k +=1"
   ]
  },
  {
   "cell_type": "code",
   "execution_count": 62,
   "metadata": {},
   "outputs": [
    {
     "name": "stdout",
     "output_type": "stream",
     "text": [
      "[0        6.662339\n",
      "1        7.107386\n",
      "2        5.319884\n",
      "3        5.435905\n",
      "4        6.116243\n",
      "          ...    \n",
      "9995     9.400346\n",
      "9996    11.772140\n",
      "9997     9.450223\n",
      "9998     7.253502\n",
      "9999     5.926978\n",
      "Name: dot_angular_err_elevation, Length: 10000, dtype: float64, 0       12.036225\n",
      "1        4.240511\n",
      "2        7.337624\n",
      "3        4.776660\n",
      "4       18.050557\n",
      "          ...    \n",
      "9995     6.737073\n",
      "9996    13.393886\n",
      "9997     7.375783\n",
      "9998     3.450350\n",
      "9999     2.072801\n",
      "Name: dot_angular_err_elevation, Length: 10000, dtype: float64, 0       0.780301\n",
      "1       3.489490\n",
      "2       3.023056\n",
      "3       0.889496\n",
      "4       2.166701\n",
      "          ...   \n",
      "9995    0.623556\n",
      "9996    3.526349\n",
      "9997    1.241726\n",
      "9998    1.959930\n",
      "9999    6.150188\n",
      "Name: dot_angular_err_elevation, Length: 10000, dtype: float64, 0       0.853786\n",
      "1       1.338099\n",
      "2       2.459340\n",
      "3       2.011040\n",
      "4       3.753434\n",
      "          ...   \n",
      "9995    1.998441\n",
      "9996    3.085460\n",
      "9997    1.970225\n",
      "9998    3.288426\n",
      "9999    4.914271\n",
      "Name: dot_angular_err_elevation, Length: 10000, dtype: float64]\n",
      "\n",
      "\n",
      "---------------------------------------------------------------------\n",
      "\n",
      "\n",
      "[0        6.662339\n",
      "1        7.107386\n",
      "2        5.319884\n",
      "3        5.435905\n",
      "4        6.116243\n",
      "          ...    \n",
      "9995     9.400346\n",
      "9996    11.772140\n",
      "9997     9.450223\n",
      "9998     7.253502\n",
      "9999     5.926978\n",
      "Name: dot_angular_err_elevation, Length: 10000, dtype: float64, 0       12.036225\n",
      "1        4.240511\n",
      "2        7.337624\n",
      "3        4.776660\n",
      "4       18.050557\n",
      "          ...    \n",
      "9995     6.737073\n",
      "9996    13.393886\n",
      "9997     7.375783\n",
      "9998     3.450350\n",
      "9999     2.072801\n",
      "Name: dot_angular_err_elevation, Length: 10000, dtype: float64, 0       0.780301\n",
      "1       3.489490\n",
      "2       3.023056\n",
      "3       0.889496\n",
      "4       2.166701\n",
      "          ...   \n",
      "9995    0.623556\n",
      "9996    3.526349\n",
      "9997    1.241726\n",
      "9998    1.959930\n",
      "9999    6.150188\n",
      "Name: dot_angular_err_elevation, Length: 10000, dtype: float64, 0       0.853786\n",
      "1       1.338099\n",
      "2       2.459340\n",
      "3       2.011040\n",
      "4       3.753434\n",
      "          ...   \n",
      "9995    1.998441\n",
      "9996    3.085460\n",
      "9997    1.970225\n",
      "9998    3.288426\n",
      "9999    4.914271\n",
      "Name: dot_angular_err_elevation, Length: 10000, dtype: float64]\n",
      "\n",
      "\n",
      "---------------------------------------------------------------------\n",
      "\n",
      "\n",
      "[0        6.662339\n",
      "1        7.107386\n",
      "2        5.319884\n",
      "3        5.435905\n",
      "4        6.116243\n",
      "          ...    \n",
      "9995     9.400346\n",
      "9996    11.772140\n",
      "9997     9.450223\n",
      "9998     7.253502\n",
      "9999     5.926978\n",
      "Name: dot_angular_err_elevation, Length: 10000, dtype: float64, 0       12.036225\n",
      "1        4.240511\n",
      "2        7.337624\n",
      "3        4.776660\n",
      "4       18.050557\n",
      "          ...    \n",
      "9995     6.737073\n",
      "9996    13.393886\n",
      "9997     7.375783\n",
      "9998     3.450350\n",
      "9999     2.072801\n",
      "Name: dot_angular_err_elevation, Length: 10000, dtype: float64, 0       0.780301\n",
      "1       3.489490\n",
      "2       3.023056\n",
      "3       0.889496\n",
      "4       2.166701\n",
      "          ...   \n",
      "9995    0.623556\n",
      "9996    3.526349\n",
      "9997    1.241726\n",
      "9998    1.959930\n",
      "9999    6.150188\n",
      "Name: dot_angular_err_elevation, Length: 10000, dtype: float64, 0       0.853786\n",
      "1       1.338099\n",
      "2       2.459340\n",
      "3       2.011040\n",
      "4       3.753434\n",
      "          ...   \n",
      "9995    1.998441\n",
      "9996    3.085460\n",
      "9997    1.970225\n",
      "9998    3.288426\n",
      "9999    4.914271\n",
      "Name: dot_angular_err_elevation, Length: 10000, dtype: float64]\n",
      "\n",
      "\n",
      "---------------------------------------------------------------------\n",
      "\n",
      "\n",
      "[0        6.662339\n",
      "1        7.107386\n",
      "2        5.319884\n",
      "3        5.435905\n",
      "4        6.116243\n",
      "          ...    \n",
      "9995     9.400346\n",
      "9996    11.772140\n",
      "9997     9.450223\n",
      "9998     7.253502\n",
      "9999     5.926978\n",
      "Name: dot_angular_err_elevation, Length: 10000, dtype: float64, 0       12.036225\n",
      "1        4.240511\n",
      "2        7.337624\n",
      "3        4.776660\n",
      "4       18.050557\n",
      "          ...    \n",
      "9995     6.737073\n",
      "9996    13.393886\n",
      "9997     7.375783\n",
      "9998     3.450350\n",
      "9999     2.072801\n",
      "Name: dot_angular_err_elevation, Length: 10000, dtype: float64, 0       0.780301\n",
      "1       3.489490\n",
      "2       3.023056\n",
      "3       0.889496\n",
      "4       2.166701\n",
      "          ...   \n",
      "9995    0.623556\n",
      "9996    3.526349\n",
      "9997    1.241726\n",
      "9998    1.959930\n",
      "9999    6.150188\n",
      "Name: dot_angular_err_elevation, Length: 10000, dtype: float64, 0       0.853786\n",
      "1       1.338099\n",
      "2       2.459340\n",
      "3       2.011040\n",
      "4       3.753434\n",
      "          ...   \n",
      "9995    1.998441\n",
      "9996    3.085460\n",
      "9997    1.970225\n",
      "9998    3.288426\n",
      "9999    4.914271\n",
      "Name: dot_angular_err_elevation, Length: 10000, dtype: float64]\n",
      "\n",
      "\n",
      "---------------------------------------------------------------------\n",
      "\n",
      "\n"
     ]
    }
   ],
   "source": [
    "for i in range(4):\n",
    "    print(net_results)\n",
    "    print()\n",
    "    print()\n",
    "    print('---------------------------------------------------------------------')\n",
    "    print()\n",
    "    print()"
   ]
  },
  {
   "cell_type": "code",
   "execution_count": 63,
   "metadata": {},
   "outputs": [],
   "source": [
    "import matplotlib.pyplot as plt\n",
    "import matplotlib.text as text\n",
    "from matplotlib.pyplot import figure\n",
    "\n",
    "from matplotlib import cm\n",
    "\n",
    "import tikzplotlib\n",
    "%matplotlib inline\n",
    "\n",
    "Enable_Plotting = True"
   ]
  },
  {
   "cell_type": "code",
   "execution_count": 64,
   "metadata": {},
   "outputs": [],
   "source": [
    "#pip install tikzplotlib"
   ]
  },
  {
   "cell_type": "markdown",
   "metadata": {},
   "source": [
    "# Plots <a name = \"plots\">\n",
    "<p></a><a href = #Top>Up</a>\n",
    "<p><a href = #setup>Setup</a>"
   ]
  },
  {
   "cell_type": "markdown",
   "metadata": {},
   "source": [
    "##  Plot Box-Whisker-Diagram"
   ]
  },
  {
   "cell_type": "code",
   "execution_count": 105,
   "metadata": {},
   "outputs": [],
   "source": [
    "def do_Plot(title, eval_file, save = True):\n",
    "    fig, ax = plt.subplots(figsize = (15,15))\n",
    "    \n",
    "    pos = [1.5, 3, 4.5, 6]    \n",
    "    w = [0.75,0.75,0.75,0.75]\n",
    "    \n",
    "    cmap = cm.get_cmap('tab20c')\n",
    "    #colours = [cmap(0.), cmap(0.05), cmap(0.1), cmap(0.15), cmap(0.2), cmap(0.25), cmap(0.3), cmap(0.35)]\n",
    "    colours = [cmap(0.1), cmap(0.3), cmap(0.5), cmap(0.7)]\n",
    "    \n",
    "    p1 = plt.boxplot(net_results, positions = pos, widths = w, showmeans = True, meanline = True, patch_artist = True, \n",
    "                     boxprops = dict(facecolor = colours[0]))\n",
    "    lbls = [\n",
    "        'AlexNet RGB', \n",
    "        'AlexNet RGBD', \n",
    "        'ResNet RGB',\n",
    "        'ResNet RGBD'\n",
    "    ]\n",
    "    plt.xticks(pos, lbls)\n",
    "\n",
    "    #plt.setp(ax.get_xticklabels(), rotation = 'vertical')\n",
    "    plt.ylabel('Distribution of\\nthe angular error')\n",
    "    plt.title(title)\n",
    "    ax.grid(True, ls = '--', axis = 'y')\n",
    "    \n",
    "    plots = [p1]\n",
    "    for p in plots:\n",
    "        caps = p['caps']\n",
    "        for cap in caps:\n",
    "            cap.set(xdata = cap.get_xdata() + (-.075, +.075))\n",
    "    \n",
    "    #start, end = ax.get_ylim()\n",
    "    ax.yaxis.set_ticks(np.arange(-10, 170, 10))\n",
    "    \n",
    "    for o in fig.findobj(text.Text):\n",
    "        #o.set_fontstyle('italic')\n",
    "        o.set_size(20)\n",
    "    \n",
    "    if(save):\n",
    "        tikzplotlib.save('{}.tex'.format(eval_file))\n",
    "        plt.savefig('{}.png'.format(eval_file), format = 'png', bbox_inches = \"tight\", transparent=False, dpi = 300)\n",
    "\n",
    "    plt.show()"
   ]
  },
  {
   "cell_type": "markdown",
   "metadata": {},
   "source": [
    "### Show Plot"
   ]
  },
  {
   "cell_type": "code",
   "execution_count": 106,
   "metadata": {
    "scrolled": false
   },
   "outputs": [
    {
     "data": {
      "image/png": "[encoded data removed]",
      "text/plain": [
       "<Figure size 1080x1080 with 1 Axes>"
      ]
     },
     "metadata": {
      "needs_background": "light"
     },
     "output_type": "display_data"
    }
   ],
   "source": [
    "if Enable_Plotting:\n",
    "    tsts_plot = do_Plot('Angular Prediction Error Distribution', eval_dir + 'Box-Whisker-Plot')"
   ]
  },
  {
   "cell_type": "code",
   "execution_count": null,
   "metadata": {},
   "outputs": [],
   "source": []
  },
  {
   "cell_type": "code",
   "execution_count": null,
   "metadata": {},
   "outputs": [],
   "source": []
  }
 ],
 "metadata": {
  "kernelspec": {
   "display_name": "Python [conda env:tf_ks]",
   "language": "python",
   "name": "conda-env-tf_ks-py"
  },
  "language_info": {
   "codemirror_mode": {
    "name": "ipython",
    "version": 3
   },
   "file_extension": ".py",
   "mimetype": "text/x-python",
   "name": "python",
   "nbconvert_exporter": "python",
   "pygments_lexer": "ipython3",
   "version": "3.7.7"
  }
 },
 "nbformat": 4,
 "nbformat_minor": 2
}
