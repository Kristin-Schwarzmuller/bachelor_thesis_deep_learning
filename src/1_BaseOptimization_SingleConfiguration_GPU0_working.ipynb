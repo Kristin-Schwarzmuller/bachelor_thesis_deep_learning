{
 "cells": [
  {
   "cell_type": "markdown",
   "metadata": {},
   "source": [
    "# Single Base Training on GPU0"
   ]
  },
  {
   "cell_type": "markdown",
   "metadata": {},
   "source": [
    "# Quick Links <a name = \"Top\"></a>\n",
    "<ol>\n",
    "    <li><p><a href = #setup>Set Up</a></p></li>\n",
    "    <li><p><a href = #Base>Base Training</a></p></li>\n",
    "</ol>"
   ]
  },
  {
   "cell_type": "markdown",
   "metadata": {},
   "source": [
    "# Imports"
   ]
  },
  {
   "cell_type": "code",
   "execution_count": 1,
   "metadata": {},
   "outputs": [
    {
     "name": "stdout",
     "output_type": "stream",
     "text": [
      "Current Conda Environment: tf_test\n"
     ]
    }
   ],
   "source": [
    "import os\n",
    "import shutil\n",
    "\n",
    "print('Current Conda Environment: {}'.format(os.environ['CONDA_DEFAULT_ENV']))"
   ]
  },
  {
   "cell_type": "code",
   "execution_count": 2,
   "metadata": {},
   "outputs": [
    {
     "name": "stderr",
     "output_type": "stream",
     "text": [
      "Using TensorFlow backend.\n"
     ]
    },
    {
     "name": "stdout",
     "output_type": "stream",
     "text": [
      "The installed version of TensorFlow 2.1.0 includes GPU support.\n",
      "\n",
      "Num GPUs Available:  2 \n",
      "\n",
      "[name: \"/device:CPU:0\"\n",
      "device_type: \"CPU\"\n",
      "memory_limit: 268435456\n",
      "locality {\n",
      "}\n",
      "incarnation: 17740346766354879099\n",
      ", name: \"/device:GPU:0\"\n",
      "device_type: \"GPU\"\n",
      "memory_limit: 9105744200\n",
      "locality {\n",
      "  bus_id: 1\n",
      "  links {\n",
      "  }\n",
      "}\n",
      "incarnation: 4672966049566971316\n",
      "physical_device_desc: \"device: 0, name: GeForce RTX 2080 Ti, pci bus id: 0000:17:00.0, compute capability: 7.5\"\n",
      ", name: \"/device:GPU:1\"\n",
      "device_type: \"GPU\"\n",
      "memory_limit: 9104897474\n",
      "locality {\n",
      "  bus_id: 1\n",
      "  links {\n",
      "  }\n",
      "}\n",
      "incarnation: 12625549251409573391\n",
      "physical_device_desc: \"device: 1, name: GeForce RTX 2080 Ti, pci bus id: 0000:65:00.0, compute capability: 7.5\"\n",
      "]\n"
     ]
    }
   ],
   "source": [
    "import talos as ta\n",
    "from talos.model import lr_normalizer, early_stopper, hidden_layers\n",
    "\n",
    "import tensorflow as tf\n",
    "  \n",
    "available_gpus = tf.config.experimental.list_physical_devices('GPU')\n",
    "built_with_cuda = tf.test.is_built_with_cuda()\n",
    "\n",
    "if not (not available_gpus) & built_with_cuda:\n",
    "    print(\"The installed version of TensorFlow {} includes GPU support.\\n\".format(tf.__version__))\n",
    "    print(\"Num GPUs Available: \", len(available_gpus), \"\\n\")\n",
    "else:\n",
    "    print(\"The installed version of TensorFlow {} does not include GPU support.\\n\".format(tf.__version__))\n",
    "    \n",
    "from tensorflow.python.client import device_lib\n",
    "print(device_lib.list_local_devices())\n",
    "\n",
    "from tensorflow.compat.v1.keras import callbacks, backend as K\n",
    "from tensorflow.keras.models import Sequential, load_model\n",
    "from tensorflow.keras.layers import Dense, Dropout, Flatten\n",
    "from tensorflow.keras.preprocessing.image import ImageDataGenerator\n",
    "from tensorflow.keras.applications import VGG16\n",
    "from tensorflow.keras.utils import multi_gpu_model\n",
    "from tensorflow.keras.initializers import glorot_uniform\n",
    "from tensorflow.keras.optimizers import Adam, Nadam, RMSprop, SGD, Adagrad\n",
    "from tensorflow.keras.layers import ReLU, LeakyReLU\n",
    "\n",
    "from datetime import datetime\n",
    "import pandas as pd\n",
    "import numpy as np\n",
    "\n",
    "import time\n",
    "\n",
    "from numpy.random import seed\n",
    "seed(1)\n",
    "tf.random.set_seed(1)\n",
    "\n",
    "config = tf.compat.v1.ConfigProto()\n",
    "config.gpu_options.allow_growth=True\n",
    "config.gpu_options.per_process_gpu_memory_fraction = 0.99\n",
    "sess = tf.compat.v1.Session(config = config)\n",
    "K.set_session(sess)"
   ]
  },
  {
   "cell_type": "markdown",
   "metadata": {},
   "source": [
    "# Hilfsfunktionen"
   ]
  },
  {
   "cell_type": "markdown",
   "metadata": {},
   "source": [
    "### Output Directory\n",
    "\n",
    "* <i>SSD</i>, falls genug Speicher auf SSD im SymLink <i>fast_output</i> verfügbar ist\n",
    "* <i>HDD</i>, falls möglicherweise zu wenig SSD-Speicher verfügbar ist $\\rightarrow$ <i>output</i>"
   ]
  },
  {
   "cell_type": "code",
   "execution_count": 3,
   "metadata": {},
   "outputs": [],
   "source": [
    "from enum import IntEnum\n",
    "\n",
    "class OutputDirectory(IntEnum):\n",
    "    HDD = 0\n",
    "    SSD = 1\n",
    "    \n",
    "output_path = ['output', 'fast_output']"
   ]
  },
  {
   "cell_type": "markdown",
   "metadata": {},
   "source": [
    "### Convert Label_Type into suitable label names.\n",
    "$\\Rightarrow$ Angular / Normalized $\\rightarrow$ ['Elevation', 'Azimuth']\n",
    "\n",
    "$\\Rightarrow$ Stereographic $\\rightarrow$ ['S_x', 'S_y']"
   ]
  },
  {
   "cell_type": "code",
   "execution_count": 4,
   "metadata": {},
   "outputs": [],
   "source": [
    "def get_Label_Names(label_type):\n",
    "    if label_type == 'Angular' or label_type == 'Normalized':\n",
    "        return ['Elevation', 'Azimuth']\n",
    "    elif label_type == 'Stereographic':\n",
    "        return ['S_x', 'S_y']\n",
    "    else:\n",
    "        assert(True, 'LabelType Invalid')\n",
    "        return None"
   ]
  },
  {
   "cell_type": "markdown",
   "metadata": {},
   "source": [
    "### Benutzerdefinierte Kostenfunktion & Metrik"
   ]
  },
  {
   "cell_type": "code",
   "execution_count": 5,
   "metadata": {},
   "outputs": [],
   "source": [
    "def circular_mse(y_true, y_pred):\n",
    "    max_error = tf.constant(360, dtype = 'float32')\n",
    "    return K.mean(K.square(K.minimum(K.abs(y_pred - y_true), max_error - K.abs(y_pred - y_true))), axis = -1)\n",
    "\n",
    "def circular_mae(y_true, y_pred):\n",
    "    max_error = tf.constant(360, dtype = 'float32')\n",
    "    return K.mean(K.minimum(K.abs(y_pred - y_true), K.abs(max_error - K.abs(y_pred - y_true))), axis = -1)\n",
    "\n",
    "def custom_mae(y_true, y_pred):\n",
    "    return K.mean(K.abs(y_pred - y_true), axis = -1)"
   ]
  },
  {
   "cell_type": "markdown",
   "metadata": {},
   "source": [
    "### Convert String into Reduction Metric Function"
   ]
  },
  {
   "cell_type": "code",
   "execution_count": 6,
   "metadata": {},
   "outputs": [],
   "source": [
    "def get_Reduction_Metric(metric):\n",
    "    \n",
    "    if metric == 'custom_mae':\n",
    "        return [custom_mae]\n",
    "    elif metric == 'tf.keras.metrics.MeanAbsoluteError()':\n",
    "        return [tf.keras.metrics.MeanAbsoluteError()]\n",
    "    elif metric == 'circular_mae':\n",
    "        return [circular_mae]\n",
    "    elif metric == 'mean_squared_error':\n",
    "        return ['mean_squared_error']\n",
    "    else:\n",
    "        assert(False, 'Metric yet unknown - Please modify get_Reduction_Metric to meet your requirements')\n",
    "        return None"
   ]
  },
  {
   "cell_type": "markdown",
   "metadata": {},
   "source": [
    "### Generierung Bottleneck-Features"
   ]
  },
  {
   "cell_type": "code",
   "execution_count": 7,
   "metadata": {},
   "outputs": [],
   "source": [
    "def create_bottleneck_features(train_generator, valid_generator, bottleneck):\n",
    "        \n",
    "    print('Creating bottleneck features...')\n",
    "    model = VGG16(include_top = False, weights = 'imagenet')\n",
    "        \n",
    "    #bottleneck_features_train = model.predict_generator(train_generator, train_generator.n // train_generator.batch_size)\n",
    "    bottleneck_features_train = model.predict(train_generator)\n",
    "    np.save(open(_LOG_DIR + 'Train_' + bottleneck, 'wb'), bottleneck_features_train)\n",
    "        \n",
    "    #bottleneck_features_valid = model.predict_generator(valid_generator, valid_generator.n // valid_generator.batch_size)\n",
    "    bottleneck_features_valid = model.predict(valid_generator)\n",
    "    np.save(open(_LOG_DIR + 'Valid_'  + bottleneck, 'wb'), bottleneck_features_valid)"
   ]
  },
  {
   "cell_type": "markdown",
   "metadata": {},
   "source": [
    "### Generierung Datenpipeline (Angepasst für Talos)"
   ]
  },
  {
   "cell_type": "code",
   "execution_count": 8,
   "metadata": {},
   "outputs": [],
   "source": [
    "def prepare_data(batch_size, num_samples, label_type):\n",
    "\n",
    "    df = pd.read_csv(_CSV_FILE)\n",
    "    df_shuffled = df.sample(frac = 1, random_state = 1)\n",
    "    df_train = df_shuffled[0 : int(num_samples * 0.8 // batch_size * batch_size)]   \n",
    "    df_valid = df_shuffled.drop(df_shuffled.index[0: df_train.shape[0]])[0 : int(num_samples * 0.2 // batch_size * batch_size)]\n",
    "    \n",
    "    train_labels = df_train.drop(['Filename'], axis = 1).values\n",
    "    valid_labels = df_valid.drop(['Filename'], axis = 1).values\n",
    "    \n",
    "    bottleneck = 'Bottleneck_Features_{}_{}.npy'.format(str(num_samples), str(batch_size))                                       \n",
    "    if not os.path.exists(_LOG_DIR + 'Train_' + bottleneck):\n",
    "        \n",
    "        if _USE_DATA_AUGMENTATION:\n",
    "            train_data_generator = ImageDataGenerator(\n",
    "                rescale = 1./255, \n",
    "                width_shift_range = 0.1,\n",
    "                height_shift_range = 0.1, \n",
    "                zoom_range = 0.1,\n",
    "                brightness_range = (0.25, 0.75),\n",
    "                fill_mode = 'nearest'\n",
    "            )\n",
    "        else:\n",
    "            train_data_generator = ImageDataGenerator(\n",
    "                rescale = 1./255\n",
    "            )\n",
    "            \n",
    "        valid_data_generator = ImageDataGenerator(\n",
    "            rescale = 1./255\n",
    "        )\n",
    "    \n",
    "        print('Y-Col: {}'.format(get_Label_Names(label_type)))\n",
    "        \n",
    "        train_generator = train_data_generator.flow_from_dataframe(\n",
    "            dataframe = df_train,\n",
    "            directory = _IMAGE_DIR,\n",
    "            x_col = 'Filename',\n",
    "            y_col = get_Label_Names(label_type),\n",
    "            class_mode = 'raw',\n",
    "            target_size = (224, 224),\n",
    "            color_mode = 'rgb',\n",
    "            shuffle = False,\n",
    "            seed = 1,\n",
    "            batch_size = batch_size\n",
    "        )\n",
    "    \n",
    "        valid_generator = valid_data_generator.flow_from_dataframe(\n",
    "            dataframe = df_valid,\n",
    "            directory = _IMAGE_DIR,\n",
    "            x_col = 'Filename',\n",
    "            y_col = get_Label_Names(label_type),\n",
    "            class_mode = 'raw',\n",
    "            target_size = (224, 224),\n",
    "            color_mode = 'rgb',\n",
    "            shuffle = False,\n",
    "            seed = 1,\n",
    "            batch_size = batch_size\n",
    "        )\n",
    "                                                        \n",
    "        create_bottleneck_features(train_generator, valid_generator, bottleneck)\n",
    "        \n",
    "    train_features = np.load(open(_LOG_DIR + 'Train_' + bottleneck, 'rb'))\n",
    "    valid_features = np.load(open(_LOG_DIR + 'Valid_' + bottleneck, 'rb'))\n",
    "                                                        \n",
    "    return train_labels, valid_labels, train_features, valid_features"
   ]
  },
  {
   "cell_type": "markdown",
   "metadata": {},
   "source": [
    "### Generierung Modell (Angepasst für Talos)"
   ]
  },
  {
   "cell_type": "code",
   "execution_count": 9,
   "metadata": {},
   "outputs": [],
   "source": [
    "def grid_model_base(x, y, x_val, y_val, params):\n",
    "    \n",
    "    global _COUNTER    \n",
    "    K.clear_session()\n",
    "\n",
    "    train_labels, valid_labels, train_features, valid_features = prepare_data(params['batch_size'], params['samples'], params['label_type'])\n",
    "\n",
    "    model = Sequential()\n",
    "    model.add(Flatten(input_shape = train_features.shape[1 :])) # (7, 7, 512)\n",
    "    \n",
    "    dropout_rate = params['dropout']\n",
    "    first_neuron = params['first_neuron']\n",
    "    \n",
    "    if params['activation'] == 'leakyrelu':\n",
    "        activation_layer = LeakyReLU(alpha = 0.1)\n",
    "    elif params['activation'] == 'relu':\n",
    "        activation_layer = ReLU()  \n",
    "    \n",
    "    model.add(Dense(units = first_neuron, kernel_initializer = glorot_uniform(seed = 1)))\n",
    "    model.add(activation_layer)\n",
    "    if dropout_rate > 0.0:\n",
    "        model.add(Dropout(rate = dropout_rate))\n",
    "        \n",
    "    hidden_neuron_fraction = first_neuron\n",
    "    for i in range(params['hidden_layers']):\n",
    "        hidden_neuron_fraction = hidden_neuron_fraction // 2\n",
    "        model.add(Dense(units = hidden_neuron_fraction, kernel_initializer = glorot_uniform(seed = 1)))\n",
    "        model.add(activation_layer)\n",
    "        if dropout_rate > 0.0:\n",
    "            model.add(Dropout(rate = dropout_rate))\n",
    "    \n",
    "    model.add(Dense(units = 2, kernel_initializer = glorot_uniform(seed = 1)))\n",
    "\n",
    "    print('Using Loss: {} \\nand Reduction Metric: {}'.format(\n",
    "        params['loss_function'], \n",
    "        get_Reduction_Metric(params['reduction_metric'])))\n",
    "    \n",
    "    model.compile(\n",
    "        optimizer = params['optimizer'](lr = lr_normalizer(params['lr'], params['optimizer'])), \n",
    "        loss = params['loss_function'], \n",
    "        metrics = get_Reduction_Metric(params['reduction_metric'])\n",
    "    )\n",
    "    \n",
    "    print('Monitor: {}'.format(params['monitor_value']))\n",
    "    \n",
    "    checkpointer = callbacks.ModelCheckpoint(\n",
    "        filepath = _LOG_DIR + 'Best_Weights_FC_{}.hdf5'.format(_COUNTER),\n",
    "        monitor = params['monitor_value'],\n",
    "        verbose = 1,\n",
    "        save_best_only = True,\n",
    "        mode = 'min'\n",
    "    )\n",
    "    \n",
    "    startTime = datetime.now()\n",
    "    out = model.fit(\n",
    "        x = train_features,\n",
    "        y = train_labels,\n",
    "        epochs = params['epochs'],\n",
    "        validation_data = (valid_features, valid_labels),\n",
    "        steps_per_epoch = int(params['samples'] * 0.8 // params['batch_size']),\n",
    "        validation_steps = int(params['samples'] * 0.2 // params['batch_size']),\n",
    "        callbacks = [checkpointer]\n",
    "    )\n",
    "    print(\"Time taken:\", datetime.now() - startTime)\n",
    "    \n",
    "    _COUNTER = _COUNTER + 1\n",
    "     \n",
    "    return out, model"
   ]
  },
  {
   "cell_type": "markdown",
   "metadata": {},
   "source": [
    "# Parameter <a name = \"setup\"></a><a href = #Top>Up</a></p>"
   ]
  },
  {
   "cell_type": "markdown",
   "metadata": {},
   "source": [
    "### GridSerach"
   ]
  },
  {
   "cell_type": "markdown",
   "metadata": {},
   "source": [
    "#### Hyper Parameter"
   ]
  },
  {
   "cell_type": "code",
   "execution_count": 10,
   "metadata": {},
   "outputs": [],
   "source": [
    "#     Adam = RMSprop + Momentum (lr=0.001)\n",
    "#     Nadam = Adam RMSprop + Nesterov-Momentum (lr=0.002)\n",
    "#     RMSprop = (lr=0.001)\n",
    "#     SGD = (lr=0.01)\n",
    "#     Adagrad\n",
    "\n",
    "hyper_parameter = {\n",
    "    'samples': [20000],\n",
    "    'epochs': [1],\n",
    "    'batch_size': [32, 64],\n",
    "    'optimizer': [Adam],\n",
    "    'lr': [1, 2, 5],\n",
    "    'first_neuron': [1024, 2048, 4096],\n",
    "    'dropout': [0.25, 0.50],\n",
    "    'activation': ['leakyrelu', 'relu'],\n",
    "    'hidden_layers': [0, 1, 2, 3, 4],\n",
    "    # beginning from here, Values should only contain a single entry:\n",
    "    # ===============================================================\n",
    "    'label_type': ['Normalized'], # Stereographic, Angular, Normalized\n",
    "    'loss_function': ['mean_squared_error'], # circular_mse\n",
    "    'reduction_metric': ['custom_mae'], # tf.keras.metrics.MeanAbsoluteError(), circular_mae, custom_mae, mean_squared_error\n",
    "    'monitor_value': ['val_custom_mae'] # val_custom_mae, val_mean_absolute_error, val_circular_mae, val_loss\n",
    "}"
   ]
  },
  {
   "cell_type": "code",
   "execution_count": 11,
   "metadata": {},
   "outputs": [],
   "source": [
    "def get_params():  \n",
    "    return p"
   ]
  },
  {
   "cell_type": "markdown",
   "metadata": {},
   "source": [
    "### Dateisystem"
   ]
  },
  {
   "cell_type": "code",
   "execution_count": 12,
   "metadata": {},
   "outputs": [],
   "source": [
    "_RUN = 'SYNTH'\n",
    "_LOSS = 'MSE'\n",
    "_DATASET_NAME = '2020-05-28'\n",
    "_DEVICE = 'TITAN_GPU0'\n",
    "\n",
    "storage = OutputDirectory.SSD # 'fast_output' if ssd storage may suffice, 'output' otherwise\n",
    "\n",
    "#APPENDIX = 'Stereographic'\n",
    "\n",
    "#FUNCTION_OVERRIDE = ['mean_squared_error', [custom_mae], 'val_custom_mae'] # None, or e. g. ['mean_squared_error', [circular_mae], 'val_circular_mae']\n",
    "\n",
    "if hyper_parameter['label_type'][0] == 'Stereographic':\n",
    "    _CSV_FILE_NAME = 'images_synthetisch_stereographic.csv'\n",
    "    _STEREOGRAPHIC = True\n",
    "elif hyper_parameter['label_type'][0] == 'Angular':\n",
    "    _CSV_FILE_NAME = 'images_synthetisch.csv'\n",
    "    _STEREOGRAPHIC = False\n",
    "elif hyper_parameter['label_type'][0] == 'Normalized':\n",
    "    _CSV_FILE_NAME = 'images_synthetisch_normalized.csv'\n",
    "    _STEREOGRAPHIC = False\n",
    "else:\n",
    "    assert(True, 'LabelType Invalid')"
   ]
  },
  {
   "cell_type": "code",
   "execution_count": 13,
   "metadata": {},
   "outputs": [],
   "source": [
    "_USE_DATA_AUGMENTATION = False"
   ]
  },
  {
   "cell_type": "code",
   "execution_count": 14,
   "metadata": {},
   "outputs": [
    {
     "name": "stdout",
     "output_type": "stream",
     "text": [
      "Directory >>| ..\\fast_output\\SYNTH_Regression_MSE\\2020-05-28_Normalized_Base_Custom-MAE\\ |<< existiert bereits. Fortsetzen auf eigene Gefahr! (Weiter mit Enter)\n"
     ]
    }
   ],
   "source": [
    "_MODEL_NAME = '{}_Optimierung_Hyperparameter_v{}'.format(_DATASET_NAME, _RUN)\n",
    "_IMAGE_DIR = '..\\\\dataset_mm\\\\{}\\\\'.format(_DATASET_NAME)\n",
    "_CSV_FILE = _IMAGE_DIR + _CSV_FILE_NAME\n",
    "\n",
    "_COUNTER = 0\n",
    "\n",
    "_note = '_Custom-MAE'\n",
    "\n",
    "_NET_DIR = '{}_Regression_{}\\\\{}_{}_Base{}\\\\'.format(_RUN, _LOSS, _DATASET_NAME, hyper_parameter['label_type'][0], _note)\n",
    "_LOG_DIR = '..\\\\{}\\\\{}'.format(output_path[storage], _NET_DIR)\n",
    "\n",
    "_RESULTS_FILE = '\\\\..\\\\{}_{}_Base{}_Results.csv'.format(_DATASET_NAME, hyper_parameter['label_type'][0], _note)\n",
    "\n",
    "if(not os.path.exists(_LOG_DIR)):\n",
    "    os.makedirs(_LOG_DIR)\n",
    "else:\n",
    "    input('Directory >>| {} |<< existiert bereits. Fortsetzen auf eigene Gefahr! (Weiter mit Enter)'.format(_LOG_DIR))\n",
    "\n",
    "device_file = open(_LOG_DIR + '{}'.format(_DEVICE), \"a+\")\n",
    "device_file.close()"
   ]
  },
  {
   "cell_type": "markdown",
   "metadata": {},
   "source": [
    "# Ausführung GridSearch mit Talos <a name = \"Base\"></a><a href = #Top>Up</a></p>"
   ]
  },
  {
   "cell_type": "code",
   "execution_count": 15,
   "metadata": {},
   "outputs": [
    {
     "name": "stderr",
     "output_type": "stream",
     "text": [
      "\r",
      "  0%|                                                                                          | 0/360 [00:00<?, ?it/s]"
     ]
    },
    {
     "name": "stdout",
     "output_type": "stream",
     "text": [
      "{'activation': 'leakyrelu', 'batch_size': 32, 'dropout': 0.25, 'epochs': 1, 'first_neuron': 1024, 'hidden_layers': 0, 'label_type': 'Normalized', 'loss_function': 'mean_squared_error', 'lr': 1, 'monitor_value': 'val_custom_mae', 'optimizer': <class 'tensorflow.python.keras.optimizer_v2.adam.Adam'>, 'reduction_metric': 'custom_mae', 'samples': 20000}\n",
      "Using Loss: mean_squared_error \n",
      "and Reduction Metric: [<function custom_mae at 0x0000021D2788ACA8>]\n",
      "Monitor: val_custom_mae\n",
      "Train on 16000 samples, validate on 4000 samples\n",
      "15712/16000 [============================>.] - ETA: 0s - loss: 6.8184 - custom_mae: 1.0461\n",
      "Epoch 00001: val_custom_mae improved from inf to 0.28618, saving model to ..\\fast_output\\SYNTH_Regression_MSE\\2020-05-28_Normalized_Base_Custom-MAE\\Best_Weights_FC_0.hdf5\n",
      "16000/16000 [==============================] - 5s 302us/sample - loss: 6.7110 - custom_mae: 1.0402 - val_loss: 0.1449 - val_custom_mae: 0.2862\n",
      "Time taken: 0:00:06.625195\n"
     ]
    },
    {
     "name": "stderr",
     "output_type": "stream",
     "text": [
      "\r",
      "  0%|▏                                                                               | 1/360 [00:12<1:15:03, 12.54s/it]"
     ]
    },
    {
     "name": "stdout",
     "output_type": "stream",
     "text": [
      "{'activation': 'leakyrelu', 'batch_size': 32, 'dropout': 0.25, 'epochs': 1, 'first_neuron': 1024, 'hidden_layers': 0, 'label_type': 'Normalized', 'loss_function': 'mean_squared_error', 'lr': 2, 'monitor_value': 'val_custom_mae', 'optimizer': <class 'tensorflow.python.keras.optimizer_v2.adam.Adam'>, 'reduction_metric': 'custom_mae', 'samples': 20000}\n",
      "Using Loss: mean_squared_error \n",
      "and Reduction Metric: [<function custom_mae at 0x0000021D2788ACA8>]\n",
      "Monitor: val_custom_mae\n",
      "Train on 16000 samples, validate on 4000 samples\n",
      "15968/16000 [============================>.] - ETA: 0s - loss: 25.0911 - custom_mae: 1.8342\n",
      "Epoch 00001: val_custom_mae improved from inf to 0.47439, saving model to ..\\fast_output\\SYNTH_Regression_MSE\\2020-05-28_Normalized_Base_Custom-MAE\\Best_Weights_FC_1.hdf5\n",
      "16000/16000 [==============================] - 4s 279us/sample - loss: 25.0442 - custom_mae: 1.8326 - val_loss: 0.3433 - val_custom_mae: 0.4744\n",
      "Time taken: 0:00:06.103845\n"
     ]
    },
    {
     "name": "stderr",
     "output_type": "stream",
     "text": [
      "\r",
      "  1%|▍                                                                               | 2/360 [00:20<1:06:27, 11.14s/it]"
     ]
    },
    {
     "name": "stdout",
     "output_type": "stream",
     "text": [
      "{'activation': 'leakyrelu', 'batch_size': 32, 'dropout': 0.25, 'epochs': 1, 'first_neuron': 1024, 'hidden_layers': 0, 'label_type': 'Normalized', 'loss_function': 'mean_squared_error', 'lr': 5, 'monitor_value': 'val_custom_mae', 'optimizer': <class 'tensorflow.python.keras.optimizer_v2.adam.Adam'>, 'reduction_metric': 'custom_mae', 'samples': 20000}\n",
      "Using Loss: mean_squared_error \n",
      "and Reduction Metric: [<function custom_mae at 0x0000021D2788ACA8>]\n",
      "Monitor: val_custom_mae\n",
      "Train on 16000 samples, validate on 4000 samples\n",
      "15680/16000 [============================>.] - ETA: 0s - loss: 154.6005 - custom_mae: 3.9646\n",
      "Epoch 00001: val_custom_mae improved from inf to 0.54031, saving model to ..\\fast_output\\SYNTH_Regression_MSE\\2020-05-28_Normalized_Base_Custom-MAE\\Best_Weights_FC_2.hdf5\n",
      "16000/16000 [==============================] - 4s 278us/sample - loss: 151.6131 - custom_mae: 3.9220 - val_loss: 0.4446 - val_custom_mae: 0.5403\n",
      "Time taken: 0:00:06.154059\n"
     ]
    },
    {
     "name": "stderr",
     "output_type": "stream",
     "text": [
      "\r",
      "  1%|▋                                                                               | 3/360 [00:28<1:00:30, 10.17s/it]"
     ]
    },
    {
     "name": "stdout",
     "output_type": "stream",
     "text": [
      "{'activation': 'leakyrelu', 'batch_size': 32, 'dropout': 0.25, 'epochs': 1, 'first_neuron': 1024, 'hidden_layers': 1, 'label_type': 'Normalized', 'loss_function': 'mean_squared_error', 'lr': 1, 'monitor_value': 'val_custom_mae', 'optimizer': <class 'tensorflow.python.keras.optimizer_v2.adam.Adam'>, 'reduction_metric': 'custom_mae', 'samples': 20000}\n",
      "Using Loss: mean_squared_error \n",
      "and Reduction Metric: [<function custom_mae at 0x0000021D2788ACA8>]\n",
      "Monitor: val_custom_mae\n",
      "Train on 16000 samples, validate on 4000 samples\n",
      "15936/16000 [============================>.] - ETA: 0s - loss: 2.5701 - custom_mae: 0.6656\n",
      "Epoch 00001: val_custom_mae improved from inf to 0.26107, saving model to ..\\fast_output\\SYNTH_Regression_MSE\\2020-05-28_Normalized_Base_Custom-MAE\\Best_Weights_FC_3.hdf5\n",
      "16000/16000 [==============================] - 5s 291us/sample - loss: 2.5606 - custom_mae: 0.6643 - val_loss: 0.1295 - val_custom_mae: 0.2611\n",
      "Time taken: 0:00:06.326233\n"
     ]
    },
    {
     "name": "stderr",
     "output_type": "stream",
     "text": [
      "\r",
      "  1%|▉                                                                                 | 4/360 [00:36<56:38,  9.55s/it]"
     ]
    },
    {
     "name": "stdout",
     "output_type": "stream",
     "text": [
      "{'activation': 'leakyrelu', 'batch_size': 32, 'dropout': 0.25, 'epochs': 1, 'first_neuron': 1024, 'hidden_layers': 1, 'label_type': 'Normalized', 'loss_function': 'mean_squared_error', 'lr': 2, 'monitor_value': 'val_custom_mae', 'optimizer': <class 'tensorflow.python.keras.optimizer_v2.adam.Adam'>, 'reduction_metric': 'custom_mae', 'samples': 20000}\n",
      "Using Loss: mean_squared_error \n",
      "and Reduction Metric: [<function custom_mae at 0x0000021D2788ACA8>]\n",
      "Monitor: val_custom_mae\n",
      "Train on 16000 samples, validate on 4000 samples\n",
      "15680/16000 [============================>.] - ETA: 0s - loss: 12.2748 - custom_mae: 1.1560\n",
      "Epoch 00001: val_custom_mae improved from inf to 0.29292, saving model to ..\\fast_output\\SYNTH_Regression_MSE\\2020-05-28_Normalized_Base_Custom-MAE\\Best_Weights_FC_4.hdf5\n",
      "16000/16000 [==============================] - 5s 288us/sample - loss: 12.0384 - custom_mae: 1.1437 - val_loss: 0.1475 - val_custom_mae: 0.2929\n",
      "Time taken: 0:00:06.257997\n"
     ]
    },
    {
     "name": "stderr",
     "output_type": "stream",
     "text": [
      "\r",
      "  1%|█▏                                                                                | 5/360 [00:44<53:49,  9.10s/it]"
     ]
    },
    {
     "name": "stdout",
     "output_type": "stream",
     "text": [
      "{'activation': 'leakyrelu', 'batch_size': 32, 'dropout': 0.25, 'epochs': 1, 'first_neuron': 1024, 'hidden_layers': 1, 'label_type': 'Normalized', 'loss_function': 'mean_squared_error', 'lr': 5, 'monitor_value': 'val_custom_mae', 'optimizer': <class 'tensorflow.python.keras.optimizer_v2.adam.Adam'>, 'reduction_metric': 'custom_mae', 'samples': 20000}\n",
      "Using Loss: mean_squared_error \n",
      "and Reduction Metric: [<function custom_mae at 0x0000021D2788ACA8>]\n",
      "Monitor: val_custom_mae\n",
      "Train on 16000 samples, validate on 4000 samples\n",
      "15872/16000 [============================>.] - ETA: 0s - loss: 435.7713 - custom_mae: 4.8804\n",
      "Epoch 00001: val_custom_mae improved from inf to 0.60270, saving model to ..\\fast_output\\SYNTH_Regression_MSE\\2020-05-28_Normalized_Base_Custom-MAE\\Best_Weights_FC_5.hdf5\n",
      "16000/16000 [==============================] - 5s 294us/sample - loss: 432.3346 - custom_mae: 4.8570 - val_loss: 0.5070 - val_custom_mae: 0.6027\n",
      "Time taken: 0:00:06.404738\n"
     ]
    },
    {
     "name": "stderr",
     "output_type": "stream",
     "text": [
      "\r",
      "  2%|█▎                                                                                | 6/360 [00:52<52:02,  8.82s/it]"
     ]
    },
    {
     "name": "stdout",
     "output_type": "stream",
     "text": [
      "{'activation': 'leakyrelu', 'batch_size': 32, 'dropout': 0.25, 'epochs': 1, 'first_neuron': 1024, 'hidden_layers': 2, 'label_type': 'Normalized', 'loss_function': 'mean_squared_error', 'lr': 1, 'monitor_value': 'val_custom_mae', 'optimizer': <class 'tensorflow.python.keras.optimizer_v2.adam.Adam'>, 'reduction_metric': 'custom_mae', 'samples': 20000}\n",
      "Using Loss: mean_squared_error \n",
      "and Reduction Metric: [<function custom_mae at 0x0000021D2788ACA8>]\n",
      "Monitor: val_custom_mae\n",
      "Train on 16000 samples, validate on 4000 samples\n",
      "15776/16000 [============================>.] - ETA: 0s - loss: 1.0122 - custom_mae: 0.5491\n",
      "Epoch 00001: val_custom_mae improved from inf to 0.32177, saving model to ..\\fast_output\\SYNTH_Regression_MSE\\2020-05-28_Normalized_Base_Custom-MAE\\Best_Weights_FC_6.hdf5\n",
      "16000/16000 [==============================] - 5s 299us/sample - loss: 1.0007 - custom_mae: 0.5462 - val_loss: 0.1682 - val_custom_mae: 0.3218\n",
      "Time taken: 0:00:06.484310\n"
     ]
    },
    {
     "name": "stderr",
     "output_type": "stream",
     "text": [
      "\r",
      "  2%|█▌                                                                                | 7/360 [01:00<50:56,  8.66s/it]"
     ]
    },
    {
     "name": "stdout",
     "output_type": "stream",
     "text": [
      "{'activation': 'leakyrelu', 'batch_size': 32, 'dropout': 0.25, 'epochs': 1, 'first_neuron': 1024, 'hidden_layers': 2, 'label_type': 'Normalized', 'loss_function': 'mean_squared_error', 'lr': 2, 'monitor_value': 'val_custom_mae', 'optimizer': <class 'tensorflow.python.keras.optimizer_v2.adam.Adam'>, 'reduction_metric': 'custom_mae', 'samples': 20000}\n",
      "Using Loss: mean_squared_error \n",
      "and Reduction Metric: [<function custom_mae at 0x0000021D2788ACA8>]\n",
      "Monitor: val_custom_mae\n",
      "Train on 16000 samples, validate on 4000 samples\n",
      "15904/16000 [============================>.] - ETA: 0s - loss: 4.3339 - custom_mae: 0.8221\n",
      "Epoch 00001: val_custom_mae improved from inf to 0.36308, saving model to ..\\fast_output\\SYNTH_Regression_MSE\\2020-05-28_Normalized_Base_Custom-MAE\\Best_Weights_FC_7.hdf5\n",
      "16000/16000 [==============================] - 5s 300us/sample - loss: 4.3099 - custom_mae: 0.8199 - val_loss: 0.2013 - val_custom_mae: 0.3631\n",
      "Time taken: 0:00:06.494195\n"
     ]
    },
    {
     "name": "stderr",
     "output_type": "stream",
     "text": [
      "\r",
      "  2%|█▊                                                                                | 8/360 [01:09<50:12,  8.56s/it]"
     ]
    },
    {
     "name": "stdout",
     "output_type": "stream",
     "text": [
      "{'activation': 'leakyrelu', 'batch_size': 32, 'dropout': 0.25, 'epochs': 1, 'first_neuron': 1024, 'hidden_layers': 2, 'label_type': 'Normalized', 'loss_function': 'mean_squared_error', 'lr': 5, 'monitor_value': 'val_custom_mae', 'optimizer': <class 'tensorflow.python.keras.optimizer_v2.adam.Adam'>, 'reduction_metric': 'custom_mae', 'samples': 20000}\n",
      "Using Loss: mean_squared_error \n",
      "and Reduction Metric: [<function custom_mae at 0x0000021D2788ACA8>]\n",
      "Monitor: val_custom_mae\n",
      "Train on 16000 samples, validate on 4000 samples\n",
      "15840/16000 [============================>.] - ETA: 0s - loss: 103.8401 - custom_mae: 2.6453\n",
      "Epoch 00001: val_custom_mae improved from inf to 0.46080, saving model to ..\\fast_output\\SYNTH_Regression_MSE\\2020-05-28_Normalized_Base_Custom-MAE\\Best_Weights_FC_8.hdf5\n",
      "16000/16000 [==============================] - 5s 297us/sample - loss: 102.8145 - custom_mae: 2.6278 - val_loss: 0.3013 - val_custom_mae: 0.4608\n",
      "Time taken: 0:00:06.411318\n"
     ]
    },
    {
     "name": "stderr",
     "output_type": "stream",
     "text": [
      "\r",
      "  2%|██                                                                                | 9/360 [01:17<49:26,  8.45s/it]"
     ]
    },
    {
     "name": "stdout",
     "output_type": "stream",
     "text": [
      "{'activation': 'leakyrelu', 'batch_size': 32, 'dropout': 0.25, 'epochs': 1, 'first_neuron': 1024, 'hidden_layers': 3, 'label_type': 'Normalized', 'loss_function': 'mean_squared_error', 'lr': 1, 'monitor_value': 'val_custom_mae', 'optimizer': <class 'tensorflow.python.keras.optimizer_v2.adam.Adam'>, 'reduction_metric': 'custom_mae', 'samples': 20000}\n",
      "Using Loss: mean_squared_error \n",
      "and Reduction Metric: [<function custom_mae at 0x0000021D2788ACA8>]\n",
      "Monitor: val_custom_mae\n",
      "Train on 16000 samples, validate on 4000 samples\n",
      "15712/16000 [============================>.] - ETA: 0s - loss: 0.5730 - custom_mae: 0.4954\n",
      "Epoch 00001: val_custom_mae improved from inf to 0.33309, saving model to ..\\fast_output\\SYNTH_Regression_MSE\\2020-05-28_Normalized_Base_Custom-MAE\\Best_Weights_FC_9.hdf5\n",
      "16000/16000 [==============================] - 5s 302us/sample - loss: 0.5659 - custom_mae: 0.4925 - val_loss: 0.1817 - val_custom_mae: 0.3331\n",
      "Time taken: 0:00:06.507724\n"
     ]
    },
    {
     "name": "stderr",
     "output_type": "stream",
     "text": [
      "\r",
      "  3%|██▎                                                                              | 10/360 [01:25<49:05,  8.42s/it]"
     ]
    },
    {
     "name": "stdout",
     "output_type": "stream",
     "text": [
      "{'activation': 'leakyrelu', 'batch_size': 32, 'dropout': 0.25, 'epochs': 1, 'first_neuron': 1024, 'hidden_layers': 3, 'label_type': 'Normalized', 'loss_function': 'mean_squared_error', 'lr': 2, 'monitor_value': 'val_custom_mae', 'optimizer': <class 'tensorflow.python.keras.optimizer_v2.adam.Adam'>, 'reduction_metric': 'custom_mae', 'samples': 20000}\n",
      "Using Loss: mean_squared_error \n",
      "and Reduction Metric: [<function custom_mae at 0x0000021D2788ACA8>]\n",
      "Monitor: val_custom_mae\n",
      "Train on 16000 samples, validate on 4000 samples\n",
      "15968/16000 [============================>.] - ETA: 0s - loss: 1.7216 - custom_mae: 0.6584\n",
      "Epoch 00001: val_custom_mae improved from inf to 0.40126, saving model to ..\\fast_output\\SYNTH_Regression_MSE\\2020-05-28_Normalized_Base_Custom-MAE\\Best_Weights_FC_10.hdf5\n",
      "16000/16000 [==============================] - 5s 302us/sample - loss: 1.7187 - custom_mae: 0.6579 - val_loss: 0.2342 - val_custom_mae: 0.4013\n",
      "Time taken: 0:00:06.504540\n"
     ]
    },
    {
     "name": "stderr",
     "output_type": "stream",
     "text": [
      "\r",
      "  3%|██▍                                                                              | 11/360 [01:34<48:45,  8.38s/it]"
     ]
    },
    {
     "name": "stdout",
     "output_type": "stream",
     "text": [
      "{'activation': 'leakyrelu', 'batch_size': 32, 'dropout': 0.25, 'epochs': 1, 'first_neuron': 1024, 'hidden_layers': 3, 'label_type': 'Normalized', 'loss_function': 'mean_squared_error', 'lr': 5, 'monitor_value': 'val_custom_mae', 'optimizer': <class 'tensorflow.python.keras.optimizer_v2.adam.Adam'>, 'reduction_metric': 'custom_mae', 'samples': 20000}\n",
      "Using Loss: mean_squared_error \n",
      "and Reduction Metric: [<function custom_mae at 0x0000021D2788ACA8>]\n",
      "Monitor: val_custom_mae\n",
      "Train on 16000 samples, validate on 4000 samples\n",
      "15968/16000 [============================>.] - ETA: 0s - loss: 29.5180 - custom_mae: 1.6050\n",
      "Epoch 00001: val_custom_mae improved from inf to 0.48288, saving model to ..\\fast_output\\SYNTH_Regression_MSE\\2020-05-28_Normalized_Base_Custom-MAE\\Best_Weights_FC_11.hdf5\n",
      "16000/16000 [==============================] - 5s 301us/sample - loss: 29.4601 - custom_mae: 1.6030 - val_loss: 0.3172 - val_custom_mae: 0.4829\n",
      "Time taken: 0:00:06.486602\n"
     ]
    },
    {
     "name": "stderr",
     "output_type": "stream",
     "text": [
      "\r",
      "  3%|██▋                                                                              | 12/360 [01:42<48:27,  8.36s/it]"
     ]
    },
    {
     "name": "stdout",
     "output_type": "stream",
     "text": [
      "{'activation': 'leakyrelu', 'batch_size': 32, 'dropout': 0.25, 'epochs': 1, 'first_neuron': 1024, 'hidden_layers': 4, 'label_type': 'Normalized', 'loss_function': 'mean_squared_error', 'lr': 1, 'monitor_value': 'val_custom_mae', 'optimizer': <class 'tensorflow.python.keras.optimizer_v2.adam.Adam'>, 'reduction_metric': 'custom_mae', 'samples': 20000}\n",
      "Using Loss: mean_squared_error \n",
      "and Reduction Metric: [<function custom_mae at 0x0000021D2788ACA8>]\n",
      "Monitor: val_custom_mae\n",
      "Train on 16000 samples, validate on 4000 samples\n",
      "15872/16000 [============================>.] - ETA: 0s - loss: 0.3997 - custom_mae: 0.4722\n",
      "Epoch 00001: val_custom_mae improved from inf to 0.32086, saving model to ..\\fast_output\\SYNTH_Regression_MSE\\2020-05-28_Normalized_Base_Custom-MAE\\Best_Weights_FC_12.hdf5\n",
      "16000/16000 [==============================] - 5s 307us/sample - loss: 0.3980 - custom_mae: 0.4712 - val_loss: 0.1737 - val_custom_mae: 0.3209\n",
      "Time taken: 0:00:06.571348\n"
     ]
    },
    {
     "name": "stderr",
     "output_type": "stream",
     "text": [
      "\r",
      "  4%|██▉                                                                              | 13/360 [01:50<48:26,  8.38s/it]"
     ]
    },
    {
     "name": "stdout",
     "output_type": "stream",
     "text": [
      "{'activation': 'leakyrelu', 'batch_size': 32, 'dropout': 0.25, 'epochs': 1, 'first_neuron': 1024, 'hidden_layers': 4, 'label_type': 'Normalized', 'loss_function': 'mean_squared_error', 'lr': 2, 'monitor_value': 'val_custom_mae', 'optimizer': <class 'tensorflow.python.keras.optimizer_v2.adam.Adam'>, 'reduction_metric': 'custom_mae', 'samples': 20000}\n",
      "Using Loss: mean_squared_error \n",
      "and Reduction Metric: [<function custom_mae at 0x0000021D2788ACA8>]\n",
      "Monitor: val_custom_mae\n",
      "Train on 16000 samples, validate on 4000 samples\n",
      "15776/16000 [============================>.] - ETA: 0s - loss: 0.8354 - custom_mae: 0.5863\n",
      "Epoch 00001: val_custom_mae improved from inf to 0.41780, saving model to ..\\fast_output\\SYNTH_Regression_MSE\\2020-05-28_Normalized_Base_Custom-MAE\\Best_Weights_FC_13.hdf5\n",
      "16000/16000 [==============================] - 5s 313us/sample - loss: 0.8275 - custom_mae: 0.5841 - val_loss: 0.2496 - val_custom_mae: 0.4178\n",
      "Time taken: 0:00:06.690512\n"
     ]
    },
    {
     "name": "stderr",
     "output_type": "stream",
     "text": [
      "\r",
      "  4%|███▏                                                                             | 14/360 [01:59<48:35,  8.42s/it]"
     ]
    },
    {
     "name": "stdout",
     "output_type": "stream",
     "text": [
      "{'activation': 'leakyrelu', 'batch_size': 32, 'dropout': 0.25, 'epochs': 1, 'first_neuron': 1024, 'hidden_layers': 4, 'label_type': 'Normalized', 'loss_function': 'mean_squared_error', 'lr': 5, 'monitor_value': 'val_custom_mae', 'optimizer': <class 'tensorflow.python.keras.optimizer_v2.adam.Adam'>, 'reduction_metric': 'custom_mae', 'samples': 20000}\n",
      "Using Loss: mean_squared_error \n",
      "and Reduction Metric: [<function custom_mae at 0x0000021D2788ACA8>]\n",
      "Monitor: val_custom_mae\n",
      "Train on 16000 samples, validate on 4000 samples\n",
      "15968/16000 [============================>.] - ETA: 0s - loss: 8.1459 - custom_mae: 0.9886\n",
      "Epoch 00001: val_custom_mae improved from inf to 0.48270, saving model to ..\\fast_output\\SYNTH_Regression_MSE\\2020-05-28_Normalized_Base_Custom-MAE\\Best_Weights_FC_14.hdf5\n",
      "16000/16000 [==============================] - 5s 311us/sample - loss: 8.1303 - custom_mae: 0.9877 - val_loss: 0.3123 - val_custom_mae: 0.4827\n",
      "Time taken: 0:00:06.650960\n"
     ]
    },
    {
     "name": "stderr",
     "output_type": "stream",
     "text": [
      "\r",
      "  4%|███▍                                                                             | 15/360 [02:07<48:34,  8.45s/it]"
     ]
    },
    {
     "name": "stdout",
     "output_type": "stream",
     "text": [
      "{'activation': 'leakyrelu', 'batch_size': 32, 'dropout': 0.25, 'epochs': 1, 'first_neuron': 2048, 'hidden_layers': 0, 'label_type': 'Normalized', 'loss_function': 'mean_squared_error', 'lr': 1, 'monitor_value': 'val_custom_mae', 'optimizer': <class 'tensorflow.python.keras.optimizer_v2.adam.Adam'>, 'reduction_metric': 'custom_mae', 'samples': 20000}\n",
      "Using Loss: mean_squared_error \n",
      "and Reduction Metric: [<function custom_mae at 0x0000021D2788ACA8>]\n",
      "Monitor: val_custom_mae\n",
      "Train on 16000 samples, validate on 4000 samples\n",
      "15936/16000 [============================>.] - ETA: 0s - loss: 13.9018 - custom_mae: 1.1503\n",
      "Epoch 00001: val_custom_mae improved from inf to 0.30615, saving model to ..\\fast_output\\SYNTH_Regression_MSE\\2020-05-28_Normalized_Base_Custom-MAE\\Best_Weights_FC_15.hdf5\n",
      "16000/16000 [==============================] - 7s 431us/sample - loss: 13.8508 - custom_mae: 1.1492 - val_loss: 0.1591 - val_custom_mae: 0.3061\n",
      "Time taken: 0:00:08.562397\n"
     ]
    },
    {
     "name": "stderr",
     "output_type": "stream",
     "text": [
      "\r",
      "  4%|███▌                                                                             | 16/360 [02:18<51:43,  9.02s/it]"
     ]
    },
    {
     "name": "stdout",
     "output_type": "stream",
     "text": [
      "{'activation': 'leakyrelu', 'batch_size': 32, 'dropout': 0.25, 'epochs': 1, 'first_neuron': 2048, 'hidden_layers': 0, 'label_type': 'Normalized', 'loss_function': 'mean_squared_error', 'lr': 2, 'monitor_value': 'val_custom_mae', 'optimizer': <class 'tensorflow.python.keras.optimizer_v2.adam.Adam'>, 'reduction_metric': 'custom_mae', 'samples': 20000}\n",
      "Using Loss: mean_squared_error \n",
      "and Reduction Metric: [<function custom_mae at 0x0000021D2788ACA8>]\n",
      "Monitor: val_custom_mae\n",
      "Train on 16000 samples, validate on 4000 samples\n",
      "15936/16000 [============================>.] - ETA: 0s - loss: 52.2705 - custom_mae: 2.0644\n",
      "Epoch 00001: val_custom_mae improved from inf to 0.84308, saving model to ..\\fast_output\\SYNTH_Regression_MSE\\2020-05-28_Normalized_Base_Custom-MAE\\Best_Weights_FC_16.hdf5\n",
      "16000/16000 [==============================] - 7s 430us/sample - loss: 52.0709 - custom_mae: 2.0610 - val_loss: 0.8655 - val_custom_mae: 0.8431\n",
      "Time taken: 0:00:08.552535\n"
     ]
    },
    {
     "name": "stderr",
     "output_type": "stream",
     "text": [
      "\r",
      "  5%|███▊                                                                             | 17/360 [02:28<53:44,  9.40s/it]"
     ]
    },
    {
     "name": "stdout",
     "output_type": "stream",
     "text": [
      "{'activation': 'leakyrelu', 'batch_size': 32, 'dropout': 0.25, 'epochs': 1, 'first_neuron': 2048, 'hidden_layers': 0, 'label_type': 'Normalized', 'loss_function': 'mean_squared_error', 'lr': 5, 'monitor_value': 'val_custom_mae', 'optimizer': <class 'tensorflow.python.keras.optimizer_v2.adam.Adam'>, 'reduction_metric': 'custom_mae', 'samples': 20000}\n",
      "Using Loss: mean_squared_error \n",
      "and Reduction Metric: [<function custom_mae at 0x0000021D2788ACA8>]\n",
      "Monitor: val_custom_mae\n",
      "Train on 16000 samples, validate on 4000 samples\n",
      "15904/16000 [============================>.] - ETA: 0s - loss: 325.9187 - custom_mae: 4.6401\n",
      "Epoch 00001: val_custom_mae improved from inf to 0.70978, saving model to ..\\fast_output\\SYNTH_Regression_MSE\\2020-05-28_Normalized_Base_Custom-MAE\\Best_Weights_FC_17.hdf5\n",
      "16000/16000 [==============================] - 7s 429us/sample - loss: 323.9886 - custom_mae: 4.6221 - val_loss: 0.6995 - val_custom_mae: 0.7098\n",
      "Time taken: 0:00:08.543168\n"
     ]
    },
    {
     "name": "stderr",
     "output_type": "stream",
     "text": [
      "\r",
      "  5%|████                                                                             | 18/360 [02:38<55:06,  9.67s/it]"
     ]
    },
    {
     "name": "stdout",
     "output_type": "stream",
     "text": [
      "{'activation': 'leakyrelu', 'batch_size': 32, 'dropout': 0.25, 'epochs': 1, 'first_neuron': 2048, 'hidden_layers': 1, 'label_type': 'Normalized', 'loss_function': 'mean_squared_error', 'lr': 1, 'monitor_value': 'val_custom_mae', 'optimizer': <class 'tensorflow.python.keras.optimizer_v2.adam.Adam'>, 'reduction_metric': 'custom_mae', 'samples': 20000}\n",
      "Using Loss: mean_squared_error \n",
      "and Reduction Metric: [<function custom_mae at 0x0000021D2788ACA8>]\n",
      "Monitor: val_custom_mae\n",
      "Train on 16000 samples, validate on 4000 samples\n",
      "15904/16000 [============================>.] - ETA: 0s - loss: 7.3290 - custom_mae: 0.9302\n",
      "Epoch 00001: val_custom_mae improved from inf to 0.30271, saving model to ..\\fast_output\\SYNTH_Regression_MSE\\2020-05-28_Normalized_Base_Custom-MAE\\Best_Weights_FC_18.hdf5\n",
      "16000/16000 [==============================] - 7s 447us/sample - loss: 7.2869 - custom_mae: 0.9272 - val_loss: 0.1540 - val_custom_mae: 0.3027\n",
      "Time taken: 0:00:08.823335\n"
     ]
    },
    {
     "name": "stderr",
     "output_type": "stream",
     "text": [
      "\r",
      "  5%|████▎                                                                            | 19/360 [02:49<56:30,  9.94s/it]"
     ]
    },
    {
     "name": "stdout",
     "output_type": "stream",
     "text": [
      "{'activation': 'leakyrelu', 'batch_size': 32, 'dropout': 0.25, 'epochs': 1, 'first_neuron': 2048, 'hidden_layers': 1, 'label_type': 'Normalized', 'loss_function': 'mean_squared_error', 'lr': 2, 'monitor_value': 'val_custom_mae', 'optimizer': <class 'tensorflow.python.keras.optimizer_v2.adam.Adam'>, 'reduction_metric': 'custom_mae', 'samples': 20000}\n",
      "Using Loss: mean_squared_error \n",
      "and Reduction Metric: [<function custom_mae at 0x0000021D2788ACA8>]\n",
      "Monitor: val_custom_mae\n",
      "Train on 16000 samples, validate on 4000 samples\n",
      "15776/16000 [============================>.] - ETA: 0s - loss: 70.2218 - custom_mae: 1.9693\n",
      "Epoch 00001: val_custom_mae improved from inf to 0.34709, saving model to ..\\fast_output\\SYNTH_Regression_MSE\\2020-05-28_Normalized_Base_Custom-MAE\\Best_Weights_FC_19.hdf5\n",
      "16000/16000 [==============================] - 7s 448us/sample - loss: 69.2517 - custom_mae: 1.9524 - val_loss: 0.1996 - val_custom_mae: 0.3471\n",
      "Time taken: 0:00:08.837356\n"
     ]
    },
    {
     "name": "stderr",
     "output_type": "stream",
     "text": [
      "\r",
      "  6%|████▌                                                                            | 20/360 [02:59<57:29, 10.14s/it]"
     ]
    },
    {
     "name": "stdout",
     "output_type": "stream",
     "text": [
      "{'activation': 'leakyrelu', 'batch_size': 32, 'dropout': 0.25, 'epochs': 1, 'first_neuron': 2048, 'hidden_layers': 1, 'label_type': 'Normalized', 'loss_function': 'mean_squared_error', 'lr': 5, 'monitor_value': 'val_custom_mae', 'optimizer': <class 'tensorflow.python.keras.optimizer_v2.adam.Adam'>, 'reduction_metric': 'custom_mae', 'samples': 20000}\n",
      "Using Loss: mean_squared_error \n",
      "and Reduction Metric: [<function custom_mae at 0x0000021D2788ACA8>]\n",
      "Monitor: val_custom_mae\n",
      "Train on 16000 samples, validate on 4000 samples\n",
      "15872/16000 [============================>.] - ETA: 0s - loss: 2770.0019 - custom_mae: 11.0511\n",
      "Epoch 00001: val_custom_mae improved from inf to 2.71177, saving model to ..\\fast_output\\SYNTH_Regression_MSE\\2020-05-28_Normalized_Base_Custom-MAE\\Best_Weights_FC_20.hdf5\n",
      "16000/16000 [==============================] - 7s 447us/sample - loss: 2747.9942 - custom_mae: 10.9904 - val_loss: 12.5531 - val_custom_mae: 2.7118\n",
      "Time taken: 0:00:08.811711\n"
     ]
    },
    {
     "name": "stderr",
     "output_type": "stream",
     "text": [
      "\r",
      "  6%|████▋                                                                            | 21/360 [03:10<58:06, 10.28s/it]"
     ]
    },
    {
     "name": "stdout",
     "output_type": "stream",
     "text": [
      "{'activation': 'leakyrelu', 'batch_size': 32, 'dropout': 0.25, 'epochs': 1, 'first_neuron': 2048, 'hidden_layers': 2, 'label_type': 'Normalized', 'loss_function': 'mean_squared_error', 'lr': 1, 'monitor_value': 'val_custom_mae', 'optimizer': <class 'tensorflow.python.keras.optimizer_v2.adam.Adam'>, 'reduction_metric': 'custom_mae', 'samples': 20000}\n",
      "Using Loss: mean_squared_error \n",
      "and Reduction Metric: [<function custom_mae at 0x0000021D2788ACA8>]\n",
      "Monitor: val_custom_mae\n",
      "Train on 16000 samples, validate on 4000 samples\n",
      "15936/16000 [============================>.] - ETA: 0s - loss: 2.9088 - custom_mae: 0.6679\n",
      "Epoch 00001: val_custom_mae improved from inf to 0.32227, saving model to ..\\fast_output\\SYNTH_Regression_MSE\\2020-05-28_Normalized_Base_Custom-MAE\\Best_Weights_FC_21.hdf5\n",
      "16000/16000 [==============================] - 7s 459us/sample - loss: 2.8980 - custom_mae: 0.6667 - val_loss: 0.1711 - val_custom_mae: 0.3223\n",
      "Time taken: 0:00:09.023164\n"
     ]
    },
    {
     "name": "stderr",
     "output_type": "stream",
     "text": [
      "\r",
      "  6%|████▉                                                                            | 22/360 [03:21<58:50, 10.44s/it]"
     ]
    },
    {
     "name": "stdout",
     "output_type": "stream",
     "text": [
      "{'activation': 'leakyrelu', 'batch_size': 32, 'dropout': 0.25, 'epochs': 1, 'first_neuron': 2048, 'hidden_layers': 2, 'label_type': 'Normalized', 'loss_function': 'mean_squared_error', 'lr': 2, 'monitor_value': 'val_custom_mae', 'optimizer': <class 'tensorflow.python.keras.optimizer_v2.adam.Adam'>, 'reduction_metric': 'custom_mae', 'samples': 20000}\n",
      "Using Loss: mean_squared_error \n",
      "and Reduction Metric: [<function custom_mae at 0x0000021D2788ACA8>]\n",
      "Monitor: val_custom_mae\n",
      "Train on 16000 samples, validate on 4000 samples\n",
      "15776/16000 [============================>.] - ETA: 0s - loss: 25.8243 - custom_mae: 1.3500\n",
      "Epoch 00001: val_custom_mae improved from inf to 0.44950, saving model to ..\\fast_output\\SYNTH_Regression_MSE\\2020-05-28_Normalized_Base_Custom-MAE\\Best_Weights_FC_22.hdf5\n",
      "16000/16000 [==============================] - 7s 461us/sample - loss: 25.4696 - custom_mae: 1.3388 - val_loss: 0.3036 - val_custom_mae: 0.4495\n",
      "Time taken: 0:00:09.045763\n"
     ]
    },
    {
     "name": "stderr",
     "output_type": "stream",
     "text": [
      "\r",
      "  6%|█████▏                                                                           | 23/360 [03:32<59:20, 10.57s/it]"
     ]
    },
    {
     "name": "stdout",
     "output_type": "stream",
     "text": [
      "{'activation': 'leakyrelu', 'batch_size': 32, 'dropout': 0.25, 'epochs': 1, 'first_neuron': 2048, 'hidden_layers': 2, 'label_type': 'Normalized', 'loss_function': 'mean_squared_error', 'lr': 5, 'monitor_value': 'val_custom_mae', 'optimizer': <class 'tensorflow.python.keras.optimizer_v2.adam.Adam'>, 'reduction_metric': 'custom_mae', 'samples': 20000}\n",
      "Using Loss: mean_squared_error \n",
      "and Reduction Metric: [<function custom_mae at 0x0000021D2788ACA8>]\n",
      "Monitor: val_custom_mae\n",
      "Train on 16000 samples, validate on 4000 samples\n",
      "15904/16000 [============================>.] - ETA: 0s - loss: 13391.4101 - custom_mae: 25.5581\n",
      "Epoch 00001: val_custom_mae improved from inf to 7.21649, saving model to ..\\fast_output\\SYNTH_Regression_MSE\\2020-05-28_Normalized_Base_Custom-MAE\\Best_Weights_FC_23.hdf5\n",
      "16000/16000 [==============================] - 7s 462us/sample - loss: 13311.5925 - custom_mae: 25.4509 - val_loss: 53.2254 - val_custom_mae: 7.2165\n",
      "Time taken: 0:00:09.059424\n"
     ]
    },
    {
     "name": "stderr",
     "output_type": "stream",
     "text": [
      "\r",
      "  7%|█████▍                                                                           | 24/360 [03:43<59:39, 10.65s/it]"
     ]
    },
    {
     "name": "stdout",
     "output_type": "stream",
     "text": [
      "{'activation': 'leakyrelu', 'batch_size': 32, 'dropout': 0.25, 'epochs': 1, 'first_neuron': 2048, 'hidden_layers': 3, 'label_type': 'Normalized', 'loss_function': 'mean_squared_error', 'lr': 1, 'monitor_value': 'val_custom_mae', 'optimizer': <class 'tensorflow.python.keras.optimizer_v2.adam.Adam'>, 'reduction_metric': 'custom_mae', 'samples': 20000}\n",
      "Using Loss: mean_squared_error \n",
      "and Reduction Metric: [<function custom_mae at 0x0000021D2788ACA8>]\n",
      "Monitor: val_custom_mae\n",
      "Train on 16000 samples, validate on 4000 samples\n",
      "15872/16000 [============================>.] - ETA: 0s - loss: 1.1720 - custom_mae: 0.5779\n",
      "Epoch 00001: val_custom_mae improved from inf to 0.30323, saving model to ..\\fast_output\\SYNTH_Regression_MSE\\2020-05-28_Normalized_Base_Custom-MAE\\Best_Weights_FC_24.hdf5\n",
      "16000/16000 [==============================] - 7s 462us/sample - loss: 1.1639 - custom_mae: 0.5758 - val_loss: 0.1573 - val_custom_mae: 0.3032\n",
      "Time taken: 0:00:09.027244\n"
     ]
    },
    {
     "name": "stderr",
     "output_type": "stream",
     "text": [
      "\r",
      "  7%|█████▋                                                                           | 25/360 [03:53<59:50, 10.72s/it]"
     ]
    },
    {
     "name": "stdout",
     "output_type": "stream",
     "text": [
      "{'activation': 'leakyrelu', 'batch_size': 32, 'dropout': 0.25, 'epochs': 1, 'first_neuron': 2048, 'hidden_layers': 3, 'label_type': 'Normalized', 'loss_function': 'mean_squared_error', 'lr': 2, 'monitor_value': 'val_custom_mae', 'optimizer': <class 'tensorflow.python.keras.optimizer_v2.adam.Adam'>, 'reduction_metric': 'custom_mae', 'samples': 20000}\n",
      "Using Loss: mean_squared_error \n",
      "and Reduction Metric: [<function custom_mae at 0x0000021D2788ACA8>]\n",
      "Monitor: val_custom_mae\n",
      "Train on 16000 samples, validate on 4000 samples\n",
      "15936/16000 [============================>.] - ETA: 0s - loss: 7.3471 - custom_mae: 0.9456\n",
      "Epoch 00001: val_custom_mae improved from inf to 0.44607, saving model to ..\\fast_output\\SYNTH_Regression_MSE\\2020-05-28_Normalized_Base_Custom-MAE\\Best_Weights_FC_25.hdf5\n",
      "16000/16000 [==============================] - 7s 463us/sample - loss: 7.3191 - custom_mae: 0.9438 - val_loss: 0.2772 - val_custom_mae: 0.4461\n",
      "Time taken: 0:00:09.080245\n"
     ]
    },
    {
     "name": "stderr",
     "output_type": "stream",
     "text": [
      "\r",
      "  7%|█████▊                                                                           | 26/360 [04:04<59:58, 10.78s/it]"
     ]
    },
    {
     "name": "stdout",
     "output_type": "stream",
     "text": [
      "{'activation': 'leakyrelu', 'batch_size': 32, 'dropout': 0.25, 'epochs': 1, 'first_neuron': 2048, 'hidden_layers': 3, 'label_type': 'Normalized', 'loss_function': 'mean_squared_error', 'lr': 5, 'monitor_value': 'val_custom_mae', 'optimizer': <class 'tensorflow.python.keras.optimizer_v2.adam.Adam'>, 'reduction_metric': 'custom_mae', 'samples': 20000}\n",
      "Using Loss: mean_squared_error \n",
      "and Reduction Metric: [<function custom_mae at 0x0000021D2788ACA8>]\n",
      "Monitor: val_custom_mae\n",
      "Train on 16000 samples, validate on 4000 samples\n",
      "15808/16000 [============================>.] - ETA: 0s - loss: 2057.1068 - custom_mae: 8.0566\n",
      "Epoch 00001: val_custom_mae improved from inf to 0.73077, saving model to ..\\fast_output\\SYNTH_Regression_MSE\\2020-05-28_Normalized_Base_Custom-MAE\\Best_Weights_FC_26.hdf5\n",
      "16000/16000 [==============================] - 7s 468us/sample - loss: 2032.5000 - custom_mae: 7.9846 - val_loss: 0.8041 - val_custom_mae: 0.7308\n",
      "Time taken: 0:00:09.145818\n"
     ]
    },
    {
     "name": "stderr",
     "output_type": "stream",
     "text": [
      "\r",
      "  8%|█████▉                                                                         | 27/360 [04:15<1:00:08, 10.84s/it]"
     ]
    },
    {
     "name": "stdout",
     "output_type": "stream",
     "text": [
      "{'activation': 'leakyrelu', 'batch_size': 32, 'dropout': 0.25, 'epochs': 1, 'first_neuron': 2048, 'hidden_layers': 4, 'label_type': 'Normalized', 'loss_function': 'mean_squared_error', 'lr': 1, 'monitor_value': 'val_custom_mae', 'optimizer': <class 'tensorflow.python.keras.optimizer_v2.adam.Adam'>, 'reduction_metric': 'custom_mae', 'samples': 20000}\n",
      "Using Loss: mean_squared_error \n",
      "and Reduction Metric: [<function custom_mae at 0x0000021D2788ACA8>]\n",
      "Monitor: val_custom_mae\n",
      "Train on 16000 samples, validate on 4000 samples\n",
      "15936/16000 [============================>.] - ETA: 0s - loss: 0.6030 - custom_mae: 0.5098\n",
      "Epoch 00001: val_custom_mae improved from inf to 0.34588, saving model to ..\\fast_output\\SYNTH_Regression_MSE\\2020-05-28_Normalized_Base_Custom-MAE\\Best_Weights_FC_27.hdf5\n",
      "16000/16000 [==============================] - 8s 470us/sample - loss: 0.6014 - custom_mae: 0.5091 - val_loss: 0.1913 - val_custom_mae: 0.3459\n",
      "Time taken: 0:00:09.191972\n"
     ]
    },
    {
     "name": "stderr",
     "output_type": "stream",
     "text": [
      "\r",
      "  8%|██████▏                                                                        | 28/360 [04:26<1:00:23, 10.91s/it]"
     ]
    },
    {
     "name": "stdout",
     "output_type": "stream",
     "text": [
      "{'activation': 'leakyrelu', 'batch_size': 32, 'dropout': 0.25, 'epochs': 1, 'first_neuron': 2048, 'hidden_layers': 4, 'label_type': 'Normalized', 'loss_function': 'mean_squared_error', 'lr': 2, 'monitor_value': 'val_custom_mae', 'optimizer': <class 'tensorflow.python.keras.optimizer_v2.adam.Adam'>, 'reduction_metric': 'custom_mae', 'samples': 20000}\n",
      "Using Loss: mean_squared_error \n",
      "and Reduction Metric: [<function custom_mae at 0x0000021D2788ACA8>]\n",
      "Monitor: val_custom_mae\n",
      "Train on 16000 samples, validate on 4000 samples\n",
      "15968/16000 [============================>.] - ETA: 0s - loss: 3.0021 - custom_mae: 0.7558\n",
      "Epoch 00001: val_custom_mae improved from inf to 0.43360, saving model to ..\\fast_output\\SYNTH_Regression_MSE\\2020-05-28_Normalized_Base_Custom-MAE\\Best_Weights_FC_28.hdf5\n",
      "16000/16000 [==============================] - 8s 473us/sample - loss: 2.9968 - custom_mae: 0.7552 - val_loss: 0.2600 - val_custom_mae: 0.4336\n",
      "Time taken: 0:00:09.237780\n"
     ]
    },
    {
     "name": "stderr",
     "output_type": "stream",
     "text": [
      "\r",
      "  8%|██████▎                                                                        | 29/360 [04:38<1:00:30, 10.97s/it]"
     ]
    },
    {
     "name": "stdout",
     "output_type": "stream",
     "text": [
      "{'activation': 'leakyrelu', 'batch_size': 32, 'dropout': 0.25, 'epochs': 1, 'first_neuron': 2048, 'hidden_layers': 4, 'label_type': 'Normalized', 'loss_function': 'mean_squared_error', 'lr': 5, 'monitor_value': 'val_custom_mae', 'optimizer': <class 'tensorflow.python.keras.optimizer_v2.adam.Adam'>, 'reduction_metric': 'custom_mae', 'samples': 20000}\n",
      "Using Loss: mean_squared_error \n",
      "and Reduction Metric: [<function custom_mae at 0x0000021D2788ACA8>]\n",
      "Monitor: val_custom_mae\n",
      "Train on 16000 samples, validate on 4000 samples\n",
      "15776/16000 [============================>.] - ETA: 0s - loss: 940.3744 - custom_mae: 7.9770\n",
      "Epoch 00001: val_custom_mae improved from inf to 0.53094, saving model to ..\\fast_output\\SYNTH_Regression_MSE\\2020-05-28_Normalized_Base_Custom-MAE\\Best_Weights_FC_29.hdf5\n",
      "16000/16000 [==============================] - 8s 472us/sample - loss: 927.2782 - custom_mae: 7.8889 - val_loss: 0.4010 - val_custom_mae: 0.5309\n",
      "Time taken: 0:00:09.236717\n"
     ]
    },
    {
     "name": "stderr",
     "output_type": "stream",
     "text": [
      "\r",
      "  8%|██████▌                                                                        | 30/360 [04:49<1:00:36, 11.02s/it]"
     ]
    },
    {
     "name": "stdout",
     "output_type": "stream",
     "text": [
      "{'activation': 'leakyrelu', 'batch_size': 32, 'dropout': 0.25, 'epochs': 1, 'first_neuron': 4096, 'hidden_layers': 0, 'label_type': 'Normalized', 'loss_function': 'mean_squared_error', 'lr': 1, 'monitor_value': 'val_custom_mae', 'optimizer': <class 'tensorflow.python.keras.optimizer_v2.adam.Adam'>, 'reduction_metric': 'custom_mae', 'samples': 20000}\n",
      "Using Loss: mean_squared_error \n",
      "and Reduction Metric: [<function custom_mae at 0x0000021D2788ACA8>]\n",
      "Monitor: val_custom_mae\n",
      "Train on 16000 samples, validate on 4000 samples\n",
      "15872/16000 [============================>.] - ETA: 0s - loss: 25.0097 - custom_mae: 1.3104\n",
      "Epoch 00001: val_custom_mae improved from inf to 0.54215, saving model to ..\\fast_output\\SYNTH_Regression_MSE\\2020-05-28_Normalized_Base_Custom-MAE\\Best_Weights_FC_30.hdf5\n",
      "16000/16000 [==============================] - 12s 745us/sample - loss: 24.8211 - custom_mae: 1.3075 - val_loss: 0.4183 - val_custom_mae: 0.5422\n",
      "Time taken: 0:00:13.580112\n"
     ]
    },
    {
     "name": "stderr",
     "output_type": "stream",
     "text": [
      "\r",
      "  9%|██████▊                                                                        | 31/360 [05:04<1:07:32, 12.32s/it]"
     ]
    },
    {
     "name": "stdout",
     "output_type": "stream",
     "text": [
      "{'activation': 'leakyrelu', 'batch_size': 32, 'dropout': 0.25, 'epochs': 1, 'first_neuron': 4096, 'hidden_layers': 0, 'label_type': 'Normalized', 'loss_function': 'mean_squared_error', 'lr': 2, 'monitor_value': 'val_custom_mae', 'optimizer': <class 'tensorflow.python.keras.optimizer_v2.adam.Adam'>, 'reduction_metric': 'custom_mae', 'samples': 20000}\n",
      "Using Loss: mean_squared_error \n",
      "and Reduction Metric: [<function custom_mae at 0x0000021D2788ACA8>]\n",
      "Monitor: val_custom_mae\n",
      "Train on 16000 samples, validate on 4000 samples\n",
      "15872/16000 [============================>.] - ETA: 0s - loss: 98.6766 - custom_mae: 2.4648\n",
      "Epoch 00001: val_custom_mae improved from inf to 1.05587, saving model to ..\\fast_output\\SYNTH_Regression_MSE\\2020-05-28_Normalized_Base_Custom-MAE\\Best_Weights_FC_31.hdf5\n",
      "16000/16000 [==============================] - 12s 753us/sample - loss: 97.9174 - custom_mae: 2.4569 - val_loss: 1.7328 - val_custom_mae: 1.0559\n",
      "Time taken: 0:00:13.742603\n"
     ]
    },
    {
     "name": "stderr",
     "output_type": "stream",
     "text": [
      "\r",
      "  9%|███████                                                                        | 32/360 [05:20<1:12:33, 13.27s/it]"
     ]
    },
    {
     "name": "stdout",
     "output_type": "stream",
     "text": [
      "{'activation': 'leakyrelu', 'batch_size': 32, 'dropout': 0.25, 'epochs': 1, 'first_neuron': 4096, 'hidden_layers': 0, 'label_type': 'Normalized', 'loss_function': 'mean_squared_error', 'lr': 5, 'monitor_value': 'val_custom_mae', 'optimizer': <class 'tensorflow.python.keras.optimizer_v2.adam.Adam'>, 'reduction_metric': 'custom_mae', 'samples': 20000}\n",
      "Using Loss: mean_squared_error \n",
      "and Reduction Metric: [<function custom_mae at 0x0000021D2788ACA8>]\n",
      "Monitor: val_custom_mae\n",
      "Train on 16000 samples, validate on 4000 samples\n",
      "15936/16000 [============================>.] - ETA: 0s - loss: 691.2485 - custom_mae: 6.9544\n",
      "Epoch 00001: val_custom_mae improved from inf to 1.11455, saving model to ..\\fast_output\\SYNTH_Regression_MSE\\2020-05-28_Normalized_Base_Custom-MAE\\Best_Weights_FC_32.hdf5\n",
      "16000/16000 [==============================] - 12s 746us/sample - loss: 688.5420 - custom_mae: 6.9387 - val_loss: 1.9147 - val_custom_mae: 1.1145\n",
      "Time taken: 0:00:13.602699\n"
     ]
    },
    {
     "name": "stderr",
     "output_type": "stream",
     "text": [
      "\r",
      "  9%|███████▏                                                                       | 33/360 [05:35<1:15:46, 13.90s/it]"
     ]
    },
    {
     "name": "stdout",
     "output_type": "stream",
     "text": [
      "{'activation': 'leakyrelu', 'batch_size': 32, 'dropout': 0.25, 'epochs': 1, 'first_neuron': 4096, 'hidden_layers': 1, 'label_type': 'Normalized', 'loss_function': 'mean_squared_error', 'lr': 1, 'monitor_value': 'val_custom_mae', 'optimizer': <class 'tensorflow.python.keras.optimizer_v2.adam.Adam'>, 'reduction_metric': 'custom_mae', 'samples': 20000}\n",
      "Using Loss: mean_squared_error \n",
      "and Reduction Metric: [<function custom_mae at 0x0000021D2788ACA8>]\n",
      "Monitor: val_custom_mae\n",
      "Train on 16000 samples, validate on 4000 samples\n",
      "15968/16000 [============================>.] - ETA: 0s - loss: 39.9135 - custom_mae: 1.2339\n",
      "Epoch 00001: val_custom_mae improved from inf to 0.28190, saving model to ..\\fast_output\\SYNTH_Regression_MSE\\2020-05-28_Normalized_Base_Custom-MAE\\Best_Weights_FC_33.hdf5\n",
      "16000/16000 [==============================] - 13s 798us/sample - loss: 39.8345 - custom_mae: 1.2324 - val_loss: 0.1400 - val_custom_mae: 0.2819\n",
      "Time taken: 0:00:14.466875\n"
     ]
    },
    {
     "name": "stderr",
     "output_type": "stream",
     "text": [
      "\r",
      "  9%|███████▍                                                                       | 34/360 [05:51<1:19:29, 14.63s/it]"
     ]
    },
    {
     "name": "stdout",
     "output_type": "stream",
     "text": [
      "{'activation': 'leakyrelu', 'batch_size': 32, 'dropout': 0.25, 'epochs': 1, 'first_neuron': 4096, 'hidden_layers': 1, 'label_type': 'Normalized', 'loss_function': 'mean_squared_error', 'lr': 2, 'monitor_value': 'val_custom_mae', 'optimizer': <class 'tensorflow.python.keras.optimizer_v2.adam.Adam'>, 'reduction_metric': 'custom_mae', 'samples': 20000}\n",
      "Using Loss: mean_squared_error \n",
      "and Reduction Metric: [<function custom_mae at 0x0000021D2788ACA8>]\n",
      "Monitor: val_custom_mae\n",
      "Train on 16000 samples, validate on 4000 samples\n",
      "15904/16000 [============================>.] - ETA: 0s - loss: 800.0056 - custom_mae: 5.2791\n",
      "Epoch 00001: val_custom_mae improved from inf to 1.54915, saving model to ..\\fast_output\\SYNTH_Regression_MSE\\2020-05-28_Normalized_Base_Custom-MAE\\Best_Weights_FC_34.hdf5\n",
      "16000/16000 [==============================] - 13s 792us/sample - loss: 795.2316 - custom_mae: 5.2575 - val_loss: 3.1461 - val_custom_mae: 1.5491\n",
      "Time taken: 0:00:14.329280\n"
     ]
    },
    {
     "name": "stderr",
     "output_type": "stream",
     "text": [
      "\r",
      " 10%|███████▋                                                                       | 35/360 [06:07<1:21:40, 15.08s/it]"
     ]
    },
    {
     "name": "stdout",
     "output_type": "stream",
     "text": [
      "{'activation': 'leakyrelu', 'batch_size': 32, 'dropout': 0.25, 'epochs': 1, 'first_neuron': 4096, 'hidden_layers': 1, 'label_type': 'Normalized', 'loss_function': 'mean_squared_error', 'lr': 5, 'monitor_value': 'val_custom_mae', 'optimizer': <class 'tensorflow.python.keras.optimizer_v2.adam.Adam'>, 'reduction_metric': 'custom_mae', 'samples': 20000}\n",
      "Using Loss: mean_squared_error \n",
      "and Reduction Metric: [<function custom_mae at 0x0000021D2788ACA8>]\n",
      "Monitor: val_custom_mae\n",
      "Train on 16000 samples, validate on 4000 samples\n",
      "15968/16000 [============================>.] - ETA: 0s - loss: 29624.9491 - custom_mae: 31.8150\n",
      "Epoch 00001: val_custom_mae improved from inf to 2.97771, saving model to ..\\fast_output\\SYNTH_Regression_MSE\\2020-05-28_Normalized_Base_Custom-MAE\\Best_Weights_FC_35.hdf5\n",
      "16000/16000 [==============================] - 13s 791us/sample - loss: 29565.8348 - custom_mae: 31.7650 - val_loss: 13.5785 - val_custom_mae: 2.9777\n",
      "Time taken: 0:00:14.327129\n"
     ]
    },
    {
     "name": "stderr",
     "output_type": "stream",
     "text": [
      "\r",
      " 10%|███████▉                                                                       | 36/360 [06:23<1:23:06, 15.39s/it]"
     ]
    },
    {
     "name": "stdout",
     "output_type": "stream",
     "text": [
      "{'activation': 'leakyrelu', 'batch_size': 32, 'dropout': 0.25, 'epochs': 1, 'first_neuron': 4096, 'hidden_layers': 2, 'label_type': 'Normalized', 'loss_function': 'mean_squared_error', 'lr': 1, 'monitor_value': 'val_custom_mae', 'optimizer': <class 'tensorflow.python.keras.optimizer_v2.adam.Adam'>, 'reduction_metric': 'custom_mae', 'samples': 20000}\n",
      "Using Loss: mean_squared_error \n",
      "and Reduction Metric: [<function custom_mae at 0x0000021D2788ACA8>]\n",
      "Monitor: val_custom_mae\n",
      "Train on 16000 samples, validate on 4000 samples\n",
      "15904/16000 [============================>.] - ETA: 0s - loss: 9.8424 - custom_mae: 0.9924\n",
      "Epoch 00001: val_custom_mae improved from inf to 0.30186, saving model to ..\\fast_output\\SYNTH_Regression_MSE\\2020-05-28_Normalized_Base_Custom-MAE\\Best_Weights_FC_36.hdf5\n",
      "16000/16000 [==============================] - 13s 802us/sample - loss: 9.7849 - custom_mae: 0.9889 - val_loss: 0.1570 - val_custom_mae: 0.3019\n",
      "Time taken: 0:00:14.516788\n"
     ]
    },
    {
     "name": "stderr",
     "output_type": "stream",
     "text": [
      "\r",
      " 10%|████████                                                                       | 37/360 [06:40<1:24:21, 15.67s/it]"
     ]
    },
    {
     "name": "stdout",
     "output_type": "stream",
     "text": [
      "{'activation': 'leakyrelu', 'batch_size': 32, 'dropout': 0.25, 'epochs': 1, 'first_neuron': 4096, 'hidden_layers': 2, 'label_type': 'Normalized', 'loss_function': 'mean_squared_error', 'lr': 2, 'monitor_value': 'val_custom_mae', 'optimizer': <class 'tensorflow.python.keras.optimizer_v2.adam.Adam'>, 'reduction_metric': 'custom_mae', 'samples': 20000}\n",
      "Using Loss: mean_squared_error \n",
      "and Reduction Metric: [<function custom_mae at 0x0000021D2788ACA8>]\n",
      "Monitor: val_custom_mae\n",
      "Train on 16000 samples, validate on 4000 samples\n",
      "15872/16000 [============================>.] - ETA: 0s - loss: 647.5270 - custom_mae: 4.7152\n",
      "Epoch 00001: val_custom_mae improved from inf to 0.78267, saving model to ..\\fast_output\\SYNTH_Regression_MSE\\2020-05-28_Normalized_Base_Custom-MAE\\Best_Weights_FC_37.hdf5\n",
      "16000/16000 [==============================] - 13s 808us/sample - loss: 642.3693 - custom_mae: 4.6880 - val_loss: 0.9117 - val_custom_mae: 0.7827\n",
      "Time taken: 0:00:14.587008\n"
     ]
    },
    {
     "name": "stderr",
     "output_type": "stream",
     "text": [
      "\r",
      " 11%|████████▎                                                                      | 38/360 [06:56<1:25:14, 15.88s/it]"
     ]
    },
    {
     "name": "stdout",
     "output_type": "stream",
     "text": [
      "{'activation': 'leakyrelu', 'batch_size': 32, 'dropout': 0.25, 'epochs': 1, 'first_neuron': 4096, 'hidden_layers': 2, 'label_type': 'Normalized', 'loss_function': 'mean_squared_error', 'lr': 5, 'monitor_value': 'val_custom_mae', 'optimizer': <class 'tensorflow.python.keras.optimizer_v2.adam.Adam'>, 'reduction_metric': 'custom_mae', 'samples': 20000}\n",
      "Using Loss: mean_squared_error \n",
      "and Reduction Metric: [<function custom_mae at 0x0000021D2788ACA8>]\n",
      "Monitor: val_custom_mae\n",
      "Train on 16000 samples, validate on 4000 samples\n",
      "15872/16000 [============================>.] - ETA: 0s - loss: 363804.4568 - custom_mae: 71.9697\n",
      "Epoch 00001: val_custom_mae improved from inf to 3.64260, saving model to ..\\fast_output\\SYNTH_Regression_MSE\\2020-05-28_Normalized_Base_Custom-MAE\\Best_Weights_FC_38.hdf5\n",
      "16000/16000 [==============================] - 13s 811us/sample - loss: 360895.4427 - custom_mae: 71.4707 - val_loss: 16.1036 - val_custom_mae: 3.6426\n",
      "Time taken: 0:00:14.643829\n"
     ]
    },
    {
     "name": "stderr",
     "output_type": "stream",
     "text": [
      "\r",
      " 11%|████████▌                                                                      | 39/360 [07:13<1:25:53, 16.05s/it]"
     ]
    },
    {
     "name": "stdout",
     "output_type": "stream",
     "text": [
      "{'activation': 'leakyrelu', 'batch_size': 32, 'dropout': 0.25, 'epochs': 1, 'first_neuron': 4096, 'hidden_layers': 3, 'label_type': 'Normalized', 'loss_function': 'mean_squared_error', 'lr': 1, 'monitor_value': 'val_custom_mae', 'optimizer': <class 'tensorflow.python.keras.optimizer_v2.adam.Adam'>, 'reduction_metric': 'custom_mae', 'samples': 20000}\n",
      "Using Loss: mean_squared_error \n",
      "and Reduction Metric: [<function custom_mae at 0x0000021D2788ACA8>]\n",
      "Monitor: val_custom_mae\n",
      "Train on 16000 samples, validate on 4000 samples\n",
      "15968/16000 [============================>.] - ETA: 0s - loss: 5.0010 - custom_mae: 0.7960\n",
      "Epoch 00001: val_custom_mae improved from inf to 0.37284, saving model to ..\\fast_output\\SYNTH_Regression_MSE\\2020-05-28_Normalized_Base_Custom-MAE\\Best_Weights_FC_39.hdf5\n",
      "16000/16000 [==============================] - 13s 815us/sample - loss: 4.9915 - custom_mae: 0.7952 - val_loss: 0.2086 - val_custom_mae: 0.3728\n",
      "Time taken: 0:00:14.710962\n"
     ]
    },
    {
     "name": "stderr",
     "output_type": "stream",
     "text": [
      "\r",
      " 11%|████████▊                                                                      | 40/360 [07:29<1:26:24, 16.20s/it]"
     ]
    },
    {
     "name": "stdout",
     "output_type": "stream",
     "text": [
      "{'activation': 'leakyrelu', 'batch_size': 32, 'dropout': 0.25, 'epochs': 1, 'first_neuron': 4096, 'hidden_layers': 3, 'label_type': 'Normalized', 'loss_function': 'mean_squared_error', 'lr': 2, 'monitor_value': 'val_custom_mae', 'optimizer': <class 'tensorflow.python.keras.optimizer_v2.adam.Adam'>, 'reduction_metric': 'custom_mae', 'samples': 20000}\n",
      "Using Loss: mean_squared_error \n",
      "and Reduction Metric: [<function custom_mae at 0x0000021D2788ACA8>]\n",
      "Monitor: val_custom_mae\n",
      "Train on 16000 samples, validate on 4000 samples\n",
      "15872/16000 [============================>.] - ETA: 0s - loss: 402.1676 - custom_mae: 3.2071\n",
      "Epoch 00001: val_custom_mae improved from inf to 0.50260, saving model to ..\\fast_output\\SYNTH_Regression_MSE\\2020-05-28_Normalized_Base_Custom-MAE\\Best_Weights_FC_40.hdf5\n",
      "16000/16000 [==============================] - 13s 827us/sample - loss: 398.9577 - custom_mae: 3.1875 - val_loss: 0.3731 - val_custom_mae: 0.5026\n",
      "Time taken: 0:00:14.886949\n"
     ]
    },
    {
     "name": "stderr",
     "output_type": "stream",
     "text": [
      "\r",
      " 11%|████████▉                                                                      | 41/360 [07:46<1:26:58, 16.36s/it]"
     ]
    },
    {
     "name": "stdout",
     "output_type": "stream",
     "text": [
      "{'activation': 'leakyrelu', 'batch_size': 32, 'dropout': 0.25, 'epochs': 1, 'first_neuron': 4096, 'hidden_layers': 3, 'label_type': 'Normalized', 'loss_function': 'mean_squared_error', 'lr': 5, 'monitor_value': 'val_custom_mae', 'optimizer': <class 'tensorflow.python.keras.optimizer_v2.adam.Adam'>, 'reduction_metric': 'custom_mae', 'samples': 20000}\n",
      "Using Loss: mean_squared_error \n",
      "and Reduction Metric: [<function custom_mae at 0x0000021D2788ACA8>]\n",
      "Monitor: val_custom_mae\n",
      "Train on 16000 samples, validate on 4000 samples\n",
      "15872/16000 [============================>.] - ETA: 0s - loss: 236155.5372 - custom_mae: 111.9939\n",
      "Epoch 00001: val_custom_mae improved from inf to 12.91576, saving model to ..\\fast_output\\SYNTH_Regression_MSE\\2020-05-28_Normalized_Base_Custom-MAE\\Best_Weights_FC_41.hdf5\n",
      "16000/16000 [==============================] - 13s 817us/sample - loss: 234275.1140 - custom_mae: 111.3029 - val_loss: 206.5191 - val_custom_mae: 12.9158\n",
      "Time taken: 0:00:14.779860\n"
     ]
    },
    {
     "name": "stderr",
     "output_type": "stream",
     "text": [
      "\r",
      " 12%|█████████▏                                                                     | 42/360 [08:03<1:27:08, 16.44s/it]"
     ]
    },
    {
     "name": "stdout",
     "output_type": "stream",
     "text": [
      "{'activation': 'leakyrelu', 'batch_size': 32, 'dropout': 0.25, 'epochs': 1, 'first_neuron': 4096, 'hidden_layers': 4, 'label_type': 'Normalized', 'loss_function': 'mean_squared_error', 'lr': 1, 'monitor_value': 'val_custom_mae', 'optimizer': <class 'tensorflow.python.keras.optimizer_v2.adam.Adam'>, 'reduction_metric': 'custom_mae', 'samples': 20000}\n",
      "Using Loss: mean_squared_error \n",
      "and Reduction Metric: [<function custom_mae at 0x0000021D2788ACA8>]\n",
      "Monitor: val_custom_mae\n",
      "Train on 16000 samples, validate on 4000 samples\n",
      "15968/16000 [============================>.] - ETA: 0s - loss: 2.8478 - custom_mae: 0.7241\n",
      "Epoch 00001: val_custom_mae improved from inf to 0.40217, saving model to ..\\fast_output\\SYNTH_Regression_MSE\\2020-05-28_Normalized_Base_Custom-MAE\\Best_Weights_FC_42.hdf5\n",
      "16000/16000 [==============================] - 13s 821us/sample - loss: 2.8426 - custom_mae: 0.7235 - val_loss: 0.2332 - val_custom_mae: 0.4022\n",
      "Time taken: 0:00:14.829807\n"
     ]
    },
    {
     "name": "stderr",
     "output_type": "stream",
     "text": [
      "\r",
      " 12%|█████████▍                                                                     | 43/360 [08:19<1:27:15, 16.52s/it]"
     ]
    },
    {
     "name": "stdout",
     "output_type": "stream",
     "text": [
      "{'activation': 'leakyrelu', 'batch_size': 32, 'dropout': 0.25, 'epochs': 1, 'first_neuron': 4096, 'hidden_layers': 4, 'label_type': 'Normalized', 'loss_function': 'mean_squared_error', 'lr': 2, 'monitor_value': 'val_custom_mae', 'optimizer': <class 'tensorflow.python.keras.optimizer_v2.adam.Adam'>, 'reduction_metric': 'custom_mae', 'samples': 20000}\n",
      "Using Loss: mean_squared_error \n",
      "and Reduction Metric: [<function custom_mae at 0x0000021D2788ACA8>]\n",
      "Monitor: val_custom_mae\n",
      "Train on 16000 samples, validate on 4000 samples\n",
      "15872/16000 [============================>.] - ETA: 0s - loss: 77.1336 - custom_mae: 2.0545\n",
      "Epoch 00001: val_custom_mae improved from inf to 0.48727, saving model to ..\\fast_output\\SYNTH_Regression_MSE\\2020-05-28_Normalized_Base_Custom-MAE\\Best_Weights_FC_43.hdf5\n",
      "16000/16000 [==============================] - 13s 821us/sample - loss: 76.5224 - custom_mae: 2.0436 - val_loss: 0.3196 - val_custom_mae: 0.4873\n",
      "Time taken: 0:00:14.851647\n"
     ]
    },
    {
     "name": "stderr",
     "output_type": "stream",
     "text": [
      "\r",
      " 12%|█████████▋                                                                     | 44/360 [08:36<1:27:21, 16.59s/it]"
     ]
    },
    {
     "name": "stdout",
     "output_type": "stream",
     "text": [
      "{'activation': 'leakyrelu', 'batch_size': 32, 'dropout': 0.25, 'epochs': 1, 'first_neuron': 4096, 'hidden_layers': 4, 'label_type': 'Normalized', 'loss_function': 'mean_squared_error', 'lr': 5, 'monitor_value': 'val_custom_mae', 'optimizer': <class 'tensorflow.python.keras.optimizer_v2.adam.Adam'>, 'reduction_metric': 'custom_mae', 'samples': 20000}\n",
      "Using Loss: mean_squared_error \n",
      "and Reduction Metric: [<function custom_mae at 0x0000021D2788ACA8>]\n",
      "Monitor: val_custom_mae\n",
      "Train on 16000 samples, validate on 4000 samples\n",
      "15904/16000 [============================>.] - ETA: 0s - loss: 223558.1232 - custom_mae: 65.0172\n",
      "Epoch 00001: val_custom_mae improved from inf to 2.22223, saving model to ..\\fast_output\\SYNTH_Regression_MSE\\2020-05-28_Normalized_Base_Custom-MAE\\Best_Weights_FC_44.hdf5\n",
      "16000/16000 [==============================] - 13s 808us/sample - loss: 222217.9085 - custom_mae: 64.6920 - val_loss: 5.5141 - val_custom_mae: 2.2222\n",
      "Time taken: 0:00:14.630973\n"
     ]
    },
    {
     "name": "stderr",
     "output_type": "stream",
     "text": [
      "\r",
      " 12%|█████████▉                                                                     | 45/360 [08:53<1:26:59, 16.57s/it]"
     ]
    },
    {
     "name": "stdout",
     "output_type": "stream",
     "text": [
      "{'activation': 'leakyrelu', 'batch_size': 32, 'dropout': 0.5, 'epochs': 1, 'first_neuron': 1024, 'hidden_layers': 0, 'label_type': 'Normalized', 'loss_function': 'mean_squared_error', 'lr': 1, 'monitor_value': 'val_custom_mae', 'optimizer': <class 'tensorflow.python.keras.optimizer_v2.adam.Adam'>, 'reduction_metric': 'custom_mae', 'samples': 20000}\n",
      "Using Loss: mean_squared_error \n",
      "and Reduction Metric: [<function custom_mae at 0x0000021D2788ACA8>]\n",
      "Monitor: val_custom_mae\n",
      "Train on 16000 samples, validate on 4000 samples\n",
      "15872/16000 [============================>.] - ETA: 0s - loss: 6.9394 - custom_mae: 1.3040\n",
      "Epoch 00001: val_custom_mae improved from inf to 0.29095, saving model to ..\\fast_output\\SYNTH_Regression_MSE\\2020-05-28_Normalized_Base_Custom-MAE\\Best_Weights_FC_45.hdf5\n",
      "16000/16000 [==============================] - 4s 278us/sample - loss: 6.8915 - custom_mae: 1.2999 - val_loss: 0.1467 - val_custom_mae: 0.2909\n",
      "Time taken: 0:00:06.127443\n"
     ]
    },
    {
     "name": "stderr",
     "output_type": "stream",
     "text": [
      "\r",
      " 13%|██████████                                                                     | 46/360 [09:00<1:13:07, 13.97s/it]"
     ]
    },
    {
     "name": "stdout",
     "output_type": "stream",
     "text": [
      "{'activation': 'leakyrelu', 'batch_size': 32, 'dropout': 0.5, 'epochs': 1, 'first_neuron': 1024, 'hidden_layers': 0, 'label_type': 'Normalized', 'loss_function': 'mean_squared_error', 'lr': 2, 'monitor_value': 'val_custom_mae', 'optimizer': <class 'tensorflow.python.keras.optimizer_v2.adam.Adam'>, 'reduction_metric': 'custom_mae', 'samples': 20000}\n",
      "Using Loss: mean_squared_error \n",
      "and Reduction Metric: [<function custom_mae at 0x0000021D2788ACA8>]\n",
      "Monitor: val_custom_mae\n",
      "Train on 16000 samples, validate on 4000 samples\n",
      "15744/16000 [============================>.] - ETA: 0s - loss: 25.1579 - custom_mae: 2.2660\n",
      "Epoch 00001: val_custom_mae improved from inf to 0.36851, saving model to ..\\fast_output\\SYNTH_Regression_MSE\\2020-05-28_Normalized_Base_Custom-MAE\\Best_Weights_FC_46.hdf5\n",
      "16000/16000 [==============================] - 5s 286us/sample - loss: 24.7908 - custom_mae: 2.2488 - val_loss: 0.2165 - val_custom_mae: 0.3685\n",
      "Time taken: 0:00:06.249723\n"
     ]
    },
    {
     "name": "stderr",
     "output_type": "stream",
     "text": [
      "\r",
      " 13%|██████████▎                                                                    | 47/360 [09:08<1:03:34, 12.19s/it]"
     ]
    },
    {
     "name": "stdout",
     "output_type": "stream",
     "text": [
      "{'activation': 'leakyrelu', 'batch_size': 32, 'dropout': 0.5, 'epochs': 1, 'first_neuron': 1024, 'hidden_layers': 0, 'label_type': 'Normalized', 'loss_function': 'mean_squared_error', 'lr': 5, 'monitor_value': 'val_custom_mae', 'optimizer': <class 'tensorflow.python.keras.optimizer_v2.adam.Adam'>, 'reduction_metric': 'custom_mae', 'samples': 20000}\n",
      "Using Loss: mean_squared_error \n",
      "and Reduction Metric: [<function custom_mae at 0x0000021D2788ACA8>]\n",
      "Monitor: val_custom_mae\n",
      "Train on 16000 samples, validate on 4000 samples\n",
      "15712/16000 [============================>.] - ETA: 0s - loss: 137.1884 - custom_mae: 4.4012\n",
      "Epoch 00001: val_custom_mae improved from inf to 0.45372, saving model to ..\\fast_output\\SYNTH_Regression_MSE\\2020-05-28_Normalized_Base_Custom-MAE\\Best_Weights_FC_47.hdf5\n",
      "16000/16000 [==============================] - 5s 286us/sample - loss: 134.8014 - custom_mae: 4.3531 - val_loss: 0.3468 - val_custom_mae: 0.4537\n",
      "Time taken: 0:00:06.301517\n"
     ]
    },
    {
     "name": "stderr",
     "output_type": "stream",
     "text": [
      "\r",
      " 13%|██████████▊                                                                      | 48/360 [09:16<56:56, 10.95s/it]"
     ]
    },
    {
     "name": "stdout",
     "output_type": "stream",
     "text": [
      "{'activation': 'leakyrelu', 'batch_size': 32, 'dropout': 0.5, 'epochs': 1, 'first_neuron': 1024, 'hidden_layers': 1, 'label_type': 'Normalized', 'loss_function': 'mean_squared_error', 'lr': 1, 'monitor_value': 'val_custom_mae', 'optimizer': <class 'tensorflow.python.keras.optimizer_v2.adam.Adam'>, 'reduction_metric': 'custom_mae', 'samples': 20000}\n",
      "Using Loss: mean_squared_error \n",
      "and Reduction Metric: [<function custom_mae at 0x0000021D2788ACA8>]\n",
      "Monitor: val_custom_mae\n",
      "Train on 16000 samples, validate on 4000 samples\n",
      "15936/16000 [============================>.] - ETA: 0s - loss: 2.3481 - custom_mae: 0.7370\n",
      "Epoch 00001: val_custom_mae improved from inf to 0.33233, saving model to ..\\fast_output\\SYNTH_Regression_MSE\\2020-05-28_Normalized_Base_Custom-MAE\\Best_Weights_FC_48.hdf5\n",
      "16000/16000 [==============================] - 5s 291us/sample - loss: 2.3399 - custom_mae: 0.7358 - val_loss: 0.1760 - val_custom_mae: 0.3323\n",
      "Time taken: 0:00:06.336071\n"
     ]
    },
    {
     "name": "stderr",
     "output_type": "stream",
     "text": [
      "\r",
      " 14%|███████████                                                                      | 49/360 [09:25<52:20, 10.10s/it]"
     ]
    },
    {
     "name": "stdout",
     "output_type": "stream",
     "text": [
      "{'activation': 'leakyrelu', 'batch_size': 32, 'dropout': 0.5, 'epochs': 1, 'first_neuron': 1024, 'hidden_layers': 1, 'label_type': 'Normalized', 'loss_function': 'mean_squared_error', 'lr': 2, 'monitor_value': 'val_custom_mae', 'optimizer': <class 'tensorflow.python.keras.optimizer_v2.adam.Adam'>, 'reduction_metric': 'custom_mae', 'samples': 20000}\n",
      "Using Loss: mean_squared_error \n",
      "and Reduction Metric: [<function custom_mae at 0x0000021D2788ACA8>]\n",
      "Monitor: val_custom_mae\n",
      "Train on 16000 samples, validate on 4000 samples\n",
      "15968/16000 [============================>.] - ETA: 0s - loss: 10.8068 - custom_mae: 1.2842\n",
      "Epoch 00001: val_custom_mae improved from inf to 0.35253, saving model to ..\\fast_output\\SYNTH_Regression_MSE\\2020-05-28_Normalized_Base_Custom-MAE\\Best_Weights_FC_49.hdf5\n",
      "16000/16000 [==============================] - 5s 287us/sample - loss: 10.7866 - custom_mae: 1.2830 - val_loss: 0.1983 - val_custom_mae: 0.3525\n",
      "Time taken: 0:00:06.257520\n"
     ]
    },
    {
     "name": "stderr",
     "output_type": "stream",
     "text": [
      "\r",
      " 14%|███████████▎                                                                     | 50/360 [09:33<48:57,  9.47s/it]"
     ]
    },
    {
     "name": "stdout",
     "output_type": "stream",
     "text": [
      "{'activation': 'leakyrelu', 'batch_size': 32, 'dropout': 0.5, 'epochs': 1, 'first_neuron': 1024, 'hidden_layers': 1, 'label_type': 'Normalized', 'loss_function': 'mean_squared_error', 'lr': 5, 'monitor_value': 'val_custom_mae', 'optimizer': <class 'tensorflow.python.keras.optimizer_v2.adam.Adam'>, 'reduction_metric': 'custom_mae', 'samples': 20000}\n",
      "Using Loss: mean_squared_error \n",
      "and Reduction Metric: [<function custom_mae at 0x0000021D2788ACA8>]\n",
      "Monitor: val_custom_mae\n",
      "Train on 16000 samples, validate on 4000 samples\n",
      "15872/16000 [============================>.] - ETA: 0s - loss: 393.8540 - custom_mae: 5.6733\n",
      "Epoch 00001: val_custom_mae improved from inf to 0.43452, saving model to ..\\fast_output\\SYNTH_Regression_MSE\\2020-05-28_Normalized_Base_Custom-MAE\\Best_Weights_FC_50.hdf5\n",
      "16000/16000 [==============================] - 5s 294us/sample - loss: 390.7564 - custom_mae: 5.6437 - val_loss: 0.2831 - val_custom_mae: 0.4345\n",
      "Time taken: 0:00:06.381839\n"
     ]
    },
    {
     "name": "stderr",
     "output_type": "stream",
     "text": [
      "\r",
      " 14%|███████████▍                                                                     | 51/360 [09:41<46:45,  9.08s/it]"
     ]
    },
    {
     "name": "stdout",
     "output_type": "stream",
     "text": [
      "{'activation': 'leakyrelu', 'batch_size': 32, 'dropout': 0.5, 'epochs': 1, 'first_neuron': 1024, 'hidden_layers': 2, 'label_type': 'Normalized', 'loss_function': 'mean_squared_error', 'lr': 1, 'monitor_value': 'val_custom_mae', 'optimizer': <class 'tensorflow.python.keras.optimizer_v2.adam.Adam'>, 'reduction_metric': 'custom_mae', 'samples': 20000}\n",
      "Using Loss: mean_squared_error \n",
      "and Reduction Metric: [<function custom_mae at 0x0000021D2788ACA8>]\n",
      "Monitor: val_custom_mae\n",
      "Train on 16000 samples, validate on 4000 samples\n",
      "15680/16000 [============================>.] - ETA: 0s - loss: 1.3180 - custom_mae: 0.6736\n",
      "Epoch 00001: val_custom_mae improved from inf to 0.44894, saving model to ..\\fast_output\\SYNTH_Regression_MSE\\2020-05-28_Normalized_Base_Custom-MAE\\Best_Weights_FC_51.hdf5\n",
      "16000/16000 [==============================] - 5s 296us/sample - loss: 1.2975 - custom_mae: 0.6691 - val_loss: 0.2769 - val_custom_mae: 0.4489\n",
      "Time taken: 0:00:06.411946\n"
     ]
    },
    {
     "name": "stderr",
     "output_type": "stream",
     "text": [
      "\r",
      " 14%|███████████▋                                                                     | 52/360 [09:49<45:14,  8.81s/it]"
     ]
    },
    {
     "name": "stdout",
     "output_type": "stream",
     "text": [
      "{'activation': 'leakyrelu', 'batch_size': 32, 'dropout': 0.5, 'epochs': 1, 'first_neuron': 1024, 'hidden_layers': 2, 'label_type': 'Normalized', 'loss_function': 'mean_squared_error', 'lr': 2, 'monitor_value': 'val_custom_mae', 'optimizer': <class 'tensorflow.python.keras.optimizer_v2.adam.Adam'>, 'reduction_metric': 'custom_mae', 'samples': 20000}\n",
      "Using Loss: mean_squared_error \n",
      "and Reduction Metric: [<function custom_mae at 0x0000021D2788ACA8>]\n",
      "Monitor: val_custom_mae\n",
      "Train on 16000 samples, validate on 4000 samples\n",
      "15840/16000 [============================>.] - ETA: 0s - loss: 5.2673 - custom_mae: 1.0021\n",
      "Epoch 00001: val_custom_mae improved from inf to 0.45689, saving model to ..\\fast_output\\SYNTH_Regression_MSE\\2020-05-28_Normalized_Base_Custom-MAE\\Best_Weights_FC_52.hdf5\n",
      "16000/16000 [==============================] - 5s 302us/sample - loss: 5.2185 - custom_mae: 0.9972 - val_loss: 0.2858 - val_custom_mae: 0.4569\n",
      "Time taken: 0:00:06.495198\n"
     ]
    },
    {
     "name": "stderr",
     "output_type": "stream",
     "text": [
      "\r",
      " 15%|███████████▉                                                                     | 53/360 [09:57<44:18,  8.66s/it]"
     ]
    },
    {
     "name": "stdout",
     "output_type": "stream",
     "text": [
      "{'activation': 'leakyrelu', 'batch_size': 32, 'dropout': 0.5, 'epochs': 1, 'first_neuron': 1024, 'hidden_layers': 2, 'label_type': 'Normalized', 'loss_function': 'mean_squared_error', 'lr': 5, 'monitor_value': 'val_custom_mae', 'optimizer': <class 'tensorflow.python.keras.optimizer_v2.adam.Adam'>, 'reduction_metric': 'custom_mae', 'samples': 20000}\n",
      "Using Loss: mean_squared_error \n",
      "and Reduction Metric: [<function custom_mae at 0x0000021D2788ACA8>]\n",
      "Monitor: val_custom_mae\n",
      "Train on 16000 samples, validate on 4000 samples\n",
      "15808/16000 [============================>.] - ETA: 0s - loss: 95.2622 - custom_mae: 2.9136\n",
      "Epoch 00001: val_custom_mae improved from inf to 0.47195, saving model to ..\\fast_output\\SYNTH_Regression_MSE\\2020-05-28_Normalized_Base_Custom-MAE\\Best_Weights_FC_53.hdf5\n",
      "16000/16000 [==============================] - 5s 297us/sample - loss: 94.1474 - custom_mae: 2.8928 - val_loss: 0.3026 - val_custom_mae: 0.4719\n",
      "Time taken: 0:00:06.434286\n"
     ]
    },
    {
     "name": "stderr",
     "output_type": "stream",
     "text": [
      "\r",
      " 15%|████████████▏                                                                    | 54/360 [10:06<43:31,  8.53s/it]"
     ]
    },
    {
     "name": "stdout",
     "output_type": "stream",
     "text": [
      "{'activation': 'leakyrelu', 'batch_size': 32, 'dropout': 0.5, 'epochs': 1, 'first_neuron': 1024, 'hidden_layers': 3, 'label_type': 'Normalized', 'loss_function': 'mean_squared_error', 'lr': 1, 'monitor_value': 'val_custom_mae', 'optimizer': <class 'tensorflow.python.keras.optimizer_v2.adam.Adam'>, 'reduction_metric': 'custom_mae', 'samples': 20000}\n",
      "Using Loss: mean_squared_error \n",
      "and Reduction Metric: [<function custom_mae at 0x0000021D2788ACA8>]\n",
      "Monitor: val_custom_mae\n",
      "Train on 16000 samples, validate on 4000 samples\n",
      "15936/16000 [============================>.] - ETA: 0s - loss: 1.1222 - custom_mae: 0.6698\n",
      "Epoch 00001: val_custom_mae improved from inf to 0.48268, saving model to ..\\fast_output\\SYNTH_Regression_MSE\\2020-05-28_Normalized_Base_Custom-MAE\\Best_Weights_FC_54.hdf5\n",
      "16000/16000 [==============================] - 5s 304us/sample - loss: 1.1190 - custom_mae: 0.6691 - val_loss: 0.3119 - val_custom_mae: 0.4827\n",
      "Time taken: 0:00:06.529536\n"
     ]
    },
    {
     "name": "stderr",
     "output_type": "stream",
     "text": [
      "\r",
      " 15%|████████████▍                                                                    | 55/360 [10:14<43:06,  8.48s/it]"
     ]
    },
    {
     "name": "stdout",
     "output_type": "stream",
     "text": [
      "{'activation': 'leakyrelu', 'batch_size': 32, 'dropout': 0.5, 'epochs': 1, 'first_neuron': 1024, 'hidden_layers': 3, 'label_type': 'Normalized', 'loss_function': 'mean_squared_error', 'lr': 2, 'monitor_value': 'val_custom_mae', 'optimizer': <class 'tensorflow.python.keras.optimizer_v2.adam.Adam'>, 'reduction_metric': 'custom_mae', 'samples': 20000}\n",
      "Using Loss: mean_squared_error \n",
      "and Reduction Metric: [<function custom_mae at 0x0000021D2788ACA8>]\n",
      "Monitor: val_custom_mae\n",
      "Train on 16000 samples, validate on 4000 samples\n",
      "15936/16000 [============================>.] - ETA: 0s - loss: 2.8889 - custom_mae: 0.8426\n",
      "Epoch 00001: val_custom_mae improved from inf to 0.48313, saving model to ..\\fast_output\\SYNTH_Regression_MSE\\2020-05-28_Normalized_Base_Custom-MAE\\Best_Weights_FC_55.hdf5\n",
      "16000/16000 [==============================] - 5s 302us/sample - loss: 2.8788 - custom_mae: 0.8413 - val_loss: 0.3124 - val_custom_mae: 0.4831\n",
      "Time taken: 0:00:06.503647\n"
     ]
    },
    {
     "name": "stderr",
     "output_type": "stream",
     "text": [
      "\r",
      " 16%|████████████▌                                                                    | 56/360 [10:22<42:44,  8.44s/it]"
     ]
    },
    {
     "name": "stdout",
     "output_type": "stream",
     "text": [
      "{'activation': 'leakyrelu', 'batch_size': 32, 'dropout': 0.5, 'epochs': 1, 'first_neuron': 1024, 'hidden_layers': 3, 'label_type': 'Normalized', 'loss_function': 'mean_squared_error', 'lr': 5, 'monitor_value': 'val_custom_mae', 'optimizer': <class 'tensorflow.python.keras.optimizer_v2.adam.Adam'>, 'reduction_metric': 'custom_mae', 'samples': 20000}\n",
      "Using Loss: mean_squared_error \n",
      "and Reduction Metric: [<function custom_mae at 0x0000021D2788ACA8>]\n",
      "Monitor: val_custom_mae\n",
      "Train on 16000 samples, validate on 4000 samples\n",
      "15808/16000 [============================>.] - ETA: 0s - loss: 25.5716 - custom_mae: 1.7725\n",
      "Epoch 00001: val_custom_mae improved from inf to 0.48351, saving model to ..\\fast_output\\SYNTH_Regression_MSE\\2020-05-28_Normalized_Base_Custom-MAE\\Best_Weights_FC_56.hdf5\n",
      "16000/16000 [==============================] - 5s 305us/sample - loss: 25.2727 - custom_mae: 1.7591 - val_loss: 0.3128 - val_custom_mae: 0.4835\n",
      "Time taken: 0:00:06.551036\n"
     ]
    },
    {
     "name": "stderr",
     "output_type": "stream",
     "text": [
      "\r",
      " 16%|████████████▊                                                                    | 57/360 [10:31<42:31,  8.42s/it]"
     ]
    },
    {
     "name": "stdout",
     "output_type": "stream",
     "text": [
      "{'activation': 'leakyrelu', 'batch_size': 32, 'dropout': 0.5, 'epochs': 1, 'first_neuron': 1024, 'hidden_layers': 4, 'label_type': 'Normalized', 'loss_function': 'mean_squared_error', 'lr': 1, 'monitor_value': 'val_custom_mae', 'optimizer': <class 'tensorflow.python.keras.optimizer_v2.adam.Adam'>, 'reduction_metric': 'custom_mae', 'samples': 20000}\n",
      "Using Loss: mean_squared_error \n",
      "and Reduction Metric: [<function custom_mae at 0x0000021D2788ACA8>]\n",
      "Monitor: val_custom_mae\n",
      "Train on 16000 samples, validate on 4000 samples\n",
      "15808/16000 [============================>.] - ETA: 0s - loss: 1.2864 - custom_mae: 0.6952\n",
      "Epoch 00001: val_custom_mae improved from inf to 0.48342, saving model to ..\\fast_output\\SYNTH_Regression_MSE\\2020-05-28_Normalized_Base_Custom-MAE\\Best_Weights_FC_57.hdf5\n",
      "16000/16000 [==============================] - 5s 318us/sample - loss: 1.2750 - custom_mae: 0.6928 - val_loss: 0.3132 - val_custom_mae: 0.4834\n",
      "Time taken: 0:00:06.755759\n"
     ]
    },
    {
     "name": "stderr",
     "output_type": "stream",
     "text": [
      "\r",
      " 16%|█████████████                                                                    | 58/360 [10:39<42:39,  8.47s/it]"
     ]
    },
    {
     "name": "stdout",
     "output_type": "stream",
     "text": [
      "{'activation': 'leakyrelu', 'batch_size': 32, 'dropout': 0.5, 'epochs': 1, 'first_neuron': 1024, 'hidden_layers': 4, 'label_type': 'Normalized', 'loss_function': 'mean_squared_error', 'lr': 2, 'monitor_value': 'val_custom_mae', 'optimizer': <class 'tensorflow.python.keras.optimizer_v2.adam.Adam'>, 'reduction_metric': 'custom_mae', 'samples': 20000}\n",
      "Using Loss: mean_squared_error \n",
      "and Reduction Metric: [<function custom_mae at 0x0000021D2788ACA8>]\n",
      "Monitor: val_custom_mae\n",
      "Train on 16000 samples, validate on 4000 samples\n",
      "15840/16000 [============================>.] - ETA: 0s - loss: 3.4045 - custom_mae: 0.8700\n",
      "Epoch 00001: val_custom_mae improved from inf to 0.48332, saving model to ..\\fast_output\\SYNTH_Regression_MSE\\2020-05-28_Normalized_Base_Custom-MAE\\Best_Weights_FC_58.hdf5\n",
      "16000/16000 [==============================] - 5s 314us/sample - loss: 3.3738 - custom_mae: 0.8663 - val_loss: 0.3130 - val_custom_mae: 0.4833\n",
      "Time taken: 0:00:06.686741\n"
     ]
    },
    {
     "name": "stderr",
     "output_type": "stream",
     "text": [
      "\r",
      " 16%|█████████████▎                                                                   | 59/360 [10:48<42:39,  8.50s/it]"
     ]
    },
    {
     "name": "stdout",
     "output_type": "stream",
     "text": [
      "{'activation': 'leakyrelu', 'batch_size': 32, 'dropout': 0.5, 'epochs': 1, 'first_neuron': 1024, 'hidden_layers': 4, 'label_type': 'Normalized', 'loss_function': 'mean_squared_error', 'lr': 5, 'monitor_value': 'val_custom_mae', 'optimizer': <class 'tensorflow.python.keras.optimizer_v2.adam.Adam'>, 'reduction_metric': 'custom_mae', 'samples': 20000}\n",
      "Using Loss: mean_squared_error \n",
      "and Reduction Metric: [<function custom_mae at 0x0000021D2788ACA8>]\n",
      "Monitor: val_custom_mae\n",
      "Train on 16000 samples, validate on 4000 samples\n",
      "15840/16000 [============================>.] - ETA: 0s - loss: 18.3160 - custom_mae: 1.5346\n",
      "Epoch 00001: val_custom_mae improved from inf to 0.48349, saving model to ..\\fast_output\\SYNTH_Regression_MSE\\2020-05-28_Normalized_Base_Custom-MAE\\Best_Weights_FC_59.hdf5\n",
      "16000/16000 [==============================] - 5s 311us/sample - loss: 18.1376 - custom_mae: 1.5249 - val_loss: 0.3131 - val_custom_mae: 0.4835\n",
      "Time taken: 0:00:06.648681\n"
     ]
    },
    {
     "name": "stderr",
     "output_type": "stream",
     "text": [
      "\r",
      " 17%|█████████████▌                                                                   | 60/360 [10:56<42:30,  8.50s/it]"
     ]
    },
    {
     "name": "stdout",
     "output_type": "stream",
     "text": [
      "{'activation': 'leakyrelu', 'batch_size': 32, 'dropout': 0.5, 'epochs': 1, 'first_neuron': 2048, 'hidden_layers': 0, 'label_type': 'Normalized', 'loss_function': 'mean_squared_error', 'lr': 1, 'monitor_value': 'val_custom_mae', 'optimizer': <class 'tensorflow.python.keras.optimizer_v2.adam.Adam'>, 'reduction_metric': 'custom_mae', 'samples': 20000}\n",
      "Using Loss: mean_squared_error \n",
      "and Reduction Metric: [<function custom_mae at 0x0000021D2788ACA8>]\n",
      "Monitor: val_custom_mae\n",
      "Train on 16000 samples, validate on 4000 samples\n",
      "15936/16000 [============================>.] - ETA: 0s - loss: 14.1825 - custom_mae: 1.4880\n",
      "Epoch 00001: val_custom_mae improved from inf to 0.29580, saving model to ..\\fast_output\\SYNTH_Regression_MSE\\2020-05-28_Normalized_Base_Custom-MAE\\Best_Weights_FC_60.hdf5\n",
      "16000/16000 [==============================] - 7s 431us/sample - loss: 14.1316 - custom_mae: 1.4857 - val_loss: 0.1502 - val_custom_mae: 0.2958\n",
      "Time taken: 0:00:08.565022\n"
     ]
    },
    {
     "name": "stderr",
     "output_type": "stream",
     "text": [
      "\r",
      " 17%|█████████████▋                                                                   | 61/360 [11:07<45:05,  9.05s/it]"
     ]
    },
    {
     "name": "stdout",
     "output_type": "stream",
     "text": [
      "{'activation': 'leakyrelu', 'batch_size': 32, 'dropout': 0.5, 'epochs': 1, 'first_neuron': 2048, 'hidden_layers': 0, 'label_type': 'Normalized', 'loss_function': 'mean_squared_error', 'lr': 2, 'monitor_value': 'val_custom_mae', 'optimizer': <class 'tensorflow.python.keras.optimizer_v2.adam.Adam'>, 'reduction_metric': 'custom_mae', 'samples': 20000}\n",
      "Using Loss: mean_squared_error \n",
      "and Reduction Metric: [<function custom_mae at 0x0000021D2788ACA8>]\n",
      "Monitor: val_custom_mae\n",
      "Train on 16000 samples, validate on 4000 samples\n",
      "15840/16000 [============================>.] - ETA: 0s - loss: 53.0178 - custom_mae: 2.5853\n",
      "Epoch 00001: val_custom_mae improved from inf to 0.35354, saving model to ..\\fast_output\\SYNTH_Regression_MSE\\2020-05-28_Normalized_Base_Custom-MAE\\Best_Weights_FC_61.hdf5\n",
      "16000/16000 [==============================] - 7s 435us/sample - loss: 52.5150 - custom_mae: 2.5721 - val_loss: 0.2028 - val_custom_mae: 0.3535\n",
      "Time taken: 0:00:08.634778\n"
     ]
    },
    {
     "name": "stderr",
     "output_type": "stream",
     "text": [
      "\r",
      " 17%|█████████████▉                                                                   | 62/360 [11:17<46:55,  9.45s/it]"
     ]
    },
    {
     "name": "stdout",
     "output_type": "stream",
     "text": [
      "{'activation': 'leakyrelu', 'batch_size': 32, 'dropout': 0.5, 'epochs': 1, 'first_neuron': 2048, 'hidden_layers': 0, 'label_type': 'Normalized', 'loss_function': 'mean_squared_error', 'lr': 5, 'monitor_value': 'val_custom_mae', 'optimizer': <class 'tensorflow.python.keras.optimizer_v2.adam.Adam'>, 'reduction_metric': 'custom_mae', 'samples': 20000}\n",
      "Using Loss: mean_squared_error \n",
      "and Reduction Metric: [<function custom_mae at 0x0000021D2788ACA8>]\n",
      "Monitor: val_custom_mae\n",
      "Train on 16000 samples, validate on 4000 samples\n",
      "15904/16000 [============================>.] - ETA: 0s - loss: 318.0471 - custom_mae: 5.2076\n",
      "Epoch 00001: val_custom_mae improved from inf to 0.68975, saving model to ..\\fast_output\\SYNTH_Regression_MSE\\2020-05-28_Normalized_Base_Custom-MAE\\Best_Weights_FC_62.hdf5\n",
      "16000/16000 [==============================] - 7s 431us/sample - loss: 316.1655 - custom_mae: 5.1863 - val_loss: 0.7538 - val_custom_mae: 0.6897\n",
      "Time taken: 0:00:08.563246\n"
     ]
    },
    {
     "name": "stderr",
     "output_type": "stream",
     "text": [
      "\r",
      " 18%|██████████████▏                                                                  | 63/360 [11:27<48:02,  9.71s/it]"
     ]
    },
    {
     "name": "stdout",
     "output_type": "stream",
     "text": [
      "{'activation': 'leakyrelu', 'batch_size': 32, 'dropout': 0.5, 'epochs': 1, 'first_neuron': 2048, 'hidden_layers': 1, 'label_type': 'Normalized', 'loss_function': 'mean_squared_error', 'lr': 1, 'monitor_value': 'val_custom_mae', 'optimizer': <class 'tensorflow.python.keras.optimizer_v2.adam.Adam'>, 'reduction_metric': 'custom_mae', 'samples': 20000}\n",
      "Using Loss: mean_squared_error \n",
      "and Reduction Metric: [<function custom_mae at 0x0000021D2788ACA8>]\n",
      "Monitor: val_custom_mae\n",
      "Train on 16000 samples, validate on 4000 samples\n",
      "15872/16000 [============================>.] - ETA: 0s - loss: 6.1237 - custom_mae: 1.0278\n",
      "Epoch 00001: val_custom_mae improved from inf to 0.31254, saving model to ..\\fast_output\\SYNTH_Regression_MSE\\2020-05-28_Normalized_Base_Custom-MAE\\Best_Weights_FC_63.hdf5\n",
      "16000/16000 [==============================] - 7s 450us/sample - loss: 6.0780 - custom_mae: 1.0236 - val_loss: 0.1616 - val_custom_mae: 0.3125\n",
      "Time taken: 0:00:08.873474\n"
     ]
    },
    {
     "name": "stderr",
     "output_type": "stream",
     "text": [
      "\r",
      " 18%|██████████████▍                                                                  | 64/360 [11:38<49:16,  9.99s/it]"
     ]
    },
    {
     "name": "stdout",
     "output_type": "stream",
     "text": [
      "{'activation': 'leakyrelu', 'batch_size': 32, 'dropout': 0.5, 'epochs': 1, 'first_neuron': 2048, 'hidden_layers': 1, 'label_type': 'Normalized', 'loss_function': 'mean_squared_error', 'lr': 2, 'monitor_value': 'val_custom_mae', 'optimizer': <class 'tensorflow.python.keras.optimizer_v2.adam.Adam'>, 'reduction_metric': 'custom_mae', 'samples': 20000}\n",
      "Using Loss: mean_squared_error \n",
      "and Reduction Metric: [<function custom_mae at 0x0000021D2788ACA8>]\n",
      "Monitor: val_custom_mae\n",
      "Train on 16000 samples, validate on 4000 samples\n",
      "15936/16000 [============================>.] - ETA: 0s - loss: 61.3595 - custom_mae: 2.3984\n",
      "Epoch 00001: val_custom_mae improved from inf to 0.37123, saving model to ..\\fast_output\\SYNTH_Regression_MSE\\2020-05-28_Normalized_Base_Custom-MAE\\Best_Weights_FC_64.hdf5\n",
      "16000/16000 [==============================] - 7s 449us/sample - loss: 61.1195 - custom_mae: 2.3926 - val_loss: 0.2059 - val_custom_mae: 0.3712\n",
      "Time taken: 0:00:08.862080\n"
     ]
    },
    {
     "name": "stderr",
     "output_type": "stream",
     "text": [
      "\r",
      " 18%|██████████████▋                                                                  | 65/360 [11:49<50:03, 10.18s/it]"
     ]
    },
    {
     "name": "stdout",
     "output_type": "stream",
     "text": [
      "{'activation': 'leakyrelu', 'batch_size': 32, 'dropout': 0.5, 'epochs': 1, 'first_neuron': 2048, 'hidden_layers': 1, 'label_type': 'Normalized', 'loss_function': 'mean_squared_error', 'lr': 5, 'monitor_value': 'val_custom_mae', 'optimizer': <class 'tensorflow.python.keras.optimizer_v2.adam.Adam'>, 'reduction_metric': 'custom_mae', 'samples': 20000}\n",
      "Using Loss: mean_squared_error \n",
      "and Reduction Metric: [<function custom_mae at 0x0000021D2788ACA8>]\n",
      "Monitor: val_custom_mae\n",
      "Train on 16000 samples, validate on 4000 samples\n",
      "15776/16000 [============================>.] - ETA: 0s - loss: 2644.1387 - custom_mae: 12.7732\n",
      "Epoch 00001: val_custom_mae improved from inf to 1.83843, saving model to ..\\fast_output\\SYNTH_Regression_MSE\\2020-05-28_Normalized_Base_Custom-MAE\\Best_Weights_FC_65.hdf5\n",
      "16000/16000 [==============================] - 7s 450us/sample - loss: 2607.4438 - custom_mae: 12.6489 - val_loss: 4.2141 - val_custom_mae: 1.8384\n",
      "Time taken: 0:00:08.867474\n"
     ]
    },
    {
     "name": "stderr",
     "output_type": "stream",
     "text": [
      "\r",
      " 18%|██████████████▊                                                                  | 66/360 [11:59<50:32, 10.32s/it]"
     ]
    },
    {
     "name": "stdout",
     "output_type": "stream",
     "text": [
      "{'activation': 'leakyrelu', 'batch_size': 32, 'dropout': 0.5, 'epochs': 1, 'first_neuron': 2048, 'hidden_layers': 2, 'label_type': 'Normalized', 'loss_function': 'mean_squared_error', 'lr': 1, 'monitor_value': 'val_custom_mae', 'optimizer': <class 'tensorflow.python.keras.optimizer_v2.adam.Adam'>, 'reduction_metric': 'custom_mae', 'samples': 20000}\n",
      "Using Loss: mean_squared_error \n",
      "and Reduction Metric: [<function custom_mae at 0x0000021D2788ACA8>]\n",
      "Monitor: val_custom_mae\n",
      "Train on 16000 samples, validate on 4000 samples\n",
      "15904/16000 [============================>.] - ETA: 0s - loss: 2.8899 - custom_mae: 0.8040\n",
      "Epoch 00001: val_custom_mae improved from inf to 0.43651, saving model to ..\\fast_output\\SYNTH_Regression_MSE\\2020-05-28_Normalized_Base_Custom-MAE\\Best_Weights_FC_66.hdf5\n",
      "16000/16000 [==============================] - 7s 462us/sample - loss: 2.8744 - custom_mae: 0.8019 - val_loss: 0.2670 - val_custom_mae: 0.4365\n",
      "Time taken: 0:00:09.077890\n"
     ]
    },
    {
     "name": "stderr",
     "output_type": "stream",
     "text": [
      "\r",
      " 19%|███████████████                                                                  | 67/360 [12:10<51:10, 10.48s/it]"
     ]
    },
    {
     "name": "stdout",
     "output_type": "stream",
     "text": [
      "{'activation': 'leakyrelu', 'batch_size': 32, 'dropout': 0.5, 'epochs': 1, 'first_neuron': 2048, 'hidden_layers': 2, 'label_type': 'Normalized', 'loss_function': 'mean_squared_error', 'lr': 2, 'monitor_value': 'val_custom_mae', 'optimizer': <class 'tensorflow.python.keras.optimizer_v2.adam.Adam'>, 'reduction_metric': 'custom_mae', 'samples': 20000}\n",
      "Using Loss: mean_squared_error \n",
      "and Reduction Metric: [<function custom_mae at 0x0000021D2788ACA8>]\n",
      "Monitor: val_custom_mae\n",
      "Train on 16000 samples, validate on 4000 samples\n",
      "15936/16000 [============================>.] - ETA: 0s - loss: 16.9162 - custom_mae: 1.4655\n",
      "Epoch 00001: val_custom_mae improved from inf to 0.43288, saving model to ..\\fast_output\\SYNTH_Regression_MSE\\2020-05-28_Normalized_Base_Custom-MAE\\Best_Weights_FC_67.hdf5\n",
      "16000/16000 [==============================] - 7s 458us/sample - loss: 16.8511 - custom_mae: 1.4624 - val_loss: 0.2627 - val_custom_mae: 0.4329\n",
      "Time taken: 0:00:08.996508\n"
     ]
    },
    {
     "name": "stderr",
     "output_type": "stream",
     "text": [
      "\r",
      " 19%|███████████████▎                                                                 | 68/360 [12:21<51:27, 10.57s/it]"
     ]
    },
    {
     "name": "stdout",
     "output_type": "stream",
     "text": [
      "{'activation': 'leakyrelu', 'batch_size': 32, 'dropout': 0.5, 'epochs': 1, 'first_neuron': 2048, 'hidden_layers': 2, 'label_type': 'Normalized', 'loss_function': 'mean_squared_error', 'lr': 5, 'monitor_value': 'val_custom_mae', 'optimizer': <class 'tensorflow.python.keras.optimizer_v2.adam.Adam'>, 'reduction_metric': 'custom_mae', 'samples': 20000}\n",
      "Using Loss: mean_squared_error \n",
      "and Reduction Metric: [<function custom_mae at 0x0000021D2788ACA8>]\n",
      "Monitor: val_custom_mae\n",
      "Train on 16000 samples, validate on 4000 samples\n",
      "15872/16000 [============================>.] - ETA: 0s - loss: 2219.0103 - custom_mae: 11.2881\n",
      "Epoch 00001: val_custom_mae improved from inf to 0.49133, saving model to ..\\fast_output\\SYNTH_Regression_MSE\\2020-05-28_Normalized_Base_Custom-MAE\\Best_Weights_FC_68.hdf5\n",
      "16000/16000 [==============================] - 7s 457us/sample - loss: 2201.4189 - custom_mae: 11.2264 - val_loss: 0.3350 - val_custom_mae: 0.4913\n",
      "Time taken: 0:00:08.976225\n"
     ]
    },
    {
     "name": "stderr",
     "output_type": "stream",
     "text": [
      "\r",
      " 19%|███████████████▌                                                                 | 69/360 [12:32<51:34, 10.63s/it]"
     ]
    },
    {
     "name": "stdout",
     "output_type": "stream",
     "text": [
      "{'activation': 'leakyrelu', 'batch_size': 32, 'dropout': 0.5, 'epochs': 1, 'first_neuron': 2048, 'hidden_layers': 3, 'label_type': 'Normalized', 'loss_function': 'mean_squared_error', 'lr': 1, 'monitor_value': 'val_custom_mae', 'optimizer': <class 'tensorflow.python.keras.optimizer_v2.adam.Adam'>, 'reduction_metric': 'custom_mae', 'samples': 20000}\n",
      "Using Loss: mean_squared_error \n",
      "and Reduction Metric: [<function custom_mae at 0x0000021D2788ACA8>]\n",
      "Monitor: val_custom_mae\n",
      "Train on 16000 samples, validate on 4000 samples\n",
      "15840/16000 [============================>.] - ETA: 0s - loss: 2.0481 - custom_mae: 0.7709\n",
      "Epoch 00001: val_custom_mae improved from inf to 0.47135, saving model to ..\\fast_output\\SYNTH_Regression_MSE\\2020-05-28_Normalized_Base_Custom-MAE\\Best_Weights_FC_69.hdf5\n",
      "16000/16000 [==============================] - 8s 477us/sample - loss: 2.0307 - custom_mae: 0.7679 - val_loss: 0.3000 - val_custom_mae: 0.4714\n",
      "Time taken: 0:00:09.306344\n"
     ]
    },
    {
     "name": "stderr",
     "output_type": "stream",
     "text": [
      "\r",
      " 19%|███████████████▊                                                                 | 70/360 [12:43<52:06, 10.78s/it]"
     ]
    },
    {
     "name": "stdout",
     "output_type": "stream",
     "text": [
      "{'activation': 'leakyrelu', 'batch_size': 32, 'dropout': 0.5, 'epochs': 1, 'first_neuron': 2048, 'hidden_layers': 3, 'label_type': 'Normalized', 'loss_function': 'mean_squared_error', 'lr': 2, 'monitor_value': 'val_custom_mae', 'optimizer': <class 'tensorflow.python.keras.optimizer_v2.adam.Adam'>, 'reduction_metric': 'custom_mae', 'samples': 20000}\n",
      "Using Loss: mean_squared_error \n",
      "and Reduction Metric: [<function custom_mae at 0x0000021D2788ACA8>]\n",
      "Monitor: val_custom_mae\n",
      "Train on 16000 samples, validate on 4000 samples\n",
      "15872/16000 [============================>.] - ETA: 0s - loss: 8.6480 - custom_mae: 1.1585\n",
      "Epoch 00001: val_custom_mae improved from inf to 0.48223, saving model to ..\\fast_output\\SYNTH_Regression_MSE\\2020-05-28_Normalized_Base_Custom-MAE\\Best_Weights_FC_70.hdf5\n",
      "16000/16000 [==============================] - 8s 471us/sample - loss: 8.5820 - custom_mae: 1.1534 - val_loss: 0.3124 - val_custom_mae: 0.4822\n",
      "Time taken: 0:00:09.231079\n"
     ]
    },
    {
     "name": "stderr",
     "output_type": "stream",
     "text": [
      "\r",
      " 20%|███████████████▉                                                                 | 71/360 [12:54<52:19, 10.86s/it]"
     ]
    },
    {
     "name": "stdout",
     "output_type": "stream",
     "text": [
      "{'activation': 'leakyrelu', 'batch_size': 32, 'dropout': 0.5, 'epochs': 1, 'first_neuron': 2048, 'hidden_layers': 3, 'label_type': 'Normalized', 'loss_function': 'mean_squared_error', 'lr': 5, 'monitor_value': 'val_custom_mae', 'optimizer': <class 'tensorflow.python.keras.optimizer_v2.adam.Adam'>, 'reduction_metric': 'custom_mae', 'samples': 20000}\n",
      "Using Loss: mean_squared_error \n",
      "and Reduction Metric: [<function custom_mae at 0x0000021D2788ACA8>]\n",
      "Monitor: val_custom_mae\n",
      "Train on 16000 samples, validate on 4000 samples\n",
      "15904/16000 [============================>.] - ETA: 0s - loss: 456.2865 - custom_mae: 5.9821\n",
      "Epoch 00001: val_custom_mae improved from inf to 0.52985, saving model to ..\\fast_output\\SYNTH_Regression_MSE\\2020-05-28_Normalized_Base_Custom-MAE\\Best_Weights_FC_71.hdf5\n",
      "16000/16000 [==============================] - 8s 477us/sample - loss: 453.5786 - custom_mae: 5.9564 - val_loss: 0.3951 - val_custom_mae: 0.5298\n",
      "Time taken: 0:00:09.327984\n"
     ]
    },
    {
     "name": "stderr",
     "output_type": "stream",
     "text": [
      "\r",
      " 20%|████████████████▏                                                                | 72/360 [13:05<52:35, 10.96s/it]"
     ]
    },
    {
     "name": "stdout",
     "output_type": "stream",
     "text": [
      "{'activation': 'leakyrelu', 'batch_size': 32, 'dropout': 0.5, 'epochs': 1, 'first_neuron': 2048, 'hidden_layers': 4, 'label_type': 'Normalized', 'loss_function': 'mean_squared_error', 'lr': 1, 'monitor_value': 'val_custom_mae', 'optimizer': <class 'tensorflow.python.keras.optimizer_v2.adam.Adam'>, 'reduction_metric': 'custom_mae', 'samples': 20000}\n",
      "Using Loss: mean_squared_error \n",
      "and Reduction Metric: [<function custom_mae at 0x0000021D2788ACA8>]\n",
      "Monitor: val_custom_mae\n",
      "Train on 16000 samples, validate on 4000 samples\n",
      "15872/16000 [============================>.] - ETA: 0s - loss: 2.3895 - custom_mae: 0.8212\n",
      "Epoch 00001: val_custom_mae improved from inf to 0.48316, saving model to ..\\fast_output\\SYNTH_Regression_MSE\\2020-05-28_Normalized_Base_Custom-MAE\\Best_Weights_FC_72.hdf5\n",
      "16000/16000 [==============================] - 8s 476us/sample - loss: 2.3731 - custom_mae: 0.8186 - val_loss: 0.3125 - val_custom_mae: 0.4832\n",
      "Time taken: 0:00:09.280564\n"
     ]
    },
    {
     "name": "stderr",
     "output_type": "stream",
     "text": [
      "\r",
      " 20%|████████████████▍                                                                | 73/360 [13:16<52:40, 11.01s/it]"
     ]
    },
    {
     "name": "stdout",
     "output_type": "stream",
     "text": [
      "{'activation': 'leakyrelu', 'batch_size': 32, 'dropout': 0.5, 'epochs': 1, 'first_neuron': 2048, 'hidden_layers': 4, 'label_type': 'Normalized', 'loss_function': 'mean_squared_error', 'lr': 2, 'monitor_value': 'val_custom_mae', 'optimizer': <class 'tensorflow.python.keras.optimizer_v2.adam.Adam'>, 'reduction_metric': 'custom_mae', 'samples': 20000}\n",
      "Using Loss: mean_squared_error \n",
      "and Reduction Metric: [<function custom_mae at 0x0000021D2788ACA8>]\n",
      "Monitor: val_custom_mae\n",
      "Train on 16000 samples, validate on 4000 samples\n",
      "15872/16000 [============================>.] - ETA: 0s - loss: 7.8055 - custom_mae: 1.1577\n",
      "Epoch 00001: val_custom_mae improved from inf to 0.48315, saving model to ..\\fast_output\\SYNTH_Regression_MSE\\2020-05-28_Normalized_Base_Custom-MAE\\Best_Weights_FC_73.hdf5\n",
      "16000/16000 [==============================] - 8s 481us/sample - loss: 7.7460 - custom_mae: 1.1525 - val_loss: 0.3127 - val_custom_mae: 0.4832\n",
      "Time taken: 0:00:09.395902\n"
     ]
    },
    {
     "name": "stderr",
     "output_type": "stream",
     "text": [
      "\r",
      " 21%|████████████████▋                                                                | 74/360 [13:27<52:51, 11.09s/it]"
     ]
    },
    {
     "name": "stdout",
     "output_type": "stream",
     "text": [
      "{'activation': 'leakyrelu', 'batch_size': 32, 'dropout': 0.5, 'epochs': 1, 'first_neuron': 2048, 'hidden_layers': 4, 'label_type': 'Normalized', 'loss_function': 'mean_squared_error', 'lr': 5, 'monitor_value': 'val_custom_mae', 'optimizer': <class 'tensorflow.python.keras.optimizer_v2.adam.Adam'>, 'reduction_metric': 'custom_mae', 'samples': 20000}\n",
      "Using Loss: mean_squared_error \n",
      "and Reduction Metric: [<function custom_mae at 0x0000021D2788ACA8>]\n",
      "Monitor: val_custom_mae\n",
      "Train on 16000 samples, validate on 4000 samples\n",
      "15936/16000 [============================>.] - ETA: 0s - loss: 78.2282 - custom_mae: 2.8773\n",
      "Epoch 00001: val_custom_mae improved from inf to 0.48372, saving model to ..\\fast_output\\SYNTH_Regression_MSE\\2020-05-28_Normalized_Base_Custom-MAE\\Best_Weights_FC_74.hdf5\n",
      "16000/16000 [==============================] - 8s 478us/sample - loss: 77.9204 - custom_mae: 2.8692 - val_loss: 0.3129 - val_custom_mae: 0.4837\n",
      "Time taken: 0:00:09.345654\n"
     ]
    },
    {
     "name": "stderr",
     "output_type": "stream",
     "text": [
      "\r",
      " 21%|████████████████▉                                                                | 75/360 [13:39<52:50, 11.12s/it]"
     ]
    },
    {
     "name": "stdout",
     "output_type": "stream",
     "text": [
      "{'activation': 'leakyrelu', 'batch_size': 32, 'dropout': 0.5, 'epochs': 1, 'first_neuron': 4096, 'hidden_layers': 0, 'label_type': 'Normalized', 'loss_function': 'mean_squared_error', 'lr': 1, 'monitor_value': 'val_custom_mae', 'optimizer': <class 'tensorflow.python.keras.optimizer_v2.adam.Adam'>, 'reduction_metric': 'custom_mae', 'samples': 20000}\n",
      "Using Loss: mean_squared_error \n",
      "and Reduction Metric: [<function custom_mae at 0x0000021D2788ACA8>]\n",
      "Monitor: val_custom_mae\n",
      "Train on 16000 samples, validate on 4000 samples\n",
      "15872/16000 [============================>.] - ETA: 0s - loss: 26.7967 - custom_mae: 1.7342\n",
      "Epoch 00001: val_custom_mae improved from inf to 0.36585, saving model to ..\\fast_output\\SYNTH_Regression_MSE\\2020-05-28_Normalized_Base_Custom-MAE\\Best_Weights_FC_75.hdf5\n",
      "16000/16000 [==============================] - 12s 754us/sample - loss: 26.5967 - custom_mae: 1.7289 - val_loss: 0.2166 - val_custom_mae: 0.3659\n",
      "Time taken: 0:00:13.734328\n"
     ]
    },
    {
     "name": "stderr",
     "output_type": "stream",
     "text": [
      "\r",
      " 21%|█████████████████                                                                | 76/360 [13:54<58:53, 12.44s/it]"
     ]
    },
    {
     "name": "stdout",
     "output_type": "stream",
     "text": [
      "{'activation': 'leakyrelu', 'batch_size': 32, 'dropout': 0.5, 'epochs': 1, 'first_neuron': 4096, 'hidden_layers': 0, 'label_type': 'Normalized', 'loss_function': 'mean_squared_error', 'lr': 2, 'monitor_value': 'val_custom_mae', 'optimizer': <class 'tensorflow.python.keras.optimizer_v2.adam.Adam'>, 'reduction_metric': 'custom_mae', 'samples': 20000}\n",
      "Using Loss: mean_squared_error \n",
      "and Reduction Metric: [<function custom_mae at 0x0000021D2788ACA8>]\n",
      "Monitor: val_custom_mae\n",
      "Train on 16000 samples, validate on 4000 samples\n",
      "15936/16000 [============================>.] - ETA: 0s - loss: 103.7529 - custom_mae: 3.0679\n",
      "Epoch 00001: val_custom_mae improved from inf to 0.80084, saving model to ..\\fast_output\\SYNTH_Regression_MSE\\2020-05-28_Normalized_Base_Custom-MAE\\Best_Weights_FC_76.hdf5\n",
      "16000/16000 [==============================] - 12s 750us/sample - loss: 103.3550 - custom_mae: 3.0623 - val_loss: 0.9182 - val_custom_mae: 0.8008\n",
      "Time taken: 0:00:13.663639\n"
     ]
    },
    {
     "name": "stderr",
     "output_type": "stream",
     "text": [
      "\r",
      " 21%|████████████████▉                                                              | 77/360 [14:10<1:02:55, 13.34s/it]"
     ]
    },
    {
     "name": "stdout",
     "output_type": "stream",
     "text": [
      "{'activation': 'leakyrelu', 'batch_size': 32, 'dropout': 0.5, 'epochs': 1, 'first_neuron': 4096, 'hidden_layers': 0, 'label_type': 'Normalized', 'loss_function': 'mean_squared_error', 'lr': 5, 'monitor_value': 'val_custom_mae', 'optimizer': <class 'tensorflow.python.keras.optimizer_v2.adam.Adam'>, 'reduction_metric': 'custom_mae', 'samples': 20000}\n",
      "Using Loss: mean_squared_error \n",
      "and Reduction Metric: [<function custom_mae at 0x0000021D2788ACA8>]\n",
      "Monitor: val_custom_mae\n",
      "Train on 16000 samples, validate on 4000 samples\n",
      "15936/16000 [============================>.] - ETA: 0s - loss: 705.3716 - custom_mae: 7.5265\n",
      "Epoch 00001: val_custom_mae improved from inf to 1.49619, saving model to ..\\fast_output\\SYNTH_Regression_MSE\\2020-05-28_Normalized_Base_Custom-MAE\\Best_Weights_FC_77.hdf5\n",
      "16000/16000 [==============================] - 12s 757us/sample - loss: 702.5952 - custom_mae: 7.5067 - val_loss: 2.9768 - val_custom_mae: 1.4962\n",
      "Time taken: 0:00:13.804552\n"
     ]
    },
    {
     "name": "stderr",
     "output_type": "stream",
     "text": [
      "\r",
      " 22%|█████████████████                                                              | 78/360 [14:25<1:05:49, 14.00s/it]"
     ]
    },
    {
     "name": "stdout",
     "output_type": "stream",
     "text": [
      "{'activation': 'leakyrelu', 'batch_size': 32, 'dropout': 0.5, 'epochs': 1, 'first_neuron': 4096, 'hidden_layers': 1, 'label_type': 'Normalized', 'loss_function': 'mean_squared_error', 'lr': 1, 'monitor_value': 'val_custom_mae', 'optimizer': <class 'tensorflow.python.keras.optimizer_v2.adam.Adam'>, 'reduction_metric': 'custom_mae', 'samples': 20000}\n",
      "Using Loss: mean_squared_error \n",
      "and Reduction Metric: [<function custom_mae at 0x0000021D2788ACA8>]\n",
      "Monitor: val_custom_mae\n",
      "Train on 16000 samples, validate on 4000 samples\n",
      "15904/16000 [============================>.] - ETA: 0s - loss: 32.8645 - custom_mae: 1.5095\n",
      "Epoch 00001: val_custom_mae improved from inf to 0.39470, saving model to ..\\fast_output\\SYNTH_Regression_MSE\\2020-05-28_Normalized_Base_Custom-MAE\\Best_Weights_FC_78.hdf5\n",
      "16000/16000 [==============================] - 13s 801us/sample - loss: 32.6722 - custom_mae: 1.5048 - val_loss: 0.2432 - val_custom_mae: 0.3947\n",
      "Time taken: 0:00:14.483906\n"
     ]
    },
    {
     "name": "stderr",
     "output_type": "stream",
     "text": [
      "\r",
      " 22%|█████████████████▎                                                             | 79/360 [14:41<1:08:46, 14.68s/it]"
     ]
    },
    {
     "name": "stdout",
     "output_type": "stream",
     "text": [
      "{'activation': 'leakyrelu', 'batch_size': 32, 'dropout': 0.5, 'epochs': 1, 'first_neuron': 4096, 'hidden_layers': 1, 'label_type': 'Normalized', 'loss_function': 'mean_squared_error', 'lr': 2, 'monitor_value': 'val_custom_mae', 'optimizer': <class 'tensorflow.python.keras.optimizer_v2.adam.Adam'>, 'reduction_metric': 'custom_mae', 'samples': 20000}\n",
      "Using Loss: mean_squared_error \n",
      "and Reduction Metric: [<function custom_mae at 0x0000021D2788ACA8>]\n",
      "Monitor: val_custom_mae\n",
      "Train on 16000 samples, validate on 4000 samples\n",
      "15904/16000 [============================>.] - ETA: 0s - loss: 667.7522 - custom_mae: 5.5498\n",
      "Epoch 00001: val_custom_mae improved from inf to 1.03053, saving model to ..\\fast_output\\SYNTH_Regression_MSE\\2020-05-28_Normalized_Base_Custom-MAE\\Best_Weights_FC_79.hdf5\n",
      "16000/16000 [==============================] - 13s 805us/sample - loss: 663.7888 - custom_mae: 5.5288 - val_loss: 1.3393 - val_custom_mae: 1.0305\n",
      "Time taken: 0:00:14.574419\n"
     ]
    },
    {
     "name": "stderr",
     "output_type": "stream",
     "text": [
      "\r",
      " 22%|█████████████████▌                                                             | 80/360 [14:58<1:10:54, 15.19s/it]"
     ]
    },
    {
     "name": "stdout",
     "output_type": "stream",
     "text": [
      "{'activation': 'leakyrelu', 'batch_size': 32, 'dropout': 0.5, 'epochs': 1, 'first_neuron': 4096, 'hidden_layers': 1, 'label_type': 'Normalized', 'loss_function': 'mean_squared_error', 'lr': 5, 'monitor_value': 'val_custom_mae', 'optimizer': <class 'tensorflow.python.keras.optimizer_v2.adam.Adam'>, 'reduction_metric': 'custom_mae', 'samples': 20000}\n",
      "Using Loss: mean_squared_error \n",
      "and Reduction Metric: [<function custom_mae at 0x0000021D2788ACA8>]\n",
      "Monitor: val_custom_mae\n",
      "Train on 16000 samples, validate on 4000 samples\n",
      "15904/16000 [============================>.] - ETA: 0s - loss: 24835.0350 - custom_mae: 30.7526\n",
      "Epoch 00001: val_custom_mae improved from inf to 2.75061, saving model to ..\\fast_output\\SYNTH_Regression_MSE\\2020-05-28_Normalized_Base_Custom-MAE\\Best_Weights_FC_80.hdf5\n",
      "16000/16000 [==============================] - 13s 801us/sample - loss: 24686.7498 - custom_mae: 30.6223 - val_loss: 11.3280 - val_custom_mae: 2.7506\n",
      "Time taken: 0:00:14.496805\n"
     ]
    },
    {
     "name": "stderr",
     "output_type": "stream",
     "text": [
      "\r",
      " 22%|█████████████████▊                                                             | 81/360 [15:14<1:12:10, 15.52s/it]"
     ]
    },
    {
     "name": "stdout",
     "output_type": "stream",
     "text": [
      "{'activation': 'leakyrelu', 'batch_size': 32, 'dropout': 0.5, 'epochs': 1, 'first_neuron': 4096, 'hidden_layers': 2, 'label_type': 'Normalized', 'loss_function': 'mean_squared_error', 'lr': 1, 'monitor_value': 'val_custom_mae', 'optimizer': <class 'tensorflow.python.keras.optimizer_v2.adam.Adam'>, 'reduction_metric': 'custom_mae', 'samples': 20000}\n",
      "Using Loss: mean_squared_error \n",
      "and Reduction Metric: [<function custom_mae at 0x0000021D2788ACA8>]\n",
      "Monitor: val_custom_mae\n",
      "Train on 16000 samples, validate on 4000 samples\n",
      "15968/16000 [============================>.] - ETA: 0s - loss: 7.9213 - custom_mae: 1.0435\n",
      "Epoch 00001: val_custom_mae improved from inf to 0.38698, saving model to ..\\fast_output\\SYNTH_Regression_MSE\\2020-05-28_Normalized_Base_Custom-MAE\\Best_Weights_FC_81.hdf5\n",
      "16000/16000 [==============================] - 13s 819us/sample - loss: 7.9064 - custom_mae: 1.0426 - val_loss: 0.2251 - val_custom_mae: 0.3870\n",
      "Time taken: 0:00:14.808984\n"
     ]
    },
    {
     "name": "stderr",
     "output_type": "stream",
     "text": [
      "\r",
      " 23%|█████████████████▉                                                             | 82/360 [15:31<1:13:26, 15.85s/it]"
     ]
    },
    {
     "name": "stdout",
     "output_type": "stream",
     "text": [
      "{'activation': 'leakyrelu', 'batch_size': 32, 'dropout': 0.5, 'epochs': 1, 'first_neuron': 4096, 'hidden_layers': 2, 'label_type': 'Normalized', 'loss_function': 'mean_squared_error', 'lr': 2, 'monitor_value': 'val_custom_mae', 'optimizer': <class 'tensorflow.python.keras.optimizer_v2.adam.Adam'>, 'reduction_metric': 'custom_mae', 'samples': 20000}\n",
      "Using Loss: mean_squared_error \n",
      "and Reduction Metric: [<function custom_mae at 0x0000021D2788ACA8>]\n",
      "Monitor: val_custom_mae\n",
      "Train on 16000 samples, validate on 4000 samples\n",
      "15904/16000 [============================>.] - ETA: 0s - loss: 140.1868 - custom_mae: 3.1283\n",
      "Epoch 00001: val_custom_mae improved from inf to 0.48516, saving model to ..\\fast_output\\SYNTH_Regression_MSE\\2020-05-28_Normalized_Base_Custom-MAE\\Best_Weights_FC_82.hdf5\n",
      "16000/16000 [==============================] - 13s 818us/sample - loss: 139.3563 - custom_mae: 3.1159 - val_loss: 0.3323 - val_custom_mae: 0.4852\n",
      "Time taken: 0:00:14.758778\n"
     ]
    },
    {
     "name": "stderr",
     "output_type": "stream",
     "text": [
      "\r",
      " 23%|██████████████████▏                                                            | 83/360 [15:47<1:14:11, 16.07s/it]"
     ]
    },
    {
     "name": "stdout",
     "output_type": "stream",
     "text": [
      "{'activation': 'leakyrelu', 'batch_size': 32, 'dropout': 0.5, 'epochs': 1, 'first_neuron': 4096, 'hidden_layers': 2, 'label_type': 'Normalized', 'loss_function': 'mean_squared_error', 'lr': 5, 'monitor_value': 'val_custom_mae', 'optimizer': <class 'tensorflow.python.keras.optimizer_v2.adam.Adam'>, 'reduction_metric': 'custom_mae', 'samples': 20000}\n",
      "Using Loss: mean_squared_error \n",
      "and Reduction Metric: [<function custom_mae at 0x0000021D2788ACA8>]\n",
      "Monitor: val_custom_mae\n",
      "Train on 16000 samples, validate on 4000 samples\n",
      "15872/16000 [============================>.] - ETA: 0s - loss: 46905.4185 - custom_mae: 50.8833\n",
      "Epoch 00001: val_custom_mae improved from inf to 5.88710, saving model to ..\\fast_output\\SYNTH_Regression_MSE\\2020-05-28_Normalized_Base_Custom-MAE\\Best_Weights_FC_83.hdf5\n",
      "16000/16000 [==============================] - 13s 822us/sample - loss: 46532.3533 - custom_mae: 50.5798 - val_loss: 36.4825 - val_custom_mae: 5.8871\n",
      "Time taken: 0:00:14.859387\n"
     ]
    },
    {
     "name": "stderr",
     "output_type": "stream",
     "text": [
      "\r",
      " 23%|██████████████████▍                                                            | 84/360 [16:04<1:14:46, 16.26s/it]"
     ]
    },
    {
     "name": "stdout",
     "output_type": "stream",
     "text": [
      "{'activation': 'leakyrelu', 'batch_size': 32, 'dropout': 0.5, 'epochs': 1, 'first_neuron': 4096, 'hidden_layers': 3, 'label_type': 'Normalized', 'loss_function': 'mean_squared_error', 'lr': 1, 'monitor_value': 'val_custom_mae', 'optimizer': <class 'tensorflow.python.keras.optimizer_v2.adam.Adam'>, 'reduction_metric': 'custom_mae', 'samples': 20000}\n",
      "Using Loss: mean_squared_error \n",
      "and Reduction Metric: [<function custom_mae at 0x0000021D2788ACA8>]\n",
      "Monitor: val_custom_mae\n",
      "Train on 16000 samples, validate on 4000 samples\n",
      "15904/16000 [============================>.] - ETA: 0s - loss: 5.4854 - custom_mae: 1.0226\n",
      "Epoch 00001: val_custom_mae improved from inf to 0.47088, saving model to ..\\fast_output\\SYNTH_Regression_MSE\\2020-05-28_Normalized_Base_Custom-MAE\\Best_Weights_FC_84.hdf5\n",
      "16000/16000 [==============================] - 13s 829us/sample - loss: 5.4547 - custom_mae: 1.0194 - val_loss: 0.3007 - val_custom_mae: 0.4709\n",
      "Time taken: 0:00:14.939754\n"
     ]
    },
    {
     "name": "stderr",
     "output_type": "stream",
     "text": [
      "\r",
      " 24%|██████████████████▋                                                            | 85/360 [16:21<1:15:14, 16.42s/it]"
     ]
    },
    {
     "name": "stdout",
     "output_type": "stream",
     "text": [
      "{'activation': 'leakyrelu', 'batch_size': 32, 'dropout': 0.5, 'epochs': 1, 'first_neuron': 4096, 'hidden_layers': 3, 'label_type': 'Normalized', 'loss_function': 'mean_squared_error', 'lr': 2, 'monitor_value': 'val_custom_mae', 'optimizer': <class 'tensorflow.python.keras.optimizer_v2.adam.Adam'>, 'reduction_metric': 'custom_mae', 'samples': 20000}\n",
      "Using Loss: mean_squared_error \n",
      "and Reduction Metric: [<function custom_mae at 0x0000021D2788ACA8>]\n",
      "Monitor: val_custom_mae\n",
      "Train on 16000 samples, validate on 4000 samples\n",
      "15968/16000 [============================>.] - ETA: 0s - loss: 90.6641 - custom_mae: 2.7116\n",
      "Epoch 00001: val_custom_mae improved from inf to 0.57241, saving model to ..\\fast_output\\SYNTH_Regression_MSE\\2020-05-28_Normalized_Base_Custom-MAE\\Best_Weights_FC_85.hdf5\n",
      "16000/16000 [==============================] - 13s 828us/sample - loss: 90.4848 - custom_mae: 2.7078 - val_loss: 0.4865 - val_custom_mae: 0.5724\n",
      "Time taken: 0:00:14.919079\n"
     ]
    },
    {
     "name": "stderr",
     "output_type": "stream",
     "text": [
      "\r",
      " 24%|██████████████████▊                                                            | 86/360 [16:37<1:15:25, 16.52s/it]"
     ]
    },
    {
     "name": "stdout",
     "output_type": "stream",
     "text": [
      "{'activation': 'leakyrelu', 'batch_size': 32, 'dropout': 0.5, 'epochs': 1, 'first_neuron': 4096, 'hidden_layers': 3, 'label_type': 'Normalized', 'loss_function': 'mean_squared_error', 'lr': 5, 'monitor_value': 'val_custom_mae', 'optimizer': <class 'tensorflow.python.keras.optimizer_v2.adam.Adam'>, 'reduction_metric': 'custom_mae', 'samples': 20000}\n",
      "Using Loss: mean_squared_error \n",
      "and Reduction Metric: [<function custom_mae at 0x0000021D2788ACA8>]\n",
      "Monitor: val_custom_mae\n",
      "Train on 16000 samples, validate on 4000 samples\n",
      "15904/16000 [============================>.] - ETA: 0s - loss: 65545.2030 - custom_mae: 71.4436\n",
      "Epoch 00001: val_custom_mae improved from inf to 3.08002, saving model to ..\\fast_output\\SYNTH_Regression_MSE\\2020-05-28_Normalized_Base_Custom-MAE\\Best_Weights_FC_86.hdf5\n",
      "16000/16000 [==============================] - 13s 827us/sample - loss: 65154.2176 - custom_mae: 71.1056 - val_loss: 12.2004 - val_custom_mae: 3.0800\n",
      "Time taken: 0:00:14.908631\n"
     ]
    },
    {
     "name": "stderr",
     "output_type": "stream",
     "text": [
      "\r",
      " 24%|███████████████████                                                            | 87/360 [16:54<1:15:27, 16.59s/it]"
     ]
    },
    {
     "name": "stdout",
     "output_type": "stream",
     "text": [
      "{'activation': 'leakyrelu', 'batch_size': 32, 'dropout': 0.5, 'epochs': 1, 'first_neuron': 4096, 'hidden_layers': 4, 'label_type': 'Normalized', 'loss_function': 'mean_squared_error', 'lr': 1, 'monitor_value': 'val_custom_mae', 'optimizer': <class 'tensorflow.python.keras.optimizer_v2.adam.Adam'>, 'reduction_metric': 'custom_mae', 'samples': 20000}\n",
      "Using Loss: mean_squared_error \n",
      "and Reduction Metric: [<function custom_mae at 0x0000021D2788ACA8>]\n",
      "Monitor: val_custom_mae\n",
      "Train on 16000 samples, validate on 4000 samples\n",
      "15904/16000 [============================>.] - ETA: 0s - loss: 5.4824 - custom_mae: 1.0574\n",
      "Epoch 00001: val_custom_mae improved from inf to 0.48052, saving model to ..\\fast_output\\SYNTH_Regression_MSE\\2020-05-28_Normalized_Base_Custom-MAE\\Best_Weights_FC_87.hdf5\n",
      "16000/16000 [==============================] - 13s 832us/sample - loss: 5.4516 - custom_mae: 1.0540 - val_loss: 0.3100 - val_custom_mae: 0.4805\n",
      "Time taken: 0:00:14.975743\n"
     ]
    },
    {
     "name": "stderr",
     "output_type": "stream",
     "text": [
      "\r",
      " 24%|███████████████████▎                                                           | 88/360 [17:11<1:15:32, 16.66s/it]"
     ]
    },
    {
     "name": "stdout",
     "output_type": "stream",
     "text": [
      "{'activation': 'leakyrelu', 'batch_size': 32, 'dropout': 0.5, 'epochs': 1, 'first_neuron': 4096, 'hidden_layers': 4, 'label_type': 'Normalized', 'loss_function': 'mean_squared_error', 'lr': 2, 'monitor_value': 'val_custom_mae', 'optimizer': <class 'tensorflow.python.keras.optimizer_v2.adam.Adam'>, 'reduction_metric': 'custom_mae', 'samples': 20000}\n",
      "Using Loss: mean_squared_error \n",
      "and Reduction Metric: [<function custom_mae at 0x0000021D2788ACA8>]\n",
      "Monitor: val_custom_mae\n",
      "Train on 16000 samples, validate on 4000 samples\n",
      "15872/16000 [============================>.] - ETA: 0s - loss: 27.6413 - custom_mae: 1.7991\n",
      "Epoch 00001: val_custom_mae improved from inf to 0.48411, saving model to ..\\fast_output\\SYNTH_Regression_MSE\\2020-05-28_Normalized_Base_Custom-MAE\\Best_Weights_FC_88.hdf5\n",
      "16000/16000 [==============================] - 13s 839us/sample - loss: 27.4241 - custom_mae: 1.7893 - val_loss: 0.3140 - val_custom_mae: 0.4841\n",
      "Time taken: 0:00:15.086501\n"
     ]
    },
    {
     "name": "stderr",
     "output_type": "stream",
     "text": [
      "\r",
      " 25%|███████████████████▌                                                           | 89/360 [17:28<1:15:39, 16.75s/it]"
     ]
    },
    {
     "name": "stdout",
     "output_type": "stream",
     "text": [
      "{'activation': 'leakyrelu', 'batch_size': 32, 'dropout': 0.5, 'epochs': 1, 'first_neuron': 4096, 'hidden_layers': 4, 'label_type': 'Normalized', 'loss_function': 'mean_squared_error', 'lr': 5, 'monitor_value': 'val_custom_mae', 'optimizer': <class 'tensorflow.python.keras.optimizer_v2.adam.Adam'>, 'reduction_metric': 'custom_mae', 'samples': 20000}\n",
      "Using Loss: mean_squared_error \n",
      "and Reduction Metric: [<function custom_mae at 0x0000021D2788ACA8>]\n",
      "Monitor: val_custom_mae\n",
      "Train on 16000 samples, validate on 4000 samples\n",
      "15872/16000 [============================>.] - ETA: 0s - loss: 14419.0917 - custom_mae: 30.5649\n",
      "Epoch 00001: val_custom_mae improved from inf to 3.16239, saving model to ..\\fast_output\\SYNTH_Regression_MSE\\2020-05-28_Normalized_Base_Custom-MAE\\Best_Weights_FC_89.hdf5\n",
      "16000/16000 [==============================] - 14s 849us/sample - loss: 14304.2327 - custom_mae: 30.3680 - val_loss: 12.8150 - val_custom_mae: 3.1624\n",
      "Time taken: 0:00:15.254792\n"
     ]
    },
    {
     "name": "stderr",
     "output_type": "stream",
     "text": [
      "\r",
      " 25%|███████████████████▊                                                           | 90/360 [17:45<1:15:51, 16.86s/it]"
     ]
    },
    {
     "name": "stdout",
     "output_type": "stream",
     "text": [
      "{'activation': 'leakyrelu', 'batch_size': 64, 'dropout': 0.25, 'epochs': 1, 'first_neuron': 1024, 'hidden_layers': 0, 'label_type': 'Normalized', 'loss_function': 'mean_squared_error', 'lr': 1, 'monitor_value': 'val_custom_mae', 'optimizer': <class 'tensorflow.python.keras.optimizer_v2.adam.Adam'>, 'reduction_metric': 'custom_mae', 'samples': 20000}\n",
      "Using Loss: mean_squared_error \n",
      "and Reduction Metric: [<function custom_mae at 0x0000021D2788ACA8>]\n",
      "Monitor: val_custom_mae\n",
      "Train on 16000 samples, validate on 3968 samples\n",
      "15936/16000 [============================>.] - ETA: 0s - loss: 13.0587 - custom_mae: 1.2718\n",
      "Epoch 00001: val_custom_mae improved from inf to 0.30442, saving model to ..\\fast_output\\SYNTH_Regression_MSE\\2020-05-28_Normalized_Base_Custom-MAE\\Best_Weights_FC_90.hdf5\n",
      "16000/16000 [==============================] - 4s 220us/sample - loss: 13.0115 - custom_mae: 1.2704 - val_loss: 0.1599 - val_custom_mae: 0.3044\n",
      "Time taken: 0:00:05.297769\n"
     ]
    },
    {
     "name": "stderr",
     "output_type": "stream",
     "text": [
      "\r",
      " 25%|███████████████████▉                                                           | 91/360 [17:56<1:07:29, 15.05s/it]"
     ]
    },
    {
     "name": "stdout",
     "output_type": "stream",
     "text": [
      "{'activation': 'leakyrelu', 'batch_size': 64, 'dropout': 0.25, 'epochs': 1, 'first_neuron': 1024, 'hidden_layers': 0, 'label_type': 'Normalized', 'loss_function': 'mean_squared_error', 'lr': 2, 'monitor_value': 'val_custom_mae', 'optimizer': <class 'tensorflow.python.keras.optimizer_v2.adam.Adam'>, 'reduction_metric': 'custom_mae', 'samples': 20000}\n",
      "Using Loss: mean_squared_error \n",
      "and Reduction Metric: [<function custom_mae at 0x0000021D2788ACA8>]\n",
      "Monitor: val_custom_mae\n",
      "Train on 16000 samples, validate on 3968 samples\n",
      "15808/16000 [============================>.] - ETA: 0s - loss: 50.4988 - custom_mae: 2.3656\n",
      "Epoch 00001: val_custom_mae improved from inf to 0.36677, saving model to ..\\fast_output\\SYNTH_Regression_MSE\\2020-05-28_Normalized_Base_Custom-MAE\\Best_Weights_FC_91.hdf5\n",
      "16000/16000 [==============================] - 4s 220us/sample - loss: 49.9334 - custom_mae: 2.3546 - val_loss: 0.2216 - val_custom_mae: 0.3668\n",
      "Time taken: 0:00:05.180839\n"
     ]
    },
    {
     "name": "stderr",
     "output_type": "stream",
     "text": [
      "\r",
      " 26%|████████████████████▋                                                            | 92/360 [18:03<56:19, 12.61s/it]"
     ]
    },
    {
     "name": "stdout",
     "output_type": "stream",
     "text": [
      "{'activation': 'leakyrelu', 'batch_size': 64, 'dropout': 0.25, 'epochs': 1, 'first_neuron': 1024, 'hidden_layers': 0, 'label_type': 'Normalized', 'loss_function': 'mean_squared_error', 'lr': 5, 'monitor_value': 'val_custom_mae', 'optimizer': <class 'tensorflow.python.keras.optimizer_v2.adam.Adam'>, 'reduction_metric': 'custom_mae', 'samples': 20000}\n",
      "Using Loss: mean_squared_error \n",
      "and Reduction Metric: [<function custom_mae at 0x0000021D2788ACA8>]\n",
      "Monitor: val_custom_mae\n",
      "Train on 16000 samples, validate on 3968 samples\n",
      "15808/16000 [============================>.] - ETA: 0s - loss: 306.4240 - custom_mae: 5.2669\n",
      "Epoch 00001: val_custom_mae improved from inf to 0.74457, saving model to ..\\fast_output\\SYNTH_Regression_MSE\\2020-05-28_Normalized_Base_Custom-MAE\\Best_Weights_FC_92.hdf5\n",
      "16000/16000 [==============================] - 3s 217us/sample - loss: 302.8395 - custom_mae: 5.2303 - val_loss: 0.7851 - val_custom_mae: 0.7446\n",
      "Time taken: 0:00:05.147500\n"
     ]
    },
    {
     "name": "stderr",
     "output_type": "stream",
     "text": [
      "\r",
      " 26%|████████████████████▉                                                            | 93/360 [18:10<48:29, 10.90s/it]"
     ]
    },
    {
     "name": "stdout",
     "output_type": "stream",
     "text": [
      "{'activation': 'leakyrelu', 'batch_size': 64, 'dropout': 0.25, 'epochs': 1, 'first_neuron': 1024, 'hidden_layers': 1, 'label_type': 'Normalized', 'loss_function': 'mean_squared_error', 'lr': 1, 'monitor_value': 'val_custom_mae', 'optimizer': <class 'tensorflow.python.keras.optimizer_v2.adam.Adam'>, 'reduction_metric': 'custom_mae', 'samples': 20000}\n",
      "Using Loss: mean_squared_error \n",
      "and Reduction Metric: [<function custom_mae at 0x0000021D2788ACA8>]\n",
      "Monitor: val_custom_mae\n",
      "Train on 16000 samples, validate on 3968 samples\n",
      "15808/16000 [============================>.] - ETA: 0s - loss: 5.0420 - custom_mae: 0.9326\n",
      "Epoch 00001: val_custom_mae improved from inf to 0.33255, saving model to ..\\fast_output\\SYNTH_Regression_MSE\\2020-05-28_Normalized_Base_Custom-MAE\\Best_Weights_FC_93.hdf5\n",
      "16000/16000 [==============================] - 4s 222us/sample - loss: 4.9851 - custom_mae: 0.9266 - val_loss: 0.1798 - val_custom_mae: 0.3325\n",
      "Time taken: 0:00:05.224917\n"
     ]
    },
    {
     "name": "stderr",
     "output_type": "stream",
     "text": [
      "\r",
      " 26%|█████████████████████▏                                                           | 94/360 [18:17<43:06,  9.72s/it]"
     ]
    },
    {
     "name": "stdout",
     "output_type": "stream",
     "text": [
      "{'activation': 'leakyrelu', 'batch_size': 64, 'dropout': 0.25, 'epochs': 1, 'first_neuron': 1024, 'hidden_layers': 1, 'label_type': 'Normalized', 'loss_function': 'mean_squared_error', 'lr': 2, 'monitor_value': 'val_custom_mae', 'optimizer': <class 'tensorflow.python.keras.optimizer_v2.adam.Adam'>, 'reduction_metric': 'custom_mae', 'samples': 20000}\n",
      "Using Loss: mean_squared_error \n",
      "and Reduction Metric: [<function custom_mae at 0x0000021D2788ACA8>]\n",
      "Monitor: val_custom_mae\n",
      "Train on 16000 samples, validate on 3968 samples\n",
      "15936/16000 [============================>.] - ETA: 0s - loss: 25.1853 - custom_mae: 1.7206\n",
      "Epoch 00001: val_custom_mae improved from inf to 0.36106, saving model to ..\\fast_output\\SYNTH_Regression_MSE\\2020-05-28_Normalized_Base_Custom-MAE\\Best_Weights_FC_94.hdf5\n",
      "16000/16000 [==============================] - 4s 225us/sample - loss: 25.0880 - custom_mae: 1.7166 - val_loss: 0.2049 - val_custom_mae: 0.3611\n",
      "Time taken: 0:00:05.271739\n"
     ]
    },
    {
     "name": "stderr",
     "output_type": "stream",
     "text": [
      "\r",
      " 26%|█████████████████████▍                                                           | 95/360 [18:24<39:21,  8.91s/it]"
     ]
    },
    {
     "name": "stdout",
     "output_type": "stream",
     "text": [
      "{'activation': 'leakyrelu', 'batch_size': 64, 'dropout': 0.25, 'epochs': 1, 'first_neuron': 1024, 'hidden_layers': 1, 'label_type': 'Normalized', 'loss_function': 'mean_squared_error', 'lr': 5, 'monitor_value': 'val_custom_mae', 'optimizer': <class 'tensorflow.python.keras.optimizer_v2.adam.Adam'>, 'reduction_metric': 'custom_mae', 'samples': 20000}\n",
      "Using Loss: mean_squared_error \n",
      "and Reduction Metric: [<function custom_mae at 0x0000021D2788ACA8>]\n",
      "Monitor: val_custom_mae\n",
      "Train on 16000 samples, validate on 3968 samples\n",
      "15936/16000 [============================>.] - ETA: 0s - loss: 941.5136 - custom_mae: 7.8283\n",
      "Epoch 00001: val_custom_mae improved from inf to 0.48262, saving model to ..\\fast_output\\SYNTH_Regression_MSE\\2020-05-28_Normalized_Base_Custom-MAE\\Best_Weights_FC_95.hdf5\n",
      "16000/16000 [==============================] - 4s 223us/sample - loss: 937.8044 - custom_mae: 7.8089 - val_loss: 0.3595 - val_custom_mae: 0.4826\n",
      "Time taken: 0:00:05.240613\n"
     ]
    },
    {
     "name": "stderr",
     "output_type": "stream",
     "text": [
      "\r",
      " 27%|█████████████████████▌                                                           | 96/360 [18:31<36:41,  8.34s/it]"
     ]
    },
    {
     "name": "stdout",
     "output_type": "stream",
     "text": [
      "{'activation': 'leakyrelu', 'batch_size': 64, 'dropout': 0.25, 'epochs': 1, 'first_neuron': 1024, 'hidden_layers': 2, 'label_type': 'Normalized', 'loss_function': 'mean_squared_error', 'lr': 1, 'monitor_value': 'val_custom_mae', 'optimizer': <class 'tensorflow.python.keras.optimizer_v2.adam.Adam'>, 'reduction_metric': 'custom_mae', 'samples': 20000}\n",
      "Using Loss: mean_squared_error \n",
      "and Reduction Metric: [<function custom_mae at 0x0000021D2788ACA8>]\n",
      "Monitor: val_custom_mae\n",
      "Train on 16000 samples, validate on 3968 samples\n",
      "15872/16000 [============================>.] - ETA: 0s - loss: 1.3505 - custom_mae: 0.6324\n",
      "Epoch 00001: val_custom_mae improved from inf to 0.37350, saving model to ..\\fast_output\\SYNTH_Regression_MSE\\2020-05-28_Normalized_Base_Custom-MAE\\Best_Weights_FC_96.hdf5\n",
      "16000/16000 [==============================] - 4s 233us/sample - loss: 1.3416 - custom_mae: 0.6304 - val_loss: 0.2103 - val_custom_mae: 0.3735\n",
      "Time taken: 0:00:05.398828\n"
     ]
    },
    {
     "name": "stderr",
     "output_type": "stream",
     "text": [
      "\r",
      " 27%|█████████████████████▊                                                           | 97/360 [18:38<35:01,  7.99s/it]"
     ]
    },
    {
     "name": "stdout",
     "output_type": "stream",
     "text": [
      "{'activation': 'leakyrelu', 'batch_size': 64, 'dropout': 0.25, 'epochs': 1, 'first_neuron': 1024, 'hidden_layers': 2, 'label_type': 'Normalized', 'loss_function': 'mean_squared_error', 'lr': 2, 'monitor_value': 'val_custom_mae', 'optimizer': <class 'tensorflow.python.keras.optimizer_v2.adam.Adam'>, 'reduction_metric': 'custom_mae', 'samples': 20000}\n",
      "Using Loss: mean_squared_error \n",
      "and Reduction Metric: [<function custom_mae at 0x0000021D2788ACA8>]\n",
      "Monitor: val_custom_mae\n",
      "Train on 16000 samples, validate on 3968 samples\n",
      "15808/16000 [============================>.] - ETA: 0s - loss: 6.2830 - custom_mae: 1.0267\n",
      "Epoch 00001: val_custom_mae improved from inf to 0.41615, saving model to ..\\fast_output\\SYNTH_Regression_MSE\\2020-05-28_Normalized_Base_Custom-MAE\\Best_Weights_FC_97.hdf5\n",
      "16000/16000 [==============================] - 4s 229us/sample - loss: 6.2121 - custom_mae: 1.0204 - val_loss: 0.2509 - val_custom_mae: 0.4162\n",
      "Time taken: 0:00:05.341083\n"
     ]
    },
    {
     "name": "stderr",
     "output_type": "stream",
     "text": [
      "\r",
      " 27%|██████████████████████                                                           | 98/360 [18:45<33:45,  7.73s/it]"
     ]
    },
    {
     "name": "stdout",
     "output_type": "stream",
     "text": [
      "{'activation': 'leakyrelu', 'batch_size': 64, 'dropout': 0.25, 'epochs': 1, 'first_neuron': 1024, 'hidden_layers': 2, 'label_type': 'Normalized', 'loss_function': 'mean_squared_error', 'lr': 5, 'monitor_value': 'val_custom_mae', 'optimizer': <class 'tensorflow.python.keras.optimizer_v2.adam.Adam'>, 'reduction_metric': 'custom_mae', 'samples': 20000}\n",
      "Using Loss: mean_squared_error \n",
      "and Reduction Metric: [<function custom_mae at 0x0000021D2788ACA8>]\n",
      "Monitor: val_custom_mae\n",
      "Train on 16000 samples, validate on 3968 samples\n",
      "15808/16000 [============================>.] - ETA: 0s - loss: 155.7433 - custom_mae: 3.2551\n",
      "Epoch 00001: val_custom_mae improved from inf to 0.52170, saving model to ..\\fast_output\\SYNTH_Regression_MSE\\2020-05-28_Normalized_Base_Custom-MAE\\Best_Weights_FC_98.hdf5\n",
      "16000/16000 [==============================] - 4s 228us/sample - loss: 153.8970 - custom_mae: 3.2291 - val_loss: 0.3928 - val_custom_mae: 0.5217\n",
      "Time taken: 0:00:05.316595\n"
     ]
    },
    {
     "name": "stderr",
     "output_type": "stream",
     "text": [
      "\r",
      " 28%|██████████████████████▎                                                          | 99/360 [18:52<32:47,  7.54s/it]"
     ]
    },
    {
     "name": "stdout",
     "output_type": "stream",
     "text": [
      "{'activation': 'leakyrelu', 'batch_size': 64, 'dropout': 0.25, 'epochs': 1, 'first_neuron': 1024, 'hidden_layers': 3, 'label_type': 'Normalized', 'loss_function': 'mean_squared_error', 'lr': 1, 'monitor_value': 'val_custom_mae', 'optimizer': <class 'tensorflow.python.keras.optimizer_v2.adam.Adam'>, 'reduction_metric': 'custom_mae', 'samples': 20000}\n",
      "Using Loss: mean_squared_error \n",
      "and Reduction Metric: [<function custom_mae at 0x0000021D2788ACA8>]\n",
      "Monitor: val_custom_mae\n",
      "Train on 16000 samples, validate on 3968 samples\n",
      "15744/16000 [============================>.] - ETA: 0s - loss: 0.7228 - custom_mae: 0.5576\n",
      "Epoch 00001: val_custom_mae improved from inf to 0.38860, saving model to ..\\fast_output\\SYNTH_Regression_MSE\\2020-05-28_Normalized_Base_Custom-MAE\\Best_Weights_FC_99.hdf5\n",
      "16000/16000 [==============================] - 4s 235us/sample - loss: 0.7149 - custom_mae: 0.5548 - val_loss: 0.2209 - val_custom_mae: 0.3886\n",
      "Time taken: 0:00:05.428951\n"
     ]
    },
    {
     "name": "stderr",
     "output_type": "stream",
     "text": [
      "\r",
      " 28%|██████████████████████▏                                                         | 100/360 [18:59<32:17,  7.45s/it]"
     ]
    },
    {
     "name": "stdout",
     "output_type": "stream",
     "text": [
      "{'activation': 'leakyrelu', 'batch_size': 64, 'dropout': 0.25, 'epochs': 1, 'first_neuron': 1024, 'hidden_layers': 3, 'label_type': 'Normalized', 'loss_function': 'mean_squared_error', 'lr': 2, 'monitor_value': 'val_custom_mae', 'optimizer': <class 'tensorflow.python.keras.optimizer_v2.adam.Adam'>, 'reduction_metric': 'custom_mae', 'samples': 20000}\n",
      "Using Loss: mean_squared_error \n",
      "and Reduction Metric: [<function custom_mae at 0x0000021D2788ACA8>]\n",
      "Monitor: val_custom_mae\n",
      "Train on 16000 samples, validate on 3968 samples\n",
      "15744/16000 [============================>.] - ETA: 0s - loss: 2.6578 - custom_mae: 0.7816\n",
      "Epoch 00001: val_custom_mae improved from inf to 0.47767, saving model to ..\\fast_output\\SYNTH_Regression_MSE\\2020-05-28_Normalized_Base_Custom-MAE\\Best_Weights_FC_100.hdf5\n",
      "16000/16000 [==============================] - 4s 239us/sample - loss: 2.6205 - custom_mae: 0.7768 - val_loss: 0.3083 - val_custom_mae: 0.4777\n",
      "Time taken: 0:00:05.526089\n"
     ]
    },
    {
     "name": "stderr",
     "output_type": "stream",
     "text": [
      "\r",
      " 28%|██████████████████████▍                                                         | 101/360 [19:07<32:01,  7.42s/it]"
     ]
    },
    {
     "name": "stdout",
     "output_type": "stream",
     "text": [
      "{'activation': 'leakyrelu', 'batch_size': 64, 'dropout': 0.25, 'epochs': 1, 'first_neuron': 1024, 'hidden_layers': 3, 'label_type': 'Normalized', 'loss_function': 'mean_squared_error', 'lr': 5, 'monitor_value': 'val_custom_mae', 'optimizer': <class 'tensorflow.python.keras.optimizer_v2.adam.Adam'>, 'reduction_metric': 'custom_mae', 'samples': 20000}\n",
      "Using Loss: mean_squared_error \n",
      "and Reduction Metric: [<function custom_mae at 0x0000021D2788ACA8>]\n",
      "Monitor: val_custom_mae\n",
      "Train on 16000 samples, validate on 3968 samples\n",
      "15872/16000 [============================>.] - ETA: 0s - loss: 49.7559 - custom_mae: 2.2810\n",
      "Epoch 00001: val_custom_mae improved from inf to 0.53128, saving model to ..\\fast_output\\SYNTH_Regression_MSE\\2020-05-28_Normalized_Base_Custom-MAE\\Best_Weights_FC_101.hdf5\n",
      "16000/16000 [==============================] - 4s 237us/sample - loss: 49.3655 - custom_mae: 2.2691 - val_loss: 0.3989 - val_custom_mae: 0.5313\n",
      "Time taken: 0:00:05.420397\n"
     ]
    },
    {
     "name": "stderr",
     "output_type": "stream",
     "text": [
      "\r",
      " 28%|██████████████████████▋                                                         | 102/360 [19:14<31:39,  7.36s/it]"
     ]
    },
    {
     "name": "stdout",
     "output_type": "stream",
     "text": [
      "{'activation': 'leakyrelu', 'batch_size': 64, 'dropout': 0.25, 'epochs': 1, 'first_neuron': 1024, 'hidden_layers': 4, 'label_type': 'Normalized', 'loss_function': 'mean_squared_error', 'lr': 1, 'monitor_value': 'val_custom_mae', 'optimizer': <class 'tensorflow.python.keras.optimizer_v2.adam.Adam'>, 'reduction_metric': 'custom_mae', 'samples': 20000}\n",
      "Using Loss: mean_squared_error \n",
      "and Reduction Metric: [<function custom_mae at 0x0000021D2788ACA8>]\n",
      "Monitor: val_custom_mae\n",
      "Train on 16000 samples, validate on 3968 samples\n",
      "15808/16000 [============================>.] - ETA: 0s - loss: 0.5870 - custom_mae: 0.5606\n",
      "Epoch 00001: val_custom_mae improved from inf to 0.39503, saving model to ..\\fast_output\\SYNTH_Regression_MSE\\2020-05-28_Normalized_Base_Custom-MAE\\Best_Weights_FC_102.hdf5\n",
      "16000/16000 [==============================] - 4s 241us/sample - loss: 0.5832 - custom_mae: 0.5589 - val_loss: 0.2295 - val_custom_mae: 0.3950\n",
      "Time taken: 0:00:05.517263\n"
     ]
    },
    {
     "name": "stderr",
     "output_type": "stream",
     "text": [
      "\r",
      " 29%|██████████████████████▉                                                         | 103/360 [19:21<31:32,  7.37s/it]"
     ]
    },
    {
     "name": "stdout",
     "output_type": "stream",
     "text": [
      "{'activation': 'leakyrelu', 'batch_size': 64, 'dropout': 0.25, 'epochs': 1, 'first_neuron': 1024, 'hidden_layers': 4, 'label_type': 'Normalized', 'loss_function': 'mean_squared_error', 'lr': 2, 'monitor_value': 'val_custom_mae', 'optimizer': <class 'tensorflow.python.keras.optimizer_v2.adam.Adam'>, 'reduction_metric': 'custom_mae', 'samples': 20000}\n",
      "Using Loss: mean_squared_error \n",
      "and Reduction Metric: [<function custom_mae at 0x0000021D2788ACA8>]\n",
      "Monitor: val_custom_mae\n",
      "Train on 16000 samples, validate on 3968 samples\n",
      "15808/16000 [============================>.] - ETA: 0s - loss: 1.6111 - custom_mae: 0.7006\n",
      "Epoch 00001: val_custom_mae improved from inf to 0.48241, saving model to ..\\fast_output\\SYNTH_Regression_MSE\\2020-05-28_Normalized_Base_Custom-MAE\\Best_Weights_FC_103.hdf5\n",
      "16000/16000 [==============================] - 4s 246us/sample - loss: 1.5956 - custom_mae: 0.6981 - val_loss: 0.3119 - val_custom_mae: 0.4824\n",
      "Time taken: 0:00:05.629224\n"
     ]
    },
    {
     "name": "stderr",
     "output_type": "stream",
     "text": [
      "\r",
      " 29%|███████████████████████                                                         | 104/360 [19:29<31:34,  7.40s/it]"
     ]
    },
    {
     "name": "stdout",
     "output_type": "stream",
     "text": [
      "{'activation': 'leakyrelu', 'batch_size': 64, 'dropout': 0.25, 'epochs': 1, 'first_neuron': 1024, 'hidden_layers': 4, 'label_type': 'Normalized', 'loss_function': 'mean_squared_error', 'lr': 5, 'monitor_value': 'val_custom_mae', 'optimizer': <class 'tensorflow.python.keras.optimizer_v2.adam.Adam'>, 'reduction_metric': 'custom_mae', 'samples': 20000}\n",
      "Using Loss: mean_squared_error \n",
      "and Reduction Metric: [<function custom_mae at 0x0000021D2788ACA8>]\n",
      "Monitor: val_custom_mae\n",
      "Train on 16000 samples, validate on 3968 samples\n",
      "15616/16000 [============================>.] - ETA: 0s - loss: 28.3220 - custom_mae: 1.7786\n",
      "Epoch 00001: val_custom_mae improved from inf to 0.48259, saving model to ..\\fast_output\\SYNTH_Regression_MSE\\2020-05-28_Normalized_Base_Custom-MAE\\Best_Weights_FC_104.hdf5\n",
      "16000/16000 [==============================] - 4s 244us/sample - loss: 27.6573 - custom_mae: 1.7511 - val_loss: 0.3125 - val_custom_mae: 0.4826\n",
      "Time taken: 0:00:05.571307\n"
     ]
    },
    {
     "name": "stderr",
     "output_type": "stream",
     "text": [
      "\r",
      " 29%|███████████████████████▎                                                        | 105/360 [19:36<31:28,  7.41s/it]"
     ]
    },
    {
     "name": "stdout",
     "output_type": "stream",
     "text": [
      "{'activation': 'leakyrelu', 'batch_size': 64, 'dropout': 0.25, 'epochs': 1, 'first_neuron': 2048, 'hidden_layers': 0, 'label_type': 'Normalized', 'loss_function': 'mean_squared_error', 'lr': 1, 'monitor_value': 'val_custom_mae', 'optimizer': <class 'tensorflow.python.keras.optimizer_v2.adam.Adam'>, 'reduction_metric': 'custom_mae', 'samples': 20000}\n",
      "Using Loss: mean_squared_error \n",
      "and Reduction Metric: [<function custom_mae at 0x0000021D2788ACA8>]\n",
      "Monitor: val_custom_mae\n",
      "Train on 16000 samples, validate on 3968 samples\n",
      "15808/16000 [============================>.] - ETA: 0s - loss: 26.9241 - custom_mae: 1.4885\n",
      "Epoch 00001: val_custom_mae improved from inf to 0.36406, saving model to ..\\fast_output\\SYNTH_Regression_MSE\\2020-05-28_Normalized_Base_Custom-MAE\\Best_Weights_FC_105.hdf5\n",
      "16000/16000 [==============================] - 5s 341us/sample - loss: 26.6147 - custom_mae: 1.4806 - val_loss: 0.2151 - val_custom_mae: 0.3641\n",
      "Time taken: 0:00:07.125454\n"
     ]
    },
    {
     "name": "stderr",
     "output_type": "stream",
     "text": [
      "\r",
      " 29%|███████████████████████▌                                                        | 106/360 [19:45<33:14,  7.85s/it]"
     ]
    },
    {
     "name": "stdout",
     "output_type": "stream",
     "text": [
      "{'activation': 'leakyrelu', 'batch_size': 64, 'dropout': 0.25, 'epochs': 1, 'first_neuron': 2048, 'hidden_layers': 0, 'label_type': 'Normalized', 'loss_function': 'mean_squared_error', 'lr': 2, 'monitor_value': 'val_custom_mae', 'optimizer': <class 'tensorflow.python.keras.optimizer_v2.adam.Adam'>, 'reduction_metric': 'custom_mae', 'samples': 20000}\n",
      "Using Loss: mean_squared_error \n",
      "and Reduction Metric: [<function custom_mae at 0x0000021D2788ACA8>]\n",
      "Monitor: val_custom_mae\n",
      "Train on 16000 samples, validate on 3968 samples\n",
      "15616/16000 [============================>.] - ETA: 0s - loss: 103.4749 - custom_mae: 2.8546\n",
      "Epoch 00001: val_custom_mae improved from inf to 0.33528, saving model to ..\\fast_output\\SYNTH_Regression_MSE\\2020-05-28_Normalized_Base_Custom-MAE\\Best_Weights_FC_106.hdf5\n",
      "16000/16000 [==============================] - 5s 336us/sample - loss: 101.0659 - custom_mae: 2.8194 - val_loss: 0.1888 - val_custom_mae: 0.3353\n",
      "Time taken: 0:00:07.045460\n"
     ]
    },
    {
     "name": "stderr",
     "output_type": "stream",
     "text": [
      "\r",
      " 30%|███████████████████████▊                                                        | 107/360 [19:54<34:17,  8.13s/it]"
     ]
    },
    {
     "name": "stdout",
     "output_type": "stream",
     "text": [
      "{'activation': 'leakyrelu', 'batch_size': 64, 'dropout': 0.25, 'epochs': 1, 'first_neuron': 2048, 'hidden_layers': 0, 'label_type': 'Normalized', 'loss_function': 'mean_squared_error', 'lr': 5, 'monitor_value': 'val_custom_mae', 'optimizer': <class 'tensorflow.python.keras.optimizer_v2.adam.Adam'>, 'reduction_metric': 'custom_mae', 'samples': 20000}\n",
      "Using Loss: mean_squared_error \n",
      "and Reduction Metric: [<function custom_mae at 0x0000021D2788ACA8>]\n",
      "Monitor: val_custom_mae\n",
      "Train on 16000 samples, validate on 3968 samples\n",
      "15744/16000 [============================>.] - ETA: 0s - loss: 644.0554 - custom_mae: 6.7819\n",
      "Epoch 00001: val_custom_mae improved from inf to 1.56503, saving model to ..\\fast_output\\SYNTH_Regression_MSE\\2020-05-28_Normalized_Base_Custom-MAE\\Best_Weights_FC_107.hdf5\n",
      "16000/16000 [==============================] - 5s 334us/sample - loss: 633.9303 - custom_mae: 6.7154 - val_loss: 4.2135 - val_custom_mae: 1.5650\n",
      "Time taken: 0:00:07.010244\n"
     ]
    },
    {
     "name": "stderr",
     "output_type": "stream",
     "text": [
      "\r",
      " 30%|████████████████████████                                                        | 108/360 [20:03<34:57,  8.32s/it]"
     ]
    },
    {
     "name": "stdout",
     "output_type": "stream",
     "text": [
      "{'activation': 'leakyrelu', 'batch_size': 64, 'dropout': 0.25, 'epochs': 1, 'first_neuron': 2048, 'hidden_layers': 1, 'label_type': 'Normalized', 'loss_function': 'mean_squared_error', 'lr': 1, 'monitor_value': 'val_custom_mae', 'optimizer': <class 'tensorflow.python.keras.optimizer_v2.adam.Adam'>, 'reduction_metric': 'custom_mae', 'samples': 20000}\n",
      "Using Loss: mean_squared_error \n",
      "and Reduction Metric: [<function custom_mae at 0x0000021D2788ACA8>]\n",
      "Monitor: val_custom_mae\n",
      "Train on 16000 samples, validate on 3968 samples\n",
      "15808/16000 [============================>.] - ETA: 0s - loss: 13.2111 - custom_mae: 1.2887\n",
      "Epoch 00001: val_custom_mae improved from inf to 0.29823, saving model to ..\\fast_output\\SYNTH_Regression_MSE\\2020-05-28_Normalized_Base_Custom-MAE\\Best_Weights_FC_108.hdf5\n",
      "16000/16000 [==============================] - 6s 352us/sample - loss: 13.0599 - custom_mae: 1.2809 - val_loss: 0.1552 - val_custom_mae: 0.2982\n",
      "Time taken: 0:00:07.306937\n"
     ]
    },
    {
     "name": "stderr",
     "output_type": "stream",
     "text": [
      "\r",
      " 30%|████████████████████████▏                                                       | 109/360 [20:12<35:46,  8.55s/it]"
     ]
    },
    {
     "name": "stdout",
     "output_type": "stream",
     "text": [
      "{'activation': 'leakyrelu', 'batch_size': 64, 'dropout': 0.25, 'epochs': 1, 'first_neuron': 2048, 'hidden_layers': 1, 'label_type': 'Normalized', 'loss_function': 'mean_squared_error', 'lr': 2, 'monitor_value': 'val_custom_mae', 'optimizer': <class 'tensorflow.python.keras.optimizer_v2.adam.Adam'>, 'reduction_metric': 'custom_mae', 'samples': 20000}\n",
      "Using Loss: mean_squared_error \n",
      "and Reduction Metric: [<function custom_mae at 0x0000021D2788ACA8>]\n",
      "Monitor: val_custom_mae\n",
      "Train on 16000 samples, validate on 3968 samples\n",
      "15808/16000 [============================>.] - ETA: 0s - loss: 141.0827 - custom_mae: 2.9298\n",
      "Epoch 00001: val_custom_mae improved from inf to 0.56402, saving model to ..\\fast_output\\SYNTH_Regression_MSE\\2020-05-28_Normalized_Base_Custom-MAE\\Best_Weights_FC_109.hdf5\n",
      "16000/16000 [==============================] - 6s 347us/sample - loss: 139.4110 - custom_mae: 2.9074 - val_loss: 0.4489 - val_custom_mae: 0.5640\n",
      "Time taken: 0:00:07.224062\n"
     ]
    },
    {
     "name": "stderr",
     "output_type": "stream",
     "text": [
      "\r",
      " 31%|████████████████████████▍                                                       | 110/360 [20:21<36:11,  8.69s/it]"
     ]
    },
    {
     "name": "stdout",
     "output_type": "stream",
     "text": [
      "{'activation': 'leakyrelu', 'batch_size': 64, 'dropout': 0.25, 'epochs': 1, 'first_neuron': 2048, 'hidden_layers': 1, 'label_type': 'Normalized', 'loss_function': 'mean_squared_error', 'lr': 5, 'monitor_value': 'val_custom_mae', 'optimizer': <class 'tensorflow.python.keras.optimizer_v2.adam.Adam'>, 'reduction_metric': 'custom_mae', 'samples': 20000}\n",
      "Using Loss: mean_squared_error \n",
      "and Reduction Metric: [<function custom_mae at 0x0000021D2788ACA8>]\n",
      "Monitor: val_custom_mae\n",
      "Train on 16000 samples, validate on 3968 samples\n",
      "15744/16000 [============================>.] - ETA: 0s - loss: 5887.6616 - custom_mae: 18.7848\n",
      "Epoch 00001: val_custom_mae improved from inf to 0.54139, saving model to ..\\fast_output\\SYNTH_Regression_MSE\\2020-05-28_Normalized_Base_Custom-MAE\\Best_Weights_FC_110.hdf5\n",
      "16000/16000 [==============================] - 6s 353us/sample - loss: 5794.1042 - custom_mae: 18.5653 - val_loss: 0.4994 - val_custom_mae: 0.5414\n",
      "Time taken: 0:00:07.345236\n"
     ]
    },
    {
     "name": "stderr",
     "output_type": "stream",
     "text": [
      "\r",
      " 31%|████████████████████████▋                                                       | 111/360 [20:30<36:34,  8.81s/it]"
     ]
    },
    {
     "name": "stdout",
     "output_type": "stream",
     "text": [
      "{'activation': 'leakyrelu', 'batch_size': 64, 'dropout': 0.25, 'epochs': 1, 'first_neuron': 2048, 'hidden_layers': 2, 'label_type': 'Normalized', 'loss_function': 'mean_squared_error', 'lr': 1, 'monitor_value': 'val_custom_mae', 'optimizer': <class 'tensorflow.python.keras.optimizer_v2.adam.Adam'>, 'reduction_metric': 'custom_mae', 'samples': 20000}\n",
      "Using Loss: mean_squared_error \n",
      "and Reduction Metric: [<function custom_mae at 0x0000021D2788ACA8>]\n",
      "Monitor: val_custom_mae\n",
      "Train on 16000 samples, validate on 3968 samples\n",
      "15616/16000 [============================>.] - ETA: 0s - loss: 5.5643 - custom_mae: 0.8845\n",
      "Epoch 00001: val_custom_mae improved from inf to 0.38611, saving model to ..\\fast_output\\SYNTH_Regression_MSE\\2020-05-28_Normalized_Base_Custom-MAE\\Best_Weights_FC_111.hdf5\n",
      "16000/16000 [==============================] - 6s 354us/sample - loss: 5.4386 - custom_mae: 0.8741 - val_loss: 0.2238 - val_custom_mae: 0.3861\n",
      "Time taken: 0:00:07.326859\n"
     ]
    },
    {
     "name": "stderr",
     "output_type": "stream",
     "text": [
      "\r",
      " 31%|████████████████████████▉                                                       | 112/360 [20:39<36:49,  8.91s/it]"
     ]
    },
    {
     "name": "stdout",
     "output_type": "stream",
     "text": [
      "{'activation': 'leakyrelu', 'batch_size': 64, 'dropout': 0.25, 'epochs': 1, 'first_neuron': 2048, 'hidden_layers': 2, 'label_type': 'Normalized', 'loss_function': 'mean_squared_error', 'lr': 2, 'monitor_value': 'val_custom_mae', 'optimizer': <class 'tensorflow.python.keras.optimizer_v2.adam.Adam'>, 'reduction_metric': 'custom_mae', 'samples': 20000}\n",
      "Using Loss: mean_squared_error \n",
      "and Reduction Metric: [<function custom_mae at 0x0000021D2788ACA8>]\n",
      "Monitor: val_custom_mae\n",
      "Train on 16000 samples, validate on 3968 samples\n",
      "15680/16000 [============================>.] - ETA: 0s - loss: 51.7528 - custom_mae: 2.0537\n",
      "Epoch 00001: val_custom_mae improved from inf to 0.47213, saving model to ..\\fast_output\\SYNTH_Regression_MSE\\2020-05-28_Normalized_Base_Custom-MAE\\Best_Weights_FC_112.hdf5\n",
      "16000/16000 [==============================] - 6s 359us/sample - loss: 50.7366 - custom_mae: 2.0280 - val_loss: 0.3249 - val_custom_mae: 0.4721\n",
      "Time taken: 0:00:07.441717\n"
     ]
    },
    {
     "name": "stderr",
     "output_type": "stream",
     "text": [
      "\r",
      " 31%|█████████████████████████                                                       | 113/360 [20:48<37:06,  9.01s/it]"
     ]
    },
    {
     "name": "stdout",
     "output_type": "stream",
     "text": [
      "{'activation': 'leakyrelu', 'batch_size': 64, 'dropout': 0.25, 'epochs': 1, 'first_neuron': 2048, 'hidden_layers': 2, 'label_type': 'Normalized', 'loss_function': 'mean_squared_error', 'lr': 5, 'monitor_value': 'val_custom_mae', 'optimizer': <class 'tensorflow.python.keras.optimizer_v2.adam.Adam'>, 'reduction_metric': 'custom_mae', 'samples': 20000}\n",
      "Using Loss: mean_squared_error \n",
      "and Reduction Metric: [<function custom_mae at 0x0000021D2788ACA8>]\n",
      "Monitor: val_custom_mae\n",
      "Train on 16000 samples, validate on 3968 samples\n",
      "15616/16000 [============================>.] - ETA: 0s - loss: 21298.8495 - custom_mae: 22.8886\n",
      "Epoch 00001: val_custom_mae improved from inf to 1.07089, saving model to ..\\fast_output\\SYNTH_Regression_MSE\\2020-05-28_Normalized_Base_Custom-MAE\\Best_Weights_FC_113.hdf5\n",
      "16000/16000 [==============================] - 6s 358us/sample - loss: 20788.5058 - custom_mae: 22.4485 - val_loss: 1.5380 - val_custom_mae: 1.0709\n",
      "Time taken: 0:00:07.386088\n"
     ]
    },
    {
     "name": "stderr",
     "output_type": "stream",
     "text": [
      "\r",
      " 32%|█████████████████████████▎                                                      | 114/360 [20:57<37:08,  9.06s/it]"
     ]
    },
    {
     "name": "stdout",
     "output_type": "stream",
     "text": [
      "{'activation': 'leakyrelu', 'batch_size': 64, 'dropout': 0.25, 'epochs': 1, 'first_neuron': 2048, 'hidden_layers': 3, 'label_type': 'Normalized', 'loss_function': 'mean_squared_error', 'lr': 1, 'monitor_value': 'val_custom_mae', 'optimizer': <class 'tensorflow.python.keras.optimizer_v2.adam.Adam'>, 'reduction_metric': 'custom_mae', 'samples': 20000}\n",
      "Using Loss: mean_squared_error \n",
      "and Reduction Metric: [<function custom_mae at 0x0000021D2788ACA8>]\n",
      "Monitor: val_custom_mae\n",
      "Train on 16000 samples, validate on 3968 samples\n",
      "15808/16000 [============================>.] - ETA: 0s - loss: 1.7449 - custom_mae: 0.6947\n",
      "Epoch 00001: val_custom_mae improved from inf to 0.40242, saving model to ..\\fast_output\\SYNTH_Regression_MSE\\2020-05-28_Normalized_Base_Custom-MAE\\Best_Weights_FC_114.hdf5\n",
      "16000/16000 [==============================] - 6s 364us/sample - loss: 1.7271 - custom_mae: 0.6915 - val_loss: 0.2347 - val_custom_mae: 0.4024\n",
      "Time taken: 0:00:07.486637\n"
     ]
    },
    {
     "name": "stderr",
     "output_type": "stream",
     "text": [
      "\r",
      " 32%|█████████████████████████▌                                                      | 115/360 [21:07<37:18,  9.14s/it]"
     ]
    },
    {
     "name": "stdout",
     "output_type": "stream",
     "text": [
      "{'activation': 'leakyrelu', 'batch_size': 64, 'dropout': 0.25, 'epochs': 1, 'first_neuron': 2048, 'hidden_layers': 3, 'label_type': 'Normalized', 'loss_function': 'mean_squared_error', 'lr': 2, 'monitor_value': 'val_custom_mae', 'optimizer': <class 'tensorflow.python.keras.optimizer_v2.adam.Adam'>, 'reduction_metric': 'custom_mae', 'samples': 20000}\n",
      "Using Loss: mean_squared_error \n",
      "and Reduction Metric: [<function custom_mae at 0x0000021D2788ACA8>]\n",
      "Monitor: val_custom_mae\n",
      "Train on 16000 samples, validate on 3968 samples\n",
      "15744/16000 [============================>.] - ETA: 0s - loss: 13.9177 - custom_mae: 1.3246\n",
      "Epoch 00001: val_custom_mae improved from inf to 0.48191, saving model to ..\\fast_output\\SYNTH_Regression_MSE\\2020-05-28_Normalized_Base_Custom-MAE\\Best_Weights_FC_115.hdf5\n",
      "16000/16000 [==============================] - 6s 365us/sample - loss: 13.7018 - custom_mae: 1.3120 - val_loss: 0.3161 - val_custom_mae: 0.4819\n",
      "Time taken: 0:00:07.496681\n"
     ]
    },
    {
     "name": "stderr",
     "output_type": "stream",
     "text": [
      "\r",
      " 32%|█████████████████████████▊                                                      | 116/360 [21:16<37:22,  9.19s/it]"
     ]
    },
    {
     "name": "stdout",
     "output_type": "stream",
     "text": [
      "{'activation': 'leakyrelu', 'batch_size': 64, 'dropout': 0.25, 'epochs': 1, 'first_neuron': 2048, 'hidden_layers': 3, 'label_type': 'Normalized', 'loss_function': 'mean_squared_error', 'lr': 5, 'monitor_value': 'val_custom_mae', 'optimizer': <class 'tensorflow.python.keras.optimizer_v2.adam.Adam'>, 'reduction_metric': 'custom_mae', 'samples': 20000}\n",
      "Using Loss: mean_squared_error \n",
      "and Reduction Metric: [<function custom_mae at 0x0000021D2788ACA8>]\n",
      "Monitor: val_custom_mae\n",
      "Train on 16000 samples, validate on 3968 samples\n",
      "15808/16000 [============================>.] - ETA: 0s - loss: 2850.2997 - custom_mae: 10.8827\n",
      "Epoch 00001: val_custom_mae improved from inf to 0.57200, saving model to ..\\fast_output\\SYNTH_Regression_MSE\\2020-05-28_Normalized_Base_Custom-MAE\\Best_Weights_FC_116.hdf5\n",
      "16000/16000 [==============================] - 6s 365us/sample - loss: 2816.1789 - custom_mae: 10.7768 - val_loss: 0.4862 - val_custom_mae: 0.5720\n",
      "Time taken: 0:00:07.505406\n"
     ]
    },
    {
     "name": "stderr",
     "output_type": "stream",
     "text": [
      "\r",
      " 32%|██████████████████████████                                                      | 117/360 [21:25<37:23,  9.23s/it]"
     ]
    },
    {
     "name": "stdout",
     "output_type": "stream",
     "text": [
      "{'activation': 'leakyrelu', 'batch_size': 64, 'dropout': 0.25, 'epochs': 1, 'first_neuron': 2048, 'hidden_layers': 4, 'label_type': 'Normalized', 'loss_function': 'mean_squared_error', 'lr': 1, 'monitor_value': 'val_custom_mae', 'optimizer': <class 'tensorflow.python.keras.optimizer_v2.adam.Adam'>, 'reduction_metric': 'custom_mae', 'samples': 20000}\n",
      "Using Loss: mean_squared_error \n",
      "and Reduction Metric: [<function custom_mae at 0x0000021D2788ACA8>]\n",
      "Monitor: val_custom_mae\n",
      "Train on 16000 samples, validate on 3968 samples\n",
      "15616/16000 [============================>.] - ETA: 0s - loss: 0.8453 - custom_mae: 0.5812\n",
      "Epoch 00001: val_custom_mae improved from inf to 0.34262, saving model to ..\\fast_output\\SYNTH_Regression_MSE\\2020-05-28_Normalized_Base_Custom-MAE\\Best_Weights_FC_117.hdf5\n",
      "16000/16000 [==============================] - 6s 365us/sample - loss: 0.8305 - custom_mae: 0.5764 - val_loss: 0.1860 - val_custom_mae: 0.3426\n",
      "Time taken: 0:00:07.517331\n"
     ]
    },
    {
     "name": "stderr",
     "output_type": "stream",
     "text": [
      "\r",
      " 33%|██████████████████████████▏                                                     | 118/360 [21:35<37:24,  9.27s/it]"
     ]
    },
    {
     "name": "stdout",
     "output_type": "stream",
     "text": [
      "{'activation': 'leakyrelu', 'batch_size': 64, 'dropout': 0.25, 'epochs': 1, 'first_neuron': 2048, 'hidden_layers': 4, 'label_type': 'Normalized', 'loss_function': 'mean_squared_error', 'lr': 2, 'monitor_value': 'val_custom_mae', 'optimizer': <class 'tensorflow.python.keras.optimizer_v2.adam.Adam'>, 'reduction_metric': 'custom_mae', 'samples': 20000}\n",
      "Using Loss: mean_squared_error \n",
      "and Reduction Metric: [<function custom_mae at 0x0000021D2788ACA8>]\n",
      "Monitor: val_custom_mae\n",
      "Train on 16000 samples, validate on 3968 samples\n",
      "15872/16000 [============================>.] - ETA: 0s - loss: 4.2040 - custom_mae: 0.8845\n",
      "Epoch 00001: val_custom_mae improved from inf to 0.46994, saving model to ..\\fast_output\\SYNTH_Regression_MSE\\2020-05-28_Normalized_Base_Custom-MAE\\Best_Weights_FC_118.hdf5\n",
      "16000/16000 [==============================] - 6s 373us/sample - loss: 4.1731 - custom_mae: 0.8814 - val_loss: 0.2995 - val_custom_mae: 0.4699\n",
      "Time taken: 0:00:07.639251\n"
     ]
    },
    {
     "name": "stderr",
     "output_type": "stream",
     "text": [
      "\r",
      " 33%|██████████████████████████▍                                                     | 119/360 [21:44<37:31,  9.34s/it]"
     ]
    },
    {
     "name": "stdout",
     "output_type": "stream",
     "text": [
      "{'activation': 'leakyrelu', 'batch_size': 64, 'dropout': 0.25, 'epochs': 1, 'first_neuron': 2048, 'hidden_layers': 4, 'label_type': 'Normalized', 'loss_function': 'mean_squared_error', 'lr': 5, 'monitor_value': 'val_custom_mae', 'optimizer': <class 'tensorflow.python.keras.optimizer_v2.adam.Adam'>, 'reduction_metric': 'custom_mae', 'samples': 20000}\n",
      "Using Loss: mean_squared_error \n",
      "and Reduction Metric: [<function custom_mae at 0x0000021D2788ACA8>]\n",
      "Monitor: val_custom_mae\n",
      "Train on 16000 samples, validate on 3968 samples\n",
      "15744/16000 [============================>.] - ETA: 0s - loss: 1384.8620 - custom_mae: 10.3665\n",
      "Epoch 00001: val_custom_mae improved from inf to 0.57282, saving model to ..\\fast_output\\SYNTH_Regression_MSE\\2020-05-28_Normalized_Base_Custom-MAE\\Best_Weights_FC_119.hdf5\n",
      "16000/16000 [==============================] - 6s 370us/sample - loss: 1362.8857 - custom_mae: 10.2398 - val_loss: 0.4943 - val_custom_mae: 0.5728\n",
      "Time taken: 0:00:07.580495\n"
     ]
    },
    {
     "name": "stderr",
     "output_type": "stream",
     "text": [
      "\r",
      " 33%|██████████████████████████▋                                                     | 120/360 [21:54<37:29,  9.37s/it]"
     ]
    },
    {
     "name": "stdout",
     "output_type": "stream",
     "text": [
      "{'activation': 'leakyrelu', 'batch_size': 64, 'dropout': 0.25, 'epochs': 1, 'first_neuron': 4096, 'hidden_layers': 0, 'label_type': 'Normalized', 'loss_function': 'mean_squared_error', 'lr': 1, 'monitor_value': 'val_custom_mae', 'optimizer': <class 'tensorflow.python.keras.optimizer_v2.adam.Adam'>, 'reduction_metric': 'custom_mae', 'samples': 20000}\n",
      "Using Loss: mean_squared_error \n",
      "and Reduction Metric: [<function custom_mae at 0x0000021D2788ACA8>]\n",
      "Monitor: val_custom_mae\n",
      "Train on 16000 samples, validate on 3968 samples\n",
      "15808/16000 [============================>.] - ETA: 0s - loss: 50.0491 - custom_mae: 1.7559\n",
      "Epoch 00001: val_custom_mae improved from inf to 0.39914, saving model to ..\\fast_output\\SYNTH_Regression_MSE\\2020-05-28_Normalized_Base_Custom-MAE\\Best_Weights_FC_120.hdf5\n",
      "16000/16000 [==============================] - 9s 583us/sample - loss: 49.4645 - custom_mae: 1.7457 - val_loss: 0.2418 - val_custom_mae: 0.3991\n",
      "Time taken: 0:00:10.984657\n"
     ]
    },
    {
     "name": "stderr",
     "output_type": "stream",
     "text": [
      "\r",
      " 34%|██████████████████████████▉                                                     | 121/360 [22:06<41:22, 10.39s/it]"
     ]
    },
    {
     "name": "stdout",
     "output_type": "stream",
     "text": [
      "{'activation': 'leakyrelu', 'batch_size': 64, 'dropout': 0.25, 'epochs': 1, 'first_neuron': 4096, 'hidden_layers': 0, 'label_type': 'Normalized', 'loss_function': 'mean_squared_error', 'lr': 2, 'monitor_value': 'val_custom_mae', 'optimizer': <class 'tensorflow.python.keras.optimizer_v2.adam.Adam'>, 'reduction_metric': 'custom_mae', 'samples': 20000}\n",
      "Using Loss: mean_squared_error \n",
      "and Reduction Metric: [<function custom_mae at 0x0000021D2788ACA8>]\n",
      "Monitor: val_custom_mae\n",
      "Train on 16000 samples, validate on 3968 samples\n",
      "15936/16000 [============================>.] - ETA: 0s - loss: 197.1741 - custom_mae: 3.4409\n",
      "Epoch 00001: val_custom_mae improved from inf to 0.74517, saving model to ..\\fast_output\\SYNTH_Regression_MSE\\2020-05-28_Normalized_Base_Custom-MAE\\Best_Weights_FC_121.hdf5\n",
      "16000/16000 [==============================] - 9s 580us/sample - loss: 196.4026 - custom_mae: 3.4336 - val_loss: 0.8185 - val_custom_mae: 0.7452\n",
      "Time taken: 0:00:10.949569\n"
     ]
    },
    {
     "name": "stderr",
     "output_type": "stream",
     "text": [
      "\r",
      " 34%|███████████████████████████                                                     | 122/360 [22:19<43:58, 11.08s/it]"
     ]
    },
    {
     "name": "stdout",
     "output_type": "stream",
     "text": [
      "{'activation': 'leakyrelu', 'batch_size': 64, 'dropout': 0.25, 'epochs': 1, 'first_neuron': 4096, 'hidden_layers': 0, 'label_type': 'Normalized', 'loss_function': 'mean_squared_error', 'lr': 5, 'monitor_value': 'val_custom_mae', 'optimizer': <class 'tensorflow.python.keras.optimizer_v2.adam.Adam'>, 'reduction_metric': 'custom_mae', 'samples': 20000}\n",
      "Using Loss: mean_squared_error \n",
      "and Reduction Metric: [<function custom_mae at 0x0000021D2788ACA8>]\n",
      "Monitor: val_custom_mae\n",
      "Train on 16000 samples, validate on 3968 samples\n",
      "15744/16000 [============================>.] - ETA: 0s - loss: 1384.9713 - custom_mae: 9.8153\n",
      "Epoch 00001: val_custom_mae improved from inf to 1.11150, saving model to ..\\fast_output\\SYNTH_Regression_MSE\\2020-05-28_Normalized_Base_Custom-MAE\\Best_Weights_FC_122.hdf5\n",
      "16000/16000 [==============================] - 9s 585us/sample - loss: 1363.1142 - custom_mae: 9.7131 - val_loss: 1.8343 - val_custom_mae: 1.1115\n",
      "Time taken: 0:00:11.044965\n"
     ]
    },
    {
     "name": "stderr",
     "output_type": "stream",
     "text": [
      "\r",
      " 34%|███████████████████████████▎                                                    | 123/360 [22:32<45:50, 11.61s/it]"
     ]
    },
    {
     "name": "stdout",
     "output_type": "stream",
     "text": [
      "{'activation': 'leakyrelu', 'batch_size': 64, 'dropout': 0.25, 'epochs': 1, 'first_neuron': 4096, 'hidden_layers': 1, 'label_type': 'Normalized', 'loss_function': 'mean_squared_error', 'lr': 1, 'monitor_value': 'val_custom_mae', 'optimizer': <class 'tensorflow.python.keras.optimizer_v2.adam.Adam'>, 'reduction_metric': 'custom_mae', 'samples': 20000}\n",
      "Using Loss: mean_squared_error \n",
      "and Reduction Metric: [<function custom_mae at 0x0000021D2788ACA8>]\n",
      "Monitor: val_custom_mae\n",
      "Train on 16000 samples, validate on 3968 samples\n",
      "15936/16000 [============================>.] - ETA: 0s - loss: 82.9222 - custom_mae: 1.8314\n",
      "Epoch 00001: val_custom_mae improved from inf to 0.48202, saving model to ..\\fast_output\\SYNTH_Regression_MSE\\2020-05-28_Normalized_Base_Custom-MAE\\Best_Weights_FC_123.hdf5\n",
      "16000/16000 [==============================] - 10s 622us/sample - loss: 82.5938 - custom_mae: 1.8271 - val_loss: 0.3360 - val_custom_mae: 0.4820\n",
      "Time taken: 0:00:11.617214\n"
     ]
    },
    {
     "name": "stderr",
     "output_type": "stream",
     "text": [
      "\r",
      " 34%|███████████████████████████▌                                                    | 124/360 [22:45<47:45, 12.14s/it]"
     ]
    },
    {
     "name": "stdout",
     "output_type": "stream",
     "text": [
      "{'activation': 'leakyrelu', 'batch_size': 64, 'dropout': 0.25, 'epochs': 1, 'first_neuron': 4096, 'hidden_layers': 1, 'label_type': 'Normalized', 'loss_function': 'mean_squared_error', 'lr': 2, 'monitor_value': 'val_custom_mae', 'optimizer': <class 'tensorflow.python.keras.optimizer_v2.adam.Adam'>, 'reduction_metric': 'custom_mae', 'samples': 20000}\n",
      "Using Loss: mean_squared_error \n",
      "and Reduction Metric: [<function custom_mae at 0x0000021D2788ACA8>]\n",
      "Monitor: val_custom_mae\n",
      "Train on 16000 samples, validate on 3968 samples\n",
      "15936/16000 [============================>.] - ETA: 0s - loss: 1652.1372 - custom_mae: 9.1259\n",
      "Epoch 00001: val_custom_mae improved from inf to 1.12694, saving model to ..\\fast_output\\SYNTH_Regression_MSE\\2020-05-28_Normalized_Base_Custom-MAE\\Best_Weights_FC_124.hdf5\n",
      "16000/16000 [==============================] - 10s 619us/sample - loss: 1645.5833 - custom_mae: 9.1013 - val_loss: 1.8305 - val_custom_mae: 1.1269\n",
      "Time taken: 0:00:11.566636\n"
     ]
    },
    {
     "name": "stderr",
     "output_type": "stream",
     "text": [
      "\r",
      " 35%|███████████████████████████▊                                                    | 125/360 [22:59<48:59, 12.51s/it]"
     ]
    },
    {
     "name": "stdout",
     "output_type": "stream",
     "text": [
      "{'activation': 'leakyrelu', 'batch_size': 64, 'dropout': 0.25, 'epochs': 1, 'first_neuron': 4096, 'hidden_layers': 1, 'label_type': 'Normalized', 'loss_function': 'mean_squared_error', 'lr': 5, 'monitor_value': 'val_custom_mae', 'optimizer': <class 'tensorflow.python.keras.optimizer_v2.adam.Adam'>, 'reduction_metric': 'custom_mae', 'samples': 20000}\n",
      "Using Loss: mean_squared_error \n",
      "and Reduction Metric: [<function custom_mae at 0x0000021D2788ACA8>]\n",
      "Monitor: val_custom_mae\n",
      "Train on 16000 samples, validate on 3968 samples\n",
      "15808/16000 [============================>.] - ETA: 0s - loss: 61855.2520 - custom_mae: 58.5234\n",
      "Epoch 00001: val_custom_mae improved from inf to 2.63163, saving model to ..\\fast_output\\SYNTH_Regression_MSE\\2020-05-28_Normalized_Base_Custom-MAE\\Best_Weights_FC_125.hdf5\n",
      "16000/16000 [==============================] - 10s 620us/sample - loss: 61119.3246 - custom_mae: 58.0415 - val_loss: 12.6388 - val_custom_mae: 2.6316\n",
      "Time taken: 0:00:11.627018\n"
     ]
    },
    {
     "name": "stderr",
     "output_type": "stream",
     "text": [
      "\r",
      " 35%|████████████████████████████                                                    | 126/360 [23:12<49:49, 12.78s/it]"
     ]
    },
    {
     "name": "stdout",
     "output_type": "stream",
     "text": [
      "{'activation': 'leakyrelu', 'batch_size': 64, 'dropout': 0.25, 'epochs': 1, 'first_neuron': 4096, 'hidden_layers': 2, 'label_type': 'Normalized', 'loss_function': 'mean_squared_error', 'lr': 1, 'monitor_value': 'val_custom_mae', 'optimizer': <class 'tensorflow.python.keras.optimizer_v2.adam.Adam'>, 'reduction_metric': 'custom_mae', 'samples': 20000}\n",
      "Using Loss: mean_squared_error \n",
      "and Reduction Metric: [<function custom_mae at 0x0000021D2788ACA8>]\n",
      "Monitor: val_custom_mae\n",
      "Train on 16000 samples, validate on 3968 samples\n",
      "15936/16000 [============================>.] - ETA: 0s - loss: 24.2553 - custom_mae: 1.5623- ETA: 0s - loss: 27.7413 - custom_mae\n",
      "Epoch 00001: val_custom_mae improved from inf to 0.41194, saving model to ..\\fast_output\\SYNTH_Regression_MSE\\2020-05-28_Normalized_Base_Custom-MAE\\Best_Weights_FC_126.hdf5\n",
      "16000/16000 [==============================] - 10s 630us/sample - loss: 24.1607 - custom_mae: 1.5585 - val_loss: 0.2556 - val_custom_mae: 0.4119\n",
      "Time taken: 0:00:11.724193\n"
     ]
    },
    {
     "name": "stderr",
     "output_type": "stream",
     "text": [
      "\r",
      " 35%|████████████████████████████▏                                                   | 127/360 [23:26<50:30, 13.00s/it]"
     ]
    },
    {
     "name": "stdout",
     "output_type": "stream",
     "text": [
      "{'activation': 'leakyrelu', 'batch_size': 64, 'dropout': 0.25, 'epochs': 1, 'first_neuron': 4096, 'hidden_layers': 2, 'label_type': 'Normalized', 'loss_function': 'mean_squared_error', 'lr': 2, 'monitor_value': 'val_custom_mae', 'optimizer': <class 'tensorflow.python.keras.optimizer_v2.adam.Adam'>, 'reduction_metric': 'custom_mae', 'samples': 20000}\n",
      "Using Loss: mean_squared_error \n",
      "and Reduction Metric: [<function custom_mae at 0x0000021D2788ACA8>]\n",
      "Monitor: val_custom_mae\n",
      "Train on 16000 samples, validate on 3968 samples\n",
      "15936/16000 [============================>.] - ETA: 0s - loss: 1550.5100 - custom_mae: 7.4503- ETA: 0s - loss: 1958.4387 - custo\n",
      "Epoch 00001: val_custom_mae improved from inf to 0.89198, saving model to ..\\fast_output\\SYNTH_Regression_MSE\\2020-05-28_Normalized_Base_Custom-MAE\\Best_Weights_FC_127.hdf5\n",
      "16000/16000 [==============================] - 10s 635us/sample - loss: 1544.3262 - custom_mae: 7.4273 - val_loss: 1.1372 - val_custom_mae: 0.8920\n",
      "Time taken: 0:00:11.821431\n"
     ]
    },
    {
     "name": "stderr",
     "output_type": "stream",
     "text": [
      "\r",
      " 36%|████████████████████████████▍                                                   | 128/360 [23:39<51:00, 13.19s/it]"
     ]
    },
    {
     "name": "stdout",
     "output_type": "stream",
     "text": [
      "{'activation': 'leakyrelu', 'batch_size': 64, 'dropout': 0.25, 'epochs': 1, 'first_neuron': 4096, 'hidden_layers': 2, 'label_type': 'Normalized', 'loss_function': 'mean_squared_error', 'lr': 5, 'monitor_value': 'val_custom_mae', 'optimizer': <class 'tensorflow.python.keras.optimizer_v2.adam.Adam'>, 'reduction_metric': 'custom_mae', 'samples': 20000}\n",
      "Using Loss: mean_squared_error \n",
      "and Reduction Metric: [<function custom_mae at 0x0000021D2788ACA8>]\n",
      "Monitor: val_custom_mae\n",
      "Train on 16000 samples, validate on 3968 samples\n",
      "15744/16000 [============================>.] - ETA: 0s - loss: 938534.4816 - custom_mae: 146.7365\n",
      "Epoch 00001: val_custom_mae improved from inf to 3.72823, saving model to ..\\fast_output\\SYNTH_Regression_MSE\\2020-05-28_Normalized_Base_Custom-MAE\\Best_Weights_FC_128.hdf5\n",
      "16000/16000 [==============================] - 10s 632us/sample - loss: 923523.8403 - custom_mae: 144.6331 - val_loss: 28.7119 - val_custom_mae: 3.7282\n",
      "Time taken: 0:00:11.812756\n"
     ]
    },
    {
     "name": "stderr",
     "output_type": "stream",
     "text": [
      "\r",
      " 36%|████████████████████████████▋                                                   | 129/360 [23:53<51:18, 13.33s/it]"
     ]
    },
    {
     "name": "stdout",
     "output_type": "stream",
     "text": [
      "{'activation': 'leakyrelu', 'batch_size': 64, 'dropout': 0.25, 'epochs': 1, 'first_neuron': 4096, 'hidden_layers': 3, 'label_type': 'Normalized', 'loss_function': 'mean_squared_error', 'lr': 1, 'monitor_value': 'val_custom_mae', 'optimizer': <class 'tensorflow.python.keras.optimizer_v2.adam.Adam'>, 'reduction_metric': 'custom_mae', 'samples': 20000}\n",
      "Using Loss: mean_squared_error \n",
      "and Reduction Metric: [<function custom_mae at 0x0000021D2788ACA8>]\n",
      "Monitor: val_custom_mae\n",
      "Train on 16000 samples, validate on 3968 samples\n",
      "15808/16000 [============================>.] - ETA: 0s - loss: 10.0508 - custom_mae: 1.1100\n",
      "Epoch 00001: val_custom_mae improved from inf to 0.47593, saving model to ..\\fast_output\\SYNTH_Regression_MSE\\2020-05-28_Normalized_Base_Custom-MAE\\Best_Weights_FC_129.hdf5\n",
      "16000/16000 [==============================] - 10s 638us/sample - loss: 9.9347 - custom_mae: 1.1027 - val_loss: 0.3214 - val_custom_mae: 0.4759\n",
      "Time taken: 0:00:11.851551\n"
     ]
    },
    {
     "name": "stderr",
     "output_type": "stream",
     "text": [
      "\r",
      " 36%|████████████████████████████▉                                                   | 130/360 [24:07<51:29, 13.43s/it]"
     ]
    },
    {
     "name": "stdout",
     "output_type": "stream",
     "text": [
      "{'activation': 'leakyrelu', 'batch_size': 64, 'dropout': 0.25, 'epochs': 1, 'first_neuron': 4096, 'hidden_layers': 3, 'label_type': 'Normalized', 'loss_function': 'mean_squared_error', 'lr': 2, 'monitor_value': 'val_custom_mae', 'optimizer': <class 'tensorflow.python.keras.optimizer_v2.adam.Adam'>, 'reduction_metric': 'custom_mae', 'samples': 20000}\n",
      "Using Loss: mean_squared_error \n",
      "and Reduction Metric: [<function custom_mae at 0x0000021D2788ACA8>]\n",
      "Monitor: val_custom_mae\n",
      "Train on 16000 samples, validate on 3968 samples\n",
      "15936/16000 [============================>.] - ETA: 0s - loss: 724.3676 - custom_mae: 6.0307\n",
      "Epoch 00001: val_custom_mae improved from inf to 0.50063, saving model to ..\\fast_output\\SYNTH_Regression_MSE\\2020-05-28_Normalized_Base_Custom-MAE\\Best_Weights_FC_130.hdf5\n",
      "16000/16000 [==============================] - 10s 643us/sample - loss: 721.4806 - custom_mae: 6.0116 - val_loss: 0.3557 - val_custom_mae: 0.5006\n",
      "Time taken: 0:00:11.956657\n"
     ]
    },
    {
     "name": "stderr",
     "output_type": "stream",
     "text": [
      "\r",
      " 36%|█████████████████████████████                                                   | 131/360 [24:20<51:41, 13.54s/it]"
     ]
    },
    {
     "name": "stdout",
     "output_type": "stream",
     "text": [
      "{'activation': 'leakyrelu', 'batch_size': 64, 'dropout': 0.25, 'epochs': 1, 'first_neuron': 4096, 'hidden_layers': 3, 'label_type': 'Normalized', 'loss_function': 'mean_squared_error', 'lr': 5, 'monitor_value': 'val_custom_mae', 'optimizer': <class 'tensorflow.python.keras.optimizer_v2.adam.Adam'>, 'reduction_metric': 'custom_mae', 'samples': 20000}\n",
      "Using Loss: mean_squared_error \n",
      "and Reduction Metric: [<function custom_mae at 0x0000021D2788ACA8>]\n",
      "Monitor: val_custom_mae\n",
      "Train on 16000 samples, validate on 3968 samples\n",
      "15872/16000 [============================>.] - ETA: 0s - loss: 428242.8251 - custom_mae: 134.4158\n",
      "Epoch 00001: val_custom_mae improved from inf to 17.67719, saving model to ..\\fast_output\\SYNTH_Regression_MSE\\2020-05-28_Normalized_Base_Custom-MAE\\Best_Weights_FC_131.hdf5\n",
      "16000/16000 [==============================] - 10s 640us/sample - loss: 424825.3067 - custom_mae: 133.5414 - val_loss: 327.9640 - val_custom_mae: 17.6772\n",
      "Time taken: 0:00:11.908322\n"
     ]
    },
    {
     "name": "stderr",
     "output_type": "stream",
     "text": [
      "\r",
      " 37%|█████████████████████████████▎                                                  | 132/360 [24:34<51:41, 13.60s/it]"
     ]
    },
    {
     "name": "stdout",
     "output_type": "stream",
     "text": [
      "{'activation': 'leakyrelu', 'batch_size': 64, 'dropout': 0.25, 'epochs': 1, 'first_neuron': 4096, 'hidden_layers': 4, 'label_type': 'Normalized', 'loss_function': 'mean_squared_error', 'lr': 1, 'monitor_value': 'val_custom_mae', 'optimizer': <class 'tensorflow.python.keras.optimizer_v2.adam.Adam'>, 'reduction_metric': 'custom_mae', 'samples': 20000}\n",
      "Using Loss: mean_squared_error \n",
      "and Reduction Metric: [<function custom_mae at 0x0000021D2788ACA8>]\n",
      "Monitor: val_custom_mae\n",
      "Train on 16000 samples, validate on 3968 samples\n",
      "15744/16000 [============================>.] - ETA: 0s - loss: 4.8594 - custom_mae: 0.9249\n",
      "Epoch 00001: val_custom_mae improved from inf to 0.44564, saving model to ..\\fast_output\\SYNTH_Regression_MSE\\2020-05-28_Normalized_Base_Custom-MAE\\Best_Weights_FC_132.hdf5\n",
      "16000/16000 [==============================] - 10s 646us/sample - loss: 4.7867 - custom_mae: 0.9177 - val_loss: 0.2805 - val_custom_mae: 0.4456\n",
      "Time taken: 0:00:12.019387\n"
     ]
    },
    {
     "name": "stderr",
     "output_type": "stream",
     "text": [
      "\r",
      " 37%|█████████████████████████████▌                                                  | 133/360 [24:48<51:47, 13.69s/it]"
     ]
    },
    {
     "name": "stdout",
     "output_type": "stream",
     "text": [
      "{'activation': 'leakyrelu', 'batch_size': 64, 'dropout': 0.25, 'epochs': 1, 'first_neuron': 4096, 'hidden_layers': 4, 'label_type': 'Normalized', 'loss_function': 'mean_squared_error', 'lr': 2, 'monitor_value': 'val_custom_mae', 'optimizer': <class 'tensorflow.python.keras.optimizer_v2.adam.Adam'>, 'reduction_metric': 'custom_mae', 'samples': 20000}\n",
      "Using Loss: mean_squared_error \n",
      "and Reduction Metric: [<function custom_mae at 0x0000021D2788ACA8>]\n",
      "Monitor: val_custom_mae\n",
      "Train on 16000 samples, validate on 3968 samples\n",
      "15936/16000 [============================>.] - ETA: 0s - loss: 109.7917 - custom_mae: 2.8526\n",
      "Epoch 00001: val_custom_mae improved from inf to 0.49867, saving model to ..\\fast_output\\SYNTH_Regression_MSE\\2020-05-28_Normalized_Base_Custom-MAE\\Best_Weights_FC_133.hdf5\n",
      "16000/16000 [==============================] - 10s 643us/sample - loss: 109.3562 - custom_mae: 2.8442 - val_loss: 0.3447 - val_custom_mae: 0.4987\n",
      "Time taken: 0:00:11.960485\n"
     ]
    },
    {
     "name": "stderr",
     "output_type": "stream",
     "text": [
      "\r",
      " 37%|█████████████████████████████▊                                                  | 134/360 [25:02<51:44, 13.74s/it]"
     ]
    },
    {
     "name": "stdout",
     "output_type": "stream",
     "text": [
      "{'activation': 'leakyrelu', 'batch_size': 64, 'dropout': 0.25, 'epochs': 1, 'first_neuron': 4096, 'hidden_layers': 4, 'label_type': 'Normalized', 'loss_function': 'mean_squared_error', 'lr': 5, 'monitor_value': 'val_custom_mae', 'optimizer': <class 'tensorflow.python.keras.optimizer_v2.adam.Adam'>, 'reduction_metric': 'custom_mae', 'samples': 20000}\n",
      "Using Loss: mean_squared_error \n",
      "and Reduction Metric: [<function custom_mae at 0x0000021D2788ACA8>]\n",
      "Monitor: val_custom_mae\n",
      "Train on 16000 samples, validate on 3968 samples\n",
      "15936/16000 [============================>.] - ETA: 0s - loss: 297300.2143 - custom_mae: 94.4073\n",
      "Epoch 00001: val_custom_mae improved from inf to 3.34421, saving model to ..\\fast_output\\SYNTH_Regression_MSE\\2020-05-28_Normalized_Base_Custom-MAE\\Best_Weights_FC_134.hdf5\n",
      "16000/16000 [==============================] - 10s 644us/sample - loss: 296112.1346 - custom_mae: 94.0810 - val_loss: 15.5449 - val_custom_mae: 3.3442\n",
      "Time taken: 0:00:11.980292\n"
     ]
    },
    {
     "name": "stderr",
     "output_type": "stream",
     "text": [
      "\r",
      " 38%|██████████████████████████████                                                  | 135/360 [25:16<51:39, 13.77s/it]"
     ]
    },
    {
     "name": "stdout",
     "output_type": "stream",
     "text": [
      "{'activation': 'leakyrelu', 'batch_size': 64, 'dropout': 0.5, 'epochs': 1, 'first_neuron': 1024, 'hidden_layers': 0, 'label_type': 'Normalized', 'loss_function': 'mean_squared_error', 'lr': 1, 'monitor_value': 'val_custom_mae', 'optimizer': <class 'tensorflow.python.keras.optimizer_v2.adam.Adam'>, 'reduction_metric': 'custom_mae', 'samples': 20000}\n",
      "Using Loss: mean_squared_error \n",
      "and Reduction Metric: [<function custom_mae at 0x0000021D2788ACA8>]\n",
      "Monitor: val_custom_mae\n",
      "Train on 16000 samples, validate on 3968 samples\n",
      "15936/16000 [============================>.] - ETA: 0s - loss: 12.2514 - custom_mae: 1.6451\n",
      "Epoch 00001: val_custom_mae improved from inf to 0.34395, saving model to ..\\fast_output\\SYNTH_Regression_MSE\\2020-05-28_Normalized_Base_Custom-MAE\\Best_Weights_FC_135.hdf5\n",
      "16000/16000 [==============================] - 3s 216us/sample - loss: 12.2106 - custom_mae: 1.6429 - val_loss: 0.1897 - val_custom_mae: 0.3440\n",
      "Time taken: 0:00:05.122504\n"
     ]
    },
    {
     "name": "stderr",
     "output_type": "stream",
     "text": [
      "\r",
      " 38%|██████████████████████████████▏                                                 | 136/360 [25:23<43:43, 11.71s/it]"
     ]
    },
    {
     "name": "stdout",
     "output_type": "stream",
     "text": [
      "{'activation': 'leakyrelu', 'batch_size': 64, 'dropout': 0.5, 'epochs': 1, 'first_neuron': 1024, 'hidden_layers': 0, 'label_type': 'Normalized', 'loss_function': 'mean_squared_error', 'lr': 2, 'monitor_value': 'val_custom_mae', 'optimizer': <class 'tensorflow.python.keras.optimizer_v2.adam.Adam'>, 'reduction_metric': 'custom_mae', 'samples': 20000}\n",
      "Using Loss: mean_squared_error \n",
      "and Reduction Metric: [<function custom_mae at 0x0000021D2788ACA8>]\n",
      "Monitor: val_custom_mae\n",
      "Train on 16000 samples, validate on 3968 samples\n",
      "15872/16000 [============================>.] - ETA: 0s - loss: 44.6040 - custom_mae: 2.9078\n",
      "Epoch 00001: val_custom_mae improved from inf to 0.38681, saving model to ..\\fast_output\\SYNTH_Regression_MSE\\2020-05-28_Normalized_Base_Custom-MAE\\Best_Weights_FC_136.hdf5\n",
      "16000/16000 [==============================] - 3s 211us/sample - loss: 44.2924 - custom_mae: 2.8994 - val_loss: 0.2356 - val_custom_mae: 0.3868\n",
      "Time taken: 0:00:05.013342\n"
     ]
    },
    {
     "name": "stderr",
     "output_type": "stream",
     "text": [
      "\r",
      " 38%|██████████████████████████████▍                                                 | 137/360 [25:29<38:00, 10.23s/it]"
     ]
    },
    {
     "name": "stdout",
     "output_type": "stream",
     "text": [
      "{'activation': 'leakyrelu', 'batch_size': 64, 'dropout': 0.5, 'epochs': 1, 'first_neuron': 1024, 'hidden_layers': 0, 'label_type': 'Normalized', 'loss_function': 'mean_squared_error', 'lr': 5, 'monitor_value': 'val_custom_mae', 'optimizer': <class 'tensorflow.python.keras.optimizer_v2.adam.Adam'>, 'reduction_metric': 'custom_mae', 'samples': 20000}\n",
      "Using Loss: mean_squared_error \n",
      "and Reduction Metric: [<function custom_mae at 0x0000021D2788ACA8>]\n",
      "Monitor: val_custom_mae\n",
      "Train on 16000 samples, validate on 3968 samples\n",
      "15744/16000 [============================>.] - ETA: 0s - loss: 260.1660 - custom_mae: 6.1775\n",
      "Epoch 00001: val_custom_mae improved from inf to 0.50379, saving model to ..\\fast_output\\SYNTH_Regression_MSE\\2020-05-28_Normalized_Base_Custom-MAE\\Best_Weights_FC_137.hdf5\n",
      "16000/16000 [==============================] - 3s 216us/sample - loss: 256.2154 - custom_mae: 6.1243 - val_loss: 0.4069 - val_custom_mae: 0.5038\n",
      "Time taken: 0:00:05.126455\n"
     ]
    },
    {
     "name": "stderr",
     "output_type": "stream",
     "text": [
      "\r",
      " 38%|██████████████████████████████▋                                                 | 138/360 [25:36<34:07,  9.22s/it]"
     ]
    },
    {
     "name": "stdout",
     "output_type": "stream",
     "text": [
      "{'activation': 'leakyrelu', 'batch_size': 64, 'dropout': 0.5, 'epochs': 1, 'first_neuron': 1024, 'hidden_layers': 1, 'label_type': 'Normalized', 'loss_function': 'mean_squared_error', 'lr': 1, 'monitor_value': 'val_custom_mae', 'optimizer': <class 'tensorflow.python.keras.optimizer_v2.adam.Adam'>, 'reduction_metric': 'custom_mae', 'samples': 20000}\n",
      "Using Loss: mean_squared_error \n",
      "and Reduction Metric: [<function custom_mae at 0x0000021D2788ACA8>]\n",
      "Monitor: val_custom_mae\n",
      "Train on 16000 samples, validate on 3968 samples\n",
      "15808/16000 [============================>.] - ETA: 0s - loss: 3.8369 - custom_mae: 0.9277\n",
      "Epoch 00001: val_custom_mae improved from inf to 0.38767, saving model to ..\\fast_output\\SYNTH_Regression_MSE\\2020-05-28_Normalized_Base_Custom-MAE\\Best_Weights_FC_138.hdf5\n",
      "16000/16000 [==============================] - 4s 227us/sample - loss: 3.7955 - custom_mae: 0.9225 - val_loss: 0.2242 - val_custom_mae: 0.3877\n",
      "Time taken: 0:00:05.295519\n"
     ]
    },
    {
     "name": "stderr",
     "output_type": "stream",
     "text": [
      "\r",
      " 39%|██████████████████████████████▉                                                 | 139/360 [25:43<31:35,  8.58s/it]"
     ]
    },
    {
     "name": "stdout",
     "output_type": "stream",
     "text": [
      "{'activation': 'leakyrelu', 'batch_size': 64, 'dropout': 0.5, 'epochs': 1, 'first_neuron': 1024, 'hidden_layers': 1, 'label_type': 'Normalized', 'loss_function': 'mean_squared_error', 'lr': 2, 'monitor_value': 'val_custom_mae', 'optimizer': <class 'tensorflow.python.keras.optimizer_v2.adam.Adam'>, 'reduction_metric': 'custom_mae', 'samples': 20000}\n",
      "Using Loss: mean_squared_error \n",
      "and Reduction Metric: [<function custom_mae at 0x0000021D2788ACA8>]\n",
      "Monitor: val_custom_mae\n",
      "Train on 16000 samples, validate on 3968 samples\n",
      "15936/16000 [============================>.] - ETA: 0s - loss: 19.3306 - custom_mae: 1.7346\n",
      "Epoch 00001: val_custom_mae improved from inf to 0.40038, saving model to ..\\fast_output\\SYNTH_Regression_MSE\\2020-05-28_Normalized_Base_Custom-MAE\\Best_Weights_FC_139.hdf5\n",
      "16000/16000 [==============================] - 4s 225us/sample - loss: 19.2574 - custom_mae: 1.7309 - val_loss: 0.2372 - val_custom_mae: 0.4004\n",
      "Time taken: 0:00:05.260340\n"
     ]
    },
    {
     "name": "stderr",
     "output_type": "stream",
     "text": [
      "\r",
      " 39%|███████████████████████████████                                                 | 140/360 [25:50<29:45,  8.11s/it]"
     ]
    },
    {
     "name": "stdout",
     "output_type": "stream",
     "text": [
      "{'activation': 'leakyrelu', 'batch_size': 64, 'dropout': 0.5, 'epochs': 1, 'first_neuron': 1024, 'hidden_layers': 1, 'label_type': 'Normalized', 'loss_function': 'mean_squared_error', 'lr': 5, 'monitor_value': 'val_custom_mae', 'optimizer': <class 'tensorflow.python.keras.optimizer_v2.adam.Adam'>, 'reduction_metric': 'custom_mae', 'samples': 20000}\n",
      "Using Loss: mean_squared_error \n",
      "and Reduction Metric: [<function custom_mae at 0x0000021D2788ACA8>]\n",
      "Monitor: val_custom_mae\n",
      "Train on 16000 samples, validate on 3968 samples\n",
      "15936/16000 [============================>.] - ETA: 0s - loss: 821.8013 - custom_mae: 9.3123\n",
      "Epoch 00001: val_custom_mae improved from inf to 0.52240, saving model to ..\\fast_output\\SYNTH_Regression_MSE\\2020-05-28_Normalized_Base_Custom-MAE\\Best_Weights_FC_140.hdf5\n",
      "16000/16000 [==============================] - 4s 222us/sample - loss: 818.5841 - custom_mae: 9.2880 - val_loss: 0.4112 - val_custom_mae: 0.5224\n",
      "Time taken: 0:00:05.218736\n"
     ]
    },
    {
     "name": "stderr",
     "output_type": "stream",
     "text": [
      "\r",
      " 39%|███████████████████████████████▎                                                | 141/360 [25:57<28:22,  7.78s/it]"
     ]
    },
    {
     "name": "stdout",
     "output_type": "stream",
     "text": [
      "{'activation': 'leakyrelu', 'batch_size': 64, 'dropout': 0.5, 'epochs': 1, 'first_neuron': 1024, 'hidden_layers': 2, 'label_type': 'Normalized', 'loss_function': 'mean_squared_error', 'lr': 1, 'monitor_value': 'val_custom_mae', 'optimizer': <class 'tensorflow.python.keras.optimizer_v2.adam.Adam'>, 'reduction_metric': 'custom_mae', 'samples': 20000}\n",
      "Using Loss: mean_squared_error \n",
      "and Reduction Metric: [<function custom_mae at 0x0000021D2788ACA8>]\n",
      "Monitor: val_custom_mae\n",
      "Train on 16000 samples, validate on 3968 samples\n",
      "15808/16000 [============================>.] - ETA: 0s - loss: 1.6561 - custom_mae: 0.7505\n",
      "Epoch 00001: val_custom_mae improved from inf to 0.47140, saving model to ..\\fast_output\\SYNTH_Regression_MSE\\2020-05-28_Normalized_Base_Custom-MAE\\Best_Weights_FC_141.hdf5\n",
      "16000/16000 [==============================] - 4s 230us/sample - loss: 1.6402 - custom_mae: 0.7473 - val_loss: 0.3001 - val_custom_mae: 0.4714\n",
      "Time taken: 0:00:05.349944\n"
     ]
    },
    {
     "name": "stderr",
     "output_type": "stream",
     "text": [
      "\r",
      " 39%|███████████████████████████████▌                                                | 142/360 [26:05<27:33,  7.58s/it]"
     ]
    },
    {
     "name": "stdout",
     "output_type": "stream",
     "text": [
      "{'activation': 'leakyrelu', 'batch_size': 64, 'dropout': 0.5, 'epochs': 1, 'first_neuron': 1024, 'hidden_layers': 2, 'label_type': 'Normalized', 'loss_function': 'mean_squared_error', 'lr': 2, 'monitor_value': 'val_custom_mae', 'optimizer': <class 'tensorflow.python.keras.optimizer_v2.adam.Adam'>, 'reduction_metric': 'custom_mae', 'samples': 20000}\n",
      "Using Loss: mean_squared_error \n",
      "and Reduction Metric: [<function custom_mae at 0x0000021D2788ACA8>]\n",
      "Monitor: val_custom_mae\n",
      "Train on 16000 samples, validate on 3968 samples\n",
      "15488/16000 [============================>.] - ETA: 0s - loss: 7.9251 - custom_mae: 1.1993\n",
      "Epoch 00001: val_custom_mae improved from inf to 0.46792, saving model to ..\\fast_output\\SYNTH_Regression_MSE\\2020-05-28_Normalized_Base_Custom-MAE\\Best_Weights_FC_142.hdf5\n",
      "16000/16000 [==============================] - 4s 229us/sample - loss: 7.6879 - custom_mae: 1.1794 - val_loss: 0.2976 - val_custom_mae: 0.4679\n",
      "Time taken: 0:00:05.336280\n"
     ]
    },
    {
     "name": "stderr",
     "output_type": "stream",
     "text": [
      "\r",
      " 40%|███████████████████████████████▊                                                | 143/360 [26:12<26:56,  7.45s/it]"
     ]
    },
    {
     "name": "stdout",
     "output_type": "stream",
     "text": [
      "{'activation': 'leakyrelu', 'batch_size': 64, 'dropout': 0.5, 'epochs': 1, 'first_neuron': 1024, 'hidden_layers': 2, 'label_type': 'Normalized', 'loss_function': 'mean_squared_error', 'lr': 5, 'monitor_value': 'val_custom_mae', 'optimizer': <class 'tensorflow.python.keras.optimizer_v2.adam.Adam'>, 'reduction_metric': 'custom_mae', 'samples': 20000}\n",
      "Using Loss: mean_squared_error \n",
      "and Reduction Metric: [<function custom_mae at 0x0000021D2788ACA8>]\n",
      "Monitor: val_custom_mae\n",
      "Train on 16000 samples, validate on 3968 samples\n",
      "15488/16000 [============================>.] - ETA: 0s - loss: 168.2343 - custom_mae: 4.0448\n",
      "Epoch 00001: val_custom_mae improved from inf to 0.48637, saving model to ..\\fast_output\\SYNTH_Regression_MSE\\2020-05-28_Normalized_Base_Custom-MAE\\Best_Weights_FC_143.hdf5\n",
      "16000/16000 [==============================] - 4s 233us/sample - loss: 162.9436 - custom_mae: 3.9568 - val_loss: 0.3239 - val_custom_mae: 0.4864\n",
      "Time taken: 0:00:05.431918\n"
     ]
    },
    {
     "name": "stderr",
     "output_type": "stream",
     "text": [
      "\r",
      " 40%|████████████████████████████████                                                | 144/360 [26:19<26:35,  7.39s/it]"
     ]
    },
    {
     "name": "stdout",
     "output_type": "stream",
     "text": [
      "{'activation': 'leakyrelu', 'batch_size': 64, 'dropout': 0.5, 'epochs': 1, 'first_neuron': 1024, 'hidden_layers': 3, 'label_type': 'Normalized', 'loss_function': 'mean_squared_error', 'lr': 1, 'monitor_value': 'val_custom_mae', 'optimizer': <class 'tensorflow.python.keras.optimizer_v2.adam.Adam'>, 'reduction_metric': 'custom_mae', 'samples': 20000}\n",
      "Using Loss: mean_squared_error \n",
      "and Reduction Metric: [<function custom_mae at 0x0000021D2788ACA8>]\n",
      "Monitor: val_custom_mae\n",
      "Train on 16000 samples, validate on 3968 samples\n",
      "15616/16000 [============================>.] - ETA: 0s - loss: 1.0251 - custom_mae: 0.6791\n",
      "Epoch 00001: val_custom_mae improved from inf to 0.48312, saving model to ..\\fast_output\\SYNTH_Regression_MSE\\2020-05-28_Normalized_Base_Custom-MAE\\Best_Weights_FC_144.hdf5\n",
      "16000/16000 [==============================] - 4s 235us/sample - loss: 1.0086 - custom_mae: 0.6748 - val_loss: 0.3121 - val_custom_mae: 0.4831\n",
      "Time taken: 0:00:05.419678\n"
     ]
    },
    {
     "name": "stderr",
     "output_type": "stream",
     "text": [
      "\r",
      " 40%|████████████████████████████████▏                                               | 145/360 [26:26<26:18,  7.34s/it]"
     ]
    },
    {
     "name": "stdout",
     "output_type": "stream",
     "text": [
      "{'activation': 'leakyrelu', 'batch_size': 64, 'dropout': 0.5, 'epochs': 1, 'first_neuron': 1024, 'hidden_layers': 3, 'label_type': 'Normalized', 'loss_function': 'mean_squared_error', 'lr': 2, 'monitor_value': 'val_custom_mae', 'optimizer': <class 'tensorflow.python.keras.optimizer_v2.adam.Adam'>, 'reduction_metric': 'custom_mae', 'samples': 20000}\n",
      "Using Loss: mean_squared_error \n",
      "and Reduction Metric: [<function custom_mae at 0x0000021D2788ACA8>]\n",
      "Monitor: val_custom_mae\n",
      "Train on 16000 samples, validate on 3968 samples\n",
      "15488/16000 [============================>.] - ETA: 0s - loss: 2.4475 - custom_mae: 0.8473\n",
      "Epoch 00001: val_custom_mae improved from inf to 0.48374, saving model to ..\\fast_output\\SYNTH_Regression_MSE\\2020-05-28_Normalized_Base_Custom-MAE\\Best_Weights_FC_145.hdf5\n",
      "16000/16000 [==============================] - 4s 238us/sample - loss: 2.3813 - custom_mae: 0.8369 - val_loss: 0.3127 - val_custom_mae: 0.4837\n",
      "Time taken: 0:00:05.467443\n"
     ]
    },
    {
     "name": "stderr",
     "output_type": "stream",
     "text": [
      "\r",
      " 41%|████████████████████████████████▍                                               | 146/360 [26:34<26:09,  7.33s/it]"
     ]
    },
    {
     "name": "stdout",
     "output_type": "stream",
     "text": [
      "{'activation': 'leakyrelu', 'batch_size': 64, 'dropout': 0.5, 'epochs': 1, 'first_neuron': 1024, 'hidden_layers': 3, 'label_type': 'Normalized', 'loss_function': 'mean_squared_error', 'lr': 5, 'monitor_value': 'val_custom_mae', 'optimizer': <class 'tensorflow.python.keras.optimizer_v2.adam.Adam'>, 'reduction_metric': 'custom_mae', 'samples': 20000}\n",
      "Using Loss: mean_squared_error \n",
      "and Reduction Metric: [<function custom_mae at 0x0000021D2788ACA8>]\n",
      "Monitor: val_custom_mae\n",
      "Train on 16000 samples, validate on 3968 samples\n",
      "15808/16000 [============================>.] - ETA: 0s - loss: 25.1340 - custom_mae: 1.9229\n",
      "Epoch 00001: val_custom_mae improved from inf to 0.48185, saving model to ..\\fast_output\\SYNTH_Regression_MSE\\2020-05-28_Normalized_Base_Custom-MAE\\Best_Weights_FC_146.hdf5\n",
      "16000/16000 [==============================] - 4s 240us/sample - loss: 24.8411 - custom_mae: 1.9079 - val_loss: 0.3107 - val_custom_mae: 0.4819\n",
      "Time taken: 0:00:05.507514\n"
     ]
    },
    {
     "name": "stderr",
     "output_type": "stream",
     "text": [
      "\r",
      " 41%|████████████████████████████████▋                                               | 147/360 [26:41<26:03,  7.34s/it]"
     ]
    },
    {
     "name": "stdout",
     "output_type": "stream",
     "text": [
      "{'activation': 'leakyrelu', 'batch_size': 64, 'dropout': 0.5, 'epochs': 1, 'first_neuron': 1024, 'hidden_layers': 4, 'label_type': 'Normalized', 'loss_function': 'mean_squared_error', 'lr': 1, 'monitor_value': 'val_custom_mae', 'optimizer': <class 'tensorflow.python.keras.optimizer_v2.adam.Adam'>, 'reduction_metric': 'custom_mae', 'samples': 20000}\n",
      "Using Loss: mean_squared_error \n",
      "and Reduction Metric: [<function custom_mae at 0x0000021D2788ACA8>]\n",
      "Monitor: val_custom_mae\n",
      "Train on 16000 samples, validate on 3968 samples\n",
      "15936/16000 [============================>.] - ETA: 0s - loss: 1.3164 - custom_mae: 0.7254\n",
      "Epoch 00001: val_custom_mae improved from inf to 0.48325, saving model to ..\\fast_output\\SYNTH_Regression_MSE\\2020-05-28_Normalized_Base_Custom-MAE\\Best_Weights_FC_147.hdf5\n",
      "16000/16000 [==============================] - 4s 241us/sample - loss: 1.3125 - custom_mae: 0.7244 - val_loss: 0.3129 - val_custom_mae: 0.4832\n",
      "Time taken: 0:00:05.522316\n"
     ]
    },
    {
     "name": "stderr",
     "output_type": "stream",
     "text": [
      "\r",
      " 41%|████████████████████████████████▉                                               | 148/360 [26:48<25:58,  7.35s/it]"
     ]
    },
    {
     "name": "stdout",
     "output_type": "stream",
     "text": [
      "{'activation': 'leakyrelu', 'batch_size': 64, 'dropout': 0.5, 'epochs': 1, 'first_neuron': 1024, 'hidden_layers': 4, 'label_type': 'Normalized', 'loss_function': 'mean_squared_error', 'lr': 2, 'monitor_value': 'val_custom_mae', 'optimizer': <class 'tensorflow.python.keras.optimizer_v2.adam.Adam'>, 'reduction_metric': 'custom_mae', 'samples': 20000}\n",
      "Using Loss: mean_squared_error \n",
      "and Reduction Metric: [<function custom_mae at 0x0000021D2788ACA8>]\n",
      "Monitor: val_custom_mae\n",
      "Train on 16000 samples, validate on 3968 samples\n",
      "15808/16000 [============================>.] - ETA: 0s - loss: 3.1230 - custom_mae: 0.9209\n",
      "Epoch 00001: val_custom_mae improved from inf to 0.48361, saving model to ..\\fast_output\\SYNTH_Regression_MSE\\2020-05-28_Normalized_Base_Custom-MAE\\Best_Weights_FC_148.hdf5\n",
      "16000/16000 [==============================] - 4s 244us/sample - loss: 3.0899 - custom_mae: 0.9159 - val_loss: 0.3132 - val_custom_mae: 0.4836\n",
      "Time taken: 0:00:05.569494\n"
     ]
    },
    {
     "name": "stderr",
     "output_type": "stream",
     "text": [
      "\r",
      " 41%|█████████████████████████████████                                               | 149/360 [26:56<25:55,  7.37s/it]"
     ]
    },
    {
     "name": "stdout",
     "output_type": "stream",
     "text": [
      "{'activation': 'leakyrelu', 'batch_size': 64, 'dropout': 0.5, 'epochs': 1, 'first_neuron': 1024, 'hidden_layers': 4, 'label_type': 'Normalized', 'loss_function': 'mean_squared_error', 'lr': 5, 'monitor_value': 'val_custom_mae', 'optimizer': <class 'tensorflow.python.keras.optimizer_v2.adam.Adam'>, 'reduction_metric': 'custom_mae', 'samples': 20000}\n",
      "Using Loss: mean_squared_error \n",
      "and Reduction Metric: [<function custom_mae at 0x0000021D2788ACA8>]\n",
      "Monitor: val_custom_mae\n",
      "Train on 16000 samples, validate on 3968 samples\n",
      "15744/16000 [============================>.] - ETA: 0s - loss: 17.9915 - custom_mae: 1.6988\n",
      "Epoch 00001: val_custom_mae improved from inf to 0.48331, saving model to ..\\fast_output\\SYNTH_Regression_MSE\\2020-05-28_Normalized_Base_Custom-MAE\\Best_Weights_FC_149.hdf5\n",
      "16000/16000 [==============================] - 4s 242us/sample - loss: 17.7128 - custom_mae: 1.6815 - val_loss: 0.3127 - val_custom_mae: 0.4833\n",
      "Time taken: 0:00:05.542025\n"
     ]
    },
    {
     "name": "stderr",
     "output_type": "stream",
     "text": [
      "\r",
      " 42%|█████████████████████████████████▎                                              | 150/360 [27:03<25:49,  7.38s/it]"
     ]
    },
    {
     "name": "stdout",
     "output_type": "stream",
     "text": [
      "{'activation': 'leakyrelu', 'batch_size': 64, 'dropout': 0.5, 'epochs': 1, 'first_neuron': 2048, 'hidden_layers': 0, 'label_type': 'Normalized', 'loss_function': 'mean_squared_error', 'lr': 1, 'monitor_value': 'val_custom_mae', 'optimizer': <class 'tensorflow.python.keras.optimizer_v2.adam.Adam'>, 'reduction_metric': 'custom_mae', 'samples': 20000}\n",
      "Using Loss: mean_squared_error \n",
      "and Reduction Metric: [<function custom_mae at 0x0000021D2788ACA8>]\n",
      "Monitor: val_custom_mae\n",
      "Train on 16000 samples, validate on 3968 samples\n",
      "15808/16000 [============================>.] - ETA: 0s - loss: 26.9993 - custom_mae: 1.9308\n",
      "Epoch 00001: val_custom_mae improved from inf to 0.36392, saving model to ..\\fast_output\\SYNTH_Regression_MSE\\2020-05-28_Normalized_Base_Custom-MAE\\Best_Weights_FC_150.hdf5\n",
      "16000/16000 [==============================] - 5s 339us/sample - loss: 26.7038 - custom_mae: 1.9223 - val_loss: 0.2146 - val_custom_mae: 0.3639\n",
      "Time taken: 0:00:07.095206\n"
     ]
    },
    {
     "name": "stderr",
     "output_type": "stream",
     "text": [
      "\r",
      " 42%|█████████████████████████████████▌                                              | 151/360 [27:12<27:14,  7.82s/it]"
     ]
    },
    {
     "name": "stdout",
     "output_type": "stream",
     "text": [
      "{'activation': 'leakyrelu', 'batch_size': 64, 'dropout': 0.5, 'epochs': 1, 'first_neuron': 2048, 'hidden_layers': 0, 'label_type': 'Normalized', 'loss_function': 'mean_squared_error', 'lr': 2, 'monitor_value': 'val_custom_mae', 'optimizer': <class 'tensorflow.python.keras.optimizer_v2.adam.Adam'>, 'reduction_metric': 'custom_mae', 'samples': 20000}\n",
      "Using Loss: mean_squared_error \n",
      "and Reduction Metric: [<function custom_mae at 0x0000021D2788ACA8>]\n",
      "Monitor: val_custom_mae\n",
      "Train on 16000 samples, validate on 3968 samples\n",
      "15744/16000 [============================>.] - ETA: 0s - loss: 102.5486 - custom_mae: 3.6091\n",
      "Epoch 00001: val_custom_mae improved from inf to 0.68679, saving model to ..\\fast_output\\SYNTH_Regression_MSE\\2020-05-28_Normalized_Base_Custom-MAE\\Best_Weights_FC_151.hdf5\n",
      "16000/16000 [==============================] - 5s 338us/sample - loss: 101.0147 - custom_mae: 3.5843 - val_loss: 0.7518 - val_custom_mae: 0.6868\n",
      "Time taken: 0:00:07.073787\n"
     ]
    },
    {
     "name": "stderr",
     "output_type": "stream",
     "text": [
      "\r",
      " 42%|█████████████████████████████████▊                                              | 152/360 [27:21<28:09,  8.12s/it]"
     ]
    },
    {
     "name": "stdout",
     "output_type": "stream",
     "text": [
      "{'activation': 'leakyrelu', 'batch_size': 64, 'dropout': 0.5, 'epochs': 1, 'first_neuron': 2048, 'hidden_layers': 0, 'label_type': 'Normalized', 'loss_function': 'mean_squared_error', 'lr': 5, 'monitor_value': 'val_custom_mae', 'optimizer': <class 'tensorflow.python.keras.optimizer_v2.adam.Adam'>, 'reduction_metric': 'custom_mae', 'samples': 20000}\n",
      "Using Loss: mean_squared_error \n",
      "and Reduction Metric: [<function custom_mae at 0x0000021D2788ACA8>]\n",
      "Monitor: val_custom_mae\n",
      "Train on 16000 samples, validate on 3968 samples\n",
      "15808/16000 [============================>.] - ETA: 0s - loss: 619.9094 - custom_mae: 7.9360\n",
      "Epoch 00001: val_custom_mae improved from inf to 0.61598, saving model to ..\\fast_output\\SYNTH_Regression_MSE\\2020-05-28_Normalized_Base_Custom-MAE\\Best_Weights_FC_152.hdf5\n",
      "16000/16000 [==============================] - 5s 331us/sample - loss: 612.6263 - custom_mae: 7.8758 - val_loss: 0.5523 - val_custom_mae: 0.6160\n",
      "Time taken: 0:00:06.968578\n"
     ]
    },
    {
     "name": "stderr",
     "output_type": "stream",
     "text": [
      "\r",
      " 42%|██████████████████████████████████                                              | 153/360 [27:29<28:39,  8.31s/it]"
     ]
    },
    {
     "name": "stdout",
     "output_type": "stream",
     "text": [
      "{'activation': 'leakyrelu', 'batch_size': 64, 'dropout': 0.5, 'epochs': 1, 'first_neuron': 2048, 'hidden_layers': 1, 'label_type': 'Normalized', 'loss_function': 'mean_squared_error', 'lr': 1, 'monitor_value': 'val_custom_mae', 'optimizer': <class 'tensorflow.python.keras.optimizer_v2.adam.Adam'>, 'reduction_metric': 'custom_mae', 'samples': 20000}\n",
      "Using Loss: mean_squared_error \n",
      "and Reduction Metric: [<function custom_mae at 0x0000021D2788ACA8>]\n",
      "Monitor: val_custom_mae\n",
      "Train on 16000 samples, validate on 3968 samples\n",
      "15616/16000 [============================>.] - ETA: 0s - loss: 12.6838 - custom_mae: 1.4295\n",
      "Epoch 00001: val_custom_mae improved from inf to 0.34686, saving model to ..\\fast_output\\SYNTH_Regression_MSE\\2020-05-28_Normalized_Base_Custom-MAE\\Best_Weights_FC_153.hdf5\n",
      "16000/16000 [==============================] - 6s 348us/sample - loss: 12.3948 - custom_mae: 1.4105 - val_loss: 0.1946 - val_custom_mae: 0.3469\n",
      "Time taken: 0:00:07.228461\n"
     ]
    },
    {
     "name": "stderr",
     "output_type": "stream",
     "text": [
      "\r",
      " 43%|██████████████████████████████████▏                                             | 154/360 [27:38<29:13,  8.51s/it]"
     ]
    },
    {
     "name": "stdout",
     "output_type": "stream",
     "text": [
      "{'activation': 'leakyrelu', 'batch_size': 64, 'dropout': 0.5, 'epochs': 1, 'first_neuron': 2048, 'hidden_layers': 1, 'label_type': 'Normalized', 'loss_function': 'mean_squared_error', 'lr': 2, 'monitor_value': 'val_custom_mae', 'optimizer': <class 'tensorflow.python.keras.optimizer_v2.adam.Adam'>, 'reduction_metric': 'custom_mae', 'samples': 20000}\n",
      "Using Loss: mean_squared_error \n",
      "and Reduction Metric: [<function custom_mae at 0x0000021D2788ACA8>]\n",
      "Monitor: val_custom_mae\n",
      "Train on 16000 samples, validate on 3968 samples\n",
      "15808/16000 [============================>.] - ETA: 0s - loss: 131.2942 - custom_mae: 3.5852\n",
      "Epoch 00001: val_custom_mae improved from inf to 0.42590, saving model to ..\\fast_output\\SYNTH_Regression_MSE\\2020-05-28_Normalized_Base_Custom-MAE\\Best_Weights_FC_154.hdf5\n",
      "16000/16000 [==============================] - 6s 344us/sample - loss: 129.7612 - custom_mae: 3.5598 - val_loss: 0.2626 - val_custom_mae: 0.4259\n",
      "Time taken: 0:00:07.179318\n"
     ]
    },
    {
     "name": "stderr",
     "output_type": "stream",
     "text": [
      "\r",
      " 43%|██████████████████████████████████▍                                             | 155/360 [27:47<29:32,  8.65s/it]"
     ]
    },
    {
     "name": "stdout",
     "output_type": "stream",
     "text": [
      "{'activation': 'leakyrelu', 'batch_size': 64, 'dropout': 0.5, 'epochs': 1, 'first_neuron': 2048, 'hidden_layers': 1, 'label_type': 'Normalized', 'loss_function': 'mean_squared_error', 'lr': 5, 'monitor_value': 'val_custom_mae', 'optimizer': <class 'tensorflow.python.keras.optimizer_v2.adam.Adam'>, 'reduction_metric': 'custom_mae', 'samples': 20000}\n",
      "Using Loss: mean_squared_error \n",
      "and Reduction Metric: [<function custom_mae at 0x0000021D2788ACA8>]\n",
      "Monitor: val_custom_mae\n",
      "Train on 16000 samples, validate on 3968 samples\n",
      "15616/16000 [============================>.] - ETA: 0s - loss: 5387.1306 - custom_mae: 19.7418\n",
      "Epoch 00001: val_custom_mae improved from inf to 4.29673, saving model to ..\\fast_output\\SYNTH_Regression_MSE\\2020-05-28_Normalized_Base_Custom-MAE\\Best_Weights_FC_155.hdf5\n",
      "16000/16000 [==============================] - 6s 344us/sample - loss: 5259.6314 - custom_mae: 19.4308 - val_loss: 19.4311 - val_custom_mae: 4.2967\n",
      "Time taken: 0:00:07.176193\n"
     ]
    },
    {
     "name": "stderr",
     "output_type": "stream",
     "text": [
      "\r",
      " 43%|██████████████████████████████████▋                                             | 156/360 [27:56<29:42,  8.74s/it]"
     ]
    },
    {
     "name": "stdout",
     "output_type": "stream",
     "text": [
      "{'activation': 'leakyrelu', 'batch_size': 64, 'dropout': 0.5, 'epochs': 1, 'first_neuron': 2048, 'hidden_layers': 2, 'label_type': 'Normalized', 'loss_function': 'mean_squared_error', 'lr': 1, 'monitor_value': 'val_custom_mae', 'optimizer': <class 'tensorflow.python.keras.optimizer_v2.adam.Adam'>, 'reduction_metric': 'custom_mae', 'samples': 20000}\n",
      "Using Loss: mean_squared_error \n",
      "and Reduction Metric: [<function custom_mae at 0x0000021D2788ACA8>]\n",
      "Monitor: val_custom_mae\n",
      "Train on 16000 samples, validate on 3968 samples\n",
      "15808/16000 [============================>.] - ETA: 0s - loss: 5.0438 - custom_mae: 1.0444\n",
      "Epoch 00001: val_custom_mae improved from inf to 0.46257, saving model to ..\\fast_output\\SYNTH_Regression_MSE\\2020-05-28_Normalized_Base_Custom-MAE\\Best_Weights_FC_156.hdf5\n",
      "16000/16000 [==============================] - 6s 350us/sample - loss: 4.9877 - custom_mae: 1.0378 - val_loss: 0.3009 - val_custom_mae: 0.4626\n",
      "Time taken: 0:00:07.285697\n"
     ]
    },
    {
     "name": "stderr",
     "output_type": "stream",
     "text": [
      "\r",
      " 44%|██████████████████████████████████▉                                             | 157/360 [28:05<29:54,  8.84s/it]"
     ]
    },
    {
     "name": "stdout",
     "output_type": "stream",
     "text": [
      "{'activation': 'leakyrelu', 'batch_size': 64, 'dropout': 0.5, 'epochs': 1, 'first_neuron': 2048, 'hidden_layers': 2, 'label_type': 'Normalized', 'loss_function': 'mean_squared_error', 'lr': 2, 'monitor_value': 'val_custom_mae', 'optimizer': <class 'tensorflow.python.keras.optimizer_v2.adam.Adam'>, 'reduction_metric': 'custom_mae', 'samples': 20000}\n",
      "Using Loss: mean_squared_error \n",
      "and Reduction Metric: [<function custom_mae at 0x0000021D2788ACA8>]\n",
      "Monitor: val_custom_mae\n",
      "Train on 16000 samples, validate on 3968 samples\n",
      "15744/16000 [============================>.] - ETA: 0s - loss: 35.5546 - custom_mae: 2.2482\n",
      "Epoch 00001: val_custom_mae improved from inf to 0.51085, saving model to ..\\fast_output\\SYNTH_Regression_MSE\\2020-05-28_Normalized_Base_Custom-MAE\\Best_Weights_FC_157.hdf5\n",
      "16000/16000 [==============================] - 6s 347us/sample - loss: 35.0041 - custom_mae: 2.2260 - val_loss: 0.3859 - val_custom_mae: 0.5109\n",
      "Time taken: 0:00:07.220383\n"
     ]
    },
    {
     "name": "stderr",
     "output_type": "stream",
     "text": [
      "\r",
      " 44%|███████████████████████████████████                                             | 158/360 [28:14<29:57,  8.90s/it]"
     ]
    },
    {
     "name": "stdout",
     "output_type": "stream",
     "text": [
      "{'activation': 'leakyrelu', 'batch_size': 64, 'dropout': 0.5, 'epochs': 1, 'first_neuron': 2048, 'hidden_layers': 2, 'label_type': 'Normalized', 'loss_function': 'mean_squared_error', 'lr': 5, 'monitor_value': 'val_custom_mae', 'optimizer': <class 'tensorflow.python.keras.optimizer_v2.adam.Adam'>, 'reduction_metric': 'custom_mae', 'samples': 20000}\n",
      "Using Loss: mean_squared_error \n",
      "and Reduction Metric: [<function custom_mae at 0x0000021D2788ACA8>]\n",
      "Monitor: val_custom_mae\n",
      "Train on 16000 samples, validate on 3968 samples\n",
      "15808/16000 [============================>.] - ETA: 0s - loss: 7110.6138 - custom_mae: 18.6870\n",
      "Epoch 00001: val_custom_mae improved from inf to 0.65933, saving model to ..\\fast_output\\SYNTH_Regression_MSE\\2020-05-28_Normalized_Base_Custom-MAE\\Best_Weights_FC_158.hdf5\n",
      "16000/16000 [==============================] - 6s 354us/sample - loss: 7025.9362 - custom_mae: 18.5296 - val_loss: 0.6808 - val_custom_mae: 0.6593\n",
      "Time taken: 0:00:07.338126\n"
     ]
    },
    {
     "name": "stderr",
     "output_type": "stream",
     "text": [
      "\r",
      " 44%|███████████████████████████████████▎                                            | 159/360 [28:24<30:02,  8.97s/it]"
     ]
    },
    {
     "name": "stdout",
     "output_type": "stream",
     "text": [
      "{'activation': 'leakyrelu', 'batch_size': 64, 'dropout': 0.5, 'epochs': 1, 'first_neuron': 2048, 'hidden_layers': 3, 'label_type': 'Normalized', 'loss_function': 'mean_squared_error', 'lr': 1, 'monitor_value': 'val_custom_mae', 'optimizer': <class 'tensorflow.python.keras.optimizer_v2.adam.Adam'>, 'reduction_metric': 'custom_mae', 'samples': 20000}\n",
      "Using Loss: mean_squared_error \n",
      "and Reduction Metric: [<function custom_mae at 0x0000021D2788ACA8>]\n",
      "Monitor: val_custom_mae\n",
      "Train on 16000 samples, validate on 3968 samples\n",
      "15808/16000 [============================>.] - ETA: 0s - loss: 2.1500 - custom_mae: 0.8273\n",
      "Epoch 00001: val_custom_mae improved from inf to 0.47964, saving model to ..\\fast_output\\SYNTH_Regression_MSE\\2020-05-28_Normalized_Base_Custom-MAE\\Best_Weights_FC_159.hdf5\n",
      "16000/16000 [==============================] - 6s 357us/sample - loss: 2.1283 - custom_mae: 0.8233 - val_loss: 0.3089 - val_custom_mae: 0.4796\n",
      "Time taken: 0:00:07.382097\n"
     ]
    },
    {
     "name": "stderr",
     "output_type": "stream",
     "text": [
      "\r",
      " 44%|███████████████████████████████████▌                                            | 160/360 [28:33<30:06,  9.03s/it]"
     ]
    },
    {
     "name": "stdout",
     "output_type": "stream",
     "text": [
      "{'activation': 'leakyrelu', 'batch_size': 64, 'dropout': 0.5, 'epochs': 1, 'first_neuron': 2048, 'hidden_layers': 3, 'label_type': 'Normalized', 'loss_function': 'mean_squared_error', 'lr': 2, 'monitor_value': 'val_custom_mae', 'optimizer': <class 'tensorflow.python.keras.optimizer_v2.adam.Adam'>, 'reduction_metric': 'custom_mae', 'samples': 20000}\n",
      "Using Loss: mean_squared_error \n",
      "and Reduction Metric: [<function custom_mae at 0x0000021D2788ACA8>]\n",
      "Monitor: val_custom_mae\n",
      "Train on 16000 samples, validate on 3968 samples\n",
      "15616/16000 [============================>.] - ETA: 0s - loss: 9.6221 - custom_mae: 1.3376\n",
      "Epoch 00001: val_custom_mae improved from inf to 0.48181, saving model to ..\\fast_output\\SYNTH_Regression_MSE\\2020-05-28_Normalized_Base_Custom-MAE\\Best_Weights_FC_160.hdf5\n",
      "16000/16000 [==============================] - 6s 355us/sample - loss: 9.4020 - custom_mae: 1.3187 - val_loss: 0.3111 - val_custom_mae: 0.4818\n",
      "Time taken: 0:00:07.330096\n"
     ]
    },
    {
     "name": "stderr",
     "output_type": "stream",
     "text": [
      "\r",
      " 45%|███████████████████████████████████▊                                            | 161/360 [28:42<30:04,  9.07s/it]"
     ]
    },
    {
     "name": "stdout",
     "output_type": "stream",
     "text": [
      "{'activation': 'leakyrelu', 'batch_size': 64, 'dropout': 0.5, 'epochs': 1, 'first_neuron': 2048, 'hidden_layers': 3, 'label_type': 'Normalized', 'loss_function': 'mean_squared_error', 'lr': 5, 'monitor_value': 'val_custom_mae', 'optimizer': <class 'tensorflow.python.keras.optimizer_v2.adam.Adam'>, 'reduction_metric': 'custom_mae', 'samples': 20000}\n",
      "Using Loss: mean_squared_error \n",
      "and Reduction Metric: [<function custom_mae at 0x0000021D2788ACA8>]\n",
      "Monitor: val_custom_mae\n",
      "Train on 16000 samples, validate on 3968 samples\n",
      "15680/16000 [============================>.] - ETA: 0s - loss: 1599.3915 - custom_mae: 12.2118\n",
      "Epoch 00001: val_custom_mae improved from inf to 0.67669, saving model to ..\\fast_output\\SYNTH_Regression_MSE\\2020-05-28_Normalized_Base_Custom-MAE\\Best_Weights_FC_161.hdf5\n",
      "16000/16000 [==============================] - 6s 353us/sample - loss: 1567.9297 - custom_mae: 12.0449 - val_loss: 0.7022 - val_custom_mae: 0.6767\n",
      "Time taken: 0:00:07.306188\n"
     ]
    },
    {
     "name": "stderr",
     "output_type": "stream",
     "text": [
      "\r",
      " 45%|████████████████████████████████████                                            | 162/360 [28:51<29:58,  9.08s/it]"
     ]
    },
    {
     "name": "stdout",
     "output_type": "stream",
     "text": [
      "{'activation': 'leakyrelu', 'batch_size': 64, 'dropout': 0.5, 'epochs': 1, 'first_neuron': 2048, 'hidden_layers': 4, 'label_type': 'Normalized', 'loss_function': 'mean_squared_error', 'lr': 1, 'monitor_value': 'val_custom_mae', 'optimizer': <class 'tensorflow.python.keras.optimizer_v2.adam.Adam'>, 'reduction_metric': 'custom_mae', 'samples': 20000}\n",
      "Using Loss: mean_squared_error \n",
      "and Reduction Metric: [<function custom_mae at 0x0000021D2788ACA8>]\n",
      "Monitor: val_custom_mae\n",
      "Train on 16000 samples, validate on 3968 samples\n",
      "15680/16000 [============================>.] - ETA: 0s - loss: 2.0013 - custom_mae: 0.8186\n",
      "Epoch 00001: val_custom_mae improved from inf to 0.48274, saving model to ..\\fast_output\\SYNTH_Regression_MSE\\2020-05-28_Normalized_Base_Custom-MAE\\Best_Weights_FC_162.hdf5\n",
      "16000/16000 [==============================] - 6s 361us/sample - loss: 1.9684 - custom_mae: 0.8124 - val_loss: 0.3122 - val_custom_mae: 0.4827\n",
      "Time taken: 0:00:07.434622\n"
     ]
    },
    {
     "name": "stderr",
     "output_type": "stream",
     "text": [
      "\r",
      " 45%|████████████████████████████████████▏                                           | 163/360 [29:00<30:01,  9.15s/it]"
     ]
    },
    {
     "name": "stdout",
     "output_type": "stream",
     "text": [
      "{'activation': 'leakyrelu', 'batch_size': 64, 'dropout': 0.5, 'epochs': 1, 'first_neuron': 2048, 'hidden_layers': 4, 'label_type': 'Normalized', 'loss_function': 'mean_squared_error', 'lr': 2, 'monitor_value': 'val_custom_mae', 'optimizer': <class 'tensorflow.python.keras.optimizer_v2.adam.Adam'>, 'reduction_metric': 'custom_mae', 'samples': 20000}\n",
      "Using Loss: mean_squared_error \n",
      "and Reduction Metric: [<function custom_mae at 0x0000021D2788ACA8>]\n",
      "Monitor: val_custom_mae\n",
      "Train on 16000 samples, validate on 3968 samples\n",
      "15616/16000 [============================>.] - ETA: 0s - loss: 6.5491 - custom_mae: 1.1882\n",
      "Epoch 00001: val_custom_mae improved from inf to 0.48318, saving model to ..\\fast_output\\SYNTH_Regression_MSE\\2020-05-28_Normalized_Base_Custom-MAE\\Best_Weights_FC_163.hdf5\n",
      "16000/16000 [==============================] - 6s 363us/sample - loss: 6.4016 - custom_mae: 1.1724 - val_loss: 0.3125 - val_custom_mae: 0.4832\n",
      "Time taken: 0:00:07.456479\n"
     ]
    },
    {
     "name": "stderr",
     "output_type": "stream",
     "text": [
      "\r",
      " 46%|████████████████████████████████████▍                                           | 164/360 [29:10<30:02,  9.20s/it]"
     ]
    },
    {
     "name": "stdout",
     "output_type": "stream",
     "text": [
      "{'activation': 'leakyrelu', 'batch_size': 64, 'dropout': 0.5, 'epochs': 1, 'first_neuron': 2048, 'hidden_layers': 4, 'label_type': 'Normalized', 'loss_function': 'mean_squared_error', 'lr': 5, 'monitor_value': 'val_custom_mae', 'optimizer': <class 'tensorflow.python.keras.optimizer_v2.adam.Adam'>, 'reduction_metric': 'custom_mae', 'samples': 20000}\n",
      "Using Loss: mean_squared_error \n",
      "and Reduction Metric: [<function custom_mae at 0x0000021D2788ACA8>]\n",
      "Monitor: val_custom_mae\n",
      "Train on 16000 samples, validate on 3968 samples\n",
      "15616/16000 [============================>.] - ETA: 0s - loss: 160.2485 - custom_mae: 4.6661\n",
      "Epoch 00001: val_custom_mae improved from inf to 0.48578, saving model to ..\\fast_output\\SYNTH_Regression_MSE\\2020-05-28_Normalized_Base_Custom-MAE\\Best_Weights_FC_164.hdf5\n",
      "16000/16000 [==============================] - 6s 363us/sample - loss: 156.4647 - custom_mae: 4.5838 - val_loss: 0.3181 - val_custom_mae: 0.4858\n",
      "Time taken: 0:00:07.481134\n"
     ]
    },
    {
     "name": "stderr",
     "output_type": "stream",
     "text": [
      "\r",
      " 46%|████████████████████████████████████▋                                           | 165/360 [29:19<30:02,  9.24s/it]"
     ]
    },
    {
     "name": "stdout",
     "output_type": "stream",
     "text": [
      "{'activation': 'leakyrelu', 'batch_size': 64, 'dropout': 0.5, 'epochs': 1, 'first_neuron': 4096, 'hidden_layers': 0, 'label_type': 'Normalized', 'loss_function': 'mean_squared_error', 'lr': 1, 'monitor_value': 'val_custom_mae', 'optimizer': <class 'tensorflow.python.keras.optimizer_v2.adam.Adam'>, 'reduction_metric': 'custom_mae', 'samples': 20000}\n",
      "Using Loss: mean_squared_error \n",
      "and Reduction Metric: [<function custom_mae at 0x0000021D2788ACA8>]\n",
      "Monitor: val_custom_mae\n",
      "Train on 16000 samples, validate on 3968 samples\n",
      "15872/16000 [============================>.] - ETA: 0s - loss: 51.4230 - custom_mae: 2.1914\n",
      "Epoch 00001: val_custom_mae improved from inf to 0.38623, saving model to ..\\fast_output\\SYNTH_Regression_MSE\\2020-05-28_Normalized_Base_Custom-MAE\\Best_Weights_FC_165.hdf5\n",
      "16000/16000 [==============================] - 9s 574us/sample - loss: 51.0327 - custom_mae: 2.1842 - val_loss: 0.2335 - val_custom_mae: 0.3862\n",
      "Time taken: 0:00:10.860490\n"
     ]
    },
    {
     "name": "stderr",
     "output_type": "stream",
     "text": [
      "\r",
      " 46%|████████████████████████████████████▉                                           | 166/360 [29:32<33:09, 10.26s/it]"
     ]
    },
    {
     "name": "stdout",
     "output_type": "stream",
     "text": [
      "{'activation': 'leakyrelu', 'batch_size': 64, 'dropout': 0.5, 'epochs': 1, 'first_neuron': 4096, 'hidden_layers': 0, 'label_type': 'Normalized', 'loss_function': 'mean_squared_error', 'lr': 2, 'monitor_value': 'val_custom_mae', 'optimizer': <class 'tensorflow.python.keras.optimizer_v2.adam.Adam'>, 'reduction_metric': 'custom_mae', 'samples': 20000}\n",
      "Using Loss: mean_squared_error \n",
      "and Reduction Metric: [<function custom_mae at 0x0000021D2788ACA8>]\n",
      "Monitor: val_custom_mae\n",
      "Train on 16000 samples, validate on 3968 samples\n",
      "15872/16000 [============================>.] - ETA: 0s - loss: 203.3277 - custom_mae: 4.1284\n",
      "Epoch 00001: val_custom_mae improved from inf to 0.69634, saving model to ..\\fast_output\\SYNTH_Regression_MSE\\2020-05-28_Normalized_Base_Custom-MAE\\Best_Weights_FC_166.hdf5\n",
      "16000/16000 [==============================] - 9s 571us/sample - loss: 201.7537 - custom_mae: 4.1116 - val_loss: 0.7000 - val_custom_mae: 0.6963\n",
      "Time taken: 0:00:10.796852\n"
     ]
    },
    {
     "name": "stderr",
     "output_type": "stream",
     "text": [
      "\r",
      " 46%|█████████████████████████████████████                                           | 167/360 [29:44<35:13, 10.95s/it]"
     ]
    },
    {
     "name": "stdout",
     "output_type": "stream",
     "text": [
      "{'activation': 'leakyrelu', 'batch_size': 64, 'dropout': 0.5, 'epochs': 1, 'first_neuron': 4096, 'hidden_layers': 0, 'label_type': 'Normalized', 'loss_function': 'mean_squared_error', 'lr': 5, 'monitor_value': 'val_custom_mae', 'optimizer': <class 'tensorflow.python.keras.optimizer_v2.adam.Adam'>, 'reduction_metric': 'custom_mae', 'samples': 20000}\n",
      "Using Loss: mean_squared_error \n",
      "and Reduction Metric: [<function custom_mae at 0x0000021D2788ACA8>]\n",
      "Monitor: val_custom_mae\n",
      "Train on 16000 samples, validate on 3968 samples\n",
      "15936/16000 [============================>.] - ETA: 0s - loss: 1371.8450 - custom_mae: 10.4568\n",
      "Epoch 00001: val_custom_mae improved from inf to 0.56809, saving model to ..\\fast_output\\SYNTH_Regression_MSE\\2020-05-28_Normalized_Base_Custom-MAE\\Best_Weights_FC_167.hdf5\n",
      "16000/16000 [==============================] - 9s 566us/sample - loss: 1366.4667 - custom_mae: 10.4304 - val_loss: 0.5305 - val_custom_mae: 0.5681\n",
      "Time taken: 0:00:10.715470\n"
     ]
    },
    {
     "name": "stderr",
     "output_type": "stream",
     "text": [
      "\r",
      " 47%|█████████████████████████████████████▎                                          | 168/360 [29:57<36:29, 11.41s/it]"
     ]
    },
    {
     "name": "stdout",
     "output_type": "stream",
     "text": [
      "{'activation': 'leakyrelu', 'batch_size': 64, 'dropout': 0.5, 'epochs': 1, 'first_neuron': 4096, 'hidden_layers': 1, 'label_type': 'Normalized', 'loss_function': 'mean_squared_error', 'lr': 1, 'monitor_value': 'val_custom_mae', 'optimizer': <class 'tensorflow.python.keras.optimizer_v2.adam.Adam'>, 'reduction_metric': 'custom_mae', 'samples': 20000}\n",
      "Using Loss: mean_squared_error \n",
      "and Reduction Metric: [<function custom_mae at 0x0000021D2788ACA8>]\n",
      "Monitor: val_custom_mae\n",
      "Train on 16000 samples, validate on 3968 samples\n",
      "15936/16000 [============================>.] - ETA: 0s - loss: 73.0251 - custom_mae: 2.1317\n",
      "Epoch 00001: val_custom_mae improved from inf to 0.36408, saving model to ..\\fast_output\\SYNTH_Regression_MSE\\2020-05-28_Normalized_Base_Custom-MAE\\Best_Weights_FC_168.hdf5\n",
      "16000/16000 [==============================] - 10s 608us/sample - loss: 72.7380 - custom_mae: 2.1268 - val_loss: 0.2147 - val_custom_mae: 0.3641\n",
      "Time taken: 0:00:11.404067\n"
     ]
    },
    {
     "name": "stderr",
     "output_type": "stream",
     "text": [
      "\r",
      " 47%|█████████████████████████████████████▌                                          | 169/360 [30:10<38:00, 11.94s/it]"
     ]
    },
    {
     "name": "stdout",
     "output_type": "stream",
     "text": [
      "{'activation': 'leakyrelu', 'batch_size': 64, 'dropout': 0.5, 'epochs': 1, 'first_neuron': 4096, 'hidden_layers': 1, 'label_type': 'Normalized', 'loss_function': 'mean_squared_error', 'lr': 2, 'monitor_value': 'val_custom_mae', 'optimizer': <class 'tensorflow.python.keras.optimizer_v2.adam.Adam'>, 'reduction_metric': 'custom_mae', 'samples': 20000}\n",
      "Using Loss: mean_squared_error \n",
      "and Reduction Metric: [<function custom_mae at 0x0000021D2788ACA8>]\n",
      "Monitor: val_custom_mae\n",
      "Train on 16000 samples, validate on 3968 samples\n",
      "15936/16000 [============================>.] - ETA: 0s - loss: 1421.5813 - custom_mae: 8.7652- ETA: 0s - loss: 1691.2708 - custom_ma\n",
      "Epoch 00001: val_custom_mae improved from inf to 0.67437, saving model to ..\\fast_output\\SYNTH_Regression_MSE\\2020-05-28_Normalized_Base_Custom-MAE\\Best_Weights_FC_169.hdf5\n",
      "16000/16000 [==============================] - 10s 607us/sample - loss: 1415.9400 - custom_mae: 8.7412 - val_loss: 0.6527 - val_custom_mae: 0.6744\n",
      "Time taken: 0:00:11.411774\n"
     ]
    },
    {
     "name": "stderr",
     "output_type": "stream",
     "text": [
      "\r",
      " 47%|█████████████████████████████████████▊                                          | 170/360 [30:23<39:01, 12.32s/it]"
     ]
    },
    {
     "name": "stdout",
     "output_type": "stream",
     "text": [
      "{'activation': 'leakyrelu', 'batch_size': 64, 'dropout': 0.5, 'epochs': 1, 'first_neuron': 4096, 'hidden_layers': 1, 'label_type': 'Normalized', 'loss_function': 'mean_squared_error', 'lr': 5, 'monitor_value': 'val_custom_mae', 'optimizer': <class 'tensorflow.python.keras.optimizer_v2.adam.Adam'>, 'reduction_metric': 'custom_mae', 'samples': 20000}\n",
      "Using Loss: mean_squared_error \n",
      "and Reduction Metric: [<function custom_mae at 0x0000021D2788ACA8>]\n",
      "Monitor: val_custom_mae\n",
      "Train on 16000 samples, validate on 3968 samples\n",
      "15872/16000 [============================>.] - ETA: 0s - loss: 51994.1993 - custom_mae: 54.6601\n",
      "Epoch 00001: val_custom_mae improved from inf to 4.08339, saving model to ..\\fast_output\\SYNTH_Regression_MSE\\2020-05-28_Normalized_Base_Custom-MAE\\Best_Weights_FC_170.hdf5\n",
      "16000/16000 [==============================] - 10s 607us/sample - loss: 51580.2801 - custom_mae: 54.3266 - val_loss: 18.5677 - val_custom_mae: 4.0834\n",
      "Time taken: 0:00:11.369912\n"
     ]
    },
    {
     "name": "stderr",
     "output_type": "stream",
     "text": [
      "\r",
      " 48%|██████████████████████████████████████                                          | 171/360 [30:36<39:37, 12.58s/it]"
     ]
    },
    {
     "name": "stdout",
     "output_type": "stream",
     "text": [
      "{'activation': 'leakyrelu', 'batch_size': 64, 'dropout': 0.5, 'epochs': 1, 'first_neuron': 4096, 'hidden_layers': 2, 'label_type': 'Normalized', 'loss_function': 'mean_squared_error', 'lr': 1, 'monitor_value': 'val_custom_mae', 'optimizer': <class 'tensorflow.python.keras.optimizer_v2.adam.Adam'>, 'reduction_metric': 'custom_mae', 'samples': 20000}\n",
      "Using Loss: mean_squared_error \n",
      "and Reduction Metric: [<function custom_mae at 0x0000021D2788ACA8>]\n",
      "Monitor: val_custom_mae\n",
      "Train on 16000 samples, validate on 3968 samples\n",
      "15936/16000 [============================>.] - ETA: 0s - loss: 13.7077 - custom_mae: 1.4562\n",
      "Epoch 00001: val_custom_mae improved from inf to 0.46616, saving model to ..\\fast_output\\SYNTH_Regression_MSE\\2020-05-28_Normalized_Base_Custom-MAE\\Best_Weights_FC_171.hdf5\n",
      "16000/16000 [==============================] - 10s 619us/sample - loss: 13.6554 - custom_mae: 1.4530 - val_loss: 0.3174 - val_custom_mae: 0.4662\n",
      "Time taken: 0:00:11.569949\n"
     ]
    },
    {
     "name": "stderr",
     "output_type": "stream",
     "text": [
      "\r",
      " 48%|██████████████████████████████████████▏                                         | 172/360 [30:50<40:10, 12.82s/it]"
     ]
    },
    {
     "name": "stdout",
     "output_type": "stream",
     "text": [
      "{'activation': 'leakyrelu', 'batch_size': 64, 'dropout': 0.5, 'epochs': 1, 'first_neuron': 4096, 'hidden_layers': 2, 'label_type': 'Normalized', 'loss_function': 'mean_squared_error', 'lr': 2, 'monitor_value': 'val_custom_mae', 'optimizer': <class 'tensorflow.python.keras.optimizer_v2.adam.Adam'>, 'reduction_metric': 'custom_mae', 'samples': 20000}\n",
      "Using Loss: mean_squared_error \n",
      "and Reduction Metric: [<function custom_mae at 0x0000021D2788ACA8>]\n",
      "Monitor: val_custom_mae\n",
      "Train on 16000 samples, validate on 3968 samples\n",
      "15936/16000 [============================>.] - ETA: 0s - loss: 394.5131 - custom_mae: 5.9157\n",
      "Epoch 00001: val_custom_mae improved from inf to 0.93718, saving model to ..\\fast_output\\SYNTH_Regression_MSE\\2020-05-28_Normalized_Base_Custom-MAE\\Best_Weights_FC_172.hdf5\n",
      "16000/16000 [==============================] - 10s 621us/sample - loss: 392.9615 - custom_mae: 5.9003 - val_loss: 1.1827 - val_custom_mae: 0.9372\n",
      "Time taken: 0:00:11.595991\n"
     ]
    },
    {
     "name": "stderr",
     "output_type": "stream",
     "text": [
      "\r",
      " 48%|██████████████████████████████████████▍                                         | 173/360 [31:03<40:31, 13.00s/it]"
     ]
    },
    {
     "name": "stdout",
     "output_type": "stream",
     "text": [
      "{'activation': 'leakyrelu', 'batch_size': 64, 'dropout': 0.5, 'epochs': 1, 'first_neuron': 4096, 'hidden_layers': 2, 'label_type': 'Normalized', 'loss_function': 'mean_squared_error', 'lr': 5, 'monitor_value': 'val_custom_mae', 'optimizer': <class 'tensorflow.python.keras.optimizer_v2.adam.Adam'>, 'reduction_metric': 'custom_mae', 'samples': 20000}\n",
      "Using Loss: mean_squared_error \n",
      "and Reduction Metric: [<function custom_mae at 0x0000021D2788ACA8>]\n",
      "Monitor: val_custom_mae\n",
      "Train on 16000 samples, validate on 3968 samples\n",
      "15808/16000 [============================>.] - ETA: 0s - loss: 143427.8493 - custom_mae: 80.9566\n",
      "Epoch 00001: val_custom_mae improved from inf to 4.62020, saving model to ..\\fast_output\\SYNTH_Regression_MSE\\2020-05-28_Normalized_Base_Custom-MAE\\Best_Weights_FC_173.hdf5\n",
      "16000/16000 [==============================] - 10s 621us/sample - loss: 141713.6791 - custom_mae: 80.2147 - val_loss: 35.4721 - val_custom_mae: 4.6202\n",
      "Time taken: 0:00:11.596471\n"
     ]
    },
    {
     "name": "stderr",
     "output_type": "stream",
     "text": [
      "\r",
      " 48%|██████████████████████████████████████▋                                         | 174/360 [31:17<40:43, 13.14s/it]"
     ]
    },
    {
     "name": "stdout",
     "output_type": "stream",
     "text": [
      "{'activation': 'leakyrelu', 'batch_size': 64, 'dropout': 0.5, 'epochs': 1, 'first_neuron': 4096, 'hidden_layers': 3, 'label_type': 'Normalized', 'loss_function': 'mean_squared_error', 'lr': 1, 'monitor_value': 'val_custom_mae', 'optimizer': <class 'tensorflow.python.keras.optimizer_v2.adam.Adam'>, 'reduction_metric': 'custom_mae', 'samples': 20000}\n",
      "Using Loss: mean_squared_error \n",
      "and Reduction Metric: [<function custom_mae at 0x0000021D2788ACA8>]\n",
      "Monitor: val_custom_mae\n",
      "Train on 16000 samples, validate on 3968 samples\n",
      "15872/16000 [============================>.] - ETA: 0s - loss: 7.7503 - custom_mae: 1.2738\n",
      "Epoch 00001: val_custom_mae improved from inf to 0.48042, saving model to ..\\fast_output\\SYNTH_Regression_MSE\\2020-05-28_Normalized_Base_Custom-MAE\\Best_Weights_FC_174.hdf5\n",
      "16000/16000 [==============================] - 10s 629us/sample - loss: 7.6916 - custom_mae: 1.2678 - val_loss: 0.3106 - val_custom_mae: 0.4804\n",
      "Time taken: 0:00:11.725734\n"
     ]
    },
    {
     "name": "stderr",
     "output_type": "stream",
     "text": [
      "\r",
      " 49%|██████████████████████████████████████▉                                         | 175/360 [31:30<40:54, 13.27s/it]"
     ]
    },
    {
     "name": "stdout",
     "output_type": "stream",
     "text": [
      "{'activation': 'leakyrelu', 'batch_size': 64, 'dropout': 0.5, 'epochs': 1, 'first_neuron': 4096, 'hidden_layers': 3, 'label_type': 'Normalized', 'loss_function': 'mean_squared_error', 'lr': 2, 'monitor_value': 'val_custom_mae', 'optimizer': <class 'tensorflow.python.keras.optimizer_v2.adam.Adam'>, 'reduction_metric': 'custom_mae', 'samples': 20000}\n",
      "Using Loss: mean_squared_error \n",
      "and Reduction Metric: [<function custom_mae at 0x0000021D2788ACA8>]\n",
      "Monitor: val_custom_mae\n",
      "Train on 16000 samples, validate on 3968 samples\n",
      "15872/16000 [============================>.] - ETA: 0s - loss: 173.8788 - custom_mae: 4.2155\n",
      "Epoch 00001: val_custom_mae improved from inf to 0.96159, saving model to ..\\fast_output\\SYNTH_Regression_MSE\\2020-05-28_Normalized_Base_Custom-MAE\\Best_Weights_FC_175.hdf5\n",
      "16000/16000 [==============================] - 10s 628us/sample - loss: 172.5077 - custom_mae: 4.1916 - val_loss: 1.2951 - val_custom_mae: 0.9616\n",
      "Time taken: 0:00:11.707795\n"
     ]
    },
    {
     "name": "stderr",
     "output_type": "stream",
     "text": [
      "\r",
      " 49%|███████████████████████████████████████                                         | 176/360 [31:44<40:57, 13.36s/it]"
     ]
    },
    {
     "name": "stdout",
     "output_type": "stream",
     "text": [
      "{'activation': 'leakyrelu', 'batch_size': 64, 'dropout': 0.5, 'epochs': 1, 'first_neuron': 4096, 'hidden_layers': 3, 'label_type': 'Normalized', 'loss_function': 'mean_squared_error', 'lr': 5, 'monitor_value': 'val_custom_mae', 'optimizer': <class 'tensorflow.python.keras.optimizer_v2.adam.Adam'>, 'reduction_metric': 'custom_mae', 'samples': 20000}\n",
      "Using Loss: mean_squared_error \n",
      "and Reduction Metric: [<function custom_mae at 0x0000021D2788ACA8>]\n",
      "Monitor: val_custom_mae\n",
      "Train on 16000 samples, validate on 3968 samples\n",
      "15936/16000 [============================>.] - ETA: 0s - loss: 84081.8963 - custom_mae: 100.5720\n",
      "Epoch 00001: val_custom_mae improved from inf to 3.03272, saving model to ..\\fast_output\\SYNTH_Regression_MSE\\2020-05-28_Normalized_Base_Custom-MAE\\Best_Weights_FC_176.hdf5\n",
      "16000/16000 [==============================] - 10s 627us/sample - loss: 83750.0913 - custom_mae: 100.2688 - val_loss: 12.9724 - val_custom_mae: 3.0327\n",
      "Time taken: 0:00:11.687832\n"
     ]
    },
    {
     "name": "stderr",
     "output_type": "stream",
     "text": [
      "\r",
      " 49%|███████████████████████████████████████▎                                        | 177/360 [31:57<40:54, 13.41s/it]"
     ]
    },
    {
     "name": "stdout",
     "output_type": "stream",
     "text": [
      "{'activation': 'leakyrelu', 'batch_size': 64, 'dropout': 0.5, 'epochs': 1, 'first_neuron': 4096, 'hidden_layers': 4, 'label_type': 'Normalized', 'loss_function': 'mean_squared_error', 'lr': 1, 'monitor_value': 'val_custom_mae', 'optimizer': <class 'tensorflow.python.keras.optimizer_v2.adam.Adam'>, 'reduction_metric': 'custom_mae', 'samples': 20000}\n",
      "Using Loss: mean_squared_error \n",
      "and Reduction Metric: [<function custom_mae at 0x0000021D2788ACA8>]\n",
      "Monitor: val_custom_mae\n",
      "Train on 16000 samples, validate on 3968 samples\n",
      "15872/16000 [============================>.] - ETA: 0s - loss: 4.1158 - custom_mae: 1.0502\n",
      "Epoch 00001: val_custom_mae improved from inf to 0.48278, saving model to ..\\fast_output\\SYNTH_Regression_MSE\\2020-05-28_Normalized_Base_Custom-MAE\\Best_Weights_FC_177.hdf5\n",
      "16000/16000 [==============================] - 10s 634us/sample - loss: 4.0859 - custom_mae: 1.0459 - val_loss: 0.3124 - val_custom_mae: 0.4828\n",
      "Time taken: 0:00:11.811623\n"
     ]
    },
    {
     "name": "stderr",
     "output_type": "stream",
     "text": [
      "\r",
      " 49%|███████████████████████████████████████▌                                        | 178/360 [32:11<40:56, 13.50s/it]"
     ]
    },
    {
     "name": "stdout",
     "output_type": "stream",
     "text": [
      "{'activation': 'leakyrelu', 'batch_size': 64, 'dropout': 0.5, 'epochs': 1, 'first_neuron': 4096, 'hidden_layers': 4, 'label_type': 'Normalized', 'loss_function': 'mean_squared_error', 'lr': 2, 'monitor_value': 'val_custom_mae', 'optimizer': <class 'tensorflow.python.keras.optimizer_v2.adam.Adam'>, 'reduction_metric': 'custom_mae', 'samples': 20000}\n",
      "Using Loss: mean_squared_error \n",
      "and Reduction Metric: [<function custom_mae at 0x0000021D2788ACA8>]\n",
      "Monitor: val_custom_mae\n",
      "Train on 16000 samples, validate on 3968 samples\n",
      "15936/16000 [============================>.] - ETA: 0s - loss: 30.4621 - custom_mae: 2.2046\n",
      "Epoch 00001: val_custom_mae improved from inf to 0.48583, saving model to ..\\fast_output\\SYNTH_Regression_MSE\\2020-05-28_Normalized_Base_Custom-MAE\\Best_Weights_FC_178.hdf5\n",
      "16000/16000 [==============================] - 10s 634us/sample - loss: 30.3429 - custom_mae: 2.1985 - val_loss: 0.3168 - val_custom_mae: 0.4858\n",
      "Time taken: 0:00:11.794292\n"
     ]
    },
    {
     "name": "stderr",
     "output_type": "stream",
     "text": [
      "\r",
      " 50%|███████████████████████████████████████▊                                        | 179/360 [32:25<40:52, 13.55s/it]"
     ]
    },
    {
     "name": "stdout",
     "output_type": "stream",
     "text": [
      "{'activation': 'leakyrelu', 'batch_size': 64, 'dropout': 0.5, 'epochs': 1, 'first_neuron': 4096, 'hidden_layers': 4, 'label_type': 'Normalized', 'loss_function': 'mean_squared_error', 'lr': 5, 'monitor_value': 'val_custom_mae', 'optimizer': <class 'tensorflow.python.keras.optimizer_v2.adam.Adam'>, 'reduction_metric': 'custom_mae', 'samples': 20000}\n",
      "Using Loss: mean_squared_error \n",
      "and Reduction Metric: [<function custom_mae at 0x0000021D2788ACA8>]\n",
      "Monitor: val_custom_mae\n",
      "Train on 16000 samples, validate on 3968 samples\n",
      "15808/16000 [============================>.] - ETA: 0s - loss: 32482.3713 - custom_mae: 60.3200\n",
      "Epoch 00001: val_custom_mae improved from inf to 1.18637, saving model to ..\\fast_output\\SYNTH_Regression_MSE\\2020-05-28_Normalized_Base_Custom-MAE\\Best_Weights_FC_179.hdf5\n",
      "16000/16000 [==============================] - 10s 634us/sample - loss: 32098.4873 - custom_mae: 59.7999 - val_loss: 1.9541 - val_custom_mae: 1.1864\n",
      "Time taken: 0:00:11.816821\n"
     ]
    },
    {
     "name": "stderr",
     "output_type": "stream",
     "text": [
      "\r",
      " 50%|████████████████████████████████████████                                        | 180/360 [32:38<40:45, 13.59s/it]"
     ]
    },
    {
     "name": "stdout",
     "output_type": "stream",
     "text": [
      "{'activation': 'relu', 'batch_size': 32, 'dropout': 0.25, 'epochs': 1, 'first_neuron': 1024, 'hidden_layers': 0, 'label_type': 'Normalized', 'loss_function': 'mean_squared_error', 'lr': 1, 'monitor_value': 'val_custom_mae', 'optimizer': <class 'tensorflow.python.keras.optimizer_v2.adam.Adam'>, 'reduction_metric': 'custom_mae', 'samples': 20000}\n",
      "Using Loss: mean_squared_error \n",
      "and Reduction Metric: [<function custom_mae at 0x0000021D2788ACA8>]\n",
      "Monitor: val_custom_mae\n",
      "Train on 16000 samples, validate on 4000 samples\n",
      "15968/16000 [============================>.] - ETA: 0s - loss: 2.7378 - custom_mae: 0.4784\n",
      "Epoch 00001: val_custom_mae improved from inf to 0.22077, saving model to ..\\fast_output\\SYNTH_Regression_MSE\\2020-05-28_Normalized_Base_Custom-MAE\\Best_Weights_FC_180.hdf5\n",
      "16000/16000 [==============================] - 4s 279us/sample - loss: 2.7325 - custom_mae: 0.4779 - val_loss: 0.1049 - val_custom_mae: 0.2208\n",
      "Time taken: 0:00:06.193850\n"
     ]
    },
    {
     "name": "stderr",
     "output_type": "stream",
     "text": [
      "\r",
      " 50%|████████████████████████████████████████▏                                       | 181/360 [32:50<38:53, 13.04s/it]"
     ]
    },
    {
     "name": "stdout",
     "output_type": "stream",
     "text": [
      "{'activation': 'relu', 'batch_size': 32, 'dropout': 0.25, 'epochs': 1, 'first_neuron': 1024, 'hidden_layers': 0, 'label_type': 'Normalized', 'loss_function': 'mean_squared_error', 'lr': 2, 'monitor_value': 'val_custom_mae', 'optimizer': <class 'tensorflow.python.keras.optimizer_v2.adam.Adam'>, 'reduction_metric': 'custom_mae', 'samples': 20000}\n",
      "Using Loss: mean_squared_error \n",
      "and Reduction Metric: [<function custom_mae at 0x0000021D2788ACA8>]\n",
      "Monitor: val_custom_mae\n",
      "Train on 16000 samples, validate on 4000 samples\n",
      "15968/16000 [============================>.] - ETA: 0s - loss: 9.5471 - custom_mae: 0.6927\n",
      "Epoch 00001: val_custom_mae improved from inf to 0.26067, saving model to ..\\fast_output\\SYNTH_Regression_MSE\\2020-05-28_Normalized_Base_Custom-MAE\\Best_Weights_FC_181.hdf5\n",
      "16000/16000 [==============================] - 4s 279us/sample - loss: 9.5282 - custom_mae: 0.6918 - val_loss: 0.1308 - val_custom_mae: 0.2607\n",
      "Time taken: 0:00:06.119231\n"
     ]
    },
    {
     "name": "stderr",
     "output_type": "stream",
     "text": [
      "\r",
      " 51%|████████████████████████████████████████▍                                       | 182/360 [32:58<34:04, 11.48s/it]"
     ]
    },
    {
     "name": "stdout",
     "output_type": "stream",
     "text": [
      "{'activation': 'relu', 'batch_size': 32, 'dropout': 0.25, 'epochs': 1, 'first_neuron': 1024, 'hidden_layers': 0, 'label_type': 'Normalized', 'loss_function': 'mean_squared_error', 'lr': 5, 'monitor_value': 'val_custom_mae', 'optimizer': <class 'tensorflow.python.keras.optimizer_v2.adam.Adam'>, 'reduction_metric': 'custom_mae', 'samples': 20000}\n",
      "Using Loss: mean_squared_error \n",
      "and Reduction Metric: [<function custom_mae at 0x0000021D2788ACA8>]\n",
      "Monitor: val_custom_mae\n",
      "Train on 16000 samples, validate on 4000 samples\n",
      "15712/16000 [============================>.] - ETA: 0s - loss: 62.4214 - custom_mae: 1.3413\n",
      "Epoch 00001: val_custom_mae improved from inf to 0.29256, saving model to ..\\fast_output\\SYNTH_Regression_MSE\\2020-05-28_Normalized_Base_Custom-MAE\\Best_Weights_FC_182.hdf5\n",
      "16000/16000 [==============================] - 4s 280us/sample - loss: 61.3010 - custom_mae: 1.3230 - val_loss: 0.1514 - val_custom_mae: 0.2926\n",
      "Time taken: 0:00:06.142893\n"
     ]
    },
    {
     "name": "stderr",
     "output_type": "stream",
     "text": [
      "\r",
      " 51%|████████████████████████████████████████▋                                       | 183/360 [33:06<30:42, 10.41s/it]"
     ]
    },
    {
     "name": "stdout",
     "output_type": "stream",
     "text": [
      "{'activation': 'relu', 'batch_size': 32, 'dropout': 0.25, 'epochs': 1, 'first_neuron': 1024, 'hidden_layers': 1, 'label_type': 'Normalized', 'loss_function': 'mean_squared_error', 'lr': 1, 'monitor_value': 'val_custom_mae', 'optimizer': <class 'tensorflow.python.keras.optimizer_v2.adam.Adam'>, 'reduction_metric': 'custom_mae', 'samples': 20000}\n",
      "Using Loss: mean_squared_error \n",
      "and Reduction Metric: [<function custom_mae at 0x0000021D2788ACA8>]\n",
      "Monitor: val_custom_mae\n",
      "Train on 16000 samples, validate on 4000 samples\n",
      "15808/16000 [============================>.] - ETA: 0s - loss: 1.3473 - custom_mae: 0.4922\n",
      "Epoch 00001: val_custom_mae improved from inf to 0.24156, saving model to ..\\fast_output\\SYNTH_Regression_MSE\\2020-05-28_Normalized_Base_Custom-MAE\\Best_Weights_FC_183.hdf5\n",
      "16000/16000 [==============================] - 5s 291us/sample - loss: 1.3326 - custom_mae: 0.4894 - val_loss: 0.1183 - val_custom_mae: 0.2416\n",
      "Time taken: 0:00:06.322267\n"
     ]
    },
    {
     "name": "stderr",
     "output_type": "stream",
     "text": [
      "\r",
      " 51%|████████████████████████████████████████▉                                       | 184/360 [33:14<28:29,  9.72s/it]"
     ]
    },
    {
     "name": "stdout",
     "output_type": "stream",
     "text": [
      "{'activation': 'relu', 'batch_size': 32, 'dropout': 0.25, 'epochs': 1, 'first_neuron': 1024, 'hidden_layers': 1, 'label_type': 'Normalized', 'loss_function': 'mean_squared_error', 'lr': 2, 'monitor_value': 'val_custom_mae', 'optimizer': <class 'tensorflow.python.keras.optimizer_v2.adam.Adam'>, 'reduction_metric': 'custom_mae', 'samples': 20000}\n",
      "Using Loss: mean_squared_error \n",
      "and Reduction Metric: [<function custom_mae at 0x0000021D2788ACA8>]\n",
      "Monitor: val_custom_mae\n",
      "Train on 16000 samples, validate on 4000 samples\n",
      "15808/16000 [============================>.] - ETA: 0s - loss: 6.5538 - custom_mae: 0.7144\n",
      "Epoch 00001: val_custom_mae improved from inf to 0.38135, saving model to ..\\fast_output\\SYNTH_Regression_MSE\\2020-05-28_Normalized_Base_Custom-MAE\\Best_Weights_FC_184.hdf5\n",
      "16000/16000 [==============================] - 5s 290us/sample - loss: 6.4778 - custom_mae: 0.7104 - val_loss: 0.2171 - val_custom_mae: 0.3814\n",
      "Time taken: 0:00:06.297834\n"
     ]
    },
    {
     "name": "stderr",
     "output_type": "stream",
     "text": [
      "\r",
      " 51%|█████████████████████████████████████████                                       | 185/360 [33:22<26:53,  9.22s/it]"
     ]
    },
    {
     "name": "stdout",
     "output_type": "stream",
     "text": [
      "{'activation': 'relu', 'batch_size': 32, 'dropout': 0.25, 'epochs': 1, 'first_neuron': 1024, 'hidden_layers': 1, 'label_type': 'Normalized', 'loss_function': 'mean_squared_error', 'lr': 5, 'monitor_value': 'val_custom_mae', 'optimizer': <class 'tensorflow.python.keras.optimizer_v2.adam.Adam'>, 'reduction_metric': 'custom_mae', 'samples': 20000}\n",
      "Using Loss: mean_squared_error \n",
      "and Reduction Metric: [<function custom_mae at 0x0000021D2788ACA8>]\n",
      "Monitor: val_custom_mae\n",
      "Train on 16000 samples, validate on 4000 samples\n",
      "15904/16000 [============================>.] - ETA: 0s - loss: 113.4517 - custom_mae: 1.0763\n",
      "Epoch 00001: val_custom_mae improved from inf to 0.37937, saving model to ..\\fast_output\\SYNTH_Regression_MSE\\2020-05-28_Normalized_Base_Custom-MAE\\Best_Weights_FC_185.hdf5\n",
      "16000/16000 [==============================] - 5s 287us/sample - loss: 112.7726 - custom_mae: 1.0723 - val_loss: 0.2174 - val_custom_mae: 0.3794\n",
      "Time taken: 0:00:06.237224\n"
     ]
    },
    {
     "name": "stderr",
     "output_type": "stream",
     "text": [
      "\r",
      " 52%|█████████████████████████████████████████▎                                      | 186/360 [33:30<25:41,  8.86s/it]"
     ]
    },
    {
     "name": "stdout",
     "output_type": "stream",
     "text": [
      "{'activation': 'relu', 'batch_size': 32, 'dropout': 0.25, 'epochs': 1, 'first_neuron': 1024, 'hidden_layers': 2, 'label_type': 'Normalized', 'loss_function': 'mean_squared_error', 'lr': 1, 'monitor_value': 'val_custom_mae', 'optimizer': <class 'tensorflow.python.keras.optimizer_v2.adam.Adam'>, 'reduction_metric': 'custom_mae', 'samples': 20000}\n",
      "Using Loss: mean_squared_error \n",
      "and Reduction Metric: [<function custom_mae at 0x0000021D2788ACA8>]\n",
      "Monitor: val_custom_mae\n",
      "Train on 16000 samples, validate on 4000 samples\n",
      "15808/16000 [============================>.] - ETA: 0s - loss: 0.6182 - custom_mae: 0.4820\n",
      "Epoch 00001: val_custom_mae improved from inf to 0.28339, saving model to ..\\fast_output\\SYNTH_Regression_MSE\\2020-05-28_Normalized_Base_Custom-MAE\\Best_Weights_FC_186.hdf5\n",
      "16000/16000 [==============================] - 5s 298us/sample - loss: 0.6126 - custom_mae: 0.4796 - val_loss: 0.1490 - val_custom_mae: 0.2834\n",
      "Time taken: 0:00:06.439632\n"
     ]
    },
    {
     "name": "stderr",
     "output_type": "stream",
     "text": [
      "\r",
      " 52%|█████████████████████████████████████████▌                                      | 187/360 [33:38<25:00,  8.67s/it]"
     ]
    },
    {
     "name": "stdout",
     "output_type": "stream",
     "text": [
      "{'activation': 'relu', 'batch_size': 32, 'dropout': 0.25, 'epochs': 1, 'first_neuron': 1024, 'hidden_layers': 2, 'label_type': 'Normalized', 'loss_function': 'mean_squared_error', 'lr': 2, 'monitor_value': 'val_custom_mae', 'optimizer': <class 'tensorflow.python.keras.optimizer_v2.adam.Adam'>, 'reduction_metric': 'custom_mae', 'samples': 20000}\n",
      "Using Loss: mean_squared_error \n",
      "and Reduction Metric: [<function custom_mae at 0x0000021D2788ACA8>]\n",
      "Monitor: val_custom_mae\n",
      "Train on 16000 samples, validate on 4000 samples\n",
      "15840/16000 [============================>.] - ETA: 0s - loss: 2.1142 - custom_mae: 0.6376\n",
      "Epoch 00001: val_custom_mae improved from inf to 0.48365, saving model to ..\\fast_output\\SYNTH_Regression_MSE\\2020-05-28_Normalized_Base_Custom-MAE\\Best_Weights_FC_187.hdf5\n",
      "16000/16000 [==============================] - 5s 297us/sample - loss: 2.0960 - custom_mae: 0.6361 - val_loss: 0.3135 - val_custom_mae: 0.4837\n",
      "Time taken: 0:00:06.423555\n"
     ]
    },
    {
     "name": "stderr",
     "output_type": "stream",
     "text": [
      "\r",
      " 52%|█████████████████████████████████████████▊                                      | 188/360 [33:46<24:28,  8.54s/it]"
     ]
    },
    {
     "name": "stdout",
     "output_type": "stream",
     "text": [
      "{'activation': 'relu', 'batch_size': 32, 'dropout': 0.25, 'epochs': 1, 'first_neuron': 1024, 'hidden_layers': 2, 'label_type': 'Normalized', 'loss_function': 'mean_squared_error', 'lr': 5, 'monitor_value': 'val_custom_mae', 'optimizer': <class 'tensorflow.python.keras.optimizer_v2.adam.Adam'>, 'reduction_metric': 'custom_mae', 'samples': 20000}\n",
      "Using Loss: mean_squared_error \n",
      "and Reduction Metric: [<function custom_mae at 0x0000021D2788ACA8>]\n",
      "Monitor: val_custom_mae\n",
      "Train on 16000 samples, validate on 4000 samples\n",
      "15680/16000 [============================>.] - ETA: 0s - loss: 40.6953 - custom_mae: 0.9274\n",
      "Epoch 00001: val_custom_mae improved from inf to 0.48397, saving model to ..\\fast_output\\SYNTH_Regression_MSE\\2020-05-28_Normalized_Base_Custom-MAE\\Best_Weights_FC_188.hdf5\n",
      "16000/16000 [==============================] - 5s 299us/sample - loss: 39.8875 - custom_mae: 0.9184 - val_loss: 0.3136 - val_custom_mae: 0.4840\n",
      "Time taken: 0:00:06.474058\n"
     ]
    },
    {
     "name": "stderr",
     "output_type": "stream",
     "text": [
      "\r",
      " 52%|██████████████████████████████████████████                                      | 189/360 [33:55<24:07,  8.46s/it]"
     ]
    },
    {
     "name": "stdout",
     "output_type": "stream",
     "text": [
      "{'activation': 'relu', 'batch_size': 32, 'dropout': 0.25, 'epochs': 1, 'first_neuron': 1024, 'hidden_layers': 3, 'label_type': 'Normalized', 'loss_function': 'mean_squared_error', 'lr': 1, 'monitor_value': 'val_custom_mae', 'optimizer': <class 'tensorflow.python.keras.optimizer_v2.adam.Adam'>, 'reduction_metric': 'custom_mae', 'samples': 20000}\n",
      "Using Loss: mean_squared_error \n",
      "and Reduction Metric: [<function custom_mae at 0x0000021D2788ACA8>]\n",
      "Monitor: val_custom_mae\n",
      "Train on 16000 samples, validate on 4000 samples\n",
      "15808/16000 [============================>.] - ETA: 0s - loss: 0.3643 - custom_mae: 0.4246\n",
      "Epoch 00001: val_custom_mae improved from inf to 0.26541, saving model to ..\\fast_output\\SYNTH_Regression_MSE\\2020-05-28_Normalized_Base_Custom-MAE\\Best_Weights_FC_189.hdf5\n",
      "16000/16000 [==============================] - 5s 307us/sample - loss: 0.3618 - custom_mae: 0.4231 - val_loss: 0.1316 - val_custom_mae: 0.2654\n",
      "Time taken: 0:00:06.613365\n"
     ]
    },
    {
     "name": "stderr",
     "output_type": "stream",
     "text": [
      "\r",
      " 53%|██████████████████████████████████████████▏                                     | 190/360 [34:03<23:57,  8.46s/it]"
     ]
    },
    {
     "name": "stdout",
     "output_type": "stream",
     "text": [
      "{'activation': 'relu', 'batch_size': 32, 'dropout': 0.25, 'epochs': 1, 'first_neuron': 1024, 'hidden_layers': 3, 'label_type': 'Normalized', 'loss_function': 'mean_squared_error', 'lr': 2, 'monitor_value': 'val_custom_mae', 'optimizer': <class 'tensorflow.python.keras.optimizer_v2.adam.Adam'>, 'reduction_metric': 'custom_mae', 'samples': 20000}\n",
      "Using Loss: mean_squared_error \n",
      "and Reduction Metric: [<function custom_mae at 0x0000021D2788ACA8>]\n",
      "Monitor: val_custom_mae\n",
      "Train on 16000 samples, validate on 4000 samples\n",
      "15840/16000 [============================>.] - ETA: 0s - loss: 0.8501 - custom_mae: 0.5582\n",
      "Epoch 00001: val_custom_mae improved from inf to 0.38134, saving model to ..\\fast_output\\SYNTH_Regression_MSE\\2020-05-28_Normalized_Base_Custom-MAE\\Best_Weights_FC_190.hdf5\n",
      "16000/16000 [==============================] - 5s 307us/sample - loss: 0.8439 - custom_mae: 0.5565 - val_loss: 0.2182 - val_custom_mae: 0.3813\n",
      "Time taken: 0:00:06.579484\n"
     ]
    },
    {
     "name": "stderr",
     "output_type": "stream",
     "text": [
      "\r",
      " 53%|██████████████████████████████████████████▍                                     | 191/360 [34:12<23:47,  8.45s/it]"
     ]
    },
    {
     "name": "stdout",
     "output_type": "stream",
     "text": [
      "{'activation': 'relu', 'batch_size': 32, 'dropout': 0.25, 'epochs': 1, 'first_neuron': 1024, 'hidden_layers': 3, 'label_type': 'Normalized', 'loss_function': 'mean_squared_error', 'lr': 5, 'monitor_value': 'val_custom_mae', 'optimizer': <class 'tensorflow.python.keras.optimizer_v2.adam.Adam'>, 'reduction_metric': 'custom_mae', 'samples': 20000}\n",
      "Using Loss: mean_squared_error \n",
      "and Reduction Metric: [<function custom_mae at 0x0000021D2788ACA8>]\n",
      "Monitor: val_custom_mae\n",
      "Train on 16000 samples, validate on 4000 samples\n",
      "15904/16000 [============================>.] - ETA: 0s - loss: 8.6366 - custom_mae: 0.7552\n",
      "Epoch 00001: val_custom_mae improved from inf to 0.48369, saving model to ..\\fast_output\\SYNTH_Regression_MSE\\2020-05-28_Normalized_Base_Custom-MAE\\Best_Weights_FC_191.hdf5\n",
      "16000/16000 [==============================] - 5s 305us/sample - loss: 8.5867 - custom_mae: 0.7536 - val_loss: 0.3136 - val_custom_mae: 0.4837\n",
      "Time taken: 0:00:06.578002\n"
     ]
    },
    {
     "name": "stderr",
     "output_type": "stream",
     "text": [
      "\r",
      " 53%|██████████████████████████████████████████▋                                     | 192/360 [34:20<23:36,  8.43s/it]"
     ]
    },
    {
     "name": "stdout",
     "output_type": "stream",
     "text": [
      "{'activation': 'relu', 'batch_size': 32, 'dropout': 0.25, 'epochs': 1, 'first_neuron': 1024, 'hidden_layers': 4, 'label_type': 'Normalized', 'loss_function': 'mean_squared_error', 'lr': 1, 'monitor_value': 'val_custom_mae', 'optimizer': <class 'tensorflow.python.keras.optimizer_v2.adam.Adam'>, 'reduction_metric': 'custom_mae', 'samples': 20000}\n",
      "Using Loss: mean_squared_error \n",
      "and Reduction Metric: [<function custom_mae at 0x0000021D2788ACA8>]\n",
      "Monitor: val_custom_mae\n",
      "Train on 16000 samples, validate on 4000 samples\n",
      "15712/16000 [============================>.] - ETA: 0s - loss: 0.3304 - custom_mae: 0.4632\n",
      "Epoch 00001: val_custom_mae improved from inf to 0.34685, saving model to ..\\fast_output\\SYNTH_Regression_MSE\\2020-05-28_Normalized_Base_Custom-MAE\\Best_Weights_FC_192.hdf5\n",
      "16000/16000 [==============================] - 5s 310us/sample - loss: 0.3284 - custom_mae: 0.4615 - val_loss: 0.1910 - val_custom_mae: 0.3469\n",
      "Time taken: 0:00:06.629486\n"
     ]
    },
    {
     "name": "stderr",
     "output_type": "stream",
     "text": [
      "\r",
      " 54%|██████████████████████████████████████████▉                                     | 193/360 [34:28<23:31,  8.45s/it]"
     ]
    },
    {
     "name": "stdout",
     "output_type": "stream",
     "text": [
      "{'activation': 'relu', 'batch_size': 32, 'dropout': 0.25, 'epochs': 1, 'first_neuron': 1024, 'hidden_layers': 4, 'label_type': 'Normalized', 'loss_function': 'mean_squared_error', 'lr': 2, 'monitor_value': 'val_custom_mae', 'optimizer': <class 'tensorflow.python.keras.optimizer_v2.adam.Adam'>, 'reduction_metric': 'custom_mae', 'samples': 20000}\n",
      "Using Loss: mean_squared_error \n",
      "and Reduction Metric: [<function custom_mae at 0x0000021D2788ACA8>]\n",
      "Monitor: val_custom_mae\n",
      "Train on 16000 samples, validate on 4000 samples\n",
      "15808/16000 [============================>.] - ETA: 0s - loss: 0.4964 - custom_mae: 0.5302\n",
      "Epoch 00001: val_custom_mae improved from inf to 0.41951, saving model to ..\\fast_output\\SYNTH_Regression_MSE\\2020-05-28_Normalized_Base_Custom-MAE\\Best_Weights_FC_193.hdf5\n",
      "16000/16000 [==============================] - 5s 313us/sample - loss: 0.4937 - custom_mae: 0.5291 - val_loss: 0.2528 - val_custom_mae: 0.4195\n",
      "Time taken: 0:00:06.680115\n"
     ]
    },
    {
     "name": "stderr",
     "output_type": "stream",
     "text": [
      "\r",
      " 54%|███████████████████████████████████████████                                     | 194/360 [34:37<23:26,  8.48s/it]"
     ]
    },
    {
     "name": "stdout",
     "output_type": "stream",
     "text": [
      "{'activation': 'relu', 'batch_size': 32, 'dropout': 0.25, 'epochs': 1, 'first_neuron': 1024, 'hidden_layers': 4, 'label_type': 'Normalized', 'loss_function': 'mean_squared_error', 'lr': 5, 'monitor_value': 'val_custom_mae', 'optimizer': <class 'tensorflow.python.keras.optimizer_v2.adam.Adam'>, 'reduction_metric': 'custom_mae', 'samples': 20000}\n",
      "Using Loss: mean_squared_error \n",
      "and Reduction Metric: [<function custom_mae at 0x0000021D2788ACA8>]\n",
      "Monitor: val_custom_mae\n",
      "Train on 16000 samples, validate on 4000 samples\n",
      "15840/16000 [============================>.] - ETA: 0s - loss: 1.9819 - custom_mae: 0.6017\n",
      "Epoch 00001: val_custom_mae improved from inf to 0.48361, saving model to ..\\fast_output\\SYNTH_Regression_MSE\\2020-05-28_Normalized_Base_Custom-MAE\\Best_Weights_FC_194.hdf5\n",
      "16000/16000 [==============================] - 5s 312us/sample - loss: 1.9651 - custom_mae: 0.6005 - val_loss: 0.3135 - val_custom_mae: 0.4836\n",
      "Time taken: 0:00:06.655308\n"
     ]
    },
    {
     "name": "stderr",
     "output_type": "stream",
     "text": [
      "\r",
      " 54%|███████████████████████████████████████████▎                                    | 195/360 [34:45<23:20,  8.49s/it]"
     ]
    },
    {
     "name": "stdout",
     "output_type": "stream",
     "text": [
      "{'activation': 'relu', 'batch_size': 32, 'dropout': 0.25, 'epochs': 1, 'first_neuron': 2048, 'hidden_layers': 0, 'label_type': 'Normalized', 'loss_function': 'mean_squared_error', 'lr': 1, 'monitor_value': 'val_custom_mae', 'optimizer': <class 'tensorflow.python.keras.optimizer_v2.adam.Adam'>, 'reduction_metric': 'custom_mae', 'samples': 20000}\n",
      "Using Loss: mean_squared_error \n",
      "and Reduction Metric: [<function custom_mae at 0x0000021D2788ACA8>]\n",
      "Monitor: val_custom_mae\n",
      "Train on 16000 samples, validate on 4000 samples\n",
      "15872/16000 [============================>.] - ETA: 0s - loss: 5.2889 - custom_mae: 0.6087\n",
      "Epoch 00001: val_custom_mae improved from inf to 0.21508, saving model to ..\\fast_output\\SYNTH_Regression_MSE\\2020-05-28_Normalized_Base_Custom-MAE\\Best_Weights_FC_195.hdf5\n",
      "16000/16000 [==============================] - 7s 432us/sample - loss: 5.2475 - custom_mae: 0.6056 - val_loss: 0.1008 - val_custom_mae: 0.2151\n",
      "Time taken: 0:00:08.605699\n"
     ]
    },
    {
     "name": "stderr",
     "output_type": "stream",
     "text": [
      "\r",
      " 54%|███████████████████████████████████████████▌                                    | 196/360 [34:56<24:44,  9.05s/it]"
     ]
    },
    {
     "name": "stdout",
     "output_type": "stream",
     "text": [
      "{'activation': 'relu', 'batch_size': 32, 'dropout': 0.25, 'epochs': 1, 'first_neuron': 2048, 'hidden_layers': 0, 'label_type': 'Normalized', 'loss_function': 'mean_squared_error', 'lr': 2, 'monitor_value': 'val_custom_mae', 'optimizer': <class 'tensorflow.python.keras.optimizer_v2.adam.Adam'>, 'reduction_metric': 'custom_mae', 'samples': 20000}\n",
      "Using Loss: mean_squared_error \n",
      "and Reduction Metric: [<function custom_mae at 0x0000021D2788ACA8>]\n",
      "Monitor: val_custom_mae\n",
      "Train on 16000 samples, validate on 4000 samples\n",
      "15936/16000 [============================>.] - ETA: 0s - loss: 19.0414 - custom_mae: 0.9464\n",
      "Epoch 00001: val_custom_mae improved from inf to 0.24282, saving model to ..\\fast_output\\SYNTH_Regression_MSE\\2020-05-28_Normalized_Base_Custom-MAE\\Best_Weights_FC_196.hdf5\n",
      "16000/16000 [==============================] - 7s 426us/sample - loss: 18.9657 - custom_mae: 0.9436 - val_loss: 0.1183 - val_custom_mae: 0.2428\n",
      "Time taken: 0:00:08.478729\n"
     ]
    },
    {
     "name": "stderr",
     "output_type": "stream",
     "text": [
      "\r",
      " 55%|███████████████████████████████████████████▊                                    | 197/360 [35:06<25:32,  9.40s/it]"
     ]
    },
    {
     "name": "stdout",
     "output_type": "stream",
     "text": [
      "{'activation': 'relu', 'batch_size': 32, 'dropout': 0.25, 'epochs': 1, 'first_neuron': 2048, 'hidden_layers': 0, 'label_type': 'Normalized', 'loss_function': 'mean_squared_error', 'lr': 5, 'monitor_value': 'val_custom_mae', 'optimizer': <class 'tensorflow.python.keras.optimizer_v2.adam.Adam'>, 'reduction_metric': 'custom_mae', 'samples': 20000}\n",
      "Using Loss: mean_squared_error \n",
      "and Reduction Metric: [<function custom_mae at 0x0000021D2788ACA8>]\n",
      "Monitor: val_custom_mae\n",
      "Train on 16000 samples, validate on 4000 samples\n",
      "15904/16000 [============================>.] - ETA: 0s - loss: 131.2399 - custom_mae: 1.9122\n",
      "Epoch 00001: val_custom_mae improved from inf to 0.30202, saving model to ..\\fast_output\\SYNTH_Regression_MSE\\2020-05-28_Normalized_Base_Custom-MAE\\Best_Weights_FC_197.hdf5\n",
      "16000/16000 [==============================] - 7s 431us/sample - loss: 130.4537 - custom_mae: 1.9029 - val_loss: 0.1569 - val_custom_mae: 0.3020\n",
      "Time taken: 0:00:08.539663\n"
     ]
    },
    {
     "name": "stderr",
     "output_type": "stream",
     "text": [
      "\r",
      " 55%|████████████████████████████████████████████                                    | 198/360 [35:16<26:07,  9.68s/it]"
     ]
    },
    {
     "name": "stdout",
     "output_type": "stream",
     "text": [
      "{'activation': 'relu', 'batch_size': 32, 'dropout': 0.25, 'epochs': 1, 'first_neuron': 2048, 'hidden_layers': 1, 'label_type': 'Normalized', 'loss_function': 'mean_squared_error', 'lr': 1, 'monitor_value': 'val_custom_mae', 'optimizer': <class 'tensorflow.python.keras.optimizer_v2.adam.Adam'>, 'reduction_metric': 'custom_mae', 'samples': 20000}\n",
      "Using Loss: mean_squared_error \n",
      "and Reduction Metric: [<function custom_mae at 0x0000021D2788ACA8>]\n",
      "Monitor: val_custom_mae\n",
      "Train on 16000 samples, validate on 4000 samples\n",
      "15776/16000 [============================>.] - ETA: 0s - loss: 4.7319 - custom_mae: 0.5965\n",
      "Epoch 00001: val_custom_mae improved from inf to 0.30541, saving model to ..\\fast_output\\SYNTH_Regression_MSE\\2020-05-28_Normalized_Base_Custom-MAE\\Best_Weights_FC_198.hdf5\n",
      "16000/16000 [==============================] - 7s 451us/sample - loss: 4.6680 - custom_mae: 0.5925 - val_loss: 0.1618 - val_custom_mae: 0.3054\n",
      "Time taken: 0:00:08.906011\n"
     ]
    },
    {
     "name": "stderr",
     "output_type": "stream",
     "text": [
      "\r",
      " 55%|████████████████████████████████████████████▏                                   | 199/360 [35:27<26:46,  9.98s/it]"
     ]
    },
    {
     "name": "stdout",
     "output_type": "stream",
     "text": [
      "{'activation': 'relu', 'batch_size': 32, 'dropout': 0.25, 'epochs': 1, 'first_neuron': 2048, 'hidden_layers': 1, 'label_type': 'Normalized', 'loss_function': 'mean_squared_error', 'lr': 2, 'monitor_value': 'val_custom_mae', 'optimizer': <class 'tensorflow.python.keras.optimizer_v2.adam.Adam'>, 'reduction_metric': 'custom_mae', 'samples': 20000}\n",
      "Using Loss: mean_squared_error \n",
      "and Reduction Metric: [<function custom_mae at 0x0000021D2788ACA8>]\n",
      "Monitor: val_custom_mae\n",
      "Train on 16000 samples, validate on 4000 samples\n",
      "15872/16000 [============================>.] - ETA: 0s - loss: 34.4128 - custom_mae: 0.7952\n",
      "Epoch 00001: val_custom_mae improved from inf to 0.31308, saving model to ..\\fast_output\\SYNTH_Regression_MSE\\2020-05-28_Normalized_Base_Custom-MAE\\Best_Weights_FC_199.hdf5\n",
      "16000/16000 [==============================] - 7s 449us/sample - loss: 34.1389 - custom_mae: 0.7915 - val_loss: 0.1629 - val_custom_mae: 0.3131\n",
      "Time taken: 0:00:08.841448\n"
     ]
    },
    {
     "name": "stderr",
     "output_type": "stream",
     "text": [
      "\r",
      " 56%|████████████████████████████████████████████▍                                   | 200/360 [35:38<27:07, 10.17s/it]"
     ]
    },
    {
     "name": "stdout",
     "output_type": "stream",
     "text": [
      "{'activation': 'relu', 'batch_size': 32, 'dropout': 0.25, 'epochs': 1, 'first_neuron': 2048, 'hidden_layers': 1, 'label_type': 'Normalized', 'loss_function': 'mean_squared_error', 'lr': 5, 'monitor_value': 'val_custom_mae', 'optimizer': <class 'tensorflow.python.keras.optimizer_v2.adam.Adam'>, 'reduction_metric': 'custom_mae', 'samples': 20000}\n",
      "Using Loss: mean_squared_error \n",
      "and Reduction Metric: [<function custom_mae at 0x0000021D2788ACA8>]\n",
      "Monitor: val_custom_mae\n",
      "Train on 16000 samples, validate on 4000 samples\n",
      "15904/16000 [============================>.] - ETA: 0s - loss: 933.6997 - custom_mae: 2.1197\n",
      "Epoch 00001: val_custom_mae improved from inf to 0.36595, saving model to ..\\fast_output\\SYNTH_Regression_MSE\\2020-05-28_Normalized_Base_Custom-MAE\\Best_Weights_FC_200.hdf5\n",
      "16000/16000 [==============================] - 7s 444us/sample - loss: 928.0990 - custom_mae: 2.1094 - val_loss: 0.1999 - val_custom_mae: 0.3660\n",
      "Time taken: 0:00:08.785593\n"
     ]
    },
    {
     "name": "stderr",
     "output_type": "stream",
     "text": [
      "\r",
      " 56%|████████████████████████████████████████████▋                                   | 201/360 [35:48<27:16, 10.30s/it]"
     ]
    },
    {
     "name": "stdout",
     "output_type": "stream",
     "text": [
      "{'activation': 'relu', 'batch_size': 32, 'dropout': 0.25, 'epochs': 1, 'first_neuron': 2048, 'hidden_layers': 2, 'label_type': 'Normalized', 'loss_function': 'mean_squared_error', 'lr': 1, 'monitor_value': 'val_custom_mae', 'optimizer': <class 'tensorflow.python.keras.optimizer_v2.adam.Adam'>, 'reduction_metric': 'custom_mae', 'samples': 20000}\n",
      "Using Loss: mean_squared_error \n",
      "and Reduction Metric: [<function custom_mae at 0x0000021D2788ACA8>]\n",
      "Monitor: val_custom_mae\n",
      "Train on 16000 samples, validate on 4000 samples\n",
      "15776/16000 [============================>.] - ETA: 0s - loss: 2.0228 - custom_mae: 0.5420\n",
      "Epoch 00001: val_custom_mae improved from inf to 0.30036, saving model to ..\\fast_output\\SYNTH_Regression_MSE\\2020-05-28_Normalized_Base_Custom-MAE\\Best_Weights_FC_201.hdf5\n",
      "16000/16000 [==============================] - 7s 456us/sample - loss: 1.9970 - custom_mae: 0.5391 - val_loss: 0.1544 - val_custom_mae: 0.3004\n",
      "Time taken: 0:00:08.963778\n"
     ]
    },
    {
     "name": "stderr",
     "output_type": "stream",
     "text": [
      "\r",
      " 56%|████████████████████████████████████████████▉                                   | 202/360 [35:59<27:29, 10.44s/it]"
     ]
    },
    {
     "name": "stdout",
     "output_type": "stream",
     "text": [
      "{'activation': 'relu', 'batch_size': 32, 'dropout': 0.25, 'epochs': 1, 'first_neuron': 2048, 'hidden_layers': 2, 'label_type': 'Normalized', 'loss_function': 'mean_squared_error', 'lr': 2, 'monitor_value': 'val_custom_mae', 'optimizer': <class 'tensorflow.python.keras.optimizer_v2.adam.Adam'>, 'reduction_metric': 'custom_mae', 'samples': 20000}\n",
      "Using Loss: mean_squared_error \n",
      "and Reduction Metric: [<function custom_mae at 0x0000021D2788ACA8>]\n",
      "Monitor: val_custom_mae\n",
      "Train on 16000 samples, validate on 4000 samples\n",
      "15872/16000 [============================>.] - ETA: 0s - loss: 21.3933 - custom_mae: 0.7384\n",
      "Epoch 00001: val_custom_mae improved from inf to 0.48375, saving model to ..\\fast_output\\SYNTH_Regression_MSE\\2020-05-28_Normalized_Base_Custom-MAE\\Best_Weights_FC_202.hdf5\n",
      "16000/16000 [==============================] - 7s 459us/sample - loss: 21.2247 - custom_mae: 0.7364 - val_loss: 0.3135 - val_custom_mae: 0.4838\n",
      "Time taken: 0:00:09.009827\n"
     ]
    },
    {
     "name": "stderr",
     "output_type": "stream",
     "text": [
      "\r",
      " 56%|█████████████████████████████████████████████                                   | 203/360 [36:10<27:36, 10.55s/it]"
     ]
    },
    {
     "name": "stdout",
     "output_type": "stream",
     "text": [
      "{'activation': 'relu', 'batch_size': 32, 'dropout': 0.25, 'epochs': 1, 'first_neuron': 2048, 'hidden_layers': 2, 'label_type': 'Normalized', 'loss_function': 'mean_squared_error', 'lr': 5, 'monitor_value': 'val_custom_mae', 'optimizer': <class 'tensorflow.python.keras.optimizer_v2.adam.Adam'>, 'reduction_metric': 'custom_mae', 'samples': 20000}\n",
      "Using Loss: mean_squared_error \n",
      "and Reduction Metric: [<function custom_mae at 0x0000021D2788ACA8>]\n",
      "Monitor: val_custom_mae\n",
      "Train on 16000 samples, validate on 4000 samples\n",
      "15840/16000 [============================>.] - ETA: 0s - loss: 1560.8692 - custom_mae: 2.1845\n",
      "Epoch 00001: val_custom_mae improved from inf to 0.48417, saving model to ..\\fast_output\\SYNTH_Regression_MSE\\2020-05-28_Normalized_Base_Custom-MAE\\Best_Weights_FC_203.hdf5\n",
      "16000/16000 [==============================] - 7s 457us/sample - loss: 1545.2636 - custom_mae: 2.1675 - val_loss: 0.3138 - val_custom_mae: 0.4842\n",
      "Time taken: 0:00:08.959360\n"
     ]
    },
    {
     "name": "stderr",
     "output_type": "stream",
     "text": [
      "\r",
      " 57%|█████████████████████████████████████████████▎                                  | 204/360 [36:21<27:36, 10.62s/it]"
     ]
    },
    {
     "name": "stdout",
     "output_type": "stream",
     "text": [
      "{'activation': 'relu', 'batch_size': 32, 'dropout': 0.25, 'epochs': 1, 'first_neuron': 2048, 'hidden_layers': 3, 'label_type': 'Normalized', 'loss_function': 'mean_squared_error', 'lr': 1, 'monitor_value': 'val_custom_mae', 'optimizer': <class 'tensorflow.python.keras.optimizer_v2.adam.Adam'>, 'reduction_metric': 'custom_mae', 'samples': 20000}\n",
      "Using Loss: mean_squared_error \n",
      "and Reduction Metric: [<function custom_mae at 0x0000021D2788ACA8>]\n",
      "Monitor: val_custom_mae\n",
      "Train on 16000 samples, validate on 4000 samples\n",
      "15840/16000 [============================>.] - ETA: 0s - loss: 0.7126 - custom_mae: 0.5169\n",
      "Epoch 00001: val_custom_mae improved from inf to 0.29709, saving model to ..\\fast_output\\SYNTH_Regression_MSE\\2020-05-28_Normalized_Base_Custom-MAE\\Best_Weights_FC_204.hdf5\n",
      "16000/16000 [==============================] - 7s 466us/sample - loss: 0.7074 - custom_mae: 0.5152 - val_loss: 0.1554 - val_custom_mae: 0.2971\n",
      "Time taken: 0:00:09.150651\n"
     ]
    },
    {
     "name": "stderr",
     "output_type": "stream",
     "text": [
      "\r",
      " 57%|█████████████████████████████████████████████▌                                  | 205/360 [36:32<27:43, 10.73s/it]"
     ]
    },
    {
     "name": "stdout",
     "output_type": "stream",
     "text": [
      "{'activation': 'relu', 'batch_size': 32, 'dropout': 0.25, 'epochs': 1, 'first_neuron': 2048, 'hidden_layers': 3, 'label_type': 'Normalized', 'loss_function': 'mean_squared_error', 'lr': 2, 'monitor_value': 'val_custom_mae', 'optimizer': <class 'tensorflow.python.keras.optimizer_v2.adam.Adam'>, 'reduction_metric': 'custom_mae', 'samples': 20000}\n",
      "Using Loss: mean_squared_error \n",
      "and Reduction Metric: [<function custom_mae at 0x0000021D2788ACA8>]\n",
      "Monitor: val_custom_mae\n",
      "Train on 16000 samples, validate on 4000 samples\n",
      "15968/16000 [============================>.] - ETA: 0s - loss: 4.1760 - custom_mae: 0.6844\n",
      "Epoch 00001: val_custom_mae improved from inf to 0.48303, saving model to ..\\fast_output\\SYNTH_Regression_MSE\\2020-05-28_Normalized_Base_Custom-MAE\\Best_Weights_FC_205.hdf5\n",
      "16000/16000 [==============================] - 7s 464us/sample - loss: 4.1682 - custom_mae: 0.6840 - val_loss: 0.3127 - val_custom_mae: 0.4830\n",
      "Time taken: 0:00:09.095842\n"
     ]
    },
    {
     "name": "stderr",
     "output_type": "stream",
     "text": [
      "\r",
      " 57%|█████████████████████████████████████████████▊                                  | 206/360 [36:43<27:41, 10.79s/it]"
     ]
    },
    {
     "name": "stdout",
     "output_type": "stream",
     "text": [
      "{'activation': 'relu', 'batch_size': 32, 'dropout': 0.25, 'epochs': 1, 'first_neuron': 2048, 'hidden_layers': 3, 'label_type': 'Normalized', 'loss_function': 'mean_squared_error', 'lr': 5, 'monitor_value': 'val_custom_mae', 'optimizer': <class 'tensorflow.python.keras.optimizer_v2.adam.Adam'>, 'reduction_metric': 'custom_mae', 'samples': 20000}\n",
      "Using Loss: mean_squared_error \n",
      "and Reduction Metric: [<function custom_mae at 0x0000021D2788ACA8>]\n",
      "Monitor: val_custom_mae\n",
      "Train on 16000 samples, validate on 4000 samples\n",
      "15936/16000 [============================>.] - ETA: 0s - loss: 303.0889 - custom_mae: 1.4296\n",
      "Epoch 00001: val_custom_mae improved from inf to 0.48413, saving model to ..\\fast_output\\SYNTH_Regression_MSE\\2020-05-28_Normalized_Base_Custom-MAE\\Best_Weights_FC_206.hdf5\n",
      "16000/16000 [==============================] - 7s 464us/sample - loss: 301.8777 - custom_mae: 1.4258 - val_loss: 0.3137 - val_custom_mae: 0.4841\n",
      "Time taken: 0:00:09.096045\n"
     ]
    },
    {
     "name": "stderr",
     "output_type": "stream",
     "text": [
      "\r",
      " 57%|██████████████████████████████████████████████                                  | 207/360 [36:54<27:37, 10.83s/it]"
     ]
    },
    {
     "name": "stdout",
     "output_type": "stream",
     "text": [
      "{'activation': 'relu', 'batch_size': 32, 'dropout': 0.25, 'epochs': 1, 'first_neuron': 2048, 'hidden_layers': 4, 'label_type': 'Normalized', 'loss_function': 'mean_squared_error', 'lr': 1, 'monitor_value': 'val_custom_mae', 'optimizer': <class 'tensorflow.python.keras.optimizer_v2.adam.Adam'>, 'reduction_metric': 'custom_mae', 'samples': 20000}\n",
      "Using Loss: mean_squared_error \n",
      "and Reduction Metric: [<function custom_mae at 0x0000021D2788ACA8>]\n",
      "Monitor: val_custom_mae\n",
      "Train on 16000 samples, validate on 4000 samples\n",
      "15936/16000 [============================>.] - ETA: 0s - loss: 0.4314 - custom_mae: 0.4895\n",
      "Epoch 00001: val_custom_mae improved from inf to 0.29288, saving model to ..\\fast_output\\SYNTH_Regression_MSE\\2020-05-28_Normalized_Base_Custom-MAE\\Best_Weights_FC_207.hdf5\n",
      "16000/16000 [==============================] - 8s 470us/sample - loss: 0.4305 - custom_mae: 0.4889 - val_loss: 0.1502 - val_custom_mae: 0.2929\n",
      "Time taken: 0:00:09.183361\n"
     ]
    },
    {
     "name": "stderr",
     "output_type": "stream",
     "text": [
      "\r",
      " 58%|██████████████████████████████████████████████▏                                 | 208/360 [37:05<27:35, 10.89s/it]"
     ]
    },
    {
     "name": "stdout",
     "output_type": "stream",
     "text": [
      "{'activation': 'relu', 'batch_size': 32, 'dropout': 0.25, 'epochs': 1, 'first_neuron': 2048, 'hidden_layers': 4, 'label_type': 'Normalized', 'loss_function': 'mean_squared_error', 'lr': 2, 'monitor_value': 'val_custom_mae', 'optimizer': <class 'tensorflow.python.keras.optimizer_v2.adam.Adam'>, 'reduction_metric': 'custom_mae', 'samples': 20000}\n",
      "Using Loss: mean_squared_error \n",
      "and Reduction Metric: [<function custom_mae at 0x0000021D2788ACA8>]\n",
      "Monitor: val_custom_mae\n",
      "Train on 16000 samples, validate on 4000 samples\n",
      "15840/16000 [============================>.] - ETA: 0s - loss: 1.2274 - custom_mae: 0.5880\n",
      "Epoch 00001: val_custom_mae improved from inf to 0.48121, saving model to ..\\fast_output\\SYNTH_Regression_MSE\\2020-05-28_Normalized_Base_Custom-MAE\\Best_Weights_FC_208.hdf5\n",
      "16000/16000 [==============================] - 8s 470us/sample - loss: 1.2181 - custom_mae: 0.5869 - val_loss: 0.3099 - val_custom_mae: 0.4812\n",
      "Time taken: 0:00:09.193760\n"
     ]
    },
    {
     "name": "stderr",
     "output_type": "stream",
     "text": [
      "\r",
      " 58%|██████████████████████████████████████████████▍                                 | 209/360 [37:16<27:31, 10.94s/it]"
     ]
    },
    {
     "name": "stdout",
     "output_type": "stream",
     "text": [
      "{'activation': 'relu', 'batch_size': 32, 'dropout': 0.25, 'epochs': 1, 'first_neuron': 2048, 'hidden_layers': 4, 'label_type': 'Normalized', 'loss_function': 'mean_squared_error', 'lr': 5, 'monitor_value': 'val_custom_mae', 'optimizer': <class 'tensorflow.python.keras.optimizer_v2.adam.Adam'>, 'reduction_metric': 'custom_mae', 'samples': 20000}\n",
      "Using Loss: mean_squared_error \n",
      "and Reduction Metric: [<function custom_mae at 0x0000021D2788ACA8>]\n",
      "Monitor: val_custom_mae\n",
      "Train on 16000 samples, validate on 4000 samples\n",
      "15872/16000 [============================>.] - ETA: 0s - loss: 53.7986 - custom_mae: 0.9451\n",
      "Epoch 00001: val_custom_mae improved from inf to 0.48401, saving model to ..\\fast_output\\SYNTH_Regression_MSE\\2020-05-28_Normalized_Base_Custom-MAE\\Best_Weights_FC_209.hdf5\n",
      "16000/16000 [==============================] - 8s 472us/sample - loss: 53.3707 - custom_mae: 0.9415 - val_loss: 0.3139 - val_custom_mae: 0.4840\n",
      "Time taken: 0:00:09.222319\n"
     ]
    },
    {
     "name": "stderr",
     "output_type": "stream",
     "text": [
      "\r",
      " 58%|██████████████████████████████████████████████▋                                 | 210/360 [37:27<27:26, 10.98s/it]"
     ]
    },
    {
     "name": "stdout",
     "output_type": "stream",
     "text": [
      "{'activation': 'relu', 'batch_size': 32, 'dropout': 0.25, 'epochs': 1, 'first_neuron': 4096, 'hidden_layers': 0, 'label_type': 'Normalized', 'loss_function': 'mean_squared_error', 'lr': 1, 'monitor_value': 'val_custom_mae', 'optimizer': <class 'tensorflow.python.keras.optimizer_v2.adam.Adam'>, 'reduction_metric': 'custom_mae', 'samples': 20000}\n",
      "Using Loss: mean_squared_error \n",
      "and Reduction Metric: [<function custom_mae at 0x0000021D2788ACA8>]\n",
      "Monitor: val_custom_mae\n",
      "Train on 16000 samples, validate on 4000 samples\n",
      "15968/16000 [============================>.] - ETA: 0s - loss: 10.8168 - custom_mae: 0.5959\n",
      "Epoch 00001: val_custom_mae improved from inf to 0.21407, saving model to ..\\fast_output\\SYNTH_Regression_MSE\\2020-05-28_Normalized_Base_Custom-MAE\\Best_Weights_FC_210.hdf5\n",
      "16000/16000 [==============================] - 12s 741us/sample - loss: 10.7953 - custom_mae: 0.5951 - val_loss: 0.1011 - val_custom_mae: 0.2141\n",
      "Time taken: 0:00:13.517545\n"
     ]
    },
    {
     "name": "stderr",
     "output_type": "stream",
     "text": [
      "\r",
      " 59%|██████████████████████████████████████████████▉                                 | 211/360 [37:42<30:28, 12.27s/it]"
     ]
    },
    {
     "name": "stdout",
     "output_type": "stream",
     "text": [
      "{'activation': 'relu', 'batch_size': 32, 'dropout': 0.25, 'epochs': 1, 'first_neuron': 4096, 'hidden_layers': 0, 'label_type': 'Normalized', 'loss_function': 'mean_squared_error', 'lr': 2, 'monitor_value': 'val_custom_mae', 'optimizer': <class 'tensorflow.python.keras.optimizer_v2.adam.Adam'>, 'reduction_metric': 'custom_mae', 'samples': 20000}\n",
      "Using Loss: mean_squared_error \n",
      "and Reduction Metric: [<function custom_mae at 0x0000021D2788ACA8>]\n",
      "Monitor: val_custom_mae\n",
      "Train on 16000 samples, validate on 4000 samples\n",
      "15904/16000 [============================>.] - ETA: 0s - loss: 42.2819 - custom_mae: 0.8979\n",
      "Epoch 00001: val_custom_mae improved from inf to 0.23836, saving model to ..\\fast_output\\SYNTH_Regression_MSE\\2020-05-28_Normalized_Base_Custom-MAE\\Best_Weights_FC_211.hdf5\n",
      "16000/16000 [==============================] - 12s 741us/sample - loss: 42.0290 - custom_mae: 0.8939 - val_loss: 0.1169 - val_custom_mae: 0.2384\n",
      "Time taken: 0:00:13.527687\n"
     ]
    },
    {
     "name": "stderr",
     "output_type": "stream",
     "text": [
      "\r",
      " 59%|███████████████████████████████████████████████                                 | 212/360 [37:57<32:30, 13.18s/it]"
     ]
    },
    {
     "name": "stdout",
     "output_type": "stream",
     "text": [
      "{'activation': 'relu', 'batch_size': 32, 'dropout': 0.25, 'epochs': 1, 'first_neuron': 4096, 'hidden_layers': 0, 'label_type': 'Normalized', 'loss_function': 'mean_squared_error', 'lr': 5, 'monitor_value': 'val_custom_mae', 'optimizer': <class 'tensorflow.python.keras.optimizer_v2.adam.Adam'>, 'reduction_metric': 'custom_mae', 'samples': 20000}\n",
      "Using Loss: mean_squared_error \n",
      "and Reduction Metric: [<function custom_mae at 0x0000021D2788ACA8>]\n",
      "Monitor: val_custom_mae\n",
      "Train on 16000 samples, validate on 4000 samples\n",
      "15968/16000 [============================>.] - ETA: 0s - loss: 323.5803 - custom_mae: 1.8001 ETA: 0s - loss: 347.9768 - cust\n",
      "Epoch 00001: val_custom_mae improved from inf to 0.25289, saving model to ..\\fast_output\\SYNTH_Regression_MSE\\2020-05-28_Normalized_Base_Custom-MAE\\Best_Weights_FC_212.hdf5\n",
      "16000/16000 [==============================] - 12s 741us/sample - loss: 322.9334 - custom_mae: 1.7970 - val_loss: 0.1255 - val_custom_mae: 0.2529\n",
      "Time taken: 0:00:13.523512\n"
     ]
    },
    {
     "name": "stderr",
     "output_type": "stream",
     "text": [
      "\r",
      " 59%|███████████████████████████████████████████████▎                                | 213/360 [38:13<33:49, 13.81s/it]"
     ]
    },
    {
     "name": "stdout",
     "output_type": "stream",
     "text": [
      "{'activation': 'relu', 'batch_size': 32, 'dropout': 0.25, 'epochs': 1, 'first_neuron': 4096, 'hidden_layers': 1, 'label_type': 'Normalized', 'loss_function': 'mean_squared_error', 'lr': 1, 'monitor_value': 'val_custom_mae', 'optimizer': <class 'tensorflow.python.keras.optimizer_v2.adam.Adam'>, 'reduction_metric': 'custom_mae', 'samples': 20000}\n",
      "Using Loss: mean_squared_error \n",
      "and Reduction Metric: [<function custom_mae at 0x0000021D2788ACA8>]\n",
      "Monitor: val_custom_mae\n",
      "Train on 16000 samples, validate on 4000 samples\n",
      "15904/16000 [============================>.] - ETA: 0s - loss: 18.7427 - custom_mae: 0.5927\n",
      "Epoch 00001: val_custom_mae improved from inf to 0.28242, saving model to ..\\fast_output\\SYNTH_Regression_MSE\\2020-05-28_Normalized_Base_Custom-MAE\\Best_Weights_FC_213.hdf5\n",
      "16000/16000 [==============================] - 13s 790us/sample - loss: 18.6311 - custom_mae: 0.5909 - val_loss: 0.1406 - val_custom_mae: 0.2824\n",
      "Time taken: 0:00:14.333222\n"
     ]
    },
    {
     "name": "stderr",
     "output_type": "stream",
     "text": [
      "\r",
      " 59%|███████████████████████████████████████████████▌                                | 214/360 [38:29<35:18, 14.51s/it]"
     ]
    },
    {
     "name": "stdout",
     "output_type": "stream",
     "text": [
      "{'activation': 'relu', 'batch_size': 32, 'dropout': 0.25, 'epochs': 1, 'first_neuron': 4096, 'hidden_layers': 1, 'label_type': 'Normalized', 'loss_function': 'mean_squared_error', 'lr': 2, 'monitor_value': 'val_custom_mae', 'optimizer': <class 'tensorflow.python.keras.optimizer_v2.adam.Adam'>, 'reduction_metric': 'custom_mae', 'samples': 20000}\n",
      "Using Loss: mean_squared_error \n",
      "and Reduction Metric: [<function custom_mae at 0x0000021D2788ACA8>]\n",
      "Monitor: val_custom_mae\n",
      "Train on 16000 samples, validate on 4000 samples\n",
      "15904/16000 [============================>.] - ETA: 0s - loss: 191.9414 - custom_mae: 0.9483\n",
      "Epoch 00001: val_custom_mae improved from inf to 0.24988, saving model to ..\\fast_output\\SYNTH_Regression_MSE\\2020-05-28_Normalized_Base_Custom-MAE\\Best_Weights_FC_214.hdf5\n",
      "16000/16000 [==============================] - 13s 798us/sample - loss: 190.7908 - custom_mae: 0.9445 - val_loss: 0.1205 - val_custom_mae: 0.2499\n",
      "Time taken: 0:00:14.424800\n"
     ]
    },
    {
     "name": "stderr",
     "output_type": "stream",
     "text": [
      "\r",
      " 60%|███████████████████████████████████████████████▊                                | 215/360 [38:45<36:18, 15.02s/it]"
     ]
    },
    {
     "name": "stdout",
     "output_type": "stream",
     "text": [
      "{'activation': 'relu', 'batch_size': 32, 'dropout': 0.25, 'epochs': 1, 'first_neuron': 4096, 'hidden_layers': 1, 'label_type': 'Normalized', 'loss_function': 'mean_squared_error', 'lr': 5, 'monitor_value': 'val_custom_mae', 'optimizer': <class 'tensorflow.python.keras.optimizer_v2.adam.Adam'>, 'reduction_metric': 'custom_mae', 'samples': 20000}\n",
      "Using Loss: mean_squared_error \n",
      "and Reduction Metric: [<function custom_mae at 0x0000021D2788ACA8>]\n",
      "Monitor: val_custom_mae\n",
      "Train on 16000 samples, validate on 4000 samples\n",
      "15904/16000 [============================>.] - ETA: 0s - loss: 6541.7641 - custom_mae: 3.4368\n",
      "Epoch 00001: val_custom_mae improved from inf to 0.30437, saving model to ..\\fast_output\\SYNTH_Regression_MSE\\2020-05-28_Normalized_Base_Custom-MAE\\Best_Weights_FC_215.hdf5\n",
      "16000/16000 [==============================] - 13s 792us/sample - loss: 6502.5147 - custom_mae: 3.4182 - val_loss: 0.1563 - val_custom_mae: 0.3044\n",
      "Time taken: 0:00:14.323535\n"
     ]
    },
    {
     "name": "stderr",
     "output_type": "stream",
     "text": [
      "\r",
      " 60%|████████████████████████████████████████████████                                | 216/360 [39:01<36:50, 15.35s/it]"
     ]
    },
    {
     "name": "stdout",
     "output_type": "stream",
     "text": [
      "{'activation': 'relu', 'batch_size': 32, 'dropout': 0.25, 'epochs': 1, 'first_neuron': 4096, 'hidden_layers': 2, 'label_type': 'Normalized', 'loss_function': 'mean_squared_error', 'lr': 1, 'monitor_value': 'val_custom_mae', 'optimizer': <class 'tensorflow.python.keras.optimizer_v2.adam.Adam'>, 'reduction_metric': 'custom_mae', 'samples': 20000}\n",
      "Using Loss: mean_squared_error \n",
      "and Reduction Metric: [<function custom_mae at 0x0000021D2788ACA8>]\n",
      "Monitor: val_custom_mae\n",
      "Train on 16000 samples, validate on 4000 samples\n",
      "15904/16000 [============================>.] - ETA: 0s - loss: 5.0732 - custom_mae: 0.5608\n",
      "Epoch 00001: val_custom_mae improved from inf to 0.25939, saving model to ..\\fast_output\\SYNTH_Regression_MSE\\2020-05-28_Normalized_Base_Custom-MAE\\Best_Weights_FC_216.hdf5\n",
      "16000/16000 [==============================] - 13s 803us/sample - loss: 5.0438 - custom_mae: 0.5593 - val_loss: 0.1302 - val_custom_mae: 0.2594\n",
      "Time taken: 0:00:14.523926\n"
     ]
    },
    {
     "name": "stderr",
     "output_type": "stream",
     "text": [
      "\r",
      " 60%|████████████████████████████████████████████████▏                               | 217/360 [39:17<37:16, 15.64s/it]"
     ]
    },
    {
     "name": "stdout",
     "output_type": "stream",
     "text": [
      "{'activation': 'relu', 'batch_size': 32, 'dropout': 0.25, 'epochs': 1, 'first_neuron': 4096, 'hidden_layers': 2, 'label_type': 'Normalized', 'loss_function': 'mean_squared_error', 'lr': 2, 'monitor_value': 'val_custom_mae', 'optimizer': <class 'tensorflow.python.keras.optimizer_v2.adam.Adam'>, 'reduction_metric': 'custom_mae', 'samples': 20000}\n",
      "Using Loss: mean_squared_error \n",
      "and Reduction Metric: [<function custom_mae at 0x0000021D2788ACA8>]\n",
      "Monitor: val_custom_mae\n",
      "Train on 16000 samples, validate on 4000 samples\n",
      "15904/16000 [============================>.] - ETA: 0s - loss: 78.2685 - custom_mae: 0.9427\n",
      "Epoch 00001: val_custom_mae improved from inf to 0.28632, saving model to ..\\fast_output\\SYNTH_Regression_MSE\\2020-05-28_Normalized_Base_Custom-MAE\\Best_Weights_FC_217.hdf5\n",
      "16000/16000 [==============================] - 13s 812us/sample - loss: 77.8000 - custom_mae: 0.9390 - val_loss: 0.1462 - val_custom_mae: 0.2863\n",
      "Time taken: 0:00:14.674573\n"
     ]
    },
    {
     "name": "stderr",
     "output_type": "stream",
     "text": [
      "\r",
      " 61%|████████████████████████████████████████████████▍                               | 218/360 [39:34<37:37, 15.90s/it]"
     ]
    },
    {
     "name": "stdout",
     "output_type": "stream",
     "text": [
      "{'activation': 'relu', 'batch_size': 32, 'dropout': 0.25, 'epochs': 1, 'first_neuron': 4096, 'hidden_layers': 2, 'label_type': 'Normalized', 'loss_function': 'mean_squared_error', 'lr': 5, 'monitor_value': 'val_custom_mae', 'optimizer': <class 'tensorflow.python.keras.optimizer_v2.adam.Adam'>, 'reduction_metric': 'custom_mae', 'samples': 20000}\n",
      "Using Loss: mean_squared_error \n",
      "and Reduction Metric: [<function custom_mae at 0x0000021D2788ACA8>]\n",
      "Monitor: val_custom_mae\n",
      "Train on 16000 samples, validate on 4000 samples\n",
      "15872/16000 [============================>.] - ETA: 0s - loss: 7595.4111 - custom_mae: 5.1496\n",
      "Epoch 00001: val_custom_mae improved from inf to 0.46370, saving model to ..\\fast_output\\SYNTH_Regression_MSE\\2020-05-28_Normalized_Base_Custom-MAE\\Best_Weights_FC_218.hdf5\n",
      "16000/16000 [==============================] - 13s 811us/sample - loss: 7534.6509 - custom_mae: 5.1126 - val_loss: 0.2942 - val_custom_mae: 0.4637\n",
      "Time taken: 0:00:14.637919\n"
     ]
    },
    {
     "name": "stderr",
     "output_type": "stream",
     "text": [
      "\r",
      " 61%|████████████████████████████████████████████████▋                               | 219/360 [39:50<37:45, 16.07s/it]"
     ]
    },
    {
     "name": "stdout",
     "output_type": "stream",
     "text": [
      "{'activation': 'relu', 'batch_size': 32, 'dropout': 0.25, 'epochs': 1, 'first_neuron': 4096, 'hidden_layers': 3, 'label_type': 'Normalized', 'loss_function': 'mean_squared_error', 'lr': 1, 'monitor_value': 'val_custom_mae', 'optimizer': <class 'tensorflow.python.keras.optimizer_v2.adam.Adam'>, 'reduction_metric': 'custom_mae', 'samples': 20000}\n",
      "Using Loss: mean_squared_error \n",
      "and Reduction Metric: [<function custom_mae at 0x0000021D2788ACA8>]\n",
      "Monitor: val_custom_mae\n",
      "Train on 16000 samples, validate on 4000 samples\n",
      "15872/16000 [============================>.] - ETA: 0s - loss: 2.5825 - custom_mae: 0.5430\n",
      "Epoch 00001: val_custom_mae improved from inf to 0.28780, saving model to ..\\fast_output\\SYNTH_Regression_MSE\\2020-05-28_Normalized_Base_Custom-MAE\\Best_Weights_FC_219.hdf5\n",
      "16000/16000 [==============================] - 13s 816us/sample - loss: 2.5632 - custom_mae: 0.5411 - val_loss: 0.1454 - val_custom_mae: 0.2878\n",
      "Time taken: 0:00:14.722160\n"
     ]
    },
    {
     "name": "stderr",
     "output_type": "stream",
     "text": [
      "\r",
      " 61%|████████████████████████████████████████████████▉                               | 220/360 [40:07<37:51, 16.22s/it]"
     ]
    },
    {
     "name": "stdout",
     "output_type": "stream",
     "text": [
      "{'activation': 'relu', 'batch_size': 32, 'dropout': 0.25, 'epochs': 1, 'first_neuron': 4096, 'hidden_layers': 3, 'label_type': 'Normalized', 'loss_function': 'mean_squared_error', 'lr': 2, 'monitor_value': 'val_custom_mae', 'optimizer': <class 'tensorflow.python.keras.optimizer_v2.adam.Adam'>, 'reduction_metric': 'custom_mae', 'samples': 20000}\n",
      "Using Loss: mean_squared_error \n",
      "and Reduction Metric: [<function custom_mae at 0x0000021D2788ACA8>]\n",
      "Monitor: val_custom_mae\n",
      "Train on 16000 samples, validate on 4000 samples\n",
      "15968/16000 [============================>.] - ETA: 0s - loss: 59.2555 - custom_mae: 0.8751\n",
      "Epoch 00001: val_custom_mae improved from inf to 0.39269, saving model to ..\\fast_output\\SYNTH_Regression_MSE\\2020-05-28_Normalized_Base_Custom-MAE\\Best_Weights_FC_220.hdf5\n",
      "16000/16000 [==============================] - 13s 831us/sample - loss: 59.1374 - custom_mae: 0.8741 - val_loss: 0.2265 - val_custom_mae: 0.3927\n",
      "Time taken: 0:00:14.957150\n"
     ]
    },
    {
     "name": "stderr",
     "output_type": "stream",
     "text": [
      "\r",
      " 61%|█████████████████████████████████████████████████                               | 221/360 [40:24<37:59, 16.40s/it]"
     ]
    },
    {
     "name": "stdout",
     "output_type": "stream",
     "text": [
      "{'activation': 'relu', 'batch_size': 32, 'dropout': 0.25, 'epochs': 1, 'first_neuron': 4096, 'hidden_layers': 3, 'label_type': 'Normalized', 'loss_function': 'mean_squared_error', 'lr': 5, 'monitor_value': 'val_custom_mae', 'optimizer': <class 'tensorflow.python.keras.optimizer_v2.adam.Adam'>, 'reduction_metric': 'custom_mae', 'samples': 20000}\n",
      "Using Loss: mean_squared_error \n",
      "and Reduction Metric: [<function custom_mae at 0x0000021D2788ACA8>]\n",
      "Monitor: val_custom_mae\n",
      "Train on 16000 samples, validate on 4000 samples\n",
      "15904/16000 [============================>.] - ETA: 0s - loss: 16954.2276 - custom_mae: 6.0892\n",
      "Epoch 00001: val_custom_mae improved from inf to 0.48385, saving model to ..\\fast_output\\SYNTH_Regression_MSE\\2020-05-28_Normalized_Base_Custom-MAE\\Best_Weights_FC_221.hdf5\n",
      "16000/16000 [==============================] - 14s 858us/sample - loss: 16852.5041 - custom_mae: 6.0555 - val_loss: 0.3135 - val_custom_mae: 0.4839\n",
      "Time taken: 0:00:15.399317\n"
     ]
    },
    {
     "name": "stderr",
     "output_type": "stream",
     "text": [
      "\r",
      " 62%|█████████████████████████████████████████████████▎                              | 222/360 [40:41<38:17, 16.65s/it]"
     ]
    },
    {
     "name": "stdout",
     "output_type": "stream",
     "text": [
      "{'activation': 'relu', 'batch_size': 32, 'dropout': 0.25, 'epochs': 1, 'first_neuron': 4096, 'hidden_layers': 4, 'label_type': 'Normalized', 'loss_function': 'mean_squared_error', 'lr': 1, 'monitor_value': 'val_custom_mae', 'optimizer': <class 'tensorflow.python.keras.optimizer_v2.adam.Adam'>, 'reduction_metric': 'custom_mae', 'samples': 20000}\n",
      "Using Loss: mean_squared_error \n",
      "and Reduction Metric: [<function custom_mae at 0x0000021D2788ACA8>]\n",
      "Monitor: val_custom_mae\n",
      "Train on 16000 samples, validate on 4000 samples\n",
      "15968/16000 [============================>.] - ETA: 0s - loss: 1.3072 - custom_mae: 0.5402\n",
      "Epoch 00001: val_custom_mae improved from inf to 0.36101, saving model to ..\\fast_output\\SYNTH_Regression_MSE\\2020-05-28_Normalized_Base_Custom-MAE\\Best_Weights_FC_222.hdf5\n",
      "16000/16000 [==============================] - 14s 847us/sample - loss: 1.3050 - custom_mae: 0.5398 - val_loss: 0.1996 - val_custom_mae: 0.3610\n",
      "Time taken: 0:00:15.219647\n"
     ]
    },
    {
     "name": "stderr",
     "output_type": "stream",
     "text": [
      "\r",
      " 62%|█████████████████████████████████████████████████▌                              | 223/360 [40:58<38:19, 16.78s/it]"
     ]
    },
    {
     "name": "stdout",
     "output_type": "stream",
     "text": [
      "{'activation': 'relu', 'batch_size': 32, 'dropout': 0.25, 'epochs': 1, 'first_neuron': 4096, 'hidden_layers': 4, 'label_type': 'Normalized', 'loss_function': 'mean_squared_error', 'lr': 2, 'monitor_value': 'val_custom_mae', 'optimizer': <class 'tensorflow.python.keras.optimizer_v2.adam.Adam'>, 'reduction_metric': 'custom_mae', 'samples': 20000}\n",
      "Using Loss: mean_squared_error \n",
      "and Reduction Metric: [<function custom_mae at 0x0000021D2788ACA8>]\n",
      "Monitor: val_custom_mae\n",
      "Train on 16000 samples, validate on 4000 samples\n",
      "15968/16000 [============================>.] - ETA: 0s - loss: 27.1498 - custom_mae: 0.7671\n",
      "Epoch 00001: val_custom_mae improved from inf to 0.41435, saving model to ..\\fast_output\\SYNTH_Regression_MSE\\2020-05-28_Normalized_Base_Custom-MAE\\Best_Weights_FC_223.hdf5\n",
      "16000/16000 [==============================] - 14s 855us/sample - loss: 27.0960 - custom_mae: 0.7664 - val_loss: 0.2429 - val_custom_mae: 0.4144\n",
      "Time taken: 0:00:15.352278\n"
     ]
    },
    {
     "name": "stderr",
     "output_type": "stream",
     "text": [
      "\r",
      " 62%|█████████████████████████████████████████████████▊                              | 224/360 [41:15<38:20, 16.92s/it]"
     ]
    },
    {
     "name": "stdout",
     "output_type": "stream",
     "text": [
      "{'activation': 'relu', 'batch_size': 32, 'dropout': 0.25, 'epochs': 1, 'first_neuron': 4096, 'hidden_layers': 4, 'label_type': 'Normalized', 'loss_function': 'mean_squared_error', 'lr': 5, 'monitor_value': 'val_custom_mae', 'optimizer': <class 'tensorflow.python.keras.optimizer_v2.adam.Adam'>, 'reduction_metric': 'custom_mae', 'samples': 20000}\n",
      "Using Loss: mean_squared_error \n",
      "and Reduction Metric: [<function custom_mae at 0x0000021D2788ACA8>]\n",
      "Monitor: val_custom_mae\n",
      "Train on 16000 samples, validate on 4000 samples\n",
      "15904/16000 [============================>.] - ETA: 0s - loss: 11888.8561 - custom_mae: 5.2505\n",
      "Epoch 00001: val_custom_mae improved from inf to 0.48421, saving model to ..\\fast_output\\SYNTH_Regression_MSE\\2020-05-28_Normalized_Base_Custom-MAE\\Best_Weights_FC_224.hdf5\n",
      "16000/16000 [==============================] - 13s 822us/sample - loss: 11817.5249 - custom_mae: 5.2219 - val_loss: 0.3138 - val_custom_mae: 0.4842\n",
      "Time taken: 0:00:14.827357\n"
     ]
    },
    {
     "name": "stderr",
     "output_type": "stream",
     "text": [
      "\r",
      " 62%|██████████████████████████████████████████████████                              | 225/360 [41:32<37:55, 16.85s/it]"
     ]
    },
    {
     "name": "stdout",
     "output_type": "stream",
     "text": [
      "{'activation': 'relu', 'batch_size': 32, 'dropout': 0.5, 'epochs': 1, 'first_neuron': 1024, 'hidden_layers': 0, 'label_type': 'Normalized', 'loss_function': 'mean_squared_error', 'lr': 1, 'monitor_value': 'val_custom_mae', 'optimizer': <class 'tensorflow.python.keras.optimizer_v2.adam.Adam'>, 'reduction_metric': 'custom_mae', 'samples': 20000}\n",
      "Using Loss: mean_squared_error \n",
      "and Reduction Metric: [<function custom_mae at 0x0000021D2788ACA8>]\n",
      "Monitor: val_custom_mae\n",
      "Train on 16000 samples, validate on 4000 samples\n",
      "15936/16000 [============================>.] - ETA: 0s - loss: 2.4571 - custom_mae: 0.5223\n",
      "Epoch 00001: val_custom_mae improved from inf to 0.25721, saving model to ..\\fast_output\\SYNTH_Regression_MSE\\2020-05-28_Normalized_Base_Custom-MAE\\Best_Weights_FC_225.hdf5\n",
      "16000/16000 [==============================] - 5s 281us/sample - loss: 2.4479 - custom_mae: 0.5214 - val_loss: 0.1263 - val_custom_mae: 0.2572\n",
      "Time taken: 0:00:06.200735\n"
     ]
    },
    {
     "name": "stderr",
     "output_type": "stream",
     "text": [
      "\r",
      " 63%|██████████████████████████████████████████████████▏                             | 226/360 [41:40<31:41, 14.19s/it]"
     ]
    },
    {
     "name": "stdout",
     "output_type": "stream",
     "text": [
      "{'activation': 'relu', 'batch_size': 32, 'dropout': 0.5, 'epochs': 1, 'first_neuron': 1024, 'hidden_layers': 0, 'label_type': 'Normalized', 'loss_function': 'mean_squared_error', 'lr': 2, 'monitor_value': 'val_custom_mae', 'optimizer': <class 'tensorflow.python.keras.optimizer_v2.adam.Adam'>, 'reduction_metric': 'custom_mae', 'samples': 20000}\n",
      "Using Loss: mean_squared_error \n",
      "and Reduction Metric: [<function custom_mae at 0x0000021D2788ACA8>]\n",
      "Monitor: val_custom_mae\n",
      "Train on 16000 samples, validate on 4000 samples\n",
      "15680/16000 [============================>.] - ETA: 0s - loss: 8.4469 - custom_mae: 0.7106\n",
      "Epoch 00001: val_custom_mae improved from inf to 0.29422, saving model to ..\\fast_output\\SYNTH_Regression_MSE\\2020-05-28_Normalized_Base_Custom-MAE\\Best_Weights_FC_226.hdf5\n",
      "16000/16000 [==============================] - 4s 277us/sample - loss: 8.2813 - custom_mae: 0.7027 - val_loss: 0.1494 - val_custom_mae: 0.2942\n",
      "Time taken: 0:00:06.089206\n"
     ]
    },
    {
     "name": "stderr",
     "output_type": "stream",
     "text": [
      "\r",
      " 63%|██████████████████████████████████████████████████▍                             | 227/360 [41:48<27:13, 12.28s/it]"
     ]
    },
    {
     "name": "stdout",
     "output_type": "stream",
     "text": [
      "{'activation': 'relu', 'batch_size': 32, 'dropout': 0.5, 'epochs': 1, 'first_neuron': 1024, 'hidden_layers': 0, 'label_type': 'Normalized', 'loss_function': 'mean_squared_error', 'lr': 5, 'monitor_value': 'val_custom_mae', 'optimizer': <class 'tensorflow.python.keras.optimizer_v2.adam.Adam'>, 'reduction_metric': 'custom_mae', 'samples': 20000}\n",
      "Using Loss: mean_squared_error \n",
      "and Reduction Metric: [<function custom_mae at 0x0000021D2788ACA8>]\n",
      "Monitor: val_custom_mae\n",
      "Train on 16000 samples, validate on 4000 samples\n",
      "15680/16000 [============================>.] - ETA: 0s - loss: 53.4590 - custom_mae: 1.2867\n",
      "Epoch 00001: val_custom_mae improved from inf to 0.34853, saving model to ..\\fast_output\\SYNTH_Regression_MSE\\2020-05-28_Normalized_Base_Custom-MAE\\Best_Weights_FC_227.hdf5\n",
      "16000/16000 [==============================] - 4s 279us/sample - loss: 52.3941 - custom_mae: 1.2683 - val_loss: 0.1926 - val_custom_mae: 0.3485\n",
      "Time taken: 0:00:06.118083\n"
     ]
    },
    {
     "name": "stderr",
     "output_type": "stream",
     "text": [
      "\r",
      " 63%|██████████████████████████████████████████████████▋                             | 228/360 [41:56<24:06, 10.96s/it]"
     ]
    },
    {
     "name": "stdout",
     "output_type": "stream",
     "text": [
      "{'activation': 'relu', 'batch_size': 32, 'dropout': 0.5, 'epochs': 1, 'first_neuron': 1024, 'hidden_layers': 1, 'label_type': 'Normalized', 'loss_function': 'mean_squared_error', 'lr': 1, 'monitor_value': 'val_custom_mae', 'optimizer': <class 'tensorflow.python.keras.optimizer_v2.adam.Adam'>, 'reduction_metric': 'custom_mae', 'samples': 20000}\n",
      "Using Loss: mean_squared_error \n",
      "and Reduction Metric: [<function custom_mae at 0x0000021D2788ACA8>]\n",
      "Monitor: val_custom_mae\n",
      "Train on 16000 samples, validate on 4000 samples\n",
      "15712/16000 [============================>.] - ETA: 0s - loss: 1.2271 - custom_mae: 0.5445\n",
      "Epoch 00001: val_custom_mae improved from inf to 0.31877, saving model to ..\\fast_output\\SYNTH_Regression_MSE\\2020-05-28_Normalized_Base_Custom-MAE\\Best_Weights_FC_228.hdf5\n",
      "16000/16000 [==============================] - 5s 290us/sample - loss: 1.2082 - custom_mae: 0.5408 - val_loss: 0.1646 - val_custom_mae: 0.3188\n",
      "Time taken: 0:00:06.298773\n"
     ]
    },
    {
     "name": "stderr",
     "output_type": "stream",
     "text": [
      "\r",
      " 64%|██████████████████████████████████████████████████▉                             | 229/360 [42:04<22:02, 10.09s/it]"
     ]
    },
    {
     "name": "stdout",
     "output_type": "stream",
     "text": [
      "{'activation': 'relu', 'batch_size': 32, 'dropout': 0.5, 'epochs': 1, 'first_neuron': 1024, 'hidden_layers': 1, 'label_type': 'Normalized', 'loss_function': 'mean_squared_error', 'lr': 2, 'monitor_value': 'val_custom_mae', 'optimizer': <class 'tensorflow.python.keras.optimizer_v2.adam.Adam'>, 'reduction_metric': 'custom_mae', 'samples': 20000}\n",
      "Using Loss: mean_squared_error \n",
      "and Reduction Metric: [<function custom_mae at 0x0000021D2788ACA8>]\n",
      "Monitor: val_custom_mae\n",
      "Train on 16000 samples, validate on 4000 samples\n",
      "15872/16000 [============================>.] - ETA: 0s - loss: 4.8863 - custom_mae: 0.7090\n",
      "Epoch 00001: val_custom_mae improved from inf to 0.34998, saving model to ..\\fast_output\\SYNTH_Regression_MSE\\2020-05-28_Normalized_Base_Custom-MAE\\Best_Weights_FC_229.hdf5\n",
      "16000/16000 [==============================] - 5s 288us/sample - loss: 4.8487 - custom_mae: 0.7062 - val_loss: 0.1901 - val_custom_mae: 0.3500\n",
      "Time taken: 0:00:06.272992\n"
     ]
    },
    {
     "name": "stderr",
     "output_type": "stream",
     "text": [
      "\r",
      " 64%|███████████████████████████████████████████████████                             | 230/360 [42:12<20:31,  9.48s/it]"
     ]
    },
    {
     "name": "stdout",
     "output_type": "stream",
     "text": [
      "{'activation': 'relu', 'batch_size': 32, 'dropout': 0.5, 'epochs': 1, 'first_neuron': 1024, 'hidden_layers': 1, 'label_type': 'Normalized', 'loss_function': 'mean_squared_error', 'lr': 5, 'monitor_value': 'val_custom_mae', 'optimizer': <class 'tensorflow.python.keras.optimizer_v2.adam.Adam'>, 'reduction_metric': 'custom_mae', 'samples': 20000}\n",
      "Using Loss: mean_squared_error \n",
      "and Reduction Metric: [<function custom_mae at 0x0000021D2788ACA8>]\n",
      "Monitor: val_custom_mae\n",
      "Train on 16000 samples, validate on 4000 samples\n",
      "15872/16000 [============================>.] - ETA: 0s - loss: 69.5457 - custom_mae: 1.1478\n",
      "Epoch 00001: val_custom_mae improved from inf to 0.48397, saving model to ..\\fast_output\\SYNTH_Regression_MSE\\2020-05-28_Normalized_Base_Custom-MAE\\Best_Weights_FC_230.hdf5\n",
      "16000/16000 [==============================] - 5s 294us/sample - loss: 68.9919 - custom_mae: 1.1426 - val_loss: 0.3136 - val_custom_mae: 0.4840\n",
      "Time taken: 0:00:06.389479\n"
     ]
    },
    {
     "name": "stderr",
     "output_type": "stream",
     "text": [
      "\r",
      " 64%|███████████████████████████████████████████████████▎                            | 231/360 [42:20<19:31,  9.08s/it]"
     ]
    },
    {
     "name": "stdout",
     "output_type": "stream",
     "text": [
      "{'activation': 'relu', 'batch_size': 32, 'dropout': 0.5, 'epochs': 1, 'first_neuron': 1024, 'hidden_layers': 2, 'label_type': 'Normalized', 'loss_function': 'mean_squared_error', 'lr': 1, 'monitor_value': 'val_custom_mae', 'optimizer': <class 'tensorflow.python.keras.optimizer_v2.adam.Adam'>, 'reduction_metric': 'custom_mae', 'samples': 20000}\n",
      "Using Loss: mean_squared_error \n",
      "and Reduction Metric: [<function custom_mae at 0x0000021D2788ACA8>]\n",
      "Monitor: val_custom_mae\n",
      "Train on 16000 samples, validate on 4000 samples\n",
      "15840/16000 [============================>.] - ETA: 0s - loss: 0.6509 - custom_mae: 0.5192\n",
      "Epoch 00001: val_custom_mae improved from inf to 0.37306, saving model to ..\\fast_output\\SYNTH_Regression_MSE\\2020-05-28_Normalized_Base_Custom-MAE\\Best_Weights_FC_231.hdf5\n",
      "16000/16000 [==============================] - 5s 300us/sample - loss: 0.6465 - custom_mae: 0.5179 - val_loss: 0.2050 - val_custom_mae: 0.3731\n",
      "Time taken: 0:00:06.463600\n"
     ]
    },
    {
     "name": "stderr",
     "output_type": "stream",
     "text": [
      "\r",
      " 64%|███████████████████████████████████████████████████▌                            | 232/360 [42:28<18:50,  8.84s/it]"
     ]
    },
    {
     "name": "stdout",
     "output_type": "stream",
     "text": [
      "{'activation': 'relu', 'batch_size': 32, 'dropout': 0.5, 'epochs': 1, 'first_neuron': 1024, 'hidden_layers': 2, 'label_type': 'Normalized', 'loss_function': 'mean_squared_error', 'lr': 2, 'monitor_value': 'val_custom_mae', 'optimizer': <class 'tensorflow.python.keras.optimizer_v2.adam.Adam'>, 'reduction_metric': 'custom_mae', 'samples': 20000}\n",
      "Using Loss: mean_squared_error \n",
      "and Reduction Metric: [<function custom_mae at 0x0000021D2788ACA8>]\n",
      "Monitor: val_custom_mae\n",
      "Train on 16000 samples, validate on 4000 samples\n",
      "15872/16000 [============================>.] - ETA: 0s - loss: 1.5530 - custom_mae: 0.6206\n",
      "Epoch 00001: val_custom_mae improved from inf to 0.39065, saving model to ..\\fast_output\\SYNTH_Regression_MSE\\2020-05-28_Normalized_Base_Custom-MAE\\Best_Weights_FC_232.hdf5\n",
      "16000/16000 [==============================] - 5s 296us/sample - loss: 1.5425 - custom_mae: 0.6188 - val_loss: 0.2230 - val_custom_mae: 0.3906\n",
      "Time taken: 0:00:06.394090\n"
     ]
    },
    {
     "name": "stderr",
     "output_type": "stream",
     "text": [
      "\r",
      " 65%|███████████████████████████████████████████████████▊                            | 233/360 [42:36<18:17,  8.64s/it]"
     ]
    },
    {
     "name": "stdout",
     "output_type": "stream",
     "text": [
      "{'activation': 'relu', 'batch_size': 32, 'dropout': 0.5, 'epochs': 1, 'first_neuron': 1024, 'hidden_layers': 2, 'label_type': 'Normalized', 'loss_function': 'mean_squared_error', 'lr': 5, 'monitor_value': 'val_custom_mae', 'optimizer': <class 'tensorflow.python.keras.optimizer_v2.adam.Adam'>, 'reduction_metric': 'custom_mae', 'samples': 20000}\n",
      "Using Loss: mean_squared_error \n",
      "and Reduction Metric: [<function custom_mae at 0x0000021D2788ACA8>]\n",
      "Monitor: val_custom_mae\n",
      "Train on 16000 samples, validate on 4000 samples\n",
      "15936/16000 [============================>.] - ETA: 0s - loss: 12.9147 - custom_mae: 0.8443\n",
      "Epoch 00001: val_custom_mae improved from inf to 0.48378, saving model to ..\\fast_output\\SYNTH_Regression_MSE\\2020-05-28_Normalized_Base_Custom-MAE\\Best_Weights_FC_233.hdf5\n",
      "16000/16000 [==============================] - 5s 298us/sample - loss: 12.8642 - custom_mae: 0.8429 - val_loss: 0.3136 - val_custom_mae: 0.4838\n",
      "Time taken: 0:00:06.439777\n"
     ]
    },
    {
     "name": "stderr",
     "output_type": "stream",
     "text": [
      "\r",
      " 65%|████████████████████████████████████████████████████                            | 234/360 [42:45<17:53,  8.52s/it]"
     ]
    },
    {
     "name": "stdout",
     "output_type": "stream",
     "text": [
      "{'activation': 'relu', 'batch_size': 32, 'dropout': 0.5, 'epochs': 1, 'first_neuron': 1024, 'hidden_layers': 3, 'label_type': 'Normalized', 'loss_function': 'mean_squared_error', 'lr': 1, 'monitor_value': 'val_custom_mae', 'optimizer': <class 'tensorflow.python.keras.optimizer_v2.adam.Adam'>, 'reduction_metric': 'custom_mae', 'samples': 20000}\n",
      "Using Loss: mean_squared_error \n",
      "and Reduction Metric: [<function custom_mae at 0x0000021D2788ACA8>]\n",
      "Monitor: val_custom_mae\n",
      "Train on 16000 samples, validate on 4000 samples\n",
      "15872/16000 [============================>.] - ETA: 0s - loss: 0.6592 - custom_mae: 0.55 - ETA: 0s - loss: 0.6519 - custom_mae: 0.5562\n",
      "Epoch 00001: val_custom_mae improved from inf to 0.43492, saving model to ..\\fast_output\\SYNTH_Regression_MSE\\2020-05-28_Normalized_Base_Custom-MAE\\Best_Weights_FC_234.hdf5\n",
      "16000/16000 [==============================] - 5s 305us/sample - loss: 0.6489 - custom_mae: 0.5553 - val_loss: 0.2624 - val_custom_mae: 0.4349\n",
      "Time taken: 0:00:06.547505\n"
     ]
    },
    {
     "name": "stderr",
     "output_type": "stream",
     "text": [
      "\r",
      " 65%|████████████████████████████████████████████████████▏                           | 235/360 [42:53<17:39,  8.48s/it]"
     ]
    },
    {
     "name": "stdout",
     "output_type": "stream",
     "text": [
      "{'activation': 'relu', 'batch_size': 32, 'dropout': 0.5, 'epochs': 1, 'first_neuron': 1024, 'hidden_layers': 3, 'label_type': 'Normalized', 'loss_function': 'mean_squared_error', 'lr': 2, 'monitor_value': 'val_custom_mae', 'optimizer': <class 'tensorflow.python.keras.optimizer_v2.adam.Adam'>, 'reduction_metric': 'custom_mae', 'samples': 20000}\n",
      "Using Loss: mean_squared_error \n",
      "and Reduction Metric: [<function custom_mae at 0x0000021D2788ACA8>]\n",
      "Monitor: val_custom_mae\n",
      "Train on 16000 samples, validate on 4000 samples\n",
      "15680/16000 [============================>.] - ETA: 0s - loss: 1.2996 - custom_mae: 0.6296\n",
      "Epoch 00001: val_custom_mae improved from inf to 0.47560, saving model to ..\\fast_output\\SYNTH_Regression_MSE\\2020-05-28_Normalized_Base_Custom-MAE\\Best_Weights_FC_235.hdf5\n",
      "16000/16000 [==============================] - 5s 308us/sample - loss: 1.2794 - custom_mae: 0.6264 - val_loss: 0.3046 - val_custom_mae: 0.4756\n",
      "Time taken: 0:00:06.600483\n"
     ]
    },
    {
     "name": "stderr",
     "output_type": "stream",
     "text": [
      "\r",
      " 66%|████████████████████████████████████████████████████▍                           | 236/360 [43:01<17:29,  8.46s/it]"
     ]
    },
    {
     "name": "stdout",
     "output_type": "stream",
     "text": [
      "{'activation': 'relu', 'batch_size': 32, 'dropout': 0.5, 'epochs': 1, 'first_neuron': 1024, 'hidden_layers': 3, 'label_type': 'Normalized', 'loss_function': 'mean_squared_error', 'lr': 5, 'monitor_value': 'val_custom_mae', 'optimizer': <class 'tensorflow.python.keras.optimizer_v2.adam.Adam'>, 'reduction_metric': 'custom_mae', 'samples': 20000}\n",
      "Using Loss: mean_squared_error \n",
      "and Reduction Metric: [<function custom_mae at 0x0000021D2788ACA8>]\n",
      "Monitor: val_custom_mae\n",
      "Train on 16000 samples, validate on 4000 samples\n",
      "15840/16000 [============================>.] - ETA: 0s - loss: 8.0089 - custom_mae: 0.8706\n",
      "Epoch 00001: val_custom_mae improved from inf to 0.48377, saving model to ..\\fast_output\\SYNTH_Regression_MSE\\2020-05-28_Normalized_Base_Custom-MAE\\Best_Weights_FC_236.hdf5\n",
      "16000/16000 [==============================] - 5s 316us/sample - loss: 7.9320 - custom_mae: 0.8667 - val_loss: 0.3136 - val_custom_mae: 0.4838\n",
      "Time taken: 0:00:06.741092\n"
     ]
    },
    {
     "name": "stderr",
     "output_type": "stream",
     "text": [
      "\r",
      " 66%|████████████████████████████████████████████████████▋                           | 237/360 [43:10<17:25,  8.50s/it]"
     ]
    },
    {
     "name": "stdout",
     "output_type": "stream",
     "text": [
      "{'activation': 'relu', 'batch_size': 32, 'dropout': 0.5, 'epochs': 1, 'first_neuron': 1024, 'hidden_layers': 4, 'label_type': 'Normalized', 'loss_function': 'mean_squared_error', 'lr': 1, 'monitor_value': 'val_custom_mae', 'optimizer': <class 'tensorflow.python.keras.optimizer_v2.adam.Adam'>, 'reduction_metric': 'custom_mae', 'samples': 20000}\n",
      "Using Loss: mean_squared_error \n",
      "and Reduction Metric: [<function custom_mae at 0x0000021D2788ACA8>]\n",
      "Monitor: val_custom_mae\n",
      "Train on 16000 samples, validate on 4000 samples\n",
      "15968/16000 [============================>.] - ETA: 0s - loss: 0.7276 - custom_mae: 0.5819\n",
      "Epoch 00001: val_custom_mae improved from inf to 0.48363, saving model to ..\\fast_output\\SYNTH_Regression_MSE\\2020-05-28_Normalized_Base_Custom-MAE\\Best_Weights_FC_237.hdf5\n",
      "16000/16000 [==============================] - 5s 316us/sample - loss: 0.7268 - custom_mae: 0.5817 - val_loss: 0.3134 - val_custom_mae: 0.4836\n",
      "Time taken: 0:00:06.722268\n"
     ]
    },
    {
     "name": "stderr",
     "output_type": "stream",
     "text": [
      "\r",
      " 66%|████████████████████████████████████████████████████▉                           | 238/360 [43:19<17:19,  8.52s/it]"
     ]
    },
    {
     "name": "stdout",
     "output_type": "stream",
     "text": [
      "{'activation': 'relu', 'batch_size': 32, 'dropout': 0.5, 'epochs': 1, 'first_neuron': 1024, 'hidden_layers': 4, 'label_type': 'Normalized', 'loss_function': 'mean_squared_error', 'lr': 2, 'monitor_value': 'val_custom_mae', 'optimizer': <class 'tensorflow.python.keras.optimizer_v2.adam.Adam'>, 'reduction_metric': 'custom_mae', 'samples': 20000}\n",
      "Using Loss: mean_squared_error \n",
      "and Reduction Metric: [<function custom_mae at 0x0000021D2788ACA8>]\n",
      "Monitor: val_custom_mae\n",
      "Train on 16000 samples, validate on 4000 samples\n",
      "15968/16000 [============================>.] - ETA: 0s - loss: 1.2528 - custom_mae: 0.6370\n",
      "Epoch 00001: val_custom_mae improved from inf to 0.48374, saving model to ..\\fast_output\\SYNTH_Regression_MSE\\2020-05-28_Normalized_Base_Custom-MAE\\Best_Weights_FC_238.hdf5\n",
      "16000/16000 [==============================] - 5s 311us/sample - loss: 1.2509 - custom_mae: 0.6367 - val_loss: 0.3134 - val_custom_mae: 0.4837\n",
      "Time taken: 0:00:06.655155\n"
     ]
    },
    {
     "name": "stderr",
     "output_type": "stream",
     "text": [
      "\r",
      " 66%|█████████████████████████████████████████████████████                           | 239/360 [43:27<17:10,  8.51s/it]"
     ]
    },
    {
     "name": "stdout",
     "output_type": "stream",
     "text": [
      "{'activation': 'relu', 'batch_size': 32, 'dropout': 0.5, 'epochs': 1, 'first_neuron': 1024, 'hidden_layers': 4, 'label_type': 'Normalized', 'loss_function': 'mean_squared_error', 'lr': 5, 'monitor_value': 'val_custom_mae', 'optimizer': <class 'tensorflow.python.keras.optimizer_v2.adam.Adam'>, 'reduction_metric': 'custom_mae', 'samples': 20000}\n",
      "Using Loss: mean_squared_error \n",
      "and Reduction Metric: [<function custom_mae at 0x0000021D2788ACA8>]\n",
      "Monitor: val_custom_mae\n",
      "Train on 16000 samples, validate on 4000 samples\n",
      "15808/16000 [============================>.] - ETA: 0s - loss: 3.8872 - custom_mae: 0.7516\n",
      "Epoch 00001: val_custom_mae improved from inf to 0.48368, saving model to ..\\fast_output\\SYNTH_Regression_MSE\\2020-05-28_Normalized_Base_Custom-MAE\\Best_Weights_FC_239.hdf5\n",
      "16000/16000 [==============================] - 5s 331us/sample - loss: 3.8442 - custom_mae: 0.7484 - val_loss: 0.3134 - val_custom_mae: 0.4837\n",
      "Time taken: 0:00:06.943073\n"
     ]
    },
    {
     "name": "stderr",
     "output_type": "stream",
     "text": [
      "\r",
      " 67%|█████████████████████████████████████████████████████▎                          | 240/360 [43:36<17:12,  8.60s/it]"
     ]
    },
    {
     "name": "stdout",
     "output_type": "stream",
     "text": [
      "{'activation': 'relu', 'batch_size': 32, 'dropout': 0.5, 'epochs': 1, 'first_neuron': 2048, 'hidden_layers': 0, 'label_type': 'Normalized', 'loss_function': 'mean_squared_error', 'lr': 1, 'monitor_value': 'val_custom_mae', 'optimizer': <class 'tensorflow.python.keras.optimizer_v2.adam.Adam'>, 'reduction_metric': 'custom_mae', 'samples': 20000}\n",
      "Using Loss: mean_squared_error \n",
      "and Reduction Metric: [<function custom_mae at 0x0000021D2788ACA8>]\n",
      "Monitor: val_custom_mae\n",
      "Train on 16000 samples, validate on 4000 samples\n",
      "15872/16000 [============================>.] - ETA: 0s - loss: 4.8306 - custom_mae: 0.6012\n",
      "Epoch 00001: val_custom_mae improved from inf to 0.23959, saving model to ..\\fast_output\\SYNTH_Regression_MSE\\2020-05-28_Normalized_Base_Custom-MAE\\Best_Weights_FC_240.hdf5\n",
      "16000/16000 [==============================] - 7s 439us/sample - loss: 4.7931 - custom_mae: 0.5986 - val_loss: 0.1161 - val_custom_mae: 0.2396\n",
      "Time taken: 0:00:08.703174\n"
     ]
    },
    {
     "name": "stderr",
     "output_type": "stream",
     "text": [
      "\r",
      " 67%|█████████████████████████████████████████████████████▌                          | 241/360 [43:46<18:11,  9.17s/it]"
     ]
    },
    {
     "name": "stdout",
     "output_type": "stream",
     "text": [
      "{'activation': 'relu', 'batch_size': 32, 'dropout': 0.5, 'epochs': 1, 'first_neuron': 2048, 'hidden_layers': 0, 'label_type': 'Normalized', 'loss_function': 'mean_squared_error', 'lr': 2, 'monitor_value': 'val_custom_mae', 'optimizer': <class 'tensorflow.python.keras.optimizer_v2.adam.Adam'>, 'reduction_metric': 'custom_mae', 'samples': 20000}\n",
      "Using Loss: mean_squared_error \n",
      "and Reduction Metric: [<function custom_mae at 0x0000021D2788ACA8>]\n",
      "Monitor: val_custom_mae\n",
      "Train on 16000 samples, validate on 4000 samples\n",
      "15936/16000 [============================>.] - ETA: 0s - loss: 16.8726 - custom_mae: 0.8698\n",
      "Epoch 00001: val_custom_mae improved from inf to 0.26570, saving model to ..\\fast_output\\SYNTH_Regression_MSE\\2020-05-28_Normalized_Base_Custom-MAE\\Best_Weights_FC_241.hdf5\n",
      "16000/16000 [==============================] - 7s 427us/sample - loss: 16.8057 - custom_mae: 0.8675 - val_loss: 0.1324 - val_custom_mae: 0.2657\n",
      "Time taken: 0:00:08.498489\n"
     ]
    },
    {
     "name": "stderr",
     "output_type": "stream",
     "text": [
      "\r",
      " 67%|█████████████████████████████████████████████████████▊                          | 242/360 [43:57<18:40,  9.49s/it]"
     ]
    },
    {
     "name": "stdout",
     "output_type": "stream",
     "text": [
      "{'activation': 'relu', 'batch_size': 32, 'dropout': 0.5, 'epochs': 1, 'first_neuron': 2048, 'hidden_layers': 0, 'label_type': 'Normalized', 'loss_function': 'mean_squared_error', 'lr': 5, 'monitor_value': 'val_custom_mae', 'optimizer': <class 'tensorflow.python.keras.optimizer_v2.adam.Adam'>, 'reduction_metric': 'custom_mae', 'samples': 20000}\n",
      "Using Loss: mean_squared_error \n",
      "and Reduction Metric: [<function custom_mae at 0x0000021D2788ACA8>]\n",
      "Monitor: val_custom_mae\n",
      "Train on 16000 samples, validate on 4000 samples\n",
      "15968/16000 [============================>.] - ETA: 0s - loss: 111.0354 - custom_mae: 1.7103\n",
      "Epoch 00001: val_custom_mae improved from inf to 0.34052, saving model to ..\\fast_output\\SYNTH_Regression_MSE\\2020-05-28_Normalized_Base_Custom-MAE\\Best_Weights_FC_242.hdf5\n",
      "16000/16000 [==============================] - 7s 429us/sample - loss: 110.8138 - custom_mae: 1.7076 - val_loss: 0.1873 - val_custom_mae: 0.3405\n",
      "Time taken: 0:00:08.550340\n"
     ]
    },
    {
     "name": "stderr",
     "output_type": "stream",
     "text": [
      "\r",
      " 68%|██████████████████████████████████████████████████████                          | 243/360 [44:07<18:58,  9.73s/it]"
     ]
    },
    {
     "name": "stdout",
     "output_type": "stream",
     "text": [
      "{'activation': 'relu', 'batch_size': 32, 'dropout': 0.5, 'epochs': 1, 'first_neuron': 2048, 'hidden_layers': 1, 'label_type': 'Normalized', 'loss_function': 'mean_squared_error', 'lr': 1, 'monitor_value': 'val_custom_mae', 'optimizer': <class 'tensorflow.python.keras.optimizer_v2.adam.Adam'>, 'reduction_metric': 'custom_mae', 'samples': 20000}\n",
      "Using Loss: mean_squared_error \n",
      "and Reduction Metric: [<function custom_mae at 0x0000021D2788ACA8>]\n",
      "Monitor: val_custom_mae\n",
      "Train on 16000 samples, validate on 4000 samples\n",
      "15872/16000 [============================>.] - ETA: 0s - loss: 3.4585 - custom_mae: 0.6455\n",
      "Epoch 00001: val_custom_mae improved from inf to 0.32308, saving model to ..\\fast_output\\SYNTH_Regression_MSE\\2020-05-28_Normalized_Base_Custom-MAE\\Best_Weights_FC_243.hdf5\n",
      "16000/16000 [==============================] - 7s 448us/sample - loss: 3.4321 - custom_mae: 0.6429 - val_loss: 0.1708 - val_custom_mae: 0.3231\n",
      "Time taken: 0:00:08.849097\n"
     ]
    },
    {
     "name": "stderr",
     "output_type": "stream",
     "text": [
      "\r",
      " 68%|██████████████████████████████████████████████████████▏                         | 244/360 [44:17<19:19, 10.00s/it]"
     ]
    },
    {
     "name": "stdout",
     "output_type": "stream",
     "text": [
      "{'activation': 'relu', 'batch_size': 32, 'dropout': 0.5, 'epochs': 1, 'first_neuron': 2048, 'hidden_layers': 1, 'label_type': 'Normalized', 'loss_function': 'mean_squared_error', 'lr': 2, 'monitor_value': 'val_custom_mae', 'optimizer': <class 'tensorflow.python.keras.optimizer_v2.adam.Adam'>, 'reduction_metric': 'custom_mae', 'samples': 20000}\n",
      "Using Loss: mean_squared_error \n",
      "and Reduction Metric: [<function custom_mae at 0x0000021D2788ACA8>]\n",
      "Monitor: val_custom_mae\n",
      "Train on 16000 samples, validate on 4000 samples\n",
      "15808/16000 [============================>.] - ETA: 0s - loss: 22.2679 - custom_mae: 0.9178\n",
      "Epoch 00001: val_custom_mae improved from inf to 0.48271, saving model to ..\\fast_output\\SYNTH_Regression_MSE\\2020-05-28_Normalized_Base_Custom-MAE\\Best_Weights_FC_244.hdf5\n",
      "16000/16000 [==============================] - 7s 446us/sample - loss: 22.0044 - custom_mae: 0.9125 - val_loss: 0.3123 - val_custom_mae: 0.4827\n",
      "Time taken: 0:00:08.815721\n"
     ]
    },
    {
     "name": "stderr",
     "output_type": "stream",
     "text": [
      "\r",
      " 68%|██████████████████████████████████████████████████████▍                         | 245/360 [44:28<19:30, 10.18s/it]"
     ]
    },
    {
     "name": "stdout",
     "output_type": "stream",
     "text": [
      "{'activation': 'relu', 'batch_size': 32, 'dropout': 0.5, 'epochs': 1, 'first_neuron': 2048, 'hidden_layers': 1, 'label_type': 'Normalized', 'loss_function': 'mean_squared_error', 'lr': 5, 'monitor_value': 'val_custom_mae', 'optimizer': <class 'tensorflow.python.keras.optimizer_v2.adam.Adam'>, 'reduction_metric': 'custom_mae', 'samples': 20000}\n",
      "Using Loss: mean_squared_error \n",
      "and Reduction Metric: [<function custom_mae at 0x0000021D2788ACA8>]\n",
      "Monitor: val_custom_mae\n",
      "Train on 16000 samples, validate on 4000 samples\n",
      "15904/16000 [============================>.] - ETA: 0s - loss: 542.8172 - custom_mae: 1.8347\n",
      "Epoch 00001: val_custom_mae improved from inf to 0.48223, saving model to ..\\fast_output\\SYNTH_Regression_MSE\\2020-05-28_Normalized_Base_Custom-MAE\\Best_Weights_FC_245.hdf5\n",
      "16000/16000 [==============================] - 7s 448us/sample - loss: 539.5623 - custom_mae: 1.8267 - val_loss: 0.3114 - val_custom_mae: 0.4822\n",
      "Time taken: 0:00:08.840870\n"
     ]
    },
    {
     "name": "stderr",
     "output_type": "stream",
     "text": [
      "\r",
      " 68%|██████████████████████████████████████████████████████▋                         | 246/360 [44:39<19:35, 10.31s/it]"
     ]
    },
    {
     "name": "stdout",
     "output_type": "stream",
     "text": [
      "{'activation': 'relu', 'batch_size': 32, 'dropout': 0.5, 'epochs': 1, 'first_neuron': 2048, 'hidden_layers': 2, 'label_type': 'Normalized', 'loss_function': 'mean_squared_error', 'lr': 1, 'monitor_value': 'val_custom_mae', 'optimizer': <class 'tensorflow.python.keras.optimizer_v2.adam.Adam'>, 'reduction_metric': 'custom_mae', 'samples': 20000}\n",
      "Using Loss: mean_squared_error \n",
      "and Reduction Metric: [<function custom_mae at 0x0000021D2788ACA8>]\n",
      "Monitor: val_custom_mae\n",
      "Train on 16000 samples, validate on 4000 samples\n",
      "15808/16000 [============================>.] - ETA: 0s - loss: 1.4363 - custom_mae: 0.5957\n",
      "Epoch 00001: val_custom_mae improved from inf to 0.35609, saving model to ..\\fast_output\\SYNTH_Regression_MSE\\2020-05-28_Normalized_Base_Custom-MAE\\Best_Weights_FC_246.hdf5\n",
      "16000/16000 [==============================] - 8s 487us/sample - loss: 1.4216 - custom_mae: 0.5928 - val_loss: 0.1958 - val_custom_mae: 0.3561\n",
      "Time taken: 0:00:09.462467\n"
     ]
    },
    {
     "name": "stderr",
     "output_type": "stream",
     "text": [
      "\r",
      " 69%|██████████████████████████████████████████████████████▉                         | 247/360 [44:50<19:57, 10.60s/it]"
     ]
    },
    {
     "name": "stdout",
     "output_type": "stream",
     "text": [
      "{'activation': 'relu', 'batch_size': 32, 'dropout': 0.5, 'epochs': 1, 'first_neuron': 2048, 'hidden_layers': 2, 'label_type': 'Normalized', 'loss_function': 'mean_squared_error', 'lr': 2, 'monitor_value': 'val_custom_mae', 'optimizer': <class 'tensorflow.python.keras.optimizer_v2.adam.Adam'>, 'reduction_metric': 'custom_mae', 'samples': 20000}\n",
      "Using Loss: mean_squared_error \n",
      "and Reduction Metric: [<function custom_mae at 0x0000021D2788ACA8>]\n",
      "Monitor: val_custom_mae\n",
      "Train on 16000 samples, validate on 4000 samples\n",
      "15776/16000 [============================>.] - ETA: 0s - loss: 8.6283 - custom_mae: 0.7977\n",
      "Epoch 00001: val_custom_mae improved from inf to 0.48369, saving model to ..\\fast_output\\SYNTH_Regression_MSE\\2020-05-28_Normalized_Base_Custom-MAE\\Best_Weights_FC_247.hdf5\n",
      "16000/16000 [==============================] - 8s 481us/sample - loss: 8.5119 - custom_mae: 0.7933 - val_loss: 0.3135 - val_custom_mae: 0.4837\n",
      "Time taken: 0:00:09.367970\n"
     ]
    },
    {
     "name": "stderr",
     "output_type": "stream",
     "text": [
      "\r",
      " 69%|███████████████████████████████████████████████████████                         | 248/360 [45:01<20:06, 10.77s/it]"
     ]
    },
    {
     "name": "stdout",
     "output_type": "stream",
     "text": [
      "{'activation': 'relu', 'batch_size': 32, 'dropout': 0.5, 'epochs': 1, 'first_neuron': 2048, 'hidden_layers': 2, 'label_type': 'Normalized', 'loss_function': 'mean_squared_error', 'lr': 5, 'monitor_value': 'val_custom_mae', 'optimizer': <class 'tensorflow.python.keras.optimizer_v2.adam.Adam'>, 'reduction_metric': 'custom_mae', 'samples': 20000}\n",
      "Using Loss: mean_squared_error \n",
      "and Reduction Metric: [<function custom_mae at 0x0000021D2788ACA8>]\n",
      "Monitor: val_custom_mae\n",
      "Train on 16000 samples, validate on 4000 samples\n",
      "15904/16000 [============================>.] - ETA: 0s - loss: 372.6255 - custom_mae: 1.5097\n",
      "Epoch 00001: val_custom_mae improved from inf to 0.48413, saving model to ..\\fast_output\\SYNTH_Regression_MSE\\2020-05-28_Normalized_Base_Custom-MAE\\Best_Weights_FC_248.hdf5\n",
      "16000/16000 [==============================] - 7s 457us/sample - loss: 370.3917 - custom_mae: 1.5036 - val_loss: 0.3137 - val_custom_mae: 0.4841\n",
      "Time taken: 0:00:08.976144\n"
     ]
    },
    {
     "name": "stderr",
     "output_type": "stream",
     "text": [
      "\r",
      " 69%|███████████████████████████████████████████████████████▎                        | 249/360 [45:12<19:56, 10.77s/it]"
     ]
    },
    {
     "name": "stdout",
     "output_type": "stream",
     "text": [
      "{'activation': 'relu', 'batch_size': 32, 'dropout': 0.5, 'epochs': 1, 'first_neuron': 2048, 'hidden_layers': 3, 'label_type': 'Normalized', 'loss_function': 'mean_squared_error', 'lr': 1, 'monitor_value': 'val_custom_mae', 'optimizer': <class 'tensorflow.python.keras.optimizer_v2.adam.Adam'>, 'reduction_metric': 'custom_mae', 'samples': 20000}\n",
      "Using Loss: mean_squared_error \n",
      "and Reduction Metric: [<function custom_mae at 0x0000021D2788ACA8>]\n",
      "Monitor: val_custom_mae\n",
      "Train on 16000 samples, validate on 4000 samples\n",
      "15776/16000 [============================>.] - ETA: 0s - loss: 0.9673 - custom_mae: 0.6031\n",
      "Epoch 00001: val_custom_mae improved from inf to 0.40907, saving model to ..\\fast_output\\SYNTH_Regression_MSE\\2020-05-28_Normalized_Base_Custom-MAE\\Best_Weights_FC_249.hdf5\n",
      "16000/16000 [==============================] - 7s 462us/sample - loss: 0.9575 - custom_mae: 0.6008 - val_loss: 0.2407 - val_custom_mae: 0.4091\n",
      "Time taken: 0:00:09.073975\n"
     ]
    },
    {
     "name": "stderr",
     "output_type": "stream",
     "text": [
      "\r",
      " 69%|███████████████████████████████████████████████████████▌                        | 250/360 [45:23<19:49, 10.81s/it]"
     ]
    },
    {
     "name": "stdout",
     "output_type": "stream",
     "text": [
      "{'activation': 'relu', 'batch_size': 32, 'dropout': 0.5, 'epochs': 1, 'first_neuron': 2048, 'hidden_layers': 3, 'label_type': 'Normalized', 'loss_function': 'mean_squared_error', 'lr': 2, 'monitor_value': 'val_custom_mae', 'optimizer': <class 'tensorflow.python.keras.optimizer_v2.adam.Adam'>, 'reduction_metric': 'custom_mae', 'samples': 20000}\n",
      "Using Loss: mean_squared_error \n",
      "and Reduction Metric: [<function custom_mae at 0x0000021D2788ACA8>]\n",
      "Monitor: val_custom_mae\n",
      "Train on 16000 samples, validate on 4000 samples\n",
      "15904/16000 [============================>.] - ETA: 0s - loss: 2.6547 - custom_mae: 0.7056\n",
      "Epoch 00001: val_custom_mae improved from inf to 0.48326, saving model to ..\\fast_output\\SYNTH_Regression_MSE\\2020-05-28_Normalized_Base_Custom-MAE\\Best_Weights_FC_250.hdf5\n",
      "16000/16000 [==============================] - 7s 463us/sample - loss: 2.6406 - custom_mae: 0.7043 - val_loss: 0.3130 - val_custom_mae: 0.4833\n",
      "Time taken: 0:00:09.075316\n"
     ]
    },
    {
     "name": "stderr",
     "output_type": "stream",
     "text": [
      "\r",
      " 70%|███████████████████████████████████████████████████████▊                        | 251/360 [45:34<19:41, 10.84s/it]"
     ]
    },
    {
     "name": "stdout",
     "output_type": "stream",
     "text": [
      "{'activation': 'relu', 'batch_size': 32, 'dropout': 0.5, 'epochs': 1, 'first_neuron': 2048, 'hidden_layers': 3, 'label_type': 'Normalized', 'loss_function': 'mean_squared_error', 'lr': 5, 'monitor_value': 'val_custom_mae', 'optimizer': <class 'tensorflow.python.keras.optimizer_v2.adam.Adam'>, 'reduction_metric': 'custom_mae', 'samples': 20000}\n",
      "Using Loss: mean_squared_error \n",
      "and Reduction Metric: [<function custom_mae at 0x0000021D2788ACA8>]\n",
      "Monitor: val_custom_mae\n",
      "Train on 16000 samples, validate on 4000 samples\n",
      "15936/16000 [============================>.] - ETA: 0s - loss: 64.0456 - custom_mae: 1.1595\n",
      "Epoch 00001: val_custom_mae improved from inf to 0.48389, saving model to ..\\fast_output\\SYNTH_Regression_MSE\\2020-05-28_Normalized_Base_Custom-MAE\\Best_Weights_FC_251.hdf5\n",
      "16000/16000 [==============================] - 8s 481us/sample - loss: 63.7907 - custom_mae: 1.1568 - val_loss: 0.3135 - val_custom_mae: 0.4839\n",
      "Time taken: 0:00:09.362621\n"
     ]
    },
    {
     "name": "stderr",
     "output_type": "stream",
     "text": [
      "\r",
      " 70%|████████████████████████████████████████████████████████                        | 252/360 [45:45<19:42, 10.95s/it]"
     ]
    },
    {
     "name": "stdout",
     "output_type": "stream",
     "text": [
      "{'activation': 'relu', 'batch_size': 32, 'dropout': 0.5, 'epochs': 1, 'first_neuron': 2048, 'hidden_layers': 4, 'label_type': 'Normalized', 'loss_function': 'mean_squared_error', 'lr': 1, 'monitor_value': 'val_custom_mae', 'optimizer': <class 'tensorflow.python.keras.optimizer_v2.adam.Adam'>, 'reduction_metric': 'custom_mae', 'samples': 20000}\n",
      "Using Loss: mean_squared_error \n",
      "and Reduction Metric: [<function custom_mae at 0x0000021D2788ACA8>]\n",
      "Monitor: val_custom_mae\n",
      "Train on 16000 samples, validate on 4000 samples\n",
      "15872/16000 [============================>.] - ETA: 0s - loss: 1.1012 - custom_mae: 0.6434\n",
      "Epoch 00001: val_custom_mae improved from inf to 0.48396, saving model to ..\\fast_output\\SYNTH_Regression_MSE\\2020-05-28_Normalized_Base_Custom-MAE\\Best_Weights_FC_252.hdf5\n",
      "16000/16000 [==============================] - 8s 490us/sample - loss: 1.0949 - custom_mae: 0.6422 - val_loss: 0.3134 - val_custom_mae: 0.4840\n",
      "Time taken: 0:00:09.517423\n"
     ]
    },
    {
     "name": "stderr",
     "output_type": "stream",
     "text": [
      "\r",
      " 70%|████████████████████████████████████████████████████████▏                       | 253/360 [45:56<19:45, 11.08s/it]"
     ]
    },
    {
     "name": "stdout",
     "output_type": "stream",
     "text": [
      "{'activation': 'relu', 'batch_size': 32, 'dropout': 0.5, 'epochs': 1, 'first_neuron': 2048, 'hidden_layers': 4, 'label_type': 'Normalized', 'loss_function': 'mean_squared_error', 'lr': 2, 'monitor_value': 'val_custom_mae', 'optimizer': <class 'tensorflow.python.keras.optimizer_v2.adam.Adam'>, 'reduction_metric': 'custom_mae', 'samples': 20000}\n",
      "Using Loss: mean_squared_error \n",
      "and Reduction Metric: [<function custom_mae at 0x0000021D2788ACA8>]\n",
      "Monitor: val_custom_mae\n",
      "Train on 16000 samples, validate on 4000 samples\n",
      "15808/16000 [============================>.] - ETA: 0s - loss: 2.5868 - custom_mae: 0.7386\n",
      "Epoch 00001: val_custom_mae improved from inf to 0.48385, saving model to ..\\fast_output\\SYNTH_Regression_MSE\\2020-05-28_Normalized_Base_Custom-MAE\\Best_Weights_FC_253.hdf5\n",
      "16000/16000 [==============================] - 8s 474us/sample - loss: 2.5595 - custom_mae: 0.7356 - val_loss: 0.3133 - val_custom_mae: 0.4838\n",
      "Time taken: 0:00:09.229739\n"
     ]
    },
    {
     "name": "stderr",
     "output_type": "stream",
     "text": [
      "\r",
      " 71%|████████████████████████████████████████████████████████▍                       | 254/360 [46:07<19:34, 11.08s/it]"
     ]
    },
    {
     "name": "stdout",
     "output_type": "stream",
     "text": [
      "{'activation': 'relu', 'batch_size': 32, 'dropout': 0.5, 'epochs': 1, 'first_neuron': 2048, 'hidden_layers': 4, 'label_type': 'Normalized', 'loss_function': 'mean_squared_error', 'lr': 5, 'monitor_value': 'val_custom_mae', 'optimizer': <class 'tensorflow.python.keras.optimizer_v2.adam.Adam'>, 'reduction_metric': 'custom_mae', 'samples': 20000}\n",
      "Using Loss: mean_squared_error \n",
      "and Reduction Metric: [<function custom_mae at 0x0000021D2788ACA8>]\n",
      "Monitor: val_custom_mae\n",
      "Train on 16000 samples, validate on 4000 samples\n",
      "15936/16000 [============================>.] - ETA: 0s - loss: 10.9742 - custom_mae: 0.9150\n",
      "Epoch 00001: val_custom_mae improved from inf to 0.48357, saving model to ..\\fast_output\\SYNTH_Regression_MSE\\2020-05-28_Normalized_Base_Custom-MAE\\Best_Weights_FC_254.hdf5\n",
      "16000/16000 [==============================] - 8s 476us/sample - loss: 10.9314 - custom_mae: 0.9131 - val_loss: 0.3135 - val_custom_mae: 0.4836\n",
      "Time taken: 0:00:09.281956\n"
     ]
    },
    {
     "name": "stderr",
     "output_type": "stream",
     "text": [
      "\r",
      " 71%|████████████████████████████████████████████████████████▋                       | 255/360 [46:19<19:26, 11.11s/it]"
     ]
    },
    {
     "name": "stdout",
     "output_type": "stream",
     "text": [
      "{'activation': 'relu', 'batch_size': 32, 'dropout': 0.5, 'epochs': 1, 'first_neuron': 4096, 'hidden_layers': 0, 'label_type': 'Normalized', 'loss_function': 'mean_squared_error', 'lr': 1, 'monitor_value': 'val_custom_mae', 'optimizer': <class 'tensorflow.python.keras.optimizer_v2.adam.Adam'>, 'reduction_metric': 'custom_mae', 'samples': 20000}\n",
      "Using Loss: mean_squared_error \n",
      "and Reduction Metric: [<function custom_mae at 0x0000021D2788ACA8>]\n",
      "Monitor: val_custom_mae\n",
      "Train on 16000 samples, validate on 4000 samples\n",
      "15904/16000 [============================>.] - ETA: 0s - loss: 10.5150 - custom_mae: 0.6699\n",
      "Epoch 00001: val_custom_mae improved from inf to 0.24811, saving model to ..\\fast_output\\SYNTH_Regression_MSE\\2020-05-28_Normalized_Base_Custom-MAE\\Best_Weights_FC_255.hdf5\n",
      "16000/16000 [==============================] - 13s 793us/sample - loss: 10.4527 - custom_mae: 0.6674 - val_loss: 0.1237 - val_custom_mae: 0.2481\n",
      "Time taken: 0:00:14.358462\n"
     ]
    },
    {
     "name": "stderr",
     "output_type": "stream",
     "text": [
      "\r",
      " 71%|████████████████████████████████████████████████████████▉                       | 256/360 [46:35<21:51, 12.61s/it]"
     ]
    },
    {
     "name": "stdout",
     "output_type": "stream",
     "text": [
      "{'activation': 'relu', 'batch_size': 32, 'dropout': 0.5, 'epochs': 1, 'first_neuron': 4096, 'hidden_layers': 0, 'label_type': 'Normalized', 'loss_function': 'mean_squared_error', 'lr': 2, 'monitor_value': 'val_custom_mae', 'optimizer': <class 'tensorflow.python.keras.optimizer_v2.adam.Adam'>, 'reduction_metric': 'custom_mae', 'samples': 20000}\n",
      "Using Loss: mean_squared_error \n",
      "and Reduction Metric: [<function custom_mae at 0x0000021D2788ACA8>]\n",
      "Monitor: val_custom_mae\n",
      "Train on 16000 samples, validate on 4000 samples\n",
      "15872/16000 [============================>.] - ETA: 0s - loss: 39.9990 - custom_mae: 1.0165- ETA: 1s - loss: 50.4382\n",
      "Epoch 00001: val_custom_mae improved from inf to 0.26306, saving model to ..\\fast_output\\SYNTH_Regression_MSE\\2020-05-28_Normalized_Base_Custom-MAE\\Best_Weights_FC_256.hdf5\n",
      "16000/16000 [==============================] - 12s 756us/sample - loss: 39.6802 - custom_mae: 1.0106 - val_loss: 0.1311 - val_custom_mae: 0.2631\n",
      "Time taken: 0:00:13.754995\n"
     ]
    },
    {
     "name": "stderr",
     "output_type": "stream",
     "text": [
      "\r",
      " 71%|█████████████████████████████████████████████████████████                       | 257/360 [46:50<23:09, 13.49s/it]"
     ]
    },
    {
     "name": "stdout",
     "output_type": "stream",
     "text": [
      "{'activation': 'relu', 'batch_size': 32, 'dropout': 0.5, 'epochs': 1, 'first_neuron': 4096, 'hidden_layers': 0, 'label_type': 'Normalized', 'loss_function': 'mean_squared_error', 'lr': 5, 'monitor_value': 'val_custom_mae', 'optimizer': <class 'tensorflow.python.keras.optimizer_v2.adam.Adam'>, 'reduction_metric': 'custom_mae', 'samples': 20000}\n",
      "Using Loss: mean_squared_error \n",
      "and Reduction Metric: [<function custom_mae at 0x0000021D2788ACA8>]\n",
      "Monitor: val_custom_mae\n",
      "Train on 16000 samples, validate on 4000 samples\n",
      "15936/16000 [============================>.] - ETA: 0s - loss: 296.1893 - custom_mae: 1.9599\n",
      "Epoch 00001: val_custom_mae improved from inf to 0.29912, saving model to ..\\fast_output\\SYNTH_Regression_MSE\\2020-05-28_Normalized_Base_Custom-MAE\\Best_Weights_FC_257.hdf5\n",
      "16000/16000 [==============================] - 13s 790us/sample - loss: 295.0053 - custom_mae: 1.9535 - val_loss: 0.1566 - val_custom_mae: 0.2991\n",
      "Time taken: 0:00:14.348891\n"
     ]
    },
    {
     "name": "stderr",
     "output_type": "stream",
     "text": [
      "\r",
      " 72%|█████████████████████████████████████████████████████████▎                      | 258/360 [47:06<24:15, 14.27s/it]"
     ]
    },
    {
     "name": "stdout",
     "output_type": "stream",
     "text": [
      "{'activation': 'relu', 'batch_size': 32, 'dropout': 0.5, 'epochs': 1, 'first_neuron': 4096, 'hidden_layers': 1, 'label_type': 'Normalized', 'loss_function': 'mean_squared_error', 'lr': 1, 'monitor_value': 'val_custom_mae', 'optimizer': <class 'tensorflow.python.keras.optimizer_v2.adam.Adam'>, 'reduction_metric': 'custom_mae', 'samples': 20000}\n",
      "Using Loss: mean_squared_error \n",
      "and Reduction Metric: [<function custom_mae at 0x0000021D2788ACA8>]\n",
      "Monitor: val_custom_mae\n",
      "Train on 16000 samples, validate on 4000 samples\n",
      "15904/16000 [============================>.] - ETA: 0s - loss: 12.3482 - custom_mae: 0.6623\n",
      "Epoch 00001: val_custom_mae improved from inf to 0.39196, saving model to ..\\fast_output\\SYNTH_Regression_MSE\\2020-05-28_Normalized_Base_Custom-MAE\\Best_Weights_FC_258.hdf5\n",
      "16000/16000 [==============================] - 13s 815us/sample - loss: 12.2752 - custom_mae: 0.6604 - val_loss: 0.2200 - val_custom_mae: 0.3920\n",
      "Time taken: 0:00:14.719518\n"
     ]
    },
    {
     "name": "stderr",
     "output_type": "stream",
     "text": [
      "\r",
      " 72%|█████████████████████████████████████████████████████████▌                      | 259/360 [47:23<25:08, 14.94s/it]"
     ]
    },
    {
     "name": "stdout",
     "output_type": "stream",
     "text": [
      "{'activation': 'relu', 'batch_size': 32, 'dropout': 0.5, 'epochs': 1, 'first_neuron': 4096, 'hidden_layers': 1, 'label_type': 'Normalized', 'loss_function': 'mean_squared_error', 'lr': 2, 'monitor_value': 'val_custom_mae', 'optimizer': <class 'tensorflow.python.keras.optimizer_v2.adam.Adam'>, 'reduction_metric': 'custom_mae', 'samples': 20000}\n",
      "Using Loss: mean_squared_error \n",
      "and Reduction Metric: [<function custom_mae at 0x0000021D2788ACA8>]\n",
      "Monitor: val_custom_mae\n",
      "Train on 16000 samples, validate on 4000 samples\n",
      "15968/16000 [============================>.] - ETA: 0s - loss: 111.5551 - custom_mae: 0.9794\n",
      "Epoch 00001: val_custom_mae improved from inf to 0.36737, saving model to ..\\fast_output\\SYNTH_Regression_MSE\\2020-05-28_Normalized_Base_Custom-MAE\\Best_Weights_FC_259.hdf5\n",
      "16000/16000 [==============================] - 13s 786us/sample - loss: 111.3323 - custom_mae: 0.9780 - val_loss: 0.2045 - val_custom_mae: 0.3674\n",
      "Time taken: 0:00:14.252731\n"
     ]
    },
    {
     "name": "stderr",
     "output_type": "stream",
     "text": [
      "\r",
      " 72%|█████████████████████████████████████████████████████████▊                      | 260/360 [47:39<25:27, 15.27s/it]"
     ]
    },
    {
     "name": "stdout",
     "output_type": "stream",
     "text": [
      "{'activation': 'relu', 'batch_size': 32, 'dropout': 0.5, 'epochs': 1, 'first_neuron': 4096, 'hidden_layers': 1, 'label_type': 'Normalized', 'loss_function': 'mean_squared_error', 'lr': 5, 'monitor_value': 'val_custom_mae', 'optimizer': <class 'tensorflow.python.keras.optimizer_v2.adam.Adam'>, 'reduction_metric': 'custom_mae', 'samples': 20000}\n",
      "Using Loss: mean_squared_error \n",
      "and Reduction Metric: [<function custom_mae at 0x0000021D2788ACA8>]\n",
      "Monitor: val_custom_mae\n",
      "Train on 16000 samples, validate on 4000 samples\n",
      "15872/16000 [============================>.] - ETA: 0s - loss: 3525.8776 - custom_mae: 2.9124\n",
      "Epoch 00001: val_custom_mae improved from inf to 0.48424, saving model to ..\\fast_output\\SYNTH_Regression_MSE\\2020-05-28_Normalized_Base_Custom-MAE\\Best_Weights_FC_260.hdf5\n",
      "16000/16000 [==============================] - 13s 791us/sample - loss: 3497.6731 - custom_mae: 2.8930 - val_loss: 0.3135 - val_custom_mae: 0.4842\n",
      "Time taken: 0:00:14.371061\n"
     ]
    },
    {
     "name": "stderr",
     "output_type": "stream",
     "text": [
      "\r",
      " 72%|██████████████████████████████████████████████████████████                      | 261/360 [47:55<25:39, 15.55s/it]"
     ]
    },
    {
     "name": "stdout",
     "output_type": "stream",
     "text": [
      "{'activation': 'relu', 'batch_size': 32, 'dropout': 0.5, 'epochs': 1, 'first_neuron': 4096, 'hidden_layers': 2, 'label_type': 'Normalized', 'loss_function': 'mean_squared_error', 'lr': 1, 'monitor_value': 'val_custom_mae', 'optimizer': <class 'tensorflow.python.keras.optimizer_v2.adam.Adam'>, 'reduction_metric': 'custom_mae', 'samples': 20000}\n",
      "Using Loss: mean_squared_error \n",
      "and Reduction Metric: [<function custom_mae at 0x0000021D2788ACA8>]\n",
      "Monitor: val_custom_mae\n",
      "Train on 16000 samples, validate on 4000 samples\n",
      "15904/16000 [============================>.] - ETA: 0s - loss: 2.3475 - custom_mae: 0.6396\n",
      "Epoch 00001: val_custom_mae improved from inf to 0.38476, saving model to ..\\fast_output\\SYNTH_Regression_MSE\\2020-05-28_Normalized_Base_Custom-MAE\\Best_Weights_FC_261.hdf5\n",
      "16000/16000 [==============================] - 13s 800us/sample - loss: 2.3347 - custom_mae: 0.6379 - val_loss: 0.2176 - val_custom_mae: 0.3848\n",
      "Time taken: 0:00:14.471631\n"
     ]
    },
    {
     "name": "stderr",
     "output_type": "stream",
     "text": [
      "\r",
      " 73%|██████████████████████████████████████████████████████████▏                     | 262/360 [48:11<25:45, 15.77s/it]"
     ]
    },
    {
     "name": "stdout",
     "output_type": "stream",
     "text": [
      "{'activation': 'relu', 'batch_size': 32, 'dropout': 0.5, 'epochs': 1, 'first_neuron': 4096, 'hidden_layers': 2, 'label_type': 'Normalized', 'loss_function': 'mean_squared_error', 'lr': 2, 'monitor_value': 'val_custom_mae', 'optimizer': <class 'tensorflow.python.keras.optimizer_v2.adam.Adam'>, 'reduction_metric': 'custom_mae', 'samples': 20000}\n",
      "Using Loss: mean_squared_error \n",
      "and Reduction Metric: [<function custom_mae at 0x0000021D2788ACA8>]\n",
      "Monitor: val_custom_mae\n",
      "Train on 16000 samples, validate on 4000 samples\n",
      "15904/16000 [============================>.] - ETA: 0s - loss: 20.0848 - custom_mae: 0.8504\n",
      "Epoch 00001: val_custom_mae improved from inf to 0.48379, saving model to ..\\fast_output\\SYNTH_Regression_MSE\\2020-05-28_Normalized_Base_Custom-MAE\\Best_Weights_FC_262.hdf5\n",
      "16000/16000 [==============================] - 13s 797us/sample - loss: 19.9662 - custom_mae: 0.8482 - val_loss: 0.3135 - val_custom_mae: 0.4838\n",
      "Time taken: 0:00:14.422608\n"
     ]
    },
    {
     "name": "stderr",
     "output_type": "stream",
     "text": [
      "\r",
      " 73%|██████████████████████████████████████████████████████████▍                     | 263/360 [48:28<25:43, 15.92s/it]"
     ]
    },
    {
     "name": "stdout",
     "output_type": "stream",
     "text": [
      "{'activation': 'relu', 'batch_size': 32, 'dropout': 0.5, 'epochs': 1, 'first_neuron': 4096, 'hidden_layers': 2, 'label_type': 'Normalized', 'loss_function': 'mean_squared_error', 'lr': 5, 'monitor_value': 'val_custom_mae', 'optimizer': <class 'tensorflow.python.keras.optimizer_v2.adam.Adam'>, 'reduction_metric': 'custom_mae', 'samples': 20000}\n",
      "Using Loss: mean_squared_error \n",
      "and Reduction Metric: [<function custom_mae at 0x0000021D2788ACA8>]\n",
      "Monitor: val_custom_mae\n",
      "Train on 16000 samples, validate on 4000 samples\n",
      "15936/16000 [============================>.] - ETA: 0s - loss: 1428.2052 - custom_mae: 3.2621\n",
      "Epoch 00001: val_custom_mae improved from inf to 0.48431, saving model to ..\\fast_output\\SYNTH_Regression_MSE\\2020-05-28_Normalized_Base_Custom-MAE\\Best_Weights_FC_263.hdf5\n",
      "16000/16000 [==============================] - 13s 808us/sample - loss: 1422.4936 - custom_mae: 3.2510 - val_loss: 0.3136 - val_custom_mae: 0.4843\n",
      "Time taken: 0:00:14.591457\n"
     ]
    },
    {
     "name": "stderr",
     "output_type": "stream",
     "text": [
      "\r",
      " 73%|██████████████████████████████████████████████████████████▋                     | 264/360 [48:44<25:42, 16.06s/it]"
     ]
    },
    {
     "name": "stdout",
     "output_type": "stream",
     "text": [
      "{'activation': 'relu', 'batch_size': 32, 'dropout': 0.5, 'epochs': 1, 'first_neuron': 4096, 'hidden_layers': 3, 'label_type': 'Normalized', 'loss_function': 'mean_squared_error', 'lr': 1, 'monitor_value': 'val_custom_mae', 'optimizer': <class 'tensorflow.python.keras.optimizer_v2.adam.Adam'>, 'reduction_metric': 'custom_mae', 'samples': 20000}\n",
      "Using Loss: mean_squared_error \n",
      "and Reduction Metric: [<function custom_mae at 0x0000021D2788ACA8>]\n",
      "Monitor: val_custom_mae\n",
      "Train on 16000 samples, validate on 4000 samples\n",
      "15904/16000 [============================>.] - ETA: 0s - loss: 1.9383 - custom_mae: 0.6796\n",
      "Epoch 00001: val_custom_mae improved from inf to 0.45338, saving model to ..\\fast_output\\SYNTH_Regression_MSE\\2020-05-28_Normalized_Base_Custom-MAE\\Best_Weights_FC_264.hdf5\n",
      "16000/16000 [==============================] - 13s 811us/sample - loss: 1.9283 - custom_mae: 0.6782 - val_loss: 0.2807 - val_custom_mae: 0.4534\n",
      "Time taken: 0:00:14.643866\n"
     ]
    },
    {
     "name": "stderr",
     "output_type": "stream",
     "text": [
      "\r",
      " 74%|██████████████████████████████████████████████████████████▉                     | 265/360 [49:01<25:38, 16.20s/it]"
     ]
    },
    {
     "name": "stdout",
     "output_type": "stream",
     "text": [
      "{'activation': 'relu', 'batch_size': 32, 'dropout': 0.5, 'epochs': 1, 'first_neuron': 4096, 'hidden_layers': 3, 'label_type': 'Normalized', 'loss_function': 'mean_squared_error', 'lr': 2, 'monitor_value': 'val_custom_mae', 'optimizer': <class 'tensorflow.python.keras.optimizer_v2.adam.Adam'>, 'reduction_metric': 'custom_mae', 'samples': 20000}\n",
      "Using Loss: mean_squared_error \n",
      "and Reduction Metric: [<function custom_mae at 0x0000021D2788ACA8>]\n",
      "Monitor: val_custom_mae\n",
      "Train on 16000 samples, validate on 4000 samples\n",
      "15904/16000 [============================>.] - ETA: 0s - loss: 19.0498 - custom_mae: 0.9109\n",
      "Epoch 00001: val_custom_mae improved from inf to 0.48374, saving model to ..\\fast_output\\SYNTH_Regression_MSE\\2020-05-28_Normalized_Base_Custom-MAE\\Best_Weights_FC_265.hdf5\n",
      "16000/16000 [==============================] - 13s 815us/sample - loss: 18.9374 - custom_mae: 0.9084 - val_loss: 0.3135 - val_custom_mae: 0.4837\n",
      "Time taken: 0:00:14.712194\n"
     ]
    },
    {
     "name": "stderr",
     "output_type": "stream",
     "text": [
      "\r",
      " 74%|███████████████████████████████████████████████████████████                     | 266/360 [49:17<25:32, 16.30s/it]"
     ]
    },
    {
     "name": "stdout",
     "output_type": "stream",
     "text": [
      "{'activation': 'relu', 'batch_size': 32, 'dropout': 0.5, 'epochs': 1, 'first_neuron': 4096, 'hidden_layers': 3, 'label_type': 'Normalized', 'loss_function': 'mean_squared_error', 'lr': 5, 'monitor_value': 'val_custom_mae', 'optimizer': <class 'tensorflow.python.keras.optimizer_v2.adam.Adam'>, 'reduction_metric': 'custom_mae', 'samples': 20000}\n",
      "Using Loss: mean_squared_error \n",
      "and Reduction Metric: [<function custom_mae at 0x0000021D2788ACA8>]\n",
      "Monitor: val_custom_mae\n",
      "Train on 16000 samples, validate on 4000 samples\n",
      "15904/16000 [============================>.] - ETA: 0s - loss: 3085.6576 - custom_mae: 3.4510\n",
      "Epoch 00001: val_custom_mae improved from inf to 0.48416, saving model to ..\\fast_output\\SYNTH_Regression_MSE\\2020-05-28_Normalized_Base_Custom-MAE\\Best_Weights_FC_266.hdf5\n",
      "16000/16000 [==============================] - 13s 813us/sample - loss: 3067.1481 - custom_mae: 3.4336 - val_loss: 0.3137 - val_custom_mae: 0.4842\n",
      "Time taken: 0:00:14.647830\n"
     ]
    },
    {
     "name": "stderr",
     "output_type": "stream",
     "text": [
      "\r",
      " 74%|███████████████████████████████████████████████████████████▎                    | 267/360 [49:34<25:21, 16.36s/it]"
     ]
    },
    {
     "name": "stdout",
     "output_type": "stream",
     "text": [
      "{'activation': 'relu', 'batch_size': 32, 'dropout': 0.5, 'epochs': 1, 'first_neuron': 4096, 'hidden_layers': 4, 'label_type': 'Normalized', 'loss_function': 'mean_squared_error', 'lr': 1, 'monitor_value': 'val_custom_mae', 'optimizer': <class 'tensorflow.python.keras.optimizer_v2.adam.Adam'>, 'reduction_metric': 'custom_mae', 'samples': 20000}\n",
      "Using Loss: mean_squared_error \n",
      "and Reduction Metric: [<function custom_mae at 0x0000021D2788ACA8>]\n",
      "Monitor: val_custom_mae\n",
      "Train on 16000 samples, validate on 4000 samples\n",
      "15968/16000 [============================>.] - ETA: 0s - loss: 1.4951 - custom_mae: 0.6705\n",
      "Epoch 00001: val_custom_mae improved from inf to 0.48327, saving model to ..\\fast_output\\SYNTH_Regression_MSE\\2020-05-28_Normalized_Base_Custom-MAE\\Best_Weights_FC_267.hdf5\n",
      "16000/16000 [==============================] - 13s 834us/sample - loss: 1.4928 - custom_mae: 0.6701 - val_loss: 0.3131 - val_custom_mae: 0.4833\n",
      "Time taken: 0:00:15.011648\n"
     ]
    },
    {
     "name": "stderr",
     "output_type": "stream",
     "text": [
      "\r",
      " 74%|███████████████████████████████████████████████████████████▌                    | 268/360 [49:50<25:19, 16.52s/it]"
     ]
    },
    {
     "name": "stdout",
     "output_type": "stream",
     "text": [
      "{'activation': 'relu', 'batch_size': 32, 'dropout': 0.5, 'epochs': 1, 'first_neuron': 4096, 'hidden_layers': 4, 'label_type': 'Normalized', 'loss_function': 'mean_squared_error', 'lr': 2, 'monitor_value': 'val_custom_mae', 'optimizer': <class 'tensorflow.python.keras.optimizer_v2.adam.Adam'>, 'reduction_metric': 'custom_mae', 'samples': 20000}\n",
      "Using Loss: mean_squared_error \n",
      "and Reduction Metric: [<function custom_mae at 0x0000021D2788ACA8>]\n",
      "Monitor: val_custom_mae\n",
      "Train on 16000 samples, validate on 4000 samples\n",
      "15904/16000 [============================>.] - ETA: 0s - loss: 6.0104 - custom_mae: 0.8141\n",
      "Epoch 00001: val_custom_mae improved from inf to 0.48424, saving model to ..\\fast_output\\SYNTH_Regression_MSE\\2020-05-28_Normalized_Base_Custom-MAE\\Best_Weights_FC_268.hdf5\n",
      "16000/16000 [==============================] - 13s 837us/sample - loss: 5.9764 - custom_mae: 0.8123 - val_loss: 0.3140 - val_custom_mae: 0.4842\n",
      "Time taken: 0:00:15.069708\n"
     ]
    },
    {
     "name": "stderr",
     "output_type": "stream",
     "text": [
      "\r",
      " 75%|███████████████████████████████████████████████████████████▊                    | 269/360 [50:07<25:15, 16.65s/it]"
     ]
    },
    {
     "name": "stdout",
     "output_type": "stream",
     "text": [
      "{'activation': 'relu', 'batch_size': 32, 'dropout': 0.5, 'epochs': 1, 'first_neuron': 4096, 'hidden_layers': 4, 'label_type': 'Normalized', 'loss_function': 'mean_squared_error', 'lr': 5, 'monitor_value': 'val_custom_mae', 'optimizer': <class 'tensorflow.python.keras.optimizer_v2.adam.Adam'>, 'reduction_metric': 'custom_mae', 'samples': 20000}\n",
      "Using Loss: mean_squared_error \n",
      "and Reduction Metric: [<function custom_mae at 0x0000021D2788ACA8>]\n",
      "Monitor: val_custom_mae\n",
      "Train on 16000 samples, validate on 4000 samples\n",
      "15904/16000 [============================>.] - ETA: 0s - loss: 779.5517 - custom_mae: 1.9627\n",
      "Epoch 00001: val_custom_mae improved from inf to 0.48412, saving model to ..\\fast_output\\SYNTH_Regression_MSE\\2020-05-28_Normalized_Base_Custom-MAE\\Best_Weights_FC_269.hdf5\n",
      "16000/16000 [==============================] - 13s 823us/sample - loss: 774.8763 - custom_mae: 1.9539 - val_loss: 0.3137 - val_custom_mae: 0.4841\n",
      "Time taken: 0:00:14.858342\n"
     ]
    },
    {
     "name": "stderr",
     "output_type": "stream",
     "text": [
      "\r",
      " 75%|████████████████████████████████████████████████████████████                    | 270/360 [50:24<25:00, 16.68s/it]"
     ]
    },
    {
     "name": "stdout",
     "output_type": "stream",
     "text": [
      "{'activation': 'relu', 'batch_size': 64, 'dropout': 0.25, 'epochs': 1, 'first_neuron': 1024, 'hidden_layers': 0, 'label_type': 'Normalized', 'loss_function': 'mean_squared_error', 'lr': 1, 'monitor_value': 'val_custom_mae', 'optimizer': <class 'tensorflow.python.keras.optimizer_v2.adam.Adam'>, 'reduction_metric': 'custom_mae', 'samples': 20000}\n",
      "Using Loss: mean_squared_error \n",
      "and Reduction Metric: [<function custom_mae at 0x0000021D2788ACA8>]\n",
      "Monitor: val_custom_mae\n",
      "Train on 16000 samples, validate on 3968 samples\n",
      "15936/16000 [============================>.] - ETA: 0s - loss: 5.6211 - custom_mae: 0.6738\n",
      "Epoch 00001: val_custom_mae improved from inf to 0.26071, saving model to ..\\fast_output\\SYNTH_Regression_MSE\\2020-05-28_Normalized_Base_Custom-MAE\\Best_Weights_FC_270.hdf5\n",
      "16000/16000 [==============================] - 3s 216us/sample - loss: 5.5991 - custom_mae: 0.6721 - val_loss: 0.1294 - val_custom_mae: 0.2607\n",
      "Time taken: 0:00:05.225895\n"
     ]
    },
    {
     "name": "stderr",
     "output_type": "stream",
     "text": [
      "\r",
      " 75%|████████████████████████████████████████████████████████████▏                   | 271/360 [50:35<22:06, 14.90s/it]"
     ]
    },
    {
     "name": "stdout",
     "output_type": "stream",
     "text": [
      "{'activation': 'relu', 'batch_size': 64, 'dropout': 0.25, 'epochs': 1, 'first_neuron': 1024, 'hidden_layers': 0, 'label_type': 'Normalized', 'loss_function': 'mean_squared_error', 'lr': 2, 'monitor_value': 'val_custom_mae', 'optimizer': <class 'tensorflow.python.keras.optimizer_v2.adam.Adam'>, 'reduction_metric': 'custom_mae', 'samples': 20000}\n",
      "Using Loss: mean_squared_error \n",
      "and Reduction Metric: [<function custom_mae at 0x0000021D2788ACA8>]\n",
      "Monitor: val_custom_mae\n",
      "Train on 16000 samples, validate on 3968 samples\n",
      "15936/16000 [============================>.] - ETA: 0s - loss: 20.2455 - custom_mae: 1.0790\n",
      "Epoch 00001: val_custom_mae improved from inf to 0.26694, saving model to ..\\fast_output\\SYNTH_Regression_MSE\\2020-05-28_Normalized_Base_Custom-MAE\\Best_Weights_FC_271.hdf5\n",
      "16000/16000 [==============================] - 3s 217us/sample - loss: 20.1651 - custom_mae: 1.0758 - val_loss: 0.1346 - val_custom_mae: 0.2669\n",
      "Time taken: 0:00:05.131804\n"
     ]
    },
    {
     "name": "stderr",
     "output_type": "stream",
     "text": [
      "\r",
      " 76%|████████████████████████████████████████████████████████████▍                   | 272/360 [50:42<18:19, 12.50s/it]"
     ]
    },
    {
     "name": "stdout",
     "output_type": "stream",
     "text": [
      "{'activation': 'relu', 'batch_size': 64, 'dropout': 0.25, 'epochs': 1, 'first_neuron': 1024, 'hidden_layers': 0, 'label_type': 'Normalized', 'loss_function': 'mean_squared_error', 'lr': 5, 'monitor_value': 'val_custom_mae', 'optimizer': <class 'tensorflow.python.keras.optimizer_v2.adam.Adam'>, 'reduction_metric': 'custom_mae', 'samples': 20000}\n",
      "Using Loss: mean_squared_error \n",
      "and Reduction Metric: [<function custom_mae at 0x0000021D2788ACA8>]\n",
      "Monitor: val_custom_mae\n",
      "Train on 16000 samples, validate on 3968 samples\n",
      "15872/16000 [============================>.] - ETA: 0s - loss: 131.0638 - custom_mae: 2.2567\n",
      "Epoch 00001: val_custom_mae improved from inf to 0.35012, saving model to ..\\fast_output\\SYNTH_Regression_MSE\\2020-05-28_Normalized_Base_Custom-MAE\\Best_Weights_FC_272.hdf5\n",
      "16000/16000 [==============================] - 3s 214us/sample - loss: 130.0179 - custom_mae: 2.2423 - val_loss: 0.1944 - val_custom_mae: 0.3501\n",
      "Time taken: 0:00:05.090485\n"
     ]
    },
    {
     "name": "stderr",
     "output_type": "stream",
     "text": [
      "\r",
      " 76%|████████████████████████████████████████████████████████████▋                   | 273/360 [50:49<15:39, 10.80s/it]"
     ]
    },
    {
     "name": "stdout",
     "output_type": "stream",
     "text": [
      "{'activation': 'relu', 'batch_size': 64, 'dropout': 0.25, 'epochs': 1, 'first_neuron': 1024, 'hidden_layers': 1, 'label_type': 'Normalized', 'loss_function': 'mean_squared_error', 'lr': 1, 'monitor_value': 'val_custom_mae', 'optimizer': <class 'tensorflow.python.keras.optimizer_v2.adam.Adam'>, 'reduction_metric': 'custom_mae', 'samples': 20000}\n",
      "Using Loss: mean_squared_error \n",
      "and Reduction Metric: [<function custom_mae at 0x0000021D2788ACA8>]\n",
      "Monitor: val_custom_mae\n",
      "Train on 16000 samples, validate on 3968 samples\n",
      "15936/16000 [============================>.] - ETA: 0s - loss: 2.7732 - custom_mae: 0.6799\n",
      "Epoch 00001: val_custom_mae improved from inf to 0.26786, saving model to ..\\fast_output\\SYNTH_Regression_MSE\\2020-05-28_Normalized_Base_Custom-MAE\\Best_Weights_FC_273.hdf5\n",
      "16000/16000 [==============================] - 4s 222us/sample - loss: 2.7628 - custom_mae: 0.6783 - val_loss: 0.1344 - val_custom_mae: 0.2679\n",
      "Time taken: 0:00:05.242179\n"
     ]
    },
    {
     "name": "stderr",
     "output_type": "stream",
     "text": [
      "\r",
      " 76%|████████████████████████████████████████████████████████████▉                   | 274/360 [50:56<13:51,  9.67s/it]"
     ]
    },
    {
     "name": "stdout",
     "output_type": "stream",
     "text": [
      "{'activation': 'relu', 'batch_size': 64, 'dropout': 0.25, 'epochs': 1, 'first_neuron': 1024, 'hidden_layers': 1, 'label_type': 'Normalized', 'loss_function': 'mean_squared_error', 'lr': 2, 'monitor_value': 'val_custom_mae', 'optimizer': <class 'tensorflow.python.keras.optimizer_v2.adam.Adam'>, 'reduction_metric': 'custom_mae', 'samples': 20000}\n",
      "Using Loss: mean_squared_error \n",
      "and Reduction Metric: [<function custom_mae at 0x0000021D2788ACA8>]\n",
      "Monitor: val_custom_mae\n",
      "Train on 16000 samples, validate on 3968 samples\n",
      "15680/16000 [============================>.] - ETA: 0s - loss: 14.6068 - custom_mae: 0.9648\n",
      "Epoch 00001: val_custom_mae improved from inf to 0.41797, saving model to ..\\fast_output\\SYNTH_Regression_MSE\\2020-05-28_Normalized_Base_Custom-MAE\\Best_Weights_FC_274.hdf5\n",
      "16000/16000 [==============================] - 4s 225us/sample - loss: 14.3195 - custom_mae: 0.9534 - val_loss: 0.2462 - val_custom_mae: 0.4180\n",
      "Time taken: 0:00:05.255133\n"
     ]
    },
    {
     "name": "stderr",
     "output_type": "stream",
     "text": [
      "\r",
      " 76%|█████████████████████████████████████████████████████████████                   | 275/360 [51:03<12:34,  8.88s/it]"
     ]
    },
    {
     "name": "stdout",
     "output_type": "stream",
     "text": [
      "{'activation': 'relu', 'batch_size': 64, 'dropout': 0.25, 'epochs': 1, 'first_neuron': 1024, 'hidden_layers': 1, 'label_type': 'Normalized', 'loss_function': 'mean_squared_error', 'lr': 5, 'monitor_value': 'val_custom_mae', 'optimizer': <class 'tensorflow.python.keras.optimizer_v2.adam.Adam'>, 'reduction_metric': 'custom_mae', 'samples': 20000}\n",
      "Using Loss: mean_squared_error \n",
      "and Reduction Metric: [<function custom_mae at 0x0000021D2788ACA8>]\n",
      "Monitor: val_custom_mae\n",
      "Train on 16000 samples, validate on 3968 samples\n",
      "15744/16000 [============================>.] - ETA: 0s - loss: 263.5610 - custom_mae: 1.8033\n",
      "Epoch 00001: val_custom_mae improved from inf to 0.41394, saving model to ..\\fast_output\\SYNTH_Regression_MSE\\2020-05-28_Normalized_Base_Custom-MAE\\Best_Weights_FC_275.hdf5\n",
      "16000/16000 [==============================] - 4s 222us/sample - loss: 259.3482 - custom_mae: 1.7813 - val_loss: 0.2432 - val_custom_mae: 0.4139\n",
      "Time taken: 0:00:05.217572\n"
     ]
    },
    {
     "name": "stderr",
     "output_type": "stream",
     "text": [
      "\r",
      " 77%|█████████████████████████████████████████████████████████████▎                  | 276/360 [51:10<11:37,  8.31s/it]"
     ]
    },
    {
     "name": "stdout",
     "output_type": "stream",
     "text": [
      "{'activation': 'relu', 'batch_size': 64, 'dropout': 0.25, 'epochs': 1, 'first_neuron': 1024, 'hidden_layers': 2, 'label_type': 'Normalized', 'loss_function': 'mean_squared_error', 'lr': 1, 'monitor_value': 'val_custom_mae', 'optimizer': <class 'tensorflow.python.keras.optimizer_v2.adam.Adam'>, 'reduction_metric': 'custom_mae', 'samples': 20000}\n",
      "Using Loss: mean_squared_error \n",
      "and Reduction Metric: [<function custom_mae at 0x0000021D2788ACA8>]\n",
      "Monitor: val_custom_mae\n",
      "Train on 16000 samples, validate on 3968 samples\n",
      "15744/16000 [============================>.] - ETA: 0s - loss: 0.7976 - custom_mae: 0.5658\n",
      "Epoch 00001: val_custom_mae improved from inf to 0.31787, saving model to ..\\fast_output\\SYNTH_Regression_MSE\\2020-05-28_Normalized_Base_Custom-MAE\\Best_Weights_FC_276.hdf5\n",
      "16000/16000 [==============================] - 4s 226us/sample - loss: 0.7876 - custom_mae: 0.5619 - val_loss: 0.1679 - val_custom_mae: 0.3179\n",
      "Time taken: 0:00:05.260408\n"
     ]
    },
    {
     "name": "stderr",
     "output_type": "stream",
     "text": [
      "\r",
      " 77%|█████████████████████████████████████████████████████████████▌                  | 277/360 [51:17<10:57,  7.93s/it]"
     ]
    },
    {
     "name": "stdout",
     "output_type": "stream",
     "text": [
      "{'activation': 'relu', 'batch_size': 64, 'dropout': 0.25, 'epochs': 1, 'first_neuron': 1024, 'hidden_layers': 2, 'label_type': 'Normalized', 'loss_function': 'mean_squared_error', 'lr': 2, 'monitor_value': 'val_custom_mae', 'optimizer': <class 'tensorflow.python.keras.optimizer_v2.adam.Adam'>, 'reduction_metric': 'custom_mae', 'samples': 20000}\n",
      "Using Loss: mean_squared_error \n",
      "and Reduction Metric: [<function custom_mae at 0x0000021D2788ACA8>]\n",
      "Monitor: val_custom_mae\n",
      "Train on 16000 samples, validate on 3968 samples\n",
      "15680/16000 [============================>.] - ETA: 0s - loss: 2.7625 - custom_mae: 0.7129\n",
      "Epoch 00001: val_custom_mae improved from inf to 0.48360, saving model to ..\\fast_output\\SYNTH_Regression_MSE\\2020-05-28_Normalized_Base_Custom-MAE\\Best_Weights_FC_277.hdf5\n",
      "16000/16000 [==============================] - 4s 227us/sample - loss: 2.7134 - custom_mae: 0.7082 - val_loss: 0.3133 - val_custom_mae: 0.4836\n",
      "Time taken: 0:00:05.294243\n"
     ]
    },
    {
     "name": "stderr",
     "output_type": "stream",
     "text": [
      "\r",
      " 77%|█████████████████████████████████████████████████████████████▊                  | 278/360 [51:24<10:29,  7.67s/it]"
     ]
    },
    {
     "name": "stdout",
     "output_type": "stream",
     "text": [
      "{'activation': 'relu', 'batch_size': 64, 'dropout': 0.25, 'epochs': 1, 'first_neuron': 1024, 'hidden_layers': 2, 'label_type': 'Normalized', 'loss_function': 'mean_squared_error', 'lr': 5, 'monitor_value': 'val_custom_mae', 'optimizer': <class 'tensorflow.python.keras.optimizer_v2.adam.Adam'>, 'reduction_metric': 'custom_mae', 'samples': 20000}\n",
      "Using Loss: mean_squared_error \n",
      "and Reduction Metric: [<function custom_mae at 0x0000021D2788ACA8>]\n",
      "Monitor: val_custom_mae\n",
      "Train on 16000 samples, validate on 3968 samples\n",
      "15936/16000 [============================>.] - ETA: 0s - loss: 47.7251 - custom_mae: 1.1471\n",
      "Epoch 00001: val_custom_mae improved from inf to 0.48392, saving model to ..\\fast_output\\SYNTH_Regression_MSE\\2020-05-28_Normalized_Base_Custom-MAE\\Best_Weights_FC_278.hdf5\n",
      "16000/16000 [==============================] - 4s 229us/sample - loss: 47.5354 - custom_mae: 1.1444 - val_loss: 0.3134 - val_custom_mae: 0.4839\n",
      "Time taken: 0:00:05.323313\n"
     ]
    },
    {
     "name": "stderr",
     "output_type": "stream",
     "text": [
      "\r",
      " 78%|██████████████████████████████████████████████████████████████                  | 279/360 [51:31<10:07,  7.50s/it]"
     ]
    },
    {
     "name": "stdout",
     "output_type": "stream",
     "text": [
      "{'activation': 'relu', 'batch_size': 64, 'dropout': 0.25, 'epochs': 1, 'first_neuron': 1024, 'hidden_layers': 3, 'label_type': 'Normalized', 'loss_function': 'mean_squared_error', 'lr': 1, 'monitor_value': 'val_custom_mae', 'optimizer': <class 'tensorflow.python.keras.optimizer_v2.adam.Adam'>, 'reduction_metric': 'custom_mae', 'samples': 20000}\n",
      "Using Loss: mean_squared_error \n",
      "and Reduction Metric: [<function custom_mae at 0x0000021D2788ACA8>]\n",
      "Monitor: val_custom_mae\n",
      "Train on 16000 samples, validate on 3968 samples\n",
      "15488/16000 [============================>.] - ETA: 0s - loss: 0.4719 - custom_mae: 0.5023\n",
      "Epoch 00001: val_custom_mae improved from inf to 0.29318, saving model to ..\\fast_output\\SYNTH_Regression_MSE\\2020-05-28_Normalized_Base_Custom-MAE\\Best_Weights_FC_279.hdf5\n",
      "16000/16000 [==============================] - 4s 234us/sample - loss: 0.4630 - custom_mae: 0.4971 - val_loss: 0.1508 - val_custom_mae: 0.2932\n",
      "Time taken: 0:00:05.410089\n"
     ]
    },
    {
     "name": "stderr",
     "output_type": "stream",
     "text": [
      "\r",
      " 78%|██████████████████████████████████████████████████████████████▏                 | 280/360 [51:38<09:53,  7.42s/it]"
     ]
    },
    {
     "name": "stdout",
     "output_type": "stream",
     "text": [
      "{'activation': 'relu', 'batch_size': 64, 'dropout': 0.25, 'epochs': 1, 'first_neuron': 1024, 'hidden_layers': 3, 'label_type': 'Normalized', 'loss_function': 'mean_squared_error', 'lr': 2, 'monitor_value': 'val_custom_mae', 'optimizer': <class 'tensorflow.python.keras.optimizer_v2.adam.Adam'>, 'reduction_metric': 'custom_mae', 'samples': 20000}\n",
      "Using Loss: mean_squared_error \n",
      "and Reduction Metric: [<function custom_mae at 0x0000021D2788ACA8>]\n",
      "Monitor: val_custom_mae\n",
      "Train on 16000 samples, validate on 3968 samples\n",
      "15680/16000 [============================>.] - ETA: 0s - loss: 1.2352 - custom_mae: 0.6261\n",
      "Epoch 00001: val_custom_mae improved from inf to 0.46597, saving model to ..\\fast_output\\SYNTH_Regression_MSE\\2020-05-28_Normalized_Base_Custom-MAE\\Best_Weights_FC_280.hdf5\n",
      "16000/16000 [==============================] - 4s 234us/sample - loss: 1.2165 - custom_mae: 0.6230 - val_loss: 0.2957 - val_custom_mae: 0.4660\n",
      "Time taken: 0:00:05.426527\n"
     ]
    },
    {
     "name": "stderr",
     "output_type": "stream",
     "text": [
      "\r",
      " 78%|██████████████████████████████████████████████████████████████▍                 | 281/360 [51:45<09:42,  7.38s/it]"
     ]
    },
    {
     "name": "stdout",
     "output_type": "stream",
     "text": [
      "{'activation': 'relu', 'batch_size': 64, 'dropout': 0.25, 'epochs': 1, 'first_neuron': 1024, 'hidden_layers': 3, 'label_type': 'Normalized', 'loss_function': 'mean_squared_error', 'lr': 5, 'monitor_value': 'val_custom_mae', 'optimizer': <class 'tensorflow.python.keras.optimizer_v2.adam.Adam'>, 'reduction_metric': 'custom_mae', 'samples': 20000}\n",
      "Using Loss: mean_squared_error \n",
      "and Reduction Metric: [<function custom_mae at 0x0000021D2788ACA8>]\n",
      "Monitor: val_custom_mae\n",
      "Train on 16000 samples, validate on 3968 samples\n",
      "15744/16000 [============================>.] - ETA: 0s - loss: 17.4237 - custom_mae: 0.9512\n",
      "Epoch 00001: val_custom_mae improved from inf to 0.48396, saving model to ..\\fast_output\\SYNTH_Regression_MSE\\2020-05-28_Normalized_Base_Custom-MAE\\Best_Weights_FC_281.hdf5\n",
      "16000/16000 [==============================] - 4s 236us/sample - loss: 17.1500 - custom_mae: 0.9438 - val_loss: 0.3135 - val_custom_mae: 0.4840\n",
      "Time taken: 0:00:05.445401\n"
     ]
    },
    {
     "name": "stderr",
     "output_type": "stream",
     "text": [
      "\r",
      " 78%|██████████████████████████████████████████████████████████████▋                 | 282/360 [51:53<09:32,  7.34s/it]"
     ]
    },
    {
     "name": "stdout",
     "output_type": "stream",
     "text": [
      "{'activation': 'relu', 'batch_size': 64, 'dropout': 0.25, 'epochs': 1, 'first_neuron': 1024, 'hidden_layers': 4, 'label_type': 'Normalized', 'loss_function': 'mean_squared_error', 'lr': 1, 'monitor_value': 'val_custom_mae', 'optimizer': <class 'tensorflow.python.keras.optimizer_v2.adam.Adam'>, 'reduction_metric': 'custom_mae', 'samples': 20000}\n",
      "Using Loss: mean_squared_error \n",
      "and Reduction Metric: [<function custom_mae at 0x0000021D2788ACA8>]\n",
      "Monitor: val_custom_mae\n",
      "Train on 16000 samples, validate on 3968 samples\n",
      "15808/16000 [============================>.] - ETA: 0s - loss: 0.4242 - custom_mae: 0.5230\n",
      "Epoch 00001: val_custom_mae improved from inf to 0.44085, saving model to ..\\fast_output\\SYNTH_Regression_MSE\\2020-05-28_Normalized_Base_Custom-MAE\\Best_Weights_FC_282.hdf5\n",
      "16000/16000 [==============================] - 4s 240us/sample - loss: 0.4226 - custom_mae: 0.5223 - val_loss: 0.2677 - val_custom_mae: 0.4409\n",
      "Time taken: 0:00:05.496071\n"
     ]
    },
    {
     "name": "stderr",
     "output_type": "stream",
     "text": [
      "\r",
      " 79%|██████████████████████████████████████████████████████████████▉                 | 283/360 [52:00<09:25,  7.34s/it]"
     ]
    },
    {
     "name": "stdout",
     "output_type": "stream",
     "text": [
      "{'activation': 'relu', 'batch_size': 64, 'dropout': 0.25, 'epochs': 1, 'first_neuron': 1024, 'hidden_layers': 4, 'label_type': 'Normalized', 'loss_function': 'mean_squared_error', 'lr': 2, 'monitor_value': 'val_custom_mae', 'optimizer': <class 'tensorflow.python.keras.optimizer_v2.adam.Adam'>, 'reduction_metric': 'custom_mae', 'samples': 20000}\n",
      "Using Loss: mean_squared_error \n",
      "and Reduction Metric: [<function custom_mae at 0x0000021D2788ACA8>]\n",
      "Monitor: val_custom_mae\n",
      "Train on 16000 samples, validate on 3968 samples\n",
      "15744/16000 [============================>.] - ETA: 0s - loss: 0.8211 - custom_mae: 0.5880\n",
      "Epoch 00001: val_custom_mae improved from inf to 0.48372, saving model to ..\\fast_output\\SYNTH_Regression_MSE\\2020-05-28_Normalized_Base_Custom-MAE\\Best_Weights_FC_283.hdf5\n",
      "16000/16000 [==============================] - 4s 241us/sample - loss: 0.8130 - custom_mae: 0.5863 - val_loss: 0.3133 - val_custom_mae: 0.4837\n",
      "Time taken: 0:00:05.540182\n"
     ]
    },
    {
     "name": "stderr",
     "output_type": "stream",
     "text": [
      "\r",
      " 79%|███████████████████████████████████████████████████████████████                 | 284/360 [52:07<09:19,  7.36s/it]"
     ]
    },
    {
     "name": "stdout",
     "output_type": "stream",
     "text": [
      "{'activation': 'relu', 'batch_size': 64, 'dropout': 0.25, 'epochs': 1, 'first_neuron': 1024, 'hidden_layers': 4, 'label_type': 'Normalized', 'loss_function': 'mean_squared_error', 'lr': 5, 'monitor_value': 'val_custom_mae', 'optimizer': <class 'tensorflow.python.keras.optimizer_v2.adam.Adam'>, 'reduction_metric': 'custom_mae', 'samples': 20000}\n",
      "Using Loss: mean_squared_error \n",
      "and Reduction Metric: [<function custom_mae at 0x0000021D2788ACA8>]\n",
      "Monitor: val_custom_mae\n",
      "Train on 16000 samples, validate on 3968 samples\n",
      "15744/16000 [============================>.] - ETA: 0s - loss: 11.2602 - custom_mae: 0.8249\n",
      "Epoch 00001: val_custom_mae improved from inf to 0.48416, saving model to ..\\fast_output\\SYNTH_Regression_MSE\\2020-05-28_Normalized_Base_Custom-MAE\\Best_Weights_FC_284.hdf5\n",
      "16000/16000 [==============================] - 4s 242us/sample - loss: 11.0850 - custom_mae: 0.8194 - val_loss: 0.3134 - val_custom_mae: 0.4842\n",
      "Time taken: 0:00:05.567478\n"
     ]
    },
    {
     "name": "stderr",
     "output_type": "stream",
     "text": [
      "\r",
      " 79%|███████████████████████████████████████████████████████████████▎                | 285/360 [52:15<09:13,  7.38s/it]"
     ]
    },
    {
     "name": "stdout",
     "output_type": "stream",
     "text": [
      "{'activation': 'relu', 'batch_size': 64, 'dropout': 0.25, 'epochs': 1, 'first_neuron': 2048, 'hidden_layers': 0, 'label_type': 'Normalized', 'loss_function': 'mean_squared_error', 'lr': 1, 'monitor_value': 'val_custom_mae', 'optimizer': <class 'tensorflow.python.keras.optimizer_v2.adam.Adam'>, 'reduction_metric': 'custom_mae', 'samples': 20000}\n",
      "Using Loss: mean_squared_error \n",
      "and Reduction Metric: [<function custom_mae at 0x0000021D2788ACA8>]\n",
      "Monitor: val_custom_mae\n",
      "Train on 16000 samples, validate on 3968 samples\n",
      "15808/16000 [============================>.] - ETA: 0s - loss: 10.6941 - custom_mae: 1.0013\n",
      "Epoch 00001: val_custom_mae improved from inf to 0.24233, saving model to ..\\fast_output\\SYNTH_Regression_MSE\\2020-05-28_Normalized_Base_Custom-MAE\\Best_Weights_FC_285.hdf5\n",
      "16000/16000 [==============================] - 5s 333us/sample - loss: 10.5674 - custom_mae: 0.9925 - val_loss: 0.1177 - val_custom_mae: 0.2423\n",
      "Time taken: 0:00:06.980899\n"
     ]
    },
    {
     "name": "stderr",
     "output_type": "stream",
     "text": [
      "\r",
      " 79%|███████████████████████████████████████████████████████████████▌                | 286/360 [52:24<09:36,  7.80s/it]"
     ]
    },
    {
     "name": "stdout",
     "output_type": "stream",
     "text": [
      "{'activation': 'relu', 'batch_size': 64, 'dropout': 0.25, 'epochs': 1, 'first_neuron': 2048, 'hidden_layers': 0, 'label_type': 'Normalized', 'loss_function': 'mean_squared_error', 'lr': 2, 'monitor_value': 'val_custom_mae', 'optimizer': <class 'tensorflow.python.keras.optimizer_v2.adam.Adam'>, 'reduction_metric': 'custom_mae', 'samples': 20000}\n",
      "Using Loss: mean_squared_error \n",
      "and Reduction Metric: [<function custom_mae at 0x0000021D2788ACA8>]\n",
      "Monitor: val_custom_mae\n",
      "Train on 16000 samples, validate on 3968 samples\n",
      "15808/16000 [============================>.] - ETA: 0s - loss: 38.9401 - custom_mae: 1.6587\n",
      "Epoch 00001: val_custom_mae improved from inf to 0.26043, saving model to ..\\fast_output\\SYNTH_Regression_MSE\\2020-05-28_Normalized_Base_Custom-MAE\\Best_Weights_FC_286.hdf5\n",
      "16000/16000 [==============================] - 5s 333us/sample - loss: 38.4752 - custom_mae: 1.6429 - val_loss: 0.1295 - val_custom_mae: 0.2604\n",
      "Time taken: 0:00:06.985026\n"
     ]
    },
    {
     "name": "stderr",
     "output_type": "stream",
     "text": [
      "\r",
      " 80%|███████████████████████████████████████████████████████████████▊                | 287/360 [52:32<09:49,  8.08s/it]"
     ]
    },
    {
     "name": "stdout",
     "output_type": "stream",
     "text": [
      "{'activation': 'relu', 'batch_size': 64, 'dropout': 0.25, 'epochs': 1, 'first_neuron': 2048, 'hidden_layers': 0, 'label_type': 'Normalized', 'loss_function': 'mean_squared_error', 'lr': 5, 'monitor_value': 'val_custom_mae', 'optimizer': <class 'tensorflow.python.keras.optimizer_v2.adam.Adam'>, 'reduction_metric': 'custom_mae', 'samples': 20000}\n",
      "Using Loss: mean_squared_error \n",
      "and Reduction Metric: [<function custom_mae at 0x0000021D2788ACA8>]\n",
      "Monitor: val_custom_mae\n",
      "Train on 16000 samples, validate on 3968 samples\n",
      "15616/16000 [============================>.] - ETA: 0s - loss: 270.6236 - custom_mae: 3.6215\n",
      "Epoch 00001: val_custom_mae improved from inf to 0.33987, saving model to ..\\fast_output\\SYNTH_Regression_MSE\\2020-05-28_Normalized_Base_Custom-MAE\\Best_Weights_FC_287.hdf5\n",
      "16000/16000 [==============================] - 5s 331us/sample - loss: 264.1412 - custom_mae: 3.5482 - val_loss: 0.1881 - val_custom_mae: 0.3399\n",
      "Time taken: 0:00:06.969855\n"
     ]
    },
    {
     "name": "stderr",
     "output_type": "stream",
     "text": [
      "\r",
      " 80%|████████████████████████████████████████████████████████████████                | 288/360 [52:41<09:55,  8.27s/it]"
     ]
    },
    {
     "name": "stdout",
     "output_type": "stream",
     "text": [
      "{'activation': 'relu', 'batch_size': 64, 'dropout': 0.25, 'epochs': 1, 'first_neuron': 2048, 'hidden_layers': 1, 'label_type': 'Normalized', 'loss_function': 'mean_squared_error', 'lr': 1, 'monitor_value': 'val_custom_mae', 'optimizer': <class 'tensorflow.python.keras.optimizer_v2.adam.Adam'>, 'reduction_metric': 'custom_mae', 'samples': 20000}\n",
      "Using Loss: mean_squared_error \n",
      "and Reduction Metric: [<function custom_mae at 0x0000021D2788ACA8>]\n",
      "Monitor: val_custom_mae\n",
      "Train on 16000 samples, validate on 3968 samples\n",
      "15808/16000 [============================>.] - ETA: 0s - loss: 9.5102 - custom_mae: 0.7966\n",
      "Epoch 00001: val_custom_mae improved from inf to 0.31913, saving model to ..\\fast_output\\SYNTH_Regression_MSE\\2020-05-28_Normalized_Base_Custom-MAE\\Best_Weights_FC_288.hdf5\n",
      "16000/16000 [==============================] - 5s 344us/sample - loss: 9.3983 - custom_mae: 0.7909 - val_loss: 0.1653 - val_custom_mae: 0.3191\n",
      "Time taken: 0:00:07.159356\n"
     ]
    },
    {
     "name": "stderr",
     "output_type": "stream",
     "text": [
      "\r",
      " 80%|████████████████████████████████████████████████████████████████▏               | 289/360 [52:50<10:01,  8.47s/it]"
     ]
    },
    {
     "name": "stdout",
     "output_type": "stream",
     "text": [
      "{'activation': 'relu', 'batch_size': 64, 'dropout': 0.25, 'epochs': 1, 'first_neuron': 2048, 'hidden_layers': 1, 'label_type': 'Normalized', 'loss_function': 'mean_squared_error', 'lr': 2, 'monitor_value': 'val_custom_mae', 'optimizer': <class 'tensorflow.python.keras.optimizer_v2.adam.Adam'>, 'reduction_metric': 'custom_mae', 'samples': 20000}\n",
      "Using Loss: mean_squared_error \n",
      "and Reduction Metric: [<function custom_mae at 0x0000021D2788ACA8>]\n",
      "Monitor: val_custom_mae\n",
      "Train on 16000 samples, validate on 3968 samples\n",
      "15744/16000 [============================>.] - ETA: 0s - loss: 74.6862 - custom_mae: 1.2164\n",
      "Epoch 00001: val_custom_mae improved from inf to 0.32474, saving model to ..\\fast_output\\SYNTH_Regression_MSE\\2020-05-28_Normalized_Base_Custom-MAE\\Best_Weights_FC_289.hdf5\n",
      "16000/16000 [==============================] - 6s 344us/sample - loss: 73.4942 - custom_mae: 1.2024 - val_loss: 0.1680 - val_custom_mae: 0.3247\n",
      "Time taken: 0:00:07.171372\n"
     ]
    },
    {
     "name": "stderr",
     "output_type": "stream",
     "text": [
      "\r",
      " 81%|████████████████████████████████████████████████████████████████▍               | 290/360 [52:59<10:03,  8.63s/it]"
     ]
    },
    {
     "name": "stdout",
     "output_type": "stream",
     "text": [
      "{'activation': 'relu', 'batch_size': 64, 'dropout': 0.25, 'epochs': 1, 'first_neuron': 2048, 'hidden_layers': 1, 'label_type': 'Normalized', 'loss_function': 'mean_squared_error', 'lr': 5, 'monitor_value': 'val_custom_mae', 'optimizer': <class 'tensorflow.python.keras.optimizer_v2.adam.Adam'>, 'reduction_metric': 'custom_mae', 'samples': 20000}\n",
      "Using Loss: mean_squared_error \n",
      "and Reduction Metric: [<function custom_mae at 0x0000021D2788ACA8>]\n",
      "Monitor: val_custom_mae\n",
      "Train on 16000 samples, validate on 3968 samples\n",
      "15808/16000 [============================>.] - ETA: 0s - loss: 2120.4392 - custom_mae: 3.8734\n",
      "Epoch 00001: val_custom_mae improved from inf to 0.39308, saving model to ..\\fast_output\\SYNTH_Regression_MSE\\2020-05-28_Normalized_Base_Custom-MAE\\Best_Weights_FC_290.hdf5\n",
      "16000/16000 [==============================] - 5s 342us/sample - loss: 2094.9971 - custom_mae: 3.8322 - val_loss: 0.2254 - val_custom_mae: 0.3931\n",
      "Time taken: 0:00:07.139751\n"
     ]
    },
    {
     "name": "stderr",
     "output_type": "stream",
     "text": [
      "\r",
      " 81%|████████████████████████████████████████████████████████████████▋               | 291/360 [53:08<10:01,  8.71s/it]"
     ]
    },
    {
     "name": "stdout",
     "output_type": "stream",
     "text": [
      "{'activation': 'relu', 'batch_size': 64, 'dropout': 0.25, 'epochs': 1, 'first_neuron': 2048, 'hidden_layers': 2, 'label_type': 'Normalized', 'loss_function': 'mean_squared_error', 'lr': 1, 'monitor_value': 'val_custom_mae', 'optimizer': <class 'tensorflow.python.keras.optimizer_v2.adam.Adam'>, 'reduction_metric': 'custom_mae', 'samples': 20000}\n",
      "Using Loss: mean_squared_error \n",
      "and Reduction Metric: [<function custom_mae at 0x0000021D2788ACA8>]\n",
      "Monitor: val_custom_mae\n",
      "Train on 16000 samples, validate on 3968 samples\n",
      "15744/16000 [============================>.] - ETA: 0s - loss: 4.1844 - custom_mae: 0.6646\n",
      "Epoch 00001: val_custom_mae improved from inf to 0.31640, saving model to ..\\fast_output\\SYNTH_Regression_MSE\\2020-05-28_Normalized_Base_Custom-MAE\\Best_Weights_FC_291.hdf5\n",
      "16000/16000 [==============================] - 6s 352us/sample - loss: 4.1208 - custom_mae: 0.6598 - val_loss: 0.1695 - val_custom_mae: 0.3164\n",
      "Time taken: 0:00:07.297250\n"
     ]
    },
    {
     "name": "stderr",
     "output_type": "stream",
     "text": [
      "\r",
      " 81%|████████████████████████████████████████████████████████████████▉               | 292/360 [53:17<10:00,  8.83s/it]"
     ]
    },
    {
     "name": "stdout",
     "output_type": "stream",
     "text": [
      "{'activation': 'relu', 'batch_size': 64, 'dropout': 0.25, 'epochs': 1, 'first_neuron': 2048, 'hidden_layers': 2, 'label_type': 'Normalized', 'loss_function': 'mean_squared_error', 'lr': 2, 'monitor_value': 'val_custom_mae', 'optimizer': <class 'tensorflow.python.keras.optimizer_v2.adam.Adam'>, 'reduction_metric': 'custom_mae', 'samples': 20000}\n",
      "Using Loss: mean_squared_error \n",
      "and Reduction Metric: [<function custom_mae at 0x0000021D2788ACA8>]\n",
      "Monitor: val_custom_mae\n",
      "Train on 16000 samples, validate on 3968 samples\n",
      "15680/16000 [============================>.] - ETA: 0s - loss: 50.9664 - custom_mae: 1.0222\n",
      "Epoch 00001: val_custom_mae improved from inf to 0.48373, saving model to ..\\fast_output\\SYNTH_Regression_MSE\\2020-05-28_Normalized_Base_Custom-MAE\\Best_Weights_FC_292.hdf5\n",
      "16000/16000 [==============================] - 6s 348us/sample - loss: 49.9532 - custom_mae: 1.0113 - val_loss: 0.3133 - val_custom_mae: 0.4837\n",
      "Time taken: 0:00:07.225732\n"
     ]
    },
    {
     "name": "stderr",
     "output_type": "stream",
     "text": [
      "\r",
      " 81%|█████████████████████████████████████████████████████████████████               | 293/360 [53:26<09:55,  8.88s/it]"
     ]
    },
    {
     "name": "stdout",
     "output_type": "stream",
     "text": [
      "{'activation': 'relu', 'batch_size': 64, 'dropout': 0.25, 'epochs': 1, 'first_neuron': 2048, 'hidden_layers': 2, 'label_type': 'Normalized', 'loss_function': 'mean_squared_error', 'lr': 5, 'monitor_value': 'val_custom_mae', 'optimizer': <class 'tensorflow.python.keras.optimizer_v2.adam.Adam'>, 'reduction_metric': 'custom_mae', 'samples': 20000}\n",
      "Using Loss: mean_squared_error \n",
      "and Reduction Metric: [<function custom_mae at 0x0000021D2788ACA8>]\n",
      "Monitor: val_custom_mae\n",
      "Train on 16000 samples, validate on 3968 samples\n",
      "15808/16000 [============================>.] - ETA: 0s - loss: 4017.2405 - custom_mae: 4.4185\n",
      "Epoch 00001: val_custom_mae improved from inf to 0.48417, saving model to ..\\fast_output\\SYNTH_Regression_MSE\\2020-05-28_Normalized_Base_Custom-MAE\\Best_Weights_FC_293.hdf5\n",
      "16000/16000 [==============================] - 6s 352us/sample - loss: 3969.0372 - custom_mae: 4.3712 - val_loss: 0.3137 - val_custom_mae: 0.4842\n",
      "Time taken: 0:00:07.297656\n"
     ]
    },
    {
     "name": "stderr",
     "output_type": "stream",
     "text": [
      "\r",
      " 82%|█████████████████████████████████████████████████████████████████▎              | 294/360 [53:35<09:50,  8.95s/it]"
     ]
    },
    {
     "name": "stdout",
     "output_type": "stream",
     "text": [
      "{'activation': 'relu', 'batch_size': 64, 'dropout': 0.25, 'epochs': 1, 'first_neuron': 2048, 'hidden_layers': 3, 'label_type': 'Normalized', 'loss_function': 'mean_squared_error', 'lr': 1, 'monitor_value': 'val_custom_mae', 'optimizer': <class 'tensorflow.python.keras.optimizer_v2.adam.Adam'>, 'reduction_metric': 'custom_mae', 'samples': 20000}\n",
      "Using Loss: mean_squared_error \n",
      "and Reduction Metric: [<function custom_mae at 0x0000021D2788ACA8>]\n",
      "Monitor: val_custom_mae\n",
      "Train on 16000 samples, validate on 3968 samples\n",
      "15808/16000 [============================>.] - ETA: 0s - loss: 0.9677 - custom_mae: 0.5880\n",
      "Epoch 00001: val_custom_mae improved from inf to 0.35836, saving model to ..\\fast_output\\SYNTH_Regression_MSE\\2020-05-28_Normalized_Base_Custom-MAE\\Best_Weights_FC_294.hdf5\n",
      "16000/16000 [==============================] - 6s 358us/sample - loss: 0.9588 - custom_mae: 0.5857 - val_loss: 0.2011 - val_custom_mae: 0.3584\n",
      "Time taken: 0:00:07.411751\n"
     ]
    },
    {
     "name": "stderr",
     "output_type": "stream",
     "text": [
      "\r",
      " 82%|█████████████████████████████████████████████████████████████████▌              | 295/360 [53:44<09:47,  9.04s/it]"
     ]
    },
    {
     "name": "stdout",
     "output_type": "stream",
     "text": [
      "{'activation': 'relu', 'batch_size': 64, 'dropout': 0.25, 'epochs': 1, 'first_neuron': 2048, 'hidden_layers': 3, 'label_type': 'Normalized', 'loss_function': 'mean_squared_error', 'lr': 2, 'monitor_value': 'val_custom_mae', 'optimizer': <class 'tensorflow.python.keras.optimizer_v2.adam.Adam'>, 'reduction_metric': 'custom_mae', 'samples': 20000}\n",
      "Using Loss: mean_squared_error \n",
      "and Reduction Metric: [<function custom_mae at 0x0000021D2788ACA8>]\n",
      "Monitor: val_custom_mae\n",
      "Train on 16000 samples, validate on 3968 samples\n",
      "15808/16000 [============================>.] - ETA: 0s - loss: 6.9241 - custom_mae: 0.8011\n",
      "Epoch 00001: val_custom_mae improved from inf to 0.48137, saving model to ..\\fast_output\\SYNTH_Regression_MSE\\2020-05-28_Normalized_Base_Custom-MAE\\Best_Weights_FC_295.hdf5\n",
      "16000/16000 [==============================] - 6s 352us/sample - loss: 6.8450 - custom_mae: 0.7974 - val_loss: 0.3110 - val_custom_mae: 0.4814\n",
      "Time taken: 0:00:07.299782\n"
     ]
    },
    {
     "name": "stderr",
     "output_type": "stream",
     "text": [
      "\r",
      " 82%|█████████████████████████████████████████████████████████████████▊              | 296/360 [53:54<09:40,  9.06s/it]"
     ]
    },
    {
     "name": "stdout",
     "output_type": "stream",
     "text": [
      "{'activation': 'relu', 'batch_size': 64, 'dropout': 0.25, 'epochs': 1, 'first_neuron': 2048, 'hidden_layers': 3, 'label_type': 'Normalized', 'loss_function': 'mean_squared_error', 'lr': 5, 'monitor_value': 'val_custom_mae', 'optimizer': <class 'tensorflow.python.keras.optimizer_v2.adam.Adam'>, 'reduction_metric': 'custom_mae', 'samples': 20000}\n",
      "Using Loss: mean_squared_error \n",
      "and Reduction Metric: [<function custom_mae at 0x0000021D2788ACA8>]\n",
      "Monitor: val_custom_mae\n",
      "Train on 16000 samples, validate on 3968 samples\n",
      "15744/16000 [============================>.] - ETA: 0s - loss: 534.7924 - custom_mae: 2.1946\n",
      "Epoch 00001: val_custom_mae improved from inf to 0.48411, saving model to ..\\fast_output\\SYNTH_Regression_MSE\\2020-05-28_Normalized_Base_Custom-MAE\\Best_Weights_FC_296.hdf5\n",
      "16000/16000 [==============================] - 6s 353us/sample - loss: 526.2406 - custom_mae: 2.1672 - val_loss: 0.3136 - val_custom_mae: 0.4841\n",
      "Time taken: 0:00:07.292564\n"
     ]
    },
    {
     "name": "stderr",
     "output_type": "stream",
     "text": [
      "\r",
      " 82%|██████████████████████████████████████████████████████████████████              | 297/360 [54:03<09:32,  9.08s/it]"
     ]
    },
    {
     "name": "stdout",
     "output_type": "stream",
     "text": [
      "{'activation': 'relu', 'batch_size': 64, 'dropout': 0.25, 'epochs': 1, 'first_neuron': 2048, 'hidden_layers': 4, 'label_type': 'Normalized', 'loss_function': 'mean_squared_error', 'lr': 1, 'monitor_value': 'val_custom_mae', 'optimizer': <class 'tensorflow.python.keras.optimizer_v2.adam.Adam'>, 'reduction_metric': 'custom_mae', 'samples': 20000}\n",
      "Using Loss: mean_squared_error \n",
      "and Reduction Metric: [<function custom_mae at 0x0000021D2788ACA8>]\n",
      "Monitor: val_custom_mae\n",
      "Train on 16000 samples, validate on 3968 samples\n",
      "15616/16000 [============================>.] - ETA: 0s - loss: 0.5042 - custom_mae: 0.5268\n",
      "Epoch 00001: val_custom_mae improved from inf to 0.34754, saving model to ..\\fast_output\\SYNTH_Regression_MSE\\2020-05-28_Normalized_Base_Custom-MAE\\Best_Weights_FC_297.hdf5\n",
      "16000/16000 [==============================] - 6s 361us/sample - loss: 0.4976 - custom_mae: 0.5234 - val_loss: 0.1940 - val_custom_mae: 0.3475\n",
      "Time taken: 0:00:07.446723\n"
     ]
    },
    {
     "name": "stderr",
     "output_type": "stream",
     "text": [
      "\r",
      " 83%|██████████████████████████████████████████████████████████████████▏             | 298/360 [54:12<09:27,  9.16s/it]"
     ]
    },
    {
     "name": "stdout",
     "output_type": "stream",
     "text": [
      "{'activation': 'relu', 'batch_size': 64, 'dropout': 0.25, 'epochs': 1, 'first_neuron': 2048, 'hidden_layers': 4, 'label_type': 'Normalized', 'loss_function': 'mean_squared_error', 'lr': 2, 'monitor_value': 'val_custom_mae', 'optimizer': <class 'tensorflow.python.keras.optimizer_v2.adam.Adam'>, 'reduction_metric': 'custom_mae', 'samples': 20000}\n",
      "Using Loss: mean_squared_error \n",
      "and Reduction Metric: [<function custom_mae at 0x0000021D2788ACA8>]\n",
      "Monitor: val_custom_mae\n",
      "Train on 16000 samples, validate on 3968 samples\n",
      "15680/16000 [============================>.] - ETA: 0s - loss: 1.6037 - custom_mae: 0.6295\n",
      "Epoch 00001: val_custom_mae improved from inf to 0.47970, saving model to ..\\fast_output\\SYNTH_Regression_MSE\\2020-05-28_Normalized_Base_Custom-MAE\\Best_Weights_FC_298.hdf5\n",
      "16000/16000 [==============================] - 6s 365us/sample - loss: 1.5777 - custom_mae: 0.6264 - val_loss: 0.3085 - val_custom_mae: 0.4797\n",
      "Time taken: 0:00:07.508889\n"
     ]
    },
    {
     "name": "stderr",
     "output_type": "stream",
     "text": [
      "\r",
      " 83%|██████████████████████████████████████████████████████████████████▍             | 299/360 [54:21<09:22,  9.22s/it]"
     ]
    },
    {
     "name": "stdout",
     "output_type": "stream",
     "text": [
      "{'activation': 'relu', 'batch_size': 64, 'dropout': 0.25, 'epochs': 1, 'first_neuron': 2048, 'hidden_layers': 4, 'label_type': 'Normalized', 'loss_function': 'mean_squared_error', 'lr': 5, 'monitor_value': 'val_custom_mae', 'optimizer': <class 'tensorflow.python.keras.optimizer_v2.adam.Adam'>, 'reduction_metric': 'custom_mae', 'samples': 20000}\n",
      "Using Loss: mean_squared_error \n",
      "and Reduction Metric: [<function custom_mae at 0x0000021D2788ACA8>]\n",
      "Monitor: val_custom_mae\n",
      "Train on 16000 samples, validate on 3968 samples\n",
      "15744/16000 [============================>.] - ETA: 0s - loss: 80.1679 - custom_mae: 1.1427\n",
      "Epoch 00001: val_custom_mae improved from inf to 0.48374, saving model to ..\\fast_output\\SYNTH_Regression_MSE\\2020-05-28_Normalized_Base_Custom-MAE\\Best_Weights_FC_299.hdf5\n",
      "16000/16000 [==============================] - 6s 359us/sample - loss: 78.8902 - custom_mae: 1.1322 - val_loss: 0.3137 - val_custom_mae: 0.4837\n",
      "Time taken: 0:00:07.412781\n"
     ]
    },
    {
     "name": "stderr",
     "output_type": "stream",
     "text": [
      "\r",
      " 83%|██████████████████████████████████████████████████████████████████▋             | 300/360 [54:31<09:13,  9.23s/it]"
     ]
    },
    {
     "name": "stdout",
     "output_type": "stream",
     "text": [
      "{'activation': 'relu', 'batch_size': 64, 'dropout': 0.25, 'epochs': 1, 'first_neuron': 4096, 'hidden_layers': 0, 'label_type': 'Normalized', 'loss_function': 'mean_squared_error', 'lr': 1, 'monitor_value': 'val_custom_mae', 'optimizer': <class 'tensorflow.python.keras.optimizer_v2.adam.Adam'>, 'reduction_metric': 'custom_mae', 'samples': 20000}\n",
      "Using Loss: mean_squared_error \n",
      "and Reduction Metric: [<function custom_mae at 0x0000021D2788ACA8>]\n",
      "Monitor: val_custom_mae\n",
      "Train on 16000 samples, validate on 3968 samples\n",
      "15936/16000 [============================>.] - ETA: 0s - loss: 22.3636 - custom_mae: 0.9564\n",
      "Epoch 00001: val_custom_mae improved from inf to 0.23833, saving model to ..\\fast_output\\SYNTH_Regression_MSE\\2020-05-28_Normalized_Base_Custom-MAE\\Best_Weights_FC_300.hdf5\n",
      "16000/16000 [==============================] - 9s 569us/sample - loss: 22.2747 - custom_mae: 0.9535 - val_loss: 0.1129 - val_custom_mae: 0.2383\n",
      "Time taken: 0:00:10.776062\n"
     ]
    },
    {
     "name": "stderr",
     "output_type": "stream",
     "text": [
      "\r",
      " 84%|██████████████████████████████████████████████████████████████████▉             | 301/360 [54:43<10:03, 10.23s/it]"
     ]
    },
    {
     "name": "stdout",
     "output_type": "stream",
     "text": [
      "{'activation': 'relu', 'batch_size': 64, 'dropout': 0.25, 'epochs': 1, 'first_neuron': 4096, 'hidden_layers': 0, 'label_type': 'Normalized', 'loss_function': 'mean_squared_error', 'lr': 2, 'monitor_value': 'val_custom_mae', 'optimizer': <class 'tensorflow.python.keras.optimizer_v2.adam.Adam'>, 'reduction_metric': 'custom_mae', 'samples': 20000}\n",
      "Using Loss: mean_squared_error \n",
      "and Reduction Metric: [<function custom_mae at 0x0000021D2788ACA8>]\n",
      "Monitor: val_custom_mae\n",
      "Train on 16000 samples, validate on 3968 samples\n",
      "15936/16000 [============================>.] - ETA: 0s - loss: 87.2610 - custom_mae: 1.5195\n",
      "Epoch 00001: val_custom_mae improved from inf to 0.24908, saving model to ..\\fast_output\\SYNTH_Regression_MSE\\2020-05-28_Normalized_Base_Custom-MAE\\Best_Weights_FC_301.hdf5\n",
      "16000/16000 [==============================] - 11s 697us/sample - loss: 86.9126 - custom_mae: 1.5145 - val_loss: 0.1202 - val_custom_mae: 0.2491\n",
      "Time taken: 0:00:12.811295\n"
     ]
    },
    {
     "name": "stderr",
     "output_type": "stream",
     "text": [
      "\r",
      " 84%|███████████████████████████████████████████████████████████████████             | 302/360 [54:58<11:08, 11.53s/it]"
     ]
    },
    {
     "name": "stdout",
     "output_type": "stream",
     "text": [
      "{'activation': 'relu', 'batch_size': 64, 'dropout': 0.25, 'epochs': 1, 'first_neuron': 4096, 'hidden_layers': 0, 'label_type': 'Normalized', 'loss_function': 'mean_squared_error', 'lr': 5, 'monitor_value': 'val_custom_mae', 'optimizer': <class 'tensorflow.python.keras.optimizer_v2.adam.Adam'>, 'reduction_metric': 'custom_mae', 'samples': 20000}\n",
      "Using Loss: mean_squared_error \n",
      "and Reduction Metric: [<function custom_mae at 0x0000021D2788ACA8>]\n",
      "Monitor: val_custom_mae\n",
      "Train on 16000 samples, validate on 3968 samples\n",
      "15936/16000 [============================>.] - ETA: 0s - loss: 667.9911 - custom_mae: 3.3665\n",
      "Epoch 00001: val_custom_mae improved from inf to 0.28484, saving model to ..\\fast_output\\SYNTH_Regression_MSE\\2020-05-28_Normalized_Base_Custom-MAE\\Best_Weights_FC_302.hdf5\n",
      "16000/16000 [==============================] - 9s 575us/sample - loss: 665.3201 - custom_mae: 3.3545 - val_loss: 0.1456 - val_custom_mae: 0.2848\n",
      "Time taken: 0:00:10.859563\n"
     ]
    },
    {
     "name": "stderr",
     "output_type": "stream",
     "text": [
      "\r",
      " 84%|███████████████████████████████████████████████████████████████████▎            | 303/360 [55:10<11:15, 11.86s/it]"
     ]
    },
    {
     "name": "stdout",
     "output_type": "stream",
     "text": [
      "{'activation': 'relu', 'batch_size': 64, 'dropout': 0.25, 'epochs': 1, 'first_neuron': 4096, 'hidden_layers': 1, 'label_type': 'Normalized', 'loss_function': 'mean_squared_error', 'lr': 1, 'monitor_value': 'val_custom_mae', 'optimizer': <class 'tensorflow.python.keras.optimizer_v2.adam.Adam'>, 'reduction_metric': 'custom_mae', 'samples': 20000}\n",
      "Using Loss: mean_squared_error \n",
      "and Reduction Metric: [<function custom_mae at 0x0000021D2788ACA8>]\n",
      "Monitor: val_custom_mae\n",
      "Train on 16000 samples, validate on 3968 samples\n",
      "15936/16000 [============================>.] - ETA: 0s - loss: 43.3463 - custom_mae: 0.8610\n",
      "Epoch 00001: val_custom_mae improved from inf to 0.30239, saving model to ..\\fast_output\\SYNTH_Regression_MSE\\2020-05-28_Normalized_Base_Custom-MAE\\Best_Weights_FC_303.hdf5\n",
      "16000/16000 [==============================] - 10s 605us/sample - loss: 43.1735 - custom_mae: 0.8588 - val_loss: 0.1566 - val_custom_mae: 0.3024\n",
      "Time taken: 0:00:11.350628\n"
     ]
    },
    {
     "name": "stderr",
     "output_type": "stream",
     "text": [
      "\r",
      " 84%|███████████████████████████████████████████████████████████████████▌            | 304/360 [55:23<11:25, 12.25s/it]"
     ]
    },
    {
     "name": "stdout",
     "output_type": "stream",
     "text": [
      "{'activation': 'relu', 'batch_size': 64, 'dropout': 0.25, 'epochs': 1, 'first_neuron': 4096, 'hidden_layers': 1, 'label_type': 'Normalized', 'loss_function': 'mean_squared_error', 'lr': 2, 'monitor_value': 'val_custom_mae', 'optimizer': <class 'tensorflow.python.keras.optimizer_v2.adam.Adam'>, 'reduction_metric': 'custom_mae', 'samples': 20000}\n",
      "Using Loss: mean_squared_error \n",
      "and Reduction Metric: [<function custom_mae at 0x0000021D2788ACA8>]\n",
      "Monitor: val_custom_mae\n",
      "Train on 16000 samples, validate on 3968 samples\n",
      "15936/16000 [============================>.] - ETA: 0s - loss: 465.3530 - custom_mae: 1.7217\n",
      "Epoch 00001: val_custom_mae improved from inf to 0.24640, saving model to ..\\fast_output\\SYNTH_Regression_MSE\\2020-05-28_Normalized_Base_Custom-MAE\\Best_Weights_FC_304.hdf5\n",
      "16000/16000 [==============================] - 10s 602us/sample - loss: 463.4922 - custom_mae: 1.7161 - val_loss: 0.1201 - val_custom_mae: 0.2464\n",
      "Time taken: 0:00:11.320662\n"
     ]
    },
    {
     "name": "stderr",
     "output_type": "stream",
     "text": [
      "\r",
      " 85%|███████████████████████████████████████████████████████████████████▊            | 305/360 [55:37<11:27, 12.51s/it]"
     ]
    },
    {
     "name": "stdout",
     "output_type": "stream",
     "text": [
      "{'activation': 'relu', 'batch_size': 64, 'dropout': 0.25, 'epochs': 1, 'first_neuron': 4096, 'hidden_layers': 1, 'label_type': 'Normalized', 'loss_function': 'mean_squared_error', 'lr': 5, 'monitor_value': 'val_custom_mae', 'optimizer': <class 'tensorflow.python.keras.optimizer_v2.adam.Adam'>, 'reduction_metric': 'custom_mae', 'samples': 20000}\n",
      "Using Loss: mean_squared_error \n",
      "and Reduction Metric: [<function custom_mae at 0x0000021D2788ACA8>]\n",
      "Monitor: val_custom_mae\n",
      "Train on 16000 samples, validate on 3968 samples\n",
      "15936/16000 [============================>.] - ETA: 0s - loss: 16419.2770 - custom_mae: 7.8972\n",
      "Epoch 00001: val_custom_mae improved from inf to 0.30813, saving model to ..\\fast_output\\SYNTH_Regression_MSE\\2020-05-28_Normalized_Base_Custom-MAE\\Best_Weights_FC_305.hdf5\n",
      "16000/16000 [==============================] - 10s 606us/sample - loss: 16353.6007 - custom_mae: 7.8670 - val_loss: 0.1602 - val_custom_mae: 0.3081\n",
      "Time taken: 0:00:11.364877\n"
     ]
    },
    {
     "name": "stderr",
     "output_type": "stream",
     "text": [
      "\r",
      " 85%|████████████████████████████████████████████████████████████████████            | 306/360 [55:50<11:26, 12.70s/it]"
     ]
    },
    {
     "name": "stdout",
     "output_type": "stream",
     "text": [
      "{'activation': 'relu', 'batch_size': 64, 'dropout': 0.25, 'epochs': 1, 'first_neuron': 4096, 'hidden_layers': 2, 'label_type': 'Normalized', 'loss_function': 'mean_squared_error', 'lr': 1, 'monitor_value': 'val_custom_mae', 'optimizer': <class 'tensorflow.python.keras.optimizer_v2.adam.Adam'>, 'reduction_metric': 'custom_mae', 'samples': 20000}\n",
      "Using Loss: mean_squared_error \n",
      "and Reduction Metric: [<function custom_mae at 0x0000021D2788ACA8>]\n",
      "Monitor: val_custom_mae\n",
      "Train on 16000 samples, validate on 3968 samples\n",
      "15936/16000 [============================>.] - ETA: 0s - loss: 13.5210 - custom_mae: 0.7947\n",
      "Epoch 00001: val_custom_mae improved from inf to 0.30458, saving model to ..\\fast_output\\SYNTH_Regression_MSE\\2020-05-28_Normalized_Base_Custom-MAE\\Best_Weights_FC_306.hdf5\n",
      "16000/16000 [==============================] - 10s 616us/sample - loss: 13.4676 - custom_mae: 0.7928 - val_loss: 0.1564 - val_custom_mae: 0.3046\n",
      "Time taken: 0:00:11.528174\n"
     ]
    },
    {
     "name": "stderr",
     "output_type": "stream",
     "text": [
      "\r",
      " 85%|████████████████████████████████████████████████████████████████████▏           | 307/360 [56:03<11:23, 12.90s/it]"
     ]
    },
    {
     "name": "stdout",
     "output_type": "stream",
     "text": [
      "{'activation': 'relu', 'batch_size': 64, 'dropout': 0.25, 'epochs': 1, 'first_neuron': 4096, 'hidden_layers': 2, 'label_type': 'Normalized', 'loss_function': 'mean_squared_error', 'lr': 2, 'monitor_value': 'val_custom_mae', 'optimizer': <class 'tensorflow.python.keras.optimizer_v2.adam.Adam'>, 'reduction_metric': 'custom_mae', 'samples': 20000}\n",
      "Using Loss: mean_squared_error \n",
      "and Reduction Metric: [<function custom_mae at 0x0000021D2788ACA8>]\n",
      "Monitor: val_custom_mae\n",
      "Train on 16000 samples, validate on 3968 samples\n",
      "15936/16000 [============================>.] - ETA: 0s - loss: 225.5567 - custom_mae: 1.6717\n",
      "Epoch 00001: val_custom_mae improved from inf to 0.32149, saving model to ..\\fast_output\\SYNTH_Regression_MSE\\2020-05-28_Normalized_Base_Custom-MAE\\Best_Weights_FC_307.hdf5\n",
      "16000/16000 [==============================] - 10s 615us/sample - loss: 224.6553 - custom_mae: 1.6665 - val_loss: 0.1746 - val_custom_mae: 0.3215\n",
      "Time taken: 0:00:11.541761\n"
     ]
    },
    {
     "name": "stderr",
     "output_type": "stream",
     "text": [
      "\r",
      " 86%|████████████████████████████████████████████████████████████████████▍           | 308/360 [56:16<11:18, 13.04s/it]"
     ]
    },
    {
     "name": "stdout",
     "output_type": "stream",
     "text": [
      "{'activation': 'relu', 'batch_size': 64, 'dropout': 0.25, 'epochs': 1, 'first_neuron': 4096, 'hidden_layers': 2, 'label_type': 'Normalized', 'loss_function': 'mean_squared_error', 'lr': 5, 'monitor_value': 'val_custom_mae', 'optimizer': <class 'tensorflow.python.keras.optimizer_v2.adam.Adam'>, 'reduction_metric': 'custom_mae', 'samples': 20000}\n",
      "Using Loss: mean_squared_error \n",
      "and Reduction Metric: [<function custom_mae at 0x0000021D2788ACA8>]\n",
      "Monitor: val_custom_mae\n",
      "Train on 16000 samples, validate on 3968 samples\n",
      "15872/16000 [============================>.] - ETA: 0s - loss: 23328.6101 - custom_mae: 12.0061\n",
      "Epoch 00001: val_custom_mae improved from inf to 0.48372, saving model to ..\\fast_output\\SYNTH_Regression_MSE\\2020-05-28_Normalized_Base_Custom-MAE\\Best_Weights_FC_308.hdf5\n",
      "16000/16000 [==============================] - 10s 616us/sample - loss: 23141.9841 - custom_mae: 11.9141 - val_loss: 0.3133 - val_custom_mae: 0.4837\n",
      "Time taken: 0:00:11.554020\n"
     ]
    },
    {
     "name": "stderr",
     "output_type": "stream",
     "text": [
      "\r",
      " 86%|████████████████████████████████████████████████████████████████████▋           | 309/360 [56:30<11:10, 13.14s/it]"
     ]
    },
    {
     "name": "stdout",
     "output_type": "stream",
     "text": [
      "{'activation': 'relu', 'batch_size': 64, 'dropout': 0.25, 'epochs': 1, 'first_neuron': 4096, 'hidden_layers': 3, 'label_type': 'Normalized', 'loss_function': 'mean_squared_error', 'lr': 1, 'monitor_value': 'val_custom_mae', 'optimizer': <class 'tensorflow.python.keras.optimizer_v2.adam.Adam'>, 'reduction_metric': 'custom_mae', 'samples': 20000}\n",
      "Using Loss: mean_squared_error \n",
      "and Reduction Metric: [<function custom_mae at 0x0000021D2788ACA8>]\n",
      "Monitor: val_custom_mae\n",
      "Train on 16000 samples, validate on 3968 samples\n",
      "15936/16000 [============================>.] - ETA: 0s - loss: 5.9739 - custom_mae: 0.71046  - ETA: 7s -\n",
      "Epoch 00001: val_custom_mae improved from inf to 0.38338, saving model to ..\\fast_output\\SYNTH_Regression_MSE\\2020-05-28_Normalized_Base_Custom-MAE\\Best_Weights_FC_309.hdf5\n",
      "16000/16000 [==============================] - 10s 621us/sample - loss: 5.9510 - custom_mae: 0.7091 - val_loss: 0.2182 - val_custom_mae: 0.3834\n",
      "Time taken: 0:00:11.606633\n"
     ]
    },
    {
     "name": "stderr",
     "output_type": "stream",
     "text": [
      "\r",
      " 86%|████████████████████████████████████████████████████████████████████▉           | 310/360 [56:43<11:01, 13.23s/it]"
     ]
    },
    {
     "name": "stdout",
     "output_type": "stream",
     "text": [
      "{'activation': 'relu', 'batch_size': 64, 'dropout': 0.25, 'epochs': 1, 'first_neuron': 4096, 'hidden_layers': 3, 'label_type': 'Normalized', 'loss_function': 'mean_squared_error', 'lr': 2, 'monitor_value': 'val_custom_mae', 'optimizer': <class 'tensorflow.python.keras.optimizer_v2.adam.Adam'>, 'reduction_metric': 'custom_mae', 'samples': 20000}\n",
      "Using Loss: mean_squared_error \n",
      "and Reduction Metric: [<function custom_mae at 0x0000021D2788ACA8>]\n",
      "Monitor: val_custom_mae\n",
      "Train on 16000 samples, validate on 3968 samples\n",
      "15936/16000 [============================>.] - ETA: 0s - loss: 159.4542 - custom_mae: 1.3574\n",
      "Epoch 00001: val_custom_mae improved from inf to 0.39828, saving model to ..\\fast_output\\SYNTH_Regression_MSE\\2020-05-28_Normalized_Base_Custom-MAE\\Best_Weights_FC_310.hdf5\n",
      "16000/16000 [==============================] - 10s 624us/sample - loss: 158.8175 - custom_mae: 1.3536 - val_loss: 0.2292 - val_custom_mae: 0.3983\n",
      "Time taken: 0:00:11.640953\n"
     ]
    },
    {
     "name": "stderr",
     "output_type": "stream",
     "text": [
      "\r",
      " 86%|█████████████████████████████████████████████████████████████████████           | 311/360 [56:57<10:52, 13.31s/it]"
     ]
    },
    {
     "name": "stdout",
     "output_type": "stream",
     "text": [
      "{'activation': 'relu', 'batch_size': 64, 'dropout': 0.25, 'epochs': 1, 'first_neuron': 4096, 'hidden_layers': 3, 'label_type': 'Normalized', 'loss_function': 'mean_squared_error', 'lr': 5, 'monitor_value': 'val_custom_mae', 'optimizer': <class 'tensorflow.python.keras.optimizer_v2.adam.Adam'>, 'reduction_metric': 'custom_mae', 'samples': 20000}\n",
      "Using Loss: mean_squared_error \n",
      "and Reduction Metric: [<function custom_mae at 0x0000021D2788ACA8>]\n",
      "Monitor: val_custom_mae\n",
      "Train on 16000 samples, validate on 3968 samples\n",
      "15808/16000 [============================>.] - ETA: 0s - loss: 49855.2854 - custom_mae: 13.4490\n",
      "Epoch 00001: val_custom_mae improved from inf to 0.48358, saving model to ..\\fast_output\\SYNTH_Regression_MSE\\2020-05-28_Normalized_Base_Custom-MAE\\Best_Weights_FC_311.hdf5\n",
      "16000/16000 [==============================] - 10s 625us/sample - loss: 49257.0256 - custom_mae: 13.2934 - val_loss: 0.3133 - val_custom_mae: 0.4836\n",
      "Time taken: 0:00:11.671237\n"
     ]
    },
    {
     "name": "stderr",
     "output_type": "stream",
     "text": [
      "\r",
      " 87%|█████████████████████████████████████████████████████████████████████▎          | 312/360 [57:10<10:41, 13.37s/it]"
     ]
    },
    {
     "name": "stdout",
     "output_type": "stream",
     "text": [
      "{'activation': 'relu', 'batch_size': 64, 'dropout': 0.25, 'epochs': 1, 'first_neuron': 4096, 'hidden_layers': 4, 'label_type': 'Normalized', 'loss_function': 'mean_squared_error', 'lr': 1, 'monitor_value': 'val_custom_mae', 'optimizer': <class 'tensorflow.python.keras.optimizer_v2.adam.Adam'>, 'reduction_metric': 'custom_mae', 'samples': 20000}\n",
      "Using Loss: mean_squared_error \n",
      "and Reduction Metric: [<function custom_mae at 0x0000021D2788ACA8>]\n",
      "Monitor: val_custom_mae\n",
      "Train on 16000 samples, validate on 3968 samples\n",
      "15936/16000 [============================>.] - ETA: 0s - loss: 2.0356 - custom_mae: 0.6326\n",
      "Epoch 00001: val_custom_mae improved from inf to 0.42612, saving model to ..\\fast_output\\SYNTH_Regression_MSE\\2020-05-28_Normalized_Base_Custom-MAE\\Best_Weights_FC_312.hdf5\n",
      "16000/16000 [==============================] - 10s 634us/sample - loss: 2.0285 - custom_mae: 0.6318 - val_loss: 0.2582 - val_custom_mae: 0.4261\n",
      "Time taken: 0:00:11.809704\n"
     ]
    },
    {
     "name": "stderr",
     "output_type": "stream",
     "text": [
      "\r",
      " 87%|█████████████████████████████████████████████████████████████████████▌          | 313/360 [57:24<10:32, 13.47s/it]"
     ]
    },
    {
     "name": "stdout",
     "output_type": "stream",
     "text": [
      "{'activation': 'relu', 'batch_size': 64, 'dropout': 0.25, 'epochs': 1, 'first_neuron': 4096, 'hidden_layers': 4, 'label_type': 'Normalized', 'loss_function': 'mean_squared_error', 'lr': 2, 'monitor_value': 'val_custom_mae', 'optimizer': <class 'tensorflow.python.keras.optimizer_v2.adam.Adam'>, 'reduction_metric': 'custom_mae', 'samples': 20000}\n",
      "Using Loss: mean_squared_error \n",
      "and Reduction Metric: [<function custom_mae at 0x0000021D2788ACA8>]\n",
      "Monitor: val_custom_mae\n",
      "Train on 16000 samples, validate on 3968 samples\n",
      "15808/16000 [============================>.] - ETA: 0s - loss: 45.4390 - custom_mae: 0.9902\n",
      "Epoch 00001: val_custom_mae improved from inf to 0.45310, saving model to ..\\fast_output\\SYNTH_Regression_MSE\\2020-05-28_Normalized_Base_Custom-MAE\\Best_Weights_FC_313.hdf5\n",
      "16000/16000 [==============================] - 10s 626us/sample - loss: 44.8972 - custom_mae: 0.9838 - val_loss: 0.2820 - val_custom_mae: 0.4531\n",
      "Time taken: 0:00:11.674651\n"
     ]
    },
    {
     "name": "stderr",
     "output_type": "stream",
     "text": [
      "\r",
      " 87%|█████████████████████████████████████████████████████████████████████▊          | 314/360 [57:38<10:20, 13.49s/it]"
     ]
    },
    {
     "name": "stdout",
     "output_type": "stream",
     "text": [
      "{'activation': 'relu', 'batch_size': 64, 'dropout': 0.25, 'epochs': 1, 'first_neuron': 4096, 'hidden_layers': 4, 'label_type': 'Normalized', 'loss_function': 'mean_squared_error', 'lr': 5, 'monitor_value': 'val_custom_mae', 'optimizer': <class 'tensorflow.python.keras.optimizer_v2.adam.Adam'>, 'reduction_metric': 'custom_mae', 'samples': 20000}\n",
      "Using Loss: mean_squared_error \n",
      "and Reduction Metric: [<function custom_mae at 0x0000021D2788ACA8>]\n",
      "Monitor: val_custom_mae\n",
      "Train on 16000 samples, validate on 3968 samples\n",
      "15744/16000 [============================>.] - ETA: 0s - loss: 20134.8784 - custom_mae: 8.9062\n",
      "Epoch 00001: val_custom_mae improved from inf to 0.48417, saving model to ..\\fast_output\\SYNTH_Regression_MSE\\2020-05-28_Normalized_Base_Custom-MAE\\Best_Weights_FC_314.hdf5\n",
      "16000/16000 [==============================] - 10s 630us/sample - loss: 19812.7253 - custom_mae: 8.7715 - val_loss: 0.3137 - val_custom_mae: 0.4842\n",
      "Time taken: 0:00:11.747785\n"
     ]
    },
    {
     "name": "stderr",
     "output_type": "stream",
     "text": [
      "\r",
      " 88%|██████████████████████████████████████████████████████████████████████          | 315/360 [57:51<10:08, 13.53s/it]"
     ]
    },
    {
     "name": "stdout",
     "output_type": "stream",
     "text": [
      "{'activation': 'relu', 'batch_size': 64, 'dropout': 0.5, 'epochs': 1, 'first_neuron': 1024, 'hidden_layers': 0, 'label_type': 'Normalized', 'loss_function': 'mean_squared_error', 'lr': 1, 'monitor_value': 'val_custom_mae', 'optimizer': <class 'tensorflow.python.keras.optimizer_v2.adam.Adam'>, 'reduction_metric': 'custom_mae', 'samples': 20000}\n",
      "Using Loss: mean_squared_error \n",
      "and Reduction Metric: [<function custom_mae at 0x0000021D2788ACA8>]\n",
      "Monitor: val_custom_mae\n",
      "Train on 16000 samples, validate on 3968 samples\n",
      "15936/16000 [============================>.] - ETA: 0s - loss: 5.0054 - custom_mae: 0.7377\n",
      "Epoch 00001: val_custom_mae improved from inf to 0.30230, saving model to ..\\fast_output\\SYNTH_Regression_MSE\\2020-05-28_Normalized_Base_Custom-MAE\\Best_Weights_FC_315.hdf5\n",
      "16000/16000 [==============================] - 3s 214us/sample - loss: 4.9862 - custom_mae: 0.7362 - val_loss: 0.1560 - val_custom_mae: 0.3023\n",
      "Time taken: 0:00:05.085265\n"
     ]
    },
    {
     "name": "stderr",
     "output_type": "stream",
     "text": [
      "\r",
      " 88%|██████████████████████████████████████████████████████████████████████▏         | 316/360 [57:58<08:27, 11.53s/it]"
     ]
    },
    {
     "name": "stdout",
     "output_type": "stream",
     "text": [
      "{'activation': 'relu', 'batch_size': 64, 'dropout': 0.5, 'epochs': 1, 'first_neuron': 1024, 'hidden_layers': 0, 'label_type': 'Normalized', 'loss_function': 'mean_squared_error', 'lr': 2, 'monitor_value': 'val_custom_mae', 'optimizer': <class 'tensorflow.python.keras.optimizer_v2.adam.Adam'>, 'reduction_metric': 'custom_mae', 'samples': 20000}\n",
      "Using Loss: mean_squared_error \n",
      "and Reduction Metric: [<function custom_mae at 0x0000021D2788ACA8>]\n",
      "Monitor: val_custom_mae\n",
      "Train on 16000 samples, validate on 3968 samples\n",
      "15808/16000 [============================>.] - ETA: 0s - loss: 17.4370 - custom_mae: 1.0665\n",
      "Epoch 00001: val_custom_mae improved from inf to 0.35420, saving model to ..\\fast_output\\SYNTH_Regression_MSE\\2020-05-28_Normalized_Base_Custom-MAE\\Best_Weights_FC_316.hdf5\n",
      "16000/16000 [==============================] - 3s 216us/sample - loss: 17.2303 - custom_mae: 1.0582 - val_loss: 0.1936 - val_custom_mae: 0.3542\n",
      "Time taken: 0:00:05.116285\n"
     ]
    },
    {
     "name": "stderr",
     "output_type": "stream",
     "text": [
      "\r",
      " 88%|██████████████████████████████████████████████████████████████████████▍         | 317/360 [58:05<07:15, 10.13s/it]"
     ]
    },
    {
     "name": "stdout",
     "output_type": "stream",
     "text": [
      "{'activation': 'relu', 'batch_size': 64, 'dropout': 0.5, 'epochs': 1, 'first_neuron': 1024, 'hidden_layers': 0, 'label_type': 'Normalized', 'loss_function': 'mean_squared_error', 'lr': 5, 'monitor_value': 'val_custom_mae', 'optimizer': <class 'tensorflow.python.keras.optimizer_v2.adam.Adam'>, 'reduction_metric': 'custom_mae', 'samples': 20000}\n",
      "Using Loss: mean_squared_error \n",
      "and Reduction Metric: [<function custom_mae at 0x0000021D2788ACA8>]\n",
      "Monitor: val_custom_mae\n",
      "Train on 16000 samples, validate on 3968 samples\n",
      "15936/16000 [============================>.] - ETA: 0s - loss: 108.5872 - custom_mae: 1.9951\n",
      "Epoch 00001: val_custom_mae improved from inf to 0.44023, saving model to ..\\fast_output\\SYNTH_Regression_MSE\\2020-05-28_Normalized_Base_Custom-MAE\\Best_Weights_FC_317.hdf5\n",
      "16000/16000 [==============================] - 3s 214us/sample - loss: 108.1539 - custom_mae: 1.9888 - val_loss: 0.2720 - val_custom_mae: 0.4402\n",
      "Time taken: 0:00:05.117420\n"
     ]
    },
    {
     "name": "stderr",
     "output_type": "stream",
     "text": [
      "\r",
      " 88%|██████████████████████████████████████████████████████████████████████▋         | 318/360 [58:12<06:24,  9.16s/it]"
     ]
    },
    {
     "name": "stdout",
     "output_type": "stream",
     "text": [
      "{'activation': 'relu', 'batch_size': 64, 'dropout': 0.5, 'epochs': 1, 'first_neuron': 1024, 'hidden_layers': 1, 'label_type': 'Normalized', 'loss_function': 'mean_squared_error', 'lr': 1, 'monitor_value': 'val_custom_mae', 'optimizer': <class 'tensorflow.python.keras.optimizer_v2.adam.Adam'>, 'reduction_metric': 'custom_mae', 'samples': 20000}\n",
      "Using Loss: mean_squared_error \n",
      "and Reduction Metric: [<function custom_mae at 0x0000021D2788ACA8>]\n",
      "Monitor: val_custom_mae\n",
      "Train on 16000 samples, validate on 3968 samples\n",
      "15936/16000 [============================>.] - ETA: 0s - loss: 2.0835 - custom_mae: 0.6590\n",
      "Epoch 00001: val_custom_mae improved from inf to 0.31585, saving model to ..\\fast_output\\SYNTH_Regression_MSE\\2020-05-28_Normalized_Base_Custom-MAE\\Best_Weights_FC_318.hdf5\n",
      "16000/16000 [==============================] - 4s 223us/sample - loss: 2.0759 - custom_mae: 0.6578 - val_loss: 0.1626 - val_custom_mae: 0.3158\n",
      "Time taken: 0:00:05.241262\n"
     ]
    },
    {
     "name": "stderr",
     "output_type": "stream",
     "text": [
      "\r",
      " 89%|██████████████████████████████████████████████████████████████████████▉         | 319/360 [58:19<05:48,  8.51s/it]"
     ]
    },
    {
     "name": "stdout",
     "output_type": "stream",
     "text": [
      "{'activation': 'relu', 'batch_size': 64, 'dropout': 0.5, 'epochs': 1, 'first_neuron': 1024, 'hidden_layers': 1, 'label_type': 'Normalized', 'loss_function': 'mean_squared_error', 'lr': 2, 'monitor_value': 'val_custom_mae', 'optimizer': <class 'tensorflow.python.keras.optimizer_v2.adam.Adam'>, 'reduction_metric': 'custom_mae', 'samples': 20000}\n",
      "Using Loss: mean_squared_error \n",
      "and Reduction Metric: [<function custom_mae at 0x0000021D2788ACA8>]\n",
      "Monitor: val_custom_mae\n",
      "Train on 16000 samples, validate on 3968 samples\n",
      "15616/16000 [============================>.] - ETA: 0s - loss: 9.6416 - custom_mae: 0.9978\n",
      "Epoch 00001: val_custom_mae improved from inf to 0.40400, saving model to ..\\fast_output\\SYNTH_Regression_MSE\\2020-05-28_Normalized_Base_Custom-MAE\\Best_Weights_FC_319.hdf5\n",
      "16000/16000 [==============================] - 4s 226us/sample - loss: 9.4165 - custom_mae: 0.9838 - val_loss: 0.2372 - val_custom_mae: 0.4040\n",
      "Time taken: 0:00:05.276986\n"
     ]
    },
    {
     "name": "stderr",
     "output_type": "stream",
     "text": [
      "\r",
      " 89%|███████████████████████████████████████████████████████████████████████         | 320/360 [58:26<05:22,  8.07s/it]"
     ]
    },
    {
     "name": "stdout",
     "output_type": "stream",
     "text": [
      "{'activation': 'relu', 'batch_size': 64, 'dropout': 0.5, 'epochs': 1, 'first_neuron': 1024, 'hidden_layers': 1, 'label_type': 'Normalized', 'loss_function': 'mean_squared_error', 'lr': 5, 'monitor_value': 'val_custom_mae', 'optimizer': <class 'tensorflow.python.keras.optimizer_v2.adam.Adam'>, 'reduction_metric': 'custom_mae', 'samples': 20000}\n",
      "Using Loss: mean_squared_error \n",
      "and Reduction Metric: [<function custom_mae at 0x0000021D2788ACA8>]\n",
      "Monitor: val_custom_mae\n",
      "Train on 16000 samples, validate on 3968 samples\n",
      "15872/16000 [============================>.] - ETA: 0s - loss: 142.2097 - custom_mae: 1.7528\n",
      "Epoch 00001: val_custom_mae improved from inf to 0.48396, saving model to ..\\fast_output\\SYNTH_Regression_MSE\\2020-05-28_Normalized_Base_Custom-MAE\\Best_Weights_FC_320.hdf5\n",
      "16000/16000 [==============================] - 4s 220us/sample - loss: 141.0745 - custom_mae: 1.7427 - val_loss: 0.3135 - val_custom_mae: 0.4840\n",
      "Time taken: 0:00:05.184772\n"
     ]
    },
    {
     "name": "stderr",
     "output_type": "stream",
     "text": [
      "\r",
      " 89%|███████████████████████████████████████████████████████████████████████▎        | 321/360 [58:33<05:01,  7.74s/it]"
     ]
    },
    {
     "name": "stdout",
     "output_type": "stream",
     "text": [
      "{'activation': 'relu', 'batch_size': 64, 'dropout': 0.5, 'epochs': 1, 'first_neuron': 1024, 'hidden_layers': 2, 'label_type': 'Normalized', 'loss_function': 'mean_squared_error', 'lr': 1, 'monitor_value': 'val_custom_mae', 'optimizer': <class 'tensorflow.python.keras.optimizer_v2.adam.Adam'>, 'reduction_metric': 'custom_mae', 'samples': 20000}\n",
      "Using Loss: mean_squared_error \n",
      "and Reduction Metric: [<function custom_mae at 0x0000021D2788ACA8>]\n",
      "Monitor: val_custom_mae\n",
      "Train on 16000 samples, validate on 3968 samples\n",
      "15744/16000 [============================>.] - ETA: 0s - loss: 0.7955 - custom_mae: 0.5567\n",
      "Epoch 00001: val_custom_mae improved from inf to 0.38904, saving model to ..\\fast_output\\SYNTH_Regression_MSE\\2020-05-28_Normalized_Base_Custom-MAE\\Best_Weights_FC_321.hdf5\n",
      "16000/16000 [==============================] - 4s 230us/sample - loss: 0.7862 - custom_mae: 0.5540 - val_loss: 0.2179 - val_custom_mae: 0.3890\n",
      "Time taken: 0:00:05.349562\n"
     ]
    },
    {
     "name": "stderr",
     "output_type": "stream",
     "text": [
      "\r",
      " 89%|███████████████████████████████████████████████████████████████████████▌        | 322/360 [58:40<04:47,  7.56s/it]"
     ]
    },
    {
     "name": "stdout",
     "output_type": "stream",
     "text": [
      "{'activation': 'relu', 'batch_size': 64, 'dropout': 0.5, 'epochs': 1, 'first_neuron': 1024, 'hidden_layers': 2, 'label_type': 'Normalized', 'loss_function': 'mean_squared_error', 'lr': 2, 'monitor_value': 'val_custom_mae', 'optimizer': <class 'tensorflow.python.keras.optimizer_v2.adam.Adam'>, 'reduction_metric': 'custom_mae', 'samples': 20000}\n",
      "Using Loss: mean_squared_error \n",
      "and Reduction Metric: [<function custom_mae at 0x0000021D2788ACA8>]\n",
      "Monitor: val_custom_mae\n",
      "Train on 16000 samples, validate on 3968 samples\n",
      "15680/16000 [============================>.] - ETA: 0s - loss: 2.5222 - custom_mae: 0.7164\n",
      "Epoch 00001: val_custom_mae improved from inf to 0.44481, saving model to ..\\fast_output\\SYNTH_Regression_MSE\\2020-05-28_Normalized_Base_Custom-MAE\\Best_Weights_FC_322.hdf5\n",
      "16000/16000 [==============================] - 4s 228us/sample - loss: 2.4769 - custom_mae: 0.7105 - val_loss: 0.2724 - val_custom_mae: 0.4448\n",
      "Time taken: 0:00:05.322051\n"
     ]
    },
    {
     "name": "stderr",
     "output_type": "stream",
     "text": [
      "\r",
      " 90%|███████████████████████████████████████████████████████████████████████▊        | 323/360 [58:47<04:35,  7.44s/it]"
     ]
    },
    {
     "name": "stdout",
     "output_type": "stream",
     "text": [
      "{'activation': 'relu', 'batch_size': 64, 'dropout': 0.5, 'epochs': 1, 'first_neuron': 1024, 'hidden_layers': 2, 'label_type': 'Normalized', 'loss_function': 'mean_squared_error', 'lr': 5, 'monitor_value': 'val_custom_mae', 'optimizer': <class 'tensorflow.python.keras.optimizer_v2.adam.Adam'>, 'reduction_metric': 'custom_mae', 'samples': 20000}\n",
      "Using Loss: mean_squared_error \n",
      "and Reduction Metric: [<function custom_mae at 0x0000021D2788ACA8>]\n",
      "Monitor: val_custom_mae\n",
      "Train on 16000 samples, validate on 3968 samples\n",
      "15808/16000 [============================>.] - ETA: 0s - loss: 23.9766 - custom_mae: 1.0347\n",
      "Epoch 00001: val_custom_mae improved from inf to 0.48358, saving model to ..\\fast_output\\SYNTH_Regression_MSE\\2020-05-28_Normalized_Base_Custom-MAE\\Best_Weights_FC_323.hdf5\n",
      "16000/16000 [==============================] - 4s 228us/sample - loss: 23.6928 - custom_mae: 1.0282 - val_loss: 0.3133 - val_custom_mae: 0.4836\n",
      "Time taken: 0:00:05.311317\n"
     ]
    },
    {
     "name": "stderr",
     "output_type": "stream",
     "text": [
      "\r",
      " 90%|████████████████████████████████████████████████████████████████████████        | 324/360 [58:54<04:24,  7.34s/it]"
     ]
    },
    {
     "name": "stdout",
     "output_type": "stream",
     "text": [
      "{'activation': 'relu', 'batch_size': 64, 'dropout': 0.5, 'epochs': 1, 'first_neuron': 1024, 'hidden_layers': 3, 'label_type': 'Normalized', 'loss_function': 'mean_squared_error', 'lr': 1, 'monitor_value': 'val_custom_mae', 'optimizer': <class 'tensorflow.python.keras.optimizer_v2.adam.Adam'>, 'reduction_metric': 'custom_mae', 'samples': 20000}\n",
      "Using Loss: mean_squared_error \n",
      "and Reduction Metric: [<function custom_mae at 0x0000021D2788ACA8>]\n",
      "Monitor: val_custom_mae\n",
      "Train on 16000 samples, validate on 3968 samples\n",
      "15552/16000 [============================>.] - ETA: 0s - loss: 0.6310 - custom_mae: 0.5659\n",
      "Epoch 00001: val_custom_mae improved from inf to 0.46232, saving model to ..\\fast_output\\SYNTH_Regression_MSE\\2020-05-28_Normalized_Base_Custom-MAE\\Best_Weights_FC_324.hdf5\n",
      "16000/16000 [==============================] - 4s 237us/sample - loss: 0.6217 - custom_mae: 0.5632 - val_loss: 0.2875 - val_custom_mae: 0.4623\n",
      "Time taken: 0:00:05.455510\n"
     ]
    },
    {
     "name": "stderr",
     "output_type": "stream",
     "text": [
      "\r",
      " 90%|████████████████████████████████████████████████████████████████████████▏       | 325/360 [59:02<04:16,  7.33s/it]"
     ]
    },
    {
     "name": "stdout",
     "output_type": "stream",
     "text": [
      "{'activation': 'relu', 'batch_size': 64, 'dropout': 0.5, 'epochs': 1, 'first_neuron': 1024, 'hidden_layers': 3, 'label_type': 'Normalized', 'loss_function': 'mean_squared_error', 'lr': 2, 'monitor_value': 'val_custom_mae', 'optimizer': <class 'tensorflow.python.keras.optimizer_v2.adam.Adam'>, 'reduction_metric': 'custom_mae', 'samples': 20000}\n",
      "Using Loss: mean_squared_error \n",
      "and Reduction Metric: [<function custom_mae at 0x0000021D2788ACA8>]\n",
      "Monitor: val_custom_mae\n",
      "Train on 16000 samples, validate on 3968 samples\n",
      "15936/16000 [============================>.] - ETA: 0s - loss: 1.0952 - custom_mae: 0.6197\n",
      "Epoch 00001: val_custom_mae improved from inf to 0.46555, saving model to ..\\fast_output\\SYNTH_Regression_MSE\\2020-05-28_Normalized_Base_Custom-MAE\\Best_Weights_FC_325.hdf5\n",
      "16000/16000 [==============================] - 4s 234us/sample - loss: 1.0920 - custom_mae: 0.6191 - val_loss: 0.2945 - val_custom_mae: 0.4656\n",
      "Time taken: 0:00:05.447810\n"
     ]
    },
    {
     "name": "stderr",
     "output_type": "stream",
     "text": [
      "\r",
      " 91%|████████████████████████████████████████████████████████████████████████▍       | 326/360 [59:09<04:08,  7.32s/it]"
     ]
    },
    {
     "name": "stdout",
     "output_type": "stream",
     "text": [
      "{'activation': 'relu', 'batch_size': 64, 'dropout': 0.5, 'epochs': 1, 'first_neuron': 1024, 'hidden_layers': 3, 'label_type': 'Normalized', 'loss_function': 'mean_squared_error', 'lr': 5, 'monitor_value': 'val_custom_mae', 'optimizer': <class 'tensorflow.python.keras.optimizer_v2.adam.Adam'>, 'reduction_metric': 'custom_mae', 'samples': 20000}\n",
      "Using Loss: mean_squared_error \n",
      "and Reduction Metric: [<function custom_mae at 0x0000021D2788ACA8>]\n",
      "Monitor: val_custom_mae\n",
      "Train on 16000 samples, validate on 3968 samples\n",
      "15872/16000 [============================>.] - ETA: 0s - loss: 5.3310 - custom_mae: 0.8262\n",
      "Epoch 00001: val_custom_mae improved from inf to 0.48353, saving model to ..\\fast_output\\SYNTH_Regression_MSE\\2020-05-28_Normalized_Base_Custom-MAE\\Best_Weights_FC_326.hdf5\n",
      "16000/16000 [==============================] - 4s 238us/sample - loss: 5.2909 - custom_mae: 0.8235 - val_loss: 0.3133 - val_custom_mae: 0.4835\n",
      "Time taken: 0:00:05.475893\n"
     ]
    },
    {
     "name": "stderr",
     "output_type": "stream",
     "text": [
      "\r",
      " 91%|████████████████████████████████████████████████████████████████████████▋       | 327/360 [59:16<04:01,  7.31s/it]"
     ]
    },
    {
     "name": "stdout",
     "output_type": "stream",
     "text": [
      "{'activation': 'relu', 'batch_size': 64, 'dropout': 0.5, 'epochs': 1, 'first_neuron': 1024, 'hidden_layers': 4, 'label_type': 'Normalized', 'loss_function': 'mean_squared_error', 'lr': 1, 'monitor_value': 'val_custom_mae', 'optimizer': <class 'tensorflow.python.keras.optimizer_v2.adam.Adam'>, 'reduction_metric': 'custom_mae', 'samples': 20000}\n",
      "Using Loss: mean_squared_error \n",
      "and Reduction Metric: [<function custom_mae at 0x0000021D2788ACA8>]\n",
      "Monitor: val_custom_mae\n",
      "Train on 16000 samples, validate on 3968 samples\n",
      "15808/16000 [============================>.] - ETA: 0s - loss: 0.7567 - custom_mae: 0.6021\n",
      "Epoch 00001: val_custom_mae improved from inf to 0.48358, saving model to ..\\fast_output\\SYNTH_Regression_MSE\\2020-05-28_Normalized_Base_Custom-MAE\\Best_Weights_FC_327.hdf5\n",
      "16000/16000 [==============================] - 4s 240us/sample - loss: 0.7513 - custom_mae: 0.6006 - val_loss: 0.3133 - val_custom_mae: 0.4836\n",
      "Time taken: 0:00:05.535064\n"
     ]
    },
    {
     "name": "stderr",
     "output_type": "stream",
     "text": [
      "\r",
      " 91%|████████████████████████████████████████████████████████████████████████▉       | 328/360 [59:23<03:54,  7.34s/it]"
     ]
    },
    {
     "name": "stdout",
     "output_type": "stream",
     "text": [
      "{'activation': 'relu', 'batch_size': 64, 'dropout': 0.5, 'epochs': 1, 'first_neuron': 1024, 'hidden_layers': 4, 'label_type': 'Normalized', 'loss_function': 'mean_squared_error', 'lr': 2, 'monitor_value': 'val_custom_mae', 'optimizer': <class 'tensorflow.python.keras.optimizer_v2.adam.Adam'>, 'reduction_metric': 'custom_mae', 'samples': 20000}\n",
      "Using Loss: mean_squared_error \n",
      "and Reduction Metric: [<function custom_mae at 0x0000021D2788ACA8>]\n",
      "Monitor: val_custom_mae\n",
      "Train on 16000 samples, validate on 3968 samples\n",
      "15616/16000 [============================>.] - ETA: 0s - loss: 1.2739 - custom_mae: 0.6636\n",
      "Epoch 00001: val_custom_mae improved from inf to 0.48364, saving model to ..\\fast_output\\SYNTH_Regression_MSE\\2020-05-28_Normalized_Base_Custom-MAE\\Best_Weights_FC_328.hdf5\n",
      "16000/16000 [==============================] - 4s 240us/sample - loss: 1.2509 - custom_mae: 0.6594 - val_loss: 0.3133 - val_custom_mae: 0.4836\n",
      "Time taken: 0:00:05.514232\n"
     ]
    },
    {
     "name": "stderr",
     "output_type": "stream",
     "text": [
      "\r",
      " 91%|█████████████████████████████████████████████████████████████████████████       | 329/360 [59:31<03:47,  7.35s/it]"
     ]
    },
    {
     "name": "stdout",
     "output_type": "stream",
     "text": [
      "{'activation': 'relu', 'batch_size': 64, 'dropout': 0.5, 'epochs': 1, 'first_neuron': 1024, 'hidden_layers': 4, 'label_type': 'Normalized', 'loss_function': 'mean_squared_error', 'lr': 5, 'monitor_value': 'val_custom_mae', 'optimizer': <class 'tensorflow.python.keras.optimizer_v2.adam.Adam'>, 'reduction_metric': 'custom_mae', 'samples': 20000}\n",
      "Using Loss: mean_squared_error \n",
      "and Reduction Metric: [<function custom_mae at 0x0000021D2788ACA8>]\n",
      "Monitor: val_custom_mae\n",
      "Train on 16000 samples, validate on 3968 samples\n",
      "15488/16000 [============================>.] - ETA: 0s - loss: 4.7471 - custom_mae: 0.8396\n",
      "Epoch 00001: val_custom_mae improved from inf to 0.48361, saving model to ..\\fast_output\\SYNTH_Regression_MSE\\2020-05-28_Normalized_Base_Custom-MAE\\Best_Weights_FC_329.hdf5\n",
      "16000/16000 [==============================] - 4s 240us/sample - loss: 4.6059 - custom_mae: 0.8287 - val_loss: 0.3133 - val_custom_mae: 0.4836\n",
      "Time taken: 0:00:05.501639\n"
     ]
    },
    {
     "name": "stderr",
     "output_type": "stream",
     "text": [
      "\r",
      " 92%|█████████████████████████████████████████████████████████████████████████▎      | 330/360 [59:38<03:40,  7.34s/it]"
     ]
    },
    {
     "name": "stdout",
     "output_type": "stream",
     "text": [
      "{'activation': 'relu', 'batch_size': 64, 'dropout': 0.5, 'epochs': 1, 'first_neuron': 2048, 'hidden_layers': 0, 'label_type': 'Normalized', 'loss_function': 'mean_squared_error', 'lr': 1, 'monitor_value': 'val_custom_mae', 'optimizer': <class 'tensorflow.python.keras.optimizer_v2.adam.Adam'>, 'reduction_metric': 'custom_mae', 'samples': 20000}\n",
      "Using Loss: mean_squared_error \n",
      "and Reduction Metric: [<function custom_mae at 0x0000021D2788ACA8>]\n",
      "Monitor: val_custom_mae\n",
      "Train on 16000 samples, validate on 3968 samples\n",
      "15744/16000 [============================>.] - ETA: 0s - loss: 9.7251 - custom_mae: 0.9424\n",
      "Epoch 00001: val_custom_mae improved from inf to 0.25933, saving model to ..\\fast_output\\SYNTH_Regression_MSE\\2020-05-28_Normalized_Base_Custom-MAE\\Best_Weights_FC_330.hdf5\n",
      "16000/16000 [==============================] - 5s 333us/sample - loss: 9.5718 - custom_mae: 0.9318 - val_loss: 0.1302 - val_custom_mae: 0.2593\n",
      "Time taken: 0:00:07.027181\n"
     ]
    },
    {
     "name": "stderr",
     "output_type": "stream",
     "text": [
      "\r",
      " 92%|█████████████████████████████████████████████████████████████████████████▌      | 331/360 [59:47<03:45,  7.77s/it]"
     ]
    },
    {
     "name": "stdout",
     "output_type": "stream",
     "text": [
      "{'activation': 'relu', 'batch_size': 64, 'dropout': 0.5, 'epochs': 1, 'first_neuron': 2048, 'hidden_layers': 0, 'label_type': 'Normalized', 'loss_function': 'mean_squared_error', 'lr': 2, 'monitor_value': 'val_custom_mae', 'optimizer': <class 'tensorflow.python.keras.optimizer_v2.adam.Adam'>, 'reduction_metric': 'custom_mae', 'samples': 20000}\n",
      "Using Loss: mean_squared_error \n",
      "and Reduction Metric: [<function custom_mae at 0x0000021D2788ACA8>]\n",
      "Monitor: val_custom_mae\n",
      "Train on 16000 samples, validate on 3968 samples\n",
      "15680/16000 [============================>.] - ETA: 0s - loss: 34.7193 - custom_mae: 1.4909\n",
      "Epoch 00001: val_custom_mae improved from inf to 0.30976, saving model to ..\\fast_output\\SYNTH_Regression_MSE\\2020-05-28_Normalized_Base_Custom-MAE\\Best_Weights_FC_331.hdf5\n",
      "16000/16000 [==============================] - 5s 330us/sample - loss: 34.0286 - custom_mae: 1.4677 - val_loss: 0.1653 - val_custom_mae: 0.3098\n",
      "Time taken: 0:00:06.953440\n"
     ]
    },
    {
     "name": "stderr",
     "output_type": "stream",
     "text": [
      "\r",
      " 92%|█████████████████████████████████████████████████████████████████████████▊      | 332/360 [59:56<03:45,  8.05s/it]"
     ]
    },
    {
     "name": "stdout",
     "output_type": "stream",
     "text": [
      "{'activation': 'relu', 'batch_size': 64, 'dropout': 0.5, 'epochs': 1, 'first_neuron': 2048, 'hidden_layers': 0, 'label_type': 'Normalized', 'loss_function': 'mean_squared_error', 'lr': 5, 'monitor_value': 'val_custom_mae', 'optimizer': <class 'tensorflow.python.keras.optimizer_v2.adam.Adam'>, 'reduction_metric': 'custom_mae', 'samples': 20000}\n",
      "Using Loss: mean_squared_error \n",
      "and Reduction Metric: [<function custom_mae at 0x0000021D2788ACA8>]\n",
      "Monitor: val_custom_mae\n",
      "Train on 16000 samples, validate on 3968 samples\n",
      "15680/16000 [============================>.] - ETA: 0s - loss: 229.7738 - custom_mae: 3.3108\n",
      "Epoch 00001: val_custom_mae improved from inf to 0.35346, saving model to ..\\fast_output\\SYNTH_Regression_MSE\\2020-05-28_Normalized_Base_Custom-MAE\\Best_Weights_FC_332.hdf5\n",
      "16000/16000 [==============================] - 5s 330us/sample - loss: 225.1845 - custom_mae: 3.2534 - val_loss: 0.1984 - val_custom_mae: 0.3535\n",
      "Time taken: 0:00:06.936609\n"
     ]
    },
    {
     "name": "stderr",
     "output_type": "stream",
     "text": [
      "\r",
      " 92%|████████████████████████████████████████████████████████████████████████▏     | 333/360 [1:00:04<03:42,  8.24s/it]"
     ]
    },
    {
     "name": "stdout",
     "output_type": "stream",
     "text": [
      "{'activation': 'relu', 'batch_size': 64, 'dropout': 0.5, 'epochs': 1, 'first_neuron': 2048, 'hidden_layers': 1, 'label_type': 'Normalized', 'loss_function': 'mean_squared_error', 'lr': 1, 'monitor_value': 'val_custom_mae', 'optimizer': <class 'tensorflow.python.keras.optimizer_v2.adam.Adam'>, 'reduction_metric': 'custom_mae', 'samples': 20000}\n",
      "Using Loss: mean_squared_error \n",
      "and Reduction Metric: [<function custom_mae at 0x0000021D2788ACA8>]\n",
      "Monitor: val_custom_mae\n",
      "Train on 16000 samples, validate on 3968 samples\n",
      "15808/16000 [============================>.] - ETA: 0s - loss: 7.5585 - custom_mae: 0.8432\n",
      "Epoch 00001: val_custom_mae improved from inf to 0.39589, saving model to ..\\fast_output\\SYNTH_Regression_MSE\\2020-05-28_Normalized_Base_Custom-MAE\\Best_Weights_FC_333.hdf5\n",
      "16000/16000 [==============================] - 5s 342us/sample - loss: 7.4707 - custom_mae: 0.8378 - val_loss: 0.2254 - val_custom_mae: 0.3959\n",
      "Time taken: 0:00:07.143266\n"
     ]
    },
    {
     "name": "stderr",
     "output_type": "stream",
     "text": [
      "\r",
      " 93%|████████████████████████████████████████████████████████████████████████▎     | 334/360 [1:00:13<03:39,  8.44s/it]"
     ]
    },
    {
     "name": "stdout",
     "output_type": "stream",
     "text": [
      "{'activation': 'relu', 'batch_size': 64, 'dropout': 0.5, 'epochs': 1, 'first_neuron': 2048, 'hidden_layers': 1, 'label_type': 'Normalized', 'loss_function': 'mean_squared_error', 'lr': 2, 'monitor_value': 'val_custom_mae', 'optimizer': <class 'tensorflow.python.keras.optimizer_v2.adam.Adam'>, 'reduction_metric': 'custom_mae', 'samples': 20000}\n",
      "Using Loss: mean_squared_error \n",
      "and Reduction Metric: [<function custom_mae at 0x0000021D2788ACA8>]\n",
      "Monitor: val_custom_mae\n",
      "Train on 16000 samples, validate on 3968 samples\n",
      "15744/16000 [============================>.] - ETA: 0s - loss: 53.8986 - custom_mae: 1.2527\n",
      "Epoch 00001: val_custom_mae improved from inf to 0.44859, saving model to ..\\fast_output\\SYNTH_Regression_MSE\\2020-05-28_Normalized_Base_Custom-MAE\\Best_Weights_FC_334.hdf5\n",
      "16000/16000 [==============================] - 5s 341us/sample - loss: 53.0406 - custom_mae: 1.2395 - val_loss: 0.2737 - val_custom_mae: 0.4486\n",
      "Time taken: 0:00:07.115356\n"
     ]
    },
    {
     "name": "stderr",
     "output_type": "stream",
     "text": [
      "\r",
      " 93%|████████████████████████████████████████████████████████████████████████▌     | 335/360 [1:00:22<03:34,  8.58s/it]"
     ]
    },
    {
     "name": "stdout",
     "output_type": "stream",
     "text": [
      "{'activation': 'relu', 'batch_size': 64, 'dropout': 0.5, 'epochs': 1, 'first_neuron': 2048, 'hidden_layers': 1, 'label_type': 'Normalized', 'loss_function': 'mean_squared_error', 'lr': 5, 'monitor_value': 'val_custom_mae', 'optimizer': <class 'tensorflow.python.keras.optimizer_v2.adam.Adam'>, 'reduction_metric': 'custom_mae', 'samples': 20000}\n",
      "Using Loss: mean_squared_error \n",
      "and Reduction Metric: [<function custom_mae at 0x0000021D2788ACA8>]\n",
      "Monitor: val_custom_mae\n",
      "Train on 16000 samples, validate on 3968 samples\n",
      "15680/16000 [============================>.] - ETA: 0s - loss: 1418.0441 - custom_mae: 3.2833\n",
      "Epoch 00001: val_custom_mae improved from inf to 0.48417, saving model to ..\\fast_output\\SYNTH_Regression_MSE\\2020-05-28_Normalized_Base_Custom-MAE\\Best_Weights_FC_335.hdf5\n",
      "16000/16000 [==============================] - 5s 343us/sample - loss: 1389.6894 - custom_mae: 3.2272 - val_loss: 0.3137 - val_custom_mae: 0.4842\n",
      "Time taken: 0:00:07.147966\n"
     ]
    },
    {
     "name": "stderr",
     "output_type": "stream",
     "text": [
      "\r",
      " 93%|████████████████████████████████████████████████████████████████████████▊     | 336/360 [1:00:31<03:28,  8.69s/it]"
     ]
    },
    {
     "name": "stdout",
     "output_type": "stream",
     "text": [
      "{'activation': 'relu', 'batch_size': 64, 'dropout': 0.5, 'epochs': 1, 'first_neuron': 2048, 'hidden_layers': 2, 'label_type': 'Normalized', 'loss_function': 'mean_squared_error', 'lr': 1, 'monitor_value': 'val_custom_mae', 'optimizer': <class 'tensorflow.python.keras.optimizer_v2.adam.Adam'>, 'reduction_metric': 'custom_mae', 'samples': 20000}\n",
      "Using Loss: mean_squared_error \n",
      "and Reduction Metric: [<function custom_mae at 0x0000021D2788ACA8>]\n",
      "Monitor: val_custom_mae\n",
      "Train on 16000 samples, validate on 3968 samples\n",
      "15680/16000 [============================>.] - ETA: 0s - loss: 2.6972 - custom_mae: 0.7545\n",
      "Epoch 00001: val_custom_mae improved from inf to 0.48286, saving model to ..\\fast_output\\SYNTH_Regression_MSE\\2020-05-28_Normalized_Base_Custom-MAE\\Best_Weights_FC_336.hdf5\n",
      "16000/16000 [==============================] - 6s 354us/sample - loss: 2.6494 - custom_mae: 0.7488 - val_loss: 0.3126 - val_custom_mae: 0.4829\n",
      "Time taken: 0:00:07.325790\n"
     ]
    },
    {
     "name": "stderr",
     "output_type": "stream",
     "text": [
      "\r",
      " 94%|█████████████████████████████████████████████████████████████████████████     | 337/360 [1:00:40<03:22,  8.82s/it]"
     ]
    },
    {
     "name": "stdout",
     "output_type": "stream",
     "text": [
      "{'activation': 'relu', 'batch_size': 64, 'dropout': 0.5, 'epochs': 1, 'first_neuron': 2048, 'hidden_layers': 2, 'label_type': 'Normalized', 'loss_function': 'mean_squared_error', 'lr': 2, 'monitor_value': 'val_custom_mae', 'optimizer': <class 'tensorflow.python.keras.optimizer_v2.adam.Adam'>, 'reduction_metric': 'custom_mae', 'samples': 20000}\n",
      "Using Loss: mean_squared_error \n",
      "and Reduction Metric: [<function custom_mae at 0x0000021D2788ACA8>]\n",
      "Monitor: val_custom_mae\n",
      "Train on 16000 samples, validate on 3968 samples\n",
      "15744/16000 [============================>.] - ETA: 0s - loss: 21.0624 - custom_mae: 0.9824\n",
      "Epoch 00001: val_custom_mae improved from inf to 0.48370, saving model to ..\\fast_output\\SYNTH_Regression_MSE\\2020-05-28_Normalized_Base_Custom-MAE\\Best_Weights_FC_337.hdf5\n",
      "16000/16000 [==============================] - 6s 355us/sample - loss: 20.7305 - custom_mae: 0.9744 - val_loss: 0.3133 - val_custom_mae: 0.4837\n",
      "Time taken: 0:00:07.336160\n"
     ]
    },
    {
     "name": "stderr",
     "output_type": "stream",
     "text": [
      "\r",
      " 94%|█████████████████████████████████████████████████████████████████████████▏    | 338/360 [1:00:49<03:16,  8.91s/it]"
     ]
    },
    {
     "name": "stdout",
     "output_type": "stream",
     "text": [
      "{'activation': 'relu', 'batch_size': 64, 'dropout': 0.5, 'epochs': 1, 'first_neuron': 2048, 'hidden_layers': 2, 'label_type': 'Normalized', 'loss_function': 'mean_squared_error', 'lr': 5, 'monitor_value': 'val_custom_mae', 'optimizer': <class 'tensorflow.python.keras.optimizer_v2.adam.Adam'>, 'reduction_metric': 'custom_mae', 'samples': 20000}\n",
      "Using Loss: mean_squared_error \n",
      "and Reduction Metric: [<function custom_mae at 0x0000021D2788ACA8>]\n",
      "Monitor: val_custom_mae\n",
      "Train on 16000 samples, validate on 3968 samples\n",
      "15744/16000 [============================>.] - ETA: 0s - loss: 1123.4114 - custom_mae: 2.7947\n",
      "Epoch 00001: val_custom_mae improved from inf to 0.48413, saving model to ..\\fast_output\\SYNTH_Regression_MSE\\2020-05-28_Normalized_Base_Custom-MAE\\Best_Weights_FC_338.hdf5\n",
      "16000/16000 [==============================] - 6s 350us/sample - loss: 1105.4422 - custom_mae: 2.7579 - val_loss: 0.3136 - val_custom_mae: 0.4841\n",
      "Time taken: 0:00:07.270390\n"
     ]
    },
    {
     "name": "stderr",
     "output_type": "stream",
     "text": [
      "\r",
      " 94%|█████████████████████████████████████████████████████████████████████████▍    | 339/360 [1:00:58<03:08,  8.96s/it]"
     ]
    },
    {
     "name": "stdout",
     "output_type": "stream",
     "text": [
      "{'activation': 'relu', 'batch_size': 64, 'dropout': 0.5, 'epochs': 1, 'first_neuron': 2048, 'hidden_layers': 3, 'label_type': 'Normalized', 'loss_function': 'mean_squared_error', 'lr': 1, 'monitor_value': 'val_custom_mae', 'optimizer': <class 'tensorflow.python.keras.optimizer_v2.adam.Adam'>, 'reduction_metric': 'custom_mae', 'samples': 20000}\n",
      "Using Loss: mean_squared_error \n",
      "and Reduction Metric: [<function custom_mae at 0x0000021D2788ACA8>]\n",
      "Monitor: val_custom_mae\n",
      "Train on 16000 samples, validate on 3968 samples\n",
      "15680/16000 [============================>.] - ETA: 0s - loss: 1.0541 - custom_mae: 0.6478\n",
      "Epoch 00001: val_custom_mae improved from inf to 0.47679, saving model to ..\\fast_output\\SYNTH_Regression_MSE\\2020-05-28_Normalized_Base_Custom-MAE\\Best_Weights_FC_339.hdf5\n",
      "16000/16000 [==============================] - 6s 353us/sample - loss: 1.0389 - custom_mae: 0.6442 - val_loss: 0.3056 - val_custom_mae: 0.4768\n",
      "Time taken: 0:00:07.342247\n"
     ]
    },
    {
     "name": "stderr",
     "output_type": "stream",
     "text": [
      "\r",
      " 94%|█████████████████████████████████████████████████████████████████████████▋    | 340/360 [1:01:08<03:00,  9.03s/it]"
     ]
    },
    {
     "name": "stdout",
     "output_type": "stream",
     "text": [
      "{'activation': 'relu', 'batch_size': 64, 'dropout': 0.5, 'epochs': 1, 'first_neuron': 2048, 'hidden_layers': 3, 'label_type': 'Normalized', 'loss_function': 'mean_squared_error', 'lr': 2, 'monitor_value': 'val_custom_mae', 'optimizer': <class 'tensorflow.python.keras.optimizer_v2.adam.Adam'>, 'reduction_metric': 'custom_mae', 'samples': 20000}\n",
      "Using Loss: mean_squared_error \n",
      "and Reduction Metric: [<function custom_mae at 0x0000021D2788ACA8>]\n",
      "Monitor: val_custom_mae\n",
      "Train on 16000 samples, validate on 3968 samples\n",
      "15680/16000 [============================>.] - ETA: 0s - loss: 3.3448 - custom_mae: 0.7985\n",
      "Epoch 00001: val_custom_mae improved from inf to 0.48302, saving model to ..\\fast_output\\SYNTH_Regression_MSE\\2020-05-28_Normalized_Base_Custom-MAE\\Best_Weights_FC_340.hdf5\n",
      "16000/16000 [==============================] - 6s 355us/sample - loss: 3.2846 - custom_mae: 0.7925 - val_loss: 0.3128 - val_custom_mae: 0.4830\n",
      "Time taken: 0:00:07.345522\n"
     ]
    },
    {
     "name": "stderr",
     "output_type": "stream",
     "text": [
      "\r",
      " 95%|█████████████████████████████████████████████████████████████████████████▉    | 341/360 [1:01:17<02:52,  9.07s/it]"
     ]
    },
    {
     "name": "stdout",
     "output_type": "stream",
     "text": [
      "{'activation': 'relu', 'batch_size': 64, 'dropout': 0.5, 'epochs': 1, 'first_neuron': 2048, 'hidden_layers': 3, 'label_type': 'Normalized', 'loss_function': 'mean_squared_error', 'lr': 5, 'monitor_value': 'val_custom_mae', 'optimizer': <class 'tensorflow.python.keras.optimizer_v2.adam.Adam'>, 'reduction_metric': 'custom_mae', 'samples': 20000}\n",
      "Using Loss: mean_squared_error \n",
      "and Reduction Metric: [<function custom_mae at 0x0000021D2788ACA8>]\n",
      "Monitor: val_custom_mae\n",
      "Train on 16000 samples, validate on 3968 samples\n",
      "15744/16000 [============================>.] - ETA: 0s - loss: 87.3439 - custom_mae: 1.4650\n",
      "Epoch 00001: val_custom_mae improved from inf to 0.48397, saving model to ..\\fast_output\\SYNTH_Regression_MSE\\2020-05-28_Normalized_Base_Custom-MAE\\Best_Weights_FC_341.hdf5\n",
      "16000/16000 [==============================] - 6s 355us/sample - loss: 85.9517 - custom_mae: 1.4495 - val_loss: 0.3135 - val_custom_mae: 0.4840\n",
      "Time taken: 0:00:07.339287\n"
     ]
    },
    {
     "name": "stderr",
     "output_type": "stream",
     "text": [
      "\r",
      " 95%|██████████████████████████████████████████████████████████████████████████    | 342/360 [1:01:26<02:43,  9.11s/it]"
     ]
    },
    {
     "name": "stdout",
     "output_type": "stream",
     "text": [
      "{'activation': 'relu', 'batch_size': 64, 'dropout': 0.5, 'epochs': 1, 'first_neuron': 2048, 'hidden_layers': 4, 'label_type': 'Normalized', 'loss_function': 'mean_squared_error', 'lr': 1, 'monitor_value': 'val_custom_mae', 'optimizer': <class 'tensorflow.python.keras.optimizer_v2.adam.Adam'>, 'reduction_metric': 'custom_mae', 'samples': 20000}\n",
      "Using Loss: mean_squared_error \n",
      "and Reduction Metric: [<function custom_mae at 0x0000021D2788ACA8>]\n",
      "Monitor: val_custom_mae\n",
      "Train on 16000 samples, validate on 3968 samples\n",
      "15872/16000 [============================>.] - ETA: 0s - loss: 0.9664 - custom_mae: 0.6427\n",
      "Epoch 00001: val_custom_mae improved from inf to 0.48345, saving model to ..\\fast_output\\SYNTH_Regression_MSE\\2020-05-28_Normalized_Base_Custom-MAE\\Best_Weights_FC_342.hdf5\n",
      "16000/16000 [==============================] - 6s 365us/sample - loss: 0.9612 - custom_mae: 0.6415 - val_loss: 0.3130 - val_custom_mae: 0.4835\n",
      "Time taken: 0:00:07.493664\n"
     ]
    },
    {
     "name": "stderr",
     "output_type": "stream",
     "text": [
      "\r",
      " 95%|██████████████████████████████████████████████████████████████████████████▎   | 343/360 [1:01:35<02:36,  9.18s/it]"
     ]
    },
    {
     "name": "stdout",
     "output_type": "stream",
     "text": [
      "{'activation': 'relu', 'batch_size': 64, 'dropout': 0.5, 'epochs': 1, 'first_neuron': 2048, 'hidden_layers': 4, 'label_type': 'Normalized', 'loss_function': 'mean_squared_error', 'lr': 2, 'monitor_value': 'val_custom_mae', 'optimizer': <class 'tensorflow.python.keras.optimizer_v2.adam.Adam'>, 'reduction_metric': 'custom_mae', 'samples': 20000}\n",
      "Using Loss: mean_squared_error \n",
      "and Reduction Metric: [<function custom_mae at 0x0000021D2788ACA8>]\n",
      "Monitor: val_custom_mae\n",
      "Train on 16000 samples, validate on 3968 samples\n",
      "15616/16000 [============================>.] - ETA: 0s - loss: 2.0577 - custom_mae: 0.7449\n",
      "Epoch 00001: val_custom_mae improved from inf to 0.48355, saving model to ..\\fast_output\\SYNTH_Regression_MSE\\2020-05-28_Normalized_Base_Custom-MAE\\Best_Weights_FC_343.hdf5\n",
      "16000/16000 [==============================] - 6s 361us/sample - loss: 2.0163 - custom_mae: 0.7389 - val_loss: 0.3132 - val_custom_mae: 0.4836\n",
      "Time taken: 0:00:07.447418\n"
     ]
    },
    {
     "name": "stderr",
     "output_type": "stream",
     "text": [
      "\r",
      " 96%|██████████████████████████████████████████████████████████████████████████▌   | 344/360 [1:01:45<02:27,  9.22s/it]"
     ]
    },
    {
     "name": "stdout",
     "output_type": "stream",
     "text": [
      "{'activation': 'relu', 'batch_size': 64, 'dropout': 0.5, 'epochs': 1, 'first_neuron': 2048, 'hidden_layers': 4, 'label_type': 'Normalized', 'loss_function': 'mean_squared_error', 'lr': 5, 'monitor_value': 'val_custom_mae', 'optimizer': <class 'tensorflow.python.keras.optimizer_v2.adam.Adam'>, 'reduction_metric': 'custom_mae', 'samples': 20000}\n",
      "Using Loss: mean_squared_error \n",
      "and Reduction Metric: [<function custom_mae at 0x0000021D2788ACA8>]\n",
      "Monitor: val_custom_mae\n",
      "Train on 16000 samples, validate on 3968 samples\n",
      "15744/16000 [============================>.] - ETA: 0s - loss: 13.1496 - custom_mae: 1.0178\n",
      "Epoch 00001: val_custom_mae improved from inf to 0.48391, saving model to ..\\fast_output\\SYNTH_Regression_MSE\\2020-05-28_Normalized_Base_Custom-MAE\\Best_Weights_FC_344.hdf5\n",
      "16000/16000 [==============================] - 6s 361us/sample - loss: 12.9446 - custom_mae: 1.0094 - val_loss: 0.3133 - val_custom_mae: 0.4839\n",
      "Time taken: 0:00:07.439643\n"
     ]
    },
    {
     "name": "stderr",
     "output_type": "stream",
     "text": [
      "\r",
      " 96%|██████████████████████████████████████████████████████████████████████████▊   | 345/360 [1:01:54<02:18,  9.24s/it]"
     ]
    },
    {
     "name": "stdout",
     "output_type": "stream",
     "text": [
      "{'activation': 'relu', 'batch_size': 64, 'dropout': 0.5, 'epochs': 1, 'first_neuron': 4096, 'hidden_layers': 0, 'label_type': 'Normalized', 'loss_function': 'mean_squared_error', 'lr': 1, 'monitor_value': 'val_custom_mae', 'optimizer': <class 'tensorflow.python.keras.optimizer_v2.adam.Adam'>, 'reduction_metric': 'custom_mae', 'samples': 20000}\n",
      "Using Loss: mean_squared_error \n",
      "and Reduction Metric: [<function custom_mae at 0x0000021D2788ACA8>]\n",
      "Monitor: val_custom_mae\n",
      "Train on 16000 samples, validate on 3968 samples\n",
      "15936/16000 [============================>.] - ETA: 0s - loss: 21.5490 - custom_mae: 0.9937\n",
      "Epoch 00001: val_custom_mae improved from inf to 0.24539, saving model to ..\\fast_output\\SYNTH_Regression_MSE\\2020-05-28_Normalized_Base_Custom-MAE\\Best_Weights_FC_345.hdf5\n",
      "16000/16000 [==============================] - 9s 568us/sample - loss: 21.4633 - custom_mae: 0.9909 - val_loss: 0.1183 - val_custom_mae: 0.2454\n",
      "Time taken: 0:00:10.761093\n"
     ]
    },
    {
     "name": "stderr",
     "output_type": "stream",
     "text": [
      "\r",
      " 96%|██████████████████████████████████████████████████████████████████████████▉   | 346/360 [1:02:06<02:23, 10.23s/it]"
     ]
    },
    {
     "name": "stdout",
     "output_type": "stream",
     "text": [
      "{'activation': 'relu', 'batch_size': 64, 'dropout': 0.5, 'epochs': 1, 'first_neuron': 4096, 'hidden_layers': 0, 'label_type': 'Normalized', 'loss_function': 'mean_squared_error', 'lr': 2, 'monitor_value': 'val_custom_mae', 'optimizer': <class 'tensorflow.python.keras.optimizer_v2.adam.Adam'>, 'reduction_metric': 'custom_mae', 'samples': 20000}\n",
      "Using Loss: mean_squared_error \n",
      "and Reduction Metric: [<function custom_mae at 0x0000021D2788ACA8>]\n",
      "Monitor: val_custom_mae\n",
      "Train on 16000 samples, validate on 3968 samples\n",
      "15936/16000 [============================>.] - ETA: 0s - loss: 82.3544 - custom_mae: 1.5482\n",
      "Epoch 00001: val_custom_mae improved from inf to 0.27570, saving model to ..\\fast_output\\SYNTH_Regression_MSE\\2020-05-28_Normalized_Base_Custom-MAE\\Best_Weights_FC_346.hdf5\n",
      "16000/16000 [==============================] - 9s 569us/sample - loss: 82.0257 - custom_mae: 1.5432 - val_loss: 0.1382 - val_custom_mae: 0.2757\n",
      "Time taken: 0:00:10.770454\n"
     ]
    },
    {
     "name": "stderr",
     "output_type": "stream",
     "text": [
      "\r",
      " 96%|███████████████████████████████████████████████████████████████████████████▏  | 347/360 [1:02:19<02:22, 10.93s/it]"
     ]
    },
    {
     "name": "stdout",
     "output_type": "stream",
     "text": [
      "{'activation': 'relu', 'batch_size': 64, 'dropout': 0.5, 'epochs': 1, 'first_neuron': 4096, 'hidden_layers': 0, 'label_type': 'Normalized', 'loss_function': 'mean_squared_error', 'lr': 5, 'monitor_value': 'val_custom_mae', 'optimizer': <class 'tensorflow.python.keras.optimizer_v2.adam.Adam'>, 'reduction_metric': 'custom_mae', 'samples': 20000}\n",
      "Using Loss: mean_squared_error \n",
      "and Reduction Metric: [<function custom_mae at 0x0000021D2788ACA8>]\n",
      "Monitor: val_custom_mae\n",
      "Train on 16000 samples, validate on 3968 samples\n",
      "15936/16000 [============================>.] - ETA: 0s - loss: 611.8243 - custom_mae: 3.2847\n",
      "Epoch 00001: val_custom_mae improved from inf to 0.35087, saving model to ..\\fast_output\\SYNTH_Regression_MSE\\2020-05-28_Normalized_Base_Custom-MAE\\Best_Weights_FC_347.hdf5\n",
      "16000/16000 [==============================] - 9s 570us/sample - loss: 609.3780 - custom_mae: 3.2731 - val_loss: 0.1952 - val_custom_mae: 0.3509\n",
      "Time taken: 0:00:10.754243\n"
     ]
    },
    {
     "name": "stderr",
     "output_type": "stream",
     "text": [
      "\r",
      " 97%|███████████████████████████████████████████████████████████████████████████▍  | 348/360 [1:02:32<02:16, 11.40s/it]"
     ]
    },
    {
     "name": "stdout",
     "output_type": "stream",
     "text": [
      "{'activation': 'relu', 'batch_size': 64, 'dropout': 0.5, 'epochs': 1, 'first_neuron': 4096, 'hidden_layers': 1, 'label_type': 'Normalized', 'loss_function': 'mean_squared_error', 'lr': 1, 'monitor_value': 'val_custom_mae', 'optimizer': <class 'tensorflow.python.keras.optimizer_v2.adam.Adam'>, 'reduction_metric': 'custom_mae', 'samples': 20000}\n",
      "Using Loss: mean_squared_error \n",
      "and Reduction Metric: [<function custom_mae at 0x0000021D2788ACA8>]\n",
      "Monitor: val_custom_mae\n",
      "Train on 16000 samples, validate on 3968 samples\n",
      "15936/16000 [============================>.] - ETA: 0s - loss: 32.7236 - custom_mae: 0.9296\n",
      "Epoch 00001: val_custom_mae improved from inf to 0.41183, saving model to ..\\fast_output\\SYNTH_Regression_MSE\\2020-05-28_Normalized_Base_Custom-MAE\\Best_Weights_FC_348.hdf5\n",
      "16000/16000 [==============================] - 10s 607us/sample - loss: 32.5936 - custom_mae: 0.9274 - val_loss: 0.2396 - val_custom_mae: 0.4118\n",
      "Time taken: 0:00:11.385620\n"
     ]
    },
    {
     "name": "stderr",
     "output_type": "stream",
     "text": [
      "\r",
      " 97%|███████████████████████████████████████████████████████████████████████████▌  | 349/360 [1:02:45<02:11, 11.94s/it]"
     ]
    },
    {
     "name": "stdout",
     "output_type": "stream",
     "text": [
      "{'activation': 'relu', 'batch_size': 64, 'dropout': 0.5, 'epochs': 1, 'first_neuron': 4096, 'hidden_layers': 1, 'label_type': 'Normalized', 'loss_function': 'mean_squared_error', 'lr': 2, 'monitor_value': 'val_custom_mae', 'optimizer': <class 'tensorflow.python.keras.optimizer_v2.adam.Adam'>, 'reduction_metric': 'custom_mae', 'samples': 20000}\n",
      "Using Loss: mean_squared_error \n",
      "and Reduction Metric: [<function custom_mae at 0x0000021D2788ACA8>]\n",
      "Monitor: val_custom_mae\n",
      "Train on 16000 samples, validate on 3968 samples\n",
      "15936/16000 [============================>.] - ETA: 0s - loss: 327.3470 - custom_mae: 1.6249\n",
      "Epoch 00001: val_custom_mae improved from inf to 0.36801, saving model to ..\\fast_output\\SYNTH_Regression_MSE\\2020-05-28_Normalized_Base_Custom-MAE\\Best_Weights_FC_349.hdf5\n",
      "16000/16000 [==============================] - 10s 607us/sample - loss: 326.0386 - custom_mae: 1.6200 - val_loss: 0.2050 - val_custom_mae: 0.3680\n",
      "Time taken: 0:00:11.371846\n"
     ]
    },
    {
     "name": "stderr",
     "output_type": "stream",
     "text": [
      "\r",
      " 97%|███████████████████████████████████████████████████████████████████████████▊  | 350/360 [1:02:58<02:03, 12.31s/it]"
     ]
    },
    {
     "name": "stdout",
     "output_type": "stream",
     "text": [
      "{'activation': 'relu', 'batch_size': 64, 'dropout': 0.5, 'epochs': 1, 'first_neuron': 4096, 'hidden_layers': 1, 'label_type': 'Normalized', 'loss_function': 'mean_squared_error', 'lr': 5, 'monitor_value': 'val_custom_mae', 'optimizer': <class 'tensorflow.python.keras.optimizer_v2.adam.Adam'>, 'reduction_metric': 'custom_mae', 'samples': 20000}\n",
      "Using Loss: mean_squared_error \n",
      "and Reduction Metric: [<function custom_mae at 0x0000021D2788ACA8>]\n",
      "Monitor: val_custom_mae\n",
      "Train on 16000 samples, validate on 3968 samples\n",
      "15872/16000 [============================>.] - ETA: 0s - loss: 11146.4854 - custom_mae: 6.6517\n",
      "Epoch 00001: val_custom_mae improved from inf to 0.48441, saving model to ..\\fast_output\\SYNTH_Regression_MSE\\2020-05-28_Normalized_Base_Custom-MAE\\Best_Weights_FC_350.hdf5\n",
      "16000/16000 [==============================] - 10s 604us/sample - loss: 11057.3160 - custom_mae: 6.6025 - val_loss: 0.3135 - val_custom_mae: 0.4844\n",
      "Time taken: 0:00:11.338022\n"
     ]
    },
    {
     "name": "stderr",
     "output_type": "stream",
     "text": [
      "\r",
      " 98%|████████████████████████████████████████████████████████████████████████████  | 351/360 [1:03:11<01:52, 12.55s/it]"
     ]
    },
    {
     "name": "stdout",
     "output_type": "stream",
     "text": [
      "{'activation': 'relu', 'batch_size': 64, 'dropout': 0.5, 'epochs': 1, 'first_neuron': 4096, 'hidden_layers': 2, 'label_type': 'Normalized', 'loss_function': 'mean_squared_error', 'lr': 1, 'monitor_value': 'val_custom_mae', 'optimizer': <class 'tensorflow.python.keras.optimizer_v2.adam.Adam'>, 'reduction_metric': 'custom_mae', 'samples': 20000}\n",
      "Using Loss: mean_squared_error \n",
      "and Reduction Metric: [<function custom_mae at 0x0000021D2788ACA8>]\n",
      "Monitor: val_custom_mae\n",
      "Train on 16000 samples, validate on 3968 samples\n",
      "15936/16000 [============================>.] - ETA: 0s - loss: 5.9171 - custom_mae: 0.8280\n",
      "Epoch 00001: val_custom_mae improved from inf to 0.48331, saving model to ..\\fast_output\\SYNTH_Regression_MSE\\2020-05-28_Normalized_Base_Custom-MAE\\Best_Weights_FC_351.hdf5\n",
      "16000/16000 [==============================] - 10s 616us/sample - loss: 5.8946 - custom_mae: 0.8266 - val_loss: 0.3130 - val_custom_mae: 0.4833\n",
      "Time taken: 0:00:11.524011\n"
     ]
    },
    {
     "name": "stderr",
     "output_type": "stream",
     "text": [
      "\r",
      " 98%|████████████████████████████████████████████████████████████████████████████▎ | 352/360 [1:03:24<01:42, 12.79s/it]"
     ]
    },
    {
     "name": "stdout",
     "output_type": "stream",
     "text": [
      "{'activation': 'relu', 'batch_size': 64, 'dropout': 0.5, 'epochs': 1, 'first_neuron': 4096, 'hidden_layers': 2, 'label_type': 'Normalized', 'loss_function': 'mean_squared_error', 'lr': 2, 'monitor_value': 'val_custom_mae', 'optimizer': <class 'tensorflow.python.keras.optimizer_v2.adam.Adam'>, 'reduction_metric': 'custom_mae', 'samples': 20000}\n",
      "Using Loss: mean_squared_error \n",
      "and Reduction Metric: [<function custom_mae at 0x0000021D2788ACA8>]\n",
      "Monitor: val_custom_mae\n",
      "Train on 16000 samples, validate on 3968 samples\n",
      "15936/16000 [============================>.] - ETA: 0s - loss: 70.8198 - custom_mae: 1.2639\n",
      "Epoch 00001: val_custom_mae improved from inf to 0.48370, saving model to ..\\fast_output\\SYNTH_Regression_MSE\\2020-05-28_Normalized_Base_Custom-MAE\\Best_Weights_FC_352.hdf5\n",
      "16000/16000 [==============================] - 10s 617us/sample - loss: 70.5377 - custom_mae: 1.2608 - val_loss: 0.3133 - val_custom_mae: 0.4837\n",
      "Time taken: 0:00:11.575965\n"
     ]
    },
    {
     "name": "stderr",
     "output_type": "stream",
     "text": [
      "\r",
      " 98%|████████████████████████████████████████████████████████████████████████████▍ | 353/360 [1:03:38<01:30, 12.98s/it]"
     ]
    },
    {
     "name": "stdout",
     "output_type": "stream",
     "text": [
      "{'activation': 'relu', 'batch_size': 64, 'dropout': 0.5, 'epochs': 1, 'first_neuron': 4096, 'hidden_layers': 2, 'label_type': 'Normalized', 'loss_function': 'mean_squared_error', 'lr': 5, 'monitor_value': 'val_custom_mae', 'optimizer': <class 'tensorflow.python.keras.optimizer_v2.adam.Adam'>, 'reduction_metric': 'custom_mae', 'samples': 20000}\n",
      "Using Loss: mean_squared_error \n",
      "and Reduction Metric: [<function custom_mae at 0x0000021D2788ACA8>]\n",
      "Monitor: val_custom_mae\n",
      "Train on 16000 samples, validate on 3968 samples\n",
      "15936/16000 [============================>.] - ETA: 0s - loss: 5859.1596 - custom_mae: 6.6460\n",
      "Epoch 00001: val_custom_mae improved from inf to 0.48434, saving model to ..\\fast_output\\SYNTH_Regression_MSE\\2020-05-28_Normalized_Base_Custom-MAE\\Best_Weights_FC_353.hdf5\n",
      "16000/16000 [==============================] - 10s 615us/sample - loss: 5835.7242 - custom_mae: 6.6213 - val_loss: 0.3134 - val_custom_mae: 0.4843\n",
      "Time taken: 0:00:11.486127\n"
     ]
    },
    {
     "name": "stderr",
     "output_type": "stream",
     "text": [
      "\r",
      " 98%|████████████████████████████████████████████████████████████████████████████▋ | 354/360 [1:03:51<01:18, 13.08s/it]"
     ]
    },
    {
     "name": "stdout",
     "output_type": "stream",
     "text": [
      "{'activation': 'relu', 'batch_size': 64, 'dropout': 0.5, 'epochs': 1, 'first_neuron': 4096, 'hidden_layers': 3, 'label_type': 'Normalized', 'loss_function': 'mean_squared_error', 'lr': 1, 'monitor_value': 'val_custom_mae', 'optimizer': <class 'tensorflow.python.keras.optimizer_v2.adam.Adam'>, 'reduction_metric': 'custom_mae', 'samples': 20000}\n",
      "Using Loss: mean_squared_error \n",
      "and Reduction Metric: [<function custom_mae at 0x0000021D2788ACA8>]\n",
      "Monitor: val_custom_mae\n",
      "Train on 16000 samples, validate on 3968 samples\n",
      "15936/16000 [============================>.] - ETA: 0s - loss: 3.4155 - custom_mae: 0.7843\n",
      "Epoch 00001: val_custom_mae improved from inf to 0.48292, saving model to ..\\fast_output\\SYNTH_Regression_MSE\\2020-05-28_Normalized_Base_Custom-MAE\\Best_Weights_FC_354.hdf5\n",
      "16000/16000 [==============================] - 10s 625us/sample - loss: 3.4032 - custom_mae: 0.7832 - val_loss: 0.3127 - val_custom_mae: 0.4829\n",
      "Time taken: 0:00:11.663497\n"
     ]
    },
    {
     "name": "stderr",
     "output_type": "stream",
     "text": [
      "\r",
      " 99%|████████████████████████████████████████████████████████████████████████████▉ | 355/360 [1:04:05<01:06, 13.21s/it]"
     ]
    },
    {
     "name": "stdout",
     "output_type": "stream",
     "text": [
      "{'activation': 'relu', 'batch_size': 64, 'dropout': 0.5, 'epochs': 1, 'first_neuron': 4096, 'hidden_layers': 3, 'label_type': 'Normalized', 'loss_function': 'mean_squared_error', 'lr': 2, 'monitor_value': 'val_custom_mae', 'optimizer': <class 'tensorflow.python.keras.optimizer_v2.adam.Adam'>, 'reduction_metric': 'custom_mae', 'samples': 20000}\n",
      "Using Loss: mean_squared_error \n",
      "and Reduction Metric: [<function custom_mae at 0x0000021D2788ACA8>]\n",
      "Monitor: val_custom_mae\n",
      "Train on 16000 samples, validate on 3968 samples\n",
      "15936/16000 [============================>.] - ETA: 0s - loss: 51.5169 - custom_mae: 1.1996\n",
      "Epoch 00001: val_custom_mae improved from inf to 0.48371, saving model to ..\\fast_output\\SYNTH_Regression_MSE\\2020-05-28_Normalized_Base_Custom-MAE\\Best_Weights_FC_355.hdf5\n",
      "16000/16000 [==============================] - 10s 622us/sample - loss: 51.3122 - custom_mae: 1.1968 - val_loss: 0.3133 - val_custom_mae: 0.4837\n",
      "Time taken: 0:00:11.625046\n"
     ]
    },
    {
     "name": "stderr",
     "output_type": "stream",
     "text": [
      "\r",
      " 99%|█████████████████████████████████████████████████████████████████████████████▏| 356/360 [1:04:18<00:53, 13.29s/it]"
     ]
    },
    {
     "name": "stdout",
     "output_type": "stream",
     "text": [
      "{'activation': 'relu', 'batch_size': 64, 'dropout': 0.5, 'epochs': 1, 'first_neuron': 4096, 'hidden_layers': 3, 'label_type': 'Normalized', 'loss_function': 'mean_squared_error', 'lr': 5, 'monitor_value': 'val_custom_mae', 'optimizer': <class 'tensorflow.python.keras.optimizer_v2.adam.Adam'>, 'reduction_metric': 'custom_mae', 'samples': 20000}\n",
      "Using Loss: mean_squared_error \n",
      "and Reduction Metric: [<function custom_mae at 0x0000021D2788ACA8>]\n",
      "Monitor: val_custom_mae\n",
      "Train on 16000 samples, validate on 3968 samples\n",
      "15936/16000 [============================>.] - ETA: 0s - loss: 9508.5249 - custom_mae: 6.8531\n",
      "Epoch 00001: val_custom_mae improved from inf to 0.48353, saving model to ..\\fast_output\\SYNTH_Regression_MSE\\2020-05-28_Normalized_Base_Custom-MAE\\Best_Weights_FC_356.hdf5\n",
      "16000/16000 [==============================] - 10s 626us/sample - loss: 9470.4920 - custom_mae: 6.8276 - val_loss: 0.3134 - val_custom_mae: 0.4835\n",
      "Time taken: 0:00:11.682258\n"
     ]
    },
    {
     "name": "stderr",
     "output_type": "stream",
     "text": [
      "\r",
      " 99%|█████████████████████████████████████████████████████████████████████████████▎| 357/360 [1:04:32<00:40, 13.36s/it]"
     ]
    },
    {
     "name": "stdout",
     "output_type": "stream",
     "text": [
      "{'activation': 'relu', 'batch_size': 64, 'dropout': 0.5, 'epochs': 1, 'first_neuron': 4096, 'hidden_layers': 4, 'label_type': 'Normalized', 'loss_function': 'mean_squared_error', 'lr': 1, 'monitor_value': 'val_custom_mae', 'optimizer': <class 'tensorflow.python.keras.optimizer_v2.adam.Adam'>, 'reduction_metric': 'custom_mae', 'samples': 20000}\n",
      "Using Loss: mean_squared_error \n",
      "and Reduction Metric: [<function custom_mae at 0x0000021D2788ACA8>]\n",
      "Monitor: val_custom_mae\n",
      "Train on 16000 samples, validate on 3968 samples\n",
      "15872/16000 [============================>.] - ETA: 0s - loss: 1.4929 - custom_mae: 0.7018\n",
      "Epoch 00001: val_custom_mae improved from inf to 0.48348, saving model to ..\\fast_output\\SYNTH_Regression_MSE\\2020-05-28_Normalized_Base_Custom-MAE\\Best_Weights_FC_357.hdf5\n",
      "16000/16000 [==============================] - 10s 628us/sample - loss: 1.4834 - custom_mae: 0.7001 - val_loss: 0.3130 - val_custom_mae: 0.4835\n",
      "Time taken: 0:00:11.709386\n"
     ]
    },
    {
     "name": "stderr",
     "output_type": "stream",
     "text": [
      "\r",
      " 99%|█████████████████████████████████████████████████████████████████████████████▌| 358/360 [1:04:45<00:26, 13.42s/it]"
     ]
    },
    {
     "name": "stdout",
     "output_type": "stream",
     "text": [
      "{'activation': 'relu', 'batch_size': 64, 'dropout': 0.5, 'epochs': 1, 'first_neuron': 4096, 'hidden_layers': 4, 'label_type': 'Normalized', 'loss_function': 'mean_squared_error', 'lr': 2, 'monitor_value': 'val_custom_mae', 'optimizer': <class 'tensorflow.python.keras.optimizer_v2.adam.Adam'>, 'reduction_metric': 'custom_mae', 'samples': 20000}\n",
      "Using Loss: mean_squared_error \n",
      "and Reduction Metric: [<function custom_mae at 0x0000021D2788ACA8>]\n",
      "Monitor: val_custom_mae\n",
      "Train on 16000 samples, validate on 3968 samples\n",
      "15808/16000 [============================>.] - ETA: 0s - loss: 8.8383 - custom_mae: 0.8885\n",
      "Epoch 00001: val_custom_mae improved from inf to 0.48351, saving model to ..\\fast_output\\SYNTH_Regression_MSE\\2020-05-28_Normalized_Base_Custom-MAE\\Best_Weights_FC_358.hdf5\n",
      "16000/16000 [==============================] - 10s 631us/sample - loss: 8.7360 - custom_mae: 0.8835 - val_loss: 0.3132 - val_custom_mae: 0.4835\n",
      "Time taken: 0:00:11.798158\n"
     ]
    },
    {
     "name": "stderr",
     "output_type": "stream",
     "text": [
      "\r",
      "100%|█████████████████████████████████████████████████████████████████████████████▊| 359/360 [1:04:59<00:13, 13.50s/it]"
     ]
    },
    {
     "name": "stdout",
     "output_type": "stream",
     "text": [
      "{'activation': 'relu', 'batch_size': 64, 'dropout': 0.5, 'epochs': 1, 'first_neuron': 4096, 'hidden_layers': 4, 'label_type': 'Normalized', 'loss_function': 'mean_squared_error', 'lr': 5, 'monitor_value': 'val_custom_mae', 'optimizer': <class 'tensorflow.python.keras.optimizer_v2.adam.Adam'>, 'reduction_metric': 'custom_mae', 'samples': 20000}\n",
      "Using Loss: mean_squared_error \n",
      "and Reduction Metric: [<function custom_mae at 0x0000021D2788ACA8>]\n",
      "Monitor: val_custom_mae\n",
      "Train on 16000 samples, validate on 3968 samples\n",
      "15936/16000 [============================>.] - ETA: 0s - loss: 1503.8367 - custom_mae: 2.9431\n",
      "Epoch 00001: val_custom_mae improved from inf to 0.48409, saving model to ..\\fast_output\\SYNTH_Regression_MSE\\2020-05-28_Normalized_Base_Custom-MAE\\Best_Weights_FC_359.hdf5\n",
      "16000/16000 [==============================] - 10s 633us/sample - loss: 1497.8225 - custom_mae: 2.9333 - val_loss: 0.3136 - val_custom_mae: 0.4841\n",
      "Time taken: 0:00:11.816134\n"
     ]
    },
    {
     "name": "stderr",
     "output_type": "stream",
     "text": [
      "100%|██████████████████████████████████████████████████████████████████████████████| 360/360 [1:05:13<00:00, 10.87s/it]\n"
     ]
    }
   ],
   "source": [
    "import numpy as np\n",
    "dummy_x = np.empty((1, 2, 3, 224, 224))\n",
    "dummy_y = np.empty((1, 2))\n",
    "\n",
    "with tf.device('/device:GPU:0'):\n",
    "    \n",
    "        t = ta.Scan(\n",
    "            x = dummy_x,\n",
    "            y = dummy_y,\n",
    "            model = grid_model_base,\n",
    "            params = hyper_parameter,\n",
    "            experiment_name = '{}'.format(_DATASET_NAME),\n",
    "            #shuffle=False,\n",
    "            reduction_metric = hyper_parameter['reduction_metric'][0],\n",
    "            disable_progress_bar = False,\n",
    "            print_params = True,\n",
    "            clear_session = True,\n",
    "            save_weights = False\n",
    "        )\n",
    "        \n",
    "\n",
    "t.data.to_csv(_LOG_DIR + _RESULTS_FILE, index = True)"
   ]
  },
  {
   "cell_type": "markdown",
   "metadata": {},
   "source": [
    "# Copy best 10 Results to NAS if SSD Directory was selected"
   ]
  },
  {
   "cell_type": "code",
   "execution_count": 16,
   "metadata": {},
   "outputs": [
    {
     "name": "stdout",
     "output_type": "stream",
     "text": [
      "Displaying: ..\\fast_output\\SYNTH_Regression_MSE\\2020-05-28_Normalized_Base_Custom-MAE\\..\\2020-05-28_Normalized_Base_Custom-MAE_Results.csv\n"
     ]
    },
    {
     "data": {
      "text/html": [
       "<div>\n",
       "<style scoped>\n",
       "    .dataframe tbody tr th:only-of-type {\n",
       "        vertical-align: middle;\n",
       "    }\n",
       "\n",
       "    .dataframe tbody tr th {\n",
       "        vertical-align: top;\n",
       "    }\n",
       "\n",
       "    .dataframe thead th {\n",
       "        text-align: right;\n",
       "    }\n",
       "</style>\n",
       "<table border=\"1\" class=\"dataframe\">\n",
       "  <thead>\n",
       "    <tr style=\"text-align: right;\">\n",
       "      <th></th>\n",
       "      <th>Unnamed: 0</th>\n",
       "      <th>start</th>\n",
       "      <th>end</th>\n",
       "      <th>duration</th>\n",
       "      <th>loss</th>\n",
       "      <th>custom_mae</th>\n",
       "      <th>val_loss</th>\n",
       "      <th>val_custom_mae</th>\n",
       "      <th>activation</th>\n",
       "      <th>batch_size</th>\n",
       "      <th>dropout</th>\n",
       "      <th>first_neuron</th>\n",
       "      <th>hidden_layers</th>\n",
       "      <th>label_type</th>\n",
       "      <th>loss_function</th>\n",
       "      <th>lr</th>\n",
       "      <th>monitor_value</th>\n",
       "      <th>optimizer</th>\n",
       "      <th>reduction_metric</th>\n",
       "    </tr>\n",
       "  </thead>\n",
       "  <tbody>\n",
       "    <tr>\n",
       "      <th>210</th>\n",
       "      <td>210</td>\n",
       "      <td>10/29/20-193146</td>\n",
       "      <td>10/29/20-193201</td>\n",
       "      <td>14.936548</td>\n",
       "      <td>10.795315</td>\n",
       "      <td>0.595088</td>\n",
       "      <td>0.101124</td>\n",
       "      <td>0.214072</td>\n",
       "      <td>relu</td>\n",
       "      <td>32</td>\n",
       "      <td>0.25</td>\n",
       "      <td>4096</td>\n",
       "      <td>0</td>\n",
       "      <td>Normalized</td>\n",
       "      <td>mean_squared_error</td>\n",
       "      <td>1</td>\n",
       "      <td>val_custom_mae</td>\n",
       "      <td>&lt;class 'tensorflow.python.keras.optimizer_v2.a...</td>\n",
       "      <td>custom_mae</td>\n",
       "    </tr>\n",
       "    <tr>\n",
       "      <th>195</th>\n",
       "      <td>195</td>\n",
       "      <td>10/29/20-192905</td>\n",
       "      <td>10/29/20-192915</td>\n",
       "      <td>10.025699</td>\n",
       "      <td>5.247484</td>\n",
       "      <td>0.605640</td>\n",
       "      <td>0.100757</td>\n",
       "      <td>0.215078</td>\n",
       "      <td>relu</td>\n",
       "      <td>32</td>\n",
       "      <td>0.25</td>\n",
       "      <td>2048</td>\n",
       "      <td>0</td>\n",
       "      <td>Normalized</td>\n",
       "      <td>mean_squared_error</td>\n",
       "      <td>1</td>\n",
       "      <td>val_custom_mae</td>\n",
       "      <td>&lt;class 'tensorflow.python.keras.optimizer_v2.a...</td>\n",
       "      <td>custom_mae</td>\n",
       "    </tr>\n",
       "    <tr>\n",
       "      <th>180</th>\n",
       "      <td>180</td>\n",
       "      <td>10/29/20-192658</td>\n",
       "      <td>10/29/20-192709</td>\n",
       "      <td>11.400928</td>\n",
       "      <td>2.732533</td>\n",
       "      <td>0.477908</td>\n",
       "      <td>0.104949</td>\n",
       "      <td>0.220771</td>\n",
       "      <td>relu</td>\n",
       "      <td>32</td>\n",
       "      <td>0.25</td>\n",
       "      <td>1024</td>\n",
       "      <td>0</td>\n",
       "      <td>Normalized</td>\n",
       "      <td>mean_squared_error</td>\n",
       "      <td>1</td>\n",
       "      <td>val_custom_mae</td>\n",
       "      <td>&lt;class 'tensorflow.python.keras.optimizer_v2.a...</td>\n",
       "      <td>custom_mae</td>\n",
       "    </tr>\n",
       "    <tr>\n",
       "      <th>300</th>\n",
       "      <td>300</td>\n",
       "      <td>10/29/20-194850</td>\n",
       "      <td>10/29/20-194902</td>\n",
       "      <td>12.204615</td>\n",
       "      <td>22.274675</td>\n",
       "      <td>0.953535</td>\n",
       "      <td>0.112903</td>\n",
       "      <td>0.238330</td>\n",
       "      <td>relu</td>\n",
       "      <td>64</td>\n",
       "      <td>0.25</td>\n",
       "      <td>4096</td>\n",
       "      <td>0</td>\n",
       "      <td>Normalized</td>\n",
       "      <td>mean_squared_error</td>\n",
       "      <td>1</td>\n",
       "      <td>val_custom_mae</td>\n",
       "      <td>&lt;class 'tensorflow.python.keras.optimizer_v2.a...</td>\n",
       "      <td>custom_mae</td>\n",
       "    </tr>\n",
       "    <tr>\n",
       "      <th>211</th>\n",
       "      <td>211</td>\n",
       "      <td>10/29/20-193201</td>\n",
       "      <td>10/29/20-193216</td>\n",
       "      <td>14.956688</td>\n",
       "      <td>42.028975</td>\n",
       "      <td>0.893910</td>\n",
       "      <td>0.116852</td>\n",
       "      <td>0.238365</td>\n",
       "      <td>relu</td>\n",
       "      <td>32</td>\n",
       "      <td>0.25</td>\n",
       "      <td>4096</td>\n",
       "      <td>0</td>\n",
       "      <td>Normalized</td>\n",
       "      <td>mean_squared_error</td>\n",
       "      <td>2</td>\n",
       "      <td>val_custom_mae</td>\n",
       "      <td>&lt;class 'tensorflow.python.keras.optimizer_v2.a...</td>\n",
       "      <td>custom_mae</td>\n",
       "    </tr>\n",
       "    <tr>\n",
       "      <th>240</th>\n",
       "      <td>240</td>\n",
       "      <td>10/29/20-193755</td>\n",
       "      <td>10/29/20-193805</td>\n",
       "      <td>10.143713</td>\n",
       "      <td>4.793068</td>\n",
       "      <td>0.598642</td>\n",
       "      <td>0.116115</td>\n",
       "      <td>0.239593</td>\n",
       "      <td>relu</td>\n",
       "      <td>32</td>\n",
       "      <td>0.50</td>\n",
       "      <td>2048</td>\n",
       "      <td>0</td>\n",
       "      <td>Normalized</td>\n",
       "      <td>mean_squared_error</td>\n",
       "      <td>1</td>\n",
       "      <td>val_custom_mae</td>\n",
       "      <td>&lt;class 'tensorflow.python.keras.optimizer_v2.a...</td>\n",
       "      <td>custom_mae</td>\n",
       "    </tr>\n",
       "    <tr>\n",
       "      <th>183</th>\n",
       "      <td>183</td>\n",
       "      <td>10/29/20-192725</td>\n",
       "      <td>10/29/20-192733</td>\n",
       "      <td>7.764266</td>\n",
       "      <td>1.332591</td>\n",
       "      <td>0.489436</td>\n",
       "      <td>0.118337</td>\n",
       "      <td>0.241562</td>\n",
       "      <td>relu</td>\n",
       "      <td>32</td>\n",
       "      <td>0.25</td>\n",
       "      <td>1024</td>\n",
       "      <td>1</td>\n",
       "      <td>Normalized</td>\n",
       "      <td>mean_squared_error</td>\n",
       "      <td>1</td>\n",
       "      <td>val_custom_mae</td>\n",
       "      <td>&lt;class 'tensorflow.python.keras.optimizer_v2.a...</td>\n",
       "      <td>custom_mae</td>\n",
       "    </tr>\n",
       "    <tr>\n",
       "      <th>285</th>\n",
       "      <td>285</td>\n",
       "      <td>10/29/20-194634</td>\n",
       "      <td>10/29/20-194643</td>\n",
       "      <td>8.401402</td>\n",
       "      <td>10.567411</td>\n",
       "      <td>0.992507</td>\n",
       "      <td>0.117695</td>\n",
       "      <td>0.242329</td>\n",
       "      <td>relu</td>\n",
       "      <td>64</td>\n",
       "      <td>0.25</td>\n",
       "      <td>2048</td>\n",
       "      <td>0</td>\n",
       "      <td>Normalized</td>\n",
       "      <td>mean_squared_error</td>\n",
       "      <td>1</td>\n",
       "      <td>val_custom_mae</td>\n",
       "      <td>&lt;class 'tensorflow.python.keras.optimizer_v2.a...</td>\n",
       "      <td>custom_mae</td>\n",
       "    </tr>\n",
       "    <tr>\n",
       "      <th>196</th>\n",
       "      <td>196</td>\n",
       "      <td>10/29/20-192915</td>\n",
       "      <td>10/29/20-192925</td>\n",
       "      <td>9.898231</td>\n",
       "      <td>18.965731</td>\n",
       "      <td>0.943573</td>\n",
       "      <td>0.118273</td>\n",
       "      <td>0.242819</td>\n",
       "      <td>relu</td>\n",
       "      <td>32</td>\n",
       "      <td>0.25</td>\n",
       "      <td>2048</td>\n",
       "      <td>0</td>\n",
       "      <td>Normalized</td>\n",
       "      <td>mean_squared_error</td>\n",
       "      <td>2</td>\n",
       "      <td>val_custom_mae</td>\n",
       "      <td>&lt;class 'tensorflow.python.keras.optimizer_v2.a...</td>\n",
       "      <td>custom_mae</td>\n",
       "    </tr>\n",
       "    <tr>\n",
       "      <th>345</th>\n",
       "      <td>345</td>\n",
       "      <td>10/29/20-195613</td>\n",
       "      <td>10/29/20-195625</td>\n",
       "      <td>12.194129</td>\n",
       "      <td>21.463338</td>\n",
       "      <td>0.990857</td>\n",
       "      <td>0.118296</td>\n",
       "      <td>0.245393</td>\n",
       "      <td>relu</td>\n",
       "      <td>64</td>\n",
       "      <td>0.50</td>\n",
       "      <td>4096</td>\n",
       "      <td>0</td>\n",
       "      <td>Normalized</td>\n",
       "      <td>mean_squared_error</td>\n",
       "      <td>1</td>\n",
       "      <td>val_custom_mae</td>\n",
       "      <td>&lt;class 'tensorflow.python.keras.optimizer_v2.a...</td>\n",
       "      <td>custom_mae</td>\n",
       "    </tr>\n",
       "  </tbody>\n",
       "</table>\n",
       "</div>"
      ],
      "text/plain": [
       "     Unnamed: 0            start              end   duration       loss  \\\n",
       "210         210  10/29/20-193146  10/29/20-193201  14.936548  10.795315   \n",
       "195         195  10/29/20-192905  10/29/20-192915  10.025699   5.247484   \n",
       "180         180  10/29/20-192658  10/29/20-192709  11.400928   2.732533   \n",
       "300         300  10/29/20-194850  10/29/20-194902  12.204615  22.274675   \n",
       "211         211  10/29/20-193201  10/29/20-193216  14.956688  42.028975   \n",
       "240         240  10/29/20-193755  10/29/20-193805  10.143713   4.793068   \n",
       "183         183  10/29/20-192725  10/29/20-192733   7.764266   1.332591   \n",
       "285         285  10/29/20-194634  10/29/20-194643   8.401402  10.567411   \n",
       "196         196  10/29/20-192915  10/29/20-192925   9.898231  18.965731   \n",
       "345         345  10/29/20-195613  10/29/20-195625  12.194129  21.463338   \n",
       "\n",
       "     custom_mae  val_loss  val_custom_mae activation  batch_size  dropout  \\\n",
       "210    0.595088  0.101124        0.214072       relu          32     0.25   \n",
       "195    0.605640  0.100757        0.215078       relu          32     0.25   \n",
       "180    0.477908  0.104949        0.220771       relu          32     0.25   \n",
       "300    0.953535  0.112903        0.238330       relu          64     0.25   \n",
       "211    0.893910  0.116852        0.238365       relu          32     0.25   \n",
       "240    0.598642  0.116115        0.239593       relu          32     0.50   \n",
       "183    0.489436  0.118337        0.241562       relu          32     0.25   \n",
       "285    0.992507  0.117695        0.242329       relu          64     0.25   \n",
       "196    0.943573  0.118273        0.242819       relu          32     0.25   \n",
       "345    0.990857  0.118296        0.245393       relu          64     0.50   \n",
       "\n",
       "     first_neuron  hidden_layers  label_type       loss_function  lr  \\\n",
       "210          4096              0  Normalized  mean_squared_error   1   \n",
       "195          2048              0  Normalized  mean_squared_error   1   \n",
       "180          1024              0  Normalized  mean_squared_error   1   \n",
       "300          4096              0  Normalized  mean_squared_error   1   \n",
       "211          4096              0  Normalized  mean_squared_error   2   \n",
       "240          2048              0  Normalized  mean_squared_error   1   \n",
       "183          1024              1  Normalized  mean_squared_error   1   \n",
       "285          2048              0  Normalized  mean_squared_error   1   \n",
       "196          2048              0  Normalized  mean_squared_error   2   \n",
       "345          4096              0  Normalized  mean_squared_error   1   \n",
       "\n",
       "      monitor_value                                          optimizer  \\\n",
       "210  val_custom_mae  <class 'tensorflow.python.keras.optimizer_v2.a...   \n",
       "195  val_custom_mae  <class 'tensorflow.python.keras.optimizer_v2.a...   \n",
       "180  val_custom_mae  <class 'tensorflow.python.keras.optimizer_v2.a...   \n",
       "300  val_custom_mae  <class 'tensorflow.python.keras.optimizer_v2.a...   \n",
       "211  val_custom_mae  <class 'tensorflow.python.keras.optimizer_v2.a...   \n",
       "240  val_custom_mae  <class 'tensorflow.python.keras.optimizer_v2.a...   \n",
       "183  val_custom_mae  <class 'tensorflow.python.keras.optimizer_v2.a...   \n",
       "285  val_custom_mae  <class 'tensorflow.python.keras.optimizer_v2.a...   \n",
       "196  val_custom_mae  <class 'tensorflow.python.keras.optimizer_v2.a...   \n",
       "345  val_custom_mae  <class 'tensorflow.python.keras.optimizer_v2.a...   \n",
       "\n",
       "    reduction_metric  \n",
       "210       custom_mae  \n",
       "195       custom_mae  \n",
       "180       custom_mae  \n",
       "300       custom_mae  \n",
       "211       custom_mae  \n",
       "240       custom_mae  \n",
       "183       custom_mae  \n",
       "285       custom_mae  \n",
       "196       custom_mae  \n",
       "345       custom_mae  "
      ]
     },
     "execution_count": 16,
     "metadata": {},
     "output_type": "execute_result"
    }
   ],
   "source": [
    "best_results = _LOG_DIR + '..\\\\{}_{}_Base{}_Results.csv'.format(_DATASET_NAME, hyper_parameter['label_type'][0], _note)\n",
    "df = pd.read_csv(best_results).drop(columns = ['round_epochs', 'samples', 'epochs'], axis = 0)\n",
    "df = df.sort_values(hyper_parameter['monitor_value'][0], axis = 0, ascending = True, inplace = False, kind = 'quicksort', na_position = 'last')\n",
    "print('Displaying: {}'.format(best_results))\n",
    "df.head(10)"
   ]
  },
  {
   "cell_type": "code",
   "execution_count": 17,
   "metadata": {},
   "outputs": [],
   "source": [
    "def copy_base_directory(src, dst, data, symlinks = False, ignore = None):\n",
    "    maxLen = 0\n",
    "    message = ''\n",
    "    \n",
    "    networks_to_copy = data.head(10).index\n",
    "    \n",
    "    if not os.path.exists(dst):\n",
    "        \n",
    "        message = 'Creating Path: {}'.format(src)\n",
    "        maxLen = max(maxLen, len(message))\n",
    "        print(message + ' ' * (maxLen - len(message)), end = '\\r')\n",
    "        \n",
    "        os.makedirs(dst)\n",
    "        \n",
    "    for item in os.listdir(src):\n",
    "        \n",
    "        s = os.path.join(src, item)\n",
    "        d = os.path.join(dst, item)\n",
    "        \n",
    "        if os.path.isdir(s):\n",
    "            \n",
    "            message = 'Copying Directory: {}'.format(s)\n",
    "            maxLen = max(maxLen, len(message))\n",
    "            print(message + ' ' * (maxLen - len(message)), end = '\\r')\n",
    "            \n",
    "            shutil.copytree(s, d, symlinks, ignore)\n",
    "            \n",
    "        else:\n",
    "            \n",
    "            if not os.path.exists(d): #or os.stat(s).st_mtime - os.stat(d).st_mtime > 1:\n",
    "                for idx in networks_to_copy:\n",
    "                    net = '_FC_{}.hdf5'.format(idx)\n",
    "                    if net in item or '_Bottleneck_' in item or '_GPU' in item:\n",
    "                        message = 'Copying File: {}'.format(s)\n",
    "                        maxLen = max(maxLen, len(message))\n",
    "                        print(message + ' ' * (maxLen - len(message)), end = '\\r')\n",
    "                \n",
    "                        shutil.copy2(s, d)\n",
    "        \n",
    "        time.sleep(.1)    \n",
    "    \n",
    "    src_csv = src + _RESULTS_FILE\n",
    "    dst_csv = dst + _RESULTS_FILE\n",
    "    if not os.path.exists(dst_csv):\n",
    "        message = 'Copying File: {}'.format(src_csv)\n",
    "        maxLen = max(maxLen, len(message))\n",
    "        print(message + ' ' * (maxLen - len(message)), end = '\\r')\n",
    "        shutil.copy2(src_csv, dst_csv)\n",
    "     \n",
    "    message = 'Coyping... Done'\n",
    "    maxLen = max(maxLen, len(message))\n",
    "    print(message + ' ' * (maxLen - len(message)), end = '\\n')\n",
    "\n",
    "    \n",
    "def delete_directory(src, terminator = '\\n'):\n",
    "    message = ''\n",
    "    maxLen = 0\n",
    "    \n",
    "    try:\n",
    "        message = 'Deleting {}'.format(src)\n",
    "        maxLen = max(maxLen, len(message))\n",
    "        print(message + ' ' * (maxLen - len(message)), end = '\\r')\n",
    "        \n",
    "        if os.path.isdir(src):\n",
    "            shutil.rmtree(src)\n",
    "            \n",
    "        elif os.path.isfile(src):\n",
    "            os.remove(src)\n",
    "        \n",
    "    except OSError as e:\n",
    "        message = 'Error: {} : {}'.format(src, e.strerror)\n",
    "        maxLen = max(maxLen, len(message))\n",
    "        print(message + ' ' * (maxLen - len(message)), end = '\\n')\n",
    "        return\n",
    "    \n",
    "    message = 'Deleting... Done'\n",
    "    maxLen = max(maxLen, len(message))\n",
    "    print(message + ' ' * (maxLen - len(message)), end = terminator)\n",
    "\n",
    "    \n",
    "def copy_base_training(src, dst):\n",
    "    copy_base_directory(src, dst, df)\n",
    "    \n",
    "    delete_directory(src, terminator = '\\r')\n",
    "    delete_directory(src + _RESULTS_FILE, terminator = '\\r')\n",
    "    if not os.listdir(src + '..\\\\'):\n",
    "        delete_directory(src + '..\\\\', terminator = '\\r')"
   ]
  },
  {
   "cell_type": "code",
   "execution_count": 18,
   "metadata": {
    "scrolled": true
   },
   "outputs": [
    {
     "name": "stdout",
     "output_type": "stream",
     "text": [
      "Coyping... Done                                                                                                                              \n",
      "Deleting... Done                                                                                                                        \r"
     ]
    }
   ],
   "source": [
    "if(storage == OutputDirectory.SSD):\n",
    "    _COPY_DIR = '..\\\\output\\\\{}'.format(_NET_DIR)\n",
    "    copy_base_training(_LOG_DIR, _COPY_DIR)"
   ]
  },
  {
   "cell_type": "code",
   "execution_count": null,
   "metadata": {},
   "outputs": [],
   "source": []
  }
 ],
 "metadata": {
  "kernelspec": {
   "display_name": "Python [conda env:tf_test]",
   "language": "python",
   "name": "conda-env-tf_test-py"
  },
  "language_info": {
   "codemirror_mode": {
    "name": "ipython",
    "version": 3
   },
   "file_extension": ".py",
   "mimetype": "text/x-python",
   "name": "python",
   "nbconvert_exporter": "python",
   "pygments_lexer": "ipython3",
   "version": "3.7.7"
  }
 },
 "nbformat": 4,
 "nbformat_minor": 2
}
