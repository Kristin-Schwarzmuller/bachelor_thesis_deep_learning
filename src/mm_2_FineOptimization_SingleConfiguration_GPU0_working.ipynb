{
 "cells": [
  {
   "cell_type": "markdown",
   "metadata": {},
   "source": [
    "# Single Training on GPU 0"
   ]
  },
  {
   "cell_type": "markdown",
   "metadata": {},
   "source": [
    "# Quick Links <a name = \"Top\"></a>\n",
    "\n",
    "<ol>\n",
    "<li><a href = #setup>Begin Training</a></li>\n",
    "</ol>"
   ]
  },
  {
   "cell_type": "markdown",
   "metadata": {},
   "source": [
    "# Imports"
   ]
  },
  {
   "cell_type": "code",
   "execution_count": 1,
   "metadata": {},
   "outputs": [],
   "source": [
    "import os\n",
    "\n",
    "#os.environ[\"CUDA_VISIBLE_DEVICES\"]='0'\n",
    "\n",
    "#print('Current Conda Environment: {}'.format(os.environ['CONDA_DEFAULT_ENV']))"
   ]
  },
  {
   "cell_type": "code",
   "execution_count": 2,
   "metadata": {},
   "outputs": [
    {
     "name": "stdout",
     "output_type": "stream",
     "text": [
      "The installed version of TensorFlow 2.3.1 does not include GPU support.\n",
      "\n",
      "[name: \"/device:CPU:0\"\n",
      "device_type: \"CPU\"\n",
      "memory_limit: 268435456\n",
      "locality {\n",
      "}\n",
      "incarnation: 2005844600110865474\n",
      ", name: \"/device:XLA_CPU:0\"\n",
      "device_type: \"XLA_CPU\"\n",
      "memory_limit: 17179869184\n",
      "locality {\n",
      "}\n",
      "incarnation: 99545989670981413\n",
      "physical_device_desc: \"device: XLA_CPU device\"\n",
      ", name: \"/device:XLA_GPU:0\"\n",
      "device_type: \"XLA_GPU\"\n",
      "memory_limit: 17179869184\n",
      "locality {\n",
      "}\n",
      "incarnation: 7648989804002239458\n",
      "physical_device_desc: \"device: XLA_GPU device\"\n",
      "]\n"
     ]
    }
   ],
   "source": [
    "import talos as ta\n",
    "from talos.model import lr_normalizer, early_stopper, hidden_layers\n",
    "\n",
    "import tensorflow as tf\n",
    "  \n",
    "available_gpus = tf.config.experimental.list_physical_devices('GPU')\n",
    "built_with_cuda = tf.test.is_built_with_cuda()\n",
    "\n",
    "if not (not available_gpus) & built_with_cuda:\n",
    "    print(\"The installed version of TensorFlow {} includes GPU support.\\n\".format(tf.__version__))\n",
    "    print(\"Num GPUs Available: \", len(available_gpus), \"\\n\")\n",
    "else:\n",
    "    print(\"The installed version of TensorFlow {} does not include GPU support.\\n\".format(tf.__version__))\n",
    "    \n",
    "from tensorflow.python.client import device_lib\n",
    "print(device_lib.list_local_devices())\n",
    "\n",
    "from tensorflow.compat.v1.keras import callbacks, backend as K\n",
    "from tensorflow.keras.models import Sequential, load_model\n",
    "from tensorflow.keras.layers import Dense, Dropout, Flatten\n",
    "from tensorflow.keras.preprocessing.image import ImageDataGenerator\n",
    "from tensorflow.keras.applications import VGG16\n",
    "from tensorflow.keras.utils import multi_gpu_model\n",
    "from tensorflow.keras.initializers import glorot_uniform\n",
    "from tensorflow.keras.optimizers import Adam, Nadam, RMSprop, SGD, Adagrad\n",
    "from tensorflow.keras.layers import ReLU, LeakyReLU\n",
    "\n",
    "from datetime import datetime\n",
    "import pandas as pd\n",
    "import numpy as np\n",
    "import shutil\n",
    "\n",
    "from copy import deepcopy\n",
    "\n",
    "import time\n",
    "\n",
    "from numpy.random import seed\n",
    "seed(1)\n",
    "tf.random.set_seed(1)\n",
    "\n",
    "config = tf.compat.v1.ConfigProto()\n",
    "config.gpu_options.allow_growth=True\n",
    "config.gpu_options.per_process_gpu_memory_fraction = 0.99\n",
    "sess = tf.compat.v1.Session(config = config)\n",
    "K.set_session(sess)"
   ]
  },
  {
   "cell_type": "markdown",
   "metadata": {},
   "source": [
    "# Hilfsfunktionen"
   ]
  },
  {
   "cell_type": "markdown",
   "metadata": {},
   "source": [
    "### Enum für Training-Set"
   ]
  },
  {
   "cell_type": "code",
   "execution_count": 3,
   "metadata": {},
   "outputs": [],
   "source": [
    "from enum import Enum\n",
    "\n",
    "class TrainingSet(Enum):\n",
    "    SYNTHETIC = 1\n",
    "    REAL = 2\n",
    "    MIXED = 3"
   ]
  },
  {
   "cell_type": "markdown",
   "metadata": {},
   "source": [
    "### Output Directory\n",
    "\n",
    "* <i>SSD</i>, falls genug Speicher auf SSD im SymLink <i>fast_output</i> verfügbar ist\n",
    "* <i>HDD</i>, falls möglicherweise zu wenig SSD-Speicher verfügbar ist $\\rightarrow$ <i>output</i>"
   ]
  },
  {
   "cell_type": "code",
   "execution_count": 4,
   "metadata": {},
   "outputs": [],
   "source": [
    "from enum import IntEnum\n",
    "\n",
    "class OutputDirectory(IntEnum):\n",
    "    HDD = 0\n",
    "    SSD = 1\n",
    "    \n",
    "output_path = ['output', 'fast_output']"
   ]
  },
  {
   "cell_type": "markdown",
   "metadata": {},
   "source": [
    "### Benutzerdefinierte Kostenfunktion & Metrik"
   ]
  },
  {
   "cell_type": "code",
   "execution_count": 5,
   "metadata": {},
   "outputs": [],
   "source": [
    "def circular_mse(y_true, y_pred):\n",
    "    max_error = tf.constant(360, dtype='float32')\n",
    "    return K.mean(K.square(K.minimum(K.abs(y_pred - y_true), max_error - K.abs(y_pred - y_true))), axis = -1)\n",
    "\n",
    "def circular_mae(y_true, y_pred):\n",
    "    max_error = tf.constant(360, dtype='float32')\n",
    "    return K.mean(K.minimum(K.abs(y_pred - y_true), K.abs(max_error - K.abs(y_pred - y_true))), axis = -1)\n",
    "\n",
    "def custom_mae(y_true, y_pred):\n",
    "    return K.mean(K.abs(y_pred - y_true), axis = -1)"
   ]
  },
  {
   "cell_type": "markdown",
   "metadata": {},
   "source": [
    "### Convert Label_Type into suitable label names.\n",
    "$\\Rightarrow$ Angular / Normalized $\\rightarrow$ ['Elevation', 'Azimuth']\n",
    "\n",
    "$\\Rightarrow$ Stereographic $\\rightarrow$ ['S_x', 'S_y']"
   ]
  },
  {
   "cell_type": "code",
   "execution_count": 6,
   "metadata": {},
   "outputs": [],
   "source": [
    "def get_Label_Names(label_type):\n",
    "    if label_type == 'Angular' or label_type == 'Normalized':\n",
    "        return ['Elevation', 'Azimuth']\n",
    "    elif label_type == 'Stereographic':\n",
    "        return ['S_x', 'S_y']\n",
    "    else:\n",
    "        assert(True, 'LabelType Invalid')\n",
    "        return None"
   ]
  },
  {
   "cell_type": "markdown",
   "metadata": {},
   "source": [
    "### Convert String into Reduction Metric Function"
   ]
  },
  {
   "cell_type": "code",
   "execution_count": 7,
   "metadata": {},
   "outputs": [],
   "source": [
    "def get_Reduction_Metric(metric):\n",
    "    \n",
    "    if metric == 'custom_mae':\n",
    "        return [custom_mae]\n",
    "    elif metric == 'tf.keras.metrics.MeanAbsoluteError()':\n",
    "        return [tf.keras.metrics.MeanAbsoluteError()]\n",
    "    elif metric == 'circular_mae':\n",
    "        return [circular_mae]\n",
    "    elif metric == 'mean_squared_error':\n",
    "        return ['mean_squared_error']\n",
    "    else:\n",
    "        assert(False, 'Metric yet unknown - Please modify get_Reduction_Metric to meet your requirements')\n",
    "        return None"
   ]
  },
  {
   "cell_type": "markdown",
   "metadata": {},
   "source": [
    "### Automatische Optimizer Generierung aus String"
   ]
  },
  {
   "cell_type": "code",
   "execution_count": 8,
   "metadata": {},
   "outputs": [],
   "source": [
    "def make_optimizer(optimizer):\n",
    "    # [Adam, Nadam, Adagrad, RMSprop]\n",
    "    if optimizer == \"<class 'keras.optimizers.Adam'>\":\n",
    "        return Adam\n",
    "    elif optimizer == \"<class 'tensorflow.python.keras.optimizer_v2.adam.Adam'>\":\n",
    "        return Adam\n",
    "    elif optimizer == \"<class 'keras.optimizers.Nadam'>\":\n",
    "        return Nadam\n",
    "    elif optimizer == \"<class 'keras.optimizers.Adagard'>\":\n",
    "        return Adagard\n",
    "    elif optimizer == \"<class 'keras.optimizers.RMSprop'>\":\n",
    "        return RMSprop\n",
    "    else:\n",
    "        print('ERROR::: Unspecified Optimizer')"
   ]
  },
  {
   "cell_type": "markdown",
   "metadata": {},
   "source": [
    "### Trainingsset-Typ nach String Converter"
   ]
  },
  {
   "cell_type": "code",
   "execution_count": 9,
   "metadata": {},
   "outputs": [],
   "source": [
    "def trainingset_to_string(ts):\n",
    "    if ts == TrainingSet.SYNTHETIC:\n",
    "        return 'Synth'\n",
    "    elif ts == TrainingSet.REAL:\n",
    "        return 'Real'\n",
    "    elif ts == TrainingSet.MIXED:\n",
    "        return 'Mixed'\n",
    "    else:\n",
    "        print('Unknown TrainingSet')\n",
    "        return None"
   ]
  },
  {
   "cell_type": "markdown",
   "metadata": {},
   "source": [
    "### Generierung Datenpipeline (Angepasst für Talos)"
   ]
  },
  {
   "cell_type": "code",
   "execution_count": 10,
   "metadata": {},
   "outputs": [],
   "source": [
    "def create_data(batch_size, num_samples, label_type):\n",
    "    # if Block für synthetische Daten, um nur auf realen Daten zu trainieren _USE_SYNTHETIC_TRAIN_DATA\n",
    "    # 1. lege df_train und df_valid als leere Liste an\n",
    "    # 2. If-block um Zeile df = ... bis df_valid\n",
    "    \n",
    "    if trainingset == TrainingSet.SYNTHETIC:\n",
    "        df = pd.read_csv(_CSV_FILE)\n",
    "        df_shuffled = df.sample(frac = 1, random_state = 1)\n",
    "        df_train = df_shuffled[0 : int(num_samples * 0.8 // batch_size * batch_size)]\n",
    "        df_valid = df_shuffled.drop(df_shuffled.index[0 : df_train.shape[0]])[0 : int(num_samples * 0.2 // batch_size * batch_size)]\n",
    "        \n",
    "    elif trainingset == TrainingSet.MIXED:\n",
    "        df = pd.read_csv(_CSV_FILE)\n",
    "        df_shuffled = df.sample(frac = 1, random_state = 1)\n",
    "        df_train = df_shuffled[0 : int(num_samples * 0.8 // batch_size * batch_size)]\n",
    "        df_valid = df_shuffled.drop(df_shuffled.index[0 : df_train.shape[0]])[0 : int(num_samples * 0.2 // batch_size * batch_size)]\n",
    "        \n",
    "        df_real = pd.read_csv(_CSV_FILE_REAL)\n",
    "        df_shuffled_real = df_real.sample(frac = 1, random_state = 1)\n",
    "        df_shuffled_real = df_shuffled_real.drop(df_shuffled_real.index[(df_shuffled_real.shape[0] - 61) : df_shuffled_real.shape[0]])\n",
    "        df_train_real = df_shuffled_real[0: int(df_shuffled_real.shape[0] * 0.8 // batch_size * batch_size)]   \n",
    "        df_valid_real = df_shuffled_real.drop(df_shuffled_real.index[0 : df_train_real.shape[0]])\n",
    "        df_train = df_train.drop(df_train.index[df_train.shape[0] - df_train_real.shape[0] : df_train.shape[0]])\n",
    "        df_valid = df_valid.drop(df_valid.index[df_valid.shape[0] - df_valid_real.shape[0] : df_valid.shape[0]])\n",
    "        df_train = df_train.append(df_train_real)\n",
    "        df_valid= df_valid.append(df_valid_real)\n",
    "    \n",
    "    elif trainingset == TrainingSet.REAL: # Add check for num_samples, once the real dataset increases\n",
    "        df_real = pd.read_csv(_CSV_FILE_REAL)\n",
    "        df_shuffled_real = df_real.sample(frac = 1, random_state = 1)\n",
    "        df_shuffled_real = df_shuffled_real.drop(df_shuffled_real.index[(df_shuffled_real.shape[0] - 61) : df_shuffled_real.shape[0]])\n",
    "        df_train = df_shuffled_real[0 : int(df_shuffled_real.shape[0] * 0.8 // batch_size * batch_size)]   \n",
    "        df_valid = df_shuffled_real.drop(df_shuffled_real.index[0 : df_train.shape[0]])\n",
    "        \n",
    "    else:\n",
    "        print('Create_Data :: should not have reached here')\n",
    "        \n",
    "\n",
    "        \n",
    "    if _USE_DATA_AUGMENTATION:\n",
    "        train_data_generator = ImageDataGenerator(\n",
    "            rescale = 1./255,\n",
    "            width_shift_range = 0.1,\n",
    "            height_shift_range = 0.1,\n",
    "            zoom_range = 0.1,\n",
    "            brightness_range = (0.25, 0.75),\n",
    "            fill_mode = 'nearest'\n",
    "        )\n",
    "    else:\n",
    "        train_data_generator = ImageDataGenerator(\n",
    "            rescale = 1./255\n",
    "        )\n",
    "        \n",
    "    print('Y-Col: {}'.format(get_Label_Names(label_type)))\n",
    "    print('Train Data Generator: ', end = '')\n",
    "    \n",
    "    train_generator = train_data_generator.flow_from_dataframe(\n",
    "        dataframe = df_train,\n",
    "        directory = _IMAGE_DIR,\n",
    "        x_col = 'Filename',\n",
    "        y_col = get_Label_Names(label_type),\n",
    "        class_mode = 'raw',\n",
    "        target_size = (224, 224),\n",
    "        color_mode = 'rgb',\n",
    "        shuffle = True,\n",
    "        seed = 77,\n",
    "        batch_size = batch_size\n",
    "    )\n",
    "    \n",
    "    valid_data_generator = ImageDataGenerator(\n",
    "        rescale = 1./255\n",
    "    )\n",
    "    \n",
    "    print('Validation Data Generator: ', end = '')\n",
    "    \n",
    "    valid_generator = valid_data_generator.flow_from_dataframe(\n",
    "        dataframe = df_valid,\n",
    "        directory = _IMAGE_DIR,\n",
    "        x_col = 'Filename',\n",
    "        y_col = get_Label_Names(label_type),\n",
    "        class_mode = 'raw',\n",
    "        target_size = (224, 224),\n",
    "        color_mode = 'rgb',\n",
    "        shuffle = False,\n",
    "        seed = 77,\n",
    "        batch_size = batch_size\n",
    "    )\n",
    "    \n",
    "    return train_generator, valid_generator"
   ]
  },
  {
   "cell_type": "markdown",
   "metadata": {},
   "source": [
    "### Generierung Modell (Angepasst für Talos)"
   ]
  },
  {
   "cell_type": "code",
   "execution_count": 11,
   "metadata": {},
   "outputs": [],
   "source": [
    "def grid_model_fine(x, y, x_val, y_val, params):\n",
    "    \n",
    "    K.clear_session()\n",
    "    \n",
    "    train_generator, valid_generator = create_data(params['batch_size'], params['samples'], params['label_type'])\n",
    "    tg_steps_per_epoch = train_generator.n // train_generator.batch_size\n",
    "    vg_validation_steps = valid_generator.n // valid_generator.batch_size\n",
    "    print('Steps per Epoch: {}, Validation Steps: {}'.format(tg_steps_per_epoch, vg_validation_steps))\n",
    "    \n",
    "    dropout_rate = params['dropout']\n",
    "    first_neuron = params['first_neuron']\n",
    "    \n",
    "    if params['activation'] == 'leakyrelu':\n",
    "        activation_layer = LeakyReLU(alpha = params['leaky_alpha'])\n",
    "    elif params['activation'] == 'relu':\n",
    "        activation_layer = ReLU()\n",
    "    \n",
    "    model = Sequential()\n",
    "    cnn = VGG16(weights = 'imagenet', include_top = False, input_shape = (224, 224, 3))\n",
    "    \n",
    "    for layer in cnn.layers[:15]:\n",
    "        layer.trainable = False\n",
    "        #print(layer.name, layer.trainable)\n",
    "        \n",
    "    print('_________________________________________________________________')\n",
    "    print('{:>16} {:>16}'.format('Network Layer', 'Trainable'))\n",
    "    print('=================================================================')\n",
    "    for layer in cnn.layers:\n",
    "        print('{:>16} {:>16}'.format(layer.name, layer.trainable))\n",
    "    print('_________________________________________________________________\\n')\n",
    "    \n",
    "    model.add(cnn)\n",
    "    \n",
    "    fc = Sequential()\n",
    "    fc.add(Flatten(input_shape = model.output_shape[1:])) # (7, 7, 512)\n",
    "    \n",
    "    fc.add(Dense(units = first_neuron, kernel_initializer = glorot_uniform(seed = 1)))\n",
    "    fc.add(activation_layer)\n",
    "    if dropout_rate > 0.0:\n",
    "        fc.add(Dropout(rate = dropout_rate))\n",
    "    \n",
    "    print('Number Hidden Layers {}'.format(params['hidden_layers']))\n",
    "    hidden_neuron_fraction = first_neuron\n",
    "    for i in range(params['hidden_layers']):\n",
    "        hidden_neuron_fraction = hidden_neuron_fraction // 2\n",
    "        fc.add(Dense(units = hidden_neuron_fraction, kernel_initializer = glorot_uniform(seed = 1)))\n",
    "        fc.add(activation_layer)\n",
    "        if dropout_rate > 0.0:\n",
    "            fc.add(Dropout(rate = dropout_rate))\n",
    "    \n",
    "    fc.add(Dense(units = 2, kernel_initializer = glorot_uniform(seed = 1)))\n",
    "    fc.load_weights(_MODEL_DIR + _MODEL_TO_LOAD)\n",
    "    model.add(fc)\n",
    "    print('Fully Connected Layers added to Base Network')\n",
    "    \n",
    "    print('Using Loss: {} \\nand Reduction Metric: {}'.format(\n",
    "        params['loss_function'], \n",
    "        get_Reduction_Metric(params['reduction_metric'])))\n",
    "    \n",
    "    model.compile(\n",
    "        #optimizer=params['optimizer'](lr=lr_normalizer(params['lr'], params['optimizer'])*1e-2),\n",
    "        optimizer = params['optimizer'](lr = lr_normalizer(params['lr'], params['optimizer']) * 1e-3),\n",
    "        loss = params['loss_function'],\n",
    "        metrics = get_Reduction_Metric(params['reduction_metric'])\n",
    "    )\n",
    "    print('Model was compiled')\n",
    "    print(model.summary())\n",
    "    print('_________________________________________________________________')\n",
    "    \n",
    "    checkpointer = callbacks.ModelCheckpoint(\n",
    "        filepath = _LOG_DIR + 'CNN_Base_{}_Model_and_Weights_{}.hdf5'.format(_MODEL_TO_LOAD_INDEX, train_generator.n),\n",
    "        monitor =  params['monitor_value'],\n",
    "        verbose = 1,\n",
    "        save_weights_only = False,\n",
    "        save_best_only = True,\n",
    "        mode = 'min'\n",
    "    )\n",
    "    print('Checkpointer was created')\n",
    "    \n",
    "    csv_logger = callbacks.CSVLogger(\n",
    "        filename = _LOG_DIR + 'CNN_Base_{}_Logger_{}.csv'.format(_MODEL_TO_LOAD_INDEX, train_generator.n),\n",
    "        separator = ',',\n",
    "        append = False\n",
    "    )\n",
    "    print('CSV Logger was created')\n",
    "\n",
    "    lr_reducer = callbacks.ReduceLROnPlateau(\n",
    "        monitor = 'val_loss',\n",
    "        factor = 0.1,\n",
    "        patience = 13,\n",
    "        verbose = 1,\n",
    "        mode = 'min',\n",
    "        min_delta = 0.0001\n",
    "    )\n",
    "    print('Learning Rate Reducer was created')\n",
    "    \n",
    "    early_stopper = callbacks.EarlyStopping(\n",
    "        monitor = 'val_loss',\n",
    "        min_delta = 0,\n",
    "        #patience = 15,\n",
    "        patience = 20,\n",
    "        verbose = 1,\n",
    "        mode = 'min',\n",
    "        restore_best_weights = True\n",
    "    )\n",
    "    print('Early Stopper was created')\n",
    "    \n",
    "    out = model.fit(\n",
    "        x = train_generator,\n",
    "        steps_per_epoch = tg_steps_per_epoch,\n",
    "        validation_data = valid_generator,\n",
    "        validation_steps = vg_validation_steps,\n",
    "        callbacks = [checkpointer, csv_logger, lr_reducer, early_stopper],\n",
    "        epochs = params['epochs'],\n",
    "        workers = 8\n",
    "    )\n",
    "    \n",
    "    return out, model"
   ]
  },
  {
   "cell_type": "markdown",
   "metadata": {},
   "source": [
    "# Feinoptimierung <a name = \"setup\"></a><a href = #Top>Up</a></p>"
   ]
  },
  {
   "cell_type": "markdown",
   "metadata": {},
   "source": [
    "#### Hyper Parameter"
   ]
  },
  {
   "cell_type": "code",
   "execution_count": 12,
   "metadata": {},
   "outputs": [],
   "source": [
    "#     Adam = RMSprop + Momentum (lr=0.001)\n",
    "#     Nadam = Adam RMSprop + Nesterov-Momentum (lr=0.002)\n",
    "#     RMSprop = (lr=0.001)\n",
    "#     SGD = (lr=0.01)\n",
    "#     Adagrad\n",
    "\n",
    "global_hyper_parameter = {\n",
    "    'samples': None,\n",
    "    'epochs': None,\n",
    "    'batch_size': None,\n",
    "    'optimizer': None,\n",
    "    'lr': None,\n",
    "    'first_neuron': None,\n",
    "    'dropout': None,\n",
    "    'activation': None,\n",
    "    'leaky_alpha': None,\n",
    "    'hidden_layers': None,\n",
    "    # beginning from here, Values should only contain one single entry:\n",
    "    # ===============================================================\n",
    "    'label_type': ['Normalized'], # Stereographic, Angular, Normalized\n",
    "    'loss_function': None,\n",
    "    'reduction_metric': None,\n",
    "    'monitor_value': None\n",
    "}\n"
   ]
  },
  {
   "cell_type": "markdown",
   "metadata": {},
   "source": [
    "### Training Setup "
   ]
  },
  {
   "cell_type": "code",
   "execution_count": 13,
   "metadata": {},
   "outputs": [],
   "source": [
    "_RUN = 'SYNTH'\n",
    "_LOSS = 'MSE'\n",
    "_DATASET_NAME = '2020-05-28'\n",
    "_DEVICE = 'TITAN_GPU0'\n",
    "\n",
    "storage = OutputDirectory.SSD # 'fast_output' if ssd storage may suffice, 'output' otherwise\n",
    "\n",
    "if global_hyper_parameter['label_type'][0] == 'Stereographic':\n",
    "    _CSV_SYNTH_FILE_NAME = 'images_synthetisch_stereographic.csv'\n",
    "    _CSV_REAL_FILE_NAME = 'images_real_stereographic.csv'\n",
    "    \n",
    "elif global_hyper_parameter['label_type'][0] == 'Angular':\n",
    "    _CSV_SYNTH_FILE_NAME = 'images_synthetisch.csv'\n",
    "    _CSV_REAL_FILE_NAME = 'images_real.csv'\n",
    "    \n",
    "elif global_hyper_parameter['label_type'][0] == 'Normalized':\n",
    "    _CSV_SYNTH_FILE_NAME = 'images_synthetisch_normalized.csv'\n",
    "    _CSV_REAL_FILE_NAME = 'images_real_normalized.csv'\n",
    "    \n",
    "else:\n",
    "    assert(True, 'Label Type Invalid')"
   ]
  },
  {
   "cell_type": "code",
   "execution_count": 14,
   "metadata": {},
   "outputs": [],
   "source": [
    "trainingset = TrainingSet.SYNTHETIC\n",
    "_USE_DATA_AUGMENTATION = True"
   ]
  },
  {
   "cell_type": "code",
   "execution_count": 15,
   "metadata": {},
   "outputs": [],
   "source": [
    "_IMAGE_DIR = '..\\\\dataset_mm\\\\{}\\\\'.format(_DATASET_NAME)\n",
    "_CSV_FILE = _IMAGE_DIR + _CSV_SYNTH_FILE_NAME\n",
    "_CSV_FILE_REAL = _IMAGE_DIR + _CSV_REAL_FILE_NAME\n",
    "\n",
    "_note = '_Custom-MAE'\n",
    "\n",
    "_MODEL_DIR = '..\\\\output\\\\{}_Regression_{}\\\\{}_{}_Base{}\\\\'.format(_RUN, _LOSS, _DATASET_NAME, global_hyper_parameter['label_type'][0], _note)\n",
    "_NET_DIR = '{}_Regression_{}\\\\{}_{}_Top_1{}\\\\{}_TD\\\\'.format(_RUN, _LOSS, _DATASET_NAME, global_hyper_parameter['label_type'][0], _note, trainingset_to_string(trainingset))\n",
    "_LOG_DIR = '..\\\\{}\\\\{}'.format(output_path[storage], _NET_DIR)\n",
    "\n",
    "if(not os.path.exists(_LOG_DIR)):\n",
    "    os.makedirs(_LOG_DIR)\n",
    "else:\n",
    "    input('Directory >>| {} |<< existiert bereits. Fortsetzen auf eigene Gefahr! (Weiter mit Enter)'.format(_LOG_DIR))\n",
    "\n",
    "device_file = open(_LOG_DIR + '{}.txt'.format(_DEVICE), \"a+\")"
   ]
  },
  {
   "cell_type": "markdown",
   "metadata": {},
   "source": [
    "### Top 3 FC-Gewichte"
   ]
  },
  {
   "cell_type": "code",
   "execution_count": 16,
   "metadata": {},
   "outputs": [
    {
     "name": "stdout",
     "output_type": "stream",
     "text": [
      "Displaying: ..\\output\\SYNTH_Regression_MSE\\2020-05-28_Normalized_Base_Custom-MAE\\..\\2020-05-28_Normalized_Base_Custom-MAE_Results.csv\n"
     ]
    },
    {
     "data": {
      "text/html": [
       "<div>\n",
       "<style scoped>\n",
       "    .dataframe tbody tr th:only-of-type {\n",
       "        vertical-align: middle;\n",
       "    }\n",
       "\n",
       "    .dataframe tbody tr th {\n",
       "        vertical-align: top;\n",
       "    }\n",
       "\n",
       "    .dataframe thead th {\n",
       "        text-align: right;\n",
       "    }\n",
       "</style>\n",
       "<table border=\"1\" class=\"dataframe\">\n",
       "  <thead>\n",
       "    <tr style=\"text-align: right;\">\n",
       "      <th></th>\n",
       "      <th>Unnamed: 0</th>\n",
       "      <th>start</th>\n",
       "      <th>end</th>\n",
       "      <th>duration</th>\n",
       "      <th>loss</th>\n",
       "      <th>custom_mae</th>\n",
       "      <th>val_loss</th>\n",
       "      <th>val_custom_mae</th>\n",
       "      <th>activation</th>\n",
       "      <th>batch_size</th>\n",
       "      <th>dropout</th>\n",
       "      <th>first_neuron</th>\n",
       "      <th>hidden_layers</th>\n",
       "      <th>label_type</th>\n",
       "      <th>loss_function</th>\n",
       "      <th>lr</th>\n",
       "      <th>monitor_value</th>\n",
       "      <th>optimizer</th>\n",
       "      <th>reduction_metric</th>\n",
       "    </tr>\n",
       "  </thead>\n",
       "  <tbody>\n",
       "    <tr>\n",
       "      <td>4</td>\n",
       "      <td>4</td>\n",
       "      <td>12/09/20-093859</td>\n",
       "      <td>12/09/20-093940</td>\n",
       "      <td>41.077978</td>\n",
       "      <td>2.714420</td>\n",
       "      <td>0.479261</td>\n",
       "      <td>0.116606</td>\n",
       "      <td>0.242770</td>\n",
       "      <td>relu</td>\n",
       "      <td>32</td>\n",
       "      <td>0.25</td>\n",
       "      <td>1024</td>\n",
       "      <td>0</td>\n",
       "      <td>Normalized</td>\n",
       "      <td>mean_squared_error</td>\n",
       "      <td>1</td>\n",
       "      <td>val_custom_mae</td>\n",
       "      <td>&lt;class 'tensorflow.python.keras.optimizer_v2.a...</td>\n",
       "      <td>custom_mae</td>\n",
       "    </tr>\n",
       "    <tr>\n",
       "      <td>6</td>\n",
       "      <td>6</td>\n",
       "      <td>12/09/20-094022</td>\n",
       "      <td>12/09/20-094046</td>\n",
       "      <td>23.500743</td>\n",
       "      <td>5.638185</td>\n",
       "      <td>0.679268</td>\n",
       "      <td>0.121281</td>\n",
       "      <td>0.245946</td>\n",
       "      <td>relu</td>\n",
       "      <td>64</td>\n",
       "      <td>0.25</td>\n",
       "      <td>1024</td>\n",
       "      <td>0</td>\n",
       "      <td>Normalized</td>\n",
       "      <td>mean_squared_error</td>\n",
       "      <td>1</td>\n",
       "      <td>val_custom_mae</td>\n",
       "      <td>&lt;class 'tensorflow.python.keras.optimizer_v2.a...</td>\n",
       "      <td>custom_mae</td>\n",
       "    </tr>\n",
       "    <tr>\n",
       "      <td>5</td>\n",
       "      <td>5</td>\n",
       "      <td>12/09/20-093941</td>\n",
       "      <td>12/09/20-094022</td>\n",
       "      <td>41.251921</td>\n",
       "      <td>2.443644</td>\n",
       "      <td>0.525243</td>\n",
       "      <td>0.133008</td>\n",
       "      <td>0.270280</td>\n",
       "      <td>relu</td>\n",
       "      <td>32</td>\n",
       "      <td>0.50</td>\n",
       "      <td>1024</td>\n",
       "      <td>0</td>\n",
       "      <td>Normalized</td>\n",
       "      <td>mean_squared_error</td>\n",
       "      <td>1</td>\n",
       "      <td>val_custom_mae</td>\n",
       "      <td>&lt;class 'tensorflow.python.keras.optimizer_v2.a...</td>\n",
       "      <td>custom_mae</td>\n",
       "    </tr>\n",
       "    <tr>\n",
       "      <td>7</td>\n",
       "      <td>7</td>\n",
       "      <td>12/09/20-094046</td>\n",
       "      <td>12/09/20-094110</td>\n",
       "      <td>23.965750</td>\n",
       "      <td>5.211095</td>\n",
       "      <td>0.725741</td>\n",
       "      <td>0.142764</td>\n",
       "      <td>0.282519</td>\n",
       "      <td>relu</td>\n",
       "      <td>64</td>\n",
       "      <td>0.50</td>\n",
       "      <td>1024</td>\n",
       "      <td>0</td>\n",
       "      <td>Normalized</td>\n",
       "      <td>mean_squared_error</td>\n",
       "      <td>1</td>\n",
       "      <td>val_custom_mae</td>\n",
       "      <td>&lt;class 'tensorflow.python.keras.optimizer_v2.a...</td>\n",
       "      <td>custom_mae</td>\n",
       "    </tr>\n",
       "    <tr>\n",
       "      <td>1</td>\n",
       "      <td>1</td>\n",
       "      <td>12/09/20-092309</td>\n",
       "      <td>12/09/20-092350</td>\n",
       "      <td>41.071499</td>\n",
       "      <td>7.006359</td>\n",
       "      <td>1.277110</td>\n",
       "      <td>0.158711</td>\n",
       "      <td>0.302616</td>\n",
       "      <td>leakyrelu</td>\n",
       "      <td>32</td>\n",
       "      <td>0.50</td>\n",
       "      <td>1024</td>\n",
       "      <td>0</td>\n",
       "      <td>Normalized</td>\n",
       "      <td>mean_squared_error</td>\n",
       "      <td>1</td>\n",
       "      <td>val_custom_mae</td>\n",
       "      <td>&lt;class 'tensorflow.python.keras.optimizer_v2.a...</td>\n",
       "      <td>custom_mae</td>\n",
       "    </tr>\n",
       "    <tr>\n",
       "      <td>2</td>\n",
       "      <td>2</td>\n",
       "      <td>12/09/20-092351</td>\n",
       "      <td>12/09/20-093835</td>\n",
       "      <td>884.509856</td>\n",
       "      <td>12.850731</td>\n",
       "      <td>1.252772</td>\n",
       "      <td>0.168039</td>\n",
       "      <td>0.316974</td>\n",
       "      <td>leakyrelu</td>\n",
       "      <td>64</td>\n",
       "      <td>0.25</td>\n",
       "      <td>1024</td>\n",
       "      <td>0</td>\n",
       "      <td>Normalized</td>\n",
       "      <td>mean_squared_error</td>\n",
       "      <td>1</td>\n",
       "      <td>val_custom_mae</td>\n",
       "      <td>&lt;class 'tensorflow.python.keras.optimizer_v2.a...</td>\n",
       "      <td>custom_mae</td>\n",
       "    </tr>\n",
       "    <tr>\n",
       "      <td>0</td>\n",
       "      <td>0</td>\n",
       "      <td>12/09/20-090723</td>\n",
       "      <td>12/09/20-092309</td>\n",
       "      <td>946.496623</td>\n",
       "      <td>6.604711</td>\n",
       "      <td>0.991875</td>\n",
       "      <td>0.167170</td>\n",
       "      <td>0.319055</td>\n",
       "      <td>leakyrelu</td>\n",
       "      <td>32</td>\n",
       "      <td>0.25</td>\n",
       "      <td>1024</td>\n",
       "      <td>0</td>\n",
       "      <td>Normalized</td>\n",
       "      <td>mean_squared_error</td>\n",
       "      <td>1</td>\n",
       "      <td>val_custom_mae</td>\n",
       "      <td>&lt;class 'tensorflow.python.keras.optimizer_v2.a...</td>\n",
       "      <td>custom_mae</td>\n",
       "    </tr>\n",
       "    <tr>\n",
       "      <td>3</td>\n",
       "      <td>3</td>\n",
       "      <td>12/09/20-093836</td>\n",
       "      <td>12/09/20-093859</td>\n",
       "      <td>23.120344</td>\n",
       "      <td>13.420115</td>\n",
       "      <td>1.614795</td>\n",
       "      <td>0.179288</td>\n",
       "      <td>0.325059</td>\n",
       "      <td>leakyrelu</td>\n",
       "      <td>64</td>\n",
       "      <td>0.50</td>\n",
       "      <td>1024</td>\n",
       "      <td>0</td>\n",
       "      <td>Normalized</td>\n",
       "      <td>mean_squared_error</td>\n",
       "      <td>1</td>\n",
       "      <td>val_custom_mae</td>\n",
       "      <td>&lt;class 'tensorflow.python.keras.optimizer_v2.a...</td>\n",
       "      <td>custom_mae</td>\n",
       "    </tr>\n",
       "  </tbody>\n",
       "</table>\n",
       "</div>"
      ],
      "text/plain": [
       "   Unnamed: 0            start              end    duration       loss  \\\n",
       "4           4  12/09/20-093859  12/09/20-093940   41.077978   2.714420   \n",
       "6           6  12/09/20-094022  12/09/20-094046   23.500743   5.638185   \n",
       "5           5  12/09/20-093941  12/09/20-094022   41.251921   2.443644   \n",
       "7           7  12/09/20-094046  12/09/20-094110   23.965750   5.211095   \n",
       "1           1  12/09/20-092309  12/09/20-092350   41.071499   7.006359   \n",
       "2           2  12/09/20-092351  12/09/20-093835  884.509856  12.850731   \n",
       "0           0  12/09/20-090723  12/09/20-092309  946.496623   6.604711   \n",
       "3           3  12/09/20-093836  12/09/20-093859   23.120344  13.420115   \n",
       "\n",
       "   custom_mae  val_loss  val_custom_mae activation  batch_size  dropout  \\\n",
       "4    0.479261  0.116606        0.242770       relu          32     0.25   \n",
       "6    0.679268  0.121281        0.245946       relu          64     0.25   \n",
       "5    0.525243  0.133008        0.270280       relu          32     0.50   \n",
       "7    0.725741  0.142764        0.282519       relu          64     0.50   \n",
       "1    1.277110  0.158711        0.302616  leakyrelu          32     0.50   \n",
       "2    1.252772  0.168039        0.316974  leakyrelu          64     0.25   \n",
       "0    0.991875  0.167170        0.319055  leakyrelu          32     0.25   \n",
       "3    1.614795  0.179288        0.325059  leakyrelu          64     0.50   \n",
       "\n",
       "   first_neuron  hidden_layers  label_type       loss_function  lr  \\\n",
       "4          1024              0  Normalized  mean_squared_error   1   \n",
       "6          1024              0  Normalized  mean_squared_error   1   \n",
       "5          1024              0  Normalized  mean_squared_error   1   \n",
       "7          1024              0  Normalized  mean_squared_error   1   \n",
       "1          1024              0  Normalized  mean_squared_error   1   \n",
       "2          1024              0  Normalized  mean_squared_error   1   \n",
       "0          1024              0  Normalized  mean_squared_error   1   \n",
       "3          1024              0  Normalized  mean_squared_error   1   \n",
       "\n",
       "    monitor_value                                          optimizer  \\\n",
       "4  val_custom_mae  <class 'tensorflow.python.keras.optimizer_v2.a...   \n",
       "6  val_custom_mae  <class 'tensorflow.python.keras.optimizer_v2.a...   \n",
       "5  val_custom_mae  <class 'tensorflow.python.keras.optimizer_v2.a...   \n",
       "7  val_custom_mae  <class 'tensorflow.python.keras.optimizer_v2.a...   \n",
       "1  val_custom_mae  <class 'tensorflow.python.keras.optimizer_v2.a...   \n",
       "2  val_custom_mae  <class 'tensorflow.python.keras.optimizer_v2.a...   \n",
       "0  val_custom_mae  <class 'tensorflow.python.keras.optimizer_v2.a...   \n",
       "3  val_custom_mae  <class 'tensorflow.python.keras.optimizer_v2.a...   \n",
       "\n",
       "  reduction_metric  \n",
       "4       custom_mae  \n",
       "6       custom_mae  \n",
       "5       custom_mae  \n",
       "7       custom_mae  \n",
       "1       custom_mae  \n",
       "2       custom_mae  \n",
       "0       custom_mae  \n",
       "3       custom_mae  "
      ]
     },
     "execution_count": 16,
     "metadata": {},
     "output_type": "execute_result"
    }
   ],
   "source": [
    "base_results = _MODEL_DIR + '..\\\\{}_{}_Base{}_Results.csv'.format(_DATASET_NAME, global_hyper_parameter['label_type'][0], _note)\n",
    "df = pd.read_csv(base_results).drop(columns = ['round_epochs', 'samples', 'epochs'], axis = 0)\n",
    "sort_value = df['monitor_value'][0]\n",
    "df = df.sort_values(sort_value, axis = 0, ascending = True, inplace = False, kind = 'quicksort', na_position = 'last')\n",
    "print('Displaying: {}'.format(base_results))\n",
    "df.head(10)"
   ]
  },
  {
   "cell_type": "markdown",
   "metadata": {},
   "source": [
    "### GridSerach"
   ]
  },
  {
   "cell_type": "code",
   "execution_count": 17,
   "metadata": {},
   "outputs": [],
   "source": [
    "def get_params(top_results_index):\n",
    "    \n",
    "    #     Adam = RMSprop + Momentum (lr=0.001)\n",
    "    #     Nadam = Adam RMSprop + Nesterov-Momentum (lr=0.002)\n",
    "    #     RMSprop = (lr=0.001)\n",
    "    #     SGD = (lr=0.01)\n",
    "    #     Adagrad\n",
    "\n",
    "    hyper_parameter = global_hyper_parameter\n",
    "\n",
    "    hyper_parameter['samples'] = [100000]\n",
    "    hyper_parameter['epochs'] = [400]\n",
    "    hyper_parameter['batch_size'] = [df.iloc[top_results_index]['batch_size']]\n",
    "    hyper_parameter['optimizer'] = [make_optimizer(df.loc[top_results_index]['optimizer'])]\n",
    "    hyper_parameter['lr'] = [df.iloc[top_results_index]['lr']]\n",
    "    hyper_parameter['first_neuron'] = [df.iloc[top_results_index]['first_neuron']]\n",
    "    hyper_parameter['dropout'] = [df.iloc[top_results_index]['dropout']]\n",
    "    hyper_parameter['activation'] = [df.iloc[top_results_index]['activation']]\n",
    "    hyper_parameter['leaky_alpha'] = [0.1] #Default bei LeakyReLU, sonst PReLU\n",
    "    hyper_parameter['hidden_layers'] = [df.iloc[top_results_index]['hidden_layers']]\n",
    "    \n",
    "    hyper_parameter['loss_function'] = [df.iloc[top_results_index]['loss_function']]\n",
    "    hyper_parameter['reduction_metric'] = [df.iloc[top_results_index]['reduction_metric']]\n",
    "    hyper_parameter['monitor_value'] = [df.iloc[top_results_index]['monitor_value']]\n",
    "\n",
    "    return hyper_parameter"
   ]
  },
  {
   "cell_type": "markdown",
   "metadata": {},
   "source": [
    "### Start Talos"
   ]
  },
  {
   "cell_type": "code",
   "execution_count": null,
   "metadata": {
    "scrolled": true
   },
   "outputs": [
    {
     "name": "stderr",
     "output_type": "stream",
     "text": [
      "\r",
      "  0%|                                                                                            | 0/1 [00:00<?, ?it/s]"
     ]
    },
    {
     "name": "stdout",
     "output_type": "stream",
     "text": [
      "{'activation': 'relu', 'batch_size': 32, 'dropout': 0.25, 'epochs': 400, 'first_neuron': 1024, 'hidden_layers': 0, 'label_type': 'Normalized', 'leaky_alpha': 0.1, 'loss_function': 'mean_squared_error', 'lr': 1, 'monitor_value': 'val_custom_mae', 'optimizer': <class 'tensorflow.python.keras.optimizer_v2.adam.Adam'>, 'reduction_metric': 'custom_mae', 'samples': 100000}\n",
      "Y-Col: ['Elevation', 'Azimuth']\n",
      "Train Data Generator: Found 80000 validated image filenames.\n",
      "Validation Data Generator: Found 20000 validated image filenames.\n",
      "Steps per Epoch: 2500, Validation Steps: 625\n",
      "_________________________________________________________________\n",
      "   Network Layer        Trainable\n",
      "=================================================================\n",
      "         input_1                0\n",
      "    block1_conv1                0\n",
      "    block1_conv2                0\n",
      "     block1_pool                0\n",
      "    block2_conv1                0\n",
      "    block2_conv2                0\n",
      "     block2_pool                0\n",
      "    block3_conv1                0\n",
      "    block3_conv2                0\n",
      "    block3_conv3                0\n",
      "     block3_pool                0\n",
      "    block4_conv1                0\n",
      "    block4_conv2                0\n",
      "    block4_conv3                0\n",
      "     block4_pool                0\n",
      "    block5_conv1                1\n",
      "    block5_conv2                1\n",
      "    block5_conv3                1\n",
      "     block5_pool                1\n",
      "_________________________________________________________________\n",
      "\n",
      "Number Hidden Layers 0\n",
      "Fully Connected Layers added to Base Network\n",
      "Using Loss: mean_squared_error \n",
      "and Reduction Metric: [<function custom_mae at 0x000002318C4208B8>]\n",
      "Model was compiled\n",
      "Model: \"sequential\"\n",
      "_________________________________________________________________\n",
      "Layer (type)                 Output Shape              Param #   \n",
      "=================================================================\n",
      "vgg16 (Functional)           (None, 7, 7, 512)         14714688  \n",
      "_________________________________________________________________\n",
      "sequential_1 (Sequential)    (None, 2)                 25693186  \n",
      "=================================================================\n",
      "Total params: 40,407,874\n",
      "Trainable params: 32,772,610\n",
      "Non-trainable params: 7,635,264\n",
      "_________________________________________________________________\n",
      "None\n",
      "_________________________________________________________________\n",
      "Checkpointer was created\n",
      "CSV Logger was created\n",
      "Learning Rate Reducer was created\n",
      "Early Stopper was created\n",
      "Epoch 1/400\n"
     ]
    },
    {
     "name": "stdout",
     "output_type": "stream",
     "text": [
      " 164/2500 [>.............................] - ETA: 1s - loss: 0.6106 - custom_mae: 0.64 - ETA: 43:48 - loss: 0.5494 - custom_mae: 0.611 - ETA: 58:28 - loss: 0.5525 - custom_mae: 0.615 - ETA: 1:06:02 - loss: 0.4929 - custom_mae: 0.574 - ETA: 1:10:33 - loss: 0.5146 - custom_mae: 0.590 - ETA: 1:13:24 - loss: 0.5076 - custom_mae: 0.585 - ETA: 1:15:32 - loss: 0.5099 - custom_mae: 0.584 - ETA: 1:17:00 - loss: 0.4940 - custom_mae: 0.572 - ETA: 1:18:12 - loss: 0.4923 - custom_mae: 0.574 - ETA: 1:19:12 - loss: 0.4988 - custom_mae: 0.577 - ETA: 1:19:57 - loss: 0.5117 - custom_mae: 0.586 - ETA: 1:20:35 - loss: 0.5107 - custom_mae: 0.586 - ETA: 1:21:06 - loss: 0.5124 - custom_mae: 0.590 - ETA: 1:21:35 - loss: 0.5145 - custom_mae: 0.594 - ETA: 1:22:00 - loss: 0.5096 - custom_mae: 0.593 - ETA: 1:22:20 - loss: 0.5067 - custom_mae: 0.591 - ETA: 1:22:34 - loss: 0.5070 - custom_mae: 0.592 - ETA: 1:22:50 - loss: 0.5017 - custom_mae: 0.589 - ETA: 1:23:02 - loss: 0.4963 - custom_mae: 0.586 - ETA: 1:23:15 - loss: 0.4871 - custom_mae: 0.579 - ETA: 1:23:26 - loss: 0.4815 - custom_mae: 0.575 - ETA: 1:23:35 - loss: 0.4784 - custom_mae: 0.574 - ETA: 1:23:44 - loss: 0.4760 - custom_mae: 0.573 - ETA: 1:23:52 - loss: 0.4726 - custom_mae: 0.571 - ETA: 1:23:58 - loss: 0.4697 - custom_mae: 0.571 - ETA: 1:24:04 - loss: 0.4683 - custom_mae: 0.569 - ETA: 1:24:09 - loss: 0.4662 - custom_mae: 0.567 - ETA: 1:24:14 - loss: 0.4654 - custom_mae: 0.569 - ETA: 1:24:19 - loss: 0.4690 - custom_mae: 0.572 - ETA: 1:24:22 - loss: 0.4645 - custom_mae: 0.569 - ETA: 1:24:25 - loss: 0.4650 - custom_mae: 0.569 - ETA: 1:24:27 - loss: 0.4638 - custom_mae: 0.568 - ETA: 1:24:28 - loss: 0.4610 - custom_mae: 0.566 - ETA: 1:24:32 - loss: 0.4597 - custom_mae: 0.565 - ETA: 1:24:35 - loss: 0.4578 - custom_mae: 0.564 - ETA: 1:24:37 - loss: 0.4591 - custom_mae: 0.566 - ETA: 1:24:39 - loss: 0.4543 - custom_mae: 0.562 - ETA: 1:24:41 - loss: 0.4532 - custom_mae: 0.562 - ETA: 1:24:45 - loss: 0.4508 - custom_mae: 0.560 - ETA: 1:24:46 - loss: 0.4514 - custom_mae: 0.561 - ETA: 1:24:49 - loss: 0.4498 - custom_mae: 0.559 - ETA: 1:24:48 - loss: 0.4485 - custom_mae: 0.559 - ETA: 1:24:48 - loss: 0.4483 - custom_mae: 0.558 - ETA: 1:24:50 - loss: 0.4465 - custom_mae: 0.557 - ETA: 1:24:50 - loss: 0.4450 - custom_mae: 0.555 - ETA: 1:24:49 - loss: 0.4450 - custom_mae: 0.554 - ETA: 1:24:48 - loss: 0.4438 - custom_mae: 0.554 - ETA: 1:24:48 - loss: 0.4417 - custom_mae: 0.552 - ETA: 1:24:48 - loss: 0.4408 - custom_mae: 0.551 - ETA: 1:24:47 - loss: 0.4383 - custom_mae: 0.550 - ETA: 1:24:47 - loss: 0.4368 - custom_mae: 0.550 - ETA: 1:24:47 - loss: 0.4361 - custom_mae: 0.549 - ETA: 1:24:46 - loss: 0.4363 - custom_mae: 0.550 - ETA: 1:24:46 - loss: 0.4365 - custom_mae: 0.550 - ETA: 1:24:45 - loss: 0.4355 - custom_mae: 0.549 - ETA: 1:24:45 - loss: 0.4334 - custom_mae: 0.548 - ETA: 1:24:44 - loss: 0.4337 - custom_mae: 0.548 - ETA: 1:24:44 - loss: 0.4327 - custom_mae: 0.547 - ETA: 1:24:42 - loss: 0.4321 - custom_mae: 0.547 - ETA: 1:24:41 - loss: 0.4318 - custom_mae: 0.547 - ETA: 1:24:40 - loss: 0.4308 - custom_mae: 0.546 - ETA: 1:24:39 - loss: 0.4296 - custom_mae: 0.545 - ETA: 1:24:37 - loss: 0.4289 - custom_mae: 0.545 - ETA: 1:24:37 - loss: 0.4269 - custom_mae: 0.544 - ETA: 1:24:35 - loss: 0.4272 - custom_mae: 0.544 - ETA: 1:24:34 - loss: 0.4244 - custom_mae: 0.542 - ETA: 1:24:33 - loss: 0.4238 - custom_mae: 0.542 - ETA: 1:24:32 - loss: 0.4220 - custom_mae: 0.541 - ETA: 1:24:31 - loss: 0.4227 - custom_mae: 0.541 - ETA: 1:24:30 - loss: 0.4233 - custom_mae: 0.542 - ETA: 1:24:28 - loss: 0.4252 - custom_mae: 0.543 - ETA: 1:24:27 - loss: 0.4250 - custom_mae: 0.543 - ETA: 1:24:26 - loss: 0.4247 - custom_mae: 0.542 - ETA: 1:24:25 - loss: 0.4255 - custom_mae: 0.543 - ETA: 1:24:24 - loss: 0.4262 - custom_mae: 0.543 - ETA: 1:24:22 - loss: 0.4257 - custom_mae: 0.543 - ETA: 1:24:21 - loss: 0.4243 - custom_mae: 0.542 - ETA: 1:24:20 - loss: 0.4240 - custom_mae: 0.542 - ETA: 1:24:18 - loss: 0.4233 - custom_mae: 0.542 - ETA: 1:24:17 - loss: 0.4233 - custom_mae: 0.542 - ETA: 1:24:15 - loss: 0.4222 - custom_mae: 0.541 - ETA: 1:24:14 - loss: 0.4219 - custom_mae: 0.541 - ETA: 1:24:12 - loss: 0.4229 - custom_mae: 0.541 - ETA: 1:24:12 - loss: 0.4215 - custom_mae: 0.540 - ETA: 1:24:10 - loss: 0.4215 - custom_mae: 0.540 - ETA: 1:24:09 - loss: 0.4201 - custom_mae: 0.539 - ETA: 1:24:07 - loss: 0.4195 - custom_mae: 0.539 - ETA: 1:24:06 - loss: 0.4194 - custom_mae: 0.538 - ETA: 1:24:05 - loss: 0.4178 - custom_mae: 0.537 - ETA: 1:24:03 - loss: 0.4176 - custom_mae: 0.537 - ETA: 1:24:01 - loss: 0.4177 - custom_mae: 0.537 - ETA: 1:23:59 - loss: 0.4175 - custom_mae: 0.537 - ETA: 1:23:59 - loss: 0.4164 - custom_mae: 0.537 - ETA: 1:23:57 - loss: 0.4165 - custom_mae: 0.537 - ETA: 1:23:56 - loss: 0.4163 - custom_mae: 0.537 - ETA: 1:23:55 - loss: 0.4159 - custom_mae: 0.536 - ETA: 1:23:53 - loss: 0.4165 - custom_mae: 0.537 - ETA: 1:23:52 - loss: 0.4171 - custom_mae: 0.537 - ETA: 1:23:51 - loss: 0.4165 - custom_mae: 0.537 - ETA: 1:23:49 - loss: 0.4163 - custom_mae: 0.537 - ETA: 1:23:48 - loss: 0.4160 - custom_mae: 0.537 - ETA: 1:23:47 - loss: 0.4155 - custom_mae: 0.537 - ETA: 1:23:46 - loss: 0.4154 - custom_mae: 0.537 - ETA: 1:23:44 - loss: 0.4157 - custom_mae: 0.537 - ETA: 1:23:42 - loss: 0.4148 - custom_mae: 0.536 - ETA: 1:23:40 - loss: 0.4139 - custom_mae: 0.536 - ETA: 1:23:39 - loss: 0.4136 - custom_mae: 0.536 - ETA: 1:23:38 - loss: 0.4138 - custom_mae: 0.536 - ETA: 1:23:36 - loss: 0.4129 - custom_mae: 0.536 - ETA: 1:23:34 - loss: 0.4129 - custom_mae: 0.536 - ETA: 1:23:33 - loss: 0.4120 - custom_mae: 0.535 - ETA: 1:23:31 - loss: 0.4117 - custom_mae: 0.535 - ETA: 1:23:30 - loss: 0.4120 - custom_mae: 0.535 - ETA: 1:23:28 - loss: 0.4117 - custom_mae: 0.535 - ETA: 1:23:26 - loss: 0.4121 - custom_mae: 0.536 - ETA: 1:23:25 - loss: 0.4109 - custom_mae: 0.535 - ETA: 1:23:23 - loss: 0.4105 - custom_mae: 0.534 - ETA: 1:23:21 - loss: 0.4101 - custom_mae: 0.534 - ETA: 1:23:19 - loss: 0.4096 - custom_mae: 0.534 - ETA: 1:23:17 - loss: 0.4088 - custom_mae: 0.533 - ETA: 1:23:16 - loss: 0.4081 - custom_mae: 0.533 - ETA: 1:23:14 - loss: 0.4071 - custom_mae: 0.532 - ETA: 1:23:13 - loss: 0.4066 - custom_mae: 0.532 - ETA: 1:23:12 - loss: 0.4058 - custom_mae: 0.531 - ETA: 1:23:10 - loss: 0.4046 - custom_mae: 0.530 - ETA: 1:23:08 - loss: 0.4045 - custom_mae: 0.531 - ETA: 1:23:06 - loss: 0.4042 - custom_mae: 0.530 - ETA: 1:23:05 - loss: 0.4033 - custom_mae: 0.530 - ETA: 1:23:03 - loss: 0.4037 - custom_mae: 0.530 - ETA: 1:23:01 - loss: 0.4032 - custom_mae: 0.529 - ETA: 1:23:00 - loss: 0.4021 - custom_mae: 0.529 - ETA: 1:22:58 - loss: 0.4016 - custom_mae: 0.528 - ETA: 1:22:56 - loss: 0.4010 - custom_mae: 0.528 - ETA: 1:22:54 - loss: 0.4006 - custom_mae: 0.527 - ETA: 1:22:56 - loss: 0.4009 - custom_mae: 0.528 - ETA: 1:22:55 - loss: 0.3999 - custom_mae: 0.527 - ETA: 1:22:53 - loss: 0.3996 - custom_mae: 0.527 - ETA: 1:22:51 - loss: 0.3994 - custom_mae: 0.527 - ETA: 1:22:50 - loss: 0.3991 - custom_mae: 0.527 - ETA: 1:22:48 - loss: 0.3989 - custom_mae: 0.527 - ETA: 1:22:46 - loss: 0.3985 - custom_mae: 0.526 - ETA: 1:22:44 - loss: 0.3979 - custom_mae: 0.526 - ETA: 1:22:42 - loss: 0.3976 - custom_mae: 0.526 - ETA: 1:22:40 - loss: 0.3973 - custom_mae: 0.526 - ETA: 1:22:39 - loss: 0.3976 - custom_mae: 0.526 - ETA: 1:22:38 - loss: 0.3977 - custom_mae: 0.526 - ETA: 1:22:36 - loss: 0.3971 - custom_mae: 0.525 - ETA: 1:22:34 - loss: 0.3961 - custom_mae: 0.525 - ETA: 1:22:32 - loss: 0.3961 - custom_mae: 0.525 - ETA: 1:22:31 - loss: 0.3963 - custom_mae: 0.525 - ETA: 1:22:29 - loss: 0.3961 - custom_mae: 0.525 - ETA: 1:22:27 - loss: 0.3957 - custom_mae: 0.524 - ETA: 1:22:25 - loss: 0.3951 - custom_mae: 0.524 - ETA: 1:22:24 - loss: 0.3943 - custom_mae: 0.524 - ETA: 1:22:22 - loss: 0.3942 - custom_mae: 0.523 - ETA: 1:22:20 - loss: 0.3939 - custom_mae: 0.523 - ETA: 1:22:17 - loss: 0.3938 - custom_mae: 0.523 - ETA: 1:22:16 - loss: 0.3932 - custom_mae: 0.523 - ETA: 1:22:14 - loss: 0.3924 - custom_mae: 0.522 - ETA: 1:22:12 - loss: 0.3924 - custom_mae: 0.522 - ETA: 1:22:10 - loss: 0.3919 - custom_mae: 0.522 - ETA: 1:22:09 - loss: 0.3914 - custom_mae: 0.522 - ETA: 1:22:07 - loss: 0.3910 - custom_mae: 0.521 - ETA: 1:22:05 - loss: 0.3906 - custom_mae: 0.5215"
     ]
    },
    {
     "name": "stdout",
     "output_type": "stream",
     "text": [
      " 327/2500 [==>...........................] - ETA: 1:22:03 - loss: 0.3900 - custom_mae: 0.521 - ETA: 1:22:01 - loss: 0.3899 - custom_mae: 0.521 - ETA: 1:21:59 - loss: 0.3893 - custom_mae: 0.520 - ETA: 1:21:57 - loss: 0.3893 - custom_mae: 0.521 - ETA: 1:21:55 - loss: 0.3894 - custom_mae: 0.521 - ETA: 1:21:52 - loss: 0.3894 - custom_mae: 0.521 - ETA: 1:21:50 - loss: 0.3892 - custom_mae: 0.520 - ETA: 1:21:48 - loss: 0.3889 - custom_mae: 0.520 - ETA: 1:21:47 - loss: 0.3884 - custom_mae: 0.520 - ETA: 1:21:45 - loss: 0.3889 - custom_mae: 0.520 - ETA: 1:21:43 - loss: 0.3890 - custom_mae: 0.521 - ETA: 1:21:41 - loss: 0.3886 - custom_mae: 0.520 - ETA: 1:21:39 - loss: 0.3882 - custom_mae: 0.520 - ETA: 1:21:37 - loss: 0.3876 - custom_mae: 0.519 - ETA: 1:21:35 - loss: 0.3875 - custom_mae: 0.519 - ETA: 1:21:33 - loss: 0.3876 - custom_mae: 0.520 - ETA: 1:21:31 - loss: 0.3868 - custom_mae: 0.519 - ETA: 1:21:29 - loss: 0.3869 - custom_mae: 0.519 - ETA: 1:21:27 - loss: 0.3864 - custom_mae: 0.519 - ETA: 1:21:25 - loss: 0.3861 - custom_mae: 0.519 - ETA: 1:21:23 - loss: 0.3862 - custom_mae: 0.519 - ETA: 1:21:21 - loss: 0.3862 - custom_mae: 0.519 - ETA: 1:21:19 - loss: 0.3862 - custom_mae: 0.519 - ETA: 1:21:17 - loss: 0.3856 - custom_mae: 0.518 - ETA: 1:21:15 - loss: 0.3852 - custom_mae: 0.518 - ETA: 1:21:13 - loss: 0.3846 - custom_mae: 0.518 - ETA: 1:21:10 - loss: 0.3844 - custom_mae: 0.518 - ETA: 1:21:09 - loss: 0.3841 - custom_mae: 0.517 - ETA: 1:21:06 - loss: 0.3834 - custom_mae: 0.517 - ETA: 1:21:04 - loss: 0.3828 - custom_mae: 0.516 - ETA: 1:21:02 - loss: 0.3824 - custom_mae: 0.516 - ETA: 1:21:00 - loss: 0.3817 - custom_mae: 0.516 - ETA: 1:20:58 - loss: 0.3815 - custom_mae: 0.516 - ETA: 1:20:56 - loss: 0.3810 - custom_mae: 0.515 - ETA: 1:20:55 - loss: 0.3808 - custom_mae: 0.515 - ETA: 1:20:53 - loss: 0.3808 - custom_mae: 0.515 - ETA: 1:20:51 - loss: 0.3803 - custom_mae: 0.515 - ETA: 1:20:48 - loss: 0.3800 - custom_mae: 0.515 - ETA: 1:20:47 - loss: 0.3797 - custom_mae: 0.515 - ETA: 1:20:44 - loss: 0.3790 - custom_mae: 0.514 - ETA: 1:20:43 - loss: 0.3790 - custom_mae: 0.514 - ETA: 1:20:41 - loss: 0.3784 - custom_mae: 0.514 - ETA: 1:20:39 - loss: 0.3780 - custom_mae: 0.514 - ETA: 1:20:37 - loss: 0.3777 - custom_mae: 0.513 - ETA: 1:20:35 - loss: 0.3774 - custom_mae: 0.513 - ETA: 1:20:33 - loss: 0.3773 - custom_mae: 0.513 - ETA: 1:20:31 - loss: 0.3773 - custom_mae: 0.513 - ETA: 1:20:29 - loss: 0.3770 - custom_mae: 0.513 - ETA: 1:20:27 - loss: 0.3767 - custom_mae: 0.513 - ETA: 1:20:25 - loss: 0.3765 - custom_mae: 0.513 - ETA: 1:20:23 - loss: 0.3759 - custom_mae: 0.512 - ETA: 1:20:21 - loss: 0.3754 - custom_mae: 0.512 - ETA: 1:20:19 - loss: 0.3755 - custom_mae: 0.512 - ETA: 1:20:17 - loss: 0.3752 - custom_mae: 0.512 - ETA: 1:20:15 - loss: 0.3750 - custom_mae: 0.512 - ETA: 1:20:13 - loss: 0.3749 - custom_mae: 0.512 - ETA: 1:20:11 - loss: 0.3745 - custom_mae: 0.511 - ETA: 1:20:09 - loss: 0.3744 - custom_mae: 0.511 - ETA: 1:20:07 - loss: 0.3743 - custom_mae: 0.511 - ETA: 1:20:05 - loss: 0.3743 - custom_mae: 0.512 - ETA: 1:20:03 - loss: 0.3745 - custom_mae: 0.512 - ETA: 1:20:01 - loss: 0.3743 - custom_mae: 0.512 - ETA: 1:19:59 - loss: 0.3740 - custom_mae: 0.511 - ETA: 1:19:57 - loss: 0.3737 - custom_mae: 0.511 - ETA: 1:19:55 - loss: 0.3735 - custom_mae: 0.511 - ETA: 1:19:53 - loss: 0.3734 - custom_mae: 0.511 - ETA: 1:19:51 - loss: 0.3728 - custom_mae: 0.510 - ETA: 1:19:49 - loss: 0.3729 - custom_mae: 0.511 - ETA: 1:19:47 - loss: 0.3727 - custom_mae: 0.510 - ETA: 1:19:45 - loss: 0.3726 - custom_mae: 0.510 - ETA: 1:19:43 - loss: 0.3722 - custom_mae: 0.510 - ETA: 1:19:41 - loss: 0.3717 - custom_mae: 0.510 - ETA: 1:19:39 - loss: 0.3716 - custom_mae: 0.510 - ETA: 1:19:37 - loss: 0.3713 - custom_mae: 0.510 - ETA: 1:19:34 - loss: 0.3711 - custom_mae: 0.509 - ETA: 1:19:32 - loss: 0.3708 - custom_mae: 0.509 - ETA: 1:19:30 - loss: 0.3705 - custom_mae: 0.509 - ETA: 1:19:28 - loss: 0.3702 - custom_mae: 0.509 - ETA: 1:19:26 - loss: 0.3699 - custom_mae: 0.508 - ETA: 1:19:24 - loss: 0.3696 - custom_mae: 0.508 - ETA: 1:19:22 - loss: 0.3698 - custom_mae: 0.509 - ETA: 1:19:20 - loss: 0.3693 - custom_mae: 0.508 - ETA: 1:19:18 - loss: 0.3690 - custom_mae: 0.508 - ETA: 1:19:17 - loss: 0.3687 - custom_mae: 0.508 - ETA: 1:19:15 - loss: 0.3685 - custom_mae: 0.508 - ETA: 1:19:13 - loss: 0.3683 - custom_mae: 0.508 - ETA: 1:19:11 - loss: 0.3680 - custom_mae: 0.508 - ETA: 1:19:08 - loss: 0.3675 - custom_mae: 0.507 - ETA: 1:19:07 - loss: 0.3671 - custom_mae: 0.507 - ETA: 1:19:04 - loss: 0.3669 - custom_mae: 0.507 - ETA: 1:19:03 - loss: 0.3668 - custom_mae: 0.507 - ETA: 1:19:00 - loss: 0.3663 - custom_mae: 0.506 - ETA: 1:18:59 - loss: 0.3658 - custom_mae: 0.506 - ETA: 1:18:56 - loss: 0.3657 - custom_mae: 0.506 - ETA: 1:18:54 - loss: 0.3655 - custom_mae: 0.505 - ETA: 1:18:52 - loss: 0.3652 - custom_mae: 0.505 - ETA: 1:18:50 - loss: 0.3649 - custom_mae: 0.505 - ETA: 1:18:48 - loss: 0.3645 - custom_mae: 0.505 - ETA: 1:18:46 - loss: 0.3642 - custom_mae: 0.505 - ETA: 1:18:44 - loss: 0.3640 - custom_mae: 0.505 - ETA: 1:18:42 - loss: 0.3636 - custom_mae: 0.504 - ETA: 1:18:40 - loss: 0.3636 - custom_mae: 0.504 - ETA: 1:18:38 - loss: 0.3633 - custom_mae: 0.504 - ETA: 1:18:36 - loss: 0.3629 - custom_mae: 0.504 - ETA: 1:18:34 - loss: 0.3627 - custom_mae: 0.504 - ETA: 1:18:32 - loss: 0.3625 - custom_mae: 0.504 - ETA: 1:18:30 - loss: 0.3620 - custom_mae: 0.503 - ETA: 1:18:28 - loss: 0.3615 - custom_mae: 0.503 - ETA: 1:18:26 - loss: 0.3610 - custom_mae: 0.503 - ETA: 1:18:24 - loss: 0.3606 - custom_mae: 0.502 - ETA: 1:18:22 - loss: 0.3605 - custom_mae: 0.502 - ETA: 1:18:20 - loss: 0.3601 - custom_mae: 0.502 - ETA: 1:18:17 - loss: 0.3598 - custom_mae: 0.502 - ETA: 1:18:15 - loss: 0.3598 - custom_mae: 0.502 - ETA: 1:18:13 - loss: 0.3597 - custom_mae: 0.502 - ETA: 1:18:11 - loss: 0.3594 - custom_mae: 0.501 - ETA: 1:18:09 - loss: 0.3593 - custom_mae: 0.501 - ETA: 1:18:07 - loss: 0.3590 - custom_mae: 0.501 - ETA: 1:18:05 - loss: 0.3586 - custom_mae: 0.501 - ETA: 1:18:03 - loss: 0.3585 - custom_mae: 0.501 - ETA: 1:18:01 - loss: 0.3583 - custom_mae: 0.500 - ETA: 1:17:59 - loss: 0.3582 - custom_mae: 0.500 - ETA: 1:17:57 - loss: 0.3580 - custom_mae: 0.500 - ETA: 1:17:55 - loss: 0.3578 - custom_mae: 0.500 - ETA: 1:17:53 - loss: 0.3578 - custom_mae: 0.500 - ETA: 1:17:51 - loss: 0.3577 - custom_mae: 0.500 - ETA: 1:17:49 - loss: 0.3573 - custom_mae: 0.500 - ETA: 1:17:47 - loss: 0.3571 - custom_mae: 0.500 - ETA: 1:17:45 - loss: 0.3569 - custom_mae: 0.500 - ETA: 1:17:43 - loss: 0.3568 - custom_mae: 0.500 - ETA: 1:17:41 - loss: 0.3566 - custom_mae: 0.499 - ETA: 1:17:39 - loss: 0.3567 - custom_mae: 0.499 - ETA: 1:17:37 - loss: 0.3565 - custom_mae: 0.499 - ETA: 1:17:34 - loss: 0.3564 - custom_mae: 0.499 - ETA: 1:17:32 - loss: 0.3562 - custom_mae: 0.499 - ETA: 1:17:30 - loss: 0.3560 - custom_mae: 0.499 - ETA: 1:17:28 - loss: 0.3557 - custom_mae: 0.499 - ETA: 1:17:26 - loss: 0.3553 - custom_mae: 0.499 - ETA: 1:17:24 - loss: 0.3550 - custom_mae: 0.498 - ETA: 1:17:22 - loss: 0.3548 - custom_mae: 0.498 - ETA: 1:17:19 - loss: 0.3544 - custom_mae: 0.498 - ETA: 1:17:17 - loss: 0.3543 - custom_mae: 0.498 - ETA: 1:17:15 - loss: 0.3541 - custom_mae: 0.498 - ETA: 1:17:13 - loss: 0.3536 - custom_mae: 0.497 - ETA: 1:17:11 - loss: 0.3535 - custom_mae: 0.497 - ETA: 1:17:09 - loss: 0.3532 - custom_mae: 0.497 - ETA: 1:17:07 - loss: 0.3530 - custom_mae: 0.497 - ETA: 1:17:05 - loss: 0.3529 - custom_mae: 0.496 - ETA: 1:17:03 - loss: 0.3527 - custom_mae: 0.496 - ETA: 1:17:01 - loss: 0.3524 - custom_mae: 0.496 - ETA: 1:16:59 - loss: 0.3524 - custom_mae: 0.496 - ETA: 1:16:56 - loss: 0.3523 - custom_mae: 0.496 - ETA: 1:16:54 - loss: 0.3523 - custom_mae: 0.496 - ETA: 1:16:52 - loss: 0.3521 - custom_mae: 0.496 - ETA: 1:16:50 - loss: 0.3519 - custom_mae: 0.496 - ETA: 1:16:48 - loss: 0.3517 - custom_mae: 0.496 - ETA: 1:16:46 - loss: 0.3514 - custom_mae: 0.496 - ETA: 1:16:44 - loss: 0.3513 - custom_mae: 0.496 - ETA: 1:16:42 - loss: 0.3513 - custom_mae: 0.496 - ETA: 1:16:40 - loss: 0.3512 - custom_mae: 0.496 - ETA: 1:16:38 - loss: 0.3511 - custom_mae: 0.496 - ETA: 1:16:35 - loss: 0.3508 - custom_mae: 0.495 - ETA: 1:16:34 - loss: 0.3505 - custom_mae: 0.4955"
     ]
    },
    {
     "name": "stdout",
     "output_type": "stream",
     "text": [
      " 490/2500 [====>.........................] - ETA: 1:16:32 - loss: 0.3504 - custom_mae: 0.495 - ETA: 1:16:29 - loss: 0.3503 - custom_mae: 0.495 - ETA: 1:16:27 - loss: 0.3501 - custom_mae: 0.495 - ETA: 1:16:25 - loss: 0.3500 - custom_mae: 0.495 - ETA: 1:16:23 - loss: 0.3498 - custom_mae: 0.495 - ETA: 1:16:21 - loss: 0.3495 - custom_mae: 0.494 - ETA: 1:16:19 - loss: 0.3494 - custom_mae: 0.494 - ETA: 1:16:17 - loss: 0.3492 - custom_mae: 0.494 - ETA: 1:16:15 - loss: 0.3491 - custom_mae: 0.494 - ETA: 1:16:13 - loss: 0.3490 - custom_mae: 0.494 - ETA: 1:16:11 - loss: 0.3491 - custom_mae: 0.494 - ETA: 1:16:09 - loss: 0.3490 - custom_mae: 0.494 - ETA: 1:16:06 - loss: 0.3490 - custom_mae: 0.494 - ETA: 1:16:04 - loss: 0.3488 - custom_mae: 0.494 - ETA: 1:16:02 - loss: 0.3487 - custom_mae: 0.494 - ETA: 1:16:00 - loss: 0.3486 - custom_mae: 0.494 - ETA: 1:15:58 - loss: 0.3485 - custom_mae: 0.494 - ETA: 1:15:56 - loss: 0.3484 - custom_mae: 0.494 - ETA: 1:15:54 - loss: 0.3482 - custom_mae: 0.494 - ETA: 1:15:52 - loss: 0.3481 - custom_mae: 0.494 - ETA: 1:15:50 - loss: 0.3478 - custom_mae: 0.493 - ETA: 1:15:48 - loss: 0.3477 - custom_mae: 0.493 - ETA: 1:15:45 - loss: 0.3475 - custom_mae: 0.493 - ETA: 1:15:43 - loss: 0.3474 - custom_mae: 0.493 - ETA: 1:15:41 - loss: 0.3471 - custom_mae: 0.493 - ETA: 1:15:39 - loss: 0.3470 - custom_mae: 0.493 - ETA: 1:15:37 - loss: 0.3468 - custom_mae: 0.493 - ETA: 1:15:35 - loss: 0.3469 - custom_mae: 0.493 - ETA: 1:15:33 - loss: 0.3468 - custom_mae: 0.493 - ETA: 1:15:31 - loss: 0.3466 - custom_mae: 0.493 - ETA: 1:15:29 - loss: 0.3464 - custom_mae: 0.493 - ETA: 1:15:27 - loss: 0.3463 - custom_mae: 0.492 - ETA: 1:15:25 - loss: 0.3462 - custom_mae: 0.492 - ETA: 1:15:23 - loss: 0.3461 - custom_mae: 0.492 - ETA: 1:15:21 - loss: 0.3458 - custom_mae: 0.492 - ETA: 1:15:19 - loss: 0.3456 - custom_mae: 0.492 - ETA: 1:15:17 - loss: 0.3455 - custom_mae: 0.492 - ETA: 1:15:14 - loss: 0.3454 - custom_mae: 0.492 - ETA: 1:15:12 - loss: 0.3455 - custom_mae: 0.492 - ETA: 1:15:10 - loss: 0.3455 - custom_mae: 0.492 - ETA: 1:15:08 - loss: 0.3455 - custom_mae: 0.492 - ETA: 1:15:06 - loss: 0.3452 - custom_mae: 0.492 - ETA: 1:15:04 - loss: 0.3450 - custom_mae: 0.491 - ETA: 1:15:02 - loss: 0.3448 - custom_mae: 0.491 - ETA: 1:15:00 - loss: 0.3447 - custom_mae: 0.491 - ETA: 1:14:58 - loss: 0.3446 - custom_mae: 0.491 - ETA: 1:14:56 - loss: 0.3445 - custom_mae: 0.491 - ETA: 1:14:54 - loss: 0.3445 - custom_mae: 0.491 - ETA: 1:14:52 - loss: 0.3444 - custom_mae: 0.491 - ETA: 1:14:50 - loss: 0.3442 - custom_mae: 0.491 - ETA: 1:14:48 - loss: 0.3438 - custom_mae: 0.491 - ETA: 1:14:46 - loss: 0.3436 - custom_mae: 0.490 - ETA: 1:14:44 - loss: 0.3435 - custom_mae: 0.490 - ETA: 1:14:41 - loss: 0.3432 - custom_mae: 0.490 - ETA: 1:14:39 - loss: 0.3431 - custom_mae: 0.490 - ETA: 1:14:37 - loss: 0.3428 - custom_mae: 0.490 - ETA: 1:14:35 - loss: 0.3426 - custom_mae: 0.490 - ETA: 1:14:33 - loss: 0.3425 - custom_mae: 0.490 - ETA: 1:14:31 - loss: 0.3422 - custom_mae: 0.489 - ETA: 1:14:29 - loss: 0.3420 - custom_mae: 0.489 - ETA: 1:14:27 - loss: 0.3417 - custom_mae: 0.489 - ETA: 1:14:25 - loss: 0.3415 - custom_mae: 0.489 - ETA: 1:14:23 - loss: 0.3413 - custom_mae: 0.489 - ETA: 1:14:20 - loss: 0.3412 - custom_mae: 0.489 - ETA: 1:14:18 - loss: 0.3411 - custom_mae: 0.489 - ETA: 1:14:16 - loss: 0.3411 - custom_mae: 0.489 - ETA: 1:14:14 - loss: 0.3410 - custom_mae: 0.489 - ETA: 1:14:12 - loss: 0.3409 - custom_mae: 0.489 - ETA: 1:14:10 - loss: 0.3408 - custom_mae: 0.489 - ETA: 1:14:08 - loss: 0.3407 - custom_mae: 0.489 - ETA: 1:14:06 - loss: 0.3407 - custom_mae: 0.489 - ETA: 1:14:03 - loss: 0.3407 - custom_mae: 0.489 - ETA: 1:14:01 - loss: 0.3406 - custom_mae: 0.489 - ETA: 1:13:59 - loss: 0.3403 - custom_mae: 0.488 - ETA: 1:13:57 - loss: 0.3403 - custom_mae: 0.488 - ETA: 1:13:55 - loss: 0.3403 - custom_mae: 0.488 - ETA: 1:13:53 - loss: 0.3402 - custom_mae: 0.488 - ETA: 1:13:51 - loss: 0.3401 - custom_mae: 0.488 - ETA: 1:13:49 - loss: 0.3401 - custom_mae: 0.488 - ETA: 1:13:47 - loss: 0.3399 - custom_mae: 0.488 - ETA: 1:13:44 - loss: 0.3397 - custom_mae: 0.488 - ETA: 1:13:42 - loss: 0.3397 - custom_mae: 0.488 - ETA: 1:13:40 - loss: 0.3396 - custom_mae: 0.488 - ETA: 1:13:38 - loss: 0.3393 - custom_mae: 0.488 - ETA: 1:13:36 - loss: 0.3393 - custom_mae: 0.488 - ETA: 1:13:34 - loss: 0.3391 - custom_mae: 0.488 - ETA: 1:13:32 - loss: 0.3390 - custom_mae: 0.488 - ETA: 1:13:30 - loss: 0.3389 - custom_mae: 0.488 - ETA: 1:13:28 - loss: 0.3387 - custom_mae: 0.487 - ETA: 1:13:26 - loss: 0.3384 - custom_mae: 0.487 - ETA: 1:13:24 - loss: 0.3384 - custom_mae: 0.487 - ETA: 1:13:21 - loss: 0.3384 - custom_mae: 0.487 - ETA: 1:13:19 - loss: 0.3383 - custom_mae: 0.487 - ETA: 1:13:17 - loss: 0.3381 - custom_mae: 0.487 - ETA: 1:13:15 - loss: 0.3382 - custom_mae: 0.487 - ETA: 1:13:13 - loss: 0.3380 - custom_mae: 0.487 - ETA: 1:13:11 - loss: 0.3378 - custom_mae: 0.487 - ETA: 1:13:09 - loss: 0.3376 - custom_mae: 0.487 - ETA: 1:13:07 - loss: 0.3377 - custom_mae: 0.487 - ETA: 1:13:05 - loss: 0.3376 - custom_mae: 0.487 - ETA: 1:13:03 - loss: 0.3374 - custom_mae: 0.486 - ETA: 1:13:01 - loss: 0.3374 - custom_mae: 0.486 - ETA: 1:12:59 - loss: 0.3374 - custom_mae: 0.487 - ETA: 1:12:57 - loss: 0.3374 - custom_mae: 0.487 - ETA: 1:12:55 - loss: 0.3373 - custom_mae: 0.487 - ETA: 1:12:53 - loss: 0.3372 - custom_mae: 0.486 - ETA: 1:12:50 - loss: 0.3371 - custom_mae: 0.486 - ETA: 1:12:48 - loss: 0.3370 - custom_mae: 0.486 - ETA: 1:12:46 - loss: 0.3370 - custom_mae: 0.486 - ETA: 1:12:44 - loss: 0.3370 - custom_mae: 0.486 - ETA: 1:12:42 - loss: 0.3369 - custom_mae: 0.486 - ETA: 1:12:40 - loss: 0.3369 - custom_mae: 0.486 - ETA: 1:12:38 - loss: 0.3366 - custom_mae: 0.486 - ETA: 1:12:36 - loss: 0.3365 - custom_mae: 0.486 - ETA: 1:12:34 - loss: 0.3365 - custom_mae: 0.486 - ETA: 1:12:32 - loss: 0.3364 - custom_mae: 0.486 - ETA: 1:12:30 - loss: 0.3362 - custom_mae: 0.486 - ETA: 1:12:28 - loss: 0.3361 - custom_mae: 0.486 - ETA: 1:12:26 - loss: 0.3360 - custom_mae: 0.486 - ETA: 1:12:24 - loss: 0.3358 - custom_mae: 0.485 - ETA: 1:12:21 - loss: 0.3356 - custom_mae: 0.485 - ETA: 1:12:19 - loss: 0.3355 - custom_mae: 0.485 - ETA: 1:12:17 - loss: 0.3353 - custom_mae: 0.485 - ETA: 1:12:15 - loss: 0.3351 - custom_mae: 0.485 - ETA: 1:12:13 - loss: 0.3348 - custom_mae: 0.485 - ETA: 1:12:11 - loss: 0.3348 - custom_mae: 0.485 - ETA: 1:12:09 - loss: 0.3346 - custom_mae: 0.485 - ETA: 1:12:07 - loss: 0.3346 - custom_mae: 0.484 - ETA: 1:12:04 - loss: 0.3344 - custom_mae: 0.484 - ETA: 1:12:02 - loss: 0.3342 - custom_mae: 0.484 - ETA: 1:12:00 - loss: 0.3341 - custom_mae: 0.484 - ETA: 1:11:58 - loss: 0.3340 - custom_mae: 0.484 - ETA: 1:11:56 - loss: 0.3338 - custom_mae: 0.484 - ETA: 1:11:54 - loss: 0.3336 - custom_mae: 0.484 - ETA: 1:11:52 - loss: 0.3334 - custom_mae: 0.484 - ETA: 1:11:50 - loss: 0.3334 - custom_mae: 0.484 - ETA: 1:11:48 - loss: 0.3332 - custom_mae: 0.483 - ETA: 1:11:46 - loss: 0.3331 - custom_mae: 0.483 - ETA: 1:11:43 - loss: 0.3332 - custom_mae: 0.483 - ETA: 1:11:41 - loss: 0.3333 - custom_mae: 0.484 - ETA: 1:11:39 - loss: 0.3331 - custom_mae: 0.483 - ETA: 1:11:37 - loss: 0.3329 - custom_mae: 0.483 - ETA: 1:11:35 - loss: 0.3328 - custom_mae: 0.483 - ETA: 1:11:33 - loss: 0.3327 - custom_mae: 0.483 - ETA: 1:11:31 - loss: 0.3327 - custom_mae: 0.483 - ETA: 1:11:29 - loss: 0.3325 - custom_mae: 0.483 - ETA: 1:11:26 - loss: 0.3326 - custom_mae: 0.483 - ETA: 1:11:24 - loss: 0.3325 - custom_mae: 0.483 - ETA: 1:11:22 - loss: 0.3325 - custom_mae: 0.483 - ETA: 1:11:20 - loss: 0.3323 - custom_mae: 0.483 - ETA: 1:11:18 - loss: 0.3321 - custom_mae: 0.483 - ETA: 1:11:16 - loss: 0.3320 - custom_mae: 0.483 - ETA: 1:11:14 - loss: 0.3319 - custom_mae: 0.483 - ETA: 1:11:12 - loss: 0.3318 - custom_mae: 0.482 - ETA: 1:11:10 - loss: 0.3316 - custom_mae: 0.482 - ETA: 1:11:08 - loss: 0.3315 - custom_mae: 0.482 - ETA: 1:11:05 - loss: 0.3315 - custom_mae: 0.482 - ETA: 1:11:03 - loss: 0.3315 - custom_mae: 0.482 - ETA: 1:11:01 - loss: 0.3314 - custom_mae: 0.482 - ETA: 1:10:59 - loss: 0.3313 - custom_mae: 0.482 - ETA: 1:10:57 - loss: 0.3313 - custom_mae: 0.482 - ETA: 1:10:55 - loss: 0.3310 - custom_mae: 0.482 - ETA: 1:10:53 - loss: 0.3310 - custom_mae: 0.4824"
     ]
    },
    {
     "name": "stdout",
     "output_type": "stream",
     "text": [
      " 653/2500 [======>.......................] - ETA: 1:10:51 - loss: 0.3309 - custom_mae: 0.482 - ETA: 1:10:49 - loss: 0.3310 - custom_mae: 0.482 - ETA: 1:10:47 - loss: 0.3310 - custom_mae: 0.482 - ETA: 1:10:45 - loss: 0.3308 - custom_mae: 0.482 - ETA: 1:10:43 - loss: 0.3307 - custom_mae: 0.482 - ETA: 1:10:40 - loss: 0.3305 - custom_mae: 0.482 - ETA: 1:10:38 - loss: 0.3304 - custom_mae: 0.482 - ETA: 1:10:36 - loss: 0.3302 - custom_mae: 0.481 - ETA: 1:10:34 - loss: 0.3300 - custom_mae: 0.481 - ETA: 1:10:32 - loss: 0.3298 - custom_mae: 0.481 - ETA: 1:10:30 - loss: 0.3298 - custom_mae: 0.481 - ETA: 1:10:28 - loss: 0.3296 - custom_mae: 0.481 - ETA: 1:10:26 - loss: 0.3293 - custom_mae: 0.481 - ETA: 1:10:24 - loss: 0.3291 - custom_mae: 0.481 - ETA: 1:10:22 - loss: 0.3291 - custom_mae: 0.480 - ETA: 1:10:19 - loss: 0.3290 - custom_mae: 0.480 - ETA: 1:10:17 - loss: 0.3288 - custom_mae: 0.480 - ETA: 1:10:15 - loss: 0.3286 - custom_mae: 0.480 - ETA: 1:10:13 - loss: 0.3285 - custom_mae: 0.480 - ETA: 1:10:11 - loss: 0.3284 - custom_mae: 0.480 - ETA: 1:10:09 - loss: 0.3284 - custom_mae: 0.480 - ETA: 1:10:06 - loss: 0.3283 - custom_mae: 0.480 - ETA: 1:10:04 - loss: 0.3282 - custom_mae: 0.480 - ETA: 1:10:02 - loss: 0.3281 - custom_mae: 0.480 - ETA: 1:10:00 - loss: 0.3280 - custom_mae: 0.480 - ETA: 1:09:58 - loss: 0.3279 - custom_mae: 0.480 - ETA: 1:09:56 - loss: 0.3278 - custom_mae: 0.479 - ETA: 1:09:54 - loss: 0.3278 - custom_mae: 0.479 - ETA: 1:09:52 - loss: 0.3278 - custom_mae: 0.480 - ETA: 1:09:50 - loss: 0.3278 - custom_mae: 0.480 - ETA: 1:09:47 - loss: 0.3278 - custom_mae: 0.480 - ETA: 1:09:45 - loss: 0.3276 - custom_mae: 0.479 - ETA: 1:09:43 - loss: 0.3277 - custom_mae: 0.480 - ETA: 1:09:41 - loss: 0.3276 - custom_mae: 0.479 - ETA: 1:09:39 - loss: 0.3277 - custom_mae: 0.480 - ETA: 1:09:37 - loss: 0.3275 - custom_mae: 0.479 - ETA: 1:09:35 - loss: 0.3275 - custom_mae: 0.479 - ETA: 1:09:33 - loss: 0.3274 - custom_mae: 0.479 - ETA: 1:09:30 - loss: 0.3273 - custom_mae: 0.479 - ETA: 1:09:28 - loss: 0.3272 - custom_mae: 0.479 - ETA: 1:09:26 - loss: 0.3271 - custom_mae: 0.479 - ETA: 1:09:24 - loss: 0.3271 - custom_mae: 0.479 - ETA: 1:09:22 - loss: 0.3270 - custom_mae: 0.479 - ETA: 1:09:20 - loss: 0.3271 - custom_mae: 0.479 - ETA: 1:09:18 - loss: 0.3270 - custom_mae: 0.479 - ETA: 1:09:15 - loss: 0.3269 - custom_mae: 0.479 - ETA: 1:09:13 - loss: 0.3269 - custom_mae: 0.479 - ETA: 1:09:11 - loss: 0.3271 - custom_mae: 0.479 - ETA: 1:09:09 - loss: 0.3269 - custom_mae: 0.479 - ETA: 1:09:07 - loss: 0.3268 - custom_mae: 0.479 - ETA: 1:09:05 - loss: 0.3268 - custom_mae: 0.479 - ETA: 1:09:03 - loss: 0.3269 - custom_mae: 0.479 - ETA: 1:09:01 - loss: 0.3270 - custom_mae: 0.479 - ETA: 1:08:58 - loss: 0.3269 - custom_mae: 0.479 - ETA: 1:08:56 - loss: 0.3267 - custom_mae: 0.479 - ETA: 1:08:54 - loss: 0.3266 - custom_mae: 0.479 - ETA: 1:08:52 - loss: 0.3265 - custom_mae: 0.479 - ETA: 1:08:50 - loss: 0.3266 - custom_mae: 0.479 - ETA: 1:08:48 - loss: 0.3267 - custom_mae: 0.479 - ETA: 1:08:46 - loss: 0.3265 - custom_mae: 0.479 - ETA: 1:08:44 - loss: 0.3264 - custom_mae: 0.479 - ETA: 1:08:42 - loss: 0.3263 - custom_mae: 0.479 - ETA: 1:08:40 - loss: 0.3263 - custom_mae: 0.479 - ETA: 1:08:38 - loss: 0.3262 - custom_mae: 0.479 - ETA: 1:08:35 - loss: 0.3261 - custom_mae: 0.479 - ETA: 1:08:33 - loss: 0.3260 - custom_mae: 0.479 - ETA: 1:08:31 - loss: 0.3259 - custom_mae: 0.478 - ETA: 1:08:29 - loss: 0.3258 - custom_mae: 0.478 - ETA: 1:08:27 - loss: 0.3257 - custom_mae: 0.478 - ETA: 1:08:25 - loss: 0.3257 - custom_mae: 0.478 - ETA: 1:08:23 - loss: 0.3255 - custom_mae: 0.478 - ETA: 1:08:21 - loss: 0.3255 - custom_mae: 0.478 - ETA: 1:08:19 - loss: 0.3255 - custom_mae: 0.478 - ETA: 1:08:17 - loss: 0.3253 - custom_mae: 0.478 - ETA: 1:08:14 - loss: 0.3254 - custom_mae: 0.478 - ETA: 1:08:12 - loss: 0.3253 - custom_mae: 0.478 - ETA: 1:08:10 - loss: 0.3255 - custom_mae: 0.478 - ETA: 1:08:08 - loss: 0.3253 - custom_mae: 0.478 - ETA: 1:08:06 - loss: 0.3252 - custom_mae: 0.478 - ETA: 1:08:04 - loss: 0.3251 - custom_mae: 0.478 - ETA: 1:08:02 - loss: 0.3250 - custom_mae: 0.478 - ETA: 1:08:00 - loss: 0.3249 - custom_mae: 0.478 - ETA: 1:07:58 - loss: 0.3249 - custom_mae: 0.478 - ETA: 1:07:56 - loss: 0.3248 - custom_mae: 0.478 - ETA: 1:07:53 - loss: 0.3247 - custom_mae: 0.478 - ETA: 1:07:51 - loss: 0.3247 - custom_mae: 0.478 - ETA: 1:07:49 - loss: 0.3247 - custom_mae: 0.478 - ETA: 1:07:47 - loss: 0.3245 - custom_mae: 0.477 - ETA: 1:07:45 - loss: 0.3244 - custom_mae: 0.477 - ETA: 1:07:43 - loss: 0.3242 - custom_mae: 0.477 - ETA: 1:07:41 - loss: 0.3242 - custom_mae: 0.477 - ETA: 1:07:39 - loss: 0.3241 - custom_mae: 0.477 - ETA: 1:07:37 - loss: 0.3240 - custom_mae: 0.477 - ETA: 1:07:35 - loss: 0.3239 - custom_mae: 0.477 - ETA: 1:07:33 - loss: 0.3238 - custom_mae: 0.477 - ETA: 1:07:31 - loss: 0.3237 - custom_mae: 0.477 - ETA: 1:07:29 - loss: 0.3239 - custom_mae: 0.477 - ETA: 1:07:26 - loss: 0.3238 - custom_mae: 0.477 - ETA: 1:07:24 - loss: 0.3237 - custom_mae: 0.477 - ETA: 1:07:22 - loss: 0.3236 - custom_mae: 0.477 - ETA: 1:07:20 - loss: 0.3235 - custom_mae: 0.477 - ETA: 1:07:18 - loss: 0.3235 - custom_mae: 0.477 - ETA: 1:07:16 - loss: 0.3235 - custom_mae: 0.477 - ETA: 1:07:14 - loss: 0.3234 - custom_mae: 0.477 - ETA: 1:07:12 - loss: 0.3233 - custom_mae: 0.477 - ETA: 1:07:09 - loss: 0.3232 - custom_mae: 0.476 - ETA: 1:07:07 - loss: 0.3232 - custom_mae: 0.477 - ETA: 1:07:05 - loss: 0.3231 - custom_mae: 0.476 - ETA: 1:07:03 - loss: 0.3231 - custom_mae: 0.476 - ETA: 1:07:01 - loss: 0.3230 - custom_mae: 0.476 - ETA: 1:06:59 - loss: 0.3230 - custom_mae: 0.476 - ETA: 1:06:57 - loss: 0.3230 - custom_mae: 0.476 - ETA: 1:06:55 - loss: 0.3229 - custom_mae: 0.476 - ETA: 1:06:53 - loss: 0.3229 - custom_mae: 0.476 - ETA: 1:06:51 - loss: 0.3229 - custom_mae: 0.476 - ETA: 1:06:49 - loss: 0.3229 - custom_mae: 0.476 - ETA: 1:06:46 - loss: 0.3228 - custom_mae: 0.476 - ETA: 1:06:44 - loss: 0.3228 - custom_mae: 0.476 - ETA: 1:06:42 - loss: 0.3227 - custom_mae: 0.476 - ETA: 1:06:40 - loss: 0.3229 - custom_mae: 0.476 - ETA: 1:06:38 - loss: 0.3228 - custom_mae: 0.476 - ETA: 1:06:36 - loss: 0.3227 - custom_mae: 0.476 - ETA: 1:06:34 - loss: 0.3226 - custom_mae: 0.476 - ETA: 1:06:32 - loss: 0.3227 - custom_mae: 0.476 - ETA: 1:06:29 - loss: 0.3227 - custom_mae: 0.476 - ETA: 1:06:27 - loss: 0.3227 - custom_mae: 0.476 - ETA: 1:06:25 - loss: 0.3226 - custom_mae: 0.476 - ETA: 1:06:23 - loss: 0.3225 - custom_mae: 0.476 - ETA: 1:06:21 - loss: 0.3225 - custom_mae: 0.476 - ETA: 1:06:19 - loss: 0.3224 - custom_mae: 0.476 - ETA: 1:06:17 - loss: 0.3224 - custom_mae: 0.476 - ETA: 1:06:15 - loss: 0.3223 - custom_mae: 0.476 - ETA: 1:06:13 - loss: 0.3222 - custom_mae: 0.476 - ETA: 1:06:11 - loss: 0.3221 - custom_mae: 0.476 - ETA: 1:06:08 - loss: 0.3220 - custom_mae: 0.476 - ETA: 1:06:06 - loss: 0.3219 - custom_mae: 0.476 - ETA: 1:06:04 - loss: 0.3218 - custom_mae: 0.476 - ETA: 1:06:02 - loss: 0.3217 - custom_mae: 0.475 - ETA: 1:06:00 - loss: 0.3216 - custom_mae: 0.475 - ETA: 1:05:58 - loss: 0.3216 - custom_mae: 0.476 - ETA: 1:05:56 - loss: 0.3216 - custom_mae: 0.476 - ETA: 1:05:53 - loss: 0.3216 - custom_mae: 0.475 - ETA: 1:05:51 - loss: 0.3215 - custom_mae: 0.475 - ETA: 1:05:49 - loss: 0.3215 - custom_mae: 0.475 - ETA: 1:05:47 - loss: 0.3214 - custom_mae: 0.475 - ETA: 1:05:45 - loss: 0.3213 - custom_mae: 0.475 - ETA: 1:05:43 - loss: 0.3212 - custom_mae: 0.475 - ETA: 1:05:41 - loss: 0.3210 - custom_mae: 0.475 - ETA: 1:05:39 - loss: 0.3209 - custom_mae: 0.475 - ETA: 1:05:37 - loss: 0.3208 - custom_mae: 0.475 - ETA: 1:05:35 - loss: 0.3208 - custom_mae: 0.475 - ETA: 1:05:32 - loss: 0.3207 - custom_mae: 0.475 - ETA: 1:05:30 - loss: 0.3206 - custom_mae: 0.475 - ETA: 1:05:28 - loss: 0.3206 - custom_mae: 0.475 - ETA: 1:05:26 - loss: 0.3205 - custom_mae: 0.475 - ETA: 1:05:24 - loss: 0.3205 - custom_mae: 0.475 - ETA: 1:05:22 - loss: 0.3204 - custom_mae: 0.475 - ETA: 1:05:20 - loss: 0.3204 - custom_mae: 0.475 - ETA: 1:05:18 - loss: 0.3203 - custom_mae: 0.475 - ETA: 1:05:16 - loss: 0.3204 - custom_mae: 0.475 - ETA: 1:05:14 - loss: 0.3202 - custom_mae: 0.475 - ETA: 1:05:11 - loss: 0.3201 - custom_mae: 0.474 - ETA: 1:05:09 - loss: 0.3201 - custom_mae: 0.4750"
     ]
    },
    {
     "name": "stdout",
     "output_type": "stream",
     "text": [
      " 817/2500 [========>.....................] - ETA: 1:05:07 - loss: 0.3200 - custom_mae: 0.474 - ETA: 1:05:05 - loss: 0.3201 - custom_mae: 0.475 - ETA: 1:05:03 - loss: 0.3199 - custom_mae: 0.474 - ETA: 1:05:01 - loss: 0.3198 - custom_mae: 0.474 - ETA: 1:04:59 - loss: 0.3198 - custom_mae: 0.474 - ETA: 1:04:56 - loss: 0.3199 - custom_mae: 0.474 - ETA: 1:04:54 - loss: 0.3198 - custom_mae: 0.474 - ETA: 1:04:52 - loss: 0.3197 - custom_mae: 0.474 - ETA: 1:04:50 - loss: 0.3195 - custom_mae: 0.474 - ETA: 1:04:48 - loss: 0.3195 - custom_mae: 0.474 - ETA: 1:04:46 - loss: 0.3194 - custom_mae: 0.474 - ETA: 1:04:44 - loss: 0.3193 - custom_mae: 0.474 - ETA: 1:04:42 - loss: 0.3192 - custom_mae: 0.474 - ETA: 1:04:40 - loss: 0.3192 - custom_mae: 0.474 - ETA: 1:04:38 - loss: 0.3191 - custom_mae: 0.474 - ETA: 1:04:36 - loss: 0.3191 - custom_mae: 0.474 - ETA: 1:04:33 - loss: 0.3190 - custom_mae: 0.474 - ETA: 1:04:31 - loss: 0.3190 - custom_mae: 0.474 - ETA: 1:04:29 - loss: 0.3190 - custom_mae: 0.474 - ETA: 1:04:27 - loss: 0.3190 - custom_mae: 0.474 - ETA: 1:04:25 - loss: 0.3188 - custom_mae: 0.474 - ETA: 1:04:23 - loss: 0.3187 - custom_mae: 0.474 - ETA: 1:04:21 - loss: 0.3187 - custom_mae: 0.474 - ETA: 1:04:19 - loss: 0.3186 - custom_mae: 0.473 - ETA: 1:04:17 - loss: 0.3185 - custom_mae: 0.473 - ETA: 1:04:14 - loss: 0.3184 - custom_mae: 0.473 - ETA: 1:04:12 - loss: 0.3184 - custom_mae: 0.473 - ETA: 1:04:10 - loss: 0.3183 - custom_mae: 0.473 - ETA: 1:04:08 - loss: 0.3181 - custom_mae: 0.473 - ETA: 1:04:06 - loss: 0.3181 - custom_mae: 0.473 - ETA: 1:04:04 - loss: 0.3180 - custom_mae: 0.473 - ETA: 1:04:02 - loss: 0.3178 - custom_mae: 0.473 - ETA: 1:03:59 - loss: 0.3179 - custom_mae: 0.473 - ETA: 1:03:57 - loss: 0.3178 - custom_mae: 0.473 - ETA: 1:03:55 - loss: 0.3177 - custom_mae: 0.473 - ETA: 1:03:53 - loss: 0.3175 - custom_mae: 0.473 - ETA: 1:03:51 - loss: 0.3176 - custom_mae: 0.473 - ETA: 1:03:49 - loss: 0.3175 - custom_mae: 0.473 - ETA: 1:03:47 - loss: 0.3173 - custom_mae: 0.472 - ETA: 1:03:45 - loss: 0.3173 - custom_mae: 0.472 - ETA: 1:03:42 - loss: 0.3172 - custom_mae: 0.472 - ETA: 1:03:40 - loss: 0.3172 - custom_mae: 0.472 - ETA: 1:03:38 - loss: 0.3171 - custom_mae: 0.472 - ETA: 1:03:36 - loss: 0.3170 - custom_mae: 0.472 - ETA: 1:03:34 - loss: 0.3170 - custom_mae: 0.472 - ETA: 1:03:32 - loss: 0.3170 - custom_mae: 0.472 - ETA: 1:03:30 - loss: 0.3170 - custom_mae: 0.472 - ETA: 1:03:28 - loss: 0.3170 - custom_mae: 0.472 - ETA: 1:03:25 - loss: 0.3169 - custom_mae: 0.472 - ETA: 1:03:23 - loss: 0.3167 - custom_mae: 0.472 - ETA: 1:03:21 - loss: 0.3167 - custom_mae: 0.472 - ETA: 1:03:19 - loss: 0.3165 - custom_mae: 0.472 - ETA: 1:03:17 - loss: 0.3164 - custom_mae: 0.472 - ETA: 1:03:15 - loss: 0.3163 - custom_mae: 0.472 - ETA: 1:03:13 - loss: 0.3163 - custom_mae: 0.472 - ETA: 1:03:11 - loss: 0.3162 - custom_mae: 0.472 - ETA: 1:03:09 - loss: 0.3162 - custom_mae: 0.472 - ETA: 1:03:06 - loss: 0.3162 - custom_mae: 0.472 - ETA: 1:03:04 - loss: 0.3161 - custom_mae: 0.471 - ETA: 1:03:02 - loss: 0.3160 - custom_mae: 0.471 - ETA: 1:03:00 - loss: 0.3161 - custom_mae: 0.471 - ETA: 1:02:58 - loss: 0.3160 - custom_mae: 0.471 - ETA: 1:02:56 - loss: 0.3159 - custom_mae: 0.471 - ETA: 1:02:54 - loss: 0.3158 - custom_mae: 0.471 - ETA: 1:02:52 - loss: 0.3158 - custom_mae: 0.471 - ETA: 1:02:49 - loss: 0.3156 - custom_mae: 0.471 - ETA: 1:02:47 - loss: 0.3155 - custom_mae: 0.471 - ETA: 1:02:45 - loss: 0.3155 - custom_mae: 0.471 - ETA: 1:02:43 - loss: 0.3154 - custom_mae: 0.471 - ETA: 1:02:41 - loss: 0.3153 - custom_mae: 0.471 - ETA: 1:02:39 - loss: 0.3153 - custom_mae: 0.471 - ETA: 1:02:37 - loss: 0.3152 - custom_mae: 0.471 - ETA: 1:02:35 - loss: 0.3151 - custom_mae: 0.471 - ETA: 1:02:32 - loss: 0.3150 - custom_mae: 0.471 - ETA: 1:02:30 - loss: 0.3150 - custom_mae: 0.471 - ETA: 1:02:28 - loss: 0.3149 - custom_mae: 0.470 - ETA: 1:02:26 - loss: 0.3149 - custom_mae: 0.470 - ETA: 1:02:24 - loss: 0.3148 - custom_mae: 0.470 - ETA: 1:02:22 - loss: 0.3147 - custom_mae: 0.470 - ETA: 1:02:20 - loss: 0.3146 - custom_mae: 0.470 - ETA: 1:02:18 - loss: 0.3146 - custom_mae: 0.470 - ETA: 1:02:15 - loss: 0.3147 - custom_mae: 0.470 - ETA: 1:02:13 - loss: 0.3145 - custom_mae: 0.470 - ETA: 1:02:11 - loss: 0.3144 - custom_mae: 0.470 - ETA: 1:02:09 - loss: 0.3144 - custom_mae: 0.470 - ETA: 1:02:07 - loss: 0.3143 - custom_mae: 0.470 - ETA: 1:02:05 - loss: 0.3143 - custom_mae: 0.470 - ETA: 1:02:03 - loss: 0.3142 - custom_mae: 0.470 - ETA: 1:02:00 - loss: 0.3141 - custom_mae: 0.470 - ETA: 1:01:58 - loss: 0.3141 - custom_mae: 0.470 - ETA: 1:01:56 - loss: 0.3141 - custom_mae: 0.470 - ETA: 1:01:54 - loss: 0.3141 - custom_mae: 0.470 - ETA: 1:01:52 - loss: 0.3140 - custom_mae: 0.470 - ETA: 1:01:50 - loss: 0.3140 - custom_mae: 0.470 - ETA: 1:01:48 - loss: 0.3138 - custom_mae: 0.470 - ETA: 1:01:46 - loss: 0.3138 - custom_mae: 0.470 - ETA: 1:01:43 - loss: 0.3137 - custom_mae: 0.469 - ETA: 1:01:41 - loss: 0.3137 - custom_mae: 0.469 - ETA: 1:01:39 - loss: 0.3137 - custom_mae: 0.470 - ETA: 1:01:37 - loss: 0.3136 - custom_mae: 0.469 - ETA: 1:01:35 - loss: 0.3135 - custom_mae: 0.469 - ETA: 1:01:33 - loss: 0.3134 - custom_mae: 0.469 - ETA: 1:01:31 - loss: 0.3134 - custom_mae: 0.469 - ETA: 1:01:29 - loss: 0.3133 - custom_mae: 0.469 - ETA: 1:01:27 - loss: 0.3131 - custom_mae: 0.469 - ETA: 1:01:24 - loss: 0.3130 - custom_mae: 0.469 - ETA: 1:01:22 - loss: 0.3130 - custom_mae: 0.469 - ETA: 1:01:20 - loss: 0.3129 - custom_mae: 0.469 - ETA: 1:01:18 - loss: 0.3129 - custom_mae: 0.469 - ETA: 1:01:16 - loss: 0.3129 - custom_mae: 0.469 - ETA: 1:01:14 - loss: 0.3129 - custom_mae: 0.469 - ETA: 1:01:12 - loss: 0.3128 - custom_mae: 0.469 - ETA: 1:01:10 - loss: 0.3127 - custom_mae: 0.469 - ETA: 1:01:07 - loss: 0.3126 - custom_mae: 0.469 - ETA: 1:01:05 - loss: 0.3127 - custom_mae: 0.469 - ETA: 1:01:03 - loss: 0.3127 - custom_mae: 0.469 - ETA: 1:01:01 - loss: 0.3126 - custom_mae: 0.469 - ETA: 1:00:59 - loss: 0.3126 - custom_mae: 0.469 - ETA: 1:00:57 - loss: 0.3126 - custom_mae: 0.469 - ETA: 1:00:55 - loss: 0.3126 - custom_mae: 0.469 - ETA: 1:00:53 - loss: 0.3125 - custom_mae: 0.469 - ETA: 1:00:51 - loss: 0.3124 - custom_mae: 0.468 - ETA: 1:00:48 - loss: 0.3123 - custom_mae: 0.468 - ETA: 1:00:46 - loss: 0.3122 - custom_mae: 0.468 - ETA: 1:00:44 - loss: 0.3122 - custom_mae: 0.468 - ETA: 1:00:42 - loss: 0.3121 - custom_mae: 0.468 - ETA: 1:00:40 - loss: 0.3121 - custom_mae: 0.468 - ETA: 1:00:38 - loss: 0.3120 - custom_mae: 0.468 - ETA: 1:00:36 - loss: 0.3120 - custom_mae: 0.468 - ETA: 1:00:34 - loss: 0.3119 - custom_mae: 0.468 - ETA: 1:00:32 - loss: 0.3118 - custom_mae: 0.468 - ETA: 1:00:29 - loss: 0.3117 - custom_mae: 0.468 - ETA: 1:00:27 - loss: 0.3117 - custom_mae: 0.468 - ETA: 1:00:25 - loss: 0.3117 - custom_mae: 0.468 - ETA: 1:00:23 - loss: 0.3118 - custom_mae: 0.468 - ETA: 1:00:21 - loss: 0.3117 - custom_mae: 0.468 - ETA: 1:00:19 - loss: 0.3117 - custom_mae: 0.468 - ETA: 1:00:17 - loss: 0.3117 - custom_mae: 0.468 - ETA: 1:00:15 - loss: 0.3117 - custom_mae: 0.468 - ETA: 1:00:12 - loss: 0.3117 - custom_mae: 0.468 - ETA: 1:00:10 - loss: 0.3116 - custom_mae: 0.468 - ETA: 1:00:08 - loss: 0.3115 - custom_mae: 0.468 - ETA: 1:00:06 - loss: 0.3114 - custom_mae: 0.468 - ETA: 1:00:04 - loss: 0.3114 - custom_mae: 0.468 - ETA: 1:00:02 - loss: 0.3114 - custom_mae: 0.468 - ETA: 1:00:00 - loss: 0.3113 - custom_mae: 0.467 - ETA: 59:58 - loss: 0.3113 - custom_mae: 0.4680  - ETA: 59:56 - loss: 0.3112 - custom_mae: 0.468 - ETA: 59:53 - loss: 0.3111 - custom_mae: 0.467 - ETA: 59:51 - loss: 0.3111 - custom_mae: 0.467 - ETA: 59:49 - loss: 0.3111 - custom_mae: 0.467 - ETA: 59:47 - loss: 0.3111 - custom_mae: 0.467 - ETA: 59:45 - loss: 0.3110 - custom_mae: 0.467 - ETA: 59:43 - loss: 0.3109 - custom_mae: 0.467 - ETA: 59:41 - loss: 0.3109 - custom_mae: 0.467 - ETA: 59:39 - loss: 0.3108 - custom_mae: 0.467 - ETA: 59:36 - loss: 0.3108 - custom_mae: 0.467 - ETA: 59:34 - loss: 0.3107 - custom_mae: 0.467 - ETA: 59:32 - loss: 0.3106 - custom_mae: 0.467 - ETA: 59:30 - loss: 0.3106 - custom_mae: 0.467 - ETA: 59:28 - loss: 0.3106 - custom_mae: 0.467 - ETA: 59:26 - loss: 0.3105 - custom_mae: 0.467 - ETA: 59:24 - loss: 0.3104 - custom_mae: 0.467 - ETA: 59:22 - loss: 0.3104 - custom_mae: 0.4673"
     ]
    },
    {
     "name": "stdout",
     "output_type": "stream",
     "text": [
      " 987/2500 [==========>...................] - ETA: 59:19 - loss: 0.3104 - custom_mae: 0.467 - ETA: 59:17 - loss: 0.3103 - custom_mae: 0.467 - ETA: 59:15 - loss: 0.3103 - custom_mae: 0.467 - ETA: 59:13 - loss: 0.3102 - custom_mae: 0.467 - ETA: 59:11 - loss: 0.3101 - custom_mae: 0.467 - ETA: 59:09 - loss: 0.3101 - custom_mae: 0.467 - ETA: 59:07 - loss: 0.3101 - custom_mae: 0.467 - ETA: 59:05 - loss: 0.3099 - custom_mae: 0.466 - ETA: 59:02 - loss: 0.3099 - custom_mae: 0.466 - ETA: 59:00 - loss: 0.3098 - custom_mae: 0.466 - ETA: 58:58 - loss: 0.3097 - custom_mae: 0.466 - ETA: 58:56 - loss: 0.3097 - custom_mae: 0.466 - ETA: 58:54 - loss: 0.3098 - custom_mae: 0.466 - ETA: 58:52 - loss: 0.3098 - custom_mae: 0.466 - ETA: 58:50 - loss: 0.3097 - custom_mae: 0.466 - ETA: 58:48 - loss: 0.3097 - custom_mae: 0.466 - ETA: 58:46 - loss: 0.3096 - custom_mae: 0.466 - ETA: 58:43 - loss: 0.3096 - custom_mae: 0.466 - ETA: 58:41 - loss: 0.3095 - custom_mae: 0.466 - ETA: 58:39 - loss: 0.3094 - custom_mae: 0.466 - ETA: 58:37 - loss: 0.3093 - custom_mae: 0.466 - ETA: 58:35 - loss: 0.3092 - custom_mae: 0.466 - ETA: 58:33 - loss: 0.3092 - custom_mae: 0.466 - ETA: 58:31 - loss: 0.3092 - custom_mae: 0.466 - ETA: 58:29 - loss: 0.3091 - custom_mae: 0.466 - ETA: 58:26 - loss: 0.3091 - custom_mae: 0.466 - ETA: 58:24 - loss: 0.3091 - custom_mae: 0.466 - ETA: 58:22 - loss: 0.3091 - custom_mae: 0.466 - ETA: 58:20 - loss: 0.3090 - custom_mae: 0.466 - ETA: 58:18 - loss: 0.3090 - custom_mae: 0.466 - ETA: 58:16 - loss: 0.3090 - custom_mae: 0.466 - ETA: 58:14 - loss: 0.3090 - custom_mae: 0.466 - ETA: 58:12 - loss: 0.3089 - custom_mae: 0.466 - ETA: 58:10 - loss: 0.3089 - custom_mae: 0.466 - ETA: 58:07 - loss: 0.3089 - custom_mae: 0.466 - ETA: 58:05 - loss: 0.3088 - custom_mae: 0.466 - ETA: 58:03 - loss: 0.3087 - custom_mae: 0.465 - ETA: 58:01 - loss: 0.3087 - custom_mae: 0.465 - ETA: 57:59 - loss: 0.3086 - custom_mae: 0.465 - ETA: 57:57 - loss: 0.3086 - custom_mae: 0.465 - ETA: 57:55 - loss: 0.3086 - custom_mae: 0.465 - ETA: 57:53 - loss: 0.3086 - custom_mae: 0.465 - ETA: 57:51 - loss: 0.3085 - custom_mae: 0.465 - ETA: 57:49 - loss: 0.3085 - custom_mae: 0.465 - ETA: 57:47 - loss: 0.3085 - custom_mae: 0.465 - ETA: 57:44 - loss: 0.3084 - custom_mae: 0.465 - ETA: 57:42 - loss: 0.3083 - custom_mae: 0.465 - ETA: 57:40 - loss: 0.3082 - custom_mae: 0.465 - ETA: 57:38 - loss: 0.3081 - custom_mae: 0.465 - ETA: 57:36 - loss: 0.3081 - custom_mae: 0.465 - ETA: 57:34 - loss: 0.3080 - custom_mae: 0.465 - ETA: 57:32 - loss: 0.3079 - custom_mae: 0.465 - ETA: 57:30 - loss: 0.3079 - custom_mae: 0.465 - ETA: 57:27 - loss: 0.3078 - custom_mae: 0.465 - ETA: 57:25 - loss: 0.3077 - custom_mae: 0.465 - ETA: 57:23 - loss: 0.3077 - custom_mae: 0.465 - ETA: 57:21 - loss: 0.3077 - custom_mae: 0.465 - ETA: 57:19 - loss: 0.3077 - custom_mae: 0.465 - ETA: 57:17 - loss: 0.3075 - custom_mae: 0.465 - ETA: 57:15 - loss: 0.3075 - custom_mae: 0.465 - ETA: 57:13 - loss: 0.3074 - custom_mae: 0.465 - ETA: 57:11 - loss: 0.3074 - custom_mae: 0.464 - ETA: 57:08 - loss: 0.3074 - custom_mae: 0.464 - ETA: 57:06 - loss: 0.3073 - custom_mae: 0.464 - ETA: 57:04 - loss: 0.3072 - custom_mae: 0.464 - ETA: 57:02 - loss: 0.3072 - custom_mae: 0.464 - ETA: 57:00 - loss: 0.3070 - custom_mae: 0.464 - ETA: 56:58 - loss: 0.3070 - custom_mae: 0.464 - ETA: 56:56 - loss: 0.3070 - custom_mae: 0.464 - ETA: 56:53 - loss: 0.3070 - custom_mae: 0.464 - ETA: 56:51 - loss: 0.3069 - custom_mae: 0.464 - ETA: 56:49 - loss: 0.3069 - custom_mae: 0.464 - ETA: 56:47 - loss: 0.3068 - custom_mae: 0.464 - ETA: 56:45 - loss: 0.3068 - custom_mae: 0.464 - ETA: 56:43 - loss: 0.3067 - custom_mae: 0.464 - ETA: 56:41 - loss: 0.3066 - custom_mae: 0.464 - ETA: 56:39 - loss: 0.3065 - custom_mae: 0.464 - ETA: 56:37 - loss: 0.3066 - custom_mae: 0.464 - ETA: 56:35 - loss: 0.3066 - custom_mae: 0.464 - ETA: 56:32 - loss: 0.3065 - custom_mae: 0.464 - ETA: 56:30 - loss: 0.3064 - custom_mae: 0.464 - ETA: 56:28 - loss: 0.3064 - custom_mae: 0.464 - ETA: 56:26 - loss: 0.3063 - custom_mae: 0.464 - ETA: 56:24 - loss: 0.3063 - custom_mae: 0.464 - ETA: 56:22 - loss: 0.3062 - custom_mae: 0.464 - ETA: 56:20 - loss: 0.3061 - custom_mae: 0.464 - ETA: 56:18 - loss: 0.3061 - custom_mae: 0.463 - ETA: 56:16 - loss: 0.3060 - custom_mae: 0.463 - ETA: 56:13 - loss: 0.3059 - custom_mae: 0.463 - ETA: 56:11 - loss: 0.3059 - custom_mae: 0.463 - ETA: 56:09 - loss: 0.3057 - custom_mae: 0.463 - ETA: 56:07 - loss: 0.3057 - custom_mae: 0.463 - ETA: 56:05 - loss: 0.3056 - custom_mae: 0.463 - ETA: 56:03 - loss: 0.3056 - custom_mae: 0.463 - ETA: 56:01 - loss: 0.3055 - custom_mae: 0.463 - ETA: 55:59 - loss: 0.3055 - custom_mae: 0.463 - ETA: 55:56 - loss: 0.3054 - custom_mae: 0.463 - ETA: 55:54 - loss: 0.3055 - custom_mae: 0.463 - ETA: 55:52 - loss: 0.3055 - custom_mae: 0.463 - ETA: 55:50 - loss: 0.3055 - custom_mae: 0.463 - ETA: 55:48 - loss: 0.3055 - custom_mae: 0.463 - ETA: 55:46 - loss: 0.3054 - custom_mae: 0.463 - ETA: 55:44 - loss: 0.3053 - custom_mae: 0.463 - ETA: 55:41 - loss: 0.3053 - custom_mae: 0.463 - ETA: 55:39 - loss: 0.3053 - custom_mae: 0.463 - ETA: 55:37 - loss: 0.3053 - custom_mae: 0.463 - ETA: 55:35 - loss: 0.3053 - custom_mae: 0.463 - ETA: 55:33 - loss: 0.3053 - custom_mae: 0.463 - ETA: 55:31 - loss: 0.3052 - custom_mae: 0.463 - ETA: 55:29 - loss: 0.3052 - custom_mae: 0.463 - ETA: 55:27 - loss: 0.3052 - custom_mae: 0.463 - ETA: 55:24 - loss: 0.3052 - custom_mae: 0.463 - ETA: 55:22 - loss: 0.3051 - custom_mae: 0.463 - ETA: 55:20 - loss: 0.3051 - custom_mae: 0.463 - ETA: 55:18 - loss: 0.3050 - custom_mae: 0.463 - ETA: 55:16 - loss: 0.3049 - custom_mae: 0.463 - ETA: 55:14 - loss: 0.3049 - custom_mae: 0.463 - ETA: 55:12 - loss: 0.3049 - custom_mae: 0.463 - ETA: 55:10 - loss: 0.3049 - custom_mae: 0.463 - ETA: 55:08 - loss: 0.3048 - custom_mae: 0.463 - ETA: 55:05 - loss: 0.3048 - custom_mae: 0.463 - ETA: 55:03 - loss: 0.3048 - custom_mae: 0.463 - ETA: 55:01 - loss: 0.3048 - custom_mae: 0.463 - ETA: 54:59 - loss: 0.3047 - custom_mae: 0.463 - ETA: 54:57 - loss: 0.3046 - custom_mae: 0.462 - ETA: 54:55 - loss: 0.3046 - custom_mae: 0.462 - ETA: 54:53 - loss: 0.3045 - custom_mae: 0.462 - ETA: 54:51 - loss: 0.3045 - custom_mae: 0.462 - ETA: 54:48 - loss: 0.3045 - custom_mae: 0.462 - ETA: 54:46 - loss: 0.3044 - custom_mae: 0.462 - ETA: 54:44 - loss: 0.3043 - custom_mae: 0.462 - ETA: 54:42 - loss: 0.3042 - custom_mae: 0.462 - ETA: 54:40 - loss: 0.3041 - custom_mae: 0.462 - ETA: 54:38 - loss: 0.3041 - custom_mae: 0.462 - ETA: 54:36 - loss: 0.3040 - custom_mae: 0.462 - ETA: 54:34 - loss: 0.3041 - custom_mae: 0.462 - ETA: 54:32 - loss: 0.3039 - custom_mae: 0.462 - ETA: 54:29 - loss: 0.3039 - custom_mae: 0.462 - ETA: 54:27 - loss: 0.3039 - custom_mae: 0.462 - ETA: 54:25 - loss: 0.3039 - custom_mae: 0.462 - ETA: 54:23 - loss: 0.3038 - custom_mae: 0.462 - ETA: 54:21 - loss: 0.3037 - custom_mae: 0.462 - ETA: 54:19 - loss: 0.3036 - custom_mae: 0.462 - ETA: 54:17 - loss: 0.3036 - custom_mae: 0.462 - ETA: 54:15 - loss: 0.3036 - custom_mae: 0.462 - ETA: 54:12 - loss: 0.3035 - custom_mae: 0.462 - ETA: 54:10 - loss: 0.3035 - custom_mae: 0.462 - ETA: 54:08 - loss: 0.3034 - custom_mae: 0.462 - ETA: 54:06 - loss: 0.3034 - custom_mae: 0.461 - ETA: 54:04 - loss: 0.3034 - custom_mae: 0.461 - ETA: 54:02 - loss: 0.3033 - custom_mae: 0.461 - ETA: 54:00 - loss: 0.3033 - custom_mae: 0.461 - ETA: 53:58 - loss: 0.3032 - custom_mae: 0.461 - ETA: 53:56 - loss: 0.3031 - custom_mae: 0.461 - ETA: 53:53 - loss: 0.3030 - custom_mae: 0.461 - ETA: 53:51 - loss: 0.3030 - custom_mae: 0.461 - ETA: 53:49 - loss: 0.3029 - custom_mae: 0.461 - ETA: 53:47 - loss: 0.3029 - custom_mae: 0.461 - ETA: 53:45 - loss: 0.3029 - custom_mae: 0.461 - ETA: 53:43 - loss: 0.3029 - custom_mae: 0.461 - ETA: 53:41 - loss: 0.3029 - custom_mae: 0.461 - ETA: 53:39 - loss: 0.3028 - custom_mae: 0.461 - ETA: 53:36 - loss: 0.3028 - custom_mae: 0.461 - ETA: 53:34 - loss: 0.3028 - custom_mae: 0.461 - ETA: 53:32 - loss: 0.3028 - custom_mae: 0.461 - ETA: 53:30 - loss: 0.3028 - custom_mae: 0.461 - ETA: 53:28 - loss: 0.3027 - custom_mae: 0.461 - ETA: 53:26 - loss: 0.3027 - custom_mae: 0.461 - ETA: 53:24 - loss: 0.3026 - custom_mae: 0.461 - ETA: 53:22 - loss: 0.3026 - custom_mae: 0.4612"
     ]
    },
    {
     "name": "stdout",
     "output_type": "stream",
     "text": [
      "1157/2500 [============>.................] - ETA: 53:20 - loss: 0.3026 - custom_mae: 0.461 - ETA: 53:17 - loss: 0.3025 - custom_mae: 0.461 - ETA: 53:15 - loss: 0.3024 - custom_mae: 0.461 - ETA: 53:13 - loss: 0.3024 - custom_mae: 0.461 - ETA: 53:11 - loss: 0.3024 - custom_mae: 0.461 - ETA: 53:09 - loss: 0.3023 - custom_mae: 0.461 - ETA: 53:07 - loss: 0.3023 - custom_mae: 0.461 - ETA: 53:05 - loss: 0.3022 - custom_mae: 0.461 - ETA: 53:03 - loss: 0.3022 - custom_mae: 0.461 - ETA: 53:01 - loss: 0.3022 - custom_mae: 0.461 - ETA: 52:58 - loss: 0.3021 - custom_mae: 0.460 - ETA: 52:56 - loss: 0.3021 - custom_mae: 0.460 - ETA: 52:54 - loss: 0.3021 - custom_mae: 0.460 - ETA: 52:52 - loss: 0.3020 - custom_mae: 0.460 - ETA: 52:50 - loss: 0.3020 - custom_mae: 0.460 - ETA: 52:48 - loss: 0.3019 - custom_mae: 0.460 - ETA: 52:46 - loss: 0.3019 - custom_mae: 0.460 - ETA: 52:44 - loss: 0.3019 - custom_mae: 0.460 - ETA: 52:42 - loss: 0.3019 - custom_mae: 0.460 - ETA: 52:39 - loss: 0.3018 - custom_mae: 0.460 - ETA: 52:37 - loss: 0.3018 - custom_mae: 0.460 - ETA: 52:35 - loss: 0.3017 - custom_mae: 0.460 - ETA: 52:33 - loss: 0.3017 - custom_mae: 0.460 - ETA: 52:31 - loss: 0.3016 - custom_mae: 0.460 - ETA: 52:29 - loss: 0.3016 - custom_mae: 0.460 - ETA: 52:27 - loss: 0.3016 - custom_mae: 0.460 - ETA: 52:25 - loss: 0.3015 - custom_mae: 0.460 - ETA: 52:22 - loss: 0.3014 - custom_mae: 0.460 - ETA: 52:20 - loss: 0.3014 - custom_mae: 0.460 - ETA: 52:18 - loss: 0.3013 - custom_mae: 0.460 - ETA: 52:16 - loss: 0.3013 - custom_mae: 0.460 - ETA: 52:14 - loss: 0.3013 - custom_mae: 0.460 - ETA: 52:12 - loss: 0.3013 - custom_mae: 0.460 - ETA: 52:10 - loss: 0.3013 - custom_mae: 0.460 - ETA: 52:08 - loss: 0.3012 - custom_mae: 0.460 - ETA: 52:05 - loss: 0.3011 - custom_mae: 0.460 - ETA: 52:03 - loss: 0.3011 - custom_mae: 0.460 - ETA: 52:01 - loss: 0.3011 - custom_mae: 0.460 - ETA: 51:59 - loss: 0.3011 - custom_mae: 0.460 - ETA: 51:57 - loss: 0.3010 - custom_mae: 0.460 - ETA: 51:55 - loss: 0.3010 - custom_mae: 0.460 - ETA: 51:53 - loss: 0.3010 - custom_mae: 0.460 - ETA: 51:51 - loss: 0.3010 - custom_mae: 0.460 - ETA: 51:49 - loss: 0.3010 - custom_mae: 0.460 - ETA: 51:46 - loss: 0.3009 - custom_mae: 0.460 - ETA: 51:44 - loss: 0.3009 - custom_mae: 0.460 - ETA: 51:42 - loss: 0.3008 - custom_mae: 0.460 - ETA: 51:40 - loss: 0.3009 - custom_mae: 0.460 - ETA: 51:38 - loss: 0.3008 - custom_mae: 0.460 - ETA: 51:36 - loss: 0.3008 - custom_mae: 0.460 - ETA: 51:34 - loss: 0.3008 - custom_mae: 0.459 - ETA: 51:32 - loss: 0.3007 - custom_mae: 0.459 - ETA: 51:29 - loss: 0.3007 - custom_mae: 0.459 - ETA: 51:27 - loss: 0.3007 - custom_mae: 0.459 - ETA: 51:25 - loss: 0.3006 - custom_mae: 0.459 - ETA: 51:23 - loss: 0.3005 - custom_mae: 0.459 - ETA: 51:21 - loss: 0.3005 - custom_mae: 0.459 - ETA: 51:19 - loss: 0.3005 - custom_mae: 0.459 - ETA: 51:17 - loss: 0.3004 - custom_mae: 0.459 - ETA: 51:15 - loss: 0.3004 - custom_mae: 0.459 - ETA: 51:13 - loss: 0.3002 - custom_mae: 0.459 - ETA: 51:10 - loss: 0.3002 - custom_mae: 0.459 - ETA: 51:08 - loss: 0.3002 - custom_mae: 0.459 - ETA: 51:06 - loss: 0.3001 - custom_mae: 0.459 - ETA: 51:04 - loss: 0.3001 - custom_mae: 0.459 - ETA: 51:02 - loss: 0.3001 - custom_mae: 0.459 - ETA: 51:00 - loss: 0.3001 - custom_mae: 0.459 - ETA: 50:58 - loss: 0.3000 - custom_mae: 0.459 - ETA: 50:56 - loss: 0.2999 - custom_mae: 0.459 - ETA: 50:53 - loss: 0.2999 - custom_mae: 0.459 - ETA: 50:51 - loss: 0.2999 - custom_mae: 0.459 - ETA: 50:49 - loss: 0.2999 - custom_mae: 0.459 - ETA: 50:47 - loss: 0.2999 - custom_mae: 0.459 - ETA: 50:45 - loss: 0.2998 - custom_mae: 0.459 - ETA: 50:43 - loss: 0.2998 - custom_mae: 0.459 - ETA: 50:41 - loss: 0.2998 - custom_mae: 0.459 - ETA: 50:39 - loss: 0.2998 - custom_mae: 0.459 - ETA: 50:36 - loss: 0.2997 - custom_mae: 0.459 - ETA: 50:34 - loss: 0.2997 - custom_mae: 0.459 - ETA: 50:32 - loss: 0.2997 - custom_mae: 0.459 - ETA: 50:30 - loss: 0.2996 - custom_mae: 0.459 - ETA: 50:28 - loss: 0.2996 - custom_mae: 0.459 - ETA: 50:26 - loss: 0.2996 - custom_mae: 0.459 - ETA: 50:24 - loss: 0.2995 - custom_mae: 0.458 - ETA: 50:22 - loss: 0.2996 - custom_mae: 0.459 - ETA: 50:19 - loss: 0.2995 - custom_mae: 0.458 - ETA: 50:17 - loss: 0.2995 - custom_mae: 0.458 - ETA: 50:15 - loss: 0.2995 - custom_mae: 0.458 - ETA: 50:13 - loss: 0.2994 - custom_mae: 0.458 - ETA: 50:11 - loss: 0.2993 - custom_mae: 0.458 - ETA: 50:09 - loss: 0.2993 - custom_mae: 0.458 - ETA: 50:07 - loss: 0.2993 - custom_mae: 0.458 - ETA: 50:05 - loss: 0.2992 - custom_mae: 0.458 - ETA: 50:03 - loss: 0.2992 - custom_mae: 0.458 - ETA: 50:00 - loss: 0.2991 - custom_mae: 0.458 - ETA: 49:58 - loss: 0.2990 - custom_mae: 0.458 - ETA: 49:56 - loss: 0.2990 - custom_mae: 0.458 - ETA: 49:54 - loss: 0.2989 - custom_mae: 0.458 - ETA: 49:52 - loss: 0.2989 - custom_mae: 0.458 - ETA: 49:50 - loss: 0.2989 - custom_mae: 0.458 - ETA: 49:48 - loss: 0.2989 - custom_mae: 0.458 - ETA: 49:46 - loss: 0.2989 - custom_mae: 0.458 - ETA: 49:44 - loss: 0.2988 - custom_mae: 0.458 - ETA: 49:41 - loss: 0.2988 - custom_mae: 0.458 - ETA: 49:39 - loss: 0.2987 - custom_mae: 0.458 - ETA: 49:37 - loss: 0.2987 - custom_mae: 0.458 - ETA: 49:35 - loss: 0.2986 - custom_mae: 0.458 - ETA: 49:33 - loss: 0.2987 - custom_mae: 0.458 - ETA: 49:31 - loss: 0.2986 - custom_mae: 0.458 - ETA: 49:29 - loss: 0.2986 - custom_mae: 0.458 - ETA: 49:27 - loss: 0.2986 - custom_mae: 0.458 - ETA: 49:25 - loss: 0.2986 - custom_mae: 0.458 - ETA: 49:22 - loss: 0.2985 - custom_mae: 0.458 - ETA: 49:20 - loss: 0.2985 - custom_mae: 0.458 - ETA: 49:18 - loss: 0.2984 - custom_mae: 0.458 - ETA: 49:16 - loss: 0.2984 - custom_mae: 0.458 - ETA: 49:14 - loss: 0.2983 - custom_mae: 0.457 - ETA: 49:12 - loss: 0.2983 - custom_mae: 0.457 - ETA: 49:10 - loss: 0.2982 - custom_mae: 0.457 - ETA: 49:08 - loss: 0.2982 - custom_mae: 0.457 - ETA: 49:05 - loss: 0.2982 - custom_mae: 0.457 - ETA: 49:03 - loss: 0.2981 - custom_mae: 0.457 - ETA: 49:01 - loss: 0.2981 - custom_mae: 0.457 - ETA: 48:59 - loss: 0.2980 - custom_mae: 0.457 - ETA: 48:57 - loss: 0.2979 - custom_mae: 0.457 - ETA: 48:55 - loss: 0.2979 - custom_mae: 0.457 - ETA: 48:53 - loss: 0.2978 - custom_mae: 0.457 - ETA: 48:51 - loss: 0.2977 - custom_mae: 0.457 - ETA: 48:49 - loss: 0.2977 - custom_mae: 0.457 - ETA: 48:46 - loss: 0.2976 - custom_mae: 0.457 - ETA: 48:44 - loss: 0.2976 - custom_mae: 0.457 - ETA: 48:42 - loss: 0.2976 - custom_mae: 0.457 - ETA: 48:40 - loss: 0.2975 - custom_mae: 0.457 - ETA: 48:38 - loss: 0.2975 - custom_mae: 0.457 - ETA: 48:36 - loss: 0.2975 - custom_mae: 0.457 - ETA: 48:34 - loss: 0.2975 - custom_mae: 0.457 - ETA: 48:32 - loss: 0.2975 - custom_mae: 0.457 - ETA: 48:30 - loss: 0.2975 - custom_mae: 0.457 - ETA: 48:27 - loss: 0.2974 - custom_mae: 0.457 - ETA: 48:25 - loss: 0.2973 - custom_mae: 0.457 - ETA: 48:23 - loss: 0.2972 - custom_mae: 0.457 - ETA: 48:21 - loss: 0.2972 - custom_mae: 0.457 - ETA: 48:19 - loss: 0.2971 - custom_mae: 0.456 - ETA: 48:17 - loss: 0.2970 - custom_mae: 0.456 - ETA: 48:15 - loss: 0.2970 - custom_mae: 0.456 - ETA: 48:13 - loss: 0.2970 - custom_mae: 0.456 - ETA: 48:10 - loss: 0.2970 - custom_mae: 0.456 - ETA: 48:08 - loss: 0.2969 - custom_mae: 0.456 - ETA: 48:06 - loss: 0.2969 - custom_mae: 0.456 - ETA: 48:04 - loss: 0.2969 - custom_mae: 0.456 - ETA: 48:02 - loss: 0.2968 - custom_mae: 0.456 - ETA: 48:00 - loss: 0.2967 - custom_mae: 0.456 - ETA: 47:58 - loss: 0.2967 - custom_mae: 0.456 - ETA: 47:56 - loss: 0.2967 - custom_mae: 0.456 - ETA: 47:54 - loss: 0.2966 - custom_mae: 0.456 - ETA: 47:51 - loss: 0.2966 - custom_mae: 0.456 - ETA: 47:49 - loss: 0.2966 - custom_mae: 0.456 - ETA: 47:47 - loss: 0.2965 - custom_mae: 0.456 - ETA: 47:45 - loss: 0.2965 - custom_mae: 0.456 - ETA: 47:43 - loss: 0.2964 - custom_mae: 0.456 - ETA: 47:41 - loss: 0.2964 - custom_mae: 0.456 - ETA: 47:39 - loss: 0.2963 - custom_mae: 0.456 - ETA: 47:37 - loss: 0.2963 - custom_mae: 0.456 - ETA: 47:34 - loss: 0.2963 - custom_mae: 0.456 - ETA: 47:32 - loss: 0.2962 - custom_mae: 0.456 - ETA: 47:30 - loss: 0.2962 - custom_mae: 0.456 - ETA: 47:28 - loss: 0.2961 - custom_mae: 0.456 - ETA: 47:26 - loss: 0.2961 - custom_mae: 0.456 - ETA: 47:24 - loss: 0.2960 - custom_mae: 0.456 - ETA: 47:22 - loss: 0.2960 - custom_mae: 0.4559"
     ]
    },
    {
     "name": "stdout",
     "output_type": "stream",
     "text": [
      "1327/2500 [==============>...............] - ETA: 47:20 - loss: 0.2959 - custom_mae: 0.455 - ETA: 47:17 - loss: 0.2959 - custom_mae: 0.455 - ETA: 47:15 - loss: 0.2958 - custom_mae: 0.455 - ETA: 47:13 - loss: 0.2957 - custom_mae: 0.455 - ETA: 47:11 - loss: 0.2957 - custom_mae: 0.455 - ETA: 47:09 - loss: 0.2956 - custom_mae: 0.455 - ETA: 47:07 - loss: 0.2956 - custom_mae: 0.455 - ETA: 47:05 - loss: 0.2956 - custom_mae: 0.455 - ETA: 47:03 - loss: 0.2955 - custom_mae: 0.455 - ETA: 47:01 - loss: 0.2955 - custom_mae: 0.455 - ETA: 46:58 - loss: 0.2955 - custom_mae: 0.455 - ETA: 46:56 - loss: 0.2955 - custom_mae: 0.455 - ETA: 46:54 - loss: 0.2955 - custom_mae: 0.455 - ETA: 46:52 - loss: 0.2954 - custom_mae: 0.455 - ETA: 46:50 - loss: 0.2953 - custom_mae: 0.455 - ETA: 46:48 - loss: 0.2953 - custom_mae: 0.455 - ETA: 46:46 - loss: 0.2952 - custom_mae: 0.455 - ETA: 46:44 - loss: 0.2952 - custom_mae: 0.455 - ETA: 46:41 - loss: 0.2951 - custom_mae: 0.455 - ETA: 46:39 - loss: 0.2951 - custom_mae: 0.455 - ETA: 46:37 - loss: 0.2951 - custom_mae: 0.455 - ETA: 46:35 - loss: 0.2950 - custom_mae: 0.455 - ETA: 46:33 - loss: 0.2950 - custom_mae: 0.455 - ETA: 46:31 - loss: 0.2950 - custom_mae: 0.455 - ETA: 46:29 - loss: 0.2949 - custom_mae: 0.454 - ETA: 46:27 - loss: 0.2948 - custom_mae: 0.454 - ETA: 46:25 - loss: 0.2947 - custom_mae: 0.454 - ETA: 46:22 - loss: 0.2947 - custom_mae: 0.454 - ETA: 46:20 - loss: 0.2947 - custom_mae: 0.454 - ETA: 46:18 - loss: 0.2946 - custom_mae: 0.454 - ETA: 46:16 - loss: 0.2946 - custom_mae: 0.454 - ETA: 46:14 - loss: 0.2945 - custom_mae: 0.454 - ETA: 46:12 - loss: 0.2945 - custom_mae: 0.454 - ETA: 46:10 - loss: 0.2944 - custom_mae: 0.454 - ETA: 46:08 - loss: 0.2943 - custom_mae: 0.454 - ETA: 46:05 - loss: 0.2943 - custom_mae: 0.454 - ETA: 46:03 - loss: 0.2943 - custom_mae: 0.454 - ETA: 46:01 - loss: 0.2942 - custom_mae: 0.454 - ETA: 45:59 - loss: 0.2942 - custom_mae: 0.454 - ETA: 45:57 - loss: 0.2942 - custom_mae: 0.454 - ETA: 45:55 - loss: 0.2941 - custom_mae: 0.454 - ETA: 45:53 - loss: 0.2941 - custom_mae: 0.454 - ETA: 45:51 - loss: 0.2941 - custom_mae: 0.454 - ETA: 45:49 - loss: 0.2940 - custom_mae: 0.454 - ETA: 45:46 - loss: 0.2940 - custom_mae: 0.454 - ETA: 45:44 - loss: 0.2940 - custom_mae: 0.454 - ETA: 45:42 - loss: 0.2939 - custom_mae: 0.454 - ETA: 45:40 - loss: 0.2939 - custom_mae: 0.454 - ETA: 45:38 - loss: 0.2939 - custom_mae: 0.454 - ETA: 45:36 - loss: 0.2939 - custom_mae: 0.454 - ETA: 45:34 - loss: 0.2938 - custom_mae: 0.453 - ETA: 45:32 - loss: 0.2938 - custom_mae: 0.453 - ETA: 45:29 - loss: 0.2937 - custom_mae: 0.453 - ETA: 45:27 - loss: 0.2937 - custom_mae: 0.453 - ETA: 45:25 - loss: 0.2936 - custom_mae: 0.453 - ETA: 45:23 - loss: 0.2936 - custom_mae: 0.453 - ETA: 45:21 - loss: 0.2936 - custom_mae: 0.453 - ETA: 45:19 - loss: 0.2935 - custom_mae: 0.453 - ETA: 45:17 - loss: 0.2935 - custom_mae: 0.453 - ETA: 45:15 - loss: 0.2934 - custom_mae: 0.453 - ETA: 45:13 - loss: 0.2934 - custom_mae: 0.453 - ETA: 45:10 - loss: 0.2933 - custom_mae: 0.453 - ETA: 45:08 - loss: 0.2933 - custom_mae: 0.453 - ETA: 45:06 - loss: 0.2932 - custom_mae: 0.453 - ETA: 45:04 - loss: 0.2931 - custom_mae: 0.453 - ETA: 45:02 - loss: 0.2931 - custom_mae: 0.453 - ETA: 45:00 - loss: 0.2931 - custom_mae: 0.453 - ETA: 44:58 - loss: 0.2930 - custom_mae: 0.453 - ETA: 44:56 - loss: 0.2930 - custom_mae: 0.453 - ETA: 44:53 - loss: 0.2929 - custom_mae: 0.453 - ETA: 44:51 - loss: 0.2929 - custom_mae: 0.453 - ETA: 44:49 - loss: 0.2928 - custom_mae: 0.453 - ETA: 44:47 - loss: 0.2928 - custom_mae: 0.453 - ETA: 44:45 - loss: 0.2927 - custom_mae: 0.452 - ETA: 44:43 - loss: 0.2927 - custom_mae: 0.452 - ETA: 44:41 - loss: 0.2927 - custom_mae: 0.452 - ETA: 44:39 - loss: 0.2926 - custom_mae: 0.452 - ETA: 44:36 - loss: 0.2926 - custom_mae: 0.452 - ETA: 44:34 - loss: 0.2926 - custom_mae: 0.452 - ETA: 44:32 - loss: 0.2925 - custom_mae: 0.452 - ETA: 44:30 - loss: 0.2925 - custom_mae: 0.452 - ETA: 44:28 - loss: 0.2925 - custom_mae: 0.452 - ETA: 44:26 - loss: 0.2924 - custom_mae: 0.452 - ETA: 44:24 - loss: 0.2924 - custom_mae: 0.452 - ETA: 44:22 - loss: 0.2923 - custom_mae: 0.452 - ETA: 44:19 - loss: 0.2923 - custom_mae: 0.452 - ETA: 44:17 - loss: 0.2923 - custom_mae: 0.452 - ETA: 44:15 - loss: 0.2923 - custom_mae: 0.452 - ETA: 44:13 - loss: 0.2922 - custom_mae: 0.452 - ETA: 44:11 - loss: 0.2922 - custom_mae: 0.452 - ETA: 44:09 - loss: 0.2921 - custom_mae: 0.452 - ETA: 44:07 - loss: 0.2920 - custom_mae: 0.452 - ETA: 44:05 - loss: 0.2920 - custom_mae: 0.452 - ETA: 44:03 - loss: 0.2920 - custom_mae: 0.452 - ETA: 44:00 - loss: 0.2919 - custom_mae: 0.452 - ETA: 43:58 - loss: 0.2919 - custom_mae: 0.452 - ETA: 43:56 - loss: 0.2919 - custom_mae: 0.452 - ETA: 43:54 - loss: 0.2918 - custom_mae: 0.452 - ETA: 43:52 - loss: 0.2918 - custom_mae: 0.452 - ETA: 43:50 - loss: 0.2917 - custom_mae: 0.452 - ETA: 43:48 - loss: 0.2916 - custom_mae: 0.451 - ETA: 43:46 - loss: 0.2917 - custom_mae: 0.451 - ETA: 43:44 - loss: 0.2916 - custom_mae: 0.451 - ETA: 43:41 - loss: 0.2916 - custom_mae: 0.451 - ETA: 43:39 - loss: 0.2915 - custom_mae: 0.451 - ETA: 43:37 - loss: 0.2915 - custom_mae: 0.451 - ETA: 43:35 - loss: 0.2914 - custom_mae: 0.451 - ETA: 43:33 - loss: 0.2914 - custom_mae: 0.451 - ETA: 43:31 - loss: 0.2913 - custom_mae: 0.451 - ETA: 43:29 - loss: 0.2913 - custom_mae: 0.451 - ETA: 43:27 - loss: 0.2912 - custom_mae: 0.451 - ETA: 43:24 - loss: 0.2912 - custom_mae: 0.451 - ETA: 43:22 - loss: 0.2912 - custom_mae: 0.451 - ETA: 43:20 - loss: 0.2911 - custom_mae: 0.451 - ETA: 43:18 - loss: 0.2911 - custom_mae: 0.451 - ETA: 43:16 - loss: 0.2910 - custom_mae: 0.451 - ETA: 43:14 - loss: 0.2910 - custom_mae: 0.451 - ETA: 43:12 - loss: 0.2909 - custom_mae: 0.451 - ETA: 43:10 - loss: 0.2909 - custom_mae: 0.451 - ETA: 43:08 - loss: 0.2909 - custom_mae: 0.451 - ETA: 43:05 - loss: 0.2909 - custom_mae: 0.451 - ETA: 43:03 - loss: 0.2909 - custom_mae: 0.451 - ETA: 43:01 - loss: 0.2909 - custom_mae: 0.451 - ETA: 42:59 - loss: 0.2908 - custom_mae: 0.451 - ETA: 42:57 - loss: 0.2908 - custom_mae: 0.451 - ETA: 42:55 - loss: 0.2908 - custom_mae: 0.451 - ETA: 42:53 - loss: 0.2907 - custom_mae: 0.451 - ETA: 42:51 - loss: 0.2907 - custom_mae: 0.451 - ETA: 42:49 - loss: 0.2907 - custom_mae: 0.451 - ETA: 42:46 - loss: 0.2907 - custom_mae: 0.451 - ETA: 42:44 - loss: 0.2906 - custom_mae: 0.451 - ETA: 42:42 - loss: 0.2906 - custom_mae: 0.451 - ETA: 42:40 - loss: 0.2906 - custom_mae: 0.450 - ETA: 42:38 - loss: 0.2905 - custom_mae: 0.450 - ETA: 42:36 - loss: 0.2905 - custom_mae: 0.450 - ETA: 42:34 - loss: 0.2904 - custom_mae: 0.450 - ETA: 42:32 - loss: 0.2904 - custom_mae: 0.450 - ETA: 42:29 - loss: 0.2904 - custom_mae: 0.450 - ETA: 42:27 - loss: 0.2904 - custom_mae: 0.450 - ETA: 42:25 - loss: 0.2904 - custom_mae: 0.450 - ETA: 42:23 - loss: 0.2904 - custom_mae: 0.450 - ETA: 42:21 - loss: 0.2904 - custom_mae: 0.450 - ETA: 42:19 - loss: 0.2904 - custom_mae: 0.450 - ETA: 42:17 - loss: 0.2903 - custom_mae: 0.450 - ETA: 42:15 - loss: 0.2903 - custom_mae: 0.450 - ETA: 42:12 - loss: 0.2903 - custom_mae: 0.450 - ETA: 42:10 - loss: 0.2902 - custom_mae: 0.450 - ETA: 42:08 - loss: 0.2902 - custom_mae: 0.450 - ETA: 42:06 - loss: 0.2902 - custom_mae: 0.450 - ETA: 42:04 - loss: 0.2902 - custom_mae: 0.450 - ETA: 42:02 - loss: 0.2902 - custom_mae: 0.450 - ETA: 42:00 - loss: 0.2901 - custom_mae: 0.450 - ETA: 41:58 - loss: 0.2901 - custom_mae: 0.450 - ETA: 41:56 - loss: 0.2900 - custom_mae: 0.450 - ETA: 41:53 - loss: 0.2899 - custom_mae: 0.450 - ETA: 41:51 - loss: 0.2899 - custom_mae: 0.450 - ETA: 41:49 - loss: 0.2899 - custom_mae: 0.450 - ETA: 41:47 - loss: 0.2899 - custom_mae: 0.450 - ETA: 41:45 - loss: 0.2899 - custom_mae: 0.450 - ETA: 41:43 - loss: 0.2899 - custom_mae: 0.450 - ETA: 41:41 - loss: 0.2898 - custom_mae: 0.450 - ETA: 41:39 - loss: 0.2897 - custom_mae: 0.450 - ETA: 41:36 - loss: 0.2897 - custom_mae: 0.450 - ETA: 41:34 - loss: 0.2897 - custom_mae: 0.450 - ETA: 41:32 - loss: 0.2897 - custom_mae: 0.450 - ETA: 41:30 - loss: 0.2897 - custom_mae: 0.450 - ETA: 41:28 - loss: 0.2897 - custom_mae: 0.450 - ETA: 41:26 - loss: 0.2897 - custom_mae: 0.450 - ETA: 41:24 - loss: 0.2896 - custom_mae: 0.450 - ETA: 41:22 - loss: 0.2895 - custom_mae: 0.4500"
     ]
    },
    {
     "name": "stdout",
     "output_type": "stream",
     "text": [
      "1497/2500 [================>.............] - ETA: 41:20 - loss: 0.2895 - custom_mae: 0.450 - ETA: 41:17 - loss: 0.2895 - custom_mae: 0.450 - ETA: 41:15 - loss: 0.2895 - custom_mae: 0.450 - ETA: 41:13 - loss: 0.2895 - custom_mae: 0.449 - ETA: 41:11 - loss: 0.2894 - custom_mae: 0.449 - ETA: 41:09 - loss: 0.2894 - custom_mae: 0.449 - ETA: 41:07 - loss: 0.2894 - custom_mae: 0.449 - ETA: 41:05 - loss: 0.2894 - custom_mae: 0.449 - ETA: 41:03 - loss: 0.2893 - custom_mae: 0.449 - ETA: 41:00 - loss: 0.2893 - custom_mae: 0.449 - ETA: 40:58 - loss: 0.2893 - custom_mae: 0.449 - ETA: 40:56 - loss: 0.2892 - custom_mae: 0.449 - ETA: 40:54 - loss: 0.2892 - custom_mae: 0.449 - ETA: 40:52 - loss: 0.2892 - custom_mae: 0.449 - ETA: 40:50 - loss: 0.2891 - custom_mae: 0.449 - ETA: 40:48 - loss: 0.2891 - custom_mae: 0.449 - ETA: 40:46 - loss: 0.2891 - custom_mae: 0.449 - ETA: 40:44 - loss: 0.2891 - custom_mae: 0.449 - ETA: 40:41 - loss: 0.2891 - custom_mae: 0.449 - ETA: 40:39 - loss: 0.2890 - custom_mae: 0.449 - ETA: 40:37 - loss: 0.2890 - custom_mae: 0.449 - ETA: 40:35 - loss: 0.2890 - custom_mae: 0.449 - ETA: 40:33 - loss: 0.2889 - custom_mae: 0.449 - ETA: 40:31 - loss: 0.2889 - custom_mae: 0.449 - ETA: 40:29 - loss: 0.2888 - custom_mae: 0.449 - ETA: 40:27 - loss: 0.2888 - custom_mae: 0.449 - ETA: 40:25 - loss: 0.2888 - custom_mae: 0.449 - ETA: 40:22 - loss: 0.2888 - custom_mae: 0.449 - ETA: 40:20 - loss: 0.2887 - custom_mae: 0.449 - ETA: 40:18 - loss: 0.2886 - custom_mae: 0.449 - ETA: 40:16 - loss: 0.2886 - custom_mae: 0.449 - ETA: 40:14 - loss: 0.2886 - custom_mae: 0.449 - ETA: 40:12 - loss: 0.2886 - custom_mae: 0.449 - ETA: 40:10 - loss: 0.2886 - custom_mae: 0.449 - ETA: 40:08 - loss: 0.2885 - custom_mae: 0.449 - ETA: 40:06 - loss: 0.2885 - custom_mae: 0.449 - ETA: 40:03 - loss: 0.2884 - custom_mae: 0.449 - ETA: 40:01 - loss: 0.2883 - custom_mae: 0.448 - ETA: 39:59 - loss: 0.2883 - custom_mae: 0.448 - ETA: 39:57 - loss: 0.2883 - custom_mae: 0.448 - ETA: 39:55 - loss: 0.2883 - custom_mae: 0.448 - ETA: 39:53 - loss: 0.2883 - custom_mae: 0.448 - ETA: 39:51 - loss: 0.2882 - custom_mae: 0.448 - ETA: 39:49 - loss: 0.2882 - custom_mae: 0.448 - ETA: 39:46 - loss: 0.2881 - custom_mae: 0.448 - ETA: 39:44 - loss: 0.2881 - custom_mae: 0.448 - ETA: 39:42 - loss: 0.2880 - custom_mae: 0.448 - ETA: 39:40 - loss: 0.2880 - custom_mae: 0.448 - ETA: 39:38 - loss: 0.2879 - custom_mae: 0.448 - ETA: 39:36 - loss: 0.2879 - custom_mae: 0.448 - ETA: 39:34 - loss: 0.2879 - custom_mae: 0.448 - ETA: 39:32 - loss: 0.2878 - custom_mae: 0.448 - ETA: 39:29 - loss: 0.2878 - custom_mae: 0.448 - ETA: 39:27 - loss: 0.2877 - custom_mae: 0.448 - ETA: 39:25 - loss: 0.2877 - custom_mae: 0.448 - ETA: 39:23 - loss: 0.2877 - custom_mae: 0.448 - ETA: 39:21 - loss: 0.2877 - custom_mae: 0.448 - ETA: 39:19 - loss: 0.2877 - custom_mae: 0.448 - ETA: 39:17 - loss: 0.2877 - custom_mae: 0.448 - ETA: 39:15 - loss: 0.2876 - custom_mae: 0.448 - ETA: 39:12 - loss: 0.2876 - custom_mae: 0.448 - ETA: 39:10 - loss: 0.2876 - custom_mae: 0.448 - ETA: 39:08 - loss: 0.2875 - custom_mae: 0.448 - ETA: 39:06 - loss: 0.2875 - custom_mae: 0.448 - ETA: 39:04 - loss: 0.2874 - custom_mae: 0.448 - ETA: 39:02 - loss: 0.2874 - custom_mae: 0.448 - ETA: 39:00 - loss: 0.2874 - custom_mae: 0.448 - ETA: 38:58 - loss: 0.2874 - custom_mae: 0.448 - ETA: 38:56 - loss: 0.2873 - custom_mae: 0.448 - ETA: 38:53 - loss: 0.2873 - custom_mae: 0.448 - ETA: 38:51 - loss: 0.2873 - custom_mae: 0.448 - ETA: 38:49 - loss: 0.2872 - custom_mae: 0.447 - ETA: 38:47 - loss: 0.2873 - custom_mae: 0.448 - ETA: 38:45 - loss: 0.2873 - custom_mae: 0.447 - ETA: 38:43 - loss: 0.2872 - custom_mae: 0.447 - ETA: 38:41 - loss: 0.2873 - custom_mae: 0.448 - ETA: 38:39 - loss: 0.2872 - custom_mae: 0.447 - ETA: 38:37 - loss: 0.2872 - custom_mae: 0.447 - ETA: 38:34 - loss: 0.2872 - custom_mae: 0.447 - ETA: 38:32 - loss: 0.2871 - custom_mae: 0.447 - ETA: 38:30 - loss: 0.2871 - custom_mae: 0.447 - ETA: 38:28 - loss: 0.2870 - custom_mae: 0.447 - ETA: 38:26 - loss: 0.2869 - custom_mae: 0.447 - ETA: 38:24 - loss: 0.2869 - custom_mae: 0.447 - ETA: 38:22 - loss: 0.2869 - custom_mae: 0.447 - ETA: 38:20 - loss: 0.2869 - custom_mae: 0.447 - ETA: 38:17 - loss: 0.2868 - custom_mae: 0.447 - ETA: 38:15 - loss: 0.2868 - custom_mae: 0.447 - ETA: 38:13 - loss: 0.2868 - custom_mae: 0.447 - ETA: 38:11 - loss: 0.2868 - custom_mae: 0.447 - ETA: 38:09 - loss: 0.2868 - custom_mae: 0.447 - ETA: 38:07 - loss: 0.2868 - custom_mae: 0.447 - ETA: 38:05 - loss: 0.2868 - custom_mae: 0.447 - ETA: 38:03 - loss: 0.2867 - custom_mae: 0.447 - ETA: 38:01 - loss: 0.2867 - custom_mae: 0.447 - ETA: 37:58 - loss: 0.2866 - custom_mae: 0.447 - ETA: 37:56 - loss: 0.2866 - custom_mae: 0.447 - ETA: 37:54 - loss: 0.2866 - custom_mae: 0.447 - ETA: 37:52 - loss: 0.2866 - custom_mae: 0.447 - ETA: 37:50 - loss: 0.2865 - custom_mae: 0.447 - ETA: 37:48 - loss: 0.2865 - custom_mae: 0.447 - ETA: 37:46 - loss: 0.2864 - custom_mae: 0.447 - ETA: 37:44 - loss: 0.2864 - custom_mae: 0.447 - ETA: 37:41 - loss: 0.2864 - custom_mae: 0.447 - ETA: 37:39 - loss: 0.2863 - custom_mae: 0.447 - ETA: 37:37 - loss: 0.2863 - custom_mae: 0.447 - ETA: 37:35 - loss: 0.2863 - custom_mae: 0.447 - ETA: 37:33 - loss: 0.2863 - custom_mae: 0.447 - ETA: 37:31 - loss: 0.2862 - custom_mae: 0.447 - ETA: 37:29 - loss: 0.2862 - custom_mae: 0.447 - ETA: 37:27 - loss: 0.2862 - custom_mae: 0.447 - ETA: 37:24 - loss: 0.2861 - custom_mae: 0.446 - ETA: 37:22 - loss: 0.2861 - custom_mae: 0.446 - ETA: 37:20 - loss: 0.2861 - custom_mae: 0.446 - ETA: 37:18 - loss: 0.2860 - custom_mae: 0.446 - ETA: 37:16 - loss: 0.2860 - custom_mae: 0.446 - ETA: 37:14 - loss: 0.2860 - custom_mae: 0.446 - ETA: 37:12 - loss: 0.2859 - custom_mae: 0.446 - ETA: 37:10 - loss: 0.2859 - custom_mae: 0.446 - ETA: 37:07 - loss: 0.2859 - custom_mae: 0.446 - ETA: 37:05 - loss: 0.2859 - custom_mae: 0.446 - ETA: 37:03 - loss: 0.2858 - custom_mae: 0.446 - ETA: 37:01 - loss: 0.2858 - custom_mae: 0.446 - ETA: 36:59 - loss: 0.2858 - custom_mae: 0.446 - ETA: 36:57 - loss: 0.2857 - custom_mae: 0.446 - ETA: 36:55 - loss: 0.2857 - custom_mae: 0.446 - ETA: 36:53 - loss: 0.2856 - custom_mae: 0.446 - ETA: 36:51 - loss: 0.2856 - custom_mae: 0.446 - ETA: 36:48 - loss: 0.2856 - custom_mae: 0.446 - ETA: 36:46 - loss: 0.2855 - custom_mae: 0.446 - ETA: 36:44 - loss: 0.2855 - custom_mae: 0.446 - ETA: 36:42 - loss: 0.2854 - custom_mae: 0.446 - ETA: 36:40 - loss: 0.2854 - custom_mae: 0.446 - ETA: 36:38 - loss: 0.2854 - custom_mae: 0.446 - ETA: 36:36 - loss: 0.2854 - custom_mae: 0.446 - ETA: 36:34 - loss: 0.2854 - custom_mae: 0.446 - ETA: 36:32 - loss: 0.2853 - custom_mae: 0.446 - ETA: 36:29 - loss: 0.2853 - custom_mae: 0.446 - ETA: 36:27 - loss: 0.2853 - custom_mae: 0.446 - ETA: 36:25 - loss: 0.2852 - custom_mae: 0.446 - ETA: 36:23 - loss: 0.2852 - custom_mae: 0.446 - ETA: 36:21 - loss: 0.2852 - custom_mae: 0.446 - ETA: 36:19 - loss: 0.2852 - custom_mae: 0.446 - ETA: 36:17 - loss: 0.2851 - custom_mae: 0.446 - ETA: 36:15 - loss: 0.2851 - custom_mae: 0.446 - ETA: 36:13 - loss: 0.2851 - custom_mae: 0.446 - ETA: 36:10 - loss: 0.2851 - custom_mae: 0.446 - ETA: 36:08 - loss: 0.2851 - custom_mae: 0.446 - ETA: 36:06 - loss: 0.2850 - custom_mae: 0.445 - ETA: 36:04 - loss: 0.2850 - custom_mae: 0.445 - ETA: 36:02 - loss: 0.2850 - custom_mae: 0.445 - ETA: 36:00 - loss: 0.2850 - custom_mae: 0.445 - ETA: 35:58 - loss: 0.2850 - custom_mae: 0.445 - ETA: 35:56 - loss: 0.2850 - custom_mae: 0.445 - ETA: 35:53 - loss: 0.2849 - custom_mae: 0.445 - ETA: 35:51 - loss: 0.2849 - custom_mae: 0.445 - ETA: 35:49 - loss: 0.2849 - custom_mae: 0.445 - ETA: 35:47 - loss: 0.2848 - custom_mae: 0.445 - ETA: 35:45 - loss: 0.2847 - custom_mae: 0.445 - ETA: 35:43 - loss: 0.2847 - custom_mae: 0.445 - ETA: 35:41 - loss: 0.2847 - custom_mae: 0.445 - ETA: 35:39 - loss: 0.2846 - custom_mae: 0.445 - ETA: 35:36 - loss: 0.2846 - custom_mae: 0.445 - ETA: 35:34 - loss: 0.2846 - custom_mae: 0.445 - ETA: 35:32 - loss: 0.2845 - custom_mae: 0.445 - ETA: 35:30 - loss: 0.2845 - custom_mae: 0.445 - ETA: 35:28 - loss: 0.2845 - custom_mae: 0.445 - ETA: 35:26 - loss: 0.2844 - custom_mae: 0.445 - ETA: 35:24 - loss: 0.2844 - custom_mae: 0.445 - ETA: 35:22 - loss: 0.2844 - custom_mae: 0.4454"
     ]
    },
    {
     "name": "stdout",
     "output_type": "stream",
     "text": [
      "1667/2500 [===================>..........] - ETA: 35:20 - loss: 0.2844 - custom_mae: 0.445 - ETA: 35:17 - loss: 0.2843 - custom_mae: 0.445 - ETA: 35:15 - loss: 0.2843 - custom_mae: 0.445 - ETA: 35:13 - loss: 0.2843 - custom_mae: 0.445 - ETA: 35:11 - loss: 0.2843 - custom_mae: 0.445 - ETA: 35:09 - loss: 0.2842 - custom_mae: 0.445 - ETA: 35:07 - loss: 0.2842 - custom_mae: 0.445 - ETA: 35:05 - loss: 0.2842 - custom_mae: 0.445 - ETA: 35:03 - loss: 0.2841 - custom_mae: 0.445 - ETA: 35:00 - loss: 0.2841 - custom_mae: 0.445 - ETA: 34:58 - loss: 0.2841 - custom_mae: 0.445 - ETA: 34:56 - loss: 0.2840 - custom_mae: 0.445 - ETA: 34:54 - loss: 0.2840 - custom_mae: 0.445 - ETA: 34:52 - loss: 0.2840 - custom_mae: 0.445 - ETA: 34:50 - loss: 0.2840 - custom_mae: 0.445 - ETA: 34:48 - loss: 0.2840 - custom_mae: 0.445 - ETA: 34:46 - loss: 0.2839 - custom_mae: 0.444 - ETA: 34:44 - loss: 0.2839 - custom_mae: 0.444 - ETA: 34:41 - loss: 0.2839 - custom_mae: 0.444 - ETA: 34:39 - loss: 0.2838 - custom_mae: 0.444 - ETA: 34:37 - loss: 0.2838 - custom_mae: 0.444 - ETA: 34:35 - loss: 0.2838 - custom_mae: 0.444 - ETA: 34:33 - loss: 0.2838 - custom_mae: 0.444 - ETA: 34:31 - loss: 0.2838 - custom_mae: 0.444 - ETA: 34:29 - loss: 0.2837 - custom_mae: 0.444 - ETA: 34:27 - loss: 0.2837 - custom_mae: 0.444 - ETA: 34:25 - loss: 0.2837 - custom_mae: 0.444 - ETA: 34:22 - loss: 0.2836 - custom_mae: 0.444 - ETA: 34:20 - loss: 0.2836 - custom_mae: 0.444 - ETA: 34:18 - loss: 0.2836 - custom_mae: 0.444 - ETA: 34:16 - loss: 0.2835 - custom_mae: 0.444 - ETA: 34:14 - loss: 0.2834 - custom_mae: 0.444 - ETA: 34:12 - loss: 0.2834 - custom_mae: 0.444 - ETA: 34:10 - loss: 0.2833 - custom_mae: 0.444 - ETA: 34:08 - loss: 0.2833 - custom_mae: 0.444 - ETA: 34:05 - loss: 0.2833 - custom_mae: 0.444 - ETA: 34:03 - loss: 0.2833 - custom_mae: 0.444 - ETA: 34:01 - loss: 0.2833 - custom_mae: 0.444 - ETA: 33:59 - loss: 0.2833 - custom_mae: 0.444 - ETA: 33:57 - loss: 0.2833 - custom_mae: 0.444 - ETA: 33:55 - loss: 0.2833 - custom_mae: 0.444 - ETA: 33:53 - loss: 0.2833 - custom_mae: 0.444 - ETA: 33:51 - loss: 0.2833 - custom_mae: 0.444 - ETA: 33:48 - loss: 0.2833 - custom_mae: 0.444 - ETA: 33:46 - loss: 0.2833 - custom_mae: 0.444 - ETA: 33:44 - loss: 0.2833 - custom_mae: 0.444 - ETA: 33:42 - loss: 0.2833 - custom_mae: 0.444 - ETA: 33:40 - loss: 0.2832 - custom_mae: 0.444 - ETA: 33:38 - loss: 0.2832 - custom_mae: 0.444 - ETA: 33:36 - loss: 0.2832 - custom_mae: 0.444 - ETA: 33:34 - loss: 0.2832 - custom_mae: 0.444 - ETA: 33:32 - loss: 0.2833 - custom_mae: 0.444 - ETA: 33:30 - loss: 0.2832 - custom_mae: 0.444 - ETA: 33:27 - loss: 0.2832 - custom_mae: 0.444 - ETA: 33:25 - loss: 0.2831 - custom_mae: 0.444 - ETA: 33:23 - loss: 0.2831 - custom_mae: 0.444 - ETA: 33:21 - loss: 0.2831 - custom_mae: 0.444 - ETA: 33:19 - loss: 0.2831 - custom_mae: 0.444 - ETA: 33:17 - loss: 0.2831 - custom_mae: 0.444 - ETA: 33:15 - loss: 0.2831 - custom_mae: 0.444 - ETA: 33:13 - loss: 0.2830 - custom_mae: 0.444 - ETA: 33:10 - loss: 0.2830 - custom_mae: 0.444 - ETA: 33:08 - loss: 0.2830 - custom_mae: 0.444 - ETA: 33:06 - loss: 0.2829 - custom_mae: 0.444 - ETA: 33:04 - loss: 0.2828 - custom_mae: 0.443 - ETA: 33:02 - loss: 0.2828 - custom_mae: 0.443 - ETA: 33:00 - loss: 0.2828 - custom_mae: 0.443 - ETA: 32:58 - loss: 0.2827 - custom_mae: 0.443 - ETA: 32:56 - loss: 0.2827 - custom_mae: 0.443 - ETA: 32:54 - loss: 0.2827 - custom_mae: 0.443 - ETA: 32:51 - loss: 0.2827 - custom_mae: 0.443 - ETA: 32:49 - loss: 0.2827 - custom_mae: 0.443 - ETA: 32:47 - loss: 0.2827 - custom_mae: 0.443 - ETA: 32:45 - loss: 0.2826 - custom_mae: 0.443 - ETA: 32:43 - loss: 0.2825 - custom_mae: 0.443 - ETA: 32:41 - loss: 0.2825 - custom_mae: 0.443 - ETA: 32:39 - loss: 0.2825 - custom_mae: 0.443 - ETA: 32:37 - loss: 0.2824 - custom_mae: 0.443 - ETA: 32:34 - loss: 0.2824 - custom_mae: 0.443 - ETA: 32:32 - loss: 0.2824 - custom_mae: 0.443 - ETA: 32:30 - loss: 0.2823 - custom_mae: 0.443 - ETA: 32:28 - loss: 0.2823 - custom_mae: 0.443 - ETA: 32:26 - loss: 0.2823 - custom_mae: 0.443 - ETA: 32:24 - loss: 0.2822 - custom_mae: 0.443 - ETA: 32:22 - loss: 0.2822 - custom_mae: 0.443 - ETA: 32:20 - loss: 0.2822 - custom_mae: 0.443 - ETA: 32:18 - loss: 0.2821 - custom_mae: 0.443 - ETA: 32:15 - loss: 0.2821 - custom_mae: 0.443 - ETA: 32:13 - loss: 0.2821 - custom_mae: 0.443 - ETA: 32:11 - loss: 0.2821 - custom_mae: 0.443 - ETA: 32:09 - loss: 0.2820 - custom_mae: 0.443 - ETA: 32:07 - loss: 0.2820 - custom_mae: 0.443 - ETA: 32:05 - loss: 0.2819 - custom_mae: 0.443 - ETA: 32:03 - loss: 0.2819 - custom_mae: 0.443 - ETA: 32:01 - loss: 0.2819 - custom_mae: 0.442 - ETA: 31:58 - loss: 0.2818 - custom_mae: 0.442 - ETA: 31:56 - loss: 0.2818 - custom_mae: 0.442 - ETA: 31:54 - loss: 0.2817 - custom_mae: 0.442 - ETA: 31:52 - loss: 0.2818 - custom_mae: 0.442 - ETA: 31:50 - loss: 0.2817 - custom_mae: 0.442 - ETA: 31:48 - loss: 0.2817 - custom_mae: 0.442 - ETA: 31:46 - loss: 0.2817 - custom_mae: 0.442 - ETA: 31:44 - loss: 0.2817 - custom_mae: 0.442 - ETA: 31:42 - loss: 0.2816 - custom_mae: 0.442 - ETA: 31:39 - loss: 0.2816 - custom_mae: 0.442 - ETA: 31:37 - loss: 0.2816 - custom_mae: 0.442 - ETA: 31:35 - loss: 0.2815 - custom_mae: 0.442 - ETA: 31:33 - loss: 0.2815 - custom_mae: 0.442 - ETA: 31:31 - loss: 0.2815 - custom_mae: 0.442 - ETA: 31:29 - loss: 0.2815 - custom_mae: 0.442 - ETA: 31:27 - loss: 0.2814 - custom_mae: 0.442 - ETA: 31:25 - loss: 0.2814 - custom_mae: 0.442 - ETA: 31:22 - loss: 0.2814 - custom_mae: 0.442 - ETA: 31:20 - loss: 0.2814 - custom_mae: 0.442 - ETA: 31:18 - loss: 0.2814 - custom_mae: 0.442 - ETA: 31:16 - loss: 0.2813 - custom_mae: 0.442 - ETA: 31:14 - loss: 0.2813 - custom_mae: 0.442 - ETA: 31:12 - loss: 0.2813 - custom_mae: 0.442 - ETA: 31:10 - loss: 0.2812 - custom_mae: 0.442 - ETA: 31:08 - loss: 0.2813 - custom_mae: 0.442 - ETA: 31:05 - loss: 0.2813 - custom_mae: 0.442 - ETA: 31:03 - loss: 0.2812 - custom_mae: 0.442 - ETA: 31:01 - loss: 0.2812 - custom_mae: 0.442 - ETA: 30:59 - loss: 0.2812 - custom_mae: 0.442 - ETA: 30:57 - loss: 0.2812 - custom_mae: 0.442 - ETA: 30:55 - loss: 0.2812 - custom_mae: 0.442 - ETA: 30:53 - loss: 0.2811 - custom_mae: 0.442 - ETA: 30:51 - loss: 0.2810 - custom_mae: 0.442 - ETA: 30:49 - loss: 0.2810 - custom_mae: 0.442 - ETA: 30:46 - loss: 0.2810 - custom_mae: 0.442 - ETA: 30:44 - loss: 0.2809 - custom_mae: 0.442 - ETA: 30:42 - loss: 0.2809 - custom_mae: 0.442 - ETA: 30:40 - loss: 0.2809 - custom_mae: 0.442 - ETA: 30:38 - loss: 0.2809 - custom_mae: 0.442 - ETA: 30:36 - loss: 0.2809 - custom_mae: 0.442 - ETA: 30:34 - loss: 0.2809 - custom_mae: 0.442 - ETA: 30:32 - loss: 0.2809 - custom_mae: 0.442 - ETA: 30:30 - loss: 0.2808 - custom_mae: 0.442 - ETA: 30:27 - loss: 0.2808 - custom_mae: 0.441 - ETA: 30:25 - loss: 0.2808 - custom_mae: 0.441 - ETA: 30:23 - loss: 0.2808 - custom_mae: 0.441 - ETA: 30:21 - loss: 0.2807 - custom_mae: 0.441 - ETA: 30:19 - loss: 0.2807 - custom_mae: 0.441 - ETA: 30:17 - loss: 0.2806 - custom_mae: 0.441 - ETA: 30:15 - loss: 0.2806 - custom_mae: 0.441 - ETA: 30:13 - loss: 0.2805 - custom_mae: 0.441 - ETA: 30:10 - loss: 0.2805 - custom_mae: 0.441 - ETA: 30:08 - loss: 0.2805 - custom_mae: 0.441 - ETA: 30:06 - loss: 0.2805 - custom_mae: 0.441 - ETA: 30:04 - loss: 0.2805 - custom_mae: 0.441 - ETA: 30:02 - loss: 0.2805 - custom_mae: 0.441 - ETA: 30:00 - loss: 0.2804 - custom_mae: 0.441 - ETA: 29:58 - loss: 0.2804 - custom_mae: 0.441 - ETA: 29:56 - loss: 0.2804 - custom_mae: 0.441 - ETA: 29:54 - loss: 0.2803 - custom_mae: 0.441 - ETA: 29:51 - loss: 0.2803 - custom_mae: 0.441 - ETA: 29:49 - loss: 0.2803 - custom_mae: 0.441 - ETA: 29:47 - loss: 0.2802 - custom_mae: 0.441 - ETA: 29:45 - loss: 0.2802 - custom_mae: 0.441 - ETA: 29:43 - loss: 0.2802 - custom_mae: 0.441 - ETA: 29:41 - loss: 0.2802 - custom_mae: 0.441 - ETA: 29:39 - loss: 0.2801 - custom_mae: 0.441 - ETA: 29:37 - loss: 0.2801 - custom_mae: 0.441 - ETA: 29:34 - loss: 0.2800 - custom_mae: 0.441 - ETA: 29:32 - loss: 0.2800 - custom_mae: 0.441 - ETA: 29:30 - loss: 0.2800 - custom_mae: 0.441 - ETA: 29:28 - loss: 0.2799 - custom_mae: 0.441 - ETA: 29:26 - loss: 0.2799 - custom_mae: 0.441 - ETA: 29:24 - loss: 0.2799 - custom_mae: 0.441 - ETA: 29:22 - loss: 0.2798 - custom_mae: 0.4409"
     ]
    },
    {
     "name": "stdout",
     "output_type": "stream",
     "text": [
      "1837/2500 [=====================>........] - ETA: 29:20 - loss: 0.2798 - custom_mae: 0.440 - ETA: 29:18 - loss: 0.2797 - custom_mae: 0.440 - ETA: 29:15 - loss: 0.2797 - custom_mae: 0.440 - ETA: 29:13 - loss: 0.2797 - custom_mae: 0.440 - ETA: 29:11 - loss: 0.2797 - custom_mae: 0.440 - ETA: 29:09 - loss: 0.2797 - custom_mae: 0.440 - ETA: 29:07 - loss: 0.2796 - custom_mae: 0.440 - ETA: 29:05 - loss: 0.2796 - custom_mae: 0.440 - ETA: 29:03 - loss: 0.2796 - custom_mae: 0.440 - ETA: 29:01 - loss: 0.2796 - custom_mae: 0.440 - ETA: 28:59 - loss: 0.2796 - custom_mae: 0.440 - ETA: 28:56 - loss: 0.2795 - custom_mae: 0.440 - ETA: 28:54 - loss: 0.2794 - custom_mae: 0.440 - ETA: 28:52 - loss: 0.2794 - custom_mae: 0.440 - ETA: 28:50 - loss: 0.2793 - custom_mae: 0.440 - ETA: 28:48 - loss: 0.2793 - custom_mae: 0.440 - ETA: 28:46 - loss: 0.2793 - custom_mae: 0.440 - ETA: 28:44 - loss: 0.2792 - custom_mae: 0.440 - ETA: 28:42 - loss: 0.2792 - custom_mae: 0.440 - ETA: 28:39 - loss: 0.2792 - custom_mae: 0.440 - ETA: 28:37 - loss: 0.2792 - custom_mae: 0.440 - ETA: 28:35 - loss: 0.2791 - custom_mae: 0.440 - ETA: 28:33 - loss: 0.2791 - custom_mae: 0.440 - ETA: 28:31 - loss: 0.2790 - custom_mae: 0.440 - ETA: 28:29 - loss: 0.2790 - custom_mae: 0.440 - ETA: 28:27 - loss: 0.2790 - custom_mae: 0.440 - ETA: 28:25 - loss: 0.2789 - custom_mae: 0.440 - ETA: 28:23 - loss: 0.2789 - custom_mae: 0.440 - ETA: 28:20 - loss: 0.2789 - custom_mae: 0.440 - ETA: 28:18 - loss: 0.2789 - custom_mae: 0.440 - ETA: 28:16 - loss: 0.2788 - custom_mae: 0.440 - ETA: 28:14 - loss: 0.2788 - custom_mae: 0.440 - ETA: 28:12 - loss: 0.2787 - custom_mae: 0.439 - ETA: 28:10 - loss: 0.2788 - custom_mae: 0.439 - ETA: 28:08 - loss: 0.2787 - custom_mae: 0.439 - ETA: 28:06 - loss: 0.2787 - custom_mae: 0.439 - ETA: 28:04 - loss: 0.2787 - custom_mae: 0.439 - ETA: 28:01 - loss: 0.2786 - custom_mae: 0.439 - ETA: 27:59 - loss: 0.2786 - custom_mae: 0.439 - ETA: 27:57 - loss: 0.2786 - custom_mae: 0.439 - ETA: 27:55 - loss: 0.2786 - custom_mae: 0.439 - ETA: 27:53 - loss: 0.2785 - custom_mae: 0.439 - ETA: 27:51 - loss: 0.2785 - custom_mae: 0.439 - ETA: 27:49 - loss: 0.2785 - custom_mae: 0.439 - ETA: 27:47 - loss: 0.2785 - custom_mae: 0.439 - ETA: 27:44 - loss: 0.2784 - custom_mae: 0.439 - ETA: 27:42 - loss: 0.2784 - custom_mae: 0.439 - ETA: 27:40 - loss: 0.2784 - custom_mae: 0.439 - ETA: 27:38 - loss: 0.2783 - custom_mae: 0.439 - ETA: 27:36 - loss: 0.2783 - custom_mae: 0.439 - ETA: 27:34 - loss: 0.2783 - custom_mae: 0.439 - ETA: 27:32 - loss: 0.2782 - custom_mae: 0.439 - ETA: 27:30 - loss: 0.2782 - custom_mae: 0.439 - ETA: 27:28 - loss: 0.2781 - custom_mae: 0.439 - ETA: 27:25 - loss: 0.2781 - custom_mae: 0.439 - ETA: 27:23 - loss: 0.2781 - custom_mae: 0.439 - ETA: 27:21 - loss: 0.2780 - custom_mae: 0.439 - ETA: 27:19 - loss: 0.2780 - custom_mae: 0.439 - ETA: 27:17 - loss: 0.2780 - custom_mae: 0.439 - ETA: 27:15 - loss: 0.2780 - custom_mae: 0.439 - ETA: 27:13 - loss: 0.2779 - custom_mae: 0.439 - ETA: 27:11 - loss: 0.2779 - custom_mae: 0.439 - ETA: 27:08 - loss: 0.2778 - custom_mae: 0.439 - ETA: 27:06 - loss: 0.2778 - custom_mae: 0.439 - ETA: 27:04 - loss: 0.2777 - custom_mae: 0.438 - ETA: 27:02 - loss: 0.2777 - custom_mae: 0.438 - ETA: 27:00 - loss: 0.2777 - custom_mae: 0.438 - ETA: 26:58 - loss: 0.2777 - custom_mae: 0.438 - ETA: 26:56 - loss: 0.2776 - custom_mae: 0.438 - ETA: 26:54 - loss: 0.2776 - custom_mae: 0.438 - ETA: 26:52 - loss: 0.2775 - custom_mae: 0.438 - ETA: 26:49 - loss: 0.2775 - custom_mae: 0.438 - ETA: 26:47 - loss: 0.2775 - custom_mae: 0.438 - ETA: 26:45 - loss: 0.2775 - custom_mae: 0.438 - ETA: 26:43 - loss: 0.2774 - custom_mae: 0.438 - ETA: 26:41 - loss: 0.2774 - custom_mae: 0.438 - ETA: 26:39 - loss: 0.2774 - custom_mae: 0.438 - ETA: 26:37 - loss: 0.2774 - custom_mae: 0.438 - ETA: 26:35 - loss: 0.2773 - custom_mae: 0.438 - ETA: 26:33 - loss: 0.2773 - custom_mae: 0.438 - ETA: 26:30 - loss: 0.2773 - custom_mae: 0.438 - ETA: 26:28 - loss: 0.2773 - custom_mae: 0.438 - ETA: 26:26 - loss: 0.2772 - custom_mae: 0.438 - ETA: 26:24 - loss: 0.2772 - custom_mae: 0.438 - ETA: 26:22 - loss: 0.2772 - custom_mae: 0.438 - ETA: 26:20 - loss: 0.2771 - custom_mae: 0.438 - ETA: 26:18 - loss: 0.2771 - custom_mae: 0.438 - ETA: 26:16 - loss: 0.2770 - custom_mae: 0.438 - ETA: 26:13 - loss: 0.2770 - custom_mae: 0.438 - ETA: 26:11 - loss: 0.2770 - custom_mae: 0.438 - ETA: 26:09 - loss: 0.2770 - custom_mae: 0.438 - ETA: 26:07 - loss: 0.2770 - custom_mae: 0.438 - ETA: 26:05 - loss: 0.2769 - custom_mae: 0.438 - ETA: 26:03 - loss: 0.2769 - custom_mae: 0.438 - ETA: 26:01 - loss: 0.2769 - custom_mae: 0.438 - ETA: 25:59 - loss: 0.2769 - custom_mae: 0.438 - ETA: 25:57 - loss: 0.2768 - custom_mae: 0.438 - ETA: 25:54 - loss: 0.2768 - custom_mae: 0.438 - ETA: 25:52 - loss: 0.2767 - custom_mae: 0.438 - ETA: 25:50 - loss: 0.2767 - custom_mae: 0.438 - ETA: 25:48 - loss: 0.2767 - custom_mae: 0.438 - ETA: 25:46 - loss: 0.2767 - custom_mae: 0.437 - ETA: 25:44 - loss: 0.2766 - custom_mae: 0.437 - ETA: 25:42 - loss: 0.2766 - custom_mae: 0.437 - ETA: 25:40 - loss: 0.2766 - custom_mae: 0.437 - ETA: 25:37 - loss: 0.2766 - custom_mae: 0.437 - ETA: 25:35 - loss: 0.2766 - custom_mae: 0.437 - ETA: 25:33 - loss: 0.2766 - custom_mae: 0.437 - ETA: 25:31 - loss: 0.2765 - custom_mae: 0.437 - ETA: 25:29 - loss: 0.2765 - custom_mae: 0.437 - ETA: 25:27 - loss: 0.2765 - custom_mae: 0.437 - ETA: 25:25 - loss: 0.2765 - custom_mae: 0.437 - ETA: 25:23 - loss: 0.2765 - custom_mae: 0.437 - ETA: 25:21 - loss: 0.2765 - custom_mae: 0.437 - ETA: 25:18 - loss: 0.2764 - custom_mae: 0.437 - ETA: 25:16 - loss: 0.2764 - custom_mae: 0.437 - ETA: 25:14 - loss: 0.2763 - custom_mae: 0.437 - ETA: 25:12 - loss: 0.2763 - custom_mae: 0.437 - ETA: 25:10 - loss: 0.2763 - custom_mae: 0.437 - ETA: 25:08 - loss: 0.2763 - custom_mae: 0.437 - ETA: 25:06 - loss: 0.2763 - custom_mae: 0.437 - ETA: 25:04 - loss: 0.2763 - custom_mae: 0.437 - ETA: 25:01 - loss: 0.2762 - custom_mae: 0.437 - ETA: 24:59 - loss: 0.2762 - custom_mae: 0.437 - ETA: 24:57 - loss: 0.2762 - custom_mae: 0.437 - ETA: 24:55 - loss: 0.2761 - custom_mae: 0.437 - ETA: 24:53 - loss: 0.2761 - custom_mae: 0.437 - ETA: 24:51 - loss: 0.2761 - custom_mae: 0.437 - ETA: 24:49 - loss: 0.2760 - custom_mae: 0.437 - ETA: 24:47 - loss: 0.2760 - custom_mae: 0.437 - ETA: 24:45 - loss: 0.2760 - custom_mae: 0.437 - ETA: 24:42 - loss: 0.2760 - custom_mae: 0.437 - ETA: 24:40 - loss: 0.2760 - custom_mae: 0.437 - ETA: 24:38 - loss: 0.2760 - custom_mae: 0.437 - ETA: 24:36 - loss: 0.2759 - custom_mae: 0.437 - ETA: 24:34 - loss: 0.2759 - custom_mae: 0.437 - ETA: 24:32 - loss: 0.2759 - custom_mae: 0.437 - ETA: 24:30 - loss: 0.2758 - custom_mae: 0.437 - ETA: 24:28 - loss: 0.2758 - custom_mae: 0.437 - ETA: 24:26 - loss: 0.2758 - custom_mae: 0.437 - ETA: 24:23 - loss: 0.2758 - custom_mae: 0.437 - ETA: 24:21 - loss: 0.2758 - custom_mae: 0.437 - ETA: 24:19 - loss: 0.2757 - custom_mae: 0.437 - ETA: 24:17 - loss: 0.2757 - custom_mae: 0.437 - ETA: 24:15 - loss: 0.2757 - custom_mae: 0.437 - ETA: 24:13 - loss: 0.2757 - custom_mae: 0.437 - ETA: 24:11 - loss: 0.2757 - custom_mae: 0.437 - ETA: 24:09 - loss: 0.2757 - custom_mae: 0.437 - ETA: 24:06 - loss: 0.2756 - custom_mae: 0.436 - ETA: 24:04 - loss: 0.2757 - custom_mae: 0.436 - ETA: 24:02 - loss: 0.2756 - custom_mae: 0.436 - ETA: 24:00 - loss: 0.2756 - custom_mae: 0.436 - ETA: 23:58 - loss: 0.2756 - custom_mae: 0.436 - ETA: 23:56 - loss: 0.2756 - custom_mae: 0.436 - ETA: 23:54 - loss: 0.2756 - custom_mae: 0.436 - ETA: 23:52 - loss: 0.2755 - custom_mae: 0.436 - ETA: 23:50 - loss: 0.2754 - custom_mae: 0.436 - ETA: 23:47 - loss: 0.2754 - custom_mae: 0.436 - ETA: 23:45 - loss: 0.2753 - custom_mae: 0.436 - ETA: 23:43 - loss: 0.2753 - custom_mae: 0.436 - ETA: 23:41 - loss: 0.2753 - custom_mae: 0.436 - ETA: 23:39 - loss: 0.2753 - custom_mae: 0.436 - ETA: 23:37 - loss: 0.2753 - custom_mae: 0.436 - ETA: 23:35 - loss: 0.2753 - custom_mae: 0.436 - ETA: 23:33 - loss: 0.2752 - custom_mae: 0.436 - ETA: 23:30 - loss: 0.2752 - custom_mae: 0.436 - ETA: 23:28 - loss: 0.2752 - custom_mae: 0.436 - ETA: 23:26 - loss: 0.2752 - custom_mae: 0.436 - ETA: 23:24 - loss: 0.2751 - custom_mae: 0.436 - ETA: 23:22 - loss: 0.2751 - custom_mae: 0.4364"
     ]
    },
    {
     "name": "stdout",
     "output_type": "stream",
     "text": [
      "2007/2500 [=======================>......] - ETA: 23:20 - loss: 0.2751 - custom_mae: 0.436 - ETA: 23:18 - loss: 0.2751 - custom_mae: 0.436 - ETA: 23:16 - loss: 0.2751 - custom_mae: 0.436 - ETA: 23:14 - loss: 0.2751 - custom_mae: 0.436 - ETA: 23:11 - loss: 0.2750 - custom_mae: 0.436 - ETA: 23:09 - loss: 0.2750 - custom_mae: 0.436 - ETA: 23:07 - loss: 0.2749 - custom_mae: 0.436 - ETA: 23:05 - loss: 0.2749 - custom_mae: 0.436 - ETA: 23:03 - loss: 0.2749 - custom_mae: 0.436 - ETA: 23:01 - loss: 0.2748 - custom_mae: 0.436 - ETA: 22:59 - loss: 0.2748 - custom_mae: 0.436 - ETA: 22:57 - loss: 0.2748 - custom_mae: 0.436 - ETA: 22:55 - loss: 0.2747 - custom_mae: 0.436 - ETA: 22:52 - loss: 0.2747 - custom_mae: 0.436 - ETA: 22:50 - loss: 0.2747 - custom_mae: 0.436 - ETA: 22:48 - loss: 0.2747 - custom_mae: 0.436 - ETA: 22:46 - loss: 0.2747 - custom_mae: 0.436 - ETA: 22:44 - loss: 0.2746 - custom_mae: 0.435 - ETA: 22:42 - loss: 0.2746 - custom_mae: 0.435 - ETA: 22:40 - loss: 0.2745 - custom_mae: 0.435 - ETA: 22:38 - loss: 0.2745 - custom_mae: 0.435 - ETA: 22:35 - loss: 0.2745 - custom_mae: 0.435 - ETA: 22:33 - loss: 0.2745 - custom_mae: 0.435 - ETA: 22:31 - loss: 0.2745 - custom_mae: 0.435 - ETA: 22:29 - loss: 0.2744 - custom_mae: 0.435 - ETA: 22:27 - loss: 0.2744 - custom_mae: 0.435 - ETA: 22:25 - loss: 0.2744 - custom_mae: 0.435 - ETA: 22:23 - loss: 0.2744 - custom_mae: 0.435 - ETA: 22:21 - loss: 0.2743 - custom_mae: 0.435 - ETA: 22:19 - loss: 0.2743 - custom_mae: 0.435 - ETA: 22:16 - loss: 0.2743 - custom_mae: 0.435 - ETA: 22:14 - loss: 0.2742 - custom_mae: 0.435 - ETA: 22:12 - loss: 0.2742 - custom_mae: 0.435 - ETA: 22:10 - loss: 0.2742 - custom_mae: 0.435 - ETA: 22:08 - loss: 0.2741 - custom_mae: 0.435 - ETA: 22:06 - loss: 0.2741 - custom_mae: 0.435 - ETA: 22:04 - loss: 0.2741 - custom_mae: 0.435 - ETA: 22:02 - loss: 0.2740 - custom_mae: 0.435 - ETA: 22:00 - loss: 0.2740 - custom_mae: 0.435 - ETA: 21:57 - loss: 0.2740 - custom_mae: 0.435 - ETA: 21:55 - loss: 0.2740 - custom_mae: 0.435 - ETA: 21:53 - loss: 0.2739 - custom_mae: 0.435 - ETA: 21:51 - loss: 0.2739 - custom_mae: 0.435 - ETA: 21:49 - loss: 0.2739 - custom_mae: 0.435 - ETA: 21:47 - loss: 0.2738 - custom_mae: 0.435 - ETA: 21:45 - loss: 0.2738 - custom_mae: 0.435 - ETA: 21:43 - loss: 0.2738 - custom_mae: 0.435 - ETA: 21:40 - loss: 0.2738 - custom_mae: 0.435 - ETA: 21:38 - loss: 0.2738 - custom_mae: 0.435 - ETA: 21:36 - loss: 0.2739 - custom_mae: 0.435 - ETA: 21:34 - loss: 0.2739 - custom_mae: 0.435 - ETA: 21:32 - loss: 0.2738 - custom_mae: 0.435 - ETA: 21:30 - loss: 0.2738 - custom_mae: 0.435 - ETA: 21:28 - loss: 0.2738 - custom_mae: 0.435 - ETA: 21:26 - loss: 0.2738 - custom_mae: 0.435 - ETA: 21:24 - loss: 0.2738 - custom_mae: 0.435 - ETA: 21:21 - loss: 0.2737 - custom_mae: 0.435 - ETA: 21:19 - loss: 0.2737 - custom_mae: 0.435 - ETA: 21:17 - loss: 0.2737 - custom_mae: 0.435 - ETA: 21:15 - loss: 0.2737 - custom_mae: 0.435 - ETA: 21:13 - loss: 0.2737 - custom_mae: 0.435 - ETA: 21:11 - loss: 0.2736 - custom_mae: 0.435 - ETA: 21:09 - loss: 0.2736 - custom_mae: 0.435 - ETA: 21:07 - loss: 0.2736 - custom_mae: 0.435 - ETA: 21:05 - loss: 0.2736 - custom_mae: 0.434 - ETA: 21:02 - loss: 0.2735 - custom_mae: 0.434 - ETA: 21:00 - loss: 0.2735 - custom_mae: 0.434 - ETA: 20:58 - loss: 0.2735 - custom_mae: 0.434 - ETA: 20:56 - loss: 0.2734 - custom_mae: 0.434 - ETA: 20:54 - loss: 0.2734 - custom_mae: 0.434 - ETA: 20:52 - loss: 0.2734 - custom_mae: 0.434 - ETA: 20:50 - loss: 0.2734 - custom_mae: 0.434 - ETA: 20:48 - loss: 0.2733 - custom_mae: 0.434 - ETA: 20:45 - loss: 0.2733 - custom_mae: 0.434 - ETA: 20:43 - loss: 0.2733 - custom_mae: 0.434 - ETA: 20:41 - loss: 0.2733 - custom_mae: 0.434 - ETA: 20:39 - loss: 0.2733 - custom_mae: 0.434 - ETA: 20:37 - loss: 0.2733 - custom_mae: 0.434 - ETA: 20:35 - loss: 0.2733 - custom_mae: 0.434 - ETA: 20:33 - loss: 0.2733 - custom_mae: 0.434 - ETA: 20:31 - loss: 0.2732 - custom_mae: 0.434 - ETA: 20:29 - loss: 0.2732 - custom_mae: 0.434 - ETA: 20:26 - loss: 0.2732 - custom_mae: 0.434 - ETA: 20:24 - loss: 0.2732 - custom_mae: 0.434 - ETA: 20:22 - loss: 0.2732 - custom_mae: 0.434 - ETA: 20:20 - loss: 0.2731 - custom_mae: 0.434 - ETA: 20:18 - loss: 0.2731 - custom_mae: 0.434 - ETA: 20:16 - loss: 0.2731 - custom_mae: 0.434 - ETA: 20:14 - loss: 0.2731 - custom_mae: 0.434 - ETA: 20:12 - loss: 0.2731 - custom_mae: 0.434 - ETA: 20:09 - loss: 0.2731 - custom_mae: 0.434 - ETA: 20:07 - loss: 0.2731 - custom_mae: 0.434 - ETA: 20:05 - loss: 0.2731 - custom_mae: 0.434 - ETA: 20:03 - loss: 0.2730 - custom_mae: 0.434 - ETA: 20:01 - loss: 0.2731 - custom_mae: 0.434 - ETA: 19:59 - loss: 0.2730 - custom_mae: 0.434 - ETA: 19:57 - loss: 0.2730 - custom_mae: 0.434 - ETA: 19:55 - loss: 0.2729 - custom_mae: 0.434 - ETA: 19:53 - loss: 0.2729 - custom_mae: 0.434 - ETA: 19:50 - loss: 0.2729 - custom_mae: 0.434 - ETA: 19:48 - loss: 0.2728 - custom_mae: 0.434 - ETA: 19:46 - loss: 0.2728 - custom_mae: 0.434 - ETA: 19:44 - loss: 0.2728 - custom_mae: 0.434 - ETA: 19:42 - loss: 0.2727 - custom_mae: 0.434 - ETA: 19:40 - loss: 0.2727 - custom_mae: 0.434 - ETA: 19:38 - loss: 0.2727 - custom_mae: 0.434 - ETA: 19:36 - loss: 0.2727 - custom_mae: 0.434 - ETA: 19:34 - loss: 0.2727 - custom_mae: 0.434 - ETA: 19:31 - loss: 0.2727 - custom_mae: 0.434 - ETA: 19:29 - loss: 0.2726 - custom_mae: 0.434 - ETA: 19:27 - loss: 0.2726 - custom_mae: 0.433 - ETA: 19:25 - loss: 0.2725 - custom_mae: 0.433 - ETA: 19:23 - loss: 0.2725 - custom_mae: 0.433 - ETA: 19:21 - loss: 0.2725 - custom_mae: 0.433 - ETA: 19:19 - loss: 0.2724 - custom_mae: 0.433 - ETA: 19:17 - loss: 0.2724 - custom_mae: 0.433 - ETA: 19:14 - loss: 0.2724 - custom_mae: 0.433 - ETA: 19:12 - loss: 0.2724 - custom_mae: 0.433 - ETA: 19:10 - loss: 0.2724 - custom_mae: 0.433 - ETA: 19:08 - loss: 0.2724 - custom_mae: 0.433 - ETA: 19:06 - loss: 0.2723 - custom_mae: 0.433 - ETA: 19:04 - loss: 0.2723 - custom_mae: 0.433 - ETA: 19:02 - loss: 0.2723 - custom_mae: 0.433 - ETA: 19:00 - loss: 0.2723 - custom_mae: 0.433 - ETA: 18:58 - loss: 0.2723 - custom_mae: 0.433 - ETA: 18:55 - loss: 0.2722 - custom_mae: 0.433 - ETA: 18:53 - loss: 0.2722 - custom_mae: 0.433 - ETA: 18:51 - loss: 0.2721 - custom_mae: 0.433 - ETA: 18:49 - loss: 0.2721 - custom_mae: 0.433 - ETA: 18:47 - loss: 0.2721 - custom_mae: 0.433 - ETA: 18:45 - loss: 0.2721 - custom_mae: 0.433 - ETA: 18:43 - loss: 0.2720 - custom_mae: 0.433 - ETA: 18:41 - loss: 0.2720 - custom_mae: 0.433 - ETA: 18:38 - loss: 0.2719 - custom_mae: 0.433 - ETA: 18:36 - loss: 0.2719 - custom_mae: 0.433 - ETA: 18:34 - loss: 0.2718 - custom_mae: 0.433 - ETA: 18:32 - loss: 0.2718 - custom_mae: 0.433 - ETA: 18:30 - loss: 0.2718 - custom_mae: 0.433 - ETA: 18:28 - loss: 0.2718 - custom_mae: 0.433 - ETA: 18:26 - loss: 0.2717 - custom_mae: 0.433 - ETA: 18:24 - loss: 0.2717 - custom_mae: 0.433 - ETA: 18:22 - loss: 0.2717 - custom_mae: 0.433 - ETA: 18:19 - loss: 0.2717 - custom_mae: 0.433 - ETA: 18:17 - loss: 0.2716 - custom_mae: 0.433 - ETA: 18:15 - loss: 0.2716 - custom_mae: 0.433 - ETA: 18:13 - loss: 0.2716 - custom_mae: 0.433 - ETA: 18:11 - loss: 0.2716 - custom_mae: 0.433 - ETA: 18:09 - loss: 0.2715 - custom_mae: 0.432 - ETA: 18:07 - loss: 0.2715 - custom_mae: 0.432 - ETA: 18:05 - loss: 0.2715 - custom_mae: 0.432 - ETA: 18:03 - loss: 0.2714 - custom_mae: 0.432 - ETA: 18:00 - loss: 0.2714 - custom_mae: 0.432 - ETA: 17:58 - loss: 0.2714 - custom_mae: 0.432 - ETA: 17:56 - loss: 0.2713 - custom_mae: 0.432 - ETA: 17:54 - loss: 0.2713 - custom_mae: 0.432 - ETA: 17:52 - loss: 0.2713 - custom_mae: 0.432 - ETA: 17:50 - loss: 0.2712 - custom_mae: 0.432 - ETA: 17:48 - loss: 0.2712 - custom_mae: 0.432 - ETA: 17:46 - loss: 0.2712 - custom_mae: 0.432 - ETA: 17:43 - loss: 0.2711 - custom_mae: 0.432 - ETA: 17:41 - loss: 0.2711 - custom_mae: 0.432 - ETA: 17:39 - loss: 0.2711 - custom_mae: 0.432 - ETA: 17:37 - loss: 0.2711 - custom_mae: 0.432 - ETA: 17:35 - loss: 0.2710 - custom_mae: 0.432 - ETA: 17:33 - loss: 0.2710 - custom_mae: 0.432 - ETA: 17:31 - loss: 0.2710 - custom_mae: 0.432 - ETA: 17:29 - loss: 0.2709 - custom_mae: 0.432 - ETA: 17:27 - loss: 0.2709 - custom_mae: 0.432 - ETA: 17:24 - loss: 0.2709 - custom_mae: 0.432 - ETA: 17:22 - loss: 0.2708 - custom_mae: 0.4322"
     ]
    },
    {
     "name": "stdout",
     "output_type": "stream",
     "text": [
      "2177/2500 [=========================>....] - ETA: 17:20 - loss: 0.2708 - custom_mae: 0.432 - ETA: 17:18 - loss: 0.2708 - custom_mae: 0.432 - ETA: 17:16 - loss: 0.2707 - custom_mae: 0.432 - ETA: 17:14 - loss: 0.2707 - custom_mae: 0.432 - ETA: 17:12 - loss: 0.2706 - custom_mae: 0.432 - ETA: 17:10 - loss: 0.2706 - custom_mae: 0.431 - ETA: 17:08 - loss: 0.2706 - custom_mae: 0.431 - ETA: 17:05 - loss: 0.2705 - custom_mae: 0.431 - ETA: 17:03 - loss: 0.2705 - custom_mae: 0.431 - ETA: 17:01 - loss: 0.2705 - custom_mae: 0.431 - ETA: 16:59 - loss: 0.2705 - custom_mae: 0.431 - ETA: 16:57 - loss: 0.2705 - custom_mae: 0.431 - ETA: 16:55 - loss: 0.2704 - custom_mae: 0.431 - ETA: 16:53 - loss: 0.2704 - custom_mae: 0.431 - ETA: 16:51 - loss: 0.2704 - custom_mae: 0.431 - ETA: 16:48 - loss: 0.2704 - custom_mae: 0.431 - ETA: 16:46 - loss: 0.2704 - custom_mae: 0.431 - ETA: 16:44 - loss: 0.2704 - custom_mae: 0.431 - ETA: 16:42 - loss: 0.2704 - custom_mae: 0.431 - ETA: 16:40 - loss: 0.2704 - custom_mae: 0.431 - ETA: 16:38 - loss: 0.2704 - custom_mae: 0.431 - ETA: 16:36 - loss: 0.2703 - custom_mae: 0.431 - ETA: 16:34 - loss: 0.2703 - custom_mae: 0.431 - ETA: 16:32 - loss: 0.2703 - custom_mae: 0.431 - ETA: 16:29 - loss: 0.2703 - custom_mae: 0.431 - ETA: 16:27 - loss: 0.2703 - custom_mae: 0.431 - ETA: 16:25 - loss: 0.2702 - custom_mae: 0.431 - ETA: 16:23 - loss: 0.2702 - custom_mae: 0.431 - ETA: 16:21 - loss: 0.2702 - custom_mae: 0.431 - ETA: 16:19 - loss: 0.2702 - custom_mae: 0.431 - ETA: 16:17 - loss: 0.2701 - custom_mae: 0.431 - ETA: 16:15 - loss: 0.2701 - custom_mae: 0.431 - ETA: 16:13 - loss: 0.2701 - custom_mae: 0.431 - ETA: 16:10 - loss: 0.2700 - custom_mae: 0.431 - ETA: 16:08 - loss: 0.2700 - custom_mae: 0.431 - ETA: 16:06 - loss: 0.2700 - custom_mae: 0.431 - ETA: 16:04 - loss: 0.2700 - custom_mae: 0.431 - ETA: 16:02 - loss: 0.2699 - custom_mae: 0.431 - ETA: 16:00 - loss: 0.2699 - custom_mae: 0.431 - ETA: 15:58 - loss: 0.2699 - custom_mae: 0.431 - ETA: 15:56 - loss: 0.2699 - custom_mae: 0.431 - ETA: 15:53 - loss: 0.2698 - custom_mae: 0.431 - ETA: 15:51 - loss: 0.2698 - custom_mae: 0.431 - ETA: 15:49 - loss: 0.2698 - custom_mae: 0.431 - ETA: 15:47 - loss: 0.2698 - custom_mae: 0.431 - ETA: 15:45 - loss: 0.2698 - custom_mae: 0.431 - ETA: 15:43 - loss: 0.2698 - custom_mae: 0.431 - ETA: 15:41 - loss: 0.2697 - custom_mae: 0.431 - ETA: 15:39 - loss: 0.2697 - custom_mae: 0.431 - ETA: 15:37 - loss: 0.2697 - custom_mae: 0.431 - ETA: 15:34 - loss: 0.2697 - custom_mae: 0.431 - ETA: 15:32 - loss: 0.2697 - custom_mae: 0.431 - ETA: 15:30 - loss: 0.2697 - custom_mae: 0.431 - ETA: 15:28 - loss: 0.2697 - custom_mae: 0.431 - ETA: 15:26 - loss: 0.2697 - custom_mae: 0.431 - ETA: 15:24 - loss: 0.2696 - custom_mae: 0.431 - ETA: 15:22 - loss: 0.2696 - custom_mae: 0.430 - ETA: 15:20 - loss: 0.2696 - custom_mae: 0.430 - ETA: 15:18 - loss: 0.2696 - custom_mae: 0.430 - ETA: 15:15 - loss: 0.2695 - custom_mae: 0.430 - ETA: 15:13 - loss: 0.2695 - custom_mae: 0.430 - ETA: 15:11 - loss: 0.2694 - custom_mae: 0.430 - ETA: 15:09 - loss: 0.2694 - custom_mae: 0.430 - ETA: 15:07 - loss: 0.2694 - custom_mae: 0.430 - ETA: 15:05 - loss: 0.2693 - custom_mae: 0.430 - ETA: 15:03 - loss: 0.2693 - custom_mae: 0.430 - ETA: 15:01 - loss: 0.2692 - custom_mae: 0.430 - ETA: 14:58 - loss: 0.2692 - custom_mae: 0.430 - ETA: 14:56 - loss: 0.2692 - custom_mae: 0.430 - ETA: 14:54 - loss: 0.2691 - custom_mae: 0.430 - ETA: 14:52 - loss: 0.2691 - custom_mae: 0.430 - ETA: 14:50 - loss: 0.2691 - custom_mae: 0.430 - ETA: 14:48 - loss: 0.2690 - custom_mae: 0.430 - ETA: 14:46 - loss: 0.2690 - custom_mae: 0.430 - ETA: 14:44 - loss: 0.2690 - custom_mae: 0.430 - ETA: 14:42 - loss: 0.2689 - custom_mae: 0.430 - ETA: 14:39 - loss: 0.2689 - custom_mae: 0.430 - ETA: 14:37 - loss: 0.2689 - custom_mae: 0.430 - ETA: 14:35 - loss: 0.2688 - custom_mae: 0.430 - ETA: 14:33 - loss: 0.2688 - custom_mae: 0.430 - ETA: 14:31 - loss: 0.2688 - custom_mae: 0.430 - ETA: 14:29 - loss: 0.2687 - custom_mae: 0.430 - ETA: 14:27 - loss: 0.2687 - custom_mae: 0.430 - ETA: 14:25 - loss: 0.2687 - custom_mae: 0.430 - ETA: 14:23 - loss: 0.2686 - custom_mae: 0.430 - ETA: 14:20 - loss: 0.2686 - custom_mae: 0.430 - ETA: 14:18 - loss: 0.2686 - custom_mae: 0.430 - ETA: 14:16 - loss: 0.2686 - custom_mae: 0.429 - ETA: 14:14 - loss: 0.2685 - custom_mae: 0.429 - ETA: 14:12 - loss: 0.2685 - custom_mae: 0.429 - ETA: 14:10 - loss: 0.2685 - custom_mae: 0.429 - ETA: 14:08 - loss: 0.2685 - custom_mae: 0.429 - ETA: 14:06 - loss: 0.2684 - custom_mae: 0.429 - ETA: 14:03 - loss: 0.2684 - custom_mae: 0.429 - ETA: 14:01 - loss: 0.2684 - custom_mae: 0.429 - ETA: 13:59 - loss: 0.2683 - custom_mae: 0.429 - ETA: 13:57 - loss: 0.2683 - custom_mae: 0.429 - ETA: 13:55 - loss: 0.2683 - custom_mae: 0.429 - ETA: 13:53 - loss: 0.2682 - custom_mae: 0.429 - ETA: 13:51 - loss: 0.2682 - custom_mae: 0.429 - ETA: 13:49 - loss: 0.2682 - custom_mae: 0.429 - ETA: 13:47 - loss: 0.2681 - custom_mae: 0.429 - ETA: 13:44 - loss: 0.2681 - custom_mae: 0.429 - ETA: 13:42 - loss: 0.2681 - custom_mae: 0.429 - ETA: 13:40 - loss: 0.2681 - custom_mae: 0.429 - ETA: 13:38 - loss: 0.2681 - custom_mae: 0.429 - ETA: 13:36 - loss: 0.2680 - custom_mae: 0.429 - ETA: 13:34 - loss: 0.2680 - custom_mae: 0.429 - ETA: 13:32 - loss: 0.2680 - custom_mae: 0.429 - ETA: 13:30 - loss: 0.2679 - custom_mae: 0.429 - ETA: 13:27 - loss: 0.2679 - custom_mae: 0.429 - ETA: 13:25 - loss: 0.2679 - custom_mae: 0.429 - ETA: 13:23 - loss: 0.2680 - custom_mae: 0.429 - ETA: 13:21 - loss: 0.2680 - custom_mae: 0.429 - ETA: 13:19 - loss: 0.2679 - custom_mae: 0.429 - ETA: 13:17 - loss: 0.2679 - custom_mae: 0.429 - ETA: 13:15 - loss: 0.2679 - custom_mae: 0.429 - ETA: 13:13 - loss: 0.2679 - custom_mae: 0.429 - ETA: 13:11 - loss: 0.2679 - custom_mae: 0.429 - ETA: 13:08 - loss: 0.2679 - custom_mae: 0.429 - ETA: 13:06 - loss: 0.2679 - custom_mae: 0.429 - ETA: 13:04 - loss: 0.2679 - custom_mae: 0.429 - ETA: 13:02 - loss: 0.2678 - custom_mae: 0.429 - ETA: 13:00 - loss: 0.2678 - custom_mae: 0.429 - ETA: 12:58 - loss: 0.2677 - custom_mae: 0.429 - ETA: 12:56 - loss: 0.2677 - custom_mae: 0.429 - ETA: 12:54 - loss: 0.2677 - custom_mae: 0.429 - ETA: 12:52 - loss: 0.2677 - custom_mae: 0.429 - ETA: 12:49 - loss: 0.2676 - custom_mae: 0.428 - ETA: 12:47 - loss: 0.2676 - custom_mae: 0.428 - ETA: 12:45 - loss: 0.2676 - custom_mae: 0.428 - ETA: 12:43 - loss: 0.2676 - custom_mae: 0.428 - ETA: 12:41 - loss: 0.2675 - custom_mae: 0.428 - ETA: 12:39 - loss: 0.2675 - custom_mae: 0.428 - ETA: 12:37 - loss: 0.2675 - custom_mae: 0.428 - ETA: 12:35 - loss: 0.2675 - custom_mae: 0.428 - ETA: 12:32 - loss: 0.2675 - custom_mae: 0.428 - ETA: 12:30 - loss: 0.2674 - custom_mae: 0.428 - ETA: 12:28 - loss: 0.2674 - custom_mae: 0.428 - ETA: 12:26 - loss: 0.2674 - custom_mae: 0.428 - ETA: 12:24 - loss: 0.2674 - custom_mae: 0.428 - ETA: 12:22 - loss: 0.2674 - custom_mae: 0.428 - ETA: 12:20 - loss: 0.2673 - custom_mae: 0.428 - ETA: 12:18 - loss: 0.2673 - custom_mae: 0.428 - ETA: 12:16 - loss: 0.2672 - custom_mae: 0.428 - ETA: 12:13 - loss: 0.2672 - custom_mae: 0.428 - ETA: 12:11 - loss: 0.2672 - custom_mae: 0.428 - ETA: 12:09 - loss: 0.2671 - custom_mae: 0.428 - ETA: 12:07 - loss: 0.2671 - custom_mae: 0.428 - ETA: 12:05 - loss: 0.2671 - custom_mae: 0.428 - ETA: 12:03 - loss: 0.2671 - custom_mae: 0.428 - ETA: 12:01 - loss: 0.2671 - custom_mae: 0.428 - ETA: 11:59 - loss: 0.2670 - custom_mae: 0.428 - ETA: 11:57 - loss: 0.2670 - custom_mae: 0.428 - ETA: 11:54 - loss: 0.2670 - custom_mae: 0.428 - ETA: 11:52 - loss: 0.2670 - custom_mae: 0.428 - ETA: 11:50 - loss: 0.2669 - custom_mae: 0.428 - ETA: 11:48 - loss: 0.2669 - custom_mae: 0.428 - ETA: 11:46 - loss: 0.2669 - custom_mae: 0.428 - ETA: 11:44 - loss: 0.2668 - custom_mae: 0.428 - ETA: 11:42 - loss: 0.2668 - custom_mae: 0.428 - ETA: 11:40 - loss: 0.2668 - custom_mae: 0.428 - ETA: 11:37 - loss: 0.2668 - custom_mae: 0.428 - ETA: 11:35 - loss: 0.2667 - custom_mae: 0.428 - ETA: 11:33 - loss: 0.2667 - custom_mae: 0.427 - ETA: 11:31 - loss: 0.2667 - custom_mae: 0.427 - ETA: 11:29 - loss: 0.2666 - custom_mae: 0.427 - ETA: 11:27 - loss: 0.2666 - custom_mae: 0.427 - ETA: 11:25 - loss: 0.2666 - custom_mae: 0.427 - ETA: 11:23 - loss: 0.2665 - custom_mae: 0.4278"
     ]
    },
    {
     "name": "stdout",
     "output_type": "stream",
     "text": [
      "2353/2500 [===========================>..] - ETA: 11:21 - loss: 0.2665 - custom_mae: 0.427 - ETA: 11:18 - loss: 0.2665 - custom_mae: 0.427 - ETA: 11:16 - loss: 0.2664 - custom_mae: 0.427 - ETA: 11:14 - loss: 0.2664 - custom_mae: 0.427 - ETA: 11:12 - loss: 0.2664 - custom_mae: 0.427 - ETA: 11:10 - loss: 0.2663 - custom_mae: 0.427 - ETA: 11:08 - loss: 0.2663 - custom_mae: 0.427 - ETA: 11:06 - loss: 0.2663 - custom_mae: 0.427 - ETA: 11:04 - loss: 0.2663 - custom_mae: 0.427 - ETA: 11:02 - loss: 0.2663 - custom_mae: 0.427 - ETA: 10:59 - loss: 0.2663 - custom_mae: 0.427 - ETA: 10:57 - loss: 0.2663 - custom_mae: 0.427 - ETA: 10:55 - loss: 0.2663 - custom_mae: 0.427 - ETA: 10:53 - loss: 0.2662 - custom_mae: 0.427 - ETA: 10:51 - loss: 0.2662 - custom_mae: 0.427 - ETA: 10:49 - loss: 0.2662 - custom_mae: 0.427 - ETA: 10:47 - loss: 0.2661 - custom_mae: 0.427 - ETA: 10:45 - loss: 0.2661 - custom_mae: 0.427 - ETA: 10:42 - loss: 0.2661 - custom_mae: 0.427 - ETA: 10:40 - loss: 0.2661 - custom_mae: 0.427 - ETA: 10:38 - loss: 0.2661 - custom_mae: 0.427 - ETA: 10:36 - loss: 0.2661 - custom_mae: 0.427 - ETA: 10:34 - loss: 0.2660 - custom_mae: 0.427 - ETA: 10:32 - loss: 0.2660 - custom_mae: 0.427 - ETA: 10:30 - loss: 0.2660 - custom_mae: 0.427 - ETA: 10:28 - loss: 0.2660 - custom_mae: 0.427 - ETA: 10:26 - loss: 0.2660 - custom_mae: 0.427 - ETA: 10:23 - loss: 0.2659 - custom_mae: 0.427 - ETA: 10:21 - loss: 0.2659 - custom_mae: 0.427 - ETA: 10:19 - loss: 0.2659 - custom_mae: 0.427 - ETA: 10:17 - loss: 0.2658 - custom_mae: 0.427 - ETA: 10:15 - loss: 0.2658 - custom_mae: 0.427 - ETA: 10:13 - loss: 0.2658 - custom_mae: 0.426 - ETA: 10:11 - loss: 0.2657 - custom_mae: 0.426 - ETA: 10:09 - loss: 0.2657 - custom_mae: 0.426 - ETA: 10:07 - loss: 0.2657 - custom_mae: 0.426 - ETA: 10:04 - loss: 0.2657 - custom_mae: 0.426 - ETA: 10:02 - loss: 0.2656 - custom_mae: 0.426 - ETA: 10:00 - loss: 0.2656 - custom_mae: 0.426 - ETA: 9:58 - loss: 0.2656 - custom_mae: 0.426 - ETA: 9:56 - loss: 0.2656 - custom_mae: 0.42 - ETA: 9:54 - loss: 0.2656 - custom_mae: 0.42 - ETA: 9:52 - loss: 0.2655 - custom_mae: 0.42 - ETA: 9:50 - loss: 0.2655 - custom_mae: 0.42 - ETA: 9:47 - loss: 0.2655 - custom_mae: 0.42 - ETA: 9:45 - loss: 0.2654 - custom_mae: 0.42 - ETA: 9:43 - loss: 0.2654 - custom_mae: 0.42 - ETA: 9:41 - loss: 0.2654 - custom_mae: 0.42 - ETA: 9:39 - loss: 0.2654 - custom_mae: 0.42 - ETA: 9:37 - loss: 0.2653 - custom_mae: 0.42 - ETA: 9:35 - loss: 0.2653 - custom_mae: 0.42 - ETA: 9:33 - loss: 0.2653 - custom_mae: 0.42 - ETA: 9:31 - loss: 0.2653 - custom_mae: 0.42 - ETA: 9:28 - loss: 0.2653 - custom_mae: 0.42 - ETA: 9:26 - loss: 0.2652 - custom_mae: 0.42 - ETA: 9:24 - loss: 0.2652 - custom_mae: 0.42 - ETA: 9:22 - loss: 0.2652 - custom_mae: 0.42 - ETA: 9:20 - loss: 0.2652 - custom_mae: 0.42 - ETA: 9:18 - loss: 0.2652 - custom_mae: 0.42 - ETA: 9:16 - loss: 0.2652 - custom_mae: 0.42 - ETA: 9:14 - loss: 0.2652 - custom_mae: 0.42 - ETA: 9:12 - loss: 0.2651 - custom_mae: 0.42 - ETA: 9:09 - loss: 0.2651 - custom_mae: 0.42 - ETA: 9:07 - loss: 0.2651 - custom_mae: 0.42 - ETA: 9:05 - loss: 0.2651 - custom_mae: 0.42 - ETA: 9:03 - loss: 0.2651 - custom_mae: 0.42 - ETA: 9:01 - loss: 0.2651 - custom_mae: 0.42 - ETA: 8:59 - loss: 0.2651 - custom_mae: 0.42 - ETA: 8:57 - loss: 0.2650 - custom_mae: 0.42 - ETA: 8:55 - loss: 0.2650 - custom_mae: 0.42 - ETA: 8:52 - loss: 0.2650 - custom_mae: 0.42 - ETA: 8:50 - loss: 0.2650 - custom_mae: 0.42 - ETA: 8:48 - loss: 0.2650 - custom_mae: 0.42 - ETA: 8:46 - loss: 0.2650 - custom_mae: 0.42 - ETA: 8:44 - loss: 0.2650 - custom_mae: 0.42 - ETA: 8:42 - loss: 0.2650 - custom_mae: 0.42 - ETA: 8:40 - loss: 0.2650 - custom_mae: 0.42 - ETA: 8:38 - loss: 0.2650 - custom_mae: 0.42 - ETA: 8:36 - loss: 0.2649 - custom_mae: 0.42 - ETA: 8:33 - loss: 0.2649 - custom_mae: 0.42 - ETA: 8:31 - loss: 0.2649 - custom_mae: 0.42 - ETA: 8:29 - loss: 0.2649 - custom_mae: 0.42 - ETA: 8:27 - loss: 0.2648 - custom_mae: 0.42 - ETA: 8:25 - loss: 0.2648 - custom_mae: 0.42 - ETA: 8:23 - loss: 0.2648 - custom_mae: 0.42 - ETA: 8:21 - loss: 0.2647 - custom_mae: 0.42 - ETA: 8:19 - loss: 0.2647 - custom_mae: 0.42 - ETA: 8:17 - loss: 0.2646 - custom_mae: 0.42 - ETA: 8:14 - loss: 0.2646 - custom_mae: 0.42 - ETA: 8:12 - loss: 0.2646 - custom_mae: 0.42 - ETA: 8:10 - loss: 0.2646 - custom_mae: 0.42 - ETA: 8:08 - loss: 0.2646 - custom_mae: 0.42 - ETA: 8:06 - loss: 0.2646 - custom_mae: 0.42 - ETA: 8:04 - loss: 0.2645 - custom_mae: 0.42 - ETA: 8:02 - loss: 0.2645 - custom_mae: 0.42 - ETA: 8:00 - loss: 0.2645 - custom_mae: 0.42 - ETA: 7:57 - loss: 0.2644 - custom_mae: 0.42 - ETA: 7:55 - loss: 0.2644 - custom_mae: 0.42 - ETA: 7:53 - loss: 0.2644 - custom_mae: 0.42 - ETA: 7:51 - loss: 0.2643 - custom_mae: 0.42 - ETA: 7:49 - loss: 0.2643 - custom_mae: 0.42 - ETA: 7:47 - loss: 0.2643 - custom_mae: 0.42 - ETA: 7:45 - loss: 0.2643 - custom_mae: 0.42 - ETA: 7:43 - loss: 0.2642 - custom_mae: 0.42 - ETA: 7:41 - loss: 0.2642 - custom_mae: 0.42 - ETA: 7:38 - loss: 0.2642 - custom_mae: 0.42 - ETA: 7:36 - loss: 0.2642 - custom_mae: 0.42 - ETA: 7:34 - loss: 0.2642 - custom_mae: 0.42 - ETA: 7:32 - loss: 0.2642 - custom_mae: 0.42 - ETA: 7:30 - loss: 0.2641 - custom_mae: 0.42 - ETA: 7:28 - loss: 0.2641 - custom_mae: 0.42 - ETA: 7:26 - loss: 0.2641 - custom_mae: 0.42 - ETA: 7:24 - loss: 0.2640 - custom_mae: 0.42 - ETA: 7:22 - loss: 0.2640 - custom_mae: 0.42 - ETA: 7:19 - loss: 0.2640 - custom_mae: 0.42 - ETA: 7:17 - loss: 0.2640 - custom_mae: 0.42 - ETA: 7:15 - loss: 0.2640 - custom_mae: 0.42 - ETA: 7:13 - loss: 0.2639 - custom_mae: 0.42 - ETA: 7:11 - loss: 0.2639 - custom_mae: 0.42 - ETA: 7:09 - loss: 0.2638 - custom_mae: 0.42 - ETA: 7:07 - loss: 0.2638 - custom_mae: 0.42 - ETA: 7:05 - loss: 0.2638 - custom_mae: 0.42 - ETA: 7:02 - loss: 0.2638 - custom_mae: 0.42 - ETA: 7:00 - loss: 0.2637 - custom_mae: 0.42 - ETA: 6:58 - loss: 0.2637 - custom_mae: 0.42 - ETA: 6:56 - loss: 0.2637 - custom_mae: 0.42 - ETA: 6:54 - loss: 0.2637 - custom_mae: 0.42 - ETA: 6:52 - loss: 0.2636 - custom_mae: 0.42 - ETA: 6:50 - loss: 0.2636 - custom_mae: 0.42 - ETA: 6:48 - loss: 0.2635 - custom_mae: 0.42 - ETA: 6:46 - loss: 0.2635 - custom_mae: 0.42 - ETA: 6:43 - loss: 0.2635 - custom_mae: 0.42 - ETA: 6:41 - loss: 0.2635 - custom_mae: 0.42 - ETA: 6:39 - loss: 0.2634 - custom_mae: 0.42 - ETA: 6:37 - loss: 0.2634 - custom_mae: 0.42 - ETA: 6:35 - loss: 0.2634 - custom_mae: 0.42 - ETA: 6:33 - loss: 0.2634 - custom_mae: 0.42 - ETA: 6:31 - loss: 0.2634 - custom_mae: 0.42 - ETA: 6:29 - loss: 0.2633 - custom_mae: 0.42 - ETA: 6:27 - loss: 0.2633 - custom_mae: 0.42 - ETA: 6:24 - loss: 0.2633 - custom_mae: 0.42 - ETA: 6:22 - loss: 0.2633 - custom_mae: 0.42 - ETA: 6:20 - loss: 0.2632 - custom_mae: 0.42 - ETA: 6:18 - loss: 0.2632 - custom_mae: 0.42 - ETA: 6:16 - loss: 0.2632 - custom_mae: 0.42 - ETA: 6:14 - loss: 0.2632 - custom_mae: 0.42 - ETA: 6:12 - loss: 0.2631 - custom_mae: 0.42 - ETA: 6:10 - loss: 0.2631 - custom_mae: 0.42 - ETA: 6:08 - loss: 0.2631 - custom_mae: 0.42 - ETA: 6:05 - loss: 0.2631 - custom_mae: 0.42 - ETA: 6:03 - loss: 0.2631 - custom_mae: 0.42 - ETA: 6:01 - loss: 0.2631 - custom_mae: 0.42 - ETA: 5:59 - loss: 0.2631 - custom_mae: 0.42 - ETA: 5:57 - loss: 0.2630 - custom_mae: 0.42 - ETA: 5:55 - loss: 0.2630 - custom_mae: 0.42 - ETA: 5:53 - loss: 0.2630 - custom_mae: 0.42 - ETA: 5:51 - loss: 0.2629 - custom_mae: 0.42 - ETA: 5:48 - loss: 0.2629 - custom_mae: 0.42 - ETA: 5:46 - loss: 0.2629 - custom_mae: 0.42 - ETA: 5:44 - loss: 0.2628 - custom_mae: 0.42 - ETA: 5:42 - loss: 0.2628 - custom_mae: 0.42 - ETA: 5:40 - loss: 0.2628 - custom_mae: 0.42 - ETA: 5:38 - loss: 0.2627 - custom_mae: 0.42 - ETA: 5:36 - loss: 0.2627 - custom_mae: 0.42 - ETA: 5:34 - loss: 0.2626 - custom_mae: 0.42 - ETA: 5:32 - loss: 0.2626 - custom_mae: 0.42 - ETA: 5:29 - loss: 0.2626 - custom_mae: 0.42 - ETA: 5:27 - loss: 0.2626 - custom_mae: 0.42 - ETA: 5:25 - loss: 0.2626 - custom_mae: 0.42 - ETA: 5:23 - loss: 0.2625 - custom_mae: 0.42 - ETA: 5:21 - loss: 0.2625 - custom_mae: 0.42 - ETA: 5:19 - loss: 0.2625 - custom_mae: 0.42 - ETA: 5:17 - loss: 0.2624 - custom_mae: 0.42 - ETA: 5:15 - loss: 0.2624 - custom_mae: 0.42 - ETA: 5:13 - loss: 0.2624 - custom_mae: 0.42 - ETA: 5:10 - loss: 0.2624 - custom_mae: 0.4234"
     ]
    },
    {
     "name": "stdout",
     "output_type": "stream",
     "text": [
      "2500/2500 [==============================] - ETA: 5:08 - loss: 0.2624 - custom_mae: 0.42 - ETA: 5:06 - loss: 0.2623 - custom_mae: 0.42 - ETA: 5:04 - loss: 0.2623 - custom_mae: 0.42 - ETA: 5:02 - loss: 0.2623 - custom_mae: 0.42 - ETA: 5:00 - loss: 0.2623 - custom_mae: 0.42 - ETA: 4:58 - loss: 0.2622 - custom_mae: 0.42 - ETA: 4:56 - loss: 0.2622 - custom_mae: 0.42 - ETA: 4:53 - loss: 0.2622 - custom_mae: 0.42 - ETA: 4:51 - loss: 0.2622 - custom_mae: 0.42 - ETA: 4:49 - loss: 0.2622 - custom_mae: 0.42 - ETA: 4:47 - loss: 0.2621 - custom_mae: 0.42 - ETA: 4:45 - loss: 0.2621 - custom_mae: 0.42 - ETA: 4:43 - loss: 0.2621 - custom_mae: 0.42 - ETA: 4:41 - loss: 0.2620 - custom_mae: 0.42 - ETA: 4:39 - loss: 0.2620 - custom_mae: 0.42 - ETA: 4:37 - loss: 0.2620 - custom_mae: 0.42 - ETA: 4:34 - loss: 0.2620 - custom_mae: 0.42 - ETA: 4:32 - loss: 0.2620 - custom_mae: 0.42 - ETA: 4:30 - loss: 0.2620 - custom_mae: 0.42 - ETA: 4:28 - loss: 0.2619 - custom_mae: 0.42 - ETA: 4:26 - loss: 0.2619 - custom_mae: 0.42 - ETA: 4:24 - loss: 0.2619 - custom_mae: 0.42 - ETA: 4:22 - loss: 0.2619 - custom_mae: 0.42 - ETA: 4:20 - loss: 0.2619 - custom_mae: 0.42 - ETA: 4:18 - loss: 0.2618 - custom_mae: 0.42 - ETA: 4:15 - loss: 0.2618 - custom_mae: 0.42 - ETA: 4:13 - loss: 0.2618 - custom_mae: 0.42 - ETA: 4:11 - loss: 0.2618 - custom_mae: 0.42 - ETA: 4:09 - loss: 0.2617 - custom_mae: 0.42 - ETA: 4:07 - loss: 0.2617 - custom_mae: 0.42 - ETA: 4:05 - loss: 0.2617 - custom_mae: 0.42 - ETA: 4:03 - loss: 0.2617 - custom_mae: 0.42 - ETA: 4:01 - loss: 0.2617 - custom_mae: 0.42 - ETA: 3:58 - loss: 0.2616 - custom_mae: 0.42 - ETA: 3:56 - loss: 0.2616 - custom_mae: 0.42 - ETA: 3:54 - loss: 0.2616 - custom_mae: 0.42 - ETA: 3:52 - loss: 0.2616 - custom_mae: 0.42 - ETA: 3:50 - loss: 0.2615 - custom_mae: 0.42 - ETA: 3:48 - loss: 0.2615 - custom_mae: 0.42 - ETA: 3:46 - loss: 0.2615 - custom_mae: 0.42 - ETA: 3:44 - loss: 0.2615 - custom_mae: 0.42 - ETA: 3:42 - loss: 0.2614 - custom_mae: 0.42 - ETA: 3:39 - loss: 0.2614 - custom_mae: 0.42 - ETA: 3:37 - loss: 0.2614 - custom_mae: 0.42 - ETA: 3:35 - loss: 0.2613 - custom_mae: 0.42 - ETA: 3:33 - loss: 0.2614 - custom_mae: 0.42 - ETA: 3:31 - loss: 0.2613 - custom_mae: 0.42 - ETA: 3:29 - loss: 0.2613 - custom_mae: 0.42 - ETA: 3:27 - loss: 0.2613 - custom_mae: 0.42 - ETA: 3:25 - loss: 0.2613 - custom_mae: 0.42 - ETA: 3:23 - loss: 0.2612 - custom_mae: 0.42 - ETA: 3:20 - loss: 0.2612 - custom_mae: 0.42 - ETA: 3:18 - loss: 0.2612 - custom_mae: 0.42 - ETA: 3:16 - loss: 0.2612 - custom_mae: 0.42 - ETA: 3:14 - loss: 0.2611 - custom_mae: 0.42 - ETA: 3:12 - loss: 0.2612 - custom_mae: 0.42 - ETA: 3:10 - loss: 0.2612 - custom_mae: 0.42 - ETA: 3:08 - loss: 0.2612 - custom_mae: 0.42 - ETA: 3:06 - loss: 0.2611 - custom_mae: 0.42 - ETA: 3:03 - loss: 0.2611 - custom_mae: 0.42 - ETA: 3:01 - loss: 0.2610 - custom_mae: 0.42 - ETA: 2:59 - loss: 0.2610 - custom_mae: 0.42 - ETA: 2:57 - loss: 0.2610 - custom_mae: 0.42 - ETA: 2:55 - loss: 0.2610 - custom_mae: 0.42 - ETA: 2:53 - loss: 0.2610 - custom_mae: 0.42 - ETA: 2:51 - loss: 0.2610 - custom_mae: 0.42 - ETA: 2:49 - loss: 0.2610 - custom_mae: 0.42 - ETA: 2:47 - loss: 0.2609 - custom_mae: 0.42 - ETA: 2:44 - loss: 0.2609 - custom_mae: 0.42 - ETA: 2:42 - loss: 0.2609 - custom_mae: 0.42 - ETA: 2:40 - loss: 0.2609 - custom_mae: 0.42 - ETA: 2:38 - loss: 0.2609 - custom_mae: 0.42 - ETA: 2:36 - loss: 0.2609 - custom_mae: 0.42 - ETA: 2:34 - loss: 0.2608 - custom_mae: 0.42 - ETA: 2:32 - loss: 0.2608 - custom_mae: 0.42 - ETA: 2:30 - loss: 0.2608 - custom_mae: 0.42 - ETA: 2:28 - loss: 0.2608 - custom_mae: 0.42 - ETA: 2:25 - loss: 0.2607 - custom_mae: 0.42 - ETA: 2:23 - loss: 0.2607 - custom_mae: 0.42 - ETA: 2:21 - loss: 0.2607 - custom_mae: 0.42 - ETA: 2:19 - loss: 0.2607 - custom_mae: 0.42 - ETA: 2:17 - loss: 0.2606 - custom_mae: 0.42 - ETA: 2:15 - loss: 0.2606 - custom_mae: 0.42 - ETA: 2:13 - loss: 0.2606 - custom_mae: 0.42 - ETA: 2:11 - loss: 0.2606 - custom_mae: 0.42 - ETA: 2:09 - loss: 0.2606 - custom_mae: 0.42 - ETA: 2:06 - loss: 0.2605 - custom_mae: 0.42 - ETA: 2:04 - loss: 0.2605 - custom_mae: 0.42 - ETA: 2:02 - loss: 0.2605 - custom_mae: 0.42 - ETA: 2:00 - loss: 0.2604 - custom_mae: 0.42 - ETA: 1:58 - loss: 0.2604 - custom_mae: 0.42 - ETA: 1:56 - loss: 0.2604 - custom_mae: 0.42 - ETA: 1:54 - loss: 0.2604 - custom_mae: 0.42 - ETA: 1:52 - loss: 0.2604 - custom_mae: 0.42 - ETA: 1:49 - loss: 0.2603 - custom_mae: 0.42 - ETA: 1:47 - loss: 0.2603 - custom_mae: 0.42 - ETA: 1:45 - loss: 0.2603 - custom_mae: 0.42 - ETA: 1:43 - loss: 0.2602 - custom_mae: 0.42 - ETA: 1:41 - loss: 0.2602 - custom_mae: 0.42 - ETA: 1:39 - loss: 0.2602 - custom_mae: 0.42 - ETA: 1:37 - loss: 0.2602 - custom_mae: 0.42 - ETA: 1:35 - loss: 0.2602 - custom_mae: 0.42 - ETA: 1:33 - loss: 0.2602 - custom_mae: 0.42 - ETA: 1:30 - loss: 0.2602 - custom_mae: 0.42 - ETA: 1:28 - loss: 0.2601 - custom_mae: 0.42 - ETA: 1:26 - loss: 0.2601 - custom_mae: 0.42 - ETA: 1:24 - loss: 0.2601 - custom_mae: 0.42 - ETA: 1:22 - loss: 0.2601 - custom_mae: 0.42 - ETA: 1:20 - loss: 0.2601 - custom_mae: 0.42 - ETA: 1:18 - loss: 0.2601 - custom_mae: 0.42 - ETA: 1:16 - loss: 0.2601 - custom_mae: 0.42 - ETA: 1:14 - loss: 0.2600 - custom_mae: 0.42 - ETA: 1:11 - loss: 0.2600 - custom_mae: 0.42 - ETA: 1:09 - loss: 0.2600 - custom_mae: 0.42 - ETA: 1:07 - loss: 0.2600 - custom_mae: 0.42 - ETA: 1:05 - loss: 0.2599 - custom_mae: 0.42 - ETA: 1:03 - loss: 0.2599 - custom_mae: 0.42 - ETA: 1:01 - loss: 0.2599 - custom_mae: 0.42 - ETA: 59s - loss: 0.2598 - custom_mae: 0.4207 - ETA: 57s - loss: 0.2598 - custom_mae: 0.420 - ETA: 54s - loss: 0.2598 - custom_mae: 0.420 - ETA: 52s - loss: 0.2598 - custom_mae: 0.420 - ETA: 50s - loss: 0.2598 - custom_mae: 0.420 - ETA: 48s - loss: 0.2597 - custom_mae: 0.420 - ETA: 46s - loss: 0.2597 - custom_mae: 0.420 - ETA: 44s - loss: 0.2597 - custom_mae: 0.420 - ETA: 42s - loss: 0.2597 - custom_mae: 0.420 - ETA: 40s - loss: 0.2596 - custom_mae: 0.420 - ETA: 38s - loss: 0.2596 - custom_mae: 0.420 - ETA: 35s - loss: 0.2596 - custom_mae: 0.420 - ETA: 33s - loss: 0.2595 - custom_mae: 0.420 - ETA: 31s - loss: 0.2595 - custom_mae: 0.420 - ETA: 29s - loss: 0.2595 - custom_mae: 0.420 - ETA: 27s - loss: 0.2595 - custom_mae: 0.420 - ETA: 25s - loss: 0.2595 - custom_mae: 0.420 - ETA: 23s - loss: 0.2594 - custom_mae: 0.420 - ETA: 21s - loss: 0.2594 - custom_mae: 0.420 - ETA: 19s - loss: 0.2594 - custom_mae: 0.420 - ETA: 16s - loss: 0.2593 - custom_mae: 0.420 - ETA: 14s - loss: 0.2593 - custom_mae: 0.420 - ETA: 12s - loss: 0.2593 - custom_mae: 0.420 - ETA: 10s - loss: 0.2593 - custom_mae: 0.420 - ETA: 8s - loss: 0.2593 - custom_mae: 0.420 - ETA: 6s - loss: 0.2593 - custom_mae: 0.42 - ETA: 4s - loss: 0.2593 - custom_mae: 0.42 - ETA: 2s - loss: 0.2592 - custom_mae: 0.42 - ETA: 0s - loss: 0.2592 - custom_mae: 0.4200\n",
      "Epoch 00001: val_custom_mae improved from inf to 0.33864, saving model to ..\\fast_output\\SYNTH_Regression_MSE\\2020-05-28_Normalized_Top_1_Custom-MAE\\Synth_TD\\CNN_Base_4_Model_and_Weights_80000.hdf5\n",
      "2500/2500 [==============================] - 6184s 2s/step - loss: 0.2592 - custom_mae: 0.4200 - val_loss: 0.1864 - val_custom_mae: 0.3386\n",
      "Epoch 2/400\n"
     ]
    },
    {
     "name": "stdout",
     "output_type": "stream",
     "text": [
      " 164/2500 [>.............................] - ETA: 0s - loss: 0.1694 - custom_mae: 0.32 - ETA: 43:42 - loss: 0.1796 - custom_mae: 0.334 - ETA: 58:09 - loss: 0.1987 - custom_mae: 0.358 - ETA: 1:05:28 - loss: 0.1982 - custom_mae: 0.360 - ETA: 1:09:40 - loss: 0.1879 - custom_mae: 0.344 - ETA: 1:12:35 - loss: 0.1930 - custom_mae: 0.351 - ETA: 1:14:46 - loss: 0.2003 - custom_mae: 0.356 - ETA: 1:16:20 - loss: 0.1986 - custom_mae: 0.356 - ETA: 1:17:31 - loss: 0.1961 - custom_mae: 0.355 - ETA: 1:18:28 - loss: 0.1918 - custom_mae: 0.351 - ETA: 1:19:14 - loss: 0.1893 - custom_mae: 0.350 - ETA: 1:19:48 - loss: 0.1855 - custom_mae: 0.346 - ETA: 1:20:20 - loss: 0.1832 - custom_mae: 0.344 - ETA: 1:20:47 - loss: 0.1866 - custom_mae: 0.348 - ETA: 1:21:10 - loss: 0.1880 - custom_mae: 0.350 - ETA: 1:21:29 - loss: 0.1902 - custom_mae: 0.351 - ETA: 1:21:46 - loss: 0.1924 - custom_mae: 0.354 - ETA: 1:22:00 - loss: 0.1992 - custom_mae: 0.360 - ETA: 1:22:13 - loss: 0.2003 - custom_mae: 0.361 - ETA: 1:22:25 - loss: 0.2004 - custom_mae: 0.360 - ETA: 1:22:37 - loss: 0.2024 - custom_mae: 0.363 - ETA: 1:22:46 - loss: 0.1989 - custom_mae: 0.358 - ETA: 1:22:52 - loss: 0.1979 - custom_mae: 0.356 - ETA: 1:22:59 - loss: 0.2028 - custom_mae: 0.362 - ETA: 1:23:04 - loss: 0.2030 - custom_mae: 0.362 - ETA: 1:23:09 - loss: 0.2026 - custom_mae: 0.360 - ETA: 1:23:13 - loss: 0.2038 - custom_mae: 0.362 - ETA: 1:23:19 - loss: 0.2053 - custom_mae: 0.363 - ETA: 1:23:24 - loss: 0.2051 - custom_mae: 0.363 - ETA: 1:23:28 - loss: 0.2046 - custom_mae: 0.363 - ETA: 1:23:31 - loss: 0.2036 - custom_mae: 0.362 - ETA: 1:23:33 - loss: 0.2031 - custom_mae: 0.362 - ETA: 1:23:36 - loss: 0.2051 - custom_mae: 0.364 - ETA: 1:23:38 - loss: 0.2057 - custom_mae: 0.364 - ETA: 1:23:40 - loss: 0.2070 - custom_mae: 0.365 - ETA: 1:23:40 - loss: 0.2057 - custom_mae: 0.363 - ETA: 1:23:41 - loss: 0.2051 - custom_mae: 0.363 - ETA: 1:23:42 - loss: 0.2065 - custom_mae: 0.364 - ETA: 1:23:42 - loss: 0.2062 - custom_mae: 0.364 - ETA: 1:23:43 - loss: 0.2067 - custom_mae: 0.365 - ETA: 1:23:45 - loss: 0.2074 - custom_mae: 0.365 - ETA: 1:23:46 - loss: 0.2076 - custom_mae: 0.366 - ETA: 1:23:46 - loss: 0.2082 - custom_mae: 0.366 - ETA: 1:23:46 - loss: 0.2083 - custom_mae: 0.366 - ETA: 1:23:47 - loss: 0.2079 - custom_mae: 0.365 - ETA: 1:23:47 - loss: 0.2079 - custom_mae: 0.366 - ETA: 1:23:46 - loss: 0.2078 - custom_mae: 0.366 - ETA: 1:23:46 - loss: 0.2074 - custom_mae: 0.365 - ETA: 1:23:46 - loss: 0.2080 - custom_mae: 0.366 - ETA: 1:23:47 - loss: 0.2072 - custom_mae: 0.365 - ETA: 1:23:45 - loss: 0.2073 - custom_mae: 0.365 - ETA: 1:23:46 - loss: 0.2072 - custom_mae: 0.365 - ETA: 1:23:45 - loss: 0.2060 - custom_mae: 0.364 - ETA: 1:23:46 - loss: 0.2049 - custom_mae: 0.363 - ETA: 1:23:45 - loss: 0.2059 - custom_mae: 0.364 - ETA: 1:23:45 - loss: 0.2058 - custom_mae: 0.364 - ETA: 1:23:44 - loss: 0.2049 - custom_mae: 0.363 - ETA: 1:23:44 - loss: 0.2060 - custom_mae: 0.364 - ETA: 1:23:43 - loss: 0.2057 - custom_mae: 0.364 - ETA: 1:23:42 - loss: 0.2069 - custom_mae: 0.365 - ETA: 1:23:41 - loss: 0.2066 - custom_mae: 0.364 - ETA: 1:23:40 - loss: 0.2065 - custom_mae: 0.364 - ETA: 1:23:40 - loss: 0.2056 - custom_mae: 0.364 - ETA: 1:23:39 - loss: 0.2063 - custom_mae: 0.364 - ETA: 1:23:38 - loss: 0.2062 - custom_mae: 0.364 - ETA: 1:23:38 - loss: 0.2058 - custom_mae: 0.363 - ETA: 1:23:37 - loss: 0.2059 - custom_mae: 0.363 - ETA: 1:23:36 - loss: 0.2062 - custom_mae: 0.364 - ETA: 1:23:35 - loss: 0.2065 - custom_mae: 0.364 - ETA: 1:23:34 - loss: 0.2061 - custom_mae: 0.364 - ETA: 1:23:32 - loss: 0.2057 - custom_mae: 0.363 - ETA: 1:23:32 - loss: 0.2054 - custom_mae: 0.363 - ETA: 1:23:31 - loss: 0.2053 - custom_mae: 0.363 - ETA: 1:23:30 - loss: 0.2052 - custom_mae: 0.363 - ETA: 1:23:29 - loss: 0.2053 - custom_mae: 0.363 - ETA: 1:23:28 - loss: 0.2046 - custom_mae: 0.362 - ETA: 1:23:26 - loss: 0.2047 - custom_mae: 0.363 - ETA: 1:23:26 - loss: 0.2050 - custom_mae: 0.363 - ETA: 1:23:25 - loss: 0.2051 - custom_mae: 0.363 - ETA: 1:23:23 - loss: 0.2055 - custom_mae: 0.363 - ETA: 1:23:22 - loss: 0.2057 - custom_mae: 0.363 - ETA: 1:23:20 - loss: 0.2055 - custom_mae: 0.363 - ETA: 1:23:18 - loss: 0.2052 - custom_mae: 0.363 - ETA: 1:23:17 - loss: 0.2045 - custom_mae: 0.362 - ETA: 1:23:16 - loss: 0.2040 - custom_mae: 0.361 - ETA: 1:23:14 - loss: 0.2040 - custom_mae: 0.361 - ETA: 1:23:13 - loss: 0.2040 - custom_mae: 0.361 - ETA: 1:23:11 - loss: 0.2041 - custom_mae: 0.361 - ETA: 1:23:10 - loss: 0.2041 - custom_mae: 0.361 - ETA: 1:23:08 - loss: 0.2038 - custom_mae: 0.361 - ETA: 1:23:06 - loss: 0.2033 - custom_mae: 0.361 - ETA: 1:23:05 - loss: 0.2032 - custom_mae: 0.360 - ETA: 1:23:03 - loss: 0.2032 - custom_mae: 0.360 - ETA: 1:23:02 - loss: 0.2030 - custom_mae: 0.360 - ETA: 1:23:01 - loss: 0.2027 - custom_mae: 0.360 - ETA: 1:22:59 - loss: 0.2024 - custom_mae: 0.359 - ETA: 1:22:57 - loss: 0.2025 - custom_mae: 0.360 - ETA: 1:22:55 - loss: 0.2025 - custom_mae: 0.360 - ETA: 1:22:54 - loss: 0.2021 - custom_mae: 0.359 - ETA: 1:22:52 - loss: 0.2017 - custom_mae: 0.359 - ETA: 1:22:50 - loss: 0.2019 - custom_mae: 0.359 - ETA: 1:22:49 - loss: 0.2016 - custom_mae: 0.359 - ETA: 1:22:47 - loss: 0.2021 - custom_mae: 0.359 - ETA: 1:22:46 - loss: 0.2020 - custom_mae: 0.359 - ETA: 1:22:43 - loss: 0.2017 - custom_mae: 0.359 - ETA: 1:22:42 - loss: 0.2020 - custom_mae: 0.360 - ETA: 1:22:40 - loss: 0.2019 - custom_mae: 0.359 - ETA: 1:22:38 - loss: 0.2018 - custom_mae: 0.359 - ETA: 1:22:36 - loss: 0.2016 - custom_mae: 0.359 - ETA: 1:22:34 - loss: 0.2015 - custom_mae: 0.359 - ETA: 1:22:33 - loss: 0.2016 - custom_mae: 0.359 - ETA: 1:22:31 - loss: 0.2017 - custom_mae: 0.359 - ETA: 1:22:29 - loss: 0.2017 - custom_mae: 0.359 - ETA: 1:22:27 - loss: 0.2016 - custom_mae: 0.359 - ETA: 1:22:26 - loss: 0.2010 - custom_mae: 0.358 - ETA: 1:22:24 - loss: 0.2008 - custom_mae: 0.358 - ETA: 1:22:23 - loss: 0.2003 - custom_mae: 0.358 - ETA: 1:22:21 - loss: 0.2002 - custom_mae: 0.357 - ETA: 1:22:19 - loss: 0.2003 - custom_mae: 0.357 - ETA: 1:22:17 - loss: 0.1999 - custom_mae: 0.357 - ETA: 1:22:16 - loss: 0.2000 - custom_mae: 0.357 - ETA: 1:22:15 - loss: 0.2000 - custom_mae: 0.357 - ETA: 1:22:13 - loss: 0.2001 - custom_mae: 0.357 - ETA: 1:22:11 - loss: 0.2001 - custom_mae: 0.357 - ETA: 1:22:10 - loss: 0.2001 - custom_mae: 0.357 - ETA: 1:22:08 - loss: 0.2005 - custom_mae: 0.357 - ETA: 1:22:06 - loss: 0.2006 - custom_mae: 0.357 - ETA: 1:22:04 - loss: 0.2006 - custom_mae: 0.358 - ETA: 1:22:02 - loss: 0.2004 - custom_mae: 0.357 - ETA: 1:22:00 - loss: 0.2004 - custom_mae: 0.357 - ETA: 1:21:59 - loss: 0.1999 - custom_mae: 0.357 - ETA: 1:21:56 - loss: 0.1998 - custom_mae: 0.357 - ETA: 1:21:55 - loss: 0.2000 - custom_mae: 0.357 - ETA: 1:21:53 - loss: 0.2001 - custom_mae: 0.357 - ETA: 1:21:51 - loss: 0.2000 - custom_mae: 0.357 - ETA: 1:21:49 - loss: 0.1998 - custom_mae: 0.356 - ETA: 1:21:47 - loss: 0.1998 - custom_mae: 0.356 - ETA: 1:21:44 - loss: 0.1998 - custom_mae: 0.356 - ETA: 1:21:42 - loss: 0.1998 - custom_mae: 0.356 - ETA: 1:21:41 - loss: 0.1998 - custom_mae: 0.356 - ETA: 1:21:39 - loss: 0.1998 - custom_mae: 0.356 - ETA: 1:21:37 - loss: 0.1995 - custom_mae: 0.356 - ETA: 1:21:35 - loss: 0.1997 - custom_mae: 0.356 - ETA: 1:21:33 - loss: 0.1998 - custom_mae: 0.356 - ETA: 1:21:31 - loss: 0.1994 - custom_mae: 0.356 - ETA: 1:21:30 - loss: 0.1993 - custom_mae: 0.356 - ETA: 1:21:28 - loss: 0.1994 - custom_mae: 0.356 - ETA: 1:21:26 - loss: 0.1993 - custom_mae: 0.356 - ETA: 1:21:24 - loss: 0.1991 - custom_mae: 0.356 - ETA: 1:21:23 - loss: 0.1990 - custom_mae: 0.356 - ETA: 1:21:21 - loss: 0.1986 - custom_mae: 0.355 - ETA: 1:21:19 - loss: 0.1989 - custom_mae: 0.355 - ETA: 1:21:18 - loss: 0.1987 - custom_mae: 0.355 - ETA: 1:21:16 - loss: 0.1984 - custom_mae: 0.355 - ETA: 1:21:14 - loss: 0.1982 - custom_mae: 0.354 - ETA: 1:21:12 - loss: 0.1983 - custom_mae: 0.354 - ETA: 1:21:10 - loss: 0.1980 - custom_mae: 0.354 - ETA: 1:21:09 - loss: 0.1981 - custom_mae: 0.354 - ETA: 1:21:07 - loss: 0.1984 - custom_mae: 0.355 - ETA: 1:21:05 - loss: 0.1984 - custom_mae: 0.355 - ETA: 1:21:03 - loss: 0.1982 - custom_mae: 0.355 - ETA: 1:21:01 - loss: 0.1981 - custom_mae: 0.355 - ETA: 1:20:59 - loss: 0.1984 - custom_mae: 0.355 - ETA: 1:20:57 - loss: 0.1981 - custom_mae: 0.3548"
     ]
    },
    {
     "name": "stdout",
     "output_type": "stream",
     "text": [
      " 327/2500 [==>...........................] - ETA: 1:20:56 - loss: 0.1978 - custom_mae: 0.354 - ETA: 1:20:54 - loss: 0.1974 - custom_mae: 0.354 - ETA: 1:20:52 - loss: 0.1973 - custom_mae: 0.354 - ETA: 1:20:50 - loss: 0.1973 - custom_mae: 0.354 - ETA: 1:20:48 - loss: 0.1968 - custom_mae: 0.353 - ETA: 1:20:46 - loss: 0.1969 - custom_mae: 0.353 - ETA: 1:20:44 - loss: 0.1969 - custom_mae: 0.353 - ETA: 1:20:42 - loss: 0.1968 - custom_mae: 0.353 - ETA: 1:20:40 - loss: 0.1968 - custom_mae: 0.353 - ETA: 1:20:38 - loss: 0.1967 - custom_mae: 0.353 - ETA: 1:20:36 - loss: 0.1964 - custom_mae: 0.353 - ETA: 1:20:35 - loss: 0.1962 - custom_mae: 0.353 - ETA: 1:20:32 - loss: 0.1959 - custom_mae: 0.352 - ETA: 1:20:30 - loss: 0.1957 - custom_mae: 0.352 - ETA: 1:20:29 - loss: 0.1954 - custom_mae: 0.352 - ETA: 1:20:27 - loss: 0.1954 - custom_mae: 0.352 - ETA: 1:20:25 - loss: 0.1954 - custom_mae: 0.352 - ETA: 1:20:23 - loss: 0.1957 - custom_mae: 0.352 - ETA: 1:20:21 - loss: 0.1959 - custom_mae: 0.353 - ETA: 1:20:19 - loss: 0.1960 - custom_mae: 0.353 - ETA: 1:20:17 - loss: 0.1958 - custom_mae: 0.352 - ETA: 1:20:15 - loss: 0.1957 - custom_mae: 0.352 - ETA: 1:20:13 - loss: 0.1958 - custom_mae: 0.352 - ETA: 1:20:11 - loss: 0.1958 - custom_mae: 0.352 - ETA: 1:20:09 - loss: 0.1955 - custom_mae: 0.352 - ETA: 1:20:07 - loss: 0.1953 - custom_mae: 0.352 - ETA: 1:20:05 - loss: 0.1953 - custom_mae: 0.352 - ETA: 1:20:03 - loss: 0.1955 - custom_mae: 0.352 - ETA: 1:20:01 - loss: 0.1955 - custom_mae: 0.352 - ETA: 1:19:59 - loss: 0.1956 - custom_mae: 0.352 - ETA: 1:19:57 - loss: 0.1954 - custom_mae: 0.352 - ETA: 1:19:55 - loss: 0.1953 - custom_mae: 0.352 - ETA: 1:19:53 - loss: 0.1951 - custom_mae: 0.352 - ETA: 1:19:51 - loss: 0.1953 - custom_mae: 0.352 - ETA: 1:19:49 - loss: 0.1953 - custom_mae: 0.352 - ETA: 1:19:47 - loss: 0.1953 - custom_mae: 0.352 - ETA: 1:19:45 - loss: 0.1955 - custom_mae: 0.352 - ETA: 1:19:43 - loss: 0.1955 - custom_mae: 0.352 - ETA: 1:19:42 - loss: 0.1956 - custom_mae: 0.352 - ETA: 1:19:39 - loss: 0.1957 - custom_mae: 0.352 - ETA: 1:19:38 - loss: 0.1958 - custom_mae: 0.352 - ETA: 1:19:36 - loss: 0.1956 - custom_mae: 0.352 - ETA: 1:19:34 - loss: 0.1957 - custom_mae: 0.352 - ETA: 1:19:32 - loss: 0.1958 - custom_mae: 0.352 - ETA: 1:19:30 - loss: 0.1960 - custom_mae: 0.352 - ETA: 1:19:28 - loss: 0.1959 - custom_mae: 0.352 - ETA: 1:19:26 - loss: 0.1959 - custom_mae: 0.352 - ETA: 1:19:24 - loss: 0.1960 - custom_mae: 0.352 - ETA: 1:19:21 - loss: 0.1963 - custom_mae: 0.352 - ETA: 1:19:20 - loss: 0.1965 - custom_mae: 0.352 - ETA: 1:19:18 - loss: 0.1965 - custom_mae: 0.353 - ETA: 1:19:16 - loss: 0.1966 - custom_mae: 0.353 - ETA: 1:19:14 - loss: 0.1965 - custom_mae: 0.352 - ETA: 1:19:12 - loss: 0.1966 - custom_mae: 0.353 - ETA: 1:19:10 - loss: 0.1964 - custom_mae: 0.352 - ETA: 1:19:08 - loss: 0.1963 - custom_mae: 0.352 - ETA: 1:19:06 - loss: 0.1964 - custom_mae: 0.352 - ETA: 1:19:04 - loss: 0.1962 - custom_mae: 0.352 - ETA: 1:19:02 - loss: 0.1963 - custom_mae: 0.352 - ETA: 1:19:00 - loss: 0.1965 - custom_mae: 0.353 - ETA: 1:18:58 - loss: 0.1966 - custom_mae: 0.353 - ETA: 1:18:56 - loss: 0.1964 - custom_mae: 0.352 - ETA: 1:18:54 - loss: 0.1964 - custom_mae: 0.353 - ETA: 1:18:52 - loss: 0.1967 - custom_mae: 0.353 - ETA: 1:18:50 - loss: 0.1966 - custom_mae: 0.353 - ETA: 1:18:48 - loss: 0.1966 - custom_mae: 0.353 - ETA: 1:18:46 - loss: 0.1967 - custom_mae: 0.353 - ETA: 1:18:44 - loss: 0.1967 - custom_mae: 0.353 - ETA: 1:18:43 - loss: 0.1967 - custom_mae: 0.353 - ETA: 1:18:41 - loss: 0.1966 - custom_mae: 0.353 - ETA: 1:18:38 - loss: 0.1969 - custom_mae: 0.353 - ETA: 1:18:37 - loss: 0.1970 - custom_mae: 0.353 - ETA: 1:18:35 - loss: 0.1972 - custom_mae: 0.353 - ETA: 1:18:33 - loss: 0.1974 - custom_mae: 0.354 - ETA: 1:18:31 - loss: 0.1974 - custom_mae: 0.354 - ETA: 1:18:29 - loss: 0.1976 - custom_mae: 0.354 - ETA: 1:18:27 - loss: 0.1976 - custom_mae: 0.354 - ETA: 1:18:25 - loss: 0.1979 - custom_mae: 0.354 - ETA: 1:18:23 - loss: 0.1979 - custom_mae: 0.354 - ETA: 1:18:21 - loss: 0.1979 - custom_mae: 0.354 - ETA: 1:18:19 - loss: 0.1978 - custom_mae: 0.354 - ETA: 1:18:17 - loss: 0.1977 - custom_mae: 0.354 - ETA: 1:18:15 - loss: 0.1977 - custom_mae: 0.354 - ETA: 1:18:13 - loss: 0.1979 - custom_mae: 0.354 - ETA: 1:18:11 - loss: 0.1978 - custom_mae: 0.354 - ETA: 1:18:09 - loss: 0.1976 - custom_mae: 0.354 - ETA: 1:18:07 - loss: 0.1976 - custom_mae: 0.354 - ETA: 1:18:05 - loss: 0.1975 - custom_mae: 0.353 - ETA: 1:18:03 - loss: 0.1976 - custom_mae: 0.353 - ETA: 1:18:01 - loss: 0.1974 - custom_mae: 0.353 - ETA: 1:17:59 - loss: 0.1975 - custom_mae: 0.353 - ETA: 1:17:57 - loss: 0.1975 - custom_mae: 0.353 - ETA: 1:17:54 - loss: 0.1976 - custom_mae: 0.353 - ETA: 1:17:53 - loss: 0.1978 - custom_mae: 0.354 - ETA: 1:17:51 - loss: 0.1978 - custom_mae: 0.354 - ETA: 1:17:48 - loss: 0.1978 - custom_mae: 0.354 - ETA: 1:17:46 - loss: 0.1977 - custom_mae: 0.354 - ETA: 1:17:45 - loss: 0.1974 - custom_mae: 0.353 - ETA: 1:17:44 - loss: 0.1975 - custom_mae: 0.353 - ETA: 1:17:43 - loss: 0.1974 - custom_mae: 0.353 - ETA: 1:17:41 - loss: 0.1974 - custom_mae: 0.353 - ETA: 1:17:39 - loss: 0.1974 - custom_mae: 0.353 - ETA: 1:17:37 - loss: 0.1975 - custom_mae: 0.353 - ETA: 1:17:35 - loss: 0.1976 - custom_mae: 0.353 - ETA: 1:17:33 - loss: 0.1975 - custom_mae: 0.353 - ETA: 1:17:31 - loss: 0.1975 - custom_mae: 0.353 - ETA: 1:17:29 - loss: 0.1976 - custom_mae: 0.353 - ETA: 1:17:27 - loss: 0.1977 - custom_mae: 0.353 - ETA: 1:17:25 - loss: 0.1979 - custom_mae: 0.354 - ETA: 1:17:23 - loss: 0.1977 - custom_mae: 0.353 - ETA: 1:17:21 - loss: 0.1975 - custom_mae: 0.353 - ETA: 1:17:19 - loss: 0.1973 - custom_mae: 0.353 - ETA: 1:17:17 - loss: 0.1972 - custom_mae: 0.353 - ETA: 1:17:15 - loss: 0.1971 - custom_mae: 0.353 - ETA: 1:17:13 - loss: 0.1972 - custom_mae: 0.353 - ETA: 1:17:11 - loss: 0.1972 - custom_mae: 0.353 - ETA: 1:17:09 - loss: 0.1973 - custom_mae: 0.353 - ETA: 1:17:07 - loss: 0.1974 - custom_mae: 0.353 - ETA: 1:17:05 - loss: 0.1975 - custom_mae: 0.353 - ETA: 1:17:03 - loss: 0.1974 - custom_mae: 0.353 - ETA: 1:17:01 - loss: 0.1977 - custom_mae: 0.353 - ETA: 1:16:59 - loss: 0.1977 - custom_mae: 0.353 - ETA: 1:16:57 - loss: 0.1977 - custom_mae: 0.353 - ETA: 1:16:55 - loss: 0.1977 - custom_mae: 0.353 - ETA: 1:16:53 - loss: 0.1977 - custom_mae: 0.354 - ETA: 1:16:51 - loss: 0.1977 - custom_mae: 0.353 - ETA: 1:16:49 - loss: 0.1978 - custom_mae: 0.354 - ETA: 1:16:47 - loss: 0.1976 - custom_mae: 0.353 - ETA: 1:16:45 - loss: 0.1976 - custom_mae: 0.353 - ETA: 1:16:43 - loss: 0.1976 - custom_mae: 0.353 - ETA: 1:16:41 - loss: 0.1976 - custom_mae: 0.353 - ETA: 1:16:39 - loss: 0.1975 - custom_mae: 0.353 - ETA: 1:16:37 - loss: 0.1975 - custom_mae: 0.353 - ETA: 1:16:36 - loss: 0.1973 - custom_mae: 0.353 - ETA: 1:16:34 - loss: 0.1974 - custom_mae: 0.353 - ETA: 1:16:32 - loss: 0.1974 - custom_mae: 0.353 - ETA: 1:16:30 - loss: 0.1973 - custom_mae: 0.353 - ETA: 1:16:28 - loss: 0.1972 - custom_mae: 0.353 - ETA: 1:16:26 - loss: 0.1972 - custom_mae: 0.353 - ETA: 1:16:24 - loss: 0.1971 - custom_mae: 0.353 - ETA: 1:16:21 - loss: 0.1972 - custom_mae: 0.353 - ETA: 1:16:19 - loss: 0.1972 - custom_mae: 0.353 - ETA: 1:16:17 - loss: 0.1973 - custom_mae: 0.353 - ETA: 1:16:15 - loss: 0.1971 - custom_mae: 0.353 - ETA: 1:16:13 - loss: 0.1973 - custom_mae: 0.353 - ETA: 1:16:11 - loss: 0.1976 - custom_mae: 0.353 - ETA: 1:16:09 - loss: 0.1978 - custom_mae: 0.353 - ETA: 1:16:07 - loss: 0.1979 - custom_mae: 0.353 - ETA: 1:16:05 - loss: 0.1979 - custom_mae: 0.353 - ETA: 1:16:03 - loss: 0.1978 - custom_mae: 0.353 - ETA: 1:16:01 - loss: 0.1978 - custom_mae: 0.353 - ETA: 1:15:59 - loss: 0.1980 - custom_mae: 0.353 - ETA: 1:15:57 - loss: 0.1978 - custom_mae: 0.353 - ETA: 1:15:55 - loss: 0.1979 - custom_mae: 0.353 - ETA: 1:15:52 - loss: 0.1979 - custom_mae: 0.353 - ETA: 1:15:50 - loss: 0.1981 - custom_mae: 0.354 - ETA: 1:15:48 - loss: 0.1982 - custom_mae: 0.354 - ETA: 1:15:46 - loss: 0.1980 - custom_mae: 0.353 - ETA: 1:15:44 - loss: 0.1979 - custom_mae: 0.353 - ETA: 1:15:42 - loss: 0.1978 - custom_mae: 0.353 - ETA: 1:15:40 - loss: 0.1977 - custom_mae: 0.353 - ETA: 1:15:38 - loss: 0.1979 - custom_mae: 0.353 - ETA: 1:15:36 - loss: 0.1978 - custom_mae: 0.3537"
     ]
    },
    {
     "name": "stdout",
     "output_type": "stream",
     "text": [
      " 490/2500 [====>.........................] - ETA: 1:15:34 - loss: 0.1979 - custom_mae: 0.353 - ETA: 1:15:32 - loss: 0.1979 - custom_mae: 0.353 - ETA: 1:15:30 - loss: 0.1980 - custom_mae: 0.353 - ETA: 1:15:28 - loss: 0.1979 - custom_mae: 0.353 - ETA: 1:15:26 - loss: 0.1979 - custom_mae: 0.353 - ETA: 1:15:24 - loss: 0.1980 - custom_mae: 0.353 - ETA: 1:15:22 - loss: 0.1979 - custom_mae: 0.353 - ETA: 1:15:19 - loss: 0.1979 - custom_mae: 0.353 - ETA: 1:15:17 - loss: 0.1978 - custom_mae: 0.353 - ETA: 1:15:15 - loss: 0.1976 - custom_mae: 0.353 - ETA: 1:15:14 - loss: 0.1977 - custom_mae: 0.353 - ETA: 1:15:12 - loss: 0.1977 - custom_mae: 0.353 - ETA: 1:15:10 - loss: 0.1976 - custom_mae: 0.353 - ETA: 1:15:08 - loss: 0.1974 - custom_mae: 0.353 - ETA: 1:15:06 - loss: 0.1972 - custom_mae: 0.352 - ETA: 1:15:04 - loss: 0.1972 - custom_mae: 0.352 - ETA: 1:15:02 - loss: 0.1970 - custom_mae: 0.352 - ETA: 1:15:00 - loss: 0.1969 - custom_mae: 0.352 - ETA: 1:14:59 - loss: 0.1970 - custom_mae: 0.352 - ETA: 1:14:57 - loss: 0.1969 - custom_mae: 0.352 - ETA: 1:14:55 - loss: 0.1969 - custom_mae: 0.352 - ETA: 1:14:53 - loss: 0.1970 - custom_mae: 0.352 - ETA: 1:14:51 - loss: 0.1970 - custom_mae: 0.352 - ETA: 1:14:49 - loss: 0.1971 - custom_mae: 0.352 - ETA: 1:14:47 - loss: 0.1970 - custom_mae: 0.352 - ETA: 1:14:45 - loss: 0.1972 - custom_mae: 0.352 - ETA: 1:14:43 - loss: 0.1972 - custom_mae: 0.352 - ETA: 1:14:41 - loss: 0.1971 - custom_mae: 0.352 - ETA: 1:14:39 - loss: 0.1971 - custom_mae: 0.352 - ETA: 1:14:37 - loss: 0.1972 - custom_mae: 0.352 - ETA: 1:14:35 - loss: 0.1973 - custom_mae: 0.353 - ETA: 1:14:33 - loss: 0.1973 - custom_mae: 0.352 - ETA: 1:14:31 - loss: 0.1973 - custom_mae: 0.352 - ETA: 1:14:29 - loss: 0.1974 - custom_mae: 0.353 - ETA: 1:14:27 - loss: 0.1973 - custom_mae: 0.353 - ETA: 1:14:25 - loss: 0.1974 - custom_mae: 0.353 - ETA: 1:14:23 - loss: 0.1975 - custom_mae: 0.353 - ETA: 1:14:21 - loss: 0.1976 - custom_mae: 0.353 - ETA: 1:14:19 - loss: 0.1975 - custom_mae: 0.353 - ETA: 1:14:17 - loss: 0.1975 - custom_mae: 0.353 - ETA: 1:14:15 - loss: 0.1975 - custom_mae: 0.353 - ETA: 1:14:13 - loss: 0.1976 - custom_mae: 0.353 - ETA: 1:14:11 - loss: 0.1975 - custom_mae: 0.353 - ETA: 1:14:09 - loss: 0.1974 - custom_mae: 0.352 - ETA: 1:14:07 - loss: 0.1974 - custom_mae: 0.353 - ETA: 1:14:05 - loss: 0.1975 - custom_mae: 0.353 - ETA: 1:14:03 - loss: 0.1974 - custom_mae: 0.353 - ETA: 1:14:00 - loss: 0.1973 - custom_mae: 0.352 - ETA: 1:13:58 - loss: 0.1971 - custom_mae: 0.352 - ETA: 1:13:56 - loss: 0.1970 - custom_mae: 0.352 - ETA: 1:13:54 - loss: 0.1971 - custom_mae: 0.352 - ETA: 1:13:52 - loss: 0.1971 - custom_mae: 0.352 - ETA: 1:13:50 - loss: 0.1970 - custom_mae: 0.352 - ETA: 1:13:48 - loss: 0.1971 - custom_mae: 0.352 - ETA: 1:13:46 - loss: 0.1970 - custom_mae: 0.352 - ETA: 1:13:44 - loss: 0.1970 - custom_mae: 0.352 - ETA: 1:13:42 - loss: 0.1971 - custom_mae: 0.352 - ETA: 1:13:39 - loss: 0.1970 - custom_mae: 0.352 - ETA: 1:13:37 - loss: 0.1972 - custom_mae: 0.352 - ETA: 1:13:35 - loss: 0.1972 - custom_mae: 0.352 - ETA: 1:13:33 - loss: 0.1971 - custom_mae: 0.352 - ETA: 1:13:31 - loss: 0.1971 - custom_mae: 0.352 - ETA: 1:13:29 - loss: 0.1971 - custom_mae: 0.352 - ETA: 1:13:27 - loss: 0.1971 - custom_mae: 0.352 - ETA: 1:13:25 - loss: 0.1970 - custom_mae: 0.352 - ETA: 1:13:23 - loss: 0.1971 - custom_mae: 0.352 - ETA: 1:13:21 - loss: 0.1971 - custom_mae: 0.352 - ETA: 1:13:19 - loss: 0.1971 - custom_mae: 0.352 - ETA: 1:13:17 - loss: 0.1970 - custom_mae: 0.352 - ETA: 1:13:15 - loss: 0.1970 - custom_mae: 0.352 - ETA: 1:13:13 - loss: 0.1971 - custom_mae: 0.352 - ETA: 1:13:11 - loss: 0.1971 - custom_mae: 0.352 - ETA: 1:13:09 - loss: 0.1970 - custom_mae: 0.352 - ETA: 1:13:07 - loss: 0.1971 - custom_mae: 0.352 - ETA: 1:13:04 - loss: 0.1970 - custom_mae: 0.352 - ETA: 1:13:02 - loss: 0.1969 - custom_mae: 0.352 - ETA: 1:13:00 - loss: 0.1970 - custom_mae: 0.352 - ETA: 1:12:58 - loss: 0.1970 - custom_mae: 0.352 - ETA: 1:12:56 - loss: 0.1971 - custom_mae: 0.352 - ETA: 1:12:54 - loss: 0.1971 - custom_mae: 0.352 - ETA: 1:12:52 - loss: 0.1971 - custom_mae: 0.352 - ETA: 1:12:50 - loss: 0.1971 - custom_mae: 0.352 - ETA: 1:12:48 - loss: 0.1972 - custom_mae: 0.352 - ETA: 1:12:46 - loss: 0.1971 - custom_mae: 0.352 - ETA: 1:12:44 - loss: 0.1970 - custom_mae: 0.352 - ETA: 1:12:42 - loss: 0.1970 - custom_mae: 0.352 - ETA: 1:12:39 - loss: 0.1968 - custom_mae: 0.352 - ETA: 1:12:37 - loss: 0.1968 - custom_mae: 0.352 - ETA: 1:12:35 - loss: 0.1968 - custom_mae: 0.352 - ETA: 1:12:33 - loss: 0.1968 - custom_mae: 0.352 - ETA: 1:12:31 - loss: 0.1967 - custom_mae: 0.351 - ETA: 1:12:29 - loss: 0.1966 - custom_mae: 0.351 - ETA: 1:12:27 - loss: 0.1965 - custom_mae: 0.351 - ETA: 1:12:25 - loss: 0.1965 - custom_mae: 0.351 - ETA: 1:12:22 - loss: 0.1966 - custom_mae: 0.351 - ETA: 1:12:20 - loss: 0.1967 - custom_mae: 0.351 - ETA: 1:12:18 - loss: 0.1967 - custom_mae: 0.351 - ETA: 1:12:16 - loss: 0.1967 - custom_mae: 0.351 - ETA: 1:12:14 - loss: 0.1968 - custom_mae: 0.351 - ETA: 1:12:12 - loss: 0.1967 - custom_mae: 0.352 - ETA: 1:12:10 - loss: 0.1969 - custom_mae: 0.352 - ETA: 1:12:08 - loss: 0.1968 - custom_mae: 0.352 - ETA: 1:12:06 - loss: 0.1969 - custom_mae: 0.352 - ETA: 1:12:04 - loss: 0.1969 - custom_mae: 0.352 - ETA: 1:12:02 - loss: 0.1968 - custom_mae: 0.352 - ETA: 1:12:00 - loss: 0.1967 - custom_mae: 0.351 - ETA: 1:11:58 - loss: 0.1967 - custom_mae: 0.351 - ETA: 1:11:55 - loss: 0.1967 - custom_mae: 0.351 - ETA: 1:11:53 - loss: 0.1967 - custom_mae: 0.351 - ETA: 1:11:51 - loss: 0.1967 - custom_mae: 0.351 - ETA: 1:11:49 - loss: 0.1965 - custom_mae: 0.351 - ETA: 1:11:47 - loss: 0.1966 - custom_mae: 0.351 - ETA: 1:11:45 - loss: 0.1966 - custom_mae: 0.351 - ETA: 1:11:43 - loss: 0.1966 - custom_mae: 0.351 - ETA: 1:11:41 - loss: 0.1965 - custom_mae: 0.351 - ETA: 1:11:39 - loss: 0.1965 - custom_mae: 0.351 - ETA: 1:11:37 - loss: 0.1966 - custom_mae: 0.351 - ETA: 1:11:35 - loss: 0.1965 - custom_mae: 0.351 - ETA: 1:11:33 - loss: 0.1966 - custom_mae: 0.351 - ETA: 1:11:31 - loss: 0.1965 - custom_mae: 0.351 - ETA: 1:11:29 - loss: 0.1964 - custom_mae: 0.351 - ETA: 1:11:27 - loss: 0.1967 - custom_mae: 0.351 - ETA: 1:11:24 - loss: 0.1966 - custom_mae: 0.351 - ETA: 1:11:22 - loss: 0.1967 - custom_mae: 0.351 - ETA: 1:11:20 - loss: 0.1966 - custom_mae: 0.351 - ETA: 1:11:18 - loss: 0.1965 - custom_mae: 0.351 - ETA: 1:11:16 - loss: 0.1965 - custom_mae: 0.351 - ETA: 1:11:14 - loss: 0.1964 - custom_mae: 0.351 - ETA: 1:11:12 - loss: 0.1963 - custom_mae: 0.351 - ETA: 1:11:10 - loss: 0.1962 - custom_mae: 0.351 - ETA: 1:11:08 - loss: 0.1962 - custom_mae: 0.351 - ETA: 1:11:06 - loss: 0.1962 - custom_mae: 0.351 - ETA: 1:11:04 - loss: 0.1962 - custom_mae: 0.351 - ETA: 1:11:02 - loss: 0.1961 - custom_mae: 0.351 - ETA: 1:11:00 - loss: 0.1962 - custom_mae: 0.351 - ETA: 1:10:58 - loss: 0.1961 - custom_mae: 0.351 - ETA: 1:10:55 - loss: 0.1960 - custom_mae: 0.351 - ETA: 1:10:53 - loss: 0.1960 - custom_mae: 0.351 - ETA: 1:10:51 - loss: 0.1958 - custom_mae: 0.351 - ETA: 1:10:49 - loss: 0.1958 - custom_mae: 0.351 - ETA: 1:10:47 - loss: 0.1958 - custom_mae: 0.351 - ETA: 1:10:45 - loss: 0.1958 - custom_mae: 0.351 - ETA: 1:10:43 - loss: 0.1958 - custom_mae: 0.351 - ETA: 1:10:41 - loss: 0.1959 - custom_mae: 0.351 - ETA: 1:10:39 - loss: 0.1958 - custom_mae: 0.351 - ETA: 1:10:37 - loss: 0.1958 - custom_mae: 0.351 - ETA: 1:10:35 - loss: 0.1958 - custom_mae: 0.351 - ETA: 1:10:33 - loss: 0.1958 - custom_mae: 0.351 - ETA: 1:10:31 - loss: 0.1957 - custom_mae: 0.350 - ETA: 1:10:29 - loss: 0.1957 - custom_mae: 0.350 - ETA: 1:10:27 - loss: 0.1958 - custom_mae: 0.351 - ETA: 1:10:25 - loss: 0.1958 - custom_mae: 0.351 - ETA: 1:10:22 - loss: 0.1958 - custom_mae: 0.351 - ETA: 1:10:20 - loss: 0.1957 - custom_mae: 0.351 - ETA: 1:10:18 - loss: 0.1957 - custom_mae: 0.350 - ETA: 1:10:16 - loss: 0.1957 - custom_mae: 0.350 - ETA: 1:10:14 - loss: 0.1957 - custom_mae: 0.350 - ETA: 1:10:12 - loss: 0.1957 - custom_mae: 0.350 - ETA: 1:10:10 - loss: 0.1956 - custom_mae: 0.350 - ETA: 1:10:08 - loss: 0.1957 - custom_mae: 0.350 - ETA: 1:10:06 - loss: 0.1956 - custom_mae: 0.350 - ETA: 1:10:04 - loss: 0.1955 - custom_mae: 0.350 - ETA: 1:10:02 - loss: 0.1956 - custom_mae: 0.3508"
     ]
    },
    {
     "name": "stdout",
     "output_type": "stream",
     "text": [
      " 653/2500 [======>.......................] - ETA: 1:09:59 - loss: 0.1957 - custom_mae: 0.350 - ETA: 1:09:57 - loss: 0.1957 - custom_mae: 0.350 - ETA: 1:09:55 - loss: 0.1958 - custom_mae: 0.350 - ETA: 1:09:53 - loss: 0.1958 - custom_mae: 0.351 - ETA: 1:09:51 - loss: 0.1957 - custom_mae: 0.350 - ETA: 1:09:49 - loss: 0.1958 - custom_mae: 0.351 - ETA: 1:09:47 - loss: 0.1957 - custom_mae: 0.350 - ETA: 1:09:45 - loss: 0.1958 - custom_mae: 0.351 - ETA: 1:09:43 - loss: 0.1958 - custom_mae: 0.351 - ETA: 1:09:41 - loss: 0.1957 - custom_mae: 0.351 - ETA: 1:09:39 - loss: 0.1958 - custom_mae: 0.351 - ETA: 1:09:36 - loss: 0.1959 - custom_mae: 0.351 - ETA: 1:09:34 - loss: 0.1959 - custom_mae: 0.351 - ETA: 1:09:32 - loss: 0.1958 - custom_mae: 0.351 - ETA: 1:09:30 - loss: 0.1957 - custom_mae: 0.350 - ETA: 1:09:28 - loss: 0.1957 - custom_mae: 0.350 - ETA: 1:09:26 - loss: 0.1957 - custom_mae: 0.350 - ETA: 1:09:24 - loss: 0.1956 - custom_mae: 0.350 - ETA: 1:09:21 - loss: 0.1956 - custom_mae: 0.350 - ETA: 1:09:19 - loss: 0.1956 - custom_mae: 0.350 - ETA: 1:09:17 - loss: 0.1956 - custom_mae: 0.350 - ETA: 1:09:15 - loss: 0.1956 - custom_mae: 0.350 - ETA: 1:09:13 - loss: 0.1956 - custom_mae: 0.350 - ETA: 1:09:11 - loss: 0.1955 - custom_mae: 0.350 - ETA: 1:09:09 - loss: 0.1954 - custom_mae: 0.350 - ETA: 1:09:07 - loss: 0.1954 - custom_mae: 0.350 - ETA: 1:09:05 - loss: 0.1953 - custom_mae: 0.350 - ETA: 1:09:03 - loss: 0.1952 - custom_mae: 0.350 - ETA: 1:09:01 - loss: 0.1953 - custom_mae: 0.350 - ETA: 1:08:58 - loss: 0.1952 - custom_mae: 0.350 - ETA: 1:08:56 - loss: 0.1952 - custom_mae: 0.350 - ETA: 1:08:54 - loss: 0.1951 - custom_mae: 0.350 - ETA: 1:08:52 - loss: 0.1952 - custom_mae: 0.350 - ETA: 1:08:50 - loss: 0.1950 - custom_mae: 0.350 - ETA: 1:08:48 - loss: 0.1950 - custom_mae: 0.350 - ETA: 1:08:46 - loss: 0.1949 - custom_mae: 0.350 - ETA: 1:08:44 - loss: 0.1949 - custom_mae: 0.350 - ETA: 1:08:42 - loss: 0.1949 - custom_mae: 0.350 - ETA: 1:08:40 - loss: 0.1948 - custom_mae: 0.350 - ETA: 1:08:38 - loss: 0.1948 - custom_mae: 0.350 - ETA: 1:08:36 - loss: 0.1949 - custom_mae: 0.350 - ETA: 1:08:34 - loss: 0.1949 - custom_mae: 0.350 - ETA: 1:08:32 - loss: 0.1949 - custom_mae: 0.350 - ETA: 1:08:30 - loss: 0.1950 - custom_mae: 0.350 - ETA: 1:08:28 - loss: 0.1949 - custom_mae: 0.350 - ETA: 1:08:26 - loss: 0.1950 - custom_mae: 0.350 - ETA: 1:08:23 - loss: 0.1950 - custom_mae: 0.350 - ETA: 1:08:21 - loss: 0.1949 - custom_mae: 0.350 - ETA: 1:08:19 - loss: 0.1949 - custom_mae: 0.350 - ETA: 1:08:17 - loss: 0.1948 - custom_mae: 0.350 - ETA: 1:08:15 - loss: 0.1948 - custom_mae: 0.350 - ETA: 1:08:13 - loss: 0.1948 - custom_mae: 0.350 - ETA: 1:08:11 - loss: 0.1948 - custom_mae: 0.349 - ETA: 1:08:09 - loss: 0.1948 - custom_mae: 0.350 - ETA: 1:08:07 - loss: 0.1947 - custom_mae: 0.349 - ETA: 1:08:05 - loss: 0.1946 - custom_mae: 0.349 - ETA: 1:08:03 - loss: 0.1946 - custom_mae: 0.349 - ETA: 1:08:00 - loss: 0.1947 - custom_mae: 0.349 - ETA: 1:07:58 - loss: 0.1947 - custom_mae: 0.349 - ETA: 1:07:56 - loss: 0.1947 - custom_mae: 0.349 - ETA: 1:07:54 - loss: 0.1946 - custom_mae: 0.349 - ETA: 1:07:52 - loss: 0.1946 - custom_mae: 0.349 - ETA: 1:07:50 - loss: 0.1945 - custom_mae: 0.349 - ETA: 1:07:48 - loss: 0.1945 - custom_mae: 0.349 - ETA: 1:07:46 - loss: 0.1944 - custom_mae: 0.349 - ETA: 1:07:44 - loss: 0.1945 - custom_mae: 0.349 - ETA: 1:07:42 - loss: 0.1944 - custom_mae: 0.349 - ETA: 1:07:40 - loss: 0.1943 - custom_mae: 0.349 - ETA: 1:07:37 - loss: 0.1942 - custom_mae: 0.349 - ETA: 1:07:35 - loss: 0.1943 - custom_mae: 0.349 - ETA: 1:07:33 - loss: 0.1943 - custom_mae: 0.349 - ETA: 1:07:31 - loss: 0.1943 - custom_mae: 0.349 - ETA: 1:07:29 - loss: 0.1943 - custom_mae: 0.349 - ETA: 1:07:27 - loss: 0.1943 - custom_mae: 0.349 - ETA: 1:07:25 - loss: 0.1943 - custom_mae: 0.349 - ETA: 1:07:23 - loss: 0.1942 - custom_mae: 0.349 - ETA: 1:07:21 - loss: 0.1942 - custom_mae: 0.349 - ETA: 1:07:19 - loss: 0.1941 - custom_mae: 0.349 - ETA: 1:07:17 - loss: 0.1941 - custom_mae: 0.349 - ETA: 1:07:14 - loss: 0.1942 - custom_mae: 0.349 - ETA: 1:07:12 - loss: 0.1942 - custom_mae: 0.349 - ETA: 1:07:10 - loss: 0.1941 - custom_mae: 0.349 - ETA: 1:07:09 - loss: 0.1941 - custom_mae: 0.349 - ETA: 1:07:09 - loss: 0.1941 - custom_mae: 0.349 - ETA: 1:07:08 - loss: 0.1940 - custom_mae: 0.349 - ETA: 1:07:06 - loss: 0.1939 - custom_mae: 0.349 - ETA: 1:07:04 - loss: 0.1939 - custom_mae: 0.348 - ETA: 1:07:01 - loss: 0.1937 - custom_mae: 0.348 - ETA: 1:06:59 - loss: 0.1936 - custom_mae: 0.348 - ETA: 1:06:57 - loss: 0.1936 - custom_mae: 0.348 - ETA: 1:06:55 - loss: 0.1937 - custom_mae: 0.348 - ETA: 1:06:53 - loss: 0.1935 - custom_mae: 0.348 - ETA: 1:06:51 - loss: 0.1934 - custom_mae: 0.348 - ETA: 1:06:49 - loss: 0.1934 - custom_mae: 0.348 - ETA: 1:06:47 - loss: 0.1933 - custom_mae: 0.348 - ETA: 1:06:45 - loss: 0.1932 - custom_mae: 0.348 - ETA: 1:06:43 - loss: 0.1932 - custom_mae: 0.348 - ETA: 1:06:41 - loss: 0.1932 - custom_mae: 0.348 - ETA: 1:06:39 - loss: 0.1932 - custom_mae: 0.348 - ETA: 1:06:37 - loss: 0.1932 - custom_mae: 0.348 - ETA: 1:06:35 - loss: 0.1932 - custom_mae: 0.348 - ETA: 1:06:32 - loss: 0.1932 - custom_mae: 0.348 - ETA: 1:06:30 - loss: 0.1932 - custom_mae: 0.348 - ETA: 1:06:28 - loss: 0.1932 - custom_mae: 0.348 - ETA: 1:06:26 - loss: 0.1931 - custom_mae: 0.348 - ETA: 1:06:24 - loss: 0.1931 - custom_mae: 0.348 - ETA: 1:06:22 - loss: 0.1932 - custom_mae: 0.348 - ETA: 1:06:20 - loss: 0.1931 - custom_mae: 0.348 - ETA: 1:06:18 - loss: 0.1932 - custom_mae: 0.348 - ETA: 1:06:16 - loss: 0.1931 - custom_mae: 0.348 - ETA: 1:06:14 - loss: 0.1931 - custom_mae: 0.348 - ETA: 1:06:12 - loss: 0.1930 - custom_mae: 0.347 - ETA: 1:06:10 - loss: 0.1929 - custom_mae: 0.347 - ETA: 1:06:08 - loss: 0.1930 - custom_mae: 0.347 - ETA: 1:06:05 - loss: 0.1930 - custom_mae: 0.347 - ETA: 1:06:03 - loss: 0.1929 - custom_mae: 0.347 - ETA: 1:06:01 - loss: 0.1929 - custom_mae: 0.347 - ETA: 1:05:59 - loss: 0.1928 - custom_mae: 0.347 - ETA: 1:05:57 - loss: 0.1928 - custom_mae: 0.347 - ETA: 1:05:55 - loss: 0.1928 - custom_mae: 0.347 - ETA: 1:05:53 - loss: 0.1928 - custom_mae: 0.347 - ETA: 1:05:51 - loss: 0.1927 - custom_mae: 0.347 - ETA: 1:05:49 - loss: 0.1927 - custom_mae: 0.347 - ETA: 1:05:47 - loss: 0.1927 - custom_mae: 0.347 - ETA: 1:05:45 - loss: 0.1927 - custom_mae: 0.347 - ETA: 1:05:43 - loss: 0.1928 - custom_mae: 0.347 - ETA: 1:05:41 - loss: 0.1927 - custom_mae: 0.347 - ETA: 1:05:38 - loss: 0.1927 - custom_mae: 0.347 - ETA: 1:05:36 - loss: 0.1927 - custom_mae: 0.347 - ETA: 1:05:34 - loss: 0.1927 - custom_mae: 0.347 - ETA: 1:05:32 - loss: 0.1928 - custom_mae: 0.347 - ETA: 1:05:30 - loss: 0.1927 - custom_mae: 0.347 - ETA: 1:05:28 - loss: 0.1927 - custom_mae: 0.347 - ETA: 1:05:26 - loss: 0.1927 - custom_mae: 0.347 - ETA: 1:05:24 - loss: 0.1927 - custom_mae: 0.347 - ETA: 1:05:22 - loss: 0.1926 - custom_mae: 0.347 - ETA: 1:05:20 - loss: 0.1927 - custom_mae: 0.347 - ETA: 1:05:17 - loss: 0.1925 - custom_mae: 0.347 - ETA: 1:05:15 - loss: 0.1926 - custom_mae: 0.347 - ETA: 1:05:13 - loss: 0.1926 - custom_mae: 0.347 - ETA: 1:05:11 - loss: 0.1926 - custom_mae: 0.347 - ETA: 1:05:09 - loss: 0.1926 - custom_mae: 0.347 - ETA: 1:05:07 - loss: 0.1927 - custom_mae: 0.347 - ETA: 1:05:05 - loss: 0.1926 - custom_mae: 0.347 - ETA: 1:05:03 - loss: 0.1926 - custom_mae: 0.347 - ETA: 1:05:01 - loss: 0.1925 - custom_mae: 0.347 - ETA: 1:04:59 - loss: 0.1925 - custom_mae: 0.347 - ETA: 1:04:57 - loss: 0.1925 - custom_mae: 0.347 - ETA: 1:04:55 - loss: 0.1925 - custom_mae: 0.347 - ETA: 1:04:53 - loss: 0.1924 - custom_mae: 0.347 - ETA: 1:04:51 - loss: 0.1925 - custom_mae: 0.347 - ETA: 1:04:49 - loss: 0.1924 - custom_mae: 0.347 - ETA: 1:04:47 - loss: 0.1923 - custom_mae: 0.347 - ETA: 1:04:45 - loss: 0.1922 - custom_mae: 0.347 - ETA: 1:04:42 - loss: 0.1923 - custom_mae: 0.347 - ETA: 1:04:40 - loss: 0.1923 - custom_mae: 0.347 - ETA: 1:04:38 - loss: 0.1924 - custom_mae: 0.347 - ETA: 1:04:36 - loss: 0.1924 - custom_mae: 0.347 - ETA: 1:04:34 - loss: 0.1923 - custom_mae: 0.347 - ETA: 1:04:32 - loss: 0.1923 - custom_mae: 0.347 - ETA: 1:04:30 - loss: 0.1923 - custom_mae: 0.347 - ETA: 1:04:28 - loss: 0.1923 - custom_mae: 0.347 - ETA: 1:04:26 - loss: 0.1923 - custom_mae: 0.3470"
     ]
    },
    {
     "name": "stdout",
     "output_type": "stream",
     "text": [
      " 818/2500 [========>.....................] - ETA: 1:04:24 - loss: 0.1922 - custom_mae: 0.347 - ETA: 1:04:22 - loss: 0.1923 - custom_mae: 0.347 - ETA: 1:04:20 - loss: 0.1923 - custom_mae: 0.346 - ETA: 1:04:18 - loss: 0.1922 - custom_mae: 0.346 - ETA: 1:04:16 - loss: 0.1922 - custom_mae: 0.346 - ETA: 1:04:14 - loss: 0.1922 - custom_mae: 0.346 - ETA: 1:04:12 - loss: 0.1921 - custom_mae: 0.346 - ETA: 1:04:10 - loss: 0.1921 - custom_mae: 0.346 - ETA: 1:04:08 - loss: 0.1921 - custom_mae: 0.346 - ETA: 1:04:06 - loss: 0.1921 - custom_mae: 0.346 - ETA: 1:04:04 - loss: 0.1921 - custom_mae: 0.346 - ETA: 1:04:02 - loss: 0.1921 - custom_mae: 0.346 - ETA: 1:04:00 - loss: 0.1920 - custom_mae: 0.346 - ETA: 1:03:58 - loss: 0.1919 - custom_mae: 0.346 - ETA: 1:03:56 - loss: 0.1920 - custom_mae: 0.346 - ETA: 1:03:53 - loss: 0.1920 - custom_mae: 0.346 - ETA: 1:03:51 - loss: 0.1921 - custom_mae: 0.346 - ETA: 1:03:49 - loss: 0.1921 - custom_mae: 0.346 - ETA: 1:03:48 - loss: 0.1920 - custom_mae: 0.346 - ETA: 1:03:46 - loss: 0.1920 - custom_mae: 0.346 - ETA: 1:03:44 - loss: 0.1920 - custom_mae: 0.346 - ETA: 1:03:42 - loss: 0.1921 - custom_mae: 0.346 - ETA: 1:03:40 - loss: 0.1921 - custom_mae: 0.346 - ETA: 1:03:37 - loss: 0.1920 - custom_mae: 0.346 - ETA: 1:03:35 - loss: 0.1919 - custom_mae: 0.346 - ETA: 1:03:33 - loss: 0.1920 - custom_mae: 0.346 - ETA: 1:03:31 - loss: 0.1919 - custom_mae: 0.346 - ETA: 1:03:29 - loss: 0.1918 - custom_mae: 0.346 - ETA: 1:03:28 - loss: 0.1918 - custom_mae: 0.346 - ETA: 1:03:26 - loss: 0.1919 - custom_mae: 0.346 - ETA: 1:03:23 - loss: 0.1919 - custom_mae: 0.346 - ETA: 1:03:22 - loss: 0.1918 - custom_mae: 0.346 - ETA: 1:03:20 - loss: 0.1918 - custom_mae: 0.346 - ETA: 1:03:17 - loss: 0.1918 - custom_mae: 0.346 - ETA: 1:03:15 - loss: 0.1918 - custom_mae: 0.346 - ETA: 1:03:13 - loss: 0.1918 - custom_mae: 0.346 - ETA: 1:03:11 - loss: 0.1918 - custom_mae: 0.346 - ETA: 1:03:09 - loss: 0.1918 - custom_mae: 0.346 - ETA: 1:03:07 - loss: 0.1918 - custom_mae: 0.346 - ETA: 1:03:05 - loss: 0.1918 - custom_mae: 0.346 - ETA: 1:03:03 - loss: 0.1918 - custom_mae: 0.346 - ETA: 1:03:01 - loss: 0.1919 - custom_mae: 0.346 - ETA: 1:02:59 - loss: 0.1919 - custom_mae: 0.346 - ETA: 1:02:57 - loss: 0.1919 - custom_mae: 0.346 - ETA: 1:02:55 - loss: 0.1919 - custom_mae: 0.346 - ETA: 1:02:53 - loss: 0.1920 - custom_mae: 0.346 - ETA: 1:02:50 - loss: 0.1919 - custom_mae: 0.346 - ETA: 1:02:48 - loss: 0.1919 - custom_mae: 0.346 - ETA: 1:02:46 - loss: 0.1918 - custom_mae: 0.346 - ETA: 1:02:44 - loss: 0.1918 - custom_mae: 0.346 - ETA: 1:02:42 - loss: 0.1918 - custom_mae: 0.346 - ETA: 1:02:40 - loss: 0.1917 - custom_mae: 0.346 - ETA: 1:02:38 - loss: 0.1916 - custom_mae: 0.346 - ETA: 1:02:36 - loss: 0.1917 - custom_mae: 0.346 - ETA: 1:02:34 - loss: 0.1916 - custom_mae: 0.346 - ETA: 1:02:32 - loss: 0.1916 - custom_mae: 0.346 - ETA: 1:02:29 - loss: 0.1915 - custom_mae: 0.346 - ETA: 1:02:27 - loss: 0.1916 - custom_mae: 0.346 - ETA: 1:02:25 - loss: 0.1916 - custom_mae: 0.346 - ETA: 1:02:23 - loss: 0.1916 - custom_mae: 0.346 - ETA: 1:02:21 - loss: 0.1916 - custom_mae: 0.346 - ETA: 1:02:19 - loss: 0.1916 - custom_mae: 0.346 - ETA: 1:02:17 - loss: 0.1916 - custom_mae: 0.346 - ETA: 1:02:15 - loss: 0.1915 - custom_mae: 0.346 - ETA: 1:02:13 - loss: 0.1915 - custom_mae: 0.346 - ETA: 1:02:11 - loss: 0.1915 - custom_mae: 0.346 - ETA: 1:02:08 - loss: 0.1915 - custom_mae: 0.346 - ETA: 1:02:06 - loss: 0.1914 - custom_mae: 0.346 - ETA: 1:02:04 - loss: 0.1914 - custom_mae: 0.346 - ETA: 1:02:02 - loss: 0.1915 - custom_mae: 0.346 - ETA: 1:02:00 - loss: 0.1915 - custom_mae: 0.346 - ETA: 1:01:58 - loss: 0.1914 - custom_mae: 0.345 - ETA: 1:01:56 - loss: 0.1914 - custom_mae: 0.345 - ETA: 1:01:54 - loss: 0.1914 - custom_mae: 0.345 - ETA: 1:01:52 - loss: 0.1914 - custom_mae: 0.345 - ETA: 1:01:50 - loss: 0.1914 - custom_mae: 0.345 - ETA: 1:01:47 - loss: 0.1914 - custom_mae: 0.345 - ETA: 1:01:45 - loss: 0.1914 - custom_mae: 0.345 - ETA: 1:01:43 - loss: 0.1914 - custom_mae: 0.345 - ETA: 1:01:41 - loss: 0.1914 - custom_mae: 0.345 - ETA: 1:01:39 - loss: 0.1914 - custom_mae: 0.345 - ETA: 1:01:37 - loss: 0.1915 - custom_mae: 0.346 - ETA: 1:01:35 - loss: 0.1914 - custom_mae: 0.345 - ETA: 1:01:32 - loss: 0.1914 - custom_mae: 0.345 - ETA: 1:01:30 - loss: 0.1915 - custom_mae: 0.346 - ETA: 1:01:28 - loss: 0.1915 - custom_mae: 0.346 - ETA: 1:01:26 - loss: 0.1916 - custom_mae: 0.346 - ETA: 1:01:24 - loss: 0.1916 - custom_mae: 0.346 - ETA: 1:01:22 - loss: 0.1916 - custom_mae: 0.346 - ETA: 1:01:20 - loss: 0.1915 - custom_mae: 0.346 - ETA: 1:01:18 - loss: 0.1915 - custom_mae: 0.346 - ETA: 1:01:16 - loss: 0.1915 - custom_mae: 0.346 - ETA: 1:01:14 - loss: 0.1915 - custom_mae: 0.346 - ETA: 1:01:12 - loss: 0.1915 - custom_mae: 0.345 - ETA: 1:01:09 - loss: 0.1914 - custom_mae: 0.345 - ETA: 1:01:07 - loss: 0.1914 - custom_mae: 0.345 - ETA: 1:01:05 - loss: 0.1913 - custom_mae: 0.345 - ETA: 1:01:03 - loss: 0.1913 - custom_mae: 0.345 - ETA: 1:01:01 - loss: 0.1914 - custom_mae: 0.345 - ETA: 1:00:59 - loss: 0.1913 - custom_mae: 0.345 - ETA: 1:00:57 - loss: 0.1913 - custom_mae: 0.345 - ETA: 1:00:55 - loss: 0.1912 - custom_mae: 0.345 - ETA: 1:00:53 - loss: 0.1912 - custom_mae: 0.345 - ETA: 1:00:51 - loss: 0.1912 - custom_mae: 0.345 - ETA: 1:00:48 - loss: 0.1912 - custom_mae: 0.345 - ETA: 1:00:46 - loss: 0.1912 - custom_mae: 0.345 - ETA: 1:00:44 - loss: 0.1913 - custom_mae: 0.345 - ETA: 1:00:42 - loss: 0.1912 - custom_mae: 0.345 - ETA: 1:00:40 - loss: 0.1912 - custom_mae: 0.345 - ETA: 1:00:38 - loss: 0.1912 - custom_mae: 0.345 - ETA: 1:00:36 - loss: 0.1913 - custom_mae: 0.345 - ETA: 1:00:34 - loss: 0.1912 - custom_mae: 0.345 - ETA: 1:00:32 - loss: 0.1912 - custom_mae: 0.345 - ETA: 1:00:29 - loss: 0.1912 - custom_mae: 0.345 - ETA: 1:00:27 - loss: 0.1911 - custom_mae: 0.345 - ETA: 1:00:25 - loss: 0.1911 - custom_mae: 0.345 - ETA: 1:00:23 - loss: 0.1910 - custom_mae: 0.345 - ETA: 1:00:21 - loss: 0.1910 - custom_mae: 0.345 - ETA: 1:00:19 - loss: 0.1910 - custom_mae: 0.345 - ETA: 1:00:17 - loss: 0.1910 - custom_mae: 0.345 - ETA: 1:00:15 - loss: 0.1911 - custom_mae: 0.345 - ETA: 1:00:13 - loss: 0.1912 - custom_mae: 0.345 - ETA: 1:00:11 - loss: 0.1912 - custom_mae: 0.345 - ETA: 1:00:09 - loss: 0.1911 - custom_mae: 0.345 - ETA: 1:00:07 - loss: 0.1911 - custom_mae: 0.345 - ETA: 1:00:04 - loss: 0.1911 - custom_mae: 0.345 - ETA: 1:00:02 - loss: 0.1912 - custom_mae: 0.345 - ETA: 1:00:00 - loss: 0.1912 - custom_mae: 0.345 - ETA: 59:58 - loss: 0.1912 - custom_mae: 0.3457  - ETA: 59:56 - loss: 0.1912 - custom_mae: 0.345 - ETA: 59:54 - loss: 0.1912 - custom_mae: 0.345 - ETA: 59:52 - loss: 0.1912 - custom_mae: 0.345 - ETA: 59:50 - loss: 0.1912 - custom_mae: 0.345 - ETA: 59:48 - loss: 0.1912 - custom_mae: 0.345 - ETA: 59:46 - loss: 0.1911 - custom_mae: 0.345 - ETA: 59:44 - loss: 0.1911 - custom_mae: 0.345 - ETA: 59:42 - loss: 0.1911 - custom_mae: 0.345 - ETA: 59:39 - loss: 0.1911 - custom_mae: 0.345 - ETA: 59:37 - loss: 0.1911 - custom_mae: 0.345 - ETA: 59:35 - loss: 0.1911 - custom_mae: 0.345 - ETA: 59:33 - loss: 0.1911 - custom_mae: 0.345 - ETA: 59:31 - loss: 0.1911 - custom_mae: 0.345 - ETA: 59:29 - loss: 0.1911 - custom_mae: 0.345 - ETA: 59:27 - loss: 0.1910 - custom_mae: 0.345 - ETA: 59:25 - loss: 0.1910 - custom_mae: 0.345 - ETA: 59:23 - loss: 0.1910 - custom_mae: 0.345 - ETA: 59:21 - loss: 0.1910 - custom_mae: 0.345 - ETA: 59:18 - loss: 0.1910 - custom_mae: 0.345 - ETA: 59:16 - loss: 0.1909 - custom_mae: 0.345 - ETA: 59:14 - loss: 0.1909 - custom_mae: 0.345 - ETA: 59:12 - loss: 0.1909 - custom_mae: 0.345 - ETA: 59:10 - loss: 0.1909 - custom_mae: 0.345 - ETA: 59:08 - loss: 0.1909 - custom_mae: 0.345 - ETA: 59:06 - loss: 0.1909 - custom_mae: 0.345 - ETA: 59:04 - loss: 0.1909 - custom_mae: 0.345 - ETA: 59:02 - loss: 0.1909 - custom_mae: 0.345 - ETA: 59:00 - loss: 0.1909 - custom_mae: 0.345 - ETA: 58:57 - loss: 0.1908 - custom_mae: 0.345 - ETA: 58:55 - loss: 0.1908 - custom_mae: 0.345 - ETA: 58:53 - loss: 0.1907 - custom_mae: 0.345 - ETA: 58:51 - loss: 0.1907 - custom_mae: 0.345 - ETA: 58:49 - loss: 0.1907 - custom_mae: 0.345 - ETA: 58:47 - loss: 0.1907 - custom_mae: 0.345 - ETA: 58:45 - loss: 0.1906 - custom_mae: 0.345 - ETA: 58:43 - loss: 0.1906 - custom_mae: 0.3449"
     ]
    },
    {
     "name": "stdout",
     "output_type": "stream",
     "text": [
      " 988/2500 [==========>...................] - ETA: 58:41 - loss: 0.1907 - custom_mae: 0.345 - ETA: 58:39 - loss: 0.1906 - custom_mae: 0.345 - ETA: 58:37 - loss: 0.1907 - custom_mae: 0.345 - ETA: 58:34 - loss: 0.1907 - custom_mae: 0.345 - ETA: 58:32 - loss: 0.1908 - custom_mae: 0.345 - ETA: 58:30 - loss: 0.1907 - custom_mae: 0.345 - ETA: 58:28 - loss: 0.1907 - custom_mae: 0.345 - ETA: 58:26 - loss: 0.1907 - custom_mae: 0.344 - ETA: 58:24 - loss: 0.1906 - custom_mae: 0.344 - ETA: 58:22 - loss: 0.1906 - custom_mae: 0.344 - ETA: 58:20 - loss: 0.1906 - custom_mae: 0.344 - ETA: 58:18 - loss: 0.1905 - custom_mae: 0.344 - ETA: 58:16 - loss: 0.1906 - custom_mae: 0.344 - ETA: 58:14 - loss: 0.1905 - custom_mae: 0.344 - ETA: 58:12 - loss: 0.1906 - custom_mae: 0.344 - ETA: 58:09 - loss: 0.1906 - custom_mae: 0.344 - ETA: 58:07 - loss: 0.1906 - custom_mae: 0.344 - ETA: 58:05 - loss: 0.1906 - custom_mae: 0.344 - ETA: 58:03 - loss: 0.1906 - custom_mae: 0.344 - ETA: 58:01 - loss: 0.1905 - custom_mae: 0.344 - ETA: 57:59 - loss: 0.1906 - custom_mae: 0.344 - ETA: 57:57 - loss: 0.1906 - custom_mae: 0.344 - ETA: 57:55 - loss: 0.1906 - custom_mae: 0.344 - ETA: 57:53 - loss: 0.1906 - custom_mae: 0.344 - ETA: 57:51 - loss: 0.1906 - custom_mae: 0.344 - ETA: 57:49 - loss: 0.1906 - custom_mae: 0.344 - ETA: 57:46 - loss: 0.1906 - custom_mae: 0.344 - ETA: 57:44 - loss: 0.1906 - custom_mae: 0.344 - ETA: 57:42 - loss: 0.1906 - custom_mae: 0.344 - ETA: 57:40 - loss: 0.1905 - custom_mae: 0.344 - ETA: 57:38 - loss: 0.1904 - custom_mae: 0.344 - ETA: 57:36 - loss: 0.1905 - custom_mae: 0.344 - ETA: 57:34 - loss: 0.1905 - custom_mae: 0.344 - ETA: 57:32 - loss: 0.1905 - custom_mae: 0.344 - ETA: 57:30 - loss: 0.1906 - custom_mae: 0.344 - ETA: 57:28 - loss: 0.1906 - custom_mae: 0.344 - ETA: 57:26 - loss: 0.1906 - custom_mae: 0.344 - ETA: 57:23 - loss: 0.1905 - custom_mae: 0.344 - ETA: 57:21 - loss: 0.1905 - custom_mae: 0.344 - ETA: 57:19 - loss: 0.1905 - custom_mae: 0.344 - ETA: 57:17 - loss: 0.1905 - custom_mae: 0.344 - ETA: 57:15 - loss: 0.1904 - custom_mae: 0.344 - ETA: 57:13 - loss: 0.1904 - custom_mae: 0.344 - ETA: 57:11 - loss: 0.1903 - custom_mae: 0.344 - ETA: 57:09 - loss: 0.1904 - custom_mae: 0.344 - ETA: 57:07 - loss: 0.1905 - custom_mae: 0.344 - ETA: 57:05 - loss: 0.1904 - custom_mae: 0.344 - ETA: 57:03 - loss: 0.1905 - custom_mae: 0.344 - ETA: 57:01 - loss: 0.1904 - custom_mae: 0.344 - ETA: 56:58 - loss: 0.1905 - custom_mae: 0.344 - ETA: 56:56 - loss: 0.1904 - custom_mae: 0.344 - ETA: 56:54 - loss: 0.1904 - custom_mae: 0.344 - ETA: 56:52 - loss: 0.1903 - custom_mae: 0.344 - ETA: 56:50 - loss: 0.1903 - custom_mae: 0.344 - ETA: 56:48 - loss: 0.1904 - custom_mae: 0.344 - ETA: 56:46 - loss: 0.1903 - custom_mae: 0.344 - ETA: 56:44 - loss: 0.1902 - custom_mae: 0.344 - ETA: 56:42 - loss: 0.1903 - custom_mae: 0.344 - ETA: 56:40 - loss: 0.1903 - custom_mae: 0.344 - ETA: 56:37 - loss: 0.1903 - custom_mae: 0.344 - ETA: 56:35 - loss: 0.1904 - custom_mae: 0.344 - ETA: 56:33 - loss: 0.1903 - custom_mae: 0.344 - ETA: 56:31 - loss: 0.1903 - custom_mae: 0.344 - ETA: 56:29 - loss: 0.1904 - custom_mae: 0.344 - ETA: 56:27 - loss: 0.1903 - custom_mae: 0.344 - ETA: 56:25 - loss: 0.1904 - custom_mae: 0.344 - ETA: 56:23 - loss: 0.1903 - custom_mae: 0.344 - ETA: 56:21 - loss: 0.1903 - custom_mae: 0.344 - ETA: 56:19 - loss: 0.1902 - custom_mae: 0.344 - ETA: 56:16 - loss: 0.1902 - custom_mae: 0.344 - ETA: 56:14 - loss: 0.1901 - custom_mae: 0.344 - ETA: 56:12 - loss: 0.1901 - custom_mae: 0.344 - ETA: 56:10 - loss: 0.1901 - custom_mae: 0.344 - ETA: 56:08 - loss: 0.1902 - custom_mae: 0.344 - ETA: 56:06 - loss: 0.1901 - custom_mae: 0.344 - ETA: 56:04 - loss: 0.1901 - custom_mae: 0.344 - ETA: 56:02 - loss: 0.1900 - custom_mae: 0.344 - ETA: 56:00 - loss: 0.1900 - custom_mae: 0.344 - ETA: 55:58 - loss: 0.1900 - custom_mae: 0.344 - ETA: 55:55 - loss: 0.1900 - custom_mae: 0.344 - ETA: 55:53 - loss: 0.1900 - custom_mae: 0.344 - ETA: 55:51 - loss: 0.1901 - custom_mae: 0.344 - ETA: 55:49 - loss: 0.1901 - custom_mae: 0.344 - ETA: 55:47 - loss: 0.1901 - custom_mae: 0.344 - ETA: 55:45 - loss: 0.1901 - custom_mae: 0.344 - ETA: 55:43 - loss: 0.1901 - custom_mae: 0.344 - ETA: 55:41 - loss: 0.1901 - custom_mae: 0.344 - ETA: 55:39 - loss: 0.1902 - custom_mae: 0.344 - ETA: 55:37 - loss: 0.1902 - custom_mae: 0.344 - ETA: 55:35 - loss: 0.1902 - custom_mae: 0.344 - ETA: 55:32 - loss: 0.1901 - custom_mae: 0.344 - ETA: 55:30 - loss: 0.1902 - custom_mae: 0.344 - ETA: 55:28 - loss: 0.1902 - custom_mae: 0.344 - ETA: 55:26 - loss: 0.1902 - custom_mae: 0.344 - ETA: 55:24 - loss: 0.1901 - custom_mae: 0.344 - ETA: 55:22 - loss: 0.1902 - custom_mae: 0.344 - ETA: 55:20 - loss: 0.1901 - custom_mae: 0.344 - ETA: 55:18 - loss: 0.1901 - custom_mae: 0.344 - ETA: 55:16 - loss: 0.1900 - custom_mae: 0.344 - ETA: 55:14 - loss: 0.1900 - custom_mae: 0.344 - ETA: 55:12 - loss: 0.1900 - custom_mae: 0.344 - ETA: 55:10 - loss: 0.1899 - custom_mae: 0.343 - ETA: 55:07 - loss: 0.1899 - custom_mae: 0.343 - ETA: 55:05 - loss: 0.1899 - custom_mae: 0.343 - ETA: 55:03 - loss: 0.1899 - custom_mae: 0.343 - ETA: 55:01 - loss: 0.1899 - custom_mae: 0.343 - ETA: 54:59 - loss: 0.1899 - custom_mae: 0.343 - ETA: 54:57 - loss: 0.1899 - custom_mae: 0.343 - ETA: 54:55 - loss: 0.1899 - custom_mae: 0.343 - ETA: 54:53 - loss: 0.1899 - custom_mae: 0.343 - ETA: 54:51 - loss: 0.1898 - custom_mae: 0.343 - ETA: 54:49 - loss: 0.1899 - custom_mae: 0.343 - ETA: 54:46 - loss: 0.1898 - custom_mae: 0.343 - ETA: 54:44 - loss: 0.1899 - custom_mae: 0.343 - ETA: 54:42 - loss: 0.1898 - custom_mae: 0.343 - ETA: 54:40 - loss: 0.1898 - custom_mae: 0.343 - ETA: 54:38 - loss: 0.1898 - custom_mae: 0.343 - ETA: 54:36 - loss: 0.1897 - custom_mae: 0.343 - ETA: 54:34 - loss: 0.1898 - custom_mae: 0.343 - ETA: 54:32 - loss: 0.1897 - custom_mae: 0.343 - ETA: 54:30 - loss: 0.1897 - custom_mae: 0.343 - ETA: 54:28 - loss: 0.1897 - custom_mae: 0.343 - ETA: 54:25 - loss: 0.1896 - custom_mae: 0.343 - ETA: 54:23 - loss: 0.1897 - custom_mae: 0.343 - ETA: 54:21 - loss: 0.1896 - custom_mae: 0.343 - ETA: 54:19 - loss: 0.1896 - custom_mae: 0.343 - ETA: 54:17 - loss: 0.1896 - custom_mae: 0.343 - ETA: 54:15 - loss: 0.1896 - custom_mae: 0.343 - ETA: 54:13 - loss: 0.1895 - custom_mae: 0.343 - ETA: 54:11 - loss: 0.1895 - custom_mae: 0.343 - ETA: 54:09 - loss: 0.1896 - custom_mae: 0.343 - ETA: 54:07 - loss: 0.1895 - custom_mae: 0.343 - ETA: 54:04 - loss: 0.1895 - custom_mae: 0.343 - ETA: 54:02 - loss: 0.1894 - custom_mae: 0.343 - ETA: 54:00 - loss: 0.1894 - custom_mae: 0.343 - ETA: 53:58 - loss: 0.1895 - custom_mae: 0.343 - ETA: 53:56 - loss: 0.1895 - custom_mae: 0.343 - ETA: 53:54 - loss: 0.1894 - custom_mae: 0.343 - ETA: 53:52 - loss: 0.1894 - custom_mae: 0.343 - ETA: 53:50 - loss: 0.1894 - custom_mae: 0.343 - ETA: 53:48 - loss: 0.1894 - custom_mae: 0.343 - ETA: 53:46 - loss: 0.1894 - custom_mae: 0.343 - ETA: 53:43 - loss: 0.1894 - custom_mae: 0.343 - ETA: 53:41 - loss: 0.1894 - custom_mae: 0.343 - ETA: 53:39 - loss: 0.1894 - custom_mae: 0.343 - ETA: 53:37 - loss: 0.1893 - custom_mae: 0.343 - ETA: 53:35 - loss: 0.1893 - custom_mae: 0.343 - ETA: 53:33 - loss: 0.1893 - custom_mae: 0.343 - ETA: 53:31 - loss: 0.1893 - custom_mae: 0.343 - ETA: 53:29 - loss: 0.1894 - custom_mae: 0.343 - ETA: 53:27 - loss: 0.1894 - custom_mae: 0.343 - ETA: 53:24 - loss: 0.1894 - custom_mae: 0.343 - ETA: 53:22 - loss: 0.1893 - custom_mae: 0.343 - ETA: 53:20 - loss: 0.1893 - custom_mae: 0.343 - ETA: 53:18 - loss: 0.1893 - custom_mae: 0.343 - ETA: 53:16 - loss: 0.1893 - custom_mae: 0.343 - ETA: 53:14 - loss: 0.1893 - custom_mae: 0.343 - ETA: 53:12 - loss: 0.1892 - custom_mae: 0.343 - ETA: 53:10 - loss: 0.1892 - custom_mae: 0.343 - ETA: 53:08 - loss: 0.1891 - custom_mae: 0.343 - ETA: 53:06 - loss: 0.1891 - custom_mae: 0.343 - ETA: 53:04 - loss: 0.1891 - custom_mae: 0.343 - ETA: 53:02 - loss: 0.1891 - custom_mae: 0.343 - ETA: 52:59 - loss: 0.1892 - custom_mae: 0.343 - ETA: 52:57 - loss: 0.1892 - custom_mae: 0.343 - ETA: 52:55 - loss: 0.1893 - custom_mae: 0.343 - ETA: 52:53 - loss: 0.1892 - custom_mae: 0.343 - ETA: 52:51 - loss: 0.1892 - custom_mae: 0.343 - ETA: 52:49 - loss: 0.1893 - custom_mae: 0.343 - ETA: 52:47 - loss: 0.1892 - custom_mae: 0.3431"
     ]
    },
    {
     "name": "stdout",
     "output_type": "stream",
     "text": [
      "1158/2500 [============>.................] - ETA: 52:45 - loss: 0.1892 - custom_mae: 0.343 - ETA: 52:43 - loss: 0.1892 - custom_mae: 0.343 - ETA: 52:41 - loss: 0.1892 - custom_mae: 0.343 - ETA: 52:38 - loss: 0.1892 - custom_mae: 0.343 - ETA: 52:36 - loss: 0.1892 - custom_mae: 0.343 - ETA: 52:34 - loss: 0.1893 - custom_mae: 0.343 - ETA: 52:32 - loss: 0.1892 - custom_mae: 0.343 - ETA: 52:30 - loss: 0.1892 - custom_mae: 0.343 - ETA: 52:28 - loss: 0.1892 - custom_mae: 0.343 - ETA: 52:26 - loss: 0.1892 - custom_mae: 0.343 - ETA: 52:24 - loss: 0.1892 - custom_mae: 0.343 - ETA: 52:22 - loss: 0.1892 - custom_mae: 0.343 - ETA: 52:20 - loss: 0.1892 - custom_mae: 0.343 - ETA: 52:18 - loss: 0.1892 - custom_mae: 0.343 - ETA: 52:16 - loss: 0.1892 - custom_mae: 0.343 - ETA: 52:13 - loss: 0.1892 - custom_mae: 0.343 - ETA: 52:11 - loss: 0.1892 - custom_mae: 0.343 - ETA: 52:09 - loss: 0.1891 - custom_mae: 0.342 - ETA: 52:07 - loss: 0.1891 - custom_mae: 0.342 - ETA: 52:05 - loss: 0.1891 - custom_mae: 0.342 - ETA: 52:03 - loss: 0.1891 - custom_mae: 0.342 - ETA: 52:01 - loss: 0.1891 - custom_mae: 0.342 - ETA: 51:59 - loss: 0.1891 - custom_mae: 0.342 - ETA: 51:57 - loss: 0.1891 - custom_mae: 0.342 - ETA: 51:55 - loss: 0.1891 - custom_mae: 0.342 - ETA: 51:52 - loss: 0.1891 - custom_mae: 0.342 - ETA: 51:50 - loss: 0.1890 - custom_mae: 0.342 - ETA: 51:48 - loss: 0.1890 - custom_mae: 0.342 - ETA: 51:46 - loss: 0.1890 - custom_mae: 0.342 - ETA: 51:44 - loss: 0.1889 - custom_mae: 0.342 - ETA: 51:42 - loss: 0.1889 - custom_mae: 0.342 - ETA: 51:40 - loss: 0.1889 - custom_mae: 0.342 - ETA: 51:38 - loss: 0.1889 - custom_mae: 0.342 - ETA: 51:36 - loss: 0.1890 - custom_mae: 0.342 - ETA: 51:33 - loss: 0.1890 - custom_mae: 0.342 - ETA: 51:31 - loss: 0.1890 - custom_mae: 0.342 - ETA: 51:29 - loss: 0.1890 - custom_mae: 0.342 - ETA: 51:27 - loss: 0.1890 - custom_mae: 0.342 - ETA: 51:25 - loss: 0.1890 - custom_mae: 0.342 - ETA: 51:23 - loss: 0.1891 - custom_mae: 0.342 - ETA: 51:21 - loss: 0.1891 - custom_mae: 0.342 - ETA: 51:19 - loss: 0.1891 - custom_mae: 0.342 - ETA: 51:17 - loss: 0.1891 - custom_mae: 0.342 - ETA: 51:15 - loss: 0.1890 - custom_mae: 0.342 - ETA: 51:12 - loss: 0.1890 - custom_mae: 0.342 - ETA: 51:10 - loss: 0.1890 - custom_mae: 0.342 - ETA: 51:08 - loss: 0.1890 - custom_mae: 0.342 - ETA: 51:06 - loss: 0.1890 - custom_mae: 0.342 - ETA: 51:04 - loss: 0.1890 - custom_mae: 0.342 - ETA: 51:02 - loss: 0.1891 - custom_mae: 0.342 - ETA: 51:00 - loss: 0.1891 - custom_mae: 0.342 - ETA: 50:58 - loss: 0.1891 - custom_mae: 0.342 - ETA: 50:56 - loss: 0.1891 - custom_mae: 0.342 - ETA: 50:54 - loss: 0.1891 - custom_mae: 0.342 - ETA: 50:52 - loss: 0.1891 - custom_mae: 0.342 - ETA: 50:49 - loss: 0.1891 - custom_mae: 0.342 - ETA: 50:47 - loss: 0.1891 - custom_mae: 0.342 - ETA: 50:45 - loss: 0.1891 - custom_mae: 0.342 - ETA: 50:43 - loss: 0.1890 - custom_mae: 0.342 - ETA: 50:41 - loss: 0.1890 - custom_mae: 0.342 - ETA: 50:39 - loss: 0.1890 - custom_mae: 0.342 - ETA: 50:37 - loss: 0.1889 - custom_mae: 0.342 - ETA: 50:35 - loss: 0.1889 - custom_mae: 0.342 - ETA: 50:33 - loss: 0.1889 - custom_mae: 0.342 - ETA: 50:31 - loss: 0.1889 - custom_mae: 0.342 - ETA: 50:28 - loss: 0.1889 - custom_mae: 0.342 - ETA: 50:26 - loss: 0.1889 - custom_mae: 0.342 - ETA: 50:24 - loss: 0.1889 - custom_mae: 0.342 - ETA: 50:22 - loss: 0.1889 - custom_mae: 0.342 - ETA: 50:20 - loss: 0.1889 - custom_mae: 0.342 - ETA: 50:18 - loss: 0.1890 - custom_mae: 0.342 - ETA: 50:16 - loss: 0.1890 - custom_mae: 0.342 - ETA: 50:14 - loss: 0.1891 - custom_mae: 0.342 - ETA: 50:12 - loss: 0.1890 - custom_mae: 0.342 - ETA: 50:10 - loss: 0.1890 - custom_mae: 0.342 - ETA: 50:08 - loss: 0.1890 - custom_mae: 0.342 - ETA: 50:05 - loss: 0.1890 - custom_mae: 0.342 - ETA: 50:03 - loss: 0.1889 - custom_mae: 0.342 - ETA: 50:01 - loss: 0.1889 - custom_mae: 0.342 - ETA: 49:59 - loss: 0.1889 - custom_mae: 0.342 - ETA: 49:57 - loss: 0.1889 - custom_mae: 0.342 - ETA: 49:55 - loss: 0.1888 - custom_mae: 0.342 - ETA: 49:53 - loss: 0.1888 - custom_mae: 0.342 - ETA: 49:51 - loss: 0.1888 - custom_mae: 0.342 - ETA: 49:49 - loss: 0.1888 - custom_mae: 0.342 - ETA: 49:47 - loss: 0.1887 - custom_mae: 0.342 - ETA: 49:45 - loss: 0.1887 - custom_mae: 0.342 - ETA: 49:42 - loss: 0.1887 - custom_mae: 0.342 - ETA: 49:40 - loss: 0.1887 - custom_mae: 0.342 - ETA: 49:38 - loss: 0.1887 - custom_mae: 0.342 - ETA: 49:36 - loss: 0.1886 - custom_mae: 0.342 - ETA: 49:34 - loss: 0.1887 - custom_mae: 0.342 - ETA: 49:32 - loss: 0.1887 - custom_mae: 0.342 - ETA: 49:30 - loss: 0.1886 - custom_mae: 0.342 - ETA: 49:28 - loss: 0.1886 - custom_mae: 0.342 - ETA: 49:26 - loss: 0.1887 - custom_mae: 0.342 - ETA: 49:23 - loss: 0.1887 - custom_mae: 0.342 - ETA: 49:21 - loss: 0.1886 - custom_mae: 0.342 - ETA: 49:19 - loss: 0.1886 - custom_mae: 0.342 - ETA: 49:17 - loss: 0.1886 - custom_mae: 0.342 - ETA: 49:15 - loss: 0.1886 - custom_mae: 0.342 - ETA: 49:13 - loss: 0.1886 - custom_mae: 0.342 - ETA: 49:11 - loss: 0.1887 - custom_mae: 0.342 - ETA: 49:09 - loss: 0.1887 - custom_mae: 0.342 - ETA: 49:07 - loss: 0.1887 - custom_mae: 0.342 - ETA: 49:05 - loss: 0.1886 - custom_mae: 0.342 - ETA: 49:02 - loss: 0.1886 - custom_mae: 0.342 - ETA: 49:00 - loss: 0.1886 - custom_mae: 0.342 - ETA: 48:58 - loss: 0.1886 - custom_mae: 0.342 - ETA: 48:56 - loss: 0.1886 - custom_mae: 0.342 - ETA: 48:54 - loss: 0.1885 - custom_mae: 0.342 - ETA: 48:52 - loss: 0.1886 - custom_mae: 0.342 - ETA: 48:50 - loss: 0.1886 - custom_mae: 0.342 - ETA: 48:48 - loss: 0.1886 - custom_mae: 0.342 - ETA: 48:46 - loss: 0.1886 - custom_mae: 0.342 - ETA: 48:44 - loss: 0.1886 - custom_mae: 0.342 - ETA: 48:41 - loss: 0.1886 - custom_mae: 0.342 - ETA: 48:39 - loss: 0.1886 - custom_mae: 0.342 - ETA: 48:37 - loss: 0.1887 - custom_mae: 0.342 - ETA: 48:35 - loss: 0.1887 - custom_mae: 0.342 - ETA: 48:33 - loss: 0.1887 - custom_mae: 0.342 - ETA: 48:31 - loss: 0.1887 - custom_mae: 0.342 - ETA: 48:29 - loss: 0.1887 - custom_mae: 0.342 - ETA: 48:27 - loss: 0.1887 - custom_mae: 0.342 - ETA: 48:25 - loss: 0.1886 - custom_mae: 0.342 - ETA: 48:23 - loss: 0.1886 - custom_mae: 0.342 - ETA: 48:21 - loss: 0.1886 - custom_mae: 0.342 - ETA: 48:19 - loss: 0.1886 - custom_mae: 0.342 - ETA: 48:17 - loss: 0.1886 - custom_mae: 0.342 - ETA: 48:15 - loss: 0.1886 - custom_mae: 0.342 - ETA: 48:13 - loss: 0.1885 - custom_mae: 0.341 - ETA: 48:11 - loss: 0.1885 - custom_mae: 0.341 - ETA: 48:09 - loss: 0.1885 - custom_mae: 0.341 - ETA: 48:07 - loss: 0.1885 - custom_mae: 0.341 - ETA: 48:05 - loss: 0.1885 - custom_mae: 0.341 - ETA: 48:02 - loss: 0.1885 - custom_mae: 0.341 - ETA: 48:00 - loss: 0.1885 - custom_mae: 0.341 - ETA: 47:58 - loss: 0.1886 - custom_mae: 0.341 - ETA: 47:56 - loss: 0.1885 - custom_mae: 0.341 - ETA: 47:54 - loss: 0.1885 - custom_mae: 0.341 - ETA: 47:52 - loss: 0.1885 - custom_mae: 0.341 - ETA: 47:50 - loss: 0.1884 - custom_mae: 0.341 - ETA: 47:48 - loss: 0.1884 - custom_mae: 0.341 - ETA: 47:46 - loss: 0.1884 - custom_mae: 0.341 - ETA: 47:44 - loss: 0.1884 - custom_mae: 0.341 - ETA: 47:42 - loss: 0.1884 - custom_mae: 0.341 - ETA: 47:39 - loss: 0.1884 - custom_mae: 0.341 - ETA: 47:37 - loss: 0.1884 - custom_mae: 0.341 - ETA: 47:35 - loss: 0.1884 - custom_mae: 0.341 - ETA: 47:33 - loss: 0.1883 - custom_mae: 0.341 - ETA: 47:31 - loss: 0.1883 - custom_mae: 0.341 - ETA: 47:29 - loss: 0.1883 - custom_mae: 0.341 - ETA: 47:27 - loss: 0.1884 - custom_mae: 0.341 - ETA: 47:25 - loss: 0.1884 - custom_mae: 0.341 - ETA: 47:23 - loss: 0.1884 - custom_mae: 0.341 - ETA: 47:20 - loss: 0.1883 - custom_mae: 0.341 - ETA: 47:18 - loss: 0.1883 - custom_mae: 0.341 - ETA: 47:16 - loss: 0.1883 - custom_mae: 0.341 - ETA: 47:14 - loss: 0.1883 - custom_mae: 0.341 - ETA: 47:12 - loss: 0.1883 - custom_mae: 0.341 - ETA: 47:10 - loss: 0.1883 - custom_mae: 0.341 - ETA: 47:08 - loss: 0.1883 - custom_mae: 0.341 - ETA: 47:06 - loss: 0.1883 - custom_mae: 0.341 - ETA: 47:04 - loss: 0.1883 - custom_mae: 0.341 - ETA: 47:02 - loss: 0.1883 - custom_mae: 0.341 - ETA: 46:59 - loss: 0.1883 - custom_mae: 0.341 - ETA: 46:57 - loss: 0.1882 - custom_mae: 0.341 - ETA: 46:55 - loss: 0.1882 - custom_mae: 0.341 - ETA: 46:53 - loss: 0.1882 - custom_mae: 0.341 - ETA: 46:51 - loss: 0.1882 - custom_mae: 0.3415"
     ]
    },
    {
     "name": "stdout",
     "output_type": "stream",
     "text": [
      "1328/2500 [==============>...............] - ETA: 46:49 - loss: 0.1881 - custom_mae: 0.341 - ETA: 46:47 - loss: 0.1882 - custom_mae: 0.341 - ETA: 46:45 - loss: 0.1881 - custom_mae: 0.341 - ETA: 46:43 - loss: 0.1881 - custom_mae: 0.341 - ETA: 46:41 - loss: 0.1881 - custom_mae: 0.341 - ETA: 46:38 - loss: 0.1881 - custom_mae: 0.341 - ETA: 46:36 - loss: 0.1881 - custom_mae: 0.341 - ETA: 46:34 - loss: 0.1881 - custom_mae: 0.341 - ETA: 46:32 - loss: 0.1880 - custom_mae: 0.341 - ETA: 46:30 - loss: 0.1880 - custom_mae: 0.341 - ETA: 46:28 - loss: 0.1880 - custom_mae: 0.341 - ETA: 46:26 - loss: 0.1880 - custom_mae: 0.341 - ETA: 46:24 - loss: 0.1880 - custom_mae: 0.341 - ETA: 46:22 - loss: 0.1880 - custom_mae: 0.341 - ETA: 46:20 - loss: 0.1880 - custom_mae: 0.341 - ETA: 46:18 - loss: 0.1880 - custom_mae: 0.341 - ETA: 46:15 - loss: 0.1880 - custom_mae: 0.341 - ETA: 46:13 - loss: 0.1879 - custom_mae: 0.341 - ETA: 46:11 - loss: 0.1879 - custom_mae: 0.341 - ETA: 46:09 - loss: 0.1879 - custom_mae: 0.341 - ETA: 46:07 - loss: 0.1879 - custom_mae: 0.341 - ETA: 46:05 - loss: 0.1879 - custom_mae: 0.341 - ETA: 46:03 - loss: 0.1879 - custom_mae: 0.341 - ETA: 46:01 - loss: 0.1879 - custom_mae: 0.341 - ETA: 45:59 - loss: 0.1878 - custom_mae: 0.341 - ETA: 45:57 - loss: 0.1878 - custom_mae: 0.341 - ETA: 45:55 - loss: 0.1878 - custom_mae: 0.341 - ETA: 45:52 - loss: 0.1878 - custom_mae: 0.341 - ETA: 45:50 - loss: 0.1878 - custom_mae: 0.341 - ETA: 45:48 - loss: 0.1878 - custom_mae: 0.341 - ETA: 45:46 - loss: 0.1877 - custom_mae: 0.340 - ETA: 45:44 - loss: 0.1877 - custom_mae: 0.340 - ETA: 45:42 - loss: 0.1877 - custom_mae: 0.340 - ETA: 45:40 - loss: 0.1877 - custom_mae: 0.340 - ETA: 45:38 - loss: 0.1877 - custom_mae: 0.340 - ETA: 45:36 - loss: 0.1877 - custom_mae: 0.340 - ETA: 45:34 - loss: 0.1877 - custom_mae: 0.340 - ETA: 45:31 - loss: 0.1876 - custom_mae: 0.340 - ETA: 45:29 - loss: 0.1876 - custom_mae: 0.340 - ETA: 45:27 - loss: 0.1876 - custom_mae: 0.340 - ETA: 45:25 - loss: 0.1876 - custom_mae: 0.340 - ETA: 45:23 - loss: 0.1876 - custom_mae: 0.340 - ETA: 45:21 - loss: 0.1875 - custom_mae: 0.340 - ETA: 45:19 - loss: 0.1875 - custom_mae: 0.340 - ETA: 45:17 - loss: 0.1875 - custom_mae: 0.340 - ETA: 45:15 - loss: 0.1875 - custom_mae: 0.340 - ETA: 45:13 - loss: 0.1874 - custom_mae: 0.340 - ETA: 45:11 - loss: 0.1874 - custom_mae: 0.340 - ETA: 45:08 - loss: 0.1874 - custom_mae: 0.340 - ETA: 45:06 - loss: 0.1874 - custom_mae: 0.340 - ETA: 45:04 - loss: 0.1874 - custom_mae: 0.340 - ETA: 45:02 - loss: 0.1874 - custom_mae: 0.340 - ETA: 45:00 - loss: 0.1874 - custom_mae: 0.340 - ETA: 44:58 - loss: 0.1874 - custom_mae: 0.340 - ETA: 44:56 - loss: 0.1873 - custom_mae: 0.340 - ETA: 44:54 - loss: 0.1873 - custom_mae: 0.340 - ETA: 44:52 - loss: 0.1873 - custom_mae: 0.340 - ETA: 44:50 - loss: 0.1873 - custom_mae: 0.340 - ETA: 44:47 - loss: 0.1873 - custom_mae: 0.340 - ETA: 44:45 - loss: 0.1873 - custom_mae: 0.340 - ETA: 44:43 - loss: 0.1873 - custom_mae: 0.340 - ETA: 44:41 - loss: 0.1873 - custom_mae: 0.340 - ETA: 44:39 - loss: 0.1873 - custom_mae: 0.340 - ETA: 44:37 - loss: 0.1872 - custom_mae: 0.340 - ETA: 44:35 - loss: 0.1872 - custom_mae: 0.340 - ETA: 44:33 - loss: 0.1872 - custom_mae: 0.340 - ETA: 44:31 - loss: 0.1873 - custom_mae: 0.340 - ETA: 44:29 - loss: 0.1873 - custom_mae: 0.340 - ETA: 44:27 - loss: 0.1872 - custom_mae: 0.340 - ETA: 44:24 - loss: 0.1872 - custom_mae: 0.340 - ETA: 44:22 - loss: 0.1872 - custom_mae: 0.340 - ETA: 44:20 - loss: 0.1872 - custom_mae: 0.340 - ETA: 44:18 - loss: 0.1872 - custom_mae: 0.340 - ETA: 44:16 - loss: 0.1872 - custom_mae: 0.340 - ETA: 44:14 - loss: 0.1872 - custom_mae: 0.340 - ETA: 44:12 - loss: 0.1871 - custom_mae: 0.340 - ETA: 44:10 - loss: 0.1871 - custom_mae: 0.340 - ETA: 44:08 - loss: 0.1871 - custom_mae: 0.340 - ETA: 44:06 - loss: 0.1871 - custom_mae: 0.340 - ETA: 44:04 - loss: 0.1871 - custom_mae: 0.340 - ETA: 44:02 - loss: 0.1871 - custom_mae: 0.340 - ETA: 44:00 - loss: 0.1870 - custom_mae: 0.340 - ETA: 43:58 - loss: 0.1870 - custom_mae: 0.340 - ETA: 43:55 - loss: 0.1870 - custom_mae: 0.340 - ETA: 43:53 - loss: 0.1870 - custom_mae: 0.340 - ETA: 43:51 - loss: 0.1870 - custom_mae: 0.340 - ETA: 43:49 - loss: 0.1870 - custom_mae: 0.340 - ETA: 43:47 - loss: 0.1869 - custom_mae: 0.340 - ETA: 43:45 - loss: 0.1870 - custom_mae: 0.340 - ETA: 43:43 - loss: 0.1870 - custom_mae: 0.340 - ETA: 43:41 - loss: 0.1870 - custom_mae: 0.340 - ETA: 43:39 - loss: 0.1870 - custom_mae: 0.340 - ETA: 43:37 - loss: 0.1870 - custom_mae: 0.340 - ETA: 43:35 - loss: 0.1870 - custom_mae: 0.340 - ETA: 43:33 - loss: 0.1869 - custom_mae: 0.339 - ETA: 43:31 - loss: 0.1869 - custom_mae: 0.339 - ETA: 43:29 - loss: 0.1868 - custom_mae: 0.339 - ETA: 43:27 - loss: 0.1868 - custom_mae: 0.339 - ETA: 43:24 - loss: 0.1868 - custom_mae: 0.339 - ETA: 43:22 - loss: 0.1868 - custom_mae: 0.339 - ETA: 43:20 - loss: 0.1868 - custom_mae: 0.339 - ETA: 43:18 - loss: 0.1868 - custom_mae: 0.339 - ETA: 43:16 - loss: 0.1867 - custom_mae: 0.339 - ETA: 43:14 - loss: 0.1868 - custom_mae: 0.339 - ETA: 43:12 - loss: 0.1868 - custom_mae: 0.339 - ETA: 43:10 - loss: 0.1867 - custom_mae: 0.339 - ETA: 43:08 - loss: 0.1868 - custom_mae: 0.339 - ETA: 43:06 - loss: 0.1868 - custom_mae: 0.339 - ETA: 43:03 - loss: 0.1867 - custom_mae: 0.339 - ETA: 43:01 - loss: 0.1867 - custom_mae: 0.339 - ETA: 42:59 - loss: 0.1867 - custom_mae: 0.339 - ETA: 42:57 - loss: 0.1866 - custom_mae: 0.339 - ETA: 42:55 - loss: 0.1866 - custom_mae: 0.339 - ETA: 42:53 - loss: 0.1867 - custom_mae: 0.339 - ETA: 42:51 - loss: 0.1866 - custom_mae: 0.339 - ETA: 42:49 - loss: 0.1866 - custom_mae: 0.339 - ETA: 42:47 - loss: 0.1866 - custom_mae: 0.339 - ETA: 42:45 - loss: 0.1866 - custom_mae: 0.339 - ETA: 42:42 - loss: 0.1866 - custom_mae: 0.339 - ETA: 42:40 - loss: 0.1866 - custom_mae: 0.339 - ETA: 42:38 - loss: 0.1866 - custom_mae: 0.339 - ETA: 42:36 - loss: 0.1866 - custom_mae: 0.339 - ETA: 42:34 - loss: 0.1866 - custom_mae: 0.339 - ETA: 42:32 - loss: 0.1866 - custom_mae: 0.339 - ETA: 42:30 - loss: 0.1866 - custom_mae: 0.339 - ETA: 42:28 - loss: 0.1866 - custom_mae: 0.339 - ETA: 42:26 - loss: 0.1867 - custom_mae: 0.339 - ETA: 42:24 - loss: 0.1866 - custom_mae: 0.339 - ETA: 42:22 - loss: 0.1866 - custom_mae: 0.339 - ETA: 42:19 - loss: 0.1866 - custom_mae: 0.339 - ETA: 42:17 - loss: 0.1866 - custom_mae: 0.339 - ETA: 42:15 - loss: 0.1866 - custom_mae: 0.339 - ETA: 42:13 - loss: 0.1865 - custom_mae: 0.339 - ETA: 42:11 - loss: 0.1865 - custom_mae: 0.339 - ETA: 42:09 - loss: 0.1865 - custom_mae: 0.339 - ETA: 42:07 - loss: 0.1864 - custom_mae: 0.339 - ETA: 42:05 - loss: 0.1864 - custom_mae: 0.339 - ETA: 42:03 - loss: 0.1865 - custom_mae: 0.339 - ETA: 42:00 - loss: 0.1865 - custom_mae: 0.339 - ETA: 41:58 - loss: 0.1864 - custom_mae: 0.339 - ETA: 41:56 - loss: 0.1865 - custom_mae: 0.339 - ETA: 41:54 - loss: 0.1864 - custom_mae: 0.339 - ETA: 41:52 - loss: 0.1864 - custom_mae: 0.339 - ETA: 41:50 - loss: 0.1864 - custom_mae: 0.339 - ETA: 41:48 - loss: 0.1864 - custom_mae: 0.339 - ETA: 41:46 - loss: 0.1864 - custom_mae: 0.339 - ETA: 41:44 - loss: 0.1863 - custom_mae: 0.339 - ETA: 41:42 - loss: 0.1863 - custom_mae: 0.339 - ETA: 41:39 - loss: 0.1863 - custom_mae: 0.339 - ETA: 41:37 - loss: 0.1863 - custom_mae: 0.339 - ETA: 41:35 - loss: 0.1863 - custom_mae: 0.339 - ETA: 41:33 - loss: 0.1863 - custom_mae: 0.339 - ETA: 41:31 - loss: 0.1863 - custom_mae: 0.339 - ETA: 41:29 - loss: 0.1863 - custom_mae: 0.339 - ETA: 41:27 - loss: 0.1863 - custom_mae: 0.339 - ETA: 41:25 - loss: 0.1863 - custom_mae: 0.339 - ETA: 41:23 - loss: 0.1863 - custom_mae: 0.339 - ETA: 41:21 - loss: 0.1863 - custom_mae: 0.339 - ETA: 41:19 - loss: 0.1863 - custom_mae: 0.339 - ETA: 41:16 - loss: 0.1863 - custom_mae: 0.339 - ETA: 41:14 - loss: 0.1863 - custom_mae: 0.339 - ETA: 41:12 - loss: 0.1863 - custom_mae: 0.339 - ETA: 41:10 - loss: 0.1863 - custom_mae: 0.339 - ETA: 41:08 - loss: 0.1862 - custom_mae: 0.339 - ETA: 41:06 - loss: 0.1862 - custom_mae: 0.339 - ETA: 41:04 - loss: 0.1862 - custom_mae: 0.339 - ETA: 41:02 - loss: 0.1862 - custom_mae: 0.339 - ETA: 41:00 - loss: 0.1862 - custom_mae: 0.338 - ETA: 40:58 - loss: 0.1861 - custom_mae: 0.338 - ETA: 40:55 - loss: 0.1862 - custom_mae: 0.3389"
     ]
    },
    {
     "name": "stdout",
     "output_type": "stream",
     "text": [
      "1498/2500 [================>.............] - ETA: 40:53 - loss: 0.1861 - custom_mae: 0.338 - ETA: 40:51 - loss: 0.1861 - custom_mae: 0.338 - ETA: 40:49 - loss: 0.1861 - custom_mae: 0.338 - ETA: 40:47 - loss: 0.1861 - custom_mae: 0.338 - ETA: 40:45 - loss: 0.1860 - custom_mae: 0.338 - ETA: 40:43 - loss: 0.1860 - custom_mae: 0.338 - ETA: 40:41 - loss: 0.1860 - custom_mae: 0.338 - ETA: 40:39 - loss: 0.1860 - custom_mae: 0.338 - ETA: 40:37 - loss: 0.1860 - custom_mae: 0.338 - ETA: 40:35 - loss: 0.1859 - custom_mae: 0.338 - ETA: 40:32 - loss: 0.1859 - custom_mae: 0.338 - ETA: 40:30 - loss: 0.1859 - custom_mae: 0.338 - ETA: 40:28 - loss: 0.1859 - custom_mae: 0.338 - ETA: 40:26 - loss: 0.1859 - custom_mae: 0.338 - ETA: 40:24 - loss: 0.1858 - custom_mae: 0.338 - ETA: 40:22 - loss: 0.1858 - custom_mae: 0.338 - ETA: 40:20 - loss: 0.1858 - custom_mae: 0.338 - ETA: 40:18 - loss: 0.1858 - custom_mae: 0.338 - ETA: 40:16 - loss: 0.1857 - custom_mae: 0.338 - ETA: 40:14 - loss: 0.1858 - custom_mae: 0.338 - ETA: 40:12 - loss: 0.1857 - custom_mae: 0.338 - ETA: 40:09 - loss: 0.1857 - custom_mae: 0.338 - ETA: 40:07 - loss: 0.1857 - custom_mae: 0.338 - ETA: 40:05 - loss: 0.1857 - custom_mae: 0.338 - ETA: 40:03 - loss: 0.1857 - custom_mae: 0.338 - ETA: 40:01 - loss: 0.1857 - custom_mae: 0.338 - ETA: 39:59 - loss: 0.1857 - custom_mae: 0.338 - ETA: 39:57 - loss: 0.1857 - custom_mae: 0.338 - ETA: 39:55 - loss: 0.1857 - custom_mae: 0.338 - ETA: 39:53 - loss: 0.1857 - custom_mae: 0.338 - ETA: 39:51 - loss: 0.1857 - custom_mae: 0.338 - ETA: 39:49 - loss: 0.1856 - custom_mae: 0.338 - ETA: 39:46 - loss: 0.1856 - custom_mae: 0.338 - ETA: 39:44 - loss: 0.1857 - custom_mae: 0.338 - ETA: 39:42 - loss: 0.1857 - custom_mae: 0.338 - ETA: 39:40 - loss: 0.1856 - custom_mae: 0.338 - ETA: 39:38 - loss: 0.1856 - custom_mae: 0.338 - ETA: 39:36 - loss: 0.1856 - custom_mae: 0.338 - ETA: 39:34 - loss: 0.1856 - custom_mae: 0.338 - ETA: 39:32 - loss: 0.1856 - custom_mae: 0.338 - ETA: 39:30 - loss: 0.1855 - custom_mae: 0.338 - ETA: 39:28 - loss: 0.1855 - custom_mae: 0.338 - ETA: 39:25 - loss: 0.1855 - custom_mae: 0.338 - ETA: 39:23 - loss: 0.1855 - custom_mae: 0.338 - ETA: 39:21 - loss: 0.1855 - custom_mae: 0.338 - ETA: 39:19 - loss: 0.1855 - custom_mae: 0.338 - ETA: 39:17 - loss: 0.1855 - custom_mae: 0.338 - ETA: 39:15 - loss: 0.1855 - custom_mae: 0.338 - ETA: 39:13 - loss: 0.1855 - custom_mae: 0.338 - ETA: 39:11 - loss: 0.1855 - custom_mae: 0.338 - ETA: 39:09 - loss: 0.1855 - custom_mae: 0.338 - ETA: 39:07 - loss: 0.1855 - custom_mae: 0.338 - ETA: 39:04 - loss: 0.1855 - custom_mae: 0.338 - ETA: 39:02 - loss: 0.1855 - custom_mae: 0.338 - ETA: 39:00 - loss: 0.1855 - custom_mae: 0.338 - ETA: 38:58 - loss: 0.1854 - custom_mae: 0.338 - ETA: 38:56 - loss: 0.1854 - custom_mae: 0.338 - ETA: 38:54 - loss: 0.1854 - custom_mae: 0.338 - ETA: 38:52 - loss: 0.1853 - custom_mae: 0.338 - ETA: 38:50 - loss: 0.1853 - custom_mae: 0.337 - ETA: 38:48 - loss: 0.1853 - custom_mae: 0.337 - ETA: 38:46 - loss: 0.1853 - custom_mae: 0.337 - ETA: 38:43 - loss: 0.1853 - custom_mae: 0.337 - ETA: 38:41 - loss: 0.1853 - custom_mae: 0.337 - ETA: 38:39 - loss: 0.1853 - custom_mae: 0.337 - ETA: 38:37 - loss: 0.1853 - custom_mae: 0.337 - ETA: 38:35 - loss: 0.1853 - custom_mae: 0.337 - ETA: 38:33 - loss: 0.1853 - custom_mae: 0.337 - ETA: 38:31 - loss: 0.1852 - custom_mae: 0.337 - ETA: 38:29 - loss: 0.1852 - custom_mae: 0.337 - ETA: 38:27 - loss: 0.1852 - custom_mae: 0.337 - ETA: 38:25 - loss: 0.1852 - custom_mae: 0.337 - ETA: 38:22 - loss: 0.1852 - custom_mae: 0.337 - ETA: 38:20 - loss: 0.1852 - custom_mae: 0.337 - ETA: 38:18 - loss: 0.1852 - custom_mae: 0.337 - ETA: 38:16 - loss: 0.1852 - custom_mae: 0.337 - ETA: 38:14 - loss: 0.1852 - custom_mae: 0.337 - ETA: 38:12 - loss: 0.1852 - custom_mae: 0.337 - ETA: 38:10 - loss: 0.1852 - custom_mae: 0.337 - ETA: 38:08 - loss: 0.1851 - custom_mae: 0.337 - ETA: 38:06 - loss: 0.1851 - custom_mae: 0.337 - ETA: 38:04 - loss: 0.1851 - custom_mae: 0.337 - ETA: 38:02 - loss: 0.1851 - custom_mae: 0.337 - ETA: 37:59 - loss: 0.1851 - custom_mae: 0.337 - ETA: 37:57 - loss: 0.1850 - custom_mae: 0.337 - ETA: 37:55 - loss: 0.1850 - custom_mae: 0.337 - ETA: 37:53 - loss: 0.1850 - custom_mae: 0.337 - ETA: 37:51 - loss: 0.1850 - custom_mae: 0.337 - ETA: 37:49 - loss: 0.1850 - custom_mae: 0.337 - ETA: 37:47 - loss: 0.1849 - custom_mae: 0.337 - ETA: 37:45 - loss: 0.1849 - custom_mae: 0.337 - ETA: 37:43 - loss: 0.1849 - custom_mae: 0.337 - ETA: 37:41 - loss: 0.1849 - custom_mae: 0.337 - ETA: 37:38 - loss: 0.1849 - custom_mae: 0.337 - ETA: 37:36 - loss: 0.1849 - custom_mae: 0.337 - ETA: 37:34 - loss: 0.1849 - custom_mae: 0.337 - ETA: 37:32 - loss: 0.1849 - custom_mae: 0.337 - ETA: 37:30 - loss: 0.1849 - custom_mae: 0.337 - ETA: 37:28 - loss: 0.1849 - custom_mae: 0.337 - ETA: 37:26 - loss: 0.1849 - custom_mae: 0.337 - ETA: 37:24 - loss: 0.1849 - custom_mae: 0.337 - ETA: 37:22 - loss: 0.1849 - custom_mae: 0.337 - ETA: 37:20 - loss: 0.1849 - custom_mae: 0.337 - ETA: 37:17 - loss: 0.1848 - custom_mae: 0.337 - ETA: 37:15 - loss: 0.1848 - custom_mae: 0.337 - ETA: 37:13 - loss: 0.1848 - custom_mae: 0.337 - ETA: 37:11 - loss: 0.1848 - custom_mae: 0.337 - ETA: 37:09 - loss: 0.1848 - custom_mae: 0.337 - ETA: 37:07 - loss: 0.1848 - custom_mae: 0.337 - ETA: 37:05 - loss: 0.1848 - custom_mae: 0.337 - ETA: 37:03 - loss: 0.1848 - custom_mae: 0.337 - ETA: 37:01 - loss: 0.1848 - custom_mae: 0.337 - ETA: 36:59 - loss: 0.1847 - custom_mae: 0.337 - ETA: 36:56 - loss: 0.1847 - custom_mae: 0.337 - ETA: 36:54 - loss: 0.1847 - custom_mae: 0.337 - ETA: 36:52 - loss: 0.1847 - custom_mae: 0.337 - ETA: 36:50 - loss: 0.1847 - custom_mae: 0.337 - ETA: 36:48 - loss: 0.1846 - custom_mae: 0.337 - ETA: 36:46 - loss: 0.1846 - custom_mae: 0.337 - ETA: 36:44 - loss: 0.1846 - custom_mae: 0.337 - ETA: 36:42 - loss: 0.1845 - custom_mae: 0.337 - ETA: 36:40 - loss: 0.1845 - custom_mae: 0.337 - ETA: 36:38 - loss: 0.1845 - custom_mae: 0.337 - ETA: 36:36 - loss: 0.1845 - custom_mae: 0.337 - ETA: 36:33 - loss: 0.1845 - custom_mae: 0.337 - ETA: 36:31 - loss: 0.1844 - custom_mae: 0.337 - ETA: 36:29 - loss: 0.1844 - custom_mae: 0.337 - ETA: 36:27 - loss: 0.1844 - custom_mae: 0.336 - ETA: 36:25 - loss: 0.1844 - custom_mae: 0.336 - ETA: 36:23 - loss: 0.1844 - custom_mae: 0.336 - ETA: 36:21 - loss: 0.1844 - custom_mae: 0.336 - ETA: 36:19 - loss: 0.1844 - custom_mae: 0.336 - ETA: 36:17 - loss: 0.1844 - custom_mae: 0.336 - ETA: 36:15 - loss: 0.1844 - custom_mae: 0.336 - ETA: 36:12 - loss: 0.1844 - custom_mae: 0.336 - ETA: 36:10 - loss: 0.1844 - custom_mae: 0.336 - ETA: 36:08 - loss: 0.1844 - custom_mae: 0.336 - ETA: 36:06 - loss: 0.1844 - custom_mae: 0.336 - ETA: 36:04 - loss: 0.1844 - custom_mae: 0.336 - ETA: 36:02 - loss: 0.1844 - custom_mae: 0.336 - ETA: 36:00 - loss: 0.1844 - custom_mae: 0.336 - ETA: 35:58 - loss: 0.1844 - custom_mae: 0.336 - ETA: 35:56 - loss: 0.1844 - custom_mae: 0.336 - ETA: 35:54 - loss: 0.1843 - custom_mae: 0.336 - ETA: 35:52 - loss: 0.1844 - custom_mae: 0.336 - ETA: 35:49 - loss: 0.1844 - custom_mae: 0.336 - ETA: 35:47 - loss: 0.1844 - custom_mae: 0.336 - ETA: 35:45 - loss: 0.1843 - custom_mae: 0.336 - ETA: 35:43 - loss: 0.1843 - custom_mae: 0.336 - ETA: 35:41 - loss: 0.1843 - custom_mae: 0.336 - ETA: 35:39 - loss: 0.1843 - custom_mae: 0.336 - ETA: 35:37 - loss: 0.1843 - custom_mae: 0.336 - ETA: 35:35 - loss: 0.1843 - custom_mae: 0.336 - ETA: 35:33 - loss: 0.1843 - custom_mae: 0.336 - ETA: 35:31 - loss: 0.1843 - custom_mae: 0.336 - ETA: 35:28 - loss: 0.1843 - custom_mae: 0.336 - ETA: 35:26 - loss: 0.1843 - custom_mae: 0.336 - ETA: 35:24 - loss: 0.1843 - custom_mae: 0.336 - ETA: 35:22 - loss: 0.1842 - custom_mae: 0.336 - ETA: 35:20 - loss: 0.1842 - custom_mae: 0.336 - ETA: 35:18 - loss: 0.1842 - custom_mae: 0.336 - ETA: 35:16 - loss: 0.1842 - custom_mae: 0.336 - ETA: 35:14 - loss: 0.1841 - custom_mae: 0.336 - ETA: 35:12 - loss: 0.1841 - custom_mae: 0.336 - ETA: 35:10 - loss: 0.1841 - custom_mae: 0.336 - ETA: 35:08 - loss: 0.1841 - custom_mae: 0.336 - ETA: 35:05 - loss: 0.1841 - custom_mae: 0.336 - ETA: 35:03 - loss: 0.1841 - custom_mae: 0.336 - ETA: 35:01 - loss: 0.1841 - custom_mae: 0.336 - ETA: 34:59 - loss: 0.1841 - custom_mae: 0.3364"
     ]
    },
    {
     "name": "stdout",
     "output_type": "stream",
     "text": [
      "1606/2500 [==================>...........] - ETA: 34:57 - loss: 0.1841 - custom_mae: 0.336 - ETA: 34:55 - loss: 0.1840 - custom_mae: 0.336 - ETA: 34:53 - loss: 0.1841 - custom_mae: 0.336 - ETA: 34:51 - loss: 0.1840 - custom_mae: 0.336 - ETA: 34:49 - loss: 0.1841 - custom_mae: 0.336 - ETA: 34:47 - loss: 0.1841 - custom_mae: 0.336 - ETA: 34:45 - loss: 0.1841 - custom_mae: 0.336 - ETA: 34:43 - loss: 0.1841 - custom_mae: 0.336 - ETA: 34:40 - loss: 0.1841 - custom_mae: 0.336 - ETA: 34:38 - loss: 0.1841 - custom_mae: 0.336 - ETA: 34:36 - loss: 0.1840 - custom_mae: 0.336 - ETA: 34:34 - loss: 0.1841 - custom_mae: 0.336 - ETA: 34:32 - loss: 0.1840 - custom_mae: 0.336 - ETA: 34:30 - loss: 0.1840 - custom_mae: 0.336 - ETA: 34:28 - loss: 0.1840 - custom_mae: 0.336 - ETA: 34:26 - loss: 0.1840 - custom_mae: 0.336 - ETA: 34:24 - loss: 0.1840 - custom_mae: 0.336 - ETA: 34:22 - loss: 0.1840 - custom_mae: 0.336 - ETA: 34:20 - loss: 0.1841 - custom_mae: 0.336 - ETA: 34:18 - loss: 0.1840 - custom_mae: 0.336 - ETA: 34:16 - loss: 0.1840 - custom_mae: 0.336 - ETA: 34:13 - loss: 0.1840 - custom_mae: 0.336 - ETA: 34:11 - loss: 0.1840 - custom_mae: 0.336 - ETA: 34:09 - loss: 0.1840 - custom_mae: 0.336 - ETA: 34:07 - loss: 0.1840 - custom_mae: 0.336 - ETA: 34:05 - loss: 0.1840 - custom_mae: 0.336 - ETA: 34:03 - loss: 0.1840 - custom_mae: 0.336 - ETA: 34:01 - loss: 0.1840 - custom_mae: 0.336 - ETA: 33:59 - loss: 0.1840 - custom_mae: 0.336 - ETA: 33:57 - loss: 0.1839 - custom_mae: 0.336 - ETA: 33:55 - loss: 0.1839 - custom_mae: 0.336 - ETA: 33:53 - loss: 0.1839 - custom_mae: 0.336 - ETA: 33:51 - loss: 0.1839 - custom_mae: 0.336 - ETA: 33:48 - loss: 0.1840 - custom_mae: 0.336 - ETA: 33:46 - loss: 0.1840 - custom_mae: 0.336 - ETA: 33:44 - loss: 0.1839 - custom_mae: 0.336 - ETA: 33:42 - loss: 0.1839 - custom_mae: 0.336 - ETA: 33:40 - loss: 0.1839 - custom_mae: 0.336 - ETA: 33:38 - loss: 0.1839 - custom_mae: 0.336 - ETA: 33:36 - loss: 0.1839 - custom_mae: 0.336 - ETA: 33:34 - loss: 0.1839 - custom_mae: 0.336 - ETA: 33:32 - loss: 0.1839 - custom_mae: 0.336 - ETA: 33:30 - loss: 0.1839 - custom_mae: 0.336 - ETA: 33:28 - loss: 0.1839 - custom_mae: 0.336 - ETA: 33:26 - loss: 0.1838 - custom_mae: 0.336 - ETA: 33:24 - loss: 0.1838 - custom_mae: 0.336 - ETA: 33:21 - loss: 0.1838 - custom_mae: 0.336 - ETA: 33:19 - loss: 0.1838 - custom_mae: 0.336 - ETA: 33:17 - loss: 0.1838 - custom_mae: 0.336 - ETA: 33:15 - loss: 0.1838 - custom_mae: 0.336 - ETA: 33:13 - loss: 0.1838 - custom_mae: 0.336 - ETA: 33:11 - loss: 0.1838 - custom_mae: 0.336 - ETA: 33:09 - loss: 0.1838 - custom_mae: 0.336 - ETA: 33:07 - loss: 0.1838 - custom_mae: 0.336 - ETA: 33:05 - loss: 0.1838 - custom_mae: 0.336 - ETA: 33:03 - loss: 0.1837 - custom_mae: 0.335 - ETA: 33:01 - loss: 0.1837 - custom_mae: 0.335 - ETA: 32:59 - loss: 0.1837 - custom_mae: 0.335 - ETA: 32:57 - loss: 0.1837 - custom_mae: 0.335 - ETA: 32:55 - loss: 0.1837 - custom_mae: 0.335 - ETA: 32:53 - loss: 0.1837 - custom_mae: 0.335 - ETA: 32:50 - loss: 0.1837 - custom_mae: 0.335 - ETA: 32:48 - loss: 0.1837 - custom_mae: 0.335 - ETA: 32:46 - loss: 0.1837 - custom_mae: 0.335 - ETA: 32:44 - loss: 0.1837 - custom_mae: 0.335 - ETA: 32:42 - loss: 0.1836 - custom_mae: 0.335 - ETA: 32:40 - loss: 0.1836 - custom_mae: 0.335 - ETA: 32:38 - loss: 0.1836 - custom_mae: 0.335 - ETA: 32:36 - loss: 0.1836 - custom_mae: 0.335 - ETA: 32:34 - loss: 0.1836 - custom_mae: 0.335 - ETA: 32:32 - loss: 0.1836 - custom_mae: 0.335 - ETA: 32:30 - loss: 0.1837 - custom_mae: 0.335 - ETA: 32:28 - loss: 0.1836 - custom_mae: 0.335 - ETA: 32:26 - loss: 0.1836 - custom_mae: 0.335 - ETA: 32:24 - loss: 0.1836 - custom_mae: 0.335 - ETA: 32:22 - loss: 0.1836 - custom_mae: 0.335 - ETA: 32:19 - loss: 0.1836 - custom_mae: 0.335 - ETA: 32:17 - loss: 0.1836 - custom_mae: 0.335 - ETA: 32:15 - loss: 0.1836 - custom_mae: 0.335 - ETA: 32:13 - loss: 0.1835 - custom_mae: 0.335 - ETA: 32:11 - loss: 0.1836 - custom_mae: 0.335 - ETA: 32:09 - loss: 0.1835 - custom_mae: 0.335 - ETA: 32:07 - loss: 0.1835 - custom_mae: 0.335 - ETA: 32:05 - loss: 0.1835 - custom_mae: 0.335 - ETA: 32:03 - loss: 0.1835 - custom_mae: 0.335 - ETA: 32:01 - loss: 0.1835 - custom_mae: 0.335 - ETA: 31:59 - loss: 0.1836 - custom_mae: 0.335 - ETA: 31:57 - loss: 0.1835 - custom_mae: 0.335 - ETA: 31:55 - loss: 0.1835 - custom_mae: 0.335 - ETA: 31:53 - loss: 0.1835 - custom_mae: 0.335 - ETA: 31:51 - loss: 0.1835 - custom_mae: 0.335 - ETA: 31:48 - loss: 0.1835 - custom_mae: 0.335 - ETA: 31:46 - loss: 0.1835 - custom_mae: 0.335 - ETA: 31:44 - loss: 0.1835 - custom_mae: 0.335 - ETA: 31:42 - loss: 0.1835 - custom_mae: 0.335 - ETA: 31:40 - loss: 0.1835 - custom_mae: 0.335 - ETA: 31:38 - loss: 0.1835 - custom_mae: 0.335 - ETA: 31:36 - loss: 0.1835 - custom_mae: 0.335 - ETA: 31:34 - loss: 0.1835 - custom_mae: 0.335 - ETA: 31:32 - loss: 0.1835 - custom_mae: 0.335 - ETA: 31:30 - loss: 0.1835 - custom_mae: 0.335 - ETA: 31:28 - loss: 0.1835 - custom_mae: 0.335 - ETA: 31:25 - loss: 0.1834 - custom_mae: 0.335 - ETA: 31:23 - loss: 0.1834 - custom_mae: 0.335 - ETA: 31:21 - loss: 0.1834 - custom_mae: 0.335 - ETA: 31:19 - loss: 0.1833 - custom_mae: 0.335 - ETA: 31:17 - loss: 0.1833 - custom_mae: 0.335 - ETA: 31:15 - loss: 0.1833 - custom_mae: 0.3354"
     ]
    }
   ],
   "source": [
    "dummy_x = np.empty((1, 2, 3, 224, 224))\n",
    "dummy_y = np.empty((1, 2))\n",
    "\n",
    "with tf.device('/device:GPU:0'):\n",
    "    #for top_results_index in range(3):\n",
    "    for top_results_index in [0, 1]:\n",
    "        #top_results_index = 1\n",
    "        _MODEL_TO_LOAD_INDEX = df.iloc[top_results_index].name\n",
    "        _MODEL_TO_LOAD = 'Best_Weights_FC_{}.hdf5'.format(_MODEL_TO_LOAD_INDEX)\n",
    "\n",
    "        _TMP_DIR = '..\\\\TMP_TALOS_{}'.format(_DEVICE)\n",
    "        _CSV_RESULTS = _LOG_DIR + 'Talos_Results_Fine_Idx{}.csv'.format(_MODEL_TO_LOAD_INDEX)\n",
    "\n",
    "        startTime = datetime.now()\n",
    "        \n",
    "        parameters = get_params(top_results_index)\n",
    "\n",
    "        t = ta.Scan(\n",
    "            x = dummy_x,\n",
    "            y = dummy_y,\n",
    "            model = grid_model_fine,\n",
    "            params = parameters,\n",
    "            experiment_name = _TMP_DIR,\n",
    "            #shuffle=False,\n",
    "            reduction_metric = parameters['reduction_metric'][0],\n",
    "            disable_progress_bar = False,\n",
    "            print_params = True,\n",
    "            clear_session = True\n",
    "        )\n",
    "\n",
    "        print(\"Time taken:\", datetime.now() - startTime)\n",
    "        \n",
    "        print('Writing Device File')\n",
    "        device_file.write('Trained Model: {}'.format(_MODEL_TO_LOAD))\n",
    "\n",
    "        df_experiment_results = pd.read_csv(_TMP_DIR + '\\\\' + os.listdir(_TMP_DIR)[0])\n",
    "        df_experiment_results['Base'] = None\n",
    "        for i in range(df_experiment_results.shape[0]):\n",
    "            df_experiment_results['Base'][i] = _MODEL_TO_LOAD_INDEX\n",
    "\n",
    "        if os.path.isfile(_CSV_RESULTS):\n",
    "            df_experiment_results.to_csv(_CSV_RESULTS, mode = 'a', index = False, header = False)\n",
    "        else:\n",
    "            df_experiment_results.to_csv(_CSV_RESULTS, index = False)\n",
    "\n",
    "        shutil.rmtree(_TMP_DIR)"
   ]
  },
  {
   "cell_type": "code",
   "execution_count": null,
   "metadata": {},
   "outputs": [],
   "source": [
    "device_file.close()"
   ]
  },
  {
   "cell_type": "markdown",
   "metadata": {},
   "source": [
    "# Copy Results to NAS if SSD Directory was selected"
   ]
  },
  {
   "cell_type": "code",
   "execution_count": null,
   "metadata": {},
   "outputs": [],
   "source": [
    "def copy_directory(src, dst, symlinks = False, ignore = None):\n",
    "    maxLen = 0\n",
    "    message = ''        \n",
    "    \n",
    "    if not os.path.exists(dst):\n",
    "        \n",
    "        message = 'Creating Path: {}'.format(src)\n",
    "        maxLen = max(maxLen, len(message))\n",
    "        print(message + ' ' * (maxLen - len(message)), end = '\\r')\n",
    "        \n",
    "        os.makedirs(dst)\n",
    "        \n",
    "    for item in os.listdir(src):\n",
    "        \n",
    "        s = os.path.join(src, item)\n",
    "        d = os.path.join(dst, item)\n",
    "        \n",
    "        if os.path.isdir(s):\n",
    "            \n",
    "            message = 'Copying Directory: {}'.format(s)\n",
    "            maxLen = max(maxLen, len(message))\n",
    "            print(message + ' ' * (maxLen - len(message)), end = '\\r')\n",
    "            \n",
    "            shutil.copytree(s, d, symlinks, ignore)\n",
    "            \n",
    "        else:\n",
    "            \n",
    "            if not os.path.exists(d): #or os.stat(s).st_mtime - os.stat(d).st_mtime > 1:\n",
    "                \n",
    "                message = 'Copying File: {}'.format(s)\n",
    "                maxLen = max(maxLen, len(message))\n",
    "                print(message + ' ' * (maxLen - len(message)), end = '\\r')\n",
    "                \n",
    "                shutil.copy2(s, d)\n",
    "        \n",
    "        time.sleep(.5)\n",
    "     \n",
    "    message = 'Coyping... Done'\n",
    "    maxLen = max(maxLen, len(message))\n",
    "    print(message + ' ' * (maxLen - len(message)), end = '\\n')\n",
    "\n",
    "def delete_directory(src, terminator = '\\n'):\n",
    "    message = ''\n",
    "    maxLen = 0\n",
    "    \n",
    "    try:\n",
    "        message = 'Deleting {}'.format(src)\n",
    "        maxLen = max(maxLen, len(message))\n",
    "        print(message + ' ' * (maxLen - len(message)), end = '\\r')\n",
    "        \n",
    "        shutil.rmtree(src)\n",
    "        \n",
    "    except OSError as e:\n",
    "        message = 'Error: {} : {}'.format(src, e.strerror)\n",
    "        maxLen = max(maxLen, len(message))\n",
    "        print(message + ' ' * (maxLen - len(message)), end = '\\n')\n",
    "        return\n",
    "    \n",
    "    message = 'Deleting... Done'\n",
    "    maxLen = max(maxLen, len(message))\n",
    "    print(message + ' ' * (maxLen - len(message)), end = terminator)\n",
    "\n",
    "    \n",
    "def copy_fine_training(src, dst):\n",
    "    copy_directory(src, dst)\n",
    "    delete_directory(src, terminator = '\\r')\n",
    "    delete_directory(src + '..\\\\', terminator = '\\r')\n",
    "    if not os.listdir(src + '..\\\\..\\\\'):\n",
    "        delete_directory(src + '..\\\\..\\\\', terminator = '\\r')"
   ]
  },
  {
   "cell_type": "code",
   "execution_count": null,
   "metadata": {},
   "outputs": [],
   "source": [
    "if(storage == OutputDirectory.SSD):\n",
    "    _COPY_DIR = '..\\\\output\\\\{}'.format(_NET_DIR)\n",
    "    copy_fine_training(_LOG_DIR, _COPY_DIR)"
   ]
  },
  {
   "cell_type": "markdown",
   "metadata": {},
   "source": [
    "# <a name = \"CMSE.Mixed\"></a><a href = #Top>Up</a></p>"
   ]
  }
 ],
 "metadata": {
  "kernelspec": {
   "display_name": "Python 3",
   "language": "python",
   "name": "python3"
  },
  "language_info": {
   "codemirror_mode": {
    "name": "ipython",
    "version": 3
   },
   "file_extension": ".py",
   "mimetype": "text/x-python",
   "name": "python",
   "nbconvert_exporter": "python",
   "pygments_lexer": "ipython3",
   "version": "3.7.4"
  }
 },
 "nbformat": 4,
 "nbformat_minor": 4
}
