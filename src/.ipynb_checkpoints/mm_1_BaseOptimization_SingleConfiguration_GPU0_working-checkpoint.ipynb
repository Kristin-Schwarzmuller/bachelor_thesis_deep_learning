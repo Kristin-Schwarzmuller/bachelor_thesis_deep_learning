{
 "cells": [
  {
   "cell_type": "markdown",
   "metadata": {},
   "source": [
    "# Single Base Training on GPU0"
   ]
  },
  {
   "cell_type": "markdown",
   "metadata": {},
   "source": [
    "# Quick Links <a name = \"Top\"></a>\n",
    "<ol>\n",
    "    <li><p><a href = #setup>Set Up</a></p></li>\n",
    "    <li><p><a href = #Base>Base Training</a></p></li>\n",
    "</ol>"
   ]
  },
  {
   "cell_type": "markdown",
   "metadata": {},
   "source": [
    "# Imports"
   ]
  },
  {
   "cell_type": "code",
   "execution_count": 1,
   "metadata": {},
   "outputs": [],
   "source": [
    "import os\n",
    "import shutil\n",
    "\n",
    "#print('Current Conda Environment: {}'.format(os.environ['CONDA_DEFAULT_ENV']))"
   ]
  },
  {
   "cell_type": "code",
   "execution_count": 2,
   "metadata": {},
   "outputs": [
    {
     "name": "stdout",
     "output_type": "stream",
     "text": [
      "The installed version of TensorFlow 2.3.1 does not include GPU support.\n",
      "\n",
      "[name: \"/device:CPU:0\"\n",
      "device_type: \"CPU\"\n",
      "memory_limit: 268435456\n",
      "locality {\n",
      "}\n",
      "incarnation: 11957571967591000407\n",
      ", name: \"/device:XLA_CPU:0\"\n",
      "device_type: \"XLA_CPU\"\n",
      "memory_limit: 17179869184\n",
      "locality {\n",
      "}\n",
      "incarnation: 16014605233495171533\n",
      "physical_device_desc: \"device: XLA_CPU device\"\n",
      ", name: \"/device:XLA_GPU:0\"\n",
      "device_type: \"XLA_GPU\"\n",
      "memory_limit: 17179869184\n",
      "locality {\n",
      "}\n",
      "incarnation: 8406732574184241547\n",
      "physical_device_desc: \"device: XLA_GPU device\"\n",
      "]\n"
     ]
    }
   ],
   "source": [
    "import talos as ta\n",
    "from talos.model import lr_normalizer, early_stopper, hidden_layers\n",
    "\n",
    "import tensorflow as tf\n",
    "  \n",
    "available_gpus = tf.config.experimental.list_physical_devices('GPU')\n",
    "built_with_cuda = tf.test.is_built_with_cuda()\n",
    "\n",
    "if not (not available_gpus) & built_with_cuda:\n",
    "    print(\"The installed version of TensorFlow {} includes GPU support.\\n\".format(tf.__version__))\n",
    "    print(\"Num GPUs Available: \", len(available_gpus), \"\\n\")\n",
    "else:\n",
    "    print(\"The installed version of TensorFlow {} does not include GPU support.\\n\".format(tf.__version__))\n",
    "    \n",
    "from tensorflow.python.client import device_lib\n",
    "print(device_lib.list_local_devices())\n",
    "\n",
    "from tensorflow.compat.v1.keras import callbacks, backend as K\n",
    "from tensorflow.keras.models import Sequential, load_model\n",
    "from tensorflow.keras.layers import Dense, Dropout, Flatten\n",
    "from tensorflow.keras.preprocessing.image import ImageDataGenerator\n",
    "from tensorflow.keras.applications import VGG16\n",
    "from tensorflow.keras.utils import multi_gpu_model\n",
    "from tensorflow.keras.initializers import glorot_uniform\n",
    "from tensorflow.keras.optimizers import Adam, Nadam, RMSprop, SGD, Adagrad\n",
    "from tensorflow.keras.layers import ReLU, LeakyReLU\n",
    "\n",
    "from datetime import datetime\n",
    "import pandas as pd\n",
    "import numpy as np\n",
    "\n",
    "import time\n",
    "\n",
    "from numpy.random import seed\n",
    "seed(1)\n",
    "tf.random.set_seed(1)\n",
    "\n",
    "config = tf.compat.v1.ConfigProto()\n",
    "config.gpu_options.allow_growth=True\n",
    "config.gpu_options.per_process_gpu_memory_fraction = 0.99\n",
    "sess = tf.compat.v1.Session(config = config)\n",
    "K.set_session(sess)"
   ]
  },
  {
   "cell_type": "markdown",
   "metadata": {},
   "source": [
    "# Hilfsfunktionen"
   ]
  },
  {
   "cell_type": "markdown",
   "metadata": {},
   "source": [
    "### Output Directory\n",
    "\n",
    "* <i>SSD</i>, falls genug Speicher auf SSD im SymLink <i>fast_output</i> verfügbar ist\n",
    "* <i>HDD</i>, falls möglicherweise zu wenig SSD-Speicher verfügbar ist $\\rightarrow$ <i>output</i>"
   ]
  },
  {
   "cell_type": "code",
   "execution_count": 3,
   "metadata": {},
   "outputs": [],
   "source": [
    "from enum import IntEnum\n",
    "\n",
    "class OutputDirectory(IntEnum):\n",
    "    HDD = 0\n",
    "    SSD = 1\n",
    "    \n",
    "output_path = ['output', 'fast_output']"
   ]
  },
  {
   "cell_type": "markdown",
   "metadata": {},
   "source": [
    "### Convert Label_Type into suitable label names.\n",
    "$\\Rightarrow$ Angular / Normalized $\\rightarrow$ ['Elevation', 'Azimuth']\n",
    "\n",
    "$\\Rightarrow$ Stereographic $\\rightarrow$ ['S_x', 'S_y']"
   ]
  },
  {
   "cell_type": "code",
   "execution_count": 4,
   "metadata": {},
   "outputs": [],
   "source": [
    "def get_Label_Names(label_type):\n",
    "    if label_type == 'Angular' or label_type == 'Normalized':\n",
    "        return ['Elevation', 'Azimuth']\n",
    "    elif label_type == 'Stereographic':\n",
    "        return ['S_x', 'S_y']\n",
    "    else:\n",
    "        assert(True, 'LabelType Invalid')\n",
    "        return None"
   ]
  },
  {
   "cell_type": "markdown",
   "metadata": {},
   "source": [
    "### Benutzerdefinierte Kostenfunktion & Metrik"
   ]
  },
  {
   "cell_type": "code",
   "execution_count": 5,
   "metadata": {},
   "outputs": [],
   "source": [
    "def circular_mse(y_true, y_pred):\n",
    "    max_error = tf.constant(360, dtype = 'float32')\n",
    "    return K.mean(K.square(K.minimum(K.abs(y_pred - y_true), max_error - K.abs(y_pred - y_true))), axis = -1)\n",
    "\n",
    "def circular_mae(y_true, y_pred):\n",
    "    max_error = tf.constant(360, dtype = 'float32')\n",
    "    return K.mean(K.minimum(K.abs(y_pred - y_true), K.abs(max_error - K.abs(y_pred - y_true))), axis = -1)\n",
    "\n",
    "def custom_mae(y_true, y_pred):\n",
    "    return K.mean(K.abs(y_pred - y_true), axis = -1)"
   ]
  },
  {
   "cell_type": "markdown",
   "metadata": {},
   "source": [
    "### Convert String into Reduction Metric Function"
   ]
  },
  {
   "cell_type": "code",
   "execution_count": 6,
   "metadata": {},
   "outputs": [],
   "source": [
    "def get_Reduction_Metric(metric):\n",
    "    \n",
    "    if metric == 'custom_mae':\n",
    "        return [custom_mae]\n",
    "    elif metric == 'tf.keras.metrics.MeanAbsoluteError()':\n",
    "        return [tf.keras.metrics.MeanAbsoluteError()]\n",
    "    elif metric == 'circular_mae':\n",
    "        return [circular_mae]\n",
    "    elif metric == 'mean_squared_error':\n",
    "        return ['mean_squared_error']\n",
    "    else:\n",
    "        assert(False, 'Metric yet unknown - Please modify get_Reduction_Metric to meet your requirements')\n",
    "        return None"
   ]
  },
  {
   "cell_type": "markdown",
   "metadata": {},
   "source": [
    "### Generierung Bottleneck-Features"
   ]
  },
  {
   "cell_type": "code",
   "execution_count": 7,
   "metadata": {},
   "outputs": [],
   "source": [
    "def create_bottleneck_features(train_generator, valid_generator, bottleneck):\n",
    "        \n",
    "    print('Creating bottleneck features...')\n",
    "    model = VGG16(include_top = False, weights = 'imagenet')\n",
    "        \n",
    "    #bottleneck_features_train = model.predict_generator(train_generator, train_generator.n // train_generator.batch_size)\n",
    "    bottleneck_features_train = model.predict(train_generator)\n",
    "    np.save(open(_LOG_DIR + 'Train_' + bottleneck, 'wb'), bottleneck_features_train)\n",
    "        \n",
    "    #bottleneck_features_valid = model.predict_generator(valid_generator, valid_generator.n // valid_generator.batch_size)\n",
    "    bottleneck_features_valid = model.predict(valid_generator)\n",
    "    np.save(open(_LOG_DIR + 'Valid_'  + bottleneck, 'wb'), bottleneck_features_valid)"
   ]
  },
  {
   "cell_type": "markdown",
   "metadata": {},
   "source": [
    "### Generierung Datenpipeline (Angepasst für Talos)"
   ]
  },
  {
   "cell_type": "code",
   "execution_count": 8,
   "metadata": {},
   "outputs": [],
   "source": [
    "def prepare_data(batch_size, num_samples, label_type):\n",
    "\n",
    "    df = pd.read_csv(_CSV_FILE)\n",
    "    df_shuffled = df.sample(frac = 1, random_state = 1)\n",
    "    df_train = df_shuffled[0 : int(num_samples * 0.8 // batch_size * batch_size)]   \n",
    "    df_valid = df_shuffled.drop(df_shuffled.index[0: df_train.shape[0]])[0 : int(num_samples * 0.2 // batch_size * batch_size)]\n",
    "    \n",
    "    train_labels = df_train.drop(['Filename'], axis = 1).values\n",
    "    valid_labels = df_valid.drop(['Filename'], axis = 1).values\n",
    "    \n",
    "    bottleneck = 'Bottleneck_Features_{}_{}.npy'.format(str(num_samples), str(batch_size))                                       \n",
    "    if not os.path.exists(_LOG_DIR + 'Train_' + bottleneck):\n",
    "        \n",
    "        if _USE_DATA_AUGMENTATION:\n",
    "            train_data_generator = ImageDataGenerator(\n",
    "                rescale = 1./255, \n",
    "                width_shift_range = 0.1,\n",
    "                height_shift_range = 0.1, \n",
    "                zoom_range = 0.1,\n",
    "                brightness_range = (0.25, 0.75),\n",
    "                fill_mode = 'nearest'\n",
    "            )\n",
    "        else:\n",
    "            train_data_generator = ImageDataGenerator(\n",
    "                rescale = 1./255\n",
    "            )\n",
    "            \n",
    "        valid_data_generator = ImageDataGenerator(\n",
    "            rescale = 1./255\n",
    "        )\n",
    "    \n",
    "        print('Y-Col: {}'.format(get_Label_Names(label_type)))\n",
    "        \n",
    "        train_generator = train_data_generator.flow_from_dataframe(\n",
    "            dataframe = df_train,\n",
    "            directory = _IMAGE_DIR,\n",
    "            x_col = 'Filename',\n",
    "            y_col = get_Label_Names(label_type),\n",
    "            class_mode = 'raw',\n",
    "            target_size = (224, 224),\n",
    "            color_mode = 'rgb',\n",
    "            shuffle = False,\n",
    "            seed = 1,\n",
    "            batch_size = batch_size\n",
    "        )\n",
    "    \n",
    "        valid_generator = valid_data_generator.flow_from_dataframe(\n",
    "            dataframe = df_valid,\n",
    "            directory = _IMAGE_DIR,\n",
    "            x_col = 'Filename',\n",
    "            y_col = get_Label_Names(label_type),\n",
    "            class_mode = 'raw',\n",
    "            target_size = (224, 224),\n",
    "            color_mode = 'rgb',\n",
    "            shuffle = False,\n",
    "            seed = 1,\n",
    "            batch_size = batch_size\n",
    "        )\n",
    "                                                        \n",
    "        create_bottleneck_features(train_generator, valid_generator, bottleneck)\n",
    "        \n",
    "    train_features = np.load(open(_LOG_DIR + 'Train_' + bottleneck, 'rb'))\n",
    "    valid_features = np.load(open(_LOG_DIR + 'Valid_' + bottleneck, 'rb'))\n",
    "                                                        \n",
    "    return train_labels, valid_labels, train_features, valid_features"
   ]
  },
  {
   "cell_type": "markdown",
   "metadata": {},
   "source": [
    "### Generierung Modell (Angepasst für Talos)"
   ]
  },
  {
   "cell_type": "code",
   "execution_count": 9,
   "metadata": {},
   "outputs": [],
   "source": [
    "def grid_model_base(x, y, x_val, y_val, params):\n",
    "    \n",
    "    global _COUNTER    \n",
    "    K.clear_session()\n",
    "\n",
    "    train_labels, valid_labels, train_features, valid_features = prepare_data(params['batch_size'], params['samples'], params['label_type'])\n",
    "\n",
    "    model = Sequential()\n",
    "    model.add(Flatten(input_shape = train_features.shape[1 :])) # (7, 7, 512)\n",
    "    \n",
    "    dropout_rate = params['dropout']\n",
    "    first_neuron = params['first_neuron']\n",
    "    \n",
    "    if params['activation'] == 'leakyrelu':\n",
    "        activation_layer = LeakyReLU(alpha = 0.1)\n",
    "    elif params['activation'] == 'relu':\n",
    "        activation_layer = ReLU()  \n",
    "    \n",
    "    model.add(Dense(units = first_neuron, kernel_initializer = glorot_uniform(seed = 1)))\n",
    "    model.add(activation_layer)\n",
    "    if dropout_rate > 0.0:\n",
    "        model.add(Dropout(rate = dropout_rate))\n",
    "        \n",
    "    hidden_neuron_fraction = first_neuron\n",
    "    for i in range(params['hidden_layers']):\n",
    "        hidden_neuron_fraction = hidden_neuron_fraction // 2\n",
    "        model.add(Dense(units = hidden_neuron_fraction, kernel_initializer = glorot_uniform(seed = 1)))\n",
    "        model.add(activation_layer)\n",
    "        if dropout_rate > 0.0:\n",
    "            model.add(Dropout(rate = dropout_rate))\n",
    "    \n",
    "    model.add(Dense(units = 2, kernel_initializer = glorot_uniform(seed = 1)))\n",
    "\n",
    "    print('Using Loss: {} \\nand Reduction Metric: {}'.format(\n",
    "        params['loss_function'], \n",
    "        get_Reduction_Metric(params['reduction_metric'])))\n",
    "    \n",
    "    model.compile(\n",
    "        optimizer = params['optimizer'](lr = lr_normalizer(params['lr'], params['optimizer'])), \n",
    "        loss = params['loss_function'], \n",
    "        metrics = get_Reduction_Metric(params['reduction_metric'])\n",
    "    )\n",
    "    \n",
    "    print('Monitor: {}'.format(params['monitor_value']))\n",
    "    \n",
    "    checkpointer = callbacks.ModelCheckpoint(\n",
    "        filepath = _LOG_DIR + 'Best_Weights_FC_{}.hdf5'.format(_COUNTER),\n",
    "        monitor = params['monitor_value'],\n",
    "        verbose = 1,\n",
    "        save_best_only = True,\n",
    "        mode = 'min'\n",
    "    )\n",
    "    \n",
    "    startTime = datetime.now()\n",
    "    out = model.fit(\n",
    "        x = train_features,\n",
    "        y = train_labels,\n",
    "        epochs = params['epochs'],\n",
    "        validation_data = (valid_features, valid_labels),\n",
    "        steps_per_epoch = int(params['samples'] * 0.8 // params['batch_size']),\n",
    "        validation_steps = int(params['samples'] * 0.2 // params['batch_size']),\n",
    "        callbacks = [checkpointer]\n",
    "    )\n",
    "    print(\"Time taken:\", datetime.now() - startTime)\n",
    "    \n",
    "    _COUNTER = _COUNTER + 1\n",
    "     \n",
    "    return out, model"
   ]
  },
  {
   "cell_type": "markdown",
   "metadata": {},
   "source": [
    "# Parameter <a name = \"setup\"></a><a href = #Top>Up</a></p>"
   ]
  },
  {
   "cell_type": "markdown",
   "metadata": {},
   "source": [
    "### GridSerach"
   ]
  },
  {
   "cell_type": "markdown",
   "metadata": {},
   "source": [
    "#### Hyper Parameter"
   ]
  },
  {
   "cell_type": "code",
   "execution_count": 10,
   "metadata": {},
   "outputs": [],
   "source": [
    "#     Adam = RMSprop + Momentum (lr=0.001)\n",
    "#     Nadam = Adam RMSprop + Nesterov-Momentum (lr=0.002)\n",
    "#     RMSprop = (lr=0.001)\n",
    "#     SGD = (lr=0.01)\n",
    "#     Adagrad\n",
    "\n",
    "hyper_parameter = {\n",
    "    'samples': [20000],\n",
    "    'epochs': [1],\n",
    "    'batch_size': [32, 64],\n",
    "    'optimizer': [Adam],\n",
    "    'lr': [1, 2, 5],\n",
    "    'first_neuron': [1024, 2048, 4096],\n",
    "    'dropout': [0.25, 0.50],\n",
    "    'activation': ['leakyrelu', 'relu'],\n",
    "    'hidden_layers': [0, 1, 2, 3, 4],\n",
    "    # beginning from here, Values should only contain a single entry:\n",
    "    # ===============================================================\n",
    "    'label_type': ['Normalized'], # Stereographic, Angular, Normalized\n",
    "    'loss_function': ['mean_squared_error'], # circular_mse\n",
    "    'reduction_metric': ['custom_mae'], # tf.keras.metrics.MeanAbsoluteError(), circular_mae, custom_mae, mean_squared_error\n",
    "    'monitor_value': ['val_custom_mae'] # val_custom_mae, val_mean_absolute_error, val_circular_mae, val_loss\n",
    "}"
   ]
  },
  {
   "cell_type": "code",
   "execution_count": 11,
   "metadata": {},
   "outputs": [],
   "source": [
    "def get_params():  \n",
    "    return p"
   ]
  },
  {
   "cell_type": "markdown",
   "metadata": {},
   "source": [
    "### Dateisystem"
   ]
  },
  {
   "cell_type": "code",
   "execution_count": 12,
   "metadata": {},
   "outputs": [],
   "source": [
    "_RUN = 'SYNTH'\n",
    "_LOSS = 'MSE'\n",
    "_DATASET_NAME = '2020-05-28'\n",
    "_DEVICE = 'TITAN_GPU0'\n",
    "\n",
    "storage = OutputDirectory.SSD # 'fast_output' if ssd storage may suffice, 'output' otherwise\n",
    "\n",
    "#APPENDIX = 'Stereographic'\n",
    "\n",
    "#FUNCTION_OVERRIDE = ['mean_squared_error', [custom_mae], 'val_custom_mae'] # None, or e. g. ['mean_squared_error', [circular_mae], 'val_circular_mae']\n",
    "\n",
    "if hyper_parameter['label_type'][0] == 'Stereographic':\n",
    "    _CSV_FILE_NAME = 'images_synthetisch_stereographic.csv'\n",
    "    _STEREOGRAPHIC = True\n",
    "elif hyper_parameter['label_type'][0] == 'Angular':\n",
    "    _CSV_FILE_NAME = 'images_synthetisch.csv'\n",
    "    _STEREOGRAPHIC = False\n",
    "elif hyper_parameter['label_type'][0] == 'Normalized':\n",
    "    _CSV_FILE_NAME = 'images_synthetisch_normalized.csv'\n",
    "    _STEREOGRAPHIC = False\n",
    "else:\n",
    "    assert(True, 'LabelType Invalid')"
   ]
  },
  {
   "cell_type": "code",
   "execution_count": 13,
   "metadata": {},
   "outputs": [],
   "source": [
    "_USE_DATA_AUGMENTATION = False"
   ]
  },
  {
   "cell_type": "code",
   "execution_count": 14,
   "metadata": {},
   "outputs": [
    {
     "name": "stdout",
     "output_type": "stream",
     "text": [
      "Directory >>| ..\\fast_output\\SYNTH_Regression_MSE\\2020-05-28_Normalized_Base_Custom-MAE\\ |<< existiert bereits. Fortsetzen auf eigene Gefahr! (Weiter mit Enter)\n"
     ]
    }
   ],
   "source": [
    "_MODEL_NAME = '{}_Optimierung_Hyperparameter_v{}'.format(_DATASET_NAME, _RUN)\n",
    "_IMAGE_DIR = '..\\\\dataset_mm\\\\{}\\\\'.format(_DATASET_NAME)\n",
    "_CSV_FILE = _IMAGE_DIR + _CSV_FILE_NAME\n",
    "\n",
    "_COUNTER = 0\n",
    "\n",
    "_note = '_Custom-MAE'\n",
    "\n",
    "_NET_DIR = '{}_Regression_{}\\\\{}_{}_Base{}\\\\'.format(_RUN, _LOSS, _DATASET_NAME, hyper_parameter['label_type'][0], _note)\n",
    "_LOG_DIR = '..\\\\{}\\\\{}'.format(output_path[storage], _NET_DIR)\n",
    "\n",
    "_RESULTS_FILE = '\\\\..\\\\{}_{}_Base{}_Results.csv'.format(_DATASET_NAME, hyper_parameter['label_type'][0], _note)\n",
    "\n",
    "if(not os.path.exists(_LOG_DIR)):\n",
    "    os.makedirs(_LOG_DIR)\n",
    "else:\n",
    "    input('Directory >>| {} |<< existiert bereits. Fortsetzen auf eigene Gefahr! (Weiter mit Enter)'.format(_LOG_DIR))\n",
    "\n",
    "device_file = open(_LOG_DIR + '{}'.format(_DEVICE), \"a+\")\n",
    "device_file.close()"
   ]
  },
  {
   "cell_type": "markdown",
   "metadata": {},
   "source": [
    "# Ausführung GridSearch mit Talos <a name = \"Base\"></a><a href = #Top>Up</a></p>"
   ]
  },
  {
   "cell_type": "code",
   "execution_count": 15,
   "metadata": {},
   "outputs": [
    {
     "name": "stderr",
     "output_type": "stream",
     "text": [
      "\r",
      "  0%|                                                                                            | 0/8 [00:00<?, ?it/s]"
     ]
    },
    {
     "name": "stdout",
     "output_type": "stream",
     "text": [
      "{'activation': 'leakyrelu', 'batch_size': 32, 'dropout': 0.25, 'epochs': 1, 'first_neuron': 1024, 'hidden_layers': 0, 'label_type': 'Normalized', 'loss_function': 'mean_squared_error', 'lr': 1, 'monitor_value': 'val_custom_mae', 'optimizer': <class 'tensorflow.python.keras.optimizer_v2.adam.Adam'>, 'reduction_metric': 'custom_mae', 'samples': 20000}\n",
      "Y-Col: ['Elevation', 'Azimuth']\n",
      "Found 16000 validated image filenames.\n",
      "Found 4000 validated image filenames.\n",
      "Creating bottleneck features...\n",
      "Using Loss: mean_squared_error \n",
      "and Reduction Metric: [<function custom_mae at 0x00000243913989D8>]\n",
      "Monitor: val_custom_mae\n"
     ]
    },
    {
     "name": "stdout",
     "output_type": "stream",
     "text": [
      "177/500 [=========>....................] - ETA: 0s - loss: 0.6711 - custom_mae: 0.66 - ETA: 18s - loss: 968.6490 - custom_mae: 16.45 - ETA: 25s - loss: 679.6219 - custom_mae: 13.62 - ETA: 28s - loss: 634.8740 - custom_mae: 14.35 - ETA: 30s - loss: 528.1478 - custom_mae: 13.08 - ETA: 31s - loss: 445.5085 - custom_mae: 11.63 - ETA: 32s - loss: 384.8179 - custom_mae: 10.48 - ETA: 33s - loss: 338.7642 - custom_mae: 9.5795 - ETA: 33s - loss: 302.4702 - custom_mae: 8.817 - ETA: 33s - loss: 272.9650 - custom_mae: 8.154 - ETA: 34s - loss: 248.6968 - custom_mae: 7.601 - ETA: 34s - loss: 228.2781 - custom_mae: 7.104 - ETA: 34s - loss: 210.8628 - custom_mae: 6.641 - ETA: 34s - loss: 195.8730 - custom_mae: 6.228 - ETA: 34s - loss: 182.8837 - custom_mae: 5.864 - ETA: 34s - loss: 171.5782 - custom_mae: 5.571 - ETA: 34s - loss: 161.6309 - custom_mae: 5.321 - ETA: 34s - loss: 152.7800 - custom_mae: 5.096 - ETA: 34s - loss: 144.9025 - custom_mae: 4.902 - ETA: 34s - loss: 137.8202 - custom_mae: 4.728 - ETA: 34s - loss: 131.4101 - custom_mae: 4.570 - ETA: 34s - loss: 125.5955 - custom_mae: 4.428 - ETA: 34s - loss: 120.2302 - custom_mae: 4.286 - ETA: 34s - loss: 115.3733 - custom_mae: 4.170 - ETA: 34s - loss: 110.8785 - custom_mae: 4.060 - ETA: 34s - loss: 106.6952 - custom_mae: 3.947 - ETA: 34s - loss: 102.8148 - custom_mae: 3.840 - ETA: 34s - loss: 99.2219 - custom_mae: 3.745 - ETA: 34s - loss: 95.8603 - custom_mae: 3.65 - ETA: 34s - loss: 92.7193 - custom_mae: 3.56 - ETA: 34s - loss: 89.7826 - custom_mae: 3.48 - ETA: 34s - loss: 87.0348 - custom_mae: 3.40 - ETA: 34s - loss: 84.4516 - custom_mae: 3.33 - ETA: 34s - loss: 82.0160 - custom_mae: 3.26 - ETA: 34s - loss: 79.7172 - custom_mae: 3.20 - ETA: 34s - loss: 77.5602 - custom_mae: 3.14 - ETA: 34s - loss: 75.5115 - custom_mae: 3.09 - ETA: 34s - loss: 73.5909 - custom_mae: 3.04 - ETA: 34s - loss: 71.7688 - custom_mae: 2.99 - ETA: 34s - loss: 70.0308 - custom_mae: 2.95 - ETA: 34s - loss: 68.3790 - custom_mae: 2.91 - ETA: 34s - loss: 66.7900 - custom_mae: 2.86 - ETA: 34s - loss: 65.2685 - custom_mae: 2.82 - ETA: 34s - loss: 63.8124 - custom_mae: 2.77 - ETA: 34s - loss: 62.4229 - custom_mae: 2.73 - ETA: 33s - loss: 61.0932 - custom_mae: 2.69 - ETA: 33s - loss: 59.8345 - custom_mae: 2.66 - ETA: 33s - loss: 58.6159 - custom_mae: 2.62 - ETA: 33s - loss: 57.4458 - custom_mae: 2.59 - ETA: 33s - loss: 56.3298 - custom_mae: 2.56 - ETA: 33s - loss: 55.2679 - custom_mae: 2.53 - ETA: 33s - loss: 54.2309 - custom_mae: 2.50 - ETA: 33s - loss: 53.2379 - custom_mae: 2.47 - ETA: 33s - loss: 52.2792 - custom_mae: 2.45 - ETA: 33s - loss: 51.3589 - custom_mae: 2.42 - ETA: 33s - loss: 50.4689 - custom_mae: 2.39 - ETA: 33s - loss: 49.6094 - custom_mae: 2.37 - ETA: 33s - loss: 48.7919 - custom_mae: 2.35 - ETA: 33s - loss: 47.9934 - custom_mae: 2.33 - ETA: 33s - loss: 47.2165 - custom_mae: 2.30 - ETA: 33s - loss: 46.4665 - custom_mae: 2.28 - ETA: 32s - loss: 45.7427 - custom_mae: 2.26 - ETA: 32s - loss: 45.0397 - custom_mae: 2.24 - ETA: 32s - loss: 44.3682 - custom_mae: 2.22 - ETA: 32s - loss: 43.7010 - custom_mae: 2.20 - ETA: 32s - loss: 43.0571 - custom_mae: 2.18 - ETA: 32s - loss: 42.4398 - custom_mae: 2.16 - ETA: 32s - loss: 41.8340 - custom_mae: 2.15 - ETA: 32s - loss: 41.2480 - custom_mae: 2.13 - ETA: 32s - loss: 40.6720 - custom_mae: 2.11 - ETA: 32s - loss: 40.1172 - custom_mae: 2.09 - ETA: 32s - loss: 39.5838 - custom_mae: 2.08 - ETA: 32s - loss: 39.0596 - custom_mae: 2.06 - ETA: 32s - loss: 38.5523 - custom_mae: 2.05 - ETA: 32s - loss: 38.0549 - custom_mae: 2.03 - ETA: 32s - loss: 37.5752 - custom_mae: 2.02 - ETA: 31s - loss: 37.1096 - custom_mae: 2.01 - ETA: 31s - loss: 36.6521 - custom_mae: 1.99 - ETA: 31s - loss: 36.2070 - custom_mae: 1.98 - ETA: 31s - loss: 35.7727 - custom_mae: 1.97 - ETA: 31s - loss: 35.3448 - custom_mae: 1.95 - ETA: 31s - loss: 34.9337 - custom_mae: 1.94 - ETA: 31s - loss: 34.5263 - custom_mae: 1.93 - ETA: 31s - loss: 34.1280 - custom_mae: 1.91 - ETA: 31s - loss: 33.7440 - custom_mae: 1.90 - ETA: 31s - loss: 33.3699 - custom_mae: 1.89 - ETA: 31s - loss: 33.0022 - custom_mae: 1.88 - ETA: 31s - loss: 32.6479 - custom_mae: 1.87 - ETA: 31s - loss: 32.2981 - custom_mae: 1.86 - ETA: 31s - loss: 31.9570 - custom_mae: 1.85 - ETA: 30s - loss: 31.6207 - custom_mae: 1.84 - ETA: 30s - loss: 31.2938 - custom_mae: 1.83 - ETA: 30s - loss: 30.9708 - custom_mae: 1.82 - ETA: 30s - loss: 30.6549 - custom_mae: 1.81 - ETA: 30s - loss: 30.3502 - custom_mae: 1.80 - ETA: 30s - loss: 30.0539 - custom_mae: 1.80 - ETA: 30s - loss: 29.7594 - custom_mae: 1.79 - ETA: 30s - loss: 29.4728 - custom_mae: 1.78 - ETA: 30s - loss: 29.1882 - custom_mae: 1.77 - ETA: 30s - loss: 28.9117 - custom_mae: 1.76 - ETA: 30s - loss: 28.6413 - custom_mae: 1.76 - ETA: 30s - loss: 28.3760 - custom_mae: 1.75 - ETA: 30s - loss: 28.1143 - custom_mae: 1.74 - ETA: 30s - loss: 27.8590 - custom_mae: 1.73 - ETA: 29s - loss: 27.6108 - custom_mae: 1.73 - ETA: 29s - loss: 27.3668 - custom_mae: 1.72 - ETA: 29s - loss: 27.1260 - custom_mae: 1.71 - ETA: 29s - loss: 26.8956 - custom_mae: 1.71 - ETA: 29s - loss: 26.6652 - custom_mae: 1.70 - ETA: 29s - loss: 26.4338 - custom_mae: 1.69 - ETA: 29s - loss: 26.2109 - custom_mae: 1.69 - ETA: 29s - loss: 25.9909 - custom_mae: 1.68 - ETA: 29s - loss: 25.7743 - custom_mae: 1.68 - ETA: 29s - loss: 25.5587 - custom_mae: 1.67 - ETA: 29s - loss: 25.3464 - custom_mae: 1.66 - ETA: 29s - loss: 25.1376 - custom_mae: 1.66 - ETA: 29s - loss: 24.9334 - custom_mae: 1.65 - ETA: 28s - loss: 24.7336 - custom_mae: 1.64 - ETA: 28s - loss: 24.5350 - custom_mae: 1.64 - ETA: 28s - loss: 24.3390 - custom_mae: 1.63 - ETA: 28s - loss: 24.1489 - custom_mae: 1.62 - ETA: 28s - loss: 23.9649 - custom_mae: 1.62 - ETA: 28s - loss: 23.7774 - custom_mae: 1.61 - ETA: 28s - loss: 23.5934 - custom_mae: 1.60 - ETA: 28s - loss: 23.4150 - custom_mae: 1.60 - ETA: 28s - loss: 23.2430 - custom_mae: 1.59 - ETA: 28s - loss: 23.0706 - custom_mae: 1.59 - ETA: 28s - loss: 22.8986 - custom_mae: 1.58 - ETA: 28s - loss: 22.7320 - custom_mae: 1.58 - ETA: 28s - loss: 22.5687 - custom_mae: 1.57 - ETA: 28s - loss: 22.4027 - custom_mae: 1.57 - ETA: 27s - loss: 22.2424 - custom_mae: 1.56 - ETA: 27s - loss: 22.0837 - custom_mae: 1.56 - ETA: 27s - loss: 21.9258 - custom_mae: 1.55 - ETA: 27s - loss: 21.7756 - custom_mae: 1.55 - ETA: 27s - loss: 21.6244 - custom_mae: 1.54 - ETA: 27s - loss: 21.4770 - custom_mae: 1.54 - ETA: 27s - loss: 21.3327 - custom_mae: 1.53 - ETA: 27s - loss: 21.1944 - custom_mae: 1.53 - ETA: 27s - loss: 21.0490 - custom_mae: 1.52 - ETA: 27s - loss: 20.9117 - custom_mae: 1.52 - ETA: 27s - loss: 20.7732 - custom_mae: 1.52 - ETA: 27s - loss: 20.6357 - custom_mae: 1.51 - ETA: 27s - loss: 20.4993 - custom_mae: 1.51 - ETA: 26s - loss: 20.3654 - custom_mae: 1.50 - ETA: 26s - loss: 20.2336 - custom_mae: 1.50 - ETA: 26s - loss: 20.1028 - custom_mae: 1.49 - ETA: 26s - loss: 19.9771 - custom_mae: 1.49 - ETA: 26s - loss: 19.8524 - custom_mae: 1.49 - ETA: 26s - loss: 19.7300 - custom_mae: 1.48 - ETA: 26s - loss: 19.6099 - custom_mae: 1.48 - ETA: 26s - loss: 19.4894 - custom_mae: 1.48 - ETA: 26s - loss: 19.3712 - custom_mae: 1.47 - ETA: 26s - loss: 19.2521 - custom_mae: 1.47 - ETA: 26s - loss: 19.1356 - custom_mae: 1.46 - ETA: 26s - loss: 19.0226 - custom_mae: 1.46 - ETA: 26s - loss: 18.9100 - custom_mae: 1.46 - ETA: 25s - loss: 18.7982 - custom_mae: 1.45 - ETA: 25s - loss: 18.6882 - custom_mae: 1.45 - ETA: 25s - loss: 18.5779 - custom_mae: 1.45 - ETA: 25s - loss: 18.4700 - custom_mae: 1.44 - ETA: 25s - loss: 18.3657 - custom_mae: 1.44 - ETA: 25s - loss: 18.2627 - custom_mae: 1.44 - ETA: 25s - loss: 18.1590 - custom_mae: 1.43 - ETA: 25s - loss: 18.0551 - custom_mae: 1.43 - ETA: 25s - loss: 17.9565 - custom_mae: 1.43 - ETA: 25s - loss: 17.8571 - custom_mae: 1.43 - ETA: 25s - loss: 17.7575 - custom_mae: 1.42 - ETA: 25s - loss: 17.6591 - custom_mae: 1.42 - ETA: 25s - loss: 17.5619 - custom_mae: 1.42 - ETA: 24s - loss: 17.4672 - custom_mae: 1.41 - ETA: 24s - loss: 17.3758 - custom_mae: 1.41 - ETA: 24s - loss: 17.2808 - custom_mae: 1.41 - ETA: 24s - loss: 17.1881 - custom_mae: 1.40 - ETA: 24s - loss: 17.0958 - custom_mae: 1.40 - ETA: 24s - loss: 17.0058 - custom_mae: 1.40 - ETA: 24s - loss: 16.9157 - custom_mae: 1.3987"
     ]
    },
    {
     "name": "stdout",
     "output_type": "stream",
     "text": [
      "355/500 [====================>.........] - ETA: 24s - loss: 16.8272 - custom_mae: 1.39 - ETA: 24s - loss: 16.7391 - custom_mae: 1.39 - ETA: 24s - loss: 16.6534 - custom_mae: 1.38 - ETA: 24s - loss: 16.5672 - custom_mae: 1.38 - ETA: 24s - loss: 16.4818 - custom_mae: 1.38 - ETA: 24s - loss: 16.4010 - custom_mae: 1.38 - ETA: 23s - loss: 16.3185 - custom_mae: 1.37 - ETA: 23s - loss: 16.2366 - custom_mae: 1.37 - ETA: 23s - loss: 16.1550 - custom_mae: 1.37 - ETA: 23s - loss: 16.0741 - custom_mae: 1.36 - ETA: 23s - loss: 15.9958 - custom_mae: 1.36 - ETA: 23s - loss: 15.9161 - custom_mae: 1.36 - ETA: 23s - loss: 15.8387 - custom_mae: 1.36 - ETA: 23s - loss: 15.7599 - custom_mae: 1.35 - ETA: 23s - loss: 15.6831 - custom_mae: 1.35 - ETA: 23s - loss: 15.6058 - custom_mae: 1.35 - ETA: 23s - loss: 15.5322 - custom_mae: 1.35 - ETA: 23s - loss: 15.4578 - custom_mae: 1.34 - ETA: 23s - loss: 15.3838 - custom_mae: 1.34 - ETA: 23s - loss: 15.3107 - custom_mae: 1.34 - ETA: 22s - loss: 15.2401 - custom_mae: 1.33 - ETA: 22s - loss: 15.1717 - custom_mae: 1.33 - ETA: 22s - loss: 15.1018 - custom_mae: 1.33 - ETA: 22s - loss: 15.0300 - custom_mae: 1.33 - ETA: 22s - loss: 14.9599 - custom_mae: 1.32 - ETA: 22s - loss: 14.8930 - custom_mae: 1.32 - ETA: 22s - loss: 14.8250 - custom_mae: 1.32 - ETA: 22s - loss: 14.7585 - custom_mae: 1.32 - ETA: 22s - loss: 14.6923 - custom_mae: 1.32 - ETA: 22s - loss: 14.6269 - custom_mae: 1.31 - ETA: 22s - loss: 14.5625 - custom_mae: 1.31 - ETA: 22s - loss: 14.4993 - custom_mae: 1.31 - ETA: 22s - loss: 14.4353 - custom_mae: 1.31 - ETA: 21s - loss: 14.3723 - custom_mae: 1.30 - ETA: 21s - loss: 14.3107 - custom_mae: 1.30 - ETA: 21s - loss: 14.2505 - custom_mae: 1.30 - ETA: 21s - loss: 14.1899 - custom_mae: 1.30 - ETA: 21s - loss: 14.1304 - custom_mae: 1.30 - ETA: 21s - loss: 14.0688 - custom_mae: 1.29 - ETA: 21s - loss: 14.0104 - custom_mae: 1.29 - ETA: 21s - loss: 13.9505 - custom_mae: 1.29 - ETA: 21s - loss: 13.8908 - custom_mae: 1.29 - ETA: 21s - loss: 13.8339 - custom_mae: 1.29 - ETA: 21s - loss: 13.7776 - custom_mae: 1.29 - ETA: 21s - loss: 13.7226 - custom_mae: 1.28 - ETA: 21s - loss: 13.6652 - custom_mae: 1.28 - ETA: 20s - loss: 13.6102 - custom_mae: 1.28 - ETA: 20s - loss: 13.5558 - custom_mae: 1.28 - ETA: 20s - loss: 13.5033 - custom_mae: 1.28 - ETA: 20s - loss: 13.4496 - custom_mae: 1.28 - ETA: 20s - loss: 13.3971 - custom_mae: 1.27 - ETA: 20s - loss: 13.3429 - custom_mae: 1.27 - ETA: 20s - loss: 13.2901 - custom_mae: 1.27 - ETA: 20s - loss: 13.2365 - custom_mae: 1.27 - ETA: 20s - loss: 13.1840 - custom_mae: 1.27 - ETA: 20s - loss: 13.1326 - custom_mae: 1.26 - ETA: 20s - loss: 13.0804 - custom_mae: 1.26 - ETA: 20s - loss: 13.0285 - custom_mae: 1.26 - ETA: 20s - loss: 12.9771 - custom_mae: 1.26 - ETA: 19s - loss: 12.9271 - custom_mae: 1.26 - ETA: 19s - loss: 12.8773 - custom_mae: 1.25 - ETA: 19s - loss: 12.8279 - custom_mae: 1.25 - ETA: 19s - loss: 12.7800 - custom_mae: 1.25 - ETA: 19s - loss: 12.7315 - custom_mae: 1.25 - ETA: 19s - loss: 12.6844 - custom_mae: 1.25 - ETA: 19s - loss: 12.6361 - custom_mae: 1.25 - ETA: 19s - loss: 12.5895 - custom_mae: 1.24 - ETA: 19s - loss: 12.5439 - custom_mae: 1.24 - ETA: 19s - loss: 12.4968 - custom_mae: 1.24 - ETA: 19s - loss: 12.4510 - custom_mae: 1.24 - ETA: 19s - loss: 12.4046 - custom_mae: 1.24 - ETA: 19s - loss: 12.3581 - custom_mae: 1.24 - ETA: 18s - loss: 12.3126 - custom_mae: 1.23 - ETA: 18s - loss: 12.2685 - custom_mae: 1.23 - ETA: 18s - loss: 12.2236 - custom_mae: 1.23 - ETA: 18s - loss: 12.1801 - custom_mae: 1.23 - ETA: 18s - loss: 12.1374 - custom_mae: 1.23 - ETA: 18s - loss: 12.0970 - custom_mae: 1.23 - ETA: 18s - loss: 12.0549 - custom_mae: 1.23 - ETA: 18s - loss: 12.0119 - custom_mae: 1.22 - ETA: 18s - loss: 11.9697 - custom_mae: 1.22 - ETA: 18s - loss: 11.9278 - custom_mae: 1.22 - ETA: 18s - loss: 11.8864 - custom_mae: 1.22 - ETA: 18s - loss: 11.8450 - custom_mae: 1.22 - ETA: 18s - loss: 11.8042 - custom_mae: 1.22 - ETA: 17s - loss: 11.7628 - custom_mae: 1.22 - ETA: 17s - loss: 11.7219 - custom_mae: 1.21 - ETA: 17s - loss: 11.6822 - custom_mae: 1.21 - ETA: 17s - loss: 11.6428 - custom_mae: 1.21 - ETA: 17s - loss: 11.6018 - custom_mae: 1.21 - ETA: 17s - loss: 11.5634 - custom_mae: 1.21 - ETA: 17s - loss: 11.5230 - custom_mae: 1.21 - ETA: 17s - loss: 11.4844 - custom_mae: 1.20 - ETA: 17s - loss: 11.4455 - custom_mae: 1.20 - ETA: 17s - loss: 11.4073 - custom_mae: 1.20 - ETA: 17s - loss: 11.3693 - custom_mae: 1.20 - ETA: 17s - loss: 11.3326 - custom_mae: 1.20 - ETA: 17s - loss: 11.2949 - custom_mae: 1.20 - ETA: 16s - loss: 11.2575 - custom_mae: 1.20 - ETA: 16s - loss: 11.2210 - custom_mae: 1.19 - ETA: 16s - loss: 11.1845 - custom_mae: 1.19 - ETA: 16s - loss: 11.1483 - custom_mae: 1.19 - ETA: 16s - loss: 11.1119 - custom_mae: 1.19 - ETA: 16s - loss: 11.0761 - custom_mae: 1.19 - ETA: 16s - loss: 11.0401 - custom_mae: 1.19 - ETA: 16s - loss: 11.0046 - custom_mae: 1.19 - ETA: 16s - loss: 10.9703 - custom_mae: 1.19 - ETA: 16s - loss: 10.9360 - custom_mae: 1.18 - ETA: 16s - loss: 10.9019 - custom_mae: 1.18 - ETA: 16s - loss: 10.8683 - custom_mae: 1.18 - ETA: 16s - loss: 10.8345 - custom_mae: 1.18 - ETA: 16s - loss: 10.8005 - custom_mae: 1.18 - ETA: 15s - loss: 10.7664 - custom_mae: 1.18 - ETA: 15s - loss: 10.7328 - custom_mae: 1.18 - ETA: 15s - loss: 10.6995 - custom_mae: 1.18 - ETA: 15s - loss: 10.6658 - custom_mae: 1.17 - ETA: 15s - loss: 10.6327 - custom_mae: 1.17 - ETA: 15s - loss: 10.6004 - custom_mae: 1.17 - ETA: 15s - loss: 10.5673 - custom_mae: 1.17 - ETA: 15s - loss: 10.5347 - custom_mae: 1.17 - ETA: 15s - loss: 10.5021 - custom_mae: 1.17 - ETA: 15s - loss: 10.4702 - custom_mae: 1.17 - ETA: 15s - loss: 10.4381 - custom_mae: 1.16 - ETA: 15s - loss: 10.4067 - custom_mae: 1.16 - ETA: 15s - loss: 10.3762 - custom_mae: 1.16 - ETA: 14s - loss: 10.3457 - custom_mae: 1.16 - ETA: 14s - loss: 10.3150 - custom_mae: 1.16 - ETA: 14s - loss: 10.2848 - custom_mae: 1.16 - ETA: 14s - loss: 10.2544 - custom_mae: 1.16 - ETA: 14s - loss: 10.2237 - custom_mae: 1.16 - ETA: 14s - loss: 10.1946 - custom_mae: 1.15 - ETA: 14s - loss: 10.1651 - custom_mae: 1.15 - ETA: 14s - loss: 10.1353 - custom_mae: 1.15 - ETA: 14s - loss: 10.1054 - custom_mae: 1.15 - ETA: 14s - loss: 10.0764 - custom_mae: 1.15 - ETA: 14s - loss: 10.0469 - custom_mae: 1.15 - ETA: 14s - loss: 10.0175 - custom_mae: 1.15 - ETA: 14s - loss: 9.9892 - custom_mae: 1.1507 - ETA: 13s - loss: 9.9607 - custom_mae: 1.149 - ETA: 13s - loss: 9.9327 - custom_mae: 1.148 - ETA: 13s - loss: 9.9042 - custom_mae: 1.147 - ETA: 13s - loss: 9.8766 - custom_mae: 1.146 - ETA: 13s - loss: 9.8479 - custom_mae: 1.144 - ETA: 13s - loss: 9.8206 - custom_mae: 1.143 - ETA: 13s - loss: 9.7939 - custom_mae: 1.143 - ETA: 13s - loss: 9.7675 - custom_mae: 1.142 - ETA: 13s - loss: 9.7396 - custom_mae: 1.140 - ETA: 13s - loss: 9.7119 - custom_mae: 1.139 - ETA: 13s - loss: 9.6845 - custom_mae: 1.137 - ETA: 13s - loss: 9.6573 - custom_mae: 1.136 - ETA: 13s - loss: 9.6308 - custom_mae: 1.135 - ETA: 12s - loss: 9.6038 - custom_mae: 1.134 - ETA: 12s - loss: 9.5778 - custom_mae: 1.133 - ETA: 12s - loss: 9.5512 - custom_mae: 1.131 - ETA: 12s - loss: 9.5242 - custom_mae: 1.130 - ETA: 12s - loss: 9.4983 - custom_mae: 1.128 - ETA: 12s - loss: 9.4729 - custom_mae: 1.127 - ETA: 12s - loss: 9.4475 - custom_mae: 1.126 - ETA: 12s - loss: 9.4223 - custom_mae: 1.126 - ETA: 12s - loss: 9.3967 - custom_mae: 1.124 - ETA: 12s - loss: 9.3721 - custom_mae: 1.123 - ETA: 12s - loss: 9.3478 - custom_mae: 1.122 - ETA: 12s - loss: 9.3227 - custom_mae: 1.121 - ETA: 12s - loss: 9.2981 - custom_mae: 1.120 - ETA: 11s - loss: 9.2731 - custom_mae: 1.119 - ETA: 11s - loss: 9.2484 - custom_mae: 1.118 - ETA: 11s - loss: 9.2244 - custom_mae: 1.117 - ETA: 11s - loss: 9.2012 - custom_mae: 1.116 - ETA: 11s - loss: 9.1769 - custom_mae: 1.115 - ETA: 11s - loss: 9.1534 - custom_mae: 1.114 - ETA: 11s - loss: 9.1301 - custom_mae: 1.113 - ETA: 11s - loss: 9.1060 - custom_mae: 1.111 - ETA: 11s - loss: 9.0825 - custom_mae: 1.110 - ETA: 11s - loss: 9.0593 - custom_mae: 1.110 - ETA: 11s - loss: 9.0359 - custom_mae: 1.108 - ETA: 11s - loss: 9.0130 - custom_mae: 1.107 - ETA: 11s - loss: 8.9906 - custom_mae: 1.107 - ETA: 11s - loss: 8.9684 - custom_mae: 1.1061"
     ]
    },
    {
     "name": "stdout",
     "output_type": "stream",
     "text": [
      "500/500 [==============================] - ETA: 10s - loss: 8.9459 - custom_mae: 1.105 - ETA: 10s - loss: 8.9236 - custom_mae: 1.104 - ETA: 10s - loss: 8.9008 - custom_mae: 1.103 - ETA: 10s - loss: 8.8782 - custom_mae: 1.102 - ETA: 10s - loss: 8.8555 - custom_mae: 1.100 - ETA: 10s - loss: 8.8342 - custom_mae: 1.100 - ETA: 10s - loss: 8.8126 - custom_mae: 1.099 - ETA: 10s - loss: 8.7912 - custom_mae: 1.098 - ETA: 10s - loss: 8.7700 - custom_mae: 1.098 - ETA: 10s - loss: 8.7484 - custom_mae: 1.097 - ETA: 10s - loss: 8.7262 - custom_mae: 1.096 - ETA: 10s - loss: 8.7056 - custom_mae: 1.095 - ETA: 10s - loss: 8.6842 - custom_mae: 1.094 - ETA: 9s - loss: 8.6624 - custom_mae: 1.093 - ETA: 9s - loss: 8.6413 - custom_mae: 1.09 - ETA: 9s - loss: 8.6209 - custom_mae: 1.09 - ETA: 9s - loss: 8.5995 - custom_mae: 1.09 - ETA: 9s - loss: 8.5785 - custom_mae: 1.08 - ETA: 9s - loss: 8.5581 - custom_mae: 1.08 - ETA: 9s - loss: 8.5374 - custom_mae: 1.08 - ETA: 9s - loss: 8.5168 - custom_mae: 1.08 - ETA: 9s - loss: 8.4962 - custom_mae: 1.08 - ETA: 9s - loss: 8.4755 - custom_mae: 1.08 - ETA: 9s - loss: 8.4563 - custom_mae: 1.08 - ETA: 9s - loss: 8.4365 - custom_mae: 1.08 - ETA: 9s - loss: 8.4166 - custom_mae: 1.08 - ETA: 8s - loss: 8.3963 - custom_mae: 1.08 - ETA: 8s - loss: 8.3764 - custom_mae: 1.07 - ETA: 8s - loss: 8.3570 - custom_mae: 1.07 - ETA: 8s - loss: 8.3373 - custom_mae: 1.07 - ETA: 8s - loss: 8.3182 - custom_mae: 1.07 - ETA: 8s - loss: 8.2992 - custom_mae: 1.07 - ETA: 8s - loss: 8.2810 - custom_mae: 1.07 - ETA: 8s - loss: 8.2616 - custom_mae: 1.07 - ETA: 8s - loss: 8.2426 - custom_mae: 1.07 - ETA: 8s - loss: 8.2235 - custom_mae: 1.07 - ETA: 8s - loss: 8.2045 - custom_mae: 1.07 - ETA: 8s - loss: 8.1853 - custom_mae: 1.07 - ETA: 8s - loss: 8.1674 - custom_mae: 1.07 - ETA: 7s - loss: 8.1491 - custom_mae: 1.06 - ETA: 7s - loss: 8.1301 - custom_mae: 1.06 - ETA: 7s - loss: 8.1121 - custom_mae: 1.06 - ETA: 7s - loss: 8.0934 - custom_mae: 1.06 - ETA: 7s - loss: 8.0748 - custom_mae: 1.06 - ETA: 7s - loss: 8.0566 - custom_mae: 1.06 - ETA: 7s - loss: 8.0383 - custom_mae: 1.06 - ETA: 7s - loss: 8.0206 - custom_mae: 1.06 - ETA: 7s - loss: 8.0031 - custom_mae: 1.06 - ETA: 7s - loss: 7.9858 - custom_mae: 1.06 - ETA: 7s - loss: 7.9679 - custom_mae: 1.06 - ETA: 7s - loss: 7.9500 - custom_mae: 1.05 - ETA: 7s - loss: 7.9329 - custom_mae: 1.05 - ETA: 6s - loss: 7.9154 - custom_mae: 1.05 - ETA: 6s - loss: 7.8979 - custom_mae: 1.05 - ETA: 6s - loss: 7.8801 - custom_mae: 1.05 - ETA: 6s - loss: 7.8630 - custom_mae: 1.05 - ETA: 6s - loss: 7.8459 - custom_mae: 1.05 - ETA: 6s - loss: 7.8290 - custom_mae: 1.05 - ETA: 6s - loss: 7.8123 - custom_mae: 1.05 - ETA: 6s - loss: 7.7955 - custom_mae: 1.05 - ETA: 6s - loss: 7.7789 - custom_mae: 1.05 - ETA: 6s - loss: 7.7623 - custom_mae: 1.05 - ETA: 6s - loss: 7.7460 - custom_mae: 1.04 - ETA: 6s - loss: 7.7292 - custom_mae: 1.04 - ETA: 6s - loss: 7.7129 - custom_mae: 1.04 - ETA: 5s - loss: 7.6962 - custom_mae: 1.04 - ETA: 5s - loss: 7.6800 - custom_mae: 1.04 - ETA: 5s - loss: 7.6639 - custom_mae: 1.04 - ETA: 5s - loss: 7.6478 - custom_mae: 1.04 - ETA: 5s - loss: 7.6320 - custom_mae: 1.04 - ETA: 5s - loss: 7.6159 - custom_mae: 1.04 - ETA: 5s - loss: 7.5999 - custom_mae: 1.04 - ETA: 5s - loss: 7.5840 - custom_mae: 1.04 - ETA: 5s - loss: 7.5687 - custom_mae: 1.04 - ETA: 5s - loss: 7.5529 - custom_mae: 1.04 - ETA: 5s - loss: 7.5374 - custom_mae: 1.03 - ETA: 5s - loss: 7.5219 - custom_mae: 1.03 - ETA: 5s - loss: 7.5063 - custom_mae: 1.03 - ETA: 5s - loss: 7.4908 - custom_mae: 1.03 - ETA: 4s - loss: 7.4748 - custom_mae: 1.03 - ETA: 4s - loss: 7.4594 - custom_mae: 1.03 - ETA: 4s - loss: 7.4446 - custom_mae: 1.03 - ETA: 4s - loss: 7.4295 - custom_mae: 1.03 - ETA: 4s - loss: 7.4148 - custom_mae: 1.03 - ETA: 4s - loss: 7.3994 - custom_mae: 1.03 - ETA: 4s - loss: 7.3845 - custom_mae: 1.03 - ETA: 4s - loss: 7.3696 - custom_mae: 1.03 - ETA: 4s - loss: 7.3543 - custom_mae: 1.03 - ETA: 4s - loss: 7.3393 - custom_mae: 1.02 - ETA: 4s - loss: 7.3254 - custom_mae: 1.02 - ETA: 4s - loss: 7.3102 - custom_mae: 1.02 - ETA: 4s - loss: 7.2954 - custom_mae: 1.02 - ETA: 3s - loss: 7.2811 - custom_mae: 1.02 - ETA: 3s - loss: 7.2673 - custom_mae: 1.02 - ETA: 3s - loss: 7.2531 - custom_mae: 1.02 - ETA: 3s - loss: 7.2392 - custom_mae: 1.02 - ETA: 3s - loss: 7.2241 - custom_mae: 1.02 - ETA: 3s - loss: 7.2097 - custom_mae: 1.02 - ETA: 3s - loss: 7.1954 - custom_mae: 1.02 - ETA: 3s - loss: 7.1809 - custom_mae: 1.02 - ETA: 3s - loss: 7.1680 - custom_mae: 1.02 - ETA: 3s - loss: 7.1536 - custom_mae: 1.02 - ETA: 3s - loss: 7.1400 - custom_mae: 1.01 - ETA: 3s - loss: 7.1260 - custom_mae: 1.01 - ETA: 3s - loss: 7.1124 - custom_mae: 1.01 - ETA: 2s - loss: 7.0982 - custom_mae: 1.01 - ETA: 2s - loss: 7.0840 - custom_mae: 1.01 - ETA: 2s - loss: 7.0700 - custom_mae: 1.01 - ETA: 2s - loss: 7.0561 - custom_mae: 1.01 - ETA: 2s - loss: 7.0423 - custom_mae: 1.01 - ETA: 2s - loss: 7.0285 - custom_mae: 1.01 - ETA: 2s - loss: 7.0151 - custom_mae: 1.01 - ETA: 2s - loss: 7.0014 - custom_mae: 1.01 - ETA: 2s - loss: 6.9881 - custom_mae: 1.01 - ETA: 2s - loss: 6.9751 - custom_mae: 1.01 - ETA: 2s - loss: 6.9622 - custom_mae: 1.00 - ETA: 2s - loss: 6.9487 - custom_mae: 1.00 - ETA: 2s - loss: 6.9361 - custom_mae: 1.00 - ETA: 1s - loss: 6.9234 - custom_mae: 1.00 - ETA: 1s - loss: 6.9102 - custom_mae: 1.00 - ETA: 1s - loss: 6.8972 - custom_mae: 1.00 - ETA: 1s - loss: 6.8841 - custom_mae: 1.00 - ETA: 1s - loss: 6.8714 - custom_mae: 1.00 - ETA: 1s - loss: 6.8594 - custom_mae: 1.00 - ETA: 1s - loss: 6.8476 - custom_mae: 1.00 - ETA: 1s - loss: 6.8346 - custom_mae: 1.00 - ETA: 1s - loss: 6.8216 - custom_mae: 1.00 - ETA: 1s - loss: 6.8091 - custom_mae: 1.00 - ETA: 1s - loss: 6.7965 - custom_mae: 1.00 - ETA: 1s - loss: 6.7842 - custom_mae: 1.00 - ETA: 1s - loss: 6.7717 - custom_mae: 1.00 - ETA: 0s - loss: 6.7596 - custom_mae: 0.99 - ETA: 0s - loss: 6.7478 - custom_mae: 0.99 - ETA: 0s - loss: 6.7357 - custom_mae: 0.99 - ETA: 0s - loss: 6.7233 - custom_mae: 0.99 - ETA: 0s - loss: 6.7115 - custom_mae: 0.99 - ETA: 0s - loss: 6.6996 - custom_mae: 0.99 - ETA: 0s - loss: 6.6875 - custom_mae: 0.99 - ETA: 0s - loss: 6.6757 - custom_mae: 0.99 - ETA: 0s - loss: 6.6640 - custom_mae: 0.99 - ETA: 0s - loss: 6.6521 - custom_mae: 0.99 - ETA: 0s - loss: 6.6402 - custom_mae: 0.99 - ETA: 0s - loss: 6.6283 - custom_mae: 0.99 - ETA: 0s - loss: 6.6171 - custom_mae: 0.99 - ETA: 0s - loss: 6.6047 - custom_mae: 0.9919\n",
      "Epoch 00001: val_custom_mae improved from inf to 0.31906, saving model to ..\\fast_output\\SYNTH_Regression_MSE\\2020-05-28_Normalized_Base_Custom-MAE\\Best_Weights_FC_0.hdf5\n",
      "500/500 [==============================] - 40s 80ms/step - loss: 6.6047 - custom_mae: 0.9919 - val_loss: 0.1672 - val_custom_mae: 0.3191\n",
      "Time taken: 0:00:40.193208\n"
     ]
    },
    {
     "name": "stderr",
     "output_type": "stream",
     "text": [
      "\r",
      " 12%|██████████▏                                                                      | 1/8 [15:46<1:50:27, 946.80s/it]"
     ]
    },
    {
     "name": "stdout",
     "output_type": "stream",
     "text": [
      "{'activation': 'leakyrelu', 'batch_size': 32, 'dropout': 0.5, 'epochs': 1, 'first_neuron': 1024, 'hidden_layers': 0, 'label_type': 'Normalized', 'loss_function': 'mean_squared_error', 'lr': 1, 'monitor_value': 'val_custom_mae', 'optimizer': <class 'tensorflow.python.keras.optimizer_v2.adam.Adam'>, 'reduction_metric': 'custom_mae', 'samples': 20000}\n",
      "Using Loss: mean_squared_error \n",
      "and Reduction Metric: [<function custom_mae at 0x00000243913989D8>]\n",
      "Monitor: val_custom_mae\n"
     ]
    },
    {
     "name": "stdout",
     "output_type": "stream",
     "text": [
      "177/500 [=========>....................] - ETA: 0s - loss: 1.0162 - custom_mae: 0.79 - ETA: 18s - loss: 771.9396 - custom_mae: 15.83 - ETA: 25s - loss: 529.0742 - custom_mae: 12.46 - ETA: 28s - loss: 539.1307 - custom_mae: 14.02 - ETA: 29s - loss: 461.3793 - custom_mae: 13.21 - ETA: 31s - loss: 393.2683 - custom_mae: 12.05 - ETA: 32s - loss: 342.3933 - custom_mae: 11.08 - ETA: 32s - loss: 302.5374 - custom_mae: 10.22 - ETA: 33s - loss: 270.7968 - custom_mae: 9.4807 - ETA: 33s - loss: 244.5192 - custom_mae: 8.767 - ETA: 33s - loss: 222.6494 - custom_mae: 8.118 - ETA: 33s - loss: 204.3172 - custom_mae: 7.554 - ETA: 33s - loss: 188.7759 - custom_mae: 7.065 - ETA: 34s - loss: 175.5775 - custom_mae: 6.664 - ETA: 34s - loss: 164.1921 - custom_mae: 6.341 - ETA: 34s - loss: 154.4005 - custom_mae: 6.085 - ETA: 34s - loss: 145.9295 - custom_mae: 5.878 - ETA: 34s - loss: 138.2923 - custom_mae: 5.685 - ETA: 34s - loss: 131.3917 - custom_mae: 5.502 - ETA: 34s - loss: 125.2370 - custom_mae: 5.335 - ETA: 34s - loss: 119.5826 - custom_mae: 5.174 - ETA: 34s - loss: 114.4354 - custom_mae: 5.029 - ETA: 34s - loss: 109.7191 - custom_mae: 4.897 - ETA: 34s - loss: 105.4111 - custom_mae: 4.778 - ETA: 34s - loss: 101.4090 - custom_mae: 4.665 - ETA: 34s - loss: 97.6598 - custom_mae: 4.546 - ETA: 34s - loss: 94.1751 - custom_mae: 4.42 - ETA: 34s - loss: 90.9274 - custom_mae: 4.31 - ETA: 34s - loss: 87.9713 - custom_mae: 4.23 - ETA: 34s - loss: 85.2553 - custom_mae: 4.15 - ETA: 34s - loss: 82.6526 - custom_mae: 4.07 - ETA: 34s - loss: 80.2418 - custom_mae: 4.00 - ETA: 33s - loss: 77.9601 - custom_mae: 3.94 - ETA: 33s - loss: 75.8005 - custom_mae: 3.87 - ETA: 33s - loss: 73.7490 - custom_mae: 3.81 - ETA: 33s - loss: 71.7888 - custom_mae: 3.74 - ETA: 33s - loss: 69.9283 - custom_mae: 3.67 - ETA: 33s - loss: 68.1843 - custom_mae: 3.62 - ETA: 33s - loss: 66.5625 - custom_mae: 3.57 - ETA: 33s - loss: 64.9992 - custom_mae: 3.52 - ETA: 33s - loss: 63.4881 - custom_mae: 3.47 - ETA: 33s - loss: 62.0427 - custom_mae: 3.42 - ETA: 33s - loss: 60.7055 - custom_mae: 3.38 - ETA: 33s - loss: 59.4197 - custom_mae: 3.34 - ETA: 33s - loss: 58.2185 - custom_mae: 3.30 - ETA: 33s - loss: 57.0357 - custom_mae: 3.27 - ETA: 33s - loss: 55.9044 - custom_mae: 3.23 - ETA: 33s - loss: 54.8170 - custom_mae: 3.20 - ETA: 33s - loss: 53.7678 - custom_mae: 3.16 - ETA: 33s - loss: 52.7715 - custom_mae: 3.13 - ETA: 33s - loss: 51.8157 - custom_mae: 3.10 - ETA: 33s - loss: 50.8854 - custom_mae: 3.07 - ETA: 33s - loss: 50.0008 - custom_mae: 3.04 - ETA: 32s - loss: 49.1343 - custom_mae: 3.01 - ETA: 32s - loss: 48.2989 - custom_mae: 2.98 - ETA: 32s - loss: 47.4888 - custom_mae: 2.95 - ETA: 32s - loss: 46.7308 - custom_mae: 2.93 - ETA: 32s - loss: 45.9697 - custom_mae: 2.90 - ETA: 32s - loss: 45.2577 - custom_mae: 2.88 - ETA: 32s - loss: 44.5625 - custom_mae: 2.85 - ETA: 32s - loss: 43.9003 - custom_mae: 2.83 - ETA: 32s - loss: 43.2448 - custom_mae: 2.81 - ETA: 32s - loss: 42.6119 - custom_mae: 2.79 - ETA: 32s - loss: 41.9975 - custom_mae: 2.77 - ETA: 32s - loss: 41.4026 - custom_mae: 2.75 - ETA: 32s - loss: 40.8092 - custom_mae: 2.73 - ETA: 32s - loss: 40.2432 - custom_mae: 2.71 - ETA: 32s - loss: 39.7070 - custom_mae: 2.69 - ETA: 32s - loss: 39.1914 - custom_mae: 2.67 - ETA: 32s - loss: 38.6860 - custom_mae: 2.65 - ETA: 31s - loss: 38.1869 - custom_mae: 2.64 - ETA: 31s - loss: 37.7117 - custom_mae: 2.62 - ETA: 31s - loss: 37.2384 - custom_mae: 2.61 - ETA: 31s - loss: 36.7837 - custom_mae: 2.59 - ETA: 31s - loss: 36.3319 - custom_mae: 2.57 - ETA: 31s - loss: 35.8986 - custom_mae: 2.56 - ETA: 31s - loss: 35.4853 - custom_mae: 2.55 - ETA: 31s - loss: 35.0599 - custom_mae: 2.53 - ETA: 31s - loss: 34.6520 - custom_mae: 2.51 - ETA: 31s - loss: 34.2614 - custom_mae: 2.50 - ETA: 31s - loss: 33.8762 - custom_mae: 2.49 - ETA: 31s - loss: 33.5024 - custom_mae: 2.47 - ETA: 31s - loss: 33.1363 - custom_mae: 2.46 - ETA: 31s - loss: 32.7777 - custom_mae: 2.45 - ETA: 30s - loss: 32.4299 - custom_mae: 2.44 - ETA: 30s - loss: 32.0994 - custom_mae: 2.43 - ETA: 30s - loss: 31.7759 - custom_mae: 2.42 - ETA: 30s - loss: 31.4524 - custom_mae: 2.41 - ETA: 30s - loss: 31.1322 - custom_mae: 2.39 - ETA: 30s - loss: 30.8287 - custom_mae: 2.38 - ETA: 30s - loss: 30.5160 - custom_mae: 2.37 - ETA: 30s - loss: 30.2270 - custom_mae: 2.36 - ETA: 30s - loss: 29.9409 - custom_mae: 2.35 - ETA: 30s - loss: 29.6482 - custom_mae: 2.34 - ETA: 30s - loss: 29.3626 - custom_mae: 2.33 - ETA: 30s - loss: 29.0992 - custom_mae: 2.32 - ETA: 30s - loss: 28.8352 - custom_mae: 2.31 - ETA: 29s - loss: 28.5708 - custom_mae: 2.30 - ETA: 29s - loss: 28.3104 - custom_mae: 2.29 - ETA: 29s - loss: 28.0610 - custom_mae: 2.28 - ETA: 29s - loss: 27.8127 - custom_mae: 2.28 - ETA: 29s - loss: 27.5770 - custom_mae: 2.27 - ETA: 29s - loss: 27.3482 - custom_mae: 2.26 - ETA: 29s - loss: 27.1158 - custom_mae: 2.25 - ETA: 29s - loss: 26.8939 - custom_mae: 2.24 - ETA: 29s - loss: 26.6600 - custom_mae: 2.23 - ETA: 29s - loss: 26.4348 - custom_mae: 2.23 - ETA: 29s - loss: 26.2218 - custom_mae: 2.22 - ETA: 29s - loss: 26.0173 - custom_mae: 2.21 - ETA: 29s - loss: 25.8086 - custom_mae: 2.21 - ETA: 29s - loss: 25.5998 - custom_mae: 2.20 - ETA: 28s - loss: 25.4030 - custom_mae: 2.19 - ETA: 28s - loss: 25.2005 - custom_mae: 2.18 - ETA: 28s - loss: 25.0046 - custom_mae: 2.18 - ETA: 28s - loss: 24.8124 - custom_mae: 2.17 - ETA: 28s - loss: 24.6314 - custom_mae: 2.16 - ETA: 28s - loss: 24.4418 - custom_mae: 2.16 - ETA: 28s - loss: 24.2585 - custom_mae: 2.15 - ETA: 28s - loss: 24.0740 - custom_mae: 2.14 - ETA: 28s - loss: 23.8936 - custom_mae: 2.13 - ETA: 28s - loss: 23.7202 - custom_mae: 2.13 - ETA: 28s - loss: 23.5516 - custom_mae: 2.12 - ETA: 28s - loss: 23.3770 - custom_mae: 2.11 - ETA: 28s - loss: 23.2070 - custom_mae: 2.11 - ETA: 28s - loss: 23.0418 - custom_mae: 2.10 - ETA: 27s - loss: 22.8865 - custom_mae: 2.10 - ETA: 27s - loss: 22.7269 - custom_mae: 2.09 - ETA: 27s - loss: 22.5705 - custom_mae: 2.08 - ETA: 27s - loss: 22.4157 - custom_mae: 2.08 - ETA: 27s - loss: 22.2679 - custom_mae: 2.07 - ETA: 27s - loss: 22.1142 - custom_mae: 2.06 - ETA: 27s - loss: 21.9723 - custom_mae: 2.06 - ETA: 27s - loss: 21.8221 - custom_mae: 2.05 - ETA: 27s - loss: 21.6807 - custom_mae: 2.05 - ETA: 27s - loss: 21.5403 - custom_mae: 2.04 - ETA: 27s - loss: 21.4042 - custom_mae: 2.04 - ETA: 27s - loss: 21.2725 - custom_mae: 2.03 - ETA: 27s - loss: 21.1354 - custom_mae: 2.03 - ETA: 27s - loss: 21.0026 - custom_mae: 2.02 - ETA: 26s - loss: 20.8703 - custom_mae: 2.02 - ETA: 26s - loss: 20.7406 - custom_mae: 2.01 - ETA: 26s - loss: 20.6076 - custom_mae: 2.01 - ETA: 26s - loss: 20.4763 - custom_mae: 2.00 - ETA: 26s - loss: 20.3467 - custom_mae: 1.99 - ETA: 26s - loss: 20.2198 - custom_mae: 1.99 - ETA: 26s - loss: 20.0954 - custom_mae: 1.98 - ETA: 26s - loss: 19.9703 - custom_mae: 1.97 - ETA: 26s - loss: 19.8561 - custom_mae: 1.97 - ETA: 26s - loss: 19.7396 - custom_mae: 1.97 - ETA: 26s - loss: 19.6261 - custom_mae: 1.96 - ETA: 26s - loss: 19.5126 - custom_mae: 1.96 - ETA: 26s - loss: 19.4027 - custom_mae: 1.95 - ETA: 25s - loss: 19.2967 - custom_mae: 1.95 - ETA: 25s - loss: 19.1846 - custom_mae: 1.94 - ETA: 25s - loss: 19.0768 - custom_mae: 1.94 - ETA: 25s - loss: 18.9699 - custom_mae: 1.94 - ETA: 25s - loss: 18.8644 - custom_mae: 1.93 - ETA: 25s - loss: 18.7631 - custom_mae: 1.93 - ETA: 25s - loss: 18.6622 - custom_mae: 1.92 - ETA: 25s - loss: 18.5580 - custom_mae: 1.92 - ETA: 25s - loss: 18.4551 - custom_mae: 1.91 - ETA: 25s - loss: 18.3550 - custom_mae: 1.91 - ETA: 25s - loss: 18.2618 - custom_mae: 1.90 - ETA: 25s - loss: 18.1618 - custom_mae: 1.90 - ETA: 25s - loss: 18.0668 - custom_mae: 1.90 - ETA: 25s - loss: 17.9708 - custom_mae: 1.89 - ETA: 24s - loss: 17.8802 - custom_mae: 1.89 - ETA: 24s - loss: 17.7878 - custom_mae: 1.88 - ETA: 24s - loss: 17.7006 - custom_mae: 1.88 - ETA: 24s - loss: 17.6117 - custom_mae: 1.88 - ETA: 24s - loss: 17.5258 - custom_mae: 1.87 - ETA: 24s - loss: 17.4371 - custom_mae: 1.87 - ETA: 24s - loss: 17.3505 - custom_mae: 1.87 - ETA: 24s - loss: 17.2644 - custom_mae: 1.86 - ETA: 24s - loss: 17.1811 - custom_mae: 1.86 - ETA: 24s - loss: 17.0987 - custom_mae: 1.86 - ETA: 24s - loss: 17.0146 - custom_mae: 1.8583"
     ]
    },
    {
     "name": "stdout",
     "output_type": "stream",
     "text": [
      "355/500 [====================>.........] - ETA: 24s - loss: 16.9347 - custom_mae: 1.85 - ETA: 24s - loss: 16.8557 - custom_mae: 1.85 - ETA: 23s - loss: 16.7782 - custom_mae: 1.84 - ETA: 23s - loss: 16.6971 - custom_mae: 1.84 - ETA: 23s - loss: 16.6161 - custom_mae: 1.84 - ETA: 23s - loss: 16.5420 - custom_mae: 1.83 - ETA: 23s - loss: 16.4694 - custom_mae: 1.83 - ETA: 23s - loss: 16.3955 - custom_mae: 1.83 - ETA: 23s - loss: 16.3201 - custom_mae: 1.83 - ETA: 23s - loss: 16.2429 - custom_mae: 1.82 - ETA: 23s - loss: 16.1696 - custom_mae: 1.82 - ETA: 23s - loss: 16.0934 - custom_mae: 1.82 - ETA: 23s - loss: 16.0170 - custom_mae: 1.81 - ETA: 23s - loss: 15.9440 - custom_mae: 1.81 - ETA: 23s - loss: 15.8711 - custom_mae: 1.80 - ETA: 23s - loss: 15.8025 - custom_mae: 1.80 - ETA: 22s - loss: 15.7350 - custom_mae: 1.80 - ETA: 22s - loss: 15.6654 - custom_mae: 1.80 - ETA: 22s - loss: 15.5965 - custom_mae: 1.79 - ETA: 22s - loss: 15.5283 - custom_mae: 1.79 - ETA: 22s - loss: 15.4610 - custom_mae: 1.79 - ETA: 22s - loss: 15.3946 - custom_mae: 1.78 - ETA: 22s - loss: 15.3279 - custom_mae: 1.78 - ETA: 22s - loss: 15.2605 - custom_mae: 1.78 - ETA: 22s - loss: 15.1942 - custom_mae: 1.77 - ETA: 22s - loss: 15.1322 - custom_mae: 1.77 - ETA: 22s - loss: 15.0691 - custom_mae: 1.77 - ETA: 22s - loss: 15.0043 - custom_mae: 1.76 - ETA: 22s - loss: 14.9426 - custom_mae: 1.76 - ETA: 21s - loss: 14.8792 - custom_mae: 1.76 - ETA: 21s - loss: 14.8161 - custom_mae: 1.75 - ETA: 21s - loss: 14.7535 - custom_mae: 1.75 - ETA: 21s - loss: 14.6947 - custom_mae: 1.75 - ETA: 21s - loss: 14.6385 - custom_mae: 1.75 - ETA: 21s - loss: 14.5761 - custom_mae: 1.74 - ETA: 21s - loss: 14.5246 - custom_mae: 1.74 - ETA: 21s - loss: 14.4671 - custom_mae: 1.74 - ETA: 21s - loss: 14.4112 - custom_mae: 1.74 - ETA: 21s - loss: 14.3550 - custom_mae: 1.73 - ETA: 21s - loss: 14.3006 - custom_mae: 1.73 - ETA: 21s - loss: 14.2448 - custom_mae: 1.73 - ETA: 21s - loss: 14.1886 - custom_mae: 1.73 - ETA: 21s - loss: 14.1350 - custom_mae: 1.72 - ETA: 20s - loss: 14.0841 - custom_mae: 1.72 - ETA: 20s - loss: 14.0307 - custom_mae: 1.72 - ETA: 20s - loss: 13.9758 - custom_mae: 1.72 - ETA: 20s - loss: 13.9206 - custom_mae: 1.72 - ETA: 20s - loss: 13.8664 - custom_mae: 1.71 - ETA: 20s - loss: 13.8173 - custom_mae: 1.71 - ETA: 20s - loss: 13.7652 - custom_mae: 1.71 - ETA: 20s - loss: 13.7135 - custom_mae: 1.71 - ETA: 20s - loss: 13.6618 - custom_mae: 1.70 - ETA: 20s - loss: 13.6117 - custom_mae: 1.70 - ETA: 20s - loss: 13.5585 - custom_mae: 1.70 - ETA: 20s - loss: 13.5095 - custom_mae: 1.69 - ETA: 20s - loss: 13.4589 - custom_mae: 1.69 - ETA: 19s - loss: 13.4103 - custom_mae: 1.69 - ETA: 19s - loss: 13.3616 - custom_mae: 1.69 - ETA: 19s - loss: 13.3114 - custom_mae: 1.68 - ETA: 19s - loss: 13.2647 - custom_mae: 1.68 - ETA: 19s - loss: 13.2193 - custom_mae: 1.68 - ETA: 19s - loss: 13.1716 - custom_mae: 1.68 - ETA: 19s - loss: 13.1249 - custom_mae: 1.67 - ETA: 19s - loss: 13.0756 - custom_mae: 1.67 - ETA: 19s - loss: 13.0324 - custom_mae: 1.67 - ETA: 19s - loss: 12.9868 - custom_mae: 1.67 - ETA: 19s - loss: 12.9410 - custom_mae: 1.67 - ETA: 19s - loss: 12.8974 - custom_mae: 1.66 - ETA: 19s - loss: 12.8504 - custom_mae: 1.66 - ETA: 18s - loss: 12.8042 - custom_mae: 1.66 - ETA: 18s - loss: 12.7603 - custom_mae: 1.65 - ETA: 18s - loss: 12.7152 - custom_mae: 1.65 - ETA: 18s - loss: 12.6717 - custom_mae: 1.65 - ETA: 18s - loss: 12.6272 - custom_mae: 1.65 - ETA: 18s - loss: 12.5836 - custom_mae: 1.65 - ETA: 18s - loss: 12.5407 - custom_mae: 1.64 - ETA: 18s - loss: 12.5001 - custom_mae: 1.64 - ETA: 18s - loss: 12.4593 - custom_mae: 1.64 - ETA: 18s - loss: 12.4208 - custom_mae: 1.64 - ETA: 18s - loss: 12.3790 - custom_mae: 1.64 - ETA: 18s - loss: 12.3417 - custom_mae: 1.63 - ETA: 18s - loss: 12.3002 - custom_mae: 1.63 - ETA: 18s - loss: 12.2601 - custom_mae: 1.63 - ETA: 17s - loss: 12.2186 - custom_mae: 1.63 - ETA: 17s - loss: 12.1798 - custom_mae: 1.63 - ETA: 17s - loss: 12.1394 - custom_mae: 1.62 - ETA: 17s - loss: 12.0999 - custom_mae: 1.62 - ETA: 17s - loss: 12.0618 - custom_mae: 1.62 - ETA: 17s - loss: 12.0255 - custom_mae: 1.62 - ETA: 17s - loss: 11.9861 - custom_mae: 1.62 - ETA: 17s - loss: 11.9481 - custom_mae: 1.61 - ETA: 17s - loss: 11.9091 - custom_mae: 1.61 - ETA: 17s - loss: 11.8719 - custom_mae: 1.61 - ETA: 17s - loss: 11.8345 - custom_mae: 1.61 - ETA: 17s - loss: 11.7982 - custom_mae: 1.60 - ETA: 17s - loss: 11.7618 - custom_mae: 1.60 - ETA: 16s - loss: 11.7261 - custom_mae: 1.60 - ETA: 16s - loss: 11.6885 - custom_mae: 1.60 - ETA: 16s - loss: 11.6518 - custom_mae: 1.60 - ETA: 16s - loss: 11.6153 - custom_mae: 1.59 - ETA: 16s - loss: 11.5785 - custom_mae: 1.59 - ETA: 16s - loss: 11.5446 - custom_mae: 1.59 - ETA: 16s - loss: 11.5093 - custom_mae: 1.59 - ETA: 16s - loss: 11.4753 - custom_mae: 1.59 - ETA: 16s - loss: 11.4427 - custom_mae: 1.59 - ETA: 16s - loss: 11.4085 - custom_mae: 1.58 - ETA: 16s - loss: 11.3767 - custom_mae: 1.58 - ETA: 16s - loss: 11.3426 - custom_mae: 1.58 - ETA: 16s - loss: 11.3105 - custom_mae: 1.58 - ETA: 15s - loss: 11.2767 - custom_mae: 1.58 - ETA: 15s - loss: 11.2423 - custom_mae: 1.57 - ETA: 15s - loss: 11.2091 - custom_mae: 1.57 - ETA: 15s - loss: 11.1760 - custom_mae: 1.57 - ETA: 15s - loss: 11.1445 - custom_mae: 1.57 - ETA: 15s - loss: 11.1127 - custom_mae: 1.57 - ETA: 15s - loss: 11.0786 - custom_mae: 1.56 - ETA: 15s - loss: 11.0473 - custom_mae: 1.56 - ETA: 15s - loss: 11.0147 - custom_mae: 1.56 - ETA: 15s - loss: 10.9828 - custom_mae: 1.56 - ETA: 15s - loss: 10.9524 - custom_mae: 1.56 - ETA: 15s - loss: 10.9197 - custom_mae: 1.55 - ETA: 15s - loss: 10.8890 - custom_mae: 1.55 - ETA: 15s - loss: 10.8578 - custom_mae: 1.55 - ETA: 14s - loss: 10.8273 - custom_mae: 1.55 - ETA: 14s - loss: 10.7969 - custom_mae: 1.55 - ETA: 14s - loss: 10.7661 - custom_mae: 1.54 - ETA: 14s - loss: 10.7349 - custom_mae: 1.54 - ETA: 14s - loss: 10.7065 - custom_mae: 1.54 - ETA: 14s - loss: 10.6763 - custom_mae: 1.54 - ETA: 14s - loss: 10.6462 - custom_mae: 1.54 - ETA: 14s - loss: 10.6165 - custom_mae: 1.54 - ETA: 14s - loss: 10.5877 - custom_mae: 1.53 - ETA: 14s - loss: 10.5591 - custom_mae: 1.53 - ETA: 14s - loss: 10.5287 - custom_mae: 1.53 - ETA: 14s - loss: 10.4996 - custom_mae: 1.53 - ETA: 14s - loss: 10.4705 - custom_mae: 1.53 - ETA: 13s - loss: 10.4416 - custom_mae: 1.52 - ETA: 13s - loss: 10.4124 - custom_mae: 1.52 - ETA: 13s - loss: 10.3845 - custom_mae: 1.52 - ETA: 13s - loss: 10.3570 - custom_mae: 1.52 - ETA: 13s - loss: 10.3296 - custom_mae: 1.52 - ETA: 13s - loss: 10.3003 - custom_mae: 1.51 - ETA: 13s - loss: 10.2718 - custom_mae: 1.51 - ETA: 13s - loss: 10.2444 - custom_mae: 1.51 - ETA: 13s - loss: 10.2172 - custom_mae: 1.51 - ETA: 13s - loss: 10.1893 - custom_mae: 1.51 - ETA: 13s - loss: 10.1614 - custom_mae: 1.50 - ETA: 13s - loss: 10.1345 - custom_mae: 1.50 - ETA: 13s - loss: 10.1071 - custom_mae: 1.50 - ETA: 12s - loss: 10.0808 - custom_mae: 1.50 - ETA: 12s - loss: 10.0550 - custom_mae: 1.50 - ETA: 12s - loss: 10.0296 - custom_mae: 1.50 - ETA: 12s - loss: 10.0038 - custom_mae: 1.49 - ETA: 12s - loss: 9.9766 - custom_mae: 1.4975 - ETA: 12s - loss: 9.9497 - custom_mae: 1.495 - ETA: 12s - loss: 9.9241 - custom_mae: 1.493 - ETA: 12s - loss: 9.8991 - custom_mae: 1.492 - ETA: 12s - loss: 9.8735 - custom_mae: 1.490 - ETA: 12s - loss: 9.8480 - custom_mae: 1.488 - ETA: 12s - loss: 9.8235 - custom_mae: 1.487 - ETA: 12s - loss: 9.7980 - custom_mae: 1.485 - ETA: 12s - loss: 9.7742 - custom_mae: 1.483 - ETA: 12s - loss: 9.7486 - custom_mae: 1.482 - ETA: 11s - loss: 9.7241 - custom_mae: 1.480 - ETA: 11s - loss: 9.6993 - custom_mae: 1.478 - ETA: 11s - loss: 9.6748 - custom_mae: 1.476 - ETA: 11s - loss: 9.6502 - custom_mae: 1.474 - ETA: 11s - loss: 9.6274 - custom_mae: 1.473 - ETA: 11s - loss: 9.6046 - custom_mae: 1.472 - ETA: 11s - loss: 9.5812 - custom_mae: 1.471 - ETA: 11s - loss: 9.5593 - custom_mae: 1.470 - ETA: 11s - loss: 9.5367 - custom_mae: 1.468 - ETA: 11s - loss: 9.5130 - custom_mae: 1.467 - ETA: 11s - loss: 9.4900 - custom_mae: 1.465 - ETA: 11s - loss: 9.4682 - custom_mae: 1.464 - ETA: 11s - loss: 9.4454 - custom_mae: 1.462 - ETA: 10s - loss: 9.4241 - custom_mae: 1.461 - ETA: 10s - loss: 9.4007 - custom_mae: 1.4600"
     ]
    },
    {
     "name": "stdout",
     "output_type": "stream",
     "text": [
      "500/500 [==============================] - ETA: 10s - loss: 9.3788 - custom_mae: 1.458 - ETA: 10s - loss: 9.3562 - custom_mae: 1.456 - ETA: 10s - loss: 9.3337 - custom_mae: 1.455 - ETA: 10s - loss: 9.3113 - custom_mae: 1.453 - ETA: 10s - loss: 9.2890 - custom_mae: 1.451 - ETA: 10s - loss: 9.2679 - custom_mae: 1.450 - ETA: 10s - loss: 9.2458 - custom_mae: 1.449 - ETA: 10s - loss: 9.2240 - custom_mae: 1.447 - ETA: 10s - loss: 9.2021 - custom_mae: 1.446 - ETA: 10s - loss: 9.1803 - custom_mae: 1.444 - ETA: 10s - loss: 9.1582 - custom_mae: 1.442 - ETA: 9s - loss: 9.1367 - custom_mae: 1.441 - ETA: 9s - loss: 9.1149 - custom_mae: 1.43 - ETA: 9s - loss: 9.0934 - custom_mae: 1.43 - ETA: 9s - loss: 9.0715 - custom_mae: 1.43 - ETA: 9s - loss: 9.0510 - custom_mae: 1.43 - ETA: 9s - loss: 9.0308 - custom_mae: 1.43 - ETA: 9s - loss: 9.0102 - custom_mae: 1.43 - ETA: 9s - loss: 8.9899 - custom_mae: 1.43 - ETA: 9s - loss: 8.9709 - custom_mae: 1.42 - ETA: 9s - loss: 8.9504 - custom_mae: 1.42 - ETA: 9s - loss: 8.9294 - custom_mae: 1.42 - ETA: 9s - loss: 8.9079 - custom_mae: 1.42 - ETA: 9s - loss: 8.8887 - custom_mae: 1.42 - ETA: 9s - loss: 8.8679 - custom_mae: 1.42 - ETA: 8s - loss: 8.8478 - custom_mae: 1.42 - ETA: 8s - loss: 8.8272 - custom_mae: 1.41 - ETA: 8s - loss: 8.8077 - custom_mae: 1.41 - ETA: 8s - loss: 8.7885 - custom_mae: 1.41 - ETA: 8s - loss: 8.7683 - custom_mae: 1.41 - ETA: 8s - loss: 8.7501 - custom_mae: 1.41 - ETA: 8s - loss: 8.7305 - custom_mae: 1.41 - ETA: 8s - loss: 8.7116 - custom_mae: 1.41 - ETA: 8s - loss: 8.6923 - custom_mae: 1.40 - ETA: 8s - loss: 8.6730 - custom_mae: 1.40 - ETA: 8s - loss: 8.6540 - custom_mae: 1.40 - ETA: 8s - loss: 8.6347 - custom_mae: 1.40 - ETA: 8s - loss: 8.6170 - custom_mae: 1.40 - ETA: 7s - loss: 8.5991 - custom_mae: 1.40 - ETA: 7s - loss: 8.5809 - custom_mae: 1.40 - ETA: 7s - loss: 8.5628 - custom_mae: 1.40 - ETA: 7s - loss: 8.5441 - custom_mae: 1.39 - ETA: 7s - loss: 8.5255 - custom_mae: 1.39 - ETA: 7s - loss: 8.5076 - custom_mae: 1.39 - ETA: 7s - loss: 8.4889 - custom_mae: 1.39 - ETA: 7s - loss: 8.4702 - custom_mae: 1.39 - ETA: 7s - loss: 8.4531 - custom_mae: 1.39 - ETA: 7s - loss: 8.4353 - custom_mae: 1.39 - ETA: 7s - loss: 8.4177 - custom_mae: 1.38 - ETA: 7s - loss: 8.3988 - custom_mae: 1.38 - ETA: 7s - loss: 8.3810 - custom_mae: 1.38 - ETA: 6s - loss: 8.3636 - custom_mae: 1.38 - ETA: 6s - loss: 8.3458 - custom_mae: 1.38 - ETA: 6s - loss: 8.3279 - custom_mae: 1.38 - ETA: 6s - loss: 8.3102 - custom_mae: 1.38 - ETA: 6s - loss: 8.2930 - custom_mae: 1.38 - ETA: 6s - loss: 8.2765 - custom_mae: 1.37 - ETA: 6s - loss: 8.2592 - custom_mae: 1.37 - ETA: 6s - loss: 8.2416 - custom_mae: 1.37 - ETA: 6s - loss: 8.2248 - custom_mae: 1.37 - ETA: 6s - loss: 8.2087 - custom_mae: 1.37 - ETA: 6s - loss: 8.1918 - custom_mae: 1.37 - ETA: 6s - loss: 8.1752 - custom_mae: 1.37 - ETA: 6s - loss: 8.1582 - custom_mae: 1.37 - ETA: 6s - loss: 8.1416 - custom_mae: 1.36 - ETA: 5s - loss: 8.1249 - custom_mae: 1.36 - ETA: 5s - loss: 8.1085 - custom_mae: 1.36 - ETA: 5s - loss: 8.0921 - custom_mae: 1.36 - ETA: 5s - loss: 8.0750 - custom_mae: 1.36 - ETA: 5s - loss: 8.0587 - custom_mae: 1.36 - ETA: 5s - loss: 8.0420 - custom_mae: 1.36 - ETA: 5s - loss: 8.0265 - custom_mae: 1.36 - ETA: 5s - loss: 8.0100 - custom_mae: 1.35 - ETA: 5s - loss: 7.9944 - custom_mae: 1.35 - ETA: 5s - loss: 7.9783 - custom_mae: 1.35 - ETA: 5s - loss: 7.9629 - custom_mae: 1.35 - ETA: 5s - loss: 7.9473 - custom_mae: 1.35 - ETA: 5s - loss: 7.9313 - custom_mae: 1.35 - ETA: 4s - loss: 7.9154 - custom_mae: 1.35 - ETA: 4s - loss: 7.8991 - custom_mae: 1.35 - ETA: 4s - loss: 7.8832 - custom_mae: 1.34 - ETA: 4s - loss: 7.8688 - custom_mae: 1.34 - ETA: 4s - loss: 7.8538 - custom_mae: 1.34 - ETA: 4s - loss: 7.8390 - custom_mae: 1.34 - ETA: 4s - loss: 7.8243 - custom_mae: 1.34 - ETA: 4s - loss: 7.8088 - custom_mae: 1.34 - ETA: 4s - loss: 7.7939 - custom_mae: 1.34 - ETA: 4s - loss: 7.7783 - custom_mae: 1.34 - ETA: 4s - loss: 7.7634 - custom_mae: 1.34 - ETA: 4s - loss: 7.7483 - custom_mae: 1.33 - ETA: 4s - loss: 7.7326 - custom_mae: 1.33 - ETA: 3s - loss: 7.7175 - custom_mae: 1.33 - ETA: 3s - loss: 7.7028 - custom_mae: 1.33 - ETA: 3s - loss: 7.6881 - custom_mae: 1.33 - ETA: 3s - loss: 7.6737 - custom_mae: 1.33 - ETA: 3s - loss: 7.6594 - custom_mae: 1.33 - ETA: 3s - loss: 7.6443 - custom_mae: 1.33 - ETA: 3s - loss: 7.6299 - custom_mae: 1.32 - ETA: 3s - loss: 7.6151 - custom_mae: 1.32 - ETA: 3s - loss: 7.6006 - custom_mae: 1.32 - ETA: 3s - loss: 7.5869 - custom_mae: 1.32 - ETA: 3s - loss: 7.5728 - custom_mae: 1.32 - ETA: 3s - loss: 7.5591 - custom_mae: 1.32 - ETA: 3s - loss: 7.5453 - custom_mae: 1.32 - ETA: 3s - loss: 7.5313 - custom_mae: 1.32 - ETA: 2s - loss: 7.5170 - custom_mae: 1.32 - ETA: 2s - loss: 7.5027 - custom_mae: 1.31 - ETA: 2s - loss: 7.4883 - custom_mae: 1.31 - ETA: 2s - loss: 7.4739 - custom_mae: 1.31 - ETA: 2s - loss: 7.4602 - custom_mae: 1.31 - ETA: 2s - loss: 7.4462 - custom_mae: 1.31 - ETA: 2s - loss: 7.4323 - custom_mae: 1.31 - ETA: 2s - loss: 7.4187 - custom_mae: 1.31 - ETA: 2s - loss: 7.4045 - custom_mae: 1.31 - ETA: 2s - loss: 7.3910 - custom_mae: 1.30 - ETA: 2s - loss: 7.3768 - custom_mae: 1.30 - ETA: 2s - loss: 7.3639 - custom_mae: 1.30 - ETA: 2s - loss: 7.3508 - custom_mae: 1.30 - ETA: 1s - loss: 7.3376 - custom_mae: 1.30 - ETA: 1s - loss: 7.3240 - custom_mae: 1.30 - ETA: 1s - loss: 7.3107 - custom_mae: 1.30 - ETA: 1s - loss: 7.2975 - custom_mae: 1.30 - ETA: 1s - loss: 7.2845 - custom_mae: 1.30 - ETA: 1s - loss: 7.2716 - custom_mae: 1.29 - ETA: 1s - loss: 7.2590 - custom_mae: 1.29 - ETA: 1s - loss: 7.2462 - custom_mae: 1.29 - ETA: 1s - loss: 7.2332 - custom_mae: 1.29 - ETA: 1s - loss: 7.2198 - custom_mae: 1.29 - ETA: 1s - loss: 7.2070 - custom_mae: 1.29 - ETA: 1s - loss: 7.1939 - custom_mae: 1.29 - ETA: 1s - loss: 7.1813 - custom_mae: 1.29 - ETA: 0s - loss: 7.1685 - custom_mae: 1.29 - ETA: 0s - loss: 7.1559 - custom_mae: 1.28 - ETA: 0s - loss: 7.1435 - custom_mae: 1.28 - ETA: 0s - loss: 7.1311 - custom_mae: 1.28 - ETA: 0s - loss: 7.1181 - custom_mae: 1.28 - ETA: 0s - loss: 7.1057 - custom_mae: 1.28 - ETA: 0s - loss: 7.0935 - custom_mae: 1.28 - ETA: 0s - loss: 7.0806 - custom_mae: 1.28 - ETA: 0s - loss: 7.0679 - custom_mae: 1.28 - ETA: 0s - loss: 7.0557 - custom_mae: 1.28 - ETA: 0s - loss: 7.0429 - custom_mae: 1.28 - ETA: 0s - loss: 7.0306 - custom_mae: 1.27 - ETA: 0s - loss: 7.0181 - custom_mae: 1.27 - ETA: 0s - loss: 7.0064 - custom_mae: 1.2771\n",
      "Epoch 00001: val_custom_mae improved from inf to 0.30262, saving model to ..\\fast_output\\SYNTH_Regression_MSE\\2020-05-28_Normalized_Base_Custom-MAE\\Best_Weights_FC_1.hdf5\n",
      "500/500 [==============================] - 39s 79ms/step - loss: 7.0064 - custom_mae: 1.2771 - val_loss: 0.1587 - val_custom_mae: 0.3026\n",
      "Time taken: 0:00:39.814000\n"
     ]
    },
    {
     "name": "stderr",
     "output_type": "stream",
     "text": [
      "\r",
      " 25%|████████████████████▎                                                            | 2/8 [16:28<1:07:31, 675.19s/it]"
     ]
    },
    {
     "name": "stdout",
     "output_type": "stream",
     "text": [
      "{'activation': 'leakyrelu', 'batch_size': 64, 'dropout': 0.25, 'epochs': 1, 'first_neuron': 1024, 'hidden_layers': 0, 'label_type': 'Normalized', 'loss_function': 'mean_squared_error', 'lr': 1, 'monitor_value': 'val_custom_mae', 'optimizer': <class 'tensorflow.python.keras.optimizer_v2.adam.Adam'>, 'reduction_metric': 'custom_mae', 'samples': 20000}\n",
      "Y-Col: ['Elevation', 'Azimuth']\n",
      "Found 16000 validated image filenames.\n",
      "Found 3968 validated image filenames.\n",
      "Creating bottleneck features...\n",
      "Using Loss: mean_squared_error \n",
      "and Reduction Metric: [<function custom_mae at 0x00000243913989D8>]\n",
      "Monitor: val_custom_mae\n"
     ]
    },
    {
     "name": "stdout",
     "output_type": "stream",
     "text": [
      "176/250 [====================>.........] - ETA: 0s - loss: 0.5769 - custom_mae: 0.61 - ETA: 10s - loss: 1004.6185 - custom_mae: 17.010 - ETA: 13s - loss: 706.7313 - custom_mae: 14.143 - ETA: 15s - loss: 666.4884 - custom_mae: 14.89 - ETA: 15s - loss: 553.5567 - custom_mae: 13.64 - ETA: 16s - loss: 467.6809 - custom_mae: 12.24 - ETA: 16s - loss: 403.8257 - custom_mae: 11.00 - ETA: 17s - loss: 355.4737 - custom_mae: 10.04 - ETA: 17s - loss: 317.4701 - custom_mae: 9.2784 - ETA: 17s - loss: 286.6629 - custom_mae: 8.605 - ETA: 17s - loss: 261.1511 - custom_mae: 8.008 - ETA: 17s - loss: 239.7547 - custom_mae: 7.490 - ETA: 17s - loss: 221.5326 - custom_mae: 7.027 - ETA: 17s - loss: 205.8937 - custom_mae: 6.621 - ETA: 17s - loss: 192.2431 - custom_mae: 6.237 - ETA: 17s - loss: 180.3259 - custom_mae: 5.909 - ETA: 17s - loss: 169.8483 - custom_mae: 5.633 - ETA: 17s - loss: 160.5805 - custom_mae: 5.400 - ETA: 17s - loss: 152.3081 - custom_mae: 5.196 - ETA: 17s - loss: 144.8687 - custom_mae: 5.012 - ETA: 17s - loss: 138.1349 - custom_mae: 4.845 - ETA: 17s - loss: 132.0364 - custom_mae: 4.698 - ETA: 17s - loss: 126.4450 - custom_mae: 4.560 - ETA: 17s - loss: 121.3042 - custom_mae: 4.429 - ETA: 17s - loss: 116.5363 - custom_mae: 4.298 - ETA: 17s - loss: 112.1293 - custom_mae: 4.176 - ETA: 17s - loss: 108.0448 - custom_mae: 4.061 - ETA: 17s - loss: 104.2417 - custom_mae: 3.952 - ETA: 17s - loss: 100.7000 - custom_mae: 3.849 - ETA: 17s - loss: 97.3951 - custom_mae: 3.753 - ETA: 17s - loss: 94.2964 - custom_mae: 3.66 - ETA: 17s - loss: 91.3893 - custom_mae: 3.57 - ETA: 17s - loss: 88.6671 - custom_mae: 3.49 - ETA: 16s - loss: 86.1204 - custom_mae: 3.43 - ETA: 16s - loss: 83.7122 - custom_mae: 3.36 - ETA: 16s - loss: 81.4406 - custom_mae: 3.30 - ETA: 16s - loss: 79.2870 - custom_mae: 3.24 - ETA: 16s - loss: 77.2403 - custom_mae: 3.18 - ETA: 16s - loss: 75.3076 - custom_mae: 3.12 - ETA: 16s - loss: 73.4733 - custom_mae: 3.07 - ETA: 16s - loss: 71.7190 - custom_mae: 3.02 - ETA: 16s - loss: 70.0491 - custom_mae: 2.98 - ETA: 16s - loss: 68.4541 - custom_mae: 2.93 - ETA: 16s - loss: 66.9334 - custom_mae: 2.88 - ETA: 16s - loss: 65.4789 - custom_mae: 2.84 - ETA: 16s - loss: 64.0863 - custom_mae: 2.80 - ETA: 16s - loss: 62.7530 - custom_mae: 2.76 - ETA: 16s - loss: 61.4699 - custom_mae: 2.72 - ETA: 15s - loss: 60.2448 - custom_mae: 2.69 - ETA: 15s - loss: 59.0683 - custom_mae: 2.65 - ETA: 15s - loss: 57.9393 - custom_mae: 2.62 - ETA: 15s - loss: 56.8600 - custom_mae: 2.59 - ETA: 15s - loss: 55.8205 - custom_mae: 2.56 - ETA: 15s - loss: 54.8161 - custom_mae: 2.53 - ETA: 15s - loss: 53.8505 - custom_mae: 2.50 - ETA: 15s - loss: 52.9201 - custom_mae: 2.48 - ETA: 15s - loss: 52.0209 - custom_mae: 2.45 - ETA: 15s - loss: 51.1445 - custom_mae: 2.42 - ETA: 15s - loss: 50.3031 - custom_mae: 2.40 - ETA: 15s - loss: 49.4932 - custom_mae: 2.38 - ETA: 15s - loss: 48.7075 - custom_mae: 2.35 - ETA: 14s - loss: 47.9400 - custom_mae: 2.33 - ETA: 14s - loss: 47.2042 - custom_mae: 2.31 - ETA: 14s - loss: 46.4879 - custom_mae: 2.29 - ETA: 14s - loss: 45.7945 - custom_mae: 2.26 - ETA: 14s - loss: 45.1210 - custom_mae: 2.24 - ETA: 14s - loss: 44.4648 - custom_mae: 2.22 - ETA: 14s - loss: 43.8371 - custom_mae: 2.21 - ETA: 14s - loss: 43.2247 - custom_mae: 2.19 - ETA: 14s - loss: 42.6352 - custom_mae: 2.17 - ETA: 14s - loss: 42.0571 - custom_mae: 2.16 - ETA: 14s - loss: 41.4911 - custom_mae: 2.14 - ETA: 14s - loss: 40.9387 - custom_mae: 2.12 - ETA: 14s - loss: 40.4031 - custom_mae: 2.10 - ETA: 13s - loss: 39.8903 - custom_mae: 2.09 - ETA: 13s - loss: 39.3891 - custom_mae: 2.08 - ETA: 13s - loss: 38.8973 - custom_mae: 2.06 - ETA: 13s - loss: 38.4132 - custom_mae: 2.05 - ETA: 13s - loss: 37.9489 - custom_mae: 2.03 - ETA: 13s - loss: 37.4937 - custom_mae: 2.02 - ETA: 13s - loss: 37.0483 - custom_mae: 2.01 - ETA: 13s - loss: 36.6151 - custom_mae: 2.00 - ETA: 13s - loss: 36.1900 - custom_mae: 1.98 - ETA: 13s - loss: 35.7777 - custom_mae: 1.97 - ETA: 13s - loss: 35.3754 - custom_mae: 1.96 - ETA: 13s - loss: 34.9817 - custom_mae: 1.95 - ETA: 13s - loss: 34.5943 - custom_mae: 1.94 - ETA: 12s - loss: 34.2158 - custom_mae: 1.93 - ETA: 12s - loss: 33.8460 - custom_mae: 1.91 - ETA: 12s - loss: 33.4839 - custom_mae: 1.90 - ETA: 12s - loss: 33.1309 - custom_mae: 1.89 - ETA: 12s - loss: 32.7870 - custom_mae: 1.88 - ETA: 12s - loss: 32.4499 - custom_mae: 1.87 - ETA: 12s - loss: 32.1180 - custom_mae: 1.86 - ETA: 12s - loss: 31.7948 - custom_mae: 1.85 - ETA: 12s - loss: 31.4769 - custom_mae: 1.84 - ETA: 12s - loss: 31.1625 - custom_mae: 1.83 - ETA: 12s - loss: 30.8611 - custom_mae: 1.82 - ETA: 12s - loss: 30.5649 - custom_mae: 1.81 - ETA: 12s - loss: 30.2746 - custom_mae: 1.81 - ETA: 11s - loss: 29.9867 - custom_mae: 1.80 - ETA: 11s - loss: 29.7087 - custom_mae: 1.79 - ETA: 11s - loss: 29.4318 - custom_mae: 1.78 - ETA: 11s - loss: 29.1632 - custom_mae: 1.77 - ETA: 11s - loss: 28.8986 - custom_mae: 1.76 - ETA: 11s - loss: 28.6393 - custom_mae: 1.76 - ETA: 11s - loss: 28.3864 - custom_mae: 1.75 - ETA: 11s - loss: 28.1367 - custom_mae: 1.74 - ETA: 11s - loss: 27.8916 - custom_mae: 1.73 - ETA: 11s - loss: 27.6494 - custom_mae: 1.73 - ETA: 11s - loss: 27.4150 - custom_mae: 1.72 - ETA: 11s - loss: 27.1811 - custom_mae: 1.71 - ETA: 11s - loss: 26.9517 - custom_mae: 1.70 - ETA: 10s - loss: 26.7278 - custom_mae: 1.70 - ETA: 10s - loss: 26.5066 - custom_mae: 1.69 - ETA: 10s - loss: 26.2892 - custom_mae: 1.68 - ETA: 10s - loss: 26.0752 - custom_mae: 1.68 - ETA: 10s - loss: 25.8662 - custom_mae: 1.67 - ETA: 10s - loss: 25.6612 - custom_mae: 1.66 - ETA: 10s - loss: 25.4581 - custom_mae: 1.66 - ETA: 10s - loss: 25.2592 - custom_mae: 1.65 - ETA: 10s - loss: 25.0623 - custom_mae: 1.65 - ETA: 10s - loss: 24.8708 - custom_mae: 1.64 - ETA: 10s - loss: 24.6805 - custom_mae: 1.63 - ETA: 10s - loss: 24.4933 - custom_mae: 1.63 - ETA: 9s - loss: 24.3085 - custom_mae: 1.6274 - ETA: 9s - loss: 24.1281 - custom_mae: 1.622 - ETA: 9s - loss: 23.9515 - custom_mae: 1.617 - ETA: 9s - loss: 23.7763 - custom_mae: 1.611 - ETA: 9s - loss: 23.6035 - custom_mae: 1.606 - ETA: 9s - loss: 23.4339 - custom_mae: 1.601 - ETA: 9s - loss: 23.2651 - custom_mae: 1.595 - ETA: 9s - loss: 23.1012 - custom_mae: 1.591 - ETA: 9s - loss: 22.9390 - custom_mae: 1.586 - ETA: 9s - loss: 22.7771 - custom_mae: 1.580 - ETA: 9s - loss: 22.6188 - custom_mae: 1.575 - ETA: 9s - loss: 22.4626 - custom_mae: 1.570 - ETA: 9s - loss: 22.3116 - custom_mae: 1.566 - ETA: 8s - loss: 22.1609 - custom_mae: 1.561 - ETA: 8s - loss: 22.0136 - custom_mae: 1.557 - ETA: 8s - loss: 21.8663 - custom_mae: 1.553 - ETA: 8s - loss: 21.7215 - custom_mae: 1.548 - ETA: 8s - loss: 21.5806 - custom_mae: 1.544 - ETA: 8s - loss: 21.4423 - custom_mae: 1.541 - ETA: 8s - loss: 21.3046 - custom_mae: 1.537 - ETA: 8s - loss: 21.1668 - custom_mae: 1.532 - ETA: 8s - loss: 21.0298 - custom_mae: 1.527 - ETA: 8s - loss: 20.8984 - custom_mae: 1.523 - ETA: 8s - loss: 20.7670 - custom_mae: 1.519 - ETA: 8s - loss: 20.6360 - custom_mae: 1.515 - ETA: 7s - loss: 20.5081 - custom_mae: 1.511 - ETA: 7s - loss: 20.3823 - custom_mae: 1.508 - ETA: 7s - loss: 20.2577 - custom_mae: 1.504 - ETA: 7s - loss: 20.1344 - custom_mae: 1.500 - ETA: 7s - loss: 20.0129 - custom_mae: 1.496 - ETA: 7s - loss: 19.8935 - custom_mae: 1.493 - ETA: 7s - loss: 19.7747 - custom_mae: 1.489 - ETA: 7s - loss: 19.6586 - custom_mae: 1.485 - ETA: 7s - loss: 19.5427 - custom_mae: 1.482 - ETA: 7s - loss: 19.4283 - custom_mae: 1.478 - ETA: 7s - loss: 19.3167 - custom_mae: 1.475 - ETA: 7s - loss: 19.2071 - custom_mae: 1.472 - ETA: 7s - loss: 19.0958 - custom_mae: 1.468 - ETA: 6s - loss: 18.9854 - custom_mae: 1.464 - ETA: 6s - loss: 18.8774 - custom_mae: 1.460 - ETA: 6s - loss: 18.7693 - custom_mae: 1.456 - ETA: 6s - loss: 18.6636 - custom_mae: 1.452 - ETA: 6s - loss: 18.5594 - custom_mae: 1.448 - ETA: 6s - loss: 18.4556 - custom_mae: 1.444 - ETA: 6s - loss: 18.3550 - custom_mae: 1.441 - ETA: 6s - loss: 18.2554 - custom_mae: 1.438 - ETA: 6s - loss: 18.1549 - custom_mae: 1.434 - ETA: 6s - loss: 18.0580 - custom_mae: 1.431 - ETA: 6s - loss: 17.9603 - custom_mae: 1.428 - ETA: 6s - loss: 17.8634 - custom_mae: 1.424 - ETA: 5s - loss: 17.7696 - custom_mae: 1.4218"
     ]
    },
    {
     "name": "stdout",
     "output_type": "stream",
     "text": [
      "250/250 [==============================] - ETA: 5s - loss: 17.6768 - custom_mae: 1.418 - ETA: 5s - loss: 17.5837 - custom_mae: 1.415 - ETA: 5s - loss: 17.4922 - custom_mae: 1.412 - ETA: 5s - loss: 17.4023 - custom_mae: 1.409 - ETA: 5s - loss: 17.3145 - custom_mae: 1.407 - ETA: 5s - loss: 17.2262 - custom_mae: 1.404 - ETA: 5s - loss: 17.1393 - custom_mae: 1.402 - ETA: 5s - loss: 17.0540 - custom_mae: 1.399 - ETA: 5s - loss: 16.9682 - custom_mae: 1.396 - ETA: 5s - loss: 16.8834 - custom_mae: 1.393 - ETA: 5s - loss: 16.7996 - custom_mae: 1.391 - ETA: 5s - loss: 16.7158 - custom_mae: 1.387 - ETA: 4s - loss: 16.6328 - custom_mae: 1.384 - ETA: 4s - loss: 16.5523 - custom_mae: 1.382 - ETA: 4s - loss: 16.4712 - custom_mae: 1.379 - ETA: 4s - loss: 16.3918 - custom_mae: 1.376 - ETA: 4s - loss: 16.3126 - custom_mae: 1.373 - ETA: 4s - loss: 16.2349 - custom_mae: 1.371 - ETA: 4s - loss: 16.1565 - custom_mae: 1.367 - ETA: 4s - loss: 16.0797 - custom_mae: 1.365 - ETA: 4s - loss: 16.0032 - custom_mae: 1.362 - ETA: 4s - loss: 15.9277 - custom_mae: 1.359 - ETA: 4s - loss: 15.8536 - custom_mae: 1.357 - ETA: 4s - loss: 15.7786 - custom_mae: 1.353 - ETA: 3s - loss: 15.7057 - custom_mae: 1.351 - ETA: 3s - loss: 15.6338 - custom_mae: 1.348 - ETA: 3s - loss: 15.5613 - custom_mae: 1.345 - ETA: 3s - loss: 15.4909 - custom_mae: 1.343 - ETA: 3s - loss: 15.4213 - custom_mae: 1.341 - ETA: 3s - loss: 15.3524 - custom_mae: 1.338 - ETA: 3s - loss: 15.2838 - custom_mae: 1.336 - ETA: 3s - loss: 15.2162 - custom_mae: 1.334 - ETA: 3s - loss: 15.1498 - custom_mae: 1.332 - ETA: 3s - loss: 15.0841 - custom_mae: 1.330 - ETA: 3s - loss: 15.0179 - custom_mae: 1.328 - ETA: 3s - loss: 14.9534 - custom_mae: 1.326 - ETA: 2s - loss: 14.8889 - custom_mae: 1.324 - ETA: 2s - loss: 14.8250 - custom_mae: 1.321 - ETA: 2s - loss: 14.7609 - custom_mae: 1.319 - ETA: 2s - loss: 14.6975 - custom_mae: 1.317 - ETA: 2s - loss: 14.6352 - custom_mae: 1.315 - ETA: 2s - loss: 14.5735 - custom_mae: 1.313 - ETA: 2s - loss: 14.5122 - custom_mae: 1.311 - ETA: 2s - loss: 14.4527 - custom_mae: 1.309 - ETA: 2s - loss: 14.3928 - custom_mae: 1.307 - ETA: 2s - loss: 14.3328 - custom_mae: 1.305 - ETA: 2s - loss: 14.2744 - custom_mae: 1.303 - ETA: 2s - loss: 14.2148 - custom_mae: 1.301 - ETA: 2s - loss: 14.1577 - custom_mae: 1.299 - ETA: 1s - loss: 14.1010 - custom_mae: 1.298 - ETA: 1s - loss: 14.0444 - custom_mae: 1.296 - ETA: 1s - loss: 13.9866 - custom_mae: 1.293 - ETA: 1s - loss: 13.9301 - custom_mae: 1.291 - ETA: 1s - loss: 13.8740 - custom_mae: 1.289 - ETA: 1s - loss: 13.8186 - custom_mae: 1.287 - ETA: 1s - loss: 13.7640 - custom_mae: 1.285 - ETA: 1s - loss: 13.7090 - custom_mae: 1.283 - ETA: 1s - loss: 13.6549 - custom_mae: 1.281 - ETA: 1s - loss: 13.6016 - custom_mae: 1.279 - ETA: 1s - loss: 13.5483 - custom_mae: 1.277 - ETA: 1s - loss: 13.4962 - custom_mae: 1.276 - ETA: 0s - loss: 13.4439 - custom_mae: 1.274 - ETA: 0s - loss: 13.3920 - custom_mae: 1.272 - ETA: 0s - loss: 13.3404 - custom_mae: 1.270 - ETA: 0s - loss: 13.2893 - custom_mae: 1.268 - ETA: 0s - loss: 13.2385 - custom_mae: 1.266 - ETA: 0s - loss: 13.1883 - custom_mae: 1.264 - ETA: 0s - loss: 13.1388 - custom_mae: 1.262 - ETA: 0s - loss: 13.0899 - custom_mae: 1.261 - ETA: 0s - loss: 13.0414 - custom_mae: 1.259 - ETA: 0s - loss: 12.9934 - custom_mae: 1.257 - ETA: 0s - loss: 12.9458 - custom_mae: 1.256 - ETA: 0s - loss: 12.8984 - custom_mae: 1.254 - ETA: 0s - loss: 12.8507 - custom_mae: 1.2528\n",
      "Epoch 00001: val_custom_mae improved from inf to 0.31697, saving model to ..\\fast_output\\SYNTH_Regression_MSE\\2020-05-28_Normalized_Base_Custom-MAE\\Best_Weights_FC_2.hdf5\n",
      "250/250 [==============================] - 22s 87ms/step - loss: 12.8507 - custom_mae: 1.2528 - val_loss: 0.1680 - val_custom_mae: 0.3170\n",
      "Time taken: 0:00:22.094111\n"
     ]
    },
    {
     "name": "stderr",
     "output_type": "stream",
     "text": [
      "\r",
      " 38%|██████████████████████████████▍                                                  | 3/8 [31:13<1:01:30, 738.09s/it]"
     ]
    },
    {
     "name": "stdout",
     "output_type": "stream",
     "text": [
      "{'activation': 'leakyrelu', 'batch_size': 64, 'dropout': 0.5, 'epochs': 1, 'first_neuron': 1024, 'hidden_layers': 0, 'label_type': 'Normalized', 'loss_function': 'mean_squared_error', 'lr': 1, 'monitor_value': 'val_custom_mae', 'optimizer': <class 'tensorflow.python.keras.optimizer_v2.adam.Adam'>, 'reduction_metric': 'custom_mae', 'samples': 20000}\n",
      "Using Loss: mean_squared_error \n",
      "and Reduction Metric: [<function custom_mae at 0x00000243913989D8>]\n",
      "Monitor: val_custom_mae\n"
     ]
    },
    {
     "name": "stdout",
     "output_type": "stream",
     "text": [
      "177/250 [====================>.........] - ETA: 0s - loss: 0.8446 - custom_mae: 0.74 - ETA: 9s - loss: 840.4905 - custom_mae: 15.720 - ETA: 13s - loss: 578.8759 - custom_mae: 12.56 - ETA: 14s - loss: 601.8373 - custom_mae: 14.26 - ETA: 15s - loss: 508.7183 - custom_mae: 13.22 - ETA: 16s - loss: 432.6808 - custom_mae: 11.98 - ETA: 16s - loss: 375.3448 - custom_mae: 10.93 - ETA: 16s - loss: 331.0995 - custom_mae: 10.04 - ETA: 17s - loss: 295.6401 - custom_mae: 9.2504 - ETA: 17s - loss: 266.8456 - custom_mae: 8.552 - ETA: 17s - loss: 242.9069 - custom_mae: 7.915 - ETA: 17s - loss: 222.8965 - custom_mae: 7.363 - ETA: 17s - loss: 205.9211 - custom_mae: 6.893 - ETA: 17s - loss: 191.4139 - custom_mae: 6.496 - ETA: 17s - loss: 178.9817 - custom_mae: 6.188 - ETA: 17s - loss: 168.2254 - custom_mae: 5.936 - ETA: 17s - loss: 158.7680 - custom_mae: 5.716 - ETA: 17s - loss: 150.3713 - custom_mae: 5.525 - ETA: 17s - loss: 142.8489 - custom_mae: 5.346 - ETA: 17s - loss: 136.0205 - custom_mae: 5.184 - ETA: 17s - loss: 129.8435 - custom_mae: 5.035 - ETA: 17s - loss: 124.2264 - custom_mae: 4.897 - ETA: 17s - loss: 119.0674 - custom_mae: 4.768 - ETA: 17s - loss: 114.2954 - custom_mae: 4.639 - ETA: 17s - loss: 109.8649 - custom_mae: 4.513 - ETA: 17s - loss: 105.7851 - custom_mae: 4.400 - ETA: 17s - loss: 102.0417 - custom_mae: 4.300 - ETA: 17s - loss: 98.4993 - custom_mae: 4.195 - ETA: 17s - loss: 95.2473 - custom_mae: 4.10 - ETA: 17s - loss: 92.1826 - custom_mae: 4.01 - ETA: 17s - loss: 89.3350 - custom_mae: 3.93 - ETA: 16s - loss: 86.6429 - custom_mae: 3.85 - ETA: 16s - loss: 84.1270 - custom_mae: 3.78 - ETA: 16s - loss: 81.7658 - custom_mae: 3.72 - ETA: 16s - loss: 79.5442 - custom_mae: 3.66 - ETA: 16s - loss: 77.4455 - custom_mae: 3.60 - ETA: 16s - loss: 75.4472 - custom_mae: 3.54 - ETA: 16s - loss: 73.5509 - custom_mae: 3.49 - ETA: 16s - loss: 71.7780 - custom_mae: 3.44 - ETA: 16s - loss: 70.0882 - custom_mae: 3.39 - ETA: 16s - loss: 68.4733 - custom_mae: 3.35 - ETA: 16s - loss: 66.9318 - custom_mae: 3.30 - ETA: 16s - loss: 65.4559 - custom_mae: 3.26 - ETA: 16s - loss: 64.0607 - custom_mae: 3.22 - ETA: 16s - loss: 62.7118 - custom_mae: 3.18 - ETA: 15s - loss: 61.4302 - custom_mae: 3.15 - ETA: 15s - loss: 60.2034 - custom_mae: 3.11 - ETA: 15s - loss: 59.0293 - custom_mae: 3.08 - ETA: 15s - loss: 57.8898 - custom_mae: 3.05 - ETA: 15s - loss: 56.7923 - custom_mae: 3.01 - ETA: 15s - loss: 55.7429 - custom_mae: 2.98 - ETA: 15s - loss: 54.7491 - custom_mae: 2.96 - ETA: 15s - loss: 53.7959 - custom_mae: 2.93 - ETA: 15s - loss: 52.8566 - custom_mae: 2.90 - ETA: 15s - loss: 51.9730 - custom_mae: 2.88 - ETA: 15s - loss: 51.1100 - custom_mae: 2.86 - ETA: 15s - loss: 50.2843 - custom_mae: 2.83 - ETA: 15s - loss: 49.4873 - custom_mae: 2.81 - ETA: 15s - loss: 48.7102 - custom_mae: 2.79 - ETA: 14s - loss: 47.9491 - custom_mae: 2.77 - ETA: 14s - loss: 47.2242 - custom_mae: 2.75 - ETA: 14s - loss: 46.5143 - custom_mae: 2.73 - ETA: 14s - loss: 45.8318 - custom_mae: 2.71 - ETA: 14s - loss: 45.1729 - custom_mae: 2.69 - ETA: 14s - loss: 44.5222 - custom_mae: 2.67 - ETA: 14s - loss: 43.8936 - custom_mae: 2.65 - ETA: 14s - loss: 43.2854 - custom_mae: 2.63 - ETA: 14s - loss: 42.7030 - custom_mae: 2.61 - ETA: 14s - loss: 42.1445 - custom_mae: 2.60 - ETA: 14s - loss: 41.5904 - custom_mae: 2.58 - ETA: 14s - loss: 41.0575 - custom_mae: 2.57 - ETA: 14s - loss: 40.5296 - custom_mae: 2.55 - ETA: 13s - loss: 40.0133 - custom_mae: 2.53 - ETA: 13s - loss: 39.5113 - custom_mae: 2.52 - ETA: 13s - loss: 39.0341 - custom_mae: 2.51 - ETA: 13s - loss: 38.5593 - custom_mae: 2.49 - ETA: 13s - loss: 38.1079 - custom_mae: 2.48 - ETA: 13s - loss: 37.6600 - custom_mae: 2.46 - ETA: 13s - loss: 37.2288 - custom_mae: 2.45 - ETA: 13s - loss: 36.8045 - custom_mae: 2.44 - ETA: 13s - loss: 36.3855 - custom_mae: 2.43 - ETA: 13s - loss: 35.9859 - custom_mae: 2.41 - ETA: 13s - loss: 35.5931 - custom_mae: 2.40 - ETA: 13s - loss: 35.2086 - custom_mae: 2.39 - ETA: 13s - loss: 34.8342 - custom_mae: 2.38 - ETA: 12s - loss: 34.4754 - custom_mae: 2.37 - ETA: 12s - loss: 34.1143 - custom_mae: 2.36 - ETA: 12s - loss: 33.7726 - custom_mae: 2.35 - ETA: 12s - loss: 33.4239 - custom_mae: 2.34 - ETA: 12s - loss: 33.0888 - custom_mae: 2.33 - ETA: 12s - loss: 32.7610 - custom_mae: 2.32 - ETA: 12s - loss: 32.4422 - custom_mae: 2.31 - ETA: 12s - loss: 32.1229 - custom_mae: 2.30 - ETA: 12s - loss: 31.8089 - custom_mae: 2.29 - ETA: 12s - loss: 31.5018 - custom_mae: 2.28 - ETA: 12s - loss: 31.2002 - custom_mae: 2.27 - ETA: 12s - loss: 30.9097 - custom_mae: 2.26 - ETA: 12s - loss: 30.6274 - custom_mae: 2.25 - ETA: 11s - loss: 30.3476 - custom_mae: 2.24 - ETA: 11s - loss: 30.0734 - custom_mae: 2.24 - ETA: 11s - loss: 29.8023 - custom_mae: 2.23 - ETA: 11s - loss: 29.5471 - custom_mae: 2.22 - ETA: 11s - loss: 29.2889 - custom_mae: 2.21 - ETA: 11s - loss: 29.0385 - custom_mae: 2.20 - ETA: 11s - loss: 28.7860 - custom_mae: 2.19 - ETA: 11s - loss: 28.5464 - custom_mae: 2.19 - ETA: 11s - loss: 28.3140 - custom_mae: 2.18 - ETA: 11s - loss: 28.0791 - custom_mae: 2.17 - ETA: 11s - loss: 27.8476 - custom_mae: 2.17 - ETA: 11s - loss: 27.6177 - custom_mae: 2.16 - ETA: 11s - loss: 27.4018 - custom_mae: 2.15 - ETA: 10s - loss: 27.1809 - custom_mae: 2.14 - ETA: 10s - loss: 26.9607 - custom_mae: 2.14 - ETA: 10s - loss: 26.7497 - custom_mae: 2.13 - ETA: 10s - loss: 26.5410 - custom_mae: 2.12 - ETA: 10s - loss: 26.3344 - custom_mae: 2.11 - ETA: 10s - loss: 26.1383 - custom_mae: 2.11 - ETA: 10s - loss: 25.9410 - custom_mae: 2.10 - ETA: 10s - loss: 25.7473 - custom_mae: 2.10 - ETA: 10s - loss: 25.5549 - custom_mae: 2.09 - ETA: 10s - loss: 25.3603 - custom_mae: 2.08 - ETA: 10s - loss: 25.1756 - custom_mae: 2.08 - ETA: 10s - loss: 24.9929 - custom_mae: 2.07 - ETA: 9s - loss: 24.8089 - custom_mae: 2.0671 - ETA: 9s - loss: 24.6298 - custom_mae: 2.060 - ETA: 9s - loss: 24.4547 - custom_mae: 2.054 - ETA: 9s - loss: 24.2818 - custom_mae: 2.048 - ETA: 9s - loss: 24.1161 - custom_mae: 2.043 - ETA: 9s - loss: 23.9493 - custom_mae: 2.037 - ETA: 9s - loss: 23.7857 - custom_mae: 2.031 - ETA: 9s - loss: 23.6233 - custom_mae: 2.025 - ETA: 9s - loss: 23.4642 - custom_mae: 2.019 - ETA: 9s - loss: 23.3076 - custom_mae: 2.014 - ETA: 9s - loss: 23.1524 - custom_mae: 2.008 - ETA: 9s - loss: 22.9986 - custom_mae: 2.003 - ETA: 9s - loss: 22.8476 - custom_mae: 1.997 - ETA: 8s - loss: 22.6996 - custom_mae: 1.992 - ETA: 8s - loss: 22.5562 - custom_mae: 1.987 - ETA: 8s - loss: 22.4082 - custom_mae: 1.981 - ETA: 8s - loss: 22.2733 - custom_mae: 1.978 - ETA: 8s - loss: 22.1319 - custom_mae: 1.972 - ETA: 8s - loss: 21.9962 - custom_mae: 1.968 - ETA: 8s - loss: 21.8610 - custom_mae: 1.963 - ETA: 8s - loss: 21.7292 - custom_mae: 1.959 - ETA: 8s - loss: 21.5962 - custom_mae: 1.954 - ETA: 8s - loss: 21.4678 - custom_mae: 1.950 - ETA: 8s - loss: 21.3357 - custom_mae: 1.945 - ETA: 8s - loss: 21.2085 - custom_mae: 1.940 - ETA: 8s - loss: 21.0854 - custom_mae: 1.936 - ETA: 7s - loss: 20.9629 - custom_mae: 1.932 - ETA: 7s - loss: 20.8427 - custom_mae: 1.928 - ETA: 7s - loss: 20.7224 - custom_mae: 1.924 - ETA: 7s - loss: 20.6038 - custom_mae: 1.919 - ETA: 7s - loss: 20.4868 - custom_mae: 1.915 - ETA: 7s - loss: 20.3698 - custom_mae: 1.910 - ETA: 7s - loss: 20.2538 - custom_mae: 1.906 - ETA: 7s - loss: 20.1396 - custom_mae: 1.901 - ETA: 7s - loss: 20.0256 - custom_mae: 1.896 - ETA: 7s - loss: 19.9180 - custom_mae: 1.893 - ETA: 7s - loss: 19.8045 - custom_mae: 1.888 - ETA: 7s - loss: 19.6993 - custom_mae: 1.885 - ETA: 7s - loss: 19.5933 - custom_mae: 1.881 - ETA: 6s - loss: 19.4857 - custom_mae: 1.876 - ETA: 6s - loss: 19.3801 - custom_mae: 1.872 - ETA: 6s - loss: 19.2799 - custom_mae: 1.869 - ETA: 6s - loss: 19.1748 - custom_mae: 1.864 - ETA: 6s - loss: 19.0734 - custom_mae: 1.860 - ETA: 6s - loss: 18.9711 - custom_mae: 1.855 - ETA: 6s - loss: 18.8708 - custom_mae: 1.851 - ETA: 6s - loss: 18.7730 - custom_mae: 1.847 - ETA: 6s - loss: 18.6769 - custom_mae: 1.843 - ETA: 6s - loss: 18.5803 - custom_mae: 1.839 - ETA: 6s - loss: 18.4881 - custom_mae: 1.835 - ETA: 6s - loss: 18.3944 - custom_mae: 1.832 - ETA: 5s - loss: 18.3031 - custom_mae: 1.828 - ETA: 5s - loss: 18.2135 - custom_mae: 1.825 - ETA: 5s - loss: 18.1252 - custom_mae: 1.8223"
     ]
    },
    {
     "name": "stdout",
     "output_type": "stream",
     "text": [
      "250/250 [==============================] - ETA: 5s - loss: 18.0347 - custom_mae: 1.818 - ETA: 5s - loss: 17.9464 - custom_mae: 1.814 - ETA: 5s - loss: 17.8605 - custom_mae: 1.811 - ETA: 5s - loss: 17.7765 - custom_mae: 1.808 - ETA: 5s - loss: 17.6915 - custom_mae: 1.805 - ETA: 5s - loss: 17.6078 - custom_mae: 1.802 - ETA: 5s - loss: 17.5256 - custom_mae: 1.799 - ETA: 5s - loss: 17.4423 - custom_mae: 1.795 - ETA: 5s - loss: 17.3600 - custom_mae: 1.792 - ETA: 5s - loss: 17.2794 - custom_mae: 1.788 - ETA: 4s - loss: 17.1985 - custom_mae: 1.785 - ETA: 4s - loss: 17.1184 - custom_mae: 1.781 - ETA: 4s - loss: 17.0409 - custom_mae: 1.778 - ETA: 4s - loss: 16.9629 - custom_mae: 1.775 - ETA: 4s - loss: 16.8871 - custom_mae: 1.772 - ETA: 4s - loss: 16.8104 - custom_mae: 1.768 - ETA: 4s - loss: 16.7343 - custom_mae: 1.765 - ETA: 4s - loss: 16.6591 - custom_mae: 1.762 - ETA: 4s - loss: 16.5828 - custom_mae: 1.758 - ETA: 4s - loss: 16.5108 - custom_mae: 1.755 - ETA: 4s - loss: 16.4367 - custom_mae: 1.752 - ETA: 4s - loss: 16.3643 - custom_mae: 1.749 - ETA: 3s - loss: 16.2926 - custom_mae: 1.746 - ETA: 3s - loss: 16.2216 - custom_mae: 1.743 - ETA: 3s - loss: 16.1528 - custom_mae: 1.740 - ETA: 3s - loss: 16.0818 - custom_mae: 1.736 - ETA: 3s - loss: 16.0129 - custom_mae: 1.733 - ETA: 3s - loss: 15.9432 - custom_mae: 1.730 - ETA: 3s - loss: 15.8745 - custom_mae: 1.727 - ETA: 3s - loss: 15.8080 - custom_mae: 1.724 - ETA: 3s - loss: 15.7410 - custom_mae: 1.721 - ETA: 3s - loss: 15.6755 - custom_mae: 1.718 - ETA: 3s - loss: 15.6124 - custom_mae: 1.716 - ETA: 3s - loss: 15.5486 - custom_mae: 1.713 - ETA: 3s - loss: 15.4848 - custom_mae: 1.710 - ETA: 2s - loss: 15.4208 - custom_mae: 1.707 - ETA: 2s - loss: 15.3587 - custom_mae: 1.705 - ETA: 2s - loss: 15.2969 - custom_mae: 1.702 - ETA: 2s - loss: 15.2354 - custom_mae: 1.699 - ETA: 2s - loss: 15.1745 - custom_mae: 1.696 - ETA: 2s - loss: 15.1123 - custom_mae: 1.693 - ETA: 2s - loss: 15.0533 - custom_mae: 1.691 - ETA: 2s - loss: 14.9957 - custom_mae: 1.689 - ETA: 2s - loss: 14.9364 - custom_mae: 1.686 - ETA: 2s - loss: 14.8770 - custom_mae: 1.683 - ETA: 2s - loss: 14.8201 - custom_mae: 1.681 - ETA: 2s - loss: 14.7625 - custom_mae: 1.678 - ETA: 1s - loss: 14.7078 - custom_mae: 1.676 - ETA: 1s - loss: 14.6516 - custom_mae: 1.674 - ETA: 1s - loss: 14.5957 - custom_mae: 1.671 - ETA: 1s - loss: 14.5399 - custom_mae: 1.669 - ETA: 1s - loss: 14.4854 - custom_mae: 1.666 - ETA: 1s - loss: 14.4305 - custom_mae: 1.664 - ETA: 1s - loss: 14.3755 - custom_mae: 1.661 - ETA: 1s - loss: 14.3216 - custom_mae: 1.658 - ETA: 1s - loss: 14.2684 - custom_mae: 1.656 - ETA: 1s - loss: 14.2158 - custom_mae: 1.654 - ETA: 1s - loss: 14.1627 - custom_mae: 1.651 - ETA: 1s - loss: 14.1090 - custom_mae: 1.648 - ETA: 1s - loss: 14.0564 - custom_mae: 1.645 - ETA: 0s - loss: 14.0047 - custom_mae: 1.643 - ETA: 0s - loss: 13.9526 - custom_mae: 1.640 - ETA: 0s - loss: 13.9030 - custom_mae: 1.638 - ETA: 0s - loss: 13.8539 - custom_mae: 1.636 - ETA: 0s - loss: 13.8053 - custom_mae: 1.633 - ETA: 0s - loss: 13.7553 - custom_mae: 1.631 - ETA: 0s - loss: 13.7070 - custom_mae: 1.629 - ETA: 0s - loss: 13.6585 - custom_mae: 1.626 - ETA: 0s - loss: 13.6109 - custom_mae: 1.624 - ETA: 0s - loss: 13.5643 - custom_mae: 1.622 - ETA: 0s - loss: 13.5165 - custom_mae: 1.620 - ETA: 0s - loss: 13.4681 - custom_mae: 1.617 - ETA: 0s - loss: 13.4201 - custom_mae: 1.6148\n",
      "Epoch 00001: val_custom_mae improved from inf to 0.32506, saving model to ..\\fast_output\\SYNTH_Regression_MSE\\2020-05-28_Normalized_Base_Custom-MAE\\Best_Weights_FC_3.hdf5\n",
      "250/250 [==============================] - 22s 86ms/step - loss: 13.4201 - custom_mae: 1.6148 - val_loss: 0.1793 - val_custom_mae: 0.3251\n",
      "Time taken: 0:00:21.870346\n"
     ]
    },
    {
     "name": "stderr",
     "output_type": "stream",
     "text": [
      "\r",
      " 50%|█████████████████████████████████████████▌                                         | 4/8 [31:36<34:54, 523.70s/it]"
     ]
    },
    {
     "name": "stdout",
     "output_type": "stream",
     "text": [
      "{'activation': 'relu', 'batch_size': 32, 'dropout': 0.25, 'epochs': 1, 'first_neuron': 1024, 'hidden_layers': 0, 'label_type': 'Normalized', 'loss_function': 'mean_squared_error', 'lr': 1, 'monitor_value': 'val_custom_mae', 'optimizer': <class 'tensorflow.python.keras.optimizer_v2.adam.Adam'>, 'reduction_metric': 'custom_mae', 'samples': 20000}\n",
      "Using Loss: mean_squared_error \n",
      "and Reduction Metric: [<function custom_mae at 0x00000243913989D8>]\n",
      "Monitor: val_custom_mae\n"
     ]
    },
    {
     "name": "stdout",
     "output_type": "stream",
     "text": [
      "177/500 [=========>....................] - ETA: 0s - loss: 0.7436 - custom_mae: 0.69 - ETA: 18s - loss: 495.1385 - custom_mae: 12.35 - ETA: 24s - loss: 347.8761 - custom_mae: 10.10 - ETA: 28s - loss: 267.1557 - custom_mae: 8.6022 - ETA: 30s - loss: 219.7770 - custom_mae: 7.738 - ETA: 30s - loss: 187.6288 - custom_mae: 7.141 - ETA: 31s - loss: 164.2852 - custom_mae: 6.693 - ETA: 32s - loss: 145.6248 - custom_mae: 6.250 - ETA: 32s - loss: 130.3629 - custom_mae: 5.826 - ETA: 33s - loss: 117.7647 - custom_mae: 5.415 - ETA: 33s - loss: 107.4137 - custom_mae: 5.065 - ETA: 33s - loss: 98.7234 - custom_mae: 4.763 - ETA: 33s - loss: 91.3542 - custom_mae: 4.49 - ETA: 33s - loss: 85.2467 - custom_mae: 4.30 - ETA: 34s - loss: 80.0432 - custom_mae: 4.14 - ETA: 34s - loss: 75.4383 - custom_mae: 4.02 - ETA: 34s - loss: 71.2462 - custom_mae: 3.88 - ETA: 34s - loss: 67.5348 - custom_mae: 3.76 - ETA: 34s - loss: 64.1294 - custom_mae: 3.63 - ETA: 34s - loss: 61.0814 - custom_mae: 3.52 - ETA: 34s - loss: 58.3169 - custom_mae: 3.42 - ETA: 34s - loss: 55.8194 - custom_mae: 3.33 - ETA: 34s - loss: 53.5790 - custom_mae: 3.25 - ETA: 34s - loss: 51.4674 - custom_mae: 3.17 - ETA: 34s - loss: 49.5224 - custom_mae: 3.10 - ETA: 34s - loss: 47.6865 - custom_mae: 3.02 - ETA: 34s - loss: 46.0098 - custom_mae: 2.95 - ETA: 33s - loss: 44.4720 - custom_mae: 2.90 - ETA: 33s - loss: 43.0315 - custom_mae: 2.84 - ETA: 33s - loss: 41.6750 - custom_mae: 2.79 - ETA: 33s - loss: 40.4036 - custom_mae: 2.73 - ETA: 33s - loss: 39.2208 - custom_mae: 2.69 - ETA: 33s - loss: 38.0952 - custom_mae: 2.64 - ETA: 33s - loss: 37.0533 - custom_mae: 2.60 - ETA: 33s - loss: 36.0329 - custom_mae: 2.55 - ETA: 33s - loss: 35.0781 - custom_mae: 2.51 - ETA: 33s - loss: 34.1693 - custom_mae: 2.47 - ETA: 33s - loss: 33.3106 - custom_mae: 2.42 - ETA: 33s - loss: 32.4910 - custom_mae: 2.39 - ETA: 33s - loss: 31.7159 - custom_mae: 2.35 - ETA: 33s - loss: 30.9712 - custom_mae: 2.31 - ETA: 33s - loss: 30.2660 - custom_mae: 2.28 - ETA: 33s - loss: 29.5909 - custom_mae: 2.25 - ETA: 33s - loss: 28.9480 - custom_mae: 2.22 - ETA: 33s - loss: 28.3277 - custom_mae: 2.18 - ETA: 33s - loss: 27.7361 - custom_mae: 2.15 - ETA: 33s - loss: 27.1685 - custom_mae: 2.13 - ETA: 33s - loss: 26.6184 - custom_mae: 2.09 - ETA: 33s - loss: 26.0958 - custom_mae: 2.07 - ETA: 33s - loss: 25.5880 - custom_mae: 2.04 - ETA: 33s - loss: 25.0983 - custom_mae: 2.01 - ETA: 32s - loss: 24.6309 - custom_mae: 1.99 - ETA: 32s - loss: 24.1756 - custom_mae: 1.96 - ETA: 32s - loss: 23.7393 - custom_mae: 1.94 - ETA: 32s - loss: 23.3194 - custom_mae: 1.91 - ETA: 32s - loss: 22.9156 - custom_mae: 1.89 - ETA: 32s - loss: 22.5241 - custom_mae: 1.87 - ETA: 32s - loss: 22.1467 - custom_mae: 1.85 - ETA: 32s - loss: 21.7797 - custom_mae: 1.82 - ETA: 32s - loss: 21.4250 - custom_mae: 1.80 - ETA: 32s - loss: 21.0842 - custom_mae: 1.78 - ETA: 32s - loss: 20.7553 - custom_mae: 1.77 - ETA: 32s - loss: 20.4339 - custom_mae: 1.75 - ETA: 32s - loss: 20.1231 - custom_mae: 1.73 - ETA: 32s - loss: 19.8196 - custom_mae: 1.71 - ETA: 32s - loss: 19.5253 - custom_mae: 1.69 - ETA: 32s - loss: 19.2417 - custom_mae: 1.68 - ETA: 31s - loss: 18.9663 - custom_mae: 1.66 - ETA: 31s - loss: 18.6982 - custom_mae: 1.64 - ETA: 31s - loss: 18.4393 - custom_mae: 1.63 - ETA: 31s - loss: 18.1853 - custom_mae: 1.61 - ETA: 31s - loss: 17.9397 - custom_mae: 1.60 - ETA: 31s - loss: 17.6979 - custom_mae: 1.58 - ETA: 31s - loss: 17.4629 - custom_mae: 1.57 - ETA: 31s - loss: 17.2332 - custom_mae: 1.55 - ETA: 31s - loss: 17.0099 - custom_mae: 1.54 - ETA: 31s - loss: 16.7927 - custom_mae: 1.52 - ETA: 31s - loss: 16.5813 - custom_mae: 1.51 - ETA: 31s - loss: 16.3747 - custom_mae: 1.49 - ETA: 31s - loss: 16.1744 - custom_mae: 1.48 - ETA: 31s - loss: 15.9787 - custom_mae: 1.47 - ETA: 31s - loss: 15.7871 - custom_mae: 1.45 - ETA: 30s - loss: 15.6008 - custom_mae: 1.44 - ETA: 30s - loss: 15.4197 - custom_mae: 1.43 - ETA: 30s - loss: 15.2418 - custom_mae: 1.42 - ETA: 30s - loss: 15.0676 - custom_mae: 1.41 - ETA: 30s - loss: 14.8972 - custom_mae: 1.40 - ETA: 30s - loss: 14.7306 - custom_mae: 1.38 - ETA: 30s - loss: 14.5687 - custom_mae: 1.37 - ETA: 30s - loss: 14.4088 - custom_mae: 1.36 - ETA: 30s - loss: 14.2550 - custom_mae: 1.35 - ETA: 30s - loss: 14.1032 - custom_mae: 1.34 - ETA: 30s - loss: 13.9539 - custom_mae: 1.33 - ETA: 30s - loss: 13.8079 - custom_mae: 1.32 - ETA: 30s - loss: 13.6650 - custom_mae: 1.31 - ETA: 30s - loss: 13.5246 - custom_mae: 1.30 - ETA: 29s - loss: 13.3885 - custom_mae: 1.29 - ETA: 29s - loss: 13.2541 - custom_mae: 1.28 - ETA: 29s - loss: 13.1227 - custom_mae: 1.27 - ETA: 29s - loss: 12.9940 - custom_mae: 1.27 - ETA: 29s - loss: 12.8671 - custom_mae: 1.26 - ETA: 29s - loss: 12.7433 - custom_mae: 1.25 - ETA: 29s - loss: 12.6213 - custom_mae: 1.24 - ETA: 29s - loss: 12.5020 - custom_mae: 1.23 - ETA: 29s - loss: 12.3845 - custom_mae: 1.22 - ETA: 29s - loss: 12.2693 - custom_mae: 1.21 - ETA: 29s - loss: 12.1569 - custom_mae: 1.21 - ETA: 29s - loss: 12.0465 - custom_mae: 1.20 - ETA: 29s - loss: 11.9376 - custom_mae: 1.19 - ETA: 29s - loss: 11.8312 - custom_mae: 1.18 - ETA: 29s - loss: 11.7264 - custom_mae: 1.18 - ETA: 28s - loss: 11.6236 - custom_mae: 1.17 - ETA: 28s - loss: 11.5226 - custom_mae: 1.16 - ETA: 28s - loss: 11.4231 - custom_mae: 1.15 - ETA: 28s - loss: 11.3256 - custom_mae: 1.15 - ETA: 28s - loss: 11.2296 - custom_mae: 1.14 - ETA: 28s - loss: 11.1349 - custom_mae: 1.13 - ETA: 28s - loss: 11.0424 - custom_mae: 1.13 - ETA: 28s - loss: 10.9509 - custom_mae: 1.12 - ETA: 28s - loss: 10.8613 - custom_mae: 1.11 - ETA: 28s - loss: 10.7734 - custom_mae: 1.11 - ETA: 28s - loss: 10.6866 - custom_mae: 1.10 - ETA: 28s - loss: 10.6010 - custom_mae: 1.09 - ETA: 28s - loss: 10.5169 - custom_mae: 1.09 - ETA: 28s - loss: 10.4342 - custom_mae: 1.08 - ETA: 27s - loss: 10.3531 - custom_mae: 1.08 - ETA: 27s - loss: 10.2732 - custom_mae: 1.07 - ETA: 27s - loss: 10.1949 - custom_mae: 1.06 - ETA: 27s - loss: 10.1171 - custom_mae: 1.06 - ETA: 27s - loss: 10.0408 - custom_mae: 1.05 - ETA: 27s - loss: 9.9652 - custom_mae: 1.0527 - ETA: 27s - loss: 9.8910 - custom_mae: 1.047 - ETA: 27s - loss: 9.8183 - custom_mae: 1.042 - ETA: 27s - loss: 9.7462 - custom_mae: 1.036 - ETA: 27s - loss: 9.6754 - custom_mae: 1.031 - ETA: 27s - loss: 9.6058 - custom_mae: 1.026 - ETA: 27s - loss: 9.5370 - custom_mae: 1.021 - ETA: 27s - loss: 9.4691 - custom_mae: 1.015 - ETA: 26s - loss: 9.4022 - custom_mae: 1.011 - ETA: 26s - loss: 9.3362 - custom_mae: 1.005 - ETA: 26s - loss: 9.2711 - custom_mae: 1.001 - ETA: 26s - loss: 9.2069 - custom_mae: 0.996 - ETA: 26s - loss: 9.1436 - custom_mae: 0.991 - ETA: 26s - loss: 9.0816 - custom_mae: 0.986 - ETA: 26s - loss: 9.0203 - custom_mae: 0.982 - ETA: 26s - loss: 8.9594 - custom_mae: 0.977 - ETA: 26s - loss: 8.8998 - custom_mae: 0.973 - ETA: 26s - loss: 8.8411 - custom_mae: 0.968 - ETA: 26s - loss: 8.7828 - custom_mae: 0.964 - ETA: 26s - loss: 8.7255 - custom_mae: 0.960 - ETA: 26s - loss: 8.6688 - custom_mae: 0.956 - ETA: 26s - loss: 8.6127 - custom_mae: 0.951 - ETA: 25s - loss: 8.5575 - custom_mae: 0.947 - ETA: 25s - loss: 8.5030 - custom_mae: 0.943 - ETA: 25s - loss: 8.4490 - custom_mae: 0.939 - ETA: 25s - loss: 8.3956 - custom_mae: 0.934 - ETA: 25s - loss: 8.3432 - custom_mae: 0.930 - ETA: 25s - loss: 8.2915 - custom_mae: 0.927 - ETA: 25s - loss: 8.2405 - custom_mae: 0.923 - ETA: 25s - loss: 8.1901 - custom_mae: 0.919 - ETA: 25s - loss: 8.1402 - custom_mae: 0.915 - ETA: 25s - loss: 8.0914 - custom_mae: 0.912 - ETA: 25s - loss: 8.0426 - custom_mae: 0.908 - ETA: 25s - loss: 7.9943 - custom_mae: 0.904 - ETA: 25s - loss: 7.9466 - custom_mae: 0.901 - ETA: 24s - loss: 7.8996 - custom_mae: 0.897 - ETA: 24s - loss: 7.8533 - custom_mae: 0.893 - ETA: 24s - loss: 7.8076 - custom_mae: 0.890 - ETA: 24s - loss: 7.7626 - custom_mae: 0.887 - ETA: 24s - loss: 7.7181 - custom_mae: 0.883 - ETA: 24s - loss: 7.6739 - custom_mae: 0.880 - ETA: 24s - loss: 7.6303 - custom_mae: 0.877 - ETA: 24s - loss: 7.5869 - custom_mae: 0.873 - ETA: 24s - loss: 7.5444 - custom_mae: 0.870 - ETA: 24s - loss: 7.5019 - custom_mae: 0.867 - ETA: 24s - loss: 7.4604 - custom_mae: 0.864 - ETA: 24s - loss: 7.4193 - custom_mae: 0.8613"
     ]
    },
    {
     "name": "stdout",
     "output_type": "stream",
     "text": [
      "355/500 [====================>.........] - ETA: 24s - loss: 7.3783 - custom_mae: 0.857 - ETA: 24s - loss: 7.3379 - custom_mae: 0.854 - ETA: 23s - loss: 7.2979 - custom_mae: 0.851 - ETA: 23s - loss: 7.2588 - custom_mae: 0.848 - ETA: 23s - loss: 7.2202 - custom_mae: 0.846 - ETA: 23s - loss: 7.1817 - custom_mae: 0.843 - ETA: 23s - loss: 7.1436 - custom_mae: 0.840 - ETA: 23s - loss: 7.1059 - custom_mae: 0.837 - ETA: 23s - loss: 7.0685 - custom_mae: 0.834 - ETA: 23s - loss: 7.0315 - custom_mae: 0.831 - ETA: 23s - loss: 6.9948 - custom_mae: 0.828 - ETA: 23s - loss: 6.9585 - custom_mae: 0.825 - ETA: 23s - loss: 6.9229 - custom_mae: 0.823 - ETA: 23s - loss: 6.8874 - custom_mae: 0.820 - ETA: 23s - loss: 6.8526 - custom_mae: 0.818 - ETA: 22s - loss: 6.8181 - custom_mae: 0.815 - ETA: 22s - loss: 6.7836 - custom_mae: 0.812 - ETA: 22s - loss: 6.7492 - custom_mae: 0.809 - ETA: 22s - loss: 6.7155 - custom_mae: 0.807 - ETA: 22s - loss: 6.6822 - custom_mae: 0.804 - ETA: 22s - loss: 6.6494 - custom_mae: 0.802 - ETA: 22s - loss: 6.6166 - custom_mae: 0.799 - ETA: 22s - loss: 6.5843 - custom_mae: 0.797 - ETA: 22s - loss: 6.5522 - custom_mae: 0.794 - ETA: 22s - loss: 6.5207 - custom_mae: 0.792 - ETA: 22s - loss: 6.4893 - custom_mae: 0.789 - ETA: 22s - loss: 6.4584 - custom_mae: 0.787 - ETA: 22s - loss: 6.4277 - custom_mae: 0.785 - ETA: 22s - loss: 6.3973 - custom_mae: 0.782 - ETA: 21s - loss: 6.3667 - custom_mae: 0.780 - ETA: 21s - loss: 6.3370 - custom_mae: 0.777 - ETA: 21s - loss: 6.3072 - custom_mae: 0.775 - ETA: 21s - loss: 6.2779 - custom_mae: 0.773 - ETA: 21s - loss: 6.2490 - custom_mae: 0.770 - ETA: 21s - loss: 6.2203 - custom_mae: 0.768 - ETA: 21s - loss: 6.1918 - custom_mae: 0.766 - ETA: 21s - loss: 6.1638 - custom_mae: 0.764 - ETA: 21s - loss: 6.1359 - custom_mae: 0.762 - ETA: 21s - loss: 6.1083 - custom_mae: 0.760 - ETA: 21s - loss: 6.0806 - custom_mae: 0.757 - ETA: 21s - loss: 6.0533 - custom_mae: 0.755 - ETA: 21s - loss: 6.0263 - custom_mae: 0.753 - ETA: 20s - loss: 5.9997 - custom_mae: 0.751 - ETA: 20s - loss: 5.9732 - custom_mae: 0.749 - ETA: 20s - loss: 5.9469 - custom_mae: 0.747 - ETA: 20s - loss: 5.9209 - custom_mae: 0.744 - ETA: 20s - loss: 5.8950 - custom_mae: 0.742 - ETA: 20s - loss: 5.8695 - custom_mae: 0.740 - ETA: 20s - loss: 5.8441 - custom_mae: 0.738 - ETA: 20s - loss: 5.8190 - custom_mae: 0.736 - ETA: 20s - loss: 5.7939 - custom_mae: 0.734 - ETA: 20s - loss: 5.7694 - custom_mae: 0.732 - ETA: 20s - loss: 5.7449 - custom_mae: 0.730 - ETA: 20s - loss: 5.7205 - custom_mae: 0.728 - ETA: 20s - loss: 5.6967 - custom_mae: 0.727 - ETA: 20s - loss: 5.6730 - custom_mae: 0.725 - ETA: 19s - loss: 5.6493 - custom_mae: 0.723 - ETA: 19s - loss: 5.6258 - custom_mae: 0.721 - ETA: 19s - loss: 5.6027 - custom_mae: 0.719 - ETA: 19s - loss: 5.5794 - custom_mae: 0.717 - ETA: 19s - loss: 5.5565 - custom_mae: 0.715 - ETA: 19s - loss: 5.5340 - custom_mae: 0.714 - ETA: 19s - loss: 5.5115 - custom_mae: 0.712 - ETA: 19s - loss: 5.4892 - custom_mae: 0.710 - ETA: 19s - loss: 5.4672 - custom_mae: 0.708 - ETA: 19s - loss: 5.4452 - custom_mae: 0.706 - ETA: 19s - loss: 5.4235 - custom_mae: 0.705 - ETA: 19s - loss: 5.4018 - custom_mae: 0.703 - ETA: 19s - loss: 5.3804 - custom_mae: 0.701 - ETA: 18s - loss: 5.3592 - custom_mae: 0.699 - ETA: 18s - loss: 5.3384 - custom_mae: 0.698 - ETA: 18s - loss: 5.3177 - custom_mae: 0.696 - ETA: 18s - loss: 5.2969 - custom_mae: 0.695 - ETA: 18s - loss: 5.2763 - custom_mae: 0.693 - ETA: 18s - loss: 5.2559 - custom_mae: 0.691 - ETA: 18s - loss: 5.2359 - custom_mae: 0.690 - ETA: 18s - loss: 5.2160 - custom_mae: 0.688 - ETA: 18s - loss: 5.1961 - custom_mae: 0.687 - ETA: 18s - loss: 5.1762 - custom_mae: 0.685 - ETA: 18s - loss: 5.1566 - custom_mae: 0.684 - ETA: 18s - loss: 5.1372 - custom_mae: 0.682 - ETA: 18s - loss: 5.1181 - custom_mae: 0.681 - ETA: 18s - loss: 5.0991 - custom_mae: 0.679 - ETA: 17s - loss: 5.0799 - custom_mae: 0.677 - ETA: 17s - loss: 5.0611 - custom_mae: 0.676 - ETA: 17s - loss: 5.0424 - custom_mae: 0.675 - ETA: 17s - loss: 5.0240 - custom_mae: 0.673 - ETA: 17s - loss: 5.0055 - custom_mae: 0.671 - ETA: 17s - loss: 4.9873 - custom_mae: 0.670 - ETA: 17s - loss: 4.9692 - custom_mae: 0.669 - ETA: 17s - loss: 4.9513 - custom_mae: 0.667 - ETA: 17s - loss: 4.9336 - custom_mae: 0.666 - ETA: 17s - loss: 4.9159 - custom_mae: 0.665 - ETA: 17s - loss: 4.8982 - custom_mae: 0.663 - ETA: 17s - loss: 4.8808 - custom_mae: 0.662 - ETA: 17s - loss: 4.8635 - custom_mae: 0.660 - ETA: 16s - loss: 4.8461 - custom_mae: 0.659 - ETA: 16s - loss: 4.8289 - custom_mae: 0.657 - ETA: 16s - loss: 4.8119 - custom_mae: 0.656 - ETA: 16s - loss: 4.7951 - custom_mae: 0.654 - ETA: 16s - loss: 4.7785 - custom_mae: 0.653 - ETA: 16s - loss: 4.7619 - custom_mae: 0.652 - ETA: 16s - loss: 4.7454 - custom_mae: 0.651 - ETA: 16s - loss: 4.7289 - custom_mae: 0.649 - ETA: 16s - loss: 4.7124 - custom_mae: 0.648 - ETA: 16s - loss: 4.6963 - custom_mae: 0.646 - ETA: 16s - loss: 4.6803 - custom_mae: 0.645 - ETA: 16s - loss: 4.6644 - custom_mae: 0.644 - ETA: 16s - loss: 4.6484 - custom_mae: 0.642 - ETA: 15s - loss: 4.6327 - custom_mae: 0.641 - ETA: 15s - loss: 4.6170 - custom_mae: 0.640 - ETA: 15s - loss: 4.6013 - custom_mae: 0.638 - ETA: 15s - loss: 4.5859 - custom_mae: 0.637 - ETA: 15s - loss: 4.5707 - custom_mae: 0.636 - ETA: 15s - loss: 4.5557 - custom_mae: 0.635 - ETA: 15s - loss: 4.5405 - custom_mae: 0.633 - ETA: 15s - loss: 4.5256 - custom_mae: 0.632 - ETA: 15s - loss: 4.5108 - custom_mae: 0.631 - ETA: 15s - loss: 4.4962 - custom_mae: 0.630 - ETA: 15s - loss: 4.4816 - custom_mae: 0.629 - ETA: 15s - loss: 4.4671 - custom_mae: 0.628 - ETA: 15s - loss: 4.4526 - custom_mae: 0.627 - ETA: 15s - loss: 4.4382 - custom_mae: 0.626 - ETA: 14s - loss: 4.4238 - custom_mae: 0.624 - ETA: 14s - loss: 4.4097 - custom_mae: 0.623 - ETA: 14s - loss: 4.3957 - custom_mae: 0.622 - ETA: 14s - loss: 4.3818 - custom_mae: 0.621 - ETA: 14s - loss: 4.3681 - custom_mae: 0.620 - ETA: 14s - loss: 4.3543 - custom_mae: 0.619 - ETA: 14s - loss: 4.3406 - custom_mae: 0.618 - ETA: 14s - loss: 4.3271 - custom_mae: 0.617 - ETA: 14s - loss: 4.3136 - custom_mae: 0.616 - ETA: 14s - loss: 4.3001 - custom_mae: 0.615 - ETA: 14s - loss: 4.2867 - custom_mae: 0.614 - ETA: 14s - loss: 4.2735 - custom_mae: 0.613 - ETA: 14s - loss: 4.2602 - custom_mae: 0.612 - ETA: 13s - loss: 4.2471 - custom_mae: 0.610 - ETA: 13s - loss: 4.2340 - custom_mae: 0.609 - ETA: 13s - loss: 4.2211 - custom_mae: 0.608 - ETA: 13s - loss: 4.2082 - custom_mae: 0.607 - ETA: 13s - loss: 4.1955 - custom_mae: 0.606 - ETA: 13s - loss: 4.1827 - custom_mae: 0.605 - ETA: 13s - loss: 4.1701 - custom_mae: 0.604 - ETA: 13s - loss: 4.1577 - custom_mae: 0.603 - ETA: 13s - loss: 4.1453 - custom_mae: 0.603 - ETA: 13s - loss: 4.1329 - custom_mae: 0.601 - ETA: 13s - loss: 4.1205 - custom_mae: 0.600 - ETA: 13s - loss: 4.1084 - custom_mae: 0.599 - ETA: 13s - loss: 4.0961 - custom_mae: 0.598 - ETA: 12s - loss: 4.0839 - custom_mae: 0.597 - ETA: 12s - loss: 4.0719 - custom_mae: 0.596 - ETA: 12s - loss: 4.0599 - custom_mae: 0.595 - ETA: 12s - loss: 4.0480 - custom_mae: 0.594 - ETA: 12s - loss: 4.0361 - custom_mae: 0.593 - ETA: 12s - loss: 4.0242 - custom_mae: 0.592 - ETA: 12s - loss: 4.0124 - custom_mae: 0.591 - ETA: 12s - loss: 4.0008 - custom_mae: 0.590 - ETA: 12s - loss: 3.9893 - custom_mae: 0.589 - ETA: 12s - loss: 3.9779 - custom_mae: 0.588 - ETA: 12s - loss: 3.9665 - custom_mae: 0.587 - ETA: 12s - loss: 3.9551 - custom_mae: 0.586 - ETA: 12s - loss: 3.9438 - custom_mae: 0.585 - ETA: 12s - loss: 3.9325 - custom_mae: 0.584 - ETA: 11s - loss: 3.9213 - custom_mae: 0.583 - ETA: 11s - loss: 3.9103 - custom_mae: 0.582 - ETA: 11s - loss: 3.8993 - custom_mae: 0.581 - ETA: 11s - loss: 3.8883 - custom_mae: 0.581 - ETA: 11s - loss: 3.8775 - custom_mae: 0.580 - ETA: 11s - loss: 3.8666 - custom_mae: 0.579 - ETA: 11s - loss: 3.8559 - custom_mae: 0.578 - ETA: 11s - loss: 3.8452 - custom_mae: 0.577 - ETA: 11s - loss: 3.8348 - custom_mae: 0.576 - ETA: 11s - loss: 3.8240 - custom_mae: 0.575 - ETA: 11s - loss: 3.8136 - custom_mae: 0.574 - ETA: 11s - loss: 3.8031 - custom_mae: 0.573 - ETA: 11s - loss: 3.7927 - custom_mae: 0.573 - ETA: 10s - loss: 3.7825 - custom_mae: 0.572 - ETA: 10s - loss: 3.7723 - custom_mae: 0.5715"
     ]
    },
    {
     "name": "stdout",
     "output_type": "stream",
     "text": [
      "500/500 [==============================] - ETA: 10s - loss: 3.7621 - custom_mae: 0.570 - ETA: 10s - loss: 3.7520 - custom_mae: 0.569 - ETA: 10s - loss: 3.7418 - custom_mae: 0.569 - ETA: 10s - loss: 3.7316 - custom_mae: 0.568 - ETA: 10s - loss: 3.7217 - custom_mae: 0.567 - ETA: 10s - loss: 3.7117 - custom_mae: 0.566 - ETA: 10s - loss: 3.7018 - custom_mae: 0.565 - ETA: 10s - loss: 3.6920 - custom_mae: 0.564 - ETA: 10s - loss: 3.6821 - custom_mae: 0.563 - ETA: 10s - loss: 3.6724 - custom_mae: 0.562 - ETA: 10s - loss: 3.6627 - custom_mae: 0.562 - ETA: 9s - loss: 3.6532 - custom_mae: 0.561 - ETA: 9s - loss: 3.6437 - custom_mae: 0.56 - ETA: 9s - loss: 3.6342 - custom_mae: 0.55 - ETA: 9s - loss: 3.6248 - custom_mae: 0.55 - ETA: 9s - loss: 3.6152 - custom_mae: 0.55 - ETA: 9s - loss: 3.6059 - custom_mae: 0.55 - ETA: 9s - loss: 3.5966 - custom_mae: 0.55 - ETA: 9s - loss: 3.5876 - custom_mae: 0.55 - ETA: 9s - loss: 3.5783 - custom_mae: 0.55 - ETA: 9s - loss: 3.5691 - custom_mae: 0.55 - ETA: 9s - loss: 3.5599 - custom_mae: 0.55 - ETA: 9s - loss: 3.5508 - custom_mae: 0.55 - ETA: 9s - loss: 3.5417 - custom_mae: 0.55 - ETA: 9s - loss: 3.5328 - custom_mae: 0.55 - ETA: 8s - loss: 3.5238 - custom_mae: 0.55 - ETA: 8s - loss: 3.5150 - custom_mae: 0.54 - ETA: 8s - loss: 3.5061 - custom_mae: 0.54 - ETA: 8s - loss: 3.4972 - custom_mae: 0.54 - ETA: 8s - loss: 3.4885 - custom_mae: 0.54 - ETA: 8s - loss: 3.4798 - custom_mae: 0.54 - ETA: 8s - loss: 3.4711 - custom_mae: 0.54 - ETA: 8s - loss: 3.4624 - custom_mae: 0.54 - ETA: 8s - loss: 3.4539 - custom_mae: 0.54 - ETA: 8s - loss: 3.4454 - custom_mae: 0.54 - ETA: 8s - loss: 3.4371 - custom_mae: 0.54 - ETA: 8s - loss: 3.4288 - custom_mae: 0.54 - ETA: 8s - loss: 3.4203 - custom_mae: 0.54 - ETA: 7s - loss: 3.4120 - custom_mae: 0.54 - ETA: 7s - loss: 3.4037 - custom_mae: 0.54 - ETA: 7s - loss: 3.3953 - custom_mae: 0.53 - ETA: 7s - loss: 3.3870 - custom_mae: 0.53 - ETA: 7s - loss: 3.3787 - custom_mae: 0.53 - ETA: 7s - loss: 3.3706 - custom_mae: 0.53 - ETA: 7s - loss: 3.3623 - custom_mae: 0.53 - ETA: 7s - loss: 3.3543 - custom_mae: 0.53 - ETA: 7s - loss: 3.3461 - custom_mae: 0.53 - ETA: 7s - loss: 3.3381 - custom_mae: 0.53 - ETA: 7s - loss: 3.3301 - custom_mae: 0.53 - ETA: 7s - loss: 3.3222 - custom_mae: 0.53 - ETA: 7s - loss: 3.3142 - custom_mae: 0.53 - ETA: 6s - loss: 3.3063 - custom_mae: 0.53 - ETA: 6s - loss: 3.2985 - custom_mae: 0.53 - ETA: 6s - loss: 3.2906 - custom_mae: 0.52 - ETA: 6s - loss: 3.2830 - custom_mae: 0.52 - ETA: 6s - loss: 3.2752 - custom_mae: 0.52 - ETA: 6s - loss: 3.2676 - custom_mae: 0.52 - ETA: 6s - loss: 3.2599 - custom_mae: 0.52 - ETA: 6s - loss: 3.2523 - custom_mae: 0.52 - ETA: 6s - loss: 3.2447 - custom_mae: 0.52 - ETA: 6s - loss: 3.2371 - custom_mae: 0.52 - ETA: 6s - loss: 3.2296 - custom_mae: 0.52 - ETA: 6s - loss: 3.2221 - custom_mae: 0.52 - ETA: 6s - loss: 3.2148 - custom_mae: 0.52 - ETA: 6s - loss: 3.2074 - custom_mae: 0.52 - ETA: 5s - loss: 3.2001 - custom_mae: 0.52 - ETA: 5s - loss: 3.1929 - custom_mae: 0.52 - ETA: 5s - loss: 3.1856 - custom_mae: 0.52 - ETA: 5s - loss: 3.1785 - custom_mae: 0.51 - ETA: 5s - loss: 3.1712 - custom_mae: 0.51 - ETA: 5s - loss: 3.1640 - custom_mae: 0.51 - ETA: 5s - loss: 3.1568 - custom_mae: 0.51 - ETA: 5s - loss: 3.1498 - custom_mae: 0.51 - ETA: 5s - loss: 3.1427 - custom_mae: 0.51 - ETA: 5s - loss: 3.1358 - custom_mae: 0.51 - ETA: 5s - loss: 3.1288 - custom_mae: 0.51 - ETA: 5s - loss: 3.1218 - custom_mae: 0.51 - ETA: 5s - loss: 3.1148 - custom_mae: 0.51 - ETA: 4s - loss: 3.1079 - custom_mae: 0.51 - ETA: 4s - loss: 3.1010 - custom_mae: 0.51 - ETA: 4s - loss: 3.0942 - custom_mae: 0.51 - ETA: 4s - loss: 3.0875 - custom_mae: 0.51 - ETA: 4s - loss: 3.0807 - custom_mae: 0.51 - ETA: 4s - loss: 3.0740 - custom_mae: 0.51 - ETA: 4s - loss: 3.0673 - custom_mae: 0.51 - ETA: 4s - loss: 3.0606 - custom_mae: 0.50 - ETA: 4s - loss: 3.0539 - custom_mae: 0.50 - ETA: 4s - loss: 3.0473 - custom_mae: 0.50 - ETA: 4s - loss: 3.0408 - custom_mae: 0.50 - ETA: 4s - loss: 3.0341 - custom_mae: 0.50 - ETA: 4s - loss: 3.0275 - custom_mae: 0.50 - ETA: 3s - loss: 3.0210 - custom_mae: 0.50 - ETA: 3s - loss: 3.0145 - custom_mae: 0.50 - ETA: 3s - loss: 3.0082 - custom_mae: 0.50 - ETA: 3s - loss: 3.0019 - custom_mae: 0.50 - ETA: 3s - loss: 2.9954 - custom_mae: 0.50 - ETA: 3s - loss: 2.9891 - custom_mae: 0.50 - ETA: 3s - loss: 2.9828 - custom_mae: 0.50 - ETA: 3s - loss: 2.9765 - custom_mae: 0.50 - ETA: 3s - loss: 2.9701 - custom_mae: 0.50 - ETA: 3s - loss: 2.9638 - custom_mae: 0.50 - ETA: 3s - loss: 2.9577 - custom_mae: 0.50 - ETA: 3s - loss: 2.9515 - custom_mae: 0.49 - ETA: 3s - loss: 2.9453 - custom_mae: 0.49 - ETA: 3s - loss: 2.9392 - custom_mae: 0.49 - ETA: 2s - loss: 2.9332 - custom_mae: 0.49 - ETA: 2s - loss: 2.9272 - custom_mae: 0.49 - ETA: 2s - loss: 2.9211 - custom_mae: 0.49 - ETA: 2s - loss: 2.9151 - custom_mae: 0.49 - ETA: 2s - loss: 2.9090 - custom_mae: 0.49 - ETA: 2s - loss: 2.9030 - custom_mae: 0.49 - ETA: 2s - loss: 2.8971 - custom_mae: 0.49 - ETA: 2s - loss: 2.8911 - custom_mae: 0.49 - ETA: 2s - loss: 2.8852 - custom_mae: 0.49 - ETA: 2s - loss: 2.8793 - custom_mae: 0.49 - ETA: 2s - loss: 2.8734 - custom_mae: 0.49 - ETA: 2s - loss: 2.8676 - custom_mae: 0.49 - ETA: 2s - loss: 2.8620 - custom_mae: 0.49 - ETA: 1s - loss: 2.8562 - custom_mae: 0.49 - ETA: 1s - loss: 2.8506 - custom_mae: 0.49 - ETA: 1s - loss: 2.8449 - custom_mae: 0.49 - ETA: 1s - loss: 2.8393 - custom_mae: 0.49 - ETA: 1s - loss: 2.8336 - custom_mae: 0.48 - ETA: 1s - loss: 2.8279 - custom_mae: 0.48 - ETA: 1s - loss: 2.8223 - custom_mae: 0.48 - ETA: 1s - loss: 2.8166 - custom_mae: 0.48 - ETA: 1s - loss: 2.8110 - custom_mae: 0.48 - ETA: 1s - loss: 2.8055 - custom_mae: 0.48 - ETA: 1s - loss: 2.8000 - custom_mae: 0.48 - ETA: 1s - loss: 2.7945 - custom_mae: 0.48 - ETA: 1s - loss: 2.7891 - custom_mae: 0.48 - ETA: 0s - loss: 2.7835 - custom_mae: 0.48 - ETA: 0s - loss: 2.7782 - custom_mae: 0.48 - ETA: 0s - loss: 2.7729 - custom_mae: 0.48 - ETA: 0s - loss: 2.7675 - custom_mae: 0.48 - ETA: 0s - loss: 2.7621 - custom_mae: 0.48 - ETA: 0s - loss: 2.7567 - custom_mae: 0.48 - ETA: 0s - loss: 2.7513 - custom_mae: 0.48 - ETA: 0s - loss: 2.7460 - custom_mae: 0.48 - ETA: 0s - loss: 2.7406 - custom_mae: 0.48 - ETA: 0s - loss: 2.7354 - custom_mae: 0.48 - ETA: 0s - loss: 2.7301 - custom_mae: 0.48 - ETA: 0s - loss: 2.7249 - custom_mae: 0.48 - ETA: 0s - loss: 2.7196 - custom_mae: 0.47 - ETA: 0s - loss: 2.7144 - custom_mae: 0.4793\n",
      "Epoch 00001: val_custom_mae improved from inf to 0.24277, saving model to ..\\fast_output\\SYNTH_Regression_MSE\\2020-05-28_Normalized_Base_Custom-MAE\\Best_Weights_FC_4.hdf5\n",
      "500/500 [==============================] - 40s 79ms/step - loss: 2.7144 - custom_mae: 0.4793 - val_loss: 0.1166 - val_custom_mae: 0.2428\n",
      "Time taken: 0:00:39.810475\n"
     ]
    },
    {
     "name": "stderr",
     "output_type": "stream",
     "text": [
      "\r",
      " 62%|███████████████████████████████████████████████████▉                               | 5/8 [32:17<18:57, 379.01s/it]"
     ]
    },
    {
     "name": "stdout",
     "output_type": "stream",
     "text": [
      "{'activation': 'relu', 'batch_size': 32, 'dropout': 0.5, 'epochs': 1, 'first_neuron': 1024, 'hidden_layers': 0, 'label_type': 'Normalized', 'loss_function': 'mean_squared_error', 'lr': 1, 'monitor_value': 'val_custom_mae', 'optimizer': <class 'tensorflow.python.keras.optimizer_v2.adam.Adam'>, 'reduction_metric': 'custom_mae', 'samples': 20000}\n",
      "Using Loss: mean_squared_error \n",
      "and Reduction Metric: [<function custom_mae at 0x00000243913989D8>]\n",
      "Monitor: val_custom_mae\n"
     ]
    },
    {
     "name": "stdout",
     "output_type": "stream",
     "text": [
      "177/500 [=========>....................] - ETA: 0s - loss: 1.0650 - custom_mae: 0.80 - ETA: 17s - loss: 350.5756 - custom_mae: 10.40 - ETA: 24s - loss: 240.1128 - custom_mae: 8.1906 - ETA: 27s - loss: 196.5547 - custom_mae: 7.776 - ETA: 29s - loss: 174.3959 - custom_mae: 7.728 - ETA: 31s - loss: 154.9907 - custom_mae: 7.457 - ETA: 31s - loss: 138.5328 - custom_mae: 7.102 - ETA: 32s - loss: 123.9325 - custom_mae: 6.695 - ETA: 32s - loss: 111.3005 - custom_mae: 6.258 - ETA: 33s - loss: 100.5756 - custom_mae: 5.795 - ETA: 33s - loss: 92.1828 - custom_mae: 5.474 - ETA: 33s - loss: 85.2913 - custom_mae: 5.21 - ETA: 33s - loss: 79.3392 - custom_mae: 4.97 - ETA: 34s - loss: 74.6807 - custom_mae: 4.81 - ETA: 34s - loss: 70.6721 - custom_mae: 4.69 - ETA: 34s - loss: 66.8396 - custom_mae: 4.54 - ETA: 34s - loss: 63.2759 - custom_mae: 4.39 - ETA: 34s - loss: 60.0754 - custom_mae: 4.25 - ETA: 34s - loss: 57.2214 - custom_mae: 4.13 - ETA: 34s - loss: 54.5947 - custom_mae: 4.01 - ETA: 34s - loss: 52.1433 - custom_mae: 3.88 - ETA: 34s - loss: 49.9343 - custom_mae: 3.78 - ETA: 34s - loss: 47.9244 - custom_mae: 3.68 - ETA: 34s - loss: 46.0734 - custom_mae: 3.59 - ETA: 34s - loss: 44.3668 - custom_mae: 3.51 - ETA: 34s - loss: 42.7377 - custom_mae: 3.42 - ETA: 34s - loss: 41.2097 - custom_mae: 3.32 - ETA: 34s - loss: 39.7873 - custom_mae: 3.24 - ETA: 34s - loss: 38.4779 - custom_mae: 3.16 - ETA: 34s - loss: 37.2355 - custom_mae: 3.09 - ETA: 34s - loss: 36.0901 - custom_mae: 3.02 - ETA: 34s - loss: 34.9984 - custom_mae: 2.95 - ETA: 34s - loss: 33.9802 - custom_mae: 2.89 - ETA: 34s - loss: 33.0168 - custom_mae: 2.83 - ETA: 33s - loss: 32.1029 - custom_mae: 2.77 - ETA: 33s - loss: 31.2368 - custom_mae: 2.71 - ETA: 33s - loss: 30.4267 - custom_mae: 2.66 - ETA: 33s - loss: 29.6448 - custom_mae: 2.61 - ETA: 33s - loss: 28.9030 - custom_mae: 2.56 - ETA: 33s - loss: 28.1981 - custom_mae: 2.51 - ETA: 33s - loss: 27.5238 - custom_mae: 2.47 - ETA: 33s - loss: 26.8821 - custom_mae: 2.42 - ETA: 33s - loss: 26.2706 - custom_mae: 2.38 - ETA: 33s - loss: 25.6870 - custom_mae: 2.34 - ETA: 33s - loss: 25.1260 - custom_mae: 2.30 - ETA: 33s - loss: 24.5904 - custom_mae: 2.26 - ETA: 33s - loss: 24.0785 - custom_mae: 2.22 - ETA: 33s - loss: 23.5847 - custom_mae: 2.19 - ETA: 33s - loss: 23.1126 - custom_mae: 2.15 - ETA: 33s - loss: 22.6589 - custom_mae: 2.12 - ETA: 33s - loss: 22.2220 - custom_mae: 2.09 - ETA: 33s - loss: 21.8031 - custom_mae: 2.06 - ETA: 32s - loss: 21.3980 - custom_mae: 2.03 - ETA: 32s - loss: 21.0100 - custom_mae: 2.00 - ETA: 32s - loss: 20.6346 - custom_mae: 1.97 - ETA: 32s - loss: 20.2735 - custom_mae: 1.95 - ETA: 32s - loss: 19.9224 - custom_mae: 1.92 - ETA: 32s - loss: 19.5850 - custom_mae: 1.90 - ETA: 32s - loss: 19.2588 - custom_mae: 1.87 - ETA: 32s - loss: 18.9420 - custom_mae: 1.85 - ETA: 32s - loss: 18.6372 - custom_mae: 1.82 - ETA: 32s - loss: 18.3435 - custom_mae: 1.80 - ETA: 32s - loss: 18.0567 - custom_mae: 1.78 - ETA: 32s - loss: 17.7807 - custom_mae: 1.76 - ETA: 32s - loss: 17.5114 - custom_mae: 1.74 - ETA: 32s - loss: 17.2507 - custom_mae: 1.72 - ETA: 32s - loss: 16.9976 - custom_mae: 1.70 - ETA: 31s - loss: 16.7513 - custom_mae: 1.69 - ETA: 31s - loss: 16.5129 - custom_mae: 1.67 - ETA: 31s - loss: 16.2813 - custom_mae: 1.65 - ETA: 31s - loss: 16.0561 - custom_mae: 1.63 - ETA: 31s - loss: 15.8386 - custom_mae: 1.62 - ETA: 31s - loss: 15.6254 - custom_mae: 1.60 - ETA: 31s - loss: 15.4177 - custom_mae: 1.58 - ETA: 31s - loss: 15.2164 - custom_mae: 1.57 - ETA: 31s - loss: 15.0201 - custom_mae: 1.56 - ETA: 31s - loss: 14.8280 - custom_mae: 1.54 - ETA: 31s - loss: 14.6411 - custom_mae: 1.53 - ETA: 31s - loss: 14.4594 - custom_mae: 1.51 - ETA: 31s - loss: 14.2816 - custom_mae: 1.50 - ETA: 31s - loss: 14.1088 - custom_mae: 1.48 - ETA: 31s - loss: 13.9396 - custom_mae: 1.47 - ETA: 31s - loss: 13.7753 - custom_mae: 1.46 - ETA: 30s - loss: 13.6151 - custom_mae: 1.45 - ETA: 30s - loss: 13.4580 - custom_mae: 1.44 - ETA: 30s - loss: 13.3041 - custom_mae: 1.42 - ETA: 30s - loss: 13.1535 - custom_mae: 1.41 - ETA: 30s - loss: 13.0069 - custom_mae: 1.40 - ETA: 30s - loss: 12.8638 - custom_mae: 1.39 - ETA: 30s - loss: 12.7230 - custom_mae: 1.38 - ETA: 30s - loss: 12.5861 - custom_mae: 1.37 - ETA: 30s - loss: 12.4525 - custom_mae: 1.36 - ETA: 30s - loss: 12.3210 - custom_mae: 1.35 - ETA: 30s - loss: 12.1925 - custom_mae: 1.34 - ETA: 30s - loss: 12.0667 - custom_mae: 1.33 - ETA: 30s - loss: 11.9433 - custom_mae: 1.32 - ETA: 30s - loss: 11.8237 - custom_mae: 1.31 - ETA: 29s - loss: 11.7051 - custom_mae: 1.30 - ETA: 29s - loss: 11.5897 - custom_mae: 1.29 - ETA: 29s - loss: 11.4765 - custom_mae: 1.28 - ETA: 29s - loss: 11.3648 - custom_mae: 1.27 - ETA: 29s - loss: 11.2558 - custom_mae: 1.26 - ETA: 29s - loss: 11.1486 - custom_mae: 1.25 - ETA: 29s - loss: 11.0437 - custom_mae: 1.25 - ETA: 29s - loss: 10.9405 - custom_mae: 1.24 - ETA: 29s - loss: 10.8391 - custom_mae: 1.23 - ETA: 29s - loss: 10.7405 - custom_mae: 1.22 - ETA: 29s - loss: 10.6434 - custom_mae: 1.21 - ETA: 29s - loss: 10.5478 - custom_mae: 1.21 - ETA: 29s - loss: 10.4539 - custom_mae: 1.20 - ETA: 29s - loss: 10.3619 - custom_mae: 1.19 - ETA: 28s - loss: 10.2718 - custom_mae: 1.18 - ETA: 28s - loss: 10.1829 - custom_mae: 1.18 - ETA: 28s - loss: 10.0953 - custom_mae: 1.17 - ETA: 28s - loss: 10.0096 - custom_mae: 1.16 - ETA: 28s - loss: 9.9251 - custom_mae: 1.1618 - ETA: 28s - loss: 9.8420 - custom_mae: 1.155 - ETA: 28s - loss: 9.7604 - custom_mae: 1.148 - ETA: 28s - loss: 9.6799 - custom_mae: 1.141 - ETA: 28s - loss: 9.6009 - custom_mae: 1.135 - ETA: 28s - loss: 9.5234 - custom_mae: 1.129 - ETA: 28s - loss: 9.4470 - custom_mae: 1.122 - ETA: 28s - loss: 9.3720 - custom_mae: 1.116 - ETA: 28s - loss: 9.2984 - custom_mae: 1.111 - ETA: 28s - loss: 9.2260 - custom_mae: 1.105 - ETA: 27s - loss: 9.1548 - custom_mae: 1.099 - ETA: 27s - loss: 9.0845 - custom_mae: 1.094 - ETA: 27s - loss: 9.0156 - custom_mae: 1.088 - ETA: 27s - loss: 8.9469 - custom_mae: 1.082 - ETA: 27s - loss: 8.8799 - custom_mae: 1.077 - ETA: 27s - loss: 8.8135 - custom_mae: 1.072 - ETA: 27s - loss: 8.7481 - custom_mae: 1.066 - ETA: 27s - loss: 8.6843 - custom_mae: 1.061 - ETA: 27s - loss: 8.6209 - custom_mae: 1.056 - ETA: 27s - loss: 8.5589 - custom_mae: 1.051 - ETA: 27s - loss: 8.4977 - custom_mae: 1.046 - ETA: 27s - loss: 8.4373 - custom_mae: 1.041 - ETA: 27s - loss: 8.3778 - custom_mae: 1.037 - ETA: 26s - loss: 8.3189 - custom_mae: 1.032 - ETA: 26s - loss: 8.2610 - custom_mae: 1.027 - ETA: 26s - loss: 8.2040 - custom_mae: 1.022 - ETA: 26s - loss: 8.1476 - custom_mae: 1.018 - ETA: 26s - loss: 8.0922 - custom_mae: 1.013 - ETA: 26s - loss: 8.0377 - custom_mae: 1.009 - ETA: 26s - loss: 7.9837 - custom_mae: 1.004 - ETA: 26s - loss: 7.9302 - custom_mae: 1.000 - ETA: 26s - loss: 7.8780 - custom_mae: 0.996 - ETA: 26s - loss: 7.8264 - custom_mae: 0.992 - ETA: 26s - loss: 7.7750 - custom_mae: 0.987 - ETA: 26s - loss: 7.7244 - custom_mae: 0.983 - ETA: 26s - loss: 7.6748 - custom_mae: 0.979 - ETA: 25s - loss: 7.6256 - custom_mae: 0.975 - ETA: 25s - loss: 7.5773 - custom_mae: 0.971 - ETA: 25s - loss: 7.5293 - custom_mae: 0.967 - ETA: 25s - loss: 7.4820 - custom_mae: 0.963 - ETA: 25s - loss: 7.4351 - custom_mae: 0.959 - ETA: 25s - loss: 7.3892 - custom_mae: 0.955 - ETA: 25s - loss: 7.3437 - custom_mae: 0.952 - ETA: 25s - loss: 7.2990 - custom_mae: 0.948 - ETA: 25s - loss: 7.2548 - custom_mae: 0.945 - ETA: 25s - loss: 7.2109 - custom_mae: 0.941 - ETA: 25s - loss: 7.1681 - custom_mae: 0.938 - ETA: 25s - loss: 7.1251 - custom_mae: 0.934 - ETA: 25s - loss: 7.0827 - custom_mae: 0.931 - ETA: 25s - loss: 7.0411 - custom_mae: 0.927 - ETA: 24s - loss: 6.9998 - custom_mae: 0.924 - ETA: 24s - loss: 6.9591 - custom_mae: 0.920 - ETA: 24s - loss: 6.9189 - custom_mae: 0.917 - ETA: 24s - loss: 6.8792 - custom_mae: 0.914 - ETA: 24s - loss: 6.8403 - custom_mae: 0.911 - ETA: 24s - loss: 6.8014 - custom_mae: 0.907 - ETA: 24s - loss: 6.7633 - custom_mae: 0.905 - ETA: 24s - loss: 6.7253 - custom_mae: 0.901 - ETA: 24s - loss: 6.6879 - custom_mae: 0.898 - ETA: 24s - loss: 6.6508 - custom_mae: 0.895 - ETA: 24s - loss: 6.6144 - custom_mae: 0.892 - ETA: 24s - loss: 6.5782 - custom_mae: 0.8898"
     ]
    },
    {
     "name": "stdout",
     "output_type": "stream",
     "text": [
      "355/500 [====================>.........] - ETA: 24s - loss: 6.5421 - custom_mae: 0.886 - ETA: 24s - loss: 6.5068 - custom_mae: 0.883 - ETA: 23s - loss: 6.4718 - custom_mae: 0.880 - ETA: 23s - loss: 6.4373 - custom_mae: 0.878 - ETA: 23s - loss: 6.4034 - custom_mae: 0.875 - ETA: 23s - loss: 6.3695 - custom_mae: 0.872 - ETA: 23s - loss: 6.3364 - custom_mae: 0.870 - ETA: 23s - loss: 6.3033 - custom_mae: 0.867 - ETA: 23s - loss: 6.2705 - custom_mae: 0.864 - ETA: 23s - loss: 6.2381 - custom_mae: 0.862 - ETA: 23s - loss: 6.2060 - custom_mae: 0.859 - ETA: 23s - loss: 6.1741 - custom_mae: 0.856 - ETA: 23s - loss: 6.1428 - custom_mae: 0.854 - ETA: 23s - loss: 6.1118 - custom_mae: 0.851 - ETA: 23s - loss: 6.0810 - custom_mae: 0.849 - ETA: 22s - loss: 6.0506 - custom_mae: 0.846 - ETA: 22s - loss: 6.0203 - custom_mae: 0.844 - ETA: 22s - loss: 5.9904 - custom_mae: 0.841 - ETA: 22s - loss: 5.9608 - custom_mae: 0.838 - ETA: 22s - loss: 5.9315 - custom_mae: 0.836 - ETA: 22s - loss: 5.9027 - custom_mae: 0.834 - ETA: 22s - loss: 5.8740 - custom_mae: 0.831 - ETA: 22s - loss: 5.8457 - custom_mae: 0.829 - ETA: 22s - loss: 5.8175 - custom_mae: 0.826 - ETA: 22s - loss: 5.7896 - custom_mae: 0.824 - ETA: 22s - loss: 5.7619 - custom_mae: 0.821 - ETA: 22s - loss: 5.7349 - custom_mae: 0.819 - ETA: 22s - loss: 5.7079 - custom_mae: 0.817 - ETA: 21s - loss: 5.6811 - custom_mae: 0.815 - ETA: 21s - loss: 5.6543 - custom_mae: 0.812 - ETA: 21s - loss: 5.6282 - custom_mae: 0.810 - ETA: 21s - loss: 5.6019 - custom_mae: 0.808 - ETA: 21s - loss: 5.5760 - custom_mae: 0.805 - ETA: 21s - loss: 5.5505 - custom_mae: 0.803 - ETA: 21s - loss: 5.5253 - custom_mae: 0.801 - ETA: 21s - loss: 5.5002 - custom_mae: 0.799 - ETA: 21s - loss: 5.4755 - custom_mae: 0.797 - ETA: 21s - loss: 5.4510 - custom_mae: 0.795 - ETA: 21s - loss: 5.4268 - custom_mae: 0.793 - ETA: 21s - loss: 5.4025 - custom_mae: 0.791 - ETA: 21s - loss: 5.3785 - custom_mae: 0.788 - ETA: 21s - loss: 5.3550 - custom_mae: 0.786 - ETA: 20s - loss: 5.3316 - custom_mae: 0.784 - ETA: 20s - loss: 5.3083 - custom_mae: 0.783 - ETA: 20s - loss: 5.2854 - custom_mae: 0.781 - ETA: 20s - loss: 5.2627 - custom_mae: 0.779 - ETA: 20s - loss: 5.2400 - custom_mae: 0.777 - ETA: 20s - loss: 5.2176 - custom_mae: 0.775 - ETA: 20s - loss: 5.1953 - custom_mae: 0.773 - ETA: 20s - loss: 5.1732 - custom_mae: 0.771 - ETA: 20s - loss: 5.1510 - custom_mae: 0.769 - ETA: 20s - loss: 5.1295 - custom_mae: 0.767 - ETA: 20s - loss: 5.1078 - custom_mae: 0.765 - ETA: 20s - loss: 5.0864 - custom_mae: 0.763 - ETA: 20s - loss: 5.0655 - custom_mae: 0.762 - ETA: 20s - loss: 5.0447 - custom_mae: 0.760 - ETA: 19s - loss: 5.0239 - custom_mae: 0.758 - ETA: 19s - loss: 5.0033 - custom_mae: 0.756 - ETA: 19s - loss: 4.9830 - custom_mae: 0.755 - ETA: 19s - loss: 4.9625 - custom_mae: 0.753 - ETA: 19s - loss: 4.9422 - custom_mae: 0.750 - ETA: 19s - loss: 4.9225 - custom_mae: 0.749 - ETA: 19s - loss: 4.9027 - custom_mae: 0.747 - ETA: 19s - loss: 4.8831 - custom_mae: 0.745 - ETA: 19s - loss: 4.8637 - custom_mae: 0.744 - ETA: 19s - loss: 4.8443 - custom_mae: 0.742 - ETA: 19s - loss: 4.8253 - custom_mae: 0.740 - ETA: 19s - loss: 4.8061 - custom_mae: 0.738 - ETA: 19s - loss: 4.7874 - custom_mae: 0.737 - ETA: 18s - loss: 4.7686 - custom_mae: 0.735 - ETA: 18s - loss: 4.7502 - custom_mae: 0.733 - ETA: 18s - loss: 4.7319 - custom_mae: 0.732 - ETA: 18s - loss: 4.7137 - custom_mae: 0.730 - ETA: 18s - loss: 4.6957 - custom_mae: 0.729 - ETA: 18s - loss: 4.6779 - custom_mae: 0.727 - ETA: 18s - loss: 4.6602 - custom_mae: 0.726 - ETA: 18s - loss: 4.6426 - custom_mae: 0.724 - ETA: 18s - loss: 4.6252 - custom_mae: 0.723 - ETA: 18s - loss: 4.6084 - custom_mae: 0.722 - ETA: 18s - loss: 4.5911 - custom_mae: 0.720 - ETA: 18s - loss: 4.5741 - custom_mae: 0.719 - ETA: 18s - loss: 4.5573 - custom_mae: 0.717 - ETA: 18s - loss: 4.5406 - custom_mae: 0.716 - ETA: 17s - loss: 4.5238 - custom_mae: 0.714 - ETA: 17s - loss: 4.5075 - custom_mae: 0.713 - ETA: 17s - loss: 4.4911 - custom_mae: 0.712 - ETA: 17s - loss: 4.4748 - custom_mae: 0.710 - ETA: 17s - loss: 4.4585 - custom_mae: 0.709 - ETA: 17s - loss: 4.4425 - custom_mae: 0.707 - ETA: 17s - loss: 4.4266 - custom_mae: 0.706 - ETA: 17s - loss: 4.4110 - custom_mae: 0.705 - ETA: 17s - loss: 4.3956 - custom_mae: 0.704 - ETA: 17s - loss: 4.3801 - custom_mae: 0.703 - ETA: 17s - loss: 4.3646 - custom_mae: 0.701 - ETA: 17s - loss: 4.3494 - custom_mae: 0.700 - ETA: 17s - loss: 4.3340 - custom_mae: 0.699 - ETA: 16s - loss: 4.3188 - custom_mae: 0.697 - ETA: 16s - loss: 4.3038 - custom_mae: 0.696 - ETA: 16s - loss: 4.2888 - custom_mae: 0.694 - ETA: 16s - loss: 4.2741 - custom_mae: 0.693 - ETA: 16s - loss: 4.2594 - custom_mae: 0.692 - ETA: 16s - loss: 4.2449 - custom_mae: 0.691 - ETA: 16s - loss: 4.2304 - custom_mae: 0.690 - ETA: 16s - loss: 4.2160 - custom_mae: 0.688 - ETA: 16s - loss: 4.2016 - custom_mae: 0.687 - ETA: 16s - loss: 4.1872 - custom_mae: 0.686 - ETA: 16s - loss: 4.1732 - custom_mae: 0.684 - ETA: 16s - loss: 4.1592 - custom_mae: 0.683 - ETA: 16s - loss: 4.1452 - custom_mae: 0.682 - ETA: 16s - loss: 4.1313 - custom_mae: 0.681 - ETA: 15s - loss: 4.1175 - custom_mae: 0.679 - ETA: 15s - loss: 4.1037 - custom_mae: 0.678 - ETA: 15s - loss: 4.0902 - custom_mae: 0.677 - ETA: 15s - loss: 4.0768 - custom_mae: 0.676 - ETA: 15s - loss: 4.0636 - custom_mae: 0.675 - ETA: 15s - loss: 4.0503 - custom_mae: 0.673 - ETA: 15s - loss: 4.0373 - custom_mae: 0.672 - ETA: 15s - loss: 4.0244 - custom_mae: 0.671 - ETA: 15s - loss: 4.0114 - custom_mae: 0.670 - ETA: 15s - loss: 3.9985 - custom_mae: 0.669 - ETA: 15s - loss: 3.9858 - custom_mae: 0.668 - ETA: 15s - loss: 3.9729 - custom_mae: 0.667 - ETA: 15s - loss: 3.9603 - custom_mae: 0.666 - ETA: 14s - loss: 3.9476 - custom_mae: 0.664 - ETA: 14s - loss: 3.9351 - custom_mae: 0.663 - ETA: 14s - loss: 3.9231 - custom_mae: 0.662 - ETA: 14s - loss: 3.9107 - custom_mae: 0.661 - ETA: 14s - loss: 3.8986 - custom_mae: 0.660 - ETA: 14s - loss: 3.8865 - custom_mae: 0.659 - ETA: 14s - loss: 3.8744 - custom_mae: 0.658 - ETA: 14s - loss: 3.8625 - custom_mae: 0.657 - ETA: 14s - loss: 3.8505 - custom_mae: 0.656 - ETA: 14s - loss: 3.8386 - custom_mae: 0.655 - ETA: 14s - loss: 3.8269 - custom_mae: 0.654 - ETA: 14s - loss: 3.8153 - custom_mae: 0.653 - ETA: 14s - loss: 3.8037 - custom_mae: 0.652 - ETA: 14s - loss: 3.7923 - custom_mae: 0.651 - ETA: 13s - loss: 3.7808 - custom_mae: 0.650 - ETA: 13s - loss: 3.7697 - custom_mae: 0.649 - ETA: 13s - loss: 3.7583 - custom_mae: 0.648 - ETA: 13s - loss: 3.7472 - custom_mae: 0.647 - ETA: 13s - loss: 3.7359 - custom_mae: 0.646 - ETA: 13s - loss: 3.7248 - custom_mae: 0.645 - ETA: 13s - loss: 3.7139 - custom_mae: 0.644 - ETA: 13s - loss: 3.7029 - custom_mae: 0.643 - ETA: 13s - loss: 3.6921 - custom_mae: 0.642 - ETA: 13s - loss: 3.6812 - custom_mae: 0.641 - ETA: 13s - loss: 3.6704 - custom_mae: 0.640 - ETA: 13s - loss: 3.6597 - custom_mae: 0.640 - ETA: 13s - loss: 3.6491 - custom_mae: 0.638 - ETA: 12s - loss: 3.6385 - custom_mae: 0.638 - ETA: 12s - loss: 3.6280 - custom_mae: 0.637 - ETA: 12s - loss: 3.6175 - custom_mae: 0.636 - ETA: 12s - loss: 3.6072 - custom_mae: 0.635 - ETA: 12s - loss: 3.5967 - custom_mae: 0.634 - ETA: 12s - loss: 3.5863 - custom_mae: 0.633 - ETA: 12s - loss: 3.5761 - custom_mae: 0.632 - ETA: 12s - loss: 3.5660 - custom_mae: 0.631 - ETA: 12s - loss: 3.5560 - custom_mae: 0.630 - ETA: 12s - loss: 3.5460 - custom_mae: 0.629 - ETA: 12s - loss: 3.5359 - custom_mae: 0.628 - ETA: 12s - loss: 3.5259 - custom_mae: 0.627 - ETA: 12s - loss: 3.5159 - custom_mae: 0.626 - ETA: 11s - loss: 3.5061 - custom_mae: 0.625 - ETA: 11s - loss: 3.4964 - custom_mae: 0.624 - ETA: 11s - loss: 3.4867 - custom_mae: 0.623 - ETA: 11s - loss: 3.4770 - custom_mae: 0.622 - ETA: 11s - loss: 3.4675 - custom_mae: 0.622 - ETA: 11s - loss: 3.4579 - custom_mae: 0.621 - ETA: 11s - loss: 3.4484 - custom_mae: 0.620 - ETA: 11s - loss: 3.4390 - custom_mae: 0.619 - ETA: 11s - loss: 3.4299 - custom_mae: 0.618 - ETA: 11s - loss: 3.4204 - custom_mae: 0.617 - ETA: 11s - loss: 3.4113 - custom_mae: 0.617 - ETA: 11s - loss: 3.4020 - custom_mae: 0.616 - ETA: 11s - loss: 3.3928 - custom_mae: 0.615 - ETA: 11s - loss: 3.3837 - custom_mae: 0.614 - ETA: 10s - loss: 3.3747 - custom_mae: 0.6138"
     ]
    },
    {
     "name": "stdout",
     "output_type": "stream",
     "text": [
      "500/500 [==============================] - ETA: 10s - loss: 3.3658 - custom_mae: 0.613 - ETA: 10s - loss: 3.3568 - custom_mae: 0.612 - ETA: 10s - loss: 3.3478 - custom_mae: 0.611 - ETA: 10s - loss: 3.3388 - custom_mae: 0.610 - ETA: 10s - loss: 3.3301 - custom_mae: 0.609 - ETA: 10s - loss: 3.3214 - custom_mae: 0.609 - ETA: 10s - loss: 3.3126 - custom_mae: 0.608 - ETA: 10s - loss: 3.3039 - custom_mae: 0.607 - ETA: 10s - loss: 3.2952 - custom_mae: 0.606 - ETA: 10s - loss: 3.2867 - custom_mae: 0.605 - ETA: 10s - loss: 3.2782 - custom_mae: 0.604 - ETA: 10s - loss: 3.2697 - custom_mae: 0.604 - ETA: 9s - loss: 3.2613 - custom_mae: 0.603 - ETA: 9s - loss: 3.2531 - custom_mae: 0.60 - ETA: 9s - loss: 3.2448 - custom_mae: 0.60 - ETA: 9s - loss: 3.2363 - custom_mae: 0.60 - ETA: 9s - loss: 3.2283 - custom_mae: 0.60 - ETA: 9s - loss: 3.2201 - custom_mae: 0.59 - ETA: 9s - loss: 3.2122 - custom_mae: 0.59 - ETA: 9s - loss: 3.2040 - custom_mae: 0.59 - ETA: 9s - loss: 3.1959 - custom_mae: 0.59 - ETA: 9s - loss: 3.1878 - custom_mae: 0.59 - ETA: 9s - loss: 3.1798 - custom_mae: 0.59 - ETA: 9s - loss: 3.1718 - custom_mae: 0.59 - ETA: 9s - loss: 3.1640 - custom_mae: 0.59 - ETA: 8s - loss: 3.1561 - custom_mae: 0.59 - ETA: 8s - loss: 3.1483 - custom_mae: 0.59 - ETA: 8s - loss: 3.1405 - custom_mae: 0.59 - ETA: 8s - loss: 3.1328 - custom_mae: 0.59 - ETA: 8s - loss: 3.1251 - custom_mae: 0.59 - ETA: 8s - loss: 3.1173 - custom_mae: 0.59 - ETA: 8s - loss: 3.1096 - custom_mae: 0.58 - ETA: 8s - loss: 3.1020 - custom_mae: 0.58 - ETA: 8s - loss: 3.0945 - custom_mae: 0.58 - ETA: 8s - loss: 3.0871 - custom_mae: 0.58 - ETA: 8s - loss: 3.0797 - custom_mae: 0.58 - ETA: 8s - loss: 3.0725 - custom_mae: 0.58 - ETA: 8s - loss: 3.0649 - custom_mae: 0.58 - ETA: 8s - loss: 3.0577 - custom_mae: 0.58 - ETA: 7s - loss: 3.0503 - custom_mae: 0.58 - ETA: 7s - loss: 3.0430 - custom_mae: 0.58 - ETA: 7s - loss: 3.0357 - custom_mae: 0.58 - ETA: 7s - loss: 3.0283 - custom_mae: 0.58 - ETA: 7s - loss: 3.0212 - custom_mae: 0.58 - ETA: 7s - loss: 3.0139 - custom_mae: 0.58 - ETA: 7s - loss: 3.0070 - custom_mae: 0.57 - ETA: 7s - loss: 2.9998 - custom_mae: 0.57 - ETA: 7s - loss: 2.9927 - custom_mae: 0.57 - ETA: 7s - loss: 2.9857 - custom_mae: 0.57 - ETA: 7s - loss: 2.9787 - custom_mae: 0.57 - ETA: 7s - loss: 2.9716 - custom_mae: 0.57 - ETA: 7s - loss: 2.9647 - custom_mae: 0.57 - ETA: 6s - loss: 2.9580 - custom_mae: 0.57 - ETA: 6s - loss: 2.9511 - custom_mae: 0.57 - ETA: 6s - loss: 2.9444 - custom_mae: 0.57 - ETA: 6s - loss: 2.9376 - custom_mae: 0.57 - ETA: 6s - loss: 2.9308 - custom_mae: 0.57 - ETA: 6s - loss: 2.9240 - custom_mae: 0.57 - ETA: 6s - loss: 2.9173 - custom_mae: 0.57 - ETA: 6s - loss: 2.9107 - custom_mae: 0.57 - ETA: 6s - loss: 2.9040 - custom_mae: 0.56 - ETA: 6s - loss: 2.8972 - custom_mae: 0.56 - ETA: 6s - loss: 2.8906 - custom_mae: 0.56 - ETA: 6s - loss: 2.8842 - custom_mae: 0.56 - ETA: 6s - loss: 2.8777 - custom_mae: 0.56 - ETA: 5s - loss: 2.8714 - custom_mae: 0.56 - ETA: 5s - loss: 2.8650 - custom_mae: 0.56 - ETA: 5s - loss: 2.8586 - custom_mae: 0.56 - ETA: 5s - loss: 2.8524 - custom_mae: 0.56 - ETA: 5s - loss: 2.8460 - custom_mae: 0.56 - ETA: 5s - loss: 2.8395 - custom_mae: 0.56 - ETA: 5s - loss: 2.8332 - custom_mae: 0.56 - ETA: 5s - loss: 2.8271 - custom_mae: 0.56 - ETA: 5s - loss: 2.8209 - custom_mae: 0.56 - ETA: 5s - loss: 2.8147 - custom_mae: 0.56 - ETA: 5s - loss: 2.8085 - custom_mae: 0.56 - ETA: 5s - loss: 2.8023 - custom_mae: 0.55 - ETA: 5s - loss: 2.7962 - custom_mae: 0.55 - ETA: 4s - loss: 2.7902 - custom_mae: 0.55 - ETA: 4s - loss: 2.7840 - custom_mae: 0.55 - ETA: 4s - loss: 2.7781 - custom_mae: 0.55 - ETA: 4s - loss: 2.7722 - custom_mae: 0.55 - ETA: 4s - loss: 2.7662 - custom_mae: 0.55 - ETA: 4s - loss: 2.7602 - custom_mae: 0.55 - ETA: 4s - loss: 2.7544 - custom_mae: 0.55 - ETA: 4s - loss: 2.7485 - custom_mae: 0.55 - ETA: 4s - loss: 2.7427 - custom_mae: 0.55 - ETA: 4s - loss: 2.7369 - custom_mae: 0.55 - ETA: 4s - loss: 2.7310 - custom_mae: 0.55 - ETA: 4s - loss: 2.7251 - custom_mae: 0.55 - ETA: 4s - loss: 2.7193 - custom_mae: 0.55 - ETA: 4s - loss: 2.7136 - custom_mae: 0.55 - ETA: 3s - loss: 2.7080 - custom_mae: 0.55 - ETA: 3s - loss: 2.7024 - custom_mae: 0.55 - ETA: 3s - loss: 2.6969 - custom_mae: 0.54 - ETA: 3s - loss: 2.6912 - custom_mae: 0.54 - ETA: 3s - loss: 2.6856 - custom_mae: 0.54 - ETA: 3s - loss: 2.6800 - custom_mae: 0.54 - ETA: 3s - loss: 2.6745 - custom_mae: 0.54 - ETA: 3s - loss: 2.6688 - custom_mae: 0.54 - ETA: 3s - loss: 2.6633 - custom_mae: 0.54 - ETA: 3s - loss: 2.6580 - custom_mae: 0.54 - ETA: 3s - loss: 2.6526 - custom_mae: 0.54 - ETA: 3s - loss: 2.6471 - custom_mae: 0.54 - ETA: 3s - loss: 2.6417 - custom_mae: 0.54 - ETA: 2s - loss: 2.6364 - custom_mae: 0.54 - ETA: 2s - loss: 2.6311 - custom_mae: 0.54 - ETA: 2s - loss: 2.6258 - custom_mae: 0.54 - ETA: 2s - loss: 2.6205 - custom_mae: 0.54 - ETA: 2s - loss: 2.6151 - custom_mae: 0.54 - ETA: 2s - loss: 2.6099 - custom_mae: 0.54 - ETA: 2s - loss: 2.6046 - custom_mae: 0.54 - ETA: 2s - loss: 2.5994 - custom_mae: 0.54 - ETA: 2s - loss: 2.5941 - custom_mae: 0.53 - ETA: 2s - loss: 2.5889 - custom_mae: 0.53 - ETA: 2s - loss: 2.5837 - custom_mae: 0.53 - ETA: 2s - loss: 2.5786 - custom_mae: 0.53 - ETA: 2s - loss: 2.5736 - custom_mae: 0.53 - ETA: 1s - loss: 2.5685 - custom_mae: 0.53 - ETA: 1s - loss: 2.5635 - custom_mae: 0.53 - ETA: 1s - loss: 2.5585 - custom_mae: 0.53 - ETA: 1s - loss: 2.5535 - custom_mae: 0.53 - ETA: 1s - loss: 2.5485 - custom_mae: 0.53 - ETA: 1s - loss: 2.5436 - custom_mae: 0.53 - ETA: 1s - loss: 2.5386 - custom_mae: 0.53 - ETA: 1s - loss: 2.5335 - custom_mae: 0.53 - ETA: 1s - loss: 2.5287 - custom_mae: 0.53 - ETA: 1s - loss: 2.5239 - custom_mae: 0.53 - ETA: 1s - loss: 2.5191 - custom_mae: 0.53 - ETA: 1s - loss: 2.5142 - custom_mae: 0.53 - ETA: 1s - loss: 2.5095 - custom_mae: 0.53 - ETA: 0s - loss: 2.5047 - custom_mae: 0.53 - ETA: 0s - loss: 2.5000 - custom_mae: 0.53 - ETA: 0s - loss: 2.4952 - custom_mae: 0.53 - ETA: 0s - loss: 2.4904 - custom_mae: 0.52 - ETA: 0s - loss: 2.4856 - custom_mae: 0.52 - ETA: 0s - loss: 2.4809 - custom_mae: 0.52 - ETA: 0s - loss: 2.4760 - custom_mae: 0.52 - ETA: 0s - loss: 2.4714 - custom_mae: 0.52 - ETA: 0s - loss: 2.4666 - custom_mae: 0.52 - ETA: 0s - loss: 2.4621 - custom_mae: 0.52 - ETA: 0s - loss: 2.4574 - custom_mae: 0.52 - ETA: 0s - loss: 2.4529 - custom_mae: 0.52 - ETA: 0s - loss: 2.4483 - custom_mae: 0.52 - ETA: 0s - loss: 2.4436 - custom_mae: 0.5252\n",
      "Epoch 00001: val_custom_mae improved from inf to 0.27028, saving model to ..\\fast_output\\SYNTH_Regression_MSE\\2020-05-28_Normalized_Base_Custom-MAE\\Best_Weights_FC_5.hdf5\n",
      "500/500 [==============================] - 40s 79ms/step - loss: 2.4436 - custom_mae: 0.5252 - val_loss: 0.1330 - val_custom_mae: 0.2703\n",
      "Time taken: 0:00:39.994921\n"
     ]
    },
    {
     "name": "stderr",
     "output_type": "stream",
     "text": [
      "\r",
      " 75%|██████████████████████████████████████████████████████████████▎                    | 6/8 [32:59<09:15, 277.78s/it]"
     ]
    },
    {
     "name": "stdout",
     "output_type": "stream",
     "text": [
      "{'activation': 'relu', 'batch_size': 64, 'dropout': 0.25, 'epochs': 1, 'first_neuron': 1024, 'hidden_layers': 0, 'label_type': 'Normalized', 'loss_function': 'mean_squared_error', 'lr': 1, 'monitor_value': 'val_custom_mae', 'optimizer': <class 'tensorflow.python.keras.optimizer_v2.adam.Adam'>, 'reduction_metric': 'custom_mae', 'samples': 20000}\n",
      "Using Loss: mean_squared_error \n",
      "and Reduction Metric: [<function custom_mae at 0x00000243913989D8>]\n",
      "Monitor: val_custom_mae\n"
     ]
    },
    {
     "name": "stdout",
     "output_type": "stream",
     "text": [
      "179/250 [====================>.........] - ETA: 0s - loss: 0.6388 - custom_mae: 0.64 - ETA: 9s - loss: 539.8857 - custom_mae: 12.965 - ETA: 13s - loss: 381.5588 - custom_mae: 10.72 - ETA: 14s - loss: 289.9378 - custom_mae: 8.8236 - ETA: 15s - loss: 236.9058 - custom_mae: 7.849 - ETA: 16s - loss: 202.1729 - custom_mae: 7.260 - ETA: 16s - loss: 177.0501 - custom_mae: 6.826 - ETA: 17s - loss: 157.1760 - custom_mae: 6.408 - ETA: 17s - loss: 141.1630 - custom_mae: 6.027 - ETA: 17s - loss: 127.7677 - custom_mae: 5.644 - ETA: 17s - loss: 116.5887 - custom_mae: 5.298 - ETA: 17s - loss: 107.0416 - custom_mae: 4.951 - ETA: 17s - loss: 98.9827 - custom_mae: 4.664 - ETA: 17s - loss: 92.2458 - custom_mae: 4.45 - ETA: 17s - loss: 86.4895 - custom_mae: 4.28 - ETA: 17s - loss: 81.5440 - custom_mae: 4.15 - ETA: 17s - loss: 76.9881 - custom_mae: 3.99 - ETA: 17s - loss: 72.8978 - custom_mae: 3.85 - ETA: 17s - loss: 69.2039 - custom_mae: 3.72 - ETA: 17s - loss: 65.8901 - custom_mae: 3.60 - ETA: 17s - loss: 62.8868 - custom_mae: 3.49 - ETA: 17s - loss: 60.1592 - custom_mae: 3.39 - ETA: 17s - loss: 57.6550 - custom_mae: 3.29 - ETA: 17s - loss: 55.3873 - custom_mae: 3.21 - ETA: 17s - loss: 53.2646 - custom_mae: 3.13 - ETA: 17s - loss: 51.2783 - custom_mae: 3.05 - ETA: 17s - loss: 49.4685 - custom_mae: 2.98 - ETA: 17s - loss: 47.7488 - custom_mae: 2.91 - ETA: 17s - loss: 46.1541 - custom_mae: 2.84 - ETA: 17s - loss: 44.7009 - custom_mae: 2.79 - ETA: 17s - loss: 43.3150 - custom_mae: 2.73 - ETA: 17s - loss: 42.0172 - custom_mae: 2.68 - ETA: 17s - loss: 40.7969 - custom_mae: 2.63 - ETA: 17s - loss: 39.6333 - custom_mae: 2.58 - ETA: 16s - loss: 38.5452 - custom_mae: 2.53 - ETA: 16s - loss: 37.5186 - custom_mae: 2.49 - ETA: 16s - loss: 36.5362 - custom_mae: 2.45 - ETA: 16s - loss: 35.6032 - custom_mae: 2.40 - ETA: 16s - loss: 34.7175 - custom_mae: 2.36 - ETA: 16s - loss: 33.8865 - custom_mae: 2.33 - ETA: 16s - loss: 33.0911 - custom_mae: 2.29 - ETA: 16s - loss: 32.3285 - custom_mae: 2.26 - ETA: 16s - loss: 31.6040 - custom_mae: 2.22 - ETA: 16s - loss: 30.9072 - custom_mae: 2.19 - ETA: 16s - loss: 30.2385 - custom_mae: 2.16 - ETA: 16s - loss: 29.5962 - custom_mae: 2.12 - ETA: 16s - loss: 28.9842 - custom_mae: 2.09 - ETA: 16s - loss: 28.3989 - custom_mae: 2.06 - ETA: 15s - loss: 27.8383 - custom_mae: 2.04 - ETA: 15s - loss: 27.2996 - custom_mae: 2.01 - ETA: 15s - loss: 26.7786 - custom_mae: 1.98 - ETA: 15s - loss: 26.2781 - custom_mae: 1.96 - ETA: 15s - loss: 25.7952 - custom_mae: 1.93 - ETA: 15s - loss: 25.3306 - custom_mae: 1.91 - ETA: 15s - loss: 24.8849 - custom_mae: 1.89 - ETA: 15s - loss: 24.4523 - custom_mae: 1.86 - ETA: 15s - loss: 24.0336 - custom_mae: 1.84 - ETA: 15s - loss: 23.6305 - custom_mae: 1.82 - ETA: 15s - loss: 23.2398 - custom_mae: 1.80 - ETA: 15s - loss: 22.8633 - custom_mae: 1.78 - ETA: 15s - loss: 22.4975 - custom_mae: 1.76 - ETA: 15s - loss: 22.1443 - custom_mae: 1.74 - ETA: 14s - loss: 21.8017 - custom_mae: 1.72 - ETA: 14s - loss: 21.4700 - custom_mae: 1.71 - ETA: 14s - loss: 21.1456 - custom_mae: 1.69 - ETA: 14s - loss: 20.8327 - custom_mae: 1.67 - ETA: 14s - loss: 20.5275 - custom_mae: 1.65 - ETA: 14s - loss: 20.2334 - custom_mae: 1.64 - ETA: 14s - loss: 19.9449 - custom_mae: 1.62 - ETA: 14s - loss: 19.6656 - custom_mae: 1.60 - ETA: 14s - loss: 19.3938 - custom_mae: 1.59 - ETA: 14s - loss: 19.1295 - custom_mae: 1.57 - ETA: 14s - loss: 18.8741 - custom_mae: 1.56 - ETA: 14s - loss: 18.6252 - custom_mae: 1.54 - ETA: 14s - loss: 18.3825 - custom_mae: 1.53 - ETA: 13s - loss: 18.1451 - custom_mae: 1.52 - ETA: 13s - loss: 17.9136 - custom_mae: 1.50 - ETA: 13s - loss: 17.6882 - custom_mae: 1.49 - ETA: 13s - loss: 17.4692 - custom_mae: 1.47 - ETA: 13s - loss: 17.2551 - custom_mae: 1.46 - ETA: 13s - loss: 17.0454 - custom_mae: 1.45 - ETA: 13s - loss: 16.8405 - custom_mae: 1.44 - ETA: 13s - loss: 16.6405 - custom_mae: 1.42 - ETA: 13s - loss: 16.4460 - custom_mae: 1.41 - ETA: 13s - loss: 16.2554 - custom_mae: 1.40 - ETA: 13s - loss: 16.0696 - custom_mae: 1.39 - ETA: 13s - loss: 15.8875 - custom_mae: 1.38 - ETA: 13s - loss: 15.7101 - custom_mae: 1.36 - ETA: 12s - loss: 15.5374 - custom_mae: 1.35 - ETA: 12s - loss: 15.3684 - custom_mae: 1.34 - ETA: 12s - loss: 15.2036 - custom_mae: 1.33 - ETA: 12s - loss: 15.0423 - custom_mae: 1.32 - ETA: 12s - loss: 14.8842 - custom_mae: 1.32 - ETA: 12s - loss: 14.7287 - custom_mae: 1.31 - ETA: 12s - loss: 14.5763 - custom_mae: 1.30 - ETA: 12s - loss: 14.4279 - custom_mae: 1.29 - ETA: 12s - loss: 14.2824 - custom_mae: 1.28 - ETA: 12s - loss: 14.1386 - custom_mae: 1.27 - ETA: 12s - loss: 13.9985 - custom_mae: 1.26 - ETA: 12s - loss: 13.8605 - custom_mae: 1.25 - ETA: 11s - loss: 13.7257 - custom_mae: 1.24 - ETA: 11s - loss: 13.5935 - custom_mae: 1.23 - ETA: 11s - loss: 13.4638 - custom_mae: 1.22 - ETA: 11s - loss: 13.3363 - custom_mae: 1.22 - ETA: 11s - loss: 13.2113 - custom_mae: 1.21 - ETA: 11s - loss: 13.0889 - custom_mae: 1.20 - ETA: 11s - loss: 12.9687 - custom_mae: 1.19 - ETA: 11s - loss: 12.8508 - custom_mae: 1.18 - ETA: 11s - loss: 12.7348 - custom_mae: 1.18 - ETA: 11s - loss: 12.6206 - custom_mae: 1.17 - ETA: 11s - loss: 12.5085 - custom_mae: 1.16 - ETA: 11s - loss: 12.3986 - custom_mae: 1.15 - ETA: 11s - loss: 12.2906 - custom_mae: 1.15 - ETA: 10s - loss: 12.1845 - custom_mae: 1.14 - ETA: 10s - loss: 12.0803 - custom_mae: 1.13 - ETA: 10s - loss: 11.9777 - custom_mae: 1.13 - ETA: 10s - loss: 11.8773 - custom_mae: 1.12 - ETA: 10s - loss: 11.7783 - custom_mae: 1.11 - ETA: 10s - loss: 11.6805 - custom_mae: 1.11 - ETA: 10s - loss: 11.5848 - custom_mae: 1.10 - ETA: 10s - loss: 11.4906 - custom_mae: 1.09 - ETA: 10s - loss: 11.3980 - custom_mae: 1.09 - ETA: 10s - loss: 11.3067 - custom_mae: 1.08 - ETA: 10s - loss: 11.2169 - custom_mae: 1.07 - ETA: 10s - loss: 11.1287 - custom_mae: 1.07 - ETA: 9s - loss: 11.0417 - custom_mae: 1.0666 - ETA: 9s - loss: 10.9562 - custom_mae: 1.060 - ETA: 9s - loss: 10.8719 - custom_mae: 1.055 - ETA: 9s - loss: 10.7890 - custom_mae: 1.049 - ETA: 9s - loss: 10.7076 - custom_mae: 1.044 - ETA: 9s - loss: 10.6271 - custom_mae: 1.038 - ETA: 9s - loss: 10.5478 - custom_mae: 1.033 - ETA: 9s - loss: 10.4699 - custom_mae: 1.027 - ETA: 9s - loss: 10.3934 - custom_mae: 1.022 - ETA: 9s - loss: 10.3180 - custom_mae: 1.017 - ETA: 9s - loss: 10.2435 - custom_mae: 1.012 - ETA: 9s - loss: 10.1699 - custom_mae: 1.007 - ETA: 9s - loss: 10.0972 - custom_mae: 1.001 - ETA: 8s - loss: 10.0261 - custom_mae: 0.997 - ETA: 8s - loss: 9.9555 - custom_mae: 0.992 - ETA: 8s - loss: 9.8860 - custom_mae: 0.98 - ETA: 8s - loss: 9.8176 - custom_mae: 0.98 - ETA: 8s - loss: 9.7499 - custom_mae: 0.97 - ETA: 8s - loss: 9.6832 - custom_mae: 0.97 - ETA: 8s - loss: 9.6173 - custom_mae: 0.96 - ETA: 8s - loss: 9.5528 - custom_mae: 0.96 - ETA: 8s - loss: 9.4888 - custom_mae: 0.95 - ETA: 8s - loss: 9.4258 - custom_mae: 0.95 - ETA: 8s - loss: 9.3637 - custom_mae: 0.95 - ETA: 8s - loss: 9.3023 - custom_mae: 0.94 - ETA: 8s - loss: 9.2416 - custom_mae: 0.94 - ETA: 7s - loss: 9.1822 - custom_mae: 0.93 - ETA: 7s - loss: 9.1233 - custom_mae: 0.93 - ETA: 7s - loss: 9.0653 - custom_mae: 0.92 - ETA: 7s - loss: 9.0078 - custom_mae: 0.92 - ETA: 7s - loss: 8.9511 - custom_mae: 0.92 - ETA: 7s - loss: 8.8952 - custom_mae: 0.91 - ETA: 7s - loss: 8.8399 - custom_mae: 0.91 - ETA: 7s - loss: 8.7856 - custom_mae: 0.91 - ETA: 7s - loss: 8.7317 - custom_mae: 0.90 - ETA: 7s - loss: 8.6784 - custom_mae: 0.90 - ETA: 7s - loss: 8.6257 - custom_mae: 0.89 - ETA: 7s - loss: 8.5738 - custom_mae: 0.89 - ETA: 6s - loss: 8.5225 - custom_mae: 0.89 - ETA: 6s - loss: 8.4716 - custom_mae: 0.88 - ETA: 6s - loss: 8.4213 - custom_mae: 0.88 - ETA: 6s - loss: 8.3717 - custom_mae: 0.88 - ETA: 6s - loss: 8.3229 - custom_mae: 0.87 - ETA: 6s - loss: 8.2744 - custom_mae: 0.87 - ETA: 6s - loss: 8.2265 - custom_mae: 0.86 - ETA: 6s - loss: 8.1791 - custom_mae: 0.86 - ETA: 6s - loss: 8.1323 - custom_mae: 0.86 - ETA: 6s - loss: 8.0861 - custom_mae: 0.85 - ETA: 6s - loss: 8.0405 - custom_mae: 0.85 - ETA: 6s - loss: 7.9955 - custom_mae: 0.85 - ETA: 5s - loss: 7.9508 - custom_mae: 0.84 - ETA: 5s - loss: 7.9068 - custom_mae: 0.84 - ETA: 5s - loss: 7.8633 - custom_mae: 0.84 - ETA: 5s - loss: 7.8200 - custom_mae: 0.8405"
     ]
    },
    {
     "name": "stdout",
     "output_type": "stream",
     "text": [
      "250/250 [==============================] - ETA: 5s - loss: 7.7774 - custom_mae: 0.83 - ETA: 5s - loss: 7.7353 - custom_mae: 0.83 - ETA: 5s - loss: 7.6936 - custom_mae: 0.83 - ETA: 5s - loss: 7.6523 - custom_mae: 0.82 - ETA: 5s - loss: 7.6116 - custom_mae: 0.82 - ETA: 5s - loss: 7.5713 - custom_mae: 0.82 - ETA: 5s - loss: 7.5312 - custom_mae: 0.81 - ETA: 5s - loss: 7.4920 - custom_mae: 0.81 - ETA: 5s - loss: 7.4528 - custom_mae: 0.81 - ETA: 4s - loss: 7.4141 - custom_mae: 0.81 - ETA: 4s - loss: 7.3759 - custom_mae: 0.80 - ETA: 4s - loss: 7.3381 - custom_mae: 0.80 - ETA: 4s - loss: 7.3005 - custom_mae: 0.80 - ETA: 4s - loss: 7.2634 - custom_mae: 0.80 - ETA: 4s - loss: 7.2266 - custom_mae: 0.79 - ETA: 4s - loss: 7.1904 - custom_mae: 0.79 - ETA: 4s - loss: 7.1546 - custom_mae: 0.79 - ETA: 4s - loss: 7.1189 - custom_mae: 0.78 - ETA: 4s - loss: 7.0836 - custom_mae: 0.78 - ETA: 4s - loss: 7.0485 - custom_mae: 0.78 - ETA: 4s - loss: 7.0139 - custom_mae: 0.78 - ETA: 3s - loss: 6.9796 - custom_mae: 0.77 - ETA: 3s - loss: 6.9457 - custom_mae: 0.77 - ETA: 3s - loss: 6.9120 - custom_mae: 0.77 - ETA: 3s - loss: 6.8788 - custom_mae: 0.77 - ETA: 3s - loss: 6.8460 - custom_mae: 0.76 - ETA: 3s - loss: 6.8132 - custom_mae: 0.76 - ETA: 3s - loss: 6.7808 - custom_mae: 0.76 - ETA: 3s - loss: 6.7488 - custom_mae: 0.76 - ETA: 3s - loss: 6.7170 - custom_mae: 0.75 - ETA: 3s - loss: 6.6857 - custom_mae: 0.75 - ETA: 3s - loss: 6.6547 - custom_mae: 0.75 - ETA: 3s - loss: 6.6241 - custom_mae: 0.75 - ETA: 3s - loss: 6.5935 - custom_mae: 0.74 - ETA: 2s - loss: 6.5634 - custom_mae: 0.74 - ETA: 2s - loss: 6.5335 - custom_mae: 0.74 - ETA: 2s - loss: 6.5037 - custom_mae: 0.74 - ETA: 2s - loss: 6.4744 - custom_mae: 0.74 - ETA: 2s - loss: 6.4453 - custom_mae: 0.73 - ETA: 2s - loss: 6.4164 - custom_mae: 0.73 - ETA: 2s - loss: 6.3879 - custom_mae: 0.73 - ETA: 2s - loss: 6.3596 - custom_mae: 0.73 - ETA: 2s - loss: 6.3315 - custom_mae: 0.73 - ETA: 2s - loss: 6.3036 - custom_mae: 0.72 - ETA: 2s - loss: 6.2761 - custom_mae: 0.72 - ETA: 2s - loss: 6.2489 - custom_mae: 0.72 - ETA: 1s - loss: 6.2219 - custom_mae: 0.72 - ETA: 1s - loss: 6.1951 - custom_mae: 0.72 - ETA: 1s - loss: 6.1685 - custom_mae: 0.71 - ETA: 1s - loss: 6.1423 - custom_mae: 0.71 - ETA: 1s - loss: 6.1162 - custom_mae: 0.71 - ETA: 1s - loss: 6.0903 - custom_mae: 0.71 - ETA: 1s - loss: 6.0646 - custom_mae: 0.71 - ETA: 1s - loss: 6.0392 - custom_mae: 0.70 - ETA: 1s - loss: 6.0139 - custom_mae: 0.70 - ETA: 1s - loss: 5.9888 - custom_mae: 0.70 - ETA: 1s - loss: 5.9640 - custom_mae: 0.70 - ETA: 1s - loss: 5.9397 - custom_mae: 0.70 - ETA: 0s - loss: 5.9155 - custom_mae: 0.69 - ETA: 0s - loss: 5.8913 - custom_mae: 0.69 - ETA: 0s - loss: 5.8674 - custom_mae: 0.69 - ETA: 0s - loss: 5.8435 - custom_mae: 0.69 - ETA: 0s - loss: 5.8200 - custom_mae: 0.69 - ETA: 0s - loss: 5.7968 - custom_mae: 0.69 - ETA: 0s - loss: 5.7736 - custom_mae: 0.68 - ETA: 0s - loss: 5.7506 - custom_mae: 0.68 - ETA: 0s - loss: 5.7278 - custom_mae: 0.68 - ETA: 0s - loss: 5.7051 - custom_mae: 0.68 - ETA: 0s - loss: 5.6826 - custom_mae: 0.68 - ETA: 0s - loss: 5.6604 - custom_mae: 0.68 - ETA: 0s - loss: 5.6382 - custom_mae: 0.6793\n",
      "Epoch 00001: val_custom_mae improved from inf to 0.24595, saving model to ..\\fast_output\\SYNTH_Regression_MSE\\2020-05-28_Normalized_Base_Custom-MAE\\Best_Weights_FC_6.hdf5\n",
      "250/250 [==============================] - 22s 88ms/step - loss: 5.6382 - custom_mae: 0.6793 - val_loss: 0.1213 - val_custom_mae: 0.2459\n",
      "Time taken: 0:00:22.224742\n"
     ]
    },
    {
     "name": "stderr",
     "output_type": "stream",
     "text": [
      "\r",
      " 88%|████████████████████████████████████████████████████████████████████████▋          | 7/8 [33:23<03:21, 201.60s/it]"
     ]
    },
    {
     "name": "stdout",
     "output_type": "stream",
     "text": [
      "{'activation': 'relu', 'batch_size': 64, 'dropout': 0.5, 'epochs': 1, 'first_neuron': 1024, 'hidden_layers': 0, 'label_type': 'Normalized', 'loss_function': 'mean_squared_error', 'lr': 1, 'monitor_value': 'val_custom_mae', 'optimizer': <class 'tensorflow.python.keras.optimizer_v2.adam.Adam'>, 'reduction_metric': 'custom_mae', 'samples': 20000}\n",
      "Using Loss: mean_squared_error \n",
      "and Reduction Metric: [<function custom_mae at 0x00000243913989D8>]\n",
      "Monitor: val_custom_mae\n"
     ]
    },
    {
     "name": "stdout",
     "output_type": "stream",
     "text": [
      "179/250 [====================>.........] - ETA: 0s - loss: 0.8858 - custom_mae: 0.76 - ETA: 10s - loss: 435.1168 - custom_mae: 11.66 - ETA: 13s - loss: 303.4360 - custom_mae: 9.4685 - ETA: 15s - loss: 235.6968 - custom_mae: 8.269 - ETA: 16s - loss: 196.7883 - custom_mae: 7.639 - ETA: 16s - loss: 171.0172 - custom_mae: 7.240 - ETA: 17s - loss: 152.6414 - custom_mae: 6.960 - ETA: 17s - loss: 137.7590 - custom_mae: 6.670 - ETA: 17s - loss: 125.1397 - custom_mae: 6.376 - ETA: 17s - loss: 114.0543 - custom_mae: 6.037 - ETA: 17s - loss: 104.5109 - custom_mae: 5.704 - ETA: 18s - loss: 96.1171 - custom_mae: 5.364 - ETA: 18s - loss: 89.1000 - custom_mae: 5.08 - ETA: 18s - loss: 83.4080 - custom_mae: 4.89 - ETA: 18s - loss: 78.5006 - custom_mae: 4.72 - ETA: 18s - loss: 74.3529 - custom_mae: 4.59 - ETA: 18s - loss: 70.4328 - custom_mae: 4.45 - ETA: 18s - loss: 66.9863 - custom_mae: 4.32 - ETA: 18s - loss: 63.8211 - custom_mae: 4.19 - ETA: 18s - loss: 60.9465 - custom_mae: 4.08 - ETA: 18s - loss: 58.2255 - custom_mae: 3.96 - ETA: 17s - loss: 55.7039 - custom_mae: 3.84 - ETA: 17s - loss: 53.4008 - custom_mae: 3.73 - ETA: 17s - loss: 51.3121 - custom_mae: 3.63 - ETA: 17s - loss: 49.3806 - custom_mae: 3.54 - ETA: 17s - loss: 47.5677 - custom_mae: 3.44 - ETA: 17s - loss: 45.8985 - custom_mae: 3.36 - ETA: 17s - loss: 44.3164 - custom_mae: 3.27 - ETA: 17s - loss: 42.8389 - custom_mae: 3.19 - ETA: 17s - loss: 41.4732 - custom_mae: 3.12 - ETA: 17s - loss: 40.1835 - custom_mae: 3.05 - ETA: 17s - loss: 38.9684 - custom_mae: 2.98 - ETA: 17s - loss: 37.8163 - custom_mae: 2.92 - ETA: 17s - loss: 36.7377 - custom_mae: 2.85 - ETA: 17s - loss: 35.7148 - custom_mae: 2.79 - ETA: 17s - loss: 34.7472 - custom_mae: 2.74 - ETA: 17s - loss: 33.8299 - custom_mae: 2.68 - ETA: 17s - loss: 32.9605 - custom_mae: 2.63 - ETA: 17s - loss: 32.1352 - custom_mae: 2.58 - ETA: 16s - loss: 31.3474 - custom_mae: 2.53 - ETA: 16s - loss: 30.6001 - custom_mae: 2.48 - ETA: 16s - loss: 29.8913 - custom_mae: 2.44 - ETA: 16s - loss: 29.2096 - custom_mae: 2.40 - ETA: 16s - loss: 28.5577 - custom_mae: 2.36 - ETA: 16s - loss: 27.9329 - custom_mae: 2.32 - ETA: 16s - loss: 27.3372 - custom_mae: 2.28 - ETA: 16s - loss: 26.7628 - custom_mae: 2.24 - ETA: 16s - loss: 26.2148 - custom_mae: 2.20 - ETA: 16s - loss: 25.6880 - custom_mae: 2.17 - ETA: 16s - loss: 25.1832 - custom_mae: 2.14 - ETA: 16s - loss: 24.6972 - custom_mae: 2.11 - ETA: 16s - loss: 24.2282 - custom_mae: 2.07 - ETA: 16s - loss: 23.7772 - custom_mae: 2.04 - ETA: 15s - loss: 23.3435 - custom_mae: 2.01 - ETA: 15s - loss: 22.9248 - custom_mae: 1.99 - ETA: 15s - loss: 22.5209 - custom_mae: 1.96 - ETA: 15s - loss: 22.1317 - custom_mae: 1.93 - ETA: 15s - loss: 21.7556 - custom_mae: 1.91 - ETA: 15s - loss: 21.3924 - custom_mae: 1.88 - ETA: 15s - loss: 21.0410 - custom_mae: 1.86 - ETA: 15s - loss: 20.7007 - custom_mae: 1.84 - ETA: 15s - loss: 20.3711 - custom_mae: 1.81 - ETA: 15s - loss: 20.0532 - custom_mae: 1.79 - ETA: 15s - loss: 19.7446 - custom_mae: 1.77 - ETA: 15s - loss: 19.4452 - custom_mae: 1.75 - ETA: 15s - loss: 19.1547 - custom_mae: 1.73 - ETA: 14s - loss: 18.8731 - custom_mae: 1.71 - ETA: 14s - loss: 18.6010 - custom_mae: 1.69 - ETA: 14s - loss: 18.3351 - custom_mae: 1.67 - ETA: 14s - loss: 18.0767 - custom_mae: 1.66 - ETA: 14s - loss: 17.8257 - custom_mae: 1.64 - ETA: 14s - loss: 17.5820 - custom_mae: 1.62 - ETA: 14s - loss: 17.3440 - custom_mae: 1.60 - ETA: 14s - loss: 17.1132 - custom_mae: 1.59 - ETA: 14s - loss: 16.8880 - custom_mae: 1.57 - ETA: 14s - loss: 16.6693 - custom_mae: 1.56 - ETA: 14s - loss: 16.4563 - custom_mae: 1.54 - ETA: 14s - loss: 16.2481 - custom_mae: 1.53 - ETA: 14s - loss: 16.0457 - custom_mae: 1.51 - ETA: 13s - loss: 15.8490 - custom_mae: 1.50 - ETA: 13s - loss: 15.6564 - custom_mae: 1.49 - ETA: 13s - loss: 15.4683 - custom_mae: 1.47 - ETA: 13s - loss: 15.2846 - custom_mae: 1.46 - ETA: 13s - loss: 15.1063 - custom_mae: 1.45 - ETA: 13s - loss: 14.9318 - custom_mae: 1.44 - ETA: 13s - loss: 14.7611 - custom_mae: 1.42 - ETA: 13s - loss: 14.5942 - custom_mae: 1.41 - ETA: 13s - loss: 14.4312 - custom_mae: 1.40 - ETA: 13s - loss: 14.2719 - custom_mae: 1.39 - ETA: 13s - loss: 14.1163 - custom_mae: 1.38 - ETA: 13s - loss: 13.9642 - custom_mae: 1.37 - ETA: 12s - loss: 13.8153 - custom_mae: 1.36 - ETA: 12s - loss: 13.6695 - custom_mae: 1.35 - ETA: 12s - loss: 13.5268 - custom_mae: 1.34 - ETA: 12s - loss: 13.3870 - custom_mae: 1.33 - ETA: 12s - loss: 13.2504 - custom_mae: 1.32 - ETA: 12s - loss: 13.1163 - custom_mae: 1.31 - ETA: 12s - loss: 12.9847 - custom_mae: 1.30 - ETA: 12s - loss: 12.8562 - custom_mae: 1.29 - ETA: 12s - loss: 12.7299 - custom_mae: 1.28 - ETA: 12s - loss: 12.6061 - custom_mae: 1.27 - ETA: 12s - loss: 12.4847 - custom_mae: 1.26 - ETA: 12s - loss: 12.3657 - custom_mae: 1.26 - ETA: 12s - loss: 12.2490 - custom_mae: 1.25 - ETA: 11s - loss: 12.1343 - custom_mae: 1.24 - ETA: 11s - loss: 12.0215 - custom_mae: 1.23 - ETA: 11s - loss: 11.9115 - custom_mae: 1.22 - ETA: 11s - loss: 11.8033 - custom_mae: 1.21 - ETA: 11s - loss: 11.6967 - custom_mae: 1.21 - ETA: 11s - loss: 11.5925 - custom_mae: 1.20 - ETA: 11s - loss: 11.4901 - custom_mae: 1.19 - ETA: 11s - loss: 11.3894 - custom_mae: 1.18 - ETA: 11s - loss: 11.2908 - custom_mae: 1.18 - ETA: 11s - loss: 11.1935 - custom_mae: 1.17 - ETA: 11s - loss: 11.0981 - custom_mae: 1.16 - ETA: 11s - loss: 11.0044 - custom_mae: 1.16 - ETA: 10s - loss: 10.9122 - custom_mae: 1.15 - ETA: 10s - loss: 10.8217 - custom_mae: 1.14 - ETA: 10s - loss: 10.7324 - custom_mae: 1.14 - ETA: 10s - loss: 10.6449 - custom_mae: 1.13 - ETA: 10s - loss: 10.5590 - custom_mae: 1.12 - ETA: 10s - loss: 10.4743 - custom_mae: 1.12 - ETA: 10s - loss: 10.3906 - custom_mae: 1.11 - ETA: 10s - loss: 10.3086 - custom_mae: 1.11 - ETA: 10s - loss: 10.2278 - custom_mae: 1.10 - ETA: 10s - loss: 10.1484 - custom_mae: 1.09 - ETA: 10s - loss: 10.0703 - custom_mae: 1.09 - ETA: 10s - loss: 9.9931 - custom_mae: 1.0882 - ETA: 9s - loss: 9.9174 - custom_mae: 1.082 - ETA: 9s - loss: 9.8431 - custom_mae: 1.07 - ETA: 9s - loss: 9.7695 - custom_mae: 1.07 - ETA: 9s - loss: 9.6971 - custom_mae: 1.06 - ETA: 9s - loss: 9.6256 - custom_mae: 1.06 - ETA: 9s - loss: 9.5557 - custom_mae: 1.05 - ETA: 9s - loss: 9.4868 - custom_mae: 1.05 - ETA: 9s - loss: 9.4185 - custom_mae: 1.04 - ETA: 9s - loss: 9.3512 - custom_mae: 1.04 - ETA: 9s - loss: 9.2849 - custom_mae: 1.03 - ETA: 9s - loss: 9.2198 - custom_mae: 1.03 - ETA: 9s - loss: 9.1555 - custom_mae: 1.02 - ETA: 8s - loss: 9.0918 - custom_mae: 1.02 - ETA: 8s - loss: 9.0290 - custom_mae: 1.01 - ETA: 8s - loss: 8.9672 - custom_mae: 1.01 - ETA: 8s - loss: 8.9062 - custom_mae: 1.00 - ETA: 8s - loss: 8.8459 - custom_mae: 1.00 - ETA: 8s - loss: 8.7869 - custom_mae: 0.99 - ETA: 8s - loss: 8.7285 - custom_mae: 0.99 - ETA: 8s - loss: 8.6709 - custom_mae: 0.99 - ETA: 8s - loss: 8.6141 - custom_mae: 0.98 - ETA: 8s - loss: 8.5580 - custom_mae: 0.98 - ETA: 8s - loss: 8.5027 - custom_mae: 0.97 - ETA: 8s - loss: 8.4483 - custom_mae: 0.97 - ETA: 8s - loss: 8.3945 - custom_mae: 0.97 - ETA: 7s - loss: 8.3416 - custom_mae: 0.96 - ETA: 7s - loss: 8.2890 - custom_mae: 0.96 - ETA: 7s - loss: 8.2375 - custom_mae: 0.95 - ETA: 7s - loss: 8.1865 - custom_mae: 0.95 - ETA: 7s - loss: 8.1360 - custom_mae: 0.95 - ETA: 7s - loss: 8.0863 - custom_mae: 0.94 - ETA: 7s - loss: 8.0370 - custom_mae: 0.94 - ETA: 7s - loss: 7.9884 - custom_mae: 0.94 - ETA: 7s - loss: 7.9402 - custom_mae: 0.93 - ETA: 7s - loss: 7.8927 - custom_mae: 0.93 - ETA: 7s - loss: 7.8459 - custom_mae: 0.92 - ETA: 7s - loss: 7.7995 - custom_mae: 0.92 - ETA: 6s - loss: 7.7537 - custom_mae: 0.92 - ETA: 6s - loss: 7.7088 - custom_mae: 0.91 - ETA: 6s - loss: 7.6642 - custom_mae: 0.91 - ETA: 6s - loss: 7.6199 - custom_mae: 0.91 - ETA: 6s - loss: 7.5761 - custom_mae: 0.90 - ETA: 6s - loss: 7.5329 - custom_mae: 0.90 - ETA: 6s - loss: 7.4900 - custom_mae: 0.90 - ETA: 6s - loss: 7.4478 - custom_mae: 0.89 - ETA: 6s - loss: 7.4061 - custom_mae: 0.89 - ETA: 6s - loss: 7.3649 - custom_mae: 0.89 - ETA: 6s - loss: 7.3246 - custom_mae: 0.89 - ETA: 6s - loss: 7.2844 - custom_mae: 0.88 - ETA: 5s - loss: 7.2447 - custom_mae: 0.88 - ETA: 5s - loss: 7.2051 - custom_mae: 0.8812"
     ]
    },
    {
     "name": "stdout",
     "output_type": "stream",
     "text": [
      "250/250 [==============================] - ETA: 5s - loss: 7.1662 - custom_mae: 0.87 - ETA: 5s - loss: 7.1276 - custom_mae: 0.87 - ETA: 5s - loss: 7.0895 - custom_mae: 0.87 - ETA: 5s - loss: 7.0518 - custom_mae: 0.86 - ETA: 5s - loss: 7.0146 - custom_mae: 0.86 - ETA: 5s - loss: 6.9779 - custom_mae: 0.86 - ETA: 5s - loss: 6.9414 - custom_mae: 0.86 - ETA: 5s - loss: 6.9057 - custom_mae: 0.85 - ETA: 5s - loss: 6.8698 - custom_mae: 0.85 - ETA: 5s - loss: 6.8345 - custom_mae: 0.85 - ETA: 4s - loss: 6.7995 - custom_mae: 0.85 - ETA: 4s - loss: 6.7649 - custom_mae: 0.84 - ETA: 4s - loss: 6.7307 - custom_mae: 0.84 - ETA: 4s - loss: 6.6969 - custom_mae: 0.84 - ETA: 4s - loss: 6.6633 - custom_mae: 0.84 - ETA: 4s - loss: 6.6304 - custom_mae: 0.83 - ETA: 4s - loss: 6.5978 - custom_mae: 0.83 - ETA: 4s - loss: 6.5651 - custom_mae: 0.83 - ETA: 4s - loss: 6.5328 - custom_mae: 0.83 - ETA: 4s - loss: 6.5009 - custom_mae: 0.82 - ETA: 4s - loss: 6.4691 - custom_mae: 0.82 - ETA: 4s - loss: 6.4379 - custom_mae: 0.82 - ETA: 3s - loss: 6.4069 - custom_mae: 0.82 - ETA: 3s - loss: 6.3760 - custom_mae: 0.81 - ETA: 3s - loss: 6.3455 - custom_mae: 0.81 - ETA: 3s - loss: 6.3158 - custom_mae: 0.81 - ETA: 3s - loss: 6.2860 - custom_mae: 0.81 - ETA: 3s - loss: 6.2564 - custom_mae: 0.80 - ETA: 3s - loss: 6.2271 - custom_mae: 0.80 - ETA: 3s - loss: 6.1981 - custom_mae: 0.80 - ETA: 3s - loss: 6.1694 - custom_mae: 0.80 - ETA: 3s - loss: 6.1412 - custom_mae: 0.79 - ETA: 3s - loss: 6.1131 - custom_mae: 0.79 - ETA: 3s - loss: 6.0850 - custom_mae: 0.79 - ETA: 2s - loss: 6.0575 - custom_mae: 0.79 - ETA: 2s - loss: 6.0300 - custom_mae: 0.79 - ETA: 2s - loss: 6.0029 - custom_mae: 0.78 - ETA: 2s - loss: 5.9759 - custom_mae: 0.78 - ETA: 2s - loss: 5.9493 - custom_mae: 0.78 - ETA: 2s - loss: 5.9231 - custom_mae: 0.78 - ETA: 2s - loss: 5.8971 - custom_mae: 0.77 - ETA: 2s - loss: 5.8711 - custom_mae: 0.77 - ETA: 2s - loss: 5.8455 - custom_mae: 0.77 - ETA: 2s - loss: 5.8201 - custom_mae: 0.77 - ETA: 2s - loss: 5.7949 - custom_mae: 0.77 - ETA: 2s - loss: 5.7702 - custom_mae: 0.77 - ETA: 1s - loss: 5.7454 - custom_mae: 0.76 - ETA: 1s - loss: 5.7209 - custom_mae: 0.76 - ETA: 1s - loss: 5.6967 - custom_mae: 0.76 - ETA: 1s - loss: 5.6727 - custom_mae: 0.76 - ETA: 1s - loss: 5.6488 - custom_mae: 0.76 - ETA: 1s - loss: 5.6251 - custom_mae: 0.75 - ETA: 1s - loss: 5.6017 - custom_mae: 0.75 - ETA: 1s - loss: 5.5784 - custom_mae: 0.75 - ETA: 1s - loss: 5.5552 - custom_mae: 0.75 - ETA: 1s - loss: 5.5321 - custom_mae: 0.75 - ETA: 1s - loss: 5.5093 - custom_mae: 0.74 - ETA: 1s - loss: 5.4870 - custom_mae: 0.74 - ETA: 0s - loss: 5.4650 - custom_mae: 0.74 - ETA: 0s - loss: 5.4429 - custom_mae: 0.74 - ETA: 0s - loss: 5.4209 - custom_mae: 0.74 - ETA: 0s - loss: 5.3992 - custom_mae: 0.74 - ETA: 0s - loss: 5.3777 - custom_mae: 0.73 - ETA: 0s - loss: 5.3564 - custom_mae: 0.73 - ETA: 0s - loss: 5.3353 - custom_mae: 0.73 - ETA: 0s - loss: 5.3142 - custom_mae: 0.73 - ETA: 0s - loss: 5.2933 - custom_mae: 0.73 - ETA: 0s - loss: 5.2724 - custom_mae: 0.73 - ETA: 0s - loss: 5.2518 - custom_mae: 0.72 - ETA: 0s - loss: 5.2314 - custom_mae: 0.72 - ETA: 0s - loss: 5.2111 - custom_mae: 0.7257\n",
      "Epoch 00001: val_custom_mae improved from inf to 0.28252, saving model to ..\\fast_output\\SYNTH_Regression_MSE\\2020-05-28_Normalized_Base_Custom-MAE\\Best_Weights_FC_7.hdf5\n",
      "250/250 [==============================] - 22s 90ms/step - loss: 5.2111 - custom_mae: 0.7257 - val_loss: 0.1428 - val_custom_mae: 0.2825\n",
      "Time taken: 0:00:22.715250\n"
     ]
    },
    {
     "name": "stderr",
     "output_type": "stream",
     "text": [
      "100%|███████████████████████████████████████████████████████████████████████████████████| 8/8 [33:47<00:00, 253.46s/it]\n"
     ]
    }
   ],
   "source": [
    "import numpy as np\n",
    "dummy_x = np.empty((1, 2, 3, 224, 224))\n",
    "dummy_y = np.empty((1, 2))\n",
    "\n",
    "with tf.device('/device:GPU:0'):\n",
    "    \n",
    "        t = ta.Scan(\n",
    "            x = dummy_x,\n",
    "            y = dummy_y,\n",
    "            model = grid_model_base,\n",
    "            params = hyper_parameter,\n",
    "            experiment_name = '{}'.format(_DATASET_NAME),\n",
    "            #shuffle=False,\n",
    "            reduction_metric = hyper_parameter['reduction_metric'][0],\n",
    "            disable_progress_bar = False,\n",
    "            print_params = True,\n",
    "            clear_session = True,\n",
    "            save_weights = False\n",
    "        )\n",
    "        \n",
    "\n",
    "t.data.to_csv(_LOG_DIR + _RESULTS_FILE, index = True)"
   ]
  },
  {
   "cell_type": "markdown",
   "metadata": {},
   "source": [
    "# Copy best 10 Results to NAS if SSD Directory was selected"
   ]
  },
  {
   "cell_type": "code",
   "execution_count": 16,
   "metadata": {},
   "outputs": [
    {
     "name": "stdout",
     "output_type": "stream",
     "text": [
      "Displaying: ..\\fast_output\\SYNTH_Regression_MSE\\2020-05-28_Normalized_Base_Custom-MAE\\..\\2020-05-28_Normalized_Base_Custom-MAE_Results.csv\n"
     ]
    },
    {
     "data": {
      "text/html": [
       "<div>\n",
       "<style scoped>\n",
       "    .dataframe tbody tr th:only-of-type {\n",
       "        vertical-align: middle;\n",
       "    }\n",
       "\n",
       "    .dataframe tbody tr th {\n",
       "        vertical-align: top;\n",
       "    }\n",
       "\n",
       "    .dataframe thead th {\n",
       "        text-align: right;\n",
       "    }\n",
       "</style>\n",
       "<table border=\"1\" class=\"dataframe\">\n",
       "  <thead>\n",
       "    <tr style=\"text-align: right;\">\n",
       "      <th></th>\n",
       "      <th>Unnamed: 0</th>\n",
       "      <th>start</th>\n",
       "      <th>end</th>\n",
       "      <th>duration</th>\n",
       "      <th>loss</th>\n",
       "      <th>custom_mae</th>\n",
       "      <th>val_loss</th>\n",
       "      <th>val_custom_mae</th>\n",
       "      <th>activation</th>\n",
       "      <th>batch_size</th>\n",
       "      <th>dropout</th>\n",
       "      <th>first_neuron</th>\n",
       "      <th>hidden_layers</th>\n",
       "      <th>label_type</th>\n",
       "      <th>loss_function</th>\n",
       "      <th>lr</th>\n",
       "      <th>monitor_value</th>\n",
       "      <th>optimizer</th>\n",
       "      <th>reduction_metric</th>\n",
       "    </tr>\n",
       "  </thead>\n",
       "  <tbody>\n",
       "    <tr>\n",
       "      <td>4</td>\n",
       "      <td>4</td>\n",
       "      <td>12/09/20-093859</td>\n",
       "      <td>12/09/20-093940</td>\n",
       "      <td>41.077978</td>\n",
       "      <td>2.714420</td>\n",
       "      <td>0.479261</td>\n",
       "      <td>0.116606</td>\n",
       "      <td>0.242770</td>\n",
       "      <td>relu</td>\n",
       "      <td>32</td>\n",
       "      <td>0.25</td>\n",
       "      <td>1024</td>\n",
       "      <td>0</td>\n",
       "      <td>Normalized</td>\n",
       "      <td>mean_squared_error</td>\n",
       "      <td>1</td>\n",
       "      <td>val_custom_mae</td>\n",
       "      <td>&lt;class 'tensorflow.python.keras.optimizer_v2.a...</td>\n",
       "      <td>custom_mae</td>\n",
       "    </tr>\n",
       "    <tr>\n",
       "      <td>6</td>\n",
       "      <td>6</td>\n",
       "      <td>12/09/20-094022</td>\n",
       "      <td>12/09/20-094046</td>\n",
       "      <td>23.500743</td>\n",
       "      <td>5.638185</td>\n",
       "      <td>0.679268</td>\n",
       "      <td>0.121281</td>\n",
       "      <td>0.245946</td>\n",
       "      <td>relu</td>\n",
       "      <td>64</td>\n",
       "      <td>0.25</td>\n",
       "      <td>1024</td>\n",
       "      <td>0</td>\n",
       "      <td>Normalized</td>\n",
       "      <td>mean_squared_error</td>\n",
       "      <td>1</td>\n",
       "      <td>val_custom_mae</td>\n",
       "      <td>&lt;class 'tensorflow.python.keras.optimizer_v2.a...</td>\n",
       "      <td>custom_mae</td>\n",
       "    </tr>\n",
       "    <tr>\n",
       "      <td>5</td>\n",
       "      <td>5</td>\n",
       "      <td>12/09/20-093941</td>\n",
       "      <td>12/09/20-094022</td>\n",
       "      <td>41.251921</td>\n",
       "      <td>2.443644</td>\n",
       "      <td>0.525243</td>\n",
       "      <td>0.133008</td>\n",
       "      <td>0.270280</td>\n",
       "      <td>relu</td>\n",
       "      <td>32</td>\n",
       "      <td>0.50</td>\n",
       "      <td>1024</td>\n",
       "      <td>0</td>\n",
       "      <td>Normalized</td>\n",
       "      <td>mean_squared_error</td>\n",
       "      <td>1</td>\n",
       "      <td>val_custom_mae</td>\n",
       "      <td>&lt;class 'tensorflow.python.keras.optimizer_v2.a...</td>\n",
       "      <td>custom_mae</td>\n",
       "    </tr>\n",
       "    <tr>\n",
       "      <td>7</td>\n",
       "      <td>7</td>\n",
       "      <td>12/09/20-094046</td>\n",
       "      <td>12/09/20-094110</td>\n",
       "      <td>23.965750</td>\n",
       "      <td>5.211095</td>\n",
       "      <td>0.725741</td>\n",
       "      <td>0.142764</td>\n",
       "      <td>0.282519</td>\n",
       "      <td>relu</td>\n",
       "      <td>64</td>\n",
       "      <td>0.50</td>\n",
       "      <td>1024</td>\n",
       "      <td>0</td>\n",
       "      <td>Normalized</td>\n",
       "      <td>mean_squared_error</td>\n",
       "      <td>1</td>\n",
       "      <td>val_custom_mae</td>\n",
       "      <td>&lt;class 'tensorflow.python.keras.optimizer_v2.a...</td>\n",
       "      <td>custom_mae</td>\n",
       "    </tr>\n",
       "    <tr>\n",
       "      <td>1</td>\n",
       "      <td>1</td>\n",
       "      <td>12/09/20-092309</td>\n",
       "      <td>12/09/20-092350</td>\n",
       "      <td>41.071499</td>\n",
       "      <td>7.006359</td>\n",
       "      <td>1.277110</td>\n",
       "      <td>0.158711</td>\n",
       "      <td>0.302616</td>\n",
       "      <td>leakyrelu</td>\n",
       "      <td>32</td>\n",
       "      <td>0.50</td>\n",
       "      <td>1024</td>\n",
       "      <td>0</td>\n",
       "      <td>Normalized</td>\n",
       "      <td>mean_squared_error</td>\n",
       "      <td>1</td>\n",
       "      <td>val_custom_mae</td>\n",
       "      <td>&lt;class 'tensorflow.python.keras.optimizer_v2.a...</td>\n",
       "      <td>custom_mae</td>\n",
       "    </tr>\n",
       "    <tr>\n",
       "      <td>2</td>\n",
       "      <td>2</td>\n",
       "      <td>12/09/20-092351</td>\n",
       "      <td>12/09/20-093835</td>\n",
       "      <td>884.509856</td>\n",
       "      <td>12.850731</td>\n",
       "      <td>1.252772</td>\n",
       "      <td>0.168039</td>\n",
       "      <td>0.316974</td>\n",
       "      <td>leakyrelu</td>\n",
       "      <td>64</td>\n",
       "      <td>0.25</td>\n",
       "      <td>1024</td>\n",
       "      <td>0</td>\n",
       "      <td>Normalized</td>\n",
       "      <td>mean_squared_error</td>\n",
       "      <td>1</td>\n",
       "      <td>val_custom_mae</td>\n",
       "      <td>&lt;class 'tensorflow.python.keras.optimizer_v2.a...</td>\n",
       "      <td>custom_mae</td>\n",
       "    </tr>\n",
       "    <tr>\n",
       "      <td>0</td>\n",
       "      <td>0</td>\n",
       "      <td>12/09/20-090723</td>\n",
       "      <td>12/09/20-092309</td>\n",
       "      <td>946.496623</td>\n",
       "      <td>6.604711</td>\n",
       "      <td>0.991875</td>\n",
       "      <td>0.167170</td>\n",
       "      <td>0.319055</td>\n",
       "      <td>leakyrelu</td>\n",
       "      <td>32</td>\n",
       "      <td>0.25</td>\n",
       "      <td>1024</td>\n",
       "      <td>0</td>\n",
       "      <td>Normalized</td>\n",
       "      <td>mean_squared_error</td>\n",
       "      <td>1</td>\n",
       "      <td>val_custom_mae</td>\n",
       "      <td>&lt;class 'tensorflow.python.keras.optimizer_v2.a...</td>\n",
       "      <td>custom_mae</td>\n",
       "    </tr>\n",
       "    <tr>\n",
       "      <td>3</td>\n",
       "      <td>3</td>\n",
       "      <td>12/09/20-093836</td>\n",
       "      <td>12/09/20-093859</td>\n",
       "      <td>23.120344</td>\n",
       "      <td>13.420115</td>\n",
       "      <td>1.614795</td>\n",
       "      <td>0.179288</td>\n",
       "      <td>0.325059</td>\n",
       "      <td>leakyrelu</td>\n",
       "      <td>64</td>\n",
       "      <td>0.50</td>\n",
       "      <td>1024</td>\n",
       "      <td>0</td>\n",
       "      <td>Normalized</td>\n",
       "      <td>mean_squared_error</td>\n",
       "      <td>1</td>\n",
       "      <td>val_custom_mae</td>\n",
       "      <td>&lt;class 'tensorflow.python.keras.optimizer_v2.a...</td>\n",
       "      <td>custom_mae</td>\n",
       "    </tr>\n",
       "  </tbody>\n",
       "</table>\n",
       "</div>"
      ],
      "text/plain": [
       "   Unnamed: 0            start              end    duration       loss  \\\n",
       "4           4  12/09/20-093859  12/09/20-093940   41.077978   2.714420   \n",
       "6           6  12/09/20-094022  12/09/20-094046   23.500743   5.638185   \n",
       "5           5  12/09/20-093941  12/09/20-094022   41.251921   2.443644   \n",
       "7           7  12/09/20-094046  12/09/20-094110   23.965750   5.211095   \n",
       "1           1  12/09/20-092309  12/09/20-092350   41.071499   7.006359   \n",
       "2           2  12/09/20-092351  12/09/20-093835  884.509856  12.850731   \n",
       "0           0  12/09/20-090723  12/09/20-092309  946.496623   6.604711   \n",
       "3           3  12/09/20-093836  12/09/20-093859   23.120344  13.420115   \n",
       "\n",
       "   custom_mae  val_loss  val_custom_mae activation  batch_size  dropout  \\\n",
       "4    0.479261  0.116606        0.242770       relu          32     0.25   \n",
       "6    0.679268  0.121281        0.245946       relu          64     0.25   \n",
       "5    0.525243  0.133008        0.270280       relu          32     0.50   \n",
       "7    0.725741  0.142764        0.282519       relu          64     0.50   \n",
       "1    1.277110  0.158711        0.302616  leakyrelu          32     0.50   \n",
       "2    1.252772  0.168039        0.316974  leakyrelu          64     0.25   \n",
       "0    0.991875  0.167170        0.319055  leakyrelu          32     0.25   \n",
       "3    1.614795  0.179288        0.325059  leakyrelu          64     0.50   \n",
       "\n",
       "   first_neuron  hidden_layers  label_type       loss_function  lr  \\\n",
       "4          1024              0  Normalized  mean_squared_error   1   \n",
       "6          1024              0  Normalized  mean_squared_error   1   \n",
       "5          1024              0  Normalized  mean_squared_error   1   \n",
       "7          1024              0  Normalized  mean_squared_error   1   \n",
       "1          1024              0  Normalized  mean_squared_error   1   \n",
       "2          1024              0  Normalized  mean_squared_error   1   \n",
       "0          1024              0  Normalized  mean_squared_error   1   \n",
       "3          1024              0  Normalized  mean_squared_error   1   \n",
       "\n",
       "    monitor_value                                          optimizer  \\\n",
       "4  val_custom_mae  <class 'tensorflow.python.keras.optimizer_v2.a...   \n",
       "6  val_custom_mae  <class 'tensorflow.python.keras.optimizer_v2.a...   \n",
       "5  val_custom_mae  <class 'tensorflow.python.keras.optimizer_v2.a...   \n",
       "7  val_custom_mae  <class 'tensorflow.python.keras.optimizer_v2.a...   \n",
       "1  val_custom_mae  <class 'tensorflow.python.keras.optimizer_v2.a...   \n",
       "2  val_custom_mae  <class 'tensorflow.python.keras.optimizer_v2.a...   \n",
       "0  val_custom_mae  <class 'tensorflow.python.keras.optimizer_v2.a...   \n",
       "3  val_custom_mae  <class 'tensorflow.python.keras.optimizer_v2.a...   \n",
       "\n",
       "  reduction_metric  \n",
       "4       custom_mae  \n",
       "6       custom_mae  \n",
       "5       custom_mae  \n",
       "7       custom_mae  \n",
       "1       custom_mae  \n",
       "2       custom_mae  \n",
       "0       custom_mae  \n",
       "3       custom_mae  "
      ]
     },
     "execution_count": 16,
     "metadata": {},
     "output_type": "execute_result"
    }
   ],
   "source": [
    "best_results = _LOG_DIR + '..\\\\{}_{}_Base{}_Results.csv'.format(_DATASET_NAME, hyper_parameter['label_type'][0], _note)\n",
    "df = pd.read_csv(best_results).drop(columns = ['round_epochs', 'samples', 'epochs'], axis = 0)\n",
    "df = df.sort_values(hyper_parameter['monitor_value'][0], axis = 0, ascending = True, inplace = False, kind = 'quicksort', na_position = 'last')\n",
    "print('Displaying: {}'.format(best_results))\n",
    "df.head(10)"
   ]
  },
  {
   "cell_type": "code",
   "execution_count": 17,
   "metadata": {},
   "outputs": [],
   "source": [
    "def copy_base_directory(src, dst, data, symlinks = False, ignore = None):\n",
    "    maxLen = 0\n",
    "    message = ''\n",
    "    \n",
    "    networks_to_copy = data.head(10).index\n",
    "    \n",
    "    if not os.path.exists(dst):\n",
    "        \n",
    "        message = 'Creating Path: {}'.format(src)\n",
    "        maxLen = max(maxLen, len(message))\n",
    "        print(message + ' ' * (maxLen - len(message)), end = '\\r')\n",
    "        \n",
    "        os.makedirs(dst)\n",
    "        \n",
    "    for item in os.listdir(src):\n",
    "        \n",
    "        s = os.path.join(src, item)\n",
    "        d = os.path.join(dst, item)\n",
    "        \n",
    "        if os.path.isdir(s):\n",
    "            \n",
    "            message = 'Copying Directory: {}'.format(s)\n",
    "            maxLen = max(maxLen, len(message))\n",
    "            print(message + ' ' * (maxLen - len(message)), end = '\\r')\n",
    "            \n",
    "            shutil.copytree(s, d, symlinks, ignore)\n",
    "            \n",
    "        else:\n",
    "            \n",
    "            if not os.path.exists(d): #or os.stat(s).st_mtime - os.stat(d).st_mtime > 1:\n",
    "                for idx in networks_to_copy:\n",
    "                    net = '_FC_{}.hdf5'.format(idx)\n",
    "                    if net in item or '_Bottleneck_' in item or '_GPU' in item:\n",
    "                        message = 'Copying File: {}'.format(s)\n",
    "                        maxLen = max(maxLen, len(message))\n",
    "                        print(message + ' ' * (maxLen - len(message)), end = '\\r')\n",
    "                \n",
    "                        shutil.copy2(s, d)\n",
    "        \n",
    "        time.sleep(.1)    \n",
    "    \n",
    "    src_csv = src + _RESULTS_FILE\n",
    "    dst_csv = dst + _RESULTS_FILE\n",
    "    if not os.path.exists(dst_csv):\n",
    "        message = 'Copying File: {}'.format(src_csv)\n",
    "        maxLen = max(maxLen, len(message))\n",
    "        print(message + ' ' * (maxLen - len(message)), end = '\\r')\n",
    "        shutil.copy2(src_csv, dst_csv)\n",
    "     \n",
    "    message = 'Coyping... Done'\n",
    "    maxLen = max(maxLen, len(message))\n",
    "    print(message + ' ' * (maxLen - len(message)), end = '\\n')\n",
    "\n",
    "    \n",
    "def delete_directory(src, terminator = '\\n'):\n",
    "    message = ''\n",
    "    maxLen = 0\n",
    "    \n",
    "    try:\n",
    "        message = 'Deleting {}'.format(src)\n",
    "        maxLen = max(maxLen, len(message))\n",
    "        print(message + ' ' * (maxLen - len(message)), end = '\\r')\n",
    "        \n",
    "        if os.path.isdir(src):\n",
    "            shutil.rmtree(src)\n",
    "            \n",
    "        elif os.path.isfile(src):\n",
    "            os.remove(src)\n",
    "        \n",
    "    except OSError as e:\n",
    "        message = 'Error: {} : {}'.format(src, e.strerror)\n",
    "        maxLen = max(maxLen, len(message))\n",
    "        print(message + ' ' * (maxLen - len(message)), end = '\\n')\n",
    "        return\n",
    "    \n",
    "    message = 'Deleting... Done'\n",
    "    maxLen = max(maxLen, len(message))\n",
    "    print(message + ' ' * (maxLen - len(message)), end = terminator)\n",
    "\n",
    "    \n",
    "def copy_base_training(src, dst):\n",
    "    copy_base_directory(src, dst, df)\n",
    "    \n",
    "    delete_directory(src, terminator = '\\r')\n",
    "    delete_directory(src + _RESULTS_FILE, terminator = '\\r')\n",
    "    if not os.listdir(src + '..\\\\'):\n",
    "        delete_directory(src + '..\\\\', terminator = '\\r')"
   ]
  },
  {
   "cell_type": "code",
   "execution_count": 18,
   "metadata": {
    "scrolled": true
   },
   "outputs": [
    {
     "name": "stdout",
     "output_type": "stream",
     "text": [
      "Coyping... Done                                                                                                                              \n",
      "Deleting... Done                                                                                                                        \r"
     ]
    }
   ],
   "source": [
    "if(storage == OutputDirectory.SSD):\n",
    "    _COPY_DIR = '..\\\\output\\\\{}'.format(_NET_DIR)\n",
    "    copy_base_training(_LOG_DIR, _COPY_DIR)"
   ]
  },
  {
   "cell_type": "code",
   "execution_count": null,
   "metadata": {},
   "outputs": [],
   "source": []
  }
 ],
 "metadata": {
  "kernelspec": {
   "display_name": "Python 3",
   "language": "python",
   "name": "python3"
  },
  "language_info": {
   "codemirror_mode": {
    "name": "ipython",
    "version": 3
   },
   "file_extension": ".py",
   "mimetype": "text/x-python",
   "name": "python",
   "nbconvert_exporter": "python",
   "pygments_lexer": "ipython3",
   "version": "3.7.4"
  }
 },
 "nbformat": 4,
 "nbformat_minor": 2
}
