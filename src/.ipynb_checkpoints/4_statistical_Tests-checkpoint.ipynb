{
 "cells": [
  {
   "cell_type": "markdown",
   "metadata": {},
   "source": [
    "# Statistical Tests"
   ]
  },
  {
   "cell_type": "code",
   "execution_count": 1,
   "metadata": {},
   "outputs": [],
   "source": [
    "import numpy as np\n",
    "import pandas as pd\n",
    "import matplotlib.pyplot as plt\n",
    "from scipy.stats import pearsonr\n",
    "from scipy import stats"
   ]
  },
  {
   "cell_type": "markdown",
   "metadata": {},
   "source": [
    "## Histogram functions"
   ]
  },
  {
   "cell_type": "code",
   "execution_count": 2,
   "metadata": {},
   "outputs": [],
   "source": [
    "def rgb_hist(net, limit): \n",
    "    plt.rcParams.update({'font.size': 16})\n",
    "    n, bins, patches = plt.hist(x=df_e, bins='auto', color='#607c8e',\n",
    "                                alpha=0.7, rwidth=0.85)\n",
    "    plt.grid(axis='y', alpha=0.75)\n",
    "    plt.xlabel('absolut angular estimation error')\n",
    "    plt.ylabel('frequency')\n",
    "    plt.title('Histogram of the absolut angular estimation error of the \\n ' + net + ' trained on RGB images')\n",
    "    m = round(np.mean(df_e, axis = 0), 2)\n",
    "    s = round(np.std(df_e), 2)\n",
    "    pos = 0.8 * limit\n",
    "    plt.text(pos, 470, r'$\\mu={}$'.format(m))\n",
    "    plt.text(pos, 430, r'$\\sigma={}$'.format(s))\n",
    "    plt.axvline(x=m)\n",
    "    maxfreq = n.max()\n",
    "    minfreq = n.min()\n",
    "    # Set a clean upper y-axis limit.\n",
    "    #plt.ylim(ymax=np.ceil(maxfreq / 10) * 10 if maxfreq % 10 else maxfreq + 10, ymin=np.ceil(minfreq / 10))\n",
    "    plt.xlim(xmin=0, xmax = limit)\n",
    "    plt.savefig('..\\\\output\\\\Diagrams\\\\{}_RGB_hist.png'.format(net), dpi=300, bbox_inches='tight')"
   ]
  },
  {
   "cell_type": "code",
   "execution_count": 3,
   "metadata": {},
   "outputs": [],
   "source": [
    "def rgbd_hist(net, limit):\n",
    "    plt.rcParams.update({'font.size': 16})\n",
    "    n, bins, patches = plt.hist(x=df_e_d, bins='auto', color='#607c8e',\n",
    "                                alpha=0.7, rwidth=0.85)\n",
    "    plt.grid(axis='y', alpha=0.75)\n",
    "    plt.xlabel('absolut angular estimation error')\n",
    "    plt.ylabel('frequency')\n",
    "    plt.title('Histogram of the absolut angular estimation error of the \\n ' + net + ' trained on RGBD images')\n",
    "    m = round(np.mean(df_e_d, axis = 0), 2)\n",
    "    s = round(np.std(df_e_d), 2)\n",
    "    pos = 0.8 * limit\n",
    "    plt.text(pos, 470, r'$\\mu={}$'.format(m))\n",
    "    plt.text(pos, 430, r'$\\sigma={}$'.format(s))\n",
    "    plt.axvline(x=m)\n",
    "    maxfreq = n.max()\n",
    "    minfreq = n.min()\n",
    "    # Set a clean upper y-axis limit.\n",
    "    #plt.ylim(ymax=np.ceil(maxfreq / 10) * 10 if maxfreq % 10 else maxfreq + 10, ymin=np.ceil(minfreq / 10))\n",
    "    plt.xlim(xmin=0, xmax =limit)\n",
    "    plt.savefig('..\\\\output\\\\Diagrams\\\\{}_RGBD_hist.png'.format(net), dpi=300, bbox_inches='tight')"
   ]
  },
  {
   "cell_type": "markdown",
   "metadata": {},
   "source": [
    "### Run RGB"
   ]
  },
  {
   "cell_type": "code",
   "execution_count": 6,
   "metadata": {},
   "outputs": [
    {
     "data": {
      "text/html": [
       "<div>\n",
       "<style scoped>\n",
       "    .dataframe tbody tr th:only-of-type {\n",
       "        vertical-align: middle;\n",
       "    }\n",
       "\n",
       "    .dataframe tbody tr th {\n",
       "        vertical-align: top;\n",
       "    }\n",
       "\n",
       "    .dataframe thead th {\n",
       "        text-align: right;\n",
       "    }\n",
       "</style>\n",
       "<table border=\"1\" class=\"dataframe\">\n",
       "  <thead>\n",
       "    <tr style=\"text-align: right;\">\n",
       "      <th></th>\n",
       "      <th>Unnamed: 0</th>\n",
       "      <th>Filename</th>\n",
       "      <th>Elevation_true</th>\n",
       "      <th>Elevation_pred</th>\n",
       "      <th>Elevation_err</th>\n",
       "      <th>Azimuth_true</th>\n",
       "      <th>Azimuth_pred</th>\n",
       "      <th>Azimuth_err</th>\n",
       "      <th>Angular_MAE</th>\n",
       "      <th>dot_angular_err_elevation</th>\n",
       "      <th>dot_angular_err_polar</th>\n",
       "    </tr>\n",
       "  </thead>\n",
       "  <tbody>\n",
       "    <tr>\n",
       "      <th>0</th>\n",
       "      <td>75464</td>\n",
       "      <td>bunny/rgb/bunny00075464-270-60-80-45.png</td>\n",
       "      <td>45</td>\n",
       "      <td>44.289623</td>\n",
       "      <td>0.710377</td>\n",
       "      <td>80</td>\n",
       "      <td>79.54621</td>\n",
       "      <td>0.453789</td>\n",
       "      <td>tf.Tensor(0.58208275, shape=(), dtype=float32)</td>\n",
       "      <td>0.780300</td>\n",
       "      <td>0.780300</td>\n",
       "    </tr>\n",
       "    <tr>\n",
       "      <th>1</th>\n",
       "      <td>123599</td>\n",
       "      <td>donut/rgb/donut00123599-90-90-130-60.png</td>\n",
       "      <td>60</td>\n",
       "      <td>61.202724</td>\n",
       "      <td>1.202724</td>\n",
       "      <td>130</td>\n",
       "      <td>123.32284</td>\n",
       "      <td>6.677162</td>\n",
       "      <td>tf.Tensor(3.9399433, shape=(), dtype=float32)</td>\n",
       "      <td>3.489492</td>\n",
       "      <td>3.489492</td>\n",
       "    </tr>\n",
       "    <tr>\n",
       "      <th>2</th>\n",
       "      <td>26470</td>\n",
       "      <td>buddha/rgb/buddha00026470-225-5-150-55.png</td>\n",
       "      <td>55</td>\n",
       "      <td>55.188595</td>\n",
       "      <td>0.188595</td>\n",
       "      <td>150</td>\n",
       "      <td>144.72606</td>\n",
       "      <td>5.273941</td>\n",
       "      <td>tf.Tensor(2.731268, shape=(), dtype=float32)</td>\n",
       "      <td>3.023056</td>\n",
       "      <td>3.023056</td>\n",
       "    </tr>\n",
       "    <tr>\n",
       "      <th>3</th>\n",
       "      <td>105983</td>\n",
       "      <td>ball/rgb/ball00105983-0-30-275-90.png</td>\n",
       "      <td>90</td>\n",
       "      <td>89.110504</td>\n",
       "      <td>0.889496</td>\n",
       "      <td>275</td>\n",
       "      <td>178.25124</td>\n",
       "      <td>96.748764</td>\n",
       "      <td>tf.Tensor(48.81913, shape=(), dtype=float32)</td>\n",
       "      <td>0.889496</td>\n",
       "      <td>0.889496</td>\n",
       "    </tr>\n",
       "    <tr>\n",
       "      <th>4</th>\n",
       "      <td>37891</td>\n",
       "      <td>buddha/rgb/buddha00037891-315-30-85-10.png</td>\n",
       "      <td>10</td>\n",
       "      <td>10.253587</td>\n",
       "      <td>0.253587</td>\n",
       "      <td>85</td>\n",
       "      <td>82.81413</td>\n",
       "      <td>2.185867</td>\n",
       "      <td>tf.Tensor(1.219727, shape=(), dtype=float32)</td>\n",
       "      <td>2.166699</td>\n",
       "      <td>2.166699</td>\n",
       "    </tr>\n",
       "  </tbody>\n",
       "</table>\n",
       "</div>"
      ],
      "text/plain": [
       "   Unnamed: 0                                    Filename  Elevation_true  \\\n",
       "0       75464    bunny/rgb/bunny00075464-270-60-80-45.png              45   \n",
       "1      123599    donut/rgb/donut00123599-90-90-130-60.png              60   \n",
       "2       26470  buddha/rgb/buddha00026470-225-5-150-55.png              55   \n",
       "3      105983       ball/rgb/ball00105983-0-30-275-90.png              90   \n",
       "4       37891  buddha/rgb/buddha00037891-315-30-85-10.png              10   \n",
       "\n",
       "   Elevation_pred  Elevation_err  Azimuth_true  Azimuth_pred  Azimuth_err  \\\n",
       "0       44.289623       0.710377            80      79.54621     0.453789   \n",
       "1       61.202724       1.202724           130     123.32284     6.677162   \n",
       "2       55.188595       0.188595           150     144.72606     5.273941   \n",
       "3       89.110504       0.889496           275     178.25124    96.748764   \n",
       "4       10.253587       0.253587            85      82.81413     2.185867   \n",
       "\n",
       "                                      Angular_MAE  dot_angular_err_elevation  \\\n",
       "0  tf.Tensor(0.58208275, shape=(), dtype=float32)                   0.780300   \n",
       "1   tf.Tensor(3.9399433, shape=(), dtype=float32)                   3.489492   \n",
       "2    tf.Tensor(2.731268, shape=(), dtype=float32)                   3.023056   \n",
       "3    tf.Tensor(48.81913, shape=(), dtype=float32)                   0.889496   \n",
       "4    tf.Tensor(1.219727, shape=(), dtype=float32)                   2.166699   \n",
       "\n",
       "   dot_angular_err_polar  \n",
       "0               0.780300  \n",
       "1               3.489492  \n",
       "2               3.023056  \n",
       "3               0.889496  \n",
       "4               2.166699  "
      ]
     },
     "execution_count": 6,
     "metadata": {},
     "output_type": "execute_result"
    }
   ],
   "source": [
    "net = 'RESNET' # ALEX vs VGG16 vs RESNET\n",
    "dataset = '201129_2031'\n",
    "alpha = 0.01\n",
    "\n",
    "add =''\n",
    "\n",
    "if (net == 'RESNET'):\n",
    "    limit = 10\n",
    "elif (net == 'VGG16'):\n",
    "    limit = 10\n",
    "elif (net == 'ALEX'):\n",
    "    limit = 30  \n",
    "\n",
    "# RGB\n",
    "csv_rgb = '..\\\\output\\\\{}_{}_rgb{}\\\\Evaluation_SYNTH\\\\Prognosen.csv'.format(net, dataset, add)\n",
    "df_rgb = pd.read_csv(csv_rgb)\n",
    "\n",
    "# RGBD\n",
    "csv_rgbd = '..\\\\output\\\\{}_{}_rgba{}\\\\Evaluation_SYNTH\\\\Prognosen.csv'.format(net, dataset, add)\n",
    "df_rgbd = pd.read_csv(csv_rgbd)\n",
    "\n",
    "df_rgb.head()\n"
   ]
  },
  {
   "cell_type": "code",
   "execution_count": 7,
   "metadata": {},
   "outputs": [
    {
     "data": {
      "image/png": "[encoded data removed]",
      "text/plain": [
       "<Figure size 432x288 with 1 Axes>"
      ]
     },
     "metadata": {
      "needs_background": "light"
     },
     "output_type": "display_data"
    }
   ],
   "source": [
    "df_e = df_rgb['dot_angular_err_elevation']\n",
    "rgb_hist(net, limit)"
   ]
  },
  {
   "cell_type": "code",
   "execution_count": 9,
   "metadata": {},
   "outputs": [
    {
     "data": {
      "image/png": "[encoded data removed]",
      "text/plain": [
       "<Figure size 432x288 with 1 Axes>"
      ]
     },
     "metadata": {
      "needs_background": "light"
     },
     "output_type": "display_data"
    }
   ],
   "source": [
    "df_e_d = df_rgbd['dot_angular_err_elevation']\n",
    "rgbd_hist(net, limit)"
   ]
  },
  {
   "cell_type": "markdown",
   "metadata": {},
   "source": [
    "## T-Statistic"
   ]
  },
  {
   "cell_type": "code",
   "execution_count": 11,
   "metadata": {},
   "outputs": [
    {
     "name": "stdout",
     "output_type": "stream",
     "text": [
      "P-Value:1.5124686186270543e-58 T-Statistic:-16.23826738155422\n",
      "Reject the null hypothesis that the means are equal.\n",
      "r = 0.1602910473035317\n"
     ]
    }
   ],
   "source": [
    "#https://www.hackdeploy.com/python-t-test-a-friendly-guide/\n",
    "tStat, pValue =  stats.ttest_rel(df_e, df_e_d)\n",
    "print(\"P-Value:{0} T-Statistic:{1}\".format(pValue,tStat)) \n",
    "\n",
    "# interpret via p-value\n",
    "if pValue > alpha:\n",
    "    print('Accept null hypothesis that the means are equal.')\n",
    "else:\n",
    "    print('Reject the null hypothesis that the means are equal.')\n",
    "    \n",
    "print('r = {}'.format(f_r(tStat)))"
   ]
  },
  {
   "cell_type": "markdown",
   "metadata": {},
   "source": [
    "## Wilcoxon signed-rank test"
   ]
  },
  {
   "cell_type": "code",
   "execution_count": 15,
   "metadata": {},
   "outputs": [
    {
     "name": "stdout",
     "output_type": "stream",
     "text": [
      "20319998.0\n",
      "p = 3.674924989185935e-59\n",
      "r = 0.16219446287682387\n"
     ]
    }
   ],
   "source": [
    "# https://www.methodenberatung.uzh.ch/de/datenanalyse_spss/unterschiede/zentral/wilkoxon.html\n",
    "W, p_v = stats.wilcoxon(df_e, df_e_d)\n",
    "print(W)\n",
    "print('p = {}'.format(p_v))\n",
    "\n",
    "def f_z(W, u, o):\n",
    "    return (W - u) / o\n",
    "\n",
    "def f_u(n):\n",
    "    return (n*(n+1))/4\n",
    "def f_o(n):\n",
    "    return np.sqrt((n*(n+1)*(2*n+1))/24)\n",
    "\n",
    "def f_r_w(W, n):\n",
    "    return abs(f_z(W, f_u(n), f_o(n)) / np.sqrt(n))\n",
    "          \n",
    "n = df_e.size\n",
    "r_w = f_r_w(W, n)\n",
    "print('r = {}'.format(r_w))"
   ]
  },
  {
   "cell_type": "code",
   "execution_count": 16,
   "metadata": {},
   "outputs": [
    {
     "name": "stdout",
     "output_type": "stream",
     "text": [
      "0.37371905836867203\n",
      "0.0\n"
     ]
    }
   ],
   "source": [
    "r_r, p_r = stats.pearsonr(df_e, df_e_d)\n",
    "print(r_r)\n",
    "print(p_r)"
   ]
  },
  {
   "cell_type": "code",
   "execution_count": null,
   "metadata": {},
   "outputs": [],
   "source": []
  }
 ],
 "metadata": {
  "kernelspec": {
   "display_name": "Python 3",
   "language": "python",
   "name": "python3"
  },
  "language_info": {
   "codemirror_mode": {
    "name": "ipython",
    "version": 3
   },
   "file_extension": ".py",
   "mimetype": "text/x-python",
   "name": "python",
   "nbconvert_exporter": "python",
   "pygments_lexer": "ipython3",
   "version": "3.8.3"
  }
 },
 "nbformat": 4,
 "nbformat_minor": 2
}
