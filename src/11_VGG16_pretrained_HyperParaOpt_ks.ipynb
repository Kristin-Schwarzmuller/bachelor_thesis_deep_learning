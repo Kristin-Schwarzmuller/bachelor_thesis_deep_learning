{
 "cells": [
  {
   "cell_type": "markdown",
   "metadata": {},
   "source": [
    "# Single Base Training on GPU1"
   ]
  },
  {
   "cell_type": "markdown",
   "metadata": {},
   "source": [
    "# Quick Links <a name = \"Top\"></a>\n",
    "<ol>\n",
    "    <li><p><a href = #setup>Set Up</a></p></li>\n",
    "    <li><p><a href = #Base>Base Training</a></p></li>\n",
    "</ol>"
   ]
  },
  {
   "cell_type": "markdown",
   "metadata": {},
   "source": [
    "# Imports"
   ]
  },
  {
   "cell_type": "code",
   "execution_count": 4,
   "metadata": {},
   "outputs": [
    {
     "name": "stdout",
     "output_type": "stream",
     "text": [
      "Current Conda Environment: tf_ks\n"
     ]
    }
   ],
   "source": [
    "import os\n",
    "import shutil\n",
    "\n",
    "print('Current Conda Environment: {}'.format(os.environ['CONDA_DEFAULT_ENV']))"
   ]
  },
  {
   "cell_type": "code",
   "execution_count": 5,
   "metadata": {},
   "outputs": [],
   "source": [
    "#pip install talos"
   ]
  },
  {
   "cell_type": "code",
   "execution_count": 6,
   "metadata": {},
   "outputs": [
    {
     "name": "stderr",
     "output_type": "stream",
     "text": [
      "Using TensorFlow backend.\n"
     ]
    },
    {
     "name": "stdout",
     "output_type": "stream",
     "text": [
      "The installed version of TensorFlow 2.1.0 includes GPU support.\n",
      "\n",
      "Num GPUs Available:  2 \n",
      "\n",
      "[name: \"/device:CPU:0\"\n",
      "device_type: \"CPU\"\n",
      "memory_limit: 268435456\n",
      "locality {\n",
      "}\n",
      "incarnation: 2590557961705015676\n",
      ", name: \"/device:GPU:0\"\n",
      "device_type: \"GPU\"\n",
      "memory_limit: 9105744200\n",
      "locality {\n",
      "  bus_id: 1\n",
      "  links {\n",
      "  }\n",
      "}\n",
      "incarnation: 1683431280603452536\n",
      "physical_device_desc: \"device: 0, name: GeForce RTX 2080 Ti, pci bus id: 0000:17:00.0, compute capability: 7.5\"\n",
      ", name: \"/device:GPU:1\"\n",
      "device_type: \"GPU\"\n",
      "memory_limit: 9104897474\n",
      "locality {\n",
      "  bus_id: 1\n",
      "  links {\n",
      "  }\n",
      "}\n",
      "incarnation: 16309785601070220303\n",
      "physical_device_desc: \"device: 1, name: GeForce RTX 2080 Ti, pci bus id: 0000:65:00.0, compute capability: 7.5\"\n",
      "]\n"
     ]
    }
   ],
   "source": [
    "import talos as ta\n",
    "from talos.model import lr_normalizer, early_stopper, hidden_layers\n",
    "\n",
    "import tensorflow as tf\n",
    "  \n",
    "available_gpus = tf.config.experimental.list_physical_devices('GPU')\n",
    "built_with_cuda = tf.test.is_built_with_cuda()\n",
    "\n",
    "if not (not available_gpus) & built_with_cuda:\n",
    "    print(\"The installed version of TensorFlow {} includes GPU support.\\n\".format(tf.__version__))\n",
    "    print(\"Num GPUs Available: \", len(available_gpus), \"\\n\")\n",
    "else:\n",
    "    print(\"The installed version of TensorFlow {} does not include GPU support.\\n\".format(tf.__version__))\n",
    "    \n",
    "from tensorflow.python.client import device_lib\n",
    "print(device_lib.list_local_devices())\n",
    "\n",
    "from tensorflow.compat.v1.keras import callbacks, backend as K\n",
    "from tensorflow.keras.models import Sequential, load_model\n",
    "from tensorflow.keras.layers import Dense, Dropout, Flatten\n",
    "from tensorflow.keras.preprocessing.image import ImageDataGenerator\n",
    "from tensorflow.keras.applications import VGG16\n",
    "from tensorflow.keras.utils import multi_gpu_model\n",
    "from tensorflow.keras.initializers import glorot_uniform\n",
    "from tensorflow.keras.optimizers import Adam, Nadam, RMSprop, SGD, Adagrad\n",
    "from tensorflow.keras.layers import ReLU, LeakyReLU\n",
    "\n",
    "from datetime import datetime\n",
    "import pandas as pd\n",
    "import numpy as np\n",
    "\n",
    "import time\n",
    "\n",
    "from numpy.random import seed\n",
    "seed(1)\n",
    "tf.random.set_seed(1)\n",
    "\n",
    "config = tf.compat.v1.ConfigProto()\n",
    "config.gpu_options.allow_growth=True\n",
    "config.gpu_options.per_process_gpu_memory_fraction = 0.99\n",
    "sess = tf.compat.v1.Session(config = config)\n",
    "\n",
    "#with tf.compat.v1.Session(config = config) as sess: \n",
    "#    sess.run()\n",
    "\n",
    "K.set_session(sess)"
   ]
  },
  {
   "cell_type": "markdown",
   "metadata": {},
   "source": [
    "# Hilfsfunktionen"
   ]
  },
  {
   "cell_type": "markdown",
   "metadata": {},
   "source": [
    "### Output Directory\n",
    "\n",
    "* <i>SSD</i>, falls genug Speicher auf SSD im SymLink <i>fast_output</i> verfügbar ist\n",
    "* <i>HDD</i>, falls möglicherweise zu wenig SSD-Speicher verfügbar ist $\\rightarrow$ <i>output</i>"
   ]
  },
  {
   "cell_type": "code",
   "execution_count": 7,
   "metadata": {},
   "outputs": [],
   "source": [
    "from enum import IntEnum\n",
    "\n",
    "class OutputDirectory(IntEnum):\n",
    "    HDD = 0\n",
    "    SSD = 1\n",
    "    \n",
    "output_path = ['output', 'fast_output']"
   ]
  },
  {
   "cell_type": "markdown",
   "metadata": {},
   "source": [
    "### Convert Label_Type into suitable label names.\n",
    "$\\Rightarrow$ Angular / Normalized $\\rightarrow$ ['Elevation', 'Azimuth']\n",
    "\n",
    "$\\Rightarrow$ Stereographic $\\rightarrow$ ['S_x', 'S_y']"
   ]
  },
  {
   "cell_type": "code",
   "execution_count": 8,
   "metadata": {},
   "outputs": [],
   "source": [
    "def get_Label_Names(label_type):\n",
    "    if label_type == 'Angular' or label_type == 'Normalized':\n",
    "        return ['Elevation', 'Azimuth']\n",
    "    elif label_type == 'Stereographic':\n",
    "        return ['S_x', 'S_y']\n",
    "    else:\n",
    "        assert(True, 'LabelType Invalid')\n",
    "        return None"
   ]
  },
  {
   "cell_type": "markdown",
   "metadata": {},
   "source": [
    "### Benutzerdefinierte Kostenfunktion & Metrik"
   ]
  },
  {
   "cell_type": "code",
   "execution_count": 9,
   "metadata": {},
   "outputs": [],
   "source": [
    "def circular_mse(y_true, y_pred):\n",
    "    max_error = tf.constant(360, dtype = 'float32')\n",
    "    return K.mean(K.square(K.minimum(K.abs(y_pred - y_true), max_error - K.abs(y_pred - y_true))), axis = -1)\n",
    "\n",
    "def circular_mae(y_true, y_pred):\n",
    "    max_error = tf.constant(360, dtype = 'float32')\n",
    "    return K.mean(K.minimum(K.abs(y_pred - y_true), K.abs(max_error - K.abs(y_pred - y_true))), axis = -1)\n",
    "\n",
    "def custom_mae(y_true, y_pred):\n",
    "    return K.mean(K.abs(y_pred - y_true), axis = -1)"
   ]
  },
  {
   "cell_type": "markdown",
   "metadata": {},
   "source": [
    "### Convert String into Reduction Metric Function"
   ]
  },
  {
   "cell_type": "code",
   "execution_count": 10,
   "metadata": {},
   "outputs": [],
   "source": [
    "def get_Reduction_Metric(metric):\n",
    "    \n",
    "    if metric == 'custom_mae':\n",
    "        return [custom_mae]\n",
    "    elif metric == 'tf.keras.metrics.MeanAbsoluteError()':\n",
    "        return [tf.keras.metrics.MeanAbsoluteError()]\n",
    "    elif metric == 'circular_mae':\n",
    "        return [circular_mae]\n",
    "    elif metric == 'mean_squared_error':\n",
    "        return ['mean_squared_error']\n",
    "    else:\n",
    "        assert(False, 'Metric yet unknown - Please modify get_Reduction_Metric to meet your requirements')\n",
    "        return None"
   ]
  },
  {
   "cell_type": "markdown",
   "metadata": {},
   "source": [
    "### Generierung Bottleneck-Features"
   ]
  },
  {
   "cell_type": "code",
   "execution_count": 11,
   "metadata": {},
   "outputs": [],
   "source": [
    "def create_bottleneck_features(train_generator, valid_generator, bottleneck):\n",
    "        \n",
    "    print('Creating bottleneck features...')\n",
    "    model = VGG16(include_top = False, weights = 'imagenet')\n",
    "        \n",
    "    #bottleneck_features_train = model.predict_generator(train_generator, train_generator.n // train_generator.batch_size)\n",
    "    bottleneck_features_train = model.predict(train_generator)\n",
    "    np.save(open(_LOG_DIR + 'Train_' + bottleneck, 'wb'), bottleneck_features_train)\n",
    "        \n",
    "    #bottleneck_features_valid = model.predict_generator(valid_generator, valid_generator.n // valid_generator.batch_size)\n",
    "    bottleneck_features_valid = model.predict(valid_generator)\n",
    "    np.save(open(_LOG_DIR + 'Valid_'  + bottleneck, 'wb'), bottleneck_features_valid)"
   ]
  },
  {
   "cell_type": "markdown",
   "metadata": {},
   "source": [
    "### Generierung Datenpipeline (Angepasst für Talos)"
   ]
  },
  {
   "cell_type": "code",
   "execution_count": 12,
   "metadata": {},
   "outputs": [],
   "source": [
    "def prepare_data(batch_size, num_samples, label_type):\n",
    "    #print(_CSV_FILE)\n",
    "    df = pd.read_csv(_CSV_FILE)\n",
    "    df_shuffled = df.sample(frac = 1, random_state = 1)\n",
    "    df_train = df_shuffled[0 : int(num_samples * 0.8 // batch_size * batch_size)]   \n",
    "    df_valid = df_shuffled.drop(df_shuffled.index[0: df_train.shape[0]])[0 : int(num_samples * 0.2 // batch_size * batch_size)]\n",
    "    \n",
    "    train_labels = df_train.drop(['Filename RGB'], axis = 1).values\n",
    "    valid_labels = df_valid.drop(['Filename RGB'], axis = 1).values\n",
    "    \n",
    "    bottleneck = 'Bottleneck_Features_{}_{}.npy'.format(str(num_samples), str(batch_size))                                       \n",
    "    if not os.path.exists(_LOG_DIR + 'Train_' + bottleneck):\n",
    "        \n",
    "        if _USE_DATA_AUGMENTATION:\n",
    "            train_data_generator = ImageDataGenerator(\n",
    "                rescale = 1./255, \n",
    "                width_shift_range = 0.1,\n",
    "                height_shift_range = 0.1, \n",
    "                zoom_range = 0.1,\n",
    "                brightness_range = (0.25, 0.75),\n",
    "                fill_mode = 'nearest'\n",
    "            )\n",
    "        else:\n",
    "            train_data_generator = ImageDataGenerator(\n",
    "                rescale = 1./255\n",
    "            )\n",
    "            \n",
    "        valid_data_generator = ImageDataGenerator(\n",
    "            rescale = 1./255\n",
    "        )\n",
    "    \n",
    "        print('Y-Col: {}'.format(get_Label_Names(label_type)))\n",
    "        \n",
    "        train_generator = train_data_generator.flow_from_dataframe(\n",
    "            dataframe = df_train,\n",
    "            directory = _IMAGE_DIR,\n",
    "            x_col = 'Filename RGB',\n",
    "            y_col = get_Label_Names(label_type),\n",
    "            class_mode = 'raw',\n",
    "            target_size = (224, 224),\n",
    "            color_mode = 'rgb',\n",
    "            shuffle = False,\n",
    "            seed = 1,\n",
    "            batch_size = batch_size\n",
    "        )\n",
    "    \n",
    "        valid_generator = valid_data_generator.flow_from_dataframe(\n",
    "            dataframe = df_valid,\n",
    "            directory = _IMAGE_DIR,\n",
    "            x_col = 'Filename RGB',\n",
    "            y_col = get_Label_Names(label_type),\n",
    "            class_mode = 'raw',\n",
    "            target_size = (224, 224),\n",
    "            color_mode = 'rgb',\n",
    "            shuffle = False,\n",
    "            seed = 1,\n",
    "            batch_size = batch_size\n",
    "        )\n",
    "                                                        \n",
    "        create_bottleneck_features(train_generator, valid_generator, bottleneck)\n",
    "        \n",
    "    train_features = np.load(open(_LOG_DIR + 'Train_' + bottleneck, 'rb'))\n",
    "    valid_features = np.load(open(_LOG_DIR + 'Valid_' + bottleneck, 'rb'))\n",
    "                                                        \n",
    "    return train_labels, valid_labels, train_features, valid_features"
   ]
  },
  {
   "cell_type": "markdown",
   "metadata": {},
   "source": [
    "### Generierung Modell (Angepasst für Talos)"
   ]
  },
  {
   "cell_type": "code",
   "execution_count": 13,
   "metadata": {},
   "outputs": [],
   "source": [
    "def grid_model_base(x, y, x_val, y_val, params):\n",
    "    \n",
    "    global _COUNTER    \n",
    "    K.clear_session()\n",
    "\n",
    "    train_labels, valid_labels, train_features, valid_features = prepare_data(params['batch_size'], params['samples'], params['label_type'])\n",
    "\n",
    "    model = Sequential()\n",
    "    model.add(Flatten(input_shape = train_features.shape[1 :])) # (7, 7, 512)\n",
    "    \n",
    "    dropout_rate = params['dropout']\n",
    "    first_neuron = params['first_neuron']\n",
    "    \n",
    "    if params['activation'] == 'leakyrelu':\n",
    "        activation_layer = LeakyReLU(alpha = 0.1)\n",
    "    elif params['activation'] == 'relu':\n",
    "        activation_layer = ReLU()  \n",
    "    \n",
    "    model.add(Dense(units = first_neuron, kernel_initializer = glorot_uniform(seed = 1)))\n",
    "    model.add(activation_layer)\n",
    "    if dropout_rate > 0.0:\n",
    "        model.add(Dropout(rate = dropout_rate))\n",
    "        \n",
    "    hidden_neuron_fraction = first_neuron\n",
    "    for i in range(params['hidden_layers']):\n",
    "        hidden_neuron_fraction = hidden_neuron_fraction // 2\n",
    "        model.add(Dense(units = hidden_neuron_fraction, kernel_initializer = glorot_uniform(seed = 1)))\n",
    "        model.add(activation_layer)\n",
    "        if dropout_rate > 0.0:\n",
    "            model.add(Dropout(rate = dropout_rate))\n",
    "    \n",
    "    model.add(Dense(units = 2, kernel_initializer = glorot_uniform(seed = 1)))\n",
    "\n",
    "    print('Using Loss: {} \\nand Reduction Metric: {}'.format(\n",
    "        params['loss_function'], \n",
    "        get_Reduction_Metric(params['reduction_metric'])))\n",
    "    \n",
    "    model.compile(\n",
    "        optimizer = params['optimizer'](lr = lr_normalizer(params['lr'], params['optimizer'])), \n",
    "        loss = params['loss_function'], \n",
    "        metrics = get_Reduction_Metric(params['reduction_metric'])\n",
    "    )\n",
    "    \n",
    "    print('Monitor: {}'.format(params['monitor_value']))\n",
    "    \n",
    "    checkpointer = callbacks.ModelCheckpoint(\n",
    "        filepath = _LOG_DIR + 'Best_Weights_FC_{}.hdf5'.format(_COUNTER),\n",
    "        monitor = params['monitor_value'],\n",
    "        verbose = 1,\n",
    "        save_best_only = True,\n",
    "        mode = 'min'\n",
    "    )\n",
    "    \n",
    "    startTime = datetime.now()\n",
    "    out = model.fit(\n",
    "        x = train_features,\n",
    "        y = train_labels,\n",
    "        epochs = params['epochs'],\n",
    "        validation_data = (valid_features, valid_labels),\n",
    "        steps_per_epoch = int(params['samples'] * 0.8 // params['batch_size']),\n",
    "        validation_steps = int(params['samples'] * 0.2 // params['batch_size']),\n",
    "        callbacks = [checkpointer]\n",
    "    )\n",
    "    print(\"Time taken:\", datetime.now() - startTime)\n",
    "    \n",
    "    _COUNTER = _COUNTER + 1\n",
    "     \n",
    "    return out, model"
   ]
  },
  {
   "cell_type": "markdown",
   "metadata": {},
   "source": [
    "# Parameter <a name = \"setup\"></a><a href = #Top>Up</a></p>"
   ]
  },
  {
   "cell_type": "markdown",
   "metadata": {},
   "source": [
    "### GridSerach"
   ]
  },
  {
   "cell_type": "markdown",
   "metadata": {},
   "source": [
    "#### Hyper Parameter"
   ]
  },
  {
   "cell_type": "code",
   "execution_count": 14,
   "metadata": {},
   "outputs": [],
   "source": [
    "#     Adam = RMSprop + Momentum (lr=0.001)\n",
    "#     Nadam = Adam RMSprop + Nesterov-Momentum (lr=0.002)\n",
    "#     RMSprop = (lr=0.001)\n",
    "#     SGD = (lr=0.01)\n",
    "#     Adagrad\n",
    "\n",
    "hyper_parameter = {\n",
    "    'samples': [20000],\n",
    "    'epochs': [1],\n",
    "    'batch_size': [32, 64],\n",
    "    'optimizer': [Adam],\n",
    "    'lr': [1, 2, 5],\n",
    "    'first_neuron': [1024, 2048, 4096],\n",
    "    'dropout': [0.25, 0.50],\n",
    "    'activation': ['leakyrelu', 'relu'],\n",
    "    'hidden_layers': [0, 1, 2, 3, 4],\n",
    "    # beginning from here, Values should only contain a single entry:\n",
    "    # ===============================================================\n",
    "    'label_type': ['Angular'], # Stereographic, Angular, Normalized\n",
    "    'loss_function': ['mean_squared_error'], # circular_mse\n",
    "    'reduction_metric': ['custom_mae'], # tf.keras.metrics.MeanAbsoluteError(), circular_mae, custom_mae, mean_squared_error\n",
    "    'monitor_value': ['val_custom_mae'] # val_custom_mae, val_mean_absolute_error, val_circular_mae, val_loss\n",
    "}"
   ]
  },
  {
   "cell_type": "code",
   "execution_count": 15,
   "metadata": {},
   "outputs": [],
   "source": [
    "def get_params():  \n",
    "    return p"
   ]
  },
  {
   "cell_type": "markdown",
   "metadata": {},
   "source": [
    "### Dateisystem"
   ]
  },
  {
   "cell_type": "code",
   "execution_count": 16,
   "metadata": {},
   "outputs": [],
   "source": [
    "_RUN = 'SYNTH'\n",
    "_LOSS = 'MSE'\n",
    "_DATASET_NAME = '201019_2253_final'#'2020-05-28'\n",
    "_DEVICE = 'GeForce_RTX_2080_Ti' #\"/device:GPU:1\" #'TITAN_GPU1'\n",
    "\n",
    "storage = OutputDirectory.SSD # 'fast_output' if ssd storage may suffice, 'output' otherwise\n",
    "\n",
    "#APPENDIX = 'Stereographic'\n",
    "\n",
    "#FUNCTION_OVERRIDE = ['mean_squared_error', [custom_mae], 'val_custom_mae'] # None, or e. g. ['mean_squared_error', [circular_mae], 'val_circular_mae']\n",
    "\n",
    "if hyper_parameter['label_type'][0] == 'Stereographic':\n",
    "    _CSV_FILE_NAME = 'images_synthetisch_stereographic.csv'\n",
    "    _STEREOGRAPHIC = True\n",
    "elif hyper_parameter['label_type'][0] == 'Angular':\n",
    "    _CSV_FILE_NAME = 'labels_ks_RGB.csv' #'images_synthetisch.csv'\n",
    "    _STEREOGRAPHIC = False\n",
    "elif hyper_parameter['label_type'][0] == 'Normalized':\n",
    "    _CSV_FILE_NAME = 'images_synthetisch_normalized.csv'\n",
    "    _STEREOGRAPHIC = False\n",
    "else:\n",
    "    assert(True, 'LabelType Invalid')"
   ]
  },
  {
   "cell_type": "code",
   "execution_count": 17,
   "metadata": {},
   "outputs": [],
   "source": [
    "_USE_DATA_AUGMENTATION = False"
   ]
  },
  {
   "cell_type": "code",
   "execution_count": 18,
   "metadata": {},
   "outputs": [
    {
     "name": "stdout",
     "output_type": "stream",
     "text": [
      "Directory >>| ..\\fast_output\\SYNTH_Regression_MSE\\201019_2253_final_Angular_Base_Custom-MAE\\ |<< existiert bereits. Fortsetzen auf eigene Gefahr! (Weiter mit Enter)\n"
     ]
    }
   ],
   "source": [
    "_MODEL_NAME = '{}_Optimierung_Hyperparameter_v{}'.format(_DATASET_NAME, _RUN)\n",
    "_IMAGE_DIR = '..\\\\..\\\\data_generation\\\\dataset\\\\{}\\\\'.format(_DATASET_NAME) # '..\\\\dataset\\\\{}\\\\'.format(_DATASET_NAME)\n",
    "_CSV_FILE = _IMAGE_DIR + _CSV_FILE_NAME\n",
    "\n",
    "_COUNTER = 0\n",
    "\n",
    "_note = '_Custom-MAE'\n",
    "\n",
    "_NET_DIR = '{}_Regression_{}\\\\{}_{}_Base{}\\\\'.format(_RUN, _LOSS, _DATASET_NAME, hyper_parameter['label_type'][0], _note)\n",
    "_LOG_DIR = '..\\\\{}\\\\{}'.format(output_path[storage], _NET_DIR)\n",
    "\n",
    "_RESULTS_FILE = '\\\\..\\\\{}_{}_Base{}_Results.csv'.format(_DATASET_NAME, hyper_parameter['label_type'][0], _note)\n",
    "\n",
    "if(not os.path.exists(_LOG_DIR)):\n",
    "    os.makedirs(_LOG_DIR)\n",
    "else:\n",
    "    input('Directory >>| {} |<< existiert bereits. Fortsetzen auf eigene Gefahr! (Weiter mit Enter)'.format(_LOG_DIR))\n",
    "\n",
    "device_file = open(_LOG_DIR + '{}'.format(_DEVICE), \"a+\")\n",
    "device_file.close()"
   ]
  },
  {
   "cell_type": "markdown",
   "metadata": {},
   "source": [
    "# Ausführung GridSearch mit Talos <a name = \"Base\"></a><a href = #Top>Up</a></p>"
   ]
  },
  {
   "cell_type": "code",
   "execution_count": 16,
   "metadata": {
    "scrolled": true
   },
   "outputs": [
    {
     "name": "stderr",
     "output_type": "stream",
     "text": [
      "\r",
      "  0%|                                                                                          | 0/360 [00:00<?, ?it/s]"
     ]
    },
    {
     "name": "stdout",
     "output_type": "stream",
     "text": [
      "{'activation': 'leakyrelu', 'batch_size': 32, 'dropout': 0.25, 'epochs': 1, 'first_neuron': 1024, 'hidden_layers': 0, 'label_type': 'Angular', 'loss_function': 'mean_squared_error', 'lr': 1, 'monitor_value': 'val_custom_mae', 'optimizer': <class 'tensorflow.python.keras.optimizer_v2.adam.Adam'>, 'reduction_metric': 'custom_mae', 'samples': 20000}\n",
      "Using Loss: mean_squared_error \n",
      "and Reduction Metric: [<function custom_mae at 0x0000024C33F2FE58>]\n",
      "Monitor: val_custom_mae\n",
      "Train on 16000 samples, validate on 4000 samples\n",
      "15680/16000 [============================>.] - ETA: 0s - loss: 3821.8989 - custom_mae: 39.2101\n",
      "Epoch 00001: val_custom_mae improved from inf to 31.90724, saving model to ..\\fast_output\\SYNTH_Regression_MSE\\201019_2253_final_Angular_Base_Custom-MAE\\Best_Weights_FC_0.hdf5\n",
      "16000/16000 [==============================] - 5s 303us/sample - loss: 3799.5094 - custom_mae: 39.0489 - val_loss: 2938.1040 - val_custom_mae: 31.9072\n",
      "Time taken: 0:00:06.534892\n"
     ]
    },
    {
     "name": "stderr",
     "output_type": "stream",
     "text": [
      "\r",
      "  0%|▏                                                                                 | 1/360 [00:08<52:15,  8.73s/it]"
     ]
    },
    {
     "name": "stdout",
     "output_type": "stream",
     "text": [
      "{'activation': 'leakyrelu', 'batch_size': 32, 'dropout': 0.25, 'epochs': 1, 'first_neuron': 1024, 'hidden_layers': 0, 'label_type': 'Angular', 'loss_function': 'mean_squared_error', 'lr': 2, 'monitor_value': 'val_custom_mae', 'optimizer': <class 'tensorflow.python.keras.optimizer_v2.adam.Adam'>, 'reduction_metric': 'custom_mae', 'samples': 20000}\n",
      "Using Loss: mean_squared_error \n",
      "and Reduction Metric: [<function custom_mae at 0x0000024C33F2FE58>]\n",
      "Monitor: val_custom_mae\n",
      "Train on 16000 samples, validate on 4000 samples\n",
      "15936/16000 [============================>.] - ETA: 0s - loss: 3713.6342 - custom_mae: 38.4650\n",
      "Epoch 00001: val_custom_mae improved from inf to 32.61966, saving model to ..\\fast_output\\SYNTH_Regression_MSE\\201019_2253_final_Angular_Base_Custom-MAE\\Best_Weights_FC_1.hdf5\n",
      "16000/16000 [==============================] - 5s 285us/sample - loss: 3710.9920 - custom_mae: 38.4334 - val_loss: 3080.8014 - val_custom_mae: 32.6197\n",
      "Time taken: 0:00:06.259690\n"
     ]
    },
    {
     "name": "stderr",
     "output_type": "stream",
     "text": [
      "\r",
      "  1%|▍                                                                                 | 2/360 [00:16<50:44,  8.50s/it]"
     ]
    },
    {
     "name": "stdout",
     "output_type": "stream",
     "text": [
      "{'activation': 'leakyrelu', 'batch_size': 32, 'dropout': 0.25, 'epochs': 1, 'first_neuron': 1024, 'hidden_layers': 0, 'label_type': 'Angular', 'loss_function': 'mean_squared_error', 'lr': 5, 'monitor_value': 'val_custom_mae', 'optimizer': <class 'tensorflow.python.keras.optimizer_v2.adam.Adam'>, 'reduction_metric': 'custom_mae', 'samples': 20000}\n",
      "Using Loss: mean_squared_error \n",
      "and Reduction Metric: [<function custom_mae at 0x0000024C33F2FE58>]\n",
      "Monitor: val_custom_mae\n",
      "Train on 16000 samples, validate on 4000 samples\n",
      "15776/16000 [============================>.] - ETA: 0s - loss: 3824.3952 - custom_mae: 38.7880\n",
      "Epoch 00001: val_custom_mae improved from inf to 30.90188, saving model to ..\\fast_output\\SYNTH_Regression_MSE\\201019_2253_final_Angular_Base_Custom-MAE\\Best_Weights_FC_2.hdf5\n",
      "16000/16000 [==============================] - 5s 291us/sample - loss: 3807.3086 - custom_mae: 38.6687 - val_loss: 2886.1212 - val_custom_mae: 30.9019\n",
      "Time taken: 0:00:06.362731\n"
     ]
    },
    {
     "name": "stderr",
     "output_type": "stream",
     "text": [
      "\r",
      "  1%|▋                                                                                 | 3/360 [00:24<49:50,  8.38s/it]"
     ]
    },
    {
     "name": "stdout",
     "output_type": "stream",
     "text": [
      "{'activation': 'leakyrelu', 'batch_size': 32, 'dropout': 0.25, 'epochs': 1, 'first_neuron': 1024, 'hidden_layers': 1, 'label_type': 'Angular', 'loss_function': 'mean_squared_error', 'lr': 1, 'monitor_value': 'val_custom_mae', 'optimizer': <class 'tensorflow.python.keras.optimizer_v2.adam.Adam'>, 'reduction_metric': 'custom_mae', 'samples': 20000}\n",
      "Using Loss: mean_squared_error \n",
      "and Reduction Metric: [<function custom_mae at 0x0000024C33F2FE58>]\n",
      "Monitor: val_custom_mae\n",
      "Train on 16000 samples, validate on 4000 samples\n",
      "15904/16000 [============================>.] - ETA: 0s - loss: 3975.6937 - custom_mae: 40.8398\n",
      "Epoch 00001: val_custom_mae improved from inf to 32.53157, saving model to ..\\fast_output\\SYNTH_Regression_MSE\\201019_2253_final_Angular_Base_Custom-MAE\\Best_Weights_FC_3.hdf5\n",
      "16000/16000 [==============================] - 5s 301us/sample - loss: 3969.8915 - custom_mae: 40.7836 - val_loss: 3019.6103 - val_custom_mae: 32.5316\n",
      "Time taken: 0:00:06.521587\n"
     ]
    },
    {
     "name": "stderr",
     "output_type": "stream",
     "text": [
      "\r",
      "  1%|▉                                                                                 | 4/360 [00:33<49:27,  8.34s/it]"
     ]
    },
    {
     "name": "stdout",
     "output_type": "stream",
     "text": [
      "{'activation': 'leakyrelu', 'batch_size': 32, 'dropout': 0.25, 'epochs': 1, 'first_neuron': 1024, 'hidden_layers': 1, 'label_type': 'Angular', 'loss_function': 'mean_squared_error', 'lr': 2, 'monitor_value': 'val_custom_mae', 'optimizer': <class 'tensorflow.python.keras.optimizer_v2.adam.Adam'>, 'reduction_metric': 'custom_mae', 'samples': 20000}\n",
      "Using Loss: mean_squared_error \n",
      "and Reduction Metric: [<function custom_mae at 0x0000024C33F2FE58>]\n",
      "Monitor: val_custom_mae\n",
      "Train on 16000 samples, validate on 4000 samples\n",
      "15744/16000 [============================>.] - ETA: 0s - loss: 3945.0934 - custom_mae: 40.6916\n",
      "Epoch 00001: val_custom_mae improved from inf to 29.60960, saving model to ..\\fast_output\\SYNTH_Regression_MSE\\201019_2253_final_Angular_Base_Custom-MAE\\Best_Weights_FC_4.hdf5\n",
      "16000/16000 [==============================] - 5s 297us/sample - loss: 3924.4756 - custom_mae: 40.5453 - val_loss: 2620.7673 - val_custom_mae: 29.6096\n",
      "Time taken: 0:00:06.443321\n"
     ]
    },
    {
     "name": "stderr",
     "output_type": "stream",
     "text": [
      "\r",
      "  1%|█▏                                                                                | 5/360 [00:41<49:00,  8.28s/it]"
     ]
    },
    {
     "name": "stdout",
     "output_type": "stream",
     "text": [
      "{'activation': 'leakyrelu', 'batch_size': 32, 'dropout': 0.25, 'epochs': 1, 'first_neuron': 1024, 'hidden_layers': 1, 'label_type': 'Angular', 'loss_function': 'mean_squared_error', 'lr': 5, 'monitor_value': 'val_custom_mae', 'optimizer': <class 'tensorflow.python.keras.optimizer_v2.adam.Adam'>, 'reduction_metric': 'custom_mae', 'samples': 20000}\n",
      "Using Loss: mean_squared_error \n",
      "and Reduction Metric: [<function custom_mae at 0x0000024C33F2FE58>]\n",
      "Monitor: val_custom_mae\n",
      "Train on 16000 samples, validate on 4000 samples\n",
      "15968/16000 [============================>.] - ETA: 0s - loss: 4638.5374 - custom_mae: 43.2443\n",
      "Epoch 00001: val_custom_mae improved from inf to 35.27819, saving model to ..\\fast_output\\SYNTH_Regression_MSE\\201019_2253_final_Angular_Base_Custom-MAE\\Best_Weights_FC_5.hdf5\n",
      "16000/16000 [==============================] - 5s 299us/sample - loss: 4635.3034 - custom_mae: 43.2185 - val_loss: 3196.0331 - val_custom_mae: 35.2782\n",
      "Time taken: 0:00:06.498881\n"
     ]
    },
    {
     "name": "stderr",
     "output_type": "stream",
     "text": [
      "\r",
      "  2%|█▎                                                                                | 6/360 [00:49<48:47,  8.27s/it]"
     ]
    },
    {
     "name": "stdout",
     "output_type": "stream",
     "text": [
      "{'activation': 'leakyrelu', 'batch_size': 32, 'dropout': 0.25, 'epochs': 1, 'first_neuron': 1024, 'hidden_layers': 2, 'label_type': 'Angular', 'loss_function': 'mean_squared_error', 'lr': 1, 'monitor_value': 'val_custom_mae', 'optimizer': <class 'tensorflow.python.keras.optimizer_v2.adam.Adam'>, 'reduction_metric': 'custom_mae', 'samples': 20000}\n",
      "Using Loss: mean_squared_error \n",
      "and Reduction Metric: [<function custom_mae at 0x0000024C33F2FE58>]\n",
      "Monitor: val_custom_mae\n",
      "Train on 16000 samples, validate on 4000 samples\n",
      "15904/16000 [============================>.] - ETA: 0s - loss: 4164.4357 - custom_mae: 42.7486\n",
      "Epoch 00001: val_custom_mae improved from inf to 31.23796, saving model to ..\\fast_output\\SYNTH_Regression_MSE\\201019_2253_final_Angular_Base_Custom-MAE\\Best_Weights_FC_6.hdf5\n",
      "16000/16000 [==============================] - 5s 307us/sample - loss: 4157.9900 - custom_mae: 42.6894 - val_loss: 2782.3765 - val_custom_mae: 31.2380\n",
      "Time taken: 0:00:06.606154\n"
     ]
    },
    {
     "name": "stderr",
     "output_type": "stream",
     "text": [
      "\r",
      "  2%|█▌                                                                                | 7/360 [00:57<48:51,  8.30s/it]"
     ]
    },
    {
     "name": "stdout",
     "output_type": "stream",
     "text": [
      "{'activation': 'leakyrelu', 'batch_size': 32, 'dropout': 0.25, 'epochs': 1, 'first_neuron': 1024, 'hidden_layers': 2, 'label_type': 'Angular', 'loss_function': 'mean_squared_error', 'lr': 2, 'monitor_value': 'val_custom_mae', 'optimizer': <class 'tensorflow.python.keras.optimizer_v2.adam.Adam'>, 'reduction_metric': 'custom_mae', 'samples': 20000}\n",
      "Using Loss: mean_squared_error \n",
      "and Reduction Metric: [<function custom_mae at 0x0000024C33F2FE58>]\n",
      "Monitor: val_custom_mae\n",
      "Train on 16000 samples, validate on 4000 samples\n",
      "15744/16000 [============================>.] - ETA: 0s - loss: 4087.5672 - custom_mae: 42.1745\n",
      "Epoch 00001: val_custom_mae improved from inf to 30.80042, saving model to ..\\fast_output\\SYNTH_Regression_MSE\\201019_2253_final_Angular_Base_Custom-MAE\\Best_Weights_FC_7.hdf5\n",
      "16000/16000 [==============================] - 5s 305us/sample - loss: 4068.6358 - custom_mae: 42.0299 - val_loss: 2654.1115 - val_custom_mae: 30.8004\n",
      "Time taken: 0:00:06.579182\n"
     ]
    },
    {
     "name": "stderr",
     "output_type": "stream",
     "text": [
      "\r",
      "  2%|█▊                                                                                | 8/360 [01:06<48:46,  8.31s/it]"
     ]
    },
    {
     "name": "stdout",
     "output_type": "stream",
     "text": [
      "{'activation': 'leakyrelu', 'batch_size': 32, 'dropout': 0.25, 'epochs': 1, 'first_neuron': 1024, 'hidden_layers': 2, 'label_type': 'Angular', 'loss_function': 'mean_squared_error', 'lr': 5, 'monitor_value': 'val_custom_mae', 'optimizer': <class 'tensorflow.python.keras.optimizer_v2.adam.Adam'>, 'reduction_metric': 'custom_mae', 'samples': 20000}\n",
      "Using Loss: mean_squared_error \n",
      "and Reduction Metric: [<function custom_mae at 0x0000024C33F2FE58>]\n",
      "Monitor: val_custom_mae\n",
      "Train on 16000 samples, validate on 4000 samples\n",
      "15776/16000 [============================>.] - ETA: 0s - loss: 4589.8112 - custom_mae: 45.2118\n",
      "Epoch 00001: val_custom_mae improved from inf to 43.69211, saving model to ..\\fast_output\\SYNTH_Regression_MSE\\201019_2253_final_Angular_Base_Custom-MAE\\Best_Weights_FC_8.hdf5\n",
      "16000/16000 [==============================] - 5s 304us/sample - loss: 4578.3785 - custom_mae: 45.1263 - val_loss: 4287.9295 - val_custom_mae: 43.6921\n",
      "Time taken: 0:00:06.567067\n"
     ]
    },
    {
     "name": "stderr",
     "output_type": "stream",
     "text": [
      "\r",
      "  2%|██                                                                                | 9/360 [01:14<48:37,  8.31s/it]"
     ]
    },
    {
     "name": "stdout",
     "output_type": "stream",
     "text": [
      "{'activation': 'leakyrelu', 'batch_size': 32, 'dropout': 0.25, 'epochs': 1, 'first_neuron': 1024, 'hidden_layers': 3, 'label_type': 'Angular', 'loss_function': 'mean_squared_error', 'lr': 1, 'monitor_value': 'val_custom_mae', 'optimizer': <class 'tensorflow.python.keras.optimizer_v2.adam.Adam'>, 'reduction_metric': 'custom_mae', 'samples': 20000}\n",
      "Using Loss: mean_squared_error \n",
      "and Reduction Metric: [<function custom_mae at 0x0000024C33F2FE58>]\n",
      "Monitor: val_custom_mae\n",
      "Train on 16000 samples, validate on 4000 samples\n",
      "15808/16000 [============================>.] - ETA: 0s - loss: 4502.8559 - custom_mae: 45.5245\n",
      "Epoch 00001: val_custom_mae improved from inf to 31.50135, saving model to ..\\fast_output\\SYNTH_Regression_MSE\\201019_2253_final_Angular_Base_Custom-MAE\\Best_Weights_FC_9.hdf5\n",
      "16000/16000 [==============================] - 5s 312us/sample - loss: 4485.5497 - custom_mae: 45.3912 - val_loss: 2726.1560 - val_custom_mae: 31.5013\n",
      "Time taken: 0:00:06.687180\n"
     ]
    },
    {
     "name": "stderr",
     "output_type": "stream",
     "text": [
      "\r",
      "  3%|██▎                                                                              | 10/360 [01:22<48:46,  8.36s/it]"
     ]
    },
    {
     "name": "stdout",
     "output_type": "stream",
     "text": [
      "{'activation': 'leakyrelu', 'batch_size': 32, 'dropout': 0.25, 'epochs': 1, 'first_neuron': 1024, 'hidden_layers': 3, 'label_type': 'Angular', 'loss_function': 'mean_squared_error', 'lr': 2, 'monitor_value': 'val_custom_mae', 'optimizer': <class 'tensorflow.python.keras.optimizer_v2.adam.Adam'>, 'reduction_metric': 'custom_mae', 'samples': 20000}\n",
      "Using Loss: mean_squared_error \n",
      "and Reduction Metric: [<function custom_mae at 0x0000024C33F2FE58>]\n",
      "Monitor: val_custom_mae\n",
      "Train on 16000 samples, validate on 4000 samples\n",
      "15936/16000 [============================>.] - ETA: 0s - loss: 4630.8266 - custom_mae: 46.5920\n",
      "Epoch 00001: val_custom_mae improved from inf to 33.78765, saving model to ..\\fast_output\\SYNTH_Regression_MSE\\201019_2253_final_Angular_Base_Custom-MAE\\Best_Weights_FC_10.hdf5\n",
      "16000/16000 [==============================] - 5s 314us/sample - loss: 4625.7577 - custom_mae: 46.5401 - val_loss: 2865.3005 - val_custom_mae: 33.7877\n",
      "Time taken: 0:00:06.725039\n"
     ]
    },
    {
     "name": "stderr",
     "output_type": "stream",
     "text": [
      "\r",
      "  3%|██▍                                                                              | 11/360 [01:31<48:54,  8.41s/it]"
     ]
    },
    {
     "name": "stdout",
     "output_type": "stream",
     "text": [
      "{'activation': 'leakyrelu', 'batch_size': 32, 'dropout': 0.25, 'epochs': 1, 'first_neuron': 1024, 'hidden_layers': 3, 'label_type': 'Angular', 'loss_function': 'mean_squared_error', 'lr': 5, 'monitor_value': 'val_custom_mae', 'optimizer': <class 'tensorflow.python.keras.optimizer_v2.adam.Adam'>, 'reduction_metric': 'custom_mae', 'samples': 20000}\n",
      "Using Loss: mean_squared_error \n",
      "and Reduction Metric: [<function custom_mae at 0x0000024C33F2FE58>]\n",
      "Monitor: val_custom_mae\n",
      "Train on 16000 samples, validate on 4000 samples\n",
      "15712/16000 [============================>.] - ETA: 0s - loss: 5334.8759 - custom_mae: 51.0650\n",
      "Epoch 00001: val_custom_mae improved from inf to 34.62755, saving model to ..\\fast_output\\SYNTH_Regression_MSE\\201019_2253_final_Angular_Base_Custom-MAE\\Best_Weights_FC_11.hdf5\n",
      "16000/16000 [==============================] - 5s 316us/sample - loss: 5301.8937 - custom_mae: 50.8527 - val_loss: 3018.9131 - val_custom_mae: 34.6276\n",
      "Time taken: 0:00:06.760226\n"
     ]
    },
    {
     "name": "stderr",
     "output_type": "stream",
     "text": [
      "\r",
      "  3%|██▋                                                                              | 12/360 [01:39<49:00,  8.45s/it]"
     ]
    },
    {
     "name": "stdout",
     "output_type": "stream",
     "text": [
      "{'activation': 'leakyrelu', 'batch_size': 32, 'dropout': 0.25, 'epochs': 1, 'first_neuron': 1024, 'hidden_layers': 4, 'label_type': 'Angular', 'loss_function': 'mean_squared_error', 'lr': 1, 'monitor_value': 'val_custom_mae', 'optimizer': <class 'tensorflow.python.keras.optimizer_v2.adam.Adam'>, 'reduction_metric': 'custom_mae', 'samples': 20000}\n",
      "Using Loss: mean_squared_error \n",
      "and Reduction Metric: [<function custom_mae at 0x0000024C33F2FE58>]\n",
      "Monitor: val_custom_mae\n",
      "Train on 16000 samples, validate on 4000 samples\n",
      "15872/16000 [============================>.] - ETA: 0s - loss: 4951.3030 - custom_mae: 49.2563\n",
      "Epoch 00001: val_custom_mae improved from inf to 33.38847, saving model to ..\\fast_output\\SYNTH_Regression_MSE\\201019_2253_final_Angular_Base_Custom-MAE\\Best_Weights_FC_12.hdf5\n",
      "16000/16000 [==============================] - 5s 316us/sample - loss: 4938.4945 - custom_mae: 49.1540 - val_loss: 2875.4293 - val_custom_mae: 33.3885\n",
      "Time taken: 0:00:06.763089\n"
     ]
    },
    {
     "name": "stderr",
     "output_type": "stream",
     "text": [
      "\r",
      "  4%|██▉                                                                              | 13/360 [01:48<49:04,  8.49s/it]"
     ]
    },
    {
     "name": "stdout",
     "output_type": "stream",
     "text": [
      "{'activation': 'leakyrelu', 'batch_size': 32, 'dropout': 0.25, 'epochs': 1, 'first_neuron': 1024, 'hidden_layers': 4, 'label_type': 'Angular', 'loss_function': 'mean_squared_error', 'lr': 2, 'monitor_value': 'val_custom_mae', 'optimizer': <class 'tensorflow.python.keras.optimizer_v2.adam.Adam'>, 'reduction_metric': 'custom_mae', 'samples': 20000}\n",
      "Using Loss: mean_squared_error \n",
      "and Reduction Metric: [<function custom_mae at 0x0000024C33F2FE58>]\n",
      "Monitor: val_custom_mae\n",
      "Train on 16000 samples, validate on 4000 samples\n",
      "15808/16000 [============================>.] - ETA: 0s - loss: 5000.8946 - custom_mae: 49.3825\n",
      "Epoch 00001: val_custom_mae improved from inf to 33.96378, saving model to ..\\fast_output\\SYNTH_Regression_MSE\\201019_2253_final_Angular_Base_Custom-MAE\\Best_Weights_FC_13.hdf5\n",
      "16000/16000 [==============================] - 5s 318us/sample - loss: 4979.0037 - custom_mae: 49.2279 - val_loss: 2870.7833 - val_custom_mae: 33.9638\n",
      "Time taken: 0:00:06.802479\n"
     ]
    },
    {
     "name": "stderr",
     "output_type": "stream",
     "text": [
      "\r",
      "  4%|███▏                                                                             | 14/360 [01:57<49:07,  8.52s/it]"
     ]
    },
    {
     "name": "stdout",
     "output_type": "stream",
     "text": [
      "{'activation': 'leakyrelu', 'batch_size': 32, 'dropout': 0.25, 'epochs': 1, 'first_neuron': 1024, 'hidden_layers': 4, 'label_type': 'Angular', 'loss_function': 'mean_squared_error', 'lr': 5, 'monitor_value': 'val_custom_mae', 'optimizer': <class 'tensorflow.python.keras.optimizer_v2.adam.Adam'>, 'reduction_metric': 'custom_mae', 'samples': 20000}\n",
      "Using Loss: mean_squared_error \n",
      "and Reduction Metric: [<function custom_mae at 0x0000024C33F2FE58>]\n",
      "Monitor: val_custom_mae\n",
      "Train on 16000 samples, validate on 4000 samples\n",
      "15808/16000 [============================>.] - ETA: 0s - loss: 5696.7832 - custom_mae: 53.7445\n",
      "Epoch 00001: val_custom_mae improved from inf to 42.08913, saving model to ..\\fast_output\\SYNTH_Regression_MSE\\201019_2253_final_Angular_Base_Custom-MAE\\Best_Weights_FC_14.hdf5\n",
      "16000/16000 [==============================] - 5s 318us/sample - loss: 5685.2727 - custom_mae: 53.6782 - val_loss: 3608.5680 - val_custom_mae: 42.0891\n",
      "Time taken: 0:00:06.780285\n"
     ]
    },
    {
     "name": "stderr",
     "output_type": "stream",
     "text": [
      "\r",
      "  4%|███▍                                                                             | 15/360 [02:05<49:05,  8.54s/it]"
     ]
    },
    {
     "name": "stdout",
     "output_type": "stream",
     "text": [
      "{'activation': 'leakyrelu', 'batch_size': 32, 'dropout': 0.25, 'epochs': 1, 'first_neuron': 2048, 'hidden_layers': 0, 'label_type': 'Angular', 'loss_function': 'mean_squared_error', 'lr': 1, 'monitor_value': 'val_custom_mae', 'optimizer': <class 'tensorflow.python.keras.optimizer_v2.adam.Adam'>, 'reduction_metric': 'custom_mae', 'samples': 20000}\n",
      "Using Loss: mean_squared_error \n",
      "and Reduction Metric: [<function custom_mae at 0x0000024C33F2FE58>]\n",
      "Monitor: val_custom_mae\n",
      "Train on 16000 samples, validate on 4000 samples\n",
      "15936/16000 [============================>.] - ETA: 0s - loss: 3716.2053 - custom_mae: 38.0851\n",
      "Epoch 00001: val_custom_mae improved from inf to 32.61946, saving model to ..\\fast_output\\SYNTH_Regression_MSE\\201019_2253_final_Angular_Base_Custom-MAE\\Best_Weights_FC_15.hdf5\n",
      "16000/16000 [==============================] - 7s 435us/sample - loss: 3713.6038 - custom_mae: 38.0540 - val_loss: 3089.2280 - val_custom_mae: 32.6195\n",
      "Time taken: 0:00:08.664049\n"
     ]
    },
    {
     "name": "stderr",
     "output_type": "stream",
     "text": [
      "\r",
      "  4%|███▌                                                                             | 16/360 [02:16<52:07,  9.09s/it]"
     ]
    },
    {
     "name": "stdout",
     "output_type": "stream",
     "text": [
      "{'activation': 'leakyrelu', 'batch_size': 32, 'dropout': 0.25, 'epochs': 1, 'first_neuron': 2048, 'hidden_layers': 0, 'label_type': 'Angular', 'loss_function': 'mean_squared_error', 'lr': 2, 'monitor_value': 'val_custom_mae', 'optimizer': <class 'tensorflow.python.keras.optimizer_v2.adam.Adam'>, 'reduction_metric': 'custom_mae', 'samples': 20000}\n",
      "Using Loss: mean_squared_error \n",
      "and Reduction Metric: [<function custom_mae at 0x0000024C33F2FE58>]\n",
      "Monitor: val_custom_mae\n",
      "Train on 16000 samples, validate on 4000 samples\n",
      "15936/16000 [============================>.] - ETA: 0s - loss: 3725.2017 - custom_mae: 38.1232\n",
      "Epoch 00001: val_custom_mae improved from inf to 31.60226, saving model to ..\\fast_output\\SYNTH_Regression_MSE\\201019_2253_final_Angular_Base_Custom-MAE\\Best_Weights_FC_16.hdf5\n",
      "16000/16000 [==============================] - 7s 440us/sample - loss: 3722.5063 - custom_mae: 38.0907 - val_loss: 2977.3984 - val_custom_mae: 31.6023\n",
      "Time taken: 0:00:08.732935\n"
     ]
    },
    {
     "name": "stderr",
     "output_type": "stream",
     "text": [
      "\r",
      "  5%|███▊                                                                             | 17/360 [02:26<54:16,  9.49s/it]"
     ]
    },
    {
     "name": "stdout",
     "output_type": "stream",
     "text": [
      "{'activation': 'leakyrelu', 'batch_size': 32, 'dropout': 0.25, 'epochs': 1, 'first_neuron': 2048, 'hidden_layers': 0, 'label_type': 'Angular', 'loss_function': 'mean_squared_error', 'lr': 5, 'monitor_value': 'val_custom_mae', 'optimizer': <class 'tensorflow.python.keras.optimizer_v2.adam.Adam'>, 'reduction_metric': 'custom_mae', 'samples': 20000}\n",
      "Using Loss: mean_squared_error \n",
      "and Reduction Metric: [<function custom_mae at 0x0000024C33F2FE58>]\n",
      "Monitor: val_custom_mae\n",
      "Train on 16000 samples, validate on 4000 samples\n",
      "15872/16000 [============================>.] - ETA: 0s - loss: 4013.6224 - custom_mae: 39.2959\n",
      "Epoch 00001: val_custom_mae improved from inf to 28.67242, saving model to ..\\fast_output\\SYNTH_Regression_MSE\\201019_2253_final_Angular_Base_Custom-MAE\\Best_Weights_FC_17.hdf5\n",
      "16000/16000 [==============================] - 7s 436us/sample - loss: 4001.9670 - custom_mae: 39.2123 - val_loss: 2567.7426 - val_custom_mae: 28.6724\n",
      "Time taken: 0:00:08.686343\n"
     ]
    },
    {
     "name": "stderr",
     "output_type": "stream",
     "text": [
      "\r",
      "  5%|████                                                                             | 18/360 [02:36<55:38,  9.76s/it]"
     ]
    },
    {
     "name": "stdout",
     "output_type": "stream",
     "text": [
      "{'activation': 'leakyrelu', 'batch_size': 32, 'dropout': 0.25, 'epochs': 1, 'first_neuron': 2048, 'hidden_layers': 1, 'label_type': 'Angular', 'loss_function': 'mean_squared_error', 'lr': 1, 'monitor_value': 'val_custom_mae', 'optimizer': <class 'tensorflow.python.keras.optimizer_v2.adam.Adam'>, 'reduction_metric': 'custom_mae', 'samples': 20000}\n",
      "Using Loss: mean_squared_error \n",
      "and Reduction Metric: [<function custom_mae at 0x0000024C33F2FE58>]\n",
      "Monitor: val_custom_mae\n",
      "Train on 16000 samples, validate on 4000 samples\n",
      "15872/16000 [============================>.] - ETA: 0s - loss: 3881.9898 - custom_mae: 39.8794\n",
      "Epoch 00001: val_custom_mae improved from inf to 29.32236, saving model to ..\\fast_output\\SYNTH_Regression_MSE\\201019_2253_final_Angular_Base_Custom-MAE\\Best_Weights_FC_18.hdf5\n",
      "16000/16000 [==============================] - 7s 449us/sample - loss: 3871.7967 - custom_mae: 39.7972 - val_loss: 2617.5951 - val_custom_mae: 29.3224\n",
      "Time taken: 0:00:08.906511\n"
     ]
    },
    {
     "name": "stderr",
     "output_type": "stream",
     "text": [
      "\r",
      "  5%|████▎                                                                            | 19/360 [02:47<56:56, 10.02s/it]"
     ]
    },
    {
     "name": "stdout",
     "output_type": "stream",
     "text": [
      "{'activation': 'leakyrelu', 'batch_size': 32, 'dropout': 0.25, 'epochs': 1, 'first_neuron': 2048, 'hidden_layers': 1, 'label_type': 'Angular', 'loss_function': 'mean_squared_error', 'lr': 2, 'monitor_value': 'val_custom_mae', 'optimizer': <class 'tensorflow.python.keras.optimizer_v2.adam.Adam'>, 'reduction_metric': 'custom_mae', 'samples': 20000}\n",
      "Using Loss: mean_squared_error \n",
      "and Reduction Metric: [<function custom_mae at 0x0000024C33F2FE58>]\n",
      "Monitor: val_custom_mae\n",
      "Train on 16000 samples, validate on 4000 samples\n",
      "15776/16000 [============================>.] - ETA: 0s - loss: 3942.0971 - custom_mae: 40.7405\n",
      "Epoch 00001: val_custom_mae improved from inf to 29.33784, saving model to ..\\fast_output\\SYNTH_Regression_MSE\\201019_2253_final_Angular_Base_Custom-MAE\\Best_Weights_FC_19.hdf5\n",
      "16000/16000 [==============================] - 7s 455us/sample - loss: 3924.5057 - custom_mae: 40.6030 - val_loss: 2581.9980 - val_custom_mae: 29.3378\n",
      "Time taken: 0:00:08.997722\n"
     ]
    },
    {
     "name": "stderr",
     "output_type": "stream",
     "text": [
      "\r",
      "  6%|████▌                                                                            | 20/360 [02:58<57:57, 10.23s/it]"
     ]
    },
    {
     "name": "stdout",
     "output_type": "stream",
     "text": [
      "{'activation': 'leakyrelu', 'batch_size': 32, 'dropout': 0.25, 'epochs': 1, 'first_neuron': 2048, 'hidden_layers': 1, 'label_type': 'Angular', 'loss_function': 'mean_squared_error', 'lr': 5, 'monitor_value': 'val_custom_mae', 'optimizer': <class 'tensorflow.python.keras.optimizer_v2.adam.Adam'>, 'reduction_metric': 'custom_mae', 'samples': 20000}\n",
      "Using Loss: mean_squared_error \n",
      "and Reduction Metric: [<function custom_mae at 0x0000024C33F2FE58>]\n",
      "Monitor: val_custom_mae\n",
      "Train on 16000 samples, validate on 4000 samples\n",
      "15840/16000 [============================>.] - ETA: 0s - loss: 8526.2658 - custom_mae: 49.3635\n",
      "Epoch 00001: val_custom_mae improved from inf to 32.13346, saving model to ..\\fast_output\\SYNTH_Regression_MSE\\201019_2253_final_Angular_Base_Custom-MAE\\Best_Weights_FC_20.hdf5\n",
      "16000/16000 [==============================] - 7s 458us/sample - loss: 8470.0717 - custom_mae: 49.1975 - val_loss: 2859.7439 - val_custom_mae: 32.1335\n",
      "Time taken: 0:00:09.031067\n"
     ]
    },
    {
     "name": "stderr",
     "output_type": "stream",
     "text": [
      "\r",
      "  6%|████▋                                                                            | 21/360 [03:09<58:40, 10.39s/it]"
     ]
    },
    {
     "name": "stdout",
     "output_type": "stream",
     "text": [
      "{'activation': 'leakyrelu', 'batch_size': 32, 'dropout': 0.25, 'epochs': 1, 'first_neuron': 2048, 'hidden_layers': 2, 'label_type': 'Angular', 'loss_function': 'mean_squared_error', 'lr': 1, 'monitor_value': 'val_custom_mae', 'optimizer': <class 'tensorflow.python.keras.optimizer_v2.adam.Adam'>, 'reduction_metric': 'custom_mae', 'samples': 20000}\n",
      "Using Loss: mean_squared_error \n",
      "and Reduction Metric: [<function custom_mae at 0x0000024C33F2FE58>]\n",
      "Monitor: val_custom_mae\n",
      "Train on 16000 samples, validate on 4000 samples\n",
      "15968/16000 [============================>.] - ETA: 0s - loss: 4006.2530 - custom_mae: 41.5468\n",
      "Epoch 00001: val_custom_mae improved from inf to 31.06578, saving model to ..\\fast_output\\SYNTH_Regression_MSE\\201019_2253_final_Angular_Base_Custom-MAE\\Best_Weights_FC_21.hdf5\n",
      "16000/16000 [==============================] - 8s 469us/sample - loss: 4005.1596 - custom_mae: 41.5279 - val_loss: 2578.0733 - val_custom_mae: 31.0658\n",
      "Time taken: 0:00:09.207507\n"
     ]
    },
    {
     "name": "stderr",
     "output_type": "stream",
     "text": [
      "\r",
      "  6%|████▉                                                                            | 22/360 [03:19<59:27, 10.56s/it]"
     ]
    },
    {
     "name": "stdout",
     "output_type": "stream",
     "text": [
      "{'activation': 'leakyrelu', 'batch_size': 32, 'dropout': 0.25, 'epochs': 1, 'first_neuron': 2048, 'hidden_layers': 2, 'label_type': 'Angular', 'loss_function': 'mean_squared_error', 'lr': 2, 'monitor_value': 'val_custom_mae', 'optimizer': <class 'tensorflow.python.keras.optimizer_v2.adam.Adam'>, 'reduction_metric': 'custom_mae', 'samples': 20000}\n",
      "Using Loss: mean_squared_error \n",
      "and Reduction Metric: [<function custom_mae at 0x0000024C33F2FE58>]\n",
      "Monitor: val_custom_mae\n",
      "Train on 16000 samples, validate on 4000 samples\n",
      "15840/16000 [============================>.] - ETA: 0s - loss: 4427.0916 - custom_mae: 44.0816\n",
      "Epoch 00001: val_custom_mae improved from inf to 30.77684, saving model to ..\\fast_output\\SYNTH_Regression_MSE\\201019_2253_final_Angular_Base_Custom-MAE\\Best_Weights_FC_22.hdf5\n",
      "16000/16000 [==============================] - 8s 474us/sample - loss: 4409.3332 - custom_mae: 43.9483 - val_loss: 2693.1107 - val_custom_mae: 30.7768\n",
      "Time taken: 0:00:09.275144\n"
     ]
    },
    {
     "name": "stderr",
     "output_type": "stream",
     "text": [
      "\r",
      "  6%|█████                                                                          | 23/360 [03:30<1:00:03, 10.69s/it]"
     ]
    },
    {
     "name": "stdout",
     "output_type": "stream",
     "text": [
      "{'activation': 'leakyrelu', 'batch_size': 32, 'dropout': 0.25, 'epochs': 1, 'first_neuron': 2048, 'hidden_layers': 2, 'label_type': 'Angular', 'loss_function': 'mean_squared_error', 'lr': 5, 'monitor_value': 'val_custom_mae', 'optimizer': <class 'tensorflow.python.keras.optimizer_v2.adam.Adam'>, 'reduction_metric': 'custom_mae', 'samples': 20000}\n",
      "Using Loss: mean_squared_error \n",
      "and Reduction Metric: [<function custom_mae at 0x0000024C33F2FE58>]\n",
      "Monitor: val_custom_mae\n",
      "Train on 16000 samples, validate on 4000 samples\n",
      "15872/16000 [============================>.] - ETA: 0s - loss: 12090.7855 - custom_mae: 52.1795\n",
      "Epoch 00001: val_custom_mae improved from inf to 33.31468, saving model to ..\\fast_output\\SYNTH_Regression_MSE\\201019_2253_final_Angular_Base_Custom-MAE\\Best_Weights_FC_23.hdf5\n",
      "16000/16000 [==============================] - 7s 468us/sample - loss: 12017.8477 - custom_mae: 52.0349 - val_loss: 2862.2234 - val_custom_mae: 33.3147\n",
      "Time taken: 0:00:09.183101\n"
     ]
    },
    {
     "name": "stderr",
     "output_type": "stream",
     "text": [
      "\r",
      "  7%|█████▎                                                                         | 24/360 [03:41<1:00:17, 10.77s/it]"
     ]
    },
    {
     "name": "stdout",
     "output_type": "stream",
     "text": [
      "{'activation': 'leakyrelu', 'batch_size': 32, 'dropout': 0.25, 'epochs': 1, 'first_neuron': 2048, 'hidden_layers': 3, 'label_type': 'Angular', 'loss_function': 'mean_squared_error', 'lr': 1, 'monitor_value': 'val_custom_mae', 'optimizer': <class 'tensorflow.python.keras.optimizer_v2.adam.Adam'>, 'reduction_metric': 'custom_mae', 'samples': 20000}\n",
      "Using Loss: mean_squared_error \n",
      "and Reduction Metric: [<function custom_mae at 0x0000024C33F2FE58>]\n",
      "Monitor: val_custom_mae\n",
      "Train on 16000 samples, validate on 4000 samples\n",
      "15840/16000 [============================>.] - ETA: 0s - loss: 4321.7723 - custom_mae: 43.9495\n",
      "Epoch 00001: val_custom_mae improved from inf to 29.19416, saving model to ..\\fast_output\\SYNTH_Regression_MSE\\201019_2253_final_Angular_Base_Custom-MAE\\Best_Weights_FC_24.hdf5\n",
      "16000/16000 [==============================] - 8s 476us/sample - loss: 4304.6913 - custom_mae: 43.8284 - val_loss: 2479.8881 - val_custom_mae: 29.1942\n",
      "Time taken: 0:00:09.320253\n"
     ]
    },
    {
     "name": "stderr",
     "output_type": "stream",
     "text": [
      "\r",
      "  7%|█████▍                                                                         | 25/360 [03:53<1:00:38, 10.86s/it]"
     ]
    },
    {
     "name": "stdout",
     "output_type": "stream",
     "text": [
      "{'activation': 'leakyrelu', 'batch_size': 32, 'dropout': 0.25, 'epochs': 1, 'first_neuron': 2048, 'hidden_layers': 3, 'label_type': 'Angular', 'loss_function': 'mean_squared_error', 'lr': 2, 'monitor_value': 'val_custom_mae', 'optimizer': <class 'tensorflow.python.keras.optimizer_v2.adam.Adam'>, 'reduction_metric': 'custom_mae', 'samples': 20000}\n",
      "Using Loss: mean_squared_error \n",
      "and Reduction Metric: [<function custom_mae at 0x0000024C33F2FE58>]\n",
      "Monitor: val_custom_mae\n",
      "Train on 16000 samples, validate on 4000 samples\n",
      "15968/16000 [============================>.] - ETA: 0s - loss: 4744.5169 - custom_mae: 45.5685\n",
      "Epoch 00001: val_custom_mae improved from inf to 31.52592, saving model to ..\\fast_output\\SYNTH_Regression_MSE\\201019_2253_final_Angular_Base_Custom-MAE\\Best_Weights_FC_25.hdf5\n",
      "16000/16000 [==============================] - 8s 470us/sample - loss: 4744.4607 - custom_mae: 45.5523 - val_loss: 2603.7518 - val_custom_mae: 31.5259\n",
      "Time taken: 0:00:09.208916\n"
     ]
    },
    {
     "name": "stderr",
     "output_type": "stream",
     "text": [
      "\r",
      "  7%|█████▋                                                                         | 26/360 [04:03<1:00:39, 10.90s/it]"
     ]
    },
    {
     "name": "stdout",
     "output_type": "stream",
     "text": [
      "{'activation': 'leakyrelu', 'batch_size': 32, 'dropout': 0.25, 'epochs': 1, 'first_neuron': 2048, 'hidden_layers': 3, 'label_type': 'Angular', 'loss_function': 'mean_squared_error', 'lr': 5, 'monitor_value': 'val_custom_mae', 'optimizer': <class 'tensorflow.python.keras.optimizer_v2.adam.Adam'>, 'reduction_metric': 'custom_mae', 'samples': 20000}\n",
      "Using Loss: mean_squared_error \n",
      "and Reduction Metric: [<function custom_mae at 0x0000024C33F2FE58>]\n",
      "Monitor: val_custom_mae\n",
      "Train on 16000 samples, validate on 4000 samples\n",
      "15904/16000 [============================>.] - ETA: 0s - loss: 6683.1368 - custom_mae: 52.7863\n",
      "Epoch 00001: val_custom_mae improved from inf to 39.56821, saving model to ..\\fast_output\\SYNTH_Regression_MSE\\201019_2253_final_Angular_Base_Custom-MAE\\Best_Weights_FC_26.hdf5\n",
      "16000/16000 [==============================] - 8s 475us/sample - loss: 6664.6566 - custom_mae: 52.7079 - val_loss: 3407.6062 - val_custom_mae: 39.5682\n",
      "Time taken: 0:00:09.305416\n"
     ]
    },
    {
     "name": "stderr",
     "output_type": "stream",
     "text": [
      "\r",
      "  8%|█████▉                                                                         | 27/360 [04:15<1:00:46, 10.95s/it]"
     ]
    },
    {
     "name": "stdout",
     "output_type": "stream",
     "text": [
      "{'activation': 'leakyrelu', 'batch_size': 32, 'dropout': 0.25, 'epochs': 1, 'first_neuron': 2048, 'hidden_layers': 4, 'label_type': 'Angular', 'loss_function': 'mean_squared_error', 'lr': 1, 'monitor_value': 'val_custom_mae', 'optimizer': <class 'tensorflow.python.keras.optimizer_v2.adam.Adam'>, 'reduction_metric': 'custom_mae', 'samples': 20000}\n",
      "Using Loss: mean_squared_error \n",
      "and Reduction Metric: [<function custom_mae at 0x0000024C33F2FE58>]\n",
      "Monitor: val_custom_mae\n",
      "Train on 16000 samples, validate on 4000 samples\n",
      "15808/16000 [============================>.] - ETA: 0s - loss: 4783.7030 - custom_mae: 47.5284\n",
      "Epoch 00001: val_custom_mae improved from inf to 32.83287, saving model to ..\\fast_output\\SYNTH_Regression_MSE\\201019_2253_final_Angular_Base_Custom-MAE\\Best_Weights_FC_27.hdf5\n",
      "16000/16000 [==============================] - 8s 490us/sample - loss: 4763.5631 - custom_mae: 47.3881 - val_loss: 2698.1333 - val_custom_mae: 32.8329\n",
      "Time taken: 0:00:09.548888\n"
     ]
    },
    {
     "name": "stderr",
     "output_type": "stream",
     "text": [
      "\r",
      "  8%|██████▏                                                                        | 28/360 [04:26<1:01:13, 11.07s/it]"
     ]
    },
    {
     "name": "stdout",
     "output_type": "stream",
     "text": [
      "{'activation': 'leakyrelu', 'batch_size': 32, 'dropout': 0.25, 'epochs': 1, 'first_neuron': 2048, 'hidden_layers': 4, 'label_type': 'Angular', 'loss_function': 'mean_squared_error', 'lr': 2, 'monitor_value': 'val_custom_mae', 'optimizer': <class 'tensorflow.python.keras.optimizer_v2.adam.Adam'>, 'reduction_metric': 'custom_mae', 'samples': 20000}\n",
      "Using Loss: mean_squared_error \n",
      "and Reduction Metric: [<function custom_mae at 0x0000024C33F2FE58>]\n",
      "Monitor: val_custom_mae\n",
      "Train on 16000 samples, validate on 4000 samples\n",
      "15808/16000 [============================>.] - ETA: 0s - loss: 5374.7384 - custom_mae: 50.1243\n",
      "Epoch 00001: val_custom_mae improved from inf to 43.63414, saving model to ..\\fast_output\\SYNTH_Regression_MSE\\201019_2253_final_Angular_Base_Custom-MAE\\Best_Weights_FC_28.hdf5\n",
      "16000/16000 [==============================] - 8s 483us/sample - loss: 5358.7735 - custom_mae: 50.0047 - val_loss: 4189.5577 - val_custom_mae: 43.6341\n",
      "Time taken: 0:00:09.457392\n"
     ]
    },
    {
     "name": "stderr",
     "output_type": "stream",
     "text": [
      "\r",
      "  8%|██████▎                                                                        | 29/360 [04:37<1:01:19, 11.12s/it]"
     ]
    },
    {
     "name": "stdout",
     "output_type": "stream",
     "text": [
      "{'activation': 'leakyrelu', 'batch_size': 32, 'dropout': 0.25, 'epochs': 1, 'first_neuron': 2048, 'hidden_layers': 4, 'label_type': 'Angular', 'loss_function': 'mean_squared_error', 'lr': 5, 'monitor_value': 'val_custom_mae', 'optimizer': <class 'tensorflow.python.keras.optimizer_v2.adam.Adam'>, 'reduction_metric': 'custom_mae', 'samples': 20000}\n",
      "Using Loss: mean_squared_error \n",
      "and Reduction Metric: [<function custom_mae at 0x0000024C33F2FE58>]\n",
      "Monitor: val_custom_mae\n",
      "Train on 16000 samples, validate on 4000 samples\n",
      "15840/16000 [============================>.] - ETA: 0s - loss: 6501.8662 - custom_mae: 57.0874\n",
      "Epoch 00001: val_custom_mae improved from inf to 47.22933, saving model to ..\\fast_output\\SYNTH_Regression_MSE\\201019_2253_final_Angular_Base_Custom-MAE\\Best_Weights_FC_29.hdf5\n",
      "16000/16000 [==============================] - 8s 470us/sample - loss: 6477.9568 - custom_mae: 56.9575 - val_loss: 4163.7594 - val_custom_mae: 47.2293\n",
      "Time taken: 0:00:09.236861\n"
     ]
    },
    {
     "name": "stderr",
     "output_type": "stream",
     "text": [
      "\r",
      "  8%|██████▌                                                                        | 30/360 [04:48<1:00:58, 11.09s/it]"
     ]
    },
    {
     "name": "stdout",
     "output_type": "stream",
     "text": [
      "{'activation': 'leakyrelu', 'batch_size': 32, 'dropout': 0.25, 'epochs': 1, 'first_neuron': 4096, 'hidden_layers': 0, 'label_type': 'Angular', 'loss_function': 'mean_squared_error', 'lr': 1, 'monitor_value': 'val_custom_mae', 'optimizer': <class 'tensorflow.python.keras.optimizer_v2.adam.Adam'>, 'reduction_metric': 'custom_mae', 'samples': 20000}\n",
      "Using Loss: mean_squared_error \n",
      "and Reduction Metric: [<function custom_mae at 0x0000024C33F2FE58>]\n",
      "Monitor: val_custom_mae\n",
      "Train on 16000 samples, validate on 4000 samples\n",
      "15936/16000 [============================>.] - ETA: 0s - loss: 3699.3629 - custom_mae: 38.2659\n",
      "Epoch 00001: val_custom_mae improved from inf to 30.98542, saving model to ..\\fast_output\\SYNTH_Regression_MSE\\201019_2253_final_Angular_Base_Custom-MAE\\Best_Weights_FC_30.hdf5\n",
      "16000/16000 [==============================] - 12s 732us/sample - loss: 3696.2096 - custom_mae: 38.2312 - val_loss: 2845.2264 - val_custom_mae: 30.9854\n",
      "Time taken: 0:00:13.434102\n"
     ]
    },
    {
     "name": "stderr",
     "output_type": "stream",
     "text": [
      "\r",
      "  9%|██████▊                                                                        | 31/360 [05:03<1:07:24, 12.29s/it]"
     ]
    },
    {
     "name": "stdout",
     "output_type": "stream",
     "text": [
      "{'activation': 'leakyrelu', 'batch_size': 32, 'dropout': 0.25, 'epochs': 1, 'first_neuron': 4096, 'hidden_layers': 0, 'label_type': 'Angular', 'loss_function': 'mean_squared_error', 'lr': 2, 'monitor_value': 'val_custom_mae', 'optimizer': <class 'tensorflow.python.keras.optimizer_v2.adam.Adam'>, 'reduction_metric': 'custom_mae', 'samples': 20000}\n",
      "Using Loss: mean_squared_error \n",
      "and Reduction Metric: [<function custom_mae at 0x0000024C33F2FE58>]\n",
      "Monitor: val_custom_mae\n",
      "Train on 16000 samples, validate on 4000 samples\n",
      "15872/16000 [============================>.] - ETA: 0s - loss: 3739.5602 - custom_mae: 37.9287\n",
      "Epoch 00001: val_custom_mae improved from inf to 30.40809, saving model to ..\\fast_output\\SYNTH_Regression_MSE\\201019_2253_final_Angular_Base_Custom-MAE\\Best_Weights_FC_31.hdf5\n",
      "16000/16000 [==============================] - 12s 733us/sample - loss: 3730.5043 - custom_mae: 37.8595 - val_loss: 2686.4853 - val_custom_mae: 30.4081\n",
      "Time taken: 0:00:13.385122\n"
     ]
    },
    {
     "name": "stderr",
     "output_type": "stream",
     "text": [
      "\r",
      "  9%|███████                                                                        | 32/360 [05:18<1:11:45, 13.13s/it]"
     ]
    },
    {
     "name": "stdout",
     "output_type": "stream",
     "text": [
      "{'activation': 'leakyrelu', 'batch_size': 32, 'dropout': 0.25, 'epochs': 1, 'first_neuron': 4096, 'hidden_layers': 0, 'label_type': 'Angular', 'loss_function': 'mean_squared_error', 'lr': 5, 'monitor_value': 'val_custom_mae', 'optimizer': <class 'tensorflow.python.keras.optimizer_v2.adam.Adam'>, 'reduction_metric': 'custom_mae', 'samples': 20000}\n",
      "Using Loss: mean_squared_error \n",
      "and Reduction Metric: [<function custom_mae at 0x0000024C33F2FE58>]\n",
      "Monitor: val_custom_mae\n",
      "Train on 16000 samples, validate on 4000 samples\n",
      "15840/16000 [============================>.] - ETA: 0s - loss: 4401.1908 - custom_mae: 40.8486\n",
      "Epoch 00001: val_custom_mae improved from inf to 28.44699, saving model to ..\\fast_output\\SYNTH_Regression_MSE\\201019_2253_final_Angular_Base_Custom-MAE\\Best_Weights_FC_32.hdf5\n",
      "16000/16000 [==============================] - 12s 753us/sample - loss: 4383.8264 - custom_mae: 40.7412 - val_loss: 2547.4752 - val_custom_mae: 28.4470\n",
      "Time taken: 0:00:13.753218\n"
     ]
    },
    {
     "name": "stderr",
     "output_type": "stream",
     "text": [
      "\r",
      "  9%|███████▏                                                                       | 33/360 [05:34<1:15:18, 13.82s/it]"
     ]
    },
    {
     "name": "stdout",
     "output_type": "stream",
     "text": [
      "{'activation': 'leakyrelu', 'batch_size': 32, 'dropout': 0.25, 'epochs': 1, 'first_neuron': 4096, 'hidden_layers': 1, 'label_type': 'Angular', 'loss_function': 'mean_squared_error', 'lr': 1, 'monitor_value': 'val_custom_mae', 'optimizer': <class 'tensorflow.python.keras.optimizer_v2.adam.Adam'>, 'reduction_metric': 'custom_mae', 'samples': 20000}\n",
      "Using Loss: mean_squared_error \n",
      "and Reduction Metric: [<function custom_mae at 0x0000024C33F2FE58>]\n",
      "Monitor: val_custom_mae\n",
      "Train on 16000 samples, validate on 4000 samples\n",
      "15904/16000 [============================>.] - ETA: 0s - loss: 3850.4395 - custom_mae: 39.6798\n",
      "Epoch 00001: val_custom_mae improved from inf to 29.95247, saving model to ..\\fast_output\\SYNTH_Regression_MSE\\201019_2253_final_Angular_Base_Custom-MAE\\Best_Weights_FC_33.hdf5\n",
      "16000/16000 [==============================] - 13s 802us/sample - loss: 3844.7822 - custom_mae: 39.6228 - val_loss: 2625.0688 - val_custom_mae: 29.9525\n",
      "Time taken: 0:00:14.529696\n"
     ]
    },
    {
     "name": "stderr",
     "output_type": "stream",
     "text": [
      "\r",
      "  9%|███████▍                                                                       | 34/360 [05:50<1:19:01, 14.54s/it]"
     ]
    },
    {
     "name": "stdout",
     "output_type": "stream",
     "text": [
      "{'activation': 'leakyrelu', 'batch_size': 32, 'dropout': 0.25, 'epochs': 1, 'first_neuron': 4096, 'hidden_layers': 1, 'label_type': 'Angular', 'loss_function': 'mean_squared_error', 'lr': 2, 'monitor_value': 'val_custom_mae', 'optimizer': <class 'tensorflow.python.keras.optimizer_v2.adam.Adam'>, 'reduction_metric': 'custom_mae', 'samples': 20000}\n",
      "Using Loss: mean_squared_error \n",
      "and Reduction Metric: [<function custom_mae at 0x0000024C33F2FE58>]\n",
      "Monitor: val_custom_mae\n",
      "Train on 16000 samples, validate on 4000 samples\n",
      "15968/16000 [============================>.] - ETA: 0s - loss: 4967.8922 - custom_mae: 44.0727\n",
      "Epoch 00001: val_custom_mae improved from inf to 29.90874, saving model to ..\\fast_output\\SYNTH_Regression_MSE\\201019_2253_final_Angular_Base_Custom-MAE\\Best_Weights_FC_34.hdf5\n",
      "16000/16000 [==============================] - 13s 802us/sample - loss: 4964.2551 - custom_mae: 44.0498 - val_loss: 2643.8360 - val_custom_mae: 29.9087\n",
      "Time taken: 0:00:14.538460\n"
     ]
    },
    {
     "name": "stderr",
     "output_type": "stream",
     "text": [
      "\r",
      " 10%|███████▋                                                                       | 35/360 [06:06<1:21:32, 15.05s/it]"
     ]
    },
    {
     "name": "stdout",
     "output_type": "stream",
     "text": [
      "{'activation': 'leakyrelu', 'batch_size': 32, 'dropout': 0.25, 'epochs': 1, 'first_neuron': 4096, 'hidden_layers': 1, 'label_type': 'Angular', 'loss_function': 'mean_squared_error', 'lr': 5, 'monitor_value': 'val_custom_mae', 'optimizer': <class 'tensorflow.python.keras.optimizer_v2.adam.Adam'>, 'reduction_metric': 'custom_mae', 'samples': 20000}\n",
      "Using Loss: mean_squared_error \n",
      "and Reduction Metric: [<function custom_mae at 0x0000024C33F2FE58>]\n",
      "Monitor: val_custom_mae\n",
      "Train on 16000 samples, validate on 4000 samples\n",
      "15872/16000 [============================>.] - ETA: 0s - loss: 35309.3986 - custom_mae: 66.1626\n",
      "Epoch 00001: val_custom_mae improved from inf to 35.28483, saving model to ..\\fast_output\\SYNTH_Regression_MSE\\201019_2253_final_Angular_Base_Custom-MAE\\Best_Weights_FC_35.hdf5\n",
      "16000/16000 [==============================] - 13s 796us/sample - loss: 35054.3851 - custom_mae: 65.9370 - val_loss: 2992.3562 - val_custom_mae: 35.2848\n",
      "Time taken: 0:00:14.431447\n"
     ]
    },
    {
     "name": "stderr",
     "output_type": "stream",
     "text": [
      "\r",
      " 10%|███████▉                                                                       | 36/360 [06:22<1:23:03, 15.38s/it]"
     ]
    },
    {
     "name": "stdout",
     "output_type": "stream",
     "text": [
      "{'activation': 'leakyrelu', 'batch_size': 32, 'dropout': 0.25, 'epochs': 1, 'first_neuron': 4096, 'hidden_layers': 2, 'label_type': 'Angular', 'loss_function': 'mean_squared_error', 'lr': 1, 'monitor_value': 'val_custom_mae', 'optimizer': <class 'tensorflow.python.keras.optimizer_v2.adam.Adam'>, 'reduction_metric': 'custom_mae', 'samples': 20000}\n",
      "Using Loss: mean_squared_error \n",
      "and Reduction Metric: [<function custom_mae at 0x0000024C33F2FE58>]\n",
      "Monitor: val_custom_mae\n",
      "Train on 16000 samples, validate on 4000 samples\n",
      "15872/16000 [============================>.] - ETA: 0s - loss: 4125.9589 - custom_mae: 41.7290\n",
      "Epoch 00001: val_custom_mae improved from inf to 29.29838, saving model to ..\\fast_output\\SYNTH_Regression_MSE\\201019_2253_final_Angular_Base_Custom-MAE\\Best_Weights_FC_36.hdf5\n",
      "16000/16000 [==============================] - 13s 816us/sample - loss: 4115.3956 - custom_mae: 41.6399 - val_loss: 2575.6039 - val_custom_mae: 29.2984\n",
      "Time taken: 0:00:14.756240\n"
     ]
    },
    {
     "name": "stderr",
     "output_type": "stream",
     "text": [
      "\r",
      " 10%|████████                                                                       | 37/360 [06:39<1:24:36, 15.72s/it]"
     ]
    },
    {
     "name": "stdout",
     "output_type": "stream",
     "text": [
      "{'activation': 'leakyrelu', 'batch_size': 32, 'dropout': 0.25, 'epochs': 1, 'first_neuron': 4096, 'hidden_layers': 2, 'label_type': 'Angular', 'loss_function': 'mean_squared_error', 'lr': 2, 'monitor_value': 'val_custom_mae', 'optimizer': <class 'tensorflow.python.keras.optimizer_v2.adam.Adam'>, 'reduction_metric': 'custom_mae', 'samples': 20000}\n",
      "Using Loss: mean_squared_error \n",
      "and Reduction Metric: [<function custom_mae at 0x0000024C33F2FE58>]\n",
      "Monitor: val_custom_mae\n",
      "Train on 16000 samples, validate on 4000 samples\n",
      "15968/16000 [============================>.] - ETA: 0s - loss: 5345.7342 - custom_mae: 44.6225\n",
      "Epoch 00001: val_custom_mae improved from inf to 29.00945, saving model to ..\\fast_output\\SYNTH_Regression_MSE\\201019_2253_final_Angular_Base_Custom-MAE\\Best_Weights_FC_37.hdf5\n",
      "16000/16000 [==============================] - 13s 817us/sample - loss: 5342.2559 - custom_mae: 44.5984 - val_loss: 2508.3856 - val_custom_mae: 29.0095\n",
      "Time taken: 0:00:14.783604\n"
     ]
    },
    {
     "name": "stderr",
     "output_type": "stream",
     "text": [
      "\r",
      " 11%|████████▎                                                                      | 38/360 [06:55<1:25:41, 15.97s/it]"
     ]
    },
    {
     "name": "stdout",
     "output_type": "stream",
     "text": [
      "{'activation': 'leakyrelu', 'batch_size': 32, 'dropout': 0.25, 'epochs': 1, 'first_neuron': 4096, 'hidden_layers': 2, 'label_type': 'Angular', 'loss_function': 'mean_squared_error', 'lr': 5, 'monitor_value': 'val_custom_mae', 'optimizer': <class 'tensorflow.python.keras.optimizer_v2.adam.Adam'>, 'reduction_metric': 'custom_mae', 'samples': 20000}\n",
      "Using Loss: mean_squared_error \n",
      "and Reduction Metric: [<function custom_mae at 0x0000024C33F2FE58>]\n",
      "Monitor: val_custom_mae\n",
      "Train on 16000 samples, validate on 4000 samples\n",
      "15872/16000 [============================>.] - ETA: 0s - loss: 578627.4051 - custom_mae: 113.3188\n",
      "Epoch 00001: val_custom_mae improved from inf to 44.22516, saving model to ..\\fast_output\\SYNTH_Regression_MSE\\201019_2253_final_Angular_Base_Custom-MAE\\Best_Weights_FC_38.hdf5\n",
      "16000/16000 [==============================] - 13s 811us/sample - loss: 574031.6954 - custom_mae: 112.7905 - val_loss: 4139.8807 - val_custom_mae: 44.2252\n",
      "Time taken: 0:00:14.691326\n"
     ]
    },
    {
     "name": "stderr",
     "output_type": "stream",
     "text": [
      "\r",
      " 11%|████████▌                                                                      | 39/360 [07:12<1:26:10, 16.11s/it]"
     ]
    },
    {
     "name": "stdout",
     "output_type": "stream",
     "text": [
      "{'activation': 'leakyrelu', 'batch_size': 32, 'dropout': 0.25, 'epochs': 1, 'first_neuron': 4096, 'hidden_layers': 3, 'label_type': 'Angular', 'loss_function': 'mean_squared_error', 'lr': 1, 'monitor_value': 'val_custom_mae', 'optimizer': <class 'tensorflow.python.keras.optimizer_v2.adam.Adam'>, 'reduction_metric': 'custom_mae', 'samples': 20000}\n",
      "Using Loss: mean_squared_error \n",
      "and Reduction Metric: [<function custom_mae at 0x0000024C33F2FE58>]\n",
      "Monitor: val_custom_mae\n",
      "Train on 16000 samples, validate on 4000 samples\n",
      "15904/16000 [============================>.] - ETA: 0s - loss: 4500.7499 - custom_mae: 44.4168\n",
      "Epoch 00001: val_custom_mae improved from inf to 31.88960, saving model to ..\\fast_output\\SYNTH_Regression_MSE\\201019_2253_final_Angular_Base_Custom-MAE\\Best_Weights_FC_39.hdf5\n",
      "16000/16000 [==============================] - 13s 822us/sample - loss: 4492.4769 - custom_mae: 44.3574 - val_loss: 2695.3639 - val_custom_mae: 31.8896\n",
      "Time taken: 0:00:14.808450\n"
     ]
    },
    {
     "name": "stderr",
     "output_type": "stream",
     "text": [
      "\r",
      " 11%|████████▊                                                                      | 40/360 [07:28<1:26:38, 16.25s/it]"
     ]
    },
    {
     "name": "stdout",
     "output_type": "stream",
     "text": [
      "{'activation': 'leakyrelu', 'batch_size': 32, 'dropout': 0.25, 'epochs': 1, 'first_neuron': 4096, 'hidden_layers': 3, 'label_type': 'Angular', 'loss_function': 'mean_squared_error', 'lr': 2, 'monitor_value': 'val_custom_mae', 'optimizer': <class 'tensorflow.python.keras.optimizer_v2.adam.Adam'>, 'reduction_metric': 'custom_mae', 'samples': 20000}\n",
      "Using Loss: mean_squared_error \n",
      "and Reduction Metric: [<function custom_mae at 0x0000024C33F2FE58>]\n",
      "Monitor: val_custom_mae\n",
      "Train on 16000 samples, validate on 4000 samples\n",
      "15872/16000 [============================>.] - ETA: 0s - loss: 5272.8825 - custom_mae: 46.1799\n",
      "Epoch 00001: val_custom_mae improved from inf to 32.62441, saving model to ..\\fast_output\\SYNTH_Regression_MSE\\201019_2253_final_Angular_Base_Custom-MAE\\Best_Weights_FC_40.hdf5\n",
      "16000/16000 [==============================] - 13s 824us/sample - loss: 5253.0215 - custom_mae: 46.0679 - val_loss: 2660.2865 - val_custom_mae: 32.6244\n",
      "Time taken: 0:00:14.889328\n"
     ]
    },
    {
     "name": "stderr",
     "output_type": "stream",
     "text": [
      "\r",
      " 11%|████████▉                                                                      | 41/360 [07:45<1:27:03, 16.37s/it]"
     ]
    },
    {
     "name": "stdout",
     "output_type": "stream",
     "text": [
      "{'activation': 'leakyrelu', 'batch_size': 32, 'dropout': 0.25, 'epochs': 1, 'first_neuron': 4096, 'hidden_layers': 3, 'label_type': 'Angular', 'loss_function': 'mean_squared_error', 'lr': 5, 'monitor_value': 'val_custom_mae', 'optimizer': <class 'tensorflow.python.keras.optimizer_v2.adam.Adam'>, 'reduction_metric': 'custom_mae', 'samples': 20000}\n",
      "Using Loss: mean_squared_error \n",
      "and Reduction Metric: [<function custom_mae at 0x0000024C33F2FE58>]\n",
      "Monitor: val_custom_mae\n",
      "Train on 16000 samples, validate on 4000 samples\n",
      "15904/16000 [============================>.] - ETA: 0s - loss: 480368.0022 - custom_mae: 171.6538\n",
      "Epoch 00001: val_custom_mae improved from inf to 56.59916, saving model to ..\\fast_output\\SYNTH_Regression_MSE\\201019_2253_final_Angular_Base_Custom-MAE\\Best_Weights_FC_41.hdf5\n",
      "16000/16000 [==============================] - 13s 824us/sample - loss: 477594.7608 - custom_mae: 171.2358 - val_loss: 5776.6174 - val_custom_mae: 56.5992\n",
      "Time taken: 0:00:14.894148\n"
     ]
    },
    {
     "name": "stderr",
     "output_type": "stream",
     "text": [
      "\r",
      " 12%|█████████▏                                                                     | 42/360 [08:02<1:27:15, 16.46s/it]"
     ]
    },
    {
     "name": "stdout",
     "output_type": "stream",
     "text": [
      "{'activation': 'leakyrelu', 'batch_size': 32, 'dropout': 0.25, 'epochs': 1, 'first_neuron': 4096, 'hidden_layers': 4, 'label_type': 'Angular', 'loss_function': 'mean_squared_error', 'lr': 1, 'monitor_value': 'val_custom_mae', 'optimizer': <class 'tensorflow.python.keras.optimizer_v2.adam.Adam'>, 'reduction_metric': 'custom_mae', 'samples': 20000}\n",
      "Using Loss: mean_squared_error \n",
      "and Reduction Metric: [<function custom_mae at 0x0000024C33F2FE58>]\n",
      "Monitor: val_custom_mae\n",
      "Train on 16000 samples, validate on 4000 samples\n",
      "15904/16000 [============================>.] - ETA: 0s - loss: 4637.2343 - custom_mae: 46.6112\n",
      "Epoch 00001: val_custom_mae improved from inf to 36.56804, saving model to ..\\fast_output\\SYNTH_Regression_MSE\\201019_2253_final_Angular_Base_Custom-MAE\\Best_Weights_FC_42.hdf5\n",
      "16000/16000 [==============================] - 13s 830us/sample - loss: 4629.0055 - custom_mae: 46.5601 - val_loss: 2887.2812 - val_custom_mae: 36.5680\n",
      "Time taken: 0:00:14.995754\n"
     ]
    },
    {
     "name": "stderr",
     "output_type": "stream",
     "text": [
      "\r",
      " 12%|█████████▍                                                                     | 43/360 [08:19<1:27:29, 16.56s/it]"
     ]
    },
    {
     "name": "stdout",
     "output_type": "stream",
     "text": [
      "{'activation': 'leakyrelu', 'batch_size': 32, 'dropout': 0.25, 'epochs': 1, 'first_neuron': 4096, 'hidden_layers': 4, 'label_type': 'Angular', 'loss_function': 'mean_squared_error', 'lr': 2, 'monitor_value': 'val_custom_mae', 'optimizer': <class 'tensorflow.python.keras.optimizer_v2.adam.Adam'>, 'reduction_metric': 'custom_mae', 'samples': 20000}\n",
      "Using Loss: mean_squared_error \n",
      "and Reduction Metric: [<function custom_mae at 0x0000024C33F2FE58>]\n",
      "Monitor: val_custom_mae\n",
      "Train on 16000 samples, validate on 4000 samples\n",
      "15872/16000 [============================>.] - ETA: 0s - loss: 6164.4483 - custom_mae: 51.1883\n",
      "Epoch 00001: val_custom_mae improved from inf to 36.06273, saving model to ..\\fast_output\\SYNTH_Regression_MSE\\201019_2253_final_Angular_Base_Custom-MAE\\Best_Weights_FC_43.hdf5\n",
      "16000/16000 [==============================] - 13s 839us/sample - loss: 6140.9293 - custom_mae: 51.0686 - val_loss: 3069.2371 - val_custom_mae: 36.0627\n",
      "Time taken: 0:00:15.133630\n"
     ]
    },
    {
     "name": "stderr",
     "output_type": "stream",
     "text": [
      "\r",
      " 12%|█████████▋                                                                     | 44/360 [08:35<1:27:47, 16.67s/it]"
     ]
    },
    {
     "name": "stdout",
     "output_type": "stream",
     "text": [
      "{'activation': 'leakyrelu', 'batch_size': 32, 'dropout': 0.25, 'epochs': 1, 'first_neuron': 4096, 'hidden_layers': 4, 'label_type': 'Angular', 'loss_function': 'mean_squared_error', 'lr': 5, 'monitor_value': 'val_custom_mae', 'optimizer': <class 'tensorflow.python.keras.optimizer_v2.adam.Adam'>, 'reduction_metric': 'custom_mae', 'samples': 20000}\n",
      "Using Loss: mean_squared_error \n",
      "and Reduction Metric: [<function custom_mae at 0x0000024C33F2FE58>]\n",
      "Monitor: val_custom_mae\n",
      "Train on 16000 samples, validate on 4000 samples\n",
      "15936/16000 [============================>.] - ETA: 0s - loss: 131289.7314 - custom_mae: 92.5345\n",
      "Epoch 00001: val_custom_mae improved from inf to 54.43892, saving model to ..\\fast_output\\SYNTH_Regression_MSE\\201019_2253_final_Angular_Base_Custom-MAE\\Best_Weights_FC_44.hdf5\n",
      "16000/16000 [==============================] - 13s 827us/sample - loss: 130790.6149 - custom_mae: 92.4019 - val_loss: 5360.7470 - val_custom_mae: 54.4389\n",
      "Time taken: 0:00:14.931575\n"
     ]
    },
    {
     "name": "stderr",
     "output_type": "stream",
     "text": [
      "\r",
      " 12%|█████████▉                                                                     | 45/360 [08:52<1:27:35, 16.68s/it]"
     ]
    },
    {
     "name": "stdout",
     "output_type": "stream",
     "text": [
      "{'activation': 'leakyrelu', 'batch_size': 32, 'dropout': 0.5, 'epochs': 1, 'first_neuron': 1024, 'hidden_layers': 0, 'label_type': 'Angular', 'loss_function': 'mean_squared_error', 'lr': 1, 'monitor_value': 'val_custom_mae', 'optimizer': <class 'tensorflow.python.keras.optimizer_v2.adam.Adam'>, 'reduction_metric': 'custom_mae', 'samples': 20000}\n",
      "Using Loss: mean_squared_error \n",
      "and Reduction Metric: [<function custom_mae at 0x0000024C33F2FE58>]\n",
      "Monitor: val_custom_mae\n",
      "Train on 16000 samples, validate on 4000 samples\n",
      "15936/16000 [============================>.] - ETA: 0s - loss: 4070.1317 - custom_mae: 41.4207\n",
      "Epoch 00001: val_custom_mae improved from inf to 33.38344, saving model to ..\\fast_output\\SYNTH_Regression_MSE\\201019_2253_final_Angular_Base_Custom-MAE\\Best_Weights_FC_45.hdf5\n",
      "16000/16000 [==============================] - 4s 276us/sample - loss: 4068.0597 - custom_mae: 41.3932 - val_loss: 3111.8447 - val_custom_mae: 33.3834\n",
      "Time taken: 0:00:06.109818\n"
     ]
    },
    {
     "name": "stderr",
     "output_type": "stream",
     "text": [
      "\r",
      " 13%|██████████                                                                     | 46/360 [09:00<1:13:21, 14.02s/it]"
     ]
    },
    {
     "name": "stdout",
     "output_type": "stream",
     "text": [
      "{'activation': 'leakyrelu', 'batch_size': 32, 'dropout': 0.5, 'epochs': 1, 'first_neuron': 1024, 'hidden_layers': 0, 'label_type': 'Angular', 'loss_function': 'mean_squared_error', 'lr': 2, 'monitor_value': 'val_custom_mae', 'optimizer': <class 'tensorflow.python.keras.optimizer_v2.adam.Adam'>, 'reduction_metric': 'custom_mae', 'samples': 20000}\n",
      "Using Loss: mean_squared_error \n",
      "and Reduction Metric: [<function custom_mae at 0x0000024C33F2FE58>]\n",
      "Monitor: val_custom_mae\n",
      "Train on 16000 samples, validate on 4000 samples\n",
      "15936/16000 [============================>.] - ETA: 0s - loss: 4003.9851 - custom_mae: 40.8321\n",
      "Epoch 00001: val_custom_mae improved from inf to 33.53440, saving model to ..\\fast_output\\SYNTH_Regression_MSE\\201019_2253_final_Angular_Base_Custom-MAE\\Best_Weights_FC_46.hdf5\n",
      "16000/16000 [==============================] - 4s 280us/sample - loss: 4002.6019 - custom_mae: 40.8035 - val_loss: 3129.7665 - val_custom_mae: 33.5344\n",
      "Time taken: 0:00:06.184446\n"
     ]
    },
    {
     "name": "stderr",
     "output_type": "stream",
     "text": [
      "\r",
      " 13%|██████████▎                                                                    | 47/360 [09:08<1:03:28, 12.17s/it]"
     ]
    },
    {
     "name": "stdout",
     "output_type": "stream",
     "text": [
      "{'activation': 'leakyrelu', 'batch_size': 32, 'dropout': 0.5, 'epochs': 1, 'first_neuron': 1024, 'hidden_layers': 0, 'label_type': 'Angular', 'loss_function': 'mean_squared_error', 'lr': 5, 'monitor_value': 'val_custom_mae', 'optimizer': <class 'tensorflow.python.keras.optimizer_v2.adam.Adam'>, 'reduction_metric': 'custom_mae', 'samples': 20000}\n",
      "Using Loss: mean_squared_error \n",
      "and Reduction Metric: [<function custom_mae at 0x0000024C33F2FE58>]\n",
      "Monitor: val_custom_mae\n",
      "Train on 16000 samples, validate on 4000 samples\n",
      "15936/16000 [============================>.] - ETA: 0s - loss: 4215.9007 - custom_mae: 42.1501\n",
      "Epoch 00001: val_custom_mae improved from inf to 35.25656, saving model to ..\\fast_output\\SYNTH_Regression_MSE\\201019_2253_final_Angular_Base_Custom-MAE\\Best_Weights_FC_47.hdf5\n",
      "16000/16000 [==============================] - 4s 278us/sample - loss: 4214.7648 - custom_mae: 42.1398 - val_loss: 3302.8788 - val_custom_mae: 35.2566\n",
      "Time taken: 0:00:06.158778\n"
     ]
    },
    {
     "name": "stderr",
     "output_type": "stream",
     "text": [
      "\r",
      " 13%|██████████▊                                                                      | 48/360 [09:16<56:28, 10.86s/it]"
     ]
    },
    {
     "name": "stdout",
     "output_type": "stream",
     "text": [
      "{'activation': 'leakyrelu', 'batch_size': 32, 'dropout': 0.5, 'epochs': 1, 'first_neuron': 1024, 'hidden_layers': 1, 'label_type': 'Angular', 'loss_function': 'mean_squared_error', 'lr': 1, 'monitor_value': 'val_custom_mae', 'optimizer': <class 'tensorflow.python.keras.optimizer_v2.adam.Adam'>, 'reduction_metric': 'custom_mae', 'samples': 20000}\n",
      "Using Loss: mean_squared_error \n",
      "and Reduction Metric: [<function custom_mae at 0x0000024C33F2FE58>]\n",
      "Monitor: val_custom_mae\n",
      "Train on 16000 samples, validate on 4000 samples\n",
      "15744/16000 [============================>.] - ETA: 0s - loss: 4470.8535 - custom_mae: 44.8775\n",
      "Epoch 00001: val_custom_mae improved from inf to 33.83616, saving model to ..\\fast_output\\SYNTH_Regression_MSE\\201019_2253_final_Angular_Base_Custom-MAE\\Best_Weights_FC_48.hdf5\n",
      "16000/16000 [==============================] - 5s 293us/sample - loss: 4454.6593 - custom_mae: 44.7359 - val_loss: 3044.8561 - val_custom_mae: 33.8362\n",
      "Time taken: 0:00:06.412682\n"
     ]
    },
    {
     "name": "stderr",
     "output_type": "stream",
     "text": [
      "\r",
      " 14%|███████████                                                                      | 49/360 [09:24<52:01, 10.04s/it]"
     ]
    },
    {
     "name": "stdout",
     "output_type": "stream",
     "text": [
      "{'activation': 'leakyrelu', 'batch_size': 32, 'dropout': 0.5, 'epochs': 1, 'first_neuron': 1024, 'hidden_layers': 1, 'label_type': 'Angular', 'loss_function': 'mean_squared_error', 'lr': 2, 'monitor_value': 'val_custom_mae', 'optimizer': <class 'tensorflow.python.keras.optimizer_v2.adam.Adam'>, 'reduction_metric': 'custom_mae', 'samples': 20000}\n",
      "Using Loss: mean_squared_error \n",
      "and Reduction Metric: [<function custom_mae at 0x0000024C33F2FE58>]\n",
      "Monitor: val_custom_mae\n",
      "Train on 16000 samples, validate on 4000 samples\n",
      "15680/16000 [============================>.] - ETA: 0s - loss: 4537.3101 - custom_mae: 45.0832\n",
      "Epoch 00001: val_custom_mae improved from inf to 35.54845, saving model to ..\\fast_output\\SYNTH_Regression_MSE\\201019_2253_final_Angular_Base_Custom-MAE\\Best_Weights_FC_49.hdf5\n",
      "16000/16000 [==============================] - 5s 292us/sample - loss: 4510.4157 - custom_mae: 44.9113 - val_loss: 3141.6470 - val_custom_mae: 35.5485\n",
      "Time taken: 0:00:06.345241\n"
     ]
    },
    {
     "name": "stderr",
     "output_type": "stream",
     "text": [
      "\r",
      " 14%|███████████▎                                                                     | 50/360 [09:32<48:46,  9.44s/it]"
     ]
    },
    {
     "name": "stdout",
     "output_type": "stream",
     "text": [
      "{'activation': 'leakyrelu', 'batch_size': 32, 'dropout': 0.5, 'epochs': 1, 'first_neuron': 1024, 'hidden_layers': 1, 'label_type': 'Angular', 'loss_function': 'mean_squared_error', 'lr': 5, 'monitor_value': 'val_custom_mae', 'optimizer': <class 'tensorflow.python.keras.optimizer_v2.adam.Adam'>, 'reduction_metric': 'custom_mae', 'samples': 20000}\n",
      "Using Loss: mean_squared_error \n",
      "and Reduction Metric: [<function custom_mae at 0x0000024C33F2FE58>]\n",
      "Monitor: val_custom_mae\n",
      "Train on 16000 samples, validate on 4000 samples\n",
      "15936/16000 [============================>.] - ETA: 0s - loss: 5023.8855 - custom_mae: 46.6080\n",
      "Epoch 00001: val_custom_mae improved from inf to 37.19419, saving model to ..\\fast_output\\SYNTH_Regression_MSE\\201019_2253_final_Angular_Base_Custom-MAE\\Best_Weights_FC_50.hdf5\n",
      "16000/16000 [==============================] - 5s 297us/sample - loss: 5019.6433 - custom_mae: 46.5762 - val_loss: 3465.3418 - val_custom_mae: 37.1942\n",
      "Time taken: 0:00:06.450449\n"
     ]
    },
    {
     "name": "stderr",
     "output_type": "stream",
     "text": [
      "\r",
      " 14%|███████████▍                                                                     | 51/360 [09:40<46:38,  9.06s/it]"
     ]
    },
    {
     "name": "stdout",
     "output_type": "stream",
     "text": [
      "{'activation': 'leakyrelu', 'batch_size': 32, 'dropout': 0.5, 'epochs': 1, 'first_neuron': 1024, 'hidden_layers': 2, 'label_type': 'Angular', 'loss_function': 'mean_squared_error', 'lr': 1, 'monitor_value': 'val_custom_mae', 'optimizer': <class 'tensorflow.python.keras.optimizer_v2.adam.Adam'>, 'reduction_metric': 'custom_mae', 'samples': 20000}\n",
      "Using Loss: mean_squared_error \n",
      "and Reduction Metric: [<function custom_mae at 0x0000024C33F2FE58>]\n",
      "Monitor: val_custom_mae\n",
      "Train on 16000 samples, validate on 4000 samples\n",
      "15840/16000 [============================>.] - ETA: 0s - loss: 5018.5913 - custom_mae: 49.3479\n",
      "Epoch 00001: val_custom_mae improved from inf to 35.31733, saving model to ..\\fast_output\\SYNTH_Regression_MSE\\201019_2253_final_Angular_Base_Custom-MAE\\Best_Weights_FC_51.hdf5\n",
      "16000/16000 [==============================] - 5s 302us/sample - loss: 5010.3531 - custom_mae: 49.2694 - val_loss: 3188.7617 - val_custom_mae: 35.3173\n",
      "Time taken: 0:00:06.533437\n"
     ]
    },
    {
     "name": "stderr",
     "output_type": "stream",
     "text": [
      "\r",
      " 14%|███████████▋                                                                     | 52/360 [09:48<45:15,  8.82s/it]"
     ]
    },
    {
     "name": "stdout",
     "output_type": "stream",
     "text": [
      "{'activation': 'leakyrelu', 'batch_size': 32, 'dropout': 0.5, 'epochs': 1, 'first_neuron': 1024, 'hidden_layers': 2, 'label_type': 'Angular', 'loss_function': 'mean_squared_error', 'lr': 2, 'monitor_value': 'val_custom_mae', 'optimizer': <class 'tensorflow.python.keras.optimizer_v2.adam.Adam'>, 'reduction_metric': 'custom_mae', 'samples': 20000}\n",
      "Using Loss: mean_squared_error \n",
      "and Reduction Metric: [<function custom_mae at 0x0000024C33F2FE58>]\n",
      "Monitor: val_custom_mae\n",
      "Train on 16000 samples, validate on 4000 samples\n",
      "15904/16000 [============================>.] - ETA: 0s - loss: 5108.8617 - custom_mae: 49.7083\n",
      "Epoch 00001: val_custom_mae improved from inf to 36.13601, saving model to ..\\fast_output\\SYNTH_Regression_MSE\\201019_2253_final_Angular_Base_Custom-MAE\\Best_Weights_FC_52.hdf5\n",
      "16000/16000 [==============================] - 5s 300us/sample - loss: 5105.8317 - custom_mae: 49.6676 - val_loss: 3236.1355 - val_custom_mae: 36.1360\n",
      "Time taken: 0:00:06.504861\n"
     ]
    },
    {
     "name": "stderr",
     "output_type": "stream",
     "text": [
      "\r",
      " 15%|███████████▉                                                                     | 53/360 [09:56<44:12,  8.64s/it]"
     ]
    },
    {
     "name": "stdout",
     "output_type": "stream",
     "text": [
      "{'activation': 'leakyrelu', 'batch_size': 32, 'dropout': 0.5, 'epochs': 1, 'first_neuron': 1024, 'hidden_layers': 2, 'label_type': 'Angular', 'loss_function': 'mean_squared_error', 'lr': 5, 'monitor_value': 'val_custom_mae', 'optimizer': <class 'tensorflow.python.keras.optimizer_v2.adam.Adam'>, 'reduction_metric': 'custom_mae', 'samples': 20000}\n",
      "Using Loss: mean_squared_error \n",
      "and Reduction Metric: [<function custom_mae at 0x0000024C33F2FE58>]\n",
      "Monitor: val_custom_mae\n",
      "Train on 16000 samples, validate on 4000 samples\n",
      "15840/16000 [============================>.] - ETA: 0s - loss: 5613.5003 - custom_mae: 52.7570\n",
      "Epoch 00001: val_custom_mae improved from inf to 40.31086, saving model to ..\\fast_output\\SYNTH_Regression_MSE\\201019_2253_final_Angular_Base_Custom-MAE\\Best_Weights_FC_53.hdf5\n",
      "16000/16000 [==============================] - 5s 300us/sample - loss: 5599.9949 - custom_mae: 52.6741 - val_loss: 3533.6095 - val_custom_mae: 40.3109\n",
      "Time taken: 0:00:06.511936\n"
     ]
    },
    {
     "name": "stderr",
     "output_type": "stream",
     "text": [
      "\r",
      " 15%|████████████▏                                                                    | 54/360 [10:05<43:27,  8.52s/it]"
     ]
    },
    {
     "name": "stdout",
     "output_type": "stream",
     "text": [
      "{'activation': 'leakyrelu', 'batch_size': 32, 'dropout': 0.5, 'epochs': 1, 'first_neuron': 1024, 'hidden_layers': 3, 'label_type': 'Angular', 'loss_function': 'mean_squared_error', 'lr': 1, 'monitor_value': 'val_custom_mae', 'optimizer': <class 'tensorflow.python.keras.optimizer_v2.adam.Adam'>, 'reduction_metric': 'custom_mae', 'samples': 20000}\n",
      "Using Loss: mean_squared_error \n",
      "and Reduction Metric: [<function custom_mae at 0x0000024C33F2FE58>]\n",
      "Monitor: val_custom_mae\n",
      "Train on 16000 samples, validate on 4000 samples\n",
      "15712/16000 [============================>.] - ETA: 0s - loss: 5845.5418 - custom_mae: 55.1146\n",
      "Epoch 00001: val_custom_mae improved from inf to 49.54732, saving model to ..\\fast_output\\SYNTH_Regression_MSE\\201019_2253_final_Angular_Base_Custom-MAE\\Best_Weights_FC_54.hdf5\n",
      "16000/16000 [==============================] - 5s 309us/sample - loss: 5818.5018 - custom_mae: 54.9540 - val_loss: 4790.0856 - val_custom_mae: 49.5473\n",
      "Time taken: 0:00:06.663192\n"
     ]
    },
    {
     "name": "stderr",
     "output_type": "stream",
     "text": [
      "\r",
      " 15%|████████████▍                                                                    | 55/360 [10:13<43:08,  8.49s/it]"
     ]
    },
    {
     "name": "stdout",
     "output_type": "stream",
     "text": [
      "{'activation': 'leakyrelu', 'batch_size': 32, 'dropout': 0.5, 'epochs': 1, 'first_neuron': 1024, 'hidden_layers': 3, 'label_type': 'Angular', 'loss_function': 'mean_squared_error', 'lr': 2, 'monitor_value': 'val_custom_mae', 'optimizer': <class 'tensorflow.python.keras.optimizer_v2.adam.Adam'>, 'reduction_metric': 'custom_mae', 'samples': 20000}\n",
      "Using Loss: mean_squared_error \n",
      "and Reduction Metric: [<function custom_mae at 0x0000024C33F2FE58>]\n",
      "Monitor: val_custom_mae\n",
      "Train on 16000 samples, validate on 4000 samples\n",
      "15776/16000 [============================>.] - ETA: 0s - loss: 6065.7119 - custom_mae: 56.2716\n",
      "Epoch 00001: val_custom_mae improved from inf to 51.41327, saving model to ..\\fast_output\\SYNTH_Regression_MSE\\201019_2253_final_Angular_Base_Custom-MAE\\Best_Weights_FC_55.hdf5\n",
      "16000/16000 [==============================] - 5s 311us/sample - loss: 6057.3880 - custom_mae: 56.2125 - val_loss: 5095.5279 - val_custom_mae: 51.4133\n",
      "Time taken: 0:00:06.663480\n"
     ]
    },
    {
     "name": "stderr",
     "output_type": "stream",
     "text": [
      "\r",
      " 16%|████████████▌                                                                    | 56/360 [10:22<42:53,  8.46s/it]"
     ]
    },
    {
     "name": "stdout",
     "output_type": "stream",
     "text": [
      "{'activation': 'leakyrelu', 'batch_size': 32, 'dropout': 0.5, 'epochs': 1, 'first_neuron': 1024, 'hidden_layers': 3, 'label_type': 'Angular', 'loss_function': 'mean_squared_error', 'lr': 5, 'monitor_value': 'val_custom_mae', 'optimizer': <class 'tensorflow.python.keras.optimizer_v2.adam.Adam'>, 'reduction_metric': 'custom_mae', 'samples': 20000}\n",
      "Using Loss: mean_squared_error \n",
      "and Reduction Metric: [<function custom_mae at 0x0000024C33F2FE58>]\n",
      "Monitor: val_custom_mae\n",
      "Train on 16000 samples, validate on 4000 samples\n",
      "15840/16000 [============================>.] - ETA: 0s - loss: 7371.6198 - custom_mae: 61.9334\n",
      "Epoch 00001: val_custom_mae improved from inf to 54.31479, saving model to ..\\fast_output\\SYNTH_Regression_MSE\\201019_2253_final_Angular_Base_Custom-MAE\\Best_Weights_FC_56.hdf5\n",
      "16000/16000 [==============================] - 5s 312us/sample - loss: 7366.0051 - custom_mae: 61.9117 - val_loss: 5239.1828 - val_custom_mae: 54.3148\n",
      "Time taken: 0:00:06.707450\n"
     ]
    },
    {
     "name": "stderr",
     "output_type": "stream",
     "text": [
      "\r",
      " 16%|████████████▊                                                                    | 57/360 [10:30<42:44,  8.46s/it]"
     ]
    },
    {
     "name": "stdout",
     "output_type": "stream",
     "text": [
      "{'activation': 'leakyrelu', 'batch_size': 32, 'dropout': 0.5, 'epochs': 1, 'first_neuron': 1024, 'hidden_layers': 4, 'label_type': 'Angular', 'loss_function': 'mean_squared_error', 'lr': 1, 'monitor_value': 'val_custom_mae', 'optimizer': <class 'tensorflow.python.keras.optimizer_v2.adam.Adam'>, 'reduction_metric': 'custom_mae', 'samples': 20000}\n",
      "Using Loss: mean_squared_error \n",
      "and Reduction Metric: [<function custom_mae at 0x0000024C33F2FE58>]\n",
      "Monitor: val_custom_mae\n",
      "Train on 16000 samples, validate on 4000 samples\n",
      "15808/16000 [============================>.] - ETA: 0s - loss: 6929.1411 - custom_mae: 60.3233\n",
      "Epoch 00001: val_custom_mae improved from inf to 62.38894, saving model to ..\\fast_output\\SYNTH_Regression_MSE\\201019_2253_final_Angular_Base_Custom-MAE\\Best_Weights_FC_57.hdf5\n",
      "16000/16000 [==============================] - 5s 318us/sample - loss: 6911.8259 - custom_mae: 60.2349 - val_loss: 7518.4392 - val_custom_mae: 62.3889\n",
      "Time taken: 0:00:06.790018\n"
     ]
    },
    {
     "name": "stderr",
     "output_type": "stream",
     "text": [
      "\r",
      " 16%|█████████████                                                                    | 58/360 [10:39<42:45,  8.50s/it]"
     ]
    },
    {
     "name": "stdout",
     "output_type": "stream",
     "text": [
      "{'activation': 'leakyrelu', 'batch_size': 32, 'dropout': 0.5, 'epochs': 1, 'first_neuron': 1024, 'hidden_layers': 4, 'label_type': 'Angular', 'loss_function': 'mean_squared_error', 'lr': 2, 'monitor_value': 'val_custom_mae', 'optimizer': <class 'tensorflow.python.keras.optimizer_v2.adam.Adam'>, 'reduction_metric': 'custom_mae', 'samples': 20000}\n",
      "Using Loss: mean_squared_error \n",
      "and Reduction Metric: [<function custom_mae at 0x0000024C33F2FE58>]\n",
      "Monitor: val_custom_mae\n",
      "Train on 16000 samples, validate on 4000 samples\n",
      "15712/16000 [============================>.] - ETA: 0s - loss: 7044.0261 - custom_mae: 60.4194\n",
      "Epoch 00001: val_custom_mae improved from inf to 58.58079, saving model to ..\\fast_output\\SYNTH_Regression_MSE\\201019_2253_final_Angular_Base_Custom-MAE\\Best_Weights_FC_58.hdf5\n",
      "16000/16000 [==============================] - 5s 320us/sample - loss: 7015.8842 - custom_mae: 60.2604 - val_loss: 6629.3670 - val_custom_mae: 58.5808\n",
      "Time taken: 0:00:06.825507\n"
     ]
    },
    {
     "name": "stderr",
     "output_type": "stream",
     "text": [
      "\r",
      " 16%|█████████████▎                                                                   | 59/360 [10:47<42:46,  8.53s/it]"
     ]
    },
    {
     "name": "stdout",
     "output_type": "stream",
     "text": [
      "{'activation': 'leakyrelu', 'batch_size': 32, 'dropout': 0.5, 'epochs': 1, 'first_neuron': 1024, 'hidden_layers': 4, 'label_type': 'Angular', 'loss_function': 'mean_squared_error', 'lr': 5, 'monitor_value': 'val_custom_mae', 'optimizer': <class 'tensorflow.python.keras.optimizer_v2.adam.Adam'>, 'reduction_metric': 'custom_mae', 'samples': 20000}\n",
      "Using Loss: mean_squared_error \n",
      "and Reduction Metric: [<function custom_mae at 0x0000024C33F2FE58>]\n",
      "Monitor: val_custom_mae\n",
      "Train on 16000 samples, validate on 4000 samples\n",
      "15840/16000 [============================>.] - ETA: 0s - loss: 7525.3294 - custom_mae: 62.0105\n",
      "Epoch 00001: val_custom_mae improved from inf to 48.95133, saving model to ..\\fast_output\\SYNTH_Regression_MSE\\201019_2253_final_Angular_Base_Custom-MAE\\Best_Weights_FC_59.hdf5\n",
      "16000/16000 [==============================] - 5s 317us/sample - loss: 7510.9599 - custom_mae: 61.9370 - val_loss: 4426.0161 - val_custom_mae: 48.9513\n",
      "Time taken: 0:00:06.769019\n"
     ]
    },
    {
     "name": "stderr",
     "output_type": "stream",
     "text": [
      "\r",
      " 17%|█████████████▌                                                                   | 60/360 [10:56<42:40,  8.53s/it]"
     ]
    },
    {
     "name": "stdout",
     "output_type": "stream",
     "text": [
      "{'activation': 'leakyrelu', 'batch_size': 32, 'dropout': 0.5, 'epochs': 1, 'first_neuron': 2048, 'hidden_layers': 0, 'label_type': 'Angular', 'loss_function': 'mean_squared_error', 'lr': 1, 'monitor_value': 'val_custom_mae', 'optimizer': <class 'tensorflow.python.keras.optimizer_v2.adam.Adam'>, 'reduction_metric': 'custom_mae', 'samples': 20000}\n",
      "Using Loss: mean_squared_error \n",
      "and Reduction Metric: [<function custom_mae at 0x0000024C33F2FE58>]\n",
      "Monitor: val_custom_mae\n",
      "Train on 16000 samples, validate on 4000 samples\n",
      "15904/16000 [============================>.] - ETA: 0s - loss: 3977.2732 - custom_mae: 40.4751\n",
      "Epoch 00001: val_custom_mae improved from inf to 33.11941, saving model to ..\\fast_output\\SYNTH_Regression_MSE\\201019_2253_final_Angular_Base_Custom-MAE\\Best_Weights_FC_60.hdf5\n",
      "16000/16000 [==============================] - 7s 435us/sample - loss: 3971.9229 - custom_mae: 40.4258 - val_loss: 3074.5452 - val_custom_mae: 33.1194\n",
      "Time taken: 0:00:08.669057\n"
     ]
    },
    {
     "name": "stderr",
     "output_type": "stream",
     "text": [
      "\r",
      " 17%|█████████████▋                                                                   | 61/360 [11:06<45:16,  9.09s/it]"
     ]
    },
    {
     "name": "stdout",
     "output_type": "stream",
     "text": [
      "{'activation': 'leakyrelu', 'batch_size': 32, 'dropout': 0.5, 'epochs': 1, 'first_neuron': 2048, 'hidden_layers': 0, 'label_type': 'Angular', 'loss_function': 'mean_squared_error', 'lr': 2, 'monitor_value': 'val_custom_mae', 'optimizer': <class 'tensorflow.python.keras.optimizer_v2.adam.Adam'>, 'reduction_metric': 'custom_mae', 'samples': 20000}\n",
      "Using Loss: mean_squared_error \n",
      "and Reduction Metric: [<function custom_mae at 0x0000024C33F2FE58>]\n",
      "Monitor: val_custom_mae\n",
      "Train on 16000 samples, validate on 4000 samples\n",
      "15840/16000 [============================>.] - ETA: 0s - loss: 4029.3945 - custom_mae: 40.7869\n",
      "Epoch 00001: val_custom_mae improved from inf to 36.57350, saving model to ..\\fast_output\\SYNTH_Regression_MSE\\201019_2253_final_Angular_Base_Custom-MAE\\Best_Weights_FC_61.hdf5\n",
      "16000/16000 [==============================] - 7s 435us/sample - loss: 4020.6832 - custom_mae: 40.7215 - val_loss: 3474.7398 - val_custom_mae: 36.5735\n",
      "Time taken: 0:00:08.674074\n"
     ]
    },
    {
     "name": "stderr",
     "output_type": "stream",
     "text": [
      "\r",
      " 17%|█████████████▉                                                                   | 62/360 [11:16<47:02,  9.47s/it]"
     ]
    },
    {
     "name": "stdout",
     "output_type": "stream",
     "text": [
      "{'activation': 'leakyrelu', 'batch_size': 32, 'dropout': 0.5, 'epochs': 1, 'first_neuron': 2048, 'hidden_layers': 0, 'label_type': 'Angular', 'loss_function': 'mean_squared_error', 'lr': 5, 'monitor_value': 'val_custom_mae', 'optimizer': <class 'tensorflow.python.keras.optimizer_v2.adam.Adam'>, 'reduction_metric': 'custom_mae', 'samples': 20000}\n",
      "Using Loss: mean_squared_error \n",
      "and Reduction Metric: [<function custom_mae at 0x0000024C33F2FE58>]\n",
      "Monitor: val_custom_mae\n",
      "Train on 16000 samples, validate on 4000 samples\n",
      "15840/16000 [============================>.] - ETA: 0s - loss: 4417.2576 - custom_mae: 42.9830\n",
      "Epoch 00001: val_custom_mae improved from inf to 32.39521, saving model to ..\\fast_output\\SYNTH_Regression_MSE\\201019_2253_final_Angular_Base_Custom-MAE\\Best_Weights_FC_62.hdf5\n",
      "16000/16000 [==============================] - 7s 439us/sample - loss: 4404.0446 - custom_mae: 42.8916 - val_loss: 2965.1034 - val_custom_mae: 32.3952\n",
      "Time taken: 0:00:08.726003\n"
     ]
    },
    {
     "name": "stderr",
     "output_type": "stream",
     "text": [
      "\r",
      " 18%|██████████████▏                                                                  | 63/360 [11:27<48:16,  9.75s/it]"
     ]
    },
    {
     "name": "stdout",
     "output_type": "stream",
     "text": [
      "{'activation': 'leakyrelu', 'batch_size': 32, 'dropout': 0.5, 'epochs': 1, 'first_neuron': 2048, 'hidden_layers': 1, 'label_type': 'Angular', 'loss_function': 'mean_squared_error', 'lr': 1, 'monitor_value': 'val_custom_mae', 'optimizer': <class 'tensorflow.python.keras.optimizer_v2.adam.Adam'>, 'reduction_metric': 'custom_mae', 'samples': 20000}\n",
      "Using Loss: mean_squared_error \n",
      "and Reduction Metric: [<function custom_mae at 0x0000024C33F2FE58>]\n",
      "Monitor: val_custom_mae\n",
      "Train on 16000 samples, validate on 4000 samples\n",
      "15872/16000 [============================>.] - ETA: 0s - loss: 4371.9039 - custom_mae: 43.8557\n",
      "Epoch 00001: val_custom_mae improved from inf to 35.46663, saving model to ..\\fast_output\\SYNTH_Regression_MSE\\201019_2253_final_Angular_Base_Custom-MAE\\Best_Weights_FC_63.hdf5\n",
      "16000/16000 [==============================] - 7s 450us/sample - loss: 4363.9872 - custom_mae: 43.7990 - val_loss: 3338.1795 - val_custom_mae: 35.4666\n",
      "Time taken: 0:00:08.890678\n"
     ]
    },
    {
     "name": "stderr",
     "output_type": "stream",
     "text": [
      "\r",
      " 18%|██████████████▍                                                                  | 64/360 [11:37<49:19, 10.00s/it]"
     ]
    },
    {
     "name": "stdout",
     "output_type": "stream",
     "text": [
      "{'activation': 'leakyrelu', 'batch_size': 32, 'dropout': 0.5, 'epochs': 1, 'first_neuron': 2048, 'hidden_layers': 1, 'label_type': 'Angular', 'loss_function': 'mean_squared_error', 'lr': 2, 'monitor_value': 'val_custom_mae', 'optimizer': <class 'tensorflow.python.keras.optimizer_v2.adam.Adam'>, 'reduction_metric': 'custom_mae', 'samples': 20000}\n",
      "Using Loss: mean_squared_error \n",
      "and Reduction Metric: [<function custom_mae at 0x0000024C33F2FE58>]\n",
      "Monitor: val_custom_mae\n",
      "Train on 16000 samples, validate on 4000 samples\n",
      "15968/16000 [============================>.] - ETA: 0s - loss: 4490.1161 - custom_mae: 44.7258\n",
      "Epoch 00001: val_custom_mae improved from inf to 37.77930, saving model to ..\\fast_output\\SYNTH_Regression_MSE\\201019_2253_final_Angular_Base_Custom-MAE\\Best_Weights_FC_64.hdf5\n",
      "16000/16000 [==============================] - 7s 454us/sample - loss: 4488.5005 - custom_mae: 44.7084 - val_loss: 3564.8933 - val_custom_mae: 37.7793\n",
      "Time taken: 0:00:08.961121\n"
     ]
    },
    {
     "name": "stderr",
     "output_type": "stream",
     "text": [
      "\r",
      " 18%|██████████████▋                                                                  | 65/360 [11:48<50:06, 10.19s/it]"
     ]
    },
    {
     "name": "stdout",
     "output_type": "stream",
     "text": [
      "{'activation': 'leakyrelu', 'batch_size': 32, 'dropout': 0.5, 'epochs': 1, 'first_neuron': 2048, 'hidden_layers': 1, 'label_type': 'Angular', 'loss_function': 'mean_squared_error', 'lr': 5, 'monitor_value': 'val_custom_mae', 'optimizer': <class 'tensorflow.python.keras.optimizer_v2.adam.Adam'>, 'reduction_metric': 'custom_mae', 'samples': 20000}\n",
      "Using Loss: mean_squared_error \n",
      "and Reduction Metric: [<function custom_mae at 0x0000024C33F2FE58>]\n",
      "Monitor: val_custom_mae\n",
      "Train on 16000 samples, validate on 4000 samples\n",
      "15776/16000 [============================>.] - ETA: 0s - loss: 8899.8343 - custom_mae: 51.7388\n",
      "Epoch 00001: val_custom_mae improved from inf to 34.32538, saving model to ..\\fast_output\\SYNTH_Regression_MSE\\201019_2253_final_Angular_Base_Custom-MAE\\Best_Weights_FC_65.hdf5\n",
      "16000/16000 [==============================] - 7s 455us/sample - loss: 8820.2584 - custom_mae: 51.5203 - val_loss: 3115.1217 - val_custom_mae: 34.3254\n",
      "Time taken: 0:00:08.990535\n"
     ]
    },
    {
     "name": "stderr",
     "output_type": "stream",
     "text": [
      "\r",
      " 18%|██████████████▊                                                                  | 66/360 [11:59<50:40, 10.34s/it]"
     ]
    },
    {
     "name": "stdout",
     "output_type": "stream",
     "text": [
      "{'activation': 'leakyrelu', 'batch_size': 32, 'dropout': 0.5, 'epochs': 1, 'first_neuron': 2048, 'hidden_layers': 2, 'label_type': 'Angular', 'loss_function': 'mean_squared_error', 'lr': 1, 'monitor_value': 'val_custom_mae', 'optimizer': <class 'tensorflow.python.keras.optimizer_v2.adam.Adam'>, 'reduction_metric': 'custom_mae', 'samples': 20000}\n",
      "Using Loss: mean_squared_error \n",
      "and Reduction Metric: [<function custom_mae at 0x0000024C33F2FE58>]\n",
      "Monitor: val_custom_mae\n",
      "Train on 16000 samples, validate on 4000 samples\n",
      "15840/16000 [============================>.] - ETA: 0s - loss: 4816.6805 - custom_mae: 47.5821\n",
      "Epoch 00001: val_custom_mae improved from inf to 34.83102, saving model to ..\\fast_output\\SYNTH_Regression_MSE\\201019_2253_final_Angular_Base_Custom-MAE\\Best_Weights_FC_66.hdf5\n",
      "16000/16000 [==============================] - 7s 464us/sample - loss: 4804.5675 - custom_mae: 47.4778 - val_loss: 3119.8478 - val_custom_mae: 34.8310\n",
      "Time taken: 0:00:09.134372\n"
     ]
    },
    {
     "name": "stderr",
     "output_type": "stream",
     "text": [
      "\r",
      " 19%|███████████████                                                                  | 67/360 [12:10<51:15, 10.50s/it]"
     ]
    },
    {
     "name": "stdout",
     "output_type": "stream",
     "text": [
      "{'activation': 'leakyrelu', 'batch_size': 32, 'dropout': 0.5, 'epochs': 1, 'first_neuron': 2048, 'hidden_layers': 2, 'label_type': 'Angular', 'loss_function': 'mean_squared_error', 'lr': 2, 'monitor_value': 'val_custom_mae', 'optimizer': <class 'tensorflow.python.keras.optimizer_v2.adam.Adam'>, 'reduction_metric': 'custom_mae', 'samples': 20000}\n",
      "Using Loss: mean_squared_error \n",
      "and Reduction Metric: [<function custom_mae at 0x0000024C33F2FE58>]\n",
      "Monitor: val_custom_mae\n",
      "Train on 16000 samples, validate on 4000 samples\n",
      "15808/16000 [============================>.] - ETA: 0s - loss: 5067.5333 - custom_mae: 49.0333\n",
      "Epoch 00001: val_custom_mae improved from inf to 34.23646, saving model to ..\\fast_output\\SYNTH_Regression_MSE\\201019_2253_final_Angular_Base_Custom-MAE\\Best_Weights_FC_67.hdf5\n",
      "16000/16000 [==============================] - 7s 462us/sample - loss: 5046.1368 - custom_mae: 48.8970 - val_loss: 3036.2838 - val_custom_mae: 34.2365\n",
      "Time taken: 0:00:09.080721\n"
     ]
    },
    {
     "name": "stderr",
     "output_type": "stream",
     "text": [
      "\r",
      " 19%|███████████████▎                                                                 | 68/360 [12:20<51:33, 10.59s/it]"
     ]
    },
    {
     "name": "stdout",
     "output_type": "stream",
     "text": [
      "{'activation': 'leakyrelu', 'batch_size': 32, 'dropout': 0.5, 'epochs': 1, 'first_neuron': 2048, 'hidden_layers': 2, 'label_type': 'Angular', 'loss_function': 'mean_squared_error', 'lr': 5, 'monitor_value': 'val_custom_mae', 'optimizer': <class 'tensorflow.python.keras.optimizer_v2.adam.Adam'>, 'reduction_metric': 'custom_mae', 'samples': 20000}\n",
      "Using Loss: mean_squared_error \n",
      "and Reduction Metric: [<function custom_mae at 0x0000024C33F2FE58>]\n",
      "Monitor: val_custom_mae\n",
      "Train on 16000 samples, validate on 4000 samples\n",
      "15808/16000 [============================>.] - ETA: 0s - loss: 9010.6065 - custom_mae: 55.5482\n",
      "Epoch 00001: val_custom_mae improved from inf to 37.41811, saving model to ..\\fast_output\\SYNTH_Regression_MSE\\201019_2253_final_Angular_Base_Custom-MAE\\Best_Weights_FC_68.hdf5\n",
      "16000/16000 [==============================] - 7s 467us/sample - loss: 8945.5197 - custom_mae: 55.3598 - val_loss: 3275.6486 - val_custom_mae: 37.4181\n",
      "Time taken: 0:00:09.184349\n"
     ]
    },
    {
     "name": "stderr",
     "output_type": "stream",
     "text": [
      "\r",
      " 19%|███████████████▌                                                                 | 69/360 [12:31<51:49, 10.69s/it]"
     ]
    },
    {
     "name": "stdout",
     "output_type": "stream",
     "text": [
      "{'activation': 'leakyrelu', 'batch_size': 32, 'dropout': 0.5, 'epochs': 1, 'first_neuron': 2048, 'hidden_layers': 3, 'label_type': 'Angular', 'loss_function': 'mean_squared_error', 'lr': 1, 'monitor_value': 'val_custom_mae', 'optimizer': <class 'tensorflow.python.keras.optimizer_v2.adam.Adam'>, 'reduction_metric': 'custom_mae', 'samples': 20000}\n",
      "Using Loss: mean_squared_error \n",
      "and Reduction Metric: [<function custom_mae at 0x0000024C33F2FE58>]\n",
      "Monitor: val_custom_mae\n",
      "Train on 16000 samples, validate on 4000 samples\n",
      "15808/16000 [============================>.] - ETA: 0s - loss: 5405.5816 - custom_mae: 51.9478\n",
      "Epoch 00001: val_custom_mae improved from inf to 40.23485, saving model to ..\\fast_output\\SYNTH_Regression_MSE\\201019_2253_final_Angular_Base_Custom-MAE\\Best_Weights_FC_69.hdf5\n",
      "16000/16000 [==============================] - 8s 472us/sample - loss: 5391.4539 - custom_mae: 51.8468 - val_loss: 3451.4918 - val_custom_mae: 40.2349\n",
      "Time taken: 0:00:09.264619\n"
     ]
    },
    {
     "name": "stderr",
     "output_type": "stream",
     "text": [
      "\r",
      " 19%|███████████████▊                                                                 | 70/360 [12:42<52:08, 10.79s/it]"
     ]
    },
    {
     "name": "stdout",
     "output_type": "stream",
     "text": [
      "{'activation': 'leakyrelu', 'batch_size': 32, 'dropout': 0.5, 'epochs': 1, 'first_neuron': 2048, 'hidden_layers': 3, 'label_type': 'Angular', 'loss_function': 'mean_squared_error', 'lr': 2, 'monitor_value': 'val_custom_mae', 'optimizer': <class 'tensorflow.python.keras.optimizer_v2.adam.Adam'>, 'reduction_metric': 'custom_mae', 'samples': 20000}\n",
      "Using Loss: mean_squared_error \n",
      "and Reduction Metric: [<function custom_mae at 0x0000024C33F2FE58>]\n",
      "Monitor: val_custom_mae\n",
      "Train on 16000 samples, validate on 4000 samples\n",
      "15776/16000 [============================>.] - ETA: 0s - loss: 5678.9209 - custom_mae: 53.4526\n",
      "Epoch 00001: val_custom_mae improved from inf to 39.27350, saving model to ..\\fast_output\\SYNTH_Regression_MSE\\201019_2253_final_Angular_Base_Custom-MAE\\Best_Weights_FC_70.hdf5\n",
      "16000/16000 [==============================] - 8s 472us/sample - loss: 5658.3337 - custom_mae: 53.3223 - val_loss: 3465.7980 - val_custom_mae: 39.2735\n",
      "Time taken: 0:00:09.256787\n"
     ]
    },
    {
     "name": "stderr",
     "output_type": "stream",
     "text": [
      "\r",
      " 20%|███████████████▉                                                                 | 71/360 [12:53<52:17, 10.86s/it]"
     ]
    },
    {
     "name": "stdout",
     "output_type": "stream",
     "text": [
      "{'activation': 'leakyrelu', 'batch_size': 32, 'dropout': 0.5, 'epochs': 1, 'first_neuron': 2048, 'hidden_layers': 3, 'label_type': 'Angular', 'loss_function': 'mean_squared_error', 'lr': 5, 'monitor_value': 'val_custom_mae', 'optimizer': <class 'tensorflow.python.keras.optimizer_v2.adam.Adam'>, 'reduction_metric': 'custom_mae', 'samples': 20000}\n",
      "Using Loss: mean_squared_error \n",
      "and Reduction Metric: [<function custom_mae at 0x0000024C33F2FE58>]\n",
      "Monitor: val_custom_mae\n",
      "Train on 16000 samples, validate on 4000 samples\n",
      "15776/16000 [============================>.] - ETA: 0s - loss: 7569.0022 - custom_mae: 61.5447\n",
      "Epoch 00001: val_custom_mae improved from inf to 47.32109, saving model to ..\\fast_output\\SYNTH_Regression_MSE\\201019_2253_final_Angular_Base_Custom-MAE\\Best_Weights_FC_71.hdf5\n",
      "16000/16000 [==============================] - 7s 468us/sample - loss: 7545.9084 - custom_mae: 61.4454 - val_loss: 4314.1450 - val_custom_mae: 47.3211\n",
      "Time taken: 0:00:09.181280\n"
     ]
    },
    {
     "name": "stderr",
     "output_type": "stream",
     "text": [
      "\r",
      " 20%|████████████████▏                                                                | 72/360 [13:04<52:14, 10.88s/it]"
     ]
    },
    {
     "name": "stdout",
     "output_type": "stream",
     "text": [
      "{'activation': 'leakyrelu', 'batch_size': 32, 'dropout': 0.5, 'epochs': 1, 'first_neuron': 2048, 'hidden_layers': 4, 'label_type': 'Angular', 'loss_function': 'mean_squared_error', 'lr': 1, 'monitor_value': 'val_custom_mae', 'optimizer': <class 'tensorflow.python.keras.optimizer_v2.adam.Adam'>, 'reduction_metric': 'custom_mae', 'samples': 20000}\n",
      "Using Loss: mean_squared_error \n",
      "and Reduction Metric: [<function custom_mae at 0x0000024C33F2FE58>]\n",
      "Monitor: val_custom_mae\n",
      "Train on 16000 samples, validate on 4000 samples\n",
      "15904/16000 [============================>.] - ETA: 0s - loss: 6288.3392 - custom_mae: 57.3306\n",
      "Epoch 00001: val_custom_mae improved from inf to 50.53991, saving model to ..\\fast_output\\SYNTH_Regression_MSE\\201019_2253_final_Angular_Base_Custom-MAE\\Best_Weights_FC_72.hdf5\n",
      "16000/16000 [==============================] - 8s 477us/sample - loss: 6277.9502 - custom_mae: 57.2679 - val_loss: 4788.0539 - val_custom_mae: 50.5399\n",
      "Time taken: 0:00:09.321055\n"
     ]
    },
    {
     "name": "stderr",
     "output_type": "stream",
     "text": [
      "\r",
      " 20%|████████████████▍                                                                | 73/360 [13:15<52:21, 10.95s/it]"
     ]
    },
    {
     "name": "stdout",
     "output_type": "stream",
     "text": [
      "{'activation': 'leakyrelu', 'batch_size': 32, 'dropout': 0.5, 'epochs': 1, 'first_neuron': 2048, 'hidden_layers': 4, 'label_type': 'Angular', 'loss_function': 'mean_squared_error', 'lr': 2, 'monitor_value': 'val_custom_mae', 'optimizer': <class 'tensorflow.python.keras.optimizer_v2.adam.Adam'>, 'reduction_metric': 'custom_mae', 'samples': 20000}\n",
      "Using Loss: mean_squared_error \n",
      "and Reduction Metric: [<function custom_mae at 0x0000024C33F2FE58>]\n",
      "Monitor: val_custom_mae\n",
      "Train on 16000 samples, validate on 4000 samples\n",
      "15936/16000 [============================>.] - ETA: 0s - loss: 6525.9159 - custom_mae: 58.2325\n",
      "Epoch 00001: val_custom_mae improved from inf to 52.36496, saving model to ..\\fast_output\\SYNTH_Regression_MSE\\201019_2253_final_Angular_Base_Custom-MAE\\Best_Weights_FC_73.hdf5\n",
      "16000/16000 [==============================] - 8s 472us/sample - loss: 6521.4560 - custom_mae: 58.2014 - val_loss: 5232.0715 - val_custom_mae: 52.3650\n",
      "Time taken: 0:00:09.246542\n"
     ]
    },
    {
     "name": "stderr",
     "output_type": "stream",
     "text": [
      "\r",
      " 21%|████████████████▋                                                                | 74/360 [13:26<52:18, 10.97s/it]"
     ]
    },
    {
     "name": "stdout",
     "output_type": "stream",
     "text": [
      "{'activation': 'leakyrelu', 'batch_size': 32, 'dropout': 0.5, 'epochs': 1, 'first_neuron': 2048, 'hidden_layers': 4, 'label_type': 'Angular', 'loss_function': 'mean_squared_error', 'lr': 5, 'monitor_value': 'val_custom_mae', 'optimizer': <class 'tensorflow.python.keras.optimizer_v2.adam.Adam'>, 'reduction_metric': 'custom_mae', 'samples': 20000}\n",
      "Using Loss: mean_squared_error \n",
      "and Reduction Metric: [<function custom_mae at 0x0000024C33F2FE58>]\n",
      "Monitor: val_custom_mae\n",
      "Train on 16000 samples, validate on 4000 samples\n",
      "15936/16000 [============================>.] - ETA: 0s - loss: 304633384.3022 - custom_mae: 4825.2715\n",
      "Epoch 00001: val_custom_mae improved from inf to 1701.36328, saving model to ..\\fast_output\\SYNTH_Regression_MSE\\201019_2253_final_Angular_Base_Custom-MAE\\Best_Weights_FC_74.hdf5\n",
      "16000/16000 [==============================] - 8s 479us/sample - loss: 304833390.7330 - custom_mae: 4865.5454 - val_loss: 3611955.8940 - val_custom_mae: 1701.3633\n",
      "Time taken: 0:00:09.378344\n"
     ]
    },
    {
     "name": "stderr",
     "output_type": "stream",
     "text": [
      "\r",
      " 21%|████████████████▉                                                                | 75/360 [13:38<52:24, 11.03s/it]"
     ]
    },
    {
     "name": "stdout",
     "output_type": "stream",
     "text": [
      "{'activation': 'leakyrelu', 'batch_size': 32, 'dropout': 0.5, 'epochs': 1, 'first_neuron': 4096, 'hidden_layers': 0, 'label_type': 'Angular', 'loss_function': 'mean_squared_error', 'lr': 1, 'monitor_value': 'val_custom_mae', 'optimizer': <class 'tensorflow.python.keras.optimizer_v2.adam.Adam'>, 'reduction_metric': 'custom_mae', 'samples': 20000}\n",
      "Using Loss: mean_squared_error \n",
      "and Reduction Metric: [<function custom_mae at 0x0000024C33F2FE58>]\n",
      "Monitor: val_custom_mae\n",
      "Train on 16000 samples, validate on 4000 samples\n",
      "15872/16000 [============================>.] - ETA: 0s - loss: 3984.2231 - custom_mae: 40.1995 ETA: 1s - l\n",
      "Epoch 00001: val_custom_mae improved from inf to 33.43350, saving model to ..\\fast_output\\SYNTH_Regression_MSE\\201019_2253_final_Angular_Base_Custom-MAE\\Best_Weights_FC_75.hdf5\n",
      "16000/16000 [==============================] - 12s 744us/sample - loss: 3974.7544 - custom_mae: 40.1301 - val_loss: 3121.1079 - val_custom_mae: 33.4335\n",
      "Time taken: 0:00:13.592087\n"
     ]
    },
    {
     "name": "stderr",
     "output_type": "stream",
     "text": [
      "\r",
      " 21%|█████████████████                                                                | 76/360 [13:53<58:15, 12.31s/it]"
     ]
    },
    {
     "name": "stdout",
     "output_type": "stream",
     "text": [
      "{'activation': 'leakyrelu', 'batch_size': 32, 'dropout': 0.5, 'epochs': 1, 'first_neuron': 4096, 'hidden_layers': 0, 'label_type': 'Angular', 'loss_function': 'mean_squared_error', 'lr': 2, 'monitor_value': 'val_custom_mae', 'optimizer': <class 'tensorflow.python.keras.optimizer_v2.adam.Adam'>, 'reduction_metric': 'custom_mae', 'samples': 20000}\n",
      "Using Loss: mean_squared_error \n",
      "and Reduction Metric: [<function custom_mae at 0x0000024C33F2FE58>]\n",
      "Monitor: val_custom_mae\n",
      "Train on 16000 samples, validate on 4000 samples\n",
      "15872/16000 [============================>.] - ETA: 0s - loss: 4081.9965 - custom_mae: 40.7896\n",
      "Epoch 00001: val_custom_mae improved from inf to 34.23861, saving model to ..\\fast_output\\SYNTH_Regression_MSE\\201019_2253_final_Angular_Base_Custom-MAE\\Best_Weights_FC_76.hdf5\n",
      "16000/16000 [==============================] - 12s 743us/sample - loss: 4073.2053 - custom_mae: 40.7353 - val_loss: 2997.3518 - val_custom_mae: 34.2386\n",
      "Time taken: 0:00:13.606364\n"
     ]
    },
    {
     "name": "stderr",
     "output_type": "stream",
     "text": [
      "\r",
      " 21%|████████████████▉                                                              | 77/360 [14:08<1:02:16, 13.20s/it]"
     ]
    },
    {
     "name": "stdout",
     "output_type": "stream",
     "text": [
      "{'activation': 'leakyrelu', 'batch_size': 32, 'dropout': 0.5, 'epochs': 1, 'first_neuron': 4096, 'hidden_layers': 0, 'label_type': 'Angular', 'loss_function': 'mean_squared_error', 'lr': 5, 'monitor_value': 'val_custom_mae', 'optimizer': <class 'tensorflow.python.keras.optimizer_v2.adam.Adam'>, 'reduction_metric': 'custom_mae', 'samples': 20000}\n",
      "Using Loss: mean_squared_error \n",
      "and Reduction Metric: [<function custom_mae at 0x0000024C33F2FE58>]\n",
      "Monitor: val_custom_mae\n",
      "Train on 16000 samples, validate on 4000 samples\n",
      "15904/16000 [============================>.] - ETA: 0s - loss: 4827.3668 - custom_mae: 44.4792\n",
      "Epoch 00001: val_custom_mae improved from inf to 33.00496, saving model to ..\\fast_output\\SYNTH_Regression_MSE\\201019_2253_final_Angular_Base_Custom-MAE\\Best_Weights_FC_77.hdf5\n",
      "16000/16000 [==============================] - 12s 744us/sample - loss: 4818.1946 - custom_mae: 44.4255 - val_loss: 3031.6527 - val_custom_mae: 33.0050\n",
      "Time taken: 0:00:13.621184\n"
     ]
    },
    {
     "name": "stderr",
     "output_type": "stream",
     "text": [
      "\r",
      " 22%|█████████████████                                                              | 78/360 [14:24<1:05:02, 13.84s/it]"
     ]
    },
    {
     "name": "stdout",
     "output_type": "stream",
     "text": [
      "{'activation': 'leakyrelu', 'batch_size': 32, 'dropout': 0.5, 'epochs': 1, 'first_neuron': 4096, 'hidden_layers': 1, 'label_type': 'Angular', 'loss_function': 'mean_squared_error', 'lr': 1, 'monitor_value': 'val_custom_mae', 'optimizer': <class 'tensorflow.python.keras.optimizer_v2.adam.Adam'>, 'reduction_metric': 'custom_mae', 'samples': 20000}\n",
      "Using Loss: mean_squared_error \n",
      "and Reduction Metric: [<function custom_mae at 0x0000024C33F2FE58>]\n",
      "Monitor: val_custom_mae\n",
      "Train on 16000 samples, validate on 4000 samples\n",
      "15904/16000 [============================>.] - ETA: 0s - loss: 4342.2450 - custom_mae: 43.6632\n",
      "Epoch 00001: val_custom_mae improved from inf to 34.50963, saving model to ..\\fast_output\\SYNTH_Regression_MSE\\201019_2253_final_Angular_Base_Custom-MAE\\Best_Weights_FC_78.hdf5\n",
      "16000/16000 [==============================] - 13s 791us/sample - loss: 4337.3627 - custom_mae: 43.6187 - val_loss: 3202.7658 - val_custom_mae: 34.5096\n",
      "Time taken: 0:00:14.364641\n"
     ]
    },
    {
     "name": "stderr",
     "output_type": "stream",
     "text": [
      "\r",
      " 22%|█████████████████▎                                                             | 79/360 [14:40<1:07:58, 14.52s/it]"
     ]
    },
    {
     "name": "stdout",
     "output_type": "stream",
     "text": [
      "{'activation': 'leakyrelu', 'batch_size': 32, 'dropout': 0.5, 'epochs': 1, 'first_neuron': 4096, 'hidden_layers': 1, 'label_type': 'Angular', 'loss_function': 'mean_squared_error', 'lr': 2, 'monitor_value': 'val_custom_mae', 'optimizer': <class 'tensorflow.python.keras.optimizer_v2.adam.Adam'>, 'reduction_metric': 'custom_mae', 'samples': 20000}\n",
      "Using Loss: mean_squared_error \n",
      "and Reduction Metric: [<function custom_mae at 0x0000024C33F2FE58>]\n",
      "Monitor: val_custom_mae\n",
      "Train on 16000 samples, validate on 4000 samples\n",
      "15904/16000 [============================>.] - ETA: 0s - loss: 5240.5363 - custom_mae: 46.3802\n",
      "Epoch 00001: val_custom_mae improved from inf to 33.02302, saving model to ..\\fast_output\\SYNTH_Regression_MSE\\201019_2253_final_Angular_Base_Custom-MAE\\Best_Weights_FC_79.hdf5\n",
      "16000/16000 [==============================] - 13s 789us/sample - loss: 5227.7248 - custom_mae: 46.2961 - val_loss: 2998.5815 - val_custom_mae: 33.0230\n",
      "Time taken: 0:00:14.336470\n"
     ]
    },
    {
     "name": "stderr",
     "output_type": "stream",
     "text": [
      "\r",
      " 22%|█████████████████▌                                                             | 80/360 [14:56<1:09:53, 14.98s/it]"
     ]
    },
    {
     "name": "stdout",
     "output_type": "stream",
     "text": [
      "{'activation': 'leakyrelu', 'batch_size': 32, 'dropout': 0.5, 'epochs': 1, 'first_neuron': 4096, 'hidden_layers': 1, 'label_type': 'Angular', 'loss_function': 'mean_squared_error', 'lr': 5, 'monitor_value': 'val_custom_mae', 'optimizer': <class 'tensorflow.python.keras.optimizer_v2.adam.Adam'>, 'reduction_metric': 'custom_mae', 'samples': 20000}\n",
      "Using Loss: mean_squared_error \n",
      "and Reduction Metric: [<function custom_mae at 0x0000024C33F2FE58>]\n",
      "Monitor: val_custom_mae\n",
      "Train on 16000 samples, validate on 4000 samples\n",
      "15904/16000 [============================>.] - ETA: 0s - loss: 32931.5531 - custom_mae: 67.8390\n",
      "Epoch 00001: val_custom_mae improved from inf to 35.74438, saving model to ..\\fast_output\\SYNTH_Regression_MSE\\201019_2253_final_Angular_Base_Custom-MAE\\Best_Weights_FC_80.hdf5\n",
      "16000/16000 [==============================] - 13s 783us/sample - loss: 32759.1727 - custom_mae: 67.6667 - val_loss: 3300.9012 - val_custom_mae: 35.7444\n",
      "Time taken: 0:00:14.232247\n"
     ]
    },
    {
     "name": "stderr",
     "output_type": "stream",
     "text": [
      "\r",
      " 22%|█████████████████▊                                                             | 81/360 [15:12<1:11:00, 15.27s/it]"
     ]
    },
    {
     "name": "stdout",
     "output_type": "stream",
     "text": [
      "{'activation': 'leakyrelu', 'batch_size': 32, 'dropout': 0.5, 'epochs': 1, 'first_neuron': 4096, 'hidden_layers': 2, 'label_type': 'Angular', 'loss_function': 'mean_squared_error', 'lr': 1, 'monitor_value': 'val_custom_mae', 'optimizer': <class 'tensorflow.python.keras.optimizer_v2.adam.Adam'>, 'reduction_metric': 'custom_mae', 'samples': 20000}\n",
      "Using Loss: mean_squared_error \n",
      "and Reduction Metric: [<function custom_mae at 0x0000024C33F2FE58>]\n",
      "Monitor: val_custom_mae\n",
      "Train on 16000 samples, validate on 4000 samples\n",
      "15872/16000 [============================>.] - ETA: 0s - loss: 4766.2431 - custom_mae: 46.4877\n",
      "Epoch 00001: val_custom_mae improved from inf to 36.75195, saving model to ..\\fast_output\\SYNTH_Regression_MSE\\201019_2253_final_Angular_Base_Custom-MAE\\Best_Weights_FC_81.hdf5\n",
      "16000/16000 [==============================] - 13s 801us/sample - loss: 4756.6468 - custom_mae: 46.4223 - val_loss: 3538.8652 - val_custom_mae: 36.7520\n",
      "Time taken: 0:00:14.511661\n"
     ]
    },
    {
     "name": "stderr",
     "output_type": "stream",
     "text": [
      "\r",
      " 23%|█████████████████▉                                                             | 82/360 [15:28<1:12:06, 15.56s/it]"
     ]
    },
    {
     "name": "stdout",
     "output_type": "stream",
     "text": [
      "{'activation': 'leakyrelu', 'batch_size': 32, 'dropout': 0.5, 'epochs': 1, 'first_neuron': 4096, 'hidden_layers': 2, 'label_type': 'Angular', 'loss_function': 'mean_squared_error', 'lr': 2, 'monitor_value': 'val_custom_mae', 'optimizer': <class 'tensorflow.python.keras.optimizer_v2.adam.Adam'>, 'reduction_metric': 'custom_mae', 'samples': 20000}\n",
      "Using Loss: mean_squared_error \n",
      "and Reduction Metric: [<function custom_mae at 0x0000024C33F2FE58>]\n",
      "Monitor: val_custom_mae\n",
      "Train on 16000 samples, validate on 4000 samples\n",
      "15872/16000 [============================>.] - ETA: 0s - loss: 5550.9942 - custom_mae: 49.7343\n",
      "Epoch 00001: val_custom_mae improved from inf to 39.74261, saving model to ..\\fast_output\\SYNTH_Regression_MSE\\201019_2253_final_Angular_Base_Custom-MAE\\Best_Weights_FC_82.hdf5\n",
      "16000/16000 [==============================] - 13s 813us/sample - loss: 5544.3321 - custom_mae: 49.7331 - val_loss: 3552.5212 - val_custom_mae: 39.7426\n",
      "Time taken: 0:00:14.729880\n"
     ]
    },
    {
     "name": "stderr",
     "output_type": "stream",
     "text": [
      "\r",
      " 23%|██████████████████▏                                                            | 83/360 [15:44<1:13:07, 15.84s/it]"
     ]
    },
    {
     "name": "stdout",
     "output_type": "stream",
     "text": [
      "{'activation': 'leakyrelu', 'batch_size': 32, 'dropout': 0.5, 'epochs': 1, 'first_neuron': 4096, 'hidden_layers': 2, 'label_type': 'Angular', 'loss_function': 'mean_squared_error', 'lr': 5, 'monitor_value': 'val_custom_mae', 'optimizer': <class 'tensorflow.python.keras.optimizer_v2.adam.Adam'>, 'reduction_metric': 'custom_mae', 'samples': 20000}\n",
      "Using Loss: mean_squared_error \n",
      "and Reduction Metric: [<function custom_mae at 0x0000024C33F2FE58>]\n",
      "Monitor: val_custom_mae\n",
      "Train on 16000 samples, validate on 4000 samples\n",
      "15872/16000 [============================>.] - ETA: 0s - loss: 382355.5835 - custom_mae: 107.9759\n",
      "Epoch 00001: val_custom_mae improved from inf to 48.44083, saving model to ..\\fast_output\\SYNTH_Regression_MSE\\201019_2253_final_Angular_Base_Custom-MAE\\Best_Weights_FC_83.hdf5\n",
      "16000/16000 [==============================] - 13s 811us/sample - loss: 379333.8400 - custom_mae: 107.5150 - val_loss: 4471.9163 - val_custom_mae: 48.4408\n",
      "Time taken: 0:00:14.672019\n"
     ]
    },
    {
     "name": "stderr",
     "output_type": "stream",
     "text": [
      "\r",
      " 23%|██████████████████▍                                                            | 84/360 [16:01<1:13:39, 16.01s/it]"
     ]
    },
    {
     "name": "stdout",
     "output_type": "stream",
     "text": [
      "{'activation': 'leakyrelu', 'batch_size': 32, 'dropout': 0.5, 'epochs': 1, 'first_neuron': 4096, 'hidden_layers': 3, 'label_type': 'Angular', 'loss_function': 'mean_squared_error', 'lr': 1, 'monitor_value': 'val_custom_mae', 'optimizer': <class 'tensorflow.python.keras.optimizer_v2.adam.Adam'>, 'reduction_metric': 'custom_mae', 'samples': 20000}\n",
      "Using Loss: mean_squared_error \n",
      "and Reduction Metric: [<function custom_mae at 0x0000024C33F2FE58>]\n",
      "Monitor: val_custom_mae\n",
      "Train on 16000 samples, validate on 4000 samples\n",
      "15904/16000 [============================>.] - ETA: 0s - loss: 5265.0540 - custom_mae: 50.3020\n",
      "Epoch 00001: val_custom_mae improved from inf to 37.34297, saving model to ..\\fast_output\\SYNTH_Regression_MSE\\201019_2253_final_Angular_Base_Custom-MAE\\Best_Weights_FC_84.hdf5\n",
      "16000/16000 [==============================] - 13s 820us/sample - loss: 5253.1836 - custom_mae: 50.2171 - val_loss: 3391.3030 - val_custom_mae: 37.3430\n",
      "Time taken: 0:00:14.828374\n"
     ]
    },
    {
     "name": "stderr",
     "output_type": "stream",
     "text": [
      "\r",
      " 24%|██████████████████▋                                                            | 85/360 [16:17<1:14:11, 16.19s/it]"
     ]
    },
    {
     "name": "stdout",
     "output_type": "stream",
     "text": [
      "{'activation': 'leakyrelu', 'batch_size': 32, 'dropout': 0.5, 'epochs': 1, 'first_neuron': 4096, 'hidden_layers': 3, 'label_type': 'Angular', 'loss_function': 'mean_squared_error', 'lr': 2, 'monitor_value': 'val_custom_mae', 'optimizer': <class 'tensorflow.python.keras.optimizer_v2.adam.Adam'>, 'reduction_metric': 'custom_mae', 'samples': 20000}\n",
      "Using Loss: mean_squared_error \n",
      "and Reduction Metric: [<function custom_mae at 0x0000024C33F2FE58>]\n",
      "Monitor: val_custom_mae\n",
      "Train on 16000 samples, validate on 4000 samples\n",
      "15872/16000 [============================>.] - ETA: 0s - loss: 6131.7796 - custom_mae: 54.7638\n",
      "Epoch 00001: val_custom_mae improved from inf to 41.27789, saving model to ..\\fast_output\\SYNTH_Regression_MSE\\201019_2253_final_Angular_Base_Custom-MAE\\Best_Weights_FC_85.hdf5\n",
      "16000/16000 [==============================] - 13s 818us/sample - loss: 6118.5469 - custom_mae: 54.7114 - val_loss: 3694.9303 - val_custom_mae: 41.2779\n",
      "Time taken: 0:00:14.802002\n"
     ]
    },
    {
     "name": "stderr",
     "output_type": "stream",
     "text": [
      "\r",
      " 24%|██████████████████▊                                                            | 86/360 [16:34<1:14:25, 16.30s/it]"
     ]
    },
    {
     "name": "stdout",
     "output_type": "stream",
     "text": [
      "{'activation': 'leakyrelu', 'batch_size': 32, 'dropout': 0.5, 'epochs': 1, 'first_neuron': 4096, 'hidden_layers': 3, 'label_type': 'Angular', 'loss_function': 'mean_squared_error', 'lr': 5, 'monitor_value': 'val_custom_mae', 'optimizer': <class 'tensorflow.python.keras.optimizer_v2.adam.Adam'>, 'reduction_metric': 'custom_mae', 'samples': 20000}\n",
      "Using Loss: mean_squared_error \n",
      "and Reduction Metric: [<function custom_mae at 0x0000024C33F2FE58>]\n",
      "Monitor: val_custom_mae\n",
      "Train on 16000 samples, validate on 4000 samples\n",
      "15968/16000 [============================>.] - ETA: 0s - loss: 127945.1520 - custom_mae: 140.3624\n",
      "Epoch 00001: val_custom_mae improved from inf to 56.22495, saving model to ..\\fast_output\\SYNTH_Regression_MSE\\201019_2253_final_Angular_Base_Custom-MAE\\Best_Weights_FC_86.hdf5\n",
      "16000/16000 [==============================] - 13s 819us/sample - loss: 127701.9925 - custom_mae: 140.2069 - val_loss: 5871.0911 - val_custom_mae: 56.2249\n",
      "Time taken: 0:00:14.814292\n"
     ]
    },
    {
     "name": "stderr",
     "output_type": "stream",
     "text": [
      "\r",
      " 24%|███████████████████                                                            | 87/360 [16:51<1:14:32, 16.38s/it]"
     ]
    },
    {
     "name": "stdout",
     "output_type": "stream",
     "text": [
      "{'activation': 'leakyrelu', 'batch_size': 32, 'dropout': 0.5, 'epochs': 1, 'first_neuron': 4096, 'hidden_layers': 4, 'label_type': 'Angular', 'loss_function': 'mean_squared_error', 'lr': 1, 'monitor_value': 'val_custom_mae', 'optimizer': <class 'tensorflow.python.keras.optimizer_v2.adam.Adam'>, 'reduction_metric': 'custom_mae', 'samples': 20000}\n",
      "Using Loss: mean_squared_error \n",
      "and Reduction Metric: [<function custom_mae at 0x0000024C33F2FE58>]\n",
      "Monitor: val_custom_mae\n",
      "Train on 16000 samples, validate on 4000 samples\n",
      "15936/16000 [============================>.] - ETA: 0s - loss: 5879.6895 - custom_mae: 55.2746\n",
      "Epoch 00001: val_custom_mae improved from inf to 41.77221, saving model to ..\\fast_output\\SYNTH_Regression_MSE\\201019_2253_final_Angular_Base_Custom-MAE\\Best_Weights_FC_87.hdf5\n",
      "16000/16000 [==============================] - 13s 829us/sample - loss: 5873.4361 - custom_mae: 55.2404 - val_loss: 3662.8990 - val_custom_mae: 41.7722\n",
      "Time taken: 0:00:14.961493\n"
     ]
    },
    {
     "name": "stderr",
     "output_type": "stream",
     "text": [
      "\r",
      " 24%|███████████████████▎                                                           | 88/360 [17:07<1:14:47, 16.50s/it]"
     ]
    },
    {
     "name": "stdout",
     "output_type": "stream",
     "text": [
      "{'activation': 'leakyrelu', 'batch_size': 32, 'dropout': 0.5, 'epochs': 1, 'first_neuron': 4096, 'hidden_layers': 4, 'label_type': 'Angular', 'loss_function': 'mean_squared_error', 'lr': 2, 'monitor_value': 'val_custom_mae', 'optimizer': <class 'tensorflow.python.keras.optimizer_v2.adam.Adam'>, 'reduction_metric': 'custom_mae', 'samples': 20000}\n",
      "Using Loss: mean_squared_error \n",
      "and Reduction Metric: [<function custom_mae at 0x0000024C33F2FE58>]\n",
      "Monitor: val_custom_mae\n",
      "Train on 16000 samples, validate on 4000 samples\n",
      "15968/16000 [============================>.] - ETA: 0s - loss: 6810.4860 - custom_mae: 59.0088\n",
      "Epoch 00001: val_custom_mae improved from inf to 47.59449, saving model to ..\\fast_output\\SYNTH_Regression_MSE\\201019_2253_final_Angular_Base_Custom-MAE\\Best_Weights_FC_88.hdf5\n",
      "16000/16000 [==============================] - 13s 828us/sample - loss: 6806.9380 - custom_mae: 58.9925 - val_loss: 4224.3447 - val_custom_mae: 47.5945\n",
      "Time taken: 0:00:14.957543\n"
     ]
    },
    {
     "name": "stderr",
     "output_type": "stream",
     "text": [
      "\r",
      " 25%|███████████████████▌                                                           | 89/360 [17:24<1:14:51, 16.57s/it]"
     ]
    },
    {
     "name": "stdout",
     "output_type": "stream",
     "text": [
      "{'activation': 'leakyrelu', 'batch_size': 32, 'dropout': 0.5, 'epochs': 1, 'first_neuron': 4096, 'hidden_layers': 4, 'label_type': 'Angular', 'loss_function': 'mean_squared_error', 'lr': 5, 'monitor_value': 'val_custom_mae', 'optimizer': <class 'tensorflow.python.keras.optimizer_v2.adam.Adam'>, 'reduction_metric': 'custom_mae', 'samples': 20000}\n",
      "Using Loss: mean_squared_error \n",
      "and Reduction Metric: [<function custom_mae at 0x0000024C33F2FE58>]\n",
      "Monitor: val_custom_mae\n",
      "Train on 16000 samples, validate on 4000 samples\n",
      "15968/16000 [============================>.] - ETA: 0s - loss: 52573.6557 - custom_mae: 100.4314\n",
      "Epoch 00001: val_custom_mae improved from inf to 59.43806, saving model to ..\\fast_output\\SYNTH_Regression_MSE\\201019_2253_final_Angular_Base_Custom-MAE\\Best_Weights_FC_89.hdf5\n",
      "16000/16000 [==============================] - 13s 833us/sample - loss: 52485.1059 - custom_mae: 100.3605 - val_loss: 6700.1778 - val_custom_mae: 59.4381\n",
      "Time taken: 0:00:15.050206\n"
     ]
    },
    {
     "name": "stderr",
     "output_type": "stream",
     "text": [
      "\r",
      " 25%|███████████████████▊                                                           | 90/360 [17:41<1:14:58, 16.66s/it]"
     ]
    },
    {
     "name": "stdout",
     "output_type": "stream",
     "text": [
      "{'activation': 'leakyrelu', 'batch_size': 64, 'dropout': 0.25, 'epochs': 1, 'first_neuron': 1024, 'hidden_layers': 0, 'label_type': 'Angular', 'loss_function': 'mean_squared_error', 'lr': 1, 'monitor_value': 'val_custom_mae', 'optimizer': <class 'tensorflow.python.keras.optimizer_v2.adam.Adam'>, 'reduction_metric': 'custom_mae', 'samples': 20000}\n",
      "Y-Col: ['Elevation', 'Azimuth']\n",
      "Found 16000 validated image filenames.\n",
      "Found 3968 validated image filenames.\n",
      "Creating bottleneck features...\n",
      "Using Loss: mean_squared_error \n",
      "and Reduction Metric: [<function custom_mae at 0x0000024C33F2FE58>]\n",
      "Monitor: val_custom_mae\n",
      "Train on 16000 samples, validate on 3968 samples\n",
      "15616/16000 [============================>.] - ETA: 0s - loss: 4374.0719 - custom_mae: 43.4668\n",
      "Epoch 00001: val_custom_mae improved from inf to 35.22934, saving model to ..\\fast_output\\SYNTH_Regression_MSE\\201019_2253_final_Angular_Base_Custom-MAE\\Best_Weights_FC_90.hdf5\n",
      "16000/16000 [==============================] - 3s 216us/sample - loss: 4334.9122 - custom_mae: 43.2110 - val_loss: 3287.6428 - val_custom_mae: 35.2293\n",
      "Time taken: 0:00:05.328634\n"
     ]
    },
    {
     "name": "stderr",
     "output_type": "stream",
     "text": [
      "\r",
      " 25%|███████████████████▉                                                           | 91/360 [19:22<3:07:39, 41.86s/it]"
     ]
    },
    {
     "name": "stdout",
     "output_type": "stream",
     "text": [
      "{'activation': 'leakyrelu', 'batch_size': 64, 'dropout': 0.25, 'epochs': 1, 'first_neuron': 1024, 'hidden_layers': 0, 'label_type': 'Angular', 'loss_function': 'mean_squared_error', 'lr': 2, 'monitor_value': 'val_custom_mae', 'optimizer': <class 'tensorflow.python.keras.optimizer_v2.adam.Adam'>, 'reduction_metric': 'custom_mae', 'samples': 20000}\n",
      "Using Loss: mean_squared_error \n",
      "and Reduction Metric: [<function custom_mae at 0x0000024C33F2FE58>]\n",
      "Monitor: val_custom_mae\n",
      "Train on 16000 samples, validate on 3968 samples\n",
      "15872/16000 [============================>.] - ETA: 0s - loss: 3979.3295 - custom_mae: 40.5924\n",
      "Epoch 00001: val_custom_mae improved from inf to 31.27012, saving model to ..\\fast_output\\SYNTH_Regression_MSE\\201019_2253_final_Angular_Base_Custom-MAE\\Best_Weights_FC_91.hdf5\n",
      "16000/16000 [==============================] - 3s 218us/sample - loss: 3967.4279 - custom_mae: 40.4979 - val_loss: 2838.2020 - val_custom_mae: 31.2701\n",
      "Time taken: 0:00:05.199421\n"
     ]
    },
    {
     "name": "stderr",
     "output_type": "stream",
     "text": [
      "\r",
      " 26%|████████████████████▏                                                          | 92/360 [19:29<2:20:09, 31.38s/it]"
     ]
    },
    {
     "name": "stdout",
     "output_type": "stream",
     "text": [
      "{'activation': 'leakyrelu', 'batch_size': 64, 'dropout': 0.25, 'epochs': 1, 'first_neuron': 1024, 'hidden_layers': 0, 'label_type': 'Angular', 'loss_function': 'mean_squared_error', 'lr': 5, 'monitor_value': 'val_custom_mae', 'optimizer': <class 'tensorflow.python.keras.optimizer_v2.adam.Adam'>, 'reduction_metric': 'custom_mae', 'samples': 20000}\n",
      "Using Loss: mean_squared_error \n",
      "and Reduction Metric: [<function custom_mae at 0x0000024C33F2FE58>]\n",
      "Monitor: val_custom_mae\n",
      "Train on 16000 samples, validate on 3968 samples\n",
      "15936/16000 [============================>.] - ETA: 0s - loss: 3907.1364 - custom_mae: 39.9750\n",
      "Epoch 00001: val_custom_mae improved from inf to 29.48256, saving model to ..\\fast_output\\SYNTH_Regression_MSE\\201019_2253_final_Angular_Base_Custom-MAE\\Best_Weights_FC_92.hdf5\n",
      "16000/16000 [==============================] - 3s 215us/sample - loss: 3901.9399 - custom_mae: 39.9320 - val_loss: 2609.6939 - val_custom_mae: 29.4826\n",
      "Time taken: 0:00:05.142016\n"
     ]
    },
    {
     "name": "stderr",
     "output_type": "stream",
     "text": [
      "\r",
      " 26%|████████████████████▍                                                          | 93/360 [19:35<1:46:54, 24.02s/it]"
     ]
    },
    {
     "name": "stdout",
     "output_type": "stream",
     "text": [
      "{'activation': 'leakyrelu', 'batch_size': 64, 'dropout': 0.25, 'epochs': 1, 'first_neuron': 1024, 'hidden_layers': 1, 'label_type': 'Angular', 'loss_function': 'mean_squared_error', 'lr': 1, 'monitor_value': 'val_custom_mae', 'optimizer': <class 'tensorflow.python.keras.optimizer_v2.adam.Adam'>, 'reduction_metric': 'custom_mae', 'samples': 20000}\n",
      "Using Loss: mean_squared_error \n",
      "and Reduction Metric: [<function custom_mae at 0x0000024C33F2FE58>]\n",
      "Monitor: val_custom_mae\n",
      "Train on 16000 samples, validate on 3968 samples\n",
      "15808/16000 [============================>.] - ETA: 0s - loss: 4320.2185 - custom_mae: 43.4007\n",
      "Epoch 00001: val_custom_mae improved from inf to 32.92757, saving model to ..\\fast_output\\SYNTH_Regression_MSE\\201019_2253_final_Angular_Base_Custom-MAE\\Best_Weights_FC_93.hdf5\n",
      "16000/16000 [==============================] - 4s 223us/sample - loss: 4300.0081 - custom_mae: 43.2551 - val_loss: 3019.4147 - val_custom_mae: 32.9276\n",
      "Time taken: 0:00:05.278477\n"
     ]
    },
    {
     "name": "stderr",
     "output_type": "stream",
     "text": [
      "\r",
      " 26%|████████████████████▋                                                          | 94/360 [19:42<1:23:53, 18.92s/it]"
     ]
    },
    {
     "name": "stdout",
     "output_type": "stream",
     "text": [
      "{'activation': 'leakyrelu', 'batch_size': 64, 'dropout': 0.25, 'epochs': 1, 'first_neuron': 1024, 'hidden_layers': 1, 'label_type': 'Angular', 'loss_function': 'mean_squared_error', 'lr': 2, 'monitor_value': 'val_custom_mae', 'optimizer': <class 'tensorflow.python.keras.optimizer_v2.adam.Adam'>, 'reduction_metric': 'custom_mae', 'samples': 20000}\n",
      "Using Loss: mean_squared_error \n",
      "and Reduction Metric: [<function custom_mae at 0x0000024C33F2FE58>]\n",
      "Monitor: val_custom_mae\n",
      "Train on 16000 samples, validate on 3968 samples\n",
      "15744/16000 [============================>.] - ETA: 0s - loss: 4118.4059 - custom_mae: 41.9347\n",
      "Epoch 00001: val_custom_mae improved from inf to 31.16097, saving model to ..\\fast_output\\SYNTH_Regression_MSE\\201019_2253_final_Angular_Base_Custom-MAE\\Best_Weights_FC_94.hdf5\n",
      "16000/16000 [==============================] - 4s 223us/sample - loss: 4093.0352 - custom_mae: 41.7596 - val_loss: 2810.3836 - val_custom_mae: 31.1610\n",
      "Time taken: 0:00:05.264374\n"
     ]
    },
    {
     "name": "stderr",
     "output_type": "stream",
     "text": [
      "\r",
      " 26%|████████████████████▊                                                          | 95/360 [19:49<1:07:47, 15.35s/it]"
     ]
    },
    {
     "name": "stdout",
     "output_type": "stream",
     "text": [
      "{'activation': 'leakyrelu', 'batch_size': 64, 'dropout': 0.25, 'epochs': 1, 'first_neuron': 1024, 'hidden_layers': 1, 'label_type': 'Angular', 'loss_function': 'mean_squared_error', 'lr': 5, 'monitor_value': 'val_custom_mae', 'optimizer': <class 'tensorflow.python.keras.optimizer_v2.adam.Adam'>, 'reduction_metric': 'custom_mae', 'samples': 20000}\n",
      "Using Loss: mean_squared_error \n",
      "and Reduction Metric: [<function custom_mae at 0x0000024C33F2FE58>]\n",
      "Monitor: val_custom_mae\n",
      "Train on 16000 samples, validate on 3968 samples\n",
      "15872/16000 [============================>.] - ETA: 0s - loss: 5715.2662 - custom_mae: 47.8552\n",
      "Epoch 00001: val_custom_mae improved from inf to 33.03931, saving model to ..\\fast_output\\SYNTH_Regression_MSE\\201019_2253_final_Angular_Base_Custom-MAE\\Best_Weights_FC_95.hdf5\n",
      "16000/16000 [==============================] - 4s 221us/sample - loss: 5692.8192 - custom_mae: 47.7255 - val_loss: 2874.6592 - val_custom_mae: 33.0393\n",
      "Time taken: 0:00:05.197937\n"
     ]
    },
    {
     "name": "stderr",
     "output_type": "stream",
     "text": [
      "\r",
      " 27%|█████████████████████▌                                                           | 96/360 [19:56<56:26, 12.83s/it]"
     ]
    },
    {
     "name": "stdout",
     "output_type": "stream",
     "text": [
      "{'activation': 'leakyrelu', 'batch_size': 64, 'dropout': 0.25, 'epochs': 1, 'first_neuron': 1024, 'hidden_layers': 2, 'label_type': 'Angular', 'loss_function': 'mean_squared_error', 'lr': 1, 'monitor_value': 'val_custom_mae', 'optimizer': <class 'tensorflow.python.keras.optimizer_v2.adam.Adam'>, 'reduction_metric': 'custom_mae', 'samples': 20000}\n",
      "Using Loss: mean_squared_error \n",
      "and Reduction Metric: [<function custom_mae at 0x0000024C33F2FE58>]\n",
      "Monitor: val_custom_mae\n",
      "Train on 16000 samples, validate on 3968 samples\n",
      "15808/16000 [============================>.] - ETA: 0s - loss: 4578.0984 - custom_mae: 45.4780\n",
      "Epoch 00001: val_custom_mae improved from inf to 31.99241, saving model to ..\\fast_output\\SYNTH_Regression_MSE\\201019_2253_final_Angular_Base_Custom-MAE\\Best_Weights_FC_96.hdf5\n",
      "16000/16000 [==============================] - 4s 230us/sample - loss: 4554.2545 - custom_mae: 45.3200 - val_loss: 2799.3052 - val_custom_mae: 31.9924\n",
      "Time taken: 0:00:05.366363\n"
     ]
    },
    {
     "name": "stderr",
     "output_type": "stream",
     "text": [
      "\r",
      " 27%|█████████████████████▊                                                           | 97/360 [20:03<48:44, 11.12s/it]"
     ]
    },
    {
     "name": "stdout",
     "output_type": "stream",
     "text": [
      "{'activation': 'leakyrelu', 'batch_size': 64, 'dropout': 0.25, 'epochs': 1, 'first_neuron': 1024, 'hidden_layers': 2, 'label_type': 'Angular', 'loss_function': 'mean_squared_error', 'lr': 2, 'monitor_value': 'val_custom_mae', 'optimizer': <class 'tensorflow.python.keras.optimizer_v2.adam.Adam'>, 'reduction_metric': 'custom_mae', 'samples': 20000}\n",
      "Using Loss: mean_squared_error \n",
      "and Reduction Metric: [<function custom_mae at 0x0000024C33F2FE58>]\n",
      "Monitor: val_custom_mae\n",
      "Train on 16000 samples, validate on 3968 samples\n",
      "15872/16000 [============================>.] - ETA: 0s - loss: 4422.3136 - custom_mae: 44.3433\n",
      "Epoch 00001: val_custom_mae improved from inf to 34.16796, saving model to ..\\fast_output\\SYNTH_Regression_MSE\\201019_2253_final_Angular_Base_Custom-MAE\\Best_Weights_FC_97.hdf5\n",
      "16000/16000 [==============================] - 4s 228us/sample - loss: 4409.0088 - custom_mae: 44.2502 - val_loss: 3082.9152 - val_custom_mae: 34.1680\n",
      "Time taken: 0:00:05.367418\n"
     ]
    },
    {
     "name": "stderr",
     "output_type": "stream",
     "text": [
      "\r",
      " 27%|██████████████████████                                                           | 98/360 [20:11<43:21,  9.93s/it]"
     ]
    },
    {
     "name": "stdout",
     "output_type": "stream",
     "text": [
      "{'activation': 'leakyrelu', 'batch_size': 64, 'dropout': 0.25, 'epochs': 1, 'first_neuron': 1024, 'hidden_layers': 2, 'label_type': 'Angular', 'loss_function': 'mean_squared_error', 'lr': 5, 'monitor_value': 'val_custom_mae', 'optimizer': <class 'tensorflow.python.keras.optimizer_v2.adam.Adam'>, 'reduction_metric': 'custom_mae', 'samples': 20000}\n",
      "Using Loss: mean_squared_error \n",
      "and Reduction Metric: [<function custom_mae at 0x0000024C33F2FE58>]\n",
      "Monitor: val_custom_mae\n",
      "Train on 16000 samples, validate on 3968 samples\n",
      "15552/16000 [============================>.] - ETA: 0s - loss: 5037.4760 - custom_mae: 46.8616\n",
      "Epoch 00001: val_custom_mae improved from inf to 33.10216, saving model to ..\\fast_output\\SYNTH_Regression_MSE\\201019_2253_final_Angular_Base_Custom-MAE\\Best_Weights_FC_98.hdf5\n",
      "16000/16000 [==============================] - 4s 230us/sample - loss: 4964.7806 - custom_mae: 46.4464 - val_loss: 2681.8191 - val_custom_mae: 33.1022\n",
      "Time taken: 0:00:05.395991\n"
     ]
    },
    {
     "name": "stderr",
     "output_type": "stream",
     "text": [
      "\r",
      " 28%|██████████████████████▎                                                          | 99/360 [20:18<39:35,  9.10s/it]"
     ]
    },
    {
     "name": "stdout",
     "output_type": "stream",
     "text": [
      "{'activation': 'leakyrelu', 'batch_size': 64, 'dropout': 0.25, 'epochs': 1, 'first_neuron': 1024, 'hidden_layers': 3, 'label_type': 'Angular', 'loss_function': 'mean_squared_error', 'lr': 1, 'monitor_value': 'val_custom_mae', 'optimizer': <class 'tensorflow.python.keras.optimizer_v2.adam.Adam'>, 'reduction_metric': 'custom_mae', 'samples': 20000}\n",
      "Using Loss: mean_squared_error \n",
      "and Reduction Metric: [<function custom_mae at 0x0000024C33F2FE58>]\n",
      "Monitor: val_custom_mae\n",
      "Train on 16000 samples, validate on 3968 samples\n",
      "15808/16000 [============================>.] - ETA: 0s - loss: 4981.4893 - custom_mae: 48.7955\n",
      "Epoch 00001: val_custom_mae improved from inf to 34.84139, saving model to ..\\fast_output\\SYNTH_Regression_MSE\\201019_2253_final_Angular_Base_Custom-MAE\\Best_Weights_FC_99.hdf5\n",
      "16000/16000 [==============================] - 4s 235us/sample - loss: 4958.1484 - custom_mae: 48.6396 - val_loss: 3128.3232 - val_custom_mae: 34.8414\n",
      "Time taken: 0:00:05.471465\n"
     ]
    },
    {
     "name": "stderr",
     "output_type": "stream",
     "text": [
      "\r",
      " 28%|██████████████████████▏                                                         | 100/360 [20:25<37:03,  8.55s/it]"
     ]
    },
    {
     "name": "stdout",
     "output_type": "stream",
     "text": [
      "{'activation': 'leakyrelu', 'batch_size': 64, 'dropout': 0.25, 'epochs': 1, 'first_neuron': 1024, 'hidden_layers': 3, 'label_type': 'Angular', 'loss_function': 'mean_squared_error', 'lr': 2, 'monitor_value': 'val_custom_mae', 'optimizer': <class 'tensorflow.python.keras.optimizer_v2.adam.Adam'>, 'reduction_metric': 'custom_mae', 'samples': 20000}\n",
      "Using Loss: mean_squared_error \n",
      "and Reduction Metric: [<function custom_mae at 0x0000024C33F2FE58>]\n",
      "Monitor: val_custom_mae\n",
      "Train on 16000 samples, validate on 3968 samples\n",
      "15872/16000 [============================>.] - ETA: 0s - loss: 4737.5754 - custom_mae: 47.0880\n",
      "Epoch 00001: val_custom_mae improved from inf to 32.23248, saving model to ..\\fast_output\\SYNTH_Regression_MSE\\201019_2253_final_Angular_Base_Custom-MAE\\Best_Weights_FC_100.hdf5\n",
      "16000/16000 [==============================] - 4s 234us/sample - loss: 4723.3119 - custom_mae: 46.9797 - val_loss: 2777.1030 - val_custom_mae: 32.2325\n",
      "Time taken: 0:00:05.439470\n"
     ]
    },
    {
     "name": "stderr",
     "output_type": "stream",
     "text": [
      "\r",
      " 28%|██████████████████████▍                                                         | 101/360 [20:32<35:13,  8.16s/it]"
     ]
    },
    {
     "name": "stdout",
     "output_type": "stream",
     "text": [
      "{'activation': 'leakyrelu', 'batch_size': 64, 'dropout': 0.25, 'epochs': 1, 'first_neuron': 1024, 'hidden_layers': 3, 'label_type': 'Angular', 'loss_function': 'mean_squared_error', 'lr': 5, 'monitor_value': 'val_custom_mae', 'optimizer': <class 'tensorflow.python.keras.optimizer_v2.adam.Adam'>, 'reduction_metric': 'custom_mae', 'samples': 20000}\n",
      "Using Loss: mean_squared_error \n",
      "and Reduction Metric: [<function custom_mae at 0x0000024C33F2FE58>]\n",
      "Monitor: val_custom_mae\n",
      "Train on 16000 samples, validate on 3968 samples\n",
      "15680/16000 [============================>.] - ETA: 0s - loss: 4913.0763 - custom_mae: 48.4349\n",
      "Epoch 00001: val_custom_mae improved from inf to 31.25387, saving model to ..\\fast_output\\SYNTH_Regression_MSE\\201019_2253_final_Angular_Base_Custom-MAE\\Best_Weights_FC_101.hdf5\n",
      "16000/16000 [==============================] - 4s 233us/sample - loss: 4870.7133 - custom_mae: 48.1472 - val_loss: 2655.6388 - val_custom_mae: 31.2539\n",
      "Time taken: 0:00:05.441508\n"
     ]
    },
    {
     "name": "stderr",
     "output_type": "stream",
     "text": [
      "\r",
      " 28%|██████████████████████▋                                                         | 102/360 [20:40<33:55,  7.89s/it]"
     ]
    },
    {
     "name": "stdout",
     "output_type": "stream",
     "text": [
      "{'activation': 'leakyrelu', 'batch_size': 64, 'dropout': 0.25, 'epochs': 1, 'first_neuron': 1024, 'hidden_layers': 4, 'label_type': 'Angular', 'loss_function': 'mean_squared_error', 'lr': 1, 'monitor_value': 'val_custom_mae', 'optimizer': <class 'tensorflow.python.keras.optimizer_v2.adam.Adam'>, 'reduction_metric': 'custom_mae', 'samples': 20000}\n",
      "Using Loss: mean_squared_error \n",
      "and Reduction Metric: [<function custom_mae at 0x0000024C33F2FE58>]\n",
      "Monitor: val_custom_mae\n",
      "Train on 16000 samples, validate on 3968 samples\n",
      "15808/16000 [============================>.] - ETA: 0s - loss: 5617.1971 - custom_mae: 53.1957\n",
      "Epoch 00001: val_custom_mae improved from inf to 42.11417, saving model to ..\\fast_output\\SYNTH_Regression_MSE\\201019_2253_final_Angular_Base_Custom-MAE\\Best_Weights_FC_102.hdf5\n",
      "16000/16000 [==============================] - 4s 239us/sample - loss: 5596.4146 - custom_mae: 53.0612 - val_loss: 3960.9198 - val_custom_mae: 42.1142\n",
      "Time taken: 0:00:05.530113\n"
     ]
    },
    {
     "name": "stderr",
     "output_type": "stream",
     "text": [
      "\r",
      " 29%|██████████████████████▉                                                         | 103/360 [20:47<33:05,  7.73s/it]"
     ]
    },
    {
     "name": "stdout",
     "output_type": "stream",
     "text": [
      "{'activation': 'leakyrelu', 'batch_size': 64, 'dropout': 0.25, 'epochs': 1, 'first_neuron': 1024, 'hidden_layers': 4, 'label_type': 'Angular', 'loss_function': 'mean_squared_error', 'lr': 2, 'monitor_value': 'val_custom_mae', 'optimizer': <class 'tensorflow.python.keras.optimizer_v2.adam.Adam'>, 'reduction_metric': 'custom_mae', 'samples': 20000}\n",
      "Using Loss: mean_squared_error \n",
      "and Reduction Metric: [<function custom_mae at 0x0000024C33F2FE58>]\n",
      "Monitor: val_custom_mae\n",
      "Train on 16000 samples, validate on 3968 samples\n",
      "15808/16000 [============================>.] - ETA: 0s - loss: 5393.3815 - custom_mae: 51.0235\n",
      "Epoch 00001: val_custom_mae improved from inf to 32.99488, saving model to ..\\fast_output\\SYNTH_Regression_MSE\\201019_2253_final_Angular_Base_Custom-MAE\\Best_Weights_FC_103.hdf5\n",
      "16000/16000 [==============================] - 4s 241us/sample - loss: 5365.5356 - custom_mae: 50.8592 - val_loss: 2790.2327 - val_custom_mae: 32.9949\n",
      "Time taken: 0:00:05.549348\n"
     ]
    },
    {
     "name": "stderr",
     "output_type": "stream",
     "text": [
      "\r",
      " 29%|███████████████████████                                                         | 104/360 [20:54<32:33,  7.63s/it]"
     ]
    },
    {
     "name": "stdout",
     "output_type": "stream",
     "text": [
      "{'activation': 'leakyrelu', 'batch_size': 64, 'dropout': 0.25, 'epochs': 1, 'first_neuron': 1024, 'hidden_layers': 4, 'label_type': 'Angular', 'loss_function': 'mean_squared_error', 'lr': 5, 'monitor_value': 'val_custom_mae', 'optimizer': <class 'tensorflow.python.keras.optimizer_v2.adam.Adam'>, 'reduction_metric': 'custom_mae', 'samples': 20000}\n",
      "Using Loss: mean_squared_error \n",
      "and Reduction Metric: [<function custom_mae at 0x0000024C33F2FE58>]\n",
      "Monitor: val_custom_mae\n",
      "Train on 16000 samples, validate on 3968 samples\n",
      "15680/16000 [============================>.] - ETA: 0s - loss: 8085.0529 - custom_mae: 56.9947\n",
      "Epoch 00001: val_custom_mae improved from inf to 38.72323, saving model to ..\\fast_output\\SYNTH_Regression_MSE\\201019_2253_final_Angular_Base_Custom-MAE\\Best_Weights_FC_104.hdf5\n",
      "16000/16000 [==============================] - 4s 239us/sample - loss: 7990.0764 - custom_mae: 56.6877 - val_loss: 3207.3906 - val_custom_mae: 38.7232\n",
      "Time taken: 0:00:05.514404\n"
     ]
    },
    {
     "name": "stderr",
     "output_type": "stream",
     "text": [
      "\r",
      " 29%|███████████████████████▎                                                        | 105/360 [21:02<32:05,  7.55s/it]"
     ]
    },
    {
     "name": "stdout",
     "output_type": "stream",
     "text": [
      "{'activation': 'leakyrelu', 'batch_size': 64, 'dropout': 0.25, 'epochs': 1, 'first_neuron': 2048, 'hidden_layers': 0, 'label_type': 'Angular', 'loss_function': 'mean_squared_error', 'lr': 1, 'monitor_value': 'val_custom_mae', 'optimizer': <class 'tensorflow.python.keras.optimizer_v2.adam.Adam'>, 'reduction_metric': 'custom_mae', 'samples': 20000}\n",
      "Using Loss: mean_squared_error \n",
      "and Reduction Metric: [<function custom_mae at 0x0000024C33F2FE58>]\n",
      "Monitor: val_custom_mae\n",
      "Train on 16000 samples, validate on 3968 samples\n",
      "15744/16000 [============================>.] - ETA: 0s - loss: 4150.8881 - custom_mae: 41.6634\n",
      "Epoch 00001: val_custom_mae improved from inf to 32.33223, saving model to ..\\fast_output\\SYNTH_Regression_MSE\\201019_2253_final_Angular_Base_Custom-MAE\\Best_Weights_FC_105.hdf5\n",
      "16000/16000 [==============================] - 5s 331us/sample - loss: 4127.7712 - custom_mae: 41.5120 - val_loss: 2951.2076 - val_custom_mae: 32.3322\n",
      "Time taken: 0:00:06.983504\n"
     ]
    },
    {
     "name": "stderr",
     "output_type": "stream",
     "text": [
      "\r",
      " 29%|███████████████████████▌                                                        | 106/360 [21:10<33:26,  7.90s/it]"
     ]
    },
    {
     "name": "stdout",
     "output_type": "stream",
     "text": [
      "{'activation': 'leakyrelu', 'batch_size': 64, 'dropout': 0.25, 'epochs': 1, 'first_neuron': 2048, 'hidden_layers': 0, 'label_type': 'Angular', 'loss_function': 'mean_squared_error', 'lr': 2, 'monitor_value': 'val_custom_mae', 'optimizer': <class 'tensorflow.python.keras.optimizer_v2.adam.Adam'>, 'reduction_metric': 'custom_mae', 'samples': 20000}\n",
      "Using Loss: mean_squared_error \n",
      "and Reduction Metric: [<function custom_mae at 0x0000024C33F2FE58>]\n",
      "Monitor: val_custom_mae\n",
      "Train on 16000 samples, validate on 3968 samples\n",
      "15616/16000 [============================>.] - ETA: 0s - loss: 3975.7558 - custom_mae: 40.1242\n",
      "Epoch 00001: val_custom_mae improved from inf to 31.70914, saving model to ..\\fast_output\\SYNTH_Regression_MSE\\201019_2253_final_Angular_Base_Custom-MAE\\Best_Weights_FC_106.hdf5\n",
      "16000/16000 [==============================] - 5s 329us/sample - loss: 3937.9566 - custom_mae: 39.8613 - val_loss: 2802.0680 - val_custom_mae: 31.7091\n",
      "Time taken: 0:00:06.989334\n"
     ]
    },
    {
     "name": "stderr",
     "output_type": "stream",
     "text": [
      "\r",
      " 30%|███████████████████████▊                                                        | 107/360 [21:19<34:21,  8.15s/it]"
     ]
    },
    {
     "name": "stdout",
     "output_type": "stream",
     "text": [
      "{'activation': 'leakyrelu', 'batch_size': 64, 'dropout': 0.25, 'epochs': 1, 'first_neuron': 2048, 'hidden_layers': 0, 'label_type': 'Angular', 'loss_function': 'mean_squared_error', 'lr': 5, 'monitor_value': 'val_custom_mae', 'optimizer': <class 'tensorflow.python.keras.optimizer_v2.adam.Adam'>, 'reduction_metric': 'custom_mae', 'samples': 20000}\n",
      "Using Loss: mean_squared_error \n",
      "and Reduction Metric: [<function custom_mae at 0x0000024C33F2FE58>]\n",
      "Monitor: val_custom_mae\n",
      "Train on 16000 samples, validate on 3968 samples\n",
      "15808/16000 [============================>.] - ETA: 0s - loss: 4361.6958 - custom_mae: 41.5913\n",
      "Epoch 00001: val_custom_mae improved from inf to 33.49364, saving model to ..\\fast_output\\SYNTH_Regression_MSE\\201019_2253_final_Angular_Base_Custom-MAE\\Best_Weights_FC_107.hdf5\n",
      "16000/16000 [==============================] - 5s 326us/sample - loss: 4340.7371 - custom_mae: 41.4572 - val_loss: 2939.9875 - val_custom_mae: 33.4936\n",
      "Time taken: 0:00:06.940636\n"
     ]
    },
    {
     "name": "stderr",
     "output_type": "stream",
     "text": [
      "\r",
      " 30%|████████████████████████                                                        | 108/360 [21:28<34:54,  8.31s/it]"
     ]
    },
    {
     "name": "stdout",
     "output_type": "stream",
     "text": [
      "{'activation': 'leakyrelu', 'batch_size': 64, 'dropout': 0.25, 'epochs': 1, 'first_neuron': 2048, 'hidden_layers': 1, 'label_type': 'Angular', 'loss_function': 'mean_squared_error', 'lr': 1, 'monitor_value': 'val_custom_mae', 'optimizer': <class 'tensorflow.python.keras.optimizer_v2.adam.Adam'>, 'reduction_metric': 'custom_mae', 'samples': 20000}\n",
      "Using Loss: mean_squared_error \n",
      "and Reduction Metric: [<function custom_mae at 0x0000024C33F2FE58>]\n",
      "Monitor: val_custom_mae\n",
      "Train on 16000 samples, validate on 3968 samples\n",
      "15680/16000 [============================>.] - ETA: 0s - loss: 3911.7861 - custom_mae: 40.3730\n",
      "Epoch 00001: val_custom_mae improved from inf to 29.29993, saving model to ..\\fast_output\\SYNTH_Regression_MSE\\201019_2253_final_Angular_Base_Custom-MAE\\Best_Weights_FC_108.hdf5\n",
      "16000/16000 [==============================] - 5s 342us/sample - loss: 3881.1802 - custom_mae: 40.1470 - val_loss: 2558.5546 - val_custom_mae: 29.2999\n",
      "Time taken: 0:00:07.172483\n"
     ]
    },
    {
     "name": "stderr",
     "output_type": "stream",
     "text": [
      "\r",
      " 30%|████████████████████████▏                                                       | 109/360 [21:37<35:34,  8.50s/it]"
     ]
    },
    {
     "name": "stdout",
     "output_type": "stream",
     "text": [
      "{'activation': 'leakyrelu', 'batch_size': 64, 'dropout': 0.25, 'epochs': 1, 'first_neuron': 2048, 'hidden_layers': 1, 'label_type': 'Angular', 'loss_function': 'mean_squared_error', 'lr': 2, 'monitor_value': 'val_custom_mae', 'optimizer': <class 'tensorflow.python.keras.optimizer_v2.adam.Adam'>, 'reduction_metric': 'custom_mae', 'samples': 20000}\n",
      "Using Loss: mean_squared_error \n",
      "and Reduction Metric: [<function custom_mae at 0x0000024C33F2FE58>]\n",
      "Monitor: val_custom_mae\n",
      "Train on 16000 samples, validate on 3968 samples\n",
      "15808/16000 [============================>.] - ETA: 0s - loss: 4526.7963 - custom_mae: 43.0569\n",
      "Epoch 00001: val_custom_mae improved from inf to 29.13841, saving model to ..\\fast_output\\SYNTH_Regression_MSE\\201019_2253_final_Angular_Base_Custom-MAE\\Best_Weights_FC_109.hdf5\n",
      "16000/16000 [==============================] - 5s 339us/sample - loss: 4502.2186 - custom_mae: 42.8884 - val_loss: 2549.2383 - val_custom_mae: 29.1384\n",
      "Time taken: 0:00:07.147492\n"
     ]
    },
    {
     "name": "stderr",
     "output_type": "stream",
     "text": [
      "\r",
      " 31%|████████████████████████▍                                                       | 110/360 [21:46<35:57,  8.63s/it]"
     ]
    },
    {
     "name": "stdout",
     "output_type": "stream",
     "text": [
      "{'activation': 'leakyrelu', 'batch_size': 64, 'dropout': 0.25, 'epochs': 1, 'first_neuron': 2048, 'hidden_layers': 1, 'label_type': 'Angular', 'loss_function': 'mean_squared_error', 'lr': 5, 'monitor_value': 'val_custom_mae', 'optimizer': <class 'tensorflow.python.keras.optimizer_v2.adam.Adam'>, 'reduction_metric': 'custom_mae', 'samples': 20000}\n",
      "Using Loss: mean_squared_error \n",
      "and Reduction Metric: [<function custom_mae at 0x0000024C33F2FE58>]\n",
      "Monitor: val_custom_mae\n",
      "Train on 16000 samples, validate on 3968 samples\n",
      "15808/16000 [============================>.] - ETA: 0s - loss: 13265.7684 - custom_mae: 57.4653\n",
      "Epoch 00001: val_custom_mae improved from inf to 33.88697, saving model to ..\\fast_output\\SYNTH_Regression_MSE\\201019_2253_final_Angular_Base_Custom-MAE\\Best_Weights_FC_110.hdf5\n",
      "16000/16000 [==============================] - 5s 337us/sample - loss: 13144.6951 - custom_mae: 57.2250 - val_loss: 3027.0805 - val_custom_mae: 33.8870\n",
      "Time taken: 0:00:07.080501\n"
     ]
    },
    {
     "name": "stderr",
     "output_type": "stream",
     "text": [
      "\r",
      " 31%|████████████████████████▋                                                       | 111/360 [21:55<36:05,  8.70s/it]"
     ]
    },
    {
     "name": "stdout",
     "output_type": "stream",
     "text": [
      "{'activation': 'leakyrelu', 'batch_size': 64, 'dropout': 0.25, 'epochs': 1, 'first_neuron': 2048, 'hidden_layers': 2, 'label_type': 'Angular', 'loss_function': 'mean_squared_error', 'lr': 1, 'monitor_value': 'val_custom_mae', 'optimizer': <class 'tensorflow.python.keras.optimizer_v2.adam.Adam'>, 'reduction_metric': 'custom_mae', 'samples': 20000}\n",
      "Using Loss: mean_squared_error \n",
      "and Reduction Metric: [<function custom_mae at 0x0000024C33F2FE58>]\n",
      "Monitor: val_custom_mae\n",
      "Train on 16000 samples, validate on 3968 samples\n",
      "15680/16000 [============================>.] - ETA: 0s - loss: 4252.5202 - custom_mae: 43.4143\n",
      "Epoch 00001: val_custom_mae improved from inf to 30.52431, saving model to ..\\fast_output\\SYNTH_Regression_MSE\\201019_2253_final_Angular_Base_Custom-MAE\\Best_Weights_FC_111.hdf5\n",
      "16000/16000 [==============================] - 6s 350us/sample - loss: 4216.6573 - custom_mae: 43.1698 - val_loss: 2650.3248 - val_custom_mae: 30.5243\n",
      "Time taken: 0:00:07.303432\n"
     ]
    },
    {
     "name": "stderr",
     "output_type": "stream",
     "text": [
      "\r",
      " 31%|████████████████████████▉                                                       | 112/360 [22:04<36:26,  8.82s/it]"
     ]
    },
    {
     "name": "stdout",
     "output_type": "stream",
     "text": [
      "{'activation': 'leakyrelu', 'batch_size': 64, 'dropout': 0.25, 'epochs': 1, 'first_neuron': 2048, 'hidden_layers': 2, 'label_type': 'Angular', 'loss_function': 'mean_squared_error', 'lr': 2, 'monitor_value': 'val_custom_mae', 'optimizer': <class 'tensorflow.python.keras.optimizer_v2.adam.Adam'>, 'reduction_metric': 'custom_mae', 'samples': 20000}\n",
      "Using Loss: mean_squared_error \n",
      "and Reduction Metric: [<function custom_mae at 0x0000024C33F2FE58>]\n",
      "Monitor: val_custom_mae\n",
      "Train on 16000 samples, validate on 3968 samples\n",
      "15680/16000 [============================>.] - ETA: 0s - loss: 5674.2728 - custom_mae: 48.1604\n",
      "Epoch 00001: val_custom_mae improved from inf to 32.34906, saving model to ..\\fast_output\\SYNTH_Regression_MSE\\201019_2253_final_Angular_Base_Custom-MAE\\Best_Weights_FC_112.hdf5\n",
      "16000/16000 [==============================] - 6s 349us/sample - loss: 5617.5539 - custom_mae: 47.8624 - val_loss: 2908.9320 - val_custom_mae: 32.3491\n",
      "Time taken: 0:00:07.284869\n"
     ]
    },
    {
     "name": "stderr",
     "output_type": "stream",
     "text": [
      "\r",
      " 31%|█████████████████████████                                                       | 113/360 [22:13<36:36,  8.89s/it]"
     ]
    },
    {
     "name": "stdout",
     "output_type": "stream",
     "text": [
      "{'activation': 'leakyrelu', 'batch_size': 64, 'dropout': 0.25, 'epochs': 1, 'first_neuron': 2048, 'hidden_layers': 2, 'label_type': 'Angular', 'loss_function': 'mean_squared_error', 'lr': 5, 'monitor_value': 'val_custom_mae', 'optimizer': <class 'tensorflow.python.keras.optimizer_v2.adam.Adam'>, 'reduction_metric': 'custom_mae', 'samples': 20000}\n",
      "Using Loss: mean_squared_error \n",
      "and Reduction Metric: [<function custom_mae at 0x0000024C33F2FE58>]\n",
      "Monitor: val_custom_mae\n",
      "Train on 16000 samples, validate on 3968 samples\n",
      "15808/16000 [============================>.] - ETA: 0s - loss: 24101.8929 - custom_mae: 66.0279\n",
      "Epoch 00001: val_custom_mae improved from inf to 38.04966, saving model to ..\\fast_output\\SYNTH_Regression_MSE\\201019_2253_final_Angular_Base_Custom-MAE\\Best_Weights_FC_113.hdf5\n",
      "16000/16000 [==============================] - 6s 352us/sample - loss: 23855.9593 - custom_mae: 65.7299 - val_loss: 3489.4020 - val_custom_mae: 38.0497\n",
      "Time taken: 0:00:07.316671\n"
     ]
    },
    {
     "name": "stderr",
     "output_type": "stream",
     "text": [
      "\r",
      " 32%|█████████████████████████▎                                                      | 114/360 [22:22<36:42,  8.95s/it]"
     ]
    },
    {
     "name": "stdout",
     "output_type": "stream",
     "text": [
      "{'activation': 'leakyrelu', 'batch_size': 64, 'dropout': 0.25, 'epochs': 1, 'first_neuron': 2048, 'hidden_layers': 3, 'label_type': 'Angular', 'loss_function': 'mean_squared_error', 'lr': 1, 'monitor_value': 'val_custom_mae', 'optimizer': <class 'tensorflow.python.keras.optimizer_v2.adam.Adam'>, 'reduction_metric': 'custom_mae', 'samples': 20000}\n",
      "Using Loss: mean_squared_error \n",
      "and Reduction Metric: [<function custom_mae at 0x0000024C33F2FE58>]\n",
      "Monitor: val_custom_mae\n",
      "Train on 16000 samples, validate on 3968 samples\n",
      "15744/16000 [============================>.] - ETA: 0s - loss: 4632.2296 - custom_mae: 45.4284\n",
      "Epoch 00001: val_custom_mae improved from inf to 29.70888, saving model to ..\\fast_output\\SYNTH_Regression_MSE\\201019_2253_final_Angular_Base_Custom-MAE\\Best_Weights_FC_114.hdf5\n",
      "16000/16000 [==============================] - 6s 361us/sample - loss: 4602.0629 - custom_mae: 45.2204 - val_loss: 2512.5664 - val_custom_mae: 29.7089\n",
      "Time taken: 0:00:07.454284\n"
     ]
    },
    {
     "name": "stderr",
     "output_type": "stream",
     "text": [
      "\r",
      " 32%|█████████████████████████▌                                                      | 115/360 [22:31<36:56,  9.05s/it]"
     ]
    },
    {
     "name": "stdout",
     "output_type": "stream",
     "text": [
      "{'activation': 'leakyrelu', 'batch_size': 64, 'dropout': 0.25, 'epochs': 1, 'first_neuron': 2048, 'hidden_layers': 3, 'label_type': 'Angular', 'loss_function': 'mean_squared_error', 'lr': 2, 'monitor_value': 'val_custom_mae', 'optimizer': <class 'tensorflow.python.keras.optimizer_v2.adam.Adam'>, 'reduction_metric': 'custom_mae', 'samples': 20000}\n",
      "Using Loss: mean_squared_error \n",
      "and Reduction Metric: [<function custom_mae at 0x0000024C33F2FE58>]\n",
      "Monitor: val_custom_mae\n",
      "Train on 16000 samples, validate on 3968 samples\n",
      "15744/16000 [============================>.] - ETA: 0s - loss: 5832.4603 - custom_mae: 48.7989\n",
      "Epoch 00001: val_custom_mae improved from inf to 36.86830, saving model to ..\\fast_output\\SYNTH_Regression_MSE\\201019_2253_final_Angular_Base_Custom-MAE\\Best_Weights_FC_115.hdf5\n",
      "16000/16000 [==============================] - 6s 358us/sample - loss: 5787.9683 - custom_mae: 48.5819 - val_loss: 3421.2667 - val_custom_mae: 36.8683\n",
      "Time taken: 0:00:07.424607\n"
     ]
    },
    {
     "name": "stderr",
     "output_type": "stream",
     "text": [
      "\r",
      " 32%|█████████████████████████▊                                                      | 116/360 [22:40<37:01,  9.10s/it]"
     ]
    },
    {
     "name": "stdout",
     "output_type": "stream",
     "text": [
      "{'activation': 'leakyrelu', 'batch_size': 64, 'dropout': 0.25, 'epochs': 1, 'first_neuron': 2048, 'hidden_layers': 3, 'label_type': 'Angular', 'loss_function': 'mean_squared_error', 'lr': 5, 'monitor_value': 'val_custom_mae', 'optimizer': <class 'tensorflow.python.keras.optimizer_v2.adam.Adam'>, 'reduction_metric': 'custom_mae', 'samples': 20000}\n",
      "Using Loss: mean_squared_error \n",
      "and Reduction Metric: [<function custom_mae at 0x0000024C33F2FE58>]\n",
      "Monitor: val_custom_mae\n",
      "Train on 16000 samples, validate on 3968 samples\n",
      "15616/16000 [============================>.] - ETA: 0s - loss: 7294.0016 - custom_mae: 52.8901\n",
      "Epoch 00001: val_custom_mae improved from inf to 33.72196, saving model to ..\\fast_output\\SYNTH_Regression_MSE\\201019_2253_final_Angular_Base_Custom-MAE\\Best_Weights_FC_116.hdf5\n",
      "16000/16000 [==============================] - 6s 358us/sample - loss: 7191.3997 - custom_mae: 52.4910 - val_loss: 2832.8021 - val_custom_mae: 33.7220\n",
      "Time taken: 0:00:07.435704\n"
     ]
    },
    {
     "name": "stderr",
     "output_type": "stream",
     "text": [
      "\r",
      " 32%|██████████████████████████                                                      | 117/360 [22:50<37:02,  9.15s/it]"
     ]
    },
    {
     "name": "stdout",
     "output_type": "stream",
     "text": [
      "{'activation': 'leakyrelu', 'batch_size': 64, 'dropout': 0.25, 'epochs': 1, 'first_neuron': 2048, 'hidden_layers': 4, 'label_type': 'Angular', 'loss_function': 'mean_squared_error', 'lr': 1, 'monitor_value': 'val_custom_mae', 'optimizer': <class 'tensorflow.python.keras.optimizer_v2.adam.Adam'>, 'reduction_metric': 'custom_mae', 'samples': 20000}\n",
      "Using Loss: mean_squared_error \n",
      "and Reduction Metric: [<function custom_mae at 0x0000024C33F2FE58>]\n",
      "Monitor: val_custom_mae\n",
      "Train on 16000 samples, validate on 3968 samples\n",
      "15744/16000 [============================>.] - ETA: 0s - loss: 5003.3458 - custom_mae: 48.6423\n",
      "Epoch 00001: val_custom_mae improved from inf to 31.03970, saving model to ..\\fast_output\\SYNTH_Regression_MSE\\201019_2253_final_Angular_Base_Custom-MAE\\Best_Weights_FC_117.hdf5\n",
      "16000/16000 [==============================] - 6s 363us/sample - loss: 4970.0490 - custom_mae: 48.4242 - val_loss: 2611.0360 - val_custom_mae: 31.0397\n",
      "Time taken: 0:00:07.498145\n"
     ]
    },
    {
     "name": "stderr",
     "output_type": "stream",
     "text": [
      "\r",
      " 33%|██████████████████████████▏                                                     | 118/360 [22:59<37:06,  9.20s/it]"
     ]
    },
    {
     "name": "stdout",
     "output_type": "stream",
     "text": [
      "{'activation': 'leakyrelu', 'batch_size': 64, 'dropout': 0.25, 'epochs': 1, 'first_neuron': 2048, 'hidden_layers': 4, 'label_type': 'Angular', 'loss_function': 'mean_squared_error', 'lr': 2, 'monitor_value': 'val_custom_mae', 'optimizer': <class 'tensorflow.python.keras.optimizer_v2.adam.Adam'>, 'reduction_metric': 'custom_mae', 'samples': 20000}\n",
      "Using Loss: mean_squared_error \n",
      "and Reduction Metric: [<function custom_mae at 0x0000024C33F2FE58>]\n",
      "Monitor: val_custom_mae\n",
      "Train on 16000 samples, validate on 3968 samples\n",
      "15808/16000 [============================>.] - ETA: 0s - loss: 6356.2455 - custom_mae: 51.1481\n",
      "Epoch 00001: val_custom_mae improved from inf to 40.03056, saving model to ..\\fast_output\\SYNTH_Regression_MSE\\201019_2253_final_Angular_Base_Custom-MAE\\Best_Weights_FC_118.hdf5\n",
      "16000/16000 [==============================] - 6s 364us/sample - loss: 6325.9681 - custom_mae: 51.0528 - val_loss: 3141.6391 - val_custom_mae: 40.0306\n",
      "Time taken: 0:00:07.509475\n"
     ]
    },
    {
     "name": "stderr",
     "output_type": "stream",
     "text": [
      "\r",
      " 33%|██████████████████████████▍                                                     | 119/360 [23:08<37:07,  9.24s/it]"
     ]
    },
    {
     "name": "stdout",
     "output_type": "stream",
     "text": [
      "{'activation': 'leakyrelu', 'batch_size': 64, 'dropout': 0.25, 'epochs': 1, 'first_neuron': 2048, 'hidden_layers': 4, 'label_type': 'Angular', 'loss_function': 'mean_squared_error', 'lr': 5, 'monitor_value': 'val_custom_mae', 'optimizer': <class 'tensorflow.python.keras.optimizer_v2.adam.Adam'>, 'reduction_metric': 'custom_mae', 'samples': 20000}\n",
      "Using Loss: mean_squared_error \n",
      "and Reduction Metric: [<function custom_mae at 0x0000024C33F2FE58>]\n",
      "Monitor: val_custom_mae\n",
      "Train on 16000 samples, validate on 3968 samples\n",
      "15680/16000 [============================>.] - ETA: 0s - loss: 8090.2230 - custom_mae: 61.6842\n",
      "Epoch 00001: val_custom_mae improved from inf to 43.14540, saving model to ..\\fast_output\\SYNTH_Regression_MSE\\201019_2253_final_Angular_Base_Custom-MAE\\Best_Weights_FC_119.hdf5\n",
      "16000/16000 [==============================] - 6s 367us/sample - loss: 8004.6698 - custom_mae: 61.3387 - val_loss: 3595.9642 - val_custom_mae: 43.1454\n",
      "Time taken: 0:00:07.572622\n"
     ]
    },
    {
     "name": "stderr",
     "output_type": "stream",
     "text": [
      "\r",
      " 33%|██████████████████████████▋                                                     | 120/360 [23:18<37:10,  9.29s/it]"
     ]
    },
    {
     "name": "stdout",
     "output_type": "stream",
     "text": [
      "{'activation': 'leakyrelu', 'batch_size': 64, 'dropout': 0.25, 'epochs': 1, 'first_neuron': 4096, 'hidden_layers': 0, 'label_type': 'Angular', 'loss_function': 'mean_squared_error', 'lr': 1, 'monitor_value': 'val_custom_mae', 'optimizer': <class 'tensorflow.python.keras.optimizer_v2.adam.Adam'>, 'reduction_metric': 'custom_mae', 'samples': 20000}\n",
      "Using Loss: mean_squared_error \n",
      "and Reduction Metric: [<function custom_mae at 0x0000024C33F2FE58>]\n",
      "Monitor: val_custom_mae\n",
      "Train on 16000 samples, validate on 3968 samples\n",
      "15808/16000 [============================>.] - ETA: 0s - loss: 3958.4258 - custom_mae: 40.1883\n",
      "Epoch 00001: val_custom_mae improved from inf to 30.97506, saving model to ..\\fast_output\\SYNTH_Regression_MSE\\201019_2253_final_Angular_Base_Custom-MAE\\Best_Weights_FC_120.hdf5\n",
      "16000/16000 [==============================] - 9s 569us/sample - loss: 3940.1397 - custom_mae: 40.0504 - val_loss: 2780.4834 - val_custom_mae: 30.9751\n",
      "Time taken: 0:00:10.793410\n"
     ]
    },
    {
     "name": "stderr",
     "output_type": "stream",
     "text": [
      "\r",
      " 34%|██████████████████████████▉                                                     | 121/360 [23:30<40:53, 10.26s/it]"
     ]
    },
    {
     "name": "stdout",
     "output_type": "stream",
     "text": [
      "{'activation': 'leakyrelu', 'batch_size': 64, 'dropout': 0.25, 'epochs': 1, 'first_neuron': 4096, 'hidden_layers': 0, 'label_type': 'Angular', 'loss_function': 'mean_squared_error', 'lr': 2, 'monitor_value': 'val_custom_mae', 'optimizer': <class 'tensorflow.python.keras.optimizer_v2.adam.Adam'>, 'reduction_metric': 'custom_mae', 'samples': 20000}\n",
      "Using Loss: mean_squared_error \n",
      "and Reduction Metric: [<function custom_mae at 0x0000024C33F2FE58>]\n",
      "Monitor: val_custom_mae\n",
      "Train on 16000 samples, validate on 3968 samples\n",
      "15936/16000 [============================>.] - ETA: 0s - loss: 3787.3815 - custom_mae: 38.9856\n",
      "Epoch 00001: val_custom_mae improved from inf to 30.26934, saving model to ..\\fast_output\\SYNTH_Regression_MSE\\201019_2253_final_Angular_Base_Custom-MAE\\Best_Weights_FC_121.hdf5\n",
      "16000/16000 [==============================] - 9s 559us/sample - loss: 3784.0661 - custom_mae: 38.9509 - val_loss: 2734.6434 - val_custom_mae: 30.2693\n",
      "Time taken: 0:00:10.605994\n"
     ]
    },
    {
     "name": "stderr",
     "output_type": "stream",
     "text": [
      "\r",
      " 34%|███████████████████████████                                                     | 122/360 [23:42<43:10, 10.89s/it]"
     ]
    },
    {
     "name": "stdout",
     "output_type": "stream",
     "text": [
      "{'activation': 'leakyrelu', 'batch_size': 64, 'dropout': 0.25, 'epochs': 1, 'first_neuron': 4096, 'hidden_layers': 0, 'label_type': 'Angular', 'loss_function': 'mean_squared_error', 'lr': 5, 'monitor_value': 'val_custom_mae', 'optimizer': <class 'tensorflow.python.keras.optimizer_v2.adam.Adam'>, 'reduction_metric': 'custom_mae', 'samples': 20000}\n",
      "Using Loss: mean_squared_error \n",
      "and Reduction Metric: [<function custom_mae at 0x0000024C33F2FE58>]\n",
      "Monitor: val_custom_mae\n",
      "Train on 16000 samples, validate on 3968 samples\n",
      "15744/16000 [============================>.] - ETA: 0s - loss: 4975.4966 - custom_mae: 43.3775\n",
      "Epoch 00001: val_custom_mae improved from inf to 30.97255, saving model to ..\\fast_output\\SYNTH_Regression_MSE\\201019_2253_final_Angular_Base_Custom-MAE\\Best_Weights_FC_122.hdf5\n",
      "16000/16000 [==============================] - 9s 571us/sample - loss: 4936.6097 - custom_mae: 43.1576 - val_loss: 2831.9042 - val_custom_mae: 30.9725\n",
      "Time taken: 0:00:10.830580\n"
     ]
    },
    {
     "name": "stderr",
     "output_type": "stream",
     "text": [
      "\r",
      " 34%|███████████████████████████▎                                                    | 123/360 [23:55<45:00, 11.39s/it]"
     ]
    },
    {
     "name": "stdout",
     "output_type": "stream",
     "text": [
      "{'activation': 'leakyrelu', 'batch_size': 64, 'dropout': 0.25, 'epochs': 1, 'first_neuron': 4096, 'hidden_layers': 1, 'label_type': 'Angular', 'loss_function': 'mean_squared_error', 'lr': 1, 'monitor_value': 'val_custom_mae', 'optimizer': <class 'tensorflow.python.keras.optimizer_v2.adam.Adam'>, 'reduction_metric': 'custom_mae', 'samples': 20000}\n",
      "Using Loss: mean_squared_error \n",
      "and Reduction Metric: [<function custom_mae at 0x0000024C33F2FE58>]\n",
      "Monitor: val_custom_mae\n",
      "Train on 16000 samples, validate on 3968 samples\n",
      "15936/16000 [============================>.] - ETA: 0s - loss: 4375.9172 - custom_mae: 41.9269\n",
      "Epoch 00001: val_custom_mae improved from inf to 28.50920, saving model to ..\\fast_output\\SYNTH_Regression_MSE\\201019_2253_final_Angular_Base_Custom-MAE\\Best_Weights_FC_123.hdf5\n",
      "16000/16000 [==============================] - 10s 611us/sample - loss: 4370.1153 - custom_mae: 41.8852 - val_loss: 2500.7990 - val_custom_mae: 28.5092\n",
      "Time taken: 0:00:11.473850\n"
     ]
    },
    {
     "name": "stderr",
     "output_type": "stream",
     "text": [
      "\r",
      " 34%|███████████████████████████▌                                                    | 124/360 [24:08<46:59, 11.95s/it]"
     ]
    },
    {
     "name": "stdout",
     "output_type": "stream",
     "text": [
      "{'activation': 'leakyrelu', 'batch_size': 64, 'dropout': 0.25, 'epochs': 1, 'first_neuron': 4096, 'hidden_layers': 1, 'label_type': 'Angular', 'loss_function': 'mean_squared_error', 'lr': 2, 'monitor_value': 'val_custom_mae', 'optimizer': <class 'tensorflow.python.keras.optimizer_v2.adam.Adam'>, 'reduction_metric': 'custom_mae', 'samples': 20000}\n",
      "Using Loss: mean_squared_error \n",
      "and Reduction Metric: [<function custom_mae at 0x0000024C33F2FE58>]\n",
      "Monitor: val_custom_mae\n",
      "Train on 16000 samples, validate on 3968 samples\n",
      "15936/16000 [============================>.] - ETA: 0s - loss: 6466.0225 - custom_mae: 49.2908\n",
      "Epoch 00001: val_custom_mae improved from inf to 37.32460, saving model to ..\\fast_output\\SYNTH_Regression_MSE\\201019_2253_final_Angular_Base_Custom-MAE\\Best_Weights_FC_124.hdf5\n",
      "16000/16000 [==============================] - 10s 610us/sample - loss: 6451.9554 - custom_mae: 49.2167 - val_loss: 3048.1346 - val_custom_mae: 37.3246\n",
      "Time taken: 0:00:11.465479\n"
     ]
    },
    {
     "name": "stderr",
     "output_type": "stream",
     "text": [
      "\r",
      " 35%|███████████████████████████▊                                                    | 125/360 [24:22<48:18, 12.34s/it]"
     ]
    },
    {
     "name": "stdout",
     "output_type": "stream",
     "text": [
      "{'activation': 'leakyrelu', 'batch_size': 64, 'dropout': 0.25, 'epochs': 1, 'first_neuron': 4096, 'hidden_layers': 1, 'label_type': 'Angular', 'loss_function': 'mean_squared_error', 'lr': 5, 'monitor_value': 'val_custom_mae', 'optimizer': <class 'tensorflow.python.keras.optimizer_v2.adam.Adam'>, 'reduction_metric': 'custom_mae', 'samples': 20000}\n",
      "Using Loss: mean_squared_error \n",
      "and Reduction Metric: [<function custom_mae at 0x0000024C33F2FE58>]\n",
      "Monitor: val_custom_mae\n",
      "Train on 16000 samples, validate on 3968 samples\n",
      "15936/16000 [============================>.] - ETA: 0s - loss: 67134.8139 - custom_mae: 86.8352\n",
      "Epoch 00001: val_custom_mae improved from inf to 50.74297, saving model to ..\\fast_output\\SYNTH_Regression_MSE\\201019_2253_final_Angular_Base_Custom-MAE\\Best_Weights_FC_125.hdf5\n",
      "16000/16000 [==============================] - 10s 608us/sample - loss: 66882.2818 - custom_mae: 86.6668 - val_loss: 4143.7867 - val_custom_mae: 50.7430\n",
      "Time taken: 0:00:11.435359\n"
     ]
    },
    {
     "name": "stderr",
     "output_type": "stream",
     "text": [
      "\r",
      " 35%|████████████████████████████                                                    | 126/360 [24:35<49:07, 12.60s/it]"
     ]
    },
    {
     "name": "stdout",
     "output_type": "stream",
     "text": [
      "{'activation': 'leakyrelu', 'batch_size': 64, 'dropout': 0.25, 'epochs': 1, 'first_neuron': 4096, 'hidden_layers': 2, 'label_type': 'Angular', 'loss_function': 'mean_squared_error', 'lr': 1, 'monitor_value': 'val_custom_mae', 'optimizer': <class 'tensorflow.python.keras.optimizer_v2.adam.Adam'>, 'reduction_metric': 'custom_mae', 'samples': 20000}\n",
      "Using Loss: mean_squared_error \n",
      "and Reduction Metric: [<function custom_mae at 0x0000024C33F2FE58>]\n",
      "Monitor: val_custom_mae\n",
      "Train on 16000 samples, validate on 3968 samples\n",
      "15808/16000 [============================>.] - ETA: 0s - loss: 4925.0297 - custom_mae: 44.2085\n",
      "Epoch 00001: val_custom_mae improved from inf to 29.10283, saving model to ..\\fast_output\\SYNTH_Regression_MSE\\201019_2253_final_Angular_Base_Custom-MAE\\Best_Weights_FC_126.hdf5\n",
      "16000/16000 [==============================] - 10s 621us/sample - loss: 4892.9840 - custom_mae: 44.0196 - val_loss: 2545.0061 - val_custom_mae: 29.1028\n",
      "Time taken: 0:00:11.639502\n"
     ]
    },
    {
     "name": "stderr",
     "output_type": "stream",
     "text": [
      "\r",
      " 35%|████████████████████████████▏                                                   | 127/360 [24:48<49:54, 12.85s/it]"
     ]
    },
    {
     "name": "stdout",
     "output_type": "stream",
     "text": [
      "{'activation': 'leakyrelu', 'batch_size': 64, 'dropout': 0.25, 'epochs': 1, 'first_neuron': 4096, 'hidden_layers': 2, 'label_type': 'Angular', 'loss_function': 'mean_squared_error', 'lr': 2, 'monitor_value': 'val_custom_mae', 'optimizer': <class 'tensorflow.python.keras.optimizer_v2.adam.Adam'>, 'reduction_metric': 'custom_mae', 'samples': 20000}\n",
      "Using Loss: mean_squared_error \n",
      "and Reduction Metric: [<function custom_mae at 0x0000024C33F2FE58>]\n",
      "Monitor: val_custom_mae\n",
      "Train on 16000 samples, validate on 3968 samples\n",
      "15936/16000 [============================>.] - ETA: 0s - loss: 7263.6916 - custom_mae: 49.4369\n",
      "Epoch 00001: val_custom_mae improved from inf to 34.13314, saving model to ..\\fast_output\\SYNTH_Regression_MSE\\201019_2253_final_Angular_Base_Custom-MAE\\Best_Weights_FC_127.hdf5\n",
      "16000/16000 [==============================] - 10s 618us/sample - loss: 7245.7778 - custom_mae: 49.3688 - val_loss: 2713.6347 - val_custom_mae: 34.1331\n",
      "Time taken: 0:00:11.592767\n"
     ]
    },
    {
     "name": "stderr",
     "output_type": "stream",
     "text": [
      "\r",
      " 36%|████████████████████████████▍                                                   | 128/360 [25:02<50:18, 13.01s/it]"
     ]
    },
    {
     "name": "stdout",
     "output_type": "stream",
     "text": [
      "{'activation': 'leakyrelu', 'batch_size': 64, 'dropout': 0.25, 'epochs': 1, 'first_neuron': 4096, 'hidden_layers': 2, 'label_type': 'Angular', 'loss_function': 'mean_squared_error', 'lr': 5, 'monitor_value': 'val_custom_mae', 'optimizer': <class 'tensorflow.python.keras.optimizer_v2.adam.Adam'>, 'reduction_metric': 'custom_mae', 'samples': 20000}\n",
      "Using Loss: mean_squared_error \n",
      "and Reduction Metric: [<function custom_mae at 0x0000024C33F2FE58>]\n",
      "Monitor: val_custom_mae\n",
      "Train on 16000 samples, validate on 3968 samples\n",
      "15936/16000 [============================>.] - ETA: 0s - loss: 1263139.8082 - custom_mae: 192.6148\n",
      "Epoch 00001: val_custom_mae improved from inf to 56.87629, saving model to ..\\fast_output\\SYNTH_Regression_MSE\\201019_2253_final_Angular_Base_Custom-MAE\\Best_Weights_FC_128.hdf5\n",
      "16000/16000 [==============================] - 10s 622us/sample - loss: 1258113.7949 - custom_mae: 192.0987 - val_loss: 5372.0742 - val_custom_mae: 56.8763\n",
      "Time taken: 0:00:11.647053\n"
     ]
    },
    {
     "name": "stderr",
     "output_type": "stream",
     "text": [
      "\r",
      " 36%|████████████████████████████▋                                                   | 129/360 [25:15<50:35, 13.14s/it]"
     ]
    },
    {
     "name": "stdout",
     "output_type": "stream",
     "text": [
      "{'activation': 'leakyrelu', 'batch_size': 64, 'dropout': 0.25, 'epochs': 1, 'first_neuron': 4096, 'hidden_layers': 3, 'label_type': 'Angular', 'loss_function': 'mean_squared_error', 'lr': 1, 'monitor_value': 'val_custom_mae', 'optimizer': <class 'tensorflow.python.keras.optimizer_v2.adam.Adam'>, 'reduction_metric': 'custom_mae', 'samples': 20000}\n",
      "Using Loss: mean_squared_error \n",
      "and Reduction Metric: [<function custom_mae at 0x0000024C33F2FE58>]\n",
      "Monitor: val_custom_mae\n",
      "Train on 16000 samples, validate on 3968 samples\n",
      "15936/16000 [============================>.] - ETA: 0s - loss: 4782.5727 - custom_mae: 44.8768\n",
      "Epoch 00001: val_custom_mae improved from inf to 30.73639, saving model to ..\\fast_output\\SYNTH_Regression_MSE\\201019_2253_final_Angular_Base_Custom-MAE\\Best_Weights_FC_129.hdf5\n",
      "16000/16000 [==============================] - 10s 633us/sample - loss: 4775.9068 - custom_mae: 44.8309 - val_loss: 2580.4662 - val_custom_mae: 30.7364\n",
      "Time taken: 0:00:11.842873\n"
     ]
    },
    {
     "name": "stderr",
     "output_type": "stream",
     "text": [
      "\r",
      " 36%|████████████████████████████▉                                                   | 130/360 [25:29<50:57, 13.29s/it]"
     ]
    },
    {
     "name": "stdout",
     "output_type": "stream",
     "text": [
      "{'activation': 'leakyrelu', 'batch_size': 64, 'dropout': 0.25, 'epochs': 1, 'first_neuron': 4096, 'hidden_layers': 3, 'label_type': 'Angular', 'loss_function': 'mean_squared_error', 'lr': 2, 'monitor_value': 'val_custom_mae', 'optimizer': <class 'tensorflow.python.keras.optimizer_v2.adam.Adam'>, 'reduction_metric': 'custom_mae', 'samples': 20000}\n",
      "Using Loss: mean_squared_error \n",
      "and Reduction Metric: [<function custom_mae at 0x0000024C33F2FE58>]\n",
      "Monitor: val_custom_mae\n",
      "Train on 16000 samples, validate on 3968 samples\n",
      "15872/16000 [============================>.] - ETA: 0s - loss: 6704.0508 - custom_mae: 50.4697\n",
      "Epoch 00001: val_custom_mae improved from inf to 30.35837, saving model to ..\\fast_output\\SYNTH_Regression_MSE\\201019_2253_final_Angular_Base_Custom-MAE\\Best_Weights_FC_130.hdf5\n",
      "16000/16000 [==============================] - 10s 628us/sample - loss: 6672.6921 - custom_mae: 50.3232 - val_loss: 2581.5959 - val_custom_mae: 30.3584\n",
      "Time taken: 0:00:11.765506\n"
     ]
    },
    {
     "name": "stderr",
     "output_type": "stream",
     "text": [
      "\r",
      " 36%|█████████████████████████████                                                   | 131/360 [25:42<51:03, 13.38s/it]"
     ]
    },
    {
     "name": "stdout",
     "output_type": "stream",
     "text": [
      "{'activation': 'leakyrelu', 'batch_size': 64, 'dropout': 0.25, 'epochs': 1, 'first_neuron': 4096, 'hidden_layers': 3, 'label_type': 'Angular', 'loss_function': 'mean_squared_error', 'lr': 5, 'monitor_value': 'val_custom_mae', 'optimizer': <class 'tensorflow.python.keras.optimizer_v2.adam.Adam'>, 'reduction_metric': 'custom_mae', 'samples': 20000}\n",
      "Using Loss: mean_squared_error \n",
      "and Reduction Metric: [<function custom_mae at 0x0000024C33F2FE58>]\n",
      "Monitor: val_custom_mae\n",
      "Train on 16000 samples, validate on 3968 samples\n",
      "15808/16000 [============================>.] - ETA: 0s - loss: 747377.2680 - custom_mae: 186.8095  ETA: 1s - loss: 115635\n",
      "Epoch 00001: val_custom_mae improved from inf to 59.01408, saving model to ..\\fast_output\\SYNTH_Regression_MSE\\201019_2253_final_Angular_Base_Custom-MAE\\Best_Weights_FC_131.hdf5\n",
      "16000/16000 [==============================] - 10s 625us/sample - loss: 738498.8165 - custom_mae: 185.3846 - val_loss: 6061.4330 - val_custom_mae: 59.0141\n",
      "Time taken: 0:00:11.696003\n"
     ]
    },
    {
     "name": "stderr",
     "output_type": "stream",
     "text": [
      "\r",
      " 37%|█████████████████████████████▎                                                  | 132/360 [25:56<50:59, 13.42s/it]"
     ]
    },
    {
     "name": "stdout",
     "output_type": "stream",
     "text": [
      "{'activation': 'leakyrelu', 'batch_size': 64, 'dropout': 0.25, 'epochs': 1, 'first_neuron': 4096, 'hidden_layers': 4, 'label_type': 'Angular', 'loss_function': 'mean_squared_error', 'lr': 1, 'monitor_value': 'val_custom_mae', 'optimizer': <class 'tensorflow.python.keras.optimizer_v2.adam.Adam'>, 'reduction_metric': 'custom_mae', 'samples': 20000}\n",
      "Using Loss: mean_squared_error \n",
      "and Reduction Metric: [<function custom_mae at 0x0000024C33F2FE58>]\n",
      "Monitor: val_custom_mae\n",
      "Train on 16000 samples, validate on 3968 samples\n",
      "15808/16000 [============================>.] - ETA: 0s - loss: 5013.9663 - custom_mae: 48.4463\n",
      "Epoch 00001: val_custom_mae improved from inf to 40.10900, saving model to ..\\fast_output\\SYNTH_Regression_MSE\\201019_2253_final_Angular_Base_Custom-MAE\\Best_Weights_FC_132.hdf5\n",
      "16000/16000 [==============================] - 10s 631us/sample - loss: 4989.3673 - custom_mae: 48.3163 - val_loss: 3456.3846 - val_custom_mae: 40.1090\n",
      "Time taken: 0:00:11.793279\n"
     ]
    },
    {
     "name": "stderr",
     "output_type": "stream",
     "text": [
      "\r",
      " 37%|█████████████████████████████▌                                                  | 133/360 [26:09<51:00, 13.48s/it]"
     ]
    },
    {
     "name": "stdout",
     "output_type": "stream",
     "text": [
      "{'activation': 'leakyrelu', 'batch_size': 64, 'dropout': 0.25, 'epochs': 1, 'first_neuron': 4096, 'hidden_layers': 4, 'label_type': 'Angular', 'loss_function': 'mean_squared_error', 'lr': 2, 'monitor_value': 'val_custom_mae', 'optimizer': <class 'tensorflow.python.keras.optimizer_v2.adam.Adam'>, 'reduction_metric': 'custom_mae', 'samples': 20000}\n",
      "Using Loss: mean_squared_error \n",
      "and Reduction Metric: [<function custom_mae at 0x0000024C33F2FE58>]\n",
      "Monitor: val_custom_mae\n",
      "Train on 16000 samples, validate on 3968 samples\n",
      "15936/16000 [============================>.] - ETA: 0s - loss: 7631.4932 - custom_mae: 53.1730\n",
      "Epoch 00001: val_custom_mae improved from inf to 33.42228, saving model to ..\\fast_output\\SYNTH_Regression_MSE\\201019_2253_final_Angular_Base_Custom-MAE\\Best_Weights_FC_133.hdf5\n",
      "16000/16000 [==============================] - 10s 630us/sample - loss: 7614.3568 - custom_mae: 53.0960 - val_loss: 2796.3083 - val_custom_mae: 33.4223\n",
      "Time taken: 0:00:11.760594\n"
     ]
    },
    {
     "name": "stderr",
     "output_type": "stream",
     "text": [
      "\r",
      " 37%|█████████████████████████████▊                                                  | 134/360 [26:23<50:55, 13.52s/it]"
     ]
    },
    {
     "name": "stdout",
     "output_type": "stream",
     "text": [
      "{'activation': 'leakyrelu', 'batch_size': 64, 'dropout': 0.25, 'epochs': 1, 'first_neuron': 4096, 'hidden_layers': 4, 'label_type': 'Angular', 'loss_function': 'mean_squared_error', 'lr': 5, 'monitor_value': 'val_custom_mae', 'optimizer': <class 'tensorflow.python.keras.optimizer_v2.adam.Adam'>, 'reduction_metric': 'custom_mae', 'samples': 20000}\n",
      "Using Loss: mean_squared_error \n",
      "and Reduction Metric: [<function custom_mae at 0x0000024C33F2FE58>]\n",
      "Monitor: val_custom_mae\n",
      "Train on 16000 samples, validate on 3968 samples\n",
      "15808/16000 [============================>.] - ETA: 0s - loss: 314580.4843 - custom_mae: 128.7416- ETA: 0s - loss: 335902.5903 - custom_mae: 133.\n",
      "Epoch 00001: val_custom_mae improved from inf to 55.49135, saving model to ..\\fast_output\\SYNTH_Regression_MSE\\201019_2253_final_Angular_Base_Custom-MAE\\Best_Weights_FC_134.hdf5\n",
      "16000/16000 [==============================] - 10s 632us/sample - loss: 310870.3064 - custom_mae: 127.8384 - val_loss: 5756.0983 - val_custom_mae: 55.4913\n",
      "Time taken: 0:00:11.796666\n"
     ]
    },
    {
     "name": "stderr",
     "output_type": "stream",
     "text": [
      "\r",
      " 38%|██████████████████████████████                                                  | 135/360 [26:37<50:49, 13.55s/it]"
     ]
    },
    {
     "name": "stdout",
     "output_type": "stream",
     "text": [
      "{'activation': 'leakyrelu', 'batch_size': 64, 'dropout': 0.5, 'epochs': 1, 'first_neuron': 1024, 'hidden_layers': 0, 'label_type': 'Angular', 'loss_function': 'mean_squared_error', 'lr': 1, 'monitor_value': 'val_custom_mae', 'optimizer': <class 'tensorflow.python.keras.optimizer_v2.adam.Adam'>, 'reduction_metric': 'custom_mae', 'samples': 20000}\n",
      "Using Loss: mean_squared_error \n",
      "and Reduction Metric: [<function custom_mae at 0x0000024C33F2FE58>]\n",
      "Monitor: val_custom_mae\n",
      "Train on 16000 samples, validate on 3968 samples\n",
      "15680/16000 [============================>.] - ETA: 0s - loss: 4523.1226 - custom_mae: 44.5073\n",
      "Epoch 00001: val_custom_mae improved from inf to 35.91911, saving model to ..\\fast_output\\SYNTH_Regression_MSE\\201019_2253_final_Angular_Base_Custom-MAE\\Best_Weights_FC_135.hdf5\n",
      "16000/16000 [==============================] - 3s 218us/sample - loss: 4493.3242 - custom_mae: 44.3193 - val_loss: 3359.6987 - val_custom_mae: 35.9191\n",
      "Time taken: 0:00:05.203939\n"
     ]
    },
    {
     "name": "stderr",
     "output_type": "stream",
     "text": [
      "\r",
      " 38%|██████████████████████████████▏                                                 | 136/360 [26:44<43:11, 11.57s/it]"
     ]
    },
    {
     "name": "stdout",
     "output_type": "stream",
     "text": [
      "{'activation': 'leakyrelu', 'batch_size': 64, 'dropout': 0.5, 'epochs': 1, 'first_neuron': 1024, 'hidden_layers': 0, 'label_type': 'Angular', 'loss_function': 'mean_squared_error', 'lr': 2, 'monitor_value': 'val_custom_mae', 'optimizer': <class 'tensorflow.python.keras.optimizer_v2.adam.Adam'>, 'reduction_metric': 'custom_mae', 'samples': 20000}\n",
      "Using Loss: mean_squared_error \n",
      "and Reduction Metric: [<function custom_mae at 0x0000024C33F2FE58>]\n",
      "Monitor: val_custom_mae\n",
      "Train on 16000 samples, validate on 3968 samples\n",
      "15936/16000 [============================>.] - ETA: 0s - loss: 4155.6136 - custom_mae: 42.1722\n",
      "Epoch 00001: val_custom_mae improved from inf to 32.87469, saving model to ..\\fast_output\\SYNTH_Regression_MSE\\201019_2253_final_Angular_Base_Custom-MAE\\Best_Weights_FC_136.hdf5\n",
      "16000/16000 [==============================] - 3s 215us/sample - loss: 4151.4231 - custom_mae: 42.1360 - val_loss: 2997.0970 - val_custom_mae: 32.8747\n",
      "Time taken: 0:00:05.130240\n"
     ]
    },
    {
     "name": "stderr",
     "output_type": "stream",
     "text": [
      "\r",
      " 38%|██████████████████████████████▍                                                 | 137/360 [26:50<37:44, 10.16s/it]"
     ]
    },
    {
     "name": "stdout",
     "output_type": "stream",
     "text": [
      "{'activation': 'leakyrelu', 'batch_size': 64, 'dropout': 0.5, 'epochs': 1, 'first_neuron': 1024, 'hidden_layers': 0, 'label_type': 'Angular', 'loss_function': 'mean_squared_error', 'lr': 5, 'monitor_value': 'val_custom_mae', 'optimizer': <class 'tensorflow.python.keras.optimizer_v2.adam.Adam'>, 'reduction_metric': 'custom_mae', 'samples': 20000}\n",
      "Using Loss: mean_squared_error \n",
      "and Reduction Metric: [<function custom_mae at 0x0000024C33F2FE58>]\n",
      "Monitor: val_custom_mae\n",
      "Train on 16000 samples, validate on 3968 samples\n",
      "15936/16000 [============================>.] - ETA: 0s - loss: 4249.1295 - custom_mae: 42.4981\n",
      "Epoch 00001: val_custom_mae improved from inf to 32.67492, saving model to ..\\fast_output\\SYNTH_Regression_MSE\\201019_2253_final_Angular_Base_Custom-MAE\\Best_Weights_FC_137.hdf5\n",
      "16000/16000 [==============================] - 3s 214us/sample - loss: 4244.5716 - custom_mae: 42.4599 - val_loss: 2944.9152 - val_custom_mae: 32.6749\n",
      "Time taken: 0:00:05.112066\n"
     ]
    },
    {
     "name": "stderr",
     "output_type": "stream",
     "text": [
      "\r",
      " 38%|██████████████████████████████▋                                                 | 138/360 [26:57<33:53,  9.16s/it]"
     ]
    },
    {
     "name": "stdout",
     "output_type": "stream",
     "text": [
      "{'activation': 'leakyrelu', 'batch_size': 64, 'dropout': 0.5, 'epochs': 1, 'first_neuron': 1024, 'hidden_layers': 1, 'label_type': 'Angular', 'loss_function': 'mean_squared_error', 'lr': 1, 'monitor_value': 'val_custom_mae', 'optimizer': <class 'tensorflow.python.keras.optimizer_v2.adam.Adam'>, 'reduction_metric': 'custom_mae', 'samples': 20000}\n",
      "Using Loss: mean_squared_error \n",
      "and Reduction Metric: [<function custom_mae at 0x0000024C33F2FE58>]\n",
      "Monitor: val_custom_mae\n",
      "Train on 16000 samples, validate on 3968 samples\n",
      "15680/16000 [============================>.] - ETA: 0s - loss: 4759.0061 - custom_mae: 46.8042\n",
      "Epoch 00001: val_custom_mae improved from inf to 34.33595, saving model to ..\\fast_output\\SYNTH_Regression_MSE\\201019_2253_final_Angular_Base_Custom-MAE\\Best_Weights_FC_138.hdf5\n",
      "16000/16000 [==============================] - 4s 223us/sample - loss: 4723.4855 - custom_mae: 46.5656 - val_loss: 3142.8995 - val_custom_mae: 34.3359\n",
      "Time taken: 0:00:05.252746\n"
     ]
    },
    {
     "name": "stderr",
     "output_type": "stream",
     "text": [
      "\r",
      " 39%|██████████████████████████████▉                                                 | 139/360 [27:04<31:20,  8.51s/it]"
     ]
    },
    {
     "name": "stdout",
     "output_type": "stream",
     "text": [
      "{'activation': 'leakyrelu', 'batch_size': 64, 'dropout': 0.5, 'epochs': 1, 'first_neuron': 1024, 'hidden_layers': 1, 'label_type': 'Angular', 'loss_function': 'mean_squared_error', 'lr': 2, 'monitor_value': 'val_custom_mae', 'optimizer': <class 'tensorflow.python.keras.optimizer_v2.adam.Adam'>, 'reduction_metric': 'custom_mae', 'samples': 20000}\n",
      "Using Loss: mean_squared_error \n",
      "and Reduction Metric: [<function custom_mae at 0x0000024C33F2FE58>]\n",
      "Monitor: val_custom_mae\n",
      "Train on 16000 samples, validate on 3968 samples\n",
      "15680/16000 [============================>.] - ETA: 0s - loss: 4611.2695 - custom_mae: 45.7930\n",
      "Epoch 00001: val_custom_mae improved from inf to 33.77993, saving model to ..\\fast_output\\SYNTH_Regression_MSE\\201019_2253_final_Angular_Base_Custom-MAE\\Best_Weights_FC_139.hdf5\n",
      "16000/16000 [==============================] - 4s 222us/sample - loss: 4577.0656 - custom_mae: 45.5694 - val_loss: 3043.7763 - val_custom_mae: 33.7799\n",
      "Time taken: 0:00:05.250184\n"
     ]
    },
    {
     "name": "stderr",
     "output_type": "stream",
     "text": [
      "\r",
      " 39%|███████████████████████████████                                                 | 140/360 [27:11<29:32,  8.06s/it]"
     ]
    },
    {
     "name": "stdout",
     "output_type": "stream",
     "text": [
      "{'activation': 'leakyrelu', 'batch_size': 64, 'dropout': 0.5, 'epochs': 1, 'first_neuron': 1024, 'hidden_layers': 1, 'label_type': 'Angular', 'loss_function': 'mean_squared_error', 'lr': 5, 'monitor_value': 'val_custom_mae', 'optimizer': <class 'tensorflow.python.keras.optimizer_v2.adam.Adam'>, 'reduction_metric': 'custom_mae', 'samples': 20000}\n",
      "Using Loss: mean_squared_error \n",
      "and Reduction Metric: [<function custom_mae at 0x0000024C33F2FE58>]\n",
      "Monitor: val_custom_mae\n",
      "Train on 16000 samples, validate on 3968 samples\n",
      "15488/16000 [============================>.] - ETA: 0s - loss: 5947.3594 - custom_mae: 49.9799\n",
      "Epoch 00001: val_custom_mae improved from inf to 36.11012, saving model to ..\\fast_output\\SYNTH_Regression_MSE\\201019_2253_final_Angular_Base_Custom-MAE\\Best_Weights_FC_140.hdf5\n",
      "16000/16000 [==============================] - 4s 226us/sample - loss: 5856.7057 - custom_mae: 49.5519 - val_loss: 3221.8033 - val_custom_mae: 36.1101\n",
      "Time taken: 0:00:05.296348\n"
     ]
    },
    {
     "name": "stderr",
     "output_type": "stream",
     "text": [
      "\r",
      " 39%|███████████████████████████████▎                                                | 141/360 [27:18<28:17,  7.75s/it]"
     ]
    },
    {
     "name": "stdout",
     "output_type": "stream",
     "text": [
      "{'activation': 'leakyrelu', 'batch_size': 64, 'dropout': 0.5, 'epochs': 1, 'first_neuron': 1024, 'hidden_layers': 2, 'label_type': 'Angular', 'loss_function': 'mean_squared_error', 'lr': 1, 'monitor_value': 'val_custom_mae', 'optimizer': <class 'tensorflow.python.keras.optimizer_v2.adam.Adam'>, 'reduction_metric': 'custom_mae', 'samples': 20000}\n",
      "Using Loss: mean_squared_error \n",
      "and Reduction Metric: [<function custom_mae at 0x0000024C33F2FE58>]\n",
      "Monitor: val_custom_mae\n",
      "Train on 16000 samples, validate on 3968 samples\n",
      "15616/16000 [============================>.] - ETA: 0s - loss: 5236.8793 - custom_mae: 50.6078\n",
      "Epoch 00001: val_custom_mae improved from inf to 35.53251, saving model to ..\\fast_output\\SYNTH_Regression_MSE\\201019_2253_final_Angular_Base_Custom-MAE\\Best_Weights_FC_141.hdf5\n",
      "16000/16000 [==============================] - 4s 232us/sample - loss: 5189.0095 - custom_mae: 50.3323 - val_loss: 3233.9224 - val_custom_mae: 35.5325\n",
      "Time taken: 0:00:05.418353\n"
     ]
    },
    {
     "name": "stderr",
     "output_type": "stream",
     "text": [
      "\r",
      " 39%|███████████████████████████████▌                                                | 142/360 [27:26<27:33,  7.59s/it]"
     ]
    },
    {
     "name": "stdout",
     "output_type": "stream",
     "text": [
      "{'activation': 'leakyrelu', 'batch_size': 64, 'dropout': 0.5, 'epochs': 1, 'first_neuron': 1024, 'hidden_layers': 2, 'label_type': 'Angular', 'loss_function': 'mean_squared_error', 'lr': 2, 'monitor_value': 'val_custom_mae', 'optimizer': <class 'tensorflow.python.keras.optimizer_v2.adam.Adam'>, 'reduction_metric': 'custom_mae', 'samples': 20000}\n",
      "Using Loss: mean_squared_error \n",
      "and Reduction Metric: [<function custom_mae at 0x0000024C33F2FE58>]\n",
      "Monitor: val_custom_mae\n",
      "Train on 16000 samples, validate on 3968 samples\n",
      "15936/16000 [============================>.] - ETA: 0s - loss: 5088.1701 - custom_mae: 49.2474\n",
      "Epoch 00001: val_custom_mae improved from inf to 35.63396, saving model to ..\\fast_output\\SYNTH_Regression_MSE\\201019_2253_final_Angular_Base_Custom-MAE\\Best_Weights_FC_142.hdf5\n",
      "16000/16000 [==============================] - 4s 231us/sample - loss: 5083.2185 - custom_mae: 49.2112 - val_loss: 3268.8947 - val_custom_mae: 35.6340\n",
      "Time taken: 0:00:05.394164\n"
     ]
    },
    {
     "name": "stderr",
     "output_type": "stream",
     "text": [
      "\r",
      " 40%|███████████████████████████████▊                                                | 143/360 [27:33<27:00,  7.47s/it]"
     ]
    },
    {
     "name": "stdout",
     "output_type": "stream",
     "text": [
      "{'activation': 'leakyrelu', 'batch_size': 64, 'dropout': 0.5, 'epochs': 1, 'first_neuron': 1024, 'hidden_layers': 2, 'label_type': 'Angular', 'loss_function': 'mean_squared_error', 'lr': 5, 'monitor_value': 'val_custom_mae', 'optimizer': <class 'tensorflow.python.keras.optimizer_v2.adam.Adam'>, 'reduction_metric': 'custom_mae', 'samples': 20000}\n",
      "Using Loss: mean_squared_error \n",
      "and Reduction Metric: [<function custom_mae at 0x0000024C33F2FE58>]\n",
      "Monitor: val_custom_mae\n",
      "Train on 16000 samples, validate on 3968 samples\n",
      "15872/16000 [============================>.] - ETA: 0s - loss: 5770.6316 - custom_mae: 53.0161\n",
      "Epoch 00001: val_custom_mae improved from inf to 42.43201, saving model to ..\\fast_output\\SYNTH_Regression_MSE\\201019_2253_final_Angular_Base_Custom-MAE\\Best_Weights_FC_143.hdf5\n",
      "16000/16000 [==============================] - 4s 229us/sample - loss: 5757.8136 - custom_mae: 52.9451 - val_loss: 3836.5840 - val_custom_mae: 42.4320\n",
      "Time taken: 0:00:05.385471\n"
     ]
    },
    {
     "name": "stderr",
     "output_type": "stream",
     "text": [
      "\r",
      " 40%|████████████████████████████████                                                | 144/360 [27:40<26:33,  7.38s/it]"
     ]
    },
    {
     "name": "stdout",
     "output_type": "stream",
     "text": [
      "{'activation': 'leakyrelu', 'batch_size': 64, 'dropout': 0.5, 'epochs': 1, 'first_neuron': 1024, 'hidden_layers': 3, 'label_type': 'Angular', 'loss_function': 'mean_squared_error', 'lr': 1, 'monitor_value': 'val_custom_mae', 'optimizer': <class 'tensorflow.python.keras.optimizer_v2.adam.Adam'>, 'reduction_metric': 'custom_mae', 'samples': 20000}\n",
      "Using Loss: mean_squared_error \n",
      "and Reduction Metric: [<function custom_mae at 0x0000024C33F2FE58>]\n",
      "Monitor: val_custom_mae\n",
      "Train on 16000 samples, validate on 3968 samples\n",
      "15616/16000 [============================>.] - ETA: 0s - loss: 6106.1343 - custom_mae: 56.5535\n",
      "Epoch 00001: val_custom_mae improved from inf to 44.75173, saving model to ..\\fast_output\\SYNTH_Regression_MSE\\201019_2253_final_Angular_Base_Custom-MAE\\Best_Weights_FC_144.hdf5\n",
      "16000/16000 [==============================] - 4s 240us/sample - loss: 6057.7942 - custom_mae: 56.2750 - val_loss: 4051.1072 - val_custom_mae: 44.7517\n",
      "Time taken: 0:00:05.537010\n"
     ]
    },
    {
     "name": "stderr",
     "output_type": "stream",
     "text": [
      "\r",
      " 40%|████████████████████████████████▏                                               | 145/360 [27:47<26:23,  7.37s/it]"
     ]
    },
    {
     "name": "stdout",
     "output_type": "stream",
     "text": [
      "{'activation': 'leakyrelu', 'batch_size': 64, 'dropout': 0.5, 'epochs': 1, 'first_neuron': 1024, 'hidden_layers': 3, 'label_type': 'Angular', 'loss_function': 'mean_squared_error', 'lr': 2, 'monitor_value': 'val_custom_mae', 'optimizer': <class 'tensorflow.python.keras.optimizer_v2.adam.Adam'>, 'reduction_metric': 'custom_mae', 'samples': 20000}\n",
      "Using Loss: mean_squared_error \n",
      "and Reduction Metric: [<function custom_mae at 0x0000024C33F2FE58>]\n",
      "Monitor: val_custom_mae\n",
      "Train on 16000 samples, validate on 3968 samples\n",
      "15488/16000 [============================>.] - ETA: 0s - loss: 5991.8451 - custom_mae: 55.6377\n",
      "Epoch 00001: val_custom_mae improved from inf to 44.19460, saving model to ..\\fast_output\\SYNTH_Regression_MSE\\201019_2253_final_Angular_Base_Custom-MAE\\Best_Weights_FC_145.hdf5\n",
      "16000/16000 [==============================] - 4s 239us/sample - loss: 5935.1694 - custom_mae: 55.3357 - val_loss: 3884.8112 - val_custom_mae: 44.1946\n",
      "Time taken: 0:00:05.518243\n"
     ]
    },
    {
     "name": "stderr",
     "output_type": "stream",
     "text": [
      "\r",
      " 41%|████████████████████████████████▍                                               | 146/360 [27:55<26:13,  7.35s/it]"
     ]
    },
    {
     "name": "stdout",
     "output_type": "stream",
     "text": [
      "{'activation': 'leakyrelu', 'batch_size': 64, 'dropout': 0.5, 'epochs': 1, 'first_neuron': 1024, 'hidden_layers': 3, 'label_type': 'Angular', 'loss_function': 'mean_squared_error', 'lr': 5, 'monitor_value': 'val_custom_mae', 'optimizer': <class 'tensorflow.python.keras.optimizer_v2.adam.Adam'>, 'reduction_metric': 'custom_mae', 'samples': 20000}\n",
      "Using Loss: mean_squared_error \n",
      "and Reduction Metric: [<function custom_mae at 0x0000024C33F2FE58>]\n",
      "Monitor: val_custom_mae\n",
      "Train on 16000 samples, validate on 3968 samples\n",
      "15744/16000 [============================>.] - ETA: 0s - loss: 6268.4149 - custom_mae: 56.7943\n",
      "Epoch 00001: val_custom_mae improved from inf to 45.45621, saving model to ..\\fast_output\\SYNTH_Regression_MSE\\201019_2253_final_Angular_Base_Custom-MAE\\Best_Weights_FC_146.hdf5\n",
      "16000/16000 [==============================] - 4s 239us/sample - loss: 6236.5775 - custom_mae: 56.6310 - val_loss: 4245.5294 - val_custom_mae: 45.4562\n",
      "Time taken: 0:00:05.524581\n"
     ]
    },
    {
     "name": "stderr",
     "output_type": "stream",
     "text": [
      "\r",
      " 41%|████████████████████████████████▋                                               | 147/360 [28:02<26:04,  7.34s/it]"
     ]
    },
    {
     "name": "stdout",
     "output_type": "stream",
     "text": [
      "{'activation': 'leakyrelu', 'batch_size': 64, 'dropout': 0.5, 'epochs': 1, 'first_neuron': 1024, 'hidden_layers': 4, 'label_type': 'Angular', 'loss_function': 'mean_squared_error', 'lr': 1, 'monitor_value': 'val_custom_mae', 'optimizer': <class 'tensorflow.python.keras.optimizer_v2.adam.Adam'>, 'reduction_metric': 'custom_mae', 'samples': 20000}\n",
      "Using Loss: mean_squared_error \n",
      "and Reduction Metric: [<function custom_mae at 0x0000024C33F2FE58>]\n",
      "Monitor: val_custom_mae\n",
      "Train on 16000 samples, validate on 3968 samples\n",
      "15808/16000 [============================>.] - ETA: 0s - loss: 7228.3657 - custom_mae: 61.8124\n",
      "Epoch 00001: val_custom_mae improved from inf to 59.18070, saving model to ..\\fast_output\\SYNTH_Regression_MSE\\201019_2253_final_Angular_Base_Custom-MAE\\Best_Weights_FC_147.hdf5\n",
      "16000/16000 [==============================] - 4s 241us/sample - loss: 7199.3302 - custom_mae: 61.6603 - val_loss: 6735.6113 - val_custom_mae: 59.1807\n",
      "Time taken: 0:00:05.544592\n"
     ]
    },
    {
     "name": "stderr",
     "output_type": "stream",
     "text": [
      "\r",
      " 41%|████████████████████████████████▉                                               | 148/360 [28:09<25:58,  7.35s/it]"
     ]
    },
    {
     "name": "stdout",
     "output_type": "stream",
     "text": [
      "{'activation': 'leakyrelu', 'batch_size': 64, 'dropout': 0.5, 'epochs': 1, 'first_neuron': 1024, 'hidden_layers': 4, 'label_type': 'Angular', 'loss_function': 'mean_squared_error', 'lr': 2, 'monitor_value': 'val_custom_mae', 'optimizer': <class 'tensorflow.python.keras.optimizer_v2.adam.Adam'>, 'reduction_metric': 'custom_mae', 'samples': 20000}\n",
      "Using Loss: mean_squared_error \n",
      "and Reduction Metric: [<function custom_mae at 0x0000024C33F2FE58>]\n",
      "Monitor: val_custom_mae\n",
      "Train on 16000 samples, validate on 3968 samples\n",
      "15744/16000 [============================>.] - ETA: 0s - loss: 7075.0168 - custom_mae: 60.7869\n",
      "Epoch 00001: val_custom_mae improved from inf to 60.33997, saving model to ..\\fast_output\\SYNTH_Regression_MSE\\201019_2253_final_Angular_Base_Custom-MAE\\Best_Weights_FC_148.hdf5\n",
      "16000/16000 [==============================] - 4s 240us/sample - loss: 7046.0710 - custom_mae: 60.6403 - val_loss: 6948.2777 - val_custom_mae: 60.3400\n",
      "Time taken: 0:00:05.542906\n"
     ]
    },
    {
     "name": "stderr",
     "output_type": "stream",
     "text": [
      "\r",
      " 41%|█████████████████████████████████                                               | 149/360 [28:17<25:52,  7.36s/it]"
     ]
    },
    {
     "name": "stdout",
     "output_type": "stream",
     "text": [
      "{'activation': 'leakyrelu', 'batch_size': 64, 'dropout': 0.5, 'epochs': 1, 'first_neuron': 1024, 'hidden_layers': 4, 'label_type': 'Angular', 'loss_function': 'mean_squared_error', 'lr': 5, 'monitor_value': 'val_custom_mae', 'optimizer': <class 'tensorflow.python.keras.optimizer_v2.adam.Adam'>, 'reduction_metric': 'custom_mae', 'samples': 20000}\n",
      "Using Loss: mean_squared_error \n",
      "and Reduction Metric: [<function custom_mae at 0x0000024C33F2FE58>]\n",
      "Monitor: val_custom_mae\n",
      "Train on 16000 samples, validate on 3968 samples\n",
      "15744/16000 [============================>.] - ETA: 0s - loss: 7747.4265 - custom_mae: 63.0129\n",
      "Epoch 00001: val_custom_mae improved from inf to 60.12025, saving model to ..\\fast_output\\SYNTH_Regression_MSE\\201019_2253_final_Angular_Base_Custom-MAE\\Best_Weights_FC_149.hdf5\n",
      "16000/16000 [==============================] - 4s 247us/sample - loss: 7726.1008 - custom_mae: 62.9189 - val_loss: 7024.9331 - val_custom_mae: 60.1203\n",
      "Time taken: 0:00:05.639826\n"
     ]
    },
    {
     "name": "stderr",
     "output_type": "stream",
     "text": [
      "\r",
      " 42%|█████████████████████████████████▎                                              | 150/360 [28:24<25:52,  7.39s/it]"
     ]
    },
    {
     "name": "stdout",
     "output_type": "stream",
     "text": [
      "{'activation': 'leakyrelu', 'batch_size': 64, 'dropout': 0.5, 'epochs': 1, 'first_neuron': 2048, 'hidden_layers': 0, 'label_type': 'Angular', 'loss_function': 'mean_squared_error', 'lr': 1, 'monitor_value': 'val_custom_mae', 'optimizer': <class 'tensorflow.python.keras.optimizer_v2.adam.Adam'>, 'reduction_metric': 'custom_mae', 'samples': 20000}\n",
      "Using Loss: mean_squared_error \n",
      "and Reduction Metric: [<function custom_mae at 0x0000024C33F2FE58>]\n",
      "Monitor: val_custom_mae\n",
      "Train on 16000 samples, validate on 3968 samples\n",
      "15616/16000 [============================>.] - ETA: 0s - loss: 4342.1997 - custom_mae: 43.0773\n",
      "Epoch 00001: val_custom_mae improved from inf to 35.38340, saving model to ..\\fast_output\\SYNTH_Regression_MSE\\201019_2253_final_Angular_Base_Custom-MAE\\Best_Weights_FC_150.hdf5\n",
      "16000/16000 [==============================] - 5s 337us/sample - loss: 4306.2379 - custom_mae: 42.8615 - val_loss: 3388.9737 - val_custom_mae: 35.3834\n",
      "Time taken: 0:00:07.042913\n"
     ]
    },
    {
     "name": "stderr",
     "output_type": "stream",
     "text": [
      "\r",
      " 42%|█████████████████████████████████▌                                              | 151/360 [28:33<27:13,  7.81s/it]"
     ]
    },
    {
     "name": "stdout",
     "output_type": "stream",
     "text": [
      "{'activation': 'leakyrelu', 'batch_size': 64, 'dropout': 0.5, 'epochs': 1, 'first_neuron': 2048, 'hidden_layers': 0, 'label_type': 'Angular', 'loss_function': 'mean_squared_error', 'lr': 2, 'monitor_value': 'val_custom_mae', 'optimizer': <class 'tensorflow.python.keras.optimizer_v2.adam.Adam'>, 'reduction_metric': 'custom_mae', 'samples': 20000}\n",
      "Using Loss: mean_squared_error \n",
      "and Reduction Metric: [<function custom_mae at 0x0000024C33F2FE58>]\n",
      "Monitor: val_custom_mae\n",
      "Train on 16000 samples, validate on 3968 samples\n",
      "15808/16000 [============================>.] - ETA: 0s - loss: 4146.9888 - custom_mae: 41.7066\n",
      "Epoch 00001: val_custom_mae improved from inf to 32.94001, saving model to ..\\fast_output\\SYNTH_Regression_MSE\\201019_2253_final_Angular_Base_Custom-MAE\\Best_Weights_FC_151.hdf5\n",
      "16000/16000 [==============================] - 5s 333us/sample - loss: 4130.2081 - custom_mae: 41.5875 - val_loss: 2981.9068 - val_custom_mae: 32.9400\n",
      "Time taken: 0:00:07.048327\n"
     ]
    },
    {
     "name": "stderr",
     "output_type": "stream",
     "text": [
      "\r",
      " 42%|█████████████████████████████████▊                                              | 152/360 [28:42<28:05,  8.10s/it]"
     ]
    },
    {
     "name": "stdout",
     "output_type": "stream",
     "text": [
      "{'activation': 'leakyrelu', 'batch_size': 64, 'dropout': 0.5, 'epochs': 1, 'first_neuron': 2048, 'hidden_layers': 0, 'label_type': 'Angular', 'loss_function': 'mean_squared_error', 'lr': 5, 'monitor_value': 'val_custom_mae', 'optimizer': <class 'tensorflow.python.keras.optimizer_v2.adam.Adam'>, 'reduction_metric': 'custom_mae', 'samples': 20000}\n",
      "Using Loss: mean_squared_error \n",
      "and Reduction Metric: [<function custom_mae at 0x0000024C33F2FE58>]\n",
      "Monitor: val_custom_mae\n",
      "Train on 16000 samples, validate on 3968 samples\n",
      "15808/16000 [============================>.] - ETA: 0s - loss: 4539.4675 - custom_mae: 43.3147\n",
      "Epoch 00001: val_custom_mae improved from inf to 32.65014, saving model to ..\\fast_output\\SYNTH_Regression_MSE\\201019_2253_final_Angular_Base_Custom-MAE\\Best_Weights_FC_152.hdf5\n",
      "16000/16000 [==============================] - 5s 329us/sample - loss: 4520.1742 - custom_mae: 43.1903 - val_loss: 2967.5830 - val_custom_mae: 32.6501\n",
      "Time taken: 0:00:06.976021\n"
     ]
    },
    {
     "name": "stderr",
     "output_type": "stream",
     "text": [
      "\r",
      " 42%|██████████████████████████████████                                              | 153/360 [28:50<28:34,  8.28s/it]"
     ]
    },
    {
     "name": "stdout",
     "output_type": "stream",
     "text": [
      "{'activation': 'leakyrelu', 'batch_size': 64, 'dropout': 0.5, 'epochs': 1, 'first_neuron': 2048, 'hidden_layers': 1, 'label_type': 'Angular', 'loss_function': 'mean_squared_error', 'lr': 1, 'monitor_value': 'val_custom_mae', 'optimizer': <class 'tensorflow.python.keras.optimizer_v2.adam.Adam'>, 'reduction_metric': 'custom_mae', 'samples': 20000}\n",
      "Using Loss: mean_squared_error \n",
      "and Reduction Metric: [<function custom_mae at 0x0000024C33F2FE58>]\n",
      "Monitor: val_custom_mae\n",
      "Train on 16000 samples, validate on 3968 samples\n",
      "15808/16000 [============================>.] - ETA: 0s - loss: 4441.7842 - custom_mae: 44.5465\n",
      "Epoch 00001: val_custom_mae improved from inf to 33.55882, saving model to ..\\fast_output\\SYNTH_Regression_MSE\\201019_2253_final_Angular_Base_Custom-MAE\\Best_Weights_FC_153.hdf5\n",
      "16000/16000 [==============================] - 5s 343us/sample - loss: 4423.0342 - custom_mae: 44.4267 - val_loss: 3067.3209 - val_custom_mae: 33.5588\n",
      "Time taken: 0:00:07.207006\n"
     ]
    },
    {
     "name": "stderr",
     "output_type": "stream",
     "text": [
      "\r",
      " 43%|██████████████████████████████████▏                                             | 154/360 [28:59<29:07,  8.48s/it]"
     ]
    },
    {
     "name": "stdout",
     "output_type": "stream",
     "text": [
      "{'activation': 'leakyrelu', 'batch_size': 64, 'dropout': 0.5, 'epochs': 1, 'first_neuron': 2048, 'hidden_layers': 1, 'label_type': 'Angular', 'loss_function': 'mean_squared_error', 'lr': 2, 'monitor_value': 'val_custom_mae', 'optimizer': <class 'tensorflow.python.keras.optimizer_v2.adam.Adam'>, 'reduction_metric': 'custom_mae', 'samples': 20000}\n",
      "Using Loss: mean_squared_error \n",
      "and Reduction Metric: [<function custom_mae at 0x0000024C33F2FE58>]\n",
      "Monitor: val_custom_mae\n",
      "Train on 16000 samples, validate on 3968 samples\n",
      "15680/16000 [============================>.] - ETA: 0s - loss: 4989.9884 - custom_mae: 47.3336\n",
      "Epoch 00001: val_custom_mae improved from inf to 34.20908, saving model to ..\\fast_output\\SYNTH_Regression_MSE\\201019_2253_final_Angular_Base_Custom-MAE\\Best_Weights_FC_154.hdf5\n",
      "16000/16000 [==============================] - 5s 343us/sample - loss: 4945.9260 - custom_mae: 47.0636 - val_loss: 2975.6435 - val_custom_mae: 34.2091\n",
      "Time taken: 0:00:07.177575\n"
     ]
    },
    {
     "name": "stderr",
     "output_type": "stream",
     "text": [
      "\r",
      " 43%|██████████████████████████████████▍                                             | 155/360 [29:08<29:26,  8.62s/it]"
     ]
    },
    {
     "name": "stdout",
     "output_type": "stream",
     "text": [
      "{'activation': 'leakyrelu', 'batch_size': 64, 'dropout': 0.5, 'epochs': 1, 'first_neuron': 2048, 'hidden_layers': 1, 'label_type': 'Angular', 'loss_function': 'mean_squared_error', 'lr': 5, 'monitor_value': 'val_custom_mae', 'optimizer': <class 'tensorflow.python.keras.optimizer_v2.adam.Adam'>, 'reduction_metric': 'custom_mae', 'samples': 20000}\n",
      "Using Loss: mean_squared_error \n",
      "and Reduction Metric: [<function custom_mae at 0x0000024C33F2FE58>]\n",
      "Monitor: val_custom_mae\n",
      "Train on 16000 samples, validate on 3968 samples\n",
      "15744/16000 [============================>.] - ETA: 0s - loss: 13342.9085 - custom_mae: 60.5823\n",
      "Epoch 00001: val_custom_mae improved from inf to 37.57347, saving model to ..\\fast_output\\SYNTH_Regression_MSE\\201019_2253_final_Angular_Base_Custom-MAE\\Best_Weights_FC_155.hdf5\n",
      "16000/16000 [==============================] - 6s 344us/sample - loss: 13186.9050 - custom_mae: 60.2672 - val_loss: 3392.4896 - val_custom_mae: 37.5735\n",
      "Time taken: 0:00:07.218082\n"
     ]
    },
    {
     "name": "stderr",
     "output_type": "stream",
     "text": [
      "\r",
      " 43%|██████████████████████████████████▋                                             | 156/360 [29:17<29:39,  8.72s/it]"
     ]
    },
    {
     "name": "stdout",
     "output_type": "stream",
     "text": [
      "{'activation': 'leakyrelu', 'batch_size': 64, 'dropout': 0.5, 'epochs': 1, 'first_neuron': 2048, 'hidden_layers': 2, 'label_type': 'Angular', 'loss_function': 'mean_squared_error', 'lr': 1, 'monitor_value': 'val_custom_mae', 'optimizer': <class 'tensorflow.python.keras.optimizer_v2.adam.Adam'>, 'reduction_metric': 'custom_mae', 'samples': 20000}\n",
      "Using Loss: mean_squared_error \n",
      "and Reduction Metric: [<function custom_mae at 0x0000024C33F2FE58>]\n",
      "Monitor: val_custom_mae\n",
      "Train on 16000 samples, validate on 3968 samples\n",
      "15680/16000 [============================>.] - ETA: 0s - loss: 4882.3593 - custom_mae: 48.1877\n",
      "Epoch 00001: val_custom_mae improved from inf to 34.19036, saving model to ..\\fast_output\\SYNTH_Regression_MSE\\201019_2253_final_Angular_Base_Custom-MAE\\Best_Weights_FC_156.hdf5\n",
      "16000/16000 [==============================] - 6s 355us/sample - loss: 4841.0437 - custom_mae: 47.9192 - val_loss: 3105.0720 - val_custom_mae: 34.1904\n",
      "Time taken: 0:00:07.391694\n"
     ]
    },
    {
     "name": "stderr",
     "output_type": "stream",
     "text": [
      "\r",
      " 44%|██████████████████████████████████▉                                             | 157/360 [29:26<29:58,  8.86s/it]"
     ]
    },
    {
     "name": "stdout",
     "output_type": "stream",
     "text": [
      "{'activation': 'leakyrelu', 'batch_size': 64, 'dropout': 0.5, 'epochs': 1, 'first_neuron': 2048, 'hidden_layers': 2, 'label_type': 'Angular', 'loss_function': 'mean_squared_error', 'lr': 2, 'monitor_value': 'val_custom_mae', 'optimizer': <class 'tensorflow.python.keras.optimizer_v2.adam.Adam'>, 'reduction_metric': 'custom_mae', 'samples': 20000}\n",
      "Using Loss: mean_squared_error \n",
      "and Reduction Metric: [<function custom_mae at 0x0000024C33F2FE58>]\n",
      "Monitor: val_custom_mae\n",
      "Train on 16000 samples, validate on 3968 samples\n",
      "15808/16000 [============================>.] - ETA: 0s - loss: 5900.9160 - custom_mae: 51.9360\n",
      "Epoch 00001: val_custom_mae improved from inf to 35.16105, saving model to ..\\fast_output\\SYNTH_Regression_MSE\\201019_2253_final_Angular_Base_Custom-MAE\\Best_Weights_FC_157.hdf5\n",
      "16000/16000 [==============================] - 6s 352us/sample - loss: 5868.8432 - custom_mae: 51.7630 - val_loss: 3166.8682 - val_custom_mae: 35.1610\n",
      "Time taken: 0:00:07.356466\n"
     ]
    },
    {
     "name": "stderr",
     "output_type": "stream",
     "text": [
      "\r",
      " 44%|███████████████████████████████████                                             | 158/360 [29:36<30:07,  8.95s/it]"
     ]
    },
    {
     "name": "stdout",
     "output_type": "stream",
     "text": [
      "{'activation': 'leakyrelu', 'batch_size': 64, 'dropout': 0.5, 'epochs': 1, 'first_neuron': 2048, 'hidden_layers': 2, 'label_type': 'Angular', 'loss_function': 'mean_squared_error', 'lr': 5, 'monitor_value': 'val_custom_mae', 'optimizer': <class 'tensorflow.python.keras.optimizer_v2.adam.Adam'>, 'reduction_metric': 'custom_mae', 'samples': 20000}\n",
      "Using Loss: mean_squared_error \n",
      "and Reduction Metric: [<function custom_mae at 0x0000024C33F2FE58>]\n",
      "Monitor: val_custom_mae\n",
      "Train on 16000 samples, validate on 3968 samples\n",
      "15936/16000 [============================>.] - ETA: 0s - loss: 17361.1180 - custom_mae: 64.1689\n",
      "Epoch 00001: val_custom_mae improved from inf to 40.02885, saving model to ..\\fast_output\\SYNTH_Regression_MSE\\201019_2253_final_Angular_Base_Custom-MAE\\Best_Weights_FC_158.hdf5\n",
      "16000/16000 [==============================] - 6s 356us/sample - loss: 17307.3922 - custom_mae: 64.0722 - val_loss: 3695.8209 - val_custom_mae: 40.0289\n",
      "Time taken: 0:00:07.384007\n"
     ]
    },
    {
     "name": "stderr",
     "output_type": "stream",
     "text": [
      "\r",
      " 44%|███████████████████████████████████▎                                            | 159/360 [29:45<30:11,  9.01s/it]"
     ]
    },
    {
     "name": "stdout",
     "output_type": "stream",
     "text": [
      "{'activation': 'leakyrelu', 'batch_size': 64, 'dropout': 0.5, 'epochs': 1, 'first_neuron': 2048, 'hidden_layers': 3, 'label_type': 'Angular', 'loss_function': 'mean_squared_error', 'lr': 1, 'monitor_value': 'val_custom_mae', 'optimizer': <class 'tensorflow.python.keras.optimizer_v2.adam.Adam'>, 'reduction_metric': 'custom_mae', 'samples': 20000}\n",
      "Using Loss: mean_squared_error \n",
      "and Reduction Metric: [<function custom_mae at 0x0000024C33F2FE58>]\n",
      "Monitor: val_custom_mae\n",
      "Train on 16000 samples, validate on 3968 samples\n",
      "15680/16000 [============================>.] - ETA: 0s - loss: 5480.5007 - custom_mae: 52.7769\n",
      "Epoch 00001: val_custom_mae improved from inf to 40.77591, saving model to ..\\fast_output\\SYNTH_Regression_MSE\\201019_2253_final_Angular_Base_Custom-MAE\\Best_Weights_FC_159.hdf5\n",
      "16000/16000 [==============================] - 6s 361us/sample - loss: 5438.8418 - custom_mae: 52.4990 - val_loss: 3711.5861 - val_custom_mae: 40.7759\n",
      "Time taken: 0:00:07.466301\n"
     ]
    },
    {
     "name": "stderr",
     "output_type": "stream",
     "text": [
      "\r",
      " 44%|███████████████████████████████████▌                                            | 160/360 [29:54<30:17,  9.09s/it]"
     ]
    },
    {
     "name": "stdout",
     "output_type": "stream",
     "text": [
      "{'activation': 'leakyrelu', 'batch_size': 64, 'dropout': 0.5, 'epochs': 1, 'first_neuron': 2048, 'hidden_layers': 3, 'label_type': 'Angular', 'loss_function': 'mean_squared_error', 'lr': 2, 'monitor_value': 'val_custom_mae', 'optimizer': <class 'tensorflow.python.keras.optimizer_v2.adam.Adam'>, 'reduction_metric': 'custom_mae', 'samples': 20000}\n",
      "Using Loss: mean_squared_error \n",
      "and Reduction Metric: [<function custom_mae at 0x0000024C33F2FE58>]\n",
      "Monitor: val_custom_mae\n",
      "Train on 16000 samples, validate on 3968 samples\n",
      "15872/16000 [============================>.] - ETA: 0s - loss: 6085.8333 - custom_mae: 54.1351\n",
      "Epoch 00001: val_custom_mae improved from inf to 36.41605, saving model to ..\\fast_output\\SYNTH_Regression_MSE\\201019_2253_final_Angular_Base_Custom-MAE\\Best_Weights_FC_160.hdf5\n",
      "16000/16000 [==============================] - 6s 358us/sample - loss: 6064.0883 - custom_mae: 54.0188 - val_loss: 3116.2894 - val_custom_mae: 36.4161\n",
      "Time taken: 0:00:07.448717\n"
     ]
    },
    {
     "name": "stderr",
     "output_type": "stream",
     "text": [
      "\r",
      " 45%|███████████████████████████████████▊                                            | 161/360 [30:03<30:18,  9.14s/it]"
     ]
    },
    {
     "name": "stdout",
     "output_type": "stream",
     "text": [
      "{'activation': 'leakyrelu', 'batch_size': 64, 'dropout': 0.5, 'epochs': 1, 'first_neuron': 2048, 'hidden_layers': 3, 'label_type': 'Angular', 'loss_function': 'mean_squared_error', 'lr': 5, 'monitor_value': 'val_custom_mae', 'optimizer': <class 'tensorflow.python.keras.optimizer_v2.adam.Adam'>, 'reduction_metric': 'custom_mae', 'samples': 20000}\n",
      "Using Loss: mean_squared_error \n",
      "and Reduction Metric: [<function custom_mae at 0x0000024C33F2FE58>]\n",
      "Monitor: val_custom_mae\n",
      "Train on 16000 samples, validate on 3968 samples\n",
      "15872/16000 [============================>.] - ETA: 0s - loss: 6946.6356 - custom_mae: 58.5946\n",
      "Epoch 00001: val_custom_mae improved from inf to 44.61232, saving model to ..\\fast_output\\SYNTH_Regression_MSE\\201019_2253_final_Angular_Base_Custom-MAE\\Best_Weights_FC_161.hdf5\n",
      "16000/16000 [==============================] - 6s 358us/sample - loss: 6929.9114 - custom_mae: 58.5152 - val_loss: 3879.0007 - val_custom_mae: 44.6123\n",
      "Time taken: 0:00:07.419983\n"
     ]
    },
    {
     "name": "stderr",
     "output_type": "stream",
     "text": [
      "\r",
      " 45%|████████████████████████████████████                                            | 162/360 [30:12<30:15,  9.17s/it]"
     ]
    },
    {
     "name": "stdout",
     "output_type": "stream",
     "text": [
      "{'activation': 'leakyrelu', 'batch_size': 64, 'dropout': 0.5, 'epochs': 1, 'first_neuron': 2048, 'hidden_layers': 4, 'label_type': 'Angular', 'loss_function': 'mean_squared_error', 'lr': 1, 'monitor_value': 'val_custom_mae', 'optimizer': <class 'tensorflow.python.keras.optimizer_v2.adam.Adam'>, 'reduction_metric': 'custom_mae', 'samples': 20000}\n",
      "Using Loss: mean_squared_error \n",
      "and Reduction Metric: [<function custom_mae at 0x0000024C33F2FE58>]\n",
      "Monitor: val_custom_mae\n",
      "Train on 16000 samples, validate on 3968 samples\n",
      "15616/16000 [============================>.] - ETA: 0s - loss: 6263.2974 - custom_mae: 57.2409\n",
      "Epoch 00001: val_custom_mae improved from inf to 50.15517, saving model to ..\\fast_output\\SYNTH_Regression_MSE\\201019_2253_final_Angular_Base_Custom-MAE\\Best_Weights_FC_162.hdf5\n",
      "16000/16000 [==============================] - 6s 366us/sample - loss: 6217.6837 - custom_mae: 57.0028 - val_loss: 4736.9362 - val_custom_mae: 50.1552\n",
      "Time taken: 0:00:07.569139\n"
     ]
    },
    {
     "name": "stderr",
     "output_type": "stream",
     "text": [
      "\r",
      " 45%|████████████████████████████████████▏                                           | 163/360 [30:22<30:20,  9.24s/it]"
     ]
    },
    {
     "name": "stdout",
     "output_type": "stream",
     "text": [
      "{'activation': 'leakyrelu', 'batch_size': 64, 'dropout': 0.5, 'epochs': 1, 'first_neuron': 2048, 'hidden_layers': 4, 'label_type': 'Angular', 'loss_function': 'mean_squared_error', 'lr': 2, 'monitor_value': 'val_custom_mae', 'optimizer': <class 'tensorflow.python.keras.optimizer_v2.adam.Adam'>, 'reduction_metric': 'custom_mae', 'samples': 20000}\n",
      "Using Loss: mean_squared_error \n",
      "and Reduction Metric: [<function custom_mae at 0x0000024C33F2FE58>]\n",
      "Monitor: val_custom_mae\n",
      "Train on 16000 samples, validate on 3968 samples\n",
      "15680/16000 [============================>.] - ETA: 0s - loss: 7071.6120 - custom_mae: 60.0219\n",
      "Epoch 00001: val_custom_mae improved from inf to 49.09468, saving model to ..\\fast_output\\SYNTH_Regression_MSE\\201019_2253_final_Angular_Base_Custom-MAE\\Best_Weights_FC_163.hdf5\n",
      "16000/16000 [==============================] - 6s 365us/sample - loss: 7024.4159 - custom_mae: 59.8126 - val_loss: 4514.6137 - val_custom_mae: 49.0947\n",
      "Time taken: 0:00:07.541231\n"
     ]
    },
    {
     "name": "stderr",
     "output_type": "stream",
     "text": [
      "\r",
      " 46%|████████████████████████████████████▍                                           | 164/360 [30:31<30:19,  9.28s/it]"
     ]
    },
    {
     "name": "stdout",
     "output_type": "stream",
     "text": [
      "{'activation': 'leakyrelu', 'batch_size': 64, 'dropout': 0.5, 'epochs': 1, 'first_neuron': 2048, 'hidden_layers': 4, 'label_type': 'Angular', 'loss_function': 'mean_squared_error', 'lr': 5, 'monitor_value': 'val_custom_mae', 'optimizer': <class 'tensorflow.python.keras.optimizer_v2.adam.Adam'>, 'reduction_metric': 'custom_mae', 'samples': 20000}\n",
      "Using Loss: mean_squared_error \n",
      "and Reduction Metric: [<function custom_mae at 0x0000024C33F2FE58>]\n",
      "Monitor: val_custom_mae\n",
      "Train on 16000 samples, validate on 3968 samples\n",
      "15936/16000 [============================>.] - ETA: 0s - loss: 8219.4851 - custom_mae: 64.3241\n",
      "Epoch 00001: val_custom_mae improved from inf to 57.94090, saving model to ..\\fast_output\\SYNTH_Regression_MSE\\201019_2253_final_Angular_Base_Custom-MAE\\Best_Weights_FC_164.hdf5\n",
      "16000/16000 [==============================] - 6s 367us/sample - loss: 8219.4188 - custom_mae: 64.3341 - val_loss: 6408.8103 - val_custom_mae: 57.9409\n",
      "Time taken: 0:00:07.557151\n"
     ]
    },
    {
     "name": "stderr",
     "output_type": "stream",
     "text": [
      "\r",
      " 46%|████████████████████████████████████▋                                           | 165/360 [30:41<30:15,  9.31s/it]"
     ]
    },
    {
     "name": "stdout",
     "output_type": "stream",
     "text": [
      "{'activation': 'leakyrelu', 'batch_size': 64, 'dropout': 0.5, 'epochs': 1, 'first_neuron': 4096, 'hidden_layers': 0, 'label_type': 'Angular', 'loss_function': 'mean_squared_error', 'lr': 1, 'monitor_value': 'val_custom_mae', 'optimizer': <class 'tensorflow.python.keras.optimizer_v2.adam.Adam'>, 'reduction_metric': 'custom_mae', 'samples': 20000}\n",
      "Using Loss: mean_squared_error \n",
      "and Reduction Metric: [<function custom_mae at 0x0000024C33F2FE58>]\n",
      "Monitor: val_custom_mae\n",
      "Train on 16000 samples, validate on 3968 samples\n",
      "15936/16000 [============================>.] - ETA: 0s - loss: 4125.2292 - custom_mae: 41.6802\n",
      "Epoch 00001: val_custom_mae improved from inf to 33.06239, saving model to ..\\fast_output\\SYNTH_Regression_MSE\\201019_2253_final_Angular_Base_Custom-MAE\\Best_Weights_FC_165.hdf5\n",
      "16000/16000 [==============================] - 9s 571us/sample - loss: 4119.7167 - custom_mae: 41.6381 - val_loss: 2994.1186 - val_custom_mae: 33.0624\n",
      "Time taken: 0:00:10.831583\n"
     ]
    },
    {
     "name": "stderr",
     "output_type": "stream",
     "text": [
      "\r",
      " 46%|████████████████████████████████████▉                                           | 166/360 [30:53<33:16, 10.29s/it]"
     ]
    },
    {
     "name": "stdout",
     "output_type": "stream",
     "text": [
      "{'activation': 'leakyrelu', 'batch_size': 64, 'dropout': 0.5, 'epochs': 1, 'first_neuron': 4096, 'hidden_layers': 0, 'label_type': 'Angular', 'loss_function': 'mean_squared_error', 'lr': 2, 'monitor_value': 'val_custom_mae', 'optimizer': <class 'tensorflow.python.keras.optimizer_v2.adam.Adam'>, 'reduction_metric': 'custom_mae', 'samples': 20000}\n",
      "Using Loss: mean_squared_error \n",
      "and Reduction Metric: [<function custom_mae at 0x0000024C33F2FE58>]\n",
      "Monitor: val_custom_mae\n",
      "Train on 16000 samples, validate on 3968 samples\n",
      "15936/16000 [============================>.] - ETA: 0s - loss: 4076.0289 - custom_mae: 41.2816\n",
      "Epoch 00001: val_custom_mae improved from inf to 32.27733, saving model to ..\\fast_output\\SYNTH_Regression_MSE\\201019_2253_final_Angular_Base_Custom-MAE\\Best_Weights_FC_166.hdf5\n",
      "16000/16000 [==============================] - 9s 569us/sample - loss: 4071.6600 - custom_mae: 41.2477 - val_loss: 2968.2557 - val_custom_mae: 32.2773\n",
      "Time taken: 0:00:10.823097\n"
     ]
    },
    {
     "name": "stderr",
     "output_type": "stream",
     "text": [
      "\r",
      " 46%|█████████████████████████████████████                                           | 167/360 [31:06<35:17, 10.97s/it]"
     ]
    },
    {
     "name": "stdout",
     "output_type": "stream",
     "text": [
      "{'activation': 'leakyrelu', 'batch_size': 64, 'dropout': 0.5, 'epochs': 1, 'first_neuron': 4096, 'hidden_layers': 0, 'label_type': 'Angular', 'loss_function': 'mean_squared_error', 'lr': 5, 'monitor_value': 'val_custom_mae', 'optimizer': <class 'tensorflow.python.keras.optimizer_v2.adam.Adam'>, 'reduction_metric': 'custom_mae', 'samples': 20000}\n",
      "Using Loss: mean_squared_error \n",
      "and Reduction Metric: [<function custom_mae at 0x0000024C33F2FE58>]\n",
      "Monitor: val_custom_mae\n",
      "Train on 16000 samples, validate on 3968 samples\n",
      "15936/16000 [============================>.] - ETA: 0s - loss: 5254.6601 - custom_mae: 46.0144\n",
      "Epoch 00001: val_custom_mae improved from inf to 33.14938, saving model to ..\\fast_output\\SYNTH_Regression_MSE\\201019_2253_final_Angular_Base_Custom-MAE\\Best_Weights_FC_167.hdf5\n",
      "16000/16000 [==============================] - 9s 568us/sample - loss: 5246.5403 - custom_mae: 45.9655 - val_loss: 2919.8856 - val_custom_mae: 33.1494\n",
      "Time taken: 0:00:10.808872\n"
     ]
    },
    {
     "name": "stderr",
     "output_type": "stream",
     "text": [
      "\r",
      " 47%|█████████████████████████████████████▎                                          | 168/360 [31:18<36:37, 11.44s/it]"
     ]
    },
    {
     "name": "stdout",
     "output_type": "stream",
     "text": [
      "{'activation': 'leakyrelu', 'batch_size': 64, 'dropout': 0.5, 'epochs': 1, 'first_neuron': 4096, 'hidden_layers': 1, 'label_type': 'Angular', 'loss_function': 'mean_squared_error', 'lr': 1, 'monitor_value': 'val_custom_mae', 'optimizer': <class 'tensorflow.python.keras.optimizer_v2.adam.Adam'>, 'reduction_metric': 'custom_mae', 'samples': 20000}\n",
      "Using Loss: mean_squared_error \n",
      "and Reduction Metric: [<function custom_mae at 0x0000024C33F2FE58>]\n",
      "Monitor: val_custom_mae\n",
      "Train on 16000 samples, validate on 3968 samples\n",
      "15936/16000 [============================>.] - ETA: 0s - loss: 4809.0229 - custom_mae: 45.6896\n",
      "Epoch 00001: val_custom_mae improved from inf to 32.57334, saving model to ..\\fast_output\\SYNTH_Regression_MSE\\201019_2253_final_Angular_Base_Custom-MAE\\Best_Weights_FC_168.hdf5\n",
      "16000/16000 [==============================] - 10s 604us/sample - loss: 4801.4282 - custom_mae: 45.6392 - val_loss: 2957.3922 - val_custom_mae: 32.5733\n",
      "Time taken: 0:00:11.379560\n"
     ]
    },
    {
     "name": "stderr",
     "output_type": "stream",
     "text": [
      "\r",
      " 47%|█████████████████████████████████████▌                                          | 169/360 [31:31<38:02, 11.95s/it]"
     ]
    },
    {
     "name": "stdout",
     "output_type": "stream",
     "text": [
      "{'activation': 'leakyrelu', 'batch_size': 64, 'dropout': 0.5, 'epochs': 1, 'first_neuron': 4096, 'hidden_layers': 1, 'label_type': 'Angular', 'loss_function': 'mean_squared_error', 'lr': 2, 'monitor_value': 'val_custom_mae', 'optimizer': <class 'tensorflow.python.keras.optimizer_v2.adam.Adam'>, 'reduction_metric': 'custom_mae', 'samples': 20000}\n",
      "Using Loss: mean_squared_error \n",
      "and Reduction Metric: [<function custom_mae at 0x0000024C33F2FE58>]\n",
      "Monitor: val_custom_mae\n",
      "Train on 16000 samples, validate on 3968 samples\n",
      "15936/16000 [============================>.] - ETA: 0s - loss: 6542.1803 - custom_mae: 51.5107\n",
      "Epoch 00001: val_custom_mae improved from inf to 34.81048, saving model to ..\\fast_output\\SYNTH_Regression_MSE\\201019_2253_final_Angular_Base_Custom-MAE\\Best_Weights_FC_169.hdf5\n",
      "16000/16000 [==============================] - 10s 600us/sample - loss: 6529.2374 - custom_mae: 51.4476 - val_loss: 3070.6484 - val_custom_mae: 34.8105\n",
      "Time taken: 0:00:11.303072\n"
     ]
    },
    {
     "name": "stderr",
     "output_type": "stream",
     "text": [
      "\r",
      " 47%|█████████████████████████████████████▊                                          | 170/360 [31:45<38:54, 12.29s/it]"
     ]
    },
    {
     "name": "stdout",
     "output_type": "stream",
     "text": [
      "{'activation': 'leakyrelu', 'batch_size': 64, 'dropout': 0.5, 'epochs': 1, 'first_neuron': 4096, 'hidden_layers': 1, 'label_type': 'Angular', 'loss_function': 'mean_squared_error', 'lr': 5, 'monitor_value': 'val_custom_mae', 'optimizer': <class 'tensorflow.python.keras.optimizer_v2.adam.Adam'>, 'reduction_metric': 'custom_mae', 'samples': 20000}\n",
      "Using Loss: mean_squared_error \n",
      "and Reduction Metric: [<function custom_mae at 0x0000024C33F2FE58>]\n",
      "Monitor: val_custom_mae\n",
      "Train on 16000 samples, validate on 3968 samples\n",
      "15936/16000 [============================>.] - ETA: 0s - loss: 61135.9426 - custom_mae: 88.5727\n",
      "Epoch 00001: val_custom_mae improved from inf to 47.17431, saving model to ..\\fast_output\\SYNTH_Regression_MSE\\201019_2253_final_Angular_Base_Custom-MAE\\Best_Weights_FC_170.hdf5\n",
      "16000/16000 [==============================] - 10s 607us/sample - loss: 60911.0849 - custom_mae: 88.4152 - val_loss: 3973.5852 - val_custom_mae: 47.1743\n",
      "Time taken: 0:00:11.416680\n"
     ]
    },
    {
     "name": "stderr",
     "output_type": "stream",
     "text": [
      "\r",
      " 48%|██████████████████████████████████████                                          | 171/360 [31:58<39:33, 12.56s/it]"
     ]
    },
    {
     "name": "stdout",
     "output_type": "stream",
     "text": [
      "{'activation': 'leakyrelu', 'batch_size': 64, 'dropout': 0.5, 'epochs': 1, 'first_neuron': 4096, 'hidden_layers': 2, 'label_type': 'Angular', 'loss_function': 'mean_squared_error', 'lr': 1, 'monitor_value': 'val_custom_mae', 'optimizer': <class 'tensorflow.python.keras.optimizer_v2.adam.Adam'>, 'reduction_metric': 'custom_mae', 'samples': 20000}\n",
      "Using Loss: mean_squared_error \n",
      "and Reduction Metric: [<function custom_mae at 0x0000024C33F2FE58>]\n",
      "Monitor: val_custom_mae\n",
      "Train on 16000 samples, validate on 3968 samples\n",
      "15872/16000 [============================>.] - ETA: 0s - loss: 5109.7636 - custom_mae: 47.4744\n",
      "Epoch 00001: val_custom_mae improved from inf to 34.54652, saving model to ..\\fast_output\\SYNTH_Regression_MSE\\201019_2253_final_Angular_Base_Custom-MAE\\Best_Weights_FC_171.hdf5\n",
      "16000/16000 [==============================] - 10s 621us/sample - loss: 5094.6147 - custom_mae: 47.3818 - val_loss: 3016.2895 - val_custom_mae: 34.5465\n",
      "Time taken: 0:00:11.644257\n"
     ]
    },
    {
     "name": "stderr",
     "output_type": "stream",
     "text": [
      "\r",
      " 48%|██████████████████████████████████████▏                                         | 172/360 [32:11<40:10, 12.82s/it]"
     ]
    },
    {
     "name": "stdout",
     "output_type": "stream",
     "text": [
      "{'activation': 'leakyrelu', 'batch_size': 64, 'dropout': 0.5, 'epochs': 1, 'first_neuron': 4096, 'hidden_layers': 2, 'label_type': 'Angular', 'loss_function': 'mean_squared_error', 'lr': 2, 'monitor_value': 'val_custom_mae', 'optimizer': <class 'tensorflow.python.keras.optimizer_v2.adam.Adam'>, 'reduction_metric': 'custom_mae', 'samples': 20000}\n",
      "Using Loss: mean_squared_error \n",
      "and Reduction Metric: [<function custom_mae at 0x0000024C33F2FE58>]\n",
      "Monitor: val_custom_mae\n",
      "Train on 16000 samples, validate on 3968 samples\n",
      "15936/16000 [============================>.] - ETA: 0s - loss: 6784.9416 - custom_mae: 51.2311\n",
      "Epoch 00001: val_custom_mae improved from inf to 33.79646, saving model to ..\\fast_output\\SYNTH_Regression_MSE\\201019_2253_final_Angular_Base_Custom-MAE\\Best_Weights_FC_172.hdf5\n",
      "16000/16000 [==============================] - 10s 620us/sample - loss: 6771.2372 - custom_mae: 51.1743 - val_loss: 3006.9399 - val_custom_mae: 33.7965\n",
      "Time taken: 0:00:11.618735\n"
     ]
    },
    {
     "name": "stderr",
     "output_type": "stream",
     "text": [
      "\r",
      " 48%|██████████████████████████████████████▍                                         | 173/360 [32:25<40:31, 13.00s/it]"
     ]
    },
    {
     "name": "stdout",
     "output_type": "stream",
     "text": [
      "{'activation': 'leakyrelu', 'batch_size': 64, 'dropout': 0.5, 'epochs': 1, 'first_neuron': 4096, 'hidden_layers': 2, 'label_type': 'Angular', 'loss_function': 'mean_squared_error', 'lr': 5, 'monitor_value': 'val_custom_mae', 'optimizer': <class 'tensorflow.python.keras.optimizer_v2.adam.Adam'>, 'reduction_metric': 'custom_mae', 'samples': 20000}\n",
      "Using Loss: mean_squared_error \n",
      "and Reduction Metric: [<function custom_mae at 0x0000024C33F2FE58>]\n",
      "Monitor: val_custom_mae\n",
      "Train on 16000 samples, validate on 3968 samples\n",
      "15936/16000 [============================>.] - ETA: 0s - loss: 1085906.9831 - custom_mae: 179.6200\n",
      "Epoch 00001: val_custom_mae improved from inf to 54.38332, saving model to ..\\fast_output\\SYNTH_Regression_MSE\\201019_2253_final_Angular_Base_Custom-MAE\\Best_Weights_FC_173.hdf5\n",
      "16000/16000 [==============================] - 10s 619us/sample - loss: 1081589.4997 - custom_mae: 179.1549 - val_loss: 5244.7547 - val_custom_mae: 54.3833\n",
      "Time taken: 0:00:11.590581\n"
     ]
    },
    {
     "name": "stderr",
     "output_type": "stream",
     "text": [
      "\r",
      " 48%|██████████████████████████████████████▋                                         | 174/360 [32:38<40:39, 13.12s/it]"
     ]
    },
    {
     "name": "stdout",
     "output_type": "stream",
     "text": [
      "{'activation': 'leakyrelu', 'batch_size': 64, 'dropout': 0.5, 'epochs': 1, 'first_neuron': 4096, 'hidden_layers': 3, 'label_type': 'Angular', 'loss_function': 'mean_squared_error', 'lr': 1, 'monitor_value': 'val_custom_mae', 'optimizer': <class 'tensorflow.python.keras.optimizer_v2.adam.Adam'>, 'reduction_metric': 'custom_mae', 'samples': 20000}\n",
      "Using Loss: mean_squared_error \n",
      "and Reduction Metric: [<function custom_mae at 0x0000024C33F2FE58>]\n",
      "Monitor: val_custom_mae\n",
      "Train on 16000 samples, validate on 3968 samples\n",
      "15936/16000 [============================>.] - ETA: 0s - loss: 5473.2417 - custom_mae: 51.0794\n",
      "Epoch 00001: val_custom_mae improved from inf to 34.87258, saving model to ..\\fast_output\\SYNTH_Regression_MSE\\201019_2253_final_Angular_Base_Custom-MAE\\Best_Weights_FC_174.hdf5\n",
      "16000/16000 [==============================] - 10s 624us/sample - loss: 5465.2015 - custom_mae: 51.0276 - val_loss: 3141.2139 - val_custom_mae: 34.8726\n",
      "Time taken: 0:00:11.695221\n"
     ]
    },
    {
     "name": "stderr",
     "output_type": "stream",
     "text": [
      "\r",
      " 49%|██████████████████████████████████████▉                                         | 175/360 [32:51<40:49, 13.24s/it]"
     ]
    },
    {
     "name": "stdout",
     "output_type": "stream",
     "text": [
      "{'activation': 'leakyrelu', 'batch_size': 64, 'dropout': 0.5, 'epochs': 1, 'first_neuron': 4096, 'hidden_layers': 3, 'label_type': 'Angular', 'loss_function': 'mean_squared_error', 'lr': 2, 'monitor_value': 'val_custom_mae', 'optimizer': <class 'tensorflow.python.keras.optimizer_v2.adam.Adam'>, 'reduction_metric': 'custom_mae', 'samples': 20000}\n",
      "Using Loss: mean_squared_error \n",
      "and Reduction Metric: [<function custom_mae at 0x0000024C33F2FE58>]\n",
      "Monitor: val_custom_mae\n",
      "Train on 16000 samples, validate on 3968 samples\n",
      "15936/16000 [============================>.] - ETA: 0s - loss: 6247.6208 - custom_mae: 53.3912\n",
      "Epoch 00001: val_custom_mae improved from inf to 38.95686, saving model to ..\\fast_output\\SYNTH_Regression_MSE\\201019_2253_final_Angular_Base_Custom-MAE\\Best_Weights_FC_175.hdf5\n",
      "16000/16000 [==============================] - 10s 625us/sample - loss: 6239.0964 - custom_mae: 53.3418 - val_loss: 3569.3159 - val_custom_mae: 38.9569\n",
      "Time taken: 0:00:11.715945\n"
     ]
    },
    {
     "name": "stderr",
     "output_type": "stream",
     "text": [
      "\r",
      " 49%|███████████████████████████████████████                                         | 176/360 [33:05<40:51, 13.32s/it]"
     ]
    },
    {
     "name": "stdout",
     "output_type": "stream",
     "text": [
      "{'activation': 'leakyrelu', 'batch_size': 64, 'dropout': 0.5, 'epochs': 1, 'first_neuron': 4096, 'hidden_layers': 3, 'label_type': 'Angular', 'loss_function': 'mean_squared_error', 'lr': 5, 'monitor_value': 'val_custom_mae', 'optimizer': <class 'tensorflow.python.keras.optimizer_v2.adam.Adam'>, 'reduction_metric': 'custom_mae', 'samples': 20000}\n",
      "Using Loss: mean_squared_error \n",
      "and Reduction Metric: [<function custom_mae at 0x0000024C33F2FE58>]\n",
      "Monitor: val_custom_mae\n",
      "Train on 16000 samples, validate on 3968 samples\n",
      "15936/16000 [============================>.] - ETA: 0s - loss: 436964.0806 - custom_mae: 255.6143\n",
      "Epoch 00001: val_custom_mae improved from inf to 59.96478, saving model to ..\\fast_output\\SYNTH_Regression_MSE\\201019_2253_final_Angular_Base_Custom-MAE\\Best_Weights_FC_176.hdf5\n",
      "16000/16000 [==============================] - 10s 624us/sample - loss: 435257.1589 - custom_mae: 254.9144 - val_loss: 6457.9935 - val_custom_mae: 59.9648\n",
      "Time taken: 0:00:11.683740\n"
     ]
    },
    {
     "name": "stderr",
     "output_type": "stream",
     "text": [
      "\r",
      " 49%|███████████████████████████████████████▎                                        | 177/360 [33:18<40:47, 13.38s/it]"
     ]
    },
    {
     "name": "stdout",
     "output_type": "stream",
     "text": [
      "{'activation': 'leakyrelu', 'batch_size': 64, 'dropout': 0.5, 'epochs': 1, 'first_neuron': 4096, 'hidden_layers': 4, 'label_type': 'Angular', 'loss_function': 'mean_squared_error', 'lr': 1, 'monitor_value': 'val_custom_mae', 'optimizer': <class 'tensorflow.python.keras.optimizer_v2.adam.Adam'>, 'reduction_metric': 'custom_mae', 'samples': 20000}\n",
      "Using Loss: mean_squared_error \n",
      "and Reduction Metric: [<function custom_mae at 0x0000024C33F2FE58>]\n",
      "Monitor: val_custom_mae\n",
      "Train on 16000 samples, validate on 3968 samples\n",
      "15872/16000 [============================>.] - ETA: 0s - loss: 5725.7161 - custom_mae: 54.5085\n",
      "Epoch 00001: val_custom_mae improved from inf to 46.93975, saving model to ..\\fast_output\\SYNTH_Regression_MSE\\201019_2253_final_Angular_Base_Custom-MAE\\Best_Weights_FC_177.hdf5\n",
      "16000/16000 [==============================] - 10s 633us/sample - loss: 5710.2672 - custom_mae: 54.4141 - val_loss: 4614.9274 - val_custom_mae: 46.9398\n",
      "Time taken: 0:00:11.828298\n"
     ]
    },
    {
     "name": "stderr",
     "output_type": "stream",
     "text": [
      "\r",
      " 49%|███████████████████████████████████████▌                                        | 178/360 [33:32<40:51, 13.47s/it]"
     ]
    },
    {
     "name": "stdout",
     "output_type": "stream",
     "text": [
      "{'activation': 'leakyrelu', 'batch_size': 64, 'dropout': 0.5, 'epochs': 1, 'first_neuron': 4096, 'hidden_layers': 4, 'label_type': 'Angular', 'loss_function': 'mean_squared_error', 'lr': 2, 'monitor_value': 'val_custom_mae', 'optimizer': <class 'tensorflow.python.keras.optimizer_v2.adam.Adam'>, 'reduction_metric': 'custom_mae', 'samples': 20000}\n",
      "Using Loss: mean_squared_error \n",
      "and Reduction Metric: [<function custom_mae at 0x0000024C33F2FE58>]\n",
      "Monitor: val_custom_mae\n",
      "Train on 16000 samples, validate on 3968 samples\n",
      "15936/16000 [============================>.] - ETA: 0s - loss: 10702.7460 - custom_mae: 62.6499 - ETA: 5s - los - ETA: 1s - loss: 12747.9066 - cu\n",
      "Epoch 00001: val_custom_mae improved from inf to 46.31202, saving model to ..\\fast_output\\SYNTH_Regression_MSE\\201019_2253_final_Angular_Base_Custom-MAE\\Best_Weights_FC_178.hdf5\n",
      "16000/16000 [==============================] - 10s 635us/sample - loss: 10678.3978 - custom_mae: 62.5941 - val_loss: 4274.0073 - val_custom_mae: 46.3120\n",
      "Time taken: 0:00:11.848435\n"
     ]
    },
    {
     "name": "stderr",
     "output_type": "stream",
     "text": [
      "\r",
      " 50%|███████████████████████████████████████▊                                        | 179/360 [33:46<40:50, 13.54s/it]"
     ]
    },
    {
     "name": "stdout",
     "output_type": "stream",
     "text": [
      "{'activation': 'leakyrelu', 'batch_size': 64, 'dropout': 0.5, 'epochs': 1, 'first_neuron': 4096, 'hidden_layers': 4, 'label_type': 'Angular', 'loss_function': 'mean_squared_error', 'lr': 5, 'monitor_value': 'val_custom_mae', 'optimizer': <class 'tensorflow.python.keras.optimizer_v2.adam.Adam'>, 'reduction_metric': 'custom_mae', 'samples': 20000}\n",
      "Using Loss: mean_squared_error \n",
      "and Reduction Metric: [<function custom_mae at 0x0000024C33F2FE58>]\n",
      "Monitor: val_custom_mae\n",
      "Train on 16000 samples, validate on 3968 samples\n",
      "15936/16000 [============================>.] - ETA: 0s - loss: 166885.0831 - custom_mae: 150.1629\n",
      "Epoch 00001: val_custom_mae improved from inf to 63.28370, saving model to ..\\fast_output\\SYNTH_Regression_MSE\\201019_2253_final_Angular_Base_Custom-MAE\\Best_Weights_FC_179.hdf5\n",
      "16000/16000 [==============================] - 10s 633us/sample - loss: 166247.1903 - custom_mae: 149.8362 - val_loss: 8001.3066 - val_custom_mae: 63.2837\n",
      "Time taken: 0:00:11.826020\n"
     ]
    },
    {
     "name": "stderr",
     "output_type": "stream",
     "text": [
      "\r",
      " 50%|████████████████████████████████████████                                        | 180/360 [34:00<40:44, 13.58s/it]"
     ]
    },
    {
     "name": "stdout",
     "output_type": "stream",
     "text": [
      "{'activation': 'relu', 'batch_size': 32, 'dropout': 0.25, 'epochs': 1, 'first_neuron': 1024, 'hidden_layers': 0, 'label_type': 'Angular', 'loss_function': 'mean_squared_error', 'lr': 1, 'monitor_value': 'val_custom_mae', 'optimizer': <class 'tensorflow.python.keras.optimizer_v2.adam.Adam'>, 'reduction_metric': 'custom_mae', 'samples': 20000}\n",
      "Using Loss: mean_squared_error \n",
      "and Reduction Metric: [<function custom_mae at 0x0000024C33F2FE58>]\n",
      "Monitor: val_custom_mae\n",
      "Train on 16000 samples, validate on 4000 samples\n",
      "15712/16000 [============================>.] - ETA: 0s - loss: 4015.3567 - custom_mae: 40.5788\n",
      "Epoch 00001: val_custom_mae improved from inf to 32.40366, saving model to ..\\fast_output\\SYNTH_Regression_MSE\\201019_2253_final_Angular_Base_Custom-MAE\\Best_Weights_FC_180.hdf5\n",
      "16000/16000 [==============================] - 5s 283us/sample - loss: 3992.7711 - custom_mae: 40.4165 - val_loss: 2997.4420 - val_custom_mae: 32.4037\n",
      "Time taken: 0:00:06.311812\n"
     ]
    },
    {
     "name": "stderr",
     "output_type": "stream",
     "text": [
      "\r",
      " 50%|████████████████████████████████████████▏                                       | 181/360 [34:11<38:57, 13.06s/it]"
     ]
    },
    {
     "name": "stdout",
     "output_type": "stream",
     "text": [
      "{'activation': 'relu', 'batch_size': 32, 'dropout': 0.25, 'epochs': 1, 'first_neuron': 1024, 'hidden_layers': 0, 'label_type': 'Angular', 'loss_function': 'mean_squared_error', 'lr': 2, 'monitor_value': 'val_custom_mae', 'optimizer': <class 'tensorflow.python.keras.optimizer_v2.adam.Adam'>, 'reduction_metric': 'custom_mae', 'samples': 20000}\n",
      "Using Loss: mean_squared_error \n",
      "and Reduction Metric: [<function custom_mae at 0x0000024C33F2FE58>]\n",
      "Monitor: val_custom_mae\n",
      "Train on 16000 samples, validate on 4000 samples\n",
      "15936/16000 [============================>.] - ETA: 0s - loss: 3733.6834 - custom_mae: 38.5757\n",
      "Epoch 00001: val_custom_mae improved from inf to 32.06914, saving model to ..\\fast_output\\SYNTH_Regression_MSE\\201019_2253_final_Angular_Base_Custom-MAE\\Best_Weights_FC_181.hdf5\n",
      "16000/16000 [==============================] - 5s 282us/sample - loss: 3731.4859 - custom_mae: 38.5423 - val_loss: 2990.3475 - val_custom_mae: 32.0691\n",
      "Time taken: 0:00:06.214032\n"
     ]
    },
    {
     "name": "stderr",
     "output_type": "stream",
     "text": [
      "\r",
      " 51%|████████████████████████████████████████▍                                       | 182/360 [34:19<34:12, 11.53s/it]"
     ]
    },
    {
     "name": "stdout",
     "output_type": "stream",
     "text": [
      "{'activation': 'relu', 'batch_size': 32, 'dropout': 0.25, 'epochs': 1, 'first_neuron': 1024, 'hidden_layers': 0, 'label_type': 'Angular', 'loss_function': 'mean_squared_error', 'lr': 5, 'monitor_value': 'val_custom_mae', 'optimizer': <class 'tensorflow.python.keras.optimizer_v2.adam.Adam'>, 'reduction_metric': 'custom_mae', 'samples': 20000}\n",
      "Using Loss: mean_squared_error \n",
      "and Reduction Metric: [<function custom_mae at 0x0000024C33F2FE58>]\n",
      "Monitor: val_custom_mae\n",
      "Train on 16000 samples, validate on 4000 samples\n",
      "15936/16000 [============================>.] - ETA: 0s - loss: 3720.6363 - custom_mae: 38.7590\n",
      "Epoch 00001: val_custom_mae improved from inf to 34.85891, saving model to ..\\fast_output\\SYNTH_Regression_MSE\\201019_2253_final_Angular_Base_Custom-MAE\\Best_Weights_FC_182.hdf5\n",
      "16000/16000 [==============================] - 5s 284us/sample - loss: 3719.1434 - custom_mae: 38.7350 - val_loss: 3301.3511 - val_custom_mae: 34.8589\n",
      "Time taken: 0:00:06.251796\n"
     ]
    },
    {
     "name": "stderr",
     "output_type": "stream",
     "text": [
      "\r",
      " 51%|████████████████████████████████████████▋                                       | 183/360 [34:27<30:52, 10.47s/it]"
     ]
    },
    {
     "name": "stdout",
     "output_type": "stream",
     "text": [
      "{'activation': 'relu', 'batch_size': 32, 'dropout': 0.25, 'epochs': 1, 'first_neuron': 1024, 'hidden_layers': 1, 'label_type': 'Angular', 'loss_function': 'mean_squared_error', 'lr': 1, 'monitor_value': 'val_custom_mae', 'optimizer': <class 'tensorflow.python.keras.optimizer_v2.adam.Adam'>, 'reduction_metric': 'custom_mae', 'samples': 20000}\n",
      "Using Loss: mean_squared_error \n",
      "and Reduction Metric: [<function custom_mae at 0x0000024C33F2FE58>]\n",
      "Monitor: val_custom_mae\n",
      "Train on 16000 samples, validate on 4000 samples\n",
      "15712/16000 [============================>.] - ETA: 0s - loss: 3977.8847 - custom_mae: 41.0885\n",
      "Epoch 00001: val_custom_mae improved from inf to 32.65477, saving model to ..\\fast_output\\SYNTH_Regression_MSE\\201019_2253_final_Angular_Base_Custom-MAE\\Best_Weights_FC_183.hdf5\n",
      "16000/16000 [==============================] - 5s 292us/sample - loss: 3959.7165 - custom_mae: 40.9437 - val_loss: 3023.1646 - val_custom_mae: 32.6548\n",
      "Time taken: 0:00:06.386876\n"
     ]
    },
    {
     "name": "stderr",
     "output_type": "stream",
     "text": [
      "\r",
      " 51%|████████████████████████████████████████▉                                       | 184/360 [34:35<28:38,  9.76s/it]"
     ]
    },
    {
     "name": "stdout",
     "output_type": "stream",
     "text": [
      "{'activation': 'relu', 'batch_size': 32, 'dropout': 0.25, 'epochs': 1, 'first_neuron': 1024, 'hidden_layers': 1, 'label_type': 'Angular', 'loss_function': 'mean_squared_error', 'lr': 2, 'monitor_value': 'val_custom_mae', 'optimizer': <class 'tensorflow.python.keras.optimizer_v2.adam.Adam'>, 'reduction_metric': 'custom_mae', 'samples': 20000}\n",
      "Using Loss: mean_squared_error \n",
      "and Reduction Metric: [<function custom_mae at 0x0000024C33F2FE58>]\n",
      "Monitor: val_custom_mae\n",
      "Train on 16000 samples, validate on 4000 samples\n",
      "15904/16000 [============================>.] - ETA: 0s - loss: 3951.0594 - custom_mae: 40.9344\n",
      "Epoch 00001: val_custom_mae improved from inf to 34.60440, saving model to ..\\fast_output\\SYNTH_Regression_MSE\\201019_2253_final_Angular_Base_Custom-MAE\\Best_Weights_FC_184.hdf5\n",
      "16000/16000 [==============================] - 5s 292us/sample - loss: 3948.9876 - custom_mae: 40.9074 - val_loss: 3331.6134 - val_custom_mae: 34.6044\n",
      "Time taken: 0:00:06.322464\n"
     ]
    },
    {
     "name": "stderr",
     "output_type": "stream",
     "text": [
      "\r",
      " 51%|█████████████████████████████████████████                                       | 185/360 [34:44<26:59,  9.26s/it]"
     ]
    },
    {
     "name": "stdout",
     "output_type": "stream",
     "text": [
      "{'activation': 'relu', 'batch_size': 32, 'dropout': 0.25, 'epochs': 1, 'first_neuron': 1024, 'hidden_layers': 1, 'label_type': 'Angular', 'loss_function': 'mean_squared_error', 'lr': 5, 'monitor_value': 'val_custom_mae', 'optimizer': <class 'tensorflow.python.keras.optimizer_v2.adam.Adam'>, 'reduction_metric': 'custom_mae', 'samples': 20000}\n",
      "Using Loss: mean_squared_error \n",
      "and Reduction Metric: [<function custom_mae at 0x0000024C33F2FE58>]\n",
      "Monitor: val_custom_mae\n",
      "Train on 16000 samples, validate on 4000 samples\n",
      "15680/16000 [============================>.] - ETA: 0s - loss: 4359.6316 - custom_mae: 43.8074\n",
      "Epoch 00001: val_custom_mae improved from inf to 35.51658, saving model to ..\\fast_output\\SYNTH_Regression_MSE\\201019_2253_final_Angular_Base_Custom-MAE\\Best_Weights_FC_185.hdf5\n",
      "16000/16000 [==============================] - 5s 295us/sample - loss: 4327.5106 - custom_mae: 43.5947 - val_loss: 3242.8801 - val_custom_mae: 35.5166\n",
      "Time taken: 0:00:06.445629\n"
     ]
    },
    {
     "name": "stderr",
     "output_type": "stream",
     "text": [
      "\r",
      " 52%|█████████████████████████████████████████▎                                      | 186/360 [34:52<25:54,  8.94s/it]"
     ]
    },
    {
     "name": "stdout",
     "output_type": "stream",
     "text": [
      "{'activation': 'relu', 'batch_size': 32, 'dropout': 0.25, 'epochs': 1, 'first_neuron': 1024, 'hidden_layers': 2, 'label_type': 'Angular', 'loss_function': 'mean_squared_error', 'lr': 1, 'monitor_value': 'val_custom_mae', 'optimizer': <class 'tensorflow.python.keras.optimizer_v2.adam.Adam'>, 'reduction_metric': 'custom_mae', 'samples': 20000}\n",
      "Using Loss: mean_squared_error \n",
      "and Reduction Metric: [<function custom_mae at 0x0000024C33F2FE58>]\n",
      "Monitor: val_custom_mae\n",
      "Train on 16000 samples, validate on 4000 samples\n",
      "15872/16000 [============================>.] - ETA: 0s - loss: 4212.6994 - custom_mae: 43.4426\n",
      "Epoch 00001: val_custom_mae improved from inf to 33.07193, saving model to ..\\fast_output\\SYNTH_Regression_MSE\\201019_2253_final_Angular_Base_Custom-MAE\\Best_Weights_FC_186.hdf5\n",
      "16000/16000 [==============================] - 5s 302us/sample - loss: 4204.3898 - custom_mae: 43.3743 - val_loss: 2941.7291 - val_custom_mae: 33.0719\n",
      "Time taken: 0:00:06.533101\n"
     ]
    },
    {
     "name": "stderr",
     "output_type": "stream",
     "text": [
      "\r",
      " 52%|█████████████████████████████████████████▌                                      | 187/360 [35:00<25:13,  8.75s/it]"
     ]
    },
    {
     "name": "stdout",
     "output_type": "stream",
     "text": [
      "{'activation': 'relu', 'batch_size': 32, 'dropout': 0.25, 'epochs': 1, 'first_neuron': 1024, 'hidden_layers': 2, 'label_type': 'Angular', 'loss_function': 'mean_squared_error', 'lr': 2, 'monitor_value': 'val_custom_mae', 'optimizer': <class 'tensorflow.python.keras.optimizer_v2.adam.Adam'>, 'reduction_metric': 'custom_mae', 'samples': 20000}\n",
      "Using Loss: mean_squared_error \n",
      "and Reduction Metric: [<function custom_mae at 0x0000024C33F2FE58>]\n",
      "Monitor: val_custom_mae\n",
      "Train on 16000 samples, validate on 4000 samples\n",
      "15968/16000 [============================>.] - ETA: 0s - loss: 4218.3314 - custom_mae: 43.6517\n",
      "Epoch 00001: val_custom_mae improved from inf to 32.43866, saving model to ..\\fast_output\\SYNTH_Regression_MSE\\201019_2253_final_Angular_Base_Custom-MAE\\Best_Weights_FC_187.hdf5\n",
      "16000/16000 [==============================] - 5s 298us/sample - loss: 4218.4149 - custom_mae: 43.6420 - val_loss: 2836.5782 - val_custom_mae: 32.4387\n",
      "Time taken: 0:00:06.465969\n"
     ]
    },
    {
     "name": "stderr",
     "output_type": "stream",
     "text": [
      "\r",
      " 52%|█████████████████████████████████████████▊                                      | 188/360 [35:08<24:38,  8.60s/it]"
     ]
    },
    {
     "name": "stdout",
     "output_type": "stream",
     "text": [
      "{'activation': 'relu', 'batch_size': 32, 'dropout': 0.25, 'epochs': 1, 'first_neuron': 1024, 'hidden_layers': 2, 'label_type': 'Angular', 'loss_function': 'mean_squared_error', 'lr': 5, 'monitor_value': 'val_custom_mae', 'optimizer': <class 'tensorflow.python.keras.optimizer_v2.adam.Adam'>, 'reduction_metric': 'custom_mae', 'samples': 20000}\n",
      "Using Loss: mean_squared_error \n",
      "and Reduction Metric: [<function custom_mae at 0x0000024C33F2FE58>]\n",
      "Monitor: val_custom_mae\n",
      "Train on 16000 samples, validate on 4000 samples\n",
      "15968/16000 [============================>.] - ETA: 0s - loss: 4645.8951 - custom_mae: 46.4554\n",
      "Epoch 00001: val_custom_mae improved from inf to 32.86671, saving model to ..\\fast_output\\SYNTH_Regression_MSE\\201019_2253_final_Angular_Base_Custom-MAE\\Best_Weights_FC_188.hdf5\n",
      "16000/16000 [==============================] - 5s 302us/sample - loss: 4645.4694 - custom_mae: 46.4436 - val_loss: 2718.2822 - val_custom_mae: 32.8667\n",
      "Time taken: 0:00:06.524379\n"
     ]
    },
    {
     "name": "stderr",
     "output_type": "stream",
     "text": [
      "\r",
      " 52%|██████████████████████████████████████████                                      | 189/360 [35:17<24:15,  8.51s/it]"
     ]
    },
    {
     "name": "stdout",
     "output_type": "stream",
     "text": [
      "{'activation': 'relu', 'batch_size': 32, 'dropout': 0.25, 'epochs': 1, 'first_neuron': 1024, 'hidden_layers': 3, 'label_type': 'Angular', 'loss_function': 'mean_squared_error', 'lr': 1, 'monitor_value': 'val_custom_mae', 'optimizer': <class 'tensorflow.python.keras.optimizer_v2.adam.Adam'>, 'reduction_metric': 'custom_mae', 'samples': 20000}\n",
      "Using Loss: mean_squared_error \n",
      "and Reduction Metric: [<function custom_mae at 0x0000024C33F2FE58>]\n",
      "Monitor: val_custom_mae\n",
      "Train on 16000 samples, validate on 4000 samples\n",
      "15840/16000 [============================>.] - ETA: 0s - loss: 4560.1187 - custom_mae: 46.4947\n",
      "Epoch 00001: val_custom_mae improved from inf to 31.92205, saving model to ..\\fast_output\\SYNTH_Regression_MSE\\201019_2253_final_Angular_Base_Custom-MAE\\Best_Weights_FC_189.hdf5\n",
      "16000/16000 [==============================] - 5s 310us/sample - loss: 4550.6142 - custom_mae: 46.4077 - val_loss: 2788.3246 - val_custom_mae: 31.9221\n",
      "Time taken: 0:00:06.665636\n"
     ]
    },
    {
     "name": "stderr",
     "output_type": "stream",
     "text": [
      "\r",
      " 53%|██████████████████████████████████████████▏                                     | 190/360 [35:25<24:04,  8.50s/it]"
     ]
    },
    {
     "name": "stdout",
     "output_type": "stream",
     "text": [
      "{'activation': 'relu', 'batch_size': 32, 'dropout': 0.25, 'epochs': 1, 'first_neuron': 1024, 'hidden_layers': 3, 'label_type': 'Angular', 'loss_function': 'mean_squared_error', 'lr': 2, 'monitor_value': 'val_custom_mae', 'optimizer': <class 'tensorflow.python.keras.optimizer_v2.adam.Adam'>, 'reduction_metric': 'custom_mae', 'samples': 20000}\n",
      "Using Loss: mean_squared_error \n",
      "and Reduction Metric: [<function custom_mae at 0x0000024C33F2FE58>]\n",
      "Monitor: val_custom_mae\n",
      "Train on 16000 samples, validate on 4000 samples\n",
      "15840/16000 [============================>.] - ETA: 0s - loss: 4770.3023 - custom_mae: 48.1609\n",
      "Epoch 00001: val_custom_mae improved from inf to 38.25710, saving model to ..\\fast_output\\SYNTH_Regression_MSE\\201019_2253_final_Angular_Base_Custom-MAE\\Best_Weights_FC_190.hdf5\n",
      "16000/16000 [==============================] - 5s 307us/sample - loss: 4760.8751 - custom_mae: 48.0824 - val_loss: 3291.4070 - val_custom_mae: 38.2571\n",
      "Time taken: 0:00:06.635921\n"
     ]
    },
    {
     "name": "stderr",
     "output_type": "stream",
     "text": [
      "\r",
      " 53%|██████████████████████████████████████████▍                                     | 191/360 [35:33<23:53,  8.48s/it]"
     ]
    },
    {
     "name": "stdout",
     "output_type": "stream",
     "text": [
      "{'activation': 'relu', 'batch_size': 32, 'dropout': 0.25, 'epochs': 1, 'first_neuron': 1024, 'hidden_layers': 3, 'label_type': 'Angular', 'loss_function': 'mean_squared_error', 'lr': 5, 'monitor_value': 'val_custom_mae', 'optimizer': <class 'tensorflow.python.keras.optimizer_v2.adam.Adam'>, 'reduction_metric': 'custom_mae', 'samples': 20000}\n",
      "Using Loss: mean_squared_error \n",
      "and Reduction Metric: [<function custom_mae at 0x0000024C33F2FE58>]\n",
      "Monitor: val_custom_mae\n",
      "Train on 16000 samples, validate on 4000 samples\n",
      "15872/16000 [============================>.] - ETA: 0s - loss: 5481.3722 - custom_mae: 53.1107\n",
      "Epoch 00001: val_custom_mae improved from inf to 45.58119, saving model to ..\\fast_output\\SYNTH_Regression_MSE\\201019_2253_final_Angular_Base_Custom-MAE\\Best_Weights_FC_191.hdf5\n",
      "16000/16000 [==============================] - 5s 313us/sample - loss: 5478.5582 - custom_mae: 53.0891 - val_loss: 4011.0812 - val_custom_mae: 45.5812\n",
      "Time taken: 0:00:06.719185\n"
     ]
    },
    {
     "name": "stderr",
     "output_type": "stream",
     "text": [
      "\r",
      " 53%|██████████████████████████████████████████▋                                     | 192/360 [35:42<23:47,  8.50s/it]"
     ]
    },
    {
     "name": "stdout",
     "output_type": "stream",
     "text": [
      "{'activation': 'relu', 'batch_size': 32, 'dropout': 0.25, 'epochs': 1, 'first_neuron': 1024, 'hidden_layers': 4, 'label_type': 'Angular', 'loss_function': 'mean_squared_error', 'lr': 1, 'monitor_value': 'val_custom_mae', 'optimizer': <class 'tensorflow.python.keras.optimizer_v2.adam.Adam'>, 'reduction_metric': 'custom_mae', 'samples': 20000}\n",
      "Using Loss: mean_squared_error \n",
      "and Reduction Metric: [<function custom_mae at 0x0000024C33F2FE58>]\n",
      "Monitor: val_custom_mae\n",
      "Train on 16000 samples, validate on 4000 samples\n",
      "15840/16000 [============================>.] - ETA: 0s - loss: 5167.0442 - custom_mae: 51.0999\n",
      "Epoch 00001: val_custom_mae improved from inf to 37.69854, saving model to ..\\fast_output\\SYNTH_Regression_MSE\\201019_2253_final_Angular_Base_Custom-MAE\\Best_Weights_FC_192.hdf5\n",
      "16000/16000 [==============================] - 5s 317us/sample - loss: 5152.8314 - custom_mae: 50.9997 - val_loss: 3215.4589 - val_custom_mae: 37.6985\n",
      "Time taken: 0:00:06.778723\n"
     ]
    },
    {
     "name": "stderr",
     "output_type": "stream",
     "text": [
      "\r",
      " 54%|██████████████████████████████████████████▉                                     | 193/360 [35:51<23:43,  8.53s/it]"
     ]
    },
    {
     "name": "stdout",
     "output_type": "stream",
     "text": [
      "{'activation': 'relu', 'batch_size': 32, 'dropout': 0.25, 'epochs': 1, 'first_neuron': 1024, 'hidden_layers': 4, 'label_type': 'Angular', 'loss_function': 'mean_squared_error', 'lr': 2, 'monitor_value': 'val_custom_mae', 'optimizer': <class 'tensorflow.python.keras.optimizer_v2.adam.Adam'>, 'reduction_metric': 'custom_mae', 'samples': 20000}\n",
      "Using Loss: mean_squared_error \n",
      "and Reduction Metric: [<function custom_mae at 0x0000024C33F2FE58>]\n",
      "Monitor: val_custom_mae\n",
      "Train on 16000 samples, validate on 4000 samples\n",
      "15808/16000 [============================>.] - ETA: 0s - loss: 5297.7105 - custom_mae: 52.5576\n",
      "Epoch 00001: val_custom_mae improved from inf to 41.71049, saving model to ..\\fast_output\\SYNTH_Regression_MSE\\201019_2253_final_Angular_Base_Custom-MAE\\Best_Weights_FC_193.hdf5\n",
      "16000/16000 [==============================] - 5s 316us/sample - loss: 5283.1581 - custom_mae: 52.4765 - val_loss: 3393.2493 - val_custom_mae: 41.7105\n",
      "Time taken: 0:00:06.750908\n"
     ]
    },
    {
     "name": "stderr",
     "output_type": "stream",
     "text": [
      "\r",
      " 54%|███████████████████████████████████████████                                     | 194/360 [35:59<23:38,  8.54s/it]"
     ]
    },
    {
     "name": "stdout",
     "output_type": "stream",
     "text": [
      "{'activation': 'relu', 'batch_size': 32, 'dropout': 0.25, 'epochs': 1, 'first_neuron': 1024, 'hidden_layers': 4, 'label_type': 'Angular', 'loss_function': 'mean_squared_error', 'lr': 5, 'monitor_value': 'val_custom_mae', 'optimizer': <class 'tensorflow.python.keras.optimizer_v2.adam.Adam'>, 'reduction_metric': 'custom_mae', 'samples': 20000}\n",
      "Using Loss: mean_squared_error \n",
      "and Reduction Metric: [<function custom_mae at 0x0000024C33F2FE58>]\n",
      "Monitor: val_custom_mae\n",
      "Train on 16000 samples, validate on 4000 samples\n",
      "15872/16000 [============================>.] - ETA: 0s - loss: 5769.3410 - custom_mae: 54.5228\n",
      "Epoch 00001: val_custom_mae improved from inf to 42.44457, saving model to ..\\fast_output\\SYNTH_Regression_MSE\\201019_2253_final_Angular_Base_Custom-MAE\\Best_Weights_FC_194.hdf5\n",
      "16000/16000 [==============================] - 5s 315us/sample - loss: 5759.2988 - custom_mae: 54.4641 - val_loss: 3434.5810 - val_custom_mae: 42.4446\n",
      "Time taken: 0:00:06.741156\n"
     ]
    },
    {
     "name": "stderr",
     "output_type": "stream",
     "text": [
      "\r",
      " 54%|███████████████████████████████████████████▎                                    | 195/360 [36:08<23:30,  8.55s/it]"
     ]
    },
    {
     "name": "stdout",
     "output_type": "stream",
     "text": [
      "{'activation': 'relu', 'batch_size': 32, 'dropout': 0.25, 'epochs': 1, 'first_neuron': 2048, 'hidden_layers': 0, 'label_type': 'Angular', 'loss_function': 'mean_squared_error', 'lr': 1, 'monitor_value': 'val_custom_mae', 'optimizer': <class 'tensorflow.python.keras.optimizer_v2.adam.Adam'>, 'reduction_metric': 'custom_mae', 'samples': 20000}\n",
      "Using Loss: mean_squared_error \n",
      "and Reduction Metric: [<function custom_mae at 0x0000024C33F2FE58>]\n",
      "Monitor: val_custom_mae\n",
      "Train on 16000 samples, validate on 4000 samples\n",
      "15872/16000 [============================>.] - ETA: 0s - loss: 3770.1602 - custom_mae: 38.4901\n",
      "Epoch 00001: val_custom_mae improved from inf to 31.92171, saving model to ..\\fast_output\\SYNTH_Regression_MSE\\201019_2253_final_Angular_Base_Custom-MAE\\Best_Weights_FC_195.hdf5\n",
      "16000/16000 [==============================] - 7s 436us/sample - loss: 3761.9950 - custom_mae: 38.4239 - val_loss: 2897.0415 - val_custom_mae: 31.9217\n",
      "Time taken: 0:00:08.695359\n"
     ]
    },
    {
     "name": "stderr",
     "output_type": "stream",
     "text": [
      "\r",
      " 54%|███████████████████████████████████████████▌                                    | 196/360 [36:18<24:54,  9.12s/it]"
     ]
    },
    {
     "name": "stdout",
     "output_type": "stream",
     "text": [
      "{'activation': 'relu', 'batch_size': 32, 'dropout': 0.25, 'epochs': 1, 'first_neuron': 2048, 'hidden_layers': 0, 'label_type': 'Angular', 'loss_function': 'mean_squared_error', 'lr': 2, 'monitor_value': 'val_custom_mae', 'optimizer': <class 'tensorflow.python.keras.optimizer_v2.adam.Adam'>, 'reduction_metric': 'custom_mae', 'samples': 20000}\n",
      "Using Loss: mean_squared_error \n",
      "and Reduction Metric: [<function custom_mae at 0x0000024C33F2FE58>]\n",
      "Monitor: val_custom_mae\n",
      "Train on 16000 samples, validate on 4000 samples\n",
      "15968/16000 [============================>.] - ETA: 0s - loss: 3686.4291 - custom_mae: 38.0170\n",
      "Epoch 00001: val_custom_mae improved from inf to 31.51488, saving model to ..\\fast_output\\SYNTH_Regression_MSE\\201019_2253_final_Angular_Base_Custom-MAE\\Best_Weights_FC_196.hdf5\n",
      "16000/16000 [==============================] - 7s 434us/sample - loss: 3686.4445 - custom_mae: 38.0021 - val_loss: 2909.8204 - val_custom_mae: 31.5149\n",
      "Time taken: 0:00:08.646232\n"
     ]
    },
    {
     "name": "stderr",
     "output_type": "stream",
     "text": [
      "\r",
      " 55%|███████████████████████████████████████████▊                                    | 197/360 [36:29<25:47,  9.49s/it]"
     ]
    },
    {
     "name": "stdout",
     "output_type": "stream",
     "text": [
      "{'activation': 'relu', 'batch_size': 32, 'dropout': 0.25, 'epochs': 1, 'first_neuron': 2048, 'hidden_layers': 0, 'label_type': 'Angular', 'loss_function': 'mean_squared_error', 'lr': 5, 'monitor_value': 'val_custom_mae', 'optimizer': <class 'tensorflow.python.keras.optimizer_v2.adam.Adam'>, 'reduction_metric': 'custom_mae', 'samples': 20000}\n",
      "Using Loss: mean_squared_error \n",
      "and Reduction Metric: [<function custom_mae at 0x0000024C33F2FE58>]\n",
      "Monitor: val_custom_mae\n",
      "Train on 16000 samples, validate on 4000 samples\n",
      "15936/16000 [============================>.] - ETA: 0s - loss: 3849.1292 - custom_mae: 38.8698\n",
      "Epoch 00001: val_custom_mae improved from inf to 33.97689, saving model to ..\\fast_output\\SYNTH_Regression_MSE\\201019_2253_final_Angular_Base_Custom-MAE\\Best_Weights_FC_197.hdf5\n",
      "16000/16000 [==============================] - 7s 432us/sample - loss: 3846.7938 - custom_mae: 38.8419 - val_loss: 3150.6484 - val_custom_mae: 33.9769\n",
      "Time taken: 0:00:08.604439\n"
     ]
    },
    {
     "name": "stderr",
     "output_type": "stream",
     "text": [
      "\r",
      " 55%|████████████████████████████████████████████                                    | 198/360 [36:39<26:18,  9.74s/it]"
     ]
    },
    {
     "name": "stdout",
     "output_type": "stream",
     "text": [
      "{'activation': 'relu', 'batch_size': 32, 'dropout': 0.25, 'epochs': 1, 'first_neuron': 2048, 'hidden_layers': 1, 'label_type': 'Angular', 'loss_function': 'mean_squared_error', 'lr': 1, 'monitor_value': 'val_custom_mae', 'optimizer': <class 'tensorflow.python.keras.optimizer_v2.adam.Adam'>, 'reduction_metric': 'custom_mae', 'samples': 20000}\n",
      "Using Loss: mean_squared_error \n",
      "and Reduction Metric: [<function custom_mae at 0x0000024C33F2FE58>]\n",
      "Monitor: val_custom_mae\n",
      "Train on 16000 samples, validate on 4000 samples\n",
      "15936/16000 [============================>.] - ETA: 0s - loss: 3911.8737 - custom_mae: 40.5292\n",
      "Epoch 00001: val_custom_mae improved from inf to 31.93028, saving model to ..\\fast_output\\SYNTH_Regression_MSE\\201019_2253_final_Angular_Base_Custom-MAE\\Best_Weights_FC_198.hdf5\n",
      "16000/16000 [==============================] - 7s 449us/sample - loss: 3909.2783 - custom_mae: 40.4932 - val_loss: 2932.4972 - val_custom_mae: 31.9303\n",
      "Time taken: 0:00:08.888004\n"
     ]
    },
    {
     "name": "stderr",
     "output_type": "stream",
     "text": [
      "\r",
      " 55%|████████████████████████████████████████████▏                                   | 199/360 [36:50<26:52, 10.02s/it]"
     ]
    },
    {
     "name": "stdout",
     "output_type": "stream",
     "text": [
      "{'activation': 'relu', 'batch_size': 32, 'dropout': 0.25, 'epochs': 1, 'first_neuron': 2048, 'hidden_layers': 1, 'label_type': 'Angular', 'loss_function': 'mean_squared_error', 'lr': 2, 'monitor_value': 'val_custom_mae', 'optimizer': <class 'tensorflow.python.keras.optimizer_v2.adam.Adam'>, 'reduction_metric': 'custom_mae', 'samples': 20000}\n",
      "Using Loss: mean_squared_error \n",
      "and Reduction Metric: [<function custom_mae at 0x0000024C33F2FE58>]\n",
      "Monitor: val_custom_mae\n",
      "Train on 16000 samples, validate on 4000 samples\n",
      "15840/16000 [============================>.] - ETA: 0s - loss: 3866.9737 - custom_mae: 40.3961\n",
      "Epoch 00001: val_custom_mae improved from inf to 31.11496, saving model to ..\\fast_output\\SYNTH_Regression_MSE\\201019_2253_final_Angular_Base_Custom-MAE\\Best_Weights_FC_199.hdf5\n",
      "16000/16000 [==============================] - 7s 454us/sample - loss: 3854.5311 - custom_mae: 40.2951 - val_loss: 2716.3526 - val_custom_mae: 31.1150\n",
      "Time taken: 0:00:08.967017\n"
     ]
    },
    {
     "name": "stderr",
     "output_type": "stream",
     "text": [
      "\r",
      " 56%|████████████████████████████████████████████▍                                   | 200/360 [37:00<27:16, 10.23s/it]"
     ]
    },
    {
     "name": "stdout",
     "output_type": "stream",
     "text": [
      "{'activation': 'relu', 'batch_size': 32, 'dropout': 0.25, 'epochs': 1, 'first_neuron': 2048, 'hidden_layers': 1, 'label_type': 'Angular', 'loss_function': 'mean_squared_error', 'lr': 5, 'monitor_value': 'val_custom_mae', 'optimizer': <class 'tensorflow.python.keras.optimizer_v2.adam.Adam'>, 'reduction_metric': 'custom_mae', 'samples': 20000}\n",
      "Using Loss: mean_squared_error \n",
      "and Reduction Metric: [<function custom_mae at 0x0000024C33F2FE58>]\n",
      "Monitor: val_custom_mae\n",
      "Train on 16000 samples, validate on 4000 samples\n",
      "15904/16000 [============================>.] - ETA: 0s - loss: 5178.6329 - custom_mae: 44.7847\n",
      "Epoch 00001: val_custom_mae improved from inf to 36.07518, saving model to ..\\fast_output\\SYNTH_Regression_MSE\\201019_2253_final_Angular_Base_Custom-MAE\\Best_Weights_FC_200.hdf5\n",
      "16000/16000 [==============================] - 7s 453us/sample - loss: 5169.0223 - custom_mae: 44.7369 - val_loss: 3070.6642 - val_custom_mae: 36.0752\n",
      "Time taken: 0:00:08.950775\n"
     ]
    },
    {
     "name": "stderr",
     "output_type": "stream",
     "text": [
      "\r",
      " 56%|████████████████████████████████████████████▋                                   | 201/360 [37:11<27:29, 10.37s/it]"
     ]
    },
    {
     "name": "stdout",
     "output_type": "stream",
     "text": [
      "{'activation': 'relu', 'batch_size': 32, 'dropout': 0.25, 'epochs': 1, 'first_neuron': 2048, 'hidden_layers': 2, 'label_type': 'Angular', 'loss_function': 'mean_squared_error', 'lr': 1, 'monitor_value': 'val_custom_mae', 'optimizer': <class 'tensorflow.python.keras.optimizer_v2.adam.Adam'>, 'reduction_metric': 'custom_mae', 'samples': 20000}\n",
      "Using Loss: mean_squared_error \n",
      "and Reduction Metric: [<function custom_mae at 0x0000024C33F2FE58>]\n",
      "Monitor: val_custom_mae\n",
      "Train on 16000 samples, validate on 4000 samples\n",
      "15904/16000 [============================>.] - ETA: 0s - loss: 4227.1076 - custom_mae: 43.2098\n",
      "Epoch 00001: val_custom_mae improved from inf to 30.84053, saving model to ..\\fast_output\\SYNTH_Regression_MSE\\201019_2253_final_Angular_Base_Custom-MAE\\Best_Weights_FC_201.hdf5\n",
      "16000/16000 [==============================] - 7s 464us/sample - loss: 4220.7242 - custom_mae: 43.1504 - val_loss: 2690.0527 - val_custom_mae: 30.8405\n",
      "Time taken: 0:00:09.130670\n"
     ]
    },
    {
     "name": "stderr",
     "output_type": "stream",
     "text": [
      "\r",
      " 56%|████████████████████████████████████████████▉                                   | 202/360 [37:22<27:43, 10.53s/it]"
     ]
    },
    {
     "name": "stdout",
     "output_type": "stream",
     "text": [
      "{'activation': 'relu', 'batch_size': 32, 'dropout': 0.25, 'epochs': 1, 'first_neuron': 2048, 'hidden_layers': 2, 'label_type': 'Angular', 'loss_function': 'mean_squared_error', 'lr': 2, 'monitor_value': 'val_custom_mae', 'optimizer': <class 'tensorflow.python.keras.optimizer_v2.adam.Adam'>, 'reduction_metric': 'custom_mae', 'samples': 20000}\n",
      "Using Loss: mean_squared_error \n",
      "and Reduction Metric: [<function custom_mae at 0x0000024C33F2FE58>]\n",
      "Monitor: val_custom_mae\n",
      "Train on 16000 samples, validate on 4000 samples\n",
      "15872/16000 [============================>.] - ETA: 0s - loss: 4213.0167 - custom_mae: 43.7052\n",
      "Epoch 00001: val_custom_mae improved from inf to 31.56107, saving model to ..\\fast_output\\SYNTH_Regression_MSE\\201019_2253_final_Angular_Base_Custom-MAE\\Best_Weights_FC_202.hdf5\n",
      "16000/16000 [==============================] - 7s 465us/sample - loss: 4201.3348 - custom_mae: 43.6314 - val_loss: 2648.3587 - val_custom_mae: 31.5611\n",
      "Time taken: 0:00:09.134450\n"
     ]
    },
    {
     "name": "stderr",
     "output_type": "stream",
     "text": [
      "\r",
      " 56%|█████████████████████████████████████████████                                   | 203/360 [37:33<27:51, 10.65s/it]"
     ]
    },
    {
     "name": "stdout",
     "output_type": "stream",
     "text": [
      "{'activation': 'relu', 'batch_size': 32, 'dropout': 0.25, 'epochs': 1, 'first_neuron': 2048, 'hidden_layers': 2, 'label_type': 'Angular', 'loss_function': 'mean_squared_error', 'lr': 5, 'monitor_value': 'val_custom_mae', 'optimizer': <class 'tensorflow.python.keras.optimizer_v2.adam.Adam'>, 'reduction_metric': 'custom_mae', 'samples': 20000}\n",
      "Using Loss: mean_squared_error \n",
      "and Reduction Metric: [<function custom_mae at 0x0000024C33F2FE58>]\n",
      "Monitor: val_custom_mae\n",
      "Train on 16000 samples, validate on 4000 samples\n",
      "15936/16000 [============================>.] - ETA: 0s - loss: 6378.4975 - custom_mae: 49.4095\n",
      "Epoch 00001: val_custom_mae improved from inf to 36.44480, saving model to ..\\fast_output\\SYNTH_Regression_MSE\\201019_2253_final_Angular_Base_Custom-MAE\\Best_Weights_FC_203.hdf5\n",
      "16000/16000 [==============================] - 7s 460us/sample - loss: 6373.5974 - custom_mae: 49.3876 - val_loss: 3123.3047 - val_custom_mae: 36.4448\n",
      "Time taken: 0:00:09.065621\n"
     ]
    },
    {
     "name": "stderr",
     "output_type": "stream",
     "text": [
      "\r",
      " 57%|█████████████████████████████████████████████▎                                  | 204/360 [37:44<27:50, 10.71s/it]"
     ]
    },
    {
     "name": "stdout",
     "output_type": "stream",
     "text": [
      "{'activation': 'relu', 'batch_size': 32, 'dropout': 0.25, 'epochs': 1, 'first_neuron': 2048, 'hidden_layers': 3, 'label_type': 'Angular', 'loss_function': 'mean_squared_error', 'lr': 1, 'monitor_value': 'val_custom_mae', 'optimizer': <class 'tensorflow.python.keras.optimizer_v2.adam.Adam'>, 'reduction_metric': 'custom_mae', 'samples': 20000}\n",
      "Using Loss: mean_squared_error \n",
      "and Reduction Metric: [<function custom_mae at 0x0000024C33F2FE58>]\n",
      "Monitor: val_custom_mae\n",
      "Train on 16000 samples, validate on 4000 samples\n",
      "15904/16000 [============================>.] - ETA: 0s - loss: 4330.2177 - custom_mae: 44.6671\n",
      "Epoch 00001: val_custom_mae improved from inf to 31.07582, saving model to ..\\fast_output\\SYNTH_Regression_MSE\\201019_2253_final_Angular_Base_Custom-MAE\\Best_Weights_FC_204.hdf5\n",
      "16000/16000 [==============================] - 8s 469us/sample - loss: 4322.1726 - custom_mae: 44.5924 - val_loss: 2635.1045 - val_custom_mae: 31.0758\n",
      "Time taken: 0:00:09.212189\n"
     ]
    },
    {
     "name": "stderr",
     "output_type": "stream",
     "text": [
      "\r",
      " 57%|█████████████████████████████████████████████▌                                  | 205/360 [37:55<27:53, 10.80s/it]"
     ]
    },
    {
     "name": "stdout",
     "output_type": "stream",
     "text": [
      "{'activation': 'relu', 'batch_size': 32, 'dropout': 0.25, 'epochs': 1, 'first_neuron': 2048, 'hidden_layers': 3, 'label_type': 'Angular', 'loss_function': 'mean_squared_error', 'lr': 2, 'monitor_value': 'val_custom_mae', 'optimizer': <class 'tensorflow.python.keras.optimizer_v2.adam.Adam'>, 'reduction_metric': 'custom_mae', 'samples': 20000}\n",
      "Using Loss: mean_squared_error \n",
      "and Reduction Metric: [<function custom_mae at 0x0000024C33F2FE58>]\n",
      "Monitor: val_custom_mae\n",
      "Train on 16000 samples, validate on 4000 samples\n",
      "15904/16000 [============================>.] - ETA: 0s - loss: 5148.9782 - custom_mae: 50.0948\n",
      "Epoch 00001: val_custom_mae improved from inf to 33.80508, saving model to ..\\fast_output\\SYNTH_Regression_MSE\\201019_2253_final_Angular_Base_Custom-MAE\\Best_Weights_FC_205.hdf5\n",
      "16000/16000 [==============================] - 7s 468us/sample - loss: 5142.2720 - custom_mae: 50.0353 - val_loss: 2912.7335 - val_custom_mae: 33.8051\n",
      "Time taken: 0:00:09.199486\n"
     ]
    },
    {
     "name": "stderr",
     "output_type": "stream",
     "text": [
      "\r",
      " 57%|█████████████████████████████████████████████▊                                  | 206/360 [38:06<27:52, 10.86s/it]"
     ]
    },
    {
     "name": "stdout",
     "output_type": "stream",
     "text": [
      "{'activation': 'relu', 'batch_size': 32, 'dropout': 0.25, 'epochs': 1, 'first_neuron': 2048, 'hidden_layers': 3, 'label_type': 'Angular', 'loss_function': 'mean_squared_error', 'lr': 5, 'monitor_value': 'val_custom_mae', 'optimizer': <class 'tensorflow.python.keras.optimizer_v2.adam.Adam'>, 'reduction_metric': 'custom_mae', 'samples': 20000}\n",
      "Using Loss: mean_squared_error \n",
      "and Reduction Metric: [<function custom_mae at 0x0000024C33F2FE58>]\n",
      "Monitor: val_custom_mae\n",
      "Train on 16000 samples, validate on 4000 samples\n",
      "15968/16000 [============================>.] - ETA: 0s - loss: 6452.3258 - custom_mae: 52.8150\n",
      "Epoch 00001: val_custom_mae improved from inf to 37.65798, saving model to ..\\fast_output\\SYNTH_Regression_MSE\\201019_2253_final_Angular_Base_Custom-MAE\\Best_Weights_FC_206.hdf5\n",
      "16000/16000 [==============================] - 8s 474us/sample - loss: 6453.8194 - custom_mae: 52.8116 - val_loss: 3164.6504 - val_custom_mae: 37.6580\n",
      "Time taken: 0:00:09.286993\n"
     ]
    },
    {
     "name": "stderr",
     "output_type": "stream",
     "text": [
      "\r",
      " 57%|██████████████████████████████████████████████                                  | 207/360 [38:17<27:52, 10.93s/it]"
     ]
    },
    {
     "name": "stdout",
     "output_type": "stream",
     "text": [
      "{'activation': 'relu', 'batch_size': 32, 'dropout': 0.25, 'epochs': 1, 'first_neuron': 2048, 'hidden_layers': 4, 'label_type': 'Angular', 'loss_function': 'mean_squared_error', 'lr': 1, 'monitor_value': 'val_custom_mae', 'optimizer': <class 'tensorflow.python.keras.optimizer_v2.adam.Adam'>, 'reduction_metric': 'custom_mae', 'samples': 20000}\n",
      "Using Loss: mean_squared_error \n",
      "and Reduction Metric: [<function custom_mae at 0x0000024C33F2FE58>]\n",
      "Monitor: val_custom_mae\n",
      "Train on 16000 samples, validate on 4000 samples\n",
      "15936/16000 [============================>.] - ETA: 0s - loss: 4884.4864 - custom_mae: 49.2595\n",
      "Epoch 00001: val_custom_mae improved from inf to 35.60041, saving model to ..\\fast_output\\SYNTH_Regression_MSE\\201019_2253_final_Angular_Base_Custom-MAE\\Best_Weights_FC_207.hdf5\n",
      "16000/16000 [==============================] - 8s 479us/sample - loss: 4881.5295 - custom_mae: 49.2337 - val_loss: 3015.2496 - val_custom_mae: 35.6004\n",
      "Time taken: 0:00:09.365638\n"
     ]
    },
    {
     "name": "stderr",
     "output_type": "stream",
     "text": [
      "\r",
      " 58%|██████████████████████████████████████████████▏                                 | 208/360 [38:28<27:54, 11.02s/it]"
     ]
    },
    {
     "name": "stdout",
     "output_type": "stream",
     "text": [
      "{'activation': 'relu', 'batch_size': 32, 'dropout': 0.25, 'epochs': 1, 'first_neuron': 2048, 'hidden_layers': 4, 'label_type': 'Angular', 'loss_function': 'mean_squared_error', 'lr': 2, 'monitor_value': 'val_custom_mae', 'optimizer': <class 'tensorflow.python.keras.optimizer_v2.adam.Adam'>, 'reduction_metric': 'custom_mae', 'samples': 20000}\n",
      "Using Loss: mean_squared_error \n",
      "and Reduction Metric: [<function custom_mae at 0x0000024C33F2FE58>]\n",
      "Monitor: val_custom_mae\n",
      "Train on 16000 samples, validate on 4000 samples\n",
      "15904/16000 [============================>.] - ETA: 0s - loss: 5591.0230 - custom_mae: 53.4834\n",
      "Epoch 00001: val_custom_mae improved from inf to 45.49733, saving model to ..\\fast_output\\SYNTH_Regression_MSE\\201019_2253_final_Angular_Base_Custom-MAE\\Best_Weights_FC_208.hdf5\n",
      "16000/16000 [==============================] - 8s 482us/sample - loss: 5586.3374 - custom_mae: 53.4501 - val_loss: 3908.2681 - val_custom_mae: 45.4973\n",
      "Time taken: 0:00:09.416379\n"
     ]
    },
    {
     "name": "stderr",
     "output_type": "stream",
     "text": [
      "\r",
      " 58%|██████████████████████████████████████████████▍                                 | 209/360 [38:39<27:53, 11.09s/it]"
     ]
    },
    {
     "name": "stdout",
     "output_type": "stream",
     "text": [
      "{'activation': 'relu', 'batch_size': 32, 'dropout': 0.25, 'epochs': 1, 'first_neuron': 2048, 'hidden_layers': 4, 'label_type': 'Angular', 'loss_function': 'mean_squared_error', 'lr': 5, 'monitor_value': 'val_custom_mae', 'optimizer': <class 'tensorflow.python.keras.optimizer_v2.adam.Adam'>, 'reduction_metric': 'custom_mae', 'samples': 20000}\n",
      "Using Loss: mean_squared_error \n",
      "and Reduction Metric: [<function custom_mae at 0x0000024C33F2FE58>]\n",
      "Monitor: val_custom_mae\n",
      "Train on 16000 samples, validate on 4000 samples\n",
      "15904/16000 [============================>.] - ETA: 0s - loss: 6967.4595 - custom_mae: 55.5320\n",
      "Epoch 00001: val_custom_mae improved from inf to 51.36847, saving model to ..\\fast_output\\SYNTH_Regression_MSE\\201019_2253_final_Angular_Base_Custom-MAE\\Best_Weights_FC_209.hdf5\n",
      "16000/16000 [==============================] - 8s 482us/sample - loss: 6957.2074 - custom_mae: 55.4943 - val_loss: 4833.9259 - val_custom_mae: 51.3685\n",
      "Time taken: 0:00:09.409826\n"
     ]
    },
    {
     "name": "stderr",
     "output_type": "stream",
     "text": [
      "\r",
      " 58%|██████████████████████████████████████████████▋                                 | 210/360 [38:50<27:50, 11.13s/it]"
     ]
    },
    {
     "name": "stdout",
     "output_type": "stream",
     "text": [
      "{'activation': 'relu', 'batch_size': 32, 'dropout': 0.25, 'epochs': 1, 'first_neuron': 4096, 'hidden_layers': 0, 'label_type': 'Angular', 'loss_function': 'mean_squared_error', 'lr': 1, 'monitor_value': 'val_custom_mae', 'optimizer': <class 'tensorflow.python.keras.optimizer_v2.adam.Adam'>, 'reduction_metric': 'custom_mae', 'samples': 20000}\n",
      "Using Loss: mean_squared_error \n",
      "and Reduction Metric: [<function custom_mae at 0x0000024C33F2FE58>]\n",
      "Monitor: val_custom_mae\n",
      "Train on 16000 samples, validate on 4000 samples\n",
      "15904/16000 [============================>.] - ETA: 0s - loss: 3706.1575 - custom_mae: 37.8798\n",
      "Epoch 00001: val_custom_mae improved from inf to 33.23935, saving model to ..\\fast_output\\SYNTH_Regression_MSE\\201019_2253_final_Angular_Base_Custom-MAE\\Best_Weights_FC_210.hdf5\n",
      "16000/16000 [==============================] - 12s 746us/sample - loss: 3701.7163 - custom_mae: 37.8386 - val_loss: 3142.8251 - val_custom_mae: 33.2394\n",
      "Time taken: 0:00:13.641258\n"
     ]
    },
    {
     "name": "stderr",
     "output_type": "stream",
     "text": [
      "\r",
      " 59%|██████████████████████████████████████████████▉                                 | 211/360 [39:06<30:48, 12.41s/it]"
     ]
    },
    {
     "name": "stdout",
     "output_type": "stream",
     "text": [
      "{'activation': 'relu', 'batch_size': 32, 'dropout': 0.25, 'epochs': 1, 'first_neuron': 4096, 'hidden_layers': 0, 'label_type': 'Angular', 'loss_function': 'mean_squared_error', 'lr': 2, 'monitor_value': 'val_custom_mae', 'optimizer': <class 'tensorflow.python.keras.optimizer_v2.adam.Adam'>, 'reduction_metric': 'custom_mae', 'samples': 20000}\n",
      "Using Loss: mean_squared_error \n",
      "and Reduction Metric: [<function custom_mae at 0x0000024C33F2FE58>]\n",
      "Monitor: val_custom_mae\n",
      "Train on 16000 samples, validate on 4000 samples\n",
      "15840/16000 [============================>.] - ETA: 0s - loss: 3682.4576 - custom_mae: 37.5783\n",
      "Epoch 00001: val_custom_mae improved from inf to 33.39499, saving model to ..\\fast_output\\SYNTH_Regression_MSE\\201019_2253_final_Angular_Base_Custom-MAE\\Best_Weights_FC_211.hdf5\n",
      "16000/16000 [==============================] - 12s 754us/sample - loss: 3673.7605 - custom_mae: 37.5094 - val_loss: 3062.3424 - val_custom_mae: 33.3950\n",
      "Time taken: 0:00:13.771036\n"
     ]
    },
    {
     "name": "stderr",
     "output_type": "stream",
     "text": [
      "\r",
      " 59%|███████████████████████████████████████████████                                 | 212/360 [39:21<32:53, 13.34s/it]"
     ]
    },
    {
     "name": "stdout",
     "output_type": "stream",
     "text": [
      "{'activation': 'relu', 'batch_size': 32, 'dropout': 0.25, 'epochs': 1, 'first_neuron': 4096, 'hidden_layers': 0, 'label_type': 'Angular', 'loss_function': 'mean_squared_error', 'lr': 5, 'monitor_value': 'val_custom_mae', 'optimizer': <class 'tensorflow.python.keras.optimizer_v2.adam.Adam'>, 'reduction_metric': 'custom_mae', 'samples': 20000}\n",
      "Using Loss: mean_squared_error \n",
      "and Reduction Metric: [<function custom_mae at 0x0000024C33F2FE58>]\n",
      "Monitor: val_custom_mae\n",
      "Train on 16000 samples, validate on 4000 samples\n",
      "15904/16000 [============================>.] - ETA: 0s - loss: 4096.5814 - custom_mae: 39.6177\n",
      "Epoch 00001: val_custom_mae improved from inf to 31.10406, saving model to ..\\fast_output\\SYNTH_Regression_MSE\\201019_2253_final_Angular_Base_Custom-MAE\\Best_Weights_FC_212.hdf5\n",
      "16000/16000 [==============================] - 12s 741us/sample - loss: 4089.6972 - custom_mae: 39.5678 - val_loss: 2773.6604 - val_custom_mae: 31.1041\n",
      "Time taken: 0:00:13.554663\n"
     ]
    },
    {
     "name": "stderr",
     "output_type": "stream",
     "text": [
      "\r",
      " 59%|███████████████████████████████████████████████▎                                | 213/360 [39:37<34:06, 13.92s/it]"
     ]
    },
    {
     "name": "stdout",
     "output_type": "stream",
     "text": [
      "{'activation': 'relu', 'batch_size': 32, 'dropout': 0.25, 'epochs': 1, 'first_neuron': 4096, 'hidden_layers': 1, 'label_type': 'Angular', 'loss_function': 'mean_squared_error', 'lr': 1, 'monitor_value': 'val_custom_mae', 'optimizer': <class 'tensorflow.python.keras.optimizer_v2.adam.Adam'>, 'reduction_metric': 'custom_mae', 'samples': 20000}\n",
      "Using Loss: mean_squared_error \n",
      "and Reduction Metric: [<function custom_mae at 0x0000024C33F2FE58>]\n",
      "Monitor: val_custom_mae\n",
      "Train on 16000 samples, validate on 4000 samples\n",
      "15968/16000 [============================>.] - ETA: 0s - loss: 3811.6630 - custom_mae: 39.6227\n",
      "Epoch 00001: val_custom_mae improved from inf to 31.76995, saving model to ..\\fast_output\\SYNTH_Regression_MSE\\201019_2253_final_Angular_Base_Custom-MAE\\Best_Weights_FC_213.hdf5\n",
      "16000/16000 [==============================] - 13s 797us/sample - loss: 3811.6605 - custom_mae: 39.6108 - val_loss: 2897.6120 - val_custom_mae: 31.7699\n",
      "Time taken: 0:00:14.454015\n"
     ]
    },
    {
     "name": "stderr",
     "output_type": "stream",
     "text": [
      "\r",
      " 59%|███████████████████████████████████████████████▌                                | 214/360 [39:53<35:33, 14.61s/it]"
     ]
    },
    {
     "name": "stdout",
     "output_type": "stream",
     "text": [
      "{'activation': 'relu', 'batch_size': 32, 'dropout': 0.25, 'epochs': 1, 'first_neuron': 4096, 'hidden_layers': 1, 'label_type': 'Angular', 'loss_function': 'mean_squared_error', 'lr': 2, 'monitor_value': 'val_custom_mae', 'optimizer': <class 'tensorflow.python.keras.optimizer_v2.adam.Adam'>, 'reduction_metric': 'custom_mae', 'samples': 20000}\n",
      "Using Loss: mean_squared_error \n",
      "and Reduction Metric: [<function custom_mae at 0x0000024C33F2FE58>]\n",
      "Monitor: val_custom_mae\n",
      "Train on 16000 samples, validate on 4000 samples\n",
      "15904/16000 [============================>.] - ETA: 0s - loss: 4206.6549 - custom_mae: 41.4918\n",
      "Epoch 00001: val_custom_mae improved from inf to 30.09196, saving model to ..\\fast_output\\SYNTH_Regression_MSE\\201019_2253_final_Angular_Base_Custom-MAE\\Best_Weights_FC_214.hdf5\n",
      "16000/16000 [==============================] - 13s 788us/sample - loss: 4201.7499 - custom_mae: 41.4458 - val_loss: 2649.4116 - val_custom_mae: 30.0920\n",
      "Time taken: 0:00:14.307797\n"
     ]
    },
    {
     "name": "stderr",
     "output_type": "stream",
     "text": [
      "\r",
      " 60%|███████████████████████████████████████████████▊                                | 215/360 [40:09<36:22, 15.05s/it]"
     ]
    },
    {
     "name": "stdout",
     "output_type": "stream",
     "text": [
      "{'activation': 'relu', 'batch_size': 32, 'dropout': 0.25, 'epochs': 1, 'first_neuron': 4096, 'hidden_layers': 1, 'label_type': 'Angular', 'loss_function': 'mean_squared_error', 'lr': 5, 'monitor_value': 'val_custom_mae', 'optimizer': <class 'tensorflow.python.keras.optimizer_v2.adam.Adam'>, 'reduction_metric': 'custom_mae', 'samples': 20000}\n",
      "Using Loss: mean_squared_error \n",
      "and Reduction Metric: [<function custom_mae at 0x0000024C33F2FE58>]\n",
      "Monitor: val_custom_mae\n",
      "Train on 16000 samples, validate on 4000 samples\n",
      "15872/16000 [============================>.] - ETA: 0s - loss: 11441.0706 - custom_mae: 46.1835\n",
      "Epoch 00001: val_custom_mae improved from inf to 32.30275, saving model to ..\\fast_output\\SYNTH_Regression_MSE\\201019_2253_final_Angular_Base_Custom-MAE\\Best_Weights_FC_215.hdf5\n",
      "16000/16000 [==============================] - 13s 791us/sample - loss: 11374.5725 - custom_mae: 46.0945 - val_loss: 2946.6757 - val_custom_mae: 32.3027\n",
      "Time taken: 0:00:14.351034\n"
     ]
    },
    {
     "name": "stderr",
     "output_type": "stream",
     "text": [
      "\r",
      " 60%|████████████████████████████████████████████████                                | 216/360 [40:25<36:53, 15.37s/it]"
     ]
    },
    {
     "name": "stdout",
     "output_type": "stream",
     "text": [
      "{'activation': 'relu', 'batch_size': 32, 'dropout': 0.25, 'epochs': 1, 'first_neuron': 4096, 'hidden_layers': 2, 'label_type': 'Angular', 'loss_function': 'mean_squared_error', 'lr': 1, 'monitor_value': 'val_custom_mae', 'optimizer': <class 'tensorflow.python.keras.optimizer_v2.adam.Adam'>, 'reduction_metric': 'custom_mae', 'samples': 20000}\n",
      "Using Loss: mean_squared_error \n",
      "and Reduction Metric: [<function custom_mae at 0x0000024C33F2FE58>]\n",
      "Monitor: val_custom_mae\n",
      "Train on 16000 samples, validate on 4000 samples\n",
      "15872/16000 [============================>.] - ETA: 0s - loss: 4095.2186 - custom_mae: 42.6136\n",
      "Epoch 00001: val_custom_mae improved from inf to 30.49772, saving model to ..\\fast_output\\SYNTH_Regression_MSE\\201019_2253_final_Angular_Base_Custom-MAE\\Best_Weights_FC_216.hdf5\n",
      "16000/16000 [==============================] - 13s 807us/sample - loss: 4084.3206 - custom_mae: 42.5215 - val_loss: 2696.5386 - val_custom_mae: 30.4977\n",
      "Time taken: 0:00:14.607124\n"
     ]
    },
    {
     "name": "stderr",
     "output_type": "stream",
     "text": [
      "\r",
      " 60%|████████████████████████████████████████████████▏                               | 217/360 [40:41<37:21, 15.68s/it]"
     ]
    },
    {
     "name": "stdout",
     "output_type": "stream",
     "text": [
      "{'activation': 'relu', 'batch_size': 32, 'dropout': 0.25, 'epochs': 1, 'first_neuron': 4096, 'hidden_layers': 2, 'label_type': 'Angular', 'loss_function': 'mean_squared_error', 'lr': 2, 'monitor_value': 'val_custom_mae', 'optimizer': <class 'tensorflow.python.keras.optimizer_v2.adam.Adam'>, 'reduction_metric': 'custom_mae', 'samples': 20000}\n",
      "Using Loss: mean_squared_error \n",
      "and Reduction Metric: [<function custom_mae at 0x0000024C33F2FE58>]\n",
      "Monitor: val_custom_mae\n",
      "Train on 16000 samples, validate on 4000 samples\n",
      "15904/16000 [============================>.] - ETA: 0s - loss: 4597.6414 - custom_mae: 44.3219\n",
      "Epoch 00001: val_custom_mae improved from inf to 31.94492, saving model to ..\\fast_output\\SYNTH_Regression_MSE\\201019_2253_final_Angular_Base_Custom-MAE\\Best_Weights_FC_217.hdf5\n",
      "16000/16000 [==============================] - 13s 807us/sample - loss: 4592.2861 - custom_mae: 44.2732 - val_loss: 2817.4822 - val_custom_mae: 31.9449\n",
      "Time taken: 0:00:14.613969\n"
     ]
    },
    {
     "name": "stderr",
     "output_type": "stream",
     "text": [
      "\r",
      " 61%|████████████████████████████████████████████████▍                               | 218/360 [40:58<37:37, 15.90s/it]"
     ]
    },
    {
     "name": "stdout",
     "output_type": "stream",
     "text": [
      "{'activation': 'relu', 'batch_size': 32, 'dropout': 0.25, 'epochs': 1, 'first_neuron': 4096, 'hidden_layers': 2, 'label_type': 'Angular', 'loss_function': 'mean_squared_error', 'lr': 5, 'monitor_value': 'val_custom_mae', 'optimizer': <class 'tensorflow.python.keras.optimizer_v2.adam.Adam'>, 'reduction_metric': 'custom_mae', 'samples': 20000}\n",
      "Using Loss: mean_squared_error \n",
      "and Reduction Metric: [<function custom_mae at 0x0000024C33F2FE58>]\n",
      "Monitor: val_custom_mae\n",
      "Train on 16000 samples, validate on 4000 samples\n",
      "15904/16000 [============================>.] - ETA: 0s - loss: 54233.9210 - custom_mae: 56.0502\n",
      "Epoch 00001: val_custom_mae improved from inf to 35.22406, saving model to ..\\fast_output\\SYNTH_Regression_MSE\\201019_2253_final_Angular_Base_Custom-MAE\\Best_Weights_FC_218.hdf5\n",
      "16000/16000 [==============================] - 13s 808us/sample - loss: 53933.8114 - custom_mae: 55.9686 - val_loss: 3059.7971 - val_custom_mae: 35.2241\n",
      "Time taken: 0:00:14.633313\n"
     ]
    },
    {
     "name": "stderr",
     "output_type": "stream",
     "text": [
      "\r",
      " 61%|████████████████████████████████████████████████▋                               | 219/360 [41:14<37:44, 16.06s/it]"
     ]
    },
    {
     "name": "stdout",
     "output_type": "stream",
     "text": [
      "{'activation': 'relu', 'batch_size': 32, 'dropout': 0.25, 'epochs': 1, 'first_neuron': 4096, 'hidden_layers': 3, 'label_type': 'Angular', 'loss_function': 'mean_squared_error', 'lr': 1, 'monitor_value': 'val_custom_mae', 'optimizer': <class 'tensorflow.python.keras.optimizer_v2.adam.Adam'>, 'reduction_metric': 'custom_mae', 'samples': 20000}\n",
      "Using Loss: mean_squared_error \n",
      "and Reduction Metric: [<function custom_mae at 0x0000024C33F2FE58>]\n",
      "Monitor: val_custom_mae\n",
      "Train on 16000 samples, validate on 4000 samples\n",
      "15904/16000 [============================>.] - ETA: 0s - loss: 4447.3271 - custom_mae: 44.8469\n",
      "Epoch 00001: val_custom_mae improved from inf to 32.44140, saving model to ..\\fast_output\\SYNTH_Regression_MSE\\201019_2253_final_Angular_Base_Custom-MAE\\Best_Weights_FC_219.hdf5\n",
      "16000/16000 [==============================] - 13s 817us/sample - loss: 4439.1288 - custom_mae: 44.7799 - val_loss: 2862.6253 - val_custom_mae: 32.4414\n",
      "Time taken: 0:00:14.780052\n"
     ]
    },
    {
     "name": "stderr",
     "output_type": "stream",
     "text": [
      "\r",
      " 61%|████████████████████████████████████████████████▉                               | 220/360 [41:31<37:50, 16.22s/it]"
     ]
    },
    {
     "name": "stdout",
     "output_type": "stream",
     "text": [
      "{'activation': 'relu', 'batch_size': 32, 'dropout': 0.25, 'epochs': 1, 'first_neuron': 4096, 'hidden_layers': 3, 'label_type': 'Angular', 'loss_function': 'mean_squared_error', 'lr': 2, 'monitor_value': 'val_custom_mae', 'optimizer': <class 'tensorflow.python.keras.optimizer_v2.adam.Adam'>, 'reduction_metric': 'custom_mae', 'samples': 20000}\n",
      "Using Loss: mean_squared_error \n",
      "and Reduction Metric: [<function custom_mae at 0x0000024C33F2FE58>]\n",
      "Monitor: val_custom_mae\n",
      "Train on 16000 samples, validate on 4000 samples\n",
      "15968/16000 [============================>.] - ETA: 0s - loss: 4829.3942 - custom_mae: 48.8533\n",
      "Epoch 00001: val_custom_mae improved from inf to 33.79477, saving model to ..\\fast_output\\SYNTH_Regression_MSE\\201019_2253_final_Angular_Base_Custom-MAE\\Best_Weights_FC_220.hdf5\n",
      "16000/16000 [==============================] - 13s 816us/sample - loss: 4832.6132 - custom_mae: 48.8448 - val_loss: 2973.8108 - val_custom_mae: 33.7948\n",
      "Time taken: 0:00:14.749464\n"
     ]
    },
    {
     "name": "stderr",
     "output_type": "stream",
     "text": [
      "\r",
      " 61%|█████████████████████████████████████████████████                               | 221/360 [41:47<37:50, 16.33s/it]"
     ]
    },
    {
     "name": "stdout",
     "output_type": "stream",
     "text": [
      "{'activation': 'relu', 'batch_size': 32, 'dropout': 0.25, 'epochs': 1, 'first_neuron': 4096, 'hidden_layers': 3, 'label_type': 'Angular', 'loss_function': 'mean_squared_error', 'lr': 5, 'monitor_value': 'val_custom_mae', 'optimizer': <class 'tensorflow.python.keras.optimizer_v2.adam.Adam'>, 'reduction_metric': 'custom_mae', 'samples': 20000}\n",
      "Using Loss: mean_squared_error \n",
      "and Reduction Metric: [<function custom_mae at 0x0000024C33F2FE58>]\n",
      "Monitor: val_custom_mae\n",
      "Train on 16000 samples, validate on 4000 samples\n",
      "15904/16000 [============================>.] - ETA: 0s - loss: 62310.3825 - custom_mae: 58.7779\n",
      "Epoch 00001: val_custom_mae improved from inf to 37.33699, saving model to ..\\fast_output\\SYNTH_Regression_MSE\\201019_2253_final_Angular_Base_Custom-MAE\\Best_Weights_FC_221.hdf5\n",
      "16000/16000 [==============================] - 13s 823us/sample - loss: 61964.2214 - custom_mae: 58.6967 - val_loss: 3344.0072 - val_custom_mae: 37.3370\n",
      "Time taken: 0:00:14.906031\n"
     ]
    },
    {
     "name": "stderr",
     "output_type": "stream",
     "text": [
      "\r",
      " 62%|█████████████████████████████████████████████████▎                              | 222/360 [42:04<37:51, 16.46s/it]"
     ]
    },
    {
     "name": "stdout",
     "output_type": "stream",
     "text": [
      "{'activation': 'relu', 'batch_size': 32, 'dropout': 0.25, 'epochs': 1, 'first_neuron': 4096, 'hidden_layers': 4, 'label_type': 'Angular', 'loss_function': 'mean_squared_error', 'lr': 1, 'monitor_value': 'val_custom_mae', 'optimizer': <class 'tensorflow.python.keras.optimizer_v2.adam.Adam'>, 'reduction_metric': 'custom_mae', 'samples': 20000}\n",
      "Using Loss: mean_squared_error \n",
      "and Reduction Metric: [<function custom_mae at 0x0000024C33F2FE58>]\n",
      "Monitor: val_custom_mae\n",
      "Train on 16000 samples, validate on 4000 samples\n",
      "15968/16000 [============================>.] - ETA: 0s - loss: 4641.4343 - custom_mae: 48.3837\n",
      "Epoch 00001: val_custom_mae improved from inf to 37.86842, saving model to ..\\fast_output\\SYNTH_Regression_MSE\\201019_2253_final_Angular_Base_Custom-MAE\\Best_Weights_FC_222.hdf5\n",
      "16000/16000 [==============================] - 13s 825us/sample - loss: 4642.2231 - custom_mae: 48.3696 - val_loss: 3023.5743 - val_custom_mae: 37.8684\n",
      "Time taken: 0:00:14.897781\n"
     ]
    },
    {
     "name": "stderr",
     "output_type": "stream",
     "text": [
      "\r",
      " 62%|█████████████████████████████████████████████████▌                              | 223/360 [42:21<37:47, 16.55s/it]"
     ]
    },
    {
     "name": "stdout",
     "output_type": "stream",
     "text": [
      "{'activation': 'relu', 'batch_size': 32, 'dropout': 0.25, 'epochs': 1, 'first_neuron': 4096, 'hidden_layers': 4, 'label_type': 'Angular', 'loss_function': 'mean_squared_error', 'lr': 2, 'monitor_value': 'val_custom_mae', 'optimizer': <class 'tensorflow.python.keras.optimizer_v2.adam.Adam'>, 'reduction_metric': 'custom_mae', 'samples': 20000}\n",
      "Using Loss: mean_squared_error \n",
      "and Reduction Metric: [<function custom_mae at 0x0000024C33F2FE58>]\n",
      "Monitor: val_custom_mae\n",
      "Train on 16000 samples, validate on 4000 samples\n",
      "15872/16000 [============================>.] - ETA: 0s - loss: 5207.9762 - custom_mae: 52.0449\n",
      "Epoch 00001: val_custom_mae improved from inf to 43.17404, saving model to ..\\fast_output\\SYNTH_Regression_MSE\\201019_2253_final_Angular_Base_Custom-MAE\\Best_Weights_FC_223.hdf5\n",
      "16000/16000 [==============================] - 13s 830us/sample - loss: 5200.4749 - custom_mae: 51.9798 - val_loss: 3576.6933 - val_custom_mae: 43.1740\n",
      "Time taken: 0:00:14.985228\n"
     ]
    },
    {
     "name": "stderr",
     "output_type": "stream",
     "text": [
      "\r",
      " 62%|█████████████████████████████████████████████████▊                              | 224/360 [42:38<37:42, 16.63s/it]"
     ]
    },
    {
     "name": "stdout",
     "output_type": "stream",
     "text": [
      "{'activation': 'relu', 'batch_size': 32, 'dropout': 0.25, 'epochs': 1, 'first_neuron': 4096, 'hidden_layers': 4, 'label_type': 'Angular', 'loss_function': 'mean_squared_error', 'lr': 5, 'monitor_value': 'val_custom_mae', 'optimizer': <class 'tensorflow.python.keras.optimizer_v2.adam.Adam'>, 'reduction_metric': 'custom_mae', 'samples': 20000}\n",
      "Using Loss: mean_squared_error \n",
      "and Reduction Metric: [<function custom_mae at 0x0000024C33F2FE58>]\n",
      "Monitor: val_custom_mae\n",
      "Train on 16000 samples, validate on 4000 samples\n",
      "15904/16000 [============================>.] - ETA: 0s - loss: 37777.2217 - custom_mae: 61.2299\n",
      "Epoch 00001: val_custom_mae improved from inf to 43.07987, saving model to ..\\fast_output\\SYNTH_Regression_MSE\\201019_2253_final_Angular_Base_Custom-MAE\\Best_Weights_FC_224.hdf5\n",
      "16000/16000 [==============================] - 13s 818us/sample - loss: 37576.5760 - custom_mae: 61.1410 - val_loss: 3543.3545 - val_custom_mae: 43.0799\n",
      "Time taken: 0:00:14.750082\n"
     ]
    },
    {
     "name": "stderr",
     "output_type": "stream",
     "text": [
      "\r",
      " 62%|██████████████████████████████████████████████████                              | 225/360 [42:54<37:24, 16.62s/it]"
     ]
    },
    {
     "name": "stdout",
     "output_type": "stream",
     "text": [
      "{'activation': 'relu', 'batch_size': 32, 'dropout': 0.5, 'epochs': 1, 'first_neuron': 1024, 'hidden_layers': 0, 'label_type': 'Angular', 'loss_function': 'mean_squared_error', 'lr': 1, 'monitor_value': 'val_custom_mae', 'optimizer': <class 'tensorflow.python.keras.optimizer_v2.adam.Adam'>, 'reduction_metric': 'custom_mae', 'samples': 20000}\n",
      "Using Loss: mean_squared_error \n",
      "and Reduction Metric: [<function custom_mae at 0x0000024C33F2FE58>]\n",
      "Monitor: val_custom_mae\n",
      "Train on 16000 samples, validate on 4000 samples\n",
      "15712/16000 [============================>.] - ETA: 0s - loss: 4304.1024 - custom_mae: 43.3145\n",
      "Epoch 00001: val_custom_mae improved from inf to 34.66386, saving model to ..\\fast_output\\SYNTH_Regression_MSE\\201019_2253_final_Angular_Base_Custom-MAE\\Best_Weights_FC_225.hdf5\n",
      "16000/16000 [==============================] - 4s 280us/sample - loss: 4282.3374 - custom_mae: 43.1695 - val_loss: 3240.9201 - val_custom_mae: 34.6639\n",
      "Time taken: 0:00:06.182560\n"
     ]
    },
    {
     "name": "stderr",
     "output_type": "stream",
     "text": [
      "\r",
      " 63%|██████████████████████████████████████████████████▏                             | 226/360 [43:02<31:17, 14.01s/it]"
     ]
    },
    {
     "name": "stdout",
     "output_type": "stream",
     "text": [
      "{'activation': 'relu', 'batch_size': 32, 'dropout': 0.5, 'epochs': 1, 'first_neuron': 1024, 'hidden_layers': 0, 'label_type': 'Angular', 'loss_function': 'mean_squared_error', 'lr': 2, 'monitor_value': 'val_custom_mae', 'optimizer': <class 'tensorflow.python.keras.optimizer_v2.adam.Adam'>, 'reduction_metric': 'custom_mae', 'samples': 20000}\n",
      "Using Loss: mean_squared_error \n",
      "and Reduction Metric: [<function custom_mae at 0x0000024C33F2FE58>]\n",
      "Monitor: val_custom_mae\n",
      "Train on 16000 samples, validate on 4000 samples\n",
      "15936/16000 [============================>.] - ETA: 0s - loss: 4053.3129 - custom_mae: 41.4924\n",
      "Epoch 00001: val_custom_mae improved from inf to 33.16618, saving model to ..\\fast_output\\SYNTH_Regression_MSE\\201019_2253_final_Angular_Base_Custom-MAE\\Best_Weights_FC_226.hdf5\n",
      "16000/16000 [==============================] - 4s 279us/sample - loss: 4050.7676 - custom_mae: 41.4620 - val_loss: 2981.1342 - val_custom_mae: 33.1662\n",
      "Time taken: 0:00:06.159672\n"
     ]
    },
    {
     "name": "stderr",
     "output_type": "stream",
     "text": [
      "\r",
      " 63%|██████████████████████████████████████████████████▍                             | 227/360 [43:10<26:59, 12.18s/it]"
     ]
    },
    {
     "name": "stdout",
     "output_type": "stream",
     "text": [
      "{'activation': 'relu', 'batch_size': 32, 'dropout': 0.5, 'epochs': 1, 'first_neuron': 1024, 'hidden_layers': 0, 'label_type': 'Angular', 'loss_function': 'mean_squared_error', 'lr': 5, 'monitor_value': 'val_custom_mae', 'optimizer': <class 'tensorflow.python.keras.optimizer_v2.adam.Adam'>, 'reduction_metric': 'custom_mae', 'samples': 20000}\n",
      "Using Loss: mean_squared_error \n",
      "and Reduction Metric: [<function custom_mae at 0x0000024C33F2FE58>]\n",
      "Monitor: val_custom_mae\n",
      "Train on 16000 samples, validate on 4000 samples\n",
      "15968/16000 [============================>.] - ETA: 0s - loss: 4212.9813 - custom_mae: 42.8263\n",
      "Epoch 00001: val_custom_mae improved from inf to 35.33703, saving model to ..\\fast_output\\SYNTH_Regression_MSE\\201019_2253_final_Angular_Base_Custom-MAE\\Best_Weights_FC_227.hdf5\n",
      "16000/16000 [==============================] - 4s 279us/sample - loss: 4212.4962 - custom_mae: 42.8136 - val_loss: 3067.0386 - val_custom_mae: 35.3370\n",
      "Time taken: 0:00:06.157526\n"
     ]
    },
    {
     "name": "stderr",
     "output_type": "stream",
     "text": [
      "\r",
      " 63%|██████████████████████████████████████████████████▋                             | 228/360 [43:18<23:57, 10.89s/it]"
     ]
    },
    {
     "name": "stdout",
     "output_type": "stream",
     "text": [
      "{'activation': 'relu', 'batch_size': 32, 'dropout': 0.5, 'epochs': 1, 'first_neuron': 1024, 'hidden_layers': 1, 'label_type': 'Angular', 'loss_function': 'mean_squared_error', 'lr': 1, 'monitor_value': 'val_custom_mae', 'optimizer': <class 'tensorflow.python.keras.optimizer_v2.adam.Adam'>, 'reduction_metric': 'custom_mae', 'samples': 20000}\n",
      "Using Loss: mean_squared_error \n",
      "and Reduction Metric: [<function custom_mae at 0x0000024C33F2FE58>]\n",
      "Monitor: val_custom_mae\n",
      "Train on 16000 samples, validate on 4000 samples\n",
      "15680/16000 [============================>.] - ETA: 0s - loss: 4567.6296 - custom_mae: 45.8895\n",
      "Epoch 00001: val_custom_mae improved from inf to 36.61193, saving model to ..\\fast_output\\SYNTH_Regression_MSE\\201019_2253_final_Angular_Base_Custom-MAE\\Best_Weights_FC_228.hdf5\n",
      "16000/16000 [==============================] - 5s 299us/sample - loss: 4547.4397 - custom_mae: 45.7446 - val_loss: 3323.3987 - val_custom_mae: 36.6119\n",
      "Time taken: 0:00:06.481558\n"
     ]
    },
    {
     "name": "stderr",
     "output_type": "stream",
     "text": [
      "\r",
      " 64%|██████████████████████████████████████████████████▉                             | 229/360 [43:26<22:02, 10.09s/it]"
     ]
    },
    {
     "name": "stdout",
     "output_type": "stream",
     "text": [
      "{'activation': 'relu', 'batch_size': 32, 'dropout': 0.5, 'epochs': 1, 'first_neuron': 1024, 'hidden_layers': 1, 'label_type': 'Angular', 'loss_function': 'mean_squared_error', 'lr': 2, 'monitor_value': 'val_custom_mae', 'optimizer': <class 'tensorflow.python.keras.optimizer_v2.adam.Adam'>, 'reduction_metric': 'custom_mae', 'samples': 20000}\n",
      "Using Loss: mean_squared_error \n",
      "and Reduction Metric: [<function custom_mae at 0x0000024C33F2FE58>]\n",
      "Monitor: val_custom_mae\n",
      "Train on 16000 samples, validate on 4000 samples\n",
      "15936/16000 [============================>.] - ETA: 0s - loss: 4716.0501 - custom_mae: 46.9547\n",
      "Epoch 00001: val_custom_mae improved from inf to 35.04515, saving model to ..\\fast_output\\SYNTH_Regression_MSE\\201019_2253_final_Angular_Base_Custom-MAE\\Best_Weights_FC_229.hdf5\n",
      "16000/16000 [==============================] - 5s 291us/sample - loss: 4711.8058 - custom_mae: 46.9204 - val_loss: 3112.5617 - val_custom_mae: 35.0452\n",
      "Time taken: 0:00:06.357811\n"
     ]
    },
    {
     "name": "stderr",
     "output_type": "stream",
     "text": [
      "\r",
      " 64%|███████████████████████████████████████████████████                             | 230/360 [43:35<20:35,  9.50s/it]"
     ]
    },
    {
     "name": "stdout",
     "output_type": "stream",
     "text": [
      "{'activation': 'relu', 'batch_size': 32, 'dropout': 0.5, 'epochs': 1, 'first_neuron': 1024, 'hidden_layers': 1, 'label_type': 'Angular', 'loss_function': 'mean_squared_error', 'lr': 5, 'monitor_value': 'val_custom_mae', 'optimizer': <class 'tensorflow.python.keras.optimizer_v2.adam.Adam'>, 'reduction_metric': 'custom_mae', 'samples': 20000}\n",
      "Using Loss: mean_squared_error \n",
      "and Reduction Metric: [<function custom_mae at 0x0000024C33F2FE58>]\n",
      "Monitor: val_custom_mae\n",
      "Train on 16000 samples, validate on 4000 samples\n",
      "15872/16000 [============================>.] - ETA: 0s - loss: 5229.0474 - custom_mae: 50.0716\n",
      "Epoch 00001: val_custom_mae improved from inf to 37.36343, saving model to ..\\fast_output\\SYNTH_Regression_MSE\\201019_2253_final_Angular_Base_Custom-MAE\\Best_Weights_FC_230.hdf5\n",
      "16000/16000 [==============================] - 5s 291us/sample - loss: 5221.1869 - custom_mae: 50.0196 - val_loss: 3215.8911 - val_custom_mae: 37.3634\n",
      "Time taken: 0:00:06.343172\n"
     ]
    },
    {
     "name": "stderr",
     "output_type": "stream",
     "text": [
      "\r",
      " 64%|███████████████████████████████████████████████████▎                            | 231/360 [43:43<19:31,  9.08s/it]"
     ]
    },
    {
     "name": "stdout",
     "output_type": "stream",
     "text": [
      "{'activation': 'relu', 'batch_size': 32, 'dropout': 0.5, 'epochs': 1, 'first_neuron': 1024, 'hidden_layers': 2, 'label_type': 'Angular', 'loss_function': 'mean_squared_error', 'lr': 1, 'monitor_value': 'val_custom_mae', 'optimizer': <class 'tensorflow.python.keras.optimizer_v2.adam.Adam'>, 'reduction_metric': 'custom_mae', 'samples': 20000}\n",
      "Using Loss: mean_squared_error \n",
      "and Reduction Metric: [<function custom_mae at 0x0000024C33F2FE58>]\n",
      "Monitor: val_custom_mae\n",
      "Train on 16000 samples, validate on 4000 samples\n",
      "15808/16000 [============================>.] - ETA: 0s - loss: 5115.4970 - custom_mae: 50.4509\n",
      "Epoch 00001: val_custom_mae improved from inf to 38.24343, saving model to ..\\fast_output\\SYNTH_Regression_MSE\\201019_2253_final_Angular_Base_Custom-MAE\\Best_Weights_FC_231.hdf5\n",
      "16000/16000 [==============================] - 5s 298us/sample - loss: 5102.8656 - custom_mae: 50.3678 - val_loss: 3403.1414 - val_custom_mae: 38.2434\n",
      "Time taken: 0:00:06.473408\n"
     ]
    },
    {
     "name": "stderr",
     "output_type": "stream",
     "text": [
      "\r",
      " 64%|███████████████████████████████████████████████████▌                            | 232/360 [43:51<18:51,  8.84s/it]"
     ]
    },
    {
     "name": "stdout",
     "output_type": "stream",
     "text": [
      "{'activation': 'relu', 'batch_size': 32, 'dropout': 0.5, 'epochs': 1, 'first_neuron': 1024, 'hidden_layers': 2, 'label_type': 'Angular', 'loss_function': 'mean_squared_error', 'lr': 2, 'monitor_value': 'val_custom_mae', 'optimizer': <class 'tensorflow.python.keras.optimizer_v2.adam.Adam'>, 'reduction_metric': 'custom_mae', 'samples': 20000}\n",
      "Using Loss: mean_squared_error \n",
      "and Reduction Metric: [<function custom_mae at 0x0000024C33F2FE58>]\n",
      "Monitor: val_custom_mae\n",
      "Train on 16000 samples, validate on 4000 samples\n",
      "15968/16000 [============================>.] - ETA: 0s - loss: 5492.0057 - custom_mae: 52.3641\n",
      "Epoch 00001: val_custom_mae improved from inf to 43.70722, saving model to ..\\fast_output\\SYNTH_Regression_MSE\\201019_2253_final_Angular_Base_Custom-MAE\\Best_Weights_FC_232.hdf5\n",
      "16000/16000 [==============================] - 5s 301us/sample - loss: 5490.3657 - custom_mae: 52.3492 - val_loss: 4191.2721 - val_custom_mae: 43.7072\n",
      "Time taken: 0:00:06.523616\n"
     ]
    },
    {
     "name": "stderr",
     "output_type": "stream",
     "text": [
      "\r",
      " 65%|███████████████████████████████████████████████████▊                            | 233/360 [43:59<18:22,  8.68s/it]"
     ]
    },
    {
     "name": "stdout",
     "output_type": "stream",
     "text": [
      "{'activation': 'relu', 'batch_size': 32, 'dropout': 0.5, 'epochs': 1, 'first_neuron': 1024, 'hidden_layers': 2, 'label_type': 'Angular', 'loss_function': 'mean_squared_error', 'lr': 5, 'monitor_value': 'val_custom_mae', 'optimizer': <class 'tensorflow.python.keras.optimizer_v2.adam.Adam'>, 'reduction_metric': 'custom_mae', 'samples': 20000}\n",
      "Using Loss: mean_squared_error \n",
      "and Reduction Metric: [<function custom_mae at 0x0000024C33F2FE58>]\n",
      "Monitor: val_custom_mae\n",
      "Train on 16000 samples, validate on 4000 samples\n",
      "15680/16000 [============================>.] - ETA: 0s - loss: 6432.4253 - custom_mae: 57.4139\n",
      "Epoch 00001: val_custom_mae improved from inf to 59.76551, saving model to ..\\fast_output\\SYNTH_Regression_MSE\\201019_2253_final_Angular_Base_Custom-MAE\\Best_Weights_FC_233.hdf5\n",
      "16000/16000 [==============================] - 5s 301us/sample - loss: 6419.9927 - custom_mae: 57.3478 - val_loss: 6722.0521 - val_custom_mae: 59.7655\n",
      "Time taken: 0:00:06.518733\n"
     ]
    },
    {
     "name": "stderr",
     "output_type": "stream",
     "text": [
      "\r",
      " 65%|████████████████████████████████████████████████████                            | 234/360 [44:07<17:59,  8.56s/it]"
     ]
    },
    {
     "name": "stdout",
     "output_type": "stream",
     "text": [
      "{'activation': 'relu', 'batch_size': 32, 'dropout': 0.5, 'epochs': 1, 'first_neuron': 1024, 'hidden_layers': 3, 'label_type': 'Angular', 'loss_function': 'mean_squared_error', 'lr': 1, 'monitor_value': 'val_custom_mae', 'optimizer': <class 'tensorflow.python.keras.optimizer_v2.adam.Adam'>, 'reduction_metric': 'custom_mae', 'samples': 20000}\n",
      "Using Loss: mean_squared_error \n",
      "and Reduction Metric: [<function custom_mae at 0x0000024C33F2FE58>]\n",
      "Monitor: val_custom_mae\n",
      "Train on 16000 samples, validate on 4000 samples\n",
      "15840/16000 [============================>.] - ETA: 0s - loss: 5987.8473 - custom_mae: 55.9278\n",
      "Epoch 00001: val_custom_mae improved from inf to 47.24722, saving model to ..\\fast_output\\SYNTH_Regression_MSE\\201019_2253_final_Angular_Base_Custom-MAE\\Best_Weights_FC_234.hdf5\n",
      "16000/16000 [==============================] - 5s 306us/sample - loss: 5975.5804 - custom_mae: 55.8521 - val_loss: 4206.7986 - val_custom_mae: 47.2472\n",
      "Time taken: 0:00:06.603860\n"
     ]
    },
    {
     "name": "stderr",
     "output_type": "stream",
     "text": [
      "\r",
      " 65%|████████████████████████████████████████████████████▏                           | 235/360 [44:16<17:44,  8.52s/it]"
     ]
    },
    {
     "name": "stdout",
     "output_type": "stream",
     "text": [
      "{'activation': 'relu', 'batch_size': 32, 'dropout': 0.5, 'epochs': 1, 'first_neuron': 1024, 'hidden_layers': 3, 'label_type': 'Angular', 'loss_function': 'mean_squared_error', 'lr': 2, 'monitor_value': 'val_custom_mae', 'optimizer': <class 'tensorflow.python.keras.optimizer_v2.adam.Adam'>, 'reduction_metric': 'custom_mae', 'samples': 20000}\n",
      "Using Loss: mean_squared_error \n",
      "and Reduction Metric: [<function custom_mae at 0x0000024C33F2FE58>]\n",
      "Monitor: val_custom_mae\n",
      "Train on 16000 samples, validate on 4000 samples\n",
      "15872/16000 [============================>.] - ETA: 0s - loss: 6302.3708 - custom_mae: 57.0805\n",
      "Epoch 00001: val_custom_mae improved from inf to 58.16725, saving model to ..\\fast_output\\SYNTH_Regression_MSE\\201019_2253_final_Angular_Base_Custom-MAE\\Best_Weights_FC_235.hdf5\n",
      "16000/16000 [==============================] - 5s 310us/sample - loss: 6296.6382 - custom_mae: 57.0507 - val_loss: 6467.1085 - val_custom_mae: 58.1672\n",
      "Time taken: 0:00:06.661001\n"
     ]
    },
    {
     "name": "stderr",
     "output_type": "stream",
     "text": [
      "\r",
      " 66%|████████████████████████████████████████████████████▍                           | 236/360 [44:24<17:35,  8.51s/it]"
     ]
    },
    {
     "name": "stdout",
     "output_type": "stream",
     "text": [
      "{'activation': 'relu', 'batch_size': 32, 'dropout': 0.5, 'epochs': 1, 'first_neuron': 1024, 'hidden_layers': 3, 'label_type': 'Angular', 'loss_function': 'mean_squared_error', 'lr': 5, 'monitor_value': 'val_custom_mae', 'optimizer': <class 'tensorflow.python.keras.optimizer_v2.adam.Adam'>, 'reduction_metric': 'custom_mae', 'samples': 20000}\n",
      "Using Loss: mean_squared_error \n",
      "and Reduction Metric: [<function custom_mae at 0x0000024C33F2FE58>]\n",
      "Monitor: val_custom_mae\n",
      "Train on 16000 samples, validate on 4000 samples\n",
      "15744/16000 [============================>.] - ETA: 0s - loss: 7240.3297 - custom_mae: 60.7711\n",
      "Epoch 00001: val_custom_mae improved from inf to 73.83115, saving model to ..\\fast_output\\SYNTH_Regression_MSE\\201019_2253_final_Angular_Base_Custom-MAE\\Best_Weights_FC_236.hdf5\n",
      "16000/16000 [==============================] - 5s 310us/sample - loss: 7229.3443 - custom_mae: 60.7058 - val_loss: 10648.2958 - val_custom_mae: 73.8312\n",
      "Time taken: 0:00:06.671296\n"
     ]
    },
    {
     "name": "stderr",
     "output_type": "stream",
     "text": [
      "\r",
      " 66%|████████████████████████████████████████████████████▋                           | 237/360 [44:33<17:25,  8.50s/it]"
     ]
    },
    {
     "name": "stdout",
     "output_type": "stream",
     "text": [
      "{'activation': 'relu', 'batch_size': 32, 'dropout': 0.5, 'epochs': 1, 'first_neuron': 1024, 'hidden_layers': 4, 'label_type': 'Angular', 'loss_function': 'mean_squared_error', 'lr': 1, 'monitor_value': 'val_custom_mae', 'optimizer': <class 'tensorflow.python.keras.optimizer_v2.adam.Adam'>, 'reduction_metric': 'custom_mae', 'samples': 20000}\n",
      "Using Loss: mean_squared_error \n",
      "and Reduction Metric: [<function custom_mae at 0x0000024C33F2FE58>]\n",
      "Monitor: val_custom_mae\n",
      "Train on 16000 samples, validate on 4000 samples\n",
      "15840/16000 [============================>.] - ETA: 0s - loss: 7109.7457 - custom_mae: 60.8048\n",
      "Epoch 00001: val_custom_mae improved from inf to 58.03502, saving model to ..\\fast_output\\SYNTH_Regression_MSE\\201019_2253_final_Angular_Base_Custom-MAE\\Best_Weights_FC_237.hdf5\n",
      "16000/16000 [==============================] - 5s 314us/sample - loss: 7092.7486 - custom_mae: 60.7132 - val_loss: 6390.3384 - val_custom_mae: 58.0350\n",
      "Time taken: 0:00:06.740211\n"
     ]
    },
    {
     "name": "stderr",
     "output_type": "stream",
     "text": [
      "\r",
      " 66%|████████████████████████████████████████████████████▉                           | 238/360 [44:41<17:19,  8.52s/it]"
     ]
    },
    {
     "name": "stdout",
     "output_type": "stream",
     "text": [
      "{'activation': 'relu', 'batch_size': 32, 'dropout': 0.5, 'epochs': 1, 'first_neuron': 1024, 'hidden_layers': 4, 'label_type': 'Angular', 'loss_function': 'mean_squared_error', 'lr': 2, 'monitor_value': 'val_custom_mae', 'optimizer': <class 'tensorflow.python.keras.optimizer_v2.adam.Adam'>, 'reduction_metric': 'custom_mae', 'samples': 20000}\n",
      "Using Loss: mean_squared_error \n",
      "and Reduction Metric: [<function custom_mae at 0x0000024C33F2FE58>]\n",
      "Monitor: val_custom_mae\n",
      "Train on 16000 samples, validate on 4000 samples\n",
      "15808/16000 [============================>.] - ETA: 0s - loss: 7468.2267 - custom_mae: 61.7646\n",
      "Epoch 00001: val_custom_mae improved from inf to 74.87106, saving model to ..\\fast_output\\SYNTH_Regression_MSE\\201019_2253_final_Angular_Base_Custom-MAE\\Best_Weights_FC_238.hdf5\n",
      "16000/16000 [==============================] - 5s 317us/sample - loss: 7460.4879 - custom_mae: 61.7126 - val_loss: 10858.1499 - val_custom_mae: 74.8711\n",
      "Time taken: 0:00:06.790727\n"
     ]
    },
    {
     "name": "stderr",
     "output_type": "stream",
     "text": [
      "\r",
      " 66%|█████████████████████████████████████████████████████                           | 239/360 [44:50<17:15,  8.56s/it]"
     ]
    },
    {
     "name": "stdout",
     "output_type": "stream",
     "text": [
      "{'activation': 'relu', 'batch_size': 32, 'dropout': 0.5, 'epochs': 1, 'first_neuron': 1024, 'hidden_layers': 4, 'label_type': 'Angular', 'loss_function': 'mean_squared_error', 'lr': 5, 'monitor_value': 'val_custom_mae', 'optimizer': <class 'tensorflow.python.keras.optimizer_v2.adam.Adam'>, 'reduction_metric': 'custom_mae', 'samples': 20000}\n",
      "Using Loss: mean_squared_error \n",
      "and Reduction Metric: [<function custom_mae at 0x0000024C33F2FE58>]\n",
      "Monitor: val_custom_mae\n",
      "Train on 16000 samples, validate on 4000 samples\n",
      "15744/16000 [============================>.] - ETA: 0s - loss: 8345.0455 - custom_mae: 64.9587\n",
      "Epoch 00001: val_custom_mae improved from inf to 72.95236, saving model to ..\\fast_output\\SYNTH_Regression_MSE\\201019_2253_final_Angular_Base_Custom-MAE\\Best_Weights_FC_239.hdf5\n",
      "16000/16000 [==============================] - 5s 317us/sample - loss: 8342.8847 - custom_mae: 64.9241 - val_loss: 10406.4769 - val_custom_mae: 72.9524\n",
      "Time taken: 0:00:06.786365\n"
     ]
    },
    {
     "name": "stderr",
     "output_type": "stream",
     "text": [
      "\r",
      " 67%|█████████████████████████████████████████████████████▎                          | 240/360 [44:59<17:09,  8.58s/it]"
     ]
    },
    {
     "name": "stdout",
     "output_type": "stream",
     "text": [
      "{'activation': 'relu', 'batch_size': 32, 'dropout': 0.5, 'epochs': 1, 'first_neuron': 2048, 'hidden_layers': 0, 'label_type': 'Angular', 'loss_function': 'mean_squared_error', 'lr': 1, 'monitor_value': 'val_custom_mae', 'optimizer': <class 'tensorflow.python.keras.optimizer_v2.adam.Adam'>, 'reduction_metric': 'custom_mae', 'samples': 20000}\n",
      "Using Loss: mean_squared_error \n",
      "and Reduction Metric: [<function custom_mae at 0x0000024C33F2FE58>]\n",
      "Monitor: val_custom_mae\n",
      "Train on 16000 samples, validate on 4000 samples\n",
      "15776/16000 [============================>.] - ETA: 0s - loss: 4085.7731 - custom_mae: 41.1563\n",
      "Epoch 00001: val_custom_mae improved from inf to 33.32824, saving model to ..\\fast_output\\SYNTH_Regression_MSE\\201019_2253_final_Angular_Base_Custom-MAE\\Best_Weights_FC_240.hdf5\n",
      "16000/16000 [==============================] - 7s 438us/sample - loss: 4070.5400 - custom_mae: 41.0443 - val_loss: 3096.6325 - val_custom_mae: 33.3282\n",
      "Time taken: 0:00:08.715859\n"
     ]
    },
    {
     "name": "stderr",
     "output_type": "stream",
     "text": [
      "\r",
      " 67%|█████████████████████████████████████████████████████▌                          | 241/360 [45:09<18:08,  9.14s/it]"
     ]
    },
    {
     "name": "stdout",
     "output_type": "stream",
     "text": [
      "{'activation': 'relu', 'batch_size': 32, 'dropout': 0.5, 'epochs': 1, 'first_neuron': 2048, 'hidden_layers': 0, 'label_type': 'Angular', 'loss_function': 'mean_squared_error', 'lr': 2, 'monitor_value': 'val_custom_mae', 'optimizer': <class 'tensorflow.python.keras.optimizer_v2.adam.Adam'>, 'reduction_metric': 'custom_mae', 'samples': 20000}\n",
      "Using Loss: mean_squared_error \n",
      "and Reduction Metric: [<function custom_mae at 0x0000024C33F2FE58>]\n",
      "Monitor: val_custom_mae\n",
      "Train on 16000 samples, validate on 4000 samples\n",
      "15904/16000 [============================>.] - ETA: 0s - loss: 4035.9612 - custom_mae: 41.0806\n",
      "Epoch 00001: val_custom_mae improved from inf to 33.14360, saving model to ..\\fast_output\\SYNTH_Regression_MSE\\201019_2253_final_Angular_Base_Custom-MAE\\Best_Weights_FC_241.hdf5\n",
      "16000/16000 [==============================] - 7s 435us/sample - loss: 4032.0776 - custom_mae: 41.0427 - val_loss: 3024.9279 - val_custom_mae: 33.1436\n",
      "Time taken: 0:00:08.654006\n"
     ]
    },
    {
     "name": "stderr",
     "output_type": "stream",
     "text": [
      "\r",
      " 67%|█████████████████████████████████████████████████████▊                          | 242/360 [45:20<18:42,  9.51s/it]"
     ]
    },
    {
     "name": "stdout",
     "output_type": "stream",
     "text": [
      "{'activation': 'relu', 'batch_size': 32, 'dropout': 0.5, 'epochs': 1, 'first_neuron': 2048, 'hidden_layers': 0, 'label_type': 'Angular', 'loss_function': 'mean_squared_error', 'lr': 5, 'monitor_value': 'val_custom_mae', 'optimizer': <class 'tensorflow.python.keras.optimizer_v2.adam.Adam'>, 'reduction_metric': 'custom_mae', 'samples': 20000}\n",
      "Using Loss: mean_squared_error \n",
      "and Reduction Metric: [<function custom_mae at 0x0000024C33F2FE58>]\n",
      "Monitor: val_custom_mae\n",
      "Train on 16000 samples, validate on 4000 samples\n",
      "15872/16000 [============================>.] - ETA: 0s - loss: 4209.9140 - custom_mae: 42.2078\n",
      "Epoch 00001: val_custom_mae improved from inf to 39.66708, saving model to ..\\fast_output\\SYNTH_Regression_MSE\\201019_2253_final_Angular_Base_Custom-MAE\\Best_Weights_FC_242.hdf5\n",
      "16000/16000 [==============================] - 7s 436us/sample - loss: 4201.0708 - custom_mae: 42.1521 - val_loss: 3460.8863 - val_custom_mae: 39.6671\n",
      "Time taken: 0:00:08.689612\n"
     ]
    },
    {
     "name": "stderr",
     "output_type": "stream",
     "text": [
      "\r",
      " 68%|██████████████████████████████████████████████████████                          | 243/360 [45:30<19:04,  9.78s/it]"
     ]
    },
    {
     "name": "stdout",
     "output_type": "stream",
     "text": [
      "{'activation': 'relu', 'batch_size': 32, 'dropout': 0.5, 'epochs': 1, 'first_neuron': 2048, 'hidden_layers': 1, 'label_type': 'Angular', 'loss_function': 'mean_squared_error', 'lr': 1, 'monitor_value': 'val_custom_mae', 'optimizer': <class 'tensorflow.python.keras.optimizer_v2.adam.Adam'>, 'reduction_metric': 'custom_mae', 'samples': 20000}\n",
      "Using Loss: mean_squared_error \n",
      "and Reduction Metric: [<function custom_mae at 0x0000024C33F2FE58>]\n",
      "Monitor: val_custom_mae\n",
      "Train on 16000 samples, validate on 4000 samples\n",
      "15904/16000 [============================>.] - ETA: 0s - loss: 4369.5856 - custom_mae: 44.2814\n",
      "Epoch 00001: val_custom_mae improved from inf to 35.51863, saving model to ..\\fast_output\\SYNTH_Regression_MSE\\201019_2253_final_Angular_Base_Custom-MAE\\Best_Weights_FC_243.hdf5\n",
      "16000/16000 [==============================] - 7s 446us/sample - loss: 4366.8563 - custom_mae: 44.2568 - val_loss: 3054.4419 - val_custom_mae: 35.5186\n",
      "Time taken: 0:00:08.836943\n"
     ]
    },
    {
     "name": "stderr",
     "output_type": "stream",
     "text": [
      "\r",
      " 68%|██████████████████████████████████████████████████████▏                         | 244/360 [45:41<19:22, 10.02s/it]"
     ]
    },
    {
     "name": "stdout",
     "output_type": "stream",
     "text": [
      "{'activation': 'relu', 'batch_size': 32, 'dropout': 0.5, 'epochs': 1, 'first_neuron': 2048, 'hidden_layers': 1, 'label_type': 'Angular', 'loss_function': 'mean_squared_error', 'lr': 2, 'monitor_value': 'val_custom_mae', 'optimizer': <class 'tensorflow.python.keras.optimizer_v2.adam.Adam'>, 'reduction_metric': 'custom_mae', 'samples': 20000}\n",
      "Using Loss: mean_squared_error \n",
      "and Reduction Metric: [<function custom_mae at 0x0000024C33F2FE58>]\n",
      "Monitor: val_custom_mae\n",
      "Train on 16000 samples, validate on 4000 samples\n",
      "15936/16000 [============================>.] - ETA: 0s - loss: 4560.1263 - custom_mae: 45.6753\n",
      "Epoch 00001: val_custom_mae improved from inf to 36.60612, saving model to ..\\fast_output\\SYNTH_Regression_MSE\\201019_2253_final_Angular_Base_Custom-MAE\\Best_Weights_FC_244.hdf5\n",
      "16000/16000 [==============================] - 7s 448us/sample - loss: 4557.2626 - custom_mae: 45.6515 - val_loss: 3172.0950 - val_custom_mae: 36.6061\n",
      "Time taken: 0:00:08.885752\n"
     ]
    },
    {
     "name": "stderr",
     "output_type": "stream",
     "text": [
      "\r",
      " 68%|██████████████████████████████████████████████████████▍                         | 245/360 [45:51<19:34, 10.21s/it]"
     ]
    },
    {
     "name": "stdout",
     "output_type": "stream",
     "text": [
      "{'activation': 'relu', 'batch_size': 32, 'dropout': 0.5, 'epochs': 1, 'first_neuron': 2048, 'hidden_layers': 1, 'label_type': 'Angular', 'loss_function': 'mean_squared_error', 'lr': 5, 'monitor_value': 'val_custom_mae', 'optimizer': <class 'tensorflow.python.keras.optimizer_v2.adam.Adam'>, 'reduction_metric': 'custom_mae', 'samples': 20000}\n",
      "Using Loss: mean_squared_error \n",
      "and Reduction Metric: [<function custom_mae at 0x0000024C33F2FE58>]\n",
      "Monitor: val_custom_mae\n",
      "Train on 16000 samples, validate on 4000 samples\n",
      "15904/16000 [============================>.] - ETA: 0s - loss: 5941.2235 - custom_mae: 51.1801\n",
      "Epoch 00001: val_custom_mae improved from inf to 51.14020, saving model to ..\\fast_output\\SYNTH_Regression_MSE\\201019_2253_final_Angular_Base_Custom-MAE\\Best_Weights_FC_245.hdf5\n",
      "16000/16000 [==============================] - 7s 448us/sample - loss: 5929.9732 - custom_mae: 51.1344 - val_loss: 4901.0989 - val_custom_mae: 51.1402\n",
      "Time taken: 0:00:08.870380\n"
     ]
    },
    {
     "name": "stderr",
     "output_type": "stream",
     "text": [
      "\r",
      " 68%|██████████████████████████████████████████████████████▋                         | 246/360 [46:02<19:38, 10.34s/it]"
     ]
    },
    {
     "name": "stdout",
     "output_type": "stream",
     "text": [
      "{'activation': 'relu', 'batch_size': 32, 'dropout': 0.5, 'epochs': 1, 'first_neuron': 2048, 'hidden_layers': 2, 'label_type': 'Angular', 'loss_function': 'mean_squared_error', 'lr': 1, 'monitor_value': 'val_custom_mae', 'optimizer': <class 'tensorflow.python.keras.optimizer_v2.adam.Adam'>, 'reduction_metric': 'custom_mae', 'samples': 20000}\n",
      "Using Loss: mean_squared_error \n",
      "and Reduction Metric: [<function custom_mae at 0x0000024C33F2FE58>]\n",
      "Monitor: val_custom_mae\n",
      "Train on 16000 samples, validate on 4000 samples\n",
      "15840/16000 [============================>.] - ETA: 0s - loss: 4902.5586 - custom_mae: 48.4986\n",
      "Epoch 00001: val_custom_mae improved from inf to 35.13633, saving model to ..\\fast_output\\SYNTH_Regression_MSE\\201019_2253_final_Angular_Base_Custom-MAE\\Best_Weights_FC_246.hdf5\n",
      "16000/16000 [==============================] - 7s 464us/sample - loss: 4892.9420 - custom_mae: 48.4282 - val_loss: 3121.4274 - val_custom_mae: 35.1363\n",
      "Time taken: 0:00:09.120629\n"
     ]
    },
    {
     "name": "stderr",
     "output_type": "stream",
     "text": [
      "\r",
      " 69%|██████████████████████████████████████████████████████▉                         | 247/360 [46:13<19:48, 10.52s/it]"
     ]
    },
    {
     "name": "stdout",
     "output_type": "stream",
     "text": [
      "{'activation': 'relu', 'batch_size': 32, 'dropout': 0.5, 'epochs': 1, 'first_neuron': 2048, 'hidden_layers': 2, 'label_type': 'Angular', 'loss_function': 'mean_squared_error', 'lr': 2, 'monitor_value': 'val_custom_mae', 'optimizer': <class 'tensorflow.python.keras.optimizer_v2.adam.Adam'>, 'reduction_metric': 'custom_mae', 'samples': 20000}\n",
      "Using Loss: mean_squared_error \n",
      "and Reduction Metric: [<function custom_mae at 0x0000024C33F2FE58>]\n",
      "Monitor: val_custom_mae\n",
      "Train on 16000 samples, validate on 4000 samples\n",
      "15840/16000 [============================>.] - ETA: 0s - loss: 5295.6247 - custom_mae: 50.6850\n",
      "Epoch 00001: val_custom_mae improved from inf to 40.96107, saving model to ..\\fast_output\\SYNTH_Regression_MSE\\201019_2253_final_Angular_Base_Custom-MAE\\Best_Weights_FC_247.hdf5\n",
      "16000/16000 [==============================] - 7s 456us/sample - loss: 5296.4249 - custom_mae: 50.6889 - val_loss: 4000.4950 - val_custom_mae: 40.9611\n",
      "Time taken: 0:00:08.994624\n"
     ]
    },
    {
     "name": "stderr",
     "output_type": "stream",
     "text": [
      "\r",
      " 69%|███████████████████████████████████████████████████████                         | 248/360 [46:24<19:46, 10.59s/it]"
     ]
    },
    {
     "name": "stdout",
     "output_type": "stream",
     "text": [
      "{'activation': 'relu', 'batch_size': 32, 'dropout': 0.5, 'epochs': 1, 'first_neuron': 2048, 'hidden_layers': 2, 'label_type': 'Angular', 'loss_function': 'mean_squared_error', 'lr': 5, 'monitor_value': 'val_custom_mae', 'optimizer': <class 'tensorflow.python.keras.optimizer_v2.adam.Adam'>, 'reduction_metric': 'custom_mae', 'samples': 20000}\n",
      "Using Loss: mean_squared_error \n",
      "and Reduction Metric: [<function custom_mae at 0x0000024C33F2FE58>]\n",
      "Monitor: val_custom_mae\n",
      "Train on 16000 samples, validate on 4000 samples\n",
      "15904/16000 [============================>.] - ETA: 0s - loss: 6813.0944 - custom_mae: 57.0288\n",
      "Epoch 00001: val_custom_mae improved from inf to 58.47555, saving model to ..\\fast_output\\SYNTH_Regression_MSE\\201019_2253_final_Angular_Base_Custom-MAE\\Best_Weights_FC_248.hdf5\n",
      "16000/16000 [==============================] - 7s 465us/sample - loss: 6807.7334 - custom_mae: 57.0110 - val_loss: 6589.9789 - val_custom_mae: 58.4756\n",
      "Time taken: 0:00:09.141501\n"
     ]
    },
    {
     "name": "stderr",
     "output_type": "stream",
     "text": [
      "\r",
      " 69%|███████████████████████████████████████████████████████▎                        | 249/360 [46:34<19:47, 10.69s/it]"
     ]
    },
    {
     "name": "stdout",
     "output_type": "stream",
     "text": [
      "{'activation': 'relu', 'batch_size': 32, 'dropout': 0.5, 'epochs': 1, 'first_neuron': 2048, 'hidden_layers': 3, 'label_type': 'Angular', 'loss_function': 'mean_squared_error', 'lr': 1, 'monitor_value': 'val_custom_mae', 'optimizer': <class 'tensorflow.python.keras.optimizer_v2.adam.Adam'>, 'reduction_metric': 'custom_mae', 'samples': 20000}\n",
      "Using Loss: mean_squared_error \n",
      "and Reduction Metric: [<function custom_mae at 0x0000024C33F2FE58>]\n",
      "Monitor: val_custom_mae\n",
      "Train on 16000 samples, validate on 4000 samples\n",
      "15808/16000 [============================>.] - ETA: 0s - loss: 5635.9993 - custom_mae: 54.1009\n",
      "Epoch 00001: val_custom_mae improved from inf to 39.92019, saving model to ..\\fast_output\\SYNTH_Regression_MSE\\201019_2253_final_Angular_Base_Custom-MAE\\Best_Weights_FC_249.hdf5\n",
      "16000/16000 [==============================] - 7s 466us/sample - loss: 5623.6641 - custom_mae: 54.0177 - val_loss: 3379.0954 - val_custom_mae: 39.9202\n",
      "Time taken: 0:00:09.141258\n"
     ]
    },
    {
     "name": "stderr",
     "output_type": "stream",
     "text": [
      "\r",
      " 69%|███████████████████████████████████████████████████████▌                        | 250/360 [46:45<19:44, 10.77s/it]"
     ]
    },
    {
     "name": "stdout",
     "output_type": "stream",
     "text": [
      "{'activation': 'relu', 'batch_size': 32, 'dropout': 0.5, 'epochs': 1, 'first_neuron': 2048, 'hidden_layers': 3, 'label_type': 'Angular', 'loss_function': 'mean_squared_error', 'lr': 2, 'monitor_value': 'val_custom_mae', 'optimizer': <class 'tensorflow.python.keras.optimizer_v2.adam.Adam'>, 'reduction_metric': 'custom_mae', 'samples': 20000}\n",
      "Using Loss: mean_squared_error \n",
      "and Reduction Metric: [<function custom_mae at 0x0000024C33F2FE58>]\n",
      "Monitor: val_custom_mae\n",
      "Train on 16000 samples, validate on 4000 samples\n",
      "15776/16000 [============================>.] - ETA: 0s - loss: 6080.8769 - custom_mae: 56.0961\n",
      "Epoch 00001: val_custom_mae improved from inf to 47.56312, saving model to ..\\fast_output\\SYNTH_Regression_MSE\\201019_2253_final_Angular_Base_Custom-MAE\\Best_Weights_FC_250.hdf5\n",
      "16000/16000 [==============================] - 7s 466us/sample - loss: 6069.2960 - custom_mae: 56.0186 - val_loss: 4250.2960 - val_custom_mae: 47.5631\n",
      "Time taken: 0:00:09.160391\n"
     ]
    },
    {
     "name": "stderr",
     "output_type": "stream",
     "text": [
      "\r",
      " 70%|███████████████████████████████████████████████████████▊                        | 251/360 [46:56<19:40, 10.83s/it]"
     ]
    },
    {
     "name": "stdout",
     "output_type": "stream",
     "text": [
      "{'activation': 'relu', 'batch_size': 32, 'dropout': 0.5, 'epochs': 1, 'first_neuron': 2048, 'hidden_layers': 3, 'label_type': 'Angular', 'loss_function': 'mean_squared_error', 'lr': 5, 'monitor_value': 'val_custom_mae', 'optimizer': <class 'tensorflow.python.keras.optimizer_v2.adam.Adam'>, 'reduction_metric': 'custom_mae', 'samples': 20000}\n",
      "Using Loss: mean_squared_error \n",
      "and Reduction Metric: [<function custom_mae at 0x0000024C33F2FE58>]\n",
      "Monitor: val_custom_mae\n",
      "Train on 16000 samples, validate on 4000 samples\n",
      "15776/16000 [============================>.] - ETA: 0s - loss: 7533.3305 - custom_mae: 61.1606\n",
      "Epoch 00001: val_custom_mae improved from inf to 58.91094, saving model to ..\\fast_output\\SYNTH_Regression_MSE\\201019_2253_final_Angular_Base_Custom-MAE\\Best_Weights_FC_251.hdf5\n",
      "16000/16000 [==============================] - 8s 473us/sample - loss: 7515.8056 - custom_mae: 61.0824 - val_loss: 6579.4402 - val_custom_mae: 58.9109\n",
      "Time taken: 0:00:09.287885\n"
     ]
    },
    {
     "name": "stderr",
     "output_type": "stream",
     "text": [
      "\r",
      " 70%|████████████████████████████████████████████████████████                        | 252/360 [47:07<19:38, 10.91s/it]"
     ]
    },
    {
     "name": "stdout",
     "output_type": "stream",
     "text": [
      "{'activation': 'relu', 'batch_size': 32, 'dropout': 0.5, 'epochs': 1, 'first_neuron': 2048, 'hidden_layers': 4, 'label_type': 'Angular', 'loss_function': 'mean_squared_error', 'lr': 1, 'monitor_value': 'val_custom_mae', 'optimizer': <class 'tensorflow.python.keras.optimizer_v2.adam.Adam'>, 'reduction_metric': 'custom_mae', 'samples': 20000}\n",
      "Using Loss: mean_squared_error \n",
      "and Reduction Metric: [<function custom_mae at 0x0000024C33F2FE58>]\n",
      "Monitor: val_custom_mae\n",
      "Train on 16000 samples, validate on 4000 samples\n",
      "15936/16000 [============================>.] - ETA: 0s - loss: 6372.2294 - custom_mae: 57.7464\n",
      "Epoch 00001: val_custom_mae improved from inf to 48.90617, saving model to ..\\fast_output\\SYNTH_Regression_MSE\\201019_2253_final_Angular_Base_Custom-MAE\\Best_Weights_FC_252.hdf5\n",
      "16000/16000 [==============================] - 8s 473us/sample - loss: 6371.2006 - custom_mae: 57.7270 - val_loss: 4408.2843 - val_custom_mae: 48.9062\n",
      "Time taken: 0:00:09.267929\n"
     ]
    },
    {
     "name": "stderr",
     "output_type": "stream",
     "text": [
      "\r",
      " 70%|████████████████████████████████████████████████████████▏                       | 253/360 [47:19<19:33, 10.97s/it]"
     ]
    },
    {
     "name": "stdout",
     "output_type": "stream",
     "text": [
      "{'activation': 'relu', 'batch_size': 32, 'dropout': 0.5, 'epochs': 1, 'first_neuron': 2048, 'hidden_layers': 4, 'label_type': 'Angular', 'loss_function': 'mean_squared_error', 'lr': 2, 'monitor_value': 'val_custom_mae', 'optimizer': <class 'tensorflow.python.keras.optimizer_v2.adam.Adam'>, 'reduction_metric': 'custom_mae', 'samples': 20000}\n",
      "Using Loss: mean_squared_error \n",
      "and Reduction Metric: [<function custom_mae at 0x0000024C33F2FE58>]\n",
      "Monitor: val_custom_mae\n",
      "Train on 16000 samples, validate on 4000 samples\n",
      "15936/16000 [============================>.] - ETA: 0s - loss: 6913.0695 - custom_mae: 59.4757\n",
      "Epoch 00001: val_custom_mae improved from inf to 66.47246, saving model to ..\\fast_output\\SYNTH_Regression_MSE\\201019_2253_final_Angular_Base_Custom-MAE\\Best_Weights_FC_253.hdf5\n",
      "16000/16000 [==============================] - 8s 477us/sample - loss: 6911.0873 - custom_mae: 59.4595 - val_loss: 8529.3751 - val_custom_mae: 66.4725\n",
      "Time taken: 0:00:09.338131\n"
     ]
    },
    {
     "name": "stderr",
     "output_type": "stream",
     "text": [
      "\r",
      " 71%|████████████████████████████████████████████████████████▍                       | 254/360 [47:30<19:29, 11.03s/it]"
     ]
    },
    {
     "name": "stdout",
     "output_type": "stream",
     "text": [
      "{'activation': 'relu', 'batch_size': 32, 'dropout': 0.5, 'epochs': 1, 'first_neuron': 2048, 'hidden_layers': 4, 'label_type': 'Angular', 'loss_function': 'mean_squared_error', 'lr': 5, 'monitor_value': 'val_custom_mae', 'optimizer': <class 'tensorflow.python.keras.optimizer_v2.adam.Adam'>, 'reduction_metric': 'custom_mae', 'samples': 20000}\n",
      "Using Loss: mean_squared_error \n",
      "and Reduction Metric: [<function custom_mae at 0x0000024C33F2FE58>]\n",
      "Monitor: val_custom_mae\n",
      "Train on 16000 samples, validate on 4000 samples\n",
      "15872/16000 [============================>.] - ETA: 0s - loss: 8578.3162 - custom_mae: 65.4912\n",
      "Epoch 00001: val_custom_mae improved from inf to 67.32246, saving model to ..\\fast_output\\SYNTH_Regression_MSE\\201019_2253_final_Angular_Base_Custom-MAE\\Best_Weights_FC_254.hdf5\n",
      "16000/16000 [==============================] - 8s 470us/sample - loss: 8568.9773 - custom_mae: 65.4433 - val_loss: 8614.3005 - val_custom_mae: 67.3225\n",
      "Time taken: 0:00:09.235034\n"
     ]
    },
    {
     "name": "stderr",
     "output_type": "stream",
     "text": [
      "\r",
      " 71%|████████████████████████████████████████████████████████▋                       | 255/360 [47:41<19:19, 11.04s/it]"
     ]
    },
    {
     "name": "stdout",
     "output_type": "stream",
     "text": [
      "{'activation': 'relu', 'batch_size': 32, 'dropout': 0.5, 'epochs': 1, 'first_neuron': 4096, 'hidden_layers': 0, 'label_type': 'Angular', 'loss_function': 'mean_squared_error', 'lr': 1, 'monitor_value': 'val_custom_mae', 'optimizer': <class 'tensorflow.python.keras.optimizer_v2.adam.Adam'>, 'reduction_metric': 'custom_mae', 'samples': 20000}\n",
      "Using Loss: mean_squared_error \n",
      "and Reduction Metric: [<function custom_mae at 0x0000024C33F2FE58>]\n",
      "Monitor: val_custom_mae\n",
      "Train on 16000 samples, validate on 4000 samples\n",
      "15968/16000 [============================>.] - ETA: 0s - loss: 3962.4343 - custom_mae: 40.3240\n",
      "Epoch 00001: val_custom_mae improved from inf to 32.62877, saving model to ..\\fast_output\\SYNTH_Regression_MSE\\201019_2253_final_Angular_Base_Custom-MAE\\Best_Weights_FC_255.hdf5\n",
      "16000/16000 [==============================] - 12s 749us/sample - loss: 3961.0528 - custom_mae: 40.3053 - val_loss: 2974.0507 - val_custom_mae: 32.6288\n",
      "Time taken: 0:00:13.684953\n"
     ]
    },
    {
     "name": "stderr",
     "output_type": "stream",
     "text": [
      "\r",
      " 71%|████████████████████████████████████████████████████████▉                       | 256/360 [47:56<21:25, 12.36s/it]"
     ]
    },
    {
     "name": "stdout",
     "output_type": "stream",
     "text": [
      "{'activation': 'relu', 'batch_size': 32, 'dropout': 0.5, 'epochs': 1, 'first_neuron': 4096, 'hidden_layers': 0, 'label_type': 'Angular', 'loss_function': 'mean_squared_error', 'lr': 2, 'monitor_value': 'val_custom_mae', 'optimizer': <class 'tensorflow.python.keras.optimizer_v2.adam.Adam'>, 'reduction_metric': 'custom_mae', 'samples': 20000}\n",
      "Using Loss: mean_squared_error \n",
      "and Reduction Metric: [<function custom_mae at 0x0000024C33F2FE58>]\n",
      "Monitor: val_custom_mae\n",
      "Train on 16000 samples, validate on 4000 samples\n",
      "15872/16000 [============================>.] - ETA: 0s - loss: 3997.8059 - custom_mae: 40.3889\n",
      "Epoch 00001: val_custom_mae improved from inf to 31.31821, saving model to ..\\fast_output\\SYNTH_Regression_MSE\\201019_2253_final_Angular_Base_Custom-MAE\\Best_Weights_FC_256.hdf5\n",
      "16000/16000 [==============================] - 12s 737us/sample - loss: 3988.2159 - custom_mae: 40.3097 - val_loss: 2835.0946 - val_custom_mae: 31.3182\n",
      "Time taken: 0:00:13.482990\n"
     ]
    },
    {
     "name": "stderr",
     "output_type": "stream",
     "text": [
      "\r",
      " 71%|█████████████████████████████████████████████████████████                       | 257/360 [48:11<22:41, 13.22s/it]"
     ]
    },
    {
     "name": "stdout",
     "output_type": "stream",
     "text": [
      "{'activation': 'relu', 'batch_size': 32, 'dropout': 0.5, 'epochs': 1, 'first_neuron': 4096, 'hidden_layers': 0, 'label_type': 'Angular', 'loss_function': 'mean_squared_error', 'lr': 5, 'monitor_value': 'val_custom_mae', 'optimizer': <class 'tensorflow.python.keras.optimizer_v2.adam.Adam'>, 'reduction_metric': 'custom_mae', 'samples': 20000}\n",
      "Using Loss: mean_squared_error \n",
      "and Reduction Metric: [<function custom_mae at 0x0000024C33F2FE58>]\n",
      "Monitor: val_custom_mae\n",
      "Train on 16000 samples, validate on 4000 samples\n",
      "15904/16000 [============================>.] - ETA: 0s - loss: 4410.7336 - custom_mae: 42.8223\n",
      "Epoch 00001: val_custom_mae improved from inf to 33.54447, saving model to ..\\fast_output\\SYNTH_Regression_MSE\\201019_2253_final_Angular_Base_Custom-MAE\\Best_Weights_FC_257.hdf5\n",
      "16000/16000 [==============================] - 12s 743us/sample - loss: 4405.6081 - custom_mae: 42.7851 - val_loss: 2980.2702 - val_custom_mae: 33.5445\n",
      "Time taken: 0:00:13.600818\n"
     ]
    },
    {
     "name": "stderr",
     "output_type": "stream",
     "text": [
      "\r",
      " 72%|█████████████████████████████████████████████████████████▎                      | 258/360 [48:27<23:33, 13.86s/it]"
     ]
    },
    {
     "name": "stdout",
     "output_type": "stream",
     "text": [
      "{'activation': 'relu', 'batch_size': 32, 'dropout': 0.5, 'epochs': 1, 'first_neuron': 4096, 'hidden_layers': 1, 'label_type': 'Angular', 'loss_function': 'mean_squared_error', 'lr': 1, 'monitor_value': 'val_custom_mae', 'optimizer': <class 'tensorflow.python.keras.optimizer_v2.adam.Adam'>, 'reduction_metric': 'custom_mae', 'samples': 20000}\n",
      "Using Loss: mean_squared_error \n",
      "and Reduction Metric: [<function custom_mae at 0x0000024C33F2FE58>]\n",
      "Monitor: val_custom_mae\n",
      "Train on 16000 samples, validate on 4000 samples\n",
      "15904/16000 [============================>.] - ETA: 0s - loss: 4260.6275 - custom_mae: 43.2194\n",
      "Epoch 00001: val_custom_mae improved from inf to 33.92975, saving model to ..\\fast_output\\SYNTH_Regression_MSE\\201019_2253_final_Angular_Base_Custom-MAE\\Best_Weights_FC_258.hdf5\n",
      "16000/16000 [==============================] - 13s 786us/sample - loss: 4254.0690 - custom_mae: 43.1618 - val_loss: 2949.8290 - val_custom_mae: 33.9298\n",
      "Time taken: 0:00:14.274876\n"
     ]
    },
    {
     "name": "stderr",
     "output_type": "stream",
     "text": [
      "\r",
      " 72%|█████████████████████████████████████████████████████████▌                      | 259/360 [48:43<24:25, 14.51s/it]"
     ]
    },
    {
     "name": "stdout",
     "output_type": "stream",
     "text": [
      "{'activation': 'relu', 'batch_size': 32, 'dropout': 0.5, 'epochs': 1, 'first_neuron': 4096, 'hidden_layers': 1, 'label_type': 'Angular', 'loss_function': 'mean_squared_error', 'lr': 2, 'monitor_value': 'val_custom_mae', 'optimizer': <class 'tensorflow.python.keras.optimizer_v2.adam.Adam'>, 'reduction_metric': 'custom_mae', 'samples': 20000}\n",
      "Using Loss: mean_squared_error \n",
      "and Reduction Metric: [<function custom_mae at 0x0000024C33F2FE58>]\n",
      "Monitor: val_custom_mae\n",
      "Train on 16000 samples, validate on 4000 samples\n",
      "15968/16000 [============================>.] - ETA: 0s - loss: 4623.1414 - custom_mae: 44.9656\n",
      "Epoch 00001: val_custom_mae improved from inf to 33.73399, saving model to ..\\fast_output\\SYNTH_Regression_MSE\\201019_2253_final_Angular_Base_Custom-MAE\\Best_Weights_FC_259.hdf5\n",
      "16000/16000 [==============================] - 13s 790us/sample - loss: 4621.5814 - custom_mae: 44.9466 - val_loss: 2922.8608 - val_custom_mae: 33.7340\n",
      "Time taken: 0:00:14.335972\n"
     ]
    },
    {
     "name": "stderr",
     "output_type": "stream",
     "text": [
      "\r",
      " 72%|█████████████████████████████████████████████████████████▊                      | 260/360 [48:59<24:59, 14.99s/it]"
     ]
    },
    {
     "name": "stdout",
     "output_type": "stream",
     "text": [
      "{'activation': 'relu', 'batch_size': 32, 'dropout': 0.5, 'epochs': 1, 'first_neuron': 4096, 'hidden_layers': 1, 'label_type': 'Angular', 'loss_function': 'mean_squared_error', 'lr': 5, 'monitor_value': 'val_custom_mae', 'optimizer': <class 'tensorflow.python.keras.optimizer_v2.adam.Adam'>, 'reduction_metric': 'custom_mae', 'samples': 20000}\n",
      "Using Loss: mean_squared_error \n",
      "and Reduction Metric: [<function custom_mae at 0x0000024C33F2FE58>]\n",
      "Monitor: val_custom_mae\n",
      "Train on 16000 samples, validate on 4000 samples\n",
      "15904/16000 [============================>.] - ETA: 0s - loss: 10857.0393 - custom_mae: 52.0231\n",
      "Epoch 00001: val_custom_mae improved from inf to 45.41511, saving model to ..\\fast_output\\SYNTH_Regression_MSE\\201019_2253_final_Angular_Base_Custom-MAE\\Best_Weights_FC_260.hdf5\n",
      "16000/16000 [==============================] - 13s 790us/sample - loss: 10817.9337 - custom_mae: 51.9662 - val_loss: 4348.7599 - val_custom_mae: 45.4151\n",
      "Time taken: 0:00:14.350384\n"
     ]
    },
    {
     "name": "stderr",
     "output_type": "stream",
     "text": [
      "\r",
      " 72%|██████████████████████████████████████████████████████████                      | 261/360 [49:15<25:17, 15.33s/it]"
     ]
    },
    {
     "name": "stdout",
     "output_type": "stream",
     "text": [
      "{'activation': 'relu', 'batch_size': 32, 'dropout': 0.5, 'epochs': 1, 'first_neuron': 4096, 'hidden_layers': 2, 'label_type': 'Angular', 'loss_function': 'mean_squared_error', 'lr': 1, 'monitor_value': 'val_custom_mae', 'optimizer': <class 'tensorflow.python.keras.optimizer_v2.adam.Adam'>, 'reduction_metric': 'custom_mae', 'samples': 20000}\n",
      "Using Loss: mean_squared_error \n",
      "and Reduction Metric: [<function custom_mae at 0x0000024C33F2FE58>]\n",
      "Monitor: val_custom_mae\n",
      "Train on 16000 samples, validate on 4000 samples\n",
      "15904/16000 [============================>.] - ETA: 0s - loss: 4869.0858 - custom_mae: 47.7272\n",
      "Epoch 00001: val_custom_mae improved from inf to 35.43383, saving model to ..\\fast_output\\SYNTH_Regression_MSE\\201019_2253_final_Angular_Base_Custom-MAE\\Best_Weights_FC_261.hdf5\n",
      "16000/16000 [==============================] - 13s 808us/sample - loss: 4861.2878 - custom_mae: 47.6688 - val_loss: 3150.1474 - val_custom_mae: 35.4338\n",
      "Time taken: 0:00:14.615017\n"
     ]
    },
    {
     "name": "stderr",
     "output_type": "stream",
     "text": [
      "\r",
      " 73%|██████████████████████████████████████████████████████████▏                     | 262/360 [49:32<25:34, 15.65s/it]"
     ]
    },
    {
     "name": "stdout",
     "output_type": "stream",
     "text": [
      "{'activation': 'relu', 'batch_size': 32, 'dropout': 0.5, 'epochs': 1, 'first_neuron': 4096, 'hidden_layers': 2, 'label_type': 'Angular', 'loss_function': 'mean_squared_error', 'lr': 2, 'monitor_value': 'val_custom_mae', 'optimizer': <class 'tensorflow.python.keras.optimizer_v2.adam.Adam'>, 'reduction_metric': 'custom_mae', 'samples': 20000}\n",
      "Using Loss: mean_squared_error \n",
      "and Reduction Metric: [<function custom_mae at 0x0000024C33F2FE58>]\n",
      "Monitor: val_custom_mae\n",
      "Train on 16000 samples, validate on 4000 samples\n",
      "15872/16000 [============================>.] - ETA: 0s - loss: 5364.6836 - custom_mae: 50.7999\n",
      "Epoch 00001: val_custom_mae improved from inf to 36.57384, saving model to ..\\fast_output\\SYNTH_Regression_MSE\\201019_2253_final_Angular_Base_Custom-MAE\\Best_Weights_FC_262.hdf5\n",
      "16000/16000 [==============================] - 13s 808us/sample - loss: 5359.1474 - custom_mae: 50.7608 - val_loss: 3212.7754 - val_custom_mae: 36.5738\n",
      "Time taken: 0:00:14.629250\n"
     ]
    },
    {
     "name": "stderr",
     "output_type": "stream",
     "text": [
      "\r",
      " 73%|██████████████████████████████████████████████████████████▍                     | 263/360 [49:48<25:40, 15.89s/it]"
     ]
    },
    {
     "name": "stdout",
     "output_type": "stream",
     "text": [
      "{'activation': 'relu', 'batch_size': 32, 'dropout': 0.5, 'epochs': 1, 'first_neuron': 4096, 'hidden_layers': 2, 'label_type': 'Angular', 'loss_function': 'mean_squared_error', 'lr': 5, 'monitor_value': 'val_custom_mae', 'optimizer': <class 'tensorflow.python.keras.optimizer_v2.adam.Adam'>, 'reduction_metric': 'custom_mae', 'samples': 20000}\n",
      "Using Loss: mean_squared_error \n",
      "and Reduction Metric: [<function custom_mae at 0x0000024C33F2FE58>]\n",
      "Monitor: val_custom_mae\n",
      "Train on 16000 samples, validate on 4000 samples\n",
      "15968/16000 [============================>.] - ETA: 0s - loss: 29602.3806 - custom_mae: 61.9590\n",
      "Epoch 00001: val_custom_mae improved from inf to 45.44830, saving model to ..\\fast_output\\SYNTH_Regression_MSE\\201019_2253_final_Angular_Base_Custom-MAE\\Best_Weights_FC_263.hdf5\n",
      "16000/16000 [==============================] - 13s 810us/sample - loss: 29552.4828 - custom_mae: 61.9306 - val_loss: 4119.9163 - val_custom_mae: 45.4483\n",
      "Time taken: 0:00:14.659547\n"
     ]
    },
    {
     "name": "stderr",
     "output_type": "stream",
     "text": [
      "\r",
      " 73%|██████████████████████████████████████████████████████████▋                     | 264/360 [50:04<25:41, 16.06s/it]"
     ]
    },
    {
     "name": "stdout",
     "output_type": "stream",
     "text": [
      "{'activation': 'relu', 'batch_size': 32, 'dropout': 0.5, 'epochs': 1, 'first_neuron': 4096, 'hidden_layers': 3, 'label_type': 'Angular', 'loss_function': 'mean_squared_error', 'lr': 1, 'monitor_value': 'val_custom_mae', 'optimizer': <class 'tensorflow.python.keras.optimizer_v2.adam.Adam'>, 'reduction_metric': 'custom_mae', 'samples': 20000}\n",
      "Using Loss: mean_squared_error \n",
      "and Reduction Metric: [<function custom_mae at 0x0000024C33F2FE58>]\n",
      "Monitor: val_custom_mae\n",
      "Train on 16000 samples, validate on 4000 samples\n",
      "15904/16000 [============================>.] - ETA: 0s - loss: 5388.4146 - custom_mae: 52.4973\n",
      "Epoch 00001: val_custom_mae improved from inf to 37.77021, saving model to ..\\fast_output\\SYNTH_Regression_MSE\\201019_2253_final_Angular_Base_Custom-MAE\\Best_Weights_FC_264.hdf5\n",
      "16000/16000 [==============================] - 13s 818us/sample - loss: 5383.6868 - custom_mae: 52.4513 - val_loss: 3367.4755 - val_custom_mae: 37.7702\n",
      "Time taken: 0:00:14.778449\n"
     ]
    },
    {
     "name": "stderr",
     "output_type": "stream",
     "text": [
      "\r",
      " 74%|██████████████████████████████████████████████████████████▉                     | 265/360 [50:21<25:40, 16.22s/it]"
     ]
    },
    {
     "name": "stdout",
     "output_type": "stream",
     "text": [
      "{'activation': 'relu', 'batch_size': 32, 'dropout': 0.5, 'epochs': 1, 'first_neuron': 4096, 'hidden_layers': 3, 'label_type': 'Angular', 'loss_function': 'mean_squared_error', 'lr': 2, 'monitor_value': 'val_custom_mae', 'optimizer': <class 'tensorflow.python.keras.optimizer_v2.adam.Adam'>, 'reduction_metric': 'custom_mae', 'samples': 20000}\n",
      "Using Loss: mean_squared_error \n",
      "and Reduction Metric: [<function custom_mae at 0x0000024C33F2FE58>]\n",
      "Monitor: val_custom_mae\n",
      "Train on 16000 samples, validate on 4000 samples\n",
      "15968/16000 [============================>.] - ETA: 0s - loss: 6111.0124 - custom_mae: 56.2847\n",
      "Epoch 00001: val_custom_mae improved from inf to 47.30154, saving model to ..\\fast_output\\SYNTH_Regression_MSE\\201019_2253_final_Angular_Base_Custom-MAE\\Best_Weights_FC_265.hdf5\n",
      "16000/16000 [==============================] - 13s 820us/sample - loss: 6107.8397 - custom_mae: 56.2629 - val_loss: 4286.1794 - val_custom_mae: 47.3015\n",
      "Time taken: 0:00:14.821241\n"
     ]
    },
    {
     "name": "stderr",
     "output_type": "stream",
     "text": [
      "\r",
      " 74%|███████████████████████████████████████████████████████████                     | 266/360 [50:38<25:37, 16.35s/it]"
     ]
    },
    {
     "name": "stdout",
     "output_type": "stream",
     "text": [
      "{'activation': 'relu', 'batch_size': 32, 'dropout': 0.5, 'epochs': 1, 'first_neuron': 4096, 'hidden_layers': 3, 'label_type': 'Angular', 'loss_function': 'mean_squared_error', 'lr': 5, 'monitor_value': 'val_custom_mae', 'optimizer': <class 'tensorflow.python.keras.optimizer_v2.adam.Adam'>, 'reduction_metric': 'custom_mae', 'samples': 20000}\n",
      "Using Loss: mean_squared_error \n",
      "and Reduction Metric: [<function custom_mae at 0x0000024C33F2FE58>]\n",
      "Monitor: val_custom_mae\n",
      "Train on 16000 samples, validate on 4000 samples\n",
      "15904/16000 [============================>.] - ETA: 0s - loss: 19186.5401 - custom_mae: 65.6344\n",
      "Epoch 00001: val_custom_mae improved from inf to 70.67081, saving model to ..\\fast_output\\SYNTH_Regression_MSE\\201019_2253_final_Angular_Base_Custom-MAE\\Best_Weights_FC_266.hdf5\n",
      "16000/16000 [==============================] - 13s 815us/sample - loss: 19132.9246 - custom_mae: 65.6252 - val_loss: 9557.6991 - val_custom_mae: 70.6708\n",
      "Time taken: 0:00:14.741678\n"
     ]
    },
    {
     "name": "stderr",
     "output_type": "stream",
     "text": [
      "\r",
      " 74%|███████████████████████████████████████████████████████████▎                    | 267/360 [50:54<25:26, 16.41s/it]"
     ]
    },
    {
     "name": "stdout",
     "output_type": "stream",
     "text": [
      "{'activation': 'relu', 'batch_size': 32, 'dropout': 0.5, 'epochs': 1, 'first_neuron': 4096, 'hidden_layers': 4, 'label_type': 'Angular', 'loss_function': 'mean_squared_error', 'lr': 1, 'monitor_value': 'val_custom_mae', 'optimizer': <class 'tensorflow.python.keras.optimizer_v2.adam.Adam'>, 'reduction_metric': 'custom_mae', 'samples': 20000}\n",
      "Using Loss: mean_squared_error \n",
      "and Reduction Metric: [<function custom_mae at 0x0000024C33F2FE58>]\n",
      "Monitor: val_custom_mae\n",
      "Train on 16000 samples, validate on 4000 samples\n",
      "15904/16000 [============================>.] - ETA: 0s - loss: 5912.5341 - custom_mae: 55.4790\n",
      "Epoch 00001: val_custom_mae improved from inf to 46.98455, saving model to ..\\fast_output\\SYNTH_Regression_MSE\\201019_2253_final_Angular_Base_Custom-MAE\\Best_Weights_FC_267.hdf5\n",
      "16000/16000 [==============================] - 13s 823us/sample - loss: 5909.2833 - custom_mae: 55.4553 - val_loss: 4180.5555 - val_custom_mae: 46.9845\n",
      "Time taken: 0:00:14.881997\n"
     ]
    },
    {
     "name": "stderr",
     "output_type": "stream",
     "text": [
      "\r",
      " 74%|███████████████████████████████████████████████████████████▌                    | 268/360 [51:11<25:18, 16.50s/it]"
     ]
    },
    {
     "name": "stdout",
     "output_type": "stream",
     "text": [
      "{'activation': 'relu', 'batch_size': 32, 'dropout': 0.5, 'epochs': 1, 'first_neuron': 4096, 'hidden_layers': 4, 'label_type': 'Angular', 'loss_function': 'mean_squared_error', 'lr': 2, 'monitor_value': 'val_custom_mae', 'optimizer': <class 'tensorflow.python.keras.optimizer_v2.adam.Adam'>, 'reduction_metric': 'custom_mae', 'samples': 20000}\n",
      "Using Loss: mean_squared_error \n",
      "and Reduction Metric: [<function custom_mae at 0x0000024C33F2FE58>]\n",
      "Monitor: val_custom_mae\n",
      "Train on 16000 samples, validate on 4000 samples\n",
      "15872/16000 [============================>.] - ETA: 0s - loss: 6763.5540 - custom_mae: 58.9166\n",
      "Epoch 00001: val_custom_mae improved from inf to 51.12586, saving model to ..\\fast_output\\SYNTH_Regression_MSE\\201019_2253_final_Angular_Base_Custom-MAE\\Best_Weights_FC_268.hdf5\n",
      "16000/16000 [==============================] - 13s 823us/sample - loss: 6756.9521 - custom_mae: 58.8883 - val_loss: 4942.2622 - val_custom_mae: 51.1259\n",
      "Time taken: 0:00:14.876785\n"
     ]
    },
    {
     "name": "stderr",
     "output_type": "stream",
     "text": [
      "\r",
      " 75%|███████████████████████████████████████████████████████████▊                    | 269/360 [51:28<25:08, 16.57s/it]"
     ]
    },
    {
     "name": "stdout",
     "output_type": "stream",
     "text": [
      "{'activation': 'relu', 'batch_size': 32, 'dropout': 0.5, 'epochs': 1, 'first_neuron': 4096, 'hidden_layers': 4, 'label_type': 'Angular', 'loss_function': 'mean_squared_error', 'lr': 5, 'monitor_value': 'val_custom_mae', 'optimizer': <class 'tensorflow.python.keras.optimizer_v2.adam.Adam'>, 'reduction_metric': 'custom_mae', 'samples': 20000}\n",
      "Using Loss: mean_squared_error \n",
      "and Reduction Metric: [<function custom_mae at 0x0000024C33F2FE58>]\n",
      "Monitor: val_custom_mae\n",
      "Train on 16000 samples, validate on 4000 samples\n",
      "15872/16000 [============================>.] - ETA: 0s - loss: 13813.8941 - custom_mae: 68.6560\n",
      "Epoch 00001: val_custom_mae improved from inf to 71.64916, saving model to ..\\fast_output\\SYNTH_Regression_MSE\\201019_2253_final_Angular_Base_Custom-MAE\\Best_Weights_FC_269.hdf5\n",
      "16000/16000 [==============================] - 13s 829us/sample - loss: 13764.2823 - custom_mae: 68.6079 - val_loss: 10017.4972 - val_custom_mae: 71.6492\n",
      "Time taken: 0:00:14.952268\n"
     ]
    },
    {
     "name": "stderr",
     "output_type": "stream",
     "text": [
      "\r",
      " 75%|████████████████████████████████████████████████████████████                    | 270/360 [51:44<24:57, 16.64s/it]"
     ]
    },
    {
     "name": "stdout",
     "output_type": "stream",
     "text": [
      "{'activation': 'relu', 'batch_size': 64, 'dropout': 0.25, 'epochs': 1, 'first_neuron': 1024, 'hidden_layers': 0, 'label_type': 'Angular', 'loss_function': 'mean_squared_error', 'lr': 1, 'monitor_value': 'val_custom_mae', 'optimizer': <class 'tensorflow.python.keras.optimizer_v2.adam.Adam'>, 'reduction_metric': 'custom_mae', 'samples': 20000}\n",
      "Using Loss: mean_squared_error \n",
      "and Reduction Metric: [<function custom_mae at 0x0000024C33F2FE58>]\n",
      "Monitor: val_custom_mae\n",
      "Train on 16000 samples, validate on 3968 samples\n",
      "15872/16000 [============================>.] - ETA: 0s - loss: 4542.8724 - custom_mae: 44.2455\n",
      "Epoch 00001: val_custom_mae improved from inf to 36.12953, saving model to ..\\fast_output\\SYNTH_Regression_MSE\\201019_2253_final_Angular_Base_Custom-MAE\\Best_Weights_FC_270.hdf5\n",
      "16000/16000 [==============================] - 3s 218us/sample - loss: 4530.3155 - custom_mae: 44.1596 - val_loss: 3427.9956 - val_custom_mae: 36.1295\n",
      "Time taken: 0:00:05.251672\n"
     ]
    },
    {
     "name": "stderr",
     "output_type": "stream",
     "text": [
      "\r",
      " 75%|████████████████████████████████████████████████████████████▏                   | 271/360 [51:55<22:04, 14.88s/it]"
     ]
    },
    {
     "name": "stdout",
     "output_type": "stream",
     "text": [
      "{'activation': 'relu', 'batch_size': 64, 'dropout': 0.25, 'epochs': 1, 'first_neuron': 1024, 'hidden_layers': 0, 'label_type': 'Angular', 'loss_function': 'mean_squared_error', 'lr': 2, 'monitor_value': 'val_custom_mae', 'optimizer': <class 'tensorflow.python.keras.optimizer_v2.adam.Adam'>, 'reduction_metric': 'custom_mae', 'samples': 20000}\n",
      "Using Loss: mean_squared_error \n",
      "and Reduction Metric: [<function custom_mae at 0x0000024C33F2FE58>]\n",
      "Monitor: val_custom_mae\n",
      "Train on 16000 samples, validate on 3968 samples\n",
      "15936/16000 [============================>.] - ETA: 0s - loss: 4099.1696 - custom_mae: 41.2228\n",
      "Epoch 00001: val_custom_mae improved from inf to 32.68595, saving model to ..\\fast_output\\SYNTH_Regression_MSE\\201019_2253_final_Angular_Base_Custom-MAE\\Best_Weights_FC_271.hdf5\n",
      "16000/16000 [==============================] - 3s 216us/sample - loss: 4093.9624 - custom_mae: 41.1768 - val_loss: 2935.1453 - val_custom_mae: 32.6859\n",
      "Time taken: 0:00:05.156825\n"
     ]
    },
    {
     "name": "stderr",
     "output_type": "stream",
     "text": [
      "\r",
      " 76%|████████████████████████████████████████████████████████████▍                   | 272/360 [52:02<18:18, 12.48s/it]"
     ]
    },
    {
     "name": "stdout",
     "output_type": "stream",
     "text": [
      "{'activation': 'relu', 'batch_size': 64, 'dropout': 0.25, 'epochs': 1, 'first_neuron': 1024, 'hidden_layers': 0, 'label_type': 'Angular', 'loss_function': 'mean_squared_error', 'lr': 5, 'monitor_value': 'val_custom_mae', 'optimizer': <class 'tensorflow.python.keras.optimizer_v2.adam.Adam'>, 'reduction_metric': 'custom_mae', 'samples': 20000}\n",
      "Using Loss: mean_squared_error \n",
      "and Reduction Metric: [<function custom_mae at 0x0000024C33F2FE58>]\n",
      "Monitor: val_custom_mae\n",
      "Train on 16000 samples, validate on 3968 samples\n",
      "15808/16000 [============================>.] - ETA: 0s - loss: 3776.7081 - custom_mae: 39.0342\n",
      "Epoch 00001: val_custom_mae improved from inf to 30.97345, saving model to ..\\fast_output\\SYNTH_Regression_MSE\\201019_2253_final_Angular_Base_Custom-MAE\\Best_Weights_FC_272.hdf5\n",
      "16000/16000 [==============================] - 3s 216us/sample - loss: 3759.7414 - custom_mae: 38.9118 - val_loss: 2707.1441 - val_custom_mae: 30.9734\n",
      "Time taken: 0:00:05.160458\n"
     ]
    },
    {
     "name": "stderr",
     "output_type": "stream",
     "text": [
      "\r",
      " 76%|████████████████████████████████████████████████████████████▋                   | 273/360 [52:09<15:39, 10.80s/it]"
     ]
    },
    {
     "name": "stdout",
     "output_type": "stream",
     "text": [
      "{'activation': 'relu', 'batch_size': 64, 'dropout': 0.25, 'epochs': 1, 'first_neuron': 1024, 'hidden_layers': 1, 'label_type': 'Angular', 'loss_function': 'mean_squared_error', 'lr': 1, 'monitor_value': 'val_custom_mae', 'optimizer': <class 'tensorflow.python.keras.optimizer_v2.adam.Adam'>, 'reduction_metric': 'custom_mae', 'samples': 20000}\n",
      "Using Loss: mean_squared_error \n",
      "and Reduction Metric: [<function custom_mae at 0x0000024C33F2FE58>]\n",
      "Monitor: val_custom_mae\n",
      "Train on 16000 samples, validate on 3968 samples\n",
      "15808/16000 [============================>.] - ETA: 0s - loss: 4484.0905 - custom_mae: 44.4844\n",
      "Epoch 00001: val_custom_mae improved from inf to 33.15471, saving model to ..\\fast_output\\SYNTH_Regression_MSE\\201019_2253_final_Angular_Base_Custom-MAE\\Best_Weights_FC_273.hdf5\n",
      "16000/16000 [==============================] - 4s 224us/sample - loss: 4462.9203 - custom_mae: 44.3352 - val_loss: 2994.4300 - val_custom_mae: 33.1547\n",
      "Time taken: 0:00:05.288473\n"
     ]
    },
    {
     "name": "stderr",
     "output_type": "stream",
     "text": [
      "\r",
      " 76%|████████████████████████████████████████████████████████████▉                   | 274/360 [52:16<13:51,  9.67s/it]"
     ]
    },
    {
     "name": "stdout",
     "output_type": "stream",
     "text": [
      "{'activation': 'relu', 'batch_size': 64, 'dropout': 0.25, 'epochs': 1, 'first_neuron': 1024, 'hidden_layers': 1, 'label_type': 'Angular', 'loss_function': 'mean_squared_error', 'lr': 2, 'monitor_value': 'val_custom_mae', 'optimizer': <class 'tensorflow.python.keras.optimizer_v2.adam.Adam'>, 'reduction_metric': 'custom_mae', 'samples': 20000}\n",
      "Using Loss: mean_squared_error \n",
      "and Reduction Metric: [<function custom_mae at 0x0000024C33F2FE58>]\n",
      "Monitor: val_custom_mae\n",
      "Train on 16000 samples, validate on 3968 samples\n",
      "15936/16000 [============================>.] - ETA: 0s - loss: 4024.0537 - custom_mae: 41.4323\n",
      "Epoch 00001: val_custom_mae improved from inf to 31.82212, saving model to ..\\fast_output\\SYNTH_Regression_MSE\\201019_2253_final_Angular_Base_Custom-MAE\\Best_Weights_FC_274.hdf5\n",
      "16000/16000 [==============================] - 4s 222us/sample - loss: 4021.0068 - custom_mae: 41.4045 - val_loss: 2882.7346 - val_custom_mae: 31.8221\n",
      "Time taken: 0:00:05.211481\n"
     ]
    },
    {
     "name": "stderr",
     "output_type": "stream",
     "text": [
      "\r",
      " 76%|█████████████████████████████████████████████████████████████                   | 275/360 [52:23<12:33,  8.86s/it]"
     ]
    },
    {
     "name": "stdout",
     "output_type": "stream",
     "text": [
      "{'activation': 'relu', 'batch_size': 64, 'dropout': 0.25, 'epochs': 1, 'first_neuron': 1024, 'hidden_layers': 1, 'label_type': 'Angular', 'loss_function': 'mean_squared_error', 'lr': 5, 'monitor_value': 'val_custom_mae', 'optimizer': <class 'tensorflow.python.keras.optimizer_v2.adam.Adam'>, 'reduction_metric': 'custom_mae', 'samples': 20000}\n",
      "Using Loss: mean_squared_error \n",
      "and Reduction Metric: [<function custom_mae at 0x0000024C33F2FE58>]\n",
      "Monitor: val_custom_mae\n",
      "Train on 16000 samples, validate on 3968 samples\n",
      "15552/16000 [============================>.] - ETA: 0s - loss: 4790.6518 - custom_mae: 46.1148\n",
      "Epoch 00001: val_custom_mae improved from inf to 32.16419, saving model to ..\\fast_output\\SYNTH_Regression_MSE\\201019_2253_final_Angular_Base_Custom-MAE\\Best_Weights_FC_275.hdf5\n",
      "16000/16000 [==============================] - 4s 225us/sample - loss: 4730.7033 - custom_mae: 45.7338 - val_loss: 2832.8555 - val_custom_mae: 32.1642\n",
      "Time taken: 0:00:05.293749\n"
     ]
    },
    {
     "name": "stderr",
     "output_type": "stream",
     "text": [
      "\r",
      " 77%|█████████████████████████████████████████████████████████████▎                  | 276/360 [52:30<11:38,  8.31s/it]"
     ]
    },
    {
     "name": "stdout",
     "output_type": "stream",
     "text": [
      "{'activation': 'relu', 'batch_size': 64, 'dropout': 0.25, 'epochs': 1, 'first_neuron': 1024, 'hidden_layers': 2, 'label_type': 'Angular', 'loss_function': 'mean_squared_error', 'lr': 1, 'monitor_value': 'val_custom_mae', 'optimizer': <class 'tensorflow.python.keras.optimizer_v2.adam.Adam'>, 'reduction_metric': 'custom_mae', 'samples': 20000}\n",
      "Using Loss: mean_squared_error \n",
      "and Reduction Metric: [<function custom_mae at 0x0000024C33F2FE58>]\n",
      "Monitor: val_custom_mae\n",
      "Train on 16000 samples, validate on 3968 samples\n",
      "15488/16000 [============================>.] - ETA: 0s - loss: 4769.8563 - custom_mae: 47.1028\n",
      "Epoch 00001: val_custom_mae improved from inf to 33.42461, saving model to ..\\fast_output\\SYNTH_Regression_MSE\\201019_2253_final_Angular_Base_Custom-MAE\\Best_Weights_FC_276.hdf5\n",
      "16000/16000 [==============================] - 4s 229us/sample - loss: 4704.2249 - custom_mae: 46.6937 - val_loss: 2978.4913 - val_custom_mae: 33.4246\n",
      "Time taken: 0:00:05.372449\n"
     ]
    },
    {
     "name": "stderr",
     "output_type": "stream",
     "text": [
      "\r",
      " 77%|█████████████████████████████████████████████████████████████▌                  | 277/360 [52:37<11:00,  7.96s/it]"
     ]
    },
    {
     "name": "stdout",
     "output_type": "stream",
     "text": [
      "{'activation': 'relu', 'batch_size': 64, 'dropout': 0.25, 'epochs': 1, 'first_neuron': 1024, 'hidden_layers': 2, 'label_type': 'Angular', 'loss_function': 'mean_squared_error', 'lr': 2, 'monitor_value': 'val_custom_mae', 'optimizer': <class 'tensorflow.python.keras.optimizer_v2.adam.Adam'>, 'reduction_metric': 'custom_mae', 'samples': 20000}\n",
      "Using Loss: mean_squared_error \n",
      "and Reduction Metric: [<function custom_mae at 0x0000024C33F2FE58>]\n",
      "Monitor: val_custom_mae\n",
      "Train on 16000 samples, validate on 3968 samples\n",
      "15616/16000 [============================>.] - ETA: 0s - loss: 4295.5326 - custom_mae: 43.9603\n",
      "Epoch 00001: val_custom_mae improved from inf to 30.77509, saving model to ..\\fast_output\\SYNTH_Regression_MSE\\201019_2253_final_Angular_Base_Custom-MAE\\Best_Weights_FC_277.hdf5\n",
      "16000/16000 [==============================] - 4s 230us/sample - loss: 4250.5952 - custom_mae: 43.6742 - val_loss: 2645.0401 - val_custom_mae: 30.7751\n",
      "Time taken: 0:00:05.368389\n"
     ]
    },
    {
     "name": "stderr",
     "output_type": "stream",
     "text": [
      "\r",
      " 77%|█████████████████████████████████████████████████████████████▊                  | 278/360 [52:44<10:32,  7.72s/it]"
     ]
    },
    {
     "name": "stdout",
     "output_type": "stream",
     "text": [
      "{'activation': 'relu', 'batch_size': 64, 'dropout': 0.25, 'epochs': 1, 'first_neuron': 1024, 'hidden_layers': 2, 'label_type': 'Angular', 'loss_function': 'mean_squared_error', 'lr': 5, 'monitor_value': 'val_custom_mae', 'optimizer': <class 'tensorflow.python.keras.optimizer_v2.adam.Adam'>, 'reduction_metric': 'custom_mae', 'samples': 20000}\n",
      "Using Loss: mean_squared_error \n",
      "and Reduction Metric: [<function custom_mae at 0x0000024C33F2FE58>]\n",
      "Monitor: val_custom_mae\n",
      "Train on 16000 samples, validate on 3968 samples\n",
      "15872/16000 [============================>.] - ETA: 0s - loss: 5088.1919 - custom_mae: 49.1906\n",
      "Epoch 00001: val_custom_mae improved from inf to 33.95818, saving model to ..\\fast_output\\SYNTH_Regression_MSE\\201019_2253_final_Angular_Base_Custom-MAE\\Best_Weights_FC_278.hdf5\n",
      "16000/16000 [==============================] - 4s 230us/sample - loss: 5078.6707 - custom_mae: 49.1359 - val_loss: 2898.9859 - val_custom_mae: 33.9582\n",
      "Time taken: 0:00:05.377011\n"
     ]
    },
    {
     "name": "stderr",
     "output_type": "stream",
     "text": [
      "\r",
      " 78%|██████████████████████████████████████████████████████████████                  | 279/360 [52:51<10:11,  7.55s/it]"
     ]
    },
    {
     "name": "stdout",
     "output_type": "stream",
     "text": [
      "{'activation': 'relu', 'batch_size': 64, 'dropout': 0.25, 'epochs': 1, 'first_neuron': 1024, 'hidden_layers': 3, 'label_type': 'Angular', 'loss_function': 'mean_squared_error', 'lr': 1, 'monitor_value': 'val_custom_mae', 'optimizer': <class 'tensorflow.python.keras.optimizer_v2.adam.Adam'>, 'reduction_metric': 'custom_mae', 'samples': 20000}\n",
      "Using Loss: mean_squared_error \n",
      "and Reduction Metric: [<function custom_mae at 0x0000024C33F2FE58>]\n",
      "Monitor: val_custom_mae\n",
      "Train on 16000 samples, validate on 3968 samples\n",
      "15872/16000 [============================>.] - ETA: 0s - loss: 5054.7474 - custom_mae: 49.6362\n",
      "Epoch 00001: val_custom_mae improved from inf to 35.21363, saving model to ..\\fast_output\\SYNTH_Regression_MSE\\201019_2253_final_Angular_Base_Custom-MAE\\Best_Weights_FC_279.hdf5\n",
      "16000/16000 [==============================] - 4s 237us/sample - loss: 5039.6416 - custom_mae: 49.5323 - val_loss: 3158.1099 - val_custom_mae: 35.2136\n",
      "Time taken: 0:00:05.491387\n"
     ]
    },
    {
     "name": "stderr",
     "output_type": "stream",
     "text": [
      "\r",
      " 78%|██████████████████████████████████████████████████████████████▏                 | 280/360 [52:59<09:57,  7.47s/it]"
     ]
    },
    {
     "name": "stdout",
     "output_type": "stream",
     "text": [
      "{'activation': 'relu', 'batch_size': 64, 'dropout': 0.25, 'epochs': 1, 'first_neuron': 1024, 'hidden_layers': 3, 'label_type': 'Angular', 'loss_function': 'mean_squared_error', 'lr': 2, 'monitor_value': 'val_custom_mae', 'optimizer': <class 'tensorflow.python.keras.optimizer_v2.adam.Adam'>, 'reduction_metric': 'custom_mae', 'samples': 20000}\n",
      "Using Loss: mean_squared_error \n",
      "and Reduction Metric: [<function custom_mae at 0x0000024C33F2FE58>]\n",
      "Monitor: val_custom_mae\n",
      "Train on 16000 samples, validate on 3968 samples\n",
      "15808/16000 [============================>.] - ETA: 0s - loss: 4719.8517 - custom_mae: 47.6403\n",
      "Epoch 00001: val_custom_mae improved from inf to 38.32652, saving model to ..\\fast_output\\SYNTH_Regression_MSE\\201019_2253_final_Angular_Base_Custom-MAE\\Best_Weights_FC_280.hdf5\n",
      "16000/16000 [==============================] - 4s 237us/sample - loss: 4703.6742 - custom_mae: 47.5270 - val_loss: 3109.0390 - val_custom_mae: 38.3265\n",
      "Time taken: 0:00:05.491574\n"
     ]
    },
    {
     "name": "stderr",
     "output_type": "stream",
     "text": [
      "\r",
      " 78%|██████████████████████████████████████████████████████████████▍                 | 281/360 [53:06<09:45,  7.42s/it]"
     ]
    },
    {
     "name": "stdout",
     "output_type": "stream",
     "text": [
      "{'activation': 'relu', 'batch_size': 64, 'dropout': 0.25, 'epochs': 1, 'first_neuron': 1024, 'hidden_layers': 3, 'label_type': 'Angular', 'loss_function': 'mean_squared_error', 'lr': 5, 'monitor_value': 'val_custom_mae', 'optimizer': <class 'tensorflow.python.keras.optimizer_v2.adam.Adam'>, 'reduction_metric': 'custom_mae', 'samples': 20000}\n",
      "Using Loss: mean_squared_error \n",
      "and Reduction Metric: [<function custom_mae at 0x0000024C33F2FE58>]\n",
      "Monitor: val_custom_mae\n",
      "Train on 16000 samples, validate on 3968 samples\n",
      "15872/16000 [============================>.] - ETA: 0s - loss: 5725.9688 - custom_mae: 54.1184\n",
      "Epoch 00001: val_custom_mae improved from inf to 50.87614, saving model to ..\\fast_output\\SYNTH_Regression_MSE\\201019_2253_final_Angular_Base_Custom-MAE\\Best_Weights_FC_281.hdf5\n",
      "16000/16000 [==============================] - 4s 234us/sample - loss: 5719.0137 - custom_mae: 54.0811 - val_loss: 4767.7349 - val_custom_mae: 50.8761\n",
      "Time taken: 0:00:05.406108\n"
     ]
    },
    {
     "name": "stderr",
     "output_type": "stream",
     "text": [
      "\r",
      " 78%|██████████████████████████████████████████████████████████████▋                 | 282/360 [53:13<09:33,  7.36s/it]"
     ]
    },
    {
     "name": "stdout",
     "output_type": "stream",
     "text": [
      "{'activation': 'relu', 'batch_size': 64, 'dropout': 0.25, 'epochs': 1, 'first_neuron': 1024, 'hidden_layers': 4, 'label_type': 'Angular', 'loss_function': 'mean_squared_error', 'lr': 1, 'monitor_value': 'val_custom_mae', 'optimizer': <class 'tensorflow.python.keras.optimizer_v2.adam.Adam'>, 'reduction_metric': 'custom_mae', 'samples': 20000}\n",
      "Using Loss: mean_squared_error \n",
      "and Reduction Metric: [<function custom_mae at 0x0000024C33F2FE58>]\n",
      "Monitor: val_custom_mae\n",
      "Train on 16000 samples, validate on 3968 samples\n",
      "15808/16000 [============================>.] - ETA: 0s - loss: 5716.3091 - custom_mae: 54.2217\n",
      "Epoch 00001: val_custom_mae improved from inf to 39.13733, saving model to ..\\fast_output\\SYNTH_Regression_MSE\\201019_2253_final_Angular_Base_Custom-MAE\\Best_Weights_FC_282.hdf5\n",
      "16000/16000 [==============================] - 4s 241us/sample - loss: 5692.5825 - custom_mae: 54.0627 - val_loss: 3436.7879 - val_custom_mae: 39.1373\n",
      "Time taken: 0:00:05.587412\n"
     ]
    },
    {
     "name": "stderr",
     "output_type": "stream",
     "text": [
      "\r",
      " 79%|██████████████████████████████████████████████████████████████▉                 | 283/360 [53:21<09:28,  7.38s/it]"
     ]
    },
    {
     "name": "stdout",
     "output_type": "stream",
     "text": [
      "{'activation': 'relu', 'batch_size': 64, 'dropout': 0.25, 'epochs': 1, 'first_neuron': 1024, 'hidden_layers': 4, 'label_type': 'Angular', 'loss_function': 'mean_squared_error', 'lr': 2, 'monitor_value': 'val_custom_mae', 'optimizer': <class 'tensorflow.python.keras.optimizer_v2.adam.Adam'>, 'reduction_metric': 'custom_mae', 'samples': 20000}\n",
      "Using Loss: mean_squared_error \n",
      "and Reduction Metric: [<function custom_mae at 0x0000024C33F2FE58>]\n",
      "Monitor: val_custom_mae\n",
      "Train on 16000 samples, validate on 3968 samples\n",
      "15808/16000 [============================>.] - ETA: 0s - loss: 5289.2895 - custom_mae: 52.0674\n",
      "Epoch 00001: val_custom_mae improved from inf to 34.77889, saving model to ..\\fast_output\\SYNTH_Regression_MSE\\201019_2253_final_Angular_Base_Custom-MAE\\Best_Weights_FC_283.hdf5\n",
      "16000/16000 [==============================] - 4s 242us/sample - loss: 5268.1355 - custom_mae: 51.9267 - val_loss: 2916.7894 - val_custom_mae: 34.7789\n",
      "Time taken: 0:00:05.575053\n"
     ]
    },
    {
     "name": "stderr",
     "output_type": "stream",
     "text": [
      "\r",
      " 79%|███████████████████████████████████████████████████████████████                 | 284/360 [53:28<09:21,  7.39s/it]"
     ]
    },
    {
     "name": "stdout",
     "output_type": "stream",
     "text": [
      "{'activation': 'relu', 'batch_size': 64, 'dropout': 0.25, 'epochs': 1, 'first_neuron': 1024, 'hidden_layers': 4, 'label_type': 'Angular', 'loss_function': 'mean_squared_error', 'lr': 5, 'monitor_value': 'val_custom_mae', 'optimizer': <class 'tensorflow.python.keras.optimizer_v2.adam.Adam'>, 'reduction_metric': 'custom_mae', 'samples': 20000}\n",
      "Using Loss: mean_squared_error \n",
      "and Reduction Metric: [<function custom_mae at 0x0000024C33F2FE58>]\n",
      "Monitor: val_custom_mae\n",
      "Train on 16000 samples, validate on 3968 samples\n",
      "15808/16000 [============================>.] - ETA: 0s - loss: 7264.2493 - custom_mae: 58.9386\n",
      "Epoch 00001: val_custom_mae improved from inf to 48.68827, saving model to ..\\fast_output\\SYNTH_Regression_MSE\\201019_2253_final_Angular_Base_Custom-MAE\\Best_Weights_FC_284.hdf5\n",
      "16000/16000 [==============================] - 4s 245us/sample - loss: 7225.0711 - custom_mae: 58.7792 - val_loss: 4429.9029 - val_custom_mae: 48.6883\n",
      "Time taken: 0:00:05.615413\n"
     ]
    },
    {
     "name": "stderr",
     "output_type": "stream",
     "text": [
      "\r",
      " 79%|███████████████████████████████████████████████████████████████▎                | 285/360 [53:36<09:15,  7.41s/it]"
     ]
    },
    {
     "name": "stdout",
     "output_type": "stream",
     "text": [
      "{'activation': 'relu', 'batch_size': 64, 'dropout': 0.25, 'epochs': 1, 'first_neuron': 2048, 'hidden_layers': 0, 'label_type': 'Angular', 'loss_function': 'mean_squared_error', 'lr': 1, 'monitor_value': 'val_custom_mae', 'optimizer': <class 'tensorflow.python.keras.optimizer_v2.adam.Adam'>, 'reduction_metric': 'custom_mae', 'samples': 20000}\n",
      "Using Loss: mean_squared_error \n",
      "and Reduction Metric: [<function custom_mae at 0x0000024C33F2FE58>]\n",
      "Monitor: val_custom_mae\n",
      "Train on 16000 samples, validate on 3968 samples\n",
      "15808/16000 [============================>.] - ETA: 0s - loss: 4312.1521 - custom_mae: 42.0348\n",
      "Epoch 00001: val_custom_mae improved from inf to 34.47733, saving model to ..\\fast_output\\SYNTH_Regression_MSE\\201019_2253_final_Angular_Base_Custom-MAE\\Best_Weights_FC_285.hdf5\n",
      "16000/16000 [==============================] - 5s 335us/sample - loss: 4294.9479 - custom_mae: 41.9188 - val_loss: 3285.1809 - val_custom_mae: 34.4773\n",
      "Time taken: 0:00:07.051520\n"
     ]
    },
    {
     "name": "stderr",
     "output_type": "stream",
     "text": [
      "\r",
      " 79%|███████████████████████████████████████████████████████████████▌                | 286/360 [53:44<09:39,  7.83s/it]"
     ]
    },
    {
     "name": "stdout",
     "output_type": "stream",
     "text": [
      "{'activation': 'relu', 'batch_size': 64, 'dropout': 0.25, 'epochs': 1, 'first_neuron': 2048, 'hidden_layers': 0, 'label_type': 'Angular', 'loss_function': 'mean_squared_error', 'lr': 2, 'monitor_value': 'val_custom_mae', 'optimizer': <class 'tensorflow.python.keras.optimizer_v2.adam.Adam'>, 'reduction_metric': 'custom_mae', 'samples': 20000}\n",
      "Using Loss: mean_squared_error \n",
      "and Reduction Metric: [<function custom_mae at 0x0000024C33F2FE58>]\n",
      "Monitor: val_custom_mae\n",
      "Train on 16000 samples, validate on 3968 samples\n",
      "15680/16000 [============================>.] - ETA: 0s - loss: 3941.4738 - custom_mae: 39.8950\n",
      "Epoch 00001: val_custom_mae improved from inf to 31.06955, saving model to ..\\fast_output\\SYNTH_Regression_MSE\\201019_2253_final_Angular_Base_Custom-MAE\\Best_Weights_FC_286.hdf5\n",
      "16000/16000 [==============================] - 5s 334us/sample - loss: 3912.3627 - custom_mae: 39.7149 - val_loss: 2781.6562 - val_custom_mae: 31.0696\n",
      "Time taken: 0:00:07.026405\n"
     ]
    },
    {
     "name": "stderr",
     "output_type": "stream",
     "text": [
      "\r",
      " 80%|███████████████████████████████████████████████████████████████▊                | 287/360 [53:53<09:51,  8.11s/it]"
     ]
    },
    {
     "name": "stdout",
     "output_type": "stream",
     "text": [
      "{'activation': 'relu', 'batch_size': 64, 'dropout': 0.25, 'epochs': 1, 'first_neuron': 2048, 'hidden_layers': 0, 'label_type': 'Angular', 'loss_function': 'mean_squared_error', 'lr': 5, 'monitor_value': 'val_custom_mae', 'optimizer': <class 'tensorflow.python.keras.optimizer_v2.adam.Adam'>, 'reduction_metric': 'custom_mae', 'samples': 20000}\n",
      "Using Loss: mean_squared_error \n",
      "and Reduction Metric: [<function custom_mae at 0x0000024C33F2FE58>]\n",
      "Monitor: val_custom_mae\n",
      "Train on 16000 samples, validate on 3968 samples\n",
      "15808/16000 [============================>.] - ETA: 0s - loss: 4039.9789 - custom_mae: 40.5132\n",
      "Epoch 00001: val_custom_mae improved from inf to 30.80821, saving model to ..\\fast_output\\SYNTH_Regression_MSE\\201019_2253_final_Angular_Base_Custom-MAE\\Best_Weights_FC_287.hdf5\n",
      "16000/16000 [==============================] - 5s 333us/sample - loss: 4020.4229 - custom_mae: 40.3784 - val_loss: 2621.5154 - val_custom_mae: 30.8082\n",
      "Time taken: 0:00:07.040140\n"
     ]
    },
    {
     "name": "stderr",
     "output_type": "stream",
     "text": [
      "\r",
      " 80%|████████████████████████████████████████████████████████████████                | 288/360 [54:02<09:57,  8.30s/it]"
     ]
    },
    {
     "name": "stdout",
     "output_type": "stream",
     "text": [
      "{'activation': 'relu', 'batch_size': 64, 'dropout': 0.25, 'epochs': 1, 'first_neuron': 2048, 'hidden_layers': 1, 'label_type': 'Angular', 'loss_function': 'mean_squared_error', 'lr': 1, 'monitor_value': 'val_custom_mae', 'optimizer': <class 'tensorflow.python.keras.optimizer_v2.adam.Adam'>, 'reduction_metric': 'custom_mae', 'samples': 20000}\n",
      "Using Loss: mean_squared_error \n",
      "and Reduction Metric: [<function custom_mae at 0x0000024C33F2FE58>]\n",
      "Monitor: val_custom_mae\n",
      "Train on 16000 samples, validate on 3968 samples\n",
      "15808/16000 [============================>.] - ETA: 0s - loss: 4116.8321 - custom_mae: 41.8450\n",
      "Epoch 00001: val_custom_mae improved from inf to 30.85837, saving model to ..\\fast_output\\SYNTH_Regression_MSE\\201019_2253_final_Angular_Base_Custom-MAE\\Best_Weights_FC_288.hdf5\n",
      "16000/16000 [==============================] - 5s 344us/sample - loss: 4096.4298 - custom_mae: 41.6972 - val_loss: 2739.0537 - val_custom_mae: 30.8584\n",
      "Time taken: 0:00:07.185770\n"
     ]
    },
    {
     "name": "stderr",
     "output_type": "stream",
     "text": [
      "\r",
      " 80%|████████████████████████████████████████████████████████████████▏               | 289/360 [54:11<10:03,  8.50s/it]"
     ]
    },
    {
     "name": "stdout",
     "output_type": "stream",
     "text": [
      "{'activation': 'relu', 'batch_size': 64, 'dropout': 0.25, 'epochs': 1, 'first_neuron': 2048, 'hidden_layers': 1, 'label_type': 'Angular', 'loss_function': 'mean_squared_error', 'lr': 2, 'monitor_value': 'val_custom_mae', 'optimizer': <class 'tensorflow.python.keras.optimizer_v2.adam.Adam'>, 'reduction_metric': 'custom_mae', 'samples': 20000}\n",
      "Using Loss: mean_squared_error \n",
      "and Reduction Metric: [<function custom_mae at 0x0000024C33F2FE58>]\n",
      "Monitor: val_custom_mae\n",
      "Train on 16000 samples, validate on 3968 samples\n",
      "15808/16000 [============================>.] - ETA: 0s - loss: 3854.0083 - custom_mae: 40.2497\n",
      "Epoch 00001: val_custom_mae improved from inf to 29.45223, saving model to ..\\fast_output\\SYNTH_Regression_MSE\\201019_2253_final_Angular_Base_Custom-MAE\\Best_Weights_FC_289.hdf5\n",
      "16000/16000 [==============================] - 5s 341us/sample - loss: 3837.2856 - custom_mae: 40.1209 - val_loss: 2624.0883 - val_custom_mae: 29.4522\n",
      "Time taken: 0:00:07.146573\n"
     ]
    },
    {
     "name": "stderr",
     "output_type": "stream",
     "text": [
      "\r",
      " 81%|████████████████████████████████████████████████████████████████▍               | 290/360 [54:20<10:03,  8.62s/it]"
     ]
    },
    {
     "name": "stdout",
     "output_type": "stream",
     "text": [
      "{'activation': 'relu', 'batch_size': 64, 'dropout': 0.25, 'epochs': 1, 'first_neuron': 2048, 'hidden_layers': 1, 'label_type': 'Angular', 'loss_function': 'mean_squared_error', 'lr': 5, 'monitor_value': 'val_custom_mae', 'optimizer': <class 'tensorflow.python.keras.optimizer_v2.adam.Adam'>, 'reduction_metric': 'custom_mae', 'samples': 20000}\n",
      "Using Loss: mean_squared_error \n",
      "and Reduction Metric: [<function custom_mae at 0x0000024C33F2FE58>]\n",
      "Monitor: val_custom_mae\n",
      "Train on 16000 samples, validate on 3968 samples\n",
      "15936/16000 [============================>.] - ETA: 0s - loss: 6516.8604 - custom_mae: 48.0000\n",
      "Epoch 00001: val_custom_mae improved from inf to 33.46371, saving model to ..\\fast_output\\SYNTH_Regression_MSE\\201019_2253_final_Angular_Base_Custom-MAE\\Best_Weights_FC_290.hdf5\n",
      "16000/16000 [==============================] - 6s 345us/sample - loss: 6503.1255 - custom_mae: 47.9419 - val_loss: 2861.5685 - val_custom_mae: 33.4637\n",
      "Time taken: 0:00:07.209815\n"
     ]
    },
    {
     "name": "stderr",
     "output_type": "stream",
     "text": [
      "\r",
      " 81%|████████████████████████████████████████████████████████████████▋               | 291/360 [54:29<10:02,  8.73s/it]"
     ]
    },
    {
     "name": "stdout",
     "output_type": "stream",
     "text": [
      "{'activation': 'relu', 'batch_size': 64, 'dropout': 0.25, 'epochs': 1, 'first_neuron': 2048, 'hidden_layers': 2, 'label_type': 'Angular', 'loss_function': 'mean_squared_error', 'lr': 1, 'monitor_value': 'val_custom_mae', 'optimizer': <class 'tensorflow.python.keras.optimizer_v2.adam.Adam'>, 'reduction_metric': 'custom_mae', 'samples': 20000}\n",
      "Using Loss: mean_squared_error \n",
      "and Reduction Metric: [<function custom_mae at 0x0000024C33F2FE58>]\n",
      "Monitor: val_custom_mae\n",
      "Train on 16000 samples, validate on 3968 samples\n",
      "15808/16000 [============================>.] - ETA: 0s - loss: 4628.6710 - custom_mae: 45.9876\n",
      "Epoch 00001: val_custom_mae improved from inf to 32.73486, saving model to ..\\fast_output\\SYNTH_Regression_MSE\\201019_2253_final_Angular_Base_Custom-MAE\\Best_Weights_FC_291.hdf5\n",
      "16000/16000 [==============================] - 6s 350us/sample - loss: 4605.1027 - custom_mae: 45.8152 - val_loss: 2926.8846 - val_custom_mae: 32.7349\n",
      "Time taken: 0:00:07.298786\n"
     ]
    },
    {
     "name": "stderr",
     "output_type": "stream",
     "text": [
      "\r",
      " 81%|████████████████████████████████████████████████████████████████▉               | 292/360 [54:38<10:00,  8.83s/it]"
     ]
    },
    {
     "name": "stdout",
     "output_type": "stream",
     "text": [
      "{'activation': 'relu', 'batch_size': 64, 'dropout': 0.25, 'epochs': 1, 'first_neuron': 2048, 'hidden_layers': 2, 'label_type': 'Angular', 'loss_function': 'mean_squared_error', 'lr': 2, 'monitor_value': 'val_custom_mae', 'optimizer': <class 'tensorflow.python.keras.optimizer_v2.adam.Adam'>, 'reduction_metric': 'custom_mae', 'samples': 20000}\n",
      "Using Loss: mean_squared_error \n",
      "and Reduction Metric: [<function custom_mae at 0x0000024C33F2FE58>]\n",
      "Monitor: val_custom_mae\n",
      "Train on 16000 samples, validate on 3968 samples\n",
      "15680/16000 [============================>.] - ETA: 0s - loss: 4864.4714 - custom_mae: 46.7731\n",
      "Epoch 00001: val_custom_mae improved from inf to 31.36422, saving model to ..\\fast_output\\SYNTH_Regression_MSE\\201019_2253_final_Angular_Base_Custom-MAE\\Best_Weights_FC_292.hdf5\n",
      "16000/16000 [==============================] - 6s 351us/sample - loss: 4824.5044 - custom_mae: 46.5098 - val_loss: 2824.0002 - val_custom_mae: 31.3642\n",
      "Time taken: 0:00:07.328096\n"
     ]
    },
    {
     "name": "stderr",
     "output_type": "stream",
     "text": [
      "\r",
      " 81%|█████████████████████████████████████████████████████████████████               | 293/360 [54:47<09:56,  8.91s/it]"
     ]
    },
    {
     "name": "stdout",
     "output_type": "stream",
     "text": [
      "{'activation': 'relu', 'batch_size': 64, 'dropout': 0.25, 'epochs': 1, 'first_neuron': 2048, 'hidden_layers': 2, 'label_type': 'Angular', 'loss_function': 'mean_squared_error', 'lr': 5, 'monitor_value': 'val_custom_mae', 'optimizer': <class 'tensorflow.python.keras.optimizer_v2.adam.Adam'>, 'reduction_metric': 'custom_mae', 'samples': 20000}\n",
      "Using Loss: mean_squared_error \n",
      "and Reduction Metric: [<function custom_mae at 0x0000024C33F2FE58>]\n",
      "Monitor: val_custom_mae\n",
      "Train on 16000 samples, validate on 3968 samples\n",
      "15808/16000 [============================>.] - ETA: 0s - loss: 8916.2301 - custom_mae: 52.3992\n",
      "Epoch 00001: val_custom_mae improved from inf to 34.04994, saving model to ..\\fast_output\\SYNTH_Regression_MSE\\201019_2253_final_Angular_Base_Custom-MAE\\Best_Weights_FC_293.hdf5\n",
      "16000/16000 [==============================] - 6s 352us/sample - loss: 8845.0958 - custom_mae: 52.1999 - val_loss: 2901.1095 - val_custom_mae: 34.0499\n",
      "Time taken: 0:00:07.324958\n"
     ]
    },
    {
     "name": "stderr",
     "output_type": "stream",
     "text": [
      "\r",
      " 82%|█████████████████████████████████████████████████████████████████▎              | 294/360 [54:56<09:52,  8.97s/it]"
     ]
    },
    {
     "name": "stdout",
     "output_type": "stream",
     "text": [
      "{'activation': 'relu', 'batch_size': 64, 'dropout': 0.25, 'epochs': 1, 'first_neuron': 2048, 'hidden_layers': 3, 'label_type': 'Angular', 'loss_function': 'mean_squared_error', 'lr': 1, 'monitor_value': 'val_custom_mae', 'optimizer': <class 'tensorflow.python.keras.optimizer_v2.adam.Adam'>, 'reduction_metric': 'custom_mae', 'samples': 20000}\n",
      "Using Loss: mean_squared_error \n",
      "and Reduction Metric: [<function custom_mae at 0x0000024C33F2FE58>]\n",
      "Monitor: val_custom_mae\n",
      "Train on 16000 samples, validate on 3968 samples\n",
      "15680/16000 [============================>.] - ETA: 0s - loss: 4844.7636 - custom_mae: 48.0862\n",
      "Epoch 00001: val_custom_mae improved from inf to 34.18331, saving model to ..\\fast_output\\SYNTH_Regression_MSE\\201019_2253_final_Angular_Base_Custom-MAE\\Best_Weights_FC_294.hdf5\n",
      "16000/16000 [==============================] - 6s 358us/sample - loss: 4804.6641 - custom_mae: 47.8158 - val_loss: 3093.0440 - val_custom_mae: 34.1833\n",
      "Time taken: 0:00:07.409665\n"
     ]
    },
    {
     "name": "stderr",
     "output_type": "stream",
     "text": [
      "\r",
      " 82%|█████████████████████████████████████████████████████████████████▌              | 295/360 [55:05<09:48,  9.05s/it]"
     ]
    },
    {
     "name": "stdout",
     "output_type": "stream",
     "text": [
      "{'activation': 'relu', 'batch_size': 64, 'dropout': 0.25, 'epochs': 1, 'first_neuron': 2048, 'hidden_layers': 3, 'label_type': 'Angular', 'loss_function': 'mean_squared_error', 'lr': 2, 'monitor_value': 'val_custom_mae', 'optimizer': <class 'tensorflow.python.keras.optimizer_v2.adam.Adam'>, 'reduction_metric': 'custom_mae', 'samples': 20000}\n",
      "Using Loss: mean_squared_error \n",
      "and Reduction Metric: [<function custom_mae at 0x0000024C33F2FE58>]\n",
      "Monitor: val_custom_mae\n",
      "Train on 16000 samples, validate on 3968 samples\n",
      "15744/16000 [============================>.] - ETA: 0s - loss: 6187.5215 - custom_mae: 54.1589\n",
      "Epoch 00001: val_custom_mae improved from inf to 36.41525, saving model to ..\\fast_output\\SYNTH_Regression_MSE\\201019_2253_final_Angular_Base_Custom-MAE\\Best_Weights_FC_295.hdf5\n",
      "16000/16000 [==============================] - 6s 356us/sample - loss: 6142.4746 - custom_mae: 53.9268 - val_loss: 3290.9599 - val_custom_mae: 36.4153\n",
      "Time taken: 0:00:07.348903\n"
     ]
    },
    {
     "name": "stderr",
     "output_type": "stream",
     "text": [
      "\r",
      " 82%|█████████████████████████████████████████████████████████████████▊              | 296/360 [55:14<09:41,  9.09s/it]"
     ]
    },
    {
     "name": "stdout",
     "output_type": "stream",
     "text": [
      "{'activation': 'relu', 'batch_size': 64, 'dropout': 0.25, 'epochs': 1, 'first_neuron': 2048, 'hidden_layers': 3, 'label_type': 'Angular', 'loss_function': 'mean_squared_error', 'lr': 5, 'monitor_value': 'val_custom_mae', 'optimizer': <class 'tensorflow.python.keras.optimizer_v2.adam.Adam'>, 'reduction_metric': 'custom_mae', 'samples': 20000}\n",
      "Using Loss: mean_squared_error \n",
      "and Reduction Metric: [<function custom_mae at 0x0000024C33F2FE58>]\n",
      "Monitor: val_custom_mae\n",
      "Train on 16000 samples, validate on 3968 samples\n",
      "15744/16000 [============================>.] - ETA: 0s - loss: 8783.3394 - custom_mae: 54.9961\n",
      "Epoch 00001: val_custom_mae improved from inf to 35.93687, saving model to ..\\fast_output\\SYNTH_Regression_MSE\\201019_2253_final_Angular_Base_Custom-MAE\\Best_Weights_FC_296.hdf5\n",
      "16000/16000 [==============================] - 6s 357us/sample - loss: 8695.8189 - custom_mae: 54.7611 - val_loss: 3105.1860 - val_custom_mae: 35.9369\n",
      "Time taken: 0:00:07.409928\n"
     ]
    },
    {
     "name": "stderr",
     "output_type": "stream",
     "text": [
      "\r",
      " 82%|██████████████████████████████████████████████████████████████████              | 297/360 [55:24<09:35,  9.13s/it]"
     ]
    },
    {
     "name": "stdout",
     "output_type": "stream",
     "text": [
      "{'activation': 'relu', 'batch_size': 64, 'dropout': 0.25, 'epochs': 1, 'first_neuron': 2048, 'hidden_layers': 4, 'label_type': 'Angular', 'loss_function': 'mean_squared_error', 'lr': 1, 'monitor_value': 'val_custom_mae', 'optimizer': <class 'tensorflow.python.keras.optimizer_v2.adam.Adam'>, 'reduction_metric': 'custom_mae', 'samples': 20000}\n",
      "Using Loss: mean_squared_error \n",
      "and Reduction Metric: [<function custom_mae at 0x0000024C33F2FE58>]\n",
      "Monitor: val_custom_mae\n",
      "Train on 16000 samples, validate on 3968 samples\n",
      "15744/16000 [============================>.] - ETA: 0s - loss: 5103.1184 - custom_mae: 50.7182\n",
      "Epoch 00001: val_custom_mae improved from inf to 33.77735, saving model to ..\\fast_output\\SYNTH_Regression_MSE\\201019_2253_final_Angular_Base_Custom-MAE\\Best_Weights_FC_297.hdf5\n",
      "16000/16000 [==============================] - 6s 368us/sample - loss: 5071.2833 - custom_mae: 50.5077 - val_loss: 2902.1225 - val_custom_mae: 33.7774\n",
      "Time taken: 0:00:07.593834\n"
     ]
    },
    {
     "name": "stderr",
     "output_type": "stream",
     "text": [
      "\r",
      " 83%|██████████████████████████████████████████████████████████████████▏             | 298/360 [55:33<09:31,  9.22s/it]"
     ]
    },
    {
     "name": "stdout",
     "output_type": "stream",
     "text": [
      "{'activation': 'relu', 'batch_size': 64, 'dropout': 0.25, 'epochs': 1, 'first_neuron': 2048, 'hidden_layers': 4, 'label_type': 'Angular', 'loss_function': 'mean_squared_error', 'lr': 2, 'monitor_value': 'val_custom_mae', 'optimizer': <class 'tensorflow.python.keras.optimizer_v2.adam.Adam'>, 'reduction_metric': 'custom_mae', 'samples': 20000}\n",
      "Using Loss: mean_squared_error \n",
      "and Reduction Metric: [<function custom_mae at 0x0000024C33F2FE58>]\n",
      "Monitor: val_custom_mae\n",
      "Train on 16000 samples, validate on 3968 samples\n",
      "15936/16000 [============================>.] - ETA: 0s - loss: 6645.5210 - custom_mae: 56.8377\n",
      "Epoch 00001: val_custom_mae improved from inf to 43.91244, saving model to ..\\fast_output\\SYNTH_Regression_MSE\\201019_2253_final_Angular_Base_Custom-MAE\\Best_Weights_FC_298.hdf5\n",
      "16000/16000 [==============================] - 6s 364us/sample - loss: 6634.7974 - custom_mae: 56.7927 - val_loss: 3650.8307 - val_custom_mae: 43.9124\n",
      "Time taken: 0:00:07.518494\n"
     ]
    },
    {
     "name": "stderr",
     "output_type": "stream",
     "text": [
      "\r",
      " 83%|██████████████████████████████████████████████████████████████████▍             | 299/360 [55:42<09:25,  9.27s/it]"
     ]
    },
    {
     "name": "stdout",
     "output_type": "stream",
     "text": [
      "{'activation': 'relu', 'batch_size': 64, 'dropout': 0.25, 'epochs': 1, 'first_neuron': 2048, 'hidden_layers': 4, 'label_type': 'Angular', 'loss_function': 'mean_squared_error', 'lr': 5, 'monitor_value': 'val_custom_mae', 'optimizer': <class 'tensorflow.python.keras.optimizer_v2.adam.Adam'>, 'reduction_metric': 'custom_mae', 'samples': 20000}\n",
      "Using Loss: mean_squared_error \n",
      "and Reduction Metric: [<function custom_mae at 0x0000024C33F2FE58>]\n",
      "Monitor: val_custom_mae\n",
      "Train on 16000 samples, validate on 3968 samples\n",
      "15936/16000 [============================>.] - ETA: 0s - loss: 9092.7067 - custom_mae: 57.5047\n",
      "Epoch 00001: val_custom_mae improved from inf to 38.83467, saving model to ..\\fast_output\\SYNTH_Regression_MSE\\201019_2253_final_Angular_Base_Custom-MAE\\Best_Weights_FC_299.hdf5\n",
      "16000/16000 [==============================] - 6s 363us/sample - loss: 9075.6263 - custom_mae: 57.4663 - val_loss: 3176.7163 - val_custom_mae: 38.8347\n",
      "Time taken: 0:00:07.510918\n"
     ]
    },
    {
     "name": "stderr",
     "output_type": "stream",
     "text": [
      "\r",
      " 83%|██████████████████████████████████████████████████████████████████▋             | 300/360 [55:52<09:17,  9.29s/it]"
     ]
    },
    {
     "name": "stdout",
     "output_type": "stream",
     "text": [
      "{'activation': 'relu', 'batch_size': 64, 'dropout': 0.25, 'epochs': 1, 'first_neuron': 4096, 'hidden_layers': 0, 'label_type': 'Angular', 'loss_function': 'mean_squared_error', 'lr': 1, 'monitor_value': 'val_custom_mae', 'optimizer': <class 'tensorflow.python.keras.optimizer_v2.adam.Adam'>, 'reduction_metric': 'custom_mae', 'samples': 20000}\n",
      "Using Loss: mean_squared_error \n",
      "and Reduction Metric: [<function custom_mae at 0x0000024C33F2FE58>]\n",
      "Monitor: val_custom_mae\n",
      "Train on 16000 samples, validate on 3968 samples\n",
      "15936/16000 [============================>.] - ETA: 0s - loss: 4066.7314 - custom_mae: 40.6558\n",
      "Epoch 00001: val_custom_mae improved from inf to 32.07732, saving model to ..\\fast_output\\SYNTH_Regression_MSE\\201019_2253_final_Angular_Base_Custom-MAE\\Best_Weights_FC_300.hdf5\n",
      "16000/16000 [==============================] - 9s 570us/sample - loss: 4062.1735 - custom_mae: 40.6129 - val_loss: 2910.2195 - val_custom_mae: 32.0773\n",
      "Time taken: 0:00:10.819338\n"
     ]
    },
    {
     "name": "stderr",
     "output_type": "stream",
     "text": [
      "\r",
      " 84%|██████████████████████████████████████████████████████████████████▉             | 301/360 [56:04<10:06, 10.28s/it]"
     ]
    },
    {
     "name": "stdout",
     "output_type": "stream",
     "text": [
      "{'activation': 'relu', 'batch_size': 64, 'dropout': 0.25, 'epochs': 1, 'first_neuron': 4096, 'hidden_layers': 0, 'label_type': 'Angular', 'loss_function': 'mean_squared_error', 'lr': 2, 'monitor_value': 'val_custom_mae', 'optimizer': <class 'tensorflow.python.keras.optimizer_v2.adam.Adam'>, 'reduction_metric': 'custom_mae', 'samples': 20000}\n",
      "Using Loss: mean_squared_error \n",
      "and Reduction Metric: [<function custom_mae at 0x0000024C33F2FE58>]\n",
      "Monitor: val_custom_mae\n",
      "Train on 16000 samples, validate on 3968 samples\n",
      "15872/16000 [============================>.] - ETA: 0s - loss: 3840.0543 - custom_mae: 39.2018\n",
      "Epoch 00001: val_custom_mae improved from inf to 29.66089, saving model to ..\\fast_output\\SYNTH_Regression_MSE\\201019_2253_final_Angular_Base_Custom-MAE\\Best_Weights_FC_301.hdf5\n",
      "16000/16000 [==============================] - 9s 574us/sample - loss: 3828.8941 - custom_mae: 39.1113 - val_loss: 2632.0296 - val_custom_mae: 29.6609\n",
      "Time taken: 0:00:10.870518\n"
     ]
    },
    {
     "name": "stderr",
     "output_type": "stream",
     "text": [
      "\r",
      " 84%|███████████████████████████████████████████████████████████████████             | 302/360 [56:17<10:36, 10.98s/it]"
     ]
    },
    {
     "name": "stdout",
     "output_type": "stream",
     "text": [
      "{'activation': 'relu', 'batch_size': 64, 'dropout': 0.25, 'epochs': 1, 'first_neuron': 4096, 'hidden_layers': 0, 'label_type': 'Angular', 'loss_function': 'mean_squared_error', 'lr': 5, 'monitor_value': 'val_custom_mae', 'optimizer': <class 'tensorflow.python.keras.optimizer_v2.adam.Adam'>, 'reduction_metric': 'custom_mae', 'samples': 20000}\n",
      "Using Loss: mean_squared_error \n",
      "and Reduction Metric: [<function custom_mae at 0x0000024C33F2FE58>]\n",
      "Monitor: val_custom_mae\n",
      "Train on 16000 samples, validate on 3968 samples\n",
      "15936/16000 [============================>.] - ETA: 0s - loss: 4632.3394 - custom_mae: 43.1363\n",
      "Epoch 00001: val_custom_mae improved from inf to 31.86822, saving model to ..\\fast_output\\SYNTH_Regression_MSE\\201019_2253_final_Angular_Base_Custom-MAE\\Best_Weights_FC_302.hdf5\n",
      "16000/16000 [==============================] - 9s 571us/sample - loss: 4624.8111 - custom_mae: 43.0820 - val_loss: 2795.1463 - val_custom_mae: 31.8682\n",
      "Time taken: 0:00:10.846480\n"
     ]
    },
    {
     "name": "stderr",
     "output_type": "stream",
     "text": [
      "\r",
      " 84%|███████████████████████████████████████████████████████████████████▎            | 303/360 [56:30<10:53, 11.46s/it]"
     ]
    },
    {
     "name": "stdout",
     "output_type": "stream",
     "text": [
      "{'activation': 'relu', 'batch_size': 64, 'dropout': 0.25, 'epochs': 1, 'first_neuron': 4096, 'hidden_layers': 1, 'label_type': 'Angular', 'loss_function': 'mean_squared_error', 'lr': 1, 'monitor_value': 'val_custom_mae', 'optimizer': <class 'tensorflow.python.keras.optimizer_v2.adam.Adam'>, 'reduction_metric': 'custom_mae', 'samples': 20000}\n",
      "Using Loss: mean_squared_error \n",
      "and Reduction Metric: [<function custom_mae at 0x0000024C33F2FE58>]\n",
      "Monitor: val_custom_mae\n",
      "Train on 16000 samples, validate on 3968 samples\n",
      "15872/16000 [============================>.] - ETA: 0s - loss: 4489.6951 - custom_mae: 44.0975\n",
      "Epoch 00001: val_custom_mae improved from inf to 31.01741, saving model to ..\\fast_output\\SYNTH_Regression_MSE\\201019_2253_final_Angular_Base_Custom-MAE\\Best_Weights_FC_303.hdf5\n",
      "16000/16000 [==============================] - 10s 606us/sample - loss: 4475.2302 - custom_mae: 43.9869 - val_loss: 2712.8826 - val_custom_mae: 31.0174\n",
      "Time taken: 0:00:11.406413\n"
     ]
    },
    {
     "name": "stderr",
     "output_type": "stream",
     "text": [
      "\r",
      " 84%|███████████████████████████████████████████████████████████████████▌            | 304/360 [56:43<11:10, 11.97s/it]"
     ]
    },
    {
     "name": "stdout",
     "output_type": "stream",
     "text": [
      "{'activation': 'relu', 'batch_size': 64, 'dropout': 0.25, 'epochs': 1, 'first_neuron': 4096, 'hidden_layers': 1, 'label_type': 'Angular', 'loss_function': 'mean_squared_error', 'lr': 2, 'monitor_value': 'val_custom_mae', 'optimizer': <class 'tensorflow.python.keras.optimizer_v2.adam.Adam'>, 'reduction_metric': 'custom_mae', 'samples': 20000}\n",
      "Using Loss: mean_squared_error \n",
      "and Reduction Metric: [<function custom_mae at 0x0000024C33F2FE58>]\n",
      "Monitor: val_custom_mae\n",
      "Train on 16000 samples, validate on 3968 samples\n",
      "15936/16000 [============================>.] - ETA: 0s - loss: 4740.3859 - custom_mae: 44.4419\n",
      "Epoch 00001: val_custom_mae improved from inf to 29.72918, saving model to ..\\fast_output\\SYNTH_Regression_MSE\\201019_2253_final_Angular_Base_Custom-MAE\\Best_Weights_FC_304.hdf5\n",
      "16000/16000 [==============================] - 10s 607us/sample - loss: 4731.7199 - custom_mae: 44.3831 - val_loss: 2600.8515 - val_custom_mae: 29.7292\n",
      "Time taken: 0:00:11.400991\n"
     ]
    },
    {
     "name": "stderr",
     "output_type": "stream",
     "text": [
      "\r",
      " 85%|███████████████████████████████████████████████████████████████████▊            | 305/360 [56:56<11:18, 12.33s/it]"
     ]
    },
    {
     "name": "stdout",
     "output_type": "stream",
     "text": [
      "{'activation': 'relu', 'batch_size': 64, 'dropout': 0.25, 'epochs': 1, 'first_neuron': 4096, 'hidden_layers': 1, 'label_type': 'Angular', 'loss_function': 'mean_squared_error', 'lr': 5, 'monitor_value': 'val_custom_mae', 'optimizer': <class 'tensorflow.python.keras.optimizer_v2.adam.Adam'>, 'reduction_metric': 'custom_mae', 'samples': 20000}\n",
      "Using Loss: mean_squared_error \n",
      "and Reduction Metric: [<function custom_mae at 0x0000024C33F2FE58>]\n",
      "Monitor: val_custom_mae\n",
      "Train on 16000 samples, validate on 3968 samples\n",
      "15936/16000 [============================>.] - ETA: 0s - loss: 21474.1702 - custom_mae: 50.5770\n",
      "Epoch 00001: val_custom_mae improved from inf to 30.47329, saving model to ..\\fast_output\\SYNTH_Regression_MSE\\201019_2253_final_Angular_Base_Custom-MAE\\Best_Weights_FC_305.hdf5\n",
      "16000/16000 [==============================] - 10s 605us/sample - loss: 21401.1109 - custom_mae: 50.5111 - val_loss: 2630.1875 - val_custom_mae: 30.4733\n",
      "Time taken: 0:00:11.381662\n"
     ]
    },
    {
     "name": "stderr",
     "output_type": "stream",
     "text": [
      "\r",
      " 85%|████████████████████████████████████████████████████████████████████            | 306/360 [57:09<11:19, 12.58s/it]"
     ]
    },
    {
     "name": "stdout",
     "output_type": "stream",
     "text": [
      "{'activation': 'relu', 'batch_size': 64, 'dropout': 0.25, 'epochs': 1, 'first_neuron': 4096, 'hidden_layers': 2, 'label_type': 'Angular', 'loss_function': 'mean_squared_error', 'lr': 1, 'monitor_value': 'val_custom_mae', 'optimizer': <class 'tensorflow.python.keras.optimizer_v2.adam.Adam'>, 'reduction_metric': 'custom_mae', 'samples': 20000}\n",
      "Using Loss: mean_squared_error \n",
      "and Reduction Metric: [<function custom_mae at 0x0000024C33F2FE58>]\n",
      "Monitor: val_custom_mae\n",
      "Train on 16000 samples, validate on 3968 samples\n",
      "15872/16000 [============================>.] - ETA: 0s - loss: 5166.1580 - custom_mae: 47.7723\n",
      "Epoch 00001: val_custom_mae improved from inf to 31.36481, saving model to ..\\fast_output\\SYNTH_Regression_MSE\\201019_2253_final_Angular_Base_Custom-MAE\\Best_Weights_FC_306.hdf5\n",
      "16000/16000 [==============================] - 10s 617us/sample - loss: 5147.6682 - custom_mae: 47.6539 - val_loss: 2783.2450 - val_custom_mae: 31.3648\n",
      "Time taken: 0:00:11.585777\n"
     ]
    },
    {
     "name": "stderr",
     "output_type": "stream",
     "text": [
      "\r",
      " 85%|████████████████████████████████████████████████████████████████████▏           | 307/360 [57:22<11:19, 12.82s/it]"
     ]
    },
    {
     "name": "stdout",
     "output_type": "stream",
     "text": [
      "{'activation': 'relu', 'batch_size': 64, 'dropout': 0.25, 'epochs': 1, 'first_neuron': 4096, 'hidden_layers': 2, 'label_type': 'Angular', 'loss_function': 'mean_squared_error', 'lr': 2, 'monitor_value': 'val_custom_mae', 'optimizer': <class 'tensorflow.python.keras.optimizer_v2.adam.Adam'>, 'reduction_metric': 'custom_mae', 'samples': 20000}\n",
      "Using Loss: mean_squared_error \n",
      "and Reduction Metric: [<function custom_mae at 0x0000024C33F2FE58>]\n",
      "Monitor: val_custom_mae\n",
      "Train on 16000 samples, validate on 3968 samples\n",
      "15872/16000 [============================>.] - ETA: 0s - loss: 5243.3740 - custom_mae: 46.3307\n",
      "Epoch 00001: val_custom_mae improved from inf to 30.34685, saving model to ..\\fast_output\\SYNTH_Regression_MSE\\201019_2253_final_Angular_Base_Custom-MAE\\Best_Weights_FC_307.hdf5\n",
      "16000/16000 [==============================] - 10s 620us/sample - loss: 5224.1283 - custom_mae: 46.2313 - val_loss: 2552.9173 - val_custom_mae: 30.3468\n",
      "Time taken: 0:00:11.605326\n"
     ]
    },
    {
     "name": "stderr",
     "output_type": "stream",
     "text": [
      "\r",
      " 86%|████████████████████████████████████████████████████████████████████▍           | 308/360 [57:36<11:15, 12.99s/it]"
     ]
    },
    {
     "name": "stdout",
     "output_type": "stream",
     "text": [
      "{'activation': 'relu', 'batch_size': 64, 'dropout': 0.25, 'epochs': 1, 'first_neuron': 4096, 'hidden_layers': 2, 'label_type': 'Angular', 'loss_function': 'mean_squared_error', 'lr': 5, 'monitor_value': 'val_custom_mae', 'optimizer': <class 'tensorflow.python.keras.optimizer_v2.adam.Adam'>, 'reduction_metric': 'custom_mae', 'samples': 20000}\n",
      "Using Loss: mean_squared_error \n",
      "and Reduction Metric: [<function custom_mae at 0x0000024C33F2FE58>]\n",
      "Monitor: val_custom_mae\n",
      "Train on 16000 samples, validate on 3968 samples\n",
      "15936/16000 [============================>.] - ETA: 0s - loss: 141617.4311 - custom_mae: 68.2538\n",
      "Epoch 00001: val_custom_mae improved from inf to 34.54213, saving model to ..\\fast_output\\SYNTH_Regression_MSE\\201019_2253_final_Angular_Base_Custom-MAE\\Best_Weights_FC_308.hdf5\n",
      "16000/16000 [==============================] - 10s 619us/sample - loss: 141066.4956 - custom_mae: 68.1361 - val_loss: 2779.5739 - val_custom_mae: 34.5421\n",
      "Time taken: 0:00:11.610226\n"
     ]
    },
    {
     "name": "stderr",
     "output_type": "stream",
     "text": [
      "\r",
      " 86%|████████████████████████████████████████████████████████████████████▋           | 309/360 [57:49<11:09, 13.12s/it]"
     ]
    },
    {
     "name": "stdout",
     "output_type": "stream",
     "text": [
      "{'activation': 'relu', 'batch_size': 64, 'dropout': 0.25, 'epochs': 1, 'first_neuron': 4096, 'hidden_layers': 3, 'label_type': 'Angular', 'loss_function': 'mean_squared_error', 'lr': 1, 'monitor_value': 'val_custom_mae', 'optimizer': <class 'tensorflow.python.keras.optimizer_v2.adam.Adam'>, 'reduction_metric': 'custom_mae', 'samples': 20000}\n",
      "Using Loss: mean_squared_error \n",
      "and Reduction Metric: [<function custom_mae at 0x0000024C33F2FE58>]\n",
      "Monitor: val_custom_mae\n",
      "Train on 16000 samples, validate on 3968 samples\n",
      "15936/16000 [============================>.] - ETA: 0s - loss: 5002.5788 - custom_mae: 47.6097\n",
      "Epoch 00001: val_custom_mae improved from inf to 30.79797, saving model to ..\\fast_output\\SYNTH_Regression_MSE\\201019_2253_final_Angular_Base_Custom-MAE\\Best_Weights_FC_309.hdf5\n",
      "16000/16000 [==============================] - 10s 622us/sample - loss: 4995.0743 - custom_mae: 47.5481 - val_loss: 2645.6988 - val_custom_mae: 30.7980\n",
      "Time taken: 0:00:11.611864\n"
     ]
    },
    {
     "name": "stderr",
     "output_type": "stream",
     "text": [
      "\r",
      " 86%|████████████████████████████████████████████████████████████████████▉           | 310/360 [58:03<11:00, 13.21s/it]"
     ]
    },
    {
     "name": "stdout",
     "output_type": "stream",
     "text": [
      "{'activation': 'relu', 'batch_size': 64, 'dropout': 0.25, 'epochs': 1, 'first_neuron': 4096, 'hidden_layers': 3, 'label_type': 'Angular', 'loss_function': 'mean_squared_error', 'lr': 2, 'monitor_value': 'val_custom_mae', 'optimizer': <class 'tensorflow.python.keras.optimizer_v2.adam.Adam'>, 'reduction_metric': 'custom_mae', 'samples': 20000}\n",
      "Using Loss: mean_squared_error \n",
      "and Reduction Metric: [<function custom_mae at 0x0000024C33F2FE58>]\n",
      "Monitor: val_custom_mae\n",
      "Train on 16000 samples, validate on 3968 samples\n",
      "15936/16000 [============================>.] - ETA: 0s - loss: 5114.4335 - custom_mae: 50.1128\n",
      "Epoch 00001: val_custom_mae improved from inf to 33.11789, saving model to ..\\fast_output\\SYNTH_Regression_MSE\\201019_2253_final_Angular_Base_Custom-MAE\\Best_Weights_FC_310.hdf5\n",
      "16000/16000 [==============================] - 10s 620us/sample - loss: 5106.2173 - custom_mae: 50.0520 - val_loss: 2750.6598 - val_custom_mae: 33.1179\n",
      "Time taken: 0:00:11.622962\n"
     ]
    },
    {
     "name": "stderr",
     "output_type": "stream",
     "text": [
      "\r",
      " 86%|█████████████████████████████████████████████████████████████████████           | 311/360 [58:16<10:50, 13.28s/it]"
     ]
    },
    {
     "name": "stdout",
     "output_type": "stream",
     "text": [
      "{'activation': 'relu', 'batch_size': 64, 'dropout': 0.25, 'epochs': 1, 'first_neuron': 4096, 'hidden_layers': 3, 'label_type': 'Angular', 'loss_function': 'mean_squared_error', 'lr': 5, 'monitor_value': 'val_custom_mae', 'optimizer': <class 'tensorflow.python.keras.optimizer_v2.adam.Adam'>, 'reduction_metric': 'custom_mae', 'samples': 20000}\n",
      "Using Loss: mean_squared_error \n",
      "and Reduction Metric: [<function custom_mae at 0x0000024C33F2FE58>]\n",
      "Monitor: val_custom_mae\n",
      "Train on 16000 samples, validate on 3968 samples\n",
      "15872/16000 [============================>.] - ETA: 0s - loss: 171759.2070 - custom_mae: 77.0578\n",
      "Epoch 00001: val_custom_mae improved from inf to 44.06471, saving model to ..\\fast_output\\SYNTH_Regression_MSE\\201019_2253_final_Angular_Base_Custom-MAE\\Best_Weights_FC_311.hdf5\n",
      "16000/16000 [==============================] - 10s 625us/sample - loss: 170416.5593 - custom_mae: 76.7883 - val_loss: 4481.6615 - val_custom_mae: 44.0647\n",
      "Time taken: 0:00:11.719809\n"
     ]
    },
    {
     "name": "stderr",
     "output_type": "stream",
     "text": [
      "\r",
      " 87%|█████████████████████████████████████████████████████████████████████▎          | 312/360 [58:30<10:42, 13.38s/it]"
     ]
    },
    {
     "name": "stdout",
     "output_type": "stream",
     "text": [
      "{'activation': 'relu', 'batch_size': 64, 'dropout': 0.25, 'epochs': 1, 'first_neuron': 4096, 'hidden_layers': 4, 'label_type': 'Angular', 'loss_function': 'mean_squared_error', 'lr': 1, 'monitor_value': 'val_custom_mae', 'optimizer': <class 'tensorflow.python.keras.optimizer_v2.adam.Adam'>, 'reduction_metric': 'custom_mae', 'samples': 20000}\n",
      "Using Loss: mean_squared_error \n",
      "and Reduction Metric: [<function custom_mae at 0x0000024C33F2FE58>]\n",
      "Monitor: val_custom_mae\n",
      "Train on 16000 samples, validate on 3968 samples\n",
      "15936/16000 [============================>.] - ETA: 0s - loss: 5221.6540 - custom_mae: 51.8702\n",
      "Epoch 00001: val_custom_mae improved from inf to 42.73125, saving model to ..\\fast_output\\SYNTH_Regression_MSE\\201019_2253_final_Angular_Base_Custom-MAE\\Best_Weights_FC_312.hdf5\n",
      "16000/16000 [==============================] - 10s 628us/sample - loss: 5215.3676 - custom_mae: 51.8336 - val_loss: 3559.2728 - val_custom_mae: 42.7313\n",
      "Time taken: 0:00:11.746871\n"
     ]
    },
    {
     "name": "stderr",
     "output_type": "stream",
     "text": [
      "\r",
      " 87%|█████████████████████████████████████████████████████████████████████▌          | 313/360 [58:43<10:31, 13.44s/it]"
     ]
    },
    {
     "name": "stdout",
     "output_type": "stream",
     "text": [
      "{'activation': 'relu', 'batch_size': 64, 'dropout': 0.25, 'epochs': 1, 'first_neuron': 4096, 'hidden_layers': 4, 'label_type': 'Angular', 'loss_function': 'mean_squared_error', 'lr': 2, 'monitor_value': 'val_custom_mae', 'optimizer': <class 'tensorflow.python.keras.optimizer_v2.adam.Adam'>, 'reduction_metric': 'custom_mae', 'samples': 20000}\n",
      "Using Loss: mean_squared_error \n",
      "and Reduction Metric: [<function custom_mae at 0x0000024C33F2FE58>]\n",
      "Monitor: val_custom_mae\n",
      "Train on 16000 samples, validate on 3968 samples\n",
      "15872/16000 [============================>.] - ETA: 0s - loss: 5935.7408 - custom_mae: 54.4401\n",
      "Epoch 00001: val_custom_mae improved from inf to 41.38274, saving model to ..\\fast_output\\SYNTH_Regression_MSE\\201019_2253_final_Angular_Base_Custom-MAE\\Best_Weights_FC_313.hdf5\n",
      "16000/16000 [==============================] - 10s 627us/sample - loss: 5916.8345 - custom_mae: 54.3390 - val_loss: 3323.2483 - val_custom_mae: 41.3827\n",
      "Time taken: 0:00:11.732482\n"
     ]
    },
    {
     "name": "stderr",
     "output_type": "stream",
     "text": [
      "\r",
      " 87%|█████████████████████████████████████████████████████████████████████▊          | 314/360 [58:57<10:20, 13.49s/it]"
     ]
    },
    {
     "name": "stdout",
     "output_type": "stream",
     "text": [
      "{'activation': 'relu', 'batch_size': 64, 'dropout': 0.25, 'epochs': 1, 'first_neuron': 4096, 'hidden_layers': 4, 'label_type': 'Angular', 'loss_function': 'mean_squared_error', 'lr': 5, 'monitor_value': 'val_custom_mae', 'optimizer': <class 'tensorflow.python.keras.optimizer_v2.adam.Adam'>, 'reduction_metric': 'custom_mae', 'samples': 20000}\n",
      "Using Loss: mean_squared_error \n",
      "and Reduction Metric: [<function custom_mae at 0x0000024C33F2FE58>]\n",
      "Monitor: val_custom_mae\n",
      "Train on 16000 samples, validate on 3968 samples\n",
      "15808/16000 [============================>.] - ETA: 0s - loss: 111421.5895 - custom_mae: 72.8708\n",
      "Epoch 00001: val_custom_mae improved from inf to 39.66552, saving model to ..\\fast_output\\SYNTH_Regression_MSE\\201019_2253_final_Angular_Base_Custom-MAE\\Best_Weights_FC_314.hdf5\n",
      "16000/16000 [==============================] - 10s 627us/sample - loss: 110133.1339 - custom_mae: 72.5410 - val_loss: 3217.7186 - val_custom_mae: 39.6655\n",
      "Time taken: 0:00:11.724226\n"
     ]
    },
    {
     "name": "stderr",
     "output_type": "stream",
     "text": [
      "\r",
      " 88%|██████████████████████████████████████████████████████████████████████          | 315/360 [59:11<10:08, 13.51s/it]"
     ]
    },
    {
     "name": "stdout",
     "output_type": "stream",
     "text": [
      "{'activation': 'relu', 'batch_size': 64, 'dropout': 0.5, 'epochs': 1, 'first_neuron': 1024, 'hidden_layers': 0, 'label_type': 'Angular', 'loss_function': 'mean_squared_error', 'lr': 1, 'monitor_value': 'val_custom_mae', 'optimizer': <class 'tensorflow.python.keras.optimizer_v2.adam.Adam'>, 'reduction_metric': 'custom_mae', 'samples': 20000}\n",
      "Using Loss: mean_squared_error \n",
      "and Reduction Metric: [<function custom_mae at 0x0000024C33F2FE58>]\n",
      "Monitor: val_custom_mae\n",
      "Train on 16000 samples, validate on 3968 samples\n",
      "15936/16000 [============================>.] - ETA: 0s - loss: 4684.1799 - custom_mae: 45.4878\n",
      "Epoch 00001: val_custom_mae improved from inf to 37.33245, saving model to ..\\fast_output\\SYNTH_Regression_MSE\\201019_2253_final_Angular_Base_Custom-MAE\\Best_Weights_FC_315.hdf5\n",
      "16000/16000 [==============================] - 3s 213us/sample - loss: 4679.0809 - custom_mae: 45.4490 - val_loss: 3633.8085 - val_custom_mae: 37.3324\n",
      "Time taken: 0:00:05.112901\n"
     ]
    },
    {
     "name": "stderr",
     "output_type": "stream",
     "text": [
      "\r",
      " 88%|██████████████████████████████████████████████████████████████████████▏         | 316/360 [59:17<08:26, 11.52s/it]"
     ]
    },
    {
     "name": "stdout",
     "output_type": "stream",
     "text": [
      "{'activation': 'relu', 'batch_size': 64, 'dropout': 0.5, 'epochs': 1, 'first_neuron': 1024, 'hidden_layers': 0, 'label_type': 'Angular', 'loss_function': 'mean_squared_error', 'lr': 2, 'monitor_value': 'val_custom_mae', 'optimizer': <class 'tensorflow.python.keras.optimizer_v2.adam.Adam'>, 'reduction_metric': 'custom_mae', 'samples': 20000}\n",
      "Using Loss: mean_squared_error \n",
      "and Reduction Metric: [<function custom_mae at 0x0000024C33F2FE58>]\n",
      "Monitor: val_custom_mae\n",
      "Train on 16000 samples, validate on 3968 samples\n",
      "15744/16000 [============================>.] - ETA: 0s - loss: 4334.4373 - custom_mae: 43.1999\n",
      "Epoch 00001: val_custom_mae improved from inf to 35.18975, saving model to ..\\fast_output\\SYNTH_Regression_MSE\\201019_2253_final_Angular_Base_Custom-MAE\\Best_Weights_FC_316.hdf5\n",
      "16000/16000 [==============================] - 4s 221us/sample - loss: 4313.1622 - custom_mae: 43.0617 - val_loss: 3268.4718 - val_custom_mae: 35.1898\n",
      "Time taken: 0:00:05.244444\n"
     ]
    },
    {
     "name": "stderr",
     "output_type": "stream",
     "text": [
      "\r",
      " 88%|██████████████████████████████████████████████████████████████████████▍         | 317/360 [59:24<07:16, 10.15s/it]"
     ]
    },
    {
     "name": "stdout",
     "output_type": "stream",
     "text": [
      "{'activation': 'relu', 'batch_size': 64, 'dropout': 0.5, 'epochs': 1, 'first_neuron': 1024, 'hidden_layers': 0, 'label_type': 'Angular', 'loss_function': 'mean_squared_error', 'lr': 5, 'monitor_value': 'val_custom_mae', 'optimizer': <class 'tensorflow.python.keras.optimizer_v2.adam.Adam'>, 'reduction_metric': 'custom_mae', 'samples': 20000}\n",
      "Using Loss: mean_squared_error \n",
      "and Reduction Metric: [<function custom_mae at 0x0000024C33F2FE58>]\n",
      "Monitor: val_custom_mae\n",
      "Train on 16000 samples, validate on 3968 samples\n",
      "15936/16000 [============================>.] - ETA: 0s - loss: 4176.6476 - custom_mae: 42.3527\n",
      "Epoch 00001: val_custom_mae improved from inf to 33.88301, saving model to ..\\fast_output\\SYNTH_Regression_MSE\\201019_2253_final_Angular_Base_Custom-MAE\\Best_Weights_FC_317.hdf5\n",
      "16000/16000 [==============================] - 3s 216us/sample - loss: 4170.8128 - custom_mae: 42.3074 - val_loss: 3052.9613 - val_custom_mae: 33.8830\n",
      "Time taken: 0:00:05.149286\n"
     ]
    },
    {
     "name": "stderr",
     "output_type": "stream",
     "text": [
      "\r",
      " 88%|██████████████████████████████████████████████████████████████████████▋         | 318/360 [59:31<06:25,  9.17s/it]"
     ]
    },
    {
     "name": "stdout",
     "output_type": "stream",
     "text": [
      "{'activation': 'relu', 'batch_size': 64, 'dropout': 0.5, 'epochs': 1, 'first_neuron': 1024, 'hidden_layers': 1, 'label_type': 'Angular', 'loss_function': 'mean_squared_error', 'lr': 1, 'monitor_value': 'val_custom_mae', 'optimizer': <class 'tensorflow.python.keras.optimizer_v2.adam.Adam'>, 'reduction_metric': 'custom_mae', 'samples': 20000}\n",
      "Using Loss: mean_squared_error \n",
      "and Reduction Metric: [<function custom_mae at 0x0000024C33F2FE58>]\n",
      "Monitor: val_custom_mae\n",
      "Train on 16000 samples, validate on 3968 samples\n",
      "15808/16000 [============================>.] - ETA: 0s - loss: 4911.1208 - custom_mae: 48.1827\n",
      "Epoch 00001: val_custom_mae improved from inf to 36.91930, saving model to ..\\fast_output\\SYNTH_Regression_MSE\\201019_2253_final_Angular_Base_Custom-MAE\\Best_Weights_FC_318.hdf5\n",
      "16000/16000 [==============================] - 4s 225us/sample - loss: 4890.6517 - custom_mae: 48.0368 - val_loss: 3477.3542 - val_custom_mae: 36.9193\n",
      "Time taken: 0:00:05.299513\n"
     ]
    },
    {
     "name": "stderr",
     "output_type": "stream",
     "text": [
      "\r",
      " 89%|██████████████████████████████████████████████████████████████████████▉         | 319/360 [59:38<05:50,  8.54s/it]"
     ]
    },
    {
     "name": "stdout",
     "output_type": "stream",
     "text": [
      "{'activation': 'relu', 'batch_size': 64, 'dropout': 0.5, 'epochs': 1, 'first_neuron': 1024, 'hidden_layers': 1, 'label_type': 'Angular', 'loss_function': 'mean_squared_error', 'lr': 2, 'monitor_value': 'val_custom_mae', 'optimizer': <class 'tensorflow.python.keras.optimizer_v2.adam.Adam'>, 'reduction_metric': 'custom_mae', 'samples': 20000}\n",
      "Using Loss: mean_squared_error \n",
      "and Reduction Metric: [<function custom_mae at 0x0000024C33F2FE58>]\n",
      "Monitor: val_custom_mae\n",
      "Train on 16000 samples, validate on 3968 samples\n",
      "15744/16000 [============================>.] - ETA: 0s - loss: 4694.1425 - custom_mae: 46.7209\n",
      "Epoch 00001: val_custom_mae improved from inf to 34.24034, saving model to ..\\fast_output\\SYNTH_Regression_MSE\\201019_2253_final_Angular_Base_Custom-MAE\\Best_Weights_FC_319.hdf5\n",
      "16000/16000 [==============================] - 4s 223us/sample - loss: 4670.0624 - custom_mae: 46.5573 - val_loss: 3065.7608 - val_custom_mae: 34.2403\n",
      "Time taken: 0:00:05.262943\n"
     ]
    },
    {
     "name": "stderr",
     "output_type": "stream",
     "text": [
      "\r",
      " 89%|███████████████████████████████████████████████████████████████████████         | 320/360 [59:45<05:23,  8.09s/it]"
     ]
    },
    {
     "name": "stdout",
     "output_type": "stream",
     "text": [
      "{'activation': 'relu', 'batch_size': 64, 'dropout': 0.5, 'epochs': 1, 'first_neuron': 1024, 'hidden_layers': 1, 'label_type': 'Angular', 'loss_function': 'mean_squared_error', 'lr': 5, 'monitor_value': 'val_custom_mae', 'optimizer': <class 'tensorflow.python.keras.optimizer_v2.adam.Adam'>, 'reduction_metric': 'custom_mae', 'samples': 20000}\n",
      "Using Loss: mean_squared_error \n",
      "and Reduction Metric: [<function custom_mae at 0x0000024C33F2FE58>]\n",
      "Monitor: val_custom_mae\n",
      "Train on 16000 samples, validate on 3968 samples\n",
      "15488/16000 [============================>.] - ETA: 0s - loss: 5450.9566 - custom_mae: 51.0523\n",
      "Epoch 00001: val_custom_mae improved from inf to 35.72861, saving model to ..\\fast_output\\SYNTH_Regression_MSE\\201019_2253_final_Angular_Base_Custom-MAE\\Best_Weights_FC_320.hdf5\n",
      "16000/16000 [==============================] - 4s 224us/sample - loss: 5389.9674 - custom_mae: 50.7003 - val_loss: 3167.7125 - val_custom_mae: 35.7286\n",
      "Time taken: 0:00:05.279719\n"
     ]
    },
    {
     "name": "stderr",
     "output_type": "stream",
     "text": [
      "\r",
      " 89%|███████████████████████████████████████████████████████████████████████▎        | 321/360 [59:52<05:03,  7.77s/it]"
     ]
    },
    {
     "name": "stdout",
     "output_type": "stream",
     "text": [
      "{'activation': 'relu', 'batch_size': 64, 'dropout': 0.5, 'epochs': 1, 'first_neuron': 1024, 'hidden_layers': 2, 'label_type': 'Angular', 'loss_function': 'mean_squared_error', 'lr': 1, 'monitor_value': 'val_custom_mae', 'optimizer': <class 'tensorflow.python.keras.optimizer_v2.adam.Adam'>, 'reduction_metric': 'custom_mae', 'samples': 20000}\n",
      "Using Loss: mean_squared_error \n",
      "and Reduction Metric: [<function custom_mae at 0x0000024C33F2FE58>]\n",
      "Monitor: val_custom_mae\n",
      "Train on 16000 samples, validate on 3968 samples\n",
      "15552/16000 [============================>.] - ETA: 0s - loss: 5462.4459 - custom_mae: 52.6459\n",
      "Epoch 00001: val_custom_mae improved from inf to 38.53129, saving model to ..\\fast_output\\SYNTH_Regression_MSE\\201019_2253_final_Angular_Base_Custom-MAE\\Best_Weights_FC_321.hdf5\n",
      "16000/16000 [==============================] - 4s 229us/sample - loss: 5409.5628 - custom_mae: 52.3406 - val_loss: 3398.2136 - val_custom_mae: 38.5313\n",
      "Time taken: 0:00:05.386221\n"
     ]
    },
    {
     "name": "stderr",
     "output_type": "stream",
     "text": [
      "\r",
      " 89%|█████████████████████████████████████████████████████████████████████▊        | 322/360 [1:00:00<04:48,  7.59s/it]"
     ]
    },
    {
     "name": "stdout",
     "output_type": "stream",
     "text": [
      "{'activation': 'relu', 'batch_size': 64, 'dropout': 0.5, 'epochs': 1, 'first_neuron': 1024, 'hidden_layers': 2, 'label_type': 'Angular', 'loss_function': 'mean_squared_error', 'lr': 2, 'monitor_value': 'val_custom_mae', 'optimizer': <class 'tensorflow.python.keras.optimizer_v2.adam.Adam'>, 'reduction_metric': 'custom_mae', 'samples': 20000}\n",
      "Using Loss: mean_squared_error \n",
      "and Reduction Metric: [<function custom_mae at 0x0000024C33F2FE58>]\n",
      "Monitor: val_custom_mae\n",
      "Train on 16000 samples, validate on 3968 samples\n",
      "15488/16000 [============================>.] - ETA: 0s - loss: 5322.0669 - custom_mae: 51.3631\n",
      "Epoch 00001: val_custom_mae improved from inf to 42.44801, saving model to ..\\fast_output\\SYNTH_Regression_MSE\\201019_2253_final_Angular_Base_Custom-MAE\\Best_Weights_FC_322.hdf5\n",
      "16000/16000 [==============================] - 4s 232us/sample - loss: 5268.9286 - custom_mae: 51.0464 - val_loss: 4049.4792 - val_custom_mae: 42.4480\n",
      "Time taken: 0:00:05.409984\n"
     ]
    },
    {
     "name": "stderr",
     "output_type": "stream",
     "text": [
      "\r",
      " 90%|█████████████████████████████████████████████████████████████████████▉        | 323/360 [1:00:07<04:36,  7.47s/it]"
     ]
    },
    {
     "name": "stdout",
     "output_type": "stream",
     "text": [
      "{'activation': 'relu', 'batch_size': 64, 'dropout': 0.5, 'epochs': 1, 'first_neuron': 1024, 'hidden_layers': 2, 'label_type': 'Angular', 'loss_function': 'mean_squared_error', 'lr': 5, 'monitor_value': 'val_custom_mae', 'optimizer': <class 'tensorflow.python.keras.optimizer_v2.adam.Adam'>, 'reduction_metric': 'custom_mae', 'samples': 20000}\n",
      "Using Loss: mean_squared_error \n",
      "and Reduction Metric: [<function custom_mae at 0x0000024C33F2FE58>]\n",
      "Monitor: val_custom_mae\n",
      "Train on 16000 samples, validate on 3968 samples\n",
      "15616/16000 [============================>.] - ETA: 0s - loss: 6155.7137 - custom_mae: 56.0151\n",
      "Epoch 00001: val_custom_mae improved from inf to 51.81717, saving model to ..\\fast_output\\SYNTH_Regression_MSE\\201019_2253_final_Angular_Base_Custom-MAE\\Best_Weights_FC_323.hdf5\n",
      "16000/16000 [==============================] - 4s 229us/sample - loss: 6109.0536 - custom_mae: 55.7834 - val_loss: 5441.6934 - val_custom_mae: 51.8172\n",
      "Time taken: 0:00:05.369450\n"
     ]
    },
    {
     "name": "stderr",
     "output_type": "stream",
     "text": [
      "\r",
      " 90%|██████████████████████████████████████████████████████████████████████▏       | 324/360 [1:00:14<04:25,  7.38s/it]"
     ]
    },
    {
     "name": "stdout",
     "output_type": "stream",
     "text": [
      "{'activation': 'relu', 'batch_size': 64, 'dropout': 0.5, 'epochs': 1, 'first_neuron': 1024, 'hidden_layers': 3, 'label_type': 'Angular', 'loss_function': 'mean_squared_error', 'lr': 1, 'monitor_value': 'val_custom_mae', 'optimizer': <class 'tensorflow.python.keras.optimizer_v2.adam.Adam'>, 'reduction_metric': 'custom_mae', 'samples': 20000}\n",
      "Using Loss: mean_squared_error \n",
      "and Reduction Metric: [<function custom_mae at 0x0000024C33F2FE58>]\n",
      "Monitor: val_custom_mae\n",
      "Train on 16000 samples, validate on 3968 samples\n",
      "15744/16000 [============================>.] - ETA: 0s - loss: 6224.8118 - custom_mae: 57.2849\n",
      "Epoch 00001: val_custom_mae improved from inf to 48.91978, saving model to ..\\fast_output\\SYNTH_Regression_MSE\\201019_2253_final_Angular_Base_Custom-MAE\\Best_Weights_FC_324.hdf5\n",
      "16000/16000 [==============================] - 4s 237us/sample - loss: 6197.3245 - custom_mae: 57.1358 - val_loss: 4525.1206 - val_custom_mae: 48.9198\n",
      "Time taken: 0:00:05.494959\n"
     ]
    },
    {
     "name": "stderr",
     "output_type": "stream",
     "text": [
      "\r",
      " 90%|██████████████████████████████████████████████████████████████████████▍       | 325/360 [1:00:21<04:17,  7.35s/it]"
     ]
    },
    {
     "name": "stdout",
     "output_type": "stream",
     "text": [
      "{'activation': 'relu', 'batch_size': 64, 'dropout': 0.5, 'epochs': 1, 'first_neuron': 1024, 'hidden_layers': 3, 'label_type': 'Angular', 'loss_function': 'mean_squared_error', 'lr': 2, 'monitor_value': 'val_custom_mae', 'optimizer': <class 'tensorflow.python.keras.optimizer_v2.adam.Adam'>, 'reduction_metric': 'custom_mae', 'samples': 20000}\n",
      "Using Loss: mean_squared_error \n",
      "and Reduction Metric: [<function custom_mae at 0x0000024C33F2FE58>]\n",
      "Monitor: val_custom_mae\n",
      "Train on 16000 samples, validate on 3968 samples\n",
      "15872/16000 [============================>.] - ETA: 0s - loss: 6171.7739 - custom_mae: 56.7122\n",
      "Epoch 00001: val_custom_mae improved from inf to 48.52416, saving model to ..\\fast_output\\SYNTH_Regression_MSE\\201019_2253_final_Angular_Base_Custom-MAE\\Best_Weights_FC_325.hdf5\n",
      "16000/16000 [==============================] - 4s 236us/sample - loss: 6162.7063 - custom_mae: 56.6631 - val_loss: 4472.3580 - val_custom_mae: 48.5242\n",
      "Time taken: 0:00:05.479694\n"
     ]
    },
    {
     "name": "stderr",
     "output_type": "stream",
     "text": [
      "\r",
      " 91%|██████████████████████████████████████████████████████████████████████▋       | 326/360 [1:00:28<04:09,  7.33s/it]"
     ]
    },
    {
     "name": "stdout",
     "output_type": "stream",
     "text": [
      "{'activation': 'relu', 'batch_size': 64, 'dropout': 0.5, 'epochs': 1, 'first_neuron': 1024, 'hidden_layers': 3, 'label_type': 'Angular', 'loss_function': 'mean_squared_error', 'lr': 5, 'monitor_value': 'val_custom_mae', 'optimizer': <class 'tensorflow.python.keras.optimizer_v2.adam.Adam'>, 'reduction_metric': 'custom_mae', 'samples': 20000}\n",
      "Using Loss: mean_squared_error \n",
      "and Reduction Metric: [<function custom_mae at 0x0000024C33F2FE58>]\n",
      "Monitor: val_custom_mae\n",
      "Train on 16000 samples, validate on 3968 samples\n",
      "15872/16000 [============================>.] - ETA: 0s - loss: 6928.1221 - custom_mae: 59.3963\n",
      "Epoch 00001: val_custom_mae improved from inf to 59.61958, saving model to ..\\fast_output\\SYNTH_Regression_MSE\\201019_2253_final_Angular_Base_Custom-MAE\\Best_Weights_FC_326.hdf5\n",
      "16000/16000 [==============================] - 4s 237us/sample - loss: 6919.4602 - custom_mae: 59.3317 - val_loss: 6813.0549 - val_custom_mae: 59.6196\n",
      "Time taken: 0:00:05.493483\n"
     ]
    },
    {
     "name": "stderr",
     "output_type": "stream",
     "text": [
      "\r",
      " 91%|██████████████████████████████████████████████████████████████████████▊       | 327/360 [1:00:36<04:01,  7.32s/it]"
     ]
    },
    {
     "name": "stdout",
     "output_type": "stream",
     "text": [
      "{'activation': 'relu', 'batch_size': 64, 'dropout': 0.5, 'epochs': 1, 'first_neuron': 1024, 'hidden_layers': 4, 'label_type': 'Angular', 'loss_function': 'mean_squared_error', 'lr': 1, 'monitor_value': 'val_custom_mae', 'optimizer': <class 'tensorflow.python.keras.optimizer_v2.adam.Adam'>, 'reduction_metric': 'custom_mae', 'samples': 20000}\n",
      "Using Loss: mean_squared_error \n",
      "and Reduction Metric: [<function custom_mae at 0x0000024C33F2FE58>]\n",
      "Monitor: val_custom_mae\n",
      "Train on 16000 samples, validate on 3968 samples\n",
      "15808/16000 [============================>.] - ETA: 0s - loss: 7461.3917 - custom_mae: 62.6167\n",
      "Epoch 00001: val_custom_mae improved from inf to 61.51214, saving model to ..\\fast_output\\SYNTH_Regression_MSE\\201019_2253_final_Angular_Base_Custom-MAE\\Best_Weights_FC_327.hdf5\n",
      "16000/16000 [==============================] - 4s 241us/sample - loss: 7439.6322 - custom_mae: 62.4921 - val_loss: 7344.7456 - val_custom_mae: 61.5121\n",
      "Time taken: 0:00:05.553680\n"
     ]
    },
    {
     "name": "stderr",
     "output_type": "stream",
     "text": [
      "\r",
      " 91%|███████████████████████████████████████████████████████████████████████       | 328/360 [1:00:43<03:54,  7.34s/it]"
     ]
    },
    {
     "name": "stdout",
     "output_type": "stream",
     "text": [
      "{'activation': 'relu', 'batch_size': 64, 'dropout': 0.5, 'epochs': 1, 'first_neuron': 1024, 'hidden_layers': 4, 'label_type': 'Angular', 'loss_function': 'mean_squared_error', 'lr': 2, 'monitor_value': 'val_custom_mae', 'optimizer': <class 'tensorflow.python.keras.optimizer_v2.adam.Adam'>, 'reduction_metric': 'custom_mae', 'samples': 20000}\n",
      "Using Loss: mean_squared_error \n",
      "and Reduction Metric: [<function custom_mae at 0x0000024C33F2FE58>]\n",
      "Monitor: val_custom_mae\n",
      "Train on 16000 samples, validate on 3968 samples\n",
      "15744/16000 [============================>.] - ETA: 0s - loss: 7436.0987 - custom_mae: 62.0051\n",
      "Epoch 00001: val_custom_mae improved from inf to 69.20020, saving model to ..\\fast_output\\SYNTH_Regression_MSE\\201019_2253_final_Angular_Base_Custom-MAE\\Best_Weights_FC_328.hdf5\n",
      "16000/16000 [==============================] - 4s 243us/sample - loss: 7409.1694 - custom_mae: 61.8848 - val_loss: 9139.7466 - val_custom_mae: 69.2002\n",
      "Time taken: 0:00:05.610005\n"
     ]
    },
    {
     "name": "stderr",
     "output_type": "stream",
     "text": [
      "\r",
      " 91%|███████████████████████████████████████████████████████████████████████▎      | 329/360 [1:00:51<03:48,  7.37s/it]"
     ]
    },
    {
     "name": "stdout",
     "output_type": "stream",
     "text": [
      "{'activation': 'relu', 'batch_size': 64, 'dropout': 0.5, 'epochs': 1, 'first_neuron': 1024, 'hidden_layers': 4, 'label_type': 'Angular', 'loss_function': 'mean_squared_error', 'lr': 5, 'monitor_value': 'val_custom_mae', 'optimizer': <class 'tensorflow.python.keras.optimizer_v2.adam.Adam'>, 'reduction_metric': 'custom_mae', 'samples': 20000}\n",
      "Using Loss: mean_squared_error \n",
      "and Reduction Metric: [<function custom_mae at 0x0000024C33F2FE58>]\n",
      "Monitor: val_custom_mae\n",
      "Train on 16000 samples, validate on 3968 samples\n",
      "15808/16000 [============================>.] - ETA: 0s - loss: 8712.1827 - custom_mae: 66.2796\n",
      "Epoch 00001: val_custom_mae improved from inf to 82.83083, saving model to ..\\fast_output\\SYNTH_Regression_MSE\\201019_2253_final_Angular_Base_Custom-MAE\\Best_Weights_FC_329.hdf5\n",
      "16000/16000 [==============================] - 4s 240us/sample - loss: 8682.9849 - custom_mae: 66.1495 - val_loss: 13269.2153 - val_custom_mae: 82.8308\n",
      "Time taken: 0:00:05.541010\n"
     ]
    },
    {
     "name": "stderr",
     "output_type": "stream",
     "text": [
      "\r",
      " 92%|███████████████████████████████████████████████████████████████████████▌      | 330/360 [1:00:58<03:41,  7.37s/it]"
     ]
    },
    {
     "name": "stdout",
     "output_type": "stream",
     "text": [
      "{'activation': 'relu', 'batch_size': 64, 'dropout': 0.5, 'epochs': 1, 'first_neuron': 2048, 'hidden_layers': 0, 'label_type': 'Angular', 'loss_function': 'mean_squared_error', 'lr': 1, 'monitor_value': 'val_custom_mae', 'optimizer': <class 'tensorflow.python.keras.optimizer_v2.adam.Adam'>, 'reduction_metric': 'custom_mae', 'samples': 20000}\n",
      "Using Loss: mean_squared_error \n",
      "and Reduction Metric: [<function custom_mae at 0x0000024C33F2FE58>]\n",
      "Monitor: val_custom_mae\n",
      "Train on 16000 samples, validate on 3968 samples\n",
      "15744/16000 [============================>.] - ETA: 0s - loss: 4489.3452 - custom_mae: 43.6293\n",
      "Epoch 00001: val_custom_mae improved from inf to 35.27692, saving model to ..\\fast_output\\SYNTH_Regression_MSE\\201019_2253_final_Angular_Base_Custom-MAE\\Best_Weights_FC_330.hdf5\n",
      "16000/16000 [==============================] - 5s 333us/sample - loss: 4466.8760 - custom_mae: 43.4938 - val_loss: 3362.6996 - val_custom_mae: 35.2769\n",
      "Time taken: 0:00:07.038442\n"
     ]
    },
    {
     "name": "stderr",
     "output_type": "stream",
     "text": [
      "\r",
      " 92%|███████████████████████████████████████████████████████████████████████▋      | 331/360 [1:01:07<03:45,  7.79s/it]"
     ]
    },
    {
     "name": "stdout",
     "output_type": "stream",
     "text": [
      "{'activation': 'relu', 'batch_size': 64, 'dropout': 0.5, 'epochs': 1, 'first_neuron': 2048, 'hidden_layers': 0, 'label_type': 'Angular', 'loss_function': 'mean_squared_error', 'lr': 2, 'monitor_value': 'val_custom_mae', 'optimizer': <class 'tensorflow.python.keras.optimizer_v2.adam.Adam'>, 'reduction_metric': 'custom_mae', 'samples': 20000}\n",
      "Using Loss: mean_squared_error \n",
      "and Reduction Metric: [<function custom_mae at 0x0000024C33F2FE58>]\n",
      "Monitor: val_custom_mae\n",
      "Train on 16000 samples, validate on 3968 samples\n",
      "15808/16000 [============================>.] - ETA: 0s - loss: 4143.3074 - custom_mae: 41.4828\n",
      "Epoch 00001: val_custom_mae improved from inf to 32.63836, saving model to ..\\fast_output\\SYNTH_Regression_MSE\\201019_2253_final_Angular_Base_Custom-MAE\\Best_Weights_FC_331.hdf5\n",
      "16000/16000 [==============================] - 5s 330us/sample - loss: 4128.0304 - custom_mae: 41.3773 - val_loss: 3005.1805 - val_custom_mae: 32.6384\n",
      "Time taken: 0:00:06.993303\n"
     ]
    },
    {
     "name": "stderr",
     "output_type": "stream",
     "text": [
      "\r",
      " 92%|███████████████████████████████████████████████████████████████████████▉      | 332/360 [1:01:15<03:46,  8.07s/it]"
     ]
    },
    {
     "name": "stdout",
     "output_type": "stream",
     "text": [
      "{'activation': 'relu', 'batch_size': 64, 'dropout': 0.5, 'epochs': 1, 'first_neuron': 2048, 'hidden_layers': 0, 'label_type': 'Angular', 'loss_function': 'mean_squared_error', 'lr': 5, 'monitor_value': 'val_custom_mae', 'optimizer': <class 'tensorflow.python.keras.optimizer_v2.adam.Adam'>, 'reduction_metric': 'custom_mae', 'samples': 20000}\n",
      "Using Loss: mean_squared_error \n",
      "and Reduction Metric: [<function custom_mae at 0x0000024C33F2FE58>]\n",
      "Monitor: val_custom_mae\n",
      "Train on 16000 samples, validate on 3968 samples\n",
      "15744/16000 [============================>.] - ETA: 0s - loss: 4321.7104 - custom_mae: 42.6494\n",
      "Epoch 00001: val_custom_mae improved from inf to 31.42605, saving model to ..\\fast_output\\SYNTH_Regression_MSE\\201019_2253_final_Angular_Base_Custom-MAE\\Best_Weights_FC_332.hdf5\n",
      "16000/16000 [==============================] - 5s 330us/sample - loss: 4296.9019 - custom_mae: 42.4844 - val_loss: 2861.7237 - val_custom_mae: 31.4261\n",
      "Time taken: 0:00:06.971658\n"
     ]
    },
    {
     "name": "stderr",
     "output_type": "stream",
     "text": [
      "\r",
      " 92%|████████████████████████████████████████████████████████████████████████▏     | 333/360 [1:01:24<03:43,  8.26s/it]"
     ]
    },
    {
     "name": "stdout",
     "output_type": "stream",
     "text": [
      "{'activation': 'relu', 'batch_size': 64, 'dropout': 0.5, 'epochs': 1, 'first_neuron': 2048, 'hidden_layers': 1, 'label_type': 'Angular', 'loss_function': 'mean_squared_error', 'lr': 1, 'monitor_value': 'val_custom_mae', 'optimizer': <class 'tensorflow.python.keras.optimizer_v2.adam.Adam'>, 'reduction_metric': 'custom_mae', 'samples': 20000}\n",
      "Using Loss: mean_squared_error \n",
      "and Reduction Metric: [<function custom_mae at 0x0000024C33F2FE58>]\n",
      "Monitor: val_custom_mae\n",
      "Train on 16000 samples, validate on 3968 samples\n",
      "15680/16000 [============================>.] - ETA: 0s - loss: 4470.6739 - custom_mae: 44.9129\n",
      "Epoch 00001: val_custom_mae improved from inf to 33.40159, saving model to ..\\fast_output\\SYNTH_Regression_MSE\\201019_2253_final_Angular_Base_Custom-MAE\\Best_Weights_FC_333.hdf5\n",
      "16000/16000 [==============================] - 5s 344us/sample - loss: 4438.4585 - custom_mae: 44.6889 - val_loss: 3038.1433 - val_custom_mae: 33.4016\n",
      "Time taken: 0:00:07.205878\n"
     ]
    },
    {
     "name": "stderr",
     "output_type": "stream",
     "text": [
      "\r",
      " 93%|████████████████████████████████████████████████████████████████████████▎     | 334/360 [1:01:33<03:40,  8.48s/it]"
     ]
    },
    {
     "name": "stdout",
     "output_type": "stream",
     "text": [
      "{'activation': 'relu', 'batch_size': 64, 'dropout': 0.5, 'epochs': 1, 'first_neuron': 2048, 'hidden_layers': 1, 'label_type': 'Angular', 'loss_function': 'mean_squared_error', 'lr': 2, 'monitor_value': 'val_custom_mae', 'optimizer': <class 'tensorflow.python.keras.optimizer_v2.adam.Adam'>, 'reduction_metric': 'custom_mae', 'samples': 20000}\n",
      "Using Loss: mean_squared_error \n",
      "and Reduction Metric: [<function custom_mae at 0x0000024C33F2FE58>]\n",
      "Monitor: val_custom_mae\n",
      "Train on 16000 samples, validate on 3968 samples\n",
      "15680/16000 [============================>.] - ETA: 0s - loss: 4490.7603 - custom_mae: 45.3214\n",
      "Epoch 00001: val_custom_mae improved from inf to 33.42123, saving model to ..\\fast_output\\SYNTH_Regression_MSE\\201019_2253_final_Angular_Base_Custom-MAE\\Best_Weights_FC_334.hdf5\n",
      "16000/16000 [==============================] - 5s 344us/sample - loss: 4462.4601 - custom_mae: 45.1194 - val_loss: 3011.8476 - val_custom_mae: 33.4212\n",
      "Time taken: 0:00:07.205430\n"
     ]
    },
    {
     "name": "stderr",
     "output_type": "stream",
     "text": [
      "\r",
      " 93%|████████████████████████████████████████████████████████████████████████▌     | 335/360 [1:01:42<03:35,  8.62s/it]"
     ]
    },
    {
     "name": "stdout",
     "output_type": "stream",
     "text": [
      "{'activation': 'relu', 'batch_size': 64, 'dropout': 0.5, 'epochs': 1, 'first_neuron': 2048, 'hidden_layers': 1, 'label_type': 'Angular', 'loss_function': 'mean_squared_error', 'lr': 5, 'monitor_value': 'val_custom_mae', 'optimizer': <class 'tensorflow.python.keras.optimizer_v2.adam.Adam'>, 'reduction_metric': 'custom_mae', 'samples': 20000}\n",
      "Using Loss: mean_squared_error \n",
      "and Reduction Metric: [<function custom_mae at 0x0000024C33F2FE58>]\n",
      "Monitor: val_custom_mae\n",
      "Train on 16000 samples, validate on 3968 samples\n",
      "15744/16000 [============================>.] - ETA: 0s - loss: 6983.7899 - custom_mae: 53.0150\n",
      "Epoch 00001: val_custom_mae improved from inf to 37.32733, saving model to ..\\fast_output\\SYNTH_Regression_MSE\\201019_2253_final_Angular_Base_Custom-MAE\\Best_Weights_FC_335.hdf5\n",
      "16000/16000 [==============================] - 6s 344us/sample - loss: 6931.3672 - custom_mae: 52.8263 - val_loss: 3259.4742 - val_custom_mae: 37.3273\n",
      "Time taken: 0:00:07.212821\n"
     ]
    },
    {
     "name": "stderr",
     "output_type": "stream",
     "text": [
      "\r",
      " 93%|████████████████████████████████████████████████████████████████████████▊     | 336/360 [1:01:51<03:29,  8.72s/it]"
     ]
    },
    {
     "name": "stdout",
     "output_type": "stream",
     "text": [
      "{'activation': 'relu', 'batch_size': 64, 'dropout': 0.5, 'epochs': 1, 'first_neuron': 2048, 'hidden_layers': 2, 'label_type': 'Angular', 'loss_function': 'mean_squared_error', 'lr': 1, 'monitor_value': 'val_custom_mae', 'optimizer': <class 'tensorflow.python.keras.optimizer_v2.adam.Adam'>, 'reduction_metric': 'custom_mae', 'samples': 20000}\n",
      "Using Loss: mean_squared_error \n",
      "and Reduction Metric: [<function custom_mae at 0x0000024C33F2FE58>]\n",
      "Monitor: val_custom_mae\n",
      "Train on 16000 samples, validate on 3968 samples\n",
      "15808/16000 [============================>.] - ETA: 0s - loss: 5001.6145 - custom_mae: 49.1652\n",
      "Epoch 00001: val_custom_mae improved from inf to 37.21804, saving model to ..\\fast_output\\SYNTH_Regression_MSE\\201019_2253_final_Angular_Base_Custom-MAE\\Best_Weights_FC_336.hdf5\n",
      "16000/16000 [==============================] - 6s 352us/sample - loss: 4980.2579 - custom_mae: 49.0256 - val_loss: 3489.3141 - val_custom_mae: 37.2180\n",
      "Time taken: 0:00:07.332254\n"
     ]
    },
    {
     "name": "stderr",
     "output_type": "stream",
     "text": [
      "\r",
      " 94%|█████████████████████████████████████████████████████████████████████████     | 337/360 [1:02:00<03:23,  8.84s/it]"
     ]
    },
    {
     "name": "stdout",
     "output_type": "stream",
     "text": [
      "{'activation': 'relu', 'batch_size': 64, 'dropout': 0.5, 'epochs': 1, 'first_neuron': 2048, 'hidden_layers': 2, 'label_type': 'Angular', 'loss_function': 'mean_squared_error', 'lr': 2, 'monitor_value': 'val_custom_mae', 'optimizer': <class 'tensorflow.python.keras.optimizer_v2.adam.Adam'>, 'reduction_metric': 'custom_mae', 'samples': 20000}\n",
      "Using Loss: mean_squared_error \n",
      "and Reduction Metric: [<function custom_mae at 0x0000024C33F2FE58>]\n",
      "Monitor: val_custom_mae\n",
      "Train on 16000 samples, validate on 3968 samples\n",
      "15808/16000 [============================>.] - ETA: 0s - loss: 6003.5662 - custom_mae: 54.2033\n",
      "Epoch 00001: val_custom_mae improved from inf to 41.56443, saving model to ..\\fast_output\\SYNTH_Regression_MSE\\201019_2253_final_Angular_Base_Custom-MAE\\Best_Weights_FC_337.hdf5\n",
      "16000/16000 [==============================] - 6s 353us/sample - loss: 5976.5603 - custom_mae: 54.0605 - val_loss: 3627.6731 - val_custom_mae: 41.5644\n",
      "Time taken: 0:00:07.338117\n"
     ]
    },
    {
     "name": "stderr",
     "output_type": "stream",
     "text": [
      "\r",
      " 94%|█████████████████████████████████████████████████████████████████████████▏    | 338/360 [1:02:09<03:16,  8.92s/it]"
     ]
    },
    {
     "name": "stdout",
     "output_type": "stream",
     "text": [
      "{'activation': 'relu', 'batch_size': 64, 'dropout': 0.5, 'epochs': 1, 'first_neuron': 2048, 'hidden_layers': 2, 'label_type': 'Angular', 'loss_function': 'mean_squared_error', 'lr': 5, 'monitor_value': 'val_custom_mae', 'optimizer': <class 'tensorflow.python.keras.optimizer_v2.adam.Adam'>, 'reduction_metric': 'custom_mae', 'samples': 20000}\n",
      "Using Loss: mean_squared_error \n",
      "and Reduction Metric: [<function custom_mae at 0x0000024C33F2FE58>]\n",
      "Monitor: val_custom_mae\n",
      "Train on 16000 samples, validate on 3968 samples\n",
      "15744/16000 [============================>.] - ETA: 0s - loss: 7660.0151 - custom_mae: 56.6384\n",
      "Epoch 00001: val_custom_mae improved from inf to 59.63878, saving model to ..\\fast_output\\SYNTH_Regression_MSE\\201019_2253_final_Angular_Base_Custom-MAE\\Best_Weights_FC_338.hdf5\n",
      "16000/16000 [==============================] - 6s 351us/sample - loss: 7611.4535 - custom_mae: 56.4958 - val_loss: 6723.3059 - val_custom_mae: 59.6388\n",
      "Time taken: 0:00:07.318843\n"
     ]
    },
    {
     "name": "stderr",
     "output_type": "stream",
     "text": [
      "\r",
      " 94%|█████████████████████████████████████████████████████████████████████████▍    | 339/360 [1:02:18<03:08,  8.98s/it]"
     ]
    },
    {
     "name": "stdout",
     "output_type": "stream",
     "text": [
      "{'activation': 'relu', 'batch_size': 64, 'dropout': 0.5, 'epochs': 1, 'first_neuron': 2048, 'hidden_layers': 3, 'label_type': 'Angular', 'loss_function': 'mean_squared_error', 'lr': 1, 'monitor_value': 'val_custom_mae', 'optimizer': <class 'tensorflow.python.keras.optimizer_v2.adam.Adam'>, 'reduction_metric': 'custom_mae', 'samples': 20000}\n",
      "Using Loss: mean_squared_error \n",
      "and Reduction Metric: [<function custom_mae at 0x0000024C33F2FE58>]\n",
      "Monitor: val_custom_mae\n",
      "Train on 16000 samples, validate on 3968 samples\n",
      "15936/16000 [============================>.] - ETA: 0s - loss: 5476.9012 - custom_mae: 53.4801\n",
      "Epoch 00001: val_custom_mae improved from inf to 42.89138, saving model to ..\\fast_output\\SYNTH_Regression_MSE\\201019_2253_final_Angular_Base_Custom-MAE\\Best_Weights_FC_339.hdf5\n",
      "16000/16000 [==============================] - 6s 357us/sample - loss: 5471.7945 - custom_mae: 53.4449 - val_loss: 3797.4679 - val_custom_mae: 42.8914\n",
      "Time taken: 0:00:07.402221\n"
     ]
    },
    {
     "name": "stderr",
     "output_type": "stream",
     "text": [
      "\r",
      " 94%|█████████████████████████████████████████████████████████████████████████▋    | 340/360 [1:02:28<03:01,  9.05s/it]"
     ]
    },
    {
     "name": "stdout",
     "output_type": "stream",
     "text": [
      "{'activation': 'relu', 'batch_size': 64, 'dropout': 0.5, 'epochs': 1, 'first_neuron': 2048, 'hidden_layers': 3, 'label_type': 'Angular', 'loss_function': 'mean_squared_error', 'lr': 2, 'monitor_value': 'val_custom_mae', 'optimizer': <class 'tensorflow.python.keras.optimizer_v2.adam.Adam'>, 'reduction_metric': 'custom_mae', 'samples': 20000}\n",
      "Using Loss: mean_squared_error \n",
      "and Reduction Metric: [<function custom_mae at 0x0000024C33F2FE58>]\n",
      "Monitor: val_custom_mae\n",
      "Train on 16000 samples, validate on 3968 samples\n",
      "15680/16000 [============================>.] - ETA: 0s - loss: 6498.3914 - custom_mae: 57.4069\n",
      "Epoch 00001: val_custom_mae improved from inf to 49.35567, saving model to ..\\fast_output\\SYNTH_Regression_MSE\\201019_2253_final_Angular_Base_Custom-MAE\\Best_Weights_FC_340.hdf5\n",
      "16000/16000 [==============================] - 6s 359us/sample - loss: 6456.5673 - custom_mae: 57.1848 - val_loss: 4589.8140 - val_custom_mae: 49.3557\n",
      "Time taken: 0:00:07.448654\n"
     ]
    },
    {
     "name": "stderr",
     "output_type": "stream",
     "text": [
      "\r",
      " 95%|█████████████████████████████████████████████████████████████████████████▉    | 341/360 [1:02:37<02:53,  9.11s/it]"
     ]
    },
    {
     "name": "stdout",
     "output_type": "stream",
     "text": [
      "{'activation': 'relu', 'batch_size': 64, 'dropout': 0.5, 'epochs': 1, 'first_neuron': 2048, 'hidden_layers': 3, 'label_type': 'Angular', 'loss_function': 'mean_squared_error', 'lr': 5, 'monitor_value': 'val_custom_mae', 'optimizer': <class 'tensorflow.python.keras.optimizer_v2.adam.Adam'>, 'reduction_metric': 'custom_mae', 'samples': 20000}\n",
      "Using Loss: mean_squared_error \n",
      "and Reduction Metric: [<function custom_mae at 0x0000024C33F2FE58>]\n",
      "Monitor: val_custom_mae\n",
      "Train on 16000 samples, validate on 3968 samples\n",
      "15808/16000 [============================>.] - ETA: 0s - loss: 7992.0223 - custom_mae: 61.6746\n",
      "Epoch 00001: val_custom_mae improved from inf to 47.19220, saving model to ..\\fast_output\\SYNTH_Regression_MSE\\201019_2253_final_Angular_Base_Custom-MAE\\Best_Weights_FC_341.hdf5\n",
      "16000/16000 [==============================] - 6s 358us/sample - loss: 7961.0904 - custom_mae: 61.5431 - val_loss: 4051.4502 - val_custom_mae: 47.1922\n",
      "Time taken: 0:00:07.428800\n"
     ]
    },
    {
     "name": "stderr",
     "output_type": "stream",
     "text": [
      "\r",
      " 95%|██████████████████████████████████████████████████████████████████████████    | 342/360 [1:02:46<02:44,  9.16s/it]"
     ]
    },
    {
     "name": "stdout",
     "output_type": "stream",
     "text": [
      "{'activation': 'relu', 'batch_size': 64, 'dropout': 0.5, 'epochs': 1, 'first_neuron': 2048, 'hidden_layers': 4, 'label_type': 'Angular', 'loss_function': 'mean_squared_error', 'lr': 1, 'monitor_value': 'val_custom_mae', 'optimizer': <class 'tensorflow.python.keras.optimizer_v2.adam.Adam'>, 'reduction_metric': 'custom_mae', 'samples': 20000}\n",
      "Using Loss: mean_squared_error \n",
      "and Reduction Metric: [<function custom_mae at 0x0000024C33F2FE58>]\n",
      "Monitor: val_custom_mae\n",
      "Train on 16000 samples, validate on 3968 samples\n",
      "15936/16000 [============================>.] - ETA: 0s - loss: 6389.0954 - custom_mae: 57.9074\n",
      "Epoch 00001: val_custom_mae improved from inf to 55.82236, saving model to ..\\fast_output\\SYNTH_Regression_MSE\\201019_2253_final_Angular_Base_Custom-MAE\\Best_Weights_FC_342.hdf5\n",
      "16000/16000 [==============================] - 6s 363us/sample - loss: 6384.2900 - custom_mae: 57.8726 - val_loss: 5837.2064 - val_custom_mae: 55.8224\n",
      "Time taken: 0:00:07.511381\n"
     ]
    },
    {
     "name": "stderr",
     "output_type": "stream",
     "text": [
      "\r",
      " 95%|██████████████████████████████████████████████████████████████████████████▎   | 343/360 [1:02:55<02:36,  9.21s/it]"
     ]
    },
    {
     "name": "stdout",
     "output_type": "stream",
     "text": [
      "{'activation': 'relu', 'batch_size': 64, 'dropout': 0.5, 'epochs': 1, 'first_neuron': 2048, 'hidden_layers': 4, 'label_type': 'Angular', 'loss_function': 'mean_squared_error', 'lr': 2, 'monitor_value': 'val_custom_mae', 'optimizer': <class 'tensorflow.python.keras.optimizer_v2.adam.Adam'>, 'reduction_metric': 'custom_mae', 'samples': 20000}\n",
      "Using Loss: mean_squared_error \n",
      "and Reduction Metric: [<function custom_mae at 0x0000024C33F2FE58>]\n",
      "Monitor: val_custom_mae\n",
      "Train on 16000 samples, validate on 3968 samples\n",
      "15808/16000 [============================>.] - ETA: 0s - loss: 7061.7170 - custom_mae: 60.2137\n",
      "Epoch 00001: val_custom_mae improved from inf to 49.42570, saving model to ..\\fast_output\\SYNTH_Regression_MSE\\201019_2253_final_Angular_Base_Custom-MAE\\Best_Weights_FC_343.hdf5\n",
      "16000/16000 [==============================] - 6s 365us/sample - loss: 7037.3080 - custom_mae: 60.0893 - val_loss: 4493.8648 - val_custom_mae: 49.4257\n",
      "Time taken: 0:00:07.535473\n"
     ]
    },
    {
     "name": "stderr",
     "output_type": "stream",
     "text": [
      "\r",
      " 96%|██████████████████████████████████████████████████████████████████████████▌   | 344/360 [1:03:05<02:28,  9.26s/it]"
     ]
    },
    {
     "name": "stdout",
     "output_type": "stream",
     "text": [
      "{'activation': 'relu', 'batch_size': 64, 'dropout': 0.5, 'epochs': 1, 'first_neuron': 2048, 'hidden_layers': 4, 'label_type': 'Angular', 'loss_function': 'mean_squared_error', 'lr': 5, 'monitor_value': 'val_custom_mae', 'optimizer': <class 'tensorflow.python.keras.optimizer_v2.adam.Adam'>, 'reduction_metric': 'custom_mae', 'samples': 20000}\n",
      "Using Loss: mean_squared_error \n",
      "and Reduction Metric: [<function custom_mae at 0x0000024C33F2FE58>]\n",
      "Monitor: val_custom_mae\n",
      "Train on 16000 samples, validate on 3968 samples\n",
      "15808/16000 [============================>.] - ETA: 0s - loss: 8512.2531 - custom_mae: 64.3128\n",
      "Epoch 00001: val_custom_mae improved from inf to 65.83419, saving model to ..\\fast_output\\SYNTH_Regression_MSE\\201019_2253_final_Angular_Base_Custom-MAE\\Best_Weights_FC_344.hdf5\n",
      "16000/16000 [==============================] - 6s 363us/sample - loss: 8485.0913 - custom_mae: 64.2090 - val_loss: 8307.0906 - val_custom_mae: 65.8342\n",
      "Time taken: 0:00:07.516954\n"
     ]
    },
    {
     "name": "stderr",
     "output_type": "stream",
     "text": [
      "\r",
      " 96%|██████████████████████████████████████████████████████████████████████████▊   | 345/360 [1:03:14<02:19,  9.29s/it]"
     ]
    },
    {
     "name": "stdout",
     "output_type": "stream",
     "text": [
      "{'activation': 'relu', 'batch_size': 64, 'dropout': 0.5, 'epochs': 1, 'first_neuron': 4096, 'hidden_layers': 0, 'label_type': 'Angular', 'loss_function': 'mean_squared_error', 'lr': 1, 'monitor_value': 'val_custom_mae', 'optimizer': <class 'tensorflow.python.keras.optimizer_v2.adam.Adam'>, 'reduction_metric': 'custom_mae', 'samples': 20000}\n",
      "Using Loss: mean_squared_error \n",
      "and Reduction Metric: [<function custom_mae at 0x0000024C33F2FE58>]\n",
      "Monitor: val_custom_mae\n",
      "Train on 16000 samples, validate on 3968 samples\n",
      "15872/16000 [============================>.] - ETA: 0s - loss: 4248.7777 - custom_mae: 42.2241\n",
      "Epoch 00001: val_custom_mae improved from inf to 34.31983, saving model to ..\\fast_output\\SYNTH_Regression_MSE\\201019_2253_final_Angular_Base_Custom-MAE\\Best_Weights_FC_345.hdf5\n",
      "16000/16000 [==============================] - 9s 572us/sample - loss: 4237.5228 - custom_mae: 42.1443 - val_loss: 3266.6414 - val_custom_mae: 34.3198\n",
      "Time taken: 0:00:10.860396\n"
     ]
    },
    {
     "name": "stderr",
     "output_type": "stream",
     "text": [
      "\r",
      " 96%|██████████████████████████████████████████████████████████████████████████▉   | 346/360 [1:03:27<02:24, 10.29s/it]"
     ]
    },
    {
     "name": "stdout",
     "output_type": "stream",
     "text": [
      "{'activation': 'relu', 'batch_size': 64, 'dropout': 0.5, 'epochs': 1, 'first_neuron': 4096, 'hidden_layers': 0, 'label_type': 'Angular', 'loss_function': 'mean_squared_error', 'lr': 2, 'monitor_value': 'val_custom_mae', 'optimizer': <class 'tensorflow.python.keras.optimizer_v2.adam.Adam'>, 'reduction_metric': 'custom_mae', 'samples': 20000}\n",
      "Using Loss: mean_squared_error \n",
      "and Reduction Metric: [<function custom_mae at 0x0000024C33F2FE58>]\n",
      "Monitor: val_custom_mae\n",
      "Train on 16000 samples, validate on 3968 samples\n",
      "15936/16000 [============================>.] - ETA: 0s - loss: 4079.8240 - custom_mae: 41.1495\n",
      "Epoch 00001: val_custom_mae improved from inf to 32.10074, saving model to ..\\fast_output\\SYNTH_Regression_MSE\\201019_2253_final_Angular_Base_Custom-MAE\\Best_Weights_FC_346.hdf5\n",
      "16000/16000 [==============================] - 9s 571us/sample - loss: 4073.6315 - custom_mae: 41.1042 - val_loss: 2892.3296 - val_custom_mae: 32.1007\n",
      "Time taken: 0:00:10.831900\n"
     ]
    },
    {
     "name": "stderr",
     "output_type": "stream",
     "text": [
      "\r",
      " 96%|███████████████████████████████████████████████████████████████████████████▏  | 347/360 [1:03:39<02:22, 10.98s/it]"
     ]
    },
    {
     "name": "stdout",
     "output_type": "stream",
     "text": [
      "{'activation': 'relu', 'batch_size': 64, 'dropout': 0.5, 'epochs': 1, 'first_neuron': 4096, 'hidden_layers': 0, 'label_type': 'Angular', 'loss_function': 'mean_squared_error', 'lr': 5, 'monitor_value': 'val_custom_mae', 'optimizer': <class 'tensorflow.python.keras.optimizer_v2.adam.Adam'>, 'reduction_metric': 'custom_mae', 'samples': 20000}\n",
      "Using Loss: mean_squared_error \n",
      "and Reduction Metric: [<function custom_mae at 0x0000024C33F2FE58>]\n",
      "Monitor: val_custom_mae\n",
      "Train on 16000 samples, validate on 3968 samples\n",
      "15936/16000 [============================>.] - ETA: 0s - loss: 4756.2604 - custom_mae: 44.3784\n",
      "Epoch 00001: val_custom_mae improved from inf to 33.24128, saving model to ..\\fast_output\\SYNTH_Regression_MSE\\201019_2253_final_Angular_Base_Custom-MAE\\Best_Weights_FC_347.hdf5\n",
      "16000/16000 [==============================] - 9s 568us/sample - loss: 4747.8214 - custom_mae: 44.3256 - val_loss: 2923.3686 - val_custom_mae: 33.2413\n",
      "Time taken: 0:00:10.776727\n"
     ]
    },
    {
     "name": "stderr",
     "output_type": "stream",
     "text": [
      "\r",
      " 97%|███████████████████████████████████████████████████████████████████████████▍  | 348/360 [1:03:52<02:17, 11.44s/it]"
     ]
    },
    {
     "name": "stdout",
     "output_type": "stream",
     "text": [
      "{'activation': 'relu', 'batch_size': 64, 'dropout': 0.5, 'epochs': 1, 'first_neuron': 4096, 'hidden_layers': 1, 'label_type': 'Angular', 'loss_function': 'mean_squared_error', 'lr': 1, 'monitor_value': 'val_custom_mae', 'optimizer': <class 'tensorflow.python.keras.optimizer_v2.adam.Adam'>, 'reduction_metric': 'custom_mae', 'samples': 20000}\n",
      "Using Loss: mean_squared_error \n",
      "and Reduction Metric: [<function custom_mae at 0x0000024C33F2FE58>]\n",
      "Monitor: val_custom_mae\n",
      "Train on 16000 samples, validate on 3968 samples\n",
      "15872/16000 [============================>.] - ETA: 0s - loss: 4711.4814 - custom_mae: 46.2344\n",
      "Epoch 00001: val_custom_mae improved from inf to 33.70403, saving model to ..\\fast_output\\SYNTH_Regression_MSE\\201019_2253_final_Angular_Base_Custom-MAE\\Best_Weights_FC_348.hdf5\n",
      "16000/16000 [==============================] - 10s 606us/sample - loss: 4696.0346 - custom_mae: 46.1287 - val_loss: 3086.1014 - val_custom_mae: 33.7040\n",
      "Time taken: 0:00:11.408734\n"
     ]
    },
    {
     "name": "stderr",
     "output_type": "stream",
     "text": [
      "\r",
      " 97%|███████████████████████████████████████████████████████████████████████████▌  | 349/360 [1:04:05<02:11, 11.96s/it]"
     ]
    },
    {
     "name": "stdout",
     "output_type": "stream",
     "text": [
      "{'activation': 'relu', 'batch_size': 64, 'dropout': 0.5, 'epochs': 1, 'first_neuron': 4096, 'hidden_layers': 1, 'label_type': 'Angular', 'loss_function': 'mean_squared_error', 'lr': 2, 'monitor_value': 'val_custom_mae', 'optimizer': <class 'tensorflow.python.keras.optimizer_v2.adam.Adam'>, 'reduction_metric': 'custom_mae', 'samples': 20000}\n",
      "Using Loss: mean_squared_error \n",
      "and Reduction Metric: [<function custom_mae at 0x0000024C33F2FE58>]\n",
      "Monitor: val_custom_mae\n",
      "Train on 16000 samples, validate on 3968 samples\n",
      "15808/16000 [============================>.] - ETA: 0s - loss: 5152.0996 - custom_mae: 47.8038\n",
      "Epoch 00001: val_custom_mae improved from inf to 33.44650, saving model to ..\\fast_output\\SYNTH_Regression_MSE\\201019_2253_final_Angular_Base_Custom-MAE\\Best_Weights_FC_349.hdf5\n",
      "16000/16000 [==============================] - 10s 609us/sample - loss: 5125.6720 - custom_mae: 47.6415 - val_loss: 3035.9978 - val_custom_mae: 33.4465\n",
      "Time taken: 0:00:11.442101\n"
     ]
    },
    {
     "name": "stderr",
     "output_type": "stream",
     "text": [
      "\r",
      " 97%|███████████████████████████████████████████████████████████████████████████▊  | 350/360 [1:04:18<02:03, 12.33s/it]"
     ]
    },
    {
     "name": "stdout",
     "output_type": "stream",
     "text": [
      "{'activation': 'relu', 'batch_size': 64, 'dropout': 0.5, 'epochs': 1, 'first_neuron': 4096, 'hidden_layers': 1, 'label_type': 'Angular', 'loss_function': 'mean_squared_error', 'lr': 5, 'monitor_value': 'val_custom_mae', 'optimizer': <class 'tensorflow.python.keras.optimizer_v2.adam.Adam'>, 'reduction_metric': 'custom_mae', 'samples': 20000}\n",
      "Using Loss: mean_squared_error \n",
      "and Reduction Metric: [<function custom_mae at 0x0000024C33F2FE58>]\n",
      "Monitor: val_custom_mae\n",
      "Train on 16000 samples, validate on 3968 samples\n",
      "15936/16000 [============================>.] - ETA: 0s - loss: 19997.1223 - custom_mae: 54.3316\n",
      "Epoch 00001: val_custom_mae improved from inf to 37.02565, saving model to ..\\fast_output\\SYNTH_Regression_MSE\\201019_2253_final_Angular_Base_Custom-MAE\\Best_Weights_FC_350.hdf5\n",
      "16000/16000 [==============================] - 10s 612us/sample - loss: 19934.4381 - custom_mae: 54.2846 - val_loss: 3419.9819 - val_custom_mae: 37.0256\n",
      "Time taken: 0:00:11.492531\n"
     ]
    },
    {
     "name": "stderr",
     "output_type": "stream",
     "text": [
      "\r",
      " 98%|████████████████████████████████████████████████████████████████████████████  | 351/360 [1:04:32<01:53, 12.61s/it]"
     ]
    },
    {
     "name": "stdout",
     "output_type": "stream",
     "text": [
      "{'activation': 'relu', 'batch_size': 64, 'dropout': 0.5, 'epochs': 1, 'first_neuron': 4096, 'hidden_layers': 2, 'label_type': 'Angular', 'loss_function': 'mean_squared_error', 'lr': 1, 'monitor_value': 'val_custom_mae', 'optimizer': <class 'tensorflow.python.keras.optimizer_v2.adam.Adam'>, 'reduction_metric': 'custom_mae', 'samples': 20000}\n",
      "Using Loss: mean_squared_error \n",
      "and Reduction Metric: [<function custom_mae at 0x0000024C33F2FE58>]\n",
      "Monitor: val_custom_mae\n",
      "Train on 16000 samples, validate on 3968 samples\n",
      "15872/16000 [============================>.] - ETA: 0s - loss: 5420.9776 - custom_mae: 50.6653\n",
      "Epoch 00001: val_custom_mae improved from inf to 34.62858, saving model to ..\\fast_output\\SYNTH_Regression_MSE\\201019_2253_final_Angular_Base_Custom-MAE\\Best_Weights_FC_351.hdf5\n",
      "16000/16000 [==============================] - 10s 620us/sample - loss: 5402.8774 - custom_mae: 50.5552 - val_loss: 3010.3158 - val_custom_mae: 34.6286\n",
      "Time taken: 0:00:11.624755\n"
     ]
    },
    {
     "name": "stderr",
     "output_type": "stream",
     "text": [
      "\r",
      " 98%|████████████████████████████████████████████████████████████████████████████▎ | 352/360 [1:04:45<01:42, 12.86s/it]"
     ]
    },
    {
     "name": "stdout",
     "output_type": "stream",
     "text": [
      "{'activation': 'relu', 'batch_size': 64, 'dropout': 0.5, 'epochs': 1, 'first_neuron': 4096, 'hidden_layers': 2, 'label_type': 'Angular', 'loss_function': 'mean_squared_error', 'lr': 2, 'monitor_value': 'val_custom_mae', 'optimizer': <class 'tensorflow.python.keras.optimizer_v2.adam.Adam'>, 'reduction_metric': 'custom_mae', 'samples': 20000}\n",
      "Using Loss: mean_squared_error \n",
      "and Reduction Metric: [<function custom_mae at 0x0000024C33F2FE58>]\n",
      "Monitor: val_custom_mae\n",
      "Train on 16000 samples, validate on 3968 samples\n",
      "15936/16000 [============================>.] - ETA: 0s - loss: 5463.7317 - custom_mae: 50.5536\n",
      "Epoch 00001: val_custom_mae improved from inf to 40.27144, saving model to ..\\fast_output\\SYNTH_Regression_MSE\\201019_2253_final_Angular_Base_Custom-MAE\\Best_Weights_FC_352.hdf5\n",
      "16000/16000 [==============================] - 10s 624us/sample - loss: 5459.9239 - custom_mae: 50.5280 - val_loss: 3862.0475 - val_custom_mae: 40.2714\n",
      "Time taken: 0:00:11.693628\n"
     ]
    },
    {
     "name": "stderr",
     "output_type": "stream",
     "text": [
      "\r",
      " 98%|████████████████████████████████████████████████████████████████████████████▍ | 353/360 [1:04:58<01:31, 13.04s/it]"
     ]
    },
    {
     "name": "stdout",
     "output_type": "stream",
     "text": [
      "{'activation': 'relu', 'batch_size': 64, 'dropout': 0.5, 'epochs': 1, 'first_neuron': 4096, 'hidden_layers': 2, 'label_type': 'Angular', 'loss_function': 'mean_squared_error', 'lr': 5, 'monitor_value': 'val_custom_mae', 'optimizer': <class 'tensorflow.python.keras.optimizer_v2.adam.Adam'>, 'reduction_metric': 'custom_mae', 'samples': 20000}\n",
      "Using Loss: mean_squared_error \n",
      "and Reduction Metric: [<function custom_mae at 0x0000024C33F2FE58>]\n",
      "Monitor: val_custom_mae\n",
      "Train on 16000 samples, validate on 3968 samples\n",
      "15744/16000 [============================>.] - ETA: 0s - loss: 86853.8475 - custom_mae: 70.6107\n",
      "Epoch 00001: val_custom_mae improved from inf to 46.43068, saving model to ..\\fast_output\\SYNTH_Regression_MSE\\201019_2253_final_Angular_Base_Custom-MAE\\Best_Weights_FC_353.hdf5\n",
      "16000/16000 [==============================] - 10s 621us/sample - loss: 85533.5521 - custom_mae: 70.2266 - val_loss: 4518.5025 - val_custom_mae: 46.4307\n",
      "Time taken: 0:00:11.629816\n"
     ]
    },
    {
     "name": "stderr",
     "output_type": "stream",
     "text": [
      "\r",
      " 98%|████████████████████████████████████████████████████████████████████████████▋ | 354/360 [1:05:12<01:18, 13.16s/it]"
     ]
    },
    {
     "name": "stdout",
     "output_type": "stream",
     "text": [
      "{'activation': 'relu', 'batch_size': 64, 'dropout': 0.5, 'epochs': 1, 'first_neuron': 4096, 'hidden_layers': 3, 'label_type': 'Angular', 'loss_function': 'mean_squared_error', 'lr': 1, 'monitor_value': 'val_custom_mae', 'optimizer': <class 'tensorflow.python.keras.optimizer_v2.adam.Adam'>, 'reduction_metric': 'custom_mae', 'samples': 20000}\n",
      "Using Loss: mean_squared_error \n",
      "and Reduction Metric: [<function custom_mae at 0x0000024C33F2FE58>]\n",
      "Monitor: val_custom_mae\n",
      "Train on 16000 samples, validate on 3968 samples\n",
      "15872/16000 [============================>.] - ETA: 0s - loss: 5448.5444 - custom_mae: 52.5480\n",
      "Epoch 00001: val_custom_mae improved from inf to 39.14898, saving model to ..\\fast_output\\SYNTH_Regression_MSE\\201019_2253_final_Angular_Base_Custom-MAE\\Best_Weights_FC_354.hdf5\n",
      "16000/16000 [==============================] - 10s 631us/sample - loss: 5433.5400 - custom_mae: 52.4410 - val_loss: 3321.5067 - val_custom_mae: 39.1490\n",
      "Time taken: 0:00:11.799303\n"
     ]
    },
    {
     "name": "stderr",
     "output_type": "stream",
     "text": [
      "\r",
      " 99%|████████████████████████████████████████████████████████████████████████████▉ | 355/360 [1:05:26<01:06, 13.30s/it]"
     ]
    },
    {
     "name": "stdout",
     "output_type": "stream",
     "text": [
      "{'activation': 'relu', 'batch_size': 64, 'dropout': 0.5, 'epochs': 1, 'first_neuron': 4096, 'hidden_layers': 3, 'label_type': 'Angular', 'loss_function': 'mean_squared_error', 'lr': 2, 'monitor_value': 'val_custom_mae', 'optimizer': <class 'tensorflow.python.keras.optimizer_v2.adam.Adam'>, 'reduction_metric': 'custom_mae', 'samples': 20000}\n",
      "Using Loss: mean_squared_error \n",
      "and Reduction Metric: [<function custom_mae at 0x0000024C33F2FE58>]\n",
      "Monitor: val_custom_mae\n",
      "Train on 16000 samples, validate on 3968 samples\n",
      "15872/16000 [============================>.] - ETA: 0s - loss: 5678.8977 - custom_mae: 54.1727\n",
      "Epoch 00001: val_custom_mae improved from inf to 43.76321, saving model to ..\\fast_output\\SYNTH_Regression_MSE\\201019_2253_final_Angular_Base_Custom-MAE\\Best_Weights_FC_355.hdf5\n",
      "16000/16000 [==============================] - 10s 626us/sample - loss: 5670.9622 - custom_mae: 54.1262 - val_loss: 3657.2458 - val_custom_mae: 43.7632\n",
      "Time taken: 0:00:11.714646\n"
     ]
    },
    {
     "name": "stderr",
     "output_type": "stream",
     "text": [
      "\r",
      " 99%|█████████████████████████████████████████████████████████████████████████████▏| 356/360 [1:05:39<00:53, 13.37s/it]"
     ]
    },
    {
     "name": "stdout",
     "output_type": "stream",
     "text": [
      "{'activation': 'relu', 'batch_size': 64, 'dropout': 0.5, 'epochs': 1, 'first_neuron': 4096, 'hidden_layers': 3, 'label_type': 'Angular', 'loss_function': 'mean_squared_error', 'lr': 5, 'monitor_value': 'val_custom_mae', 'optimizer': <class 'tensorflow.python.keras.optimizer_v2.adam.Adam'>, 'reduction_metric': 'custom_mae', 'samples': 20000}\n",
      "Using Loss: mean_squared_error \n",
      "and Reduction Metric: [<function custom_mae at 0x0000024C33F2FE58>]\n",
      "Monitor: val_custom_mae\n",
      "Train on 16000 samples, validate on 3968 samples\n",
      "15872/16000 [============================>.] - ETA: 0s - loss: 53024.0264 - custom_mae: 74.7969- ETA: 0s - loss: 65412.6206 - custom\n",
      "Epoch 00001: val_custom_mae improved from inf to 60.38744, saving model to ..\\fast_output\\SYNTH_Regression_MSE\\201019_2253_final_Angular_Base_Custom-MAE\\Best_Weights_FC_356.hdf5\n",
      "16000/16000 [==============================] - 10s 628us/sample - loss: 52651.4805 - custom_mae: 74.6643 - val_loss: 6854.5014 - val_custom_mae: 60.3874\n",
      "Time taken: 0:00:11.740783\n"
     ]
    },
    {
     "name": "stderr",
     "output_type": "stream",
     "text": [
      "\r",
      " 99%|█████████████████████████████████████████████████████████████████████████████▎| 357/360 [1:05:53<00:40, 13.43s/it]"
     ]
    },
    {
     "name": "stdout",
     "output_type": "stream",
     "text": [
      "{'activation': 'relu', 'batch_size': 64, 'dropout': 0.5, 'epochs': 1, 'first_neuron': 4096, 'hidden_layers': 4, 'label_type': 'Angular', 'loss_function': 'mean_squared_error', 'lr': 1, 'monitor_value': 'val_custom_mae', 'optimizer': <class 'tensorflow.python.keras.optimizer_v2.adam.Adam'>, 'reduction_metric': 'custom_mae', 'samples': 20000}\n",
      "Using Loss: mean_squared_error \n",
      "and Reduction Metric: [<function custom_mae at 0x0000024C33F2FE58>]\n",
      "Monitor: val_custom_mae\n",
      "Train on 16000 samples, validate on 3968 samples\n",
      "15936/16000 [============================>.] - ETA: 0s - loss: 5829.0938 - custom_mae: 55.2068\n",
      "Epoch 00001: val_custom_mae improved from inf to 43.06010, saving model to ..\\fast_output\\SYNTH_Regression_MSE\\201019_2253_final_Angular_Base_Custom-MAE\\Best_Weights_FC_357.hdf5\n",
      "16000/16000 [==============================] - 10s 630us/sample - loss: 5822.3504 - custom_mae: 55.1743 - val_loss: 3543.9269 - val_custom_mae: 43.0601\n",
      "Time taken: 0:00:11.792247\n"
     ]
    },
    {
     "name": "stderr",
     "output_type": "stream",
     "text": [
      "\r",
      " 99%|█████████████████████████████████████████████████████████████████████████████▌| 358/360 [1:06:06<00:26, 13.49s/it]"
     ]
    },
    {
     "name": "stdout",
     "output_type": "stream",
     "text": [
      "{'activation': 'relu', 'batch_size': 64, 'dropout': 0.5, 'epochs': 1, 'first_neuron': 4096, 'hidden_layers': 4, 'label_type': 'Angular', 'loss_function': 'mean_squared_error', 'lr': 2, 'monitor_value': 'val_custom_mae', 'optimizer': <class 'tensorflow.python.keras.optimizer_v2.adam.Adam'>, 'reduction_metric': 'custom_mae', 'samples': 20000}\n",
      "Using Loss: mean_squared_error \n",
      "and Reduction Metric: [<function custom_mae at 0x0000024C33F2FE58>]\n",
      "Monitor: val_custom_mae\n",
      "Train on 16000 samples, validate on 3968 samples\n",
      "15872/16000 [============================>.] - ETA: 0s - loss: 7309.6953 - custom_mae: 60.5210\n",
      "Epoch 00001: val_custom_mae improved from inf to 48.78566, saving model to ..\\fast_output\\SYNTH_Regression_MSE\\201019_2253_final_Angular_Base_Custom-MAE\\Best_Weights_FC_358.hdf5\n",
      "16000/16000 [==============================] - 10s 635us/sample - loss: 7289.3313 - custom_mae: 60.4253 - val_loss: 4449.2917 - val_custom_mae: 48.7857\n",
      "Time taken: 0:00:11.863032\n"
     ]
    },
    {
     "name": "stderr",
     "output_type": "stream",
     "text": [
      "\r",
      "100%|█████████████████████████████████████████████████████████████████████████████▊| 359/360 [1:06:20<00:13, 13.56s/it]"
     ]
    },
    {
     "name": "stdout",
     "output_type": "stream",
     "text": [
      "{'activation': 'relu', 'batch_size': 64, 'dropout': 0.5, 'epochs': 1, 'first_neuron': 4096, 'hidden_layers': 4, 'label_type': 'Angular', 'loss_function': 'mean_squared_error', 'lr': 5, 'monitor_value': 'val_custom_mae', 'optimizer': <class 'tensorflow.python.keras.optimizer_v2.adam.Adam'>, 'reduction_metric': 'custom_mae', 'samples': 20000}\n",
      "Using Loss: mean_squared_error \n",
      "and Reduction Metric: [<function custom_mae at 0x0000024C33F2FE58>]\n",
      "Monitor: val_custom_mae\n",
      "Train on 16000 samples, validate on 3968 samples\n",
      "15936/16000 [============================>.] - ETA: 0s - loss: 25274.0337 - custom_mae: 71.0742\n",
      "Epoch 00001: val_custom_mae improved from inf to 53.35452, saving model to ..\\fast_output\\SYNTH_Regression_MSE\\201019_2253_final_Angular_Base_Custom-MAE\\Best_Weights_FC_359.hdf5\n",
      "16000/16000 [==============================] - 10s 631us/sample - loss: 25197.6372 - custom_mae: 71.0079 - val_loss: 5392.3791 - val_custom_mae: 53.3545\n",
      "Time taken: 0:00:11.798586\n"
     ]
    },
    {
     "name": "stderr",
     "output_type": "stream",
     "text": [
      "100%|██████████████████████████████████████████████████████████████████████████████| 360/360 [1:06:34<00:00, 11.09s/it]\n"
     ]
    }
   ],
   "source": [
    "import numpy as np\n",
    "dummy_x = np.empty((1, 2, 3, 224, 224))\n",
    "dummy_y = np.empty((1, 2))\n",
    "\n",
    "with tf.device('/device:GPU:0'):\n",
    "    \n",
    "        t = ta.Scan(\n",
    "            x = dummy_x,\n",
    "            y = dummy_y,\n",
    "            model = grid_model_base,\n",
    "            params = hyper_parameter,\n",
    "            experiment_name = '{}'.format(_DATASET_NAME),\n",
    "            #shuffle=False,\n",
    "            reduction_metric = hyper_parameter['reduction_metric'][0],\n",
    "            disable_progress_bar = False,\n",
    "            print_params = True,\n",
    "            clear_session = True,\n",
    "            save_weights = False\n",
    "        )\n",
    "        \n",
    "\n",
    "t.data.to_csv(_LOG_DIR + _RESULTS_FILE, index = True)"
   ]
  },
  {
   "cell_type": "markdown",
   "metadata": {},
   "source": [
    "# Copy best 10 Results to NAS if SSD Directory was selected"
   ]
  },
  {
   "cell_type": "code",
   "execution_count": 19,
   "metadata": {},
   "outputs": [
    {
     "name": "stdout",
     "output_type": "stream",
     "text": [
      "Displaying: ..\\fast_output\\SYNTH_Regression_MSE\\201019_2253_final_Angular_Base_Custom-MAE\\..\\201019_2253_final_Angular_Base_Custom-MAE_Results.csv\n"
     ]
    },
    {
     "data": {
      "text/html": [
       "<div>\n",
       "<style scoped>\n",
       "    .dataframe tbody tr th:only-of-type {\n",
       "        vertical-align: middle;\n",
       "    }\n",
       "\n",
       "    .dataframe tbody tr th {\n",
       "        vertical-align: top;\n",
       "    }\n",
       "\n",
       "    .dataframe thead th {\n",
       "        text-align: right;\n",
       "    }\n",
       "</style>\n",
       "<table border=\"1\" class=\"dataframe\">\n",
       "  <thead>\n",
       "    <tr style=\"text-align: right;\">\n",
       "      <th></th>\n",
       "      <th>Unnamed: 0</th>\n",
       "      <th>start</th>\n",
       "      <th>end</th>\n",
       "      <th>duration</th>\n",
       "      <th>loss</th>\n",
       "      <th>custom_mae</th>\n",
       "      <th>val_loss</th>\n",
       "      <th>val_custom_mae</th>\n",
       "      <th>activation</th>\n",
       "      <th>batch_size</th>\n",
       "      <th>dropout</th>\n",
       "      <th>first_neuron</th>\n",
       "      <th>hidden_layers</th>\n",
       "      <th>label_type</th>\n",
       "      <th>loss_function</th>\n",
       "      <th>lr</th>\n",
       "      <th>monitor_value</th>\n",
       "      <th>optimizer</th>\n",
       "      <th>reduction_metric</th>\n",
       "    </tr>\n",
       "  </thead>\n",
       "  <tbody>\n",
       "    <tr>\n",
       "      <th>32</th>\n",
       "      <td>32</td>\n",
       "      <td>11/04/20-133756</td>\n",
       "      <td>11/04/20-133811</td>\n",
       "      <td>15.101719</td>\n",
       "      <td>4383.826411</td>\n",
       "      <td>40.741211</td>\n",
       "      <td>2547.475186</td>\n",
       "      <td>28.446991</td>\n",
       "      <td>leakyrelu</td>\n",
       "      <td>32</td>\n",
       "      <td>0.25</td>\n",
       "      <td>4096</td>\n",
       "      <td>0</td>\n",
       "      <td>Angular</td>\n",
       "      <td>mean_squared_error</td>\n",
       "      <td>5</td>\n",
       "      <td>val_custom_mae</td>\n",
       "      <td>&lt;class 'tensorflow.python.keras.optimizer_v2.a...</td>\n",
       "      <td>custom_mae</td>\n",
       "    </tr>\n",
       "    <tr>\n",
       "      <th>123</th>\n",
       "      <td>123</td>\n",
       "      <td>11/04/20-135632</td>\n",
       "      <td>11/04/20-135645</td>\n",
       "      <td>12.903348</td>\n",
       "      <td>4370.115269</td>\n",
       "      <td>41.885189</td>\n",
       "      <td>2500.798960</td>\n",
       "      <td>28.509195</td>\n",
       "      <td>leakyrelu</td>\n",
       "      <td>64</td>\n",
       "      <td>0.25</td>\n",
       "      <td>4096</td>\n",
       "      <td>1</td>\n",
       "      <td>Angular</td>\n",
       "      <td>mean_squared_error</td>\n",
       "      <td>1</td>\n",
       "      <td>val_custom_mae</td>\n",
       "      <td>&lt;class 'tensorflow.python.keras.optimizer_v2.a...</td>\n",
       "      <td>custom_mae</td>\n",
       "    </tr>\n",
       "    <tr>\n",
       "      <th>17</th>\n",
       "      <td>17</td>\n",
       "      <td>11/04/20-133503</td>\n",
       "      <td>11/04/20-133513</td>\n",
       "      <td>10.042880</td>\n",
       "      <td>4001.966997</td>\n",
       "      <td>39.212330</td>\n",
       "      <td>2567.742597</td>\n",
       "      <td>28.672417</td>\n",
       "      <td>leakyrelu</td>\n",
       "      <td>32</td>\n",
       "      <td>0.25</td>\n",
       "      <td>2048</td>\n",
       "      <td>0</td>\n",
       "      <td>Angular</td>\n",
       "      <td>mean_squared_error</td>\n",
       "      <td>5</td>\n",
       "      <td>val_custom_mae</td>\n",
       "      <td>&lt;class 'tensorflow.python.keras.optimizer_v2.a...</td>\n",
       "      <td>custom_mae</td>\n",
       "    </tr>\n",
       "    <tr>\n",
       "      <th>37</th>\n",
       "      <td>37</td>\n",
       "      <td>11/04/20-133916</td>\n",
       "      <td>11/04/20-133932</td>\n",
       "      <td>16.196169</td>\n",
       "      <td>5342.255862</td>\n",
       "      <td>44.598431</td>\n",
       "      <td>2508.385596</td>\n",
       "      <td>29.009453</td>\n",
       "      <td>leakyrelu</td>\n",
       "      <td>32</td>\n",
       "      <td>0.25</td>\n",
       "      <td>4096</td>\n",
       "      <td>2</td>\n",
       "      <td>Angular</td>\n",
       "      <td>mean_squared_error</td>\n",
       "      <td>2</td>\n",
       "      <td>val_custom_mae</td>\n",
       "      <td>&lt;class 'tensorflow.python.keras.optimizer_v2.a...</td>\n",
       "      <td>custom_mae</td>\n",
       "    </tr>\n",
       "    <tr>\n",
       "      <th>126</th>\n",
       "      <td>126</td>\n",
       "      <td>11/04/20-135712</td>\n",
       "      <td>11/04/20-135725</td>\n",
       "      <td>13.103501</td>\n",
       "      <td>4892.983958</td>\n",
       "      <td>44.019562</td>\n",
       "      <td>2545.006084</td>\n",
       "      <td>29.102833</td>\n",
       "      <td>leakyrelu</td>\n",
       "      <td>64</td>\n",
       "      <td>0.25</td>\n",
       "      <td>4096</td>\n",
       "      <td>2</td>\n",
       "      <td>Angular</td>\n",
       "      <td>mean_squared_error</td>\n",
       "      <td>1</td>\n",
       "      <td>val_custom_mae</td>\n",
       "      <td>&lt;class 'tensorflow.python.keras.optimizer_v2.a...</td>\n",
       "      <td>custom_mae</td>\n",
       "    </tr>\n",
       "    <tr>\n",
       "      <th>109</th>\n",
       "      <td>109</td>\n",
       "      <td>11/04/20-135414</td>\n",
       "      <td>11/04/20-135423</td>\n",
       "      <td>8.591999</td>\n",
       "      <td>4502.218566</td>\n",
       "      <td>42.888409</td>\n",
       "      <td>2549.238323</td>\n",
       "      <td>29.138407</td>\n",
       "      <td>leakyrelu</td>\n",
       "      <td>64</td>\n",
       "      <td>0.25</td>\n",
       "      <td>2048</td>\n",
       "      <td>1</td>\n",
       "      <td>Angular</td>\n",
       "      <td>mean_squared_error</td>\n",
       "      <td>2</td>\n",
       "      <td>val_custom_mae</td>\n",
       "      <td>&lt;class 'tensorflow.python.keras.optimizer_v2.a...</td>\n",
       "      <td>custom_mae</td>\n",
       "    </tr>\n",
       "    <tr>\n",
       "      <th>24</th>\n",
       "      <td>24</td>\n",
       "      <td>11/04/20-133619</td>\n",
       "      <td>11/04/20-133629</td>\n",
       "      <td>10.735754</td>\n",
       "      <td>4304.691335</td>\n",
       "      <td>43.828423</td>\n",
       "      <td>2479.888127</td>\n",
       "      <td>29.194164</td>\n",
       "      <td>leakyrelu</td>\n",
       "      <td>32</td>\n",
       "      <td>0.25</td>\n",
       "      <td>2048</td>\n",
       "      <td>3</td>\n",
       "      <td>Angular</td>\n",
       "      <td>mean_squared_error</td>\n",
       "      <td>1</td>\n",
       "      <td>val_custom_mae</td>\n",
       "      <td>&lt;class 'tensorflow.python.keras.optimizer_v2.a...</td>\n",
       "      <td>custom_mae</td>\n",
       "    </tr>\n",
       "    <tr>\n",
       "      <th>36</th>\n",
       "      <td>36</td>\n",
       "      <td>11/04/20-133900</td>\n",
       "      <td>11/04/20-133916</td>\n",
       "      <td>16.164278</td>\n",
       "      <td>4115.395587</td>\n",
       "      <td>41.639866</td>\n",
       "      <td>2575.603947</td>\n",
       "      <td>29.298376</td>\n",
       "      <td>leakyrelu</td>\n",
       "      <td>32</td>\n",
       "      <td>0.25</td>\n",
       "      <td>4096</td>\n",
       "      <td>2</td>\n",
       "      <td>Angular</td>\n",
       "      <td>mean_squared_error</td>\n",
       "      <td>1</td>\n",
       "      <td>val_custom_mae</td>\n",
       "      <td>&lt;class 'tensorflow.python.keras.optimizer_v2.a...</td>\n",
       "      <td>custom_mae</td>\n",
       "    </tr>\n",
       "    <tr>\n",
       "      <th>108</th>\n",
       "      <td>108</td>\n",
       "      <td>11/04/20-135405</td>\n",
       "      <td>11/04/20-135414</td>\n",
       "      <td>8.623027</td>\n",
       "      <td>3881.180195</td>\n",
       "      <td>40.146988</td>\n",
       "      <td>2558.554630</td>\n",
       "      <td>29.299927</td>\n",
       "      <td>leakyrelu</td>\n",
       "      <td>64</td>\n",
       "      <td>0.25</td>\n",
       "      <td>2048</td>\n",
       "      <td>1</td>\n",
       "      <td>Angular</td>\n",
       "      <td>mean_squared_error</td>\n",
       "      <td>1</td>\n",
       "      <td>val_custom_mae</td>\n",
       "      <td>&lt;class 'tensorflow.python.keras.optimizer_v2.a...</td>\n",
       "      <td>custom_mae</td>\n",
       "    </tr>\n",
       "    <tr>\n",
       "      <th>18</th>\n",
       "      <td>18</td>\n",
       "      <td>11/04/20-133514</td>\n",
       "      <td>11/04/20-133524</td>\n",
       "      <td>10.283503</td>\n",
       "      <td>3871.796719</td>\n",
       "      <td>39.797153</td>\n",
       "      <td>2617.595140</td>\n",
       "      <td>29.322357</td>\n",
       "      <td>leakyrelu</td>\n",
       "      <td>32</td>\n",
       "      <td>0.25</td>\n",
       "      <td>2048</td>\n",
       "      <td>1</td>\n",
       "      <td>Angular</td>\n",
       "      <td>mean_squared_error</td>\n",
       "      <td>1</td>\n",
       "      <td>val_custom_mae</td>\n",
       "      <td>&lt;class 'tensorflow.python.keras.optimizer_v2.a...</td>\n",
       "      <td>custom_mae</td>\n",
       "    </tr>\n",
       "  </tbody>\n",
       "</table>\n",
       "</div>"
      ],
      "text/plain": [
       "     Unnamed: 0            start              end   duration         loss  \\\n",
       "32           32  11/04/20-133756  11/04/20-133811  15.101719  4383.826411   \n",
       "123         123  11/04/20-135632  11/04/20-135645  12.903348  4370.115269   \n",
       "17           17  11/04/20-133503  11/04/20-133513  10.042880  4001.966997   \n",
       "37           37  11/04/20-133916  11/04/20-133932  16.196169  5342.255862   \n",
       "126         126  11/04/20-135712  11/04/20-135725  13.103501  4892.983958   \n",
       "109         109  11/04/20-135414  11/04/20-135423   8.591999  4502.218566   \n",
       "24           24  11/04/20-133619  11/04/20-133629  10.735754  4304.691335   \n",
       "36           36  11/04/20-133900  11/04/20-133916  16.164278  4115.395587   \n",
       "108         108  11/04/20-135405  11/04/20-135414   8.623027  3881.180195   \n",
       "18           18  11/04/20-133514  11/04/20-133524  10.283503  3871.796719   \n",
       "\n",
       "     custom_mae     val_loss  val_custom_mae activation  batch_size  dropout  \\\n",
       "32    40.741211  2547.475186       28.446991  leakyrelu          32     0.25   \n",
       "123   41.885189  2500.798960       28.509195  leakyrelu          64     0.25   \n",
       "17    39.212330  2567.742597       28.672417  leakyrelu          32     0.25   \n",
       "37    44.598431  2508.385596       29.009453  leakyrelu          32     0.25   \n",
       "126   44.019562  2545.006084       29.102833  leakyrelu          64     0.25   \n",
       "109   42.888409  2549.238323       29.138407  leakyrelu          64     0.25   \n",
       "24    43.828423  2479.888127       29.194164  leakyrelu          32     0.25   \n",
       "36    41.639866  2575.603947       29.298376  leakyrelu          32     0.25   \n",
       "108   40.146988  2558.554630       29.299927  leakyrelu          64     0.25   \n",
       "18    39.797153  2617.595140       29.322357  leakyrelu          32     0.25   \n",
       "\n",
       "     first_neuron  hidden_layers label_type       loss_function  lr  \\\n",
       "32           4096              0    Angular  mean_squared_error   5   \n",
       "123          4096              1    Angular  mean_squared_error   1   \n",
       "17           2048              0    Angular  mean_squared_error   5   \n",
       "37           4096              2    Angular  mean_squared_error   2   \n",
       "126          4096              2    Angular  mean_squared_error   1   \n",
       "109          2048              1    Angular  mean_squared_error   2   \n",
       "24           2048              3    Angular  mean_squared_error   1   \n",
       "36           4096              2    Angular  mean_squared_error   1   \n",
       "108          2048              1    Angular  mean_squared_error   1   \n",
       "18           2048              1    Angular  mean_squared_error   1   \n",
       "\n",
       "      monitor_value                                          optimizer  \\\n",
       "32   val_custom_mae  <class 'tensorflow.python.keras.optimizer_v2.a...   \n",
       "123  val_custom_mae  <class 'tensorflow.python.keras.optimizer_v2.a...   \n",
       "17   val_custom_mae  <class 'tensorflow.python.keras.optimizer_v2.a...   \n",
       "37   val_custom_mae  <class 'tensorflow.python.keras.optimizer_v2.a...   \n",
       "126  val_custom_mae  <class 'tensorflow.python.keras.optimizer_v2.a...   \n",
       "109  val_custom_mae  <class 'tensorflow.python.keras.optimizer_v2.a...   \n",
       "24   val_custom_mae  <class 'tensorflow.python.keras.optimizer_v2.a...   \n",
       "36   val_custom_mae  <class 'tensorflow.python.keras.optimizer_v2.a...   \n",
       "108  val_custom_mae  <class 'tensorflow.python.keras.optimizer_v2.a...   \n",
       "18   val_custom_mae  <class 'tensorflow.python.keras.optimizer_v2.a...   \n",
       "\n",
       "    reduction_metric  \n",
       "32        custom_mae  \n",
       "123       custom_mae  \n",
       "17        custom_mae  \n",
       "37        custom_mae  \n",
       "126       custom_mae  \n",
       "109       custom_mae  \n",
       "24        custom_mae  \n",
       "36        custom_mae  \n",
       "108       custom_mae  \n",
       "18        custom_mae  "
      ]
     },
     "execution_count": 19,
     "metadata": {},
     "output_type": "execute_result"
    }
   ],
   "source": [
    "best_results = _LOG_DIR + '..\\\\{}_{}_Base{}_Results.csv'.format(_DATASET_NAME, hyper_parameter['label_type'][0], _note)\n",
    "df = pd.read_csv(best_results).drop(columns = ['round_epochs', 'samples', 'epochs'], axis = 0)\n",
    "df = df.sort_values(hyper_parameter['monitor_value'][0], axis = 0, ascending = True, inplace = False, kind = 'quicksort', na_position = 'last')\n",
    "print('Displaying: {}'.format(best_results))\n",
    "df.head(10)"
   ]
  },
  {
   "cell_type": "code",
   "execution_count": 20,
   "metadata": {},
   "outputs": [],
   "source": [
    "def copy_base_directory(src, dst, data, symlinks = False, ignore = None):\n",
    "    maxLen = 0\n",
    "    message = ''\n",
    "    \n",
    "    networks_to_copy = data.head(10).index\n",
    "    \n",
    "    if not os.path.exists(dst):\n",
    "        \n",
    "        message = 'Creating Path: {}'.format(src)\n",
    "        maxLen = max(maxLen, len(message))\n",
    "        print(message + ' ' * (maxLen - len(message)), end = '\\r')\n",
    "        \n",
    "        os.makedirs(dst)\n",
    "        \n",
    "    for item in os.listdir(src):\n",
    "        \n",
    "        s = os.path.join(src, item)\n",
    "        d = os.path.join(dst, item)\n",
    "        \n",
    "        if os.path.isdir(s):\n",
    "            \n",
    "            message = 'Copying Directory: {}'.format(s)\n",
    "            maxLen = max(maxLen, len(message))\n",
    "            print(message + ' ' * (maxLen - len(message)), end = '\\r')\n",
    "            \n",
    "            shutil.copytree(s, d, symlinks, ignore)\n",
    "            \n",
    "        else:\n",
    "            \n",
    "            if not os.path.exists(d): #or os.stat(s).st_mtime - os.stat(d).st_mtime > 1:\n",
    "                for idx in networks_to_copy:\n",
    "                    net = '_FC_{}.hdf5'.format(idx)\n",
    "                    if net in item or '_Bottleneck_' in item or '_GPU' in item:\n",
    "                        message = 'Copying File: {}'.format(s)\n",
    "                        maxLen = max(maxLen, len(message))\n",
    "                        print(message + ' ' * (maxLen - len(message)), end = '\\r')\n",
    "                \n",
    "                        shutil.copy2(s, d)\n",
    "        \n",
    "        time.sleep(.1)    \n",
    "    \n",
    "    src_csv = src + _RESULTS_FILE\n",
    "    dst_csv = dst + _RESULTS_FILE\n",
    "    if not os.path.exists(dst_csv):\n",
    "        message = 'Copying File: {}'.format(src_csv)\n",
    "        maxLen = max(maxLen, len(message))\n",
    "        print(message + ' ' * (maxLen - len(message)), end = '\\r')\n",
    "        shutil.copy2(src_csv, dst_csv)\n",
    "     \n",
    "    message = 'Coyping... Done'\n",
    "    maxLen = max(maxLen, len(message))\n",
    "    print(message + ' ' * (maxLen - len(message)), end = '\\n')\n",
    "\n",
    "    \n",
    "def delete_directory(src, terminator = '\\n'):\n",
    "    message = ''\n",
    "    maxLen = 0\n",
    "    \n",
    "    try:\n",
    "        message = 'Deleting {}'.format(src)\n",
    "        maxLen = max(maxLen, len(message))\n",
    "        print(message + ' ' * (maxLen - len(message)), end = '\\r')\n",
    "        \n",
    "        if os.path.isdir(src):\n",
    "            shutil.rmtree(src)\n",
    "            \n",
    "        elif os.path.isfile(src):\n",
    "            os.remove(src)\n",
    "        \n",
    "    except OSError as e:\n",
    "        message = 'Error: {} : {}'.format(src, e.strerror)\n",
    "        maxLen = max(maxLen, len(message))\n",
    "        print(message + ' ' * (maxLen - len(message)), end = '\\n')\n",
    "        return\n",
    "    \n",
    "    message = 'Deleting... Done'\n",
    "    maxLen = max(maxLen, len(message))\n",
    "    print(message + ' ' * (maxLen - len(message)), end = terminator)\n",
    "\n",
    "    \n",
    "def copy_base_training(src, dst):\n",
    "    copy_base_directory(src, dst, df)\n",
    "    \n",
    "    delete_directory(src, terminator = '\\r')\n",
    "    delete_directory(src + _RESULTS_FILE, terminator = '\\r')\n",
    "    if not os.listdir(src + '..\\\\'):\n",
    "        delete_directory(src + '..\\\\', terminator = '\\r')"
   ]
  },
  {
   "cell_type": "code",
   "execution_count": 21,
   "metadata": {
    "scrolled": true
   },
   "outputs": [
    {
     "name": "stdout",
     "output_type": "stream",
     "text": [
      "Coyping... Done                                                                                                                                      \n",
      "Deleting... Done                                                                                                                                \r"
     ]
    }
   ],
   "source": [
    "if(storage == OutputDirectory.SSD):\n",
    "    _COPY_DIR = '..\\\\output\\\\{}'.format(_NET_DIR)\n",
    "    copy_base_training(_LOG_DIR, _COPY_DIR)"
   ]
  },
  {
   "cell_type": "code",
   "execution_count": null,
   "metadata": {},
   "outputs": [],
   "source": []
  },
  {
   "cell_type": "code",
   "execution_count": null,
   "metadata": {},
   "outputs": [],
   "source": []
  }
 ],
 "metadata": {
  "kernelspec": {
   "display_name": "Python 3",
   "language": "python",
   "name": "python3"
  },
  "language_info": {
   "codemirror_mode": {
    "name": "ipython",
    "version": 3
   },
   "file_extension": ".py",
   "mimetype": "text/x-python",
   "name": "python",
   "nbconvert_exporter": "python",
   "pygments_lexer": "ipython3",
   "version": "3.7.7"
  }
 },
 "nbformat": 4,
 "nbformat_minor": 2
}
